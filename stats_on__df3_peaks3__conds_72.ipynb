{
 "cells": [
  {
   "cell_type": "code",
   "execution_count": 91,
   "metadata": {},
   "outputs": [],
   "source": [
    "library(\"dplyr\")\n",
    "library(\"tidyr\")\n",
    "library(\"afex\")     # provides mixed() and attaches lme4 automatically.\n",
    "library(\"emmeans\")  # follow-up tests.\n",
    "library(\"multcomp\") # advanced control for multiple testing/Type 1 errors.\n",
    "library(\"ggplot2\")\n",
    "\n",
    "library(\"car\")\n",
    "require(\"lattice\")\n",
    "require(\"ez\")\n",
    "\n",
    "library(\"cowplot\")\n",
    "library(\"ggbeeswarm\")\n",
    "\n",
    "library(\"nortest\")\n",
    "\n",
    "library(\"effectsize\")\n",
    "\n",
    "theme_set(theme_bw(base_size = 15) +\n",
    "            theme(legend.position=\"bottom\",\n",
    "                  panel.grid.major.x = element_blank()))\n",
    "\n",
    "\n",
    "options(width=240)\n",
    "library(tidyverse)\n"
   ]
  },
  {
   "cell_type": "code",
   "execution_count": 92,
   "metadata": {},
   "outputs": [],
   "source": [
    "library(xtable)\n",
    "library(IRdisplay)\n",
    "library(repr)\n",
    "require(\"papaja\")\n",
    "require(\"tinytex\")"
   ]
  },
  {
   "cell_type": "code",
   "execution_count": 93,
   "metadata": {},
   "outputs": [],
   "source": [
    "apaMd <- function(apaObj){\n",
    "    apaStr <- \"\"\n",
    "    for (ii in names(apaObj)){\n",
    "        apaStr <- paste(apaStr, paste(\"\\n\",\"### \", ii, \"\\n\" ,sep=\"\" ,collapse = \"\")  ,sep=\"\" ,collapse = \"\")\n",
    "        if(!(ii == \"table\")){ \n",
    "            for (jj in names(apaObj[[ii]])){\n",
    "                apaStr <- paste(apaStr, paste(\"- \", ii,\" for `\", jj, \"` is \", \"\\n\" ,sep=\"\" ,collapse = \"\")  ,sep=\"\\n\" ,collapse = \" \")\n",
    "                apaStr <- paste(apaStr, paste(\"  - \", apaObj[[ii]][[jj]], \"\\n\" ,sep=\"\" ,collapse = \"\")  ,sep=\"\\n\" ,collapse = \" \")\n",
    "                }}\n",
    "        else {\n",
    "            # apaStr <- paste(apaStr, \"\\n\\n\", paste(apa_table(apaObj$table))  ,sep=\"\\n\" ,collapse = \" \")\n",
    "            apaStr <- paste(apaStr, paste(\"- support for will arrive some day\", \"\\n\" ,sep=\"\" ,collapse = \"\")  ,sep=\"\\n\" ,collapse = \" \")\n",
    "            apaStr <- paste(apaStr, paste(\"- for now please use apa_table function\", \"\\n\" ,sep=\"\" ,collapse = \"\")  ,sep=\"\\n\" ,collapse = \" \")\n",
    "\n",
    "        }}\n",
    "    return(apaStr)\n",
    "}"
   ]
  },
  {
   "cell_type": "code",
   "execution_count": 94,
   "metadata": {},
   "outputs": [],
   "source": [
    "AOV4 <- function(DATA,INFO){\n",
    "\n",
    "    INFO <- paste(\"`\",INFO,\"`\",sep=\"\")\n",
    "    DATA_SUMMARY <- DATA %>%\n",
    "        group_by(cond0) %>%\n",
    "        summarise(\n",
    "            N = n(),\n",
    "            valX_M = mean(valX),\n",
    "            valX_SD = sd(valX),\n",
    "            valX_SE = valX_SD / sqrt(N),\n",
    "            .groups = \"drop\"\n",
    "        )    \n",
    "    DATA_aov <- aov_4(\n",
    "        formula  <- FORMULA,\n",
    "        data     <- DATA,\n",
    "    )    \n",
    "    DATA_aov_APA <- apa_print(DATA_aov)\n",
    "    DATA_aov_EMM <- emmeans(DATA_aov, specs<-c(\"cond0\"))\n",
    "    DATA_aov_EMM_APA <- apa_print(DATA_aov_EMM)\n",
    "    DATA_aov_EMM_PAIRS <- pairs(DATA_aov_EMM)\n",
    "    DATA_aov_EMM_PAIRS_APA <- apa_print(DATA_aov_EMM_PAIRS)    \n",
    "\n",
    "    return(list(\"info\"      = INFO,\n",
    "                \"summary\"   = DATA_SUMMARY,\n",
    "                \"aov\"       = DATA_aov,\n",
    "                \"aov_APA\"   = DATA_aov_APA,\n",
    "                \"emm\"       = DATA_aov_EMM,\n",
    "                \"emm_APA\"   = DATA_aov_EMM_APA,\n",
    "                \"pairs\"     = DATA_aov_EMM_PAIRS,\n",
    "                \"pairs_APA\" = DATA_aov_EMM_PAIRS_APA\n",
    "               )\n",
    "          )\n",
    "}"
   ]
  },
  {
   "cell_type": "markdown",
   "metadata": {},
   "source": [
    "# Peaks 0"
   ]
  },
  {
   "cell_type": "code",
   "execution_count": 95,
   "metadata": {},
   "outputs": [],
   "source": [
    "ifName=\"./data/JOB_004/exports/df3_peaks3.csv\"\n",
    "\n",
    "df0 <- read.csv(file = ifName)\n",
    "df0 <- subset(df0, CHAN_BUND==\"\" )\n",
    "df0 <- subset(df0, quest0==\"word_set\" )"
   ]
  },
  {
   "cell_type": "code",
   "execution_count": 6,
   "metadata": {},
   "outputs": [],
   "source": [
    "df1 <- data.frame(df0)"
   ]
  },
  {
   "cell_type": "code",
   "execution_count": 7,
   "metadata": {},
   "outputs": [],
   "source": [
    "df1 <- subset(df1, cond0 %in% c(\"noun_F\",\"noun_M\",\"verb_X\") )\n",
    "# df1 <- subset(df1, cond0 %in% c(\"noun_X\",\"verb_X\") )"
   ]
  },
  {
   "cell_type": "code",
   "execution_count": 8,
   "metadata": {},
   "outputs": [],
   "source": [
    "'%!in%' <- function(x,y)!('%in%'(x,y))\n",
    "\n",
    "# df1 <- subset(df1, SUB %!in% c(\"01mkxf\",\"02ppxm\",\"09msxf\",\"15agxf\",\"17makf\",\"24jkxf\",\"26mwxf\",\"31ltxf\",\"33kkxm\",\"37lpxm\") )"
   ]
  },
  {
   "cell_type": "code",
   "execution_count": null,
   "metadata": {},
   "outputs": [],
   "source": []
  },
  {
   "cell_type": "code",
   "execution_count": 9,
   "metadata": {},
   "outputs": [],
   "source": [
    "df1 <- droplevels(df1)\n",
    "# df1 <- subset(df1, select = -c(evoked0,SES,TASK,RUN,chanX,quest0,CHAN_BUND) )\n",
    "df1 <- subset(df1, select = c(cond0,chan0,tmin0,tmax0,mode0,valX,SUB) )\n"
   ]
  },
  {
   "cell_type": "code",
   "execution_count": 10,
   "metadata": {},
   "outputs": [
    {
     "name": "stdout",
     "output_type": "stream",
     "text": [
      "'data.frame':\t9072 obs. of  7 variables:\n",
      " $ cond0: Factor w/ 3 levels \"noun_F\",\"noun_M\",..: 3 3 3 3 3 3 3 3 3 3 ...\n",
      " $ chan0: Factor w/ 6 levels \"LC\",\"LF\",\"LP\",..: 2 2 2 2 2 2 2 2 2 2 ...\n",
      " $ tmin0: num  0.1 0.1 0.19 0.19 0.35 0.35 0.41 0.41 0.6 0.6 ...\n",
      " $ tmax0: num  0.19 0.19 0.29 0.29 0.45 0.45 0.58 0.58 0.9 0.9 ...\n",
      " $ mode0: Factor w/ 2 levels \"neg\",\"pos\": 2 1 2 1 2 1 2 1 2 1 ...\n",
      " $ valX : num  0.0756 -2.2746 -0.0233 -1.0445 -1.4546 ...\n",
      " $ SUB  : Factor w/ 42 levels \"01mkxf\",\"02ppxm\",..: 1 1 1 1 1 1 1 1 1 1 ...\n"
     ]
    }
   ],
   "source": [
    "str(df1)"
   ]
  },
  {
   "cell_type": "code",
   "execution_count": 11,
   "metadata": {},
   "outputs": [
    {
     "data": {
      "text/plain": [
       "    cond0     \n",
       " noun_F:3024  \n",
       " noun_M:3024  \n",
       " verb_X:3024  "
      ]
     },
     "metadata": {},
     "output_type": "display_data"
    }
   ],
   "source": [
    "summary(df1[\"cond0\"])"
   ]
  },
  {
   "cell_type": "code",
   "execution_count": 12,
   "metadata": {},
   "outputs": [
    {
     "data": {
      "text/html": [
       "<strong>$chan0</strong> = <style>\n",
       ".list-inline {list-style: none; margin:0; padding: 0}\n",
       ".list-inline>li {display: inline-block}\n",
       ".list-inline>li:not(:last-child)::after {content: \"\\00b7\"; padding: 0 .5ex}\n",
       "</style>\n",
       "<ol class=list-inline><li>LF</li><li>RF</li><li>LC</li><li>RC</li><li>LP</li><li>RP</li></ol>\n",
       "\n",
       "<details>\n",
       "\t<summary style=display:list-item;cursor:pointer>\n",
       "\t\t<strong>Levels</strong>:\n",
       "\t</summary>\n",
       "\t<style>\n",
       "\t.list-inline {list-style: none; margin:0; padding: 0}\n",
       "\t.list-inline>li {display: inline-block}\n",
       "\t.list-inline>li:not(:last-child)::after {content: \"\\00b7\"; padding: 0 .5ex}\n",
       "\t</style>\n",
       "\t<ol class=list-inline><li>'LC'</li><li>'LF'</li><li>'LP'</li><li>'RC'</li><li>'RF'</li><li>'RP'</li></ol>\n",
       "</details>"
      ],
      "text/latex": [
       "\\textbf{\\$chan0} = \\begin{enumerate*}\n",
       "\\item LF\n",
       "\\item RF\n",
       "\\item LC\n",
       "\\item RC\n",
       "\\item LP\n",
       "\\item RP\n",
       "\\end{enumerate*}\n",
       "\n",
       "\\emph{Levels}: \\begin{enumerate*}\n",
       "\\item 'LC'\n",
       "\\item 'LF'\n",
       "\\item 'LP'\n",
       "\\item 'RC'\n",
       "\\item 'RF'\n",
       "\\item 'RP'\n",
       "\\end{enumerate*}\n"
      ],
      "text/markdown": [
       "**$chan0** = 1. LF\n",
       "2. RF\n",
       "3. LC\n",
       "4. RC\n",
       "5. LP\n",
       "6. RP\n",
       "\n",
       "\n",
       "\n",
       "**Levels**: 1. 'LC'\n",
       "2. 'LF'\n",
       "3. 'LP'\n",
       "4. 'RC'\n",
       "5. 'RF'\n",
       "6. 'RP'\n",
       "\n",
       "\n"
      ],
      "text/plain": [
       "$chan0\n",
       "[1] LF RF LC RC LP RP\n",
       "Levels: LC LF LP RC RF RP\n"
      ]
     },
     "metadata": {},
     "output_type": "display_data"
    }
   ],
   "source": [
    "c(unique(df1[\"chan0\"]))"
   ]
  },
  {
   "cell_type": "code",
   "execution_count": 13,
   "metadata": {},
   "outputs": [
    {
     "data": {
      "text/html": [
       "<strong>$tmin0</strong> = <style>\n",
       ".list-inline {list-style: none; margin:0; padding: 0}\n",
       ".list-inline>li {display: inline-block}\n",
       ".list-inline>li:not(:last-child)::after {content: \"\\00b7\"; padding: 0 .5ex}\n",
       "</style>\n",
       "<ol class=list-inline><li>0.1</li><li>0.19</li><li>0.35</li><li>0.41</li><li>0.6</li><li>0.11</li></ol>\n"
      ],
      "text/latex": [
       "\\textbf{\\$tmin0} = \\begin{enumerate*}\n",
       "\\item 0.1\n",
       "\\item 0.19\n",
       "\\item 0.35\n",
       "\\item 0.41\n",
       "\\item 0.6\n",
       "\\item 0.11\n",
       "\\end{enumerate*}\n"
      ],
      "text/markdown": [
       "**$tmin0** = 1. 0.1\n",
       "2. 0.19\n",
       "3. 0.35\n",
       "4. 0.41\n",
       "5. 0.6\n",
       "6. 0.11\n",
       "\n",
       "\n"
      ],
      "text/plain": [
       "$tmin0\n",
       "[1] 0.10 0.19 0.35 0.41 0.60 0.11\n"
      ]
     },
     "metadata": {},
     "output_type": "display_data"
    }
   ],
   "source": [
    "c(unique(df1[\"tmin0\"]))"
   ]
  },
  {
   "cell_type": "markdown",
   "metadata": {},
   "source": [
    "https://www.rdocumentation.org/packages/afex/versions/0.27-2/topics/aov_car"
   ]
  },
  {
   "cell_type": "code",
   "execution_count": 14,
   "metadata": {},
   "outputs": [],
   "source": [
    "FORMULA  <- valX~(cond0|SUB)\n",
    "TEST     <- adjusted(\"free\")"
   ]
  },
  {
   "cell_type": "code",
   "execution_count": 15,
   "metadata": {},
   "outputs": [],
   "source": [
    "CONDS <- c()\n",
    "mode0 <- as.matrix(unique(df1[\"mode0\"]))\n",
    "chan0 <- as.matrix(unique(df1[\"chan0\"]))\n",
    "tmin0 <- as.matrix(unique(df1[\"tmin0\"]))\n",
    "for(tmin1 in tmin0 ){\n",
    "    for(chan1 in chan0 ){\n",
    "        for(mode1 in mode0 ){\n",
    "            CONDS <- c(CONDS,str_c(\"tmin0==\",tmin1,\" & chan0==\\\"\",chan1,\"\\\" & mode0==\\\"\",mode1,\"\\\"\"))\n",
    "        }\n",
    "    }\n",
    "}"
   ]
  },
  {
   "cell_type": "code",
   "execution_count": 16,
   "metadata": {},
   "outputs": [
    {
     "data": {
      "text/html": [
       "72"
      ],
      "text/latex": [
       "72"
      ],
      "text/markdown": [
       "72"
      ],
      "text/plain": [
       "[1] 72"
      ]
     },
     "metadata": {},
     "output_type": "display_data"
    }
   ],
   "source": [
    "length(CONDS)"
   ]
  },
  {
   "cell_type": "code",
   "execution_count": 17,
   "metadata": {
    "scrolled": true
   },
   "outputs": [
    {
     "data": {
      "text/html": [
       "'tmin0==0.19 &amp; chan0==\"RF\" &amp; mode0==\"pos\"'"
      ],
      "text/latex": [
       "'tmin0==0.19 \\& chan0==\"RF\" \\& mode0==\"pos\"'"
      ],
      "text/markdown": [
       "'tmin0==0.19 &amp; chan0==\"RF\" &amp; mode0==\"pos\"'"
      ],
      "text/plain": [
       "[1] \"tmin0==0.19 & chan0==\\\"RF\\\" & mode0==\\\"pos\\\"\""
      ]
     },
     "metadata": {},
     "output_type": "display_data"
    }
   ],
   "source": [
    "IDX=0\n",
    "CONDS[15]"
   ]
  },
  {
   "cell_type": "code",
   "execution_count": 18,
   "metadata": {},
   "outputs": [
    {
     "name": "stderr",
     "output_type": "stream",
     "text": [
      "Warning message:\n",
      "“Missing values for following ID(s):\n",
      "01mkxf, 05jwxf, 07zrxf, 09msxf, 14ktxf, 16olxm, 20jpxf, 23zdxf, 30mszf, 38slxm\n",
      "Removing those cases from the analysis.”\n"
     ]
    },
    {
     "data": {
      "text/markdown": [
       "# Condition 1 of 72"
      ]
     },
     "metadata": {},
     "output_type": "display_data"
    },
    {
     "data": {
      "text/markdown": [
       "`tmin0==0.1 & chan0==\"LF\" & mode0==\"pos\"`"
      ]
     },
     "metadata": {},
     "output_type": "display_data"
    },
    {
     "data": {
      "text/markdown": [
       "### Table"
      ]
     },
     "metadata": {},
     "output_type": "display_data"
    },
    {
     "data": {
      "text/html": [
       "<table>\n",
       "<caption>A apa_results_table: 1 × 7</caption>\n",
       "<thead>\n",
       "\t<tr><th></th><th scope=col>Effect</th><th scope=col>F</th><th scope=col>df1</th><th scope=col>df2</th><th scope=col>MSE</th><th scope=col>p</th><th scope=col>ges</th></tr>\n",
       "\t<tr><th></th><th scope=col>&lt;ppj_lbll&gt;</th><th scope=col>&lt;ppj_lbll&gt;</th><th scope=col>&lt;ppj_lbll&gt;</th><th scope=col>&lt;ppj_lbll&gt;</th><th scope=col>&lt;ppj_lbll&gt;</th><th scope=col>&lt;ppj_lbll&gt;</th><th scope=col>&lt;ppj_lbll&gt;</th></tr>\n",
       "</thead>\n",
       "<tbody>\n",
       "\t<tr><th scope=row>1</th><td>Cond0</td><td>2.95</td><td>1.76</td><td>36.95</td><td>0.65</td><td>.071</td><td>.022</td></tr>\n",
       "</tbody>\n",
       "</table>\n"
      ],
      "text/latex": [
       "A apa\\_results\\_table: 1 × 7\n",
       "\\begin{tabular}{r|lllllll}\n",
       "  & Effect & F & df1 & df2 & MSE & p & ges\\\\\n",
       "  & <ppj\\_lbll> & <ppj\\_lbll> & <ppj\\_lbll> & <ppj\\_lbll> & <ppj\\_lbll> & <ppj\\_lbll> & <ppj\\_lbll>\\\\\n",
       "\\hline\n",
       "\t1 & Cond0 & 2.95 & 1.76 & 36.95 & 0.65 & .071 & .022\\\\\n",
       "\\end{tabular}\n"
      ],
      "text/markdown": [
       "\n",
       "A apa_results_table: 1 × 7\n",
       "\n",
       "| <!--/--> | Effect &lt;ppj_lbll&gt; | F &lt;ppj_lbll&gt; | df1 &lt;ppj_lbll&gt; | df2 &lt;ppj_lbll&gt; | MSE &lt;ppj_lbll&gt; | p &lt;ppj_lbll&gt; | ges &lt;ppj_lbll&gt; |\n",
       "|---|---|---|---|---|---|---|---|\n",
       "| 1 | Cond0 | 2.95 | 1.76 | 36.95 | 0.65 | .071 | .022 |\n",
       "\n"
      ],
      "text/plain": [
       "  Effect F    df1  df2   MSE  p    ges \n",
       "1 Cond0  2.95 1.76 36.95 0.65 .071 .022"
      ]
     },
     "metadata": {},
     "output_type": "display_data"
    },
    {
     "data": {
      "text/markdown": [
       "### Result"
      ]
     },
     "metadata": {},
     "output_type": "display_data"
    },
    {
     "data": {
      "text/markdown": [
       "$F(1.76, 36.95) = 2.95$, $\\mathit{MSE} = 0.65$, $p = .071$, $\\hat{\\eta}^2_G = .022$"
      ]
     },
     "metadata": {},
     "output_type": "display_data"
    },
    {
     "data": {
      "text/markdown": [
       "### Summary (all done1, incl. NANs)"
      ]
     },
     "metadata": {},
     "output_type": "display_data"
    },
    {
     "data": {
      "text/html": [
       "<table>\n",
       "<caption>A tibble: 3 × 5</caption>\n",
       "<thead>\n",
       "\t<tr><th scope=col>cond0</th><th scope=col>N</th><th scope=col>valX_M</th><th scope=col>valX_SD</th><th scope=col>valX_SE</th></tr>\n",
       "\t<tr><th scope=col>&lt;fct&gt;</th><th scope=col>&lt;int&gt;</th><th scope=col>&lt;dbl&gt;</th><th scope=col>&lt;dbl&gt;</th><th scope=col>&lt;dbl&gt;</th></tr>\n",
       "</thead>\n",
       "<tbody>\n",
       "\t<tr><td>noun_F</td><td>28</td><td>0.5275721</td><td>1.686444</td><td>0.3187080</td></tr>\n",
       "\t<tr><td>noun_M</td><td>27</td><td>0.1631923</td><td>1.636045</td><td>0.3148569</td></tr>\n",
       "\t<tr><td>verb_X</td><td>27</td><td>0.1335126</td><td>1.226710</td><td>0.2360805</td></tr>\n",
       "</tbody>\n",
       "</table>\n"
      ],
      "text/latex": [
       "A tibble: 3 × 5\n",
       "\\begin{tabular}{lllll}\n",
       " cond0 & N & valX\\_M & valX\\_SD & valX\\_SE\\\\\n",
       " <fct> & <int> & <dbl> & <dbl> & <dbl>\\\\\n",
       "\\hline\n",
       "\t noun\\_F & 28 & 0.5275721 & 1.686444 & 0.3187080\\\\\n",
       "\t noun\\_M & 27 & 0.1631923 & 1.636045 & 0.3148569\\\\\n",
       "\t verb\\_X & 27 & 0.1335126 & 1.226710 & 0.2360805\\\\\n",
       "\\end{tabular}\n"
      ],
      "text/markdown": [
       "\n",
       "A tibble: 3 × 5\n",
       "\n",
       "| cond0 &lt;fct&gt; | N &lt;int&gt; | valX_M &lt;dbl&gt; | valX_SD &lt;dbl&gt; | valX_SE &lt;dbl&gt; |\n",
       "|---|---|---|---|---|\n",
       "| noun_F | 28 | 0.5275721 | 1.686444 | 0.3187080 |\n",
       "| noun_M | 27 | 0.1631923 | 1.636045 | 0.3148569 |\n",
       "| verb_X | 27 | 0.1335126 | 1.226710 | 0.2360805 |\n",
       "\n"
      ],
      "text/plain": [
       "  cond0  N  valX_M    valX_SD  valX_SE  \n",
       "1 noun_F 28 0.5275721 1.686444 0.3187080\n",
       "2 noun_M 27 0.1631923 1.636045 0.3148569\n",
       "3 verb_X 27 0.1335126 1.226710 0.2360805"
      ]
     },
     "metadata": {},
     "output_type": "display_data"
    },
    {
     "data": {
      "text/markdown": [
       "### Expected marginal means"
      ]
     },
     "metadata": {},
     "output_type": "display_data"
    },
    {
     "data": {
      "text/html": [
       "<table>\n",
       "<caption>A apa_results_table: 3 × 5</caption>\n",
       "<thead>\n",
       "\t<tr><th></th><th scope=col>cond0</th><th scope=col>estimate</th><th scope=col>ci</th><th scope=col>statistic</th><th scope=col>p.value</th></tr>\n",
       "\t<tr><th></th><th scope=col>&lt;chr&gt;</th><th scope=col>&lt;ppj_lbll&gt;</th><th scope=col>&lt;ppj_lbll&gt;</th><th scope=col>&lt;ppj_lbll&gt;</th><th scope=col>&lt;ppj_lbll&gt;</th></tr>\n",
       "</thead>\n",
       "<tbody>\n",
       "\t<tr><th scope=row>noun_F</th><td>noun_F</td><td>0.70</td><td>$[0.03$, $1.36]$ </td><td>2.15</td><td>.040</td></tr>\n",
       "\t<tr><th scope=row>noun_M</th><td>noun_M</td><td>0.30</td><td>$[-0.36$, $0.97]$</td><td>0.93</td><td>.358</td></tr>\n",
       "\t<tr><th scope=row>verb_X</th><td>verb_X</td><td>0.16</td><td>$[-0.50$, $0.83]$</td><td>0.50</td><td>.619</td></tr>\n",
       "</tbody>\n",
       "</table>\n"
      ],
      "text/latex": [
       "A apa\\_results\\_table: 3 × 5\n",
       "\\begin{tabular}{r|lllll}\n",
       "  & cond0 & estimate & ci & statistic & p.value\\\\\n",
       "  & <chr> & <ppj\\_lbll> & <ppj\\_lbll> & <ppj\\_lbll> & <ppj\\_lbll>\\\\\n",
       "\\hline\n",
       "\tnoun\\_F & noun\\_F & 0.70 & \\${[}0.03\\$, \\$1.36{]}\\$  & 2.15 & .040\\\\\n",
       "\tnoun\\_M & noun\\_M & 0.30 & \\${[}-0.36\\$, \\$0.97{]}\\$ & 0.93 & .358\\\\\n",
       "\tverb\\_X & verb\\_X & 0.16 & \\${[}-0.50\\$, \\$0.83{]}\\$ & 0.50 & .619\\\\\n",
       "\\end{tabular}\n"
      ],
      "text/markdown": [
       "\n",
       "A apa_results_table: 3 × 5\n",
       "\n",
       "| <!--/--> | cond0 &lt;chr&gt; | estimate &lt;ppj_lbll&gt; | ci &lt;ppj_lbll&gt; | statistic &lt;ppj_lbll&gt; | p.value &lt;ppj_lbll&gt; |\n",
       "|---|---|---|---|---|---|\n",
       "| noun_F | noun_F | 0.70 | $[0.03$, $1.36]$  | 2.15 | .040 |\n",
       "| noun_M | noun_M | 0.30 | $[-0.36$, $0.97]$ | 0.93 | .358 |\n",
       "| verb_X | verb_X | 0.16 | $[-0.50$, $0.83]$ | 0.50 | .619 |\n",
       "\n"
      ],
      "text/plain": [
       "       cond0  estimate ci                statistic p.value\n",
       "noun_F noun_F 0.70     $[0.03$, $1.36]$  2.15      .040   \n",
       "noun_M noun_M 0.30     $[-0.36$, $0.97]$ 0.93      .358   \n",
       "verb_X verb_X 0.16     $[-0.50$, $0.83]$ 0.50      .619   "
      ]
     },
     "metadata": {},
     "output_type": "display_data"
    },
    {
     "data": {
      "text/markdown": [
       "### Paired comparisons for expected marginal means"
      ]
     },
     "metadata": {},
     "output_type": "display_data"
    },
    {
     "data": {
      "text/html": [
       "<table>\n",
       "<caption>A apa_results_table: 3 × 5</caption>\n",
       "<thead>\n",
       "\t<tr><th></th><th scope=col>contrast</th><th scope=col>estimate</th><th scope=col>ci</th><th scope=col>statistic</th><th scope=col>p.value</th></tr>\n",
       "\t<tr><th></th><th scope=col>&lt;ppj_lbll&gt;</th><th scope=col>&lt;ppj_lbll&gt;</th><th scope=col>&lt;ppj_lbll&gt;</th><th scope=col>&lt;ppj_lbll&gt;</th><th scope=col>&lt;ppj_lbll&gt;</th></tr>\n",
       "</thead>\n",
       "<tbody>\n",
       "\t<tr><th scope=row>noun_F_noun_M</th><td>noun_F - noun_M</td><td>0.39</td><td>$[-0.16$, $0.94]$</td><td>1.73</td><td>.207</td></tr>\n",
       "\t<tr><th scope=row>noun_F_verb_X</th><td>noun_F - verb_X</td><td>0.53</td><td>$[-0.02$, $1.09]$</td><td>2.34</td><td>.061</td></tr>\n",
       "\t<tr><th scope=row>noun_M_verb_X</th><td>noun_M - verb_X</td><td>0.14</td><td>$[-0.41$, $0.69]$</td><td>0.62</td><td>.812</td></tr>\n",
       "</tbody>\n",
       "</table>\n"
      ],
      "text/latex": [
       "A apa\\_results\\_table: 3 × 5\n",
       "\\begin{tabular}{r|lllll}\n",
       "  & contrast & estimate & ci & statistic & p.value\\\\\n",
       "  & <ppj\\_lbll> & <ppj\\_lbll> & <ppj\\_lbll> & <ppj\\_lbll> & <ppj\\_lbll>\\\\\n",
       "\\hline\n",
       "\tnoun\\_F\\_noun\\_M & noun\\_F - noun\\_M & 0.39 & \\${[}-0.16\\$, \\$0.94{]}\\$ & 1.73 & .207\\\\\n",
       "\tnoun\\_F\\_verb\\_X & noun\\_F - verb\\_X & 0.53 & \\${[}-0.02\\$, \\$1.09{]}\\$ & 2.34 & .061\\\\\n",
       "\tnoun\\_M\\_verb\\_X & noun\\_M - verb\\_X & 0.14 & \\${[}-0.41\\$, \\$0.69{]}\\$ & 0.62 & .812\\\\\n",
       "\\end{tabular}\n"
      ],
      "text/markdown": [
       "\n",
       "A apa_results_table: 3 × 5\n",
       "\n",
       "| <!--/--> | contrast &lt;ppj_lbll&gt; | estimate &lt;ppj_lbll&gt; | ci &lt;ppj_lbll&gt; | statistic &lt;ppj_lbll&gt; | p.value &lt;ppj_lbll&gt; |\n",
       "|---|---|---|---|---|---|\n",
       "| noun_F_noun_M | noun_F - noun_M | 0.39 | $[-0.16$, $0.94]$ | 1.73 | .207 |\n",
       "| noun_F_verb_X | noun_F - verb_X | 0.53 | $[-0.02$, $1.09]$ | 2.34 | .061 |\n",
       "| noun_M_verb_X | noun_M - verb_X | 0.14 | $[-0.41$, $0.69]$ | 0.62 | .812 |\n",
       "\n"
      ],
      "text/plain": [
       "              contrast        estimate ci                statistic p.value\n",
       "noun_F_noun_M noun_F - noun_M 0.39     $[-0.16$, $0.94]$ 1.73      .207   \n",
       "noun_F_verb_X noun_F - verb_X 0.53     $[-0.02$, $1.09]$ 2.34      .061   \n",
       "noun_M_verb_X noun_M - verb_X 0.14     $[-0.41$, $0.69]$ 0.62      .812   "
      ]
     },
     "metadata": {},
     "output_type": "display_data"
    }
   ],
   "source": [
    "IDX <- IDX+1; COND <- CONDS[IDX]\n",
    "data1 <- droplevels(subset(df1, eval(parse(text=COND)))); data1 <- data1[complete.cases(data1),]; done1 <- AOV4(data1,COND)\n",
    "display_markdown(str_c(\"# Condition \",IDX,\" of \",length(CONDS))); display_markdown(done1$info); display_markdown(\"### Table\"); done1$aov_APA$table; display_markdown(\"### Result\"); display_markdown(done1$aov_APA[[\"full_result\"]][[\"cond0\"]]); display_markdown(\"### Summary (all done1, incl. NANs)\"); done1$summary; display_markdown(\"### Expected marginal means\"); done1$emm_APA$table; display_markdown(\"### Paired comparisons for expected marginal means\"); done1$pairs_APA$table"
   ]
  },
  {
   "cell_type": "code",
   "execution_count": 19,
   "metadata": {},
   "outputs": [
    {
     "name": "stderr",
     "output_type": "stream",
     "text": [
      "Warning message:\n",
      "“Missing values for following ID(s):\n",
      "15agxf, 24jkxf, 39mrxm\n",
      "Removing those cases from the analysis.”\n"
     ]
    },
    {
     "data": {
      "text/markdown": [
       "# Condition 2 of 72"
      ]
     },
     "metadata": {},
     "output_type": "display_data"
    },
    {
     "data": {
      "text/markdown": [
       "`tmin0==0.1 & chan0==\"LF\" & mode0==\"neg\"`"
      ]
     },
     "metadata": {},
     "output_type": "display_data"
    },
    {
     "data": {
      "text/markdown": [
       "### Table"
      ]
     },
     "metadata": {},
     "output_type": "display_data"
    },
    {
     "data": {
      "text/html": [
       "<table>\n",
       "<caption>A apa_results_table: 1 × 7</caption>\n",
       "<thead>\n",
       "\t<tr><th></th><th scope=col>Effect</th><th scope=col>F</th><th scope=col>df1</th><th scope=col>df2</th><th scope=col>MSE</th><th scope=col>p</th><th scope=col>ges</th></tr>\n",
       "\t<tr><th></th><th scope=col>&lt;ppj_lbll&gt;</th><th scope=col>&lt;ppj_lbll&gt;</th><th scope=col>&lt;ppj_lbll&gt;</th><th scope=col>&lt;ppj_lbll&gt;</th><th scope=col>&lt;ppj_lbll&gt;</th><th scope=col>&lt;ppj_lbll&gt;</th><th scope=col>&lt;ppj_lbll&gt;</th></tr>\n",
       "</thead>\n",
       "<tbody>\n",
       "\t<tr><th scope=row>1</th><td>Cond0</td><td>1.06</td><td>1.88</td><td>71.50</td><td>0.27</td><td>.350</td><td>.002</td></tr>\n",
       "</tbody>\n",
       "</table>\n"
      ],
      "text/latex": [
       "A apa\\_results\\_table: 1 × 7\n",
       "\\begin{tabular}{r|lllllll}\n",
       "  & Effect & F & df1 & df2 & MSE & p & ges\\\\\n",
       "  & <ppj\\_lbll> & <ppj\\_lbll> & <ppj\\_lbll> & <ppj\\_lbll> & <ppj\\_lbll> & <ppj\\_lbll> & <ppj\\_lbll>\\\\\n",
       "\\hline\n",
       "\t1 & Cond0 & 1.06 & 1.88 & 71.50 & 0.27 & .350 & .002\\\\\n",
       "\\end{tabular}\n"
      ],
      "text/markdown": [
       "\n",
       "A apa_results_table: 1 × 7\n",
       "\n",
       "| <!--/--> | Effect &lt;ppj_lbll&gt; | F &lt;ppj_lbll&gt; | df1 &lt;ppj_lbll&gt; | df2 &lt;ppj_lbll&gt; | MSE &lt;ppj_lbll&gt; | p &lt;ppj_lbll&gt; | ges &lt;ppj_lbll&gt; |\n",
       "|---|---|---|---|---|---|---|---|\n",
       "| 1 | Cond0 | 1.06 | 1.88 | 71.50 | 0.27 | .350 | .002 |\n",
       "\n"
      ],
      "text/plain": [
       "  Effect F    df1  df2   MSE  p    ges \n",
       "1 Cond0  1.06 1.88 71.50 0.27 .350 .002"
      ]
     },
     "metadata": {},
     "output_type": "display_data"
    },
    {
     "data": {
      "text/markdown": [
       "### Result"
      ]
     },
     "metadata": {},
     "output_type": "display_data"
    },
    {
     "data": {
      "text/markdown": [
       "$F(1.88, 71.50) = 1.06$, $\\mathit{MSE} = 0.27$, $p = .350$, $\\hat{\\eta}^2_G = .002$"
      ]
     },
     "metadata": {},
     "output_type": "display_data"
    },
    {
     "data": {
      "text/markdown": [
       "### Summary (all done1, incl. NANs)"
      ]
     },
     "metadata": {},
     "output_type": "display_data"
    },
    {
     "data": {
      "text/html": [
       "<table>\n",
       "<caption>A tibble: 3 × 5</caption>\n",
       "<thead>\n",
       "\t<tr><th scope=col>cond0</th><th scope=col>N</th><th scope=col>valX_M</th><th scope=col>valX_SD</th><th scope=col>valX_SE</th></tr>\n",
       "\t<tr><th scope=col>&lt;fct&gt;</th><th scope=col>&lt;int&gt;</th><th scope=col>&lt;dbl&gt;</th><th scope=col>&lt;dbl&gt;</th><th scope=col>&lt;dbl&gt;</th></tr>\n",
       "</thead>\n",
       "<tbody>\n",
       "\t<tr><td>noun_F</td><td>40</td><td>-2.894785</td><td>1.309856</td><td>0.2071064</td></tr>\n",
       "\t<tr><td>noun_M</td><td>41</td><td>-2.666083</td><td>1.699801</td><td>0.2654642</td></tr>\n",
       "\t<tr><td>verb_X</td><td>42</td><td>-2.669956</td><td>1.454448</td><td>0.2244262</td></tr>\n",
       "</tbody>\n",
       "</table>\n"
      ],
      "text/latex": [
       "A tibble: 3 × 5\n",
       "\\begin{tabular}{lllll}\n",
       " cond0 & N & valX\\_M & valX\\_SD & valX\\_SE\\\\\n",
       " <fct> & <int> & <dbl> & <dbl> & <dbl>\\\\\n",
       "\\hline\n",
       "\t noun\\_F & 40 & -2.894785 & 1.309856 & 0.2071064\\\\\n",
       "\t noun\\_M & 41 & -2.666083 & 1.699801 & 0.2654642\\\\\n",
       "\t verb\\_X & 42 & -2.669956 & 1.454448 & 0.2244262\\\\\n",
       "\\end{tabular}\n"
      ],
      "text/markdown": [
       "\n",
       "A tibble: 3 × 5\n",
       "\n",
       "| cond0 &lt;fct&gt; | N &lt;int&gt; | valX_M &lt;dbl&gt; | valX_SD &lt;dbl&gt; | valX_SE &lt;dbl&gt; |\n",
       "|---|---|---|---|---|\n",
       "| noun_F | 40 | -2.894785 | 1.309856 | 0.2071064 |\n",
       "| noun_M | 41 | -2.666083 | 1.699801 | 0.2654642 |\n",
       "| verb_X | 42 | -2.669956 | 1.454448 | 0.2244262 |\n",
       "\n"
      ],
      "text/plain": [
       "  cond0  N  valX_M    valX_SD  valX_SE  \n",
       "1 noun_F 40 -2.894785 1.309856 0.2071064\n",
       "2 noun_M 41 -2.666083 1.699801 0.2654642\n",
       "3 verb_X 42 -2.669956 1.454448 0.2244262"
      ]
     },
     "metadata": {},
     "output_type": "display_data"
    },
    {
     "data": {
      "text/markdown": [
       "### Expected marginal means"
      ]
     },
     "metadata": {},
     "output_type": "display_data"
    },
    {
     "data": {
      "text/html": [
       "<table>\n",
       "<caption>A apa_results_table: 3 × 5</caption>\n",
       "<thead>\n",
       "\t<tr><th></th><th scope=col>cond0</th><th scope=col>estimate</th><th scope=col>ci</th><th scope=col>statistic</th><th scope=col>p.value</th></tr>\n",
       "\t<tr><th></th><th scope=col>&lt;chr&gt;</th><th scope=col>&lt;ppj_lbll&gt;</th><th scope=col>&lt;ppj_lbll&gt;</th><th scope=col>&lt;ppj_lbll&gt;</th><th scope=col>&lt;ppj_lbll&gt;</th></tr>\n",
       "</thead>\n",
       "<tbody>\n",
       "\t<tr><th scope=row>noun_F</th><td>noun_F</td><td>-2.93</td><td>$[-3.40$, $-2.46]$</td><td>-12.50</td><td>&lt; .001</td></tr>\n",
       "\t<tr><th scope=row>noun_M</th><td>noun_M</td><td>-2.77</td><td>$[-3.24$, $-2.30]$</td><td>-11.81</td><td>&lt; .001</td></tr>\n",
       "\t<tr><th scope=row>verb_X</th><td>verb_X</td><td>-2.82</td><td>$[-3.29$, $-2.35]$</td><td>-12.04</td><td>&lt; .001</td></tr>\n",
       "</tbody>\n",
       "</table>\n"
      ],
      "text/latex": [
       "A apa\\_results\\_table: 3 × 5\n",
       "\\begin{tabular}{r|lllll}\n",
       "  & cond0 & estimate & ci & statistic & p.value\\\\\n",
       "  & <chr> & <ppj\\_lbll> & <ppj\\_lbll> & <ppj\\_lbll> & <ppj\\_lbll>\\\\\n",
       "\\hline\n",
       "\tnoun\\_F & noun\\_F & -2.93 & \\${[}-3.40\\$, \\$-2.46{]}\\$ & -12.50 & < .001\\\\\n",
       "\tnoun\\_M & noun\\_M & -2.77 & \\${[}-3.24\\$, \\$-2.30{]}\\$ & -11.81 & < .001\\\\\n",
       "\tverb\\_X & verb\\_X & -2.82 & \\${[}-3.29\\$, \\$-2.35{]}\\$ & -12.04 & < .001\\\\\n",
       "\\end{tabular}\n"
      ],
      "text/markdown": [
       "\n",
       "A apa_results_table: 3 × 5\n",
       "\n",
       "| <!--/--> | cond0 &lt;chr&gt; | estimate &lt;ppj_lbll&gt; | ci &lt;ppj_lbll&gt; | statistic &lt;ppj_lbll&gt; | p.value &lt;ppj_lbll&gt; |\n",
       "|---|---|---|---|---|---|\n",
       "| noun_F | noun_F | -2.93 | $[-3.40$, $-2.46]$ | -12.50 | &lt; .001 |\n",
       "| noun_M | noun_M | -2.77 | $[-3.24$, $-2.30]$ | -11.81 | &lt; .001 |\n",
       "| verb_X | verb_X | -2.82 | $[-3.29$, $-2.35]$ | -12.04 | &lt; .001 |\n",
       "\n"
      ],
      "text/plain": [
       "       cond0  estimate ci                 statistic p.value\n",
       "noun_F noun_F -2.93    $[-3.40$, $-2.46]$ -12.50    < .001 \n",
       "noun_M noun_M -2.77    $[-3.24$, $-2.30]$ -11.81    < .001 \n",
       "verb_X verb_X -2.82    $[-3.29$, $-2.35]$ -12.04    < .001 "
      ]
     },
     "metadata": {},
     "output_type": "display_data"
    },
    {
     "data": {
      "text/markdown": [
       "### Paired comparisons for expected marginal means"
      ]
     },
     "metadata": {},
     "output_type": "display_data"
    },
    {
     "data": {
      "text/html": [
       "<table>\n",
       "<caption>A apa_results_table: 3 × 5</caption>\n",
       "<thead>\n",
       "\t<tr><th></th><th scope=col>contrast</th><th scope=col>estimate</th><th scope=col>ci</th><th scope=col>statistic</th><th scope=col>p.value</th></tr>\n",
       "\t<tr><th></th><th scope=col>&lt;ppj_lbll&gt;</th><th scope=col>&lt;ppj_lbll&gt;</th><th scope=col>&lt;ppj_lbll&gt;</th><th scope=col>&lt;ppj_lbll&gt;</th><th scope=col>&lt;ppj_lbll&gt;</th></tr>\n",
       "</thead>\n",
       "<tbody>\n",
       "\t<tr><th scope=row>noun_F_noun_M</th><td>noun_F - noun_M</td><td>-0.16</td><td>$[-0.43$, $0.11]$</td><td>-1.42</td><td>.334</td></tr>\n",
       "\t<tr><th scope=row>noun_F_verb_X</th><td>noun_F - verb_X</td><td>-0.11</td><td>$[-0.38$, $0.16]$</td><td>-0.96</td><td>.602</td></tr>\n",
       "\t<tr><th scope=row>noun_M_verb_X</th><td>noun_M - verb_X</td><td>0.05 </td><td>$[-0.22$, $0.32]$</td><td>0.46 </td><td>.890</td></tr>\n",
       "</tbody>\n",
       "</table>\n"
      ],
      "text/latex": [
       "A apa\\_results\\_table: 3 × 5\n",
       "\\begin{tabular}{r|lllll}\n",
       "  & contrast & estimate & ci & statistic & p.value\\\\\n",
       "  & <ppj\\_lbll> & <ppj\\_lbll> & <ppj\\_lbll> & <ppj\\_lbll> & <ppj\\_lbll>\\\\\n",
       "\\hline\n",
       "\tnoun\\_F\\_noun\\_M & noun\\_F - noun\\_M & -0.16 & \\${[}-0.43\\$, \\$0.11{]}\\$ & -1.42 & .334\\\\\n",
       "\tnoun\\_F\\_verb\\_X & noun\\_F - verb\\_X & -0.11 & \\${[}-0.38\\$, \\$0.16{]}\\$ & -0.96 & .602\\\\\n",
       "\tnoun\\_M\\_verb\\_X & noun\\_M - verb\\_X & 0.05  & \\${[}-0.22\\$, \\$0.32{]}\\$ & 0.46  & .890\\\\\n",
       "\\end{tabular}\n"
      ],
      "text/markdown": [
       "\n",
       "A apa_results_table: 3 × 5\n",
       "\n",
       "| <!--/--> | contrast &lt;ppj_lbll&gt; | estimate &lt;ppj_lbll&gt; | ci &lt;ppj_lbll&gt; | statistic &lt;ppj_lbll&gt; | p.value &lt;ppj_lbll&gt; |\n",
       "|---|---|---|---|---|---|\n",
       "| noun_F_noun_M | noun_F - noun_M | -0.16 | $[-0.43$, $0.11]$ | -1.42 | .334 |\n",
       "| noun_F_verb_X | noun_F - verb_X | -0.11 | $[-0.38$, $0.16]$ | -0.96 | .602 |\n",
       "| noun_M_verb_X | noun_M - verb_X | 0.05  | $[-0.22$, $0.32]$ | 0.46  | .890 |\n",
       "\n"
      ],
      "text/plain": [
       "              contrast        estimate ci                statistic p.value\n",
       "noun_F_noun_M noun_F - noun_M -0.16    $[-0.43$, $0.11]$ -1.42     .334   \n",
       "noun_F_verb_X noun_F - verb_X -0.11    $[-0.38$, $0.16]$ -0.96     .602   \n",
       "noun_M_verb_X noun_M - verb_X 0.05     $[-0.22$, $0.32]$ 0.46      .890   "
      ]
     },
     "metadata": {},
     "output_type": "display_data"
    }
   ],
   "source": [
    "IDX <- IDX+1; COND <- CONDS[IDX]\n",
    "data1 <- droplevels(subset(df1, eval(parse(text=COND)))); data1 <- data1[complete.cases(data1),]; done1 <- AOV4(data1,COND)\n",
    "display_markdown(str_c(\"# Condition \",IDX,\" of \",length(CONDS))); display_markdown(done1$info); display_markdown(\"### Table\"); done1$aov_APA$table; display_markdown(\"### Result\"); display_markdown(done1$aov_APA[[\"full_result\"]][[\"cond0\"]]); display_markdown(\"### Summary (all done1, incl. NANs)\"); done1$summary; display_markdown(\"### Expected marginal means\"); done1$emm_APA$table; display_markdown(\"### Paired comparisons for expected marginal means\"); done1$pairs_APA$table"
   ]
  },
  {
   "cell_type": "code",
   "execution_count": 20,
   "metadata": {},
   "outputs": [
    {
     "name": "stderr",
     "output_type": "stream",
     "text": [
      "Warning message:\n",
      "“Missing values for following ID(s):\n",
      "01mkxf, 09msxf, 11kbxm, 16olxm, 17makf, 20jpxf, 27zgxf, 29jjxf, 30mszf, 32mjxf, 34gsxm, 37lpxm, 42aszm\n",
      "Removing those cases from the analysis.”\n",
      "Warning message in summary.Anova.mlm(x$Anova):\n",
      "“HF eps > 1 treated as 1”\n"
     ]
    },
    {
     "data": {
      "text/markdown": [
       "# Condition 3 of 72"
      ]
     },
     "metadata": {},
     "output_type": "display_data"
    },
    {
     "data": {
      "text/markdown": [
       "`tmin0==0.1 & chan0==\"RF\" & mode0==\"pos\"`"
      ]
     },
     "metadata": {},
     "output_type": "display_data"
    },
    {
     "data": {
      "text/markdown": [
       "### Table"
      ]
     },
     "metadata": {},
     "output_type": "display_data"
    },
    {
     "data": {
      "text/html": [
       "<table>\n",
       "<caption>A apa_results_table: 1 × 7</caption>\n",
       "<thead>\n",
       "\t<tr><th></th><th scope=col>Effect</th><th scope=col>F</th><th scope=col>df1</th><th scope=col>df2</th><th scope=col>MSE</th><th scope=col>p</th><th scope=col>ges</th></tr>\n",
       "\t<tr><th></th><th scope=col>&lt;ppj_lbll&gt;</th><th scope=col>&lt;ppj_lbll&gt;</th><th scope=col>&lt;ppj_lbll&gt;</th><th scope=col>&lt;ppj_lbll&gt;</th><th scope=col>&lt;ppj_lbll&gt;</th><th scope=col>&lt;ppj_lbll&gt;</th><th scope=col>&lt;ppj_lbll&gt;</th></tr>\n",
       "</thead>\n",
       "<tbody>\n",
       "\t<tr><th scope=row>1</th><td>Cond0</td><td>1.99</td><td>1.99</td><td>47.71</td><td>0.40</td><td>.148</td><td>.010</td></tr>\n",
       "</tbody>\n",
       "</table>\n"
      ],
      "text/latex": [
       "A apa\\_results\\_table: 1 × 7\n",
       "\\begin{tabular}{r|lllllll}\n",
       "  & Effect & F & df1 & df2 & MSE & p & ges\\\\\n",
       "  & <ppj\\_lbll> & <ppj\\_lbll> & <ppj\\_lbll> & <ppj\\_lbll> & <ppj\\_lbll> & <ppj\\_lbll> & <ppj\\_lbll>\\\\\n",
       "\\hline\n",
       "\t1 & Cond0 & 1.99 & 1.99 & 47.71 & 0.40 & .148 & .010\\\\\n",
       "\\end{tabular}\n"
      ],
      "text/markdown": [
       "\n",
       "A apa_results_table: 1 × 7\n",
       "\n",
       "| <!--/--> | Effect &lt;ppj_lbll&gt; | F &lt;ppj_lbll&gt; | df1 &lt;ppj_lbll&gt; | df2 &lt;ppj_lbll&gt; | MSE &lt;ppj_lbll&gt; | p &lt;ppj_lbll&gt; | ges &lt;ppj_lbll&gt; |\n",
       "|---|---|---|---|---|---|---|---|\n",
       "| 1 | Cond0 | 1.99 | 1.99 | 47.71 | 0.40 | .148 | .010 |\n",
       "\n"
      ],
      "text/plain": [
       "  Effect F    df1  df2   MSE  p    ges \n",
       "1 Cond0  1.99 1.99 47.71 0.40 .148 .010"
      ]
     },
     "metadata": {},
     "output_type": "display_data"
    },
    {
     "data": {
      "text/markdown": [
       "### Result"
      ]
     },
     "metadata": {},
     "output_type": "display_data"
    },
    {
     "data": {
      "text/markdown": [
       "$F(1.99, 47.71) = 1.99$, $\\mathit{MSE} = 0.40$, $p = .148$, $\\hat{\\eta}^2_G = .010$"
      ]
     },
     "metadata": {},
     "output_type": "display_data"
    },
    {
     "data": {
      "text/markdown": [
       "### Summary (all done1, incl. NANs)"
      ]
     },
     "metadata": {},
     "output_type": "display_data"
    },
    {
     "data": {
      "text/html": [
       "<table>\n",
       "<caption>A tibble: 3 × 5</caption>\n",
       "<thead>\n",
       "\t<tr><th scope=col>cond0</th><th scope=col>N</th><th scope=col>valX_M</th><th scope=col>valX_SD</th><th scope=col>valX_SE</th></tr>\n",
       "\t<tr><th scope=col>&lt;fct&gt;</th><th scope=col>&lt;int&gt;</th><th scope=col>&lt;dbl&gt;</th><th scope=col>&lt;dbl&gt;</th><th scope=col>&lt;dbl&gt;</th></tr>\n",
       "</thead>\n",
       "<tbody>\n",
       "\t<tr><td>noun_F</td><td>34</td><td>-0.09585035</td><td>1.688673</td><td>0.2896050</td></tr>\n",
       "\t<tr><td>noun_M</td><td>35</td><td>-0.41178819</td><td>1.626501</td><td>0.2749288</td></tr>\n",
       "\t<tr><td>verb_X</td><td>29</td><td> 0.33669843</td><td>1.590460</td><td>0.2953411</td></tr>\n",
       "</tbody>\n",
       "</table>\n"
      ],
      "text/latex": [
       "A tibble: 3 × 5\n",
       "\\begin{tabular}{lllll}\n",
       " cond0 & N & valX\\_M & valX\\_SD & valX\\_SE\\\\\n",
       " <fct> & <int> & <dbl> & <dbl> & <dbl>\\\\\n",
       "\\hline\n",
       "\t noun\\_F & 34 & -0.09585035 & 1.688673 & 0.2896050\\\\\n",
       "\t noun\\_M & 35 & -0.41178819 & 1.626501 & 0.2749288\\\\\n",
       "\t verb\\_X & 29 &  0.33669843 & 1.590460 & 0.2953411\\\\\n",
       "\\end{tabular}\n"
      ],
      "text/markdown": [
       "\n",
       "A tibble: 3 × 5\n",
       "\n",
       "| cond0 &lt;fct&gt; | N &lt;int&gt; | valX_M &lt;dbl&gt; | valX_SD &lt;dbl&gt; | valX_SE &lt;dbl&gt; |\n",
       "|---|---|---|---|---|\n",
       "| noun_F | 34 | -0.09585035 | 1.688673 | 0.2896050 |\n",
       "| noun_M | 35 | -0.41178819 | 1.626501 | 0.2749288 |\n",
       "| verb_X | 29 |  0.33669843 | 1.590460 | 0.2953411 |\n",
       "\n"
      ],
      "text/plain": [
       "  cond0  N  valX_M      valX_SD  valX_SE  \n",
       "1 noun_F 34 -0.09585035 1.688673 0.2896050\n",
       "2 noun_M 35 -0.41178819 1.626501 0.2749288\n",
       "3 verb_X 29  0.33669843 1.590460 0.2953411"
      ]
     },
     "metadata": {},
     "output_type": "display_data"
    },
    {
     "data": {
      "text/markdown": [
       "### Expected marginal means"
      ]
     },
     "metadata": {},
     "output_type": "display_data"
    },
    {
     "data": {
      "text/html": [
       "<table>\n",
       "<caption>A apa_results_table: 3 × 5</caption>\n",
       "<thead>\n",
       "\t<tr><th></th><th scope=col>cond0</th><th scope=col>estimate</th><th scope=col>ci</th><th scope=col>statistic</th><th scope=col>p.value</th></tr>\n",
       "\t<tr><th></th><th scope=col>&lt;chr&gt;</th><th scope=col>&lt;ppj_lbll&gt;</th><th scope=col>&lt;ppj_lbll&gt;</th><th scope=col>&lt;ppj_lbll&gt;</th><th scope=col>&lt;ppj_lbll&gt;</th></tr>\n",
       "</thead>\n",
       "<tbody>\n",
       "\t<tr><th scope=row>noun_F</th><td>noun_F</td><td>0.47</td><td>$[-0.13$, $1.06]$</td><td>1.60</td><td>.121</td></tr>\n",
       "\t<tr><th scope=row>noun_M</th><td>noun_M</td><td>0.15</td><td>$[-0.44$, $0.74]$</td><td>0.51</td><td>.611</td></tr>\n",
       "\t<tr><th scope=row>verb_X</th><td>verb_X</td><td>0.45</td><td>$[-0.14$, $1.05]$</td><td>1.54</td><td>.133</td></tr>\n",
       "</tbody>\n",
       "</table>\n"
      ],
      "text/latex": [
       "A apa\\_results\\_table: 3 × 5\n",
       "\\begin{tabular}{r|lllll}\n",
       "  & cond0 & estimate & ci & statistic & p.value\\\\\n",
       "  & <chr> & <ppj\\_lbll> & <ppj\\_lbll> & <ppj\\_lbll> & <ppj\\_lbll>\\\\\n",
       "\\hline\n",
       "\tnoun\\_F & noun\\_F & 0.47 & \\${[}-0.13\\$, \\$1.06{]}\\$ & 1.60 & .121\\\\\n",
       "\tnoun\\_M & noun\\_M & 0.15 & \\${[}-0.44\\$, \\$0.74{]}\\$ & 0.51 & .611\\\\\n",
       "\tverb\\_X & verb\\_X & 0.45 & \\${[}-0.14\\$, \\$1.05{]}\\$ & 1.54 & .133\\\\\n",
       "\\end{tabular}\n"
      ],
      "text/markdown": [
       "\n",
       "A apa_results_table: 3 × 5\n",
       "\n",
       "| <!--/--> | cond0 &lt;chr&gt; | estimate &lt;ppj_lbll&gt; | ci &lt;ppj_lbll&gt; | statistic &lt;ppj_lbll&gt; | p.value &lt;ppj_lbll&gt; |\n",
       "|---|---|---|---|---|---|\n",
       "| noun_F | noun_F | 0.47 | $[-0.13$, $1.06]$ | 1.60 | .121 |\n",
       "| noun_M | noun_M | 0.15 | $[-0.44$, $0.74]$ | 0.51 | .611 |\n",
       "| verb_X | verb_X | 0.45 | $[-0.14$, $1.05]$ | 1.54 | .133 |\n",
       "\n"
      ],
      "text/plain": [
       "       cond0  estimate ci                statistic p.value\n",
       "noun_F noun_F 0.47     $[-0.13$, $1.06]$ 1.60      .121   \n",
       "noun_M noun_M 0.15     $[-0.44$, $0.74]$ 0.51      .611   \n",
       "verb_X verb_X 0.45     $[-0.14$, $1.05]$ 1.54      .133   "
      ]
     },
     "metadata": {},
     "output_type": "display_data"
    },
    {
     "data": {
      "text/markdown": [
       "### Paired comparisons for expected marginal means"
      ]
     },
     "metadata": {},
     "output_type": "display_data"
    },
    {
     "data": {
      "text/html": [
       "<table>\n",
       "<caption>A apa_results_table: 3 × 5</caption>\n",
       "<thead>\n",
       "\t<tr><th></th><th scope=col>contrast</th><th scope=col>estimate</th><th scope=col>ci</th><th scope=col>statistic</th><th scope=col>p.value</th></tr>\n",
       "\t<tr><th></th><th scope=col>&lt;ppj_lbll&gt;</th><th scope=col>&lt;ppj_lbll&gt;</th><th scope=col>&lt;ppj_lbll&gt;</th><th scope=col>&lt;ppj_lbll&gt;</th><th scope=col>&lt;ppj_lbll&gt;</th></tr>\n",
       "</thead>\n",
       "<tbody>\n",
       "\t<tr><th scope=row>noun_F_noun_M</th><td>noun_F - noun_M</td><td>0.32 </td><td>$[-0.12$, $0.75]$</td><td>1.77 </td><td>.191</td></tr>\n",
       "\t<tr><th scope=row>noun_F_verb_X</th><td>noun_F - verb_X</td><td>0.01 </td><td>$[-0.42$, $0.45]$</td><td>0.08 </td><td>.996</td></tr>\n",
       "\t<tr><th scope=row>noun_M_verb_X</th><td>noun_M - verb_X</td><td>-0.30</td><td>$[-0.73$, $0.13]$</td><td>-1.69</td><td>.221</td></tr>\n",
       "</tbody>\n",
       "</table>\n"
      ],
      "text/latex": [
       "A apa\\_results\\_table: 3 × 5\n",
       "\\begin{tabular}{r|lllll}\n",
       "  & contrast & estimate & ci & statistic & p.value\\\\\n",
       "  & <ppj\\_lbll> & <ppj\\_lbll> & <ppj\\_lbll> & <ppj\\_lbll> & <ppj\\_lbll>\\\\\n",
       "\\hline\n",
       "\tnoun\\_F\\_noun\\_M & noun\\_F - noun\\_M & 0.32  & \\${[}-0.12\\$, \\$0.75{]}\\$ & 1.77  & .191\\\\\n",
       "\tnoun\\_F\\_verb\\_X & noun\\_F - verb\\_X & 0.01  & \\${[}-0.42\\$, \\$0.45{]}\\$ & 0.08  & .996\\\\\n",
       "\tnoun\\_M\\_verb\\_X & noun\\_M - verb\\_X & -0.30 & \\${[}-0.73\\$, \\$0.13{]}\\$ & -1.69 & .221\\\\\n",
       "\\end{tabular}\n"
      ],
      "text/markdown": [
       "\n",
       "A apa_results_table: 3 × 5\n",
       "\n",
       "| <!--/--> | contrast &lt;ppj_lbll&gt; | estimate &lt;ppj_lbll&gt; | ci &lt;ppj_lbll&gt; | statistic &lt;ppj_lbll&gt; | p.value &lt;ppj_lbll&gt; |\n",
       "|---|---|---|---|---|---|\n",
       "| noun_F_noun_M | noun_F - noun_M | 0.32  | $[-0.12$, $0.75]$ | 1.77  | .191 |\n",
       "| noun_F_verb_X | noun_F - verb_X | 0.01  | $[-0.42$, $0.45]$ | 0.08  | .996 |\n",
       "| noun_M_verb_X | noun_M - verb_X | -0.30 | $[-0.73$, $0.13]$ | -1.69 | .221 |\n",
       "\n"
      ],
      "text/plain": [
       "              contrast        estimate ci                statistic p.value\n",
       "noun_F_noun_M noun_F - noun_M 0.32     $[-0.12$, $0.75]$ 1.77      .191   \n",
       "noun_F_verb_X noun_F - verb_X 0.01     $[-0.42$, $0.45]$ 0.08      .996   \n",
       "noun_M_verb_X noun_M - verb_X -0.30    $[-0.73$, $0.13]$ -1.69     .221   "
      ]
     },
     "metadata": {},
     "output_type": "display_data"
    }
   ],
   "source": [
    "IDX <- IDX+1; COND <- CONDS[IDX]\n",
    "data1 <- droplevels(subset(df1, eval(parse(text=COND)))); data1 <- data1[complete.cases(data1),]; done1 <- AOV4(data1,COND)\n",
    "display_markdown(str_c(\"# Condition \",IDX,\" of \",length(CONDS))); display_markdown(done1$info); display_markdown(\"### Table\"); done1$aov_APA$table; display_markdown(\"### Result\"); display_markdown(done1$aov_APA[[\"full_result\"]][[\"cond0\"]]); display_markdown(\"### Summary (all done1, incl. NANs)\"); done1$summary; display_markdown(\"### Expected marginal means\"); done1$emm_APA$table; display_markdown(\"### Paired comparisons for expected marginal means\"); done1$pairs_APA$table"
   ]
  },
  {
   "cell_type": "code",
   "execution_count": 21,
   "metadata": {},
   "outputs": [
    {
     "name": "stderr",
     "output_type": "stream",
     "text": [
      "Warning message:\n",
      "“Missing values for following ID(s):\n",
      "39mrxm\n",
      "Removing those cases from the analysis.”\n"
     ]
    },
    {
     "data": {
      "text/markdown": [
       "# Condition 4 of 72"
      ]
     },
     "metadata": {},
     "output_type": "display_data"
    },
    {
     "data": {
      "text/markdown": [
       "`tmin0==0.1 & chan0==\"RF\" & mode0==\"neg\"`"
      ]
     },
     "metadata": {},
     "output_type": "display_data"
    },
    {
     "data": {
      "text/markdown": [
       "### Table"
      ]
     },
     "metadata": {},
     "output_type": "display_data"
    },
    {
     "data": {
      "text/html": [
       "<table>\n",
       "<caption>A apa_results_table: 1 × 7</caption>\n",
       "<thead>\n",
       "\t<tr><th></th><th scope=col>Effect</th><th scope=col>F</th><th scope=col>df1</th><th scope=col>df2</th><th scope=col>MSE</th><th scope=col>p</th><th scope=col>ges</th></tr>\n",
       "\t<tr><th></th><th scope=col>&lt;ppj_lbll&gt;</th><th scope=col>&lt;ppj_lbll&gt;</th><th scope=col>&lt;ppj_lbll&gt;</th><th scope=col>&lt;ppj_lbll&gt;</th><th scope=col>&lt;ppj_lbll&gt;</th><th scope=col>&lt;ppj_lbll&gt;</th><th scope=col>&lt;ppj_lbll&gt;</th></tr>\n",
       "</thead>\n",
       "<tbody>\n",
       "\t<tr><th scope=row>1</th><td>Cond0</td><td>0.15</td><td>1.74</td><td>69.46</td><td>0.36</td><td>.828</td><td>.000</td></tr>\n",
       "</tbody>\n",
       "</table>\n"
      ],
      "text/latex": [
       "A apa\\_results\\_table: 1 × 7\n",
       "\\begin{tabular}{r|lllllll}\n",
       "  & Effect & F & df1 & df2 & MSE & p & ges\\\\\n",
       "  & <ppj\\_lbll> & <ppj\\_lbll> & <ppj\\_lbll> & <ppj\\_lbll> & <ppj\\_lbll> & <ppj\\_lbll> & <ppj\\_lbll>\\\\\n",
       "\\hline\n",
       "\t1 & Cond0 & 0.15 & 1.74 & 69.46 & 0.36 & .828 & .000\\\\\n",
       "\\end{tabular}\n"
      ],
      "text/markdown": [
       "\n",
       "A apa_results_table: 1 × 7\n",
       "\n",
       "| <!--/--> | Effect &lt;ppj_lbll&gt; | F &lt;ppj_lbll&gt; | df1 &lt;ppj_lbll&gt; | df2 &lt;ppj_lbll&gt; | MSE &lt;ppj_lbll&gt; | p &lt;ppj_lbll&gt; | ges &lt;ppj_lbll&gt; |\n",
       "|---|---|---|---|---|---|---|---|\n",
       "| 1 | Cond0 | 0.15 | 1.74 | 69.46 | 0.36 | .828 | .000 |\n",
       "\n"
      ],
      "text/plain": [
       "  Effect F    df1  df2   MSE  p    ges \n",
       "1 Cond0  0.15 1.74 69.46 0.36 .828 .000"
      ]
     },
     "metadata": {},
     "output_type": "display_data"
    },
    {
     "data": {
      "text/markdown": [
       "### Result"
      ]
     },
     "metadata": {},
     "output_type": "display_data"
    },
    {
     "data": {
      "text/markdown": [
       "$F(1.74, 69.46) = 0.15$, $\\mathit{MSE} = 0.36$, $p = .828$, $\\hat{\\eta}^2_G = .000$"
      ]
     },
     "metadata": {},
     "output_type": "display_data"
    },
    {
     "data": {
      "text/markdown": [
       "### Summary (all done1, incl. NANs)"
      ]
     },
     "metadata": {},
     "output_type": "display_data"
    },
    {
     "data": {
      "text/html": [
       "<table>\n",
       "<caption>A tibble: 3 × 5</caption>\n",
       "<thead>\n",
       "\t<tr><th scope=col>cond0</th><th scope=col>N</th><th scope=col>valX_M</th><th scope=col>valX_SD</th><th scope=col>valX_SE</th></tr>\n",
       "\t<tr><th scope=col>&lt;fct&gt;</th><th scope=col>&lt;int&gt;</th><th scope=col>&lt;dbl&gt;</th><th scope=col>&lt;dbl&gt;</th><th scope=col>&lt;dbl&gt;</th></tr>\n",
       "</thead>\n",
       "<tbody>\n",
       "\t<tr><td>noun_F</td><td>42</td><td>-2.844659</td><td>1.502761</td><td>0.2318811</td></tr>\n",
       "\t<tr><td>noun_M</td><td>42</td><td>-2.856934</td><td>1.447292</td><td>0.2233220</td></tr>\n",
       "\t<tr><td>verb_X</td><td>41</td><td>-2.849458</td><td>1.580045</td><td>0.2467616</td></tr>\n",
       "</tbody>\n",
       "</table>\n"
      ],
      "text/latex": [
       "A tibble: 3 × 5\n",
       "\\begin{tabular}{lllll}\n",
       " cond0 & N & valX\\_M & valX\\_SD & valX\\_SE\\\\\n",
       " <fct> & <int> & <dbl> & <dbl> & <dbl>\\\\\n",
       "\\hline\n",
       "\t noun\\_F & 42 & -2.844659 & 1.502761 & 0.2318811\\\\\n",
       "\t noun\\_M & 42 & -2.856934 & 1.447292 & 0.2233220\\\\\n",
       "\t verb\\_X & 41 & -2.849458 & 1.580045 & 0.2467616\\\\\n",
       "\\end{tabular}\n"
      ],
      "text/markdown": [
       "\n",
       "A tibble: 3 × 5\n",
       "\n",
       "| cond0 &lt;fct&gt; | N &lt;int&gt; | valX_M &lt;dbl&gt; | valX_SD &lt;dbl&gt; | valX_SE &lt;dbl&gt; |\n",
       "|---|---|---|---|---|\n",
       "| noun_F | 42 | -2.844659 | 1.502761 | 0.2318811 |\n",
       "| noun_M | 42 | -2.856934 | 1.447292 | 0.2233220 |\n",
       "| verb_X | 41 | -2.849458 | 1.580045 | 0.2467616 |\n",
       "\n"
      ],
      "text/plain": [
       "  cond0  N  valX_M    valX_SD  valX_SE  \n",
       "1 noun_F 42 -2.844659 1.502761 0.2318811\n",
       "2 noun_M 42 -2.856934 1.447292 0.2233220\n",
       "3 verb_X 41 -2.849458 1.580045 0.2467616"
      ]
     },
     "metadata": {},
     "output_type": "display_data"
    },
    {
     "data": {
      "text/markdown": [
       "### Expected marginal means"
      ]
     },
     "metadata": {},
     "output_type": "display_data"
    },
    {
     "data": {
      "text/html": [
       "<table>\n",
       "<caption>A apa_results_table: 3 × 5</caption>\n",
       "<thead>\n",
       "\t<tr><th></th><th scope=col>cond0</th><th scope=col>estimate</th><th scope=col>ci</th><th scope=col>statistic</th><th scope=col>p.value</th></tr>\n",
       "\t<tr><th></th><th scope=col>&lt;chr&gt;</th><th scope=col>&lt;ppj_lbll&gt;</th><th scope=col>&lt;ppj_lbll&gt;</th><th scope=col>&lt;ppj_lbll&gt;</th><th scope=col>&lt;ppj_lbll&gt;</th></tr>\n",
       "</thead>\n",
       "<tbody>\n",
       "\t<tr><th scope=row>noun_F</th><td>noun_F</td><td>-2.92</td><td>$[-3.39$, $-2.45]$</td><td>-12.51</td><td>&lt; .001</td></tr>\n",
       "\t<tr><th scope=row>noun_M</th><td>noun_M</td><td>-2.89</td><td>$[-3.36$, $-2.42]$</td><td>-12.38</td><td>&lt; .001</td></tr>\n",
       "\t<tr><th scope=row>verb_X</th><td>verb_X</td><td>-2.85</td><td>$[-3.32$, $-2.38]$</td><td>-12.22</td><td>&lt; .001</td></tr>\n",
       "</tbody>\n",
       "</table>\n"
      ],
      "text/latex": [
       "A apa\\_results\\_table: 3 × 5\n",
       "\\begin{tabular}{r|lllll}\n",
       "  & cond0 & estimate & ci & statistic & p.value\\\\\n",
       "  & <chr> & <ppj\\_lbll> & <ppj\\_lbll> & <ppj\\_lbll> & <ppj\\_lbll>\\\\\n",
       "\\hline\n",
       "\tnoun\\_F & noun\\_F & -2.92 & \\${[}-3.39\\$, \\$-2.45{]}\\$ & -12.51 & < .001\\\\\n",
       "\tnoun\\_M & noun\\_M & -2.89 & \\${[}-3.36\\$, \\$-2.42{]}\\$ & -12.38 & < .001\\\\\n",
       "\tverb\\_X & verb\\_X & -2.85 & \\${[}-3.32\\$, \\$-2.38{]}\\$ & -12.22 & < .001\\\\\n",
       "\\end{tabular}\n"
      ],
      "text/markdown": [
       "\n",
       "A apa_results_table: 3 × 5\n",
       "\n",
       "| <!--/--> | cond0 &lt;chr&gt; | estimate &lt;ppj_lbll&gt; | ci &lt;ppj_lbll&gt; | statistic &lt;ppj_lbll&gt; | p.value &lt;ppj_lbll&gt; |\n",
       "|---|---|---|---|---|---|\n",
       "| noun_F | noun_F | -2.92 | $[-3.39$, $-2.45]$ | -12.51 | &lt; .001 |\n",
       "| noun_M | noun_M | -2.89 | $[-3.36$, $-2.42]$ | -12.38 | &lt; .001 |\n",
       "| verb_X | verb_X | -2.85 | $[-3.32$, $-2.38]$ | -12.22 | &lt; .001 |\n",
       "\n"
      ],
      "text/plain": [
       "       cond0  estimate ci                 statistic p.value\n",
       "noun_F noun_F -2.92    $[-3.39$, $-2.45]$ -12.51    < .001 \n",
       "noun_M noun_M -2.89    $[-3.36$, $-2.42]$ -12.38    < .001 \n",
       "verb_X verb_X -2.85    $[-3.32$, $-2.38]$ -12.22    < .001 "
      ]
     },
     "metadata": {},
     "output_type": "display_data"
    },
    {
     "data": {
      "text/markdown": [
       "### Paired comparisons for expected marginal means"
      ]
     },
     "metadata": {},
     "output_type": "display_data"
    },
    {
     "data": {
      "text/html": [
       "<table>\n",
       "<caption>A apa_results_table: 3 × 5</caption>\n",
       "<thead>\n",
       "\t<tr><th></th><th scope=col>contrast</th><th scope=col>estimate</th><th scope=col>ci</th><th scope=col>statistic</th><th scope=col>p.value</th></tr>\n",
       "\t<tr><th></th><th scope=col>&lt;ppj_lbll&gt;</th><th scope=col>&lt;ppj_lbll&gt;</th><th scope=col>&lt;ppj_lbll&gt;</th><th scope=col>&lt;ppj_lbll&gt;</th><th scope=col>&lt;ppj_lbll&gt;</th></tr>\n",
       "</thead>\n",
       "<tbody>\n",
       "\t<tr><th scope=row>noun_F_noun_M</th><td>noun_F - noun_M</td><td>-0.03</td><td>$[-0.32$, $0.26]$</td><td>-0.25</td><td>.966</td></tr>\n",
       "\t<tr><th scope=row>noun_F_verb_X</th><td>noun_F - verb_X</td><td>-0.07</td><td>$[-0.36$, $0.23]$</td><td>-0.55</td><td>.845</td></tr>\n",
       "\t<tr><th scope=row>noun_M_verb_X</th><td>noun_M - verb_X</td><td>-0.04</td><td>$[-0.33$, $0.26]$</td><td>-0.30</td><td>.950</td></tr>\n",
       "</tbody>\n",
       "</table>\n"
      ],
      "text/latex": [
       "A apa\\_results\\_table: 3 × 5\n",
       "\\begin{tabular}{r|lllll}\n",
       "  & contrast & estimate & ci & statistic & p.value\\\\\n",
       "  & <ppj\\_lbll> & <ppj\\_lbll> & <ppj\\_lbll> & <ppj\\_lbll> & <ppj\\_lbll>\\\\\n",
       "\\hline\n",
       "\tnoun\\_F\\_noun\\_M & noun\\_F - noun\\_M & -0.03 & \\${[}-0.32\\$, \\$0.26{]}\\$ & -0.25 & .966\\\\\n",
       "\tnoun\\_F\\_verb\\_X & noun\\_F - verb\\_X & -0.07 & \\${[}-0.36\\$, \\$0.23{]}\\$ & -0.55 & .845\\\\\n",
       "\tnoun\\_M\\_verb\\_X & noun\\_M - verb\\_X & -0.04 & \\${[}-0.33\\$, \\$0.26{]}\\$ & -0.30 & .950\\\\\n",
       "\\end{tabular}\n"
      ],
      "text/markdown": [
       "\n",
       "A apa_results_table: 3 × 5\n",
       "\n",
       "| <!--/--> | contrast &lt;ppj_lbll&gt; | estimate &lt;ppj_lbll&gt; | ci &lt;ppj_lbll&gt; | statistic &lt;ppj_lbll&gt; | p.value &lt;ppj_lbll&gt; |\n",
       "|---|---|---|---|---|---|\n",
       "| noun_F_noun_M | noun_F - noun_M | -0.03 | $[-0.32$, $0.26]$ | -0.25 | .966 |\n",
       "| noun_F_verb_X | noun_F - verb_X | -0.07 | $[-0.36$, $0.23]$ | -0.55 | .845 |\n",
       "| noun_M_verb_X | noun_M - verb_X | -0.04 | $[-0.33$, $0.26]$ | -0.30 | .950 |\n",
       "\n"
      ],
      "text/plain": [
       "              contrast        estimate ci                statistic p.value\n",
       "noun_F_noun_M noun_F - noun_M -0.03    $[-0.32$, $0.26]$ -0.25     .966   \n",
       "noun_F_verb_X noun_F - verb_X -0.07    $[-0.36$, $0.23]$ -0.55     .845   \n",
       "noun_M_verb_X noun_M - verb_X -0.04    $[-0.33$, $0.26]$ -0.30     .950   "
      ]
     },
     "metadata": {},
     "output_type": "display_data"
    }
   ],
   "source": [
    "IDX <- IDX+1; COND <- CONDS[IDX]\n",
    "data1 <- droplevels(subset(df1, eval(parse(text=COND)))); data1 <- data1[complete.cases(data1),]; done1 <- AOV4(data1,COND)\n",
    "display_markdown(str_c(\"# Condition \",IDX,\" of \",length(CONDS))); display_markdown(done1$info); display_markdown(\"### Table\"); done1$aov_APA$table; display_markdown(\"### Result\"); display_markdown(done1$aov_APA[[\"full_result\"]][[\"cond0\"]]); display_markdown(\"### Summary (all done1, incl. NANs)\"); done1$summary; display_markdown(\"### Expected marginal means\"); done1$emm_APA$table; display_markdown(\"### Paired comparisons for expected marginal means\"); done1$pairs_APA$table"
   ]
  },
  {
   "cell_type": "code",
   "execution_count": 22,
   "metadata": {},
   "outputs": [
    {
     "name": "stderr",
     "output_type": "stream",
     "text": [
      "Warning message:\n",
      "“Missing values for following ID(s):\n",
      "07zrxf, 10mczf, 18skxm, 20jpxf, 22foxm, 32mjxf, 40asxm, 42aszm\n",
      "Removing those cases from the analysis.”\n"
     ]
    },
    {
     "data": {
      "text/markdown": [
       "# Condition 5 of 72"
      ]
     },
     "metadata": {},
     "output_type": "display_data"
    },
    {
     "data": {
      "text/markdown": [
       "`tmin0==0.1 & chan0==\"LC\" & mode0==\"pos\"`"
      ]
     },
     "metadata": {},
     "output_type": "display_data"
    },
    {
     "data": {
      "text/markdown": [
       "### Table"
      ]
     },
     "metadata": {},
     "output_type": "display_data"
    },
    {
     "data": {
      "text/html": [
       "<table>\n",
       "<caption>A apa_results_table: 1 × 7</caption>\n",
       "<thead>\n",
       "\t<tr><th></th><th scope=col>Effect</th><th scope=col>F</th><th scope=col>df1</th><th scope=col>df2</th><th scope=col>MSE</th><th scope=col>p</th><th scope=col>ges</th></tr>\n",
       "\t<tr><th></th><th scope=col>&lt;ppj_lbll&gt;</th><th scope=col>&lt;ppj_lbll&gt;</th><th scope=col>&lt;ppj_lbll&gt;</th><th scope=col>&lt;ppj_lbll&gt;</th><th scope=col>&lt;ppj_lbll&gt;</th><th scope=col>&lt;ppj_lbll&gt;</th><th scope=col>&lt;ppj_lbll&gt;</th></tr>\n",
       "</thead>\n",
       "<tbody>\n",
       "\t<tr><th scope=row>1</th><td>Cond0</td><td>1.81</td><td>1.71</td><td>54.66</td><td>0.25</td><td>.177</td><td>.008</td></tr>\n",
       "</tbody>\n",
       "</table>\n"
      ],
      "text/latex": [
       "A apa\\_results\\_table: 1 × 7\n",
       "\\begin{tabular}{r|lllllll}\n",
       "  & Effect & F & df1 & df2 & MSE & p & ges\\\\\n",
       "  & <ppj\\_lbll> & <ppj\\_lbll> & <ppj\\_lbll> & <ppj\\_lbll> & <ppj\\_lbll> & <ppj\\_lbll> & <ppj\\_lbll>\\\\\n",
       "\\hline\n",
       "\t1 & Cond0 & 1.81 & 1.71 & 54.66 & 0.25 & .177 & .008\\\\\n",
       "\\end{tabular}\n"
      ],
      "text/markdown": [
       "\n",
       "A apa_results_table: 1 × 7\n",
       "\n",
       "| <!--/--> | Effect &lt;ppj_lbll&gt; | F &lt;ppj_lbll&gt; | df1 &lt;ppj_lbll&gt; | df2 &lt;ppj_lbll&gt; | MSE &lt;ppj_lbll&gt; | p &lt;ppj_lbll&gt; | ges &lt;ppj_lbll&gt; |\n",
       "|---|---|---|---|---|---|---|---|\n",
       "| 1 | Cond0 | 1.81 | 1.71 | 54.66 | 0.25 | .177 | .008 |\n",
       "\n"
      ],
      "text/plain": [
       "  Effect F    df1  df2   MSE  p    ges \n",
       "1 Cond0  1.81 1.71 54.66 0.25 .177 .008"
      ]
     },
     "metadata": {},
     "output_type": "display_data"
    },
    {
     "data": {
      "text/markdown": [
       "### Result"
      ]
     },
     "metadata": {},
     "output_type": "display_data"
    },
    {
     "data": {
      "text/markdown": [
       "$F(1.71, 54.66) = 1.81$, $\\mathit{MSE} = 0.25$, $p = .177$, $\\hat{\\eta}^2_G = .008$"
      ]
     },
     "metadata": {},
     "output_type": "display_data"
    },
    {
     "data": {
      "text/markdown": [
       "### Summary (all done1, incl. NANs)"
      ]
     },
     "metadata": {},
     "output_type": "display_data"
    },
    {
     "data": {
      "text/html": [
       "<table>\n",
       "<caption>A tibble: 3 × 5</caption>\n",
       "<thead>\n",
       "\t<tr><th scope=col>cond0</th><th scope=col>N</th><th scope=col>valX_M</th><th scope=col>valX_SD</th><th scope=col>valX_SE</th></tr>\n",
       "\t<tr><th scope=col>&lt;fct&gt;</th><th scope=col>&lt;int&gt;</th><th scope=col>&lt;dbl&gt;</th><th scope=col>&lt;dbl&gt;</th><th scope=col>&lt;dbl&gt;</th></tr>\n",
       "</thead>\n",
       "<tbody>\n",
       "\t<tr><td>noun_F</td><td>39</td><td>0.8265972</td><td>1.1068816</td><td>0.1772429</td></tr>\n",
       "\t<tr><td>noun_M</td><td>38</td><td>0.7272878</td><td>0.9466989</td><td>0.1535748</td></tr>\n",
       "\t<tr><td>verb_X</td><td>37</td><td>0.8233408</td><td>1.1723081</td><td>0.1927263</td></tr>\n",
       "</tbody>\n",
       "</table>\n"
      ],
      "text/latex": [
       "A tibble: 3 × 5\n",
       "\\begin{tabular}{lllll}\n",
       " cond0 & N & valX\\_M & valX\\_SD & valX\\_SE\\\\\n",
       " <fct> & <int> & <dbl> & <dbl> & <dbl>\\\\\n",
       "\\hline\n",
       "\t noun\\_F & 39 & 0.8265972 & 1.1068816 & 0.1772429\\\\\n",
       "\t noun\\_M & 38 & 0.7272878 & 0.9466989 & 0.1535748\\\\\n",
       "\t verb\\_X & 37 & 0.8233408 & 1.1723081 & 0.1927263\\\\\n",
       "\\end{tabular}\n"
      ],
      "text/markdown": [
       "\n",
       "A tibble: 3 × 5\n",
       "\n",
       "| cond0 &lt;fct&gt; | N &lt;int&gt; | valX_M &lt;dbl&gt; | valX_SD &lt;dbl&gt; | valX_SE &lt;dbl&gt; |\n",
       "|---|---|---|---|---|\n",
       "| noun_F | 39 | 0.8265972 | 1.1068816 | 0.1772429 |\n",
       "| noun_M | 38 | 0.7272878 | 0.9466989 | 0.1535748 |\n",
       "| verb_X | 37 | 0.8233408 | 1.1723081 | 0.1927263 |\n",
       "\n"
      ],
      "text/plain": [
       "  cond0  N  valX_M    valX_SD   valX_SE  \n",
       "1 noun_F 39 0.8265972 1.1068816 0.1772429\n",
       "2 noun_M 38 0.7272878 0.9466989 0.1535748\n",
       "3 verb_X 37 0.8233408 1.1723081 0.1927263"
      ]
     },
     "metadata": {},
     "output_type": "display_data"
    },
    {
     "data": {
      "text/markdown": [
       "### Expected marginal means"
      ]
     },
     "metadata": {},
     "output_type": "display_data"
    },
    {
     "data": {
      "text/html": [
       "<table>\n",
       "<caption>A apa_results_table: 3 × 5</caption>\n",
       "<thead>\n",
       "\t<tr><th></th><th scope=col>cond0</th><th scope=col>estimate</th><th scope=col>ci</th><th scope=col>statistic</th><th scope=col>p.value</th></tr>\n",
       "\t<tr><th></th><th scope=col>&lt;chr&gt;</th><th scope=col>&lt;ppj_lbll&gt;</th><th scope=col>&lt;ppj_lbll&gt;</th><th scope=col>&lt;ppj_lbll&gt;</th><th scope=col>&lt;ppj_lbll&gt;</th></tr>\n",
       "</thead>\n",
       "<tbody>\n",
       "\t<tr><th scope=row>noun_F</th><td>noun_F</td><td>0.92</td><td>$[0.56$, $1.28]$</td><td>5.22</td><td>&lt; .001</td></tr>\n",
       "\t<tr><th scope=row>noun_M</th><td>noun_M</td><td>0.73</td><td>$[0.38$, $1.09]$</td><td>4.16</td><td>&lt; .001</td></tr>\n",
       "\t<tr><th scope=row>verb_X</th><td>verb_X</td><td>0.73</td><td>$[0.37$, $1.09]$</td><td>4.14</td><td>&lt; .001</td></tr>\n",
       "</tbody>\n",
       "</table>\n"
      ],
      "text/latex": [
       "A apa\\_results\\_table: 3 × 5\n",
       "\\begin{tabular}{r|lllll}\n",
       "  & cond0 & estimate & ci & statistic & p.value\\\\\n",
       "  & <chr> & <ppj\\_lbll> & <ppj\\_lbll> & <ppj\\_lbll> & <ppj\\_lbll>\\\\\n",
       "\\hline\n",
       "\tnoun\\_F & noun\\_F & 0.92 & \\${[}0.56\\$, \\$1.28{]}\\$ & 5.22 & < .001\\\\\n",
       "\tnoun\\_M & noun\\_M & 0.73 & \\${[}0.38\\$, \\$1.09{]}\\$ & 4.16 & < .001\\\\\n",
       "\tverb\\_X & verb\\_X & 0.73 & \\${[}0.37\\$, \\$1.09{]}\\$ & 4.14 & < .001\\\\\n",
       "\\end{tabular}\n"
      ],
      "text/markdown": [
       "\n",
       "A apa_results_table: 3 × 5\n",
       "\n",
       "| <!--/--> | cond0 &lt;chr&gt; | estimate &lt;ppj_lbll&gt; | ci &lt;ppj_lbll&gt; | statistic &lt;ppj_lbll&gt; | p.value &lt;ppj_lbll&gt; |\n",
       "|---|---|---|---|---|---|\n",
       "| noun_F | noun_F | 0.92 | $[0.56$, $1.28]$ | 5.22 | &lt; .001 |\n",
       "| noun_M | noun_M | 0.73 | $[0.38$, $1.09]$ | 4.16 | &lt; .001 |\n",
       "| verb_X | verb_X | 0.73 | $[0.37$, $1.09]$ | 4.14 | &lt; .001 |\n",
       "\n"
      ],
      "text/plain": [
       "       cond0  estimate ci               statistic p.value\n",
       "noun_F noun_F 0.92     $[0.56$, $1.28]$ 5.22      < .001 \n",
       "noun_M noun_M 0.73     $[0.38$, $1.09]$ 4.16      < .001 \n",
       "verb_X verb_X 0.73     $[0.37$, $1.09]$ 4.14      < .001 "
      ]
     },
     "metadata": {},
     "output_type": "display_data"
    },
    {
     "data": {
      "text/markdown": [
       "### Paired comparisons for expected marginal means"
      ]
     },
     "metadata": {},
     "output_type": "display_data"
    },
    {
     "data": {
      "text/html": [
       "<table>\n",
       "<caption>A apa_results_table: 3 × 5</caption>\n",
       "<thead>\n",
       "\t<tr><th></th><th scope=col>contrast</th><th scope=col>estimate</th><th scope=col>ci</th><th scope=col>statistic</th><th scope=col>p.value</th></tr>\n",
       "\t<tr><th></th><th scope=col>&lt;ppj_lbll&gt;</th><th scope=col>&lt;ppj_lbll&gt;</th><th scope=col>&lt;ppj_lbll&gt;</th><th scope=col>&lt;ppj_lbll&gt;</th><th scope=col>&lt;ppj_lbll&gt;</th></tr>\n",
       "</thead>\n",
       "<tbody>\n",
       "\t<tr><th scope=row>noun_F_noun_M</th><td>noun_F - noun_M</td><td>0.19</td><td>$[-0.09$, $0.46]$</td><td>1.64</td><td>.238  </td></tr>\n",
       "\t<tr><th scope=row>noun_F_verb_X</th><td>noun_F - verb_X</td><td>0.19</td><td>$[-0.08$, $0.47]$</td><td>1.66</td><td>.227  </td></tr>\n",
       "\t<tr><th scope=row>noun_M_verb_X</th><td>noun_M - verb_X</td><td>0.00</td><td>$[-0.27$, $0.28]$</td><td>0.03</td><td>&gt; .999</td></tr>\n",
       "</tbody>\n",
       "</table>\n"
      ],
      "text/latex": [
       "A apa\\_results\\_table: 3 × 5\n",
       "\\begin{tabular}{r|lllll}\n",
       "  & contrast & estimate & ci & statistic & p.value\\\\\n",
       "  & <ppj\\_lbll> & <ppj\\_lbll> & <ppj\\_lbll> & <ppj\\_lbll> & <ppj\\_lbll>\\\\\n",
       "\\hline\n",
       "\tnoun\\_F\\_noun\\_M & noun\\_F - noun\\_M & 0.19 & \\${[}-0.09\\$, \\$0.46{]}\\$ & 1.64 & .238  \\\\\n",
       "\tnoun\\_F\\_verb\\_X & noun\\_F - verb\\_X & 0.19 & \\${[}-0.08\\$, \\$0.47{]}\\$ & 1.66 & .227  \\\\\n",
       "\tnoun\\_M\\_verb\\_X & noun\\_M - verb\\_X & 0.00 & \\${[}-0.27\\$, \\$0.28{]}\\$ & 0.03 & > .999\\\\\n",
       "\\end{tabular}\n"
      ],
      "text/markdown": [
       "\n",
       "A apa_results_table: 3 × 5\n",
       "\n",
       "| <!--/--> | contrast &lt;ppj_lbll&gt; | estimate &lt;ppj_lbll&gt; | ci &lt;ppj_lbll&gt; | statistic &lt;ppj_lbll&gt; | p.value &lt;ppj_lbll&gt; |\n",
       "|---|---|---|---|---|---|\n",
       "| noun_F_noun_M | noun_F - noun_M | 0.19 | $[-0.09$, $0.46]$ | 1.64 | .238   |\n",
       "| noun_F_verb_X | noun_F - verb_X | 0.19 | $[-0.08$, $0.47]$ | 1.66 | .227   |\n",
       "| noun_M_verb_X | noun_M - verb_X | 0.00 | $[-0.27$, $0.28]$ | 0.03 | &gt; .999 |\n",
       "\n"
      ],
      "text/plain": [
       "              contrast        estimate ci                statistic p.value\n",
       "noun_F_noun_M noun_F - noun_M 0.19     $[-0.09$, $0.46]$ 1.64      .238   \n",
       "noun_F_verb_X noun_F - verb_X 0.19     $[-0.08$, $0.47]$ 1.66      .227   \n",
       "noun_M_verb_X noun_M - verb_X 0.00     $[-0.27$, $0.28]$ 0.03      > .999 "
      ]
     },
     "metadata": {},
     "output_type": "display_data"
    }
   ],
   "source": [
    "IDX <- IDX+1; COND <- CONDS[IDX]\n",
    "data1 <- droplevels(subset(df1, eval(parse(text=COND)))); data1 <- data1[complete.cases(data1),]; done1 <- AOV4(data1,COND)\n",
    "display_markdown(str_c(\"# Condition \",IDX,\" of \",length(CONDS))); display_markdown(done1$info); display_markdown(\"### Table\"); done1$aov_APA$table; display_markdown(\"### Result\"); display_markdown(done1$aov_APA[[\"full_result\"]][[\"cond0\"]]); display_markdown(\"### Summary (all done1, incl. NANs)\"); done1$summary; display_markdown(\"### Expected marginal means\"); done1$emm_APA$table; display_markdown(\"### Paired comparisons for expected marginal means\"); done1$pairs_APA$table"
   ]
  },
  {
   "cell_type": "code",
   "execution_count": 23,
   "metadata": {},
   "outputs": [
    {
     "name": "stderr",
     "output_type": "stream",
     "text": [
      "Warning message:\n",
      "“Missing values for following ID(s):\n",
      "15agxf, 40asxm\n",
      "Removing those cases from the analysis.”\n"
     ]
    },
    {
     "data": {
      "text/markdown": [
       "# Condition 6 of 72"
      ]
     },
     "metadata": {},
     "output_type": "display_data"
    },
    {
     "data": {
      "text/markdown": [
       "`tmin0==0.1 & chan0==\"LC\" & mode0==\"neg\"`"
      ]
     },
     "metadata": {},
     "output_type": "display_data"
    },
    {
     "data": {
      "text/markdown": [
       "### Table"
      ]
     },
     "metadata": {},
     "output_type": "display_data"
    },
    {
     "data": {
      "text/html": [
       "<table>\n",
       "<caption>A apa_results_table: 1 × 7</caption>\n",
       "<thead>\n",
       "\t<tr><th></th><th scope=col>Effect</th><th scope=col>F</th><th scope=col>df1</th><th scope=col>df2</th><th scope=col>MSE</th><th scope=col>p</th><th scope=col>ges</th></tr>\n",
       "\t<tr><th></th><th scope=col>&lt;ppj_lbll&gt;</th><th scope=col>&lt;ppj_lbll&gt;</th><th scope=col>&lt;ppj_lbll&gt;</th><th scope=col>&lt;ppj_lbll&gt;</th><th scope=col>&lt;ppj_lbll&gt;</th><th scope=col>&lt;ppj_lbll&gt;</th><th scope=col>&lt;ppj_lbll&gt;</th></tr>\n",
       "</thead>\n",
       "<tbody>\n",
       "\t<tr><th scope=row>1</th><td>Cond0</td><td>1.58</td><td>1.83</td><td>71.44</td><td>0.22</td><td>.214</td><td>.008</td></tr>\n",
       "</tbody>\n",
       "</table>\n"
      ],
      "text/latex": [
       "A apa\\_results\\_table: 1 × 7\n",
       "\\begin{tabular}{r|lllllll}\n",
       "  & Effect & F & df1 & df2 & MSE & p & ges\\\\\n",
       "  & <ppj\\_lbll> & <ppj\\_lbll> & <ppj\\_lbll> & <ppj\\_lbll> & <ppj\\_lbll> & <ppj\\_lbll> & <ppj\\_lbll>\\\\\n",
       "\\hline\n",
       "\t1 & Cond0 & 1.58 & 1.83 & 71.44 & 0.22 & .214 & .008\\\\\n",
       "\\end{tabular}\n"
      ],
      "text/markdown": [
       "\n",
       "A apa_results_table: 1 × 7\n",
       "\n",
       "| <!--/--> | Effect &lt;ppj_lbll&gt; | F &lt;ppj_lbll&gt; | df1 &lt;ppj_lbll&gt; | df2 &lt;ppj_lbll&gt; | MSE &lt;ppj_lbll&gt; | p &lt;ppj_lbll&gt; | ges &lt;ppj_lbll&gt; |\n",
       "|---|---|---|---|---|---|---|---|\n",
       "| 1 | Cond0 | 1.58 | 1.83 | 71.44 | 0.22 | .214 | .008 |\n",
       "\n"
      ],
      "text/plain": [
       "  Effect F    df1  df2   MSE  p    ges \n",
       "1 Cond0  1.58 1.83 71.44 0.22 .214 .008"
      ]
     },
     "metadata": {},
     "output_type": "display_data"
    },
    {
     "data": {
      "text/markdown": [
       "### Result"
      ]
     },
     "metadata": {},
     "output_type": "display_data"
    },
    {
     "data": {
      "text/markdown": [
       "$F(1.83, 71.44) = 1.58$, $\\mathit{MSE} = 0.22$, $p = .214$, $\\hat{\\eta}^2_G = .008$"
      ]
     },
     "metadata": {},
     "output_type": "display_data"
    },
    {
     "data": {
      "text/markdown": [
       "### Summary (all done1, incl. NANs)"
      ]
     },
     "metadata": {},
     "output_type": "display_data"
    },
    {
     "data": {
      "text/html": [
       "<table>\n",
       "<caption>A tibble: 3 × 5</caption>\n",
       "<thead>\n",
       "\t<tr><th scope=col>cond0</th><th scope=col>N</th><th scope=col>valX_M</th><th scope=col>valX_SD</th><th scope=col>valX_SE</th></tr>\n",
       "\t<tr><th scope=col>&lt;fct&gt;</th><th scope=col>&lt;int&gt;</th><th scope=col>&lt;dbl&gt;</th><th scope=col>&lt;dbl&gt;</th><th scope=col>&lt;dbl&gt;</th></tr>\n",
       "</thead>\n",
       "<tbody>\n",
       "\t<tr><td>noun_F</td><td>40</td><td>-1.0114102</td><td>0.8609476</td><td>0.1361278</td></tr>\n",
       "\t<tr><td>noun_M</td><td>42</td><td>-1.0157614</td><td>0.8567596</td><td>0.1322009</td></tr>\n",
       "\t<tr><td>verb_X</td><td>42</td><td>-0.8723053</td><td>0.8240753</td><td>0.1271576</td></tr>\n",
       "</tbody>\n",
       "</table>\n"
      ],
      "text/latex": [
       "A tibble: 3 × 5\n",
       "\\begin{tabular}{lllll}\n",
       " cond0 & N & valX\\_M & valX\\_SD & valX\\_SE\\\\\n",
       " <fct> & <int> & <dbl> & <dbl> & <dbl>\\\\\n",
       "\\hline\n",
       "\t noun\\_F & 40 & -1.0114102 & 0.8609476 & 0.1361278\\\\\n",
       "\t noun\\_M & 42 & -1.0157614 & 0.8567596 & 0.1322009\\\\\n",
       "\t verb\\_X & 42 & -0.8723053 & 0.8240753 & 0.1271576\\\\\n",
       "\\end{tabular}\n"
      ],
      "text/markdown": [
       "\n",
       "A tibble: 3 × 5\n",
       "\n",
       "| cond0 &lt;fct&gt; | N &lt;int&gt; | valX_M &lt;dbl&gt; | valX_SD &lt;dbl&gt; | valX_SE &lt;dbl&gt; |\n",
       "|---|---|---|---|---|\n",
       "| noun_F | 40 | -1.0114102 | 0.8609476 | 0.1361278 |\n",
       "| noun_M | 42 | -1.0157614 | 0.8567596 | 0.1322009 |\n",
       "| verb_X | 42 | -0.8723053 | 0.8240753 | 0.1271576 |\n",
       "\n"
      ],
      "text/plain": [
       "  cond0  N  valX_M     valX_SD   valX_SE  \n",
       "1 noun_F 40 -1.0114102 0.8609476 0.1361278\n",
       "2 noun_M 42 -1.0157614 0.8567596 0.1322009\n",
       "3 verb_X 42 -0.8723053 0.8240753 0.1271576"
      ]
     },
     "metadata": {},
     "output_type": "display_data"
    },
    {
     "data": {
      "text/markdown": [
       "### Expected marginal means"
      ]
     },
     "metadata": {},
     "output_type": "display_data"
    },
    {
     "data": {
      "text/html": [
       "<table>\n",
       "<caption>A apa_results_table: 3 × 5</caption>\n",
       "<thead>\n",
       "\t<tr><th></th><th scope=col>cond0</th><th scope=col>estimate</th><th scope=col>ci</th><th scope=col>statistic</th><th scope=col>p.value</th></tr>\n",
       "\t<tr><th></th><th scope=col>&lt;chr&gt;</th><th scope=col>&lt;ppj_lbll&gt;</th><th scope=col>&lt;ppj_lbll&gt;</th><th scope=col>&lt;ppj_lbll&gt;</th><th scope=col>&lt;ppj_lbll&gt;</th></tr>\n",
       "</thead>\n",
       "<tbody>\n",
       "\t<tr><th scope=row>noun_F</th><td>noun_F</td><td>-1.01</td><td>$[-1.28$, $-0.75]$</td><td>-7.66</td><td>&lt; .001</td></tr>\n",
       "\t<tr><th scope=row>noun_M</th><td>noun_M</td><td>-1.04</td><td>$[-1.31$, $-0.78]$</td><td>-7.90</td><td>&lt; .001</td></tr>\n",
       "\t<tr><th scope=row>verb_X</th><td>verb_X</td><td>-0.87</td><td>$[-1.14$, $-0.61]$</td><td>-6.62</td><td>&lt; .001</td></tr>\n",
       "</tbody>\n",
       "</table>\n"
      ],
      "text/latex": [
       "A apa\\_results\\_table: 3 × 5\n",
       "\\begin{tabular}{r|lllll}\n",
       "  & cond0 & estimate & ci & statistic & p.value\\\\\n",
       "  & <chr> & <ppj\\_lbll> & <ppj\\_lbll> & <ppj\\_lbll> & <ppj\\_lbll>\\\\\n",
       "\\hline\n",
       "\tnoun\\_F & noun\\_F & -1.01 & \\${[}-1.28\\$, \\$-0.75{]}\\$ & -7.66 & < .001\\\\\n",
       "\tnoun\\_M & noun\\_M & -1.04 & \\${[}-1.31\\$, \\$-0.78{]}\\$ & -7.90 & < .001\\\\\n",
       "\tverb\\_X & verb\\_X & -0.87 & \\${[}-1.14\\$, \\$-0.61{]}\\$ & -6.62 & < .001\\\\\n",
       "\\end{tabular}\n"
      ],
      "text/markdown": [
       "\n",
       "A apa_results_table: 3 × 5\n",
       "\n",
       "| <!--/--> | cond0 &lt;chr&gt; | estimate &lt;ppj_lbll&gt; | ci &lt;ppj_lbll&gt; | statistic &lt;ppj_lbll&gt; | p.value &lt;ppj_lbll&gt; |\n",
       "|---|---|---|---|---|---|\n",
       "| noun_F | noun_F | -1.01 | $[-1.28$, $-0.75]$ | -7.66 | &lt; .001 |\n",
       "| noun_M | noun_M | -1.04 | $[-1.31$, $-0.78]$ | -7.90 | &lt; .001 |\n",
       "| verb_X | verb_X | -0.87 | $[-1.14$, $-0.61]$ | -6.62 | &lt; .001 |\n",
       "\n"
      ],
      "text/plain": [
       "       cond0  estimate ci                 statistic p.value\n",
       "noun_F noun_F -1.01    $[-1.28$, $-0.75]$ -7.66     < .001 \n",
       "noun_M noun_M -1.04    $[-1.31$, $-0.78]$ -7.90     < .001 \n",
       "verb_X verb_X -0.87    $[-1.14$, $-0.61]$ -6.62     < .001 "
      ]
     },
     "metadata": {},
     "output_type": "display_data"
    },
    {
     "data": {
      "text/markdown": [
       "### Paired comparisons for expected marginal means"
      ]
     },
     "metadata": {},
     "output_type": "display_data"
    },
    {
     "data": {
      "text/html": [
       "<table>\n",
       "<caption>A apa_results_table: 3 × 5</caption>\n",
       "<thead>\n",
       "\t<tr><th></th><th scope=col>contrast</th><th scope=col>estimate</th><th scope=col>ci</th><th scope=col>statistic</th><th scope=col>p.value</th></tr>\n",
       "\t<tr><th></th><th scope=col>&lt;ppj_lbll&gt;</th><th scope=col>&lt;ppj_lbll&gt;</th><th scope=col>&lt;ppj_lbll&gt;</th><th scope=col>&lt;ppj_lbll&gt;</th><th scope=col>&lt;ppj_lbll&gt;</th></tr>\n",
       "</thead>\n",
       "<tbody>\n",
       "\t<tr><th scope=row>noun_F_noun_M</th><td>noun_F - noun_M</td><td>0.03 </td><td>$[-0.21$, $0.27]$</td><td>0.31 </td><td>.948</td></tr>\n",
       "\t<tr><th scope=row>noun_F_verb_X</th><td>noun_F - verb_X</td><td>-0.14</td><td>$[-0.38$, $0.10]$</td><td>-1.36</td><td>.366</td></tr>\n",
       "\t<tr><th scope=row>noun_M_verb_X</th><td>noun_M - verb_X</td><td>-0.17</td><td>$[-0.41$, $0.07]$</td><td>-1.67</td><td>.222</td></tr>\n",
       "</tbody>\n",
       "</table>\n"
      ],
      "text/latex": [
       "A apa\\_results\\_table: 3 × 5\n",
       "\\begin{tabular}{r|lllll}\n",
       "  & contrast & estimate & ci & statistic & p.value\\\\\n",
       "  & <ppj\\_lbll> & <ppj\\_lbll> & <ppj\\_lbll> & <ppj\\_lbll> & <ppj\\_lbll>\\\\\n",
       "\\hline\n",
       "\tnoun\\_F\\_noun\\_M & noun\\_F - noun\\_M & 0.03  & \\${[}-0.21\\$, \\$0.27{]}\\$ & 0.31  & .948\\\\\n",
       "\tnoun\\_F\\_verb\\_X & noun\\_F - verb\\_X & -0.14 & \\${[}-0.38\\$, \\$0.10{]}\\$ & -1.36 & .366\\\\\n",
       "\tnoun\\_M\\_verb\\_X & noun\\_M - verb\\_X & -0.17 & \\${[}-0.41\\$, \\$0.07{]}\\$ & -1.67 & .222\\\\\n",
       "\\end{tabular}\n"
      ],
      "text/markdown": [
       "\n",
       "A apa_results_table: 3 × 5\n",
       "\n",
       "| <!--/--> | contrast &lt;ppj_lbll&gt; | estimate &lt;ppj_lbll&gt; | ci &lt;ppj_lbll&gt; | statistic &lt;ppj_lbll&gt; | p.value &lt;ppj_lbll&gt; |\n",
       "|---|---|---|---|---|---|\n",
       "| noun_F_noun_M | noun_F - noun_M | 0.03  | $[-0.21$, $0.27]$ | 0.31  | .948 |\n",
       "| noun_F_verb_X | noun_F - verb_X | -0.14 | $[-0.38$, $0.10]$ | -1.36 | .366 |\n",
       "| noun_M_verb_X | noun_M - verb_X | -0.17 | $[-0.41$, $0.07]$ | -1.67 | .222 |\n",
       "\n"
      ],
      "text/plain": [
       "              contrast        estimate ci                statistic p.value\n",
       "noun_F_noun_M noun_F - noun_M 0.03     $[-0.21$, $0.27]$ 0.31      .948   \n",
       "noun_F_verb_X noun_F - verb_X -0.14    $[-0.38$, $0.10]$ -1.36     .366   \n",
       "noun_M_verb_X noun_M - verb_X -0.17    $[-0.41$, $0.07]$ -1.67     .222   "
      ]
     },
     "metadata": {},
     "output_type": "display_data"
    }
   ],
   "source": [
    "IDX <- IDX+1; COND <- CONDS[IDX]\n",
    "data1 <- droplevels(subset(df1, eval(parse(text=COND)))); data1 <- data1[complete.cases(data1),]; done1 <- AOV4(data1,COND)\n",
    "display_markdown(str_c(\"# Condition \",IDX,\" of \",length(CONDS))); display_markdown(done1$info); display_markdown(\"### Table\"); done1$aov_APA$table; display_markdown(\"### Result\"); display_markdown(done1$aov_APA[[\"full_result\"]][[\"cond0\"]]); display_markdown(\"### Summary (all done1, incl. NANs)\"); done1$summary; display_markdown(\"### Expected marginal means\"); done1$emm_APA$table; display_markdown(\"### Paired comparisons for expected marginal means\"); done1$pairs_APA$table"
   ]
  },
  {
   "cell_type": "code",
   "execution_count": 24,
   "metadata": {},
   "outputs": [
    {
     "name": "stderr",
     "output_type": "stream",
     "text": [
      "Warning message:\n",
      "“Missing values for following ID(s):\n",
      "10mczf, 18skxm, 26mwxf, 27zgxf\n",
      "Removing those cases from the analysis.”\n"
     ]
    },
    {
     "data": {
      "text/markdown": [
       "# Condition 7 of 72"
      ]
     },
     "metadata": {},
     "output_type": "display_data"
    },
    {
     "data": {
      "text/markdown": [
       "`tmin0==0.1 & chan0==\"RC\" & mode0==\"pos\"`"
      ]
     },
     "metadata": {},
     "output_type": "display_data"
    },
    {
     "data": {
      "text/markdown": [
       "### Table"
      ]
     },
     "metadata": {},
     "output_type": "display_data"
    },
    {
     "data": {
      "text/html": [
       "<table>\n",
       "<caption>A apa_results_table: 1 × 7</caption>\n",
       "<thead>\n",
       "\t<tr><th></th><th scope=col>Effect</th><th scope=col>F</th><th scope=col>df1</th><th scope=col>df2</th><th scope=col>MSE</th><th scope=col>p</th><th scope=col>ges</th></tr>\n",
       "\t<tr><th></th><th scope=col>&lt;ppj_lbll&gt;</th><th scope=col>&lt;ppj_lbll&gt;</th><th scope=col>&lt;ppj_lbll&gt;</th><th scope=col>&lt;ppj_lbll&gt;</th><th scope=col>&lt;ppj_lbll&gt;</th><th scope=col>&lt;ppj_lbll&gt;</th><th scope=col>&lt;ppj_lbll&gt;</th></tr>\n",
       "</thead>\n",
       "<tbody>\n",
       "\t<tr><th scope=row>1</th><td>Cond0</td><td>0.48</td><td>1.88</td><td>69.74</td><td>0.21</td><td>.610</td><td>.002</td></tr>\n",
       "</tbody>\n",
       "</table>\n"
      ],
      "text/latex": [
       "A apa\\_results\\_table: 1 × 7\n",
       "\\begin{tabular}{r|lllllll}\n",
       "  & Effect & F & df1 & df2 & MSE & p & ges\\\\\n",
       "  & <ppj\\_lbll> & <ppj\\_lbll> & <ppj\\_lbll> & <ppj\\_lbll> & <ppj\\_lbll> & <ppj\\_lbll> & <ppj\\_lbll>\\\\\n",
       "\\hline\n",
       "\t1 & Cond0 & 0.48 & 1.88 & 69.74 & 0.21 & .610 & .002\\\\\n",
       "\\end{tabular}\n"
      ],
      "text/markdown": [
       "\n",
       "A apa_results_table: 1 × 7\n",
       "\n",
       "| <!--/--> | Effect &lt;ppj_lbll&gt; | F &lt;ppj_lbll&gt; | df1 &lt;ppj_lbll&gt; | df2 &lt;ppj_lbll&gt; | MSE &lt;ppj_lbll&gt; | p &lt;ppj_lbll&gt; | ges &lt;ppj_lbll&gt; |\n",
       "|---|---|---|---|---|---|---|---|\n",
       "| 1 | Cond0 | 0.48 | 1.88 | 69.74 | 0.21 | .610 | .002 |\n",
       "\n"
      ],
      "text/plain": [
       "  Effect F    df1  df2   MSE  p    ges \n",
       "1 Cond0  0.48 1.88 69.74 0.21 .610 .002"
      ]
     },
     "metadata": {},
     "output_type": "display_data"
    },
    {
     "data": {
      "text/markdown": [
       "### Result"
      ]
     },
     "metadata": {},
     "output_type": "display_data"
    },
    {
     "data": {
      "text/markdown": [
       "$F(1.88, 69.74) = 0.48$, $\\mathit{MSE} = 0.21$, $p = .610$, $\\hat{\\eta}^2_G = .002$"
      ]
     },
     "metadata": {},
     "output_type": "display_data"
    },
    {
     "data": {
      "text/markdown": [
       "### Summary (all done1, incl. NANs)"
      ]
     },
     "metadata": {},
     "output_type": "display_data"
    },
    {
     "data": {
      "text/html": [
       "<table>\n",
       "<caption>A tibble: 3 × 5</caption>\n",
       "<thead>\n",
       "\t<tr><th scope=col>cond0</th><th scope=col>N</th><th scope=col>valX_M</th><th scope=col>valX_SD</th><th scope=col>valX_SE</th></tr>\n",
       "\t<tr><th scope=col>&lt;fct&gt;</th><th scope=col>&lt;int&gt;</th><th scope=col>&lt;dbl&gt;</th><th scope=col>&lt;dbl&gt;</th><th scope=col>&lt;dbl&gt;</th></tr>\n",
       "</thead>\n",
       "<tbody>\n",
       "\t<tr><td>noun_F</td><td>41</td><td>1.0774069</td><td>0.904685</td><td>0.1412881</td></tr>\n",
       "\t<tr><td>noun_M</td><td>40</td><td>0.9021337</td><td>1.053093</td><td>0.1665087</td></tr>\n",
       "\t<tr><td>verb_X</td><td>40</td><td>1.0499630</td><td>1.190883</td><td>0.1882952</td></tr>\n",
       "</tbody>\n",
       "</table>\n"
      ],
      "text/latex": [
       "A tibble: 3 × 5\n",
       "\\begin{tabular}{lllll}\n",
       " cond0 & N & valX\\_M & valX\\_SD & valX\\_SE\\\\\n",
       " <fct> & <int> & <dbl> & <dbl> & <dbl>\\\\\n",
       "\\hline\n",
       "\t noun\\_F & 41 & 1.0774069 & 0.904685 & 0.1412881\\\\\n",
       "\t noun\\_M & 40 & 0.9021337 & 1.053093 & 0.1665087\\\\\n",
       "\t verb\\_X & 40 & 1.0499630 & 1.190883 & 0.1882952\\\\\n",
       "\\end{tabular}\n"
      ],
      "text/markdown": [
       "\n",
       "A tibble: 3 × 5\n",
       "\n",
       "| cond0 &lt;fct&gt; | N &lt;int&gt; | valX_M &lt;dbl&gt; | valX_SD &lt;dbl&gt; | valX_SE &lt;dbl&gt; |\n",
       "|---|---|---|---|---|\n",
       "| noun_F | 41 | 1.0774069 | 0.904685 | 0.1412881 |\n",
       "| noun_M | 40 | 0.9021337 | 1.053093 | 0.1665087 |\n",
       "| verb_X | 40 | 1.0499630 | 1.190883 | 0.1882952 |\n",
       "\n"
      ],
      "text/plain": [
       "  cond0  N  valX_M    valX_SD  valX_SE  \n",
       "1 noun_F 41 1.0774069 0.904685 0.1412881\n",
       "2 noun_M 40 0.9021337 1.053093 0.1665087\n",
       "3 verb_X 40 1.0499630 1.190883 0.1882952"
      ]
     },
     "metadata": {},
     "output_type": "display_data"
    },
    {
     "data": {
      "text/markdown": [
       "### Expected marginal means"
      ]
     },
     "metadata": {},
     "output_type": "display_data"
    },
    {
     "data": {
      "text/html": [
       "<table>\n",
       "<caption>A apa_results_table: 3 × 5</caption>\n",
       "<thead>\n",
       "\t<tr><th></th><th scope=col>cond0</th><th scope=col>estimate</th><th scope=col>ci</th><th scope=col>statistic</th><th scope=col>p.value</th></tr>\n",
       "\t<tr><th></th><th scope=col>&lt;chr&gt;</th><th scope=col>&lt;ppj_lbll&gt;</th><th scope=col>&lt;ppj_lbll&gt;</th><th scope=col>&lt;ppj_lbll&gt;</th><th scope=col>&lt;ppj_lbll&gt;</th></tr>\n",
       "</thead>\n",
       "<tbody>\n",
       "\t<tr><th scope=row>noun_F</th><td>noun_F</td><td>1.08</td><td>$[0.74$, $1.41]$</td><td>6.43</td><td>&lt; .001</td></tr>\n",
       "\t<tr><th scope=row>noun_M</th><td>noun_M</td><td>0.98</td><td>$[0.64$, $1.31]$</td><td>5.84</td><td>&lt; .001</td></tr>\n",
       "\t<tr><th scope=row>verb_X</th><td>verb_X</td><td>1.02</td><td>$[0.68$, $1.35]$</td><td>6.07</td><td>&lt; .001</td></tr>\n",
       "</tbody>\n",
       "</table>\n"
      ],
      "text/latex": [
       "A apa\\_results\\_table: 3 × 5\n",
       "\\begin{tabular}{r|lllll}\n",
       "  & cond0 & estimate & ci & statistic & p.value\\\\\n",
       "  & <chr> & <ppj\\_lbll> & <ppj\\_lbll> & <ppj\\_lbll> & <ppj\\_lbll>\\\\\n",
       "\\hline\n",
       "\tnoun\\_F & noun\\_F & 1.08 & \\${[}0.74\\$, \\$1.41{]}\\$ & 6.43 & < .001\\\\\n",
       "\tnoun\\_M & noun\\_M & 0.98 & \\${[}0.64\\$, \\$1.31{]}\\$ & 5.84 & < .001\\\\\n",
       "\tverb\\_X & verb\\_X & 1.02 & \\${[}0.68\\$, \\$1.35{]}\\$ & 6.07 & < .001\\\\\n",
       "\\end{tabular}\n"
      ],
      "text/markdown": [
       "\n",
       "A apa_results_table: 3 × 5\n",
       "\n",
       "| <!--/--> | cond0 &lt;chr&gt; | estimate &lt;ppj_lbll&gt; | ci &lt;ppj_lbll&gt; | statistic &lt;ppj_lbll&gt; | p.value &lt;ppj_lbll&gt; |\n",
       "|---|---|---|---|---|---|\n",
       "| noun_F | noun_F | 1.08 | $[0.74$, $1.41]$ | 6.43 | &lt; .001 |\n",
       "| noun_M | noun_M | 0.98 | $[0.64$, $1.31]$ | 5.84 | &lt; .001 |\n",
       "| verb_X | verb_X | 1.02 | $[0.68$, $1.35]$ | 6.07 | &lt; .001 |\n",
       "\n"
      ],
      "text/plain": [
       "       cond0  estimate ci               statistic p.value\n",
       "noun_F noun_F 1.08     $[0.74$, $1.41]$ 6.43      < .001 \n",
       "noun_M noun_M 0.98     $[0.64$, $1.31]$ 5.84      < .001 \n",
       "verb_X verb_X 1.02     $[0.68$, $1.35]$ 6.07      < .001 "
      ]
     },
     "metadata": {},
     "output_type": "display_data"
    },
    {
     "data": {
      "text/markdown": [
       "### Paired comparisons for expected marginal means"
      ]
     },
     "metadata": {},
     "output_type": "display_data"
    },
    {
     "data": {
      "text/html": [
       "<table>\n",
       "<caption>A apa_results_table: 3 × 5</caption>\n",
       "<thead>\n",
       "\t<tr><th></th><th scope=col>contrast</th><th scope=col>estimate</th><th scope=col>ci</th><th scope=col>statistic</th><th scope=col>p.value</th></tr>\n",
       "\t<tr><th></th><th scope=col>&lt;ppj_lbll&gt;</th><th scope=col>&lt;ppj_lbll&gt;</th><th scope=col>&lt;ppj_lbll&gt;</th><th scope=col>&lt;ppj_lbll&gt;</th><th scope=col>&lt;ppj_lbll&gt;</th></tr>\n",
       "</thead>\n",
       "<tbody>\n",
       "\t<tr><th scope=row>noun_F_noun_M</th><td>noun_F - noun_M</td><td>0.10 </td><td>$[-0.14$, $0.34]$</td><td>0.97 </td><td>.597</td></tr>\n",
       "\t<tr><th scope=row>noun_F_verb_X</th><td>noun_F - verb_X</td><td>0.06 </td><td>$[-0.18$, $0.30]$</td><td>0.59 </td><td>.826</td></tr>\n",
       "\t<tr><th scope=row>noun_M_verb_X</th><td>noun_M - verb_X</td><td>-0.04</td><td>$[-0.28$, $0.20]$</td><td>-0.38</td><td>.923</td></tr>\n",
       "</tbody>\n",
       "</table>\n"
      ],
      "text/latex": [
       "A apa\\_results\\_table: 3 × 5\n",
       "\\begin{tabular}{r|lllll}\n",
       "  & contrast & estimate & ci & statistic & p.value\\\\\n",
       "  & <ppj\\_lbll> & <ppj\\_lbll> & <ppj\\_lbll> & <ppj\\_lbll> & <ppj\\_lbll>\\\\\n",
       "\\hline\n",
       "\tnoun\\_F\\_noun\\_M & noun\\_F - noun\\_M & 0.10  & \\${[}-0.14\\$, \\$0.34{]}\\$ & 0.97  & .597\\\\\n",
       "\tnoun\\_F\\_verb\\_X & noun\\_F - verb\\_X & 0.06  & \\${[}-0.18\\$, \\$0.30{]}\\$ & 0.59  & .826\\\\\n",
       "\tnoun\\_M\\_verb\\_X & noun\\_M - verb\\_X & -0.04 & \\${[}-0.28\\$, \\$0.20{]}\\$ & -0.38 & .923\\\\\n",
       "\\end{tabular}\n"
      ],
      "text/markdown": [
       "\n",
       "A apa_results_table: 3 × 5\n",
       "\n",
       "| <!--/--> | contrast &lt;ppj_lbll&gt; | estimate &lt;ppj_lbll&gt; | ci &lt;ppj_lbll&gt; | statistic &lt;ppj_lbll&gt; | p.value &lt;ppj_lbll&gt; |\n",
       "|---|---|---|---|---|---|\n",
       "| noun_F_noun_M | noun_F - noun_M | 0.10  | $[-0.14$, $0.34]$ | 0.97  | .597 |\n",
       "| noun_F_verb_X | noun_F - verb_X | 0.06  | $[-0.18$, $0.30]$ | 0.59  | .826 |\n",
       "| noun_M_verb_X | noun_M - verb_X | -0.04 | $[-0.28$, $0.20]$ | -0.38 | .923 |\n",
       "\n"
      ],
      "text/plain": [
       "              contrast        estimate ci                statistic p.value\n",
       "noun_F_noun_M noun_F - noun_M 0.10     $[-0.14$, $0.34]$ 0.97      .597   \n",
       "noun_F_verb_X noun_F - verb_X 0.06     $[-0.18$, $0.30]$ 0.59      .826   \n",
       "noun_M_verb_X noun_M - verb_X -0.04    $[-0.28$, $0.20]$ -0.38     .923   "
      ]
     },
     "metadata": {},
     "output_type": "display_data"
    }
   ],
   "source": [
    "IDX <- IDX+1; COND <- CONDS[IDX]\n",
    "data1 <- droplevels(subset(df1, eval(parse(text=COND)))); data1 <- data1[complete.cases(data1),]; done1 <- AOV4(data1,COND)\n",
    "display_markdown(str_c(\"# Condition \",IDX,\" of \",length(CONDS))); display_markdown(done1$info); display_markdown(\"### Table\"); done1$aov_APA$table; display_markdown(\"### Result\"); display_markdown(done1$aov_APA[[\"full_result\"]][[\"cond0\"]]); display_markdown(\"### Summary (all done1, incl. NANs)\"); done1$summary; display_markdown(\"### Expected marginal means\"); done1$emm_APA$table; display_markdown(\"### Paired comparisons for expected marginal means\"); done1$pairs_APA$table"
   ]
  },
  {
   "cell_type": "code",
   "execution_count": 25,
   "metadata": {},
   "outputs": [
    {
     "name": "stderr",
     "output_type": "stream",
     "text": [
      "Warning message:\n",
      "“Missing values for following ID(s):\n",
      "03mjkf, 05jwxf, 12jnxf, 22foxm, 23zdxf, 24jkxf, 34gsxm, 39mrxm\n",
      "Removing those cases from the analysis.”\n"
     ]
    },
    {
     "data": {
      "text/markdown": [
       "# Condition 8 of 72"
      ]
     },
     "metadata": {},
     "output_type": "display_data"
    },
    {
     "data": {
      "text/markdown": [
       "`tmin0==0.1 & chan0==\"RC\" & mode0==\"neg\"`"
      ]
     },
     "metadata": {},
     "output_type": "display_data"
    },
    {
     "data": {
      "text/markdown": [
       "### Table"
      ]
     },
     "metadata": {},
     "output_type": "display_data"
    },
    {
     "data": {
      "text/html": [
       "<table>\n",
       "<caption>A apa_results_table: 1 × 7</caption>\n",
       "<thead>\n",
       "\t<tr><th></th><th scope=col>Effect</th><th scope=col>F</th><th scope=col>df1</th><th scope=col>df2</th><th scope=col>MSE</th><th scope=col>p</th><th scope=col>ges</th></tr>\n",
       "\t<tr><th></th><th scope=col>&lt;ppj_lbll&gt;</th><th scope=col>&lt;ppj_lbll&gt;</th><th scope=col>&lt;ppj_lbll&gt;</th><th scope=col>&lt;ppj_lbll&gt;</th><th scope=col>&lt;ppj_lbll&gt;</th><th scope=col>&lt;ppj_lbll&gt;</th><th scope=col>&lt;ppj_lbll&gt;</th></tr>\n",
       "</thead>\n",
       "<tbody>\n",
       "\t<tr><th scope=row>1</th><td>Cond0</td><td>2.13</td><td>1.73</td><td>55.46</td><td>0.38</td><td>.135</td><td>.020</td></tr>\n",
       "</tbody>\n",
       "</table>\n"
      ],
      "text/latex": [
       "A apa\\_results\\_table: 1 × 7\n",
       "\\begin{tabular}{r|lllllll}\n",
       "  & Effect & F & df1 & df2 & MSE & p & ges\\\\\n",
       "  & <ppj\\_lbll> & <ppj\\_lbll> & <ppj\\_lbll> & <ppj\\_lbll> & <ppj\\_lbll> & <ppj\\_lbll> & <ppj\\_lbll>\\\\\n",
       "\\hline\n",
       "\t1 & Cond0 & 2.13 & 1.73 & 55.46 & 0.38 & .135 & .020\\\\\n",
       "\\end{tabular}\n"
      ],
      "text/markdown": [
       "\n",
       "A apa_results_table: 1 × 7\n",
       "\n",
       "| <!--/--> | Effect &lt;ppj_lbll&gt; | F &lt;ppj_lbll&gt; | df1 &lt;ppj_lbll&gt; | df2 &lt;ppj_lbll&gt; | MSE &lt;ppj_lbll&gt; | p &lt;ppj_lbll&gt; | ges &lt;ppj_lbll&gt; |\n",
       "|---|---|---|---|---|---|---|---|\n",
       "| 1 | Cond0 | 2.13 | 1.73 | 55.46 | 0.38 | .135 | .020 |\n",
       "\n"
      ],
      "text/plain": [
       "  Effect F    df1  df2   MSE  p    ges \n",
       "1 Cond0  2.13 1.73 55.46 0.38 .135 .020"
      ]
     },
     "metadata": {},
     "output_type": "display_data"
    },
    {
     "data": {
      "text/markdown": [
       "### Result"
      ]
     },
     "metadata": {},
     "output_type": "display_data"
    },
    {
     "data": {
      "text/markdown": [
       "$F(1.73, 55.46) = 2.13$, $\\mathit{MSE} = 0.38$, $p = .135$, $\\hat{\\eta}^2_G = .020$"
      ]
     },
     "metadata": {},
     "output_type": "display_data"
    },
    {
     "data": {
      "text/markdown": [
       "### Summary (all done1, incl. NANs)"
      ]
     },
     "metadata": {},
     "output_type": "display_data"
    },
    {
     "data": {
      "text/html": [
       "<table>\n",
       "<caption>A tibble: 3 × 5</caption>\n",
       "<thead>\n",
       "\t<tr><th scope=col>cond0</th><th scope=col>N</th><th scope=col>valX_M</th><th scope=col>valX_SD</th><th scope=col>valX_SE</th></tr>\n",
       "\t<tr><th scope=col>&lt;fct&gt;</th><th scope=col>&lt;int&gt;</th><th scope=col>&lt;dbl&gt;</th><th scope=col>&lt;dbl&gt;</th><th scope=col>&lt;dbl&gt;</th></tr>\n",
       "</thead>\n",
       "<tbody>\n",
       "\t<tr><td>noun_F</td><td>38</td><td>-0.6989812</td><td>0.8945182</td><td>0.1451100</td></tr>\n",
       "\t<tr><td>noun_M</td><td>38</td><td>-0.7811927</td><td>0.8623121</td><td>0.1398855</td></tr>\n",
       "\t<tr><td>verb_X</td><td>37</td><td>-0.4974695</td><td>0.9977210</td><td>0.1640243</td></tr>\n",
       "</tbody>\n",
       "</table>\n"
      ],
      "text/latex": [
       "A tibble: 3 × 5\n",
       "\\begin{tabular}{lllll}\n",
       " cond0 & N & valX\\_M & valX\\_SD & valX\\_SE\\\\\n",
       " <fct> & <int> & <dbl> & <dbl> & <dbl>\\\\\n",
       "\\hline\n",
       "\t noun\\_F & 38 & -0.6989812 & 0.8945182 & 0.1451100\\\\\n",
       "\t noun\\_M & 38 & -0.7811927 & 0.8623121 & 0.1398855\\\\\n",
       "\t verb\\_X & 37 & -0.4974695 & 0.9977210 & 0.1640243\\\\\n",
       "\\end{tabular}\n"
      ],
      "text/markdown": [
       "\n",
       "A tibble: 3 × 5\n",
       "\n",
       "| cond0 &lt;fct&gt; | N &lt;int&gt; | valX_M &lt;dbl&gt; | valX_SD &lt;dbl&gt; | valX_SE &lt;dbl&gt; |\n",
       "|---|---|---|---|---|\n",
       "| noun_F | 38 | -0.6989812 | 0.8945182 | 0.1451100 |\n",
       "| noun_M | 38 | -0.7811927 | 0.8623121 | 0.1398855 |\n",
       "| verb_X | 37 | -0.4974695 | 0.9977210 | 0.1640243 |\n",
       "\n"
      ],
      "text/plain": [
       "  cond0  N  valX_M     valX_SD   valX_SE  \n",
       "1 noun_F 38 -0.6989812 0.8945182 0.1451100\n",
       "2 noun_M 38 -0.7811927 0.8623121 0.1398855\n",
       "3 verb_X 37 -0.4974695 0.9977210 0.1640243"
      ]
     },
     "metadata": {},
     "output_type": "display_data"
    },
    {
     "data": {
      "text/markdown": [
       "### Expected marginal means"
      ]
     },
     "metadata": {},
     "output_type": "display_data"
    },
    {
     "data": {
      "text/html": [
       "<table>\n",
       "<caption>A apa_results_table: 3 × 5</caption>\n",
       "<thead>\n",
       "\t<tr><th></th><th scope=col>cond0</th><th scope=col>estimate</th><th scope=col>ci</th><th scope=col>statistic</th><th scope=col>p.value</th></tr>\n",
       "\t<tr><th></th><th scope=col>&lt;chr&gt;</th><th scope=col>&lt;ppj_lbll&gt;</th><th scope=col>&lt;ppj_lbll&gt;</th><th scope=col>&lt;ppj_lbll&gt;</th><th scope=col>&lt;ppj_lbll&gt;</th></tr>\n",
       "</thead>\n",
       "<tbody>\n",
       "\t<tr><th scope=row>noun_F</th><td>noun_F</td><td>-0.83</td><td>$[-1.12$, $-0.54]$</td><td>-5.72</td><td>&lt; .001</td></tr>\n",
       "\t<tr><th scope=row>noun_M</th><td>noun_M</td><td>-0.88</td><td>$[-1.17$, $-0.59]$</td><td>-6.07</td><td>&lt; .001</td></tr>\n",
       "\t<tr><th scope=row>verb_X</th><td>verb_X</td><td>-0.61</td><td>$[-0.90$, $-0.32]$</td><td>-4.19</td><td>&lt; .001</td></tr>\n",
       "</tbody>\n",
       "</table>\n"
      ],
      "text/latex": [
       "A apa\\_results\\_table: 3 × 5\n",
       "\\begin{tabular}{r|lllll}\n",
       "  & cond0 & estimate & ci & statistic & p.value\\\\\n",
       "  & <chr> & <ppj\\_lbll> & <ppj\\_lbll> & <ppj\\_lbll> & <ppj\\_lbll>\\\\\n",
       "\\hline\n",
       "\tnoun\\_F & noun\\_F & -0.83 & \\${[}-1.12\\$, \\$-0.54{]}\\$ & -5.72 & < .001\\\\\n",
       "\tnoun\\_M & noun\\_M & -0.88 & \\${[}-1.17\\$, \\$-0.59{]}\\$ & -6.07 & < .001\\\\\n",
       "\tverb\\_X & verb\\_X & -0.61 & \\${[}-0.90\\$, \\$-0.32{]}\\$ & -4.19 & < .001\\\\\n",
       "\\end{tabular}\n"
      ],
      "text/markdown": [
       "\n",
       "A apa_results_table: 3 × 5\n",
       "\n",
       "| <!--/--> | cond0 &lt;chr&gt; | estimate &lt;ppj_lbll&gt; | ci &lt;ppj_lbll&gt; | statistic &lt;ppj_lbll&gt; | p.value &lt;ppj_lbll&gt; |\n",
       "|---|---|---|---|---|---|\n",
       "| noun_F | noun_F | -0.83 | $[-1.12$, $-0.54]$ | -5.72 | &lt; .001 |\n",
       "| noun_M | noun_M | -0.88 | $[-1.17$, $-0.59]$ | -6.07 | &lt; .001 |\n",
       "| verb_X | verb_X | -0.61 | $[-0.90$, $-0.32]$ | -4.19 | &lt; .001 |\n",
       "\n"
      ],
      "text/plain": [
       "       cond0  estimate ci                 statistic p.value\n",
       "noun_F noun_F -0.83    $[-1.12$, $-0.54]$ -5.72     < .001 \n",
       "noun_M noun_M -0.88    $[-1.17$, $-0.59]$ -6.07     < .001 \n",
       "verb_X verb_X -0.61    $[-0.90$, $-0.32]$ -4.19     < .001 "
      ]
     },
     "metadata": {},
     "output_type": "display_data"
    },
    {
     "data": {
      "text/markdown": [
       "### Paired comparisons for expected marginal means"
      ]
     },
     "metadata": {},
     "output_type": "display_data"
    },
    {
     "data": {
      "text/html": [
       "<table>\n",
       "<caption>A apa_results_table: 3 × 5</caption>\n",
       "<thead>\n",
       "\t<tr><th></th><th scope=col>contrast</th><th scope=col>estimate</th><th scope=col>ci</th><th scope=col>statistic</th><th scope=col>p.value</th></tr>\n",
       "\t<tr><th></th><th scope=col>&lt;ppj_lbll&gt;</th><th scope=col>&lt;ppj_lbll&gt;</th><th scope=col>&lt;ppj_lbll&gt;</th><th scope=col>&lt;ppj_lbll&gt;</th><th scope=col>&lt;ppj_lbll&gt;</th></tr>\n",
       "</thead>\n",
       "<tbody>\n",
       "\t<tr><th scope=row>noun_F_noun_M</th><td>noun_F - noun_M</td><td>0.05 </td><td>$[-0.29$, $0.39]$</td><td>0.35 </td><td>.933</td></tr>\n",
       "\t<tr><th scope=row>noun_F_verb_X</th><td>noun_F - verb_X</td><td>-0.22</td><td>$[-0.56$, $0.12]$</td><td>-1.58</td><td>.261</td></tr>\n",
       "\t<tr><th scope=row>noun_M_verb_X</th><td>noun_M - verb_X</td><td>-0.27</td><td>$[-0.61$, $0.07]$</td><td>-1.94</td><td>.137</td></tr>\n",
       "</tbody>\n",
       "</table>\n"
      ],
      "text/latex": [
       "A apa\\_results\\_table: 3 × 5\n",
       "\\begin{tabular}{r|lllll}\n",
       "  & contrast & estimate & ci & statistic & p.value\\\\\n",
       "  & <ppj\\_lbll> & <ppj\\_lbll> & <ppj\\_lbll> & <ppj\\_lbll> & <ppj\\_lbll>\\\\\n",
       "\\hline\n",
       "\tnoun\\_F\\_noun\\_M & noun\\_F - noun\\_M & 0.05  & \\${[}-0.29\\$, \\$0.39{]}\\$ & 0.35  & .933\\\\\n",
       "\tnoun\\_F\\_verb\\_X & noun\\_F - verb\\_X & -0.22 & \\${[}-0.56\\$, \\$0.12{]}\\$ & -1.58 & .261\\\\\n",
       "\tnoun\\_M\\_verb\\_X & noun\\_M - verb\\_X & -0.27 & \\${[}-0.61\\$, \\$0.07{]}\\$ & -1.94 & .137\\\\\n",
       "\\end{tabular}\n"
      ],
      "text/markdown": [
       "\n",
       "A apa_results_table: 3 × 5\n",
       "\n",
       "| <!--/--> | contrast &lt;ppj_lbll&gt; | estimate &lt;ppj_lbll&gt; | ci &lt;ppj_lbll&gt; | statistic &lt;ppj_lbll&gt; | p.value &lt;ppj_lbll&gt; |\n",
       "|---|---|---|---|---|---|\n",
       "| noun_F_noun_M | noun_F - noun_M | 0.05  | $[-0.29$, $0.39]$ | 0.35  | .933 |\n",
       "| noun_F_verb_X | noun_F - verb_X | -0.22 | $[-0.56$, $0.12]$ | -1.58 | .261 |\n",
       "| noun_M_verb_X | noun_M - verb_X | -0.27 | $[-0.61$, $0.07]$ | -1.94 | .137 |\n",
       "\n"
      ],
      "text/plain": [
       "              contrast        estimate ci                statistic p.value\n",
       "noun_F_noun_M noun_F - noun_M 0.05     $[-0.29$, $0.39]$ 0.35      .933   \n",
       "noun_F_verb_X noun_F - verb_X -0.22    $[-0.56$, $0.12]$ -1.58     .261   \n",
       "noun_M_verb_X noun_M - verb_X -0.27    $[-0.61$, $0.07]$ -1.94     .137   "
      ]
     },
     "metadata": {},
     "output_type": "display_data"
    }
   ],
   "source": [
    "IDX <- IDX+1; COND <- CONDS[IDX]\n",
    "data1 <- droplevels(subset(df1, eval(parse(text=COND)))); data1 <- data1[complete.cases(data1),]; done1 <- AOV4(data1,COND)\n",
    "display_markdown(str_c(\"# Condition \",IDX,\" of \",length(CONDS))); display_markdown(done1$info); display_markdown(\"### Table\"); done1$aov_APA$table; display_markdown(\"### Result\"); display_markdown(done1$aov_APA[[\"full_result\"]][[\"cond0\"]]); display_markdown(\"### Summary (all done1, incl. NANs)\"); done1$summary; display_markdown(\"### Expected marginal means\"); done1$emm_APA$table; display_markdown(\"### Paired comparisons for expected marginal means\"); done1$pairs_APA$table"
   ]
  },
  {
   "cell_type": "code",
   "execution_count": 26,
   "metadata": {},
   "outputs": [
    {
     "name": "stderr",
     "output_type": "stream",
     "text": [
      "Warning message:\n",
      "“Missing values for following ID(s):\n",
      "09msxf, 39mrxm\n",
      "Removing those cases from the analysis.”\n"
     ]
    },
    {
     "data": {
      "text/markdown": [
       "# Condition 9 of 72"
      ]
     },
     "metadata": {},
     "output_type": "display_data"
    },
    {
     "data": {
      "text/markdown": [
       "`tmin0==0.1 & chan0==\"LP\" & mode0==\"pos\"`"
      ]
     },
     "metadata": {},
     "output_type": "display_data"
    },
    {
     "data": {
      "text/markdown": [
       "### Table"
      ]
     },
     "metadata": {},
     "output_type": "display_data"
    },
    {
     "data": {
      "text/html": [
       "<table>\n",
       "<caption>A apa_results_table: 1 × 7</caption>\n",
       "<thead>\n",
       "\t<tr><th></th><th scope=col>Effect</th><th scope=col>F</th><th scope=col>df1</th><th scope=col>df2</th><th scope=col>MSE</th><th scope=col>p</th><th scope=col>ges</th></tr>\n",
       "\t<tr><th></th><th scope=col>&lt;ppj_lbll&gt;</th><th scope=col>&lt;ppj_lbll&gt;</th><th scope=col>&lt;ppj_lbll&gt;</th><th scope=col>&lt;ppj_lbll&gt;</th><th scope=col>&lt;ppj_lbll&gt;</th><th scope=col>&lt;ppj_lbll&gt;</th><th scope=col>&lt;ppj_lbll&gt;</th></tr>\n",
       "</thead>\n",
       "<tbody>\n",
       "\t<tr><th scope=row>1</th><td>Cond0</td><td>0.73</td><td>1.77</td><td>67.38</td><td>0.34</td><td>.468</td><td>.001</td></tr>\n",
       "</tbody>\n",
       "</table>\n"
      ],
      "text/latex": [
       "A apa\\_results\\_table: 1 × 7\n",
       "\\begin{tabular}{r|lllllll}\n",
       "  & Effect & F & df1 & df2 & MSE & p & ges\\\\\n",
       "  & <ppj\\_lbll> & <ppj\\_lbll> & <ppj\\_lbll> & <ppj\\_lbll> & <ppj\\_lbll> & <ppj\\_lbll> & <ppj\\_lbll>\\\\\n",
       "\\hline\n",
       "\t1 & Cond0 & 0.73 & 1.77 & 67.38 & 0.34 & .468 & .001\\\\\n",
       "\\end{tabular}\n"
      ],
      "text/markdown": [
       "\n",
       "A apa_results_table: 1 × 7\n",
       "\n",
       "| <!--/--> | Effect &lt;ppj_lbll&gt; | F &lt;ppj_lbll&gt; | df1 &lt;ppj_lbll&gt; | df2 &lt;ppj_lbll&gt; | MSE &lt;ppj_lbll&gt; | p &lt;ppj_lbll&gt; | ges &lt;ppj_lbll&gt; |\n",
       "|---|---|---|---|---|---|---|---|\n",
       "| 1 | Cond0 | 0.73 | 1.77 | 67.38 | 0.34 | .468 | .001 |\n",
       "\n"
      ],
      "text/plain": [
       "  Effect F    df1  df2   MSE  p    ges \n",
       "1 Cond0  0.73 1.77 67.38 0.34 .468 .001"
      ]
     },
     "metadata": {},
     "output_type": "display_data"
    },
    {
     "data": {
      "text/markdown": [
       "### Result"
      ]
     },
     "metadata": {},
     "output_type": "display_data"
    },
    {
     "data": {
      "text/markdown": [
       "$F(1.77, 67.38) = 0.73$, $\\mathit{MSE} = 0.34$, $p = .468$, $\\hat{\\eta}^2_G = .001$"
      ]
     },
     "metadata": {},
     "output_type": "display_data"
    },
    {
     "data": {
      "text/markdown": [
       "### Summary (all done1, incl. NANs)"
      ]
     },
     "metadata": {},
     "output_type": "display_data"
    },
    {
     "data": {
      "text/html": [
       "<table>\n",
       "<caption>A tibble: 3 × 5</caption>\n",
       "<thead>\n",
       "\t<tr><th scope=col>cond0</th><th scope=col>N</th><th scope=col>valX_M</th><th scope=col>valX_SD</th><th scope=col>valX_SE</th></tr>\n",
       "\t<tr><th scope=col>&lt;fct&gt;</th><th scope=col>&lt;int&gt;</th><th scope=col>&lt;dbl&gt;</th><th scope=col>&lt;dbl&gt;</th><th scope=col>&lt;dbl&gt;</th></tr>\n",
       "</thead>\n",
       "<tbody>\n",
       "\t<tr><td>noun_F</td><td>40</td><td>3.929941</td><td>2.380400</td><td>0.3763743</td></tr>\n",
       "\t<tr><td>noun_M</td><td>40</td><td>4.179711</td><td>2.108586</td><td>0.3333967</td></tr>\n",
       "\t<tr><td>verb_X</td><td>40</td><td>4.031834</td><td>2.288530</td><td>0.3618483</td></tr>\n",
       "</tbody>\n",
       "</table>\n"
      ],
      "text/latex": [
       "A tibble: 3 × 5\n",
       "\\begin{tabular}{lllll}\n",
       " cond0 & N & valX\\_M & valX\\_SD & valX\\_SE\\\\\n",
       " <fct> & <int> & <dbl> & <dbl> & <dbl>\\\\\n",
       "\\hline\n",
       "\t noun\\_F & 40 & 3.929941 & 2.380400 & 0.3763743\\\\\n",
       "\t noun\\_M & 40 & 4.179711 & 2.108586 & 0.3333967\\\\\n",
       "\t verb\\_X & 40 & 4.031834 & 2.288530 & 0.3618483\\\\\n",
       "\\end{tabular}\n"
      ],
      "text/markdown": [
       "\n",
       "A tibble: 3 × 5\n",
       "\n",
       "| cond0 &lt;fct&gt; | N &lt;int&gt; | valX_M &lt;dbl&gt; | valX_SD &lt;dbl&gt; | valX_SE &lt;dbl&gt; |\n",
       "|---|---|---|---|---|\n",
       "| noun_F | 40 | 3.929941 | 2.380400 | 0.3763743 |\n",
       "| noun_M | 40 | 4.179711 | 2.108586 | 0.3333967 |\n",
       "| verb_X | 40 | 4.031834 | 2.288530 | 0.3618483 |\n",
       "\n"
      ],
      "text/plain": [
       "  cond0  N  valX_M   valX_SD  valX_SE  \n",
       "1 noun_F 40 3.929941 2.380400 0.3763743\n",
       "2 noun_M 40 4.179711 2.108586 0.3333967\n",
       "3 verb_X 40 4.031834 2.288530 0.3618483"
      ]
     },
     "metadata": {},
     "output_type": "display_data"
    },
    {
     "data": {
      "text/markdown": [
       "### Expected marginal means"
      ]
     },
     "metadata": {},
     "output_type": "display_data"
    },
    {
     "data": {
      "text/html": [
       "<table>\n",
       "<caption>A apa_results_table: 3 × 5</caption>\n",
       "<thead>\n",
       "\t<tr><th></th><th scope=col>cond0</th><th scope=col>estimate</th><th scope=col>ci</th><th scope=col>statistic</th><th scope=col>p.value</th></tr>\n",
       "\t<tr><th></th><th scope=col>&lt;chr&gt;</th><th scope=col>&lt;ppj_lbll&gt;</th><th scope=col>&lt;ppj_lbll&gt;</th><th scope=col>&lt;ppj_lbll&gt;</th><th scope=col>&lt;ppj_lbll&gt;</th></tr>\n",
       "</thead>\n",
       "<tbody>\n",
       "\t<tr><th scope=row>noun_F</th><td>noun_F</td><td>4.08</td><td>$[3.36$, $4.80]$</td><td>11.46</td><td>&lt; .001</td></tr>\n",
       "\t<tr><th scope=row>noun_M</th><td>noun_M</td><td>4.18</td><td>$[3.46$, $4.90]$</td><td>11.73</td><td>&lt; .001</td></tr>\n",
       "\t<tr><th scope=row>verb_X</th><td>verb_X</td><td>4.03</td><td>$[3.31$, $4.75]$</td><td>11.32</td><td>&lt; .001</td></tr>\n",
       "</tbody>\n",
       "</table>\n"
      ],
      "text/latex": [
       "A apa\\_results\\_table: 3 × 5\n",
       "\\begin{tabular}{r|lllll}\n",
       "  & cond0 & estimate & ci & statistic & p.value\\\\\n",
       "  & <chr> & <ppj\\_lbll> & <ppj\\_lbll> & <ppj\\_lbll> & <ppj\\_lbll>\\\\\n",
       "\\hline\n",
       "\tnoun\\_F & noun\\_F & 4.08 & \\${[}3.36\\$, \\$4.80{]}\\$ & 11.46 & < .001\\\\\n",
       "\tnoun\\_M & noun\\_M & 4.18 & \\${[}3.46\\$, \\$4.90{]}\\$ & 11.73 & < .001\\\\\n",
       "\tverb\\_X & verb\\_X & 4.03 & \\${[}3.31\\$, \\$4.75{]}\\$ & 11.32 & < .001\\\\\n",
       "\\end{tabular}\n"
      ],
      "text/markdown": [
       "\n",
       "A apa_results_table: 3 × 5\n",
       "\n",
       "| <!--/--> | cond0 &lt;chr&gt; | estimate &lt;ppj_lbll&gt; | ci &lt;ppj_lbll&gt; | statistic &lt;ppj_lbll&gt; | p.value &lt;ppj_lbll&gt; |\n",
       "|---|---|---|---|---|---|\n",
       "| noun_F | noun_F | 4.08 | $[3.36$, $4.80]$ | 11.46 | &lt; .001 |\n",
       "| noun_M | noun_M | 4.18 | $[3.46$, $4.90]$ | 11.73 | &lt; .001 |\n",
       "| verb_X | verb_X | 4.03 | $[3.31$, $4.75]$ | 11.32 | &lt; .001 |\n",
       "\n"
      ],
      "text/plain": [
       "       cond0  estimate ci               statistic p.value\n",
       "noun_F noun_F 4.08     $[3.36$, $4.80]$ 11.46     < .001 \n",
       "noun_M noun_M 4.18     $[3.46$, $4.90]$ 11.73     < .001 \n",
       "verb_X verb_X 4.03     $[3.31$, $4.75]$ 11.32     < .001 "
      ]
     },
     "metadata": {},
     "output_type": "display_data"
    },
    {
     "data": {
      "text/markdown": [
       "### Paired comparisons for expected marginal means"
      ]
     },
     "metadata": {},
     "output_type": "display_data"
    },
    {
     "data": {
      "text/html": [
       "<table>\n",
       "<caption>A apa_results_table: 3 × 5</caption>\n",
       "<thead>\n",
       "\t<tr><th></th><th scope=col>contrast</th><th scope=col>estimate</th><th scope=col>ci</th><th scope=col>statistic</th><th scope=col>p.value</th></tr>\n",
       "\t<tr><th></th><th scope=col>&lt;ppj_lbll&gt;</th><th scope=col>&lt;ppj_lbll&gt;</th><th scope=col>&lt;ppj_lbll&gt;</th><th scope=col>&lt;ppj_lbll&gt;</th><th scope=col>&lt;ppj_lbll&gt;</th></tr>\n",
       "</thead>\n",
       "<tbody>\n",
       "\t<tr><th scope=row>noun_F_noun_M</th><td>noun_F - noun_M</td><td>-0.10</td><td>$[-0.39$, $0.20]$</td><td>-0.78</td><td>.714</td></tr>\n",
       "\t<tr><th scope=row>noun_F_verb_X</th><td>noun_F - verb_X</td><td>0.05 </td><td>$[-0.25$, $0.35]$</td><td>0.41 </td><td>.913</td></tr>\n",
       "\t<tr><th scope=row>noun_M_verb_X</th><td>noun_M - verb_X</td><td>0.15 </td><td>$[-0.15$, $0.45]$</td><td>1.19 </td><td>.462</td></tr>\n",
       "</tbody>\n",
       "</table>\n"
      ],
      "text/latex": [
       "A apa\\_results\\_table: 3 × 5\n",
       "\\begin{tabular}{r|lllll}\n",
       "  & contrast & estimate & ci & statistic & p.value\\\\\n",
       "  & <ppj\\_lbll> & <ppj\\_lbll> & <ppj\\_lbll> & <ppj\\_lbll> & <ppj\\_lbll>\\\\\n",
       "\\hline\n",
       "\tnoun\\_F\\_noun\\_M & noun\\_F - noun\\_M & -0.10 & \\${[}-0.39\\$, \\$0.20{]}\\$ & -0.78 & .714\\\\\n",
       "\tnoun\\_F\\_verb\\_X & noun\\_F - verb\\_X & 0.05  & \\${[}-0.25\\$, \\$0.35{]}\\$ & 0.41  & .913\\\\\n",
       "\tnoun\\_M\\_verb\\_X & noun\\_M - verb\\_X & 0.15  & \\${[}-0.15\\$, \\$0.45{]}\\$ & 1.19  & .462\\\\\n",
       "\\end{tabular}\n"
      ],
      "text/markdown": [
       "\n",
       "A apa_results_table: 3 × 5\n",
       "\n",
       "| <!--/--> | contrast &lt;ppj_lbll&gt; | estimate &lt;ppj_lbll&gt; | ci &lt;ppj_lbll&gt; | statistic &lt;ppj_lbll&gt; | p.value &lt;ppj_lbll&gt; |\n",
       "|---|---|---|---|---|---|\n",
       "| noun_F_noun_M | noun_F - noun_M | -0.10 | $[-0.39$, $0.20]$ | -0.78 | .714 |\n",
       "| noun_F_verb_X | noun_F - verb_X | 0.05  | $[-0.25$, $0.35]$ | 0.41  | .913 |\n",
       "| noun_M_verb_X | noun_M - verb_X | 0.15  | $[-0.15$, $0.45]$ | 1.19  | .462 |\n",
       "\n"
      ],
      "text/plain": [
       "              contrast        estimate ci                statistic p.value\n",
       "noun_F_noun_M noun_F - noun_M -0.10    $[-0.39$, $0.20]$ -0.78     .714   \n",
       "noun_F_verb_X noun_F - verb_X 0.05     $[-0.25$, $0.35]$ 0.41      .913   \n",
       "noun_M_verb_X noun_M - verb_X 0.15     $[-0.15$, $0.45]$ 1.19      .462   "
      ]
     },
     "metadata": {},
     "output_type": "display_data"
    }
   ],
   "source": [
    "IDX <- IDX+1; COND <- CONDS[IDX]\n",
    "data1 <- droplevels(subset(df1, eval(parse(text=COND)))); data1 <- data1[complete.cases(data1),]; done1 <- AOV4(data1,COND)\n",
    "display_markdown(str_c(\"# Condition \",IDX,\" of \",length(CONDS))); display_markdown(done1$info); display_markdown(\"### Table\"); done1$aov_APA$table; display_markdown(\"### Result\"); display_markdown(done1$aov_APA[[\"full_result\"]][[\"cond0\"]]); display_markdown(\"### Summary (all done1, incl. NANs)\"); done1$summary; display_markdown(\"### Expected marginal means\"); done1$emm_APA$table; display_markdown(\"### Paired comparisons for expected marginal means\"); done1$pairs_APA$table"
   ]
  },
  {
   "cell_type": "code",
   "execution_count": 27,
   "metadata": {},
   "outputs": [
    {
     "name": "stderr",
     "output_type": "stream",
     "text": [
      "Warning message:\n",
      "“Missing values for following ID(s):\n",
      "02ppxm, 04mkkm, 07zrxf, 09msxf, 10mczf, 11kbxm, 14ktxf, 17makf, 23zdxf, 29jjxf, 30mszf, 32mjxf, 34gsxm, 37lpxm, 38slxm\n",
      "Removing those cases from the analysis.”\n",
      "Warning message in summary.Anova.mlm(x$Anova):\n",
      "“HF eps > 1 treated as 1”\n"
     ]
    },
    {
     "data": {
      "text/markdown": [
       "# Condition 10 of 72"
      ]
     },
     "metadata": {},
     "output_type": "display_data"
    },
    {
     "data": {
      "text/markdown": [
       "`tmin0==0.1 & chan0==\"LP\" & mode0==\"neg\"`"
      ]
     },
     "metadata": {},
     "output_type": "display_data"
    },
    {
     "data": {
      "text/markdown": [
       "### Table"
      ]
     },
     "metadata": {},
     "output_type": "display_data"
    },
    {
     "data": {
      "text/html": [
       "<table>\n",
       "<caption>A apa_results_table: 1 × 7</caption>\n",
       "<thead>\n",
       "\t<tr><th></th><th scope=col>Effect</th><th scope=col>F</th><th scope=col>df1</th><th scope=col>df2</th><th scope=col>MSE</th><th scope=col>p</th><th scope=col>ges</th></tr>\n",
       "\t<tr><th></th><th scope=col>&lt;ppj_lbll&gt;</th><th scope=col>&lt;ppj_lbll&gt;</th><th scope=col>&lt;ppj_lbll&gt;</th><th scope=col>&lt;ppj_lbll&gt;</th><th scope=col>&lt;ppj_lbll&gt;</th><th scope=col>&lt;ppj_lbll&gt;</th><th scope=col>&lt;ppj_lbll&gt;</th></tr>\n",
       "</thead>\n",
       "<tbody>\n",
       "\t<tr><th scope=row>1</th><td>Cond0</td><td>3.34</td><td>1.85</td><td>29.61</td><td>0.31</td><td>.052</td><td>.005</td></tr>\n",
       "</tbody>\n",
       "</table>\n"
      ],
      "text/latex": [
       "A apa\\_results\\_table: 1 × 7\n",
       "\\begin{tabular}{r|lllllll}\n",
       "  & Effect & F & df1 & df2 & MSE & p & ges\\\\\n",
       "  & <ppj\\_lbll> & <ppj\\_lbll> & <ppj\\_lbll> & <ppj\\_lbll> & <ppj\\_lbll> & <ppj\\_lbll> & <ppj\\_lbll>\\\\\n",
       "\\hline\n",
       "\t1 & Cond0 & 3.34 & 1.85 & 29.61 & 0.31 & .052 & .005\\\\\n",
       "\\end{tabular}\n"
      ],
      "text/markdown": [
       "\n",
       "A apa_results_table: 1 × 7\n",
       "\n",
       "| <!--/--> | Effect &lt;ppj_lbll&gt; | F &lt;ppj_lbll&gt; | df1 &lt;ppj_lbll&gt; | df2 &lt;ppj_lbll&gt; | MSE &lt;ppj_lbll&gt; | p &lt;ppj_lbll&gt; | ges &lt;ppj_lbll&gt; |\n",
       "|---|---|---|---|---|---|---|---|\n",
       "| 1 | Cond0 | 3.34 | 1.85 | 29.61 | 0.31 | .052 | .005 |\n",
       "\n"
      ],
      "text/plain": [
       "  Effect F    df1  df2   MSE  p    ges \n",
       "1 Cond0  3.34 1.85 29.61 0.31 .052 .005"
      ]
     },
     "metadata": {},
     "output_type": "display_data"
    },
    {
     "data": {
      "text/markdown": [
       "### Result"
      ]
     },
     "metadata": {},
     "output_type": "display_data"
    },
    {
     "data": {
      "text/markdown": [
       "$F(1.85, 29.61) = 3.34$, $\\mathit{MSE} = 0.31$, $p = .052$, $\\hat{\\eta}^2_G = .005$"
      ]
     },
     "metadata": {},
     "output_type": "display_data"
    },
    {
     "data": {
      "text/markdown": [
       "### Summary (all done1, incl. NANs)"
      ]
     },
     "metadata": {},
     "output_type": "display_data"
    },
    {
     "data": {
      "text/html": [
       "<table>\n",
       "<caption>A tibble: 3 × 5</caption>\n",
       "<thead>\n",
       "\t<tr><th scope=col>cond0</th><th scope=col>N</th><th scope=col>valX_M</th><th scope=col>valX_SD</th><th scope=col>valX_SE</th></tr>\n",
       "\t<tr><th scope=col>&lt;fct&gt;</th><th scope=col>&lt;int&gt;</th><th scope=col>&lt;dbl&gt;</th><th scope=col>&lt;dbl&gt;</th><th scope=col>&lt;dbl&gt;</th></tr>\n",
       "</thead>\n",
       "<tbody>\n",
       "\t<tr><td>noun_F</td><td>26</td><td>-2.134184</td><td>3.498041</td><td>0.6860222</td></tr>\n",
       "\t<tr><td>noun_M</td><td>22</td><td>-1.721739</td><td>2.894102</td><td>0.6170246</td></tr>\n",
       "\t<tr><td>verb_X</td><td>24</td><td>-2.303803</td><td>3.378332</td><td>0.6895991</td></tr>\n",
       "</tbody>\n",
       "</table>\n"
      ],
      "text/latex": [
       "A tibble: 3 × 5\n",
       "\\begin{tabular}{lllll}\n",
       " cond0 & N & valX\\_M & valX\\_SD & valX\\_SE\\\\\n",
       " <fct> & <int> & <dbl> & <dbl> & <dbl>\\\\\n",
       "\\hline\n",
       "\t noun\\_F & 26 & -2.134184 & 3.498041 & 0.6860222\\\\\n",
       "\t noun\\_M & 22 & -1.721739 & 2.894102 & 0.6170246\\\\\n",
       "\t verb\\_X & 24 & -2.303803 & 3.378332 & 0.6895991\\\\\n",
       "\\end{tabular}\n"
      ],
      "text/markdown": [
       "\n",
       "A tibble: 3 × 5\n",
       "\n",
       "| cond0 &lt;fct&gt; | N &lt;int&gt; | valX_M &lt;dbl&gt; | valX_SD &lt;dbl&gt; | valX_SE &lt;dbl&gt; |\n",
       "|---|---|---|---|---|\n",
       "| noun_F | 26 | -2.134184 | 3.498041 | 0.6860222 |\n",
       "| noun_M | 22 | -1.721739 | 2.894102 | 0.6170246 |\n",
       "| verb_X | 24 | -2.303803 | 3.378332 | 0.6895991 |\n",
       "\n"
      ],
      "text/plain": [
       "  cond0  N  valX_M    valX_SD  valX_SE  \n",
       "1 noun_F 26 -2.134184 3.498041 0.6860222\n",
       "2 noun_M 22 -1.721739 2.894102 0.6170246\n",
       "3 verb_X 24 -2.303803 3.378332 0.6895991"
      ]
     },
     "metadata": {},
     "output_type": "display_data"
    },
    {
     "data": {
      "text/markdown": [
       "### Expected marginal means"
      ]
     },
     "metadata": {},
     "output_type": "display_data"
    },
    {
     "data": {
      "text/html": [
       "<table>\n",
       "<caption>A apa_results_table: 3 × 5</caption>\n",
       "<thead>\n",
       "\t<tr><th></th><th scope=col>cond0</th><th scope=col>estimate</th><th scope=col>ci</th><th scope=col>statistic</th><th scope=col>p.value</th></tr>\n",
       "\t<tr><th></th><th scope=col>&lt;chr&gt;</th><th scope=col>&lt;ppj_lbll&gt;</th><th scope=col>&lt;ppj_lbll&gt;</th><th scope=col>&lt;ppj_lbll&gt;</th><th scope=col>&lt;ppj_lbll&gt;</th></tr>\n",
       "</thead>\n",
       "<tbody>\n",
       "\t<tr><th scope=row>noun_F</th><td>noun_F</td><td>-2.88</td><td>$[-4.40$, $-1.36]$</td><td>-4.00</td><td>.001</td></tr>\n",
       "\t<tr><th scope=row>noun_M</th><td>noun_M</td><td>-2.45</td><td>$[-3.98$, $-0.93]$</td><td>-3.41</td><td>.003</td></tr>\n",
       "\t<tr><th scope=row>verb_X</th><td>verb_X</td><td>-2.86</td><td>$[-4.38$, $-1.33]$</td><td>-3.97</td><td>.001</td></tr>\n",
       "</tbody>\n",
       "</table>\n"
      ],
      "text/latex": [
       "A apa\\_results\\_table: 3 × 5\n",
       "\\begin{tabular}{r|lllll}\n",
       "  & cond0 & estimate & ci & statistic & p.value\\\\\n",
       "  & <chr> & <ppj\\_lbll> & <ppj\\_lbll> & <ppj\\_lbll> & <ppj\\_lbll>\\\\\n",
       "\\hline\n",
       "\tnoun\\_F & noun\\_F & -2.88 & \\${[}-4.40\\$, \\$-1.36{]}\\$ & -4.00 & .001\\\\\n",
       "\tnoun\\_M & noun\\_M & -2.45 & \\${[}-3.98\\$, \\$-0.93{]}\\$ & -3.41 & .003\\\\\n",
       "\tverb\\_X & verb\\_X & -2.86 & \\${[}-4.38\\$, \\$-1.33{]}\\$ & -3.97 & .001\\\\\n",
       "\\end{tabular}\n"
      ],
      "text/markdown": [
       "\n",
       "A apa_results_table: 3 × 5\n",
       "\n",
       "| <!--/--> | cond0 &lt;chr&gt; | estimate &lt;ppj_lbll&gt; | ci &lt;ppj_lbll&gt; | statistic &lt;ppj_lbll&gt; | p.value &lt;ppj_lbll&gt; |\n",
       "|---|---|---|---|---|---|\n",
       "| noun_F | noun_F | -2.88 | $[-4.40$, $-1.36]$ | -4.00 | .001 |\n",
       "| noun_M | noun_M | -2.45 | $[-3.98$, $-0.93]$ | -3.41 | .003 |\n",
       "| verb_X | verb_X | -2.86 | $[-4.38$, $-1.33]$ | -3.97 | .001 |\n",
       "\n"
      ],
      "text/plain": [
       "       cond0  estimate ci                 statistic p.value\n",
       "noun_F noun_F -2.88    $[-4.40$, $-1.36]$ -4.00     .001   \n",
       "noun_M noun_M -2.45    $[-3.98$, $-0.93]$ -3.41     .003   \n",
       "verb_X verb_X -2.86    $[-4.38$, $-1.33]$ -3.97     .001   "
      ]
     },
     "metadata": {},
     "output_type": "display_data"
    },
    {
     "data": {
      "text/markdown": [
       "### Paired comparisons for expected marginal means"
      ]
     },
     "metadata": {},
     "output_type": "display_data"
    },
    {
     "data": {
      "text/html": [
       "<table>\n",
       "<caption>A apa_results_table: 3 × 5</caption>\n",
       "<thead>\n",
       "\t<tr><th></th><th scope=col>contrast</th><th scope=col>estimate</th><th scope=col>ci</th><th scope=col>statistic</th><th scope=col>p.value</th></tr>\n",
       "\t<tr><th></th><th scope=col>&lt;ppj_lbll&gt;</th><th scope=col>&lt;ppj_lbll&gt;</th><th scope=col>&lt;ppj_lbll&gt;</th><th scope=col>&lt;ppj_lbll&gt;</th><th scope=col>&lt;ppj_lbll&gt;</th></tr>\n",
       "</thead>\n",
       "<tbody>\n",
       "\t<tr><th scope=row>noun_F_noun_M</th><td>noun_F - noun_M</td><td>-0.43</td><td>$[-0.88$, $0.03]$</td><td>-2.30</td><td>.070</td></tr>\n",
       "\t<tr><th scope=row>noun_F_verb_X</th><td>noun_F - verb_X</td><td>-0.02</td><td>$[-0.48$, $0.43]$</td><td>-0.13</td><td>.991</td></tr>\n",
       "\t<tr><th scope=row>noun_M_verb_X</th><td>noun_M - verb_X</td><td>0.40 </td><td>$[-0.05$, $0.86]$</td><td>2.17 </td><td>.092</td></tr>\n",
       "</tbody>\n",
       "</table>\n"
      ],
      "text/latex": [
       "A apa\\_results\\_table: 3 × 5\n",
       "\\begin{tabular}{r|lllll}\n",
       "  & contrast & estimate & ci & statistic & p.value\\\\\n",
       "  & <ppj\\_lbll> & <ppj\\_lbll> & <ppj\\_lbll> & <ppj\\_lbll> & <ppj\\_lbll>\\\\\n",
       "\\hline\n",
       "\tnoun\\_F\\_noun\\_M & noun\\_F - noun\\_M & -0.43 & \\${[}-0.88\\$, \\$0.03{]}\\$ & -2.30 & .070\\\\\n",
       "\tnoun\\_F\\_verb\\_X & noun\\_F - verb\\_X & -0.02 & \\${[}-0.48\\$, \\$0.43{]}\\$ & -0.13 & .991\\\\\n",
       "\tnoun\\_M\\_verb\\_X & noun\\_M - verb\\_X & 0.40  & \\${[}-0.05\\$, \\$0.86{]}\\$ & 2.17  & .092\\\\\n",
       "\\end{tabular}\n"
      ],
      "text/markdown": [
       "\n",
       "A apa_results_table: 3 × 5\n",
       "\n",
       "| <!--/--> | contrast &lt;ppj_lbll&gt; | estimate &lt;ppj_lbll&gt; | ci &lt;ppj_lbll&gt; | statistic &lt;ppj_lbll&gt; | p.value &lt;ppj_lbll&gt; |\n",
       "|---|---|---|---|---|---|\n",
       "| noun_F_noun_M | noun_F - noun_M | -0.43 | $[-0.88$, $0.03]$ | -2.30 | .070 |\n",
       "| noun_F_verb_X | noun_F - verb_X | -0.02 | $[-0.48$, $0.43]$ | -0.13 | .991 |\n",
       "| noun_M_verb_X | noun_M - verb_X | 0.40  | $[-0.05$, $0.86]$ | 2.17  | .092 |\n",
       "\n"
      ],
      "text/plain": [
       "              contrast        estimate ci                statistic p.value\n",
       "noun_F_noun_M noun_F - noun_M -0.43    $[-0.88$, $0.03]$ -2.30     .070   \n",
       "noun_F_verb_X noun_F - verb_X -0.02    $[-0.48$, $0.43]$ -0.13     .991   \n",
       "noun_M_verb_X noun_M - verb_X 0.40     $[-0.05$, $0.86]$ 2.17      .092   "
      ]
     },
     "metadata": {},
     "output_type": "display_data"
    }
   ],
   "source": [
    "IDX <- IDX+1; COND <- CONDS[IDX]\n",
    "data1 <- droplevels(subset(df1, eval(parse(text=COND)))); data1 <- data1[complete.cases(data1),]; done1 <- AOV4(data1,COND)\n",
    "display_markdown(str_c(\"# Condition \",IDX,\" of \",length(CONDS))); display_markdown(done1$info); display_markdown(\"### Table\"); done1$aov_APA$table; display_markdown(\"### Result\"); display_markdown(done1$aov_APA[[\"full_result\"]][[\"cond0\"]]); display_markdown(\"### Summary (all done1, incl. NANs)\"); done1$summary; display_markdown(\"### Expected marginal means\"); done1$emm_APA$table; display_markdown(\"### Paired comparisons for expected marginal means\"); done1$pairs_APA$table"
   ]
  },
  {
   "cell_type": "code",
   "execution_count": 28,
   "metadata": {},
   "outputs": [
    {
     "data": {
      "text/markdown": [
       "# Condition 11 of 72"
      ]
     },
     "metadata": {},
     "output_type": "display_data"
    },
    {
     "data": {
      "text/markdown": [
       "`tmin0==0.1 & chan0==\"RP\" & mode0==\"pos\"`"
      ]
     },
     "metadata": {},
     "output_type": "display_data"
    },
    {
     "data": {
      "text/markdown": [
       "### Table"
      ]
     },
     "metadata": {},
     "output_type": "display_data"
    },
    {
     "data": {
      "text/html": [
       "<table>\n",
       "<caption>A apa_results_table: 1 × 7</caption>\n",
       "<thead>\n",
       "\t<tr><th></th><th scope=col>Effect</th><th scope=col>F</th><th scope=col>df1</th><th scope=col>df2</th><th scope=col>MSE</th><th scope=col>p</th><th scope=col>ges</th></tr>\n",
       "\t<tr><th></th><th scope=col>&lt;ppj_lbll&gt;</th><th scope=col>&lt;ppj_lbll&gt;</th><th scope=col>&lt;ppj_lbll&gt;</th><th scope=col>&lt;ppj_lbll&gt;</th><th scope=col>&lt;ppj_lbll&gt;</th><th scope=col>&lt;ppj_lbll&gt;</th><th scope=col>&lt;ppj_lbll&gt;</th></tr>\n",
       "</thead>\n",
       "<tbody>\n",
       "\t<tr><th scope=row>1</th><td>Cond0</td><td>0.04</td><td>1.91</td><td>78.18</td><td>0.78</td><td>.954</td><td>.000</td></tr>\n",
       "</tbody>\n",
       "</table>\n"
      ],
      "text/latex": [
       "A apa\\_results\\_table: 1 × 7\n",
       "\\begin{tabular}{r|lllllll}\n",
       "  & Effect & F & df1 & df2 & MSE & p & ges\\\\\n",
       "  & <ppj\\_lbll> & <ppj\\_lbll> & <ppj\\_lbll> & <ppj\\_lbll> & <ppj\\_lbll> & <ppj\\_lbll> & <ppj\\_lbll>\\\\\n",
       "\\hline\n",
       "\t1 & Cond0 & 0.04 & 1.91 & 78.18 & 0.78 & .954 & .000\\\\\n",
       "\\end{tabular}\n"
      ],
      "text/markdown": [
       "\n",
       "A apa_results_table: 1 × 7\n",
       "\n",
       "| <!--/--> | Effect &lt;ppj_lbll&gt; | F &lt;ppj_lbll&gt; | df1 &lt;ppj_lbll&gt; | df2 &lt;ppj_lbll&gt; | MSE &lt;ppj_lbll&gt; | p &lt;ppj_lbll&gt; | ges &lt;ppj_lbll&gt; |\n",
       "|---|---|---|---|---|---|---|---|\n",
       "| 1 | Cond0 | 0.04 | 1.91 | 78.18 | 0.78 | .954 | .000 |\n",
       "\n"
      ],
      "text/plain": [
       "  Effect F    df1  df2   MSE  p    ges \n",
       "1 Cond0  0.04 1.91 78.18 0.78 .954 .000"
      ]
     },
     "metadata": {},
     "output_type": "display_data"
    },
    {
     "data": {
      "text/markdown": [
       "### Result"
      ]
     },
     "metadata": {},
     "output_type": "display_data"
    },
    {
     "data": {
      "text/markdown": [
       "$F(1.91, 78.18) = 0.04$, $\\mathit{MSE} = 0.78$, $p = .954$, $\\hat{\\eta}^2_G = .000$"
      ]
     },
     "metadata": {},
     "output_type": "display_data"
    },
    {
     "data": {
      "text/markdown": [
       "### Summary (all done1, incl. NANs)"
      ]
     },
     "metadata": {},
     "output_type": "display_data"
    },
    {
     "data": {
      "text/html": [
       "<table>\n",
       "<caption>A tibble: 3 × 5</caption>\n",
       "<thead>\n",
       "\t<tr><th scope=col>cond0</th><th scope=col>N</th><th scope=col>valX_M</th><th scope=col>valX_SD</th><th scope=col>valX_SE</th></tr>\n",
       "\t<tr><th scope=col>&lt;fct&gt;</th><th scope=col>&lt;int&gt;</th><th scope=col>&lt;dbl&gt;</th><th scope=col>&lt;dbl&gt;</th><th scope=col>&lt;dbl&gt;</th></tr>\n",
       "</thead>\n",
       "<tbody>\n",
       "\t<tr><td>noun_F</td><td>42</td><td>4.964665</td><td>2.926827</td><td>0.4516192</td></tr>\n",
       "\t<tr><td>noun_M</td><td>42</td><td>4.911975</td><td>2.758665</td><td>0.4256713</td></tr>\n",
       "\t<tr><td>verb_X</td><td>42</td><td>4.950949</td><td>2.587426</td><td>0.3992485</td></tr>\n",
       "</tbody>\n",
       "</table>\n"
      ],
      "text/latex": [
       "A tibble: 3 × 5\n",
       "\\begin{tabular}{lllll}\n",
       " cond0 & N & valX\\_M & valX\\_SD & valX\\_SE\\\\\n",
       " <fct> & <int> & <dbl> & <dbl> & <dbl>\\\\\n",
       "\\hline\n",
       "\t noun\\_F & 42 & 4.964665 & 2.926827 & 0.4516192\\\\\n",
       "\t noun\\_M & 42 & 4.911975 & 2.758665 & 0.4256713\\\\\n",
       "\t verb\\_X & 42 & 4.950949 & 2.587426 & 0.3992485\\\\\n",
       "\\end{tabular}\n"
      ],
      "text/markdown": [
       "\n",
       "A tibble: 3 × 5\n",
       "\n",
       "| cond0 &lt;fct&gt; | N &lt;int&gt; | valX_M &lt;dbl&gt; | valX_SD &lt;dbl&gt; | valX_SE &lt;dbl&gt; |\n",
       "|---|---|---|---|---|\n",
       "| noun_F | 42 | 4.964665 | 2.926827 | 0.4516192 |\n",
       "| noun_M | 42 | 4.911975 | 2.758665 | 0.4256713 |\n",
       "| verb_X | 42 | 4.950949 | 2.587426 | 0.3992485 |\n",
       "\n"
      ],
      "text/plain": [
       "  cond0  N  valX_M   valX_SD  valX_SE  \n",
       "1 noun_F 42 4.964665 2.926827 0.4516192\n",
       "2 noun_M 42 4.911975 2.758665 0.4256713\n",
       "3 verb_X 42 4.950949 2.587426 0.3992485"
      ]
     },
     "metadata": {},
     "output_type": "display_data"
    },
    {
     "data": {
      "text/markdown": [
       "### Expected marginal means"
      ]
     },
     "metadata": {},
     "output_type": "display_data"
    },
    {
     "data": {
      "text/html": [
       "<table>\n",
       "<caption>A apa_results_table: 3 × 5</caption>\n",
       "<thead>\n",
       "\t<tr><th></th><th scope=col>cond0</th><th scope=col>estimate</th><th scope=col>ci</th><th scope=col>statistic</th><th scope=col>p.value</th></tr>\n",
       "\t<tr><th></th><th scope=col>&lt;chr&gt;</th><th scope=col>&lt;ppj_lbll&gt;</th><th scope=col>&lt;ppj_lbll&gt;</th><th scope=col>&lt;ppj_lbll&gt;</th><th scope=col>&lt;ppj_lbll&gt;</th></tr>\n",
       "</thead>\n",
       "<tbody>\n",
       "\t<tr><th scope=row>noun_F</th><td>noun_F</td><td>4.96</td><td>$[4.11$, $5.82]$</td><td>11.65</td><td>&lt; .001</td></tr>\n",
       "\t<tr><th scope=row>noun_M</th><td>noun_M</td><td>4.91</td><td>$[4.05$, $5.77]$</td><td>11.53</td><td>&lt; .001</td></tr>\n",
       "\t<tr><th scope=row>verb_X</th><td>verb_X</td><td>4.95</td><td>$[4.09$, $5.81]$</td><td>11.62</td><td>&lt; .001</td></tr>\n",
       "</tbody>\n",
       "</table>\n"
      ],
      "text/latex": [
       "A apa\\_results\\_table: 3 × 5\n",
       "\\begin{tabular}{r|lllll}\n",
       "  & cond0 & estimate & ci & statistic & p.value\\\\\n",
       "  & <chr> & <ppj\\_lbll> & <ppj\\_lbll> & <ppj\\_lbll> & <ppj\\_lbll>\\\\\n",
       "\\hline\n",
       "\tnoun\\_F & noun\\_F & 4.96 & \\${[}4.11\\$, \\$5.82{]}\\$ & 11.65 & < .001\\\\\n",
       "\tnoun\\_M & noun\\_M & 4.91 & \\${[}4.05\\$, \\$5.77{]}\\$ & 11.53 & < .001\\\\\n",
       "\tverb\\_X & verb\\_X & 4.95 & \\${[}4.09\\$, \\$5.81{]}\\$ & 11.62 & < .001\\\\\n",
       "\\end{tabular}\n"
      ],
      "text/markdown": [
       "\n",
       "A apa_results_table: 3 × 5\n",
       "\n",
       "| <!--/--> | cond0 &lt;chr&gt; | estimate &lt;ppj_lbll&gt; | ci &lt;ppj_lbll&gt; | statistic &lt;ppj_lbll&gt; | p.value &lt;ppj_lbll&gt; |\n",
       "|---|---|---|---|---|---|\n",
       "| noun_F | noun_F | 4.96 | $[4.11$, $5.82]$ | 11.65 | &lt; .001 |\n",
       "| noun_M | noun_M | 4.91 | $[4.05$, $5.77]$ | 11.53 | &lt; .001 |\n",
       "| verb_X | verb_X | 4.95 | $[4.09$, $5.81]$ | 11.62 | &lt; .001 |\n",
       "\n"
      ],
      "text/plain": [
       "       cond0  estimate ci               statistic p.value\n",
       "noun_F noun_F 4.96     $[4.11$, $5.82]$ 11.65     < .001 \n",
       "noun_M noun_M 4.91     $[4.05$, $5.77]$ 11.53     < .001 \n",
       "verb_X verb_X 4.95     $[4.09$, $5.81]$ 11.62     < .001 "
      ]
     },
     "metadata": {},
     "output_type": "display_data"
    },
    {
     "data": {
      "text/markdown": [
       "### Paired comparisons for expected marginal means"
      ]
     },
     "metadata": {},
     "output_type": "display_data"
    },
    {
     "data": {
      "text/html": [
       "<table>\n",
       "<caption>A apa_results_table: 3 × 5</caption>\n",
       "<thead>\n",
       "\t<tr><th></th><th scope=col>contrast</th><th scope=col>estimate</th><th scope=col>ci</th><th scope=col>statistic</th><th scope=col>p.value</th></tr>\n",
       "\t<tr><th></th><th scope=col>&lt;ppj_lbll&gt;</th><th scope=col>&lt;ppj_lbll&gt;</th><th scope=col>&lt;ppj_lbll&gt;</th><th scope=col>&lt;ppj_lbll&gt;</th><th scope=col>&lt;ppj_lbll&gt;</th></tr>\n",
       "</thead>\n",
       "<tbody>\n",
       "\t<tr><th scope=row>noun_F_noun_M</th><td>noun_F - noun_M</td><td>0.05 </td><td>$[-0.40$, $0.50]$</td><td>0.28 </td><td>.958</td></tr>\n",
       "\t<tr><th scope=row>noun_F_verb_X</th><td>noun_F - verb_X</td><td>0.01 </td><td>$[-0.44$, $0.46]$</td><td>0.07 </td><td>.997</td></tr>\n",
       "\t<tr><th scope=row>noun_M_verb_X</th><td>noun_M - verb_X</td><td>-0.04</td><td>$[-0.49$, $0.41]$</td><td>-0.21</td><td>.977</td></tr>\n",
       "</tbody>\n",
       "</table>\n"
      ],
      "text/latex": [
       "A apa\\_results\\_table: 3 × 5\n",
       "\\begin{tabular}{r|lllll}\n",
       "  & contrast & estimate & ci & statistic & p.value\\\\\n",
       "  & <ppj\\_lbll> & <ppj\\_lbll> & <ppj\\_lbll> & <ppj\\_lbll> & <ppj\\_lbll>\\\\\n",
       "\\hline\n",
       "\tnoun\\_F\\_noun\\_M & noun\\_F - noun\\_M & 0.05  & \\${[}-0.40\\$, \\$0.50{]}\\$ & 0.28  & .958\\\\\n",
       "\tnoun\\_F\\_verb\\_X & noun\\_F - verb\\_X & 0.01  & \\${[}-0.44\\$, \\$0.46{]}\\$ & 0.07  & .997\\\\\n",
       "\tnoun\\_M\\_verb\\_X & noun\\_M - verb\\_X & -0.04 & \\${[}-0.49\\$, \\$0.41{]}\\$ & -0.21 & .977\\\\\n",
       "\\end{tabular}\n"
      ],
      "text/markdown": [
       "\n",
       "A apa_results_table: 3 × 5\n",
       "\n",
       "| <!--/--> | contrast &lt;ppj_lbll&gt; | estimate &lt;ppj_lbll&gt; | ci &lt;ppj_lbll&gt; | statistic &lt;ppj_lbll&gt; | p.value &lt;ppj_lbll&gt; |\n",
       "|---|---|---|---|---|---|\n",
       "| noun_F_noun_M | noun_F - noun_M | 0.05  | $[-0.40$, $0.50]$ | 0.28  | .958 |\n",
       "| noun_F_verb_X | noun_F - verb_X | 0.01  | $[-0.44$, $0.46]$ | 0.07  | .997 |\n",
       "| noun_M_verb_X | noun_M - verb_X | -0.04 | $[-0.49$, $0.41]$ | -0.21 | .977 |\n",
       "\n"
      ],
      "text/plain": [
       "              contrast        estimate ci                statistic p.value\n",
       "noun_F_noun_M noun_F - noun_M 0.05     $[-0.40$, $0.50]$ 0.28      .958   \n",
       "noun_F_verb_X noun_F - verb_X 0.01     $[-0.44$, $0.46]$ 0.07      .997   \n",
       "noun_M_verb_X noun_M - verb_X -0.04    $[-0.49$, $0.41]$ -0.21     .977   "
      ]
     },
     "metadata": {},
     "output_type": "display_data"
    }
   ],
   "source": [
    "IDX <- IDX+1; COND <- CONDS[IDX]\n",
    "data1 <- droplevels(subset(df1, eval(parse(text=COND)))); data1 <- data1[complete.cases(data1),]; done1 <- AOV4(data1,COND)\n",
    "display_markdown(str_c(\"# Condition \",IDX,\" of \",length(CONDS))); display_markdown(done1$info); display_markdown(\"### Table\"); done1$aov_APA$table; display_markdown(\"### Result\"); display_markdown(done1$aov_APA[[\"full_result\"]][[\"cond0\"]]); display_markdown(\"### Summary (all done1, incl. NANs)\"); done1$summary; display_markdown(\"### Expected marginal means\"); done1$emm_APA$table; display_markdown(\"### Paired comparisons for expected marginal means\"); done1$pairs_APA$table"
   ]
  },
  {
   "cell_type": "code",
   "execution_count": 29,
   "metadata": {},
   "outputs": [
    {
     "name": "stderr",
     "output_type": "stream",
     "text": [
      "Warning message:\n",
      "“Missing values for following ID(s):\n",
      "02ppxm, 07zrxf, 09msxf, 25abxf, 32mjxf, 37lpxm\n",
      "Removing those cases from the analysis.”\n"
     ]
    },
    {
     "data": {
      "text/markdown": [
       "# Condition 12 of 72"
      ]
     },
     "metadata": {},
     "output_type": "display_data"
    },
    {
     "data": {
      "text/markdown": [
       "`tmin0==0.1 & chan0==\"RP\" & mode0==\"neg\"`"
      ]
     },
     "metadata": {},
     "output_type": "display_data"
    },
    {
     "data": {
      "text/markdown": [
       "### Table"
      ]
     },
     "metadata": {},
     "output_type": "display_data"
    },
    {
     "data": {
      "text/html": [
       "<table>\n",
       "<caption>A apa_results_table: 1 × 7</caption>\n",
       "<thead>\n",
       "\t<tr><th></th><th scope=col>Effect</th><th scope=col>F</th><th scope=col>df1</th><th scope=col>df2</th><th scope=col>MSE</th><th scope=col>p</th><th scope=col>ges</th></tr>\n",
       "\t<tr><th></th><th scope=col>&lt;ppj_lbll&gt;</th><th scope=col>&lt;ppj_lbll&gt;</th><th scope=col>&lt;ppj_lbll&gt;</th><th scope=col>&lt;ppj_lbll&gt;</th><th scope=col>&lt;ppj_lbll&gt;</th><th scope=col>&lt;ppj_lbll&gt;</th><th scope=col>&lt;ppj_lbll&gt;</th></tr>\n",
       "</thead>\n",
       "<tbody>\n",
       "\t<tr><th scope=row>1</th><td>Cond0</td><td>1.20</td><td>1.60</td><td>38.31</td><td>0.49</td><td>.304</td><td>.003</td></tr>\n",
       "</tbody>\n",
       "</table>\n"
      ],
      "text/latex": [
       "A apa\\_results\\_table: 1 × 7\n",
       "\\begin{tabular}{r|lllllll}\n",
       "  & Effect & F & df1 & df2 & MSE & p & ges\\\\\n",
       "  & <ppj\\_lbll> & <ppj\\_lbll> & <ppj\\_lbll> & <ppj\\_lbll> & <ppj\\_lbll> & <ppj\\_lbll> & <ppj\\_lbll>\\\\\n",
       "\\hline\n",
       "\t1 & Cond0 & 1.20 & 1.60 & 38.31 & 0.49 & .304 & .003\\\\\n",
       "\\end{tabular}\n"
      ],
      "text/markdown": [
       "\n",
       "A apa_results_table: 1 × 7\n",
       "\n",
       "| <!--/--> | Effect &lt;ppj_lbll&gt; | F &lt;ppj_lbll&gt; | df1 &lt;ppj_lbll&gt; | df2 &lt;ppj_lbll&gt; | MSE &lt;ppj_lbll&gt; | p &lt;ppj_lbll&gt; | ges &lt;ppj_lbll&gt; |\n",
       "|---|---|---|---|---|---|---|---|\n",
       "| 1 | Cond0 | 1.20 | 1.60 | 38.31 | 0.49 | .304 | .003 |\n",
       "\n"
      ],
      "text/plain": [
       "  Effect F    df1  df2   MSE  p    ges \n",
       "1 Cond0  1.20 1.60 38.31 0.49 .304 .003"
      ]
     },
     "metadata": {},
     "output_type": "display_data"
    },
    {
     "data": {
      "text/markdown": [
       "### Result"
      ]
     },
     "metadata": {},
     "output_type": "display_data"
    },
    {
     "data": {
      "text/markdown": [
       "$F(1.60, 38.31) = 1.20$, $\\mathit{MSE} = 0.49$, $p = .304$, $\\hat{\\eta}^2_G = .003$"
      ]
     },
     "metadata": {},
     "output_type": "display_data"
    },
    {
     "data": {
      "text/markdown": [
       "### Summary (all done1, incl. NANs)"
      ]
     },
     "metadata": {},
     "output_type": "display_data"
    },
    {
     "data": {
      "text/html": [
       "<table>\n",
       "<caption>A tibble: 3 × 5</caption>\n",
       "<thead>\n",
       "\t<tr><th scope=col>cond0</th><th scope=col>N</th><th scope=col>valX_M</th><th scope=col>valX_SD</th><th scope=col>valX_SE</th></tr>\n",
       "\t<tr><th scope=col>&lt;fct&gt;</th><th scope=col>&lt;int&gt;</th><th scope=col>&lt;dbl&gt;</th><th scope=col>&lt;dbl&gt;</th><th scope=col>&lt;dbl&gt;</th></tr>\n",
       "</thead>\n",
       "<tbody>\n",
       "\t<tr><td>noun_F</td><td>29</td><td>-0.3562989</td><td>2.160323</td><td>0.4011619</td></tr>\n",
       "\t<tr><td>noun_M</td><td>27</td><td>-0.1143332</td><td>2.088925</td><td>0.4020138</td></tr>\n",
       "\t<tr><td>verb_X</td><td>29</td><td>-0.3698908</td><td>1.870764</td><td>0.3473922</td></tr>\n",
       "</tbody>\n",
       "</table>\n"
      ],
      "text/latex": [
       "A tibble: 3 × 5\n",
       "\\begin{tabular}{lllll}\n",
       " cond0 & N & valX\\_M & valX\\_SD & valX\\_SE\\\\\n",
       " <fct> & <int> & <dbl> & <dbl> & <dbl>\\\\\n",
       "\\hline\n",
       "\t noun\\_F & 29 & -0.3562989 & 2.160323 & 0.4011619\\\\\n",
       "\t noun\\_M & 27 & -0.1143332 & 2.088925 & 0.4020138\\\\\n",
       "\t verb\\_X & 29 & -0.3698908 & 1.870764 & 0.3473922\\\\\n",
       "\\end{tabular}\n"
      ],
      "text/markdown": [
       "\n",
       "A tibble: 3 × 5\n",
       "\n",
       "| cond0 &lt;fct&gt; | N &lt;int&gt; | valX_M &lt;dbl&gt; | valX_SD &lt;dbl&gt; | valX_SE &lt;dbl&gt; |\n",
       "|---|---|---|---|---|\n",
       "| noun_F | 29 | -0.3562989 | 2.160323 | 0.4011619 |\n",
       "| noun_M | 27 | -0.1143332 | 2.088925 | 0.4020138 |\n",
       "| verb_X | 29 | -0.3698908 | 1.870764 | 0.3473922 |\n",
       "\n"
      ],
      "text/plain": [
       "  cond0  N  valX_M     valX_SD  valX_SE  \n",
       "1 noun_F 29 -0.3562989 2.160323 0.4011619\n",
       "2 noun_M 27 -0.1143332 2.088925 0.4020138\n",
       "3 verb_X 29 -0.3698908 1.870764 0.3473922"
      ]
     },
     "metadata": {},
     "output_type": "display_data"
    },
    {
     "data": {
      "text/markdown": [
       "### Expected marginal means"
      ]
     },
     "metadata": {},
     "output_type": "display_data"
    },
    {
     "data": {
      "text/html": [
       "<table>\n",
       "<caption>A apa_results_table: 3 × 5</caption>\n",
       "<thead>\n",
       "\t<tr><th></th><th scope=col>cond0</th><th scope=col>estimate</th><th scope=col>ci</th><th scope=col>statistic</th><th scope=col>p.value</th></tr>\n",
       "\t<tr><th></th><th scope=col>&lt;chr&gt;</th><th scope=col>&lt;ppj_lbll&gt;</th><th scope=col>&lt;ppj_lbll&gt;</th><th scope=col>&lt;ppj_lbll&gt;</th><th scope=col>&lt;ppj_lbll&gt;</th></tr>\n",
       "</thead>\n",
       "<tbody>\n",
       "\t<tr><th scope=row>noun_F</th><td>noun_F</td><td>-0.61</td><td>$[-1.42$, $0.19]$</td><td>-1.56</td><td>.130</td></tr>\n",
       "\t<tr><th scope=row>noun_M</th><td>noun_M</td><td>-0.36</td><td>$[-1.16$, $0.45]$</td><td>-0.90</td><td>.375</td></tr>\n",
       "\t<tr><th scope=row>verb_X</th><td>verb_X</td><td>-0.41</td><td>$[-1.21$, $0.40]$</td><td>-1.04</td><td>.308</td></tr>\n",
       "</tbody>\n",
       "</table>\n"
      ],
      "text/latex": [
       "A apa\\_results\\_table: 3 × 5\n",
       "\\begin{tabular}{r|lllll}\n",
       "  & cond0 & estimate & ci & statistic & p.value\\\\\n",
       "  & <chr> & <ppj\\_lbll> & <ppj\\_lbll> & <ppj\\_lbll> & <ppj\\_lbll>\\\\\n",
       "\\hline\n",
       "\tnoun\\_F & noun\\_F & -0.61 & \\${[}-1.42\\$, \\$0.19{]}\\$ & -1.56 & .130\\\\\n",
       "\tnoun\\_M & noun\\_M & -0.36 & \\${[}-1.16\\$, \\$0.45{]}\\$ & -0.90 & .375\\\\\n",
       "\tverb\\_X & verb\\_X & -0.41 & \\${[}-1.21\\$, \\$0.40{]}\\$ & -1.04 & .308\\\\\n",
       "\\end{tabular}\n"
      ],
      "text/markdown": [
       "\n",
       "A apa_results_table: 3 × 5\n",
       "\n",
       "| <!--/--> | cond0 &lt;chr&gt; | estimate &lt;ppj_lbll&gt; | ci &lt;ppj_lbll&gt; | statistic &lt;ppj_lbll&gt; | p.value &lt;ppj_lbll&gt; |\n",
       "|---|---|---|---|---|---|\n",
       "| noun_F | noun_F | -0.61 | $[-1.42$, $0.19]$ | -1.56 | .130 |\n",
       "| noun_M | noun_M | -0.36 | $[-1.16$, $0.45]$ | -0.90 | .375 |\n",
       "| verb_X | verb_X | -0.41 | $[-1.21$, $0.40]$ | -1.04 | .308 |\n",
       "\n"
      ],
      "text/plain": [
       "       cond0  estimate ci                statistic p.value\n",
       "noun_F noun_F -0.61    $[-1.42$, $0.19]$ -1.56     .130   \n",
       "noun_M noun_M -0.36    $[-1.16$, $0.45]$ -0.90     .375   \n",
       "verb_X verb_X -0.41    $[-1.21$, $0.40]$ -1.04     .308   "
      ]
     },
     "metadata": {},
     "output_type": "display_data"
    },
    {
     "data": {
      "text/markdown": [
       "### Paired comparisons for expected marginal means"
      ]
     },
     "metadata": {},
     "output_type": "display_data"
    },
    {
     "data": {
      "text/html": [
       "<table>\n",
       "<caption>A apa_results_table: 3 × 5</caption>\n",
       "<thead>\n",
       "\t<tr><th></th><th scope=col>contrast</th><th scope=col>estimate</th><th scope=col>ci</th><th scope=col>statistic</th><th scope=col>p.value</th></tr>\n",
       "\t<tr><th></th><th scope=col>&lt;ppj_lbll&gt;</th><th scope=col>&lt;ppj_lbll&gt;</th><th scope=col>&lt;ppj_lbll&gt;</th><th scope=col>&lt;ppj_lbll&gt;</th><th scope=col>&lt;ppj_lbll&gt;</th></tr>\n",
       "</thead>\n",
       "<tbody>\n",
       "\t<tr><th scope=row>noun_F_noun_M</th><td>noun_F - noun_M</td><td>-0.26</td><td>$[-0.69$, $0.17]$</td><td>-1.47</td><td>.316</td></tr>\n",
       "\t<tr><th scope=row>noun_F_verb_X</th><td>noun_F - verb_X</td><td>-0.21</td><td>$[-0.63$, $0.22]$</td><td>-1.16</td><td>.480</td></tr>\n",
       "\t<tr><th scope=row>noun_M_verb_X</th><td>noun_M - verb_X</td><td>0.05 </td><td>$[-0.37$, $0.48]$</td><td>0.30 </td><td>.951</td></tr>\n",
       "</tbody>\n",
       "</table>\n"
      ],
      "text/latex": [
       "A apa\\_results\\_table: 3 × 5\n",
       "\\begin{tabular}{r|lllll}\n",
       "  & contrast & estimate & ci & statistic & p.value\\\\\n",
       "  & <ppj\\_lbll> & <ppj\\_lbll> & <ppj\\_lbll> & <ppj\\_lbll> & <ppj\\_lbll>\\\\\n",
       "\\hline\n",
       "\tnoun\\_F\\_noun\\_M & noun\\_F - noun\\_M & -0.26 & \\${[}-0.69\\$, \\$0.17{]}\\$ & -1.47 & .316\\\\\n",
       "\tnoun\\_F\\_verb\\_X & noun\\_F - verb\\_X & -0.21 & \\${[}-0.63\\$, \\$0.22{]}\\$ & -1.16 & .480\\\\\n",
       "\tnoun\\_M\\_verb\\_X & noun\\_M - verb\\_X & 0.05  & \\${[}-0.37\\$, \\$0.48{]}\\$ & 0.30  & .951\\\\\n",
       "\\end{tabular}\n"
      ],
      "text/markdown": [
       "\n",
       "A apa_results_table: 3 × 5\n",
       "\n",
       "| <!--/--> | contrast &lt;ppj_lbll&gt; | estimate &lt;ppj_lbll&gt; | ci &lt;ppj_lbll&gt; | statistic &lt;ppj_lbll&gt; | p.value &lt;ppj_lbll&gt; |\n",
       "|---|---|---|---|---|---|\n",
       "| noun_F_noun_M | noun_F - noun_M | -0.26 | $[-0.69$, $0.17]$ | -1.47 | .316 |\n",
       "| noun_F_verb_X | noun_F - verb_X | -0.21 | $[-0.63$, $0.22]$ | -1.16 | .480 |\n",
       "| noun_M_verb_X | noun_M - verb_X | 0.05  | $[-0.37$, $0.48]$ | 0.30  | .951 |\n",
       "\n"
      ],
      "text/plain": [
       "              contrast        estimate ci                statistic p.value\n",
       "noun_F_noun_M noun_F - noun_M -0.26    $[-0.69$, $0.17]$ -1.47     .316   \n",
       "noun_F_verb_X noun_F - verb_X -0.21    $[-0.63$, $0.22]$ -1.16     .480   \n",
       "noun_M_verb_X noun_M - verb_X 0.05     $[-0.37$, $0.48]$ 0.30      .951   "
      ]
     },
     "metadata": {},
     "output_type": "display_data"
    }
   ],
   "source": [
    "IDX <- IDX+1; COND <- CONDS[IDX]\n",
    "data1 <- droplevels(subset(df1, eval(parse(text=COND)))); data1 <- data1[complete.cases(data1),]; done1 <- AOV4(data1,COND)\n",
    "display_markdown(str_c(\"# Condition \",IDX,\" of \",length(CONDS))); display_markdown(done1$info); display_markdown(\"### Table\"); done1$aov_APA$table; display_markdown(\"### Result\"); display_markdown(done1$aov_APA[[\"full_result\"]][[\"cond0\"]]); display_markdown(\"### Summary (all done1, incl. NANs)\"); done1$summary; display_markdown(\"### Expected marginal means\"); done1$emm_APA$table; display_markdown(\"### Paired comparisons for expected marginal means\"); done1$pairs_APA$table"
   ]
  },
  {
   "cell_type": "code",
   "execution_count": 30,
   "metadata": {},
   "outputs": [
    {
     "data": {
      "text/markdown": [
       "# Condition 13 of 72"
      ]
     },
     "metadata": {},
     "output_type": "display_data"
    },
    {
     "data": {
      "text/markdown": [
       "`tmin0==0.19 & chan0==\"LF\" & mode0==\"pos\"`"
      ]
     },
     "metadata": {},
     "output_type": "display_data"
    },
    {
     "data": {
      "text/markdown": [
       "### Table"
      ]
     },
     "metadata": {},
     "output_type": "display_data"
    },
    {
     "data": {
      "text/html": [
       "<table>\n",
       "<caption>A apa_results_table: 1 × 7</caption>\n",
       "<thead>\n",
       "\t<tr><th></th><th scope=col>Effect</th><th scope=col>F</th><th scope=col>df1</th><th scope=col>df2</th><th scope=col>MSE</th><th scope=col>p</th><th scope=col>ges</th></tr>\n",
       "\t<tr><th></th><th scope=col>&lt;ppj_lbll&gt;</th><th scope=col>&lt;ppj_lbll&gt;</th><th scope=col>&lt;ppj_lbll&gt;</th><th scope=col>&lt;ppj_lbll&gt;</th><th scope=col>&lt;ppj_lbll&gt;</th><th scope=col>&lt;ppj_lbll&gt;</th><th scope=col>&lt;ppj_lbll&gt;</th></tr>\n",
       "</thead>\n",
       "<tbody>\n",
       "\t<tr><th scope=row>1</th><td>Cond0</td><td>2.25</td><td>1.77</td><td>70.67</td><td>0.36</td><td>.119</td><td>.003</td></tr>\n",
       "</tbody>\n",
       "</table>\n"
      ],
      "text/latex": [
       "A apa\\_results\\_table: 1 × 7\n",
       "\\begin{tabular}{r|lllllll}\n",
       "  & Effect & F & df1 & df2 & MSE & p & ges\\\\\n",
       "  & <ppj\\_lbll> & <ppj\\_lbll> & <ppj\\_lbll> & <ppj\\_lbll> & <ppj\\_lbll> & <ppj\\_lbll> & <ppj\\_lbll>\\\\\n",
       "\\hline\n",
       "\t1 & Cond0 & 2.25 & 1.77 & 70.67 & 0.36 & .119 & .003\\\\\n",
       "\\end{tabular}\n"
      ],
      "text/markdown": [
       "\n",
       "A apa_results_table: 1 × 7\n",
       "\n",
       "| <!--/--> | Effect &lt;ppj_lbll&gt; | F &lt;ppj_lbll&gt; | df1 &lt;ppj_lbll&gt; | df2 &lt;ppj_lbll&gt; | MSE &lt;ppj_lbll&gt; | p &lt;ppj_lbll&gt; | ges &lt;ppj_lbll&gt; |\n",
       "|---|---|---|---|---|---|---|---|\n",
       "| 1 | Cond0 | 2.25 | 1.77 | 70.67 | 0.36 | .119 | .003 |\n",
       "\n"
      ],
      "text/plain": [
       "  Effect F    df1  df2   MSE  p    ges \n",
       "1 Cond0  2.25 1.77 70.67 0.36 .119 .003"
      ]
     },
     "metadata": {},
     "output_type": "display_data"
    },
    {
     "data": {
      "text/markdown": [
       "### Result"
      ]
     },
     "metadata": {},
     "output_type": "display_data"
    },
    {
     "data": {
      "text/markdown": [
       "$F(1.77, 70.67) = 2.25$, $\\mathit{MSE} = 0.36$, $p = .119$, $\\hat{\\eta}^2_G = .003$"
      ]
     },
     "metadata": {},
     "output_type": "display_data"
    },
    {
     "data": {
      "text/markdown": [
       "### Summary (all done1, incl. NANs)"
      ]
     },
     "metadata": {},
     "output_type": "display_data"
    },
    {
     "data": {
      "text/html": [
       "<table>\n",
       "<caption>A tibble: 3 × 5</caption>\n",
       "<thead>\n",
       "\t<tr><th scope=col>cond0</th><th scope=col>N</th><th scope=col>valX_M</th><th scope=col>valX_SD</th><th scope=col>valX_SE</th></tr>\n",
       "\t<tr><th scope=col>&lt;fct&gt;</th><th scope=col>&lt;int&gt;</th><th scope=col>&lt;dbl&gt;</th><th scope=col>&lt;dbl&gt;</th><th scope=col>&lt;dbl&gt;</th></tr>\n",
       "</thead>\n",
       "<tbody>\n",
       "\t<tr><td>noun_F</td><td>41</td><td>2.109523</td><td>1.813195</td><td>0.2831735</td></tr>\n",
       "\t<tr><td>noun_M</td><td>41</td><td>1.902960</td><td>1.989802</td><td>0.3107548</td></tr>\n",
       "\t<tr><td>verb_X</td><td>41</td><td>1.863499</td><td>1.904413</td><td>0.2974194</td></tr>\n",
       "</tbody>\n",
       "</table>\n"
      ],
      "text/latex": [
       "A tibble: 3 × 5\n",
       "\\begin{tabular}{lllll}\n",
       " cond0 & N & valX\\_M & valX\\_SD & valX\\_SE\\\\\n",
       " <fct> & <int> & <dbl> & <dbl> & <dbl>\\\\\n",
       "\\hline\n",
       "\t noun\\_F & 41 & 2.109523 & 1.813195 & 0.2831735\\\\\n",
       "\t noun\\_M & 41 & 1.902960 & 1.989802 & 0.3107548\\\\\n",
       "\t verb\\_X & 41 & 1.863499 & 1.904413 & 0.2974194\\\\\n",
       "\\end{tabular}\n"
      ],
      "text/markdown": [
       "\n",
       "A tibble: 3 × 5\n",
       "\n",
       "| cond0 &lt;fct&gt; | N &lt;int&gt; | valX_M &lt;dbl&gt; | valX_SD &lt;dbl&gt; | valX_SE &lt;dbl&gt; |\n",
       "|---|---|---|---|---|\n",
       "| noun_F | 41 | 2.109523 | 1.813195 | 0.2831735 |\n",
       "| noun_M | 41 | 1.902960 | 1.989802 | 0.3107548 |\n",
       "| verb_X | 41 | 1.863499 | 1.904413 | 0.2974194 |\n",
       "\n"
      ],
      "text/plain": [
       "  cond0  N  valX_M   valX_SD  valX_SE  \n",
       "1 noun_F 41 2.109523 1.813195 0.2831735\n",
       "2 noun_M 41 1.902960 1.989802 0.3107548\n",
       "3 verb_X 41 1.863499 1.904413 0.2974194"
      ]
     },
     "metadata": {},
     "output_type": "display_data"
    },
    {
     "data": {
      "text/markdown": [
       "### Expected marginal means"
      ]
     },
     "metadata": {},
     "output_type": "display_data"
    },
    {
     "data": {
      "text/html": [
       "<table>\n",
       "<caption>A apa_results_table: 3 × 5</caption>\n",
       "<thead>\n",
       "\t<tr><th></th><th scope=col>cond0</th><th scope=col>estimate</th><th scope=col>ci</th><th scope=col>statistic</th><th scope=col>p.value</th></tr>\n",
       "\t<tr><th></th><th scope=col>&lt;chr&gt;</th><th scope=col>&lt;ppj_lbll&gt;</th><th scope=col>&lt;ppj_lbll&gt;</th><th scope=col>&lt;ppj_lbll&gt;</th><th scope=col>&lt;ppj_lbll&gt;</th></tr>\n",
       "</thead>\n",
       "<tbody>\n",
       "\t<tr><th scope=row>noun_F</th><td>noun_F</td><td>2.11</td><td>$[1.51$, $2.71]$</td><td>7.09</td><td>&lt; .001</td></tr>\n",
       "\t<tr><th scope=row>noun_M</th><td>noun_M</td><td>1.90</td><td>$[1.30$, $2.50]$</td><td>6.40</td><td>&lt; .001</td></tr>\n",
       "\t<tr><th scope=row>verb_X</th><td>verb_X</td><td>1.86</td><td>$[1.26$, $2.46]$</td><td>6.27</td><td>&lt; .001</td></tr>\n",
       "</tbody>\n",
       "</table>\n"
      ],
      "text/latex": [
       "A apa\\_results\\_table: 3 × 5\n",
       "\\begin{tabular}{r|lllll}\n",
       "  & cond0 & estimate & ci & statistic & p.value\\\\\n",
       "  & <chr> & <ppj\\_lbll> & <ppj\\_lbll> & <ppj\\_lbll> & <ppj\\_lbll>\\\\\n",
       "\\hline\n",
       "\tnoun\\_F & noun\\_F & 2.11 & \\${[}1.51\\$, \\$2.71{]}\\$ & 7.09 & < .001\\\\\n",
       "\tnoun\\_M & noun\\_M & 1.90 & \\${[}1.30\\$, \\$2.50{]}\\$ & 6.40 & < .001\\\\\n",
       "\tverb\\_X & verb\\_X & 1.86 & \\${[}1.26\\$, \\$2.46{]}\\$ & 6.27 & < .001\\\\\n",
       "\\end{tabular}\n"
      ],
      "text/markdown": [
       "\n",
       "A apa_results_table: 3 × 5\n",
       "\n",
       "| <!--/--> | cond0 &lt;chr&gt; | estimate &lt;ppj_lbll&gt; | ci &lt;ppj_lbll&gt; | statistic &lt;ppj_lbll&gt; | p.value &lt;ppj_lbll&gt; |\n",
       "|---|---|---|---|---|---|\n",
       "| noun_F | noun_F | 2.11 | $[1.51$, $2.71]$ | 7.09 | &lt; .001 |\n",
       "| noun_M | noun_M | 1.90 | $[1.30$, $2.50]$ | 6.40 | &lt; .001 |\n",
       "| verb_X | verb_X | 1.86 | $[1.26$, $2.46]$ | 6.27 | &lt; .001 |\n",
       "\n"
      ],
      "text/plain": [
       "       cond0  estimate ci               statistic p.value\n",
       "noun_F noun_F 2.11     $[1.51$, $2.71]$ 7.09      < .001 \n",
       "noun_M noun_M 1.90     $[1.30$, $2.50]$ 6.40      < .001 \n",
       "verb_X verb_X 1.86     $[1.26$, $2.46]$ 6.27      < .001 "
      ]
     },
     "metadata": {},
     "output_type": "display_data"
    },
    {
     "data": {
      "text/markdown": [
       "### Paired comparisons for expected marginal means"
      ]
     },
     "metadata": {},
     "output_type": "display_data"
    },
    {
     "data": {
      "text/html": [
       "<table>\n",
       "<caption>A apa_results_table: 3 × 5</caption>\n",
       "<thead>\n",
       "\t<tr><th></th><th scope=col>contrast</th><th scope=col>estimate</th><th scope=col>ci</th><th scope=col>statistic</th><th scope=col>p.value</th></tr>\n",
       "\t<tr><th></th><th scope=col>&lt;ppj_lbll&gt;</th><th scope=col>&lt;ppj_lbll&gt;</th><th scope=col>&lt;ppj_lbll&gt;</th><th scope=col>&lt;ppj_lbll&gt;</th><th scope=col>&lt;ppj_lbll&gt;</th></tr>\n",
       "</thead>\n",
       "<tbody>\n",
       "\t<tr><th scope=row>noun_F_noun_M</th><td>noun_F - noun_M</td><td>0.21</td><td>$[-0.09$, $0.50]$</td><td>1.66</td><td>.228</td></tr>\n",
       "\t<tr><th scope=row>noun_F_verb_X</th><td>noun_F - verb_X</td><td>0.25</td><td>$[-0.05$, $0.54]$</td><td>1.97</td><td>.126</td></tr>\n",
       "\t<tr><th scope=row>noun_M_verb_X</th><td>noun_M - verb_X</td><td>0.04</td><td>$[-0.26$, $0.34]$</td><td>0.32</td><td>.946</td></tr>\n",
       "</tbody>\n",
       "</table>\n"
      ],
      "text/latex": [
       "A apa\\_results\\_table: 3 × 5\n",
       "\\begin{tabular}{r|lllll}\n",
       "  & contrast & estimate & ci & statistic & p.value\\\\\n",
       "  & <ppj\\_lbll> & <ppj\\_lbll> & <ppj\\_lbll> & <ppj\\_lbll> & <ppj\\_lbll>\\\\\n",
       "\\hline\n",
       "\tnoun\\_F\\_noun\\_M & noun\\_F - noun\\_M & 0.21 & \\${[}-0.09\\$, \\$0.50{]}\\$ & 1.66 & .228\\\\\n",
       "\tnoun\\_F\\_verb\\_X & noun\\_F - verb\\_X & 0.25 & \\${[}-0.05\\$, \\$0.54{]}\\$ & 1.97 & .126\\\\\n",
       "\tnoun\\_M\\_verb\\_X & noun\\_M - verb\\_X & 0.04 & \\${[}-0.26\\$, \\$0.34{]}\\$ & 0.32 & .946\\\\\n",
       "\\end{tabular}\n"
      ],
      "text/markdown": [
       "\n",
       "A apa_results_table: 3 × 5\n",
       "\n",
       "| <!--/--> | contrast &lt;ppj_lbll&gt; | estimate &lt;ppj_lbll&gt; | ci &lt;ppj_lbll&gt; | statistic &lt;ppj_lbll&gt; | p.value &lt;ppj_lbll&gt; |\n",
       "|---|---|---|---|---|---|\n",
       "| noun_F_noun_M | noun_F - noun_M | 0.21 | $[-0.09$, $0.50]$ | 1.66 | .228 |\n",
       "| noun_F_verb_X | noun_F - verb_X | 0.25 | $[-0.05$, $0.54]$ | 1.97 | .126 |\n",
       "| noun_M_verb_X | noun_M - verb_X | 0.04 | $[-0.26$, $0.34]$ | 0.32 | .946 |\n",
       "\n"
      ],
      "text/plain": [
       "              contrast        estimate ci                statistic p.value\n",
       "noun_F_noun_M noun_F - noun_M 0.21     $[-0.09$, $0.50]$ 1.66      .228   \n",
       "noun_F_verb_X noun_F - verb_X 0.25     $[-0.05$, $0.54]$ 1.97      .126   \n",
       "noun_M_verb_X noun_M - verb_X 0.04     $[-0.26$, $0.34]$ 0.32      .946   "
      ]
     },
     "metadata": {},
     "output_type": "display_data"
    }
   ],
   "source": [
    "IDX <- IDX+1; COND <- CONDS[IDX]\n",
    "data1 <- droplevels(subset(df1, eval(parse(text=COND)))); data1 <- data1[complete.cases(data1),]; done1 <- AOV4(data1,COND)\n",
    "display_markdown(str_c(\"# Condition \",IDX,\" of \",length(CONDS))); display_markdown(done1$info); display_markdown(\"### Table\"); done1$aov_APA$table; display_markdown(\"### Result\"); display_markdown(done1$aov_APA[[\"full_result\"]][[\"cond0\"]]); display_markdown(\"### Summary (all done1, incl. NANs)\"); done1$summary; display_markdown(\"### Expected marginal means\"); done1$emm_APA$table; display_markdown(\"### Paired comparisons for expected marginal means\"); done1$pairs_APA$table"
   ]
  },
  {
   "cell_type": "code",
   "execution_count": 31,
   "metadata": {},
   "outputs": [
    {
     "name": "stderr",
     "output_type": "stream",
     "text": [
      "Warning message:\n",
      "“Missing values for following ID(s):\n",
      "06pppm, 07zrxf, 11kbxm, 13jsxm, 19jgxf, 22foxm, 28pmsf, 29jjxf, 30mszf, 31ltxf, 32mjxf, 33kkxm, 36rwxm, 40asxm, 42aszm\n",
      "Removing those cases from the analysis.”\n"
     ]
    },
    {
     "data": {
      "text/markdown": [
       "# Condition 14 of 72"
      ]
     },
     "metadata": {},
     "output_type": "display_data"
    },
    {
     "data": {
      "text/markdown": [
       "`tmin0==0.19 & chan0==\"LF\" & mode0==\"neg\"`"
      ]
     },
     "metadata": {},
     "output_type": "display_data"
    },
    {
     "data": {
      "text/markdown": [
       "### Table"
      ]
     },
     "metadata": {},
     "output_type": "display_data"
    },
    {
     "data": {
      "text/html": [
       "<table>\n",
       "<caption>A apa_results_table: 1 × 7</caption>\n",
       "<thead>\n",
       "\t<tr><th></th><th scope=col>Effect</th><th scope=col>F</th><th scope=col>df1</th><th scope=col>df2</th><th scope=col>MSE</th><th scope=col>p</th><th scope=col>ges</th></tr>\n",
       "\t<tr><th></th><th scope=col>&lt;ppj_lbll&gt;</th><th scope=col>&lt;ppj_lbll&gt;</th><th scope=col>&lt;ppj_lbll&gt;</th><th scope=col>&lt;ppj_lbll&gt;</th><th scope=col>&lt;ppj_lbll&gt;</th><th scope=col>&lt;ppj_lbll&gt;</th><th scope=col>&lt;ppj_lbll&gt;</th></tr>\n",
       "</thead>\n",
       "<tbody>\n",
       "\t<tr><th scope=row>1</th><td>Cond0</td><td>1.08</td><td>1.67</td><td>31.68</td><td>0.50</td><td>.342</td><td>.006</td></tr>\n",
       "</tbody>\n",
       "</table>\n"
      ],
      "text/latex": [
       "A apa\\_results\\_table: 1 × 7\n",
       "\\begin{tabular}{r|lllllll}\n",
       "  & Effect & F & df1 & df2 & MSE & p & ges\\\\\n",
       "  & <ppj\\_lbll> & <ppj\\_lbll> & <ppj\\_lbll> & <ppj\\_lbll> & <ppj\\_lbll> & <ppj\\_lbll> & <ppj\\_lbll>\\\\\n",
       "\\hline\n",
       "\t1 & Cond0 & 1.08 & 1.67 & 31.68 & 0.50 & .342 & .006\\\\\n",
       "\\end{tabular}\n"
      ],
      "text/markdown": [
       "\n",
       "A apa_results_table: 1 × 7\n",
       "\n",
       "| <!--/--> | Effect &lt;ppj_lbll&gt; | F &lt;ppj_lbll&gt; | df1 &lt;ppj_lbll&gt; | df2 &lt;ppj_lbll&gt; | MSE &lt;ppj_lbll&gt; | p &lt;ppj_lbll&gt; | ges &lt;ppj_lbll&gt; |\n",
       "|---|---|---|---|---|---|---|---|\n",
       "| 1 | Cond0 | 1.08 | 1.67 | 31.68 | 0.50 | .342 | .006 |\n",
       "\n"
      ],
      "text/plain": [
       "  Effect F    df1  df2   MSE  p    ges \n",
       "1 Cond0  1.08 1.67 31.68 0.50 .342 .006"
      ]
     },
     "metadata": {},
     "output_type": "display_data"
    },
    {
     "data": {
      "text/markdown": [
       "### Result"
      ]
     },
     "metadata": {},
     "output_type": "display_data"
    },
    {
     "data": {
      "text/markdown": [
       "$F(1.67, 31.68) = 1.08$, $\\mathit{MSE} = 0.50$, $p = .342$, $\\hat{\\eta}^2_G = .006$"
      ]
     },
     "metadata": {},
     "output_type": "display_data"
    },
    {
     "data": {
      "text/markdown": [
       "### Summary (all done1, incl. NANs)"
      ]
     },
     "metadata": {},
     "output_type": "display_data"
    },
    {
     "data": {
      "text/html": [
       "<table>\n",
       "<caption>A tibble: 3 × 5</caption>\n",
       "<thead>\n",
       "\t<tr><th scope=col>cond0</th><th scope=col>N</th><th scope=col>valX_M</th><th scope=col>valX_SD</th><th scope=col>valX_SE</th></tr>\n",
       "\t<tr><th scope=col>&lt;fct&gt;</th><th scope=col>&lt;int&gt;</th><th scope=col>&lt;dbl&gt;</th><th scope=col>&lt;dbl&gt;</th><th scope=col>&lt;dbl&gt;</th></tr>\n",
       "</thead>\n",
       "<tbody>\n",
       "\t<tr><td>noun_F</td><td>28</td><td>-0.6297689</td><td>1.830365</td><td>0.3459064</td></tr>\n",
       "\t<tr><td>noun_M</td><td>31</td><td>-0.2940191</td><td>2.314373</td><td>0.4156736</td></tr>\n",
       "\t<tr><td>verb_X</td><td>24</td><td>-0.7034579</td><td>1.670528</td><td>0.3409951</td></tr>\n",
       "</tbody>\n",
       "</table>\n"
      ],
      "text/latex": [
       "A tibble: 3 × 5\n",
       "\\begin{tabular}{lllll}\n",
       " cond0 & N & valX\\_M & valX\\_SD & valX\\_SE\\\\\n",
       " <fct> & <int> & <dbl> & <dbl> & <dbl>\\\\\n",
       "\\hline\n",
       "\t noun\\_F & 28 & -0.6297689 & 1.830365 & 0.3459064\\\\\n",
       "\t noun\\_M & 31 & -0.2940191 & 2.314373 & 0.4156736\\\\\n",
       "\t verb\\_X & 24 & -0.7034579 & 1.670528 & 0.3409951\\\\\n",
       "\\end{tabular}\n"
      ],
      "text/markdown": [
       "\n",
       "A tibble: 3 × 5\n",
       "\n",
       "| cond0 &lt;fct&gt; | N &lt;int&gt; | valX_M &lt;dbl&gt; | valX_SD &lt;dbl&gt; | valX_SE &lt;dbl&gt; |\n",
       "|---|---|---|---|---|\n",
       "| noun_F | 28 | -0.6297689 | 1.830365 | 0.3459064 |\n",
       "| noun_M | 31 | -0.2940191 | 2.314373 | 0.4156736 |\n",
       "| verb_X | 24 | -0.7034579 | 1.670528 | 0.3409951 |\n",
       "\n"
      ],
      "text/plain": [
       "  cond0  N  valX_M     valX_SD  valX_SE  \n",
       "1 noun_F 28 -0.6297689 1.830365 0.3459064\n",
       "2 noun_M 31 -0.2940191 2.314373 0.4156736\n",
       "3 verb_X 24 -0.7034579 1.670528 0.3409951"
      ]
     },
     "metadata": {},
     "output_type": "display_data"
    },
    {
     "data": {
      "text/markdown": [
       "### Expected marginal means"
      ]
     },
     "metadata": {},
     "output_type": "display_data"
    },
    {
     "data": {
      "text/html": [
       "<table>\n",
       "<caption>A apa_results_table: 3 × 5</caption>\n",
       "<thead>\n",
       "\t<tr><th></th><th scope=col>cond0</th><th scope=col>estimate</th><th scope=col>ci</th><th scope=col>statistic</th><th scope=col>p.value</th></tr>\n",
       "\t<tr><th></th><th scope=col>&lt;chr&gt;</th><th scope=col>&lt;ppj_lbll&gt;</th><th scope=col>&lt;ppj_lbll&gt;</th><th scope=col>&lt;ppj_lbll&gt;</th><th scope=col>&lt;ppj_lbll&gt;</th></tr>\n",
       "</thead>\n",
       "<tbody>\n",
       "\t<tr><th scope=row>noun_F</th><td>noun_F</td><td>-0.70</td><td>$[-1.46$, $0.06]$ </td><td>-1.91</td><td>.068</td></tr>\n",
       "\t<tr><th scope=row>noun_M</th><td>noun_M</td><td>-0.76</td><td>$[-1.52$, $0.00]$ </td><td>-2.07</td><td>.049</td></tr>\n",
       "\t<tr><th scope=row>verb_X</th><td>verb_X</td><td>-0.99</td><td>$[-1.75$, $-0.23]$</td><td>-2.69</td><td>.013</td></tr>\n",
       "</tbody>\n",
       "</table>\n"
      ],
      "text/latex": [
       "A apa\\_results\\_table: 3 × 5\n",
       "\\begin{tabular}{r|lllll}\n",
       "  & cond0 & estimate & ci & statistic & p.value\\\\\n",
       "  & <chr> & <ppj\\_lbll> & <ppj\\_lbll> & <ppj\\_lbll> & <ppj\\_lbll>\\\\\n",
       "\\hline\n",
       "\tnoun\\_F & noun\\_F & -0.70 & \\${[}-1.46\\$, \\$0.06{]}\\$  & -1.91 & .068\\\\\n",
       "\tnoun\\_M & noun\\_M & -0.76 & \\${[}-1.52\\$, \\$0.00{]}\\$  & -2.07 & .049\\\\\n",
       "\tverb\\_X & verb\\_X & -0.99 & \\${[}-1.75\\$, \\$-0.23{]}\\$ & -2.69 & .013\\\\\n",
       "\\end{tabular}\n"
      ],
      "text/markdown": [
       "\n",
       "A apa_results_table: 3 × 5\n",
       "\n",
       "| <!--/--> | cond0 &lt;chr&gt; | estimate &lt;ppj_lbll&gt; | ci &lt;ppj_lbll&gt; | statistic &lt;ppj_lbll&gt; | p.value &lt;ppj_lbll&gt; |\n",
       "|---|---|---|---|---|---|\n",
       "| noun_F | noun_F | -0.70 | $[-1.46$, $0.06]$  | -1.91 | .068 |\n",
       "| noun_M | noun_M | -0.76 | $[-1.52$, $0.00]$  | -2.07 | .049 |\n",
       "| verb_X | verb_X | -0.99 | $[-1.75$, $-0.23]$ | -2.69 | .013 |\n",
       "\n"
      ],
      "text/plain": [
       "       cond0  estimate ci                 statistic p.value\n",
       "noun_F noun_F -0.70    $[-1.46$, $0.06]$  -1.91     .068   \n",
       "noun_M noun_M -0.76    $[-1.52$, $0.00]$  -2.07     .049   \n",
       "verb_X verb_X -0.99    $[-1.75$, $-0.23]$ -2.69     .013   "
      ]
     },
     "metadata": {},
     "output_type": "display_data"
    },
    {
     "data": {
      "text/markdown": [
       "### Paired comparisons for expected marginal means"
      ]
     },
     "metadata": {},
     "output_type": "display_data"
    },
    {
     "data": {
      "text/html": [
       "<table>\n",
       "<caption>A apa_results_table: 3 × 5</caption>\n",
       "<thead>\n",
       "\t<tr><th></th><th scope=col>contrast</th><th scope=col>estimate</th><th scope=col>ci</th><th scope=col>statistic</th><th scope=col>p.value</th></tr>\n",
       "\t<tr><th></th><th scope=col>&lt;ppj_lbll&gt;</th><th scope=col>&lt;ppj_lbll&gt;</th><th scope=col>&lt;ppj_lbll&gt;</th><th scope=col>&lt;ppj_lbll&gt;</th><th scope=col>&lt;ppj_lbll&gt;</th></tr>\n",
       "</thead>\n",
       "<tbody>\n",
       "\t<tr><th scope=row>noun_F_noun_M</th><td>noun_F - noun_M</td><td>0.06</td><td>$[-0.44$, $0.56]$</td><td>0.28</td><td>.957</td></tr>\n",
       "\t<tr><th scope=row>noun_F_verb_X</th><td>noun_F - verb_X</td><td>0.28</td><td>$[-0.22$, $0.78]$</td><td>1.39</td><td>.357</td></tr>\n",
       "\t<tr><th scope=row>noun_M_verb_X</th><td>noun_M - verb_X</td><td>0.23</td><td>$[-0.27$, $0.73]$</td><td>1.11</td><td>.516</td></tr>\n",
       "</tbody>\n",
       "</table>\n"
      ],
      "text/latex": [
       "A apa\\_results\\_table: 3 × 5\n",
       "\\begin{tabular}{r|lllll}\n",
       "  & contrast & estimate & ci & statistic & p.value\\\\\n",
       "  & <ppj\\_lbll> & <ppj\\_lbll> & <ppj\\_lbll> & <ppj\\_lbll> & <ppj\\_lbll>\\\\\n",
       "\\hline\n",
       "\tnoun\\_F\\_noun\\_M & noun\\_F - noun\\_M & 0.06 & \\${[}-0.44\\$, \\$0.56{]}\\$ & 0.28 & .957\\\\\n",
       "\tnoun\\_F\\_verb\\_X & noun\\_F - verb\\_X & 0.28 & \\${[}-0.22\\$, \\$0.78{]}\\$ & 1.39 & .357\\\\\n",
       "\tnoun\\_M\\_verb\\_X & noun\\_M - verb\\_X & 0.23 & \\${[}-0.27\\$, \\$0.73{]}\\$ & 1.11 & .516\\\\\n",
       "\\end{tabular}\n"
      ],
      "text/markdown": [
       "\n",
       "A apa_results_table: 3 × 5\n",
       "\n",
       "| <!--/--> | contrast &lt;ppj_lbll&gt; | estimate &lt;ppj_lbll&gt; | ci &lt;ppj_lbll&gt; | statistic &lt;ppj_lbll&gt; | p.value &lt;ppj_lbll&gt; |\n",
       "|---|---|---|---|---|---|\n",
       "| noun_F_noun_M | noun_F - noun_M | 0.06 | $[-0.44$, $0.56]$ | 0.28 | .957 |\n",
       "| noun_F_verb_X | noun_F - verb_X | 0.28 | $[-0.22$, $0.78]$ | 1.39 | .357 |\n",
       "| noun_M_verb_X | noun_M - verb_X | 0.23 | $[-0.27$, $0.73]$ | 1.11 | .516 |\n",
       "\n"
      ],
      "text/plain": [
       "              contrast        estimate ci                statistic p.value\n",
       "noun_F_noun_M noun_F - noun_M 0.06     $[-0.44$, $0.56]$ 0.28      .957   \n",
       "noun_F_verb_X noun_F - verb_X 0.28     $[-0.22$, $0.78]$ 1.39      .357   \n",
       "noun_M_verb_X noun_M - verb_X 0.23     $[-0.27$, $0.73]$ 1.11      .516   "
      ]
     },
     "metadata": {},
     "output_type": "display_data"
    }
   ],
   "source": [
    "IDX <- IDX+1; COND <- CONDS[IDX]\n",
    "data1 <- droplevels(subset(df1, eval(parse(text=COND)))); data1 <- data1[complete.cases(data1),]; done1 <- AOV4(data1,COND)\n",
    "display_markdown(str_c(\"# Condition \",IDX,\" of \",length(CONDS))); display_markdown(done1$info); display_markdown(\"### Table\"); done1$aov_APA$table; display_markdown(\"### Result\"); display_markdown(done1$aov_APA[[\"full_result\"]][[\"cond0\"]]); display_markdown(\"### Summary (all done1, incl. NANs)\"); done1$summary; display_markdown(\"### Expected marginal means\"); done1$emm_APA$table; display_markdown(\"### Paired comparisons for expected marginal means\"); done1$pairs_APA$table"
   ]
  },
  {
   "cell_type": "code",
   "execution_count": 32,
   "metadata": {},
   "outputs": [
    {
     "name": "stderr",
     "output_type": "stream",
     "text": [
      "Warning message:\n",
      "“Missing values for following ID(s):\n",
      "20jpxf\n",
      "Removing those cases from the analysis.”\n",
      "Warning message in summary.Anova.mlm(x$Anova):\n",
      "“HF eps > 1 treated as 1”\n"
     ]
    },
    {
     "data": {
      "text/markdown": [
       "# Condition 15 of 72"
      ]
     },
     "metadata": {},
     "output_type": "display_data"
    },
    {
     "data": {
      "text/markdown": [
       "`tmin0==0.19 & chan0==\"RF\" & mode0==\"pos\"`"
      ]
     },
     "metadata": {},
     "output_type": "display_data"
    },
    {
     "data": {
      "text/markdown": [
       "### Table"
      ]
     },
     "metadata": {},
     "output_type": "display_data"
    },
    {
     "data": {
      "text/html": [
       "<table>\n",
       "<caption>A apa_results_table: 1 × 7</caption>\n",
       "<thead>\n",
       "\t<tr><th></th><th scope=col>Effect</th><th scope=col>F</th><th scope=col>df1</th><th scope=col>df2</th><th scope=col>MSE</th><th scope=col>p</th><th scope=col>ges</th></tr>\n",
       "\t<tr><th></th><th scope=col>&lt;ppj_lbll&gt;</th><th scope=col>&lt;ppj_lbll&gt;</th><th scope=col>&lt;ppj_lbll&gt;</th><th scope=col>&lt;ppj_lbll&gt;</th><th scope=col>&lt;ppj_lbll&gt;</th><th scope=col>&lt;ppj_lbll&gt;</th><th scope=col>&lt;ppj_lbll&gt;</th></tr>\n",
       "</thead>\n",
       "<tbody>\n",
       "\t<tr><th scope=row>1</th><td>Cond0</td><td>7.02</td><td>1.95</td><td>77.85</td><td>0.26</td><td>.002</td><td>.009</td></tr>\n",
       "</tbody>\n",
       "</table>\n"
      ],
      "text/latex": [
       "A apa\\_results\\_table: 1 × 7\n",
       "\\begin{tabular}{r|lllllll}\n",
       "  & Effect & F & df1 & df2 & MSE & p & ges\\\\\n",
       "  & <ppj\\_lbll> & <ppj\\_lbll> & <ppj\\_lbll> & <ppj\\_lbll> & <ppj\\_lbll> & <ppj\\_lbll> & <ppj\\_lbll>\\\\\n",
       "\\hline\n",
       "\t1 & Cond0 & 7.02 & 1.95 & 77.85 & 0.26 & .002 & .009\\\\\n",
       "\\end{tabular}\n"
      ],
      "text/markdown": [
       "\n",
       "A apa_results_table: 1 × 7\n",
       "\n",
       "| <!--/--> | Effect &lt;ppj_lbll&gt; | F &lt;ppj_lbll&gt; | df1 &lt;ppj_lbll&gt; | df2 &lt;ppj_lbll&gt; | MSE &lt;ppj_lbll&gt; | p &lt;ppj_lbll&gt; | ges &lt;ppj_lbll&gt; |\n",
       "|---|---|---|---|---|---|---|---|\n",
       "| 1 | Cond0 | 7.02 | 1.95 | 77.85 | 0.26 | .002 | .009 |\n",
       "\n"
      ],
      "text/plain": [
       "  Effect F    df1  df2   MSE  p    ges \n",
       "1 Cond0  7.02 1.95 77.85 0.26 .002 .009"
      ]
     },
     "metadata": {},
     "output_type": "display_data"
    },
    {
     "data": {
      "text/markdown": [
       "### Result"
      ]
     },
     "metadata": {},
     "output_type": "display_data"
    },
    {
     "data": {
      "text/markdown": [
       "$F(1.95, 77.85) = 7.02$, $\\mathit{MSE} = 0.26$, $p = .002$, $\\hat{\\eta}^2_G = .009$"
      ]
     },
     "metadata": {},
     "output_type": "display_data"
    },
    {
     "data": {
      "text/markdown": [
       "### Summary (all done1, incl. NANs)"
      ]
     },
     "metadata": {},
     "output_type": "display_data"
    },
    {
     "data": {
      "text/html": [
       "<table>\n",
       "<caption>A tibble: 3 × 5</caption>\n",
       "<thead>\n",
       "\t<tr><th scope=col>cond0</th><th scope=col>N</th><th scope=col>valX_M</th><th scope=col>valX_SD</th><th scope=col>valX_SE</th></tr>\n",
       "\t<tr><th scope=col>&lt;fct&gt;</th><th scope=col>&lt;int&gt;</th><th scope=col>&lt;dbl&gt;</th><th scope=col>&lt;dbl&gt;</th><th scope=col>&lt;dbl&gt;</th></tr>\n",
       "</thead>\n",
       "<tbody>\n",
       "\t<tr><td>noun_F</td><td>41</td><td>0.9304280</td><td>1.760343</td><td>0.2749194</td></tr>\n",
       "\t<tr><td>noun_M</td><td>42</td><td>0.5349085</td><td>1.712355</td><td>0.2642221</td></tr>\n",
       "\t<tr><td>verb_X</td><td>42</td><td>0.6656455</td><td>1.810383</td><td>0.2793482</td></tr>\n",
       "</tbody>\n",
       "</table>\n"
      ],
      "text/latex": [
       "A tibble: 3 × 5\n",
       "\\begin{tabular}{lllll}\n",
       " cond0 & N & valX\\_M & valX\\_SD & valX\\_SE\\\\\n",
       " <fct> & <int> & <dbl> & <dbl> & <dbl>\\\\\n",
       "\\hline\n",
       "\t noun\\_F & 41 & 0.9304280 & 1.760343 & 0.2749194\\\\\n",
       "\t noun\\_M & 42 & 0.5349085 & 1.712355 & 0.2642221\\\\\n",
       "\t verb\\_X & 42 & 0.6656455 & 1.810383 & 0.2793482\\\\\n",
       "\\end{tabular}\n"
      ],
      "text/markdown": [
       "\n",
       "A tibble: 3 × 5\n",
       "\n",
       "| cond0 &lt;fct&gt; | N &lt;int&gt; | valX_M &lt;dbl&gt; | valX_SD &lt;dbl&gt; | valX_SE &lt;dbl&gt; |\n",
       "|---|---|---|---|---|\n",
       "| noun_F | 41 | 0.9304280 | 1.760343 | 0.2749194 |\n",
       "| noun_M | 42 | 0.5349085 | 1.712355 | 0.2642221 |\n",
       "| verb_X | 42 | 0.6656455 | 1.810383 | 0.2793482 |\n",
       "\n"
      ],
      "text/plain": [
       "  cond0  N  valX_M    valX_SD  valX_SE  \n",
       "1 noun_F 41 0.9304280 1.760343 0.2749194\n",
       "2 noun_M 42 0.5349085 1.712355 0.2642221\n",
       "3 verb_X 42 0.6656455 1.810383 0.2793482"
      ]
     },
     "metadata": {},
     "output_type": "display_data"
    },
    {
     "data": {
      "text/markdown": [
       "### Expected marginal means"
      ]
     },
     "metadata": {},
     "output_type": "display_data"
    },
    {
     "data": {
      "text/html": [
       "<table>\n",
       "<caption>A apa_results_table: 3 × 5</caption>\n",
       "<thead>\n",
       "\t<tr><th></th><th scope=col>cond0</th><th scope=col>estimate</th><th scope=col>ci</th><th scope=col>statistic</th><th scope=col>p.value</th></tr>\n",
       "\t<tr><th></th><th scope=col>&lt;chr&gt;</th><th scope=col>&lt;ppj_lbll&gt;</th><th scope=col>&lt;ppj_lbll&gt;</th><th scope=col>&lt;ppj_lbll&gt;</th><th scope=col>&lt;ppj_lbll&gt;</th></tr>\n",
       "</thead>\n",
       "<tbody>\n",
       "\t<tr><th scope=row>noun_F</th><td>noun_F</td><td>0.93</td><td>$[0.37$, $1.49]$ </td><td>3.36</td><td>.002</td></tr>\n",
       "\t<tr><th scope=row>noun_M</th><td>noun_M</td><td>0.53</td><td>$[-0.03$, $1.08]$</td><td>1.90</td><td>.064</td></tr>\n",
       "\t<tr><th scope=row>verb_X</th><td>verb_X</td><td>0.65</td><td>$[0.09$, $1.21]$ </td><td>2.34</td><td>.024</td></tr>\n",
       "</tbody>\n",
       "</table>\n"
      ],
      "text/latex": [
       "A apa\\_results\\_table: 3 × 5\n",
       "\\begin{tabular}{r|lllll}\n",
       "  & cond0 & estimate & ci & statistic & p.value\\\\\n",
       "  & <chr> & <ppj\\_lbll> & <ppj\\_lbll> & <ppj\\_lbll> & <ppj\\_lbll>\\\\\n",
       "\\hline\n",
       "\tnoun\\_F & noun\\_F & 0.93 & \\${[}0.37\\$, \\$1.49{]}\\$  & 3.36 & .002\\\\\n",
       "\tnoun\\_M & noun\\_M & 0.53 & \\${[}-0.03\\$, \\$1.08{]}\\$ & 1.90 & .064\\\\\n",
       "\tverb\\_X & verb\\_X & 0.65 & \\${[}0.09\\$, \\$1.21{]}\\$  & 2.34 & .024\\\\\n",
       "\\end{tabular}\n"
      ],
      "text/markdown": [
       "\n",
       "A apa_results_table: 3 × 5\n",
       "\n",
       "| <!--/--> | cond0 &lt;chr&gt; | estimate &lt;ppj_lbll&gt; | ci &lt;ppj_lbll&gt; | statistic &lt;ppj_lbll&gt; | p.value &lt;ppj_lbll&gt; |\n",
       "|---|---|---|---|---|---|\n",
       "| noun_F | noun_F | 0.93 | $[0.37$, $1.49]$  | 3.36 | .002 |\n",
       "| noun_M | noun_M | 0.53 | $[-0.03$, $1.08]$ | 1.90 | .064 |\n",
       "| verb_X | verb_X | 0.65 | $[0.09$, $1.21]$  | 2.34 | .024 |\n",
       "\n"
      ],
      "text/plain": [
       "       cond0  estimate ci                statistic p.value\n",
       "noun_F noun_F 0.93     $[0.37$, $1.49]$  3.36      .002   \n",
       "noun_M noun_M 0.53     $[-0.03$, $1.08]$ 1.90      .064   \n",
       "verb_X verb_X 0.65     $[0.09$, $1.21]$  2.34      .024   "
      ]
     },
     "metadata": {},
     "output_type": "display_data"
    },
    {
     "data": {
      "text/markdown": [
       "### Paired comparisons for expected marginal means"
      ]
     },
     "metadata": {},
     "output_type": "display_data"
    },
    {
     "data": {
      "text/html": [
       "<table>\n",
       "<caption>A apa_results_table: 3 × 5</caption>\n",
       "<thead>\n",
       "\t<tr><th></th><th scope=col>contrast</th><th scope=col>estimate</th><th scope=col>ci</th><th scope=col>statistic</th><th scope=col>p.value</th></tr>\n",
       "\t<tr><th></th><th scope=col>&lt;ppj_lbll&gt;</th><th scope=col>&lt;ppj_lbll&gt;</th><th scope=col>&lt;ppj_lbll&gt;</th><th scope=col>&lt;ppj_lbll&gt;</th><th scope=col>&lt;ppj_lbll&gt;</th></tr>\n",
       "</thead>\n",
       "<tbody>\n",
       "\t<tr><th scope=row>noun_F_noun_M</th><td>noun_F - noun_M</td><td>0.40 </td><td>$[0.14$, $0.67]$ </td><td>3.65 </td><td>.001</td></tr>\n",
       "\t<tr><th scope=row>noun_F_verb_X</th><td>noun_F - verb_X</td><td>0.28 </td><td>$[0.02$, $0.55]$ </td><td>2.55 </td><td>.034</td></tr>\n",
       "\t<tr><th scope=row>noun_M_verb_X</th><td>noun_M - verb_X</td><td>-0.12</td><td>$[-0.39$, $0.14]$</td><td>-1.11</td><td>.512</td></tr>\n",
       "</tbody>\n",
       "</table>\n"
      ],
      "text/latex": [
       "A apa\\_results\\_table: 3 × 5\n",
       "\\begin{tabular}{r|lllll}\n",
       "  & contrast & estimate & ci & statistic & p.value\\\\\n",
       "  & <ppj\\_lbll> & <ppj\\_lbll> & <ppj\\_lbll> & <ppj\\_lbll> & <ppj\\_lbll>\\\\\n",
       "\\hline\n",
       "\tnoun\\_F\\_noun\\_M & noun\\_F - noun\\_M & 0.40  & \\${[}0.14\\$, \\$0.67{]}\\$  & 3.65  & .001\\\\\n",
       "\tnoun\\_F\\_verb\\_X & noun\\_F - verb\\_X & 0.28  & \\${[}0.02\\$, \\$0.55{]}\\$  & 2.55  & .034\\\\\n",
       "\tnoun\\_M\\_verb\\_X & noun\\_M - verb\\_X & -0.12 & \\${[}-0.39\\$, \\$0.14{]}\\$ & -1.11 & .512\\\\\n",
       "\\end{tabular}\n"
      ],
      "text/markdown": [
       "\n",
       "A apa_results_table: 3 × 5\n",
       "\n",
       "| <!--/--> | contrast &lt;ppj_lbll&gt; | estimate &lt;ppj_lbll&gt; | ci &lt;ppj_lbll&gt; | statistic &lt;ppj_lbll&gt; | p.value &lt;ppj_lbll&gt; |\n",
       "|---|---|---|---|---|---|\n",
       "| noun_F_noun_M | noun_F - noun_M | 0.40  | $[0.14$, $0.67]$  | 3.65  | .001 |\n",
       "| noun_F_verb_X | noun_F - verb_X | 0.28  | $[0.02$, $0.55]$  | 2.55  | .034 |\n",
       "| noun_M_verb_X | noun_M - verb_X | -0.12 | $[-0.39$, $0.14]$ | -1.11 | .512 |\n",
       "\n"
      ],
      "text/plain": [
       "              contrast        estimate ci                statistic p.value\n",
       "noun_F_noun_M noun_F - noun_M 0.40     $[0.14$, $0.67]$  3.65      .001   \n",
       "noun_F_verb_X noun_F - verb_X 0.28     $[0.02$, $0.55]$  2.55      .034   \n",
       "noun_M_verb_X noun_M - verb_X -0.12    $[-0.39$, $0.14]$ -1.11     .512   "
      ]
     },
     "metadata": {},
     "output_type": "display_data"
    }
   ],
   "source": [
    "IDX <- IDX+1; COND <- CONDS[IDX]\n",
    "data1 <- droplevels(subset(df1, eval(parse(text=COND)))); data1 <- data1[complete.cases(data1),]; done1 <- AOV4(data1,COND)\n",
    "display_markdown(str_c(\"# Condition \",IDX,\" of \",length(CONDS))); display_markdown(done1$info); display_markdown(\"### Table\"); done1$aov_APA$table; display_markdown(\"### Result\"); display_markdown(done1$aov_APA[[\"full_result\"]][[\"cond0\"]]); display_markdown(\"### Summary (all done1, incl. NANs)\"); done1$summary; display_markdown(\"### Expected marginal means\"); done1$emm_APA$table; display_markdown(\"### Paired comparisons for expected marginal means\"); done1$pairs_APA$table"
   ]
  },
  {
   "cell_type": "code",
   "execution_count": 33,
   "metadata": {},
   "outputs": [
    {
     "name": "stderr",
     "output_type": "stream",
     "text": [
      "Warning message:\n",
      "“Missing values for following ID(s):\n",
      "02ppxm, 06pppm, 13jsxm, 15agxf, 16olxm, 17makf, 21koxf, 29jjxf, 30mszf, 32mjxf, 34gsxm, 37lpxm, 38slxm, 40asxm, 41roxm, 42aszm\n",
      "Removing those cases from the analysis.”\n"
     ]
    },
    {
     "data": {
      "text/markdown": [
       "# Condition 16 of 72"
      ]
     },
     "metadata": {},
     "output_type": "display_data"
    },
    {
     "data": {
      "text/markdown": [
       "`tmin0==0.19 & chan0==\"RF\" & mode0==\"neg\"`"
      ]
     },
     "metadata": {},
     "output_type": "display_data"
    },
    {
     "data": {
      "text/markdown": [
       "### Table"
      ]
     },
     "metadata": {},
     "output_type": "display_data"
    },
    {
     "data": {
      "text/html": [
       "<table>\n",
       "<caption>A apa_results_table: 1 × 7</caption>\n",
       "<thead>\n",
       "\t<tr><th></th><th scope=col>Effect</th><th scope=col>F</th><th scope=col>df1</th><th scope=col>df2</th><th scope=col>MSE</th><th scope=col>p</th><th scope=col>ges</th></tr>\n",
       "\t<tr><th></th><th scope=col>&lt;ppj_lbll&gt;</th><th scope=col>&lt;ppj_lbll&gt;</th><th scope=col>&lt;ppj_lbll&gt;</th><th scope=col>&lt;ppj_lbll&gt;</th><th scope=col>&lt;ppj_lbll&gt;</th><th scope=col>&lt;ppj_lbll&gt;</th><th scope=col>&lt;ppj_lbll&gt;</th></tr>\n",
       "</thead>\n",
       "<tbody>\n",
       "\t<tr><th scope=row>1</th><td>Cond0</td><td>0.27</td><td>1.67</td><td>41.79</td><td>0.64</td><td>.726</td><td>.002</td></tr>\n",
       "</tbody>\n",
       "</table>\n"
      ],
      "text/latex": [
       "A apa\\_results\\_table: 1 × 7\n",
       "\\begin{tabular}{r|lllllll}\n",
       "  & Effect & F & df1 & df2 & MSE & p & ges\\\\\n",
       "  & <ppj\\_lbll> & <ppj\\_lbll> & <ppj\\_lbll> & <ppj\\_lbll> & <ppj\\_lbll> & <ppj\\_lbll> & <ppj\\_lbll>\\\\\n",
       "\\hline\n",
       "\t1 & Cond0 & 0.27 & 1.67 & 41.79 & 0.64 & .726 & .002\\\\\n",
       "\\end{tabular}\n"
      ],
      "text/markdown": [
       "\n",
       "A apa_results_table: 1 × 7\n",
       "\n",
       "| <!--/--> | Effect &lt;ppj_lbll&gt; | F &lt;ppj_lbll&gt; | df1 &lt;ppj_lbll&gt; | df2 &lt;ppj_lbll&gt; | MSE &lt;ppj_lbll&gt; | p &lt;ppj_lbll&gt; | ges &lt;ppj_lbll&gt; |\n",
       "|---|---|---|---|---|---|---|---|\n",
       "| 1 | Cond0 | 0.27 | 1.67 | 41.79 | 0.64 | .726 | .002 |\n",
       "\n"
      ],
      "text/plain": [
       "  Effect F    df1  df2   MSE  p    ges \n",
       "1 Cond0  0.27 1.67 41.79 0.64 .726 .002"
      ]
     },
     "metadata": {},
     "output_type": "display_data"
    },
    {
     "data": {
      "text/markdown": [
       "### Result"
      ]
     },
     "metadata": {},
     "output_type": "display_data"
    },
    {
     "data": {
      "text/markdown": [
       "$F(1.67, 41.79) = 0.27$, $\\mathit{MSE} = 0.64$, $p = .726$, $\\hat{\\eta}^2_G = .002$"
      ]
     },
     "metadata": {},
     "output_type": "display_data"
    },
    {
     "data": {
      "text/markdown": [
       "### Summary (all done1, incl. NANs)"
      ]
     },
     "metadata": {},
     "output_type": "display_data"
    },
    {
     "data": {
      "text/html": [
       "<table>\n",
       "<caption>A tibble: 3 × 5</caption>\n",
       "<thead>\n",
       "\t<tr><th scope=col>cond0</th><th scope=col>N</th><th scope=col>valX_M</th><th scope=col>valX_SD</th><th scope=col>valX_SE</th></tr>\n",
       "\t<tr><th scope=col>&lt;fct&gt;</th><th scope=col>&lt;int&gt;</th><th scope=col>&lt;dbl&gt;</th><th scope=col>&lt;dbl&gt;</th><th scope=col>&lt;dbl&gt;</th></tr>\n",
       "</thead>\n",
       "<tbody>\n",
       "\t<tr><td>noun_F</td><td>36</td><td>-1.838795</td><td>1.471569</td><td>0.2452614</td></tr>\n",
       "\t<tr><td>noun_M</td><td>36</td><td>-1.736157</td><td>1.782889</td><td>0.2971482</td></tr>\n",
       "\t<tr><td>verb_X</td><td>31</td><td>-1.703051</td><td>1.545000</td><td>0.2774902</td></tr>\n",
       "</tbody>\n",
       "</table>\n"
      ],
      "text/latex": [
       "A tibble: 3 × 5\n",
       "\\begin{tabular}{lllll}\n",
       " cond0 & N & valX\\_M & valX\\_SD & valX\\_SE\\\\\n",
       " <fct> & <int> & <dbl> & <dbl> & <dbl>\\\\\n",
       "\\hline\n",
       "\t noun\\_F & 36 & -1.838795 & 1.471569 & 0.2452614\\\\\n",
       "\t noun\\_M & 36 & -1.736157 & 1.782889 & 0.2971482\\\\\n",
       "\t verb\\_X & 31 & -1.703051 & 1.545000 & 0.2774902\\\\\n",
       "\\end{tabular}\n"
      ],
      "text/markdown": [
       "\n",
       "A tibble: 3 × 5\n",
       "\n",
       "| cond0 &lt;fct&gt; | N &lt;int&gt; | valX_M &lt;dbl&gt; | valX_SD &lt;dbl&gt; | valX_SE &lt;dbl&gt; |\n",
       "|---|---|---|---|---|\n",
       "| noun_F | 36 | -1.838795 | 1.471569 | 0.2452614 |\n",
       "| noun_M | 36 | -1.736157 | 1.782889 | 0.2971482 |\n",
       "| verb_X | 31 | -1.703051 | 1.545000 | 0.2774902 |\n",
       "\n"
      ],
      "text/plain": [
       "  cond0  N  valX_M    valX_SD  valX_SE  \n",
       "1 noun_F 36 -1.838795 1.471569 0.2452614\n",
       "2 noun_M 36 -1.736157 1.782889 0.2971482\n",
       "3 verb_X 31 -1.703051 1.545000 0.2774902"
      ]
     },
     "metadata": {},
     "output_type": "display_data"
    },
    {
     "data": {
      "text/markdown": [
       "### Expected marginal means"
      ]
     },
     "metadata": {},
     "output_type": "display_data"
    },
    {
     "data": {
      "text/html": [
       "<table>\n",
       "<caption>A apa_results_table: 3 × 5</caption>\n",
       "<thead>\n",
       "\t<tr><th></th><th scope=col>cond0</th><th scope=col>estimate</th><th scope=col>ci</th><th scope=col>statistic</th><th scope=col>p.value</th></tr>\n",
       "\t<tr><th></th><th scope=col>&lt;chr&gt;</th><th scope=col>&lt;ppj_lbll&gt;</th><th scope=col>&lt;ppj_lbll&gt;</th><th scope=col>&lt;ppj_lbll&gt;</th><th scope=col>&lt;ppj_lbll&gt;</th></tr>\n",
       "</thead>\n",
       "<tbody>\n",
       "\t<tr><th scope=row>noun_F</th><td>noun_F</td><td>-1.83</td><td>$[-2.46$, $-1.20]$</td><td>-5.93</td><td>&lt; .001</td></tr>\n",
       "\t<tr><th scope=row>noun_M</th><td>noun_M</td><td>-1.77</td><td>$[-2.40$, $-1.15]$</td><td>-5.74</td><td>&lt; .001</td></tr>\n",
       "\t<tr><th scope=row>verb_X</th><td>verb_X</td><td>-1.68</td><td>$[-2.31$, $-1.06]$</td><td>-5.45</td><td>&lt; .001</td></tr>\n",
       "</tbody>\n",
       "</table>\n"
      ],
      "text/latex": [
       "A apa\\_results\\_table: 3 × 5\n",
       "\\begin{tabular}{r|lllll}\n",
       "  & cond0 & estimate & ci & statistic & p.value\\\\\n",
       "  & <chr> & <ppj\\_lbll> & <ppj\\_lbll> & <ppj\\_lbll> & <ppj\\_lbll>\\\\\n",
       "\\hline\n",
       "\tnoun\\_F & noun\\_F & -1.83 & \\${[}-2.46\\$, \\$-1.20{]}\\$ & -5.93 & < .001\\\\\n",
       "\tnoun\\_M & noun\\_M & -1.77 & \\${[}-2.40\\$, \\$-1.15{]}\\$ & -5.74 & < .001\\\\\n",
       "\tverb\\_X & verb\\_X & -1.68 & \\${[}-2.31\\$, \\$-1.06{]}\\$ & -5.45 & < .001\\\\\n",
       "\\end{tabular}\n"
      ],
      "text/markdown": [
       "\n",
       "A apa_results_table: 3 × 5\n",
       "\n",
       "| <!--/--> | cond0 &lt;chr&gt; | estimate &lt;ppj_lbll&gt; | ci &lt;ppj_lbll&gt; | statistic &lt;ppj_lbll&gt; | p.value &lt;ppj_lbll&gt; |\n",
       "|---|---|---|---|---|---|\n",
       "| noun_F | noun_F | -1.83 | $[-2.46$, $-1.20]$ | -5.93 | &lt; .001 |\n",
       "| noun_M | noun_M | -1.77 | $[-2.40$, $-1.15]$ | -5.74 | &lt; .001 |\n",
       "| verb_X | verb_X | -1.68 | $[-2.31$, $-1.06]$ | -5.45 | &lt; .001 |\n",
       "\n"
      ],
      "text/plain": [
       "       cond0  estimate ci                 statistic p.value\n",
       "noun_F noun_F -1.83    $[-2.46$, $-1.20]$ -5.93     < .001 \n",
       "noun_M noun_M -1.77    $[-2.40$, $-1.15]$ -5.74     < .001 \n",
       "verb_X verb_X -1.68    $[-2.31$, $-1.06]$ -5.45     < .001 "
      ]
     },
     "metadata": {},
     "output_type": "display_data"
    },
    {
     "data": {
      "text/markdown": [
       "### Paired comparisons for expected marginal means"
      ]
     },
     "metadata": {},
     "output_type": "display_data"
    },
    {
     "data": {
      "text/html": [
       "<table>\n",
       "<caption>A apa_results_table: 3 × 5</caption>\n",
       "<thead>\n",
       "\t<tr><th></th><th scope=col>contrast</th><th scope=col>estimate</th><th scope=col>ci</th><th scope=col>statistic</th><th scope=col>p.value</th></tr>\n",
       "\t<tr><th></th><th scope=col>&lt;ppj_lbll&gt;</th><th scope=col>&lt;ppj_lbll&gt;</th><th scope=col>&lt;ppj_lbll&gt;</th><th scope=col>&lt;ppj_lbll&gt;</th><th scope=col>&lt;ppj_lbll&gt;</th></tr>\n",
       "</thead>\n",
       "<tbody>\n",
       "\t<tr><th scope=row>noun_F_noun_M</th><td>noun_F - noun_M</td><td>-0.06</td><td>$[-0.55$, $0.43]$</td><td>-0.28</td><td>.957</td></tr>\n",
       "\t<tr><th scope=row>noun_F_verb_X</th><td>noun_F - verb_X</td><td>-0.15</td><td>$[-0.64$, $0.34]$</td><td>-0.73</td><td>.748</td></tr>\n",
       "\t<tr><th scope=row>noun_M_verb_X</th><td>noun_M - verb_X</td><td>-0.09</td><td>$[-0.58$, $0.40]$</td><td>-0.45</td><td>.896</td></tr>\n",
       "</tbody>\n",
       "</table>\n"
      ],
      "text/latex": [
       "A apa\\_results\\_table: 3 × 5\n",
       "\\begin{tabular}{r|lllll}\n",
       "  & contrast & estimate & ci & statistic & p.value\\\\\n",
       "  & <ppj\\_lbll> & <ppj\\_lbll> & <ppj\\_lbll> & <ppj\\_lbll> & <ppj\\_lbll>\\\\\n",
       "\\hline\n",
       "\tnoun\\_F\\_noun\\_M & noun\\_F - noun\\_M & -0.06 & \\${[}-0.55\\$, \\$0.43{]}\\$ & -0.28 & .957\\\\\n",
       "\tnoun\\_F\\_verb\\_X & noun\\_F - verb\\_X & -0.15 & \\${[}-0.64\\$, \\$0.34{]}\\$ & -0.73 & .748\\\\\n",
       "\tnoun\\_M\\_verb\\_X & noun\\_M - verb\\_X & -0.09 & \\${[}-0.58\\$, \\$0.40{]}\\$ & -0.45 & .896\\\\\n",
       "\\end{tabular}\n"
      ],
      "text/markdown": [
       "\n",
       "A apa_results_table: 3 × 5\n",
       "\n",
       "| <!--/--> | contrast &lt;ppj_lbll&gt; | estimate &lt;ppj_lbll&gt; | ci &lt;ppj_lbll&gt; | statistic &lt;ppj_lbll&gt; | p.value &lt;ppj_lbll&gt; |\n",
       "|---|---|---|---|---|---|\n",
       "| noun_F_noun_M | noun_F - noun_M | -0.06 | $[-0.55$, $0.43]$ | -0.28 | .957 |\n",
       "| noun_F_verb_X | noun_F - verb_X | -0.15 | $[-0.64$, $0.34]$ | -0.73 | .748 |\n",
       "| noun_M_verb_X | noun_M - verb_X | -0.09 | $[-0.58$, $0.40]$ | -0.45 | .896 |\n",
       "\n"
      ],
      "text/plain": [
       "              contrast        estimate ci                statistic p.value\n",
       "noun_F_noun_M noun_F - noun_M -0.06    $[-0.55$, $0.43]$ -0.28     .957   \n",
       "noun_F_verb_X noun_F - verb_X -0.15    $[-0.64$, $0.34]$ -0.73     .748   \n",
       "noun_M_verb_X noun_M - verb_X -0.09    $[-0.58$, $0.40]$ -0.45     .896   "
      ]
     },
     "metadata": {},
     "output_type": "display_data"
    }
   ],
   "source": [
    "IDX <- IDX+1; COND <- CONDS[IDX]\n",
    "data1 <- droplevels(subset(df1, eval(parse(text=COND)))); data1 <- data1[complete.cases(data1),]; done1 <- AOV4(data1,COND)\n",
    "display_markdown(str_c(\"# Condition \",IDX,\" of \",length(CONDS))); display_markdown(done1$info); display_markdown(\"### Table\"); done1$aov_APA$table; display_markdown(\"### Result\"); display_markdown(done1$aov_APA[[\"full_result\"]][[\"cond0\"]]); display_markdown(\"### Summary (all done1, incl. NANs)\"); done1$summary; display_markdown(\"### Expected marginal means\"); done1$emm_APA$table; display_markdown(\"### Paired comparisons for expected marginal means\"); done1$pairs_APA$table"
   ]
  },
  {
   "cell_type": "code",
   "execution_count": 34,
   "metadata": {},
   "outputs": [
    {
     "name": "stderr",
     "output_type": "stream",
     "text": [
      "Warning message:\n",
      "“Missing values for following ID(s):\n",
      "20jpxf, 28pmsf, 30mszf, 32mjxf, 35mwxm\n",
      "Removing those cases from the analysis.”\n",
      "Warning message in summary.Anova.mlm(x$Anova):\n",
      "“HF eps > 1 treated as 1”\n"
     ]
    },
    {
     "data": {
      "text/markdown": [
       "# Condition 17 of 72"
      ]
     },
     "metadata": {},
     "output_type": "display_data"
    },
    {
     "data": {
      "text/markdown": [
       "`tmin0==0.19 & chan0==\"LC\" & mode0==\"pos\"`"
      ]
     },
     "metadata": {},
     "output_type": "display_data"
    },
    {
     "data": {
      "text/markdown": [
       "### Table"
      ]
     },
     "metadata": {},
     "output_type": "display_data"
    },
    {
     "data": {
      "text/html": [
       "<table>\n",
       "<caption>A apa_results_table: 1 × 7</caption>\n",
       "<thead>\n",
       "\t<tr><th></th><th scope=col>Effect</th><th scope=col>F</th><th scope=col>df1</th><th scope=col>df2</th><th scope=col>MSE</th><th scope=col>p</th><th scope=col>ges</th></tr>\n",
       "\t<tr><th></th><th scope=col>&lt;ppj_lbll&gt;</th><th scope=col>&lt;ppj_lbll&gt;</th><th scope=col>&lt;ppj_lbll&gt;</th><th scope=col>&lt;ppj_lbll&gt;</th><th scope=col>&lt;ppj_lbll&gt;</th><th scope=col>&lt;ppj_lbll&gt;</th><th scope=col>&lt;ppj_lbll&gt;</th></tr>\n",
       "</thead>\n",
       "<tbody>\n",
       "\t<tr><th scope=row>1</th><td>Cond0</td><td>1.19</td><td>1.97</td><td>70.80</td><td>0.23</td><td>.309</td><td>.007</td></tr>\n",
       "</tbody>\n",
       "</table>\n"
      ],
      "text/latex": [
       "A apa\\_results\\_table: 1 × 7\n",
       "\\begin{tabular}{r|lllllll}\n",
       "  & Effect & F & df1 & df2 & MSE & p & ges\\\\\n",
       "  & <ppj\\_lbll> & <ppj\\_lbll> & <ppj\\_lbll> & <ppj\\_lbll> & <ppj\\_lbll> & <ppj\\_lbll> & <ppj\\_lbll>\\\\\n",
       "\\hline\n",
       "\t1 & Cond0 & 1.19 & 1.97 & 70.80 & 0.23 & .309 & .007\\\\\n",
       "\\end{tabular}\n"
      ],
      "text/markdown": [
       "\n",
       "A apa_results_table: 1 × 7\n",
       "\n",
       "| <!--/--> | Effect &lt;ppj_lbll&gt; | F &lt;ppj_lbll&gt; | df1 &lt;ppj_lbll&gt; | df2 &lt;ppj_lbll&gt; | MSE &lt;ppj_lbll&gt; | p &lt;ppj_lbll&gt; | ges &lt;ppj_lbll&gt; |\n",
       "|---|---|---|---|---|---|---|---|\n",
       "| 1 | Cond0 | 1.19 | 1.97 | 70.80 | 0.23 | .309 | .007 |\n",
       "\n"
      ],
      "text/plain": [
       "  Effect F    df1  df2   MSE  p    ges \n",
       "1 Cond0  1.19 1.97 70.80 0.23 .309 .007"
      ]
     },
     "metadata": {},
     "output_type": "display_data"
    },
    {
     "data": {
      "text/markdown": [
       "### Result"
      ]
     },
     "metadata": {},
     "output_type": "display_data"
    },
    {
     "data": {
      "text/markdown": [
       "$F(1.97, 70.80) = 1.19$, $\\mathit{MSE} = 0.23$, $p = .309$, $\\hat{\\eta}^2_G = .007$"
      ]
     },
     "metadata": {},
     "output_type": "display_data"
    },
    {
     "data": {
      "text/markdown": [
       "### Summary (all done1, incl. NANs)"
      ]
     },
     "metadata": {},
     "output_type": "display_data"
    },
    {
     "data": {
      "text/html": [
       "<table>\n",
       "<caption>A tibble: 3 × 5</caption>\n",
       "<thead>\n",
       "\t<tr><th scope=col>cond0</th><th scope=col>N</th><th scope=col>valX_M</th><th scope=col>valX_SD</th><th scope=col>valX_SE</th></tr>\n",
       "\t<tr><th scope=col>&lt;fct&gt;</th><th scope=col>&lt;int&gt;</th><th scope=col>&lt;dbl&gt;</th><th scope=col>&lt;dbl&gt;</th><th scope=col>&lt;dbl&gt;</th></tr>\n",
       "</thead>\n",
       "<tbody>\n",
       "\t<tr><td>noun_F</td><td>41</td><td>1.226726</td><td>0.9799077</td><td>0.1530359</td></tr>\n",
       "\t<tr><td>noun_M</td><td>40</td><td>1.410520</td><td>0.8645160</td><td>0.1366920</td></tr>\n",
       "\t<tr><td>verb_X</td><td>38</td><td>1.322386</td><td>0.7692757</td><td>0.1247930</td></tr>\n",
       "</tbody>\n",
       "</table>\n"
      ],
      "text/latex": [
       "A tibble: 3 × 5\n",
       "\\begin{tabular}{lllll}\n",
       " cond0 & N & valX\\_M & valX\\_SD & valX\\_SE\\\\\n",
       " <fct> & <int> & <dbl> & <dbl> & <dbl>\\\\\n",
       "\\hline\n",
       "\t noun\\_F & 41 & 1.226726 & 0.9799077 & 0.1530359\\\\\n",
       "\t noun\\_M & 40 & 1.410520 & 0.8645160 & 0.1366920\\\\\n",
       "\t verb\\_X & 38 & 1.322386 & 0.7692757 & 0.1247930\\\\\n",
       "\\end{tabular}\n"
      ],
      "text/markdown": [
       "\n",
       "A tibble: 3 × 5\n",
       "\n",
       "| cond0 &lt;fct&gt; | N &lt;int&gt; | valX_M &lt;dbl&gt; | valX_SD &lt;dbl&gt; | valX_SE &lt;dbl&gt; |\n",
       "|---|---|---|---|---|\n",
       "| noun_F | 41 | 1.226726 | 0.9799077 | 0.1530359 |\n",
       "| noun_M | 40 | 1.410520 | 0.8645160 | 0.1366920 |\n",
       "| verb_X | 38 | 1.322386 | 0.7692757 | 0.1247930 |\n",
       "\n"
      ],
      "text/plain": [
       "  cond0  N  valX_M   valX_SD   valX_SE  \n",
       "1 noun_F 41 1.226726 0.9799077 0.1530359\n",
       "2 noun_M 40 1.410520 0.8645160 0.1366920\n",
       "3 verb_X 38 1.322386 0.7692757 0.1247930"
      ]
     },
     "metadata": {},
     "output_type": "display_data"
    },
    {
     "data": {
      "text/markdown": [
       "### Expected marginal means"
      ]
     },
     "metadata": {},
     "output_type": "display_data"
    },
    {
     "data": {
      "text/html": [
       "<table>\n",
       "<caption>A apa_results_table: 3 × 5</caption>\n",
       "<thead>\n",
       "\t<tr><th></th><th scope=col>cond0</th><th scope=col>estimate</th><th scope=col>ci</th><th scope=col>statistic</th><th scope=col>p.value</th></tr>\n",
       "\t<tr><th></th><th scope=col>&lt;chr&gt;</th><th scope=col>&lt;ppj_lbll&gt;</th><th scope=col>&lt;ppj_lbll&gt;</th><th scope=col>&lt;ppj_lbll&gt;</th><th scope=col>&lt;ppj_lbll&gt;</th></tr>\n",
       "</thead>\n",
       "<tbody>\n",
       "\t<tr><th scope=row>noun_F</th><td>noun_F</td><td>1.23</td><td>$[0.95$, $1.52]$</td><td>8.67</td><td>&lt; .001</td></tr>\n",
       "\t<tr><th scope=row>noun_M</th><td>noun_M</td><td>1.40</td><td>$[1.12$, $1.69]$</td><td>9.86</td><td>&lt; .001</td></tr>\n",
       "\t<tr><th scope=row>verb_X</th><td>verb_X</td><td>1.33</td><td>$[1.04$, $1.61]$</td><td>9.33</td><td>&lt; .001</td></tr>\n",
       "</tbody>\n",
       "</table>\n"
      ],
      "text/latex": [
       "A apa\\_results\\_table: 3 × 5\n",
       "\\begin{tabular}{r|lllll}\n",
       "  & cond0 & estimate & ci & statistic & p.value\\\\\n",
       "  & <chr> & <ppj\\_lbll> & <ppj\\_lbll> & <ppj\\_lbll> & <ppj\\_lbll>\\\\\n",
       "\\hline\n",
       "\tnoun\\_F & noun\\_F & 1.23 & \\${[}0.95\\$, \\$1.52{]}\\$ & 8.67 & < .001\\\\\n",
       "\tnoun\\_M & noun\\_M & 1.40 & \\${[}1.12\\$, \\$1.69{]}\\$ & 9.86 & < .001\\\\\n",
       "\tverb\\_X & verb\\_X & 1.33 & \\${[}1.04\\$, \\$1.61{]}\\$ & 9.33 & < .001\\\\\n",
       "\\end{tabular}\n"
      ],
      "text/markdown": [
       "\n",
       "A apa_results_table: 3 × 5\n",
       "\n",
       "| <!--/--> | cond0 &lt;chr&gt; | estimate &lt;ppj_lbll&gt; | ci &lt;ppj_lbll&gt; | statistic &lt;ppj_lbll&gt; | p.value &lt;ppj_lbll&gt; |\n",
       "|---|---|---|---|---|---|\n",
       "| noun_F | noun_F | 1.23 | $[0.95$, $1.52]$ | 8.67 | &lt; .001 |\n",
       "| noun_M | noun_M | 1.40 | $[1.12$, $1.69]$ | 9.86 | &lt; .001 |\n",
       "| verb_X | verb_X | 1.33 | $[1.04$, $1.61]$ | 9.33 | &lt; .001 |\n",
       "\n"
      ],
      "text/plain": [
       "       cond0  estimate ci               statistic p.value\n",
       "noun_F noun_F 1.23     $[0.95$, $1.52]$ 8.67      < .001 \n",
       "noun_M noun_M 1.40     $[1.12$, $1.69]$ 9.86      < .001 \n",
       "verb_X verb_X 1.33     $[1.04$, $1.61]$ 9.33      < .001 "
      ]
     },
     "metadata": {},
     "output_type": "display_data"
    },
    {
     "data": {
      "text/markdown": [
       "### Paired comparisons for expected marginal means"
      ]
     },
     "metadata": {},
     "output_type": "display_data"
    },
    {
     "data": {
      "text/html": [
       "<table>\n",
       "<caption>A apa_results_table: 3 × 5</caption>\n",
       "<thead>\n",
       "\t<tr><th></th><th scope=col>contrast</th><th scope=col>estimate</th><th scope=col>ci</th><th scope=col>statistic</th><th scope=col>p.value</th></tr>\n",
       "\t<tr><th></th><th scope=col>&lt;ppj_lbll&gt;</th><th scope=col>&lt;ppj_lbll&gt;</th><th scope=col>&lt;ppj_lbll&gt;</th><th scope=col>&lt;ppj_lbll&gt;</th><th scope=col>&lt;ppj_lbll&gt;</th></tr>\n",
       "</thead>\n",
       "<tbody>\n",
       "\t<tr><th scope=row>noun_F_noun_M</th><td>noun_F - noun_M</td><td>-0.17</td><td>$[-0.44$, $0.09]$</td><td>-1.54</td><td>.278</td></tr>\n",
       "\t<tr><th scope=row>noun_F_verb_X</th><td>noun_F - verb_X</td><td>-0.09</td><td>$[-0.36$, $0.17]$</td><td>-0.85</td><td>.674</td></tr>\n",
       "\t<tr><th scope=row>noun_M_verb_X</th><td>noun_M - verb_X</td><td>0.08 </td><td>$[-0.19$, $0.34]$</td><td>0.69 </td><td>.768</td></tr>\n",
       "</tbody>\n",
       "</table>\n"
      ],
      "text/latex": [
       "A apa\\_results\\_table: 3 × 5\n",
       "\\begin{tabular}{r|lllll}\n",
       "  & contrast & estimate & ci & statistic & p.value\\\\\n",
       "  & <ppj\\_lbll> & <ppj\\_lbll> & <ppj\\_lbll> & <ppj\\_lbll> & <ppj\\_lbll>\\\\\n",
       "\\hline\n",
       "\tnoun\\_F\\_noun\\_M & noun\\_F - noun\\_M & -0.17 & \\${[}-0.44\\$, \\$0.09{]}\\$ & -1.54 & .278\\\\\n",
       "\tnoun\\_F\\_verb\\_X & noun\\_F - verb\\_X & -0.09 & \\${[}-0.36\\$, \\$0.17{]}\\$ & -0.85 & .674\\\\\n",
       "\tnoun\\_M\\_verb\\_X & noun\\_M - verb\\_X & 0.08  & \\${[}-0.19\\$, \\$0.34{]}\\$ & 0.69  & .768\\\\\n",
       "\\end{tabular}\n"
      ],
      "text/markdown": [
       "\n",
       "A apa_results_table: 3 × 5\n",
       "\n",
       "| <!--/--> | contrast &lt;ppj_lbll&gt; | estimate &lt;ppj_lbll&gt; | ci &lt;ppj_lbll&gt; | statistic &lt;ppj_lbll&gt; | p.value &lt;ppj_lbll&gt; |\n",
       "|---|---|---|---|---|---|\n",
       "| noun_F_noun_M | noun_F - noun_M | -0.17 | $[-0.44$, $0.09]$ | -1.54 | .278 |\n",
       "| noun_F_verb_X | noun_F - verb_X | -0.09 | $[-0.36$, $0.17]$ | -0.85 | .674 |\n",
       "| noun_M_verb_X | noun_M - verb_X | 0.08  | $[-0.19$, $0.34]$ | 0.69  | .768 |\n",
       "\n"
      ],
      "text/plain": [
       "              contrast        estimate ci                statistic p.value\n",
       "noun_F_noun_M noun_F - noun_M -0.17    $[-0.44$, $0.09]$ -1.54     .278   \n",
       "noun_F_verb_X noun_F - verb_X -0.09    $[-0.36$, $0.17]$ -0.85     .674   \n",
       "noun_M_verb_X noun_M - verb_X 0.08     $[-0.19$, $0.34]$ 0.69      .768   "
      ]
     },
     "metadata": {},
     "output_type": "display_data"
    }
   ],
   "source": [
    "IDX <- IDX+1; COND <- CONDS[IDX]\n",
    "data1 <- droplevels(subset(df1, eval(parse(text=COND)))); data1 <- data1[complete.cases(data1),]; done1 <- AOV4(data1,COND)\n",
    "display_markdown(str_c(\"# Condition \",IDX,\" of \",length(CONDS))); display_markdown(done1$info); display_markdown(\"### Table\"); done1$aov_APA$table; display_markdown(\"### Result\"); display_markdown(done1$aov_APA[[\"full_result\"]][[\"cond0\"]]); display_markdown(\"### Summary (all done1, incl. NANs)\"); done1$summary; display_markdown(\"### Expected marginal means\"); done1$emm_APA$table; display_markdown(\"### Paired comparisons for expected marginal means\"); done1$pairs_APA$table"
   ]
  },
  {
   "cell_type": "code",
   "execution_count": 35,
   "metadata": {},
   "outputs": [
    {
     "name": "stderr",
     "output_type": "stream",
     "text": [
      "Warning message:\n",
      "“Missing values for following ID(s):\n",
      "03mjkf, 05jwxf, 08pnxm, 10mczf, 25abxf, 26mwxf, 30mszf, 41roxm\n",
      "Removing those cases from the analysis.”\n"
     ]
    },
    {
     "data": {
      "text/markdown": [
       "# Condition 18 of 72"
      ]
     },
     "metadata": {},
     "output_type": "display_data"
    },
    {
     "data": {
      "text/markdown": [
       "`tmin0==0.19 & chan0==\"LC\" & mode0==\"neg\"`"
      ]
     },
     "metadata": {},
     "output_type": "display_data"
    },
    {
     "data": {
      "text/markdown": [
       "### Table"
      ]
     },
     "metadata": {},
     "output_type": "display_data"
    },
    {
     "data": {
      "text/html": [
       "<table>\n",
       "<caption>A apa_results_table: 1 × 7</caption>\n",
       "<thead>\n",
       "\t<tr><th></th><th scope=col>Effect</th><th scope=col>F</th><th scope=col>df1</th><th scope=col>df2</th><th scope=col>MSE</th><th scope=col>p</th><th scope=col>ges</th></tr>\n",
       "\t<tr><th></th><th scope=col>&lt;ppj_lbll&gt;</th><th scope=col>&lt;ppj_lbll&gt;</th><th scope=col>&lt;ppj_lbll&gt;</th><th scope=col>&lt;ppj_lbll&gt;</th><th scope=col>&lt;ppj_lbll&gt;</th><th scope=col>&lt;ppj_lbll&gt;</th><th scope=col>&lt;ppj_lbll&gt;</th></tr>\n",
       "</thead>\n",
       "<tbody>\n",
       "\t<tr><th scope=row>1</th><td>Cond0</td><td>1.00</td><td>1.56</td><td>51.42</td><td>0.43</td><td>.358</td><td>.005</td></tr>\n",
       "</tbody>\n",
       "</table>\n"
      ],
      "text/latex": [
       "A apa\\_results\\_table: 1 × 7\n",
       "\\begin{tabular}{r|lllllll}\n",
       "  & Effect & F & df1 & df2 & MSE & p & ges\\\\\n",
       "  & <ppj\\_lbll> & <ppj\\_lbll> & <ppj\\_lbll> & <ppj\\_lbll> & <ppj\\_lbll> & <ppj\\_lbll> & <ppj\\_lbll>\\\\\n",
       "\\hline\n",
       "\t1 & Cond0 & 1.00 & 1.56 & 51.42 & 0.43 & .358 & .005\\\\\n",
       "\\end{tabular}\n"
      ],
      "text/markdown": [
       "\n",
       "A apa_results_table: 1 × 7\n",
       "\n",
       "| <!--/--> | Effect &lt;ppj_lbll&gt; | F &lt;ppj_lbll&gt; | df1 &lt;ppj_lbll&gt; | df2 &lt;ppj_lbll&gt; | MSE &lt;ppj_lbll&gt; | p &lt;ppj_lbll&gt; | ges &lt;ppj_lbll&gt; |\n",
       "|---|---|---|---|---|---|---|---|\n",
       "| 1 | Cond0 | 1.00 | 1.56 | 51.42 | 0.43 | .358 | .005 |\n",
       "\n"
      ],
      "text/plain": [
       "  Effect F    df1  df2   MSE  p    ges \n",
       "1 Cond0  1.00 1.56 51.42 0.43 .358 .005"
      ]
     },
     "metadata": {},
     "output_type": "display_data"
    },
    {
     "data": {
      "text/markdown": [
       "### Result"
      ]
     },
     "metadata": {},
     "output_type": "display_data"
    },
    {
     "data": {
      "text/markdown": [
       "$F(1.56, 51.42) = 1.00$, $\\mathit{MSE} = 0.43$, $p = .358$, $\\hat{\\eta}^2_G = .005$"
      ]
     },
     "metadata": {},
     "output_type": "display_data"
    },
    {
     "data": {
      "text/markdown": [
       "### Summary (all done1, incl. NANs)"
      ]
     },
     "metadata": {},
     "output_type": "display_data"
    },
    {
     "data": {
      "text/html": [
       "<table>\n",
       "<caption>A tibble: 3 × 5</caption>\n",
       "<thead>\n",
       "\t<tr><th scope=col>cond0</th><th scope=col>N</th><th scope=col>valX_M</th><th scope=col>valX_SD</th><th scope=col>valX_SE</th></tr>\n",
       "\t<tr><th scope=col>&lt;fct&gt;</th><th scope=col>&lt;int&gt;</th><th scope=col>&lt;dbl&gt;</th><th scope=col>&lt;dbl&gt;</th><th scope=col>&lt;dbl&gt;</th></tr>\n",
       "</thead>\n",
       "<tbody>\n",
       "\t<tr><td>noun_F</td><td>42</td><td>-0.2746207</td><td>1.2952111</td><td>0.1998554</td></tr>\n",
       "\t<tr><td>noun_M</td><td>39</td><td>-0.2474937</td><td>1.1567577</td><td>0.1852295</td></tr>\n",
       "\t<tr><td>verb_X</td><td>36</td><td>-0.2368590</td><td>0.9773267</td><td>0.1628878</td></tr>\n",
       "</tbody>\n",
       "</table>\n"
      ],
      "text/latex": [
       "A tibble: 3 × 5\n",
       "\\begin{tabular}{lllll}\n",
       " cond0 & N & valX\\_M & valX\\_SD & valX\\_SE\\\\\n",
       " <fct> & <int> & <dbl> & <dbl> & <dbl>\\\\\n",
       "\\hline\n",
       "\t noun\\_F & 42 & -0.2746207 & 1.2952111 & 0.1998554\\\\\n",
       "\t noun\\_M & 39 & -0.2474937 & 1.1567577 & 0.1852295\\\\\n",
       "\t verb\\_X & 36 & -0.2368590 & 0.9773267 & 0.1628878\\\\\n",
       "\\end{tabular}\n"
      ],
      "text/markdown": [
       "\n",
       "A tibble: 3 × 5\n",
       "\n",
       "| cond0 &lt;fct&gt; | N &lt;int&gt; | valX_M &lt;dbl&gt; | valX_SD &lt;dbl&gt; | valX_SE &lt;dbl&gt; |\n",
       "|---|---|---|---|---|\n",
       "| noun_F | 42 | -0.2746207 | 1.2952111 | 0.1998554 |\n",
       "| noun_M | 39 | -0.2474937 | 1.1567577 | 0.1852295 |\n",
       "| verb_X | 36 | -0.2368590 | 0.9773267 | 0.1628878 |\n",
       "\n"
      ],
      "text/plain": [
       "  cond0  N  valX_M     valX_SD   valX_SE  \n",
       "1 noun_F 42 -0.2746207 1.2952111 0.1998554\n",
       "2 noun_M 39 -0.2474937 1.1567577 0.1852295\n",
       "3 verb_X 36 -0.2368590 0.9773267 0.1628878"
      ]
     },
     "metadata": {},
     "output_type": "display_data"
    },
    {
     "data": {
      "text/markdown": [
       "### Expected marginal means"
      ]
     },
     "metadata": {},
     "output_type": "display_data"
    },
    {
     "data": {
      "text/html": [
       "<table>\n",
       "<caption>A apa_results_table: 3 × 5</caption>\n",
       "<thead>\n",
       "\t<tr><th></th><th scope=col>cond0</th><th scope=col>estimate</th><th scope=col>ci</th><th scope=col>statistic</th><th scope=col>p.value</th></tr>\n",
       "\t<tr><th></th><th scope=col>&lt;chr&gt;</th><th scope=col>&lt;ppj_lbll&gt;</th><th scope=col>&lt;ppj_lbll&gt;</th><th scope=col>&lt;ppj_lbll&gt;</th><th scope=col>&lt;ppj_lbll&gt;</th></tr>\n",
       "</thead>\n",
       "<tbody>\n",
       "\t<tr><th scope=row>noun_F</th><td>noun_F</td><td>-0.42</td><td>$[-0.82$, $-0.03]$</td><td>-2.15</td><td>.037</td></tr>\n",
       "\t<tr><th scope=row>noun_M</th><td>noun_M</td><td>-0.39</td><td>$[-0.78$, $0.01]$ </td><td>-1.96</td><td>.055</td></tr>\n",
       "\t<tr><th scope=row>verb_X</th><td>verb_X</td><td>-0.24</td><td>$[-0.63$, $0.16]$ </td><td>-1.20</td><td>.237</td></tr>\n",
       "</tbody>\n",
       "</table>\n"
      ],
      "text/latex": [
       "A apa\\_results\\_table: 3 × 5\n",
       "\\begin{tabular}{r|lllll}\n",
       "  & cond0 & estimate & ci & statistic & p.value\\\\\n",
       "  & <chr> & <ppj\\_lbll> & <ppj\\_lbll> & <ppj\\_lbll> & <ppj\\_lbll>\\\\\n",
       "\\hline\n",
       "\tnoun\\_F & noun\\_F & -0.42 & \\${[}-0.82\\$, \\$-0.03{]}\\$ & -2.15 & .037\\\\\n",
       "\tnoun\\_M & noun\\_M & -0.39 & \\${[}-0.78\\$, \\$0.01{]}\\$  & -1.96 & .055\\\\\n",
       "\tverb\\_X & verb\\_X & -0.24 & \\${[}-0.63\\$, \\$0.16{]}\\$  & -1.20 & .237\\\\\n",
       "\\end{tabular}\n"
      ],
      "text/markdown": [
       "\n",
       "A apa_results_table: 3 × 5\n",
       "\n",
       "| <!--/--> | cond0 &lt;chr&gt; | estimate &lt;ppj_lbll&gt; | ci &lt;ppj_lbll&gt; | statistic &lt;ppj_lbll&gt; | p.value &lt;ppj_lbll&gt; |\n",
       "|---|---|---|---|---|---|\n",
       "| noun_F | noun_F | -0.42 | $[-0.82$, $-0.03]$ | -2.15 | .037 |\n",
       "| noun_M | noun_M | -0.39 | $[-0.78$, $0.01]$  | -1.96 | .055 |\n",
       "| verb_X | verb_X | -0.24 | $[-0.63$, $0.16]$  | -1.20 | .237 |\n",
       "\n"
      ],
      "text/plain": [
       "       cond0  estimate ci                 statistic p.value\n",
       "noun_F noun_F -0.42    $[-0.82$, $-0.03]$ -2.15     .037   \n",
       "noun_M noun_M -0.39    $[-0.78$, $0.01]$  -1.96     .055   \n",
       "verb_X verb_X -0.24    $[-0.63$, $0.16]$  -1.20     .237   "
      ]
     },
     "metadata": {},
     "output_type": "display_data"
    },
    {
     "data": {
      "text/markdown": [
       "### Paired comparisons for expected marginal means"
      ]
     },
     "metadata": {},
     "output_type": "display_data"
    },
    {
     "data": {
      "text/html": [
       "<table>\n",
       "<caption>A apa_results_table: 3 × 5</caption>\n",
       "<thead>\n",
       "\t<tr><th></th><th scope=col>contrast</th><th scope=col>estimate</th><th scope=col>ci</th><th scope=col>statistic</th><th scope=col>p.value</th></tr>\n",
       "\t<tr><th></th><th scope=col>&lt;ppj_lbll&gt;</th><th scope=col>&lt;ppj_lbll&gt;</th><th scope=col>&lt;ppj_lbll&gt;</th><th scope=col>&lt;ppj_lbll&gt;</th><th scope=col>&lt;ppj_lbll&gt;</th></tr>\n",
       "</thead>\n",
       "<tbody>\n",
       "\t<tr><th scope=row>noun_F_noun_M</th><td>noun_F - noun_M</td><td>-0.04</td><td>$[-0.37$, $0.30]$</td><td>-0.26</td><td>.963</td></tr>\n",
       "\t<tr><th scope=row>noun_F_verb_X</th><td>noun_F - verb_X</td><td>-0.19</td><td>$[-0.53$, $0.15]$</td><td>-1.33</td><td>.383</td></tr>\n",
       "\t<tr><th scope=row>noun_M_verb_X</th><td>noun_M - verb_X</td><td>-0.15</td><td>$[-0.49$, $0.19]$</td><td>-1.07</td><td>.536</td></tr>\n",
       "</tbody>\n",
       "</table>\n"
      ],
      "text/latex": [
       "A apa\\_results\\_table: 3 × 5\n",
       "\\begin{tabular}{r|lllll}\n",
       "  & contrast & estimate & ci & statistic & p.value\\\\\n",
       "  & <ppj\\_lbll> & <ppj\\_lbll> & <ppj\\_lbll> & <ppj\\_lbll> & <ppj\\_lbll>\\\\\n",
       "\\hline\n",
       "\tnoun\\_F\\_noun\\_M & noun\\_F - noun\\_M & -0.04 & \\${[}-0.37\\$, \\$0.30{]}\\$ & -0.26 & .963\\\\\n",
       "\tnoun\\_F\\_verb\\_X & noun\\_F - verb\\_X & -0.19 & \\${[}-0.53\\$, \\$0.15{]}\\$ & -1.33 & .383\\\\\n",
       "\tnoun\\_M\\_verb\\_X & noun\\_M - verb\\_X & -0.15 & \\${[}-0.49\\$, \\$0.19{]}\\$ & -1.07 & .536\\\\\n",
       "\\end{tabular}\n"
      ],
      "text/markdown": [
       "\n",
       "A apa_results_table: 3 × 5\n",
       "\n",
       "| <!--/--> | contrast &lt;ppj_lbll&gt; | estimate &lt;ppj_lbll&gt; | ci &lt;ppj_lbll&gt; | statistic &lt;ppj_lbll&gt; | p.value &lt;ppj_lbll&gt; |\n",
       "|---|---|---|---|---|---|\n",
       "| noun_F_noun_M | noun_F - noun_M | -0.04 | $[-0.37$, $0.30]$ | -0.26 | .963 |\n",
       "| noun_F_verb_X | noun_F - verb_X | -0.19 | $[-0.53$, $0.15]$ | -1.33 | .383 |\n",
       "| noun_M_verb_X | noun_M - verb_X | -0.15 | $[-0.49$, $0.19]$ | -1.07 | .536 |\n",
       "\n"
      ],
      "text/plain": [
       "              contrast        estimate ci                statistic p.value\n",
       "noun_F_noun_M noun_F - noun_M -0.04    $[-0.37$, $0.30]$ -0.26     .963   \n",
       "noun_F_verb_X noun_F - verb_X -0.19    $[-0.53$, $0.15]$ -1.33     .383   \n",
       "noun_M_verb_X noun_M - verb_X -0.15    $[-0.49$, $0.19]$ -1.07     .536   "
      ]
     },
     "metadata": {},
     "output_type": "display_data"
    }
   ],
   "source": [
    "IDX <- IDX+1; COND <- CONDS[IDX]\n",
    "data1 <- droplevels(subset(df1, eval(parse(text=COND)))); data1 <- data1[complete.cases(data1),]; done1 <- AOV4(data1,COND)\n",
    "display_markdown(str_c(\"# Condition \",IDX,\" of \",length(CONDS))); display_markdown(done1$info); display_markdown(\"### Table\"); done1$aov_APA$table; display_markdown(\"### Result\"); display_markdown(done1$aov_APA[[\"full_result\"]][[\"cond0\"]]); display_markdown(\"### Summary (all done1, incl. NANs)\"); done1$summary; display_markdown(\"### Expected marginal means\"); done1$emm_APA$table; display_markdown(\"### Paired comparisons for expected marginal means\"); done1$pairs_APA$table"
   ]
  },
  {
   "cell_type": "code",
   "execution_count": 36,
   "metadata": {},
   "outputs": [
    {
     "name": "stderr",
     "output_type": "stream",
     "text": [
      "Warning message:\n",
      "“Missing values for following ID(s):\n",
      "02ppxm, 06pppm, 09msxf, 10mczf, 17makf, 18skxm, 20jpxf, 21koxf, 22foxm, 26mwxf, 27zgxf, 35mwxm, 40asxm\n",
      "Removing those cases from the analysis.”\n",
      "Warning message in summary.Anova.mlm(x$Anova):\n",
      "“HF eps > 1 treated as 1”\n"
     ]
    },
    {
     "data": {
      "text/markdown": [
       "# Condition 19 of 72"
      ]
     },
     "metadata": {},
     "output_type": "display_data"
    },
    {
     "data": {
      "text/markdown": [
       "`tmin0==0.19 & chan0==\"RC\" & mode0==\"pos\"`"
      ]
     },
     "metadata": {},
     "output_type": "display_data"
    },
    {
     "data": {
      "text/markdown": [
       "### Table"
      ]
     },
     "metadata": {},
     "output_type": "display_data"
    },
    {
     "data": {
      "text/html": [
       "<table>\n",
       "<caption>A apa_results_table: 1 × 7</caption>\n",
       "<thead>\n",
       "\t<tr><th></th><th scope=col>Effect</th><th scope=col>F</th><th scope=col>df1</th><th scope=col>df2</th><th scope=col>MSE</th><th scope=col>p</th><th scope=col>ges</th></tr>\n",
       "\t<tr><th></th><th scope=col>&lt;ppj_lbll&gt;</th><th scope=col>&lt;ppj_lbll&gt;</th><th scope=col>&lt;ppj_lbll&gt;</th><th scope=col>&lt;ppj_lbll&gt;</th><th scope=col>&lt;ppj_lbll&gt;</th><th scope=col>&lt;ppj_lbll&gt;</th><th scope=col>&lt;ppj_lbll&gt;</th></tr>\n",
       "</thead>\n",
       "<tbody>\n",
       "\t<tr><th scope=row>1</th><td>Cond0</td><td>2.20</td><td>1.95</td><td>54.54</td><td>0.26</td><td>.121</td><td>.006</td></tr>\n",
       "</tbody>\n",
       "</table>\n"
      ],
      "text/latex": [
       "A apa\\_results\\_table: 1 × 7\n",
       "\\begin{tabular}{r|lllllll}\n",
       "  & Effect & F & df1 & df2 & MSE & p & ges\\\\\n",
       "  & <ppj\\_lbll> & <ppj\\_lbll> & <ppj\\_lbll> & <ppj\\_lbll> & <ppj\\_lbll> & <ppj\\_lbll> & <ppj\\_lbll>\\\\\n",
       "\\hline\n",
       "\t1 & Cond0 & 2.20 & 1.95 & 54.54 & 0.26 & .121 & .006\\\\\n",
       "\\end{tabular}\n"
      ],
      "text/markdown": [
       "\n",
       "A apa_results_table: 1 × 7\n",
       "\n",
       "| <!--/--> | Effect &lt;ppj_lbll&gt; | F &lt;ppj_lbll&gt; | df1 &lt;ppj_lbll&gt; | df2 &lt;ppj_lbll&gt; | MSE &lt;ppj_lbll&gt; | p &lt;ppj_lbll&gt; | ges &lt;ppj_lbll&gt; |\n",
       "|---|---|---|---|---|---|---|---|\n",
       "| 1 | Cond0 | 2.20 | 1.95 | 54.54 | 0.26 | .121 | .006 |\n",
       "\n"
      ],
      "text/plain": [
       "  Effect F    df1  df2   MSE  p    ges \n",
       "1 Cond0  2.20 1.95 54.54 0.26 .121 .006"
      ]
     },
     "metadata": {},
     "output_type": "display_data"
    },
    {
     "data": {
      "text/markdown": [
       "### Result"
      ]
     },
     "metadata": {},
     "output_type": "display_data"
    },
    {
     "data": {
      "text/markdown": [
       "$F(1.95, 54.54) = 2.20$, $\\mathit{MSE} = 0.26$, $p = .121$, $\\hat{\\eta}^2_G = .006$"
      ]
     },
     "metadata": {},
     "output_type": "display_data"
    },
    {
     "data": {
      "text/markdown": [
       "### Summary (all done1, incl. NANs)"
      ]
     },
     "metadata": {},
     "output_type": "display_data"
    },
    {
     "data": {
      "text/html": [
       "<table>\n",
       "<caption>A tibble: 3 × 5</caption>\n",
       "<thead>\n",
       "\t<tr><th scope=col>cond0</th><th scope=col>N</th><th scope=col>valX_M</th><th scope=col>valX_SD</th><th scope=col>valX_SE</th></tr>\n",
       "\t<tr><th scope=col>&lt;fct&gt;</th><th scope=col>&lt;int&gt;</th><th scope=col>&lt;dbl&gt;</th><th scope=col>&lt;dbl&gt;</th><th scope=col>&lt;dbl&gt;</th></tr>\n",
       "</thead>\n",
       "<tbody>\n",
       "\t<tr><td>noun_F</td><td>36</td><td>1.0890722</td><td>1.269065</td><td>0.2115109</td></tr>\n",
       "\t<tr><td>noun_M</td><td>40</td><td>0.9588217</td><td>1.307105</td><td>0.2066714</td></tr>\n",
       "\t<tr><td>verb_X</td><td>35</td><td>1.2751517</td><td>1.682552</td><td>0.2844032</td></tr>\n",
       "</tbody>\n",
       "</table>\n"
      ],
      "text/latex": [
       "A tibble: 3 × 5\n",
       "\\begin{tabular}{lllll}\n",
       " cond0 & N & valX\\_M & valX\\_SD & valX\\_SE\\\\\n",
       " <fct> & <int> & <dbl> & <dbl> & <dbl>\\\\\n",
       "\\hline\n",
       "\t noun\\_F & 36 & 1.0890722 & 1.269065 & 0.2115109\\\\\n",
       "\t noun\\_M & 40 & 0.9588217 & 1.307105 & 0.2066714\\\\\n",
       "\t verb\\_X & 35 & 1.2751517 & 1.682552 & 0.2844032\\\\\n",
       "\\end{tabular}\n"
      ],
      "text/markdown": [
       "\n",
       "A tibble: 3 × 5\n",
       "\n",
       "| cond0 &lt;fct&gt; | N &lt;int&gt; | valX_M &lt;dbl&gt; | valX_SD &lt;dbl&gt; | valX_SE &lt;dbl&gt; |\n",
       "|---|---|---|---|---|\n",
       "| noun_F | 36 | 1.0890722 | 1.269065 | 0.2115109 |\n",
       "| noun_M | 40 | 0.9588217 | 1.307105 | 0.2066714 |\n",
       "| verb_X | 35 | 1.2751517 | 1.682552 | 0.2844032 |\n",
       "\n"
      ],
      "text/plain": [
       "  cond0  N  valX_M    valX_SD  valX_SE  \n",
       "1 noun_F 36 1.0890722 1.269065 0.2115109\n",
       "2 noun_M 40 0.9588217 1.307105 0.2066714\n",
       "3 verb_X 35 1.2751517 1.682552 0.2844032"
      ]
     },
     "metadata": {},
     "output_type": "display_data"
    },
    {
     "data": {
      "text/markdown": [
       "### Expected marginal means"
      ]
     },
     "metadata": {},
     "output_type": "display_data"
    },
    {
     "data": {
      "text/html": [
       "<table>\n",
       "<caption>A apa_results_table: 3 × 5</caption>\n",
       "<thead>\n",
       "\t<tr><th></th><th scope=col>cond0</th><th scope=col>estimate</th><th scope=col>ci</th><th scope=col>statistic</th><th scope=col>p.value</th></tr>\n",
       "\t<tr><th></th><th scope=col>&lt;chr&gt;</th><th scope=col>&lt;ppj_lbll&gt;</th><th scope=col>&lt;ppj_lbll&gt;</th><th scope=col>&lt;ppj_lbll&gt;</th><th scope=col>&lt;ppj_lbll&gt;</th></tr>\n",
       "</thead>\n",
       "<tbody>\n",
       "\t<tr><th scope=row>noun_F</th><td>noun_F</td><td>1.24</td><td>$[0.68$, $1.80]$</td><td>4.52</td><td>&lt; .001</td></tr>\n",
       "\t<tr><th scope=row>noun_M</th><td>noun_M</td><td>1.01</td><td>$[0.45$, $1.57]$</td><td>3.67</td><td>.001  </td></tr>\n",
       "\t<tr><th scope=row>verb_X</th><td>verb_X</td><td>1.25</td><td>$[0.69$, $1.81]$</td><td>4.55</td><td>&lt; .001</td></tr>\n",
       "</tbody>\n",
       "</table>\n"
      ],
      "text/latex": [
       "A apa\\_results\\_table: 3 × 5\n",
       "\\begin{tabular}{r|lllll}\n",
       "  & cond0 & estimate & ci & statistic & p.value\\\\\n",
       "  & <chr> & <ppj\\_lbll> & <ppj\\_lbll> & <ppj\\_lbll> & <ppj\\_lbll>\\\\\n",
       "\\hline\n",
       "\tnoun\\_F & noun\\_F & 1.24 & \\${[}0.68\\$, \\$1.80{]}\\$ & 4.52 & < .001\\\\\n",
       "\tnoun\\_M & noun\\_M & 1.01 & \\${[}0.45\\$, \\$1.57{]}\\$ & 3.67 & .001  \\\\\n",
       "\tverb\\_X & verb\\_X & 1.25 & \\${[}0.69\\$, \\$1.81{]}\\$ & 4.55 & < .001\\\\\n",
       "\\end{tabular}\n"
      ],
      "text/markdown": [
       "\n",
       "A apa_results_table: 3 × 5\n",
       "\n",
       "| <!--/--> | cond0 &lt;chr&gt; | estimate &lt;ppj_lbll&gt; | ci &lt;ppj_lbll&gt; | statistic &lt;ppj_lbll&gt; | p.value &lt;ppj_lbll&gt; |\n",
       "|---|---|---|---|---|---|\n",
       "| noun_F | noun_F | 1.24 | $[0.68$, $1.80]$ | 4.52 | &lt; .001 |\n",
       "| noun_M | noun_M | 1.01 | $[0.45$, $1.57]$ | 3.67 | .001   |\n",
       "| verb_X | verb_X | 1.25 | $[0.69$, $1.81]$ | 4.55 | &lt; .001 |\n",
       "\n"
      ],
      "text/plain": [
       "       cond0  estimate ci               statistic p.value\n",
       "noun_F noun_F 1.24     $[0.68$, $1.80]$ 4.52      < .001 \n",
       "noun_M noun_M 1.01     $[0.45$, $1.57]$ 3.67      .001   \n",
       "verb_X verb_X 1.25     $[0.69$, $1.81]$ 4.55      < .001 "
      ]
     },
     "metadata": {},
     "output_type": "display_data"
    },
    {
     "data": {
      "text/markdown": [
       "### Paired comparisons for expected marginal means"
      ]
     },
     "metadata": {},
     "output_type": "display_data"
    },
    {
     "data": {
      "text/html": [
       "<table>\n",
       "<caption>A apa_results_table: 3 × 5</caption>\n",
       "<thead>\n",
       "\t<tr><th></th><th scope=col>contrast</th><th scope=col>estimate</th><th scope=col>ci</th><th scope=col>statistic</th><th scope=col>p.value</th></tr>\n",
       "\t<tr><th></th><th scope=col>&lt;ppj_lbll&gt;</th><th scope=col>&lt;ppj_lbll&gt;</th><th scope=col>&lt;ppj_lbll&gt;</th><th scope=col>&lt;ppj_lbll&gt;</th><th scope=col>&lt;ppj_lbll&gt;</th></tr>\n",
       "</thead>\n",
       "<tbody>\n",
       "\t<tr><th scope=row>noun_F_noun_M</th><td>noun_F - noun_M</td><td>0.23 </td><td>$[-0.08$, $0.55]$</td><td>1.78 </td><td>.186</td></tr>\n",
       "\t<tr><th scope=row>noun_F_verb_X</th><td>noun_F - verb_X</td><td>-0.01</td><td>$[-0.33$, $0.31]$</td><td>-0.08</td><td>.997</td></tr>\n",
       "\t<tr><th scope=row>noun_M_verb_X</th><td>noun_M - verb_X</td><td>-0.24</td><td>$[-0.56$, $0.07]$</td><td>-1.86</td><td>.161</td></tr>\n",
       "</tbody>\n",
       "</table>\n"
      ],
      "text/latex": [
       "A apa\\_results\\_table: 3 × 5\n",
       "\\begin{tabular}{r|lllll}\n",
       "  & contrast & estimate & ci & statistic & p.value\\\\\n",
       "  & <ppj\\_lbll> & <ppj\\_lbll> & <ppj\\_lbll> & <ppj\\_lbll> & <ppj\\_lbll>\\\\\n",
       "\\hline\n",
       "\tnoun\\_F\\_noun\\_M & noun\\_F - noun\\_M & 0.23  & \\${[}-0.08\\$, \\$0.55{]}\\$ & 1.78  & .186\\\\\n",
       "\tnoun\\_F\\_verb\\_X & noun\\_F - verb\\_X & -0.01 & \\${[}-0.33\\$, \\$0.31{]}\\$ & -0.08 & .997\\\\\n",
       "\tnoun\\_M\\_verb\\_X & noun\\_M - verb\\_X & -0.24 & \\${[}-0.56\\$, \\$0.07{]}\\$ & -1.86 & .161\\\\\n",
       "\\end{tabular}\n"
      ],
      "text/markdown": [
       "\n",
       "A apa_results_table: 3 × 5\n",
       "\n",
       "| <!--/--> | contrast &lt;ppj_lbll&gt; | estimate &lt;ppj_lbll&gt; | ci &lt;ppj_lbll&gt; | statistic &lt;ppj_lbll&gt; | p.value &lt;ppj_lbll&gt; |\n",
       "|---|---|---|---|---|---|\n",
       "| noun_F_noun_M | noun_F - noun_M | 0.23  | $[-0.08$, $0.55]$ | 1.78  | .186 |\n",
       "| noun_F_verb_X | noun_F - verb_X | -0.01 | $[-0.33$, $0.31]$ | -0.08 | .997 |\n",
       "| noun_M_verb_X | noun_M - verb_X | -0.24 | $[-0.56$, $0.07]$ | -1.86 | .161 |\n",
       "\n"
      ],
      "text/plain": [
       "              contrast        estimate ci                statistic p.value\n",
       "noun_F_noun_M noun_F - noun_M 0.23     $[-0.08$, $0.55]$ 1.78      .186   \n",
       "noun_F_verb_X noun_F - verb_X -0.01    $[-0.33$, $0.31]$ -0.08     .997   \n",
       "noun_M_verb_X noun_M - verb_X -0.24    $[-0.56$, $0.07]$ -1.86     .161   "
      ]
     },
     "metadata": {},
     "output_type": "display_data"
    }
   ],
   "source": [
    "IDX <- IDX+1; COND <- CONDS[IDX]\n",
    "data1 <- droplevels(subset(df1, eval(parse(text=COND)))); data1 <- data1[complete.cases(data1),]; done1 <- AOV4(data1,COND)\n",
    "display_markdown(str_c(\"# Condition \",IDX,\" of \",length(CONDS))); display_markdown(done1$info); display_markdown(\"### Table\"); done1$aov_APA$table; display_markdown(\"### Result\"); display_markdown(done1$aov_APA[[\"full_result\"]][[\"cond0\"]]); display_markdown(\"### Summary (all done1, incl. NANs)\"); done1$summary; display_markdown(\"### Expected marginal means\"); done1$emm_APA$table; display_markdown(\"### Paired comparisons for expected marginal means\"); done1$pairs_APA$table"
   ]
  },
  {
   "cell_type": "code",
   "execution_count": 37,
   "metadata": {},
   "outputs": [
    {
     "name": "stderr",
     "output_type": "stream",
     "text": [
      "Warning message:\n",
      "“Missing values for following ID(s):\n",
      "24jkxf, 42aszm\n",
      "Removing those cases from the analysis.”\n"
     ]
    },
    {
     "data": {
      "text/markdown": [
       "# Condition 20 of 72"
      ]
     },
     "metadata": {},
     "output_type": "display_data"
    },
    {
     "data": {
      "text/markdown": [
       "`tmin0==0.19 & chan0==\"RC\" & mode0==\"neg\"`"
      ]
     },
     "metadata": {},
     "output_type": "display_data"
    },
    {
     "data": {
      "text/markdown": [
       "### Table"
      ]
     },
     "metadata": {},
     "output_type": "display_data"
    },
    {
     "data": {
      "text/html": [
       "<table>\n",
       "<caption>A apa_results_table: 1 × 7</caption>\n",
       "<thead>\n",
       "\t<tr><th></th><th scope=col>Effect</th><th scope=col>F</th><th scope=col>df1</th><th scope=col>df2</th><th scope=col>MSE</th><th scope=col>p</th><th scope=col>ges</th></tr>\n",
       "\t<tr><th></th><th scope=col>&lt;ppj_lbll&gt;</th><th scope=col>&lt;ppj_lbll&gt;</th><th scope=col>&lt;ppj_lbll&gt;</th><th scope=col>&lt;ppj_lbll&gt;</th><th scope=col>&lt;ppj_lbll&gt;</th><th scope=col>&lt;ppj_lbll&gt;</th><th scope=col>&lt;ppj_lbll&gt;</th></tr>\n",
       "</thead>\n",
       "<tbody>\n",
       "\t<tr><th scope=row>1</th><td>Cond0</td><td>2.87</td><td>1.74</td><td>66.27</td><td>0.25</td><td>.071</td><td>.009</td></tr>\n",
       "</tbody>\n",
       "</table>\n"
      ],
      "text/latex": [
       "A apa\\_results\\_table: 1 × 7\n",
       "\\begin{tabular}{r|lllllll}\n",
       "  & Effect & F & df1 & df2 & MSE & p & ges\\\\\n",
       "  & <ppj\\_lbll> & <ppj\\_lbll> & <ppj\\_lbll> & <ppj\\_lbll> & <ppj\\_lbll> & <ppj\\_lbll> & <ppj\\_lbll>\\\\\n",
       "\\hline\n",
       "\t1 & Cond0 & 2.87 & 1.74 & 66.27 & 0.25 & .071 & .009\\\\\n",
       "\\end{tabular}\n"
      ],
      "text/markdown": [
       "\n",
       "A apa_results_table: 1 × 7\n",
       "\n",
       "| <!--/--> | Effect &lt;ppj_lbll&gt; | F &lt;ppj_lbll&gt; | df1 &lt;ppj_lbll&gt; | df2 &lt;ppj_lbll&gt; | MSE &lt;ppj_lbll&gt; | p &lt;ppj_lbll&gt; | ges &lt;ppj_lbll&gt; |\n",
       "|---|---|---|---|---|---|---|---|\n",
       "| 1 | Cond0 | 2.87 | 1.74 | 66.27 | 0.25 | .071 | .009 |\n",
       "\n"
      ],
      "text/plain": [
       "  Effect F    df1  df2   MSE  p    ges \n",
       "1 Cond0  2.87 1.74 66.27 0.25 .071 .009"
      ]
     },
     "metadata": {},
     "output_type": "display_data"
    },
    {
     "data": {
      "text/markdown": [
       "### Result"
      ]
     },
     "metadata": {},
     "output_type": "display_data"
    },
    {
     "data": {
      "text/markdown": [
       "$F(1.74, 66.27) = 2.87$, $\\mathit{MSE} = 0.25$, $p = .071$, $\\hat{\\eta}^2_G = .009$"
      ]
     },
     "metadata": {},
     "output_type": "display_data"
    },
    {
     "data": {
      "text/markdown": [
       "### Summary (all done1, incl. NANs)"
      ]
     },
     "metadata": {},
     "output_type": "display_data"
    },
    {
     "data": {
      "text/html": [
       "<table>\n",
       "<caption>A tibble: 3 × 5</caption>\n",
       "<thead>\n",
       "\t<tr><th scope=col>cond0</th><th scope=col>N</th><th scope=col>valX_M</th><th scope=col>valX_SD</th><th scope=col>valX_SE</th></tr>\n",
       "\t<tr><th scope=col>&lt;fct&gt;</th><th scope=col>&lt;int&gt;</th><th scope=col>&lt;dbl&gt;</th><th scope=col>&lt;dbl&gt;</th><th scope=col>&lt;dbl&gt;</th></tr>\n",
       "</thead>\n",
       "<tbody>\n",
       "\t<tr><td>noun_F</td><td>41</td><td>-0.5738661</td><td>1.042069</td><td>0.1627438</td></tr>\n",
       "\t<tr><td>noun_M</td><td>39</td><td>-0.7602025</td><td>1.293015</td><td>0.2070482</td></tr>\n",
       "\t<tr><td>verb_X</td><td>39</td><td>-0.5101953</td><td>1.174297</td><td>0.1880380</td></tr>\n",
       "</tbody>\n",
       "</table>\n"
      ],
      "text/latex": [
       "A tibble: 3 × 5\n",
       "\\begin{tabular}{lllll}\n",
       " cond0 & N & valX\\_M & valX\\_SD & valX\\_SE\\\\\n",
       " <fct> & <int> & <dbl> & <dbl> & <dbl>\\\\\n",
       "\\hline\n",
       "\t noun\\_F & 41 & -0.5738661 & 1.042069 & 0.1627438\\\\\n",
       "\t noun\\_M & 39 & -0.7602025 & 1.293015 & 0.2070482\\\\\n",
       "\t verb\\_X & 39 & -0.5101953 & 1.174297 & 0.1880380\\\\\n",
       "\\end{tabular}\n"
      ],
      "text/markdown": [
       "\n",
       "A tibble: 3 × 5\n",
       "\n",
       "| cond0 &lt;fct&gt; | N &lt;int&gt; | valX_M &lt;dbl&gt; | valX_SD &lt;dbl&gt; | valX_SE &lt;dbl&gt; |\n",
       "|---|---|---|---|---|\n",
       "| noun_F | 41 | -0.5738661 | 1.042069 | 0.1627438 |\n",
       "| noun_M | 39 | -0.7602025 | 1.293015 | 0.2070482 |\n",
       "| verb_X | 39 | -0.5101953 | 1.174297 | 0.1880380 |\n",
       "\n"
      ],
      "text/plain": [
       "  cond0  N  valX_M     valX_SD  valX_SE  \n",
       "1 noun_F 41 -0.5738661 1.042069 0.1627438\n",
       "2 noun_M 39 -0.7602025 1.293015 0.2070482\n",
       "3 verb_X 39 -0.5101953 1.174297 0.1880380"
      ]
     },
     "metadata": {},
     "output_type": "display_data"
    },
    {
     "data": {
      "text/markdown": [
       "### Expected marginal means"
      ]
     },
     "metadata": {},
     "output_type": "display_data"
    },
    {
     "data": {
      "text/html": [
       "<table>\n",
       "<caption>A apa_results_table: 3 × 5</caption>\n",
       "<thead>\n",
       "\t<tr><th></th><th scope=col>cond0</th><th scope=col>estimate</th><th scope=col>ci</th><th scope=col>statistic</th><th scope=col>p.value</th></tr>\n",
       "\t<tr><th></th><th scope=col>&lt;chr&gt;</th><th scope=col>&lt;ppj_lbll&gt;</th><th scope=col>&lt;ppj_lbll&gt;</th><th scope=col>&lt;ppj_lbll&gt;</th><th scope=col>&lt;ppj_lbll&gt;</th></tr>\n",
       "</thead>\n",
       "<tbody>\n",
       "\t<tr><th scope=row>noun_F</th><td>noun_F</td><td>-0.59</td><td>$[-0.96$, $-0.22]$</td><td>-3.24</td><td>.002  </td></tr>\n",
       "\t<tr><th scope=row>noun_M</th><td>noun_M</td><td>-0.76</td><td>$[-1.13$, $-0.39]$</td><td>-4.17</td><td>&lt; .001</td></tr>\n",
       "\t<tr><th scope=row>verb_X</th><td>verb_X</td><td>-0.51</td><td>$[-0.88$, $-0.14]$</td><td>-2.80</td><td>.007  </td></tr>\n",
       "</tbody>\n",
       "</table>\n"
      ],
      "text/latex": [
       "A apa\\_results\\_table: 3 × 5\n",
       "\\begin{tabular}{r|lllll}\n",
       "  & cond0 & estimate & ci & statistic & p.value\\\\\n",
       "  & <chr> & <ppj\\_lbll> & <ppj\\_lbll> & <ppj\\_lbll> & <ppj\\_lbll>\\\\\n",
       "\\hline\n",
       "\tnoun\\_F & noun\\_F & -0.59 & \\${[}-0.96\\$, \\$-0.22{]}\\$ & -3.24 & .002  \\\\\n",
       "\tnoun\\_M & noun\\_M & -0.76 & \\${[}-1.13\\$, \\$-0.39{]}\\$ & -4.17 & < .001\\\\\n",
       "\tverb\\_X & verb\\_X & -0.51 & \\${[}-0.88\\$, \\$-0.14{]}\\$ & -2.80 & .007  \\\\\n",
       "\\end{tabular}\n"
      ],
      "text/markdown": [
       "\n",
       "A apa_results_table: 3 × 5\n",
       "\n",
       "| <!--/--> | cond0 &lt;chr&gt; | estimate &lt;ppj_lbll&gt; | ci &lt;ppj_lbll&gt; | statistic &lt;ppj_lbll&gt; | p.value &lt;ppj_lbll&gt; |\n",
       "|---|---|---|---|---|---|\n",
       "| noun_F | noun_F | -0.59 | $[-0.96$, $-0.22]$ | -3.24 | .002   |\n",
       "| noun_M | noun_M | -0.76 | $[-1.13$, $-0.39]$ | -4.17 | &lt; .001 |\n",
       "| verb_X | verb_X | -0.51 | $[-0.88$, $-0.14]$ | -2.80 | .007   |\n",
       "\n"
      ],
      "text/plain": [
       "       cond0  estimate ci                 statistic p.value\n",
       "noun_F noun_F -0.59    $[-0.96$, $-0.22]$ -3.24     .002   \n",
       "noun_M noun_M -0.76    $[-1.13$, $-0.39]$ -4.17     < .001 \n",
       "verb_X verb_X -0.51    $[-0.88$, $-0.14]$ -2.80     .007   "
      ]
     },
     "metadata": {},
     "output_type": "display_data"
    },
    {
     "data": {
      "text/markdown": [
       "### Paired comparisons for expected marginal means"
      ]
     },
     "metadata": {},
     "output_type": "display_data"
    },
    {
     "data": {
      "text/html": [
       "<table>\n",
       "<caption>A apa_results_table: 3 × 5</caption>\n",
       "<thead>\n",
       "\t<tr><th></th><th scope=col>contrast</th><th scope=col>estimate</th><th scope=col>ci</th><th scope=col>statistic</th><th scope=col>p.value</th></tr>\n",
       "\t<tr><th></th><th scope=col>&lt;ppj_lbll&gt;</th><th scope=col>&lt;ppj_lbll&gt;</th><th scope=col>&lt;ppj_lbll&gt;</th><th scope=col>&lt;ppj_lbll&gt;</th><th scope=col>&lt;ppj_lbll&gt;</th></tr>\n",
       "</thead>\n",
       "<tbody>\n",
       "\t<tr><th scope=row>noun_F_noun_M</th><td>noun_F - noun_M</td><td>0.17 </td><td>$[-0.09$, $0.42]$</td><td>1.58 </td><td>.259</td></tr>\n",
       "\t<tr><th scope=row>noun_F_verb_X</th><td>noun_F - verb_X</td><td>-0.08</td><td>$[-0.34$, $0.17]$</td><td>-0.76</td><td>.727</td></tr>\n",
       "\t<tr><th scope=row>noun_M_verb_X</th><td>noun_M - verb_X</td><td>-0.25</td><td>$[-0.50$, $0.00]$</td><td>-2.35</td><td>.055</td></tr>\n",
       "</tbody>\n",
       "</table>\n"
      ],
      "text/latex": [
       "A apa\\_results\\_table: 3 × 5\n",
       "\\begin{tabular}{r|lllll}\n",
       "  & contrast & estimate & ci & statistic & p.value\\\\\n",
       "  & <ppj\\_lbll> & <ppj\\_lbll> & <ppj\\_lbll> & <ppj\\_lbll> & <ppj\\_lbll>\\\\\n",
       "\\hline\n",
       "\tnoun\\_F\\_noun\\_M & noun\\_F - noun\\_M & 0.17  & \\${[}-0.09\\$, \\$0.42{]}\\$ & 1.58  & .259\\\\\n",
       "\tnoun\\_F\\_verb\\_X & noun\\_F - verb\\_X & -0.08 & \\${[}-0.34\\$, \\$0.17{]}\\$ & -0.76 & .727\\\\\n",
       "\tnoun\\_M\\_verb\\_X & noun\\_M - verb\\_X & -0.25 & \\${[}-0.50\\$, \\$0.00{]}\\$ & -2.35 & .055\\\\\n",
       "\\end{tabular}\n"
      ],
      "text/markdown": [
       "\n",
       "A apa_results_table: 3 × 5\n",
       "\n",
       "| <!--/--> | contrast &lt;ppj_lbll&gt; | estimate &lt;ppj_lbll&gt; | ci &lt;ppj_lbll&gt; | statistic &lt;ppj_lbll&gt; | p.value &lt;ppj_lbll&gt; |\n",
       "|---|---|---|---|---|---|\n",
       "| noun_F_noun_M | noun_F - noun_M | 0.17  | $[-0.09$, $0.42]$ | 1.58  | .259 |\n",
       "| noun_F_verb_X | noun_F - verb_X | -0.08 | $[-0.34$, $0.17]$ | -0.76 | .727 |\n",
       "| noun_M_verb_X | noun_M - verb_X | -0.25 | $[-0.50$, $0.00]$ | -2.35 | .055 |\n",
       "\n"
      ],
      "text/plain": [
       "              contrast        estimate ci                statistic p.value\n",
       "noun_F_noun_M noun_F - noun_M 0.17     $[-0.09$, $0.42]$ 1.58      .259   \n",
       "noun_F_verb_X noun_F - verb_X -0.08    $[-0.34$, $0.17]$ -0.76     .727   \n",
       "noun_M_verb_X noun_M - verb_X -0.25    $[-0.50$, $0.00]$ -2.35     .055   "
      ]
     },
     "metadata": {},
     "output_type": "display_data"
    }
   ],
   "source": [
    "IDX <- IDX+1; COND <- CONDS[IDX]\n",
    "data1 <- droplevels(subset(df1, eval(parse(text=COND)))); data1 <- data1[complete.cases(data1),]; done1 <- AOV4(data1,COND)\n",
    "display_markdown(str_c(\"# Condition \",IDX,\" of \",length(CONDS))); display_markdown(done1$info); display_markdown(\"### Table\"); done1$aov_APA$table; display_markdown(\"### Result\"); display_markdown(done1$aov_APA[[\"full_result\"]][[\"cond0\"]]); display_markdown(\"### Summary (all done1, incl. NANs)\"); done1$summary; display_markdown(\"### Expected marginal means\"); done1$emm_APA$table; display_markdown(\"### Paired comparisons for expected marginal means\"); done1$pairs_APA$table"
   ]
  },
  {
   "cell_type": "code",
   "execution_count": 38,
   "metadata": {},
   "outputs": [
    {
     "name": "stderr",
     "output_type": "stream",
     "text": [
      "Warning message:\n",
      "“Missing values for following ID(s):\n",
      "03mjkf, 06pppm, 07zrxf, 08pnxm, 11kbxm, 13jsxm, 14ktxf, 17makf, 32mjxf, 35mwxm, 37lpxm, 38slxm, 42aszm\n",
      "Removing those cases from the analysis.”\n"
     ]
    },
    {
     "data": {
      "text/markdown": [
       "# Condition 21 of 72"
      ]
     },
     "metadata": {},
     "output_type": "display_data"
    },
    {
     "data": {
      "text/markdown": [
       "`tmin0==0.19 & chan0==\"LP\" & mode0==\"pos\"`"
      ]
     },
     "metadata": {},
     "output_type": "display_data"
    },
    {
     "data": {
      "text/markdown": [
       "### Table"
      ]
     },
     "metadata": {},
     "output_type": "display_data"
    },
    {
     "data": {
      "text/html": [
       "<table>\n",
       "<caption>A apa_results_table: 1 × 7</caption>\n",
       "<thead>\n",
       "\t<tr><th></th><th scope=col>Effect</th><th scope=col>F</th><th scope=col>df1</th><th scope=col>df2</th><th scope=col>MSE</th><th scope=col>p</th><th scope=col>ges</th></tr>\n",
       "\t<tr><th></th><th scope=col>&lt;ppj_lbll&gt;</th><th scope=col>&lt;ppj_lbll&gt;</th><th scope=col>&lt;ppj_lbll&gt;</th><th scope=col>&lt;ppj_lbll&gt;</th><th scope=col>&lt;ppj_lbll&gt;</th><th scope=col>&lt;ppj_lbll&gt;</th><th scope=col>&lt;ppj_lbll&gt;</th></tr>\n",
       "</thead>\n",
       "<tbody>\n",
       "\t<tr><th scope=row>1</th><td>Cond0</td><td>4.24</td><td>1.64</td><td>42.71</td><td>0.49</td><td>.027</td><td>.007</td></tr>\n",
       "</tbody>\n",
       "</table>\n"
      ],
      "text/latex": [
       "A apa\\_results\\_table: 1 × 7\n",
       "\\begin{tabular}{r|lllllll}\n",
       "  & Effect & F & df1 & df2 & MSE & p & ges\\\\\n",
       "  & <ppj\\_lbll> & <ppj\\_lbll> & <ppj\\_lbll> & <ppj\\_lbll> & <ppj\\_lbll> & <ppj\\_lbll> & <ppj\\_lbll>\\\\\n",
       "\\hline\n",
       "\t1 & Cond0 & 4.24 & 1.64 & 42.71 & 0.49 & .027 & .007\\\\\n",
       "\\end{tabular}\n"
      ],
      "text/markdown": [
       "\n",
       "A apa_results_table: 1 × 7\n",
       "\n",
       "| <!--/--> | Effect &lt;ppj_lbll&gt; | F &lt;ppj_lbll&gt; | df1 &lt;ppj_lbll&gt; | df2 &lt;ppj_lbll&gt; | MSE &lt;ppj_lbll&gt; | p &lt;ppj_lbll&gt; | ges &lt;ppj_lbll&gt; |\n",
       "|---|---|---|---|---|---|---|---|\n",
       "| 1 | Cond0 | 4.24 | 1.64 | 42.71 | 0.49 | .027 | .007 |\n",
       "\n"
      ],
      "text/plain": [
       "  Effect F    df1  df2   MSE  p    ges \n",
       "1 Cond0  4.24 1.64 42.71 0.49 .027 .007"
      ]
     },
     "metadata": {},
     "output_type": "display_data"
    },
    {
     "data": {
      "text/markdown": [
       "### Result"
      ]
     },
     "metadata": {},
     "output_type": "display_data"
    },
    {
     "data": {
      "text/markdown": [
       "$F(1.64, 42.71) = 4.24$, $\\mathit{MSE} = 0.49$, $p = .027$, $\\hat{\\eta}^2_G = .007$"
      ]
     },
     "metadata": {},
     "output_type": "display_data"
    },
    {
     "data": {
      "text/markdown": [
       "### Summary (all done1, incl. NANs)"
      ]
     },
     "metadata": {},
     "output_type": "display_data"
    },
    {
     "data": {
      "text/html": [
       "<table>\n",
       "<caption>A tibble: 3 × 5</caption>\n",
       "<thead>\n",
       "\t<tr><th scope=col>cond0</th><th scope=col>N</th><th scope=col>valX_M</th><th scope=col>valX_SD</th><th scope=col>valX_SE</th></tr>\n",
       "\t<tr><th scope=col>&lt;fct&gt;</th><th scope=col>&lt;int&gt;</th><th scope=col>&lt;dbl&gt;</th><th scope=col>&lt;dbl&gt;</th><th scope=col>&lt;dbl&gt;</th></tr>\n",
       "</thead>\n",
       "<tbody>\n",
       "\t<tr><td>noun_F</td><td>36</td><td>0.9028009</td><td>2.610894</td><td>0.435149</td></tr>\n",
       "\t<tr><td>noun_M</td><td>37</td><td>1.0823633</td><td>2.259017</td><td>0.371380</td></tr>\n",
       "\t<tr><td>verb_X</td><td>33</td><td>0.4956733</td><td>2.366065</td><td>0.411879</td></tr>\n",
       "</tbody>\n",
       "</table>\n"
      ],
      "text/latex": [
       "A tibble: 3 × 5\n",
       "\\begin{tabular}{lllll}\n",
       " cond0 & N & valX\\_M & valX\\_SD & valX\\_SE\\\\\n",
       " <fct> & <int> & <dbl> & <dbl> & <dbl>\\\\\n",
       "\\hline\n",
       "\t noun\\_F & 36 & 0.9028009 & 2.610894 & 0.435149\\\\\n",
       "\t noun\\_M & 37 & 1.0823633 & 2.259017 & 0.371380\\\\\n",
       "\t verb\\_X & 33 & 0.4956733 & 2.366065 & 0.411879\\\\\n",
       "\\end{tabular}\n"
      ],
      "text/markdown": [
       "\n",
       "A tibble: 3 × 5\n",
       "\n",
       "| cond0 &lt;fct&gt; | N &lt;int&gt; | valX_M &lt;dbl&gt; | valX_SD &lt;dbl&gt; | valX_SE &lt;dbl&gt; |\n",
       "|---|---|---|---|---|\n",
       "| noun_F | 36 | 0.9028009 | 2.610894 | 0.435149 |\n",
       "| noun_M | 37 | 1.0823633 | 2.259017 | 0.371380 |\n",
       "| verb_X | 33 | 0.4956733 | 2.366065 | 0.411879 |\n",
       "\n"
      ],
      "text/plain": [
       "  cond0  N  valX_M    valX_SD  valX_SE \n",
       "1 noun_F 36 0.9028009 2.610894 0.435149\n",
       "2 noun_M 37 1.0823633 2.259017 0.371380\n",
       "3 verb_X 33 0.4956733 2.366065 0.411879"
      ]
     },
     "metadata": {},
     "output_type": "display_data"
    },
    {
     "data": {
      "text/markdown": [
       "### Expected marginal means"
      ]
     },
     "metadata": {},
     "output_type": "display_data"
    },
    {
     "data": {
      "text/html": [
       "<table>\n",
       "<caption>A apa_results_table: 3 × 5</caption>\n",
       "<thead>\n",
       "\t<tr><th></th><th scope=col>cond0</th><th scope=col>estimate</th><th scope=col>ci</th><th scope=col>statistic</th><th scope=col>p.value</th></tr>\n",
       "\t<tr><th></th><th scope=col>&lt;chr&gt;</th><th scope=col>&lt;ppj_lbll&gt;</th><th scope=col>&lt;ppj_lbll&gt;</th><th scope=col>&lt;ppj_lbll&gt;</th><th scope=col>&lt;ppj_lbll&gt;</th></tr>\n",
       "</thead>\n",
       "<tbody>\n",
       "\t<tr><th scope=row>noun_F</th><td>noun_F</td><td>0.59</td><td>$[-0.41$, $1.59]$</td><td>1.21</td><td>.235</td></tr>\n",
       "\t<tr><th scope=row>noun_M</th><td>noun_M</td><td>1.08</td><td>$[0.08$, $2.08]$ </td><td>2.22</td><td>.035</td></tr>\n",
       "\t<tr><th scope=row>verb_X</th><td>verb_X</td><td>0.92</td><td>$[-0.08$, $1.92]$</td><td>1.88</td><td>.071</td></tr>\n",
       "</tbody>\n",
       "</table>\n"
      ],
      "text/latex": [
       "A apa\\_results\\_table: 3 × 5\n",
       "\\begin{tabular}{r|lllll}\n",
       "  & cond0 & estimate & ci & statistic & p.value\\\\\n",
       "  & <chr> & <ppj\\_lbll> & <ppj\\_lbll> & <ppj\\_lbll> & <ppj\\_lbll>\\\\\n",
       "\\hline\n",
       "\tnoun\\_F & noun\\_F & 0.59 & \\${[}-0.41\\$, \\$1.59{]}\\$ & 1.21 & .235\\\\\n",
       "\tnoun\\_M & noun\\_M & 1.08 & \\${[}0.08\\$, \\$2.08{]}\\$  & 2.22 & .035\\\\\n",
       "\tverb\\_X & verb\\_X & 0.92 & \\${[}-0.08\\$, \\$1.92{]}\\$ & 1.88 & .071\\\\\n",
       "\\end{tabular}\n"
      ],
      "text/markdown": [
       "\n",
       "A apa_results_table: 3 × 5\n",
       "\n",
       "| <!--/--> | cond0 &lt;chr&gt; | estimate &lt;ppj_lbll&gt; | ci &lt;ppj_lbll&gt; | statistic &lt;ppj_lbll&gt; | p.value &lt;ppj_lbll&gt; |\n",
       "|---|---|---|---|---|---|\n",
       "| noun_F | noun_F | 0.59 | $[-0.41$, $1.59]$ | 1.21 | .235 |\n",
       "| noun_M | noun_M | 1.08 | $[0.08$, $2.08]$  | 2.22 | .035 |\n",
       "| verb_X | verb_X | 0.92 | $[-0.08$, $1.92]$ | 1.88 | .071 |\n",
       "\n"
      ],
      "text/plain": [
       "       cond0  estimate ci                statistic p.value\n",
       "noun_F noun_F 0.59     $[-0.41$, $1.59]$ 1.21      .235   \n",
       "noun_M noun_M 1.08     $[0.08$, $2.08]$  2.22      .035   \n",
       "verb_X verb_X 0.92     $[-0.08$, $1.92]$ 1.88      .071   "
      ]
     },
     "metadata": {},
     "output_type": "display_data"
    },
    {
     "data": {
      "text/markdown": [
       "### Paired comparisons for expected marginal means"
      ]
     },
     "metadata": {},
     "output_type": "display_data"
    },
    {
     "data": {
      "text/html": [
       "<table>\n",
       "<caption>A apa_results_table: 3 × 5</caption>\n",
       "<thead>\n",
       "\t<tr><th></th><th scope=col>contrast</th><th scope=col>estimate</th><th scope=col>ci</th><th scope=col>statistic</th><th scope=col>p.value</th></tr>\n",
       "\t<tr><th></th><th scope=col>&lt;ppj_lbll&gt;</th><th scope=col>&lt;ppj_lbll&gt;</th><th scope=col>&lt;ppj_lbll&gt;</th><th scope=col>&lt;ppj_lbll&gt;</th><th scope=col>&lt;ppj_lbll&gt;</th></tr>\n",
       "</thead>\n",
       "<tbody>\n",
       "\t<tr><th scope=row>noun_F_noun_M</th><td>noun_F - noun_M</td><td>-0.49</td><td>$[-0.91$, $-0.08]$</td><td>-2.86</td><td>.016</td></tr>\n",
       "\t<tr><th scope=row>noun_F_verb_X</th><td>noun_F - verb_X</td><td>-0.33</td><td>$[-0.74$, $0.09]$ </td><td>-1.89</td><td>.151</td></tr>\n",
       "\t<tr><th scope=row>noun_M_verb_X</th><td>noun_M - verb_X</td><td>0.17 </td><td>$[-0.25$, $0.58]$ </td><td>0.97 </td><td>.599</td></tr>\n",
       "</tbody>\n",
       "</table>\n"
      ],
      "text/latex": [
       "A apa\\_results\\_table: 3 × 5\n",
       "\\begin{tabular}{r|lllll}\n",
       "  & contrast & estimate & ci & statistic & p.value\\\\\n",
       "  & <ppj\\_lbll> & <ppj\\_lbll> & <ppj\\_lbll> & <ppj\\_lbll> & <ppj\\_lbll>\\\\\n",
       "\\hline\n",
       "\tnoun\\_F\\_noun\\_M & noun\\_F - noun\\_M & -0.49 & \\${[}-0.91\\$, \\$-0.08{]}\\$ & -2.86 & .016\\\\\n",
       "\tnoun\\_F\\_verb\\_X & noun\\_F - verb\\_X & -0.33 & \\${[}-0.74\\$, \\$0.09{]}\\$  & -1.89 & .151\\\\\n",
       "\tnoun\\_M\\_verb\\_X & noun\\_M - verb\\_X & 0.17  & \\${[}-0.25\\$, \\$0.58{]}\\$  & 0.97  & .599\\\\\n",
       "\\end{tabular}\n"
      ],
      "text/markdown": [
       "\n",
       "A apa_results_table: 3 × 5\n",
       "\n",
       "| <!--/--> | contrast &lt;ppj_lbll&gt; | estimate &lt;ppj_lbll&gt; | ci &lt;ppj_lbll&gt; | statistic &lt;ppj_lbll&gt; | p.value &lt;ppj_lbll&gt; |\n",
       "|---|---|---|---|---|---|\n",
       "| noun_F_noun_M | noun_F - noun_M | -0.49 | $[-0.91$, $-0.08]$ | -2.86 | .016 |\n",
       "| noun_F_verb_X | noun_F - verb_X | -0.33 | $[-0.74$, $0.09]$  | -1.89 | .151 |\n",
       "| noun_M_verb_X | noun_M - verb_X | 0.17  | $[-0.25$, $0.58]$  | 0.97  | .599 |\n",
       "\n"
      ],
      "text/plain": [
       "              contrast        estimate ci                 statistic p.value\n",
       "noun_F_noun_M noun_F - noun_M -0.49    $[-0.91$, $-0.08]$ -2.86     .016   \n",
       "noun_F_verb_X noun_F - verb_X -0.33    $[-0.74$, $0.09]$  -1.89     .151   \n",
       "noun_M_verb_X noun_M - verb_X 0.17     $[-0.25$, $0.58]$  0.97      .599   "
      ]
     },
     "metadata": {},
     "output_type": "display_data"
    }
   ],
   "source": [
    "IDX <- IDX+1; COND <- CONDS[IDX]\n",
    "data1 <- droplevels(subset(df1, eval(parse(text=COND)))); data1 <- data1[complete.cases(data1),]; done1 <- AOV4(data1,COND)\n",
    "display_markdown(str_c(\"# Condition \",IDX,\" of \",length(CONDS))); display_markdown(done1$info); display_markdown(\"### Table\"); done1$aov_APA$table; display_markdown(\"### Result\"); display_markdown(done1$aov_APA[[\"full_result\"]][[\"cond0\"]]); display_markdown(\"### Summary (all done1, incl. NANs)\"); done1$summary; display_markdown(\"### Expected marginal means\"); done1$emm_APA$table; display_markdown(\"### Paired comparisons for expected marginal means\"); done1$pairs_APA$table"
   ]
  },
  {
   "cell_type": "code",
   "execution_count": 39,
   "metadata": {},
   "outputs": [
    {
     "name": "stderr",
     "output_type": "stream",
     "text": [
      "Warning message:\n",
      "“Missing values for following ID(s):\n",
      "01mkxf, 24jkxf, 30mszf, 35mwxm\n",
      "Removing those cases from the analysis.”\n",
      "Warning message in summary.Anova.mlm(x$Anova):\n",
      "“HF eps > 1 treated as 1”\n"
     ]
    },
    {
     "data": {
      "text/markdown": [
       "# Condition 22 of 72"
      ]
     },
     "metadata": {},
     "output_type": "display_data"
    },
    {
     "data": {
      "text/markdown": [
       "`tmin0==0.19 & chan0==\"LP\" & mode0==\"neg\"`"
      ]
     },
     "metadata": {},
     "output_type": "display_data"
    },
    {
     "data": {
      "text/markdown": [
       "### Table"
      ]
     },
     "metadata": {},
     "output_type": "display_data"
    },
    {
     "data": {
      "text/html": [
       "<table>\n",
       "<caption>A apa_results_table: 1 × 7</caption>\n",
       "<thead>\n",
       "\t<tr><th></th><th scope=col>Effect</th><th scope=col>F</th><th scope=col>df1</th><th scope=col>df2</th><th scope=col>MSE</th><th scope=col>p</th><th scope=col>ges</th></tr>\n",
       "\t<tr><th></th><th scope=col>&lt;ppj_lbll&gt;</th><th scope=col>&lt;ppj_lbll&gt;</th><th scope=col>&lt;ppj_lbll&gt;</th><th scope=col>&lt;ppj_lbll&gt;</th><th scope=col>&lt;ppj_lbll&gt;</th><th scope=col>&lt;ppj_lbll&gt;</th><th scope=col>&lt;ppj_lbll&gt;</th></tr>\n",
       "</thead>\n",
       "<tbody>\n",
       "\t<tr><th scope=row>1</th><td>Cond0</td><td>9.90</td><td>1.93</td><td>69.42</td><td>0.33</td><td>&lt; .001</td><td>.008</td></tr>\n",
       "</tbody>\n",
       "</table>\n"
      ],
      "text/latex": [
       "A apa\\_results\\_table: 1 × 7\n",
       "\\begin{tabular}{r|lllllll}\n",
       "  & Effect & F & df1 & df2 & MSE & p & ges\\\\\n",
       "  & <ppj\\_lbll> & <ppj\\_lbll> & <ppj\\_lbll> & <ppj\\_lbll> & <ppj\\_lbll> & <ppj\\_lbll> & <ppj\\_lbll>\\\\\n",
       "\\hline\n",
       "\t1 & Cond0 & 9.90 & 1.93 & 69.42 & 0.33 & < .001 & .008\\\\\n",
       "\\end{tabular}\n"
      ],
      "text/markdown": [
       "\n",
       "A apa_results_table: 1 × 7\n",
       "\n",
       "| <!--/--> | Effect &lt;ppj_lbll&gt; | F &lt;ppj_lbll&gt; | df1 &lt;ppj_lbll&gt; | df2 &lt;ppj_lbll&gt; | MSE &lt;ppj_lbll&gt; | p &lt;ppj_lbll&gt; | ges &lt;ppj_lbll&gt; |\n",
       "|---|---|---|---|---|---|---|---|\n",
       "| 1 | Cond0 | 9.90 | 1.93 | 69.42 | 0.33 | &lt; .001 | .008 |\n",
       "\n"
      ],
      "text/plain": [
       "  Effect F    df1  df2   MSE  p      ges \n",
       "1 Cond0  9.90 1.93 69.42 0.33 < .001 .008"
      ]
     },
     "metadata": {},
     "output_type": "display_data"
    },
    {
     "data": {
      "text/markdown": [
       "### Result"
      ]
     },
     "metadata": {},
     "output_type": "display_data"
    },
    {
     "data": {
      "text/markdown": [
       "$F(1.93, 69.42) = 9.90$, $\\mathit{MSE} = 0.33$, $p < .001$, $\\hat{\\eta}^2_G = .008$"
      ]
     },
     "metadata": {},
     "output_type": "display_data"
    },
    {
     "data": {
      "text/markdown": [
       "### Summary (all done1, incl. NANs)"
      ]
     },
     "metadata": {},
     "output_type": "display_data"
    },
    {
     "data": {
      "text/html": [
       "<table>\n",
       "<caption>A tibble: 3 × 5</caption>\n",
       "<thead>\n",
       "\t<tr><th scope=col>cond0</th><th scope=col>N</th><th scope=col>valX_M</th><th scope=col>valX_SD</th><th scope=col>valX_SE</th></tr>\n",
       "\t<tr><th scope=col>&lt;fct&gt;</th><th scope=col>&lt;int&gt;</th><th scope=col>&lt;dbl&gt;</th><th scope=col>&lt;dbl&gt;</th><th scope=col>&lt;dbl&gt;</th></tr>\n",
       "</thead>\n",
       "<tbody>\n",
       "\t<tr><td>noun_F</td><td>39</td><td>-2.393996</td><td>2.613687</td><td>0.4185249</td></tr>\n",
       "\t<tr><td>noun_M</td><td>40</td><td>-1.670696</td><td>2.592275</td><td>0.4098747</td></tr>\n",
       "\t<tr><td>verb_X</td><td>38</td><td>-2.064230</td><td>2.688970</td><td>0.4362086</td></tr>\n",
       "</tbody>\n",
       "</table>\n"
      ],
      "text/latex": [
       "A tibble: 3 × 5\n",
       "\\begin{tabular}{lllll}\n",
       " cond0 & N & valX\\_M & valX\\_SD & valX\\_SE\\\\\n",
       " <fct> & <int> & <dbl> & <dbl> & <dbl>\\\\\n",
       "\\hline\n",
       "\t noun\\_F & 39 & -2.393996 & 2.613687 & 0.4185249\\\\\n",
       "\t noun\\_M & 40 & -1.670696 & 2.592275 & 0.4098747\\\\\n",
       "\t verb\\_X & 38 & -2.064230 & 2.688970 & 0.4362086\\\\\n",
       "\\end{tabular}\n"
      ],
      "text/markdown": [
       "\n",
       "A tibble: 3 × 5\n",
       "\n",
       "| cond0 &lt;fct&gt; | N &lt;int&gt; | valX_M &lt;dbl&gt; | valX_SD &lt;dbl&gt; | valX_SE &lt;dbl&gt; |\n",
       "|---|---|---|---|---|\n",
       "| noun_F | 39 | -2.393996 | 2.613687 | 0.4185249 |\n",
       "| noun_M | 40 | -1.670696 | 2.592275 | 0.4098747 |\n",
       "| verb_X | 38 | -2.064230 | 2.688970 | 0.4362086 |\n",
       "\n"
      ],
      "text/plain": [
       "  cond0  N  valX_M    valX_SD  valX_SE  \n",
       "1 noun_F 39 -2.393996 2.613687 0.4185249\n",
       "2 noun_M 40 -1.670696 2.592275 0.4098747\n",
       "3 verb_X 38 -2.064230 2.688970 0.4362086"
      ]
     },
     "metadata": {},
     "output_type": "display_data"
    },
    {
     "data": {
      "text/markdown": [
       "### Expected marginal means"
      ]
     },
     "metadata": {},
     "output_type": "display_data"
    },
    {
     "data": {
      "text/html": [
       "<table>\n",
       "<caption>A apa_results_table: 3 × 5</caption>\n",
       "<thead>\n",
       "\t<tr><th></th><th scope=col>cond0</th><th scope=col>estimate</th><th scope=col>ci</th><th scope=col>statistic</th><th scope=col>p.value</th></tr>\n",
       "\t<tr><th></th><th scope=col>&lt;chr&gt;</th><th scope=col>&lt;ppj_lbll&gt;</th><th scope=col>&lt;ppj_lbll&gt;</th><th scope=col>&lt;ppj_lbll&gt;</th><th scope=col>&lt;ppj_lbll&gt;</th></tr>\n",
       "</thead>\n",
       "<tbody>\n",
       "\t<tr><th scope=row>noun_F</th><td>noun_F</td><td>-2.44</td><td>$[-3.32$, $-1.56]$</td><td>-5.60</td><td>&lt; .001</td></tr>\n",
       "\t<tr><th scope=row>noun_M</th><td>noun_M</td><td>-1.86</td><td>$[-2.74$, $-0.98]$</td><td>-4.27</td><td>&lt; .001</td></tr>\n",
       "\t<tr><th scope=row>verb_X</th><td>verb_X</td><td>-2.13</td><td>$[-3.01$, $-1.24]$</td><td>-4.88</td><td>&lt; .001</td></tr>\n",
       "</tbody>\n",
       "</table>\n"
      ],
      "text/latex": [
       "A apa\\_results\\_table: 3 × 5\n",
       "\\begin{tabular}{r|lllll}\n",
       "  & cond0 & estimate & ci & statistic & p.value\\\\\n",
       "  & <chr> & <ppj\\_lbll> & <ppj\\_lbll> & <ppj\\_lbll> & <ppj\\_lbll>\\\\\n",
       "\\hline\n",
       "\tnoun\\_F & noun\\_F & -2.44 & \\${[}-3.32\\$, \\$-1.56{]}\\$ & -5.60 & < .001\\\\\n",
       "\tnoun\\_M & noun\\_M & -1.86 & \\${[}-2.74\\$, \\$-0.98{]}\\$ & -4.27 & < .001\\\\\n",
       "\tverb\\_X & verb\\_X & -2.13 & \\${[}-3.01\\$, \\$-1.24{]}\\$ & -4.88 & < .001\\\\\n",
       "\\end{tabular}\n"
      ],
      "text/markdown": [
       "\n",
       "A apa_results_table: 3 × 5\n",
       "\n",
       "| <!--/--> | cond0 &lt;chr&gt; | estimate &lt;ppj_lbll&gt; | ci &lt;ppj_lbll&gt; | statistic &lt;ppj_lbll&gt; | p.value &lt;ppj_lbll&gt; |\n",
       "|---|---|---|---|---|---|\n",
       "| noun_F | noun_F | -2.44 | $[-3.32$, $-1.56]$ | -5.60 | &lt; .001 |\n",
       "| noun_M | noun_M | -1.86 | $[-2.74$, $-0.98]$ | -4.27 | &lt; .001 |\n",
       "| verb_X | verb_X | -2.13 | $[-3.01$, $-1.24]$ | -4.88 | &lt; .001 |\n",
       "\n"
      ],
      "text/plain": [
       "       cond0  estimate ci                 statistic p.value\n",
       "noun_F noun_F -2.44    $[-3.32$, $-1.56]$ -5.60     < .001 \n",
       "noun_M noun_M -1.86    $[-2.74$, $-0.98]$ -4.27     < .001 \n",
       "verb_X verb_X -2.13    $[-3.01$, $-1.24]$ -4.88     < .001 "
      ]
     },
     "metadata": {},
     "output_type": "display_data"
    },
    {
     "data": {
      "text/markdown": [
       "### Paired comparisons for expected marginal means"
      ]
     },
     "metadata": {},
     "output_type": "display_data"
    },
    {
     "data": {
      "text/html": [
       "<table>\n",
       "<caption>A apa_results_table: 3 × 5</caption>\n",
       "<thead>\n",
       "\t<tr><th></th><th scope=col>contrast</th><th scope=col>estimate</th><th scope=col>ci</th><th scope=col>statistic</th><th scope=col>p.value</th></tr>\n",
       "\t<tr><th></th><th scope=col>&lt;ppj_lbll&gt;</th><th scope=col>&lt;ppj_lbll&gt;</th><th scope=col>&lt;ppj_lbll&gt;</th><th scope=col>&lt;ppj_lbll&gt;</th><th scope=col>&lt;ppj_lbll&gt;</th></tr>\n",
       "</thead>\n",
       "<tbody>\n",
       "\t<tr><th scope=row>noun_F_noun_M</th><td>noun_F - noun_M</td><td>-0.58</td><td>$[-0.89$, $-0.27]$</td><td>-4.44</td><td>&lt; .001</td></tr>\n",
       "\t<tr><th scope=row>noun_F_verb_X</th><td>noun_F - verb_X</td><td>-0.32</td><td>$[-0.63$, $0.00]$ </td><td>-2.42</td><td>.047  </td></tr>\n",
       "\t<tr><th scope=row>noun_M_verb_X</th><td>noun_M - verb_X</td><td>0.26 </td><td>$[-0.05$, $0.58]$ </td><td>2.02 </td><td>.114  </td></tr>\n",
       "</tbody>\n",
       "</table>\n"
      ],
      "text/latex": [
       "A apa\\_results\\_table: 3 × 5\n",
       "\\begin{tabular}{r|lllll}\n",
       "  & contrast & estimate & ci & statistic & p.value\\\\\n",
       "  & <ppj\\_lbll> & <ppj\\_lbll> & <ppj\\_lbll> & <ppj\\_lbll> & <ppj\\_lbll>\\\\\n",
       "\\hline\n",
       "\tnoun\\_F\\_noun\\_M & noun\\_F - noun\\_M & -0.58 & \\${[}-0.89\\$, \\$-0.27{]}\\$ & -4.44 & < .001\\\\\n",
       "\tnoun\\_F\\_verb\\_X & noun\\_F - verb\\_X & -0.32 & \\${[}-0.63\\$, \\$0.00{]}\\$  & -2.42 & .047  \\\\\n",
       "\tnoun\\_M\\_verb\\_X & noun\\_M - verb\\_X & 0.26  & \\${[}-0.05\\$, \\$0.58{]}\\$  & 2.02  & .114  \\\\\n",
       "\\end{tabular}\n"
      ],
      "text/markdown": [
       "\n",
       "A apa_results_table: 3 × 5\n",
       "\n",
       "| <!--/--> | contrast &lt;ppj_lbll&gt; | estimate &lt;ppj_lbll&gt; | ci &lt;ppj_lbll&gt; | statistic &lt;ppj_lbll&gt; | p.value &lt;ppj_lbll&gt; |\n",
       "|---|---|---|---|---|---|\n",
       "| noun_F_noun_M | noun_F - noun_M | -0.58 | $[-0.89$, $-0.27]$ | -4.44 | &lt; .001 |\n",
       "| noun_F_verb_X | noun_F - verb_X | -0.32 | $[-0.63$, $0.00]$  | -2.42 | .047   |\n",
       "| noun_M_verb_X | noun_M - verb_X | 0.26  | $[-0.05$, $0.58]$  | 2.02  | .114   |\n",
       "\n"
      ],
      "text/plain": [
       "              contrast        estimate ci                 statistic p.value\n",
       "noun_F_noun_M noun_F - noun_M -0.58    $[-0.89$, $-0.27]$ -4.44     < .001 \n",
       "noun_F_verb_X noun_F - verb_X -0.32    $[-0.63$, $0.00]$  -2.42     .047   \n",
       "noun_M_verb_X noun_M - verb_X 0.26     $[-0.05$, $0.58]$  2.02      .114   "
      ]
     },
     "metadata": {},
     "output_type": "display_data"
    }
   ],
   "source": [
    "IDX <- IDX+1; COND <- CONDS[IDX]\n",
    "data1 <- droplevels(subset(df1, eval(parse(text=COND)))); data1 <- data1[complete.cases(data1),]; done1 <- AOV4(data1,COND)\n",
    "display_markdown(str_c(\"# Condition \",IDX,\" of \",length(CONDS))); display_markdown(done1$info); display_markdown(\"### Table\"); done1$aov_APA$table; display_markdown(\"### Result\"); display_markdown(done1$aov_APA[[\"full_result\"]][[\"cond0\"]]); display_markdown(\"### Summary (all done1, incl. NANs)\"); done1$summary; display_markdown(\"### Expected marginal means\"); done1$emm_APA$table; display_markdown(\"### Paired comparisons for expected marginal means\"); done1$pairs_APA$table"
   ]
  },
  {
   "cell_type": "code",
   "execution_count": 40,
   "metadata": {},
   "outputs": [
    {
     "name": "stderr",
     "output_type": "stream",
     "text": [
      "Warning message:\n",
      "“Missing values for following ID(s):\n",
      "06pppm, 07zrxf, 16olxm, 17makf, 21koxf, 25abxf, 26mwxf, 29jjxf, 32mjxf, 36rwxm, 37lpxm, 38slxm, 40asxm, 41roxm, 42aszm\n",
      "Removing those cases from the analysis.”\n",
      "Warning message in summary.Anova.mlm(x$Anova):\n",
      "“HF eps > 1 treated as 1”\n"
     ]
    },
    {
     "data": {
      "text/markdown": [
       "# Condition 23 of 72"
      ]
     },
     "metadata": {},
     "output_type": "display_data"
    },
    {
     "data": {
      "text/markdown": [
       "`tmin0==0.19 & chan0==\"RP\" & mode0==\"pos\"`"
      ]
     },
     "metadata": {},
     "output_type": "display_data"
    },
    {
     "data": {
      "text/markdown": [
       "### Table"
      ]
     },
     "metadata": {},
     "output_type": "display_data"
    },
    {
     "data": {
      "text/html": [
       "<table>\n",
       "<caption>A apa_results_table: 1 × 7</caption>\n",
       "<thead>\n",
       "\t<tr><th></th><th scope=col>Effect</th><th scope=col>F</th><th scope=col>df1</th><th scope=col>df2</th><th scope=col>MSE</th><th scope=col>p</th><th scope=col>ges</th></tr>\n",
       "\t<tr><th></th><th scope=col>&lt;ppj_lbll&gt;</th><th scope=col>&lt;ppj_lbll&gt;</th><th scope=col>&lt;ppj_lbll&gt;</th><th scope=col>&lt;ppj_lbll&gt;</th><th scope=col>&lt;ppj_lbll&gt;</th><th scope=col>&lt;ppj_lbll&gt;</th><th scope=col>&lt;ppj_lbll&gt;</th></tr>\n",
       "</thead>\n",
       "<tbody>\n",
       "\t<tr><th scope=row>1</th><td>Cond0</td><td>0.53</td><td>1.99</td><td>47.66</td><td>0.43</td><td>.590</td><td>.002</td></tr>\n",
       "</tbody>\n",
       "</table>\n"
      ],
      "text/latex": [
       "A apa\\_results\\_table: 1 × 7\n",
       "\\begin{tabular}{r|lllllll}\n",
       "  & Effect & F & df1 & df2 & MSE & p & ges\\\\\n",
       "  & <ppj\\_lbll> & <ppj\\_lbll> & <ppj\\_lbll> & <ppj\\_lbll> & <ppj\\_lbll> & <ppj\\_lbll> & <ppj\\_lbll>\\\\\n",
       "\\hline\n",
       "\t1 & Cond0 & 0.53 & 1.99 & 47.66 & 0.43 & .590 & .002\\\\\n",
       "\\end{tabular}\n"
      ],
      "text/markdown": [
       "\n",
       "A apa_results_table: 1 × 7\n",
       "\n",
       "| <!--/--> | Effect &lt;ppj_lbll&gt; | F &lt;ppj_lbll&gt; | df1 &lt;ppj_lbll&gt; | df2 &lt;ppj_lbll&gt; | MSE &lt;ppj_lbll&gt; | p &lt;ppj_lbll&gt; | ges &lt;ppj_lbll&gt; |\n",
       "|---|---|---|---|---|---|---|---|\n",
       "| 1 | Cond0 | 0.53 | 1.99 | 47.66 | 0.43 | .590 | .002 |\n",
       "\n"
      ],
      "text/plain": [
       "  Effect F    df1  df2   MSE  p    ges \n",
       "1 Cond0  0.53 1.99 47.66 0.43 .590 .002"
      ]
     },
     "metadata": {},
     "output_type": "display_data"
    },
    {
     "data": {
      "text/markdown": [
       "### Result"
      ]
     },
     "metadata": {},
     "output_type": "display_data"
    },
    {
     "data": {
      "text/markdown": [
       "$F(1.99, 47.66) = 0.53$, $\\mathit{MSE} = 0.43$, $p = .590$, $\\hat{\\eta}^2_G = .002$"
      ]
     },
     "metadata": {},
     "output_type": "display_data"
    },
    {
     "data": {
      "text/markdown": [
       "### Summary (all done1, incl. NANs)"
      ]
     },
     "metadata": {},
     "output_type": "display_data"
    },
    {
     "data": {
      "text/html": [
       "<table>\n",
       "<caption>A tibble: 3 × 5</caption>\n",
       "<thead>\n",
       "\t<tr><th scope=col>cond0</th><th scope=col>N</th><th scope=col>valX_M</th><th scope=col>valX_SD</th><th scope=col>valX_SE</th></tr>\n",
       "\t<tr><th scope=col>&lt;fct&gt;</th><th scope=col>&lt;int&gt;</th><th scope=col>&lt;dbl&gt;</th><th scope=col>&lt;dbl&gt;</th><th scope=col>&lt;dbl&gt;</th></tr>\n",
       "</thead>\n",
       "<tbody>\n",
       "\t<tr><td>noun_F</td><td>35</td><td>2.562109</td><td>1.843902</td><td>0.3116763</td></tr>\n",
       "\t<tr><td>noun_M</td><td>36</td><td>2.782443</td><td>2.809274</td><td>0.4682124</td></tr>\n",
       "\t<tr><td>verb_X</td><td>30</td><td>2.415413</td><td>1.933609</td><td>0.3530270</td></tr>\n",
       "</tbody>\n",
       "</table>\n"
      ],
      "text/latex": [
       "A tibble: 3 × 5\n",
       "\\begin{tabular}{lllll}\n",
       " cond0 & N & valX\\_M & valX\\_SD & valX\\_SE\\\\\n",
       " <fct> & <int> & <dbl> & <dbl> & <dbl>\\\\\n",
       "\\hline\n",
       "\t noun\\_F & 35 & 2.562109 & 1.843902 & 0.3116763\\\\\n",
       "\t noun\\_M & 36 & 2.782443 & 2.809274 & 0.4682124\\\\\n",
       "\t verb\\_X & 30 & 2.415413 & 1.933609 & 0.3530270\\\\\n",
       "\\end{tabular}\n"
      ],
      "text/markdown": [
       "\n",
       "A tibble: 3 × 5\n",
       "\n",
       "| cond0 &lt;fct&gt; | N &lt;int&gt; | valX_M &lt;dbl&gt; | valX_SD &lt;dbl&gt; | valX_SE &lt;dbl&gt; |\n",
       "|---|---|---|---|---|\n",
       "| noun_F | 35 | 2.562109 | 1.843902 | 0.3116763 |\n",
       "| noun_M | 36 | 2.782443 | 2.809274 | 0.4682124 |\n",
       "| verb_X | 30 | 2.415413 | 1.933609 | 0.3530270 |\n",
       "\n"
      ],
      "text/plain": [
       "  cond0  N  valX_M   valX_SD  valX_SE  \n",
       "1 noun_F 35 2.562109 1.843902 0.3116763\n",
       "2 noun_M 36 2.782443 2.809274 0.4682124\n",
       "3 verb_X 30 2.415413 1.933609 0.3530270"
      ]
     },
     "metadata": {},
     "output_type": "display_data"
    },
    {
     "data": {
      "text/markdown": [
       "### Expected marginal means"
      ]
     },
     "metadata": {},
     "output_type": "display_data"
    },
    {
     "data": {
      "text/html": [
       "<table>\n",
       "<caption>A apa_results_table: 3 × 5</caption>\n",
       "<thead>\n",
       "\t<tr><th></th><th scope=col>cond0</th><th scope=col>estimate</th><th scope=col>ci</th><th scope=col>statistic</th><th scope=col>p.value</th></tr>\n",
       "\t<tr><th></th><th scope=col>&lt;chr&gt;</th><th scope=col>&lt;ppj_lbll&gt;</th><th scope=col>&lt;ppj_lbll&gt;</th><th scope=col>&lt;ppj_lbll&gt;</th><th scope=col>&lt;ppj_lbll&gt;</th></tr>\n",
       "</thead>\n",
       "<tbody>\n",
       "\t<tr><th scope=row>noun_F</th><td>noun_F</td><td>2.52</td><td>$[1.68$, $3.36]$</td><td>6.14</td><td>&lt; .001</td></tr>\n",
       "\t<tr><th scope=row>noun_M</th><td>noun_M</td><td>2.70</td><td>$[1.86$, $3.55]$</td><td>6.59</td><td>&lt; .001</td></tr>\n",
       "\t<tr><th scope=row>verb_X</th><td>verb_X</td><td>2.65</td><td>$[1.81$, $3.49]$</td><td>6.46</td><td>&lt; .001</td></tr>\n",
       "</tbody>\n",
       "</table>\n"
      ],
      "text/latex": [
       "A apa\\_results\\_table: 3 × 5\n",
       "\\begin{tabular}{r|lllll}\n",
       "  & cond0 & estimate & ci & statistic & p.value\\\\\n",
       "  & <chr> & <ppj\\_lbll> & <ppj\\_lbll> & <ppj\\_lbll> & <ppj\\_lbll>\\\\\n",
       "\\hline\n",
       "\tnoun\\_F & noun\\_F & 2.52 & \\${[}1.68\\$, \\$3.36{]}\\$ & 6.14 & < .001\\\\\n",
       "\tnoun\\_M & noun\\_M & 2.70 & \\${[}1.86\\$, \\$3.55{]}\\$ & 6.59 & < .001\\\\\n",
       "\tverb\\_X & verb\\_X & 2.65 & \\${[}1.81\\$, \\$3.49{]}\\$ & 6.46 & < .001\\\\\n",
       "\\end{tabular}\n"
      ],
      "text/markdown": [
       "\n",
       "A apa_results_table: 3 × 5\n",
       "\n",
       "| <!--/--> | cond0 &lt;chr&gt; | estimate &lt;ppj_lbll&gt; | ci &lt;ppj_lbll&gt; | statistic &lt;ppj_lbll&gt; | p.value &lt;ppj_lbll&gt; |\n",
       "|---|---|---|---|---|---|\n",
       "| noun_F | noun_F | 2.52 | $[1.68$, $3.36]$ | 6.14 | &lt; .001 |\n",
       "| noun_M | noun_M | 2.70 | $[1.86$, $3.55]$ | 6.59 | &lt; .001 |\n",
       "| verb_X | verb_X | 2.65 | $[1.81$, $3.49]$ | 6.46 | &lt; .001 |\n",
       "\n"
      ],
      "text/plain": [
       "       cond0  estimate ci               statistic p.value\n",
       "noun_F noun_F 2.52     $[1.68$, $3.36]$ 6.14      < .001 \n",
       "noun_M noun_M 2.70     $[1.86$, $3.55]$ 6.59      < .001 \n",
       "verb_X verb_X 2.65     $[1.81$, $3.49]$ 6.46      < .001 "
      ]
     },
     "metadata": {},
     "output_type": "display_data"
    },
    {
     "data": {
      "text/markdown": [
       "### Paired comparisons for expected marginal means"
      ]
     },
     "metadata": {},
     "output_type": "display_data"
    },
    {
     "data": {
      "text/html": [
       "<table>\n",
       "<caption>A apa_results_table: 3 × 5</caption>\n",
       "<thead>\n",
       "\t<tr><th></th><th scope=col>contrast</th><th scope=col>estimate</th><th scope=col>ci</th><th scope=col>statistic</th><th scope=col>p.value</th></tr>\n",
       "\t<tr><th></th><th scope=col>&lt;ppj_lbll&gt;</th><th scope=col>&lt;ppj_lbll&gt;</th><th scope=col>&lt;ppj_lbll&gt;</th><th scope=col>&lt;ppj_lbll&gt;</th><th scope=col>&lt;ppj_lbll&gt;</th></tr>\n",
       "</thead>\n",
       "<tbody>\n",
       "\t<tr><th scope=row>noun_F_noun_M</th><td>noun_F - noun_M</td><td>-0.19</td><td>$[-0.63$, $0.26]$</td><td>-1.00</td><td>.578</td></tr>\n",
       "\t<tr><th scope=row>noun_F_verb_X</th><td>noun_F - verb_X</td><td>-0.13</td><td>$[-0.58$, $0.32]$</td><td>-0.70</td><td>.762</td></tr>\n",
       "\t<tr><th scope=row>noun_M_verb_X</th><td>noun_M - verb_X</td><td>0.06 </td><td>$[-0.39$, $0.50]$</td><td>0.30 </td><td>.952</td></tr>\n",
       "</tbody>\n",
       "</table>\n"
      ],
      "text/latex": [
       "A apa\\_results\\_table: 3 × 5\n",
       "\\begin{tabular}{r|lllll}\n",
       "  & contrast & estimate & ci & statistic & p.value\\\\\n",
       "  & <ppj\\_lbll> & <ppj\\_lbll> & <ppj\\_lbll> & <ppj\\_lbll> & <ppj\\_lbll>\\\\\n",
       "\\hline\n",
       "\tnoun\\_F\\_noun\\_M & noun\\_F - noun\\_M & -0.19 & \\${[}-0.63\\$, \\$0.26{]}\\$ & -1.00 & .578\\\\\n",
       "\tnoun\\_F\\_verb\\_X & noun\\_F - verb\\_X & -0.13 & \\${[}-0.58\\$, \\$0.32{]}\\$ & -0.70 & .762\\\\\n",
       "\tnoun\\_M\\_verb\\_X & noun\\_M - verb\\_X & 0.06  & \\${[}-0.39\\$, \\$0.50{]}\\$ & 0.30  & .952\\\\\n",
       "\\end{tabular}\n"
      ],
      "text/markdown": [
       "\n",
       "A apa_results_table: 3 × 5\n",
       "\n",
       "| <!--/--> | contrast &lt;ppj_lbll&gt; | estimate &lt;ppj_lbll&gt; | ci &lt;ppj_lbll&gt; | statistic &lt;ppj_lbll&gt; | p.value &lt;ppj_lbll&gt; |\n",
       "|---|---|---|---|---|---|\n",
       "| noun_F_noun_M | noun_F - noun_M | -0.19 | $[-0.63$, $0.26]$ | -1.00 | .578 |\n",
       "| noun_F_verb_X | noun_F - verb_X | -0.13 | $[-0.58$, $0.32]$ | -0.70 | .762 |\n",
       "| noun_M_verb_X | noun_M - verb_X | 0.06  | $[-0.39$, $0.50]$ | 0.30  | .952 |\n",
       "\n"
      ],
      "text/plain": [
       "              contrast        estimate ci                statistic p.value\n",
       "noun_F_noun_M noun_F - noun_M -0.19    $[-0.63$, $0.26]$ -1.00     .578   \n",
       "noun_F_verb_X noun_F - verb_X -0.13    $[-0.58$, $0.32]$ -0.70     .762   \n",
       "noun_M_verb_X noun_M - verb_X 0.06     $[-0.39$, $0.50]$ 0.30      .952   "
      ]
     },
     "metadata": {},
     "output_type": "display_data"
    }
   ],
   "source": [
    "IDX <- IDX+1; COND <- CONDS[IDX]\n",
    "data1 <- droplevels(subset(df1, eval(parse(text=COND)))); data1 <- data1[complete.cases(data1),]; done1 <- AOV4(data1,COND)\n",
    "display_markdown(str_c(\"# Condition \",IDX,\" of \",length(CONDS))); display_markdown(done1$info); display_markdown(\"### Table\"); done1$aov_APA$table; display_markdown(\"### Result\"); display_markdown(done1$aov_APA[[\"full_result\"]][[\"cond0\"]]); display_markdown(\"### Summary (all done1, incl. NANs)\"); done1$summary; display_markdown(\"### Expected marginal means\"); done1$emm_APA$table; display_markdown(\"### Paired comparisons for expected marginal means\"); done1$pairs_APA$table"
   ]
  },
  {
   "cell_type": "code",
   "execution_count": 41,
   "metadata": {},
   "outputs": [
    {
     "name": "stderr",
     "output_type": "stream",
     "text": [
      "Warning message:\n",
      "“Missing values for following ID(s):\n",
      "26mwxf\n",
      "Removing those cases from the analysis.”\n"
     ]
    },
    {
     "data": {
      "text/markdown": [
       "# Condition 24 of 72"
      ]
     },
     "metadata": {},
     "output_type": "display_data"
    },
    {
     "data": {
      "text/markdown": [
       "`tmin0==0.19 & chan0==\"RP\" & mode0==\"neg\"`"
      ]
     },
     "metadata": {},
     "output_type": "display_data"
    },
    {
     "data": {
      "text/markdown": [
       "### Table"
      ]
     },
     "metadata": {},
     "output_type": "display_data"
    },
    {
     "data": {
      "text/html": [
       "<table>\n",
       "<caption>A apa_results_table: 1 × 7</caption>\n",
       "<thead>\n",
       "\t<tr><th></th><th scope=col>Effect</th><th scope=col>F</th><th scope=col>df1</th><th scope=col>df2</th><th scope=col>MSE</th><th scope=col>p</th><th scope=col>ges</th></tr>\n",
       "\t<tr><th></th><th scope=col>&lt;ppj_lbll&gt;</th><th scope=col>&lt;ppj_lbll&gt;</th><th scope=col>&lt;ppj_lbll&gt;</th><th scope=col>&lt;ppj_lbll&gt;</th><th scope=col>&lt;ppj_lbll&gt;</th><th scope=col>&lt;ppj_lbll&gt;</th><th scope=col>&lt;ppj_lbll&gt;</th></tr>\n",
       "</thead>\n",
       "<tbody>\n",
       "\t<tr><th scope=row>1</th><td>Cond0</td><td>0.24</td><td>1.49</td><td>58.15</td><td>0.46</td><td>.720</td><td>.000</td></tr>\n",
       "</tbody>\n",
       "</table>\n"
      ],
      "text/latex": [
       "A apa\\_results\\_table: 1 × 7\n",
       "\\begin{tabular}{r|lllllll}\n",
       "  & Effect & F & df1 & df2 & MSE & p & ges\\\\\n",
       "  & <ppj\\_lbll> & <ppj\\_lbll> & <ppj\\_lbll> & <ppj\\_lbll> & <ppj\\_lbll> & <ppj\\_lbll> & <ppj\\_lbll>\\\\\n",
       "\\hline\n",
       "\t1 & Cond0 & 0.24 & 1.49 & 58.15 & 0.46 & .720 & .000\\\\\n",
       "\\end{tabular}\n"
      ],
      "text/markdown": [
       "\n",
       "A apa_results_table: 1 × 7\n",
       "\n",
       "| <!--/--> | Effect &lt;ppj_lbll&gt; | F &lt;ppj_lbll&gt; | df1 &lt;ppj_lbll&gt; | df2 &lt;ppj_lbll&gt; | MSE &lt;ppj_lbll&gt; | p &lt;ppj_lbll&gt; | ges &lt;ppj_lbll&gt; |\n",
       "|---|---|---|---|---|---|---|---|\n",
       "| 1 | Cond0 | 0.24 | 1.49 | 58.15 | 0.46 | .720 | .000 |\n",
       "\n"
      ],
      "text/plain": [
       "  Effect F    df1  df2   MSE  p    ges \n",
       "1 Cond0  0.24 1.49 58.15 0.46 .720 .000"
      ]
     },
     "metadata": {},
     "output_type": "display_data"
    },
    {
     "data": {
      "text/markdown": [
       "### Result"
      ]
     },
     "metadata": {},
     "output_type": "display_data"
    },
    {
     "data": {
      "text/markdown": [
       "$F(1.49, 58.15) = 0.24$, $\\mathit{MSE} = 0.46$, $p = .720$, $\\hat{\\eta}^2_G = .000$"
      ]
     },
     "metadata": {},
     "output_type": "display_data"
    },
    {
     "data": {
      "text/markdown": [
       "### Summary (all done1, incl. NANs)"
      ]
     },
     "metadata": {},
     "output_type": "display_data"
    },
    {
     "data": {
      "text/html": [
       "<table>\n",
       "<caption>A tibble: 3 × 5</caption>\n",
       "<thead>\n",
       "\t<tr><th scope=col>cond0</th><th scope=col>N</th><th scope=col>valX_M</th><th scope=col>valX_SD</th><th scope=col>valX_SE</th></tr>\n",
       "\t<tr><th scope=col>&lt;fct&gt;</th><th scope=col>&lt;int&gt;</th><th scope=col>&lt;dbl&gt;</th><th scope=col>&lt;dbl&gt;</th><th scope=col>&lt;dbl&gt;</th></tr>\n",
       "</thead>\n",
       "<tbody>\n",
       "\t<tr><td>noun_F</td><td>41</td><td>-0.3429737</td><td>2.412656</td><td>0.3767935</td></tr>\n",
       "\t<tr><td>noun_M</td><td>41</td><td>-0.2612989</td><td>2.349352</td><td>0.3669072</td></tr>\n",
       "\t<tr><td>verb_X</td><td>40</td><td>-0.3024858</td><td>2.327760</td><td>0.3680512</td></tr>\n",
       "</tbody>\n",
       "</table>\n"
      ],
      "text/latex": [
       "A tibble: 3 × 5\n",
       "\\begin{tabular}{lllll}\n",
       " cond0 & N & valX\\_M & valX\\_SD & valX\\_SE\\\\\n",
       " <fct> & <int> & <dbl> & <dbl> & <dbl>\\\\\n",
       "\\hline\n",
       "\t noun\\_F & 41 & -0.3429737 & 2.412656 & 0.3767935\\\\\n",
       "\t noun\\_M & 41 & -0.2612989 & 2.349352 & 0.3669072\\\\\n",
       "\t verb\\_X & 40 & -0.3024858 & 2.327760 & 0.3680512\\\\\n",
       "\\end{tabular}\n"
      ],
      "text/markdown": [
       "\n",
       "A tibble: 3 × 5\n",
       "\n",
       "| cond0 &lt;fct&gt; | N &lt;int&gt; | valX_M &lt;dbl&gt; | valX_SD &lt;dbl&gt; | valX_SE &lt;dbl&gt; |\n",
       "|---|---|---|---|---|\n",
       "| noun_F | 41 | -0.3429737 | 2.412656 | 0.3767935 |\n",
       "| noun_M | 41 | -0.2612989 | 2.349352 | 0.3669072 |\n",
       "| verb_X | 40 | -0.3024858 | 2.327760 | 0.3680512 |\n",
       "\n"
      ],
      "text/plain": [
       "  cond0  N  valX_M     valX_SD  valX_SE  \n",
       "1 noun_F 41 -0.3429737 2.412656 0.3767935\n",
       "2 noun_M 41 -0.2612989 2.349352 0.3669072\n",
       "3 verb_X 40 -0.3024858 2.327760 0.3680512"
      ]
     },
     "metadata": {},
     "output_type": "display_data"
    },
    {
     "data": {
      "text/markdown": [
       "### Expected marginal means"
      ]
     },
     "metadata": {},
     "output_type": "display_data"
    },
    {
     "data": {
      "text/html": [
       "<table>\n",
       "<caption>A apa_results_table: 3 × 5</caption>\n",
       "<thead>\n",
       "\t<tr><th></th><th scope=col>cond0</th><th scope=col>estimate</th><th scope=col>ci</th><th scope=col>statistic</th><th scope=col>p.value</th></tr>\n",
       "\t<tr><th></th><th scope=col>&lt;chr&gt;</th><th scope=col>&lt;ppj_lbll&gt;</th><th scope=col>&lt;ppj_lbll&gt;</th><th scope=col>&lt;ppj_lbll&gt;</th><th scope=col>&lt;ppj_lbll&gt;</th></tr>\n",
       "</thead>\n",
       "<tbody>\n",
       "\t<tr><th scope=row>noun_F</th><td>noun_F</td><td>-0.34</td><td>$[-1.10$, $0.43]$</td><td>-0.89</td><td>.379</td></tr>\n",
       "\t<tr><th scope=row>noun_M</th><td>noun_M</td><td>-0.25</td><td>$[-1.01$, $0.52]$</td><td>-0.65</td><td>.519</td></tr>\n",
       "\t<tr><th scope=row>verb_X</th><td>verb_X</td><td>-0.30</td><td>$[-1.06$, $0.46]$</td><td>-0.80</td><td>.427</td></tr>\n",
       "</tbody>\n",
       "</table>\n"
      ],
      "text/latex": [
       "A apa\\_results\\_table: 3 × 5\n",
       "\\begin{tabular}{r|lllll}\n",
       "  & cond0 & estimate & ci & statistic & p.value\\\\\n",
       "  & <chr> & <ppj\\_lbll> & <ppj\\_lbll> & <ppj\\_lbll> & <ppj\\_lbll>\\\\\n",
       "\\hline\n",
       "\tnoun\\_F & noun\\_F & -0.34 & \\${[}-1.10\\$, \\$0.43{]}\\$ & -0.89 & .379\\\\\n",
       "\tnoun\\_M & noun\\_M & -0.25 & \\${[}-1.01\\$, \\$0.52{]}\\$ & -0.65 & .519\\\\\n",
       "\tverb\\_X & verb\\_X & -0.30 & \\${[}-1.06\\$, \\$0.46{]}\\$ & -0.80 & .427\\\\\n",
       "\\end{tabular}\n"
      ],
      "text/markdown": [
       "\n",
       "A apa_results_table: 3 × 5\n",
       "\n",
       "| <!--/--> | cond0 &lt;chr&gt; | estimate &lt;ppj_lbll&gt; | ci &lt;ppj_lbll&gt; | statistic &lt;ppj_lbll&gt; | p.value &lt;ppj_lbll&gt; |\n",
       "|---|---|---|---|---|---|\n",
       "| noun_F | noun_F | -0.34 | $[-1.10$, $0.43]$ | -0.89 | .379 |\n",
       "| noun_M | noun_M | -0.25 | $[-1.01$, $0.52]$ | -0.65 | .519 |\n",
       "| verb_X | verb_X | -0.30 | $[-1.06$, $0.46]$ | -0.80 | .427 |\n",
       "\n"
      ],
      "text/plain": [
       "       cond0  estimate ci                statistic p.value\n",
       "noun_F noun_F -0.34    $[-1.10$, $0.43]$ -0.89     .379   \n",
       "noun_M noun_M -0.25    $[-1.01$, $0.52]$ -0.65     .519   \n",
       "verb_X verb_X -0.30    $[-1.06$, $0.46]$ -0.80     .427   "
      ]
     },
     "metadata": {},
     "output_type": "display_data"
    },
    {
     "data": {
      "text/markdown": [
       "### Paired comparisons for expected marginal means"
      ]
     },
     "metadata": {},
     "output_type": "display_data"
    },
    {
     "data": {
      "text/html": [
       "<table>\n",
       "<caption>A apa_results_table: 3 × 5</caption>\n",
       "<thead>\n",
       "\t<tr><th></th><th scope=col>contrast</th><th scope=col>estimate</th><th scope=col>ci</th><th scope=col>statistic</th><th scope=col>p.value</th></tr>\n",
       "\t<tr><th></th><th scope=col>&lt;ppj_lbll&gt;</th><th scope=col>&lt;ppj_lbll&gt;</th><th scope=col>&lt;ppj_lbll&gt;</th><th scope=col>&lt;ppj_lbll&gt;</th><th scope=col>&lt;ppj_lbll&gt;</th></tr>\n",
       "</thead>\n",
       "<tbody>\n",
       "\t<tr><th scope=row>noun_F_noun_M</th><td>noun_F - noun_M</td><td>-0.09</td><td>$[-0.40$, $0.22]$</td><td>-0.69</td><td>.772</td></tr>\n",
       "\t<tr><th scope=row>noun_F_verb_X</th><td>noun_F - verb_X</td><td>-0.03</td><td>$[-0.35$, $0.28]$</td><td>-0.25</td><td>.966</td></tr>\n",
       "\t<tr><th scope=row>noun_M_verb_X</th><td>noun_M - verb_X</td><td>0.06 </td><td>$[-0.26$, $0.37]$</td><td>0.44 </td><td>.900</td></tr>\n",
       "</tbody>\n",
       "</table>\n"
      ],
      "text/latex": [
       "A apa\\_results\\_table: 3 × 5\n",
       "\\begin{tabular}{r|lllll}\n",
       "  & contrast & estimate & ci & statistic & p.value\\\\\n",
       "  & <ppj\\_lbll> & <ppj\\_lbll> & <ppj\\_lbll> & <ppj\\_lbll> & <ppj\\_lbll>\\\\\n",
       "\\hline\n",
       "\tnoun\\_F\\_noun\\_M & noun\\_F - noun\\_M & -0.09 & \\${[}-0.40\\$, \\$0.22{]}\\$ & -0.69 & .772\\\\\n",
       "\tnoun\\_F\\_verb\\_X & noun\\_F - verb\\_X & -0.03 & \\${[}-0.35\\$, \\$0.28{]}\\$ & -0.25 & .966\\\\\n",
       "\tnoun\\_M\\_verb\\_X & noun\\_M - verb\\_X & 0.06  & \\${[}-0.26\\$, \\$0.37{]}\\$ & 0.44  & .900\\\\\n",
       "\\end{tabular}\n"
      ],
      "text/markdown": [
       "\n",
       "A apa_results_table: 3 × 5\n",
       "\n",
       "| <!--/--> | contrast &lt;ppj_lbll&gt; | estimate &lt;ppj_lbll&gt; | ci &lt;ppj_lbll&gt; | statistic &lt;ppj_lbll&gt; | p.value &lt;ppj_lbll&gt; |\n",
       "|---|---|---|---|---|---|\n",
       "| noun_F_noun_M | noun_F - noun_M | -0.09 | $[-0.40$, $0.22]$ | -0.69 | .772 |\n",
       "| noun_F_verb_X | noun_F - verb_X | -0.03 | $[-0.35$, $0.28]$ | -0.25 | .966 |\n",
       "| noun_M_verb_X | noun_M - verb_X | 0.06  | $[-0.26$, $0.37]$ | 0.44  | .900 |\n",
       "\n"
      ],
      "text/plain": [
       "              contrast        estimate ci                statistic p.value\n",
       "noun_F_noun_M noun_F - noun_M -0.09    $[-0.40$, $0.22]$ -0.69     .772   \n",
       "noun_F_verb_X noun_F - verb_X -0.03    $[-0.35$, $0.28]$ -0.25     .966   \n",
       "noun_M_verb_X noun_M - verb_X 0.06     $[-0.26$, $0.37]$ 0.44      .900   "
      ]
     },
     "metadata": {},
     "output_type": "display_data"
    }
   ],
   "source": [
    "IDX <- IDX+1; COND <- CONDS[IDX]\n",
    "data1 <- droplevels(subset(df1, eval(parse(text=COND)))); data1 <- data1[complete.cases(data1),]; done1 <- AOV4(data1,COND)\n",
    "display_markdown(str_c(\"# Condition \",IDX,\" of \",length(CONDS))); display_markdown(done1$info); display_markdown(\"### Table\"); done1$aov_APA$table; display_markdown(\"### Result\"); display_markdown(done1$aov_APA[[\"full_result\"]][[\"cond0\"]]); display_markdown(\"### Summary (all done1, incl. NANs)\"); done1$summary; display_markdown(\"### Expected marginal means\"); done1$emm_APA$table; display_markdown(\"### Paired comparisons for expected marginal means\"); done1$pairs_APA$table"
   ]
  },
  {
   "cell_type": "code",
   "execution_count": 42,
   "metadata": {},
   "outputs": [
    {
     "name": "stderr",
     "output_type": "stream",
     "text": [
      "Warning message:\n",
      "“Missing values for following ID(s):\n",
      "06pppm, 17makf, 30mszf\n",
      "Removing those cases from the analysis.”\n"
     ]
    },
    {
     "data": {
      "text/markdown": [
       "# Condition 25 of 72"
      ]
     },
     "metadata": {},
     "output_type": "display_data"
    },
    {
     "data": {
      "text/markdown": [
       "`tmin0==0.35 & chan0==\"LF\" & mode0==\"pos\"`"
      ]
     },
     "metadata": {},
     "output_type": "display_data"
    },
    {
     "data": {
      "text/markdown": [
       "### Table"
      ]
     },
     "metadata": {},
     "output_type": "display_data"
    },
    {
     "data": {
      "text/html": [
       "<table>\n",
       "<caption>A apa_results_table: 1 × 7</caption>\n",
       "<thead>\n",
       "\t<tr><th></th><th scope=col>Effect</th><th scope=col>F</th><th scope=col>df1</th><th scope=col>df2</th><th scope=col>MSE</th><th scope=col>p</th><th scope=col>ges</th></tr>\n",
       "\t<tr><th></th><th scope=col>&lt;ppj_lbll&gt;</th><th scope=col>&lt;ppj_lbll&gt;</th><th scope=col>&lt;ppj_lbll&gt;</th><th scope=col>&lt;ppj_lbll&gt;</th><th scope=col>&lt;ppj_lbll&gt;</th><th scope=col>&lt;ppj_lbll&gt;</th><th scope=col>&lt;ppj_lbll&gt;</th></tr>\n",
       "</thead>\n",
       "<tbody>\n",
       "\t<tr><th scope=row>1</th><td>Cond0</td><td>2.74</td><td>1.88</td><td>71.25</td><td>0.47</td><td>.075</td><td>.009</td></tr>\n",
       "</tbody>\n",
       "</table>\n"
      ],
      "text/latex": [
       "A apa\\_results\\_table: 1 × 7\n",
       "\\begin{tabular}{r|lllllll}\n",
       "  & Effect & F & df1 & df2 & MSE & p & ges\\\\\n",
       "  & <ppj\\_lbll> & <ppj\\_lbll> & <ppj\\_lbll> & <ppj\\_lbll> & <ppj\\_lbll> & <ppj\\_lbll> & <ppj\\_lbll>\\\\\n",
       "\\hline\n",
       "\t1 & Cond0 & 2.74 & 1.88 & 71.25 & 0.47 & .075 & .009\\\\\n",
       "\\end{tabular}\n"
      ],
      "text/markdown": [
       "\n",
       "A apa_results_table: 1 × 7\n",
       "\n",
       "| <!--/--> | Effect &lt;ppj_lbll&gt; | F &lt;ppj_lbll&gt; | df1 &lt;ppj_lbll&gt; | df2 &lt;ppj_lbll&gt; | MSE &lt;ppj_lbll&gt; | p &lt;ppj_lbll&gt; | ges &lt;ppj_lbll&gt; |\n",
       "|---|---|---|---|---|---|---|---|\n",
       "| 1 | Cond0 | 2.74 | 1.88 | 71.25 | 0.47 | .075 | .009 |\n",
       "\n"
      ],
      "text/plain": [
       "  Effect F    df1  df2   MSE  p    ges \n",
       "1 Cond0  2.74 1.88 71.25 0.47 .075 .009"
      ]
     },
     "metadata": {},
     "output_type": "display_data"
    },
    {
     "data": {
      "text/markdown": [
       "### Result"
      ]
     },
     "metadata": {},
     "output_type": "display_data"
    },
    {
     "data": {
      "text/markdown": [
       "$F(1.88, 71.25) = 2.74$, $\\mathit{MSE} = 0.47$, $p = .075$, $\\hat{\\eta}^2_G = .009$"
      ]
     },
     "metadata": {},
     "output_type": "display_data"
    },
    {
     "data": {
      "text/markdown": [
       "### Summary (all done1, incl. NANs)"
      ]
     },
     "metadata": {},
     "output_type": "display_data"
    },
    {
     "data": {
      "text/html": [
       "<table>\n",
       "<caption>A tibble: 3 × 5</caption>\n",
       "<thead>\n",
       "\t<tr><th scope=col>cond0</th><th scope=col>N</th><th scope=col>valX_M</th><th scope=col>valX_SD</th><th scope=col>valX_SE</th></tr>\n",
       "\t<tr><th scope=col>&lt;fct&gt;</th><th scope=col>&lt;int&gt;</th><th scope=col>&lt;dbl&gt;</th><th scope=col>&lt;dbl&gt;</th><th scope=col>&lt;dbl&gt;</th></tr>\n",
       "</thead>\n",
       "<tbody>\n",
       "\t<tr><td>noun_F</td><td>41</td><td>-1.224847</td><td>1.593235</td><td>0.2488215</td></tr>\n",
       "\t<tr><td>noun_M</td><td>42</td><td>-1.248104</td><td>1.850578</td><td>0.2855504</td></tr>\n",
       "\t<tr><td>verb_X</td><td>40</td><td>-1.540407</td><td>1.500329</td><td>0.2372229</td></tr>\n",
       "</tbody>\n",
       "</table>\n"
      ],
      "text/latex": [
       "A tibble: 3 × 5\n",
       "\\begin{tabular}{lllll}\n",
       " cond0 & N & valX\\_M & valX\\_SD & valX\\_SE\\\\\n",
       " <fct> & <int> & <dbl> & <dbl> & <dbl>\\\\\n",
       "\\hline\n",
       "\t noun\\_F & 41 & -1.224847 & 1.593235 & 0.2488215\\\\\n",
       "\t noun\\_M & 42 & -1.248104 & 1.850578 & 0.2855504\\\\\n",
       "\t verb\\_X & 40 & -1.540407 & 1.500329 & 0.2372229\\\\\n",
       "\\end{tabular}\n"
      ],
      "text/markdown": [
       "\n",
       "A tibble: 3 × 5\n",
       "\n",
       "| cond0 &lt;fct&gt; | N &lt;int&gt; | valX_M &lt;dbl&gt; | valX_SD &lt;dbl&gt; | valX_SE &lt;dbl&gt; |\n",
       "|---|---|---|---|---|\n",
       "| noun_F | 41 | -1.224847 | 1.593235 | 0.2488215 |\n",
       "| noun_M | 42 | -1.248104 | 1.850578 | 0.2855504 |\n",
       "| verb_X | 40 | -1.540407 | 1.500329 | 0.2372229 |\n",
       "\n"
      ],
      "text/plain": [
       "  cond0  N  valX_M    valX_SD  valX_SE  \n",
       "1 noun_F 41 -1.224847 1.593235 0.2488215\n",
       "2 noun_M 42 -1.248104 1.850578 0.2855504\n",
       "3 verb_X 40 -1.540407 1.500329 0.2372229"
      ]
     },
     "metadata": {},
     "output_type": "display_data"
    },
    {
     "data": {
      "text/markdown": [
       "### Expected marginal means"
      ]
     },
     "metadata": {},
     "output_type": "display_data"
    },
    {
     "data": {
      "text/html": [
       "<table>\n",
       "<caption>A apa_results_table: 3 × 5</caption>\n",
       "<thead>\n",
       "\t<tr><th></th><th scope=col>cond0</th><th scope=col>estimate</th><th scope=col>ci</th><th scope=col>statistic</th><th scope=col>p.value</th></tr>\n",
       "\t<tr><th></th><th scope=col>&lt;chr&gt;</th><th scope=col>&lt;ppj_lbll&gt;</th><th scope=col>&lt;ppj_lbll&gt;</th><th scope=col>&lt;ppj_lbll&gt;</th><th scope=col>&lt;ppj_lbll&gt;</th></tr>\n",
       "</thead>\n",
       "<tbody>\n",
       "\t<tr><th scope=row>noun_F</th><td>noun_F</td><td>-1.17</td><td>$[-1.66$, $-0.68]$</td><td>-4.76</td><td>&lt; .001</td></tr>\n",
       "\t<tr><th scope=row>noun_M</th><td>noun_M</td><td>-1.11</td><td>$[-1.61$, $-0.62]$</td><td>-4.52</td><td>&lt; .001</td></tr>\n",
       "\t<tr><th scope=row>verb_X</th><td>verb_X</td><td>-1.44</td><td>$[-1.93$, $-0.95]$</td><td>-5.85</td><td>&lt; .001</td></tr>\n",
       "</tbody>\n",
       "</table>\n"
      ],
      "text/latex": [
       "A apa\\_results\\_table: 3 × 5\n",
       "\\begin{tabular}{r|lllll}\n",
       "  & cond0 & estimate & ci & statistic & p.value\\\\\n",
       "  & <chr> & <ppj\\_lbll> & <ppj\\_lbll> & <ppj\\_lbll> & <ppj\\_lbll>\\\\\n",
       "\\hline\n",
       "\tnoun\\_F & noun\\_F & -1.17 & \\${[}-1.66\\$, \\$-0.68{]}\\$ & -4.76 & < .001\\\\\n",
       "\tnoun\\_M & noun\\_M & -1.11 & \\${[}-1.61\\$, \\$-0.62{]}\\$ & -4.52 & < .001\\\\\n",
       "\tverb\\_X & verb\\_X & -1.44 & \\${[}-1.93\\$, \\$-0.95{]}\\$ & -5.85 & < .001\\\\\n",
       "\\end{tabular}\n"
      ],
      "text/markdown": [
       "\n",
       "A apa_results_table: 3 × 5\n",
       "\n",
       "| <!--/--> | cond0 &lt;chr&gt; | estimate &lt;ppj_lbll&gt; | ci &lt;ppj_lbll&gt; | statistic &lt;ppj_lbll&gt; | p.value &lt;ppj_lbll&gt; |\n",
       "|---|---|---|---|---|---|\n",
       "| noun_F | noun_F | -1.17 | $[-1.66$, $-0.68]$ | -4.76 | &lt; .001 |\n",
       "| noun_M | noun_M | -1.11 | $[-1.61$, $-0.62]$ | -4.52 | &lt; .001 |\n",
       "| verb_X | verb_X | -1.44 | $[-1.93$, $-0.95]$ | -5.85 | &lt; .001 |\n",
       "\n"
      ],
      "text/plain": [
       "       cond0  estimate ci                 statistic p.value\n",
       "noun_F noun_F -1.17    $[-1.66$, $-0.68]$ -4.76     < .001 \n",
       "noun_M noun_M -1.11    $[-1.61$, $-0.62]$ -4.52     < .001 \n",
       "verb_X verb_X -1.44    $[-1.93$, $-0.95]$ -5.85     < .001 "
      ]
     },
     "metadata": {},
     "output_type": "display_data"
    },
    {
     "data": {
      "text/markdown": [
       "### Paired comparisons for expected marginal means"
      ]
     },
     "metadata": {},
     "output_type": "display_data"
    },
    {
     "data": {
      "text/html": [
       "<table>\n",
       "<caption>A apa_results_table: 3 × 5</caption>\n",
       "<thead>\n",
       "\t<tr><th></th><th scope=col>contrast</th><th scope=col>estimate</th><th scope=col>ci</th><th scope=col>statistic</th><th scope=col>p.value</th></tr>\n",
       "\t<tr><th></th><th scope=col>&lt;ppj_lbll&gt;</th><th scope=col>&lt;ppj_lbll&gt;</th><th scope=col>&lt;ppj_lbll&gt;</th><th scope=col>&lt;ppj_lbll&gt;</th><th scope=col>&lt;ppj_lbll&gt;</th></tr>\n",
       "</thead>\n",
       "<tbody>\n",
       "\t<tr><th scope=row>noun_F_noun_M</th><td>noun_F - noun_M</td><td>-0.06</td><td>$[-0.42$, $0.30]$</td><td>-0.39</td><td>.920</td></tr>\n",
       "\t<tr><th scope=row>noun_F_verb_X</th><td>noun_F - verb_X</td><td>0.27 </td><td>$[-0.09$, $0.63]$</td><td>1.81 </td><td>.175</td></tr>\n",
       "\t<tr><th scope=row>noun_M_verb_X</th><td>noun_M - verb_X</td><td>0.33 </td><td>$[-0.03$, $0.69]$</td><td>2.19 </td><td>.079</td></tr>\n",
       "</tbody>\n",
       "</table>\n"
      ],
      "text/latex": [
       "A apa\\_results\\_table: 3 × 5\n",
       "\\begin{tabular}{r|lllll}\n",
       "  & contrast & estimate & ci & statistic & p.value\\\\\n",
       "  & <ppj\\_lbll> & <ppj\\_lbll> & <ppj\\_lbll> & <ppj\\_lbll> & <ppj\\_lbll>\\\\\n",
       "\\hline\n",
       "\tnoun\\_F\\_noun\\_M & noun\\_F - noun\\_M & -0.06 & \\${[}-0.42\\$, \\$0.30{]}\\$ & -0.39 & .920\\\\\n",
       "\tnoun\\_F\\_verb\\_X & noun\\_F - verb\\_X & 0.27  & \\${[}-0.09\\$, \\$0.63{]}\\$ & 1.81  & .175\\\\\n",
       "\tnoun\\_M\\_verb\\_X & noun\\_M - verb\\_X & 0.33  & \\${[}-0.03\\$, \\$0.69{]}\\$ & 2.19  & .079\\\\\n",
       "\\end{tabular}\n"
      ],
      "text/markdown": [
       "\n",
       "A apa_results_table: 3 × 5\n",
       "\n",
       "| <!--/--> | contrast &lt;ppj_lbll&gt; | estimate &lt;ppj_lbll&gt; | ci &lt;ppj_lbll&gt; | statistic &lt;ppj_lbll&gt; | p.value &lt;ppj_lbll&gt; |\n",
       "|---|---|---|---|---|---|\n",
       "| noun_F_noun_M | noun_F - noun_M | -0.06 | $[-0.42$, $0.30]$ | -0.39 | .920 |\n",
       "| noun_F_verb_X | noun_F - verb_X | 0.27  | $[-0.09$, $0.63]$ | 1.81  | .175 |\n",
       "| noun_M_verb_X | noun_M - verb_X | 0.33  | $[-0.03$, $0.69]$ | 2.19  | .079 |\n",
       "\n"
      ],
      "text/plain": [
       "              contrast        estimate ci                statistic p.value\n",
       "noun_F_noun_M noun_F - noun_M -0.06    $[-0.42$, $0.30]$ -0.39     .920   \n",
       "noun_F_verb_X noun_F - verb_X 0.27     $[-0.09$, $0.63]$ 1.81      .175   \n",
       "noun_M_verb_X noun_M - verb_X 0.33     $[-0.03$, $0.69]$ 2.19      .079   "
      ]
     },
     "metadata": {},
     "output_type": "display_data"
    }
   ],
   "source": [
    "IDX <- IDX+1; COND <- CONDS[IDX]\n",
    "data1 <- droplevels(subset(df1, eval(parse(text=COND)))); data1 <- data1[complete.cases(data1),]; done1 <- AOV4(data1,COND)\n",
    "display_markdown(str_c(\"# Condition \",IDX,\" of \",length(CONDS))); display_markdown(done1$info); display_markdown(\"### Table\"); done1$aov_APA$table; display_markdown(\"### Result\"); display_markdown(done1$aov_APA[[\"full_result\"]][[\"cond0\"]]); display_markdown(\"### Summary (all done1, incl. NANs)\"); done1$summary; display_markdown(\"### Expected marginal means\"); done1$emm_APA$table; display_markdown(\"### Paired comparisons for expected marginal means\"); done1$pairs_APA$table"
   ]
  },
  {
   "cell_type": "code",
   "execution_count": 43,
   "metadata": {},
   "outputs": [
    {
     "name": "stderr",
     "output_type": "stream",
     "text": [
      "Warning message:\n",
      "“Missing values for following ID(s):\n",
      "08pnxm, 18skxm, 23zdxf, 32mjxf, 38slxm\n",
      "Removing those cases from the analysis.”\n"
     ]
    },
    {
     "data": {
      "text/markdown": [
       "# Condition 26 of 72"
      ]
     },
     "metadata": {},
     "output_type": "display_data"
    },
    {
     "data": {
      "text/markdown": [
       "`tmin0==0.35 & chan0==\"LF\" & mode0==\"neg\"`"
      ]
     },
     "metadata": {},
     "output_type": "display_data"
    },
    {
     "data": {
      "text/markdown": [
       "### Table"
      ]
     },
     "metadata": {},
     "output_type": "display_data"
    },
    {
     "data": {
      "text/html": [
       "<table>\n",
       "<caption>A apa_results_table: 1 × 7</caption>\n",
       "<thead>\n",
       "\t<tr><th></th><th scope=col>Effect</th><th scope=col>F</th><th scope=col>df1</th><th scope=col>df2</th><th scope=col>MSE</th><th scope=col>p</th><th scope=col>ges</th></tr>\n",
       "\t<tr><th></th><th scope=col>&lt;ppj_lbll&gt;</th><th scope=col>&lt;ppj_lbll&gt;</th><th scope=col>&lt;ppj_lbll&gt;</th><th scope=col>&lt;ppj_lbll&gt;</th><th scope=col>&lt;ppj_lbll&gt;</th><th scope=col>&lt;ppj_lbll&gt;</th><th scope=col>&lt;ppj_lbll&gt;</th></tr>\n",
       "</thead>\n",
       "<tbody>\n",
       "\t<tr><th scope=row>1</th><td>Cond0</td><td>2.32</td><td>1.88</td><td>67.67</td><td>0.48</td><td>.109</td><td>.007</td></tr>\n",
       "</tbody>\n",
       "</table>\n"
      ],
      "text/latex": [
       "A apa\\_results\\_table: 1 × 7\n",
       "\\begin{tabular}{r|lllllll}\n",
       "  & Effect & F & df1 & df2 & MSE & p & ges\\\\\n",
       "  & <ppj\\_lbll> & <ppj\\_lbll> & <ppj\\_lbll> & <ppj\\_lbll> & <ppj\\_lbll> & <ppj\\_lbll> & <ppj\\_lbll>\\\\\n",
       "\\hline\n",
       "\t1 & Cond0 & 2.32 & 1.88 & 67.67 & 0.48 & .109 & .007\\\\\n",
       "\\end{tabular}\n"
      ],
      "text/markdown": [
       "\n",
       "A apa_results_table: 1 × 7\n",
       "\n",
       "| <!--/--> | Effect &lt;ppj_lbll&gt; | F &lt;ppj_lbll&gt; | df1 &lt;ppj_lbll&gt; | df2 &lt;ppj_lbll&gt; | MSE &lt;ppj_lbll&gt; | p &lt;ppj_lbll&gt; | ges &lt;ppj_lbll&gt; |\n",
       "|---|---|---|---|---|---|---|---|\n",
       "| 1 | Cond0 | 2.32 | 1.88 | 67.67 | 0.48 | .109 | .007 |\n",
       "\n"
      ],
      "text/plain": [
       "  Effect F    df1  df2   MSE  p    ges \n",
       "1 Cond0  2.32 1.88 67.67 0.48 .109 .007"
      ]
     },
     "metadata": {},
     "output_type": "display_data"
    },
    {
     "data": {
      "text/markdown": [
       "### Result"
      ]
     },
     "metadata": {},
     "output_type": "display_data"
    },
    {
     "data": {
      "text/markdown": [
       "$F(1.88, 67.67) = 2.32$, $\\mathit{MSE} = 0.48$, $p = .109$, $\\hat{\\eta}^2_G = .007$"
      ]
     },
     "metadata": {},
     "output_type": "display_data"
    },
    {
     "data": {
      "text/markdown": [
       "### Summary (all done1, incl. NANs)"
      ]
     },
     "metadata": {},
     "output_type": "display_data"
    },
    {
     "data": {
      "text/html": [
       "<table>\n",
       "<caption>A tibble: 3 × 5</caption>\n",
       "<thead>\n",
       "\t<tr><th scope=col>cond0</th><th scope=col>N</th><th scope=col>valX_M</th><th scope=col>valX_SD</th><th scope=col>valX_SE</th></tr>\n",
       "\t<tr><th scope=col>&lt;fct&gt;</th><th scope=col>&lt;int&gt;</th><th scope=col>&lt;dbl&gt;</th><th scope=col>&lt;dbl&gt;</th><th scope=col>&lt;dbl&gt;</th></tr>\n",
       "</thead>\n",
       "<tbody>\n",
       "\t<tr><td>noun_F</td><td>40</td><td>-2.655767</td><td>1.755156</td><td>0.2775146</td></tr>\n",
       "\t<tr><td>noun_M</td><td>41</td><td>-2.890340</td><td>1.663849</td><td>0.2598496</td></tr>\n",
       "\t<tr><td>verb_X</td><td>38</td><td>-2.708688</td><td>1.643969</td><td>0.2666869</td></tr>\n",
       "</tbody>\n",
       "</table>\n"
      ],
      "text/latex": [
       "A tibble: 3 × 5\n",
       "\\begin{tabular}{lllll}\n",
       " cond0 & N & valX\\_M & valX\\_SD & valX\\_SE\\\\\n",
       " <fct> & <int> & <dbl> & <dbl> & <dbl>\\\\\n",
       "\\hline\n",
       "\t noun\\_F & 40 & -2.655767 & 1.755156 & 0.2775146\\\\\n",
       "\t noun\\_M & 41 & -2.890340 & 1.663849 & 0.2598496\\\\\n",
       "\t verb\\_X & 38 & -2.708688 & 1.643969 & 0.2666869\\\\\n",
       "\\end{tabular}\n"
      ],
      "text/markdown": [
       "\n",
       "A tibble: 3 × 5\n",
       "\n",
       "| cond0 &lt;fct&gt; | N &lt;int&gt; | valX_M &lt;dbl&gt; | valX_SD &lt;dbl&gt; | valX_SE &lt;dbl&gt; |\n",
       "|---|---|---|---|---|\n",
       "| noun_F | 40 | -2.655767 | 1.755156 | 0.2775146 |\n",
       "| noun_M | 41 | -2.890340 | 1.663849 | 0.2598496 |\n",
       "| verb_X | 38 | -2.708688 | 1.643969 | 0.2666869 |\n",
       "\n"
      ],
      "text/plain": [
       "  cond0  N  valX_M    valX_SD  valX_SE  \n",
       "1 noun_F 40 -2.655767 1.755156 0.2775146\n",
       "2 noun_M 41 -2.890340 1.663849 0.2598496\n",
       "3 verb_X 38 -2.708688 1.643969 0.2666869"
      ]
     },
     "metadata": {},
     "output_type": "display_data"
    },
    {
     "data": {
      "text/markdown": [
       "### Expected marginal means"
      ]
     },
     "metadata": {},
     "output_type": "display_data"
    },
    {
     "data": {
      "text/html": [
       "<table>\n",
       "<caption>A apa_results_table: 3 × 5</caption>\n",
       "<thead>\n",
       "\t<tr><th></th><th scope=col>cond0</th><th scope=col>estimate</th><th scope=col>ci</th><th scope=col>statistic</th><th scope=col>p.value</th></tr>\n",
       "\t<tr><th></th><th scope=col>&lt;chr&gt;</th><th scope=col>&lt;ppj_lbll&gt;</th><th scope=col>&lt;ppj_lbll&gt;</th><th scope=col>&lt;ppj_lbll&gt;</th><th scope=col>&lt;ppj_lbll&gt;</th></tr>\n",
       "</thead>\n",
       "<tbody>\n",
       "\t<tr><th scope=row>noun_F</th><td>noun_F</td><td>-2.69</td><td>$[-3.24$, $-2.14]$</td><td>-9.82 </td><td>&lt; .001</td></tr>\n",
       "\t<tr><th scope=row>noun_M</th><td>noun_M</td><td>-3.01</td><td>$[-3.56$, $-2.46]$</td><td>-11.00</td><td>&lt; .001</td></tr>\n",
       "\t<tr><th scope=row>verb_X</th><td>verb_X</td><td>-2.76</td><td>$[-3.31$, $-2.21]$</td><td>-10.09</td><td>&lt; .001</td></tr>\n",
       "</tbody>\n",
       "</table>\n"
      ],
      "text/latex": [
       "A apa\\_results\\_table: 3 × 5\n",
       "\\begin{tabular}{r|lllll}\n",
       "  & cond0 & estimate & ci & statistic & p.value\\\\\n",
       "  & <chr> & <ppj\\_lbll> & <ppj\\_lbll> & <ppj\\_lbll> & <ppj\\_lbll>\\\\\n",
       "\\hline\n",
       "\tnoun\\_F & noun\\_F & -2.69 & \\${[}-3.24\\$, \\$-2.14{]}\\$ & -9.82  & < .001\\\\\n",
       "\tnoun\\_M & noun\\_M & -3.01 & \\${[}-3.56\\$, \\$-2.46{]}\\$ & -11.00 & < .001\\\\\n",
       "\tverb\\_X & verb\\_X & -2.76 & \\${[}-3.31\\$, \\$-2.21{]}\\$ & -10.09 & < .001\\\\\n",
       "\\end{tabular}\n"
      ],
      "text/markdown": [
       "\n",
       "A apa_results_table: 3 × 5\n",
       "\n",
       "| <!--/--> | cond0 &lt;chr&gt; | estimate &lt;ppj_lbll&gt; | ci &lt;ppj_lbll&gt; | statistic &lt;ppj_lbll&gt; | p.value &lt;ppj_lbll&gt; |\n",
       "|---|---|---|---|---|---|\n",
       "| noun_F | noun_F | -2.69 | $[-3.24$, $-2.14]$ | -9.82  | &lt; .001 |\n",
       "| noun_M | noun_M | -3.01 | $[-3.56$, $-2.46]$ | -11.00 | &lt; .001 |\n",
       "| verb_X | verb_X | -2.76 | $[-3.31$, $-2.21]$ | -10.09 | &lt; .001 |\n",
       "\n"
      ],
      "text/plain": [
       "       cond0  estimate ci                 statistic p.value\n",
       "noun_F noun_F -2.69    $[-3.24$, $-2.14]$ -9.82     < .001 \n",
       "noun_M noun_M -3.01    $[-3.56$, $-2.46]$ -11.00    < .001 \n",
       "verb_X verb_X -2.76    $[-3.31$, $-2.21]$ -10.09    < .001 "
      ]
     },
     "metadata": {},
     "output_type": "display_data"
    },
    {
     "data": {
      "text/markdown": [
       "### Paired comparisons for expected marginal means"
      ]
     },
     "metadata": {},
     "output_type": "display_data"
    },
    {
     "data": {
      "text/html": [
       "<table>\n",
       "<caption>A apa_results_table: 3 × 5</caption>\n",
       "<thead>\n",
       "\t<tr><th></th><th scope=col>contrast</th><th scope=col>estimate</th><th scope=col>ci</th><th scope=col>statistic</th><th scope=col>p.value</th></tr>\n",
       "\t<tr><th></th><th scope=col>&lt;ppj_lbll&gt;</th><th scope=col>&lt;ppj_lbll&gt;</th><th scope=col>&lt;ppj_lbll&gt;</th><th scope=col>&lt;ppj_lbll&gt;</th><th scope=col>&lt;ppj_lbll&gt;</th></tr>\n",
       "</thead>\n",
       "<tbody>\n",
       "\t<tr><th scope=row>noun_F_noun_M</th><td>noun_F - noun_M</td><td>0.32 </td><td>$[-0.05$, $0.70]$</td><td>2.06 </td><td>.106</td></tr>\n",
       "\t<tr><th scope=row>noun_F_verb_X</th><td>noun_F - verb_X</td><td>0.07 </td><td>$[-0.30$, $0.45]$</td><td>0.47 </td><td>.888</td></tr>\n",
       "\t<tr><th scope=row>noun_M_verb_X</th><td>noun_M - verb_X</td><td>-0.25</td><td>$[-0.62$, $0.13]$</td><td>-1.59</td><td>.256</td></tr>\n",
       "</tbody>\n",
       "</table>\n"
      ],
      "text/latex": [
       "A apa\\_results\\_table: 3 × 5\n",
       "\\begin{tabular}{r|lllll}\n",
       "  & contrast & estimate & ci & statistic & p.value\\\\\n",
       "  & <ppj\\_lbll> & <ppj\\_lbll> & <ppj\\_lbll> & <ppj\\_lbll> & <ppj\\_lbll>\\\\\n",
       "\\hline\n",
       "\tnoun\\_F\\_noun\\_M & noun\\_F - noun\\_M & 0.32  & \\${[}-0.05\\$, \\$0.70{]}\\$ & 2.06  & .106\\\\\n",
       "\tnoun\\_F\\_verb\\_X & noun\\_F - verb\\_X & 0.07  & \\${[}-0.30\\$, \\$0.45{]}\\$ & 0.47  & .888\\\\\n",
       "\tnoun\\_M\\_verb\\_X & noun\\_M - verb\\_X & -0.25 & \\${[}-0.62\\$, \\$0.13{]}\\$ & -1.59 & .256\\\\\n",
       "\\end{tabular}\n"
      ],
      "text/markdown": [
       "\n",
       "A apa_results_table: 3 × 5\n",
       "\n",
       "| <!--/--> | contrast &lt;ppj_lbll&gt; | estimate &lt;ppj_lbll&gt; | ci &lt;ppj_lbll&gt; | statistic &lt;ppj_lbll&gt; | p.value &lt;ppj_lbll&gt; |\n",
       "|---|---|---|---|---|---|\n",
       "| noun_F_noun_M | noun_F - noun_M | 0.32  | $[-0.05$, $0.70]$ | 2.06  | .106 |\n",
       "| noun_F_verb_X | noun_F - verb_X | 0.07  | $[-0.30$, $0.45]$ | 0.47  | .888 |\n",
       "| noun_M_verb_X | noun_M - verb_X | -0.25 | $[-0.62$, $0.13]$ | -1.59 | .256 |\n",
       "\n"
      ],
      "text/plain": [
       "              contrast        estimate ci                statistic p.value\n",
       "noun_F_noun_M noun_F - noun_M 0.32     $[-0.05$, $0.70]$ 2.06      .106   \n",
       "noun_F_verb_X noun_F - verb_X 0.07     $[-0.30$, $0.45]$ 0.47      .888   \n",
       "noun_M_verb_X noun_M - verb_X -0.25    $[-0.62$, $0.13]$ -1.59     .256   "
      ]
     },
     "metadata": {},
     "output_type": "display_data"
    }
   ],
   "source": [
    "IDX <- IDX+1; COND <- CONDS[IDX]\n",
    "data1 <- droplevels(subset(df1, eval(parse(text=COND)))); data1 <- data1[complete.cases(data1),]; done1 <- AOV4(data1,COND)\n",
    "display_markdown(str_c(\"# Condition \",IDX,\" of \",length(CONDS))); display_markdown(done1$info); display_markdown(\"### Table\"); done1$aov_APA$table; display_markdown(\"### Result\"); display_markdown(done1$aov_APA[[\"full_result\"]][[\"cond0\"]]); display_markdown(\"### Summary (all done1, incl. NANs)\"); done1$summary; display_markdown(\"### Expected marginal means\"); done1$emm_APA$table; display_markdown(\"### Paired comparisons for expected marginal means\"); done1$pairs_APA$table"
   ]
  },
  {
   "cell_type": "code",
   "execution_count": 44,
   "metadata": {},
   "outputs": [
    {
     "name": "stderr",
     "output_type": "stream",
     "text": [
      "Warning message in summary.Anova.mlm(x$Anova):\n",
      "“HF eps > 1 treated as 1”\n"
     ]
    },
    {
     "data": {
      "text/markdown": [
       "# Condition 27 of 72"
      ]
     },
     "metadata": {},
     "output_type": "display_data"
    },
    {
     "data": {
      "text/markdown": [
       "`tmin0==0.35 & chan0==\"RF\" & mode0==\"pos\"`"
      ]
     },
     "metadata": {},
     "output_type": "display_data"
    },
    {
     "data": {
      "text/markdown": [
       "### Table"
      ]
     },
     "metadata": {},
     "output_type": "display_data"
    },
    {
     "data": {
      "text/html": [
       "<table>\n",
       "<caption>A apa_results_table: 1 × 7</caption>\n",
       "<thead>\n",
       "\t<tr><th></th><th scope=col>Effect</th><th scope=col>F</th><th scope=col>df1</th><th scope=col>df2</th><th scope=col>MSE</th><th scope=col>p</th><th scope=col>ges</th></tr>\n",
       "\t<tr><th></th><th scope=col>&lt;ppj_lbll&gt;</th><th scope=col>&lt;ppj_lbll&gt;</th><th scope=col>&lt;ppj_lbll&gt;</th><th scope=col>&lt;ppj_lbll&gt;</th><th scope=col>&lt;ppj_lbll&gt;</th><th scope=col>&lt;ppj_lbll&gt;</th><th scope=col>&lt;ppj_lbll&gt;</th></tr>\n",
       "</thead>\n",
       "<tbody>\n",
       "\t<tr><th scope=row>1</th><td>Cond0</td><td>2.18</td><td>1.99</td><td>81.43</td><td>0.40</td><td>.120</td><td>.006</td></tr>\n",
       "</tbody>\n",
       "</table>\n"
      ],
      "text/latex": [
       "A apa\\_results\\_table: 1 × 7\n",
       "\\begin{tabular}{r|lllllll}\n",
       "  & Effect & F & df1 & df2 & MSE & p & ges\\\\\n",
       "  & <ppj\\_lbll> & <ppj\\_lbll> & <ppj\\_lbll> & <ppj\\_lbll> & <ppj\\_lbll> & <ppj\\_lbll> & <ppj\\_lbll>\\\\\n",
       "\\hline\n",
       "\t1 & Cond0 & 2.18 & 1.99 & 81.43 & 0.40 & .120 & .006\\\\\n",
       "\\end{tabular}\n"
      ],
      "text/markdown": [
       "\n",
       "A apa_results_table: 1 × 7\n",
       "\n",
       "| <!--/--> | Effect &lt;ppj_lbll&gt; | F &lt;ppj_lbll&gt; | df1 &lt;ppj_lbll&gt; | df2 &lt;ppj_lbll&gt; | MSE &lt;ppj_lbll&gt; | p &lt;ppj_lbll&gt; | ges &lt;ppj_lbll&gt; |\n",
       "|---|---|---|---|---|---|---|---|\n",
       "| 1 | Cond0 | 2.18 | 1.99 | 81.43 | 0.40 | .120 | .006 |\n",
       "\n"
      ],
      "text/plain": [
       "  Effect F    df1  df2   MSE  p    ges \n",
       "1 Cond0  2.18 1.99 81.43 0.40 .120 .006"
      ]
     },
     "metadata": {},
     "output_type": "display_data"
    },
    {
     "data": {
      "text/markdown": [
       "### Result"
      ]
     },
     "metadata": {},
     "output_type": "display_data"
    },
    {
     "data": {
      "text/markdown": [
       "$F(1.99, 81.43) = 2.18$, $\\mathit{MSE} = 0.40$, $p = .120$, $\\hat{\\eta}^2_G = .006$"
      ]
     },
     "metadata": {},
     "output_type": "display_data"
    },
    {
     "data": {
      "text/markdown": [
       "### Summary (all done1, incl. NANs)"
      ]
     },
     "metadata": {},
     "output_type": "display_data"
    },
    {
     "data": {
      "text/html": [
       "<table>\n",
       "<caption>A tibble: 3 × 5</caption>\n",
       "<thead>\n",
       "\t<tr><th scope=col>cond0</th><th scope=col>N</th><th scope=col>valX_M</th><th scope=col>valX_SD</th><th scope=col>valX_SE</th></tr>\n",
       "\t<tr><th scope=col>&lt;fct&gt;</th><th scope=col>&lt;int&gt;</th><th scope=col>&lt;dbl&gt;</th><th scope=col>&lt;dbl&gt;</th><th scope=col>&lt;dbl&gt;</th></tr>\n",
       "</thead>\n",
       "<tbody>\n",
       "\t<tr><td>noun_F</td><td>42</td><td>-1.873510</td><td>1.380679</td><td>0.2130434</td></tr>\n",
       "\t<tr><td>noun_M</td><td>42</td><td>-2.133609</td><td>1.487869</td><td>0.2295832</td></tr>\n",
       "\t<tr><td>verb_X</td><td>42</td><td>-1.896576</td><td>1.563693</td><td>0.2412831</td></tr>\n",
       "</tbody>\n",
       "</table>\n"
      ],
      "text/latex": [
       "A tibble: 3 × 5\n",
       "\\begin{tabular}{lllll}\n",
       " cond0 & N & valX\\_M & valX\\_SD & valX\\_SE\\\\\n",
       " <fct> & <int> & <dbl> & <dbl> & <dbl>\\\\\n",
       "\\hline\n",
       "\t noun\\_F & 42 & -1.873510 & 1.380679 & 0.2130434\\\\\n",
       "\t noun\\_M & 42 & -2.133609 & 1.487869 & 0.2295832\\\\\n",
       "\t verb\\_X & 42 & -1.896576 & 1.563693 & 0.2412831\\\\\n",
       "\\end{tabular}\n"
      ],
      "text/markdown": [
       "\n",
       "A tibble: 3 × 5\n",
       "\n",
       "| cond0 &lt;fct&gt; | N &lt;int&gt; | valX_M &lt;dbl&gt; | valX_SD &lt;dbl&gt; | valX_SE &lt;dbl&gt; |\n",
       "|---|---|---|---|---|\n",
       "| noun_F | 42 | -1.873510 | 1.380679 | 0.2130434 |\n",
       "| noun_M | 42 | -2.133609 | 1.487869 | 0.2295832 |\n",
       "| verb_X | 42 | -1.896576 | 1.563693 | 0.2412831 |\n",
       "\n"
      ],
      "text/plain": [
       "  cond0  N  valX_M    valX_SD  valX_SE  \n",
       "1 noun_F 42 -1.873510 1.380679 0.2130434\n",
       "2 noun_M 42 -2.133609 1.487869 0.2295832\n",
       "3 verb_X 42 -1.896576 1.563693 0.2412831"
      ]
     },
     "metadata": {},
     "output_type": "display_data"
    },
    {
     "data": {
      "text/markdown": [
       "### Expected marginal means"
      ]
     },
     "metadata": {},
     "output_type": "display_data"
    },
    {
     "data": {
      "text/html": [
       "<table>\n",
       "<caption>A apa_results_table: 3 × 5</caption>\n",
       "<thead>\n",
       "\t<tr><th></th><th scope=col>cond0</th><th scope=col>estimate</th><th scope=col>ci</th><th scope=col>statistic</th><th scope=col>p.value</th></tr>\n",
       "\t<tr><th></th><th scope=col>&lt;chr&gt;</th><th scope=col>&lt;ppj_lbll&gt;</th><th scope=col>&lt;ppj_lbll&gt;</th><th scope=col>&lt;ppj_lbll&gt;</th><th scope=col>&lt;ppj_lbll&gt;</th></tr>\n",
       "</thead>\n",
       "<tbody>\n",
       "\t<tr><th scope=row>noun_F</th><td>noun_F</td><td>-1.87</td><td>$[-2.33$, $-1.42]$</td><td>-8.21</td><td>&lt; .001</td></tr>\n",
       "\t<tr><th scope=row>noun_M</th><td>noun_M</td><td>-2.13</td><td>$[-2.59$, $-1.68]$</td><td>-9.35</td><td>&lt; .001</td></tr>\n",
       "\t<tr><th scope=row>verb_X</th><td>verb_X</td><td>-1.90</td><td>$[-2.35$, $-1.44]$</td><td>-8.31</td><td>&lt; .001</td></tr>\n",
       "</tbody>\n",
       "</table>\n"
      ],
      "text/latex": [
       "A apa\\_results\\_table: 3 × 5\n",
       "\\begin{tabular}{r|lllll}\n",
       "  & cond0 & estimate & ci & statistic & p.value\\\\\n",
       "  & <chr> & <ppj\\_lbll> & <ppj\\_lbll> & <ppj\\_lbll> & <ppj\\_lbll>\\\\\n",
       "\\hline\n",
       "\tnoun\\_F & noun\\_F & -1.87 & \\${[}-2.33\\$, \\$-1.42{]}\\$ & -8.21 & < .001\\\\\n",
       "\tnoun\\_M & noun\\_M & -2.13 & \\${[}-2.59\\$, \\$-1.68{]}\\$ & -9.35 & < .001\\\\\n",
       "\tverb\\_X & verb\\_X & -1.90 & \\${[}-2.35\\$, \\$-1.44{]}\\$ & -8.31 & < .001\\\\\n",
       "\\end{tabular}\n"
      ],
      "text/markdown": [
       "\n",
       "A apa_results_table: 3 × 5\n",
       "\n",
       "| <!--/--> | cond0 &lt;chr&gt; | estimate &lt;ppj_lbll&gt; | ci &lt;ppj_lbll&gt; | statistic &lt;ppj_lbll&gt; | p.value &lt;ppj_lbll&gt; |\n",
       "|---|---|---|---|---|---|\n",
       "| noun_F | noun_F | -1.87 | $[-2.33$, $-1.42]$ | -8.21 | &lt; .001 |\n",
       "| noun_M | noun_M | -2.13 | $[-2.59$, $-1.68]$ | -9.35 | &lt; .001 |\n",
       "| verb_X | verb_X | -1.90 | $[-2.35$, $-1.44]$ | -8.31 | &lt; .001 |\n",
       "\n"
      ],
      "text/plain": [
       "       cond0  estimate ci                 statistic p.value\n",
       "noun_F noun_F -1.87    $[-2.33$, $-1.42]$ -8.21     < .001 \n",
       "noun_M noun_M -2.13    $[-2.59$, $-1.68]$ -9.35     < .001 \n",
       "verb_X verb_X -1.90    $[-2.35$, $-1.44]$ -8.31     < .001 "
      ]
     },
     "metadata": {},
     "output_type": "display_data"
    },
    {
     "data": {
      "text/markdown": [
       "### Paired comparisons for expected marginal means"
      ]
     },
     "metadata": {},
     "output_type": "display_data"
    },
    {
     "data": {
      "text/html": [
       "<table>\n",
       "<caption>A apa_results_table: 3 × 5</caption>\n",
       "<thead>\n",
       "\t<tr><th></th><th scope=col>contrast</th><th scope=col>estimate</th><th scope=col>ci</th><th scope=col>statistic</th><th scope=col>p.value</th></tr>\n",
       "\t<tr><th></th><th scope=col>&lt;ppj_lbll&gt;</th><th scope=col>&lt;ppj_lbll&gt;</th><th scope=col>&lt;ppj_lbll&gt;</th><th scope=col>&lt;ppj_lbll&gt;</th><th scope=col>&lt;ppj_lbll&gt;</th></tr>\n",
       "</thead>\n",
       "<tbody>\n",
       "\t<tr><th scope=row>noun_F_noun_M</th><td>noun_F - noun_M</td><td>0.26 </td><td>$[-0.07$, $0.59]$</td><td>1.88 </td><td>.150</td></tr>\n",
       "\t<tr><th scope=row>noun_F_verb_X</th><td>noun_F - verb_X</td><td>0.02 </td><td>$[-0.31$, $0.35]$</td><td>0.17 </td><td>.985</td></tr>\n",
       "\t<tr><th scope=row>noun_M_verb_X</th><td>noun_M - verb_X</td><td>-0.24</td><td>$[-0.57$, $0.09]$</td><td>-1.72</td><td>.205</td></tr>\n",
       "</tbody>\n",
       "</table>\n"
      ],
      "text/latex": [
       "A apa\\_results\\_table: 3 × 5\n",
       "\\begin{tabular}{r|lllll}\n",
       "  & contrast & estimate & ci & statistic & p.value\\\\\n",
       "  & <ppj\\_lbll> & <ppj\\_lbll> & <ppj\\_lbll> & <ppj\\_lbll> & <ppj\\_lbll>\\\\\n",
       "\\hline\n",
       "\tnoun\\_F\\_noun\\_M & noun\\_F - noun\\_M & 0.26  & \\${[}-0.07\\$, \\$0.59{]}\\$ & 1.88  & .150\\\\\n",
       "\tnoun\\_F\\_verb\\_X & noun\\_F - verb\\_X & 0.02  & \\${[}-0.31\\$, \\$0.35{]}\\$ & 0.17  & .985\\\\\n",
       "\tnoun\\_M\\_verb\\_X & noun\\_M - verb\\_X & -0.24 & \\${[}-0.57\\$, \\$0.09{]}\\$ & -1.72 & .205\\\\\n",
       "\\end{tabular}\n"
      ],
      "text/markdown": [
       "\n",
       "A apa_results_table: 3 × 5\n",
       "\n",
       "| <!--/--> | contrast &lt;ppj_lbll&gt; | estimate &lt;ppj_lbll&gt; | ci &lt;ppj_lbll&gt; | statistic &lt;ppj_lbll&gt; | p.value &lt;ppj_lbll&gt; |\n",
       "|---|---|---|---|---|---|\n",
       "| noun_F_noun_M | noun_F - noun_M | 0.26  | $[-0.07$, $0.59]$ | 1.88  | .150 |\n",
       "| noun_F_verb_X | noun_F - verb_X | 0.02  | $[-0.31$, $0.35]$ | 0.17  | .985 |\n",
       "| noun_M_verb_X | noun_M - verb_X | -0.24 | $[-0.57$, $0.09]$ | -1.72 | .205 |\n",
       "\n"
      ],
      "text/plain": [
       "              contrast        estimate ci                statistic p.value\n",
       "noun_F_noun_M noun_F - noun_M 0.26     $[-0.07$, $0.59]$ 1.88      .150   \n",
       "noun_F_verb_X noun_F - verb_X 0.02     $[-0.31$, $0.35]$ 0.17      .985   \n",
       "noun_M_verb_X noun_M - verb_X -0.24    $[-0.57$, $0.09]$ -1.72     .205   "
      ]
     },
     "metadata": {},
     "output_type": "display_data"
    }
   ],
   "source": [
    "IDX <- IDX+1; COND <- CONDS[IDX]\n",
    "data1 <- droplevels(subset(df1, eval(parse(text=COND)))); data1 <- data1[complete.cases(data1),]; done1 <- AOV4(data1,COND)\n",
    "display_markdown(str_c(\"# Condition \",IDX,\" of \",length(CONDS))); display_markdown(done1$info); display_markdown(\"### Table\"); done1$aov_APA$table; display_markdown(\"### Result\"); display_markdown(done1$aov_APA[[\"full_result\"]][[\"cond0\"]]); display_markdown(\"### Summary (all done1, incl. NANs)\"); done1$summary; display_markdown(\"### Expected marginal means\"); done1$emm_APA$table; display_markdown(\"### Paired comparisons for expected marginal means\"); done1$pairs_APA$table"
   ]
  },
  {
   "cell_type": "code",
   "execution_count": 45,
   "metadata": {},
   "outputs": [
    {
     "name": "stderr",
     "output_type": "stream",
     "text": [
      "Warning message:\n",
      "“Missing values for following ID(s):\n",
      "08pnxm, 30mszf, 32mjxf, 34gsxm\n",
      "Removing those cases from the analysis.”\n",
      "Warning message in summary.Anova.mlm(x$Anova):\n",
      "“HF eps > 1 treated as 1”\n"
     ]
    },
    {
     "data": {
      "text/markdown": [
       "# Condition 28 of 72"
      ]
     },
     "metadata": {},
     "output_type": "display_data"
    },
    {
     "data": {
      "text/markdown": [
       "`tmin0==0.35 & chan0==\"RF\" & mode0==\"neg\"`"
      ]
     },
     "metadata": {},
     "output_type": "display_data"
    },
    {
     "data": {
      "text/markdown": [
       "### Table"
      ]
     },
     "metadata": {},
     "output_type": "display_data"
    },
    {
     "data": {
      "text/html": [
       "<table>\n",
       "<caption>A apa_results_table: 1 × 7</caption>\n",
       "<thead>\n",
       "\t<tr><th></th><th scope=col>Effect</th><th scope=col>F</th><th scope=col>df1</th><th scope=col>df2</th><th scope=col>MSE</th><th scope=col>p</th><th scope=col>ges</th></tr>\n",
       "\t<tr><th></th><th scope=col>&lt;ppj_lbll&gt;</th><th scope=col>&lt;ppj_lbll&gt;</th><th scope=col>&lt;ppj_lbll&gt;</th><th scope=col>&lt;ppj_lbll&gt;</th><th scope=col>&lt;ppj_lbll&gt;</th><th scope=col>&lt;ppj_lbll&gt;</th><th scope=col>&lt;ppj_lbll&gt;</th></tr>\n",
       "</thead>\n",
       "<tbody>\n",
       "\t<tr><th scope=row>1</th><td>Cond0</td><td>4.07</td><td>1.94</td><td>69.93</td><td>0.47</td><td>.022</td><td>.011</td></tr>\n",
       "</tbody>\n",
       "</table>\n"
      ],
      "text/latex": [
       "A apa\\_results\\_table: 1 × 7\n",
       "\\begin{tabular}{r|lllllll}\n",
       "  & Effect & F & df1 & df2 & MSE & p & ges\\\\\n",
       "  & <ppj\\_lbll> & <ppj\\_lbll> & <ppj\\_lbll> & <ppj\\_lbll> & <ppj\\_lbll> & <ppj\\_lbll> & <ppj\\_lbll>\\\\\n",
       "\\hline\n",
       "\t1 & Cond0 & 4.07 & 1.94 & 69.93 & 0.47 & .022 & .011\\\\\n",
       "\\end{tabular}\n"
      ],
      "text/markdown": [
       "\n",
       "A apa_results_table: 1 × 7\n",
       "\n",
       "| <!--/--> | Effect &lt;ppj_lbll&gt; | F &lt;ppj_lbll&gt; | df1 &lt;ppj_lbll&gt; | df2 &lt;ppj_lbll&gt; | MSE &lt;ppj_lbll&gt; | p &lt;ppj_lbll&gt; | ges &lt;ppj_lbll&gt; |\n",
       "|---|---|---|---|---|---|---|---|\n",
       "| 1 | Cond0 | 4.07 | 1.94 | 69.93 | 0.47 | .022 | .011 |\n",
       "\n"
      ],
      "text/plain": [
       "  Effect F    df1  df2   MSE  p    ges \n",
       "1 Cond0  4.07 1.94 69.93 0.47 .022 .011"
      ]
     },
     "metadata": {},
     "output_type": "display_data"
    },
    {
     "data": {
      "text/markdown": [
       "### Result"
      ]
     },
     "metadata": {},
     "output_type": "display_data"
    },
    {
     "data": {
      "text/markdown": [
       "$F(1.94, 69.93) = 4.07$, $\\mathit{MSE} = 0.47$, $p = .022$, $\\hat{\\eta}^2_G = .011$"
      ]
     },
     "metadata": {},
     "output_type": "display_data"
    },
    {
     "data": {
      "text/markdown": [
       "### Summary (all done1, incl. NANs)"
      ]
     },
     "metadata": {},
     "output_type": "display_data"
    },
    {
     "data": {
      "text/html": [
       "<table>\n",
       "<caption>A tibble: 3 × 5</caption>\n",
       "<thead>\n",
       "\t<tr><th scope=col>cond0</th><th scope=col>N</th><th scope=col>valX_M</th><th scope=col>valX_SD</th><th scope=col>valX_SE</th></tr>\n",
       "\t<tr><th scope=col>&lt;fct&gt;</th><th scope=col>&lt;int&gt;</th><th scope=col>&lt;dbl&gt;</th><th scope=col>&lt;dbl&gt;</th><th scope=col>&lt;dbl&gt;</th></tr>\n",
       "</thead>\n",
       "<tbody>\n",
       "\t<tr><td>noun_F</td><td>41</td><td>-3.321413</td><td>1.684845</td><td>0.2631286</td></tr>\n",
       "\t<tr><td>noun_M</td><td>39</td><td>-3.596182</td><td>1.632623</td><td>0.2614290</td></tr>\n",
       "\t<tr><td>verb_X</td><td>38</td><td>-3.188799</td><td>1.872108</td><td>0.3036961</td></tr>\n",
       "</tbody>\n",
       "</table>\n"
      ],
      "text/latex": [
       "A tibble: 3 × 5\n",
       "\\begin{tabular}{lllll}\n",
       " cond0 & N & valX\\_M & valX\\_SD & valX\\_SE\\\\\n",
       " <fct> & <int> & <dbl> & <dbl> & <dbl>\\\\\n",
       "\\hline\n",
       "\t noun\\_F & 41 & -3.321413 & 1.684845 & 0.2631286\\\\\n",
       "\t noun\\_M & 39 & -3.596182 & 1.632623 & 0.2614290\\\\\n",
       "\t verb\\_X & 38 & -3.188799 & 1.872108 & 0.3036961\\\\\n",
       "\\end{tabular}\n"
      ],
      "text/markdown": [
       "\n",
       "A tibble: 3 × 5\n",
       "\n",
       "| cond0 &lt;fct&gt; | N &lt;int&gt; | valX_M &lt;dbl&gt; | valX_SD &lt;dbl&gt; | valX_SE &lt;dbl&gt; |\n",
       "|---|---|---|---|---|\n",
       "| noun_F | 41 | -3.321413 | 1.684845 | 0.2631286 |\n",
       "| noun_M | 39 | -3.596182 | 1.632623 | 0.2614290 |\n",
       "| verb_X | 38 | -3.188799 | 1.872108 | 0.3036961 |\n",
       "\n"
      ],
      "text/plain": [
       "  cond0  N  valX_M    valX_SD  valX_SE  \n",
       "1 noun_F 41 -3.321413 1.684845 0.2631286\n",
       "2 noun_M 39 -3.596182 1.632623 0.2614290\n",
       "3 verb_X 38 -3.188799 1.872108 0.3036961"
      ]
     },
     "metadata": {},
     "output_type": "display_data"
    },
    {
     "data": {
      "text/markdown": [
       "### Expected marginal means"
      ]
     },
     "metadata": {},
     "output_type": "display_data"
    },
    {
     "data": {
      "text/html": [
       "<table>\n",
       "<caption>A apa_results_table: 3 × 5</caption>\n",
       "<thead>\n",
       "\t<tr><th></th><th scope=col>cond0</th><th scope=col>estimate</th><th scope=col>ci</th><th scope=col>statistic</th><th scope=col>p.value</th></tr>\n",
       "\t<tr><th></th><th scope=col>&lt;chr&gt;</th><th scope=col>&lt;ppj_lbll&gt;</th><th scope=col>&lt;ppj_lbll&gt;</th><th scope=col>&lt;ppj_lbll&gt;</th><th scope=col>&lt;ppj_lbll&gt;</th></tr>\n",
       "</thead>\n",
       "<tbody>\n",
       "\t<tr><th scope=row>noun_F</th><td>noun_F</td><td>-3.44</td><td>$[-4.02$, $-2.86]$</td><td>-11.99</td><td>&lt; .001</td></tr>\n",
       "\t<tr><th scope=row>noun_M</th><td>noun_M</td><td>-3.65</td><td>$[-4.23$, $-3.07]$</td><td>-12.72</td><td>&lt; .001</td></tr>\n",
       "\t<tr><th scope=row>verb_X</th><td>verb_X</td><td>-3.21</td><td>$[-3.78$, $-2.63]$</td><td>-11.17</td><td>&lt; .001</td></tr>\n",
       "</tbody>\n",
       "</table>\n"
      ],
      "text/latex": [
       "A apa\\_results\\_table: 3 × 5\n",
       "\\begin{tabular}{r|lllll}\n",
       "  & cond0 & estimate & ci & statistic & p.value\\\\\n",
       "  & <chr> & <ppj\\_lbll> & <ppj\\_lbll> & <ppj\\_lbll> & <ppj\\_lbll>\\\\\n",
       "\\hline\n",
       "\tnoun\\_F & noun\\_F & -3.44 & \\${[}-4.02\\$, \\$-2.86{]}\\$ & -11.99 & < .001\\\\\n",
       "\tnoun\\_M & noun\\_M & -3.65 & \\${[}-4.23\\$, \\$-3.07{]}\\$ & -12.72 & < .001\\\\\n",
       "\tverb\\_X & verb\\_X & -3.21 & \\${[}-3.78\\$, \\$-2.63{]}\\$ & -11.17 & < .001\\\\\n",
       "\\end{tabular}\n"
      ],
      "text/markdown": [
       "\n",
       "A apa_results_table: 3 × 5\n",
       "\n",
       "| <!--/--> | cond0 &lt;chr&gt; | estimate &lt;ppj_lbll&gt; | ci &lt;ppj_lbll&gt; | statistic &lt;ppj_lbll&gt; | p.value &lt;ppj_lbll&gt; |\n",
       "|---|---|---|---|---|---|\n",
       "| noun_F | noun_F | -3.44 | $[-4.02$, $-2.86]$ | -11.99 | &lt; .001 |\n",
       "| noun_M | noun_M | -3.65 | $[-4.23$, $-3.07]$ | -12.72 | &lt; .001 |\n",
       "| verb_X | verb_X | -3.21 | $[-3.78$, $-2.63]$ | -11.17 | &lt; .001 |\n",
       "\n"
      ],
      "text/plain": [
       "       cond0  estimate ci                 statistic p.value\n",
       "noun_F noun_F -3.44    $[-4.02$, $-2.86]$ -11.99    < .001 \n",
       "noun_M noun_M -3.65    $[-4.23$, $-3.07]$ -12.72    < .001 \n",
       "verb_X verb_X -3.21    $[-3.78$, $-2.63]$ -11.17    < .001 "
      ]
     },
     "metadata": {},
     "output_type": "display_data"
    },
    {
     "data": {
      "text/markdown": [
       "### Paired comparisons for expected marginal means"
      ]
     },
     "metadata": {},
     "output_type": "display_data"
    },
    {
     "data": {
      "text/html": [
       "<table>\n",
       "<caption>A apa_results_table: 3 × 5</caption>\n",
       "<thead>\n",
       "\t<tr><th></th><th scope=col>contrast</th><th scope=col>estimate</th><th scope=col>ci</th><th scope=col>statistic</th><th scope=col>p.value</th></tr>\n",
       "\t<tr><th></th><th scope=col>&lt;ppj_lbll&gt;</th><th scope=col>&lt;ppj_lbll&gt;</th><th scope=col>&lt;ppj_lbll&gt;</th><th scope=col>&lt;ppj_lbll&gt;</th><th scope=col>&lt;ppj_lbll&gt;</th></tr>\n",
       "</thead>\n",
       "<tbody>\n",
       "\t<tr><th scope=row>noun_F_noun_M</th><td>noun_F - noun_M</td><td>0.21 </td><td>$[-0.16$, $0.58]$ </td><td>1.35 </td><td>.375</td></tr>\n",
       "\t<tr><th scope=row>noun_F_verb_X</th><td>noun_F - verb_X</td><td>-0.24</td><td>$[-0.61$, $0.14]$ </td><td>-1.51</td><td>.295</td></tr>\n",
       "\t<tr><th scope=row>noun_M_verb_X</th><td>noun_M - verb_X</td><td>-0.45</td><td>$[-0.82$, $-0.07]$</td><td>-2.85</td><td>.016</td></tr>\n",
       "</tbody>\n",
       "</table>\n"
      ],
      "text/latex": [
       "A apa\\_results\\_table: 3 × 5\n",
       "\\begin{tabular}{r|lllll}\n",
       "  & contrast & estimate & ci & statistic & p.value\\\\\n",
       "  & <ppj\\_lbll> & <ppj\\_lbll> & <ppj\\_lbll> & <ppj\\_lbll> & <ppj\\_lbll>\\\\\n",
       "\\hline\n",
       "\tnoun\\_F\\_noun\\_M & noun\\_F - noun\\_M & 0.21  & \\${[}-0.16\\$, \\$0.58{]}\\$  & 1.35  & .375\\\\\n",
       "\tnoun\\_F\\_verb\\_X & noun\\_F - verb\\_X & -0.24 & \\${[}-0.61\\$, \\$0.14{]}\\$  & -1.51 & .295\\\\\n",
       "\tnoun\\_M\\_verb\\_X & noun\\_M - verb\\_X & -0.45 & \\${[}-0.82\\$, \\$-0.07{]}\\$ & -2.85 & .016\\\\\n",
       "\\end{tabular}\n"
      ],
      "text/markdown": [
       "\n",
       "A apa_results_table: 3 × 5\n",
       "\n",
       "| <!--/--> | contrast &lt;ppj_lbll&gt; | estimate &lt;ppj_lbll&gt; | ci &lt;ppj_lbll&gt; | statistic &lt;ppj_lbll&gt; | p.value &lt;ppj_lbll&gt; |\n",
       "|---|---|---|---|---|---|\n",
       "| noun_F_noun_M | noun_F - noun_M | 0.21  | $[-0.16$, $0.58]$  | 1.35  | .375 |\n",
       "| noun_F_verb_X | noun_F - verb_X | -0.24 | $[-0.61$, $0.14]$  | -1.51 | .295 |\n",
       "| noun_M_verb_X | noun_M - verb_X | -0.45 | $[-0.82$, $-0.07]$ | -2.85 | .016 |\n",
       "\n"
      ],
      "text/plain": [
       "              contrast        estimate ci                 statistic p.value\n",
       "noun_F_noun_M noun_F - noun_M 0.21     $[-0.16$, $0.58]$  1.35      .375   \n",
       "noun_F_verb_X noun_F - verb_X -0.24    $[-0.61$, $0.14]$  -1.51     .295   \n",
       "noun_M_verb_X noun_M - verb_X -0.45    $[-0.82$, $-0.07]$ -2.85     .016   "
      ]
     },
     "metadata": {},
     "output_type": "display_data"
    }
   ],
   "source": [
    "IDX <- IDX+1; COND <- CONDS[IDX]\n",
    "data1 <- droplevels(subset(df1, eval(parse(text=COND)))); data1 <- data1[complete.cases(data1),]; done1 <- AOV4(data1,COND)\n",
    "display_markdown(str_c(\"# Condition \",IDX,\" of \",length(CONDS))); display_markdown(done1$info); display_markdown(\"### Table\"); done1$aov_APA$table; display_markdown(\"### Result\"); display_markdown(done1$aov_APA[[\"full_result\"]][[\"cond0\"]]); display_markdown(\"### Summary (all done1, incl. NANs)\"); done1$summary; display_markdown(\"### Expected marginal means\"); done1$emm_APA$table; display_markdown(\"### Paired comparisons for expected marginal means\"); done1$pairs_APA$table"
   ]
  },
  {
   "cell_type": "code",
   "execution_count": 46,
   "metadata": {},
   "outputs": [
    {
     "name": "stderr",
     "output_type": "stream",
     "text": [
      "Warning message:\n",
      "“Missing values for following ID(s):\n",
      "05jwxf, 07zrxf, 41roxm\n",
      "Removing those cases from the analysis.”\n",
      "Warning message in summary.Anova.mlm(x$Anova):\n",
      "“HF eps > 1 treated as 1”\n"
     ]
    },
    {
     "data": {
      "text/markdown": [
       "# Condition 29 of 72"
      ]
     },
     "metadata": {},
     "output_type": "display_data"
    },
    {
     "data": {
      "text/markdown": [
       "`tmin0==0.35 & chan0==\"LC\" & mode0==\"pos\"`"
      ]
     },
     "metadata": {},
     "output_type": "display_data"
    },
    {
     "data": {
      "text/markdown": [
       "### Table"
      ]
     },
     "metadata": {},
     "output_type": "display_data"
    },
    {
     "data": {
      "text/html": [
       "<table>\n",
       "<caption>A apa_results_table: 1 × 7</caption>\n",
       "<thead>\n",
       "\t<tr><th></th><th scope=col>Effect</th><th scope=col>F</th><th scope=col>df1</th><th scope=col>df2</th><th scope=col>MSE</th><th scope=col>p</th><th scope=col>ges</th></tr>\n",
       "\t<tr><th></th><th scope=col>&lt;ppj_lbll&gt;</th><th scope=col>&lt;ppj_lbll&gt;</th><th scope=col>&lt;ppj_lbll&gt;</th><th scope=col>&lt;ppj_lbll&gt;</th><th scope=col>&lt;ppj_lbll&gt;</th><th scope=col>&lt;ppj_lbll&gt;</th><th scope=col>&lt;ppj_lbll&gt;</th></tr>\n",
       "</thead>\n",
       "<tbody>\n",
       "\t<tr><th scope=row>1</th><td>Cond0</td><td>0.38</td><td>1.98</td><td>75.09</td><td>0.28</td><td>.681</td><td>.001</td></tr>\n",
       "</tbody>\n",
       "</table>\n"
      ],
      "text/latex": [
       "A apa\\_results\\_table: 1 × 7\n",
       "\\begin{tabular}{r|lllllll}\n",
       "  & Effect & F & df1 & df2 & MSE & p & ges\\\\\n",
       "  & <ppj\\_lbll> & <ppj\\_lbll> & <ppj\\_lbll> & <ppj\\_lbll> & <ppj\\_lbll> & <ppj\\_lbll> & <ppj\\_lbll>\\\\\n",
       "\\hline\n",
       "\t1 & Cond0 & 0.38 & 1.98 & 75.09 & 0.28 & .681 & .001\\\\\n",
       "\\end{tabular}\n"
      ],
      "text/markdown": [
       "\n",
       "A apa_results_table: 1 × 7\n",
       "\n",
       "| <!--/--> | Effect &lt;ppj_lbll&gt; | F &lt;ppj_lbll&gt; | df1 &lt;ppj_lbll&gt; | df2 &lt;ppj_lbll&gt; | MSE &lt;ppj_lbll&gt; | p &lt;ppj_lbll&gt; | ges &lt;ppj_lbll&gt; |\n",
       "|---|---|---|---|---|---|---|---|\n",
       "| 1 | Cond0 | 0.38 | 1.98 | 75.09 | 0.28 | .681 | .001 |\n",
       "\n"
      ],
      "text/plain": [
       "  Effect F    df1  df2   MSE  p    ges \n",
       "1 Cond0  0.38 1.98 75.09 0.28 .681 .001"
      ]
     },
     "metadata": {},
     "output_type": "display_data"
    },
    {
     "data": {
      "text/markdown": [
       "### Result"
      ]
     },
     "metadata": {},
     "output_type": "display_data"
    },
    {
     "data": {
      "text/markdown": [
       "$F(1.98, 75.09) = 0.38$, $\\mathit{MSE} = 0.28$, $p = .681$, $\\hat{\\eta}^2_G = .001$"
      ]
     },
     "metadata": {},
     "output_type": "display_data"
    },
    {
     "data": {
      "text/markdown": [
       "### Summary (all done1, incl. NANs)"
      ]
     },
     "metadata": {},
     "output_type": "display_data"
    },
    {
     "data": {
      "text/html": [
       "<table>\n",
       "<caption>A tibble: 3 × 5</caption>\n",
       "<thead>\n",
       "\t<tr><th scope=col>cond0</th><th scope=col>N</th><th scope=col>valX_M</th><th scope=col>valX_SD</th><th scope=col>valX_SE</th></tr>\n",
       "\t<tr><th scope=col>&lt;fct&gt;</th><th scope=col>&lt;int&gt;</th><th scope=col>&lt;dbl&gt;</th><th scope=col>&lt;dbl&gt;</th><th scope=col>&lt;dbl&gt;</th></tr>\n",
       "</thead>\n",
       "<tbody>\n",
       "\t<tr><td>noun_F</td><td>42</td><td>1.535496</td><td>1.382349</td><td>0.2133011</td></tr>\n",
       "\t<tr><td>noun_M</td><td>42</td><td>1.471160</td><td>1.198128</td><td>0.1848752</td></tr>\n",
       "\t<tr><td>verb_X</td><td>39</td><td>1.583289</td><td>1.173459</td><td>0.1879038</td></tr>\n",
       "</tbody>\n",
       "</table>\n"
      ],
      "text/latex": [
       "A tibble: 3 × 5\n",
       "\\begin{tabular}{lllll}\n",
       " cond0 & N & valX\\_M & valX\\_SD & valX\\_SE\\\\\n",
       " <fct> & <int> & <dbl> & <dbl> & <dbl>\\\\\n",
       "\\hline\n",
       "\t noun\\_F & 42 & 1.535496 & 1.382349 & 0.2133011\\\\\n",
       "\t noun\\_M & 42 & 1.471160 & 1.198128 & 0.1848752\\\\\n",
       "\t verb\\_X & 39 & 1.583289 & 1.173459 & 0.1879038\\\\\n",
       "\\end{tabular}\n"
      ],
      "text/markdown": [
       "\n",
       "A tibble: 3 × 5\n",
       "\n",
       "| cond0 &lt;fct&gt; | N &lt;int&gt; | valX_M &lt;dbl&gt; | valX_SD &lt;dbl&gt; | valX_SE &lt;dbl&gt; |\n",
       "|---|---|---|---|---|\n",
       "| noun_F | 42 | 1.535496 | 1.382349 | 0.2133011 |\n",
       "| noun_M | 42 | 1.471160 | 1.198128 | 0.1848752 |\n",
       "| verb_X | 39 | 1.583289 | 1.173459 | 0.1879038 |\n",
       "\n"
      ],
      "text/plain": [
       "  cond0  N  valX_M   valX_SD  valX_SE  \n",
       "1 noun_F 42 1.535496 1.382349 0.2133011\n",
       "2 noun_M 42 1.471160 1.198128 0.1848752\n",
       "3 verb_X 39 1.583289 1.173459 0.1879038"
      ]
     },
     "metadata": {},
     "output_type": "display_data"
    },
    {
     "data": {
      "text/markdown": [
       "### Expected marginal means"
      ]
     },
     "metadata": {},
     "output_type": "display_data"
    },
    {
     "data": {
      "text/html": [
       "<table>\n",
       "<caption>A apa_results_table: 3 × 5</caption>\n",
       "<thead>\n",
       "\t<tr><th></th><th scope=col>cond0</th><th scope=col>estimate</th><th scope=col>ci</th><th scope=col>statistic</th><th scope=col>p.value</th></tr>\n",
       "\t<tr><th></th><th scope=col>&lt;chr&gt;</th><th scope=col>&lt;ppj_lbll&gt;</th><th scope=col>&lt;ppj_lbll&gt;</th><th scope=col>&lt;ppj_lbll&gt;</th><th scope=col>&lt;ppj_lbll&gt;</th></tr>\n",
       "</thead>\n",
       "<tbody>\n",
       "\t<tr><th scope=row>noun_F</th><td>noun_F</td><td>1.66</td><td>$[1.27$, $2.05]$</td><td>8.59</td><td>&lt; .001</td></tr>\n",
       "\t<tr><th scope=row>noun_M</th><td>noun_M</td><td>1.56</td><td>$[1.17$, $1.95]$</td><td>8.07</td><td>&lt; .001</td></tr>\n",
       "\t<tr><th scope=row>verb_X</th><td>verb_X</td><td>1.58</td><td>$[1.19$, $1.97]$</td><td>8.19</td><td>&lt; .001</td></tr>\n",
       "</tbody>\n",
       "</table>\n"
      ],
      "text/latex": [
       "A apa\\_results\\_table: 3 × 5\n",
       "\\begin{tabular}{r|lllll}\n",
       "  & cond0 & estimate & ci & statistic & p.value\\\\\n",
       "  & <chr> & <ppj\\_lbll> & <ppj\\_lbll> & <ppj\\_lbll> & <ppj\\_lbll>\\\\\n",
       "\\hline\n",
       "\tnoun\\_F & noun\\_F & 1.66 & \\${[}1.27\\$, \\$2.05{]}\\$ & 8.59 & < .001\\\\\n",
       "\tnoun\\_M & noun\\_M & 1.56 & \\${[}1.17\\$, \\$1.95{]}\\$ & 8.07 & < .001\\\\\n",
       "\tverb\\_X & verb\\_X & 1.58 & \\${[}1.19\\$, \\$1.97{]}\\$ & 8.19 & < .001\\\\\n",
       "\\end{tabular}\n"
      ],
      "text/markdown": [
       "\n",
       "A apa_results_table: 3 × 5\n",
       "\n",
       "| <!--/--> | cond0 &lt;chr&gt; | estimate &lt;ppj_lbll&gt; | ci &lt;ppj_lbll&gt; | statistic &lt;ppj_lbll&gt; | p.value &lt;ppj_lbll&gt; |\n",
       "|---|---|---|---|---|---|\n",
       "| noun_F | noun_F | 1.66 | $[1.27$, $2.05]$ | 8.59 | &lt; .001 |\n",
       "| noun_M | noun_M | 1.56 | $[1.17$, $1.95]$ | 8.07 | &lt; .001 |\n",
       "| verb_X | verb_X | 1.58 | $[1.19$, $1.97]$ | 8.19 | &lt; .001 |\n",
       "\n"
      ],
      "text/plain": [
       "       cond0  estimate ci               statistic p.value\n",
       "noun_F noun_F 1.66     $[1.27$, $2.05]$ 8.59      < .001 \n",
       "noun_M noun_M 1.56     $[1.17$, $1.95]$ 8.07      < .001 \n",
       "verb_X verb_X 1.58     $[1.19$, $1.97]$ 8.19      < .001 "
      ]
     },
     "metadata": {},
     "output_type": "display_data"
    },
    {
     "data": {
      "text/markdown": [
       "### Paired comparisons for expected marginal means"
      ]
     },
     "metadata": {},
     "output_type": "display_data"
    },
    {
     "data": {
      "text/html": [
       "<table>\n",
       "<caption>A apa_results_table: 3 × 5</caption>\n",
       "<thead>\n",
       "\t<tr><th></th><th scope=col>contrast</th><th scope=col>estimate</th><th scope=col>ci</th><th scope=col>statistic</th><th scope=col>p.value</th></tr>\n",
       "\t<tr><th></th><th scope=col>&lt;ppj_lbll&gt;</th><th scope=col>&lt;ppj_lbll&gt;</th><th scope=col>&lt;ppj_lbll&gt;</th><th scope=col>&lt;ppj_lbll&gt;</th><th scope=col>&lt;ppj_lbll&gt;</th></tr>\n",
       "</thead>\n",
       "<tbody>\n",
       "\t<tr><th scope=row>noun_F_noun_M</th><td>noun_F - noun_M</td><td>0.10 </td><td>$[-0.19$, $0.38]$</td><td>0.83 </td><td>.683</td></tr>\n",
       "\t<tr><th scope=row>noun_F_verb_X</th><td>noun_F - verb_X</td><td>0.08 </td><td>$[-0.21$, $0.36]$</td><td>0.64 </td><td>.797</td></tr>\n",
       "\t<tr><th scope=row>noun_M_verb_X</th><td>noun_M - verb_X</td><td>-0.02</td><td>$[-0.31$, $0.26]$</td><td>-0.19</td><td>.980</td></tr>\n",
       "</tbody>\n",
       "</table>\n"
      ],
      "text/latex": [
       "A apa\\_results\\_table: 3 × 5\n",
       "\\begin{tabular}{r|lllll}\n",
       "  & contrast & estimate & ci & statistic & p.value\\\\\n",
       "  & <ppj\\_lbll> & <ppj\\_lbll> & <ppj\\_lbll> & <ppj\\_lbll> & <ppj\\_lbll>\\\\\n",
       "\\hline\n",
       "\tnoun\\_F\\_noun\\_M & noun\\_F - noun\\_M & 0.10  & \\${[}-0.19\\$, \\$0.38{]}\\$ & 0.83  & .683\\\\\n",
       "\tnoun\\_F\\_verb\\_X & noun\\_F - verb\\_X & 0.08  & \\${[}-0.21\\$, \\$0.36{]}\\$ & 0.64  & .797\\\\\n",
       "\tnoun\\_M\\_verb\\_X & noun\\_M - verb\\_X & -0.02 & \\${[}-0.31\\$, \\$0.26{]}\\$ & -0.19 & .980\\\\\n",
       "\\end{tabular}\n"
      ],
      "text/markdown": [
       "\n",
       "A apa_results_table: 3 × 5\n",
       "\n",
       "| <!--/--> | contrast &lt;ppj_lbll&gt; | estimate &lt;ppj_lbll&gt; | ci &lt;ppj_lbll&gt; | statistic &lt;ppj_lbll&gt; | p.value &lt;ppj_lbll&gt; |\n",
       "|---|---|---|---|---|---|\n",
       "| noun_F_noun_M | noun_F - noun_M | 0.10  | $[-0.19$, $0.38]$ | 0.83  | .683 |\n",
       "| noun_F_verb_X | noun_F - verb_X | 0.08  | $[-0.21$, $0.36]$ | 0.64  | .797 |\n",
       "| noun_M_verb_X | noun_M - verb_X | -0.02 | $[-0.31$, $0.26]$ | -0.19 | .980 |\n",
       "\n"
      ],
      "text/plain": [
       "              contrast        estimate ci                statistic p.value\n",
       "noun_F_noun_M noun_F - noun_M 0.10     $[-0.19$, $0.38]$ 0.83      .683   \n",
       "noun_F_verb_X noun_F - verb_X 0.08     $[-0.21$, $0.36]$ 0.64      .797   \n",
       "noun_M_verb_X noun_M - verb_X -0.02    $[-0.31$, $0.26]$ -0.19     .980   "
      ]
     },
     "metadata": {},
     "output_type": "display_data"
    }
   ],
   "source": [
    "IDX <- IDX+1; COND <- CONDS[IDX]\n",
    "data1 <- droplevels(subset(df1, eval(parse(text=COND)))); data1 <- data1[complete.cases(data1),]; done1 <- AOV4(data1,COND)\n",
    "display_markdown(str_c(\"# Condition \",IDX,\" of \",length(CONDS))); display_markdown(done1$info); display_markdown(\"### Table\"); done1$aov_APA$table; display_markdown(\"### Result\"); display_markdown(done1$aov_APA[[\"full_result\"]][[\"cond0\"]]); display_markdown(\"### Summary (all done1, incl. NANs)\"); done1$summary; display_markdown(\"### Expected marginal means\"); done1$emm_APA$table; display_markdown(\"### Paired comparisons for expected marginal means\"); done1$pairs_APA$table"
   ]
  },
  {
   "cell_type": "code",
   "execution_count": 47,
   "metadata": {},
   "outputs": [
    {
     "name": "stderr",
     "output_type": "stream",
     "text": [
      "Warning message:\n",
      "“Missing values for following ID(s):\n",
      "07zrxf, 38slxm\n",
      "Removing those cases from the analysis.”\n",
      "Warning message in summary.Anova.mlm(x$Anova):\n",
      "“HF eps > 1 treated as 1”\n"
     ]
    },
    {
     "data": {
      "text/markdown": [
       "# Condition 30 of 72"
      ]
     },
     "metadata": {},
     "output_type": "display_data"
    },
    {
     "data": {
      "text/markdown": [
       "`tmin0==0.35 & chan0==\"LC\" & mode0==\"neg\"`"
      ]
     },
     "metadata": {},
     "output_type": "display_data"
    },
    {
     "data": {
      "text/markdown": [
       "### Table"
      ]
     },
     "metadata": {},
     "output_type": "display_data"
    },
    {
     "data": {
      "text/html": [
       "<table>\n",
       "<caption>A apa_results_table: 1 × 7</caption>\n",
       "<thead>\n",
       "\t<tr><th></th><th scope=col>Effect</th><th scope=col>F</th><th scope=col>df1</th><th scope=col>df2</th><th scope=col>MSE</th><th scope=col>p</th><th scope=col>ges</th></tr>\n",
       "\t<tr><th></th><th scope=col>&lt;ppj_lbll&gt;</th><th scope=col>&lt;ppj_lbll&gt;</th><th scope=col>&lt;ppj_lbll&gt;</th><th scope=col>&lt;ppj_lbll&gt;</th><th scope=col>&lt;ppj_lbll&gt;</th><th scope=col>&lt;ppj_lbll&gt;</th><th scope=col>&lt;ppj_lbll&gt;</th></tr>\n",
       "</thead>\n",
       "<tbody>\n",
       "\t<tr><th scope=row>1</th><td>Cond0</td><td>1.39</td><td>1.98</td><td>77.08</td><td>0.23</td><td>.256</td><td>.004</td></tr>\n",
       "</tbody>\n",
       "</table>\n"
      ],
      "text/latex": [
       "A apa\\_results\\_table: 1 × 7\n",
       "\\begin{tabular}{r|lllllll}\n",
       "  & Effect & F & df1 & df2 & MSE & p & ges\\\\\n",
       "  & <ppj\\_lbll> & <ppj\\_lbll> & <ppj\\_lbll> & <ppj\\_lbll> & <ppj\\_lbll> & <ppj\\_lbll> & <ppj\\_lbll>\\\\\n",
       "\\hline\n",
       "\t1 & Cond0 & 1.39 & 1.98 & 77.08 & 0.23 & .256 & .004\\\\\n",
       "\\end{tabular}\n"
      ],
      "text/markdown": [
       "\n",
       "A apa_results_table: 1 × 7\n",
       "\n",
       "| <!--/--> | Effect &lt;ppj_lbll&gt; | F &lt;ppj_lbll&gt; | df1 &lt;ppj_lbll&gt; | df2 &lt;ppj_lbll&gt; | MSE &lt;ppj_lbll&gt; | p &lt;ppj_lbll&gt; | ges &lt;ppj_lbll&gt; |\n",
       "|---|---|---|---|---|---|---|---|\n",
       "| 1 | Cond0 | 1.39 | 1.98 | 77.08 | 0.23 | .256 | .004 |\n",
       "\n"
      ],
      "text/plain": [
       "  Effect F    df1  df2   MSE  p    ges \n",
       "1 Cond0  1.39 1.98 77.08 0.23 .256 .004"
      ]
     },
     "metadata": {},
     "output_type": "display_data"
    },
    {
     "data": {
      "text/markdown": [
       "### Result"
      ]
     },
     "metadata": {},
     "output_type": "display_data"
    },
    {
     "data": {
      "text/markdown": [
       "$F(1.98, 77.08) = 1.39$, $\\mathit{MSE} = 0.23$, $p = .256$, $\\hat{\\eta}^2_G = .004$"
      ]
     },
     "metadata": {},
     "output_type": "display_data"
    },
    {
     "data": {
      "text/markdown": [
       "### Summary (all done1, incl. NANs)"
      ]
     },
     "metadata": {},
     "output_type": "display_data"
    },
    {
     "data": {
      "text/html": [
       "<table>\n",
       "<caption>A tibble: 3 × 5</caption>\n",
       "<thead>\n",
       "\t<tr><th scope=col>cond0</th><th scope=col>N</th><th scope=col>valX_M</th><th scope=col>valX_SD</th><th scope=col>valX_SE</th></tr>\n",
       "\t<tr><th scope=col>&lt;fct&gt;</th><th scope=col>&lt;int&gt;</th><th scope=col>&lt;dbl&gt;</th><th scope=col>&lt;dbl&gt;</th><th scope=col>&lt;dbl&gt;</th></tr>\n",
       "</thead>\n",
       "<tbody>\n",
       "\t<tr><td>noun_F</td><td>42</td><td>0.3951065</td><td>1.143779</td><td>0.1764889</td></tr>\n",
       "\t<tr><td>noun_M</td><td>42</td><td>0.3698103</td><td>1.253913</td><td>0.1934829</td></tr>\n",
       "\t<tr><td>verb_X</td><td>40</td><td>0.5942835</td><td>1.175542</td><td>0.1858695</td></tr>\n",
       "</tbody>\n",
       "</table>\n"
      ],
      "text/latex": [
       "A tibble: 3 × 5\n",
       "\\begin{tabular}{lllll}\n",
       " cond0 & N & valX\\_M & valX\\_SD & valX\\_SE\\\\\n",
       " <fct> & <int> & <dbl> & <dbl> & <dbl>\\\\\n",
       "\\hline\n",
       "\t noun\\_F & 42 & 0.3951065 & 1.143779 & 0.1764889\\\\\n",
       "\t noun\\_M & 42 & 0.3698103 & 1.253913 & 0.1934829\\\\\n",
       "\t verb\\_X & 40 & 0.5942835 & 1.175542 & 0.1858695\\\\\n",
       "\\end{tabular}\n"
      ],
      "text/markdown": [
       "\n",
       "A tibble: 3 × 5\n",
       "\n",
       "| cond0 &lt;fct&gt; | N &lt;int&gt; | valX_M &lt;dbl&gt; | valX_SD &lt;dbl&gt; | valX_SE &lt;dbl&gt; |\n",
       "|---|---|---|---|---|\n",
       "| noun_F | 42 | 0.3951065 | 1.143779 | 0.1764889 |\n",
       "| noun_M | 42 | 0.3698103 | 1.253913 | 0.1934829 |\n",
       "| verb_X | 40 | 0.5942835 | 1.175542 | 0.1858695 |\n",
       "\n"
      ],
      "text/plain": [
       "  cond0  N  valX_M    valX_SD  valX_SE  \n",
       "1 noun_F 42 0.3951065 1.143779 0.1764889\n",
       "2 noun_M 42 0.3698103 1.253913 0.1934829\n",
       "3 verb_X 40 0.5942835 1.175542 0.1858695"
      ]
     },
     "metadata": {},
     "output_type": "display_data"
    },
    {
     "data": {
      "text/markdown": [
       "### Expected marginal means"
      ]
     },
     "metadata": {},
     "output_type": "display_data"
    },
    {
     "data": {
      "text/html": [
       "<table>\n",
       "<caption>A apa_results_table: 3 × 5</caption>\n",
       "<thead>\n",
       "\t<tr><th></th><th scope=col>cond0</th><th scope=col>estimate</th><th scope=col>ci</th><th scope=col>statistic</th><th scope=col>p.value</th></tr>\n",
       "\t<tr><th></th><th scope=col>&lt;chr&gt;</th><th scope=col>&lt;ppj_lbll&gt;</th><th scope=col>&lt;ppj_lbll&gt;</th><th scope=col>&lt;ppj_lbll&gt;</th><th scope=col>&lt;ppj_lbll&gt;</th></tr>\n",
       "</thead>\n",
       "<tbody>\n",
       "\t<tr><th scope=row>noun_F</th><td>noun_F</td><td>0.45</td><td>$[0.08$, $0.83]$</td><td>2.43</td><td>.019</td></tr>\n",
       "\t<tr><th scope=row>noun_M</th><td>noun_M</td><td>0.43</td><td>$[0.05$, $0.80]$</td><td>2.29</td><td>.026</td></tr>\n",
       "\t<tr><th scope=row>verb_X</th><td>verb_X</td><td>0.59</td><td>$[0.22$, $0.97]$</td><td>3.18</td><td>.003</td></tr>\n",
       "</tbody>\n",
       "</table>\n"
      ],
      "text/latex": [
       "A apa\\_results\\_table: 3 × 5\n",
       "\\begin{tabular}{r|lllll}\n",
       "  & cond0 & estimate & ci & statistic & p.value\\\\\n",
       "  & <chr> & <ppj\\_lbll> & <ppj\\_lbll> & <ppj\\_lbll> & <ppj\\_lbll>\\\\\n",
       "\\hline\n",
       "\tnoun\\_F & noun\\_F & 0.45 & \\${[}0.08\\$, \\$0.83{]}\\$ & 2.43 & .019\\\\\n",
       "\tnoun\\_M & noun\\_M & 0.43 & \\${[}0.05\\$, \\$0.80{]}\\$ & 2.29 & .026\\\\\n",
       "\tverb\\_X & verb\\_X & 0.59 & \\${[}0.22\\$, \\$0.97{]}\\$ & 3.18 & .003\\\\\n",
       "\\end{tabular}\n"
      ],
      "text/markdown": [
       "\n",
       "A apa_results_table: 3 × 5\n",
       "\n",
       "| <!--/--> | cond0 &lt;chr&gt; | estimate &lt;ppj_lbll&gt; | ci &lt;ppj_lbll&gt; | statistic &lt;ppj_lbll&gt; | p.value &lt;ppj_lbll&gt; |\n",
       "|---|---|---|---|---|---|\n",
       "| noun_F | noun_F | 0.45 | $[0.08$, $0.83]$ | 2.43 | .019 |\n",
       "| noun_M | noun_M | 0.43 | $[0.05$, $0.80]$ | 2.29 | .026 |\n",
       "| verb_X | verb_X | 0.59 | $[0.22$, $0.97]$ | 3.18 | .003 |\n",
       "\n"
      ],
      "text/plain": [
       "       cond0  estimate ci               statistic p.value\n",
       "noun_F noun_F 0.45     $[0.08$, $0.83]$ 2.43      .019   \n",
       "noun_M noun_M 0.43     $[0.05$, $0.80]$ 2.29      .026   \n",
       "verb_X verb_X 0.59     $[0.22$, $0.97]$ 3.18      .003   "
      ]
     },
     "metadata": {},
     "output_type": "display_data"
    },
    {
     "data": {
      "text/markdown": [
       "### Paired comparisons for expected marginal means"
      ]
     },
     "metadata": {},
     "output_type": "display_data"
    },
    {
     "data": {
      "text/html": [
       "<table>\n",
       "<caption>A apa_results_table: 3 × 5</caption>\n",
       "<thead>\n",
       "\t<tr><th></th><th scope=col>contrast</th><th scope=col>estimate</th><th scope=col>ci</th><th scope=col>statistic</th><th scope=col>p.value</th></tr>\n",
       "\t<tr><th></th><th scope=col>&lt;ppj_lbll&gt;</th><th scope=col>&lt;ppj_lbll&gt;</th><th scope=col>&lt;ppj_lbll&gt;</th><th scope=col>&lt;ppj_lbll&gt;</th><th scope=col>&lt;ppj_lbll&gt;</th></tr>\n",
       "</thead>\n",
       "<tbody>\n",
       "\t<tr><th scope=row>noun_F_noun_M</th><td>noun_F - noun_M</td><td>0.03 </td><td>$[-0.23$, $0.28]$</td><td>0.24 </td><td>.969</td></tr>\n",
       "\t<tr><th scope=row>noun_F_verb_X</th><td>noun_F - verb_X</td><td>-0.14</td><td>$[-0.40$, $0.12]$</td><td>-1.31</td><td>.396</td></tr>\n",
       "\t<tr><th scope=row>noun_M_verb_X</th><td>noun_M - verb_X</td><td>-0.17</td><td>$[-0.42$, $0.09]$</td><td>-1.55</td><td>.275</td></tr>\n",
       "</tbody>\n",
       "</table>\n"
      ],
      "text/latex": [
       "A apa\\_results\\_table: 3 × 5\n",
       "\\begin{tabular}{r|lllll}\n",
       "  & contrast & estimate & ci & statistic & p.value\\\\\n",
       "  & <ppj\\_lbll> & <ppj\\_lbll> & <ppj\\_lbll> & <ppj\\_lbll> & <ppj\\_lbll>\\\\\n",
       "\\hline\n",
       "\tnoun\\_F\\_noun\\_M & noun\\_F - noun\\_M & 0.03  & \\${[}-0.23\\$, \\$0.28{]}\\$ & 0.24  & .969\\\\\n",
       "\tnoun\\_F\\_verb\\_X & noun\\_F - verb\\_X & -0.14 & \\${[}-0.40\\$, \\$0.12{]}\\$ & -1.31 & .396\\\\\n",
       "\tnoun\\_M\\_verb\\_X & noun\\_M - verb\\_X & -0.17 & \\${[}-0.42\\$, \\$0.09{]}\\$ & -1.55 & .275\\\\\n",
       "\\end{tabular}\n"
      ],
      "text/markdown": [
       "\n",
       "A apa_results_table: 3 × 5\n",
       "\n",
       "| <!--/--> | contrast &lt;ppj_lbll&gt; | estimate &lt;ppj_lbll&gt; | ci &lt;ppj_lbll&gt; | statistic &lt;ppj_lbll&gt; | p.value &lt;ppj_lbll&gt; |\n",
       "|---|---|---|---|---|---|\n",
       "| noun_F_noun_M | noun_F - noun_M | 0.03  | $[-0.23$, $0.28]$ | 0.24  | .969 |\n",
       "| noun_F_verb_X | noun_F - verb_X | -0.14 | $[-0.40$, $0.12]$ | -1.31 | .396 |\n",
       "| noun_M_verb_X | noun_M - verb_X | -0.17 | $[-0.42$, $0.09]$ | -1.55 | .275 |\n",
       "\n"
      ],
      "text/plain": [
       "              contrast        estimate ci                statistic p.value\n",
       "noun_F_noun_M noun_F - noun_M 0.03     $[-0.23$, $0.28]$ 0.24      .969   \n",
       "noun_F_verb_X noun_F - verb_X -0.14    $[-0.40$, $0.12]$ -1.31     .396   \n",
       "noun_M_verb_X noun_M - verb_X -0.17    $[-0.42$, $0.09]$ -1.55     .275   "
      ]
     },
     "metadata": {},
     "output_type": "display_data"
    }
   ],
   "source": [
    "IDX <- IDX+1; COND <- CONDS[IDX]\n",
    "data1 <- droplevels(subset(df1, eval(parse(text=COND)))); data1 <- data1[complete.cases(data1),]; done1 <- AOV4(data1,COND)\n",
    "display_markdown(str_c(\"# Condition \",IDX,\" of \",length(CONDS))); display_markdown(done1$info); display_markdown(\"### Table\"); done1$aov_APA$table; display_markdown(\"### Result\"); display_markdown(done1$aov_APA[[\"full_result\"]][[\"cond0\"]]); display_markdown(\"### Summary (all done1, incl. NANs)\"); done1$summary; display_markdown(\"### Expected marginal means\"); done1$emm_APA$table; display_markdown(\"### Paired comparisons for expected marginal means\"); done1$pairs_APA$table"
   ]
  },
  {
   "cell_type": "code",
   "execution_count": 48,
   "metadata": {},
   "outputs": [
    {
     "name": "stderr",
     "output_type": "stream",
     "text": [
      "Warning message:\n",
      "“Missing values for following ID(s):\n",
      "38slxm, 40asxm, 42aszm\n",
      "Removing those cases from the analysis.”\n",
      "Warning message in summary.Anova.mlm(x$Anova):\n",
      "“HF eps > 1 treated as 1”\n"
     ]
    },
    {
     "data": {
      "text/markdown": [
       "# Condition 31 of 72"
      ]
     },
     "metadata": {},
     "output_type": "display_data"
    },
    {
     "data": {
      "text/markdown": [
       "`tmin0==0.35 & chan0==\"RC\" & mode0==\"pos\"`"
      ]
     },
     "metadata": {},
     "output_type": "display_data"
    },
    {
     "data": {
      "text/markdown": [
       "### Table"
      ]
     },
     "metadata": {},
     "output_type": "display_data"
    },
    {
     "data": {
      "text/html": [
       "<table>\n",
       "<caption>A apa_results_table: 1 × 7</caption>\n",
       "<thead>\n",
       "\t<tr><th></th><th scope=col>Effect</th><th scope=col>F</th><th scope=col>df1</th><th scope=col>df2</th><th scope=col>MSE</th><th scope=col>p</th><th scope=col>ges</th></tr>\n",
       "\t<tr><th></th><th scope=col>&lt;ppj_lbll&gt;</th><th scope=col>&lt;ppj_lbll&gt;</th><th scope=col>&lt;ppj_lbll&gt;</th><th scope=col>&lt;ppj_lbll&gt;</th><th scope=col>&lt;ppj_lbll&gt;</th><th scope=col>&lt;ppj_lbll&gt;</th><th scope=col>&lt;ppj_lbll&gt;</th></tr>\n",
       "</thead>\n",
       "<tbody>\n",
       "\t<tr><th scope=row>1</th><td>Cond0</td><td>1.03</td><td>1.91</td><td>72.49</td><td>0.31</td><td>.360</td><td>.002</td></tr>\n",
       "</tbody>\n",
       "</table>\n"
      ],
      "text/latex": [
       "A apa\\_results\\_table: 1 × 7\n",
       "\\begin{tabular}{r|lllllll}\n",
       "  & Effect & F & df1 & df2 & MSE & p & ges\\\\\n",
       "  & <ppj\\_lbll> & <ppj\\_lbll> & <ppj\\_lbll> & <ppj\\_lbll> & <ppj\\_lbll> & <ppj\\_lbll> & <ppj\\_lbll>\\\\\n",
       "\\hline\n",
       "\t1 & Cond0 & 1.03 & 1.91 & 72.49 & 0.31 & .360 & .002\\\\\n",
       "\\end{tabular}\n"
      ],
      "text/markdown": [
       "\n",
       "A apa_results_table: 1 × 7\n",
       "\n",
       "| <!--/--> | Effect &lt;ppj_lbll&gt; | F &lt;ppj_lbll&gt; | df1 &lt;ppj_lbll&gt; | df2 &lt;ppj_lbll&gt; | MSE &lt;ppj_lbll&gt; | p &lt;ppj_lbll&gt; | ges &lt;ppj_lbll&gt; |\n",
       "|---|---|---|---|---|---|---|---|\n",
       "| 1 | Cond0 | 1.03 | 1.91 | 72.49 | 0.31 | .360 | .002 |\n",
       "\n"
      ],
      "text/plain": [
       "  Effect F    df1  df2   MSE  p    ges \n",
       "1 Cond0  1.03 1.91 72.49 0.31 .360 .002"
      ]
     },
     "metadata": {},
     "output_type": "display_data"
    },
    {
     "data": {
      "text/markdown": [
       "### Result"
      ]
     },
     "metadata": {},
     "output_type": "display_data"
    },
    {
     "data": {
      "text/markdown": [
       "$F(1.91, 72.49) = 1.03$, $\\mathit{MSE} = 0.31$, $p = .360$, $\\hat{\\eta}^2_G = .002$"
      ]
     },
     "metadata": {},
     "output_type": "display_data"
    },
    {
     "data": {
      "text/markdown": [
       "### Summary (all done1, incl. NANs)"
      ]
     },
     "metadata": {},
     "output_type": "display_data"
    },
    {
     "data": {
      "text/html": [
       "<table>\n",
       "<caption>A tibble: 3 × 5</caption>\n",
       "<thead>\n",
       "\t<tr><th scope=col>cond0</th><th scope=col>N</th><th scope=col>valX_M</th><th scope=col>valX_SD</th><th scope=col>valX_SE</th></tr>\n",
       "\t<tr><th scope=col>&lt;fct&gt;</th><th scope=col>&lt;int&gt;</th><th scope=col>&lt;dbl&gt;</th><th scope=col>&lt;dbl&gt;</th><th scope=col>&lt;dbl&gt;</th></tr>\n",
       "</thead>\n",
       "<tbody>\n",
       "\t<tr><td>noun_F</td><td>40</td><td>1.577825</td><td>1.622378</td><td>0.2565204</td></tr>\n",
       "\t<tr><td>noun_M</td><td>42</td><td>1.516462</td><td>1.361944</td><td>0.2101525</td></tr>\n",
       "\t<tr><td>verb_X</td><td>41</td><td>1.651723</td><td>1.570619</td><td>0.2452895</td></tr>\n",
       "</tbody>\n",
       "</table>\n"
      ],
      "text/latex": [
       "A tibble: 3 × 5\n",
       "\\begin{tabular}{lllll}\n",
       " cond0 & N & valX\\_M & valX\\_SD & valX\\_SE\\\\\n",
       " <fct> & <int> & <dbl> & <dbl> & <dbl>\\\\\n",
       "\\hline\n",
       "\t noun\\_F & 40 & 1.577825 & 1.622378 & 0.2565204\\\\\n",
       "\t noun\\_M & 42 & 1.516462 & 1.361944 & 0.2101525\\\\\n",
       "\t verb\\_X & 41 & 1.651723 & 1.570619 & 0.2452895\\\\\n",
       "\\end{tabular}\n"
      ],
      "text/markdown": [
       "\n",
       "A tibble: 3 × 5\n",
       "\n",
       "| cond0 &lt;fct&gt; | N &lt;int&gt; | valX_M &lt;dbl&gt; | valX_SD &lt;dbl&gt; | valX_SE &lt;dbl&gt; |\n",
       "|---|---|---|---|---|\n",
       "| noun_F | 40 | 1.577825 | 1.622378 | 0.2565204 |\n",
       "| noun_M | 42 | 1.516462 | 1.361944 | 0.2101525 |\n",
       "| verb_X | 41 | 1.651723 | 1.570619 | 0.2452895 |\n",
       "\n"
      ],
      "text/plain": [
       "  cond0  N  valX_M   valX_SD  valX_SE  \n",
       "1 noun_F 40 1.577825 1.622378 0.2565204\n",
       "2 noun_M 42 1.516462 1.361944 0.2101525\n",
       "3 verb_X 41 1.651723 1.570619 0.2452895"
      ]
     },
     "metadata": {},
     "output_type": "display_data"
    },
    {
     "data": {
      "text/markdown": [
       "### Expected marginal means"
      ]
     },
     "metadata": {},
     "output_type": "display_data"
    },
    {
     "data": {
      "text/html": [
       "<table>\n",
       "<caption>A apa_results_table: 3 × 5</caption>\n",
       "<thead>\n",
       "\t<tr><th></th><th scope=col>cond0</th><th scope=col>estimate</th><th scope=col>ci</th><th scope=col>statistic</th><th scope=col>p.value</th></tr>\n",
       "\t<tr><th></th><th scope=col>&lt;chr&gt;</th><th scope=col>&lt;ppj_lbll&gt;</th><th scope=col>&lt;ppj_lbll&gt;</th><th scope=col>&lt;ppj_lbll&gt;</th><th scope=col>&lt;ppj_lbll&gt;</th></tr>\n",
       "</thead>\n",
       "<tbody>\n",
       "\t<tr><th scope=row>noun_F</th><td>noun_F</td><td>1.59</td><td>$[1.10$, $2.09]$</td><td>6.49</td><td>&lt; .001</td></tr>\n",
       "\t<tr><th scope=row>noun_M</th><td>noun_M</td><td>1.47</td><td>$[0.97$, $1.96]$</td><td>5.98</td><td>&lt; .001</td></tr>\n",
       "\t<tr><th scope=row>verb_X</th><td>verb_X</td><td>1.64</td><td>$[1.15$, $2.14]$</td><td>6.69</td><td>&lt; .001</td></tr>\n",
       "</tbody>\n",
       "</table>\n"
      ],
      "text/latex": [
       "A apa\\_results\\_table: 3 × 5\n",
       "\\begin{tabular}{r|lllll}\n",
       "  & cond0 & estimate & ci & statistic & p.value\\\\\n",
       "  & <chr> & <ppj\\_lbll> & <ppj\\_lbll> & <ppj\\_lbll> & <ppj\\_lbll>\\\\\n",
       "\\hline\n",
       "\tnoun\\_F & noun\\_F & 1.59 & \\${[}1.10\\$, \\$2.09{]}\\$ & 6.49 & < .001\\\\\n",
       "\tnoun\\_M & noun\\_M & 1.47 & \\${[}0.97\\$, \\$1.96{]}\\$ & 5.98 & < .001\\\\\n",
       "\tverb\\_X & verb\\_X & 1.64 & \\${[}1.15\\$, \\$2.14{]}\\$ & 6.69 & < .001\\\\\n",
       "\\end{tabular}\n"
      ],
      "text/markdown": [
       "\n",
       "A apa_results_table: 3 × 5\n",
       "\n",
       "| <!--/--> | cond0 &lt;chr&gt; | estimate &lt;ppj_lbll&gt; | ci &lt;ppj_lbll&gt; | statistic &lt;ppj_lbll&gt; | p.value &lt;ppj_lbll&gt; |\n",
       "|---|---|---|---|---|---|\n",
       "| noun_F | noun_F | 1.59 | $[1.10$, $2.09]$ | 6.49 | &lt; .001 |\n",
       "| noun_M | noun_M | 1.47 | $[0.97$, $1.96]$ | 5.98 | &lt; .001 |\n",
       "| verb_X | verb_X | 1.64 | $[1.15$, $2.14]$ | 6.69 | &lt; .001 |\n",
       "\n"
      ],
      "text/plain": [
       "       cond0  estimate ci               statistic p.value\n",
       "noun_F noun_F 1.59     $[1.10$, $2.09]$ 6.49      < .001 \n",
       "noun_M noun_M 1.47     $[0.97$, $1.96]$ 5.98      < .001 \n",
       "verb_X verb_X 1.64     $[1.15$, $2.14]$ 6.69      < .001 "
      ]
     },
     "metadata": {},
     "output_type": "display_data"
    },
    {
     "data": {
      "text/markdown": [
       "### Paired comparisons for expected marginal means"
      ]
     },
     "metadata": {},
     "output_type": "display_data"
    },
    {
     "data": {
      "text/html": [
       "<table>\n",
       "<caption>A apa_results_table: 3 × 5</caption>\n",
       "<thead>\n",
       "\t<tr><th></th><th scope=col>contrast</th><th scope=col>estimate</th><th scope=col>ci</th><th scope=col>statistic</th><th scope=col>p.value</th></tr>\n",
       "\t<tr><th></th><th scope=col>&lt;ppj_lbll&gt;</th><th scope=col>&lt;ppj_lbll&gt;</th><th scope=col>&lt;ppj_lbll&gt;</th><th scope=col>&lt;ppj_lbll&gt;</th><th scope=col>&lt;ppj_lbll&gt;</th></tr>\n",
       "</thead>\n",
       "<tbody>\n",
       "\t<tr><th scope=row>noun_F_noun_M</th><td>noun_F - noun_M</td><td>0.12 </td><td>$[-0.17$, $0.42]$</td><td>0.99 </td><td>.584</td></tr>\n",
       "\t<tr><th scope=row>noun_F_verb_X</th><td>noun_F - verb_X</td><td>-0.05</td><td>$[-0.35$, $0.25]$</td><td>-0.40</td><td>.915</td></tr>\n",
       "\t<tr><th scope=row>noun_M_verb_X</th><td>noun_M - verb_X</td><td>-0.17</td><td>$[-0.47$, $0.12]$</td><td>-1.39</td><td>.349</td></tr>\n",
       "</tbody>\n",
       "</table>\n"
      ],
      "text/latex": [
       "A apa\\_results\\_table: 3 × 5\n",
       "\\begin{tabular}{r|lllll}\n",
       "  & contrast & estimate & ci & statistic & p.value\\\\\n",
       "  & <ppj\\_lbll> & <ppj\\_lbll> & <ppj\\_lbll> & <ppj\\_lbll> & <ppj\\_lbll>\\\\\n",
       "\\hline\n",
       "\tnoun\\_F\\_noun\\_M & noun\\_F - noun\\_M & 0.12  & \\${[}-0.17\\$, \\$0.42{]}\\$ & 0.99  & .584\\\\\n",
       "\tnoun\\_F\\_verb\\_X & noun\\_F - verb\\_X & -0.05 & \\${[}-0.35\\$, \\$0.25{]}\\$ & -0.40 & .915\\\\\n",
       "\tnoun\\_M\\_verb\\_X & noun\\_M - verb\\_X & -0.17 & \\${[}-0.47\\$, \\$0.12{]}\\$ & -1.39 & .349\\\\\n",
       "\\end{tabular}\n"
      ],
      "text/markdown": [
       "\n",
       "A apa_results_table: 3 × 5\n",
       "\n",
       "| <!--/--> | contrast &lt;ppj_lbll&gt; | estimate &lt;ppj_lbll&gt; | ci &lt;ppj_lbll&gt; | statistic &lt;ppj_lbll&gt; | p.value &lt;ppj_lbll&gt; |\n",
       "|---|---|---|---|---|---|\n",
       "| noun_F_noun_M | noun_F - noun_M | 0.12  | $[-0.17$, $0.42]$ | 0.99  | .584 |\n",
       "| noun_F_verb_X | noun_F - verb_X | -0.05 | $[-0.35$, $0.25]$ | -0.40 | .915 |\n",
       "| noun_M_verb_X | noun_M - verb_X | -0.17 | $[-0.47$, $0.12]$ | -1.39 | .349 |\n",
       "\n"
      ],
      "text/plain": [
       "              contrast        estimate ci                statistic p.value\n",
       "noun_F_noun_M noun_F - noun_M 0.12     $[-0.17$, $0.42]$ 0.99      .584   \n",
       "noun_F_verb_X noun_F - verb_X -0.05    $[-0.35$, $0.25]$ -0.40     .915   \n",
       "noun_M_verb_X noun_M - verb_X -0.17    $[-0.47$, $0.12]$ -1.39     .349   "
      ]
     },
     "metadata": {},
     "output_type": "display_data"
    }
   ],
   "source": [
    "IDX <- IDX+1; COND <- CONDS[IDX]\n",
    "data1 <- droplevels(subset(df1, eval(parse(text=COND)))); data1 <- data1[complete.cases(data1),]; done1 <- AOV4(data1,COND)\n",
    "display_markdown(str_c(\"# Condition \",IDX,\" of \",length(CONDS))); display_markdown(done1$info); display_markdown(\"### Table\"); done1$aov_APA$table; display_markdown(\"### Result\"); display_markdown(done1$aov_APA[[\"full_result\"]][[\"cond0\"]]); display_markdown(\"### Summary (all done1, incl. NANs)\"); done1$summary; display_markdown(\"### Expected marginal means\"); done1$emm_APA$table; display_markdown(\"### Paired comparisons for expected marginal means\"); done1$pairs_APA$table"
   ]
  },
  {
   "cell_type": "code",
   "execution_count": 49,
   "metadata": {},
   "outputs": [
    {
     "name": "stderr",
     "output_type": "stream",
     "text": [
      "Warning message:\n",
      "“Missing values for following ID(s):\n",
      "37lpxm, 40asxm\n",
      "Removing those cases from the analysis.”\n"
     ]
    },
    {
     "data": {
      "text/markdown": [
       "# Condition 32 of 72"
      ]
     },
     "metadata": {},
     "output_type": "display_data"
    },
    {
     "data": {
      "text/markdown": [
       "`tmin0==0.35 & chan0==\"RC\" & mode0==\"neg\"`"
      ]
     },
     "metadata": {},
     "output_type": "display_data"
    },
    {
     "data": {
      "text/markdown": [
       "### Table"
      ]
     },
     "metadata": {},
     "output_type": "display_data"
    },
    {
     "data": {
      "text/html": [
       "<table>\n",
       "<caption>A apa_results_table: 1 × 7</caption>\n",
       "<thead>\n",
       "\t<tr><th></th><th scope=col>Effect</th><th scope=col>F</th><th scope=col>df1</th><th scope=col>df2</th><th scope=col>MSE</th><th scope=col>p</th><th scope=col>ges</th></tr>\n",
       "\t<tr><th></th><th scope=col>&lt;ppj_lbll&gt;</th><th scope=col>&lt;ppj_lbll&gt;</th><th scope=col>&lt;ppj_lbll&gt;</th><th scope=col>&lt;ppj_lbll&gt;</th><th scope=col>&lt;ppj_lbll&gt;</th><th scope=col>&lt;ppj_lbll&gt;</th><th scope=col>&lt;ppj_lbll&gt;</th></tr>\n",
       "</thead>\n",
       "<tbody>\n",
       "\t<tr><th scope=row>1</th><td>Cond0</td><td>6.51</td><td>1.73</td><td>67.65</td><td>0.33</td><td>.004</td><td>.015</td></tr>\n",
       "</tbody>\n",
       "</table>\n"
      ],
      "text/latex": [
       "A apa\\_results\\_table: 1 × 7\n",
       "\\begin{tabular}{r|lllllll}\n",
       "  & Effect & F & df1 & df2 & MSE & p & ges\\\\\n",
       "  & <ppj\\_lbll> & <ppj\\_lbll> & <ppj\\_lbll> & <ppj\\_lbll> & <ppj\\_lbll> & <ppj\\_lbll> & <ppj\\_lbll>\\\\\n",
       "\\hline\n",
       "\t1 & Cond0 & 6.51 & 1.73 & 67.65 & 0.33 & .004 & .015\\\\\n",
       "\\end{tabular}\n"
      ],
      "text/markdown": [
       "\n",
       "A apa_results_table: 1 × 7\n",
       "\n",
       "| <!--/--> | Effect &lt;ppj_lbll&gt; | F &lt;ppj_lbll&gt; | df1 &lt;ppj_lbll&gt; | df2 &lt;ppj_lbll&gt; | MSE &lt;ppj_lbll&gt; | p &lt;ppj_lbll&gt; | ges &lt;ppj_lbll&gt; |\n",
       "|---|---|---|---|---|---|---|---|\n",
       "| 1 | Cond0 | 6.51 | 1.73 | 67.65 | 0.33 | .004 | .015 |\n",
       "\n"
      ],
      "text/plain": [
       "  Effect F    df1  df2   MSE  p    ges \n",
       "1 Cond0  6.51 1.73 67.65 0.33 .004 .015"
      ]
     },
     "metadata": {},
     "output_type": "display_data"
    },
    {
     "data": {
      "text/markdown": [
       "### Result"
      ]
     },
     "metadata": {},
     "output_type": "display_data"
    },
    {
     "data": {
      "text/markdown": [
       "$F(1.73, 67.65) = 6.51$, $\\mathit{MSE} = 0.33$, $p = .004$, $\\hat{\\eta}^2_G = .015$"
      ]
     },
     "metadata": {},
     "output_type": "display_data"
    },
    {
     "data": {
      "text/markdown": [
       "### Summary (all done1, incl. NANs)"
      ]
     },
     "metadata": {},
     "output_type": "display_data"
    },
    {
     "data": {
      "text/html": [
       "<table>\n",
       "<caption>A tibble: 3 × 5</caption>\n",
       "<thead>\n",
       "\t<tr><th scope=col>cond0</th><th scope=col>N</th><th scope=col>valX_M</th><th scope=col>valX_SD</th><th scope=col>valX_SE</th></tr>\n",
       "\t<tr><th scope=col>&lt;fct&gt;</th><th scope=col>&lt;int&gt;</th><th scope=col>&lt;dbl&gt;</th><th scope=col>&lt;dbl&gt;</th><th scope=col>&lt;dbl&gt;</th></tr>\n",
       "</thead>\n",
       "<tbody>\n",
       "\t<tr><td>noun_F</td><td>42</td><td>0.6485346</td><td>1.508217</td><td>0.2327229</td></tr>\n",
       "\t<tr><td>noun_M</td><td>42</td><td>0.3911677</td><td>1.642567</td><td>0.2534536</td></tr>\n",
       "\t<tr><td>verb_X</td><td>40</td><td>0.7255953</td><td>1.484348</td><td>0.2346960</td></tr>\n",
       "</tbody>\n",
       "</table>\n"
      ],
      "text/latex": [
       "A tibble: 3 × 5\n",
       "\\begin{tabular}{lllll}\n",
       " cond0 & N & valX\\_M & valX\\_SD & valX\\_SE\\\\\n",
       " <fct> & <int> & <dbl> & <dbl> & <dbl>\\\\\n",
       "\\hline\n",
       "\t noun\\_F & 42 & 0.6485346 & 1.508217 & 0.2327229\\\\\n",
       "\t noun\\_M & 42 & 0.3911677 & 1.642567 & 0.2534536\\\\\n",
       "\t verb\\_X & 40 & 0.7255953 & 1.484348 & 0.2346960\\\\\n",
       "\\end{tabular}\n"
      ],
      "text/markdown": [
       "\n",
       "A tibble: 3 × 5\n",
       "\n",
       "| cond0 &lt;fct&gt; | N &lt;int&gt; | valX_M &lt;dbl&gt; | valX_SD &lt;dbl&gt; | valX_SE &lt;dbl&gt; |\n",
       "|---|---|---|---|---|\n",
       "| noun_F | 42 | 0.6485346 | 1.508217 | 0.2327229 |\n",
       "| noun_M | 42 | 0.3911677 | 1.642567 | 0.2534536 |\n",
       "| verb_X | 40 | 0.7255953 | 1.484348 | 0.2346960 |\n",
       "\n"
      ],
      "text/plain": [
       "  cond0  N  valX_M    valX_SD  valX_SE  \n",
       "1 noun_F 42 0.6485346 1.508217 0.2327229\n",
       "2 noun_M 42 0.3911677 1.642567 0.2534536\n",
       "3 verb_X 40 0.7255953 1.484348 0.2346960"
      ]
     },
     "metadata": {},
     "output_type": "display_data"
    },
    {
     "data": {
      "text/markdown": [
       "### Expected marginal means"
      ]
     },
     "metadata": {},
     "output_type": "display_data"
    },
    {
     "data": {
      "text/html": [
       "<table>\n",
       "<caption>A apa_results_table: 3 × 5</caption>\n",
       "<thead>\n",
       "\t<tr><th></th><th scope=col>cond0</th><th scope=col>estimate</th><th scope=col>ci</th><th scope=col>statistic</th><th scope=col>p.value</th></tr>\n",
       "\t<tr><th></th><th scope=col>&lt;chr&gt;</th><th scope=col>&lt;ppj_lbll&gt;</th><th scope=col>&lt;ppj_lbll&gt;</th><th scope=col>&lt;ppj_lbll&gt;</th><th scope=col>&lt;ppj_lbll&gt;</th></tr>\n",
       "</thead>\n",
       "<tbody>\n",
       "\t<tr><th scope=row>noun_F</th><td>noun_F</td><td>0.56</td><td>$[0.10$, $1.03]$ </td><td>2.43</td><td>.019</td></tr>\n",
       "\t<tr><th scope=row>noun_M</th><td>noun_M</td><td>0.30</td><td>$[-0.17$, $0.76]$</td><td>1.28</td><td>.207</td></tr>\n",
       "\t<tr><th scope=row>verb_X</th><td>verb_X</td><td>0.73</td><td>$[0.26$, $1.19]$ </td><td>3.13</td><td>.003</td></tr>\n",
       "</tbody>\n",
       "</table>\n"
      ],
      "text/latex": [
       "A apa\\_results\\_table: 3 × 5\n",
       "\\begin{tabular}{r|lllll}\n",
       "  & cond0 & estimate & ci & statistic & p.value\\\\\n",
       "  & <chr> & <ppj\\_lbll> & <ppj\\_lbll> & <ppj\\_lbll> & <ppj\\_lbll>\\\\\n",
       "\\hline\n",
       "\tnoun\\_F & noun\\_F & 0.56 & \\${[}0.10\\$, \\$1.03{]}\\$  & 2.43 & .019\\\\\n",
       "\tnoun\\_M & noun\\_M & 0.30 & \\${[}-0.17\\$, \\$0.76{]}\\$ & 1.28 & .207\\\\\n",
       "\tverb\\_X & verb\\_X & 0.73 & \\${[}0.26\\$, \\$1.19{]}\\$  & 3.13 & .003\\\\\n",
       "\\end{tabular}\n"
      ],
      "text/markdown": [
       "\n",
       "A apa_results_table: 3 × 5\n",
       "\n",
       "| <!--/--> | cond0 &lt;chr&gt; | estimate &lt;ppj_lbll&gt; | ci &lt;ppj_lbll&gt; | statistic &lt;ppj_lbll&gt; | p.value &lt;ppj_lbll&gt; |\n",
       "|---|---|---|---|---|---|\n",
       "| noun_F | noun_F | 0.56 | $[0.10$, $1.03]$  | 2.43 | .019 |\n",
       "| noun_M | noun_M | 0.30 | $[-0.17$, $0.76]$ | 1.28 | .207 |\n",
       "| verb_X | verb_X | 0.73 | $[0.26$, $1.19]$  | 3.13 | .003 |\n",
       "\n"
      ],
      "text/plain": [
       "       cond0  estimate ci                statistic p.value\n",
       "noun_F noun_F 0.56     $[0.10$, $1.03]$  2.43      .019   \n",
       "noun_M noun_M 0.30     $[-0.17$, $0.76]$ 1.28      .207   \n",
       "verb_X verb_X 0.73     $[0.26$, $1.19]$  3.13      .003   "
      ]
     },
     "metadata": {},
     "output_type": "display_data"
    },
    {
     "data": {
      "text/markdown": [
       "### Paired comparisons for expected marginal means"
      ]
     },
     "metadata": {},
     "output_type": "display_data"
    },
    {
     "data": {
      "text/html": [
       "<table>\n",
       "<caption>A apa_results_table: 3 × 5</caption>\n",
       "<thead>\n",
       "\t<tr><th></th><th scope=col>contrast</th><th scope=col>estimate</th><th scope=col>ci</th><th scope=col>statistic</th><th scope=col>p.value</th></tr>\n",
       "\t<tr><th></th><th scope=col>&lt;ppj_lbll&gt;</th><th scope=col>&lt;ppj_lbll&gt;</th><th scope=col>&lt;ppj_lbll&gt;</th><th scope=col>&lt;ppj_lbll&gt;</th><th scope=col>&lt;ppj_lbll&gt;</th></tr>\n",
       "</thead>\n",
       "<tbody>\n",
       "\t<tr><th scope=row>noun_F_noun_M</th><td>noun_F - noun_M</td><td>0.27 </td><td>$[-0.02$, $0.55]$ </td><td>2.22 </td><td>.073</td></tr>\n",
       "\t<tr><th scope=row>noun_F_verb_X</th><td>noun_F - verb_X</td><td>-0.16</td><td>$[-0.45$, $0.12]$ </td><td>-1.35</td><td>.372</td></tr>\n",
       "\t<tr><th scope=row>noun_M_verb_X</th><td>noun_M - verb_X</td><td>-0.43</td><td>$[-0.72$, $-0.14]$</td><td>-3.57</td><td>.002</td></tr>\n",
       "</tbody>\n",
       "</table>\n"
      ],
      "text/latex": [
       "A apa\\_results\\_table: 3 × 5\n",
       "\\begin{tabular}{r|lllll}\n",
       "  & contrast & estimate & ci & statistic & p.value\\\\\n",
       "  & <ppj\\_lbll> & <ppj\\_lbll> & <ppj\\_lbll> & <ppj\\_lbll> & <ppj\\_lbll>\\\\\n",
       "\\hline\n",
       "\tnoun\\_F\\_noun\\_M & noun\\_F - noun\\_M & 0.27  & \\${[}-0.02\\$, \\$0.55{]}\\$  & 2.22  & .073\\\\\n",
       "\tnoun\\_F\\_verb\\_X & noun\\_F - verb\\_X & -0.16 & \\${[}-0.45\\$, \\$0.12{]}\\$  & -1.35 & .372\\\\\n",
       "\tnoun\\_M\\_verb\\_X & noun\\_M - verb\\_X & -0.43 & \\${[}-0.72\\$, \\$-0.14{]}\\$ & -3.57 & .002\\\\\n",
       "\\end{tabular}\n"
      ],
      "text/markdown": [
       "\n",
       "A apa_results_table: 3 × 5\n",
       "\n",
       "| <!--/--> | contrast &lt;ppj_lbll&gt; | estimate &lt;ppj_lbll&gt; | ci &lt;ppj_lbll&gt; | statistic &lt;ppj_lbll&gt; | p.value &lt;ppj_lbll&gt; |\n",
       "|---|---|---|---|---|---|\n",
       "| noun_F_noun_M | noun_F - noun_M | 0.27  | $[-0.02$, $0.55]$  | 2.22  | .073 |\n",
       "| noun_F_verb_X | noun_F - verb_X | -0.16 | $[-0.45$, $0.12]$  | -1.35 | .372 |\n",
       "| noun_M_verb_X | noun_M - verb_X | -0.43 | $[-0.72$, $-0.14]$ | -3.57 | .002 |\n",
       "\n"
      ],
      "text/plain": [
       "              contrast        estimate ci                 statistic p.value\n",
       "noun_F_noun_M noun_F - noun_M 0.27     $[-0.02$, $0.55]$  2.22      .073   \n",
       "noun_F_verb_X noun_F - verb_X -0.16    $[-0.45$, $0.12]$  -1.35     .372   \n",
       "noun_M_verb_X noun_M - verb_X -0.43    $[-0.72$, $-0.14]$ -3.57     .002   "
      ]
     },
     "metadata": {},
     "output_type": "display_data"
    }
   ],
   "source": [
    "IDX <- IDX+1; COND <- CONDS[IDX]\n",
    "data1 <- droplevels(subset(df1, eval(parse(text=COND)))); data1 <- data1[complete.cases(data1),]; done1 <- AOV4(data1,COND)\n",
    "display_markdown(str_c(\"# Condition \",IDX,\" of \",length(CONDS))); display_markdown(done1$info); display_markdown(\"### Table\"); done1$aov_APA$table; display_markdown(\"### Result\"); display_markdown(done1$aov_APA[[\"full_result\"]][[\"cond0\"]]); display_markdown(\"### Summary (all done1, incl. NANs)\"); done1$summary; display_markdown(\"### Expected marginal means\"); done1$emm_APA$table; display_markdown(\"### Paired comparisons for expected marginal means\"); done1$pairs_APA$table"
   ]
  },
  {
   "cell_type": "code",
   "execution_count": 50,
   "metadata": {},
   "outputs": [
    {
     "name": "stderr",
     "output_type": "stream",
     "text": [
      "Warning message:\n",
      "“Missing values for following ID(s):\n",
      "08pnxm, 28pmsf, 32mjxf, 34gsxm, 35mwxm\n",
      "Removing those cases from the analysis.”\n",
      "Warning message in summary.Anova.mlm(x$Anova):\n",
      "“HF eps > 1 treated as 1”\n"
     ]
    },
    {
     "data": {
      "text/markdown": [
       "# Condition 33 of 72"
      ]
     },
     "metadata": {},
     "output_type": "display_data"
    },
    {
     "data": {
      "text/markdown": [
       "`tmin0==0.35 & chan0==\"LP\" & mode0==\"pos\"`"
      ]
     },
     "metadata": {},
     "output_type": "display_data"
    },
    {
     "data": {
      "text/markdown": [
       "### Table"
      ]
     },
     "metadata": {},
     "output_type": "display_data"
    },
    {
     "data": {
      "text/html": [
       "<table>\n",
       "<caption>A apa_results_table: 1 × 7</caption>\n",
       "<thead>\n",
       "\t<tr><th></th><th scope=col>Effect</th><th scope=col>F</th><th scope=col>df1</th><th scope=col>df2</th><th scope=col>MSE</th><th scope=col>p</th><th scope=col>ges</th></tr>\n",
       "\t<tr><th></th><th scope=col>&lt;ppj_lbll&gt;</th><th scope=col>&lt;ppj_lbll&gt;</th><th scope=col>&lt;ppj_lbll&gt;</th><th scope=col>&lt;ppj_lbll&gt;</th><th scope=col>&lt;ppj_lbll&gt;</th><th scope=col>&lt;ppj_lbll&gt;</th><th scope=col>&lt;ppj_lbll&gt;</th></tr>\n",
       "</thead>\n",
       "<tbody>\n",
       "\t<tr><th scope=row>1</th><td>Cond0</td><td>3.07</td><td>1.96</td><td>68.51</td><td>0.49</td><td>.054</td><td>.005</td></tr>\n",
       "</tbody>\n",
       "</table>\n"
      ],
      "text/latex": [
       "A apa\\_results\\_table: 1 × 7\n",
       "\\begin{tabular}{r|lllllll}\n",
       "  & Effect & F & df1 & df2 & MSE & p & ges\\\\\n",
       "  & <ppj\\_lbll> & <ppj\\_lbll> & <ppj\\_lbll> & <ppj\\_lbll> & <ppj\\_lbll> & <ppj\\_lbll> & <ppj\\_lbll>\\\\\n",
       "\\hline\n",
       "\t1 & Cond0 & 3.07 & 1.96 & 68.51 & 0.49 & .054 & .005\\\\\n",
       "\\end{tabular}\n"
      ],
      "text/markdown": [
       "\n",
       "A apa_results_table: 1 × 7\n",
       "\n",
       "| <!--/--> | Effect &lt;ppj_lbll&gt; | F &lt;ppj_lbll&gt; | df1 &lt;ppj_lbll&gt; | df2 &lt;ppj_lbll&gt; | MSE &lt;ppj_lbll&gt; | p &lt;ppj_lbll&gt; | ges &lt;ppj_lbll&gt; |\n",
       "|---|---|---|---|---|---|---|---|\n",
       "| 1 | Cond0 | 3.07 | 1.96 | 68.51 | 0.49 | .054 | .005 |\n",
       "\n"
      ],
      "text/plain": [
       "  Effect F    df1  df2   MSE  p    ges \n",
       "1 Cond0  3.07 1.96 68.51 0.49 .054 .005"
      ]
     },
     "metadata": {},
     "output_type": "display_data"
    },
    {
     "data": {
      "text/markdown": [
       "### Result"
      ]
     },
     "metadata": {},
     "output_type": "display_data"
    },
    {
     "data": {
      "text/markdown": [
       "$F(1.96, 68.51) = 3.07$, $\\mathit{MSE} = 0.49$, $p = .054$, $\\hat{\\eta}^2_G = .005$"
      ]
     },
     "metadata": {},
     "output_type": "display_data"
    },
    {
     "data": {
      "text/markdown": [
       "### Summary (all done1, incl. NANs)"
      ]
     },
     "metadata": {},
     "output_type": "display_data"
    },
    {
     "data": {
      "text/html": [
       "<table>\n",
       "<caption>A tibble: 3 × 5</caption>\n",
       "<thead>\n",
       "\t<tr><th scope=col>cond0</th><th scope=col>N</th><th scope=col>valX_M</th><th scope=col>valX_SD</th><th scope=col>valX_SE</th></tr>\n",
       "\t<tr><th scope=col>&lt;fct&gt;</th><th scope=col>&lt;int&gt;</th><th scope=col>&lt;dbl&gt;</th><th scope=col>&lt;dbl&gt;</th><th scope=col>&lt;dbl&gt;</th></tr>\n",
       "</thead>\n",
       "<tbody>\n",
       "\t<tr><td>noun_F</td><td>40</td><td>2.498768</td><td>2.525809</td><td>0.3993655</td></tr>\n",
       "\t<tr><td>noun_M</td><td>38</td><td>3.057710</td><td>2.177233</td><td>0.3531938</td></tr>\n",
       "\t<tr><td>verb_X</td><td>39</td><td>2.630638</td><td>2.368774</td><td>0.3793073</td></tr>\n",
       "</tbody>\n",
       "</table>\n"
      ],
      "text/latex": [
       "A tibble: 3 × 5\n",
       "\\begin{tabular}{lllll}\n",
       " cond0 & N & valX\\_M & valX\\_SD & valX\\_SE\\\\\n",
       " <fct> & <int> & <dbl> & <dbl> & <dbl>\\\\\n",
       "\\hline\n",
       "\t noun\\_F & 40 & 2.498768 & 2.525809 & 0.3993655\\\\\n",
       "\t noun\\_M & 38 & 3.057710 & 2.177233 & 0.3531938\\\\\n",
       "\t verb\\_X & 39 & 2.630638 & 2.368774 & 0.3793073\\\\\n",
       "\\end{tabular}\n"
      ],
      "text/markdown": [
       "\n",
       "A tibble: 3 × 5\n",
       "\n",
       "| cond0 &lt;fct&gt; | N &lt;int&gt; | valX_M &lt;dbl&gt; | valX_SD &lt;dbl&gt; | valX_SE &lt;dbl&gt; |\n",
       "|---|---|---|---|---|\n",
       "| noun_F | 40 | 2.498768 | 2.525809 | 0.3993655 |\n",
       "| noun_M | 38 | 3.057710 | 2.177233 | 0.3531938 |\n",
       "| verb_X | 39 | 2.630638 | 2.368774 | 0.3793073 |\n",
       "\n"
      ],
      "text/plain": [
       "  cond0  N  valX_M   valX_SD  valX_SE  \n",
       "1 noun_F 40 2.498768 2.525809 0.3993655\n",
       "2 noun_M 38 3.057710 2.177233 0.3531938\n",
       "3 verb_X 39 2.630638 2.368774 0.3793073"
      ]
     },
     "metadata": {},
     "output_type": "display_data"
    },
    {
     "data": {
      "text/markdown": [
       "### Expected marginal means"
      ]
     },
     "metadata": {},
     "output_type": "display_data"
    },
    {
     "data": {
      "text/html": [
       "<table>\n",
       "<caption>A apa_results_table: 3 × 5</caption>\n",
       "<thead>\n",
       "\t<tr><th></th><th scope=col>cond0</th><th scope=col>estimate</th><th scope=col>ci</th><th scope=col>statistic</th><th scope=col>p.value</th></tr>\n",
       "\t<tr><th></th><th scope=col>&lt;chr&gt;</th><th scope=col>&lt;ppj_lbll&gt;</th><th scope=col>&lt;ppj_lbll&gt;</th><th scope=col>&lt;ppj_lbll&gt;</th><th scope=col>&lt;ppj_lbll&gt;</th></tr>\n",
       "</thead>\n",
       "<tbody>\n",
       "\t<tr><th scope=row>noun_F</th><td>noun_F</td><td>2.55</td><td>$[1.74$, $3.35]$</td><td>6.41</td><td>&lt; .001</td></tr>\n",
       "\t<tr><th scope=row>noun_M</th><td>noun_M</td><td>2.94</td><td>$[2.13$, $3.74]$</td><td>7.39</td><td>&lt; .001</td></tr>\n",
       "\t<tr><th scope=row>verb_X</th><td>verb_X</td><td>2.65</td><td>$[1.84$, $3.45]$</td><td>6.67</td><td>&lt; .001</td></tr>\n",
       "</tbody>\n",
       "</table>\n"
      ],
      "text/latex": [
       "A apa\\_results\\_table: 3 × 5\n",
       "\\begin{tabular}{r|lllll}\n",
       "  & cond0 & estimate & ci & statistic & p.value\\\\\n",
       "  & <chr> & <ppj\\_lbll> & <ppj\\_lbll> & <ppj\\_lbll> & <ppj\\_lbll>\\\\\n",
       "\\hline\n",
       "\tnoun\\_F & noun\\_F & 2.55 & \\${[}1.74\\$, \\$3.35{]}\\$ & 6.41 & < .001\\\\\n",
       "\tnoun\\_M & noun\\_M & 2.94 & \\${[}2.13\\$, \\$3.74{]}\\$ & 7.39 & < .001\\\\\n",
       "\tverb\\_X & verb\\_X & 2.65 & \\${[}1.84\\$, \\$3.45{]}\\$ & 6.67 & < .001\\\\\n",
       "\\end{tabular}\n"
      ],
      "text/markdown": [
       "\n",
       "A apa_results_table: 3 × 5\n",
       "\n",
       "| <!--/--> | cond0 &lt;chr&gt; | estimate &lt;ppj_lbll&gt; | ci &lt;ppj_lbll&gt; | statistic &lt;ppj_lbll&gt; | p.value &lt;ppj_lbll&gt; |\n",
       "|---|---|---|---|---|---|\n",
       "| noun_F | noun_F | 2.55 | $[1.74$, $3.35]$ | 6.41 | &lt; .001 |\n",
       "| noun_M | noun_M | 2.94 | $[2.13$, $3.74]$ | 7.39 | &lt; .001 |\n",
       "| verb_X | verb_X | 2.65 | $[1.84$, $3.45]$ | 6.67 | &lt; .001 |\n",
       "\n"
      ],
      "text/plain": [
       "       cond0  estimate ci               statistic p.value\n",
       "noun_F noun_F 2.55     $[1.74$, $3.35]$ 6.41      < .001 \n",
       "noun_M noun_M 2.94     $[2.13$, $3.74]$ 7.39      < .001 \n",
       "verb_X verb_X 2.65     $[1.84$, $3.45]$ 6.67      < .001 "
      ]
     },
     "metadata": {},
     "output_type": "display_data"
    },
    {
     "data": {
      "text/markdown": [
       "### Paired comparisons for expected marginal means"
      ]
     },
     "metadata": {},
     "output_type": "display_data"
    },
    {
     "data": {
      "text/html": [
       "<table>\n",
       "<caption>A apa_results_table: 3 × 5</caption>\n",
       "<thead>\n",
       "\t<tr><th></th><th scope=col>contrast</th><th scope=col>estimate</th><th scope=col>ci</th><th scope=col>statistic</th><th scope=col>p.value</th></tr>\n",
       "\t<tr><th></th><th scope=col>&lt;ppj_lbll&gt;</th><th scope=col>&lt;ppj_lbll&gt;</th><th scope=col>&lt;ppj_lbll&gt;</th><th scope=col>&lt;ppj_lbll&gt;</th><th scope=col>&lt;ppj_lbll&gt;</th></tr>\n",
       "</thead>\n",
       "<tbody>\n",
       "\t<tr><th scope=row>noun_F_noun_M</th><td>noun_F - noun_M</td><td>-0.39</td><td>$[-0.78$, $0.00]$</td><td>-2.39</td><td>.051</td></tr>\n",
       "\t<tr><th scope=row>noun_F_verb_X</th><td>noun_F - verb_X</td><td>-0.10</td><td>$[-0.49$, $0.29]$</td><td>-0.62</td><td>.809</td></tr>\n",
       "\t<tr><th scope=row>noun_M_verb_X</th><td>noun_M - verb_X</td><td>0.29 </td><td>$[-0.10$, $0.68]$</td><td>1.77 </td><td>.188</td></tr>\n",
       "</tbody>\n",
       "</table>\n"
      ],
      "text/latex": [
       "A apa\\_results\\_table: 3 × 5\n",
       "\\begin{tabular}{r|lllll}\n",
       "  & contrast & estimate & ci & statistic & p.value\\\\\n",
       "  & <ppj\\_lbll> & <ppj\\_lbll> & <ppj\\_lbll> & <ppj\\_lbll> & <ppj\\_lbll>\\\\\n",
       "\\hline\n",
       "\tnoun\\_F\\_noun\\_M & noun\\_F - noun\\_M & -0.39 & \\${[}-0.78\\$, \\$0.00{]}\\$ & -2.39 & .051\\\\\n",
       "\tnoun\\_F\\_verb\\_X & noun\\_F - verb\\_X & -0.10 & \\${[}-0.49\\$, \\$0.29{]}\\$ & -0.62 & .809\\\\\n",
       "\tnoun\\_M\\_verb\\_X & noun\\_M - verb\\_X & 0.29  & \\${[}-0.10\\$, \\$0.68{]}\\$ & 1.77  & .188\\\\\n",
       "\\end{tabular}\n"
      ],
      "text/markdown": [
       "\n",
       "A apa_results_table: 3 × 5\n",
       "\n",
       "| <!--/--> | contrast &lt;ppj_lbll&gt; | estimate &lt;ppj_lbll&gt; | ci &lt;ppj_lbll&gt; | statistic &lt;ppj_lbll&gt; | p.value &lt;ppj_lbll&gt; |\n",
       "|---|---|---|---|---|---|\n",
       "| noun_F_noun_M | noun_F - noun_M | -0.39 | $[-0.78$, $0.00]$ | -2.39 | .051 |\n",
       "| noun_F_verb_X | noun_F - verb_X | -0.10 | $[-0.49$, $0.29]$ | -0.62 | .809 |\n",
       "| noun_M_verb_X | noun_M - verb_X | 0.29  | $[-0.10$, $0.68]$ | 1.77  | .188 |\n",
       "\n"
      ],
      "text/plain": [
       "              contrast        estimate ci                statistic p.value\n",
       "noun_F_noun_M noun_F - noun_M -0.39    $[-0.78$, $0.00]$ -2.39     .051   \n",
       "noun_F_verb_X noun_F - verb_X -0.10    $[-0.49$, $0.29]$ -0.62     .809   \n",
       "noun_M_verb_X noun_M - verb_X 0.29     $[-0.10$, $0.68]$ 1.77      .188   "
      ]
     },
     "metadata": {},
     "output_type": "display_data"
    }
   ],
   "source": [
    "IDX <- IDX+1; COND <- CONDS[IDX]\n",
    "data1 <- droplevels(subset(df1, eval(parse(text=COND)))); data1 <- data1[complete.cases(data1),]; done1 <- AOV4(data1,COND)\n",
    "display_markdown(str_c(\"# Condition \",IDX,\" of \",length(CONDS))); display_markdown(done1$info); display_markdown(\"### Table\"); done1$aov_APA$table; display_markdown(\"### Result\"); display_markdown(done1$aov_APA[[\"full_result\"]][[\"cond0\"]]); display_markdown(\"### Summary (all done1, incl. NANs)\"); done1$summary; display_markdown(\"### Expected marginal means\"); done1$emm_APA$table; display_markdown(\"### Paired comparisons for expected marginal means\"); done1$pairs_APA$table"
   ]
  },
  {
   "cell_type": "code",
   "execution_count": 51,
   "metadata": {},
   "outputs": [
    {
     "name": "stderr",
     "output_type": "stream",
     "text": [
      "Warning message:\n",
      "“Missing values for following ID(s):\n",
      "20jpxf, 42aszm\n",
      "Removing those cases from the analysis.”\n",
      "Warning message in summary.Anova.mlm(x$Anova):\n",
      "“HF eps > 1 treated as 1”\n"
     ]
    },
    {
     "data": {
      "text/markdown": [
       "# Condition 34 of 72"
      ]
     },
     "metadata": {},
     "output_type": "display_data"
    },
    {
     "data": {
      "text/markdown": [
       "`tmin0==0.35 & chan0==\"LP\" & mode0==\"neg\"`"
      ]
     },
     "metadata": {},
     "output_type": "display_data"
    },
    {
     "data": {
      "text/markdown": [
       "### Table"
      ]
     },
     "metadata": {},
     "output_type": "display_data"
    },
    {
     "data": {
      "text/html": [
       "<table>\n",
       "<caption>A apa_results_table: 1 × 7</caption>\n",
       "<thead>\n",
       "\t<tr><th></th><th scope=col>Effect</th><th scope=col>F</th><th scope=col>df1</th><th scope=col>df2</th><th scope=col>MSE</th><th scope=col>p</th><th scope=col>ges</th></tr>\n",
       "\t<tr><th></th><th scope=col>&lt;ppj_lbll&gt;</th><th scope=col>&lt;ppj_lbll&gt;</th><th scope=col>&lt;ppj_lbll&gt;</th><th scope=col>&lt;ppj_lbll&gt;</th><th scope=col>&lt;ppj_lbll&gt;</th><th scope=col>&lt;ppj_lbll&gt;</th><th scope=col>&lt;ppj_lbll&gt;</th></tr>\n",
       "</thead>\n",
       "<tbody>\n",
       "\t<tr><th scope=row>1</th><td>Cond0</td><td>3.25</td><td>1.99</td><td>77.74</td><td>0.49</td><td>.044</td><td>.006</td></tr>\n",
       "</tbody>\n",
       "</table>\n"
      ],
      "text/latex": [
       "A apa\\_results\\_table: 1 × 7\n",
       "\\begin{tabular}{r|lllllll}\n",
       "  & Effect & F & df1 & df2 & MSE & p & ges\\\\\n",
       "  & <ppj\\_lbll> & <ppj\\_lbll> & <ppj\\_lbll> & <ppj\\_lbll> & <ppj\\_lbll> & <ppj\\_lbll> & <ppj\\_lbll>\\\\\n",
       "\\hline\n",
       "\t1 & Cond0 & 3.25 & 1.99 & 77.74 & 0.49 & .044 & .006\\\\\n",
       "\\end{tabular}\n"
      ],
      "text/markdown": [
       "\n",
       "A apa_results_table: 1 × 7\n",
       "\n",
       "| <!--/--> | Effect &lt;ppj_lbll&gt; | F &lt;ppj_lbll&gt; | df1 &lt;ppj_lbll&gt; | df2 &lt;ppj_lbll&gt; | MSE &lt;ppj_lbll&gt; | p &lt;ppj_lbll&gt; | ges &lt;ppj_lbll&gt; |\n",
       "|---|---|---|---|---|---|---|---|\n",
       "| 1 | Cond0 | 3.25 | 1.99 | 77.74 | 0.49 | .044 | .006 |\n",
       "\n"
      ],
      "text/plain": [
       "  Effect F    df1  df2   MSE  p    ges \n",
       "1 Cond0  3.25 1.99 77.74 0.49 .044 .006"
      ]
     },
     "metadata": {},
     "output_type": "display_data"
    },
    {
     "data": {
      "text/markdown": [
       "### Result"
      ]
     },
     "metadata": {},
     "output_type": "display_data"
    },
    {
     "data": {
      "text/markdown": [
       "$F(1.99, 77.74) = 3.25$, $\\mathit{MSE} = 0.49$, $p = .044$, $\\hat{\\eta}^2_G = .006$"
      ]
     },
     "metadata": {},
     "output_type": "display_data"
    },
    {
     "data": {
      "text/markdown": [
       "### Summary (all done1, incl. NANs)"
      ]
     },
     "metadata": {},
     "output_type": "display_data"
    },
    {
     "data": {
      "text/html": [
       "<table>\n",
       "<caption>A tibble: 3 × 5</caption>\n",
       "<thead>\n",
       "\t<tr><th scope=col>cond0</th><th scope=col>N</th><th scope=col>valX_M</th><th scope=col>valX_SD</th><th scope=col>valX_SE</th></tr>\n",
       "\t<tr><th scope=col>&lt;fct&gt;</th><th scope=col>&lt;int&gt;</th><th scope=col>&lt;dbl&gt;</th><th scope=col>&lt;dbl&gt;</th><th scope=col>&lt;dbl&gt;</th></tr>\n",
       "</thead>\n",
       "<tbody>\n",
       "\t<tr><td>noun_F</td><td>42</td><td>1.153308</td><td>2.085355</td><td>0.3217772</td></tr>\n",
       "\t<tr><td>noun_M</td><td>41</td><td>1.505719</td><td>1.887321</td><td>0.2947501</td></tr>\n",
       "\t<tr><td>verb_X</td><td>40</td><td>1.432062</td><td>2.135348</td><td>0.3376282</td></tr>\n",
       "</tbody>\n",
       "</table>\n"
      ],
      "text/latex": [
       "A tibble: 3 × 5\n",
       "\\begin{tabular}{lllll}\n",
       " cond0 & N & valX\\_M & valX\\_SD & valX\\_SE\\\\\n",
       " <fct> & <int> & <dbl> & <dbl> & <dbl>\\\\\n",
       "\\hline\n",
       "\t noun\\_F & 42 & 1.153308 & 2.085355 & 0.3217772\\\\\n",
       "\t noun\\_M & 41 & 1.505719 & 1.887321 & 0.2947501\\\\\n",
       "\t verb\\_X & 40 & 1.432062 & 2.135348 & 0.3376282\\\\\n",
       "\\end{tabular}\n"
      ],
      "text/markdown": [
       "\n",
       "A tibble: 3 × 5\n",
       "\n",
       "| cond0 &lt;fct&gt; | N &lt;int&gt; | valX_M &lt;dbl&gt; | valX_SD &lt;dbl&gt; | valX_SE &lt;dbl&gt; |\n",
       "|---|---|---|---|---|\n",
       "| noun_F | 42 | 1.153308 | 2.085355 | 0.3217772 |\n",
       "| noun_M | 41 | 1.505719 | 1.887321 | 0.2947501 |\n",
       "| verb_X | 40 | 1.432062 | 2.135348 | 0.3376282 |\n",
       "\n"
      ],
      "text/plain": [
       "  cond0  N  valX_M   valX_SD  valX_SE  \n",
       "1 noun_F 42 1.153308 2.085355 0.3217772\n",
       "2 noun_M 41 1.505719 1.887321 0.2947501\n",
       "3 verb_X 40 1.432062 2.135348 0.3376282"
      ]
     },
     "metadata": {},
     "output_type": "display_data"
    },
    {
     "data": {
      "text/markdown": [
       "### Expected marginal means"
      ]
     },
     "metadata": {},
     "output_type": "display_data"
    },
    {
     "data": {
      "text/html": [
       "<table>\n",
       "<caption>A apa_results_table: 3 × 5</caption>\n",
       "<thead>\n",
       "\t<tr><th></th><th scope=col>cond0</th><th scope=col>estimate</th><th scope=col>ci</th><th scope=col>statistic</th><th scope=col>p.value</th></tr>\n",
       "\t<tr><th></th><th scope=col>&lt;chr&gt;</th><th scope=col>&lt;ppj_lbll&gt;</th><th scope=col>&lt;ppj_lbll&gt;</th><th scope=col>&lt;ppj_lbll&gt;</th><th scope=col>&lt;ppj_lbll&gt;</th></tr>\n",
       "</thead>\n",
       "<tbody>\n",
       "\t<tr><th scope=row>noun_F</th><td>noun_F</td><td>1.11</td><td>$[0.45$, $1.76]$</td><td>3.41</td><td>.001  </td></tr>\n",
       "\t<tr><th scope=row>noun_M</th><td>noun_M</td><td>1.47</td><td>$[0.82$, $2.13]$</td><td>4.53</td><td>&lt; .001</td></tr>\n",
       "\t<tr><th scope=row>verb_X</th><td>verb_X</td><td>1.43</td><td>$[0.78$, $2.09]$</td><td>4.40</td><td>&lt; .001</td></tr>\n",
       "</tbody>\n",
       "</table>\n"
      ],
      "text/latex": [
       "A apa\\_results\\_table: 3 × 5\n",
       "\\begin{tabular}{r|lllll}\n",
       "  & cond0 & estimate & ci & statistic & p.value\\\\\n",
       "  & <chr> & <ppj\\_lbll> & <ppj\\_lbll> & <ppj\\_lbll> & <ppj\\_lbll>\\\\\n",
       "\\hline\n",
       "\tnoun\\_F & noun\\_F & 1.11 & \\${[}0.45\\$, \\$1.76{]}\\$ & 3.41 & .001  \\\\\n",
       "\tnoun\\_M & noun\\_M & 1.47 & \\${[}0.82\\$, \\$2.13{]}\\$ & 4.53 & < .001\\\\\n",
       "\tverb\\_X & verb\\_X & 1.43 & \\${[}0.78\\$, \\$2.09{]}\\$ & 4.40 & < .001\\\\\n",
       "\\end{tabular}\n"
      ],
      "text/markdown": [
       "\n",
       "A apa_results_table: 3 × 5\n",
       "\n",
       "| <!--/--> | cond0 &lt;chr&gt; | estimate &lt;ppj_lbll&gt; | ci &lt;ppj_lbll&gt; | statistic &lt;ppj_lbll&gt; | p.value &lt;ppj_lbll&gt; |\n",
       "|---|---|---|---|---|---|\n",
       "| noun_F | noun_F | 1.11 | $[0.45$, $1.76]$ | 3.41 | .001   |\n",
       "| noun_M | noun_M | 1.47 | $[0.82$, $2.13]$ | 4.53 | &lt; .001 |\n",
       "| verb_X | verb_X | 1.43 | $[0.78$, $2.09]$ | 4.40 | &lt; .001 |\n",
       "\n"
      ],
      "text/plain": [
       "       cond0  estimate ci               statistic p.value\n",
       "noun_F noun_F 1.11     $[0.45$, $1.76]$ 3.41      .001   \n",
       "noun_M noun_M 1.47     $[0.82$, $2.13]$ 4.53      < .001 \n",
       "verb_X verb_X 1.43     $[0.78$, $2.09]$ 4.40      < .001 "
      ]
     },
     "metadata": {},
     "output_type": "display_data"
    },
    {
     "data": {
      "text/markdown": [
       "### Paired comparisons for expected marginal means"
      ]
     },
     "metadata": {},
     "output_type": "display_data"
    },
    {
     "data": {
      "text/html": [
       "<table>\n",
       "<caption>A apa_results_table: 3 × 5</caption>\n",
       "<thead>\n",
       "\t<tr><th></th><th scope=col>contrast</th><th scope=col>estimate</th><th scope=col>ci</th><th scope=col>statistic</th><th scope=col>p.value</th></tr>\n",
       "\t<tr><th></th><th scope=col>&lt;ppj_lbll&gt;</th><th scope=col>&lt;ppj_lbll&gt;</th><th scope=col>&lt;ppj_lbll&gt;</th><th scope=col>&lt;ppj_lbll&gt;</th><th scope=col>&lt;ppj_lbll&gt;</th></tr>\n",
       "</thead>\n",
       "<tbody>\n",
       "\t<tr><th scope=row>noun_F_noun_M</th><td>noun_F - noun_M</td><td>-0.36</td><td>$[-0.74$, $0.01]$</td><td>-2.32</td><td>.058</td></tr>\n",
       "\t<tr><th scope=row>noun_F_verb_X</th><td>noun_F - verb_X</td><td>-0.32</td><td>$[-0.70$, $0.05]$</td><td>-2.07</td><td>.103</td></tr>\n",
       "\t<tr><th scope=row>noun_M_verb_X</th><td>noun_M - verb_X</td><td>0.04 </td><td>$[-0.33$, $0.41]$</td><td>0.25 </td><td>.965</td></tr>\n",
       "</tbody>\n",
       "</table>\n"
      ],
      "text/latex": [
       "A apa\\_results\\_table: 3 × 5\n",
       "\\begin{tabular}{r|lllll}\n",
       "  & contrast & estimate & ci & statistic & p.value\\\\\n",
       "  & <ppj\\_lbll> & <ppj\\_lbll> & <ppj\\_lbll> & <ppj\\_lbll> & <ppj\\_lbll>\\\\\n",
       "\\hline\n",
       "\tnoun\\_F\\_noun\\_M & noun\\_F - noun\\_M & -0.36 & \\${[}-0.74\\$, \\$0.01{]}\\$ & -2.32 & .058\\\\\n",
       "\tnoun\\_F\\_verb\\_X & noun\\_F - verb\\_X & -0.32 & \\${[}-0.70\\$, \\$0.05{]}\\$ & -2.07 & .103\\\\\n",
       "\tnoun\\_M\\_verb\\_X & noun\\_M - verb\\_X & 0.04  & \\${[}-0.33\\$, \\$0.41{]}\\$ & 0.25  & .965\\\\\n",
       "\\end{tabular}\n"
      ],
      "text/markdown": [
       "\n",
       "A apa_results_table: 3 × 5\n",
       "\n",
       "| <!--/--> | contrast &lt;ppj_lbll&gt; | estimate &lt;ppj_lbll&gt; | ci &lt;ppj_lbll&gt; | statistic &lt;ppj_lbll&gt; | p.value &lt;ppj_lbll&gt; |\n",
       "|---|---|---|---|---|---|\n",
       "| noun_F_noun_M | noun_F - noun_M | -0.36 | $[-0.74$, $0.01]$ | -2.32 | .058 |\n",
       "| noun_F_verb_X | noun_F - verb_X | -0.32 | $[-0.70$, $0.05]$ | -2.07 | .103 |\n",
       "| noun_M_verb_X | noun_M - verb_X | 0.04  | $[-0.33$, $0.41]$ | 0.25  | .965 |\n",
       "\n"
      ],
      "text/plain": [
       "              contrast        estimate ci                statistic p.value\n",
       "noun_F_noun_M noun_F - noun_M -0.36    $[-0.74$, $0.01]$ -2.32     .058   \n",
       "noun_F_verb_X noun_F - verb_X -0.32    $[-0.70$, $0.05]$ -2.07     .103   \n",
       "noun_M_verb_X noun_M - verb_X 0.04     $[-0.33$, $0.41]$ 0.25      .965   "
      ]
     },
     "metadata": {},
     "output_type": "display_data"
    }
   ],
   "source": [
    "IDX <- IDX+1; COND <- CONDS[IDX]\n",
    "data1 <- droplevels(subset(df1, eval(parse(text=COND)))); data1 <- data1[complete.cases(data1),]; done1 <- AOV4(data1,COND)\n",
    "display_markdown(str_c(\"# Condition \",IDX,\" of \",length(CONDS))); display_markdown(done1$info); display_markdown(\"### Table\"); done1$aov_APA$table; display_markdown(\"### Result\"); display_markdown(done1$aov_APA[[\"full_result\"]][[\"cond0\"]]); display_markdown(\"### Summary (all done1, incl. NANs)\"); done1$summary; display_markdown(\"### Expected marginal means\"); done1$emm_APA$table; display_markdown(\"### Paired comparisons for expected marginal means\"); done1$pairs_APA$table"
   ]
  },
  {
   "cell_type": "code",
   "execution_count": 52,
   "metadata": {},
   "outputs": [
    {
     "name": "stderr",
     "output_type": "stream",
     "text": [
      "Warning message:\n",
      "“Missing values for following ID(s):\n",
      "18skxm, 23zdxf, 25abxf, 26mwxf, 30mszf, 32mjxf, 38slxm\n",
      "Removing those cases from the analysis.”\n"
     ]
    },
    {
     "data": {
      "text/markdown": [
       "# Condition 35 of 72"
      ]
     },
     "metadata": {},
     "output_type": "display_data"
    },
    {
     "data": {
      "text/markdown": [
       "`tmin0==0.35 & chan0==\"RP\" & mode0==\"pos\"`"
      ]
     },
     "metadata": {},
     "output_type": "display_data"
    },
    {
     "data": {
      "text/markdown": [
       "### Table"
      ]
     },
     "metadata": {},
     "output_type": "display_data"
    },
    {
     "data": {
      "text/html": [
       "<table>\n",
       "<caption>A apa_results_table: 1 × 7</caption>\n",
       "<thead>\n",
       "\t<tr><th></th><th scope=col>Effect</th><th scope=col>F</th><th scope=col>df1</th><th scope=col>df2</th><th scope=col>MSE</th><th scope=col>p</th><th scope=col>ges</th></tr>\n",
       "\t<tr><th></th><th scope=col>&lt;ppj_lbll&gt;</th><th scope=col>&lt;ppj_lbll&gt;</th><th scope=col>&lt;ppj_lbll&gt;</th><th scope=col>&lt;ppj_lbll&gt;</th><th scope=col>&lt;ppj_lbll&gt;</th><th scope=col>&lt;ppj_lbll&gt;</th><th scope=col>&lt;ppj_lbll&gt;</th></tr>\n",
       "</thead>\n",
       "<tbody>\n",
       "\t<tr><th scope=row>1</th><td>Cond0</td><td>1.95</td><td>1.83</td><td>62.10</td><td>0.39</td><td>.155</td><td>.003</td></tr>\n",
       "</tbody>\n",
       "</table>\n"
      ],
      "text/latex": [
       "A apa\\_results\\_table: 1 × 7\n",
       "\\begin{tabular}{r|lllllll}\n",
       "  & Effect & F & df1 & df2 & MSE & p & ges\\\\\n",
       "  & <ppj\\_lbll> & <ppj\\_lbll> & <ppj\\_lbll> & <ppj\\_lbll> & <ppj\\_lbll> & <ppj\\_lbll> & <ppj\\_lbll>\\\\\n",
       "\\hline\n",
       "\t1 & Cond0 & 1.95 & 1.83 & 62.10 & 0.39 & .155 & .003\\\\\n",
       "\\end{tabular}\n"
      ],
      "text/markdown": [
       "\n",
       "A apa_results_table: 1 × 7\n",
       "\n",
       "| <!--/--> | Effect &lt;ppj_lbll&gt; | F &lt;ppj_lbll&gt; | df1 &lt;ppj_lbll&gt; | df2 &lt;ppj_lbll&gt; | MSE &lt;ppj_lbll&gt; | p &lt;ppj_lbll&gt; | ges &lt;ppj_lbll&gt; |\n",
       "|---|---|---|---|---|---|---|---|\n",
       "| 1 | Cond0 | 1.95 | 1.83 | 62.10 | 0.39 | .155 | .003 |\n",
       "\n"
      ],
      "text/plain": [
       "  Effect F    df1  df2   MSE  p    ges \n",
       "1 Cond0  1.95 1.83 62.10 0.39 .155 .003"
      ]
     },
     "metadata": {},
     "output_type": "display_data"
    },
    {
     "data": {
      "text/markdown": [
       "### Result"
      ]
     },
     "metadata": {},
     "output_type": "display_data"
    },
    {
     "data": {
      "text/markdown": [
       "$F(1.83, 62.10) = 1.95$, $\\mathit{MSE} = 0.39$, $p = .155$, $\\hat{\\eta}^2_G = .003$"
      ]
     },
     "metadata": {},
     "output_type": "display_data"
    },
    {
     "data": {
      "text/markdown": [
       "### Summary (all done1, incl. NANs)"
      ]
     },
     "metadata": {},
     "output_type": "display_data"
    },
    {
     "data": {
      "text/html": [
       "<table>\n",
       "<caption>A tibble: 3 × 5</caption>\n",
       "<thead>\n",
       "\t<tr><th scope=col>cond0</th><th scope=col>N</th><th scope=col>valX_M</th><th scope=col>valX_SD</th><th scope=col>valX_SE</th></tr>\n",
       "\t<tr><th scope=col>&lt;fct&gt;</th><th scope=col>&lt;int&gt;</th><th scope=col>&lt;dbl&gt;</th><th scope=col>&lt;dbl&gt;</th><th scope=col>&lt;dbl&gt;</th></tr>\n",
       "</thead>\n",
       "<tbody>\n",
       "\t<tr><td>noun_F</td><td>37</td><td>3.822664</td><td>2.279750</td><td>0.3747885</td></tr>\n",
       "\t<tr><td>noun_M</td><td>41</td><td>4.319591</td><td>2.038841</td><td>0.3184134</td></tr>\n",
       "\t<tr><td>verb_X</td><td>39</td><td>4.129674</td><td>2.197261</td><td>0.3518434</td></tr>\n",
       "</tbody>\n",
       "</table>\n"
      ],
      "text/latex": [
       "A tibble: 3 × 5\n",
       "\\begin{tabular}{lllll}\n",
       " cond0 & N & valX\\_M & valX\\_SD & valX\\_SE\\\\\n",
       " <fct> & <int> & <dbl> & <dbl> & <dbl>\\\\\n",
       "\\hline\n",
       "\t noun\\_F & 37 & 3.822664 & 2.279750 & 0.3747885\\\\\n",
       "\t noun\\_M & 41 & 4.319591 & 2.038841 & 0.3184134\\\\\n",
       "\t verb\\_X & 39 & 4.129674 & 2.197261 & 0.3518434\\\\\n",
       "\\end{tabular}\n"
      ],
      "text/markdown": [
       "\n",
       "A tibble: 3 × 5\n",
       "\n",
       "| cond0 &lt;fct&gt; | N &lt;int&gt; | valX_M &lt;dbl&gt; | valX_SD &lt;dbl&gt; | valX_SE &lt;dbl&gt; |\n",
       "|---|---|---|---|---|\n",
       "| noun_F | 37 | 3.822664 | 2.279750 | 0.3747885 |\n",
       "| noun_M | 41 | 4.319591 | 2.038841 | 0.3184134 |\n",
       "| verb_X | 39 | 4.129674 | 2.197261 | 0.3518434 |\n",
       "\n"
      ],
      "text/plain": [
       "  cond0  N  valX_M   valX_SD  valX_SE  \n",
       "1 noun_F 37 3.822664 2.279750 0.3747885\n",
       "2 noun_M 41 4.319591 2.038841 0.3184134\n",
       "3 verb_X 39 4.129674 2.197261 0.3518434"
      ]
     },
     "metadata": {},
     "output_type": "display_data"
    },
    {
     "data": {
      "text/markdown": [
       "### Expected marginal means"
      ]
     },
     "metadata": {},
     "output_type": "display_data"
    },
    {
     "data": {
      "text/html": [
       "<table>\n",
       "<caption>A apa_results_table: 3 × 5</caption>\n",
       "<thead>\n",
       "\t<tr><th></th><th scope=col>cond0</th><th scope=col>estimate</th><th scope=col>ci</th><th scope=col>statistic</th><th scope=col>p.value</th></tr>\n",
       "\t<tr><th></th><th scope=col>&lt;chr&gt;</th><th scope=col>&lt;ppj_lbll&gt;</th><th scope=col>&lt;ppj_lbll&gt;</th><th scope=col>&lt;ppj_lbll&gt;</th><th scope=col>&lt;ppj_lbll&gt;</th></tr>\n",
       "</thead>\n",
       "<tbody>\n",
       "\t<tr><th scope=row>noun_F</th><td>noun_F</td><td>3.91</td><td>$[3.16$, $4.67]$</td><td>10.49</td><td>&lt; .001</td></tr>\n",
       "\t<tr><th scope=row>noun_M</th><td>noun_M</td><td>4.18</td><td>$[3.42$, $4.93]$</td><td>11.20</td><td>&lt; .001</td></tr>\n",
       "\t<tr><th scope=row>verb_X</th><td>verb_X</td><td>3.97</td><td>$[3.22$, $4.73]$</td><td>10.65</td><td>&lt; .001</td></tr>\n",
       "</tbody>\n",
       "</table>\n"
      ],
      "text/latex": [
       "A apa\\_results\\_table: 3 × 5\n",
       "\\begin{tabular}{r|lllll}\n",
       "  & cond0 & estimate & ci & statistic & p.value\\\\\n",
       "  & <chr> & <ppj\\_lbll> & <ppj\\_lbll> & <ppj\\_lbll> & <ppj\\_lbll>\\\\\n",
       "\\hline\n",
       "\tnoun\\_F & noun\\_F & 3.91 & \\${[}3.16\\$, \\$4.67{]}\\$ & 10.49 & < .001\\\\\n",
       "\tnoun\\_M & noun\\_M & 4.18 & \\${[}3.42\\$, \\$4.93{]}\\$ & 11.20 & < .001\\\\\n",
       "\tverb\\_X & verb\\_X & 3.97 & \\${[}3.22\\$, \\$4.73{]}\\$ & 10.65 & < .001\\\\\n",
       "\\end{tabular}\n"
      ],
      "text/markdown": [
       "\n",
       "A apa_results_table: 3 × 5\n",
       "\n",
       "| <!--/--> | cond0 &lt;chr&gt; | estimate &lt;ppj_lbll&gt; | ci &lt;ppj_lbll&gt; | statistic &lt;ppj_lbll&gt; | p.value &lt;ppj_lbll&gt; |\n",
       "|---|---|---|---|---|---|\n",
       "| noun_F | noun_F | 3.91 | $[3.16$, $4.67]$ | 10.49 | &lt; .001 |\n",
       "| noun_M | noun_M | 4.18 | $[3.42$, $4.93]$ | 11.20 | &lt; .001 |\n",
       "| verb_X | verb_X | 3.97 | $[3.22$, $4.73]$ | 10.65 | &lt; .001 |\n",
       "\n"
      ],
      "text/plain": [
       "       cond0  estimate ci               statistic p.value\n",
       "noun_F noun_F 3.91     $[3.16$, $4.67]$ 10.49     < .001 \n",
       "noun_M noun_M 4.18     $[3.42$, $4.93]$ 11.20     < .001 \n",
       "verb_X verb_X 3.97     $[3.22$, $4.73]$ 10.65     < .001 "
      ]
     },
     "metadata": {},
     "output_type": "display_data"
    },
    {
     "data": {
      "text/markdown": [
       "### Paired comparisons for expected marginal means"
      ]
     },
     "metadata": {},
     "output_type": "display_data"
    },
    {
     "data": {
      "text/html": [
       "<table>\n",
       "<caption>A apa_results_table: 3 × 5</caption>\n",
       "<thead>\n",
       "\t<tr><th></th><th scope=col>contrast</th><th scope=col>estimate</th><th scope=col>ci</th><th scope=col>statistic</th><th scope=col>p.value</th></tr>\n",
       "\t<tr><th></th><th scope=col>&lt;ppj_lbll&gt;</th><th scope=col>&lt;ppj_lbll&gt;</th><th scope=col>&lt;ppj_lbll&gt;</th><th scope=col>&lt;ppj_lbll&gt;</th><th scope=col>&lt;ppj_lbll&gt;</th></tr>\n",
       "</thead>\n",
       "<tbody>\n",
       "\t<tr><th scope=row>noun_F_noun_M</th><td>noun_F - noun_M</td><td>-0.27</td><td>$[-0.61$, $0.07]$</td><td>-1.88</td><td>.152</td></tr>\n",
       "\t<tr><th scope=row>noun_F_verb_X</th><td>noun_F - verb_X</td><td>-0.06</td><td>$[-0.40$, $0.28]$</td><td>-0.42</td><td>.906</td></tr>\n",
       "\t<tr><th scope=row>noun_M_verb_X</th><td>noun_M - verb_X</td><td>0.21 </td><td>$[-0.13$, $0.55]$</td><td>1.46 </td><td>.318</td></tr>\n",
       "</tbody>\n",
       "</table>\n"
      ],
      "text/latex": [
       "A apa\\_results\\_table: 3 × 5\n",
       "\\begin{tabular}{r|lllll}\n",
       "  & contrast & estimate & ci & statistic & p.value\\\\\n",
       "  & <ppj\\_lbll> & <ppj\\_lbll> & <ppj\\_lbll> & <ppj\\_lbll> & <ppj\\_lbll>\\\\\n",
       "\\hline\n",
       "\tnoun\\_F\\_noun\\_M & noun\\_F - noun\\_M & -0.27 & \\${[}-0.61\\$, \\$0.07{]}\\$ & -1.88 & .152\\\\\n",
       "\tnoun\\_F\\_verb\\_X & noun\\_F - verb\\_X & -0.06 & \\${[}-0.40\\$, \\$0.28{]}\\$ & -0.42 & .906\\\\\n",
       "\tnoun\\_M\\_verb\\_X & noun\\_M - verb\\_X & 0.21  & \\${[}-0.13\\$, \\$0.55{]}\\$ & 1.46  & .318\\\\\n",
       "\\end{tabular}\n"
      ],
      "text/markdown": [
       "\n",
       "A apa_results_table: 3 × 5\n",
       "\n",
       "| <!--/--> | contrast &lt;ppj_lbll&gt; | estimate &lt;ppj_lbll&gt; | ci &lt;ppj_lbll&gt; | statistic &lt;ppj_lbll&gt; | p.value &lt;ppj_lbll&gt; |\n",
       "|---|---|---|---|---|---|\n",
       "| noun_F_noun_M | noun_F - noun_M | -0.27 | $[-0.61$, $0.07]$ | -1.88 | .152 |\n",
       "| noun_F_verb_X | noun_F - verb_X | -0.06 | $[-0.40$, $0.28]$ | -0.42 | .906 |\n",
       "| noun_M_verb_X | noun_M - verb_X | 0.21  | $[-0.13$, $0.55]$ | 1.46  | .318 |\n",
       "\n"
      ],
      "text/plain": [
       "              contrast        estimate ci                statistic p.value\n",
       "noun_F_noun_M noun_F - noun_M -0.27    $[-0.61$, $0.07]$ -1.88     .152   \n",
       "noun_F_verb_X noun_F - verb_X -0.06    $[-0.40$, $0.28]$ -0.42     .906   \n",
       "noun_M_verb_X noun_M - verb_X 0.21     $[-0.13$, $0.55]$ 1.46      .318   "
      ]
     },
     "metadata": {},
     "output_type": "display_data"
    }
   ],
   "source": [
    "IDX <- IDX+1; COND <- CONDS[IDX]\n",
    "data1 <- droplevels(subset(df1, eval(parse(text=COND)))); data1 <- data1[complete.cases(data1),]; done1 <- AOV4(data1,COND)\n",
    "display_markdown(str_c(\"# Condition \",IDX,\" of \",length(CONDS))); display_markdown(done1$info); display_markdown(\"### Table\"); done1$aov_APA$table; display_markdown(\"### Result\"); display_markdown(done1$aov_APA[[\"full_result\"]][[\"cond0\"]]); display_markdown(\"### Summary (all done1, incl. NANs)\"); done1$summary; display_markdown(\"### Expected marginal means\"); done1$emm_APA$table; display_markdown(\"### Paired comparisons for expected marginal means\"); done1$pairs_APA$table"
   ]
  },
  {
   "cell_type": "code",
   "execution_count": 53,
   "metadata": {},
   "outputs": [
    {
     "name": "stderr",
     "output_type": "stream",
     "text": [
      "Warning message:\n",
      "“Missing values for following ID(s):\n",
      "06pppm, 09msxf, 20jpxf, 22foxm, 41roxm\n",
      "Removing those cases from the analysis.”\n",
      "Warning message in summary.Anova.mlm(x$Anova):\n",
      "“HF eps > 1 treated as 1”\n"
     ]
    },
    {
     "data": {
      "text/markdown": [
       "# Condition 36 of 72"
      ]
     },
     "metadata": {},
     "output_type": "display_data"
    },
    {
     "data": {
      "text/markdown": [
       "`tmin0==0.35 & chan0==\"RP\" & mode0==\"neg\"`"
      ]
     },
     "metadata": {},
     "output_type": "display_data"
    },
    {
     "data": {
      "text/markdown": [
       "### Table"
      ]
     },
     "metadata": {},
     "output_type": "display_data"
    },
    {
     "data": {
      "text/html": [
       "<table>\n",
       "<caption>A apa_results_table: 1 × 7</caption>\n",
       "<thead>\n",
       "\t<tr><th></th><th scope=col>Effect</th><th scope=col>F</th><th scope=col>df1</th><th scope=col>df2</th><th scope=col>MSE</th><th scope=col>p</th><th scope=col>ges</th></tr>\n",
       "\t<tr><th></th><th scope=col>&lt;ppj_lbll&gt;</th><th scope=col>&lt;ppj_lbll&gt;</th><th scope=col>&lt;ppj_lbll&gt;</th><th scope=col>&lt;ppj_lbll&gt;</th><th scope=col>&lt;ppj_lbll&gt;</th><th scope=col>&lt;ppj_lbll&gt;</th><th scope=col>&lt;ppj_lbll&gt;</th></tr>\n",
       "</thead>\n",
       "<tbody>\n",
       "\t<tr><th scope=row>1</th><td>Cond0</td><td>1.11</td><td>1.93</td><td>69.46</td><td>0.43</td><td>.332</td><td>.002</td></tr>\n",
       "</tbody>\n",
       "</table>\n"
      ],
      "text/latex": [
       "A apa\\_results\\_table: 1 × 7\n",
       "\\begin{tabular}{r|lllllll}\n",
       "  & Effect & F & df1 & df2 & MSE & p & ges\\\\\n",
       "  & <ppj\\_lbll> & <ppj\\_lbll> & <ppj\\_lbll> & <ppj\\_lbll> & <ppj\\_lbll> & <ppj\\_lbll> & <ppj\\_lbll>\\\\\n",
       "\\hline\n",
       "\t1 & Cond0 & 1.11 & 1.93 & 69.46 & 0.43 & .332 & .002\\\\\n",
       "\\end{tabular}\n"
      ],
      "text/markdown": [
       "\n",
       "A apa_results_table: 1 × 7\n",
       "\n",
       "| <!--/--> | Effect &lt;ppj_lbll&gt; | F &lt;ppj_lbll&gt; | df1 &lt;ppj_lbll&gt; | df2 &lt;ppj_lbll&gt; | MSE &lt;ppj_lbll&gt; | p &lt;ppj_lbll&gt; | ges &lt;ppj_lbll&gt; |\n",
       "|---|---|---|---|---|---|---|---|\n",
       "| 1 | Cond0 | 1.11 | 1.93 | 69.46 | 0.43 | .332 | .002 |\n",
       "\n"
      ],
      "text/plain": [
       "  Effect F    df1  df2   MSE  p    ges \n",
       "1 Cond0  1.11 1.93 69.46 0.43 .332 .002"
      ]
     },
     "metadata": {},
     "output_type": "display_data"
    },
    {
     "data": {
      "text/markdown": [
       "### Result"
      ]
     },
     "metadata": {},
     "output_type": "display_data"
    },
    {
     "data": {
      "text/markdown": [
       "$F(1.93, 69.46) = 1.11$, $\\mathit{MSE} = 0.43$, $p = .332$, $\\hat{\\eta}^2_G = .002$"
      ]
     },
     "metadata": {},
     "output_type": "display_data"
    },
    {
     "data": {
      "text/markdown": [
       "### Summary (all done1, incl. NANs)"
      ]
     },
     "metadata": {},
     "output_type": "display_data"
    },
    {
     "data": {
      "text/html": [
       "<table>\n",
       "<caption>A tibble: 3 × 5</caption>\n",
       "<thead>\n",
       "\t<tr><th scope=col>cond0</th><th scope=col>N</th><th scope=col>valX_M</th><th scope=col>valX_SD</th><th scope=col>valX_SE</th></tr>\n",
       "\t<tr><th scope=col>&lt;fct&gt;</th><th scope=col>&lt;int&gt;</th><th scope=col>&lt;dbl&gt;</th><th scope=col>&lt;dbl&gt;</th><th scope=col>&lt;dbl&gt;</th></tr>\n",
       "</thead>\n",
       "<tbody>\n",
       "\t<tr><td>noun_F</td><td>41</td><td>2.389840</td><td>2.183137</td><td>0.3409487</td></tr>\n",
       "\t<tr><td>noun_M</td><td>40</td><td>2.451460</td><td>2.365666</td><td>0.3740446</td></tr>\n",
       "\t<tr><td>verb_X</td><td>39</td><td>2.684616</td><td>2.116706</td><td>0.3389443</td></tr>\n",
       "</tbody>\n",
       "</table>\n"
      ],
      "text/latex": [
       "A tibble: 3 × 5\n",
       "\\begin{tabular}{lllll}\n",
       " cond0 & N & valX\\_M & valX\\_SD & valX\\_SE\\\\\n",
       " <fct> & <int> & <dbl> & <dbl> & <dbl>\\\\\n",
       "\\hline\n",
       "\t noun\\_F & 41 & 2.389840 & 2.183137 & 0.3409487\\\\\n",
       "\t noun\\_M & 40 & 2.451460 & 2.365666 & 0.3740446\\\\\n",
       "\t verb\\_X & 39 & 2.684616 & 2.116706 & 0.3389443\\\\\n",
       "\\end{tabular}\n"
      ],
      "text/markdown": [
       "\n",
       "A tibble: 3 × 5\n",
       "\n",
       "| cond0 &lt;fct&gt; | N &lt;int&gt; | valX_M &lt;dbl&gt; | valX_SD &lt;dbl&gt; | valX_SE &lt;dbl&gt; |\n",
       "|---|---|---|---|---|\n",
       "| noun_F | 41 | 2.389840 | 2.183137 | 0.3409487 |\n",
       "| noun_M | 40 | 2.451460 | 2.365666 | 0.3740446 |\n",
       "| verb_X | 39 | 2.684616 | 2.116706 | 0.3389443 |\n",
       "\n"
      ],
      "text/plain": [
       "  cond0  N  valX_M   valX_SD  valX_SE  \n",
       "1 noun_F 41 2.389840 2.183137 0.3409487\n",
       "2 noun_M 40 2.451460 2.365666 0.3740446\n",
       "3 verb_X 39 2.684616 2.116706 0.3389443"
      ]
     },
     "metadata": {},
     "output_type": "display_data"
    },
    {
     "data": {
      "text/markdown": [
       "### Expected marginal means"
      ]
     },
     "metadata": {},
     "output_type": "display_data"
    },
    {
     "data": {
      "text/html": [
       "<table>\n",
       "<caption>A apa_results_table: 3 × 5</caption>\n",
       "<thead>\n",
       "\t<tr><th></th><th scope=col>cond0</th><th scope=col>estimate</th><th scope=col>ci</th><th scope=col>statistic</th><th scope=col>p.value</th></tr>\n",
       "\t<tr><th></th><th scope=col>&lt;chr&gt;</th><th scope=col>&lt;ppj_lbll&gt;</th><th scope=col>&lt;ppj_lbll&gt;</th><th scope=col>&lt;ppj_lbll&gt;</th><th scope=col>&lt;ppj_lbll&gt;</th></tr>\n",
       "</thead>\n",
       "<tbody>\n",
       "\t<tr><th scope=row>noun_F</th><td>noun_F</td><td>2.46</td><td>$[1.73$, $3.20]$</td><td>6.75</td><td>&lt; .001</td></tr>\n",
       "\t<tr><th scope=row>noun_M</th><td>noun_M</td><td>2.65</td><td>$[1.92$, $3.39]$</td><td>7.27</td><td>&lt; .001</td></tr>\n",
       "\t<tr><th scope=row>verb_X</th><td>verb_X</td><td>2.66</td><td>$[1.92$, $3.40]$</td><td>7.29</td><td>&lt; .001</td></tr>\n",
       "</tbody>\n",
       "</table>\n"
      ],
      "text/latex": [
       "A apa\\_results\\_table: 3 × 5\n",
       "\\begin{tabular}{r|lllll}\n",
       "  & cond0 & estimate & ci & statistic & p.value\\\\\n",
       "  & <chr> & <ppj\\_lbll> & <ppj\\_lbll> & <ppj\\_lbll> & <ppj\\_lbll>\\\\\n",
       "\\hline\n",
       "\tnoun\\_F & noun\\_F & 2.46 & \\${[}1.73\\$, \\$3.20{]}\\$ & 6.75 & < .001\\\\\n",
       "\tnoun\\_M & noun\\_M & 2.65 & \\${[}1.92\\$, \\$3.39{]}\\$ & 7.27 & < .001\\\\\n",
       "\tverb\\_X & verb\\_X & 2.66 & \\${[}1.92\\$, \\$3.40{]}\\$ & 7.29 & < .001\\\\\n",
       "\\end{tabular}\n"
      ],
      "text/markdown": [
       "\n",
       "A apa_results_table: 3 × 5\n",
       "\n",
       "| <!--/--> | cond0 &lt;chr&gt; | estimate &lt;ppj_lbll&gt; | ci &lt;ppj_lbll&gt; | statistic &lt;ppj_lbll&gt; | p.value &lt;ppj_lbll&gt; |\n",
       "|---|---|---|---|---|---|\n",
       "| noun_F | noun_F | 2.46 | $[1.73$, $3.20]$ | 6.75 | &lt; .001 |\n",
       "| noun_M | noun_M | 2.65 | $[1.92$, $3.39]$ | 7.27 | &lt; .001 |\n",
       "| verb_X | verb_X | 2.66 | $[1.92$, $3.40]$ | 7.29 | &lt; .001 |\n",
       "\n"
      ],
      "text/plain": [
       "       cond0  estimate ci               statistic p.value\n",
       "noun_F noun_F 2.46     $[1.73$, $3.20]$ 6.75      < .001 \n",
       "noun_M noun_M 2.65     $[1.92$, $3.39]$ 7.27      < .001 \n",
       "verb_X verb_X 2.66     $[1.92$, $3.40]$ 7.29      < .001 "
      ]
     },
     "metadata": {},
     "output_type": "display_data"
    },
    {
     "data": {
      "text/markdown": [
       "### Paired comparisons for expected marginal means"
      ]
     },
     "metadata": {},
     "output_type": "display_data"
    },
    {
     "data": {
      "text/html": [
       "<table>\n",
       "<caption>A apa_results_table: 3 × 5</caption>\n",
       "<thead>\n",
       "\t<tr><th></th><th scope=col>contrast</th><th scope=col>estimate</th><th scope=col>ci</th><th scope=col>statistic</th><th scope=col>p.value</th></tr>\n",
       "\t<tr><th></th><th scope=col>&lt;ppj_lbll&gt;</th><th scope=col>&lt;ppj_lbll&gt;</th><th scope=col>&lt;ppj_lbll&gt;</th><th scope=col>&lt;ppj_lbll&gt;</th><th scope=col>&lt;ppj_lbll&gt;</th></tr>\n",
       "</thead>\n",
       "<tbody>\n",
       "\t<tr><th scope=row>noun_F_noun_M</th><td>noun_F - noun_M</td><td>-0.19</td><td>$[-0.55$, $0.17]$</td><td>-1.27</td><td>.418</td></tr>\n",
       "\t<tr><th scope=row>noun_F_verb_X</th><td>noun_F - verb_X</td><td>-0.20</td><td>$[-0.55$, $0.16]$</td><td>-1.32</td><td>.391</td></tr>\n",
       "\t<tr><th scope=row>noun_M_verb_X</th><td>noun_M - verb_X</td><td>-0.01</td><td>$[-0.36$, $0.35]$</td><td>-0.05</td><td>.999</td></tr>\n",
       "</tbody>\n",
       "</table>\n"
      ],
      "text/latex": [
       "A apa\\_results\\_table: 3 × 5\n",
       "\\begin{tabular}{r|lllll}\n",
       "  & contrast & estimate & ci & statistic & p.value\\\\\n",
       "  & <ppj\\_lbll> & <ppj\\_lbll> & <ppj\\_lbll> & <ppj\\_lbll> & <ppj\\_lbll>\\\\\n",
       "\\hline\n",
       "\tnoun\\_F\\_noun\\_M & noun\\_F - noun\\_M & -0.19 & \\${[}-0.55\\$, \\$0.17{]}\\$ & -1.27 & .418\\\\\n",
       "\tnoun\\_F\\_verb\\_X & noun\\_F - verb\\_X & -0.20 & \\${[}-0.55\\$, \\$0.16{]}\\$ & -1.32 & .391\\\\\n",
       "\tnoun\\_M\\_verb\\_X & noun\\_M - verb\\_X & -0.01 & \\${[}-0.36\\$, \\$0.35{]}\\$ & -0.05 & .999\\\\\n",
       "\\end{tabular}\n"
      ],
      "text/markdown": [
       "\n",
       "A apa_results_table: 3 × 5\n",
       "\n",
       "| <!--/--> | contrast &lt;ppj_lbll&gt; | estimate &lt;ppj_lbll&gt; | ci &lt;ppj_lbll&gt; | statistic &lt;ppj_lbll&gt; | p.value &lt;ppj_lbll&gt; |\n",
       "|---|---|---|---|---|---|\n",
       "| noun_F_noun_M | noun_F - noun_M | -0.19 | $[-0.55$, $0.17]$ | -1.27 | .418 |\n",
       "| noun_F_verb_X | noun_F - verb_X | -0.20 | $[-0.55$, $0.16]$ | -1.32 | .391 |\n",
       "| noun_M_verb_X | noun_M - verb_X | -0.01 | $[-0.36$, $0.35]$ | -0.05 | .999 |\n",
       "\n"
      ],
      "text/plain": [
       "              contrast        estimate ci                statistic p.value\n",
       "noun_F_noun_M noun_F - noun_M -0.19    $[-0.55$, $0.17]$ -1.27     .418   \n",
       "noun_F_verb_X noun_F - verb_X -0.20    $[-0.55$, $0.16]$ -1.32     .391   \n",
       "noun_M_verb_X noun_M - verb_X -0.01    $[-0.36$, $0.35]$ -0.05     .999   "
      ]
     },
     "metadata": {},
     "output_type": "display_data"
    }
   ],
   "source": [
    "IDX <- IDX+1; COND <- CONDS[IDX]\n",
    "data1 <- droplevels(subset(df1, eval(parse(text=COND)))); data1 <- data1[complete.cases(data1),]; done1 <- AOV4(data1,COND)\n",
    "display_markdown(str_c(\"# Condition \",IDX,\" of \",length(CONDS))); display_markdown(done1$info); display_markdown(\"### Table\"); done1$aov_APA$table; display_markdown(\"### Result\"); display_markdown(done1$aov_APA[[\"full_result\"]][[\"cond0\"]]); display_markdown(\"### Summary (all done1, incl. NANs)\"); done1$summary; display_markdown(\"### Expected marginal means\"); done1$emm_APA$table; display_markdown(\"### Paired comparisons for expected marginal means\"); done1$pairs_APA$table"
   ]
  },
  {
   "cell_type": "code",
   "execution_count": 54,
   "metadata": {},
   "outputs": [
    {
     "data": {
      "text/markdown": [
       "# Condition 37 of 72"
      ]
     },
     "metadata": {},
     "output_type": "display_data"
    },
    {
     "data": {
      "text/markdown": [
       "`tmin0==0.41 & chan0==\"LF\" & mode0==\"pos\"`"
      ]
     },
     "metadata": {},
     "output_type": "display_data"
    },
    {
     "data": {
      "text/markdown": [
       "### Table"
      ]
     },
     "metadata": {},
     "output_type": "display_data"
    },
    {
     "data": {
      "text/html": [
       "<table>\n",
       "<caption>A apa_results_table: 1 × 7</caption>\n",
       "<thead>\n",
       "\t<tr><th></th><th scope=col>Effect</th><th scope=col>F</th><th scope=col>df1</th><th scope=col>df2</th><th scope=col>MSE</th><th scope=col>p</th><th scope=col>ges</th></tr>\n",
       "\t<tr><th></th><th scope=col>&lt;ppj_lbll&gt;</th><th scope=col>&lt;ppj_lbll&gt;</th><th scope=col>&lt;ppj_lbll&gt;</th><th scope=col>&lt;ppj_lbll&gt;</th><th scope=col>&lt;ppj_lbll&gt;</th><th scope=col>&lt;ppj_lbll&gt;</th><th scope=col>&lt;ppj_lbll&gt;</th></tr>\n",
       "</thead>\n",
       "<tbody>\n",
       "\t<tr><th scope=row>1</th><td>Cond0</td><td>0.83</td><td>1.66</td><td>67.97</td><td>1.09</td><td>.422</td><td>.003</td></tr>\n",
       "</tbody>\n",
       "</table>\n"
      ],
      "text/latex": [
       "A apa\\_results\\_table: 1 × 7\n",
       "\\begin{tabular}{r|lllllll}\n",
       "  & Effect & F & df1 & df2 & MSE & p & ges\\\\\n",
       "  & <ppj\\_lbll> & <ppj\\_lbll> & <ppj\\_lbll> & <ppj\\_lbll> & <ppj\\_lbll> & <ppj\\_lbll> & <ppj\\_lbll>\\\\\n",
       "\\hline\n",
       "\t1 & Cond0 & 0.83 & 1.66 & 67.97 & 1.09 & .422 & .003\\\\\n",
       "\\end{tabular}\n"
      ],
      "text/markdown": [
       "\n",
       "A apa_results_table: 1 × 7\n",
       "\n",
       "| <!--/--> | Effect &lt;ppj_lbll&gt; | F &lt;ppj_lbll&gt; | df1 &lt;ppj_lbll&gt; | df2 &lt;ppj_lbll&gt; | MSE &lt;ppj_lbll&gt; | p &lt;ppj_lbll&gt; | ges &lt;ppj_lbll&gt; |\n",
       "|---|---|---|---|---|---|---|---|\n",
       "| 1 | Cond0 | 0.83 | 1.66 | 67.97 | 1.09 | .422 | .003 |\n",
       "\n"
      ],
      "text/plain": [
       "  Effect F    df1  df2   MSE  p    ges \n",
       "1 Cond0  0.83 1.66 67.97 1.09 .422 .003"
      ]
     },
     "metadata": {},
     "output_type": "display_data"
    },
    {
     "data": {
      "text/markdown": [
       "### Result"
      ]
     },
     "metadata": {},
     "output_type": "display_data"
    },
    {
     "data": {
      "text/markdown": [
       "$F(1.66, 67.97) = 0.83$, $\\mathit{MSE} = 1.09$, $p = .422$, $\\hat{\\eta}^2_G = .003$"
      ]
     },
     "metadata": {},
     "output_type": "display_data"
    },
    {
     "data": {
      "text/markdown": [
       "### Summary (all done1, incl. NANs)"
      ]
     },
     "metadata": {},
     "output_type": "display_data"
    },
    {
     "data": {
      "text/html": [
       "<table>\n",
       "<caption>A tibble: 3 × 5</caption>\n",
       "<thead>\n",
       "\t<tr><th scope=col>cond0</th><th scope=col>N</th><th scope=col>valX_M</th><th scope=col>valX_SD</th><th scope=col>valX_SE</th></tr>\n",
       "\t<tr><th scope=col>&lt;fct&gt;</th><th scope=col>&lt;int&gt;</th><th scope=col>&lt;dbl&gt;</th><th scope=col>&lt;dbl&gt;</th><th scope=col>&lt;dbl&gt;</th></tr>\n",
       "</thead>\n",
       "<tbody>\n",
       "\t<tr><td>noun_F</td><td>42</td><td>-0.9826644</td><td>2.376311</td><td>0.3666727</td></tr>\n",
       "\t<tr><td>noun_M</td><td>42</td><td>-1.2303364</td><td>1.812512</td><td>0.2796767</td></tr>\n",
       "\t<tr><td>verb_X</td><td>42</td><td>-1.1917032</td><td>2.108405</td><td>0.3253340</td></tr>\n",
       "</tbody>\n",
       "</table>\n"
      ],
      "text/latex": [
       "A tibble: 3 × 5\n",
       "\\begin{tabular}{lllll}\n",
       " cond0 & N & valX\\_M & valX\\_SD & valX\\_SE\\\\\n",
       " <fct> & <int> & <dbl> & <dbl> & <dbl>\\\\\n",
       "\\hline\n",
       "\t noun\\_F & 42 & -0.9826644 & 2.376311 & 0.3666727\\\\\n",
       "\t noun\\_M & 42 & -1.2303364 & 1.812512 & 0.2796767\\\\\n",
       "\t verb\\_X & 42 & -1.1917032 & 2.108405 & 0.3253340\\\\\n",
       "\\end{tabular}\n"
      ],
      "text/markdown": [
       "\n",
       "A tibble: 3 × 5\n",
       "\n",
       "| cond0 &lt;fct&gt; | N &lt;int&gt; | valX_M &lt;dbl&gt; | valX_SD &lt;dbl&gt; | valX_SE &lt;dbl&gt; |\n",
       "|---|---|---|---|---|\n",
       "| noun_F | 42 | -0.9826644 | 2.376311 | 0.3666727 |\n",
       "| noun_M | 42 | -1.2303364 | 1.812512 | 0.2796767 |\n",
       "| verb_X | 42 | -1.1917032 | 2.108405 | 0.3253340 |\n",
       "\n"
      ],
      "text/plain": [
       "  cond0  N  valX_M     valX_SD  valX_SE  \n",
       "1 noun_F 42 -0.9826644 2.376311 0.3666727\n",
       "2 noun_M 42 -1.2303364 1.812512 0.2796767\n",
       "3 verb_X 42 -1.1917032 2.108405 0.3253340"
      ]
     },
     "metadata": {},
     "output_type": "display_data"
    },
    {
     "data": {
      "text/markdown": [
       "### Expected marginal means"
      ]
     },
     "metadata": {},
     "output_type": "display_data"
    },
    {
     "data": {
      "text/html": [
       "<table>\n",
       "<caption>A apa_results_table: 3 × 5</caption>\n",
       "<thead>\n",
       "\t<tr><th></th><th scope=col>cond0</th><th scope=col>estimate</th><th scope=col>ci</th><th scope=col>statistic</th><th scope=col>p.value</th></tr>\n",
       "\t<tr><th></th><th scope=col>&lt;chr&gt;</th><th scope=col>&lt;ppj_lbll&gt;</th><th scope=col>&lt;ppj_lbll&gt;</th><th scope=col>&lt;ppj_lbll&gt;</th><th scope=col>&lt;ppj_lbll&gt;</th></tr>\n",
       "</thead>\n",
       "<tbody>\n",
       "\t<tr><th scope=row>noun_F</th><td>noun_F</td><td>-0.98</td><td>$[-1.64$, $-0.33]$</td><td>-3.02</td><td>.004  </td></tr>\n",
       "\t<tr><th scope=row>noun_M</th><td>noun_M</td><td>-1.23</td><td>$[-1.88$, $-0.58]$</td><td>-3.78</td><td>&lt; .001</td></tr>\n",
       "\t<tr><th scope=row>verb_X</th><td>verb_X</td><td>-1.19</td><td>$[-1.84$, $-0.54]$</td><td>-3.66</td><td>.001  </td></tr>\n",
       "</tbody>\n",
       "</table>\n"
      ],
      "text/latex": [
       "A apa\\_results\\_table: 3 × 5\n",
       "\\begin{tabular}{r|lllll}\n",
       "  & cond0 & estimate & ci & statistic & p.value\\\\\n",
       "  & <chr> & <ppj\\_lbll> & <ppj\\_lbll> & <ppj\\_lbll> & <ppj\\_lbll>\\\\\n",
       "\\hline\n",
       "\tnoun\\_F & noun\\_F & -0.98 & \\${[}-1.64\\$, \\$-0.33{]}\\$ & -3.02 & .004  \\\\\n",
       "\tnoun\\_M & noun\\_M & -1.23 & \\${[}-1.88\\$, \\$-0.58{]}\\$ & -3.78 & < .001\\\\\n",
       "\tverb\\_X & verb\\_X & -1.19 & \\${[}-1.84\\$, \\$-0.54{]}\\$ & -3.66 & .001  \\\\\n",
       "\\end{tabular}\n"
      ],
      "text/markdown": [
       "\n",
       "A apa_results_table: 3 × 5\n",
       "\n",
       "| <!--/--> | cond0 &lt;chr&gt; | estimate &lt;ppj_lbll&gt; | ci &lt;ppj_lbll&gt; | statistic &lt;ppj_lbll&gt; | p.value &lt;ppj_lbll&gt; |\n",
       "|---|---|---|---|---|---|\n",
       "| noun_F | noun_F | -0.98 | $[-1.64$, $-0.33]$ | -3.02 | .004   |\n",
       "| noun_M | noun_M | -1.23 | $[-1.88$, $-0.58]$ | -3.78 | &lt; .001 |\n",
       "| verb_X | verb_X | -1.19 | $[-1.84$, $-0.54]$ | -3.66 | .001   |\n",
       "\n"
      ],
      "text/plain": [
       "       cond0  estimate ci                 statistic p.value\n",
       "noun_F noun_F -0.98    $[-1.64$, $-0.33]$ -3.02     .004   \n",
       "noun_M noun_M -1.23    $[-1.88$, $-0.58]$ -3.78     < .001 \n",
       "verb_X verb_X -1.19    $[-1.84$, $-0.54]$ -3.66     .001   "
      ]
     },
     "metadata": {},
     "output_type": "display_data"
    },
    {
     "data": {
      "text/markdown": [
       "### Paired comparisons for expected marginal means"
      ]
     },
     "metadata": {},
     "output_type": "display_data"
    },
    {
     "data": {
      "text/html": [
       "<table>\n",
       "<caption>A apa_results_table: 3 × 5</caption>\n",
       "<thead>\n",
       "\t<tr><th></th><th scope=col>contrast</th><th scope=col>estimate</th><th scope=col>ci</th><th scope=col>statistic</th><th scope=col>p.value</th></tr>\n",
       "\t<tr><th></th><th scope=col>&lt;ppj_lbll&gt;</th><th scope=col>&lt;ppj_lbll&gt;</th><th scope=col>&lt;ppj_lbll&gt;</th><th scope=col>&lt;ppj_lbll&gt;</th><th scope=col>&lt;ppj_lbll&gt;</th></tr>\n",
       "</thead>\n",
       "<tbody>\n",
       "\t<tr><th scope=row>noun_F_noun_M</th><td>noun_F - noun_M</td><td>0.25 </td><td>$[-0.25$, $0.74]$</td><td>1.19 </td><td>.460</td></tr>\n",
       "\t<tr><th scope=row>noun_F_verb_X</th><td>noun_F - verb_X</td><td>0.21 </td><td>$[-0.29$, $0.70]$</td><td>1.01 </td><td>.574</td></tr>\n",
       "\t<tr><th scope=row>noun_M_verb_X</th><td>noun_M - verb_X</td><td>-0.04</td><td>$[-0.53$, $0.46]$</td><td>-0.19</td><td>.981</td></tr>\n",
       "</tbody>\n",
       "</table>\n"
      ],
      "text/latex": [
       "A apa\\_results\\_table: 3 × 5\n",
       "\\begin{tabular}{r|lllll}\n",
       "  & contrast & estimate & ci & statistic & p.value\\\\\n",
       "  & <ppj\\_lbll> & <ppj\\_lbll> & <ppj\\_lbll> & <ppj\\_lbll> & <ppj\\_lbll>\\\\\n",
       "\\hline\n",
       "\tnoun\\_F\\_noun\\_M & noun\\_F - noun\\_M & 0.25  & \\${[}-0.25\\$, \\$0.74{]}\\$ & 1.19  & .460\\\\\n",
       "\tnoun\\_F\\_verb\\_X & noun\\_F - verb\\_X & 0.21  & \\${[}-0.29\\$, \\$0.70{]}\\$ & 1.01  & .574\\\\\n",
       "\tnoun\\_M\\_verb\\_X & noun\\_M - verb\\_X & -0.04 & \\${[}-0.53\\$, \\$0.46{]}\\$ & -0.19 & .981\\\\\n",
       "\\end{tabular}\n"
      ],
      "text/markdown": [
       "\n",
       "A apa_results_table: 3 × 5\n",
       "\n",
       "| <!--/--> | contrast &lt;ppj_lbll&gt; | estimate &lt;ppj_lbll&gt; | ci &lt;ppj_lbll&gt; | statistic &lt;ppj_lbll&gt; | p.value &lt;ppj_lbll&gt; |\n",
       "|---|---|---|---|---|---|\n",
       "| noun_F_noun_M | noun_F - noun_M | 0.25  | $[-0.25$, $0.74]$ | 1.19  | .460 |\n",
       "| noun_F_verb_X | noun_F - verb_X | 0.21  | $[-0.29$, $0.70]$ | 1.01  | .574 |\n",
       "| noun_M_verb_X | noun_M - verb_X | -0.04 | $[-0.53$, $0.46]$ | -0.19 | .981 |\n",
       "\n"
      ],
      "text/plain": [
       "              contrast        estimate ci                statistic p.value\n",
       "noun_F_noun_M noun_F - noun_M 0.25     $[-0.25$, $0.74]$ 1.19      .460   \n",
       "noun_F_verb_X noun_F - verb_X 0.21     $[-0.29$, $0.70]$ 1.01      .574   \n",
       "noun_M_verb_X noun_M - verb_X -0.04    $[-0.53$, $0.46]$ -0.19     .981   "
      ]
     },
     "metadata": {},
     "output_type": "display_data"
    }
   ],
   "source": [
    "IDX <- IDX+1; COND <- CONDS[IDX]\n",
    "data1 <- droplevels(subset(df1, eval(parse(text=COND)))); data1 <- data1[complete.cases(data1),]; done1 <- AOV4(data1,COND)\n",
    "display_markdown(str_c(\"# Condition \",IDX,\" of \",length(CONDS))); display_markdown(done1$info); display_markdown(\"### Table\"); done1$aov_APA$table; display_markdown(\"### Result\"); display_markdown(done1$aov_APA[[\"full_result\"]][[\"cond0\"]]); display_markdown(\"### Summary (all done1, incl. NANs)\"); done1$summary; display_markdown(\"### Expected marginal means\"); done1$emm_APA$table; display_markdown(\"### Paired comparisons for expected marginal means\"); done1$pairs_APA$table"
   ]
  },
  {
   "cell_type": "code",
   "execution_count": 55,
   "metadata": {},
   "outputs": [
    {
     "data": {
      "text/markdown": [
       "# Condition 38 of 72"
      ]
     },
     "metadata": {},
     "output_type": "display_data"
    },
    {
     "data": {
      "text/markdown": [
       "`tmin0==0.41 & chan0==\"LF\" & mode0==\"neg\"`"
      ]
     },
     "metadata": {},
     "output_type": "display_data"
    },
    {
     "data": {
      "text/markdown": [
       "### Table"
      ]
     },
     "metadata": {},
     "output_type": "display_data"
    },
    {
     "data": {
      "text/html": [
       "<table>\n",
       "<caption>A apa_results_table: 1 × 7</caption>\n",
       "<thead>\n",
       "\t<tr><th></th><th scope=col>Effect</th><th scope=col>F</th><th scope=col>df1</th><th scope=col>df2</th><th scope=col>MSE</th><th scope=col>p</th><th scope=col>ges</th></tr>\n",
       "\t<tr><th></th><th scope=col>&lt;ppj_lbll&gt;</th><th scope=col>&lt;ppj_lbll&gt;</th><th scope=col>&lt;ppj_lbll&gt;</th><th scope=col>&lt;ppj_lbll&gt;</th><th scope=col>&lt;ppj_lbll&gt;</th><th scope=col>&lt;ppj_lbll&gt;</th><th scope=col>&lt;ppj_lbll&gt;</th></tr>\n",
       "</thead>\n",
       "<tbody>\n",
       "\t<tr><th scope=row>1</th><td>Cond0</td><td>2.38</td><td>1.89</td><td>77.40</td><td>0.78</td><td>.102</td><td>.006</td></tr>\n",
       "</tbody>\n",
       "</table>\n"
      ],
      "text/latex": [
       "A apa\\_results\\_table: 1 × 7\n",
       "\\begin{tabular}{r|lllllll}\n",
       "  & Effect & F & df1 & df2 & MSE & p & ges\\\\\n",
       "  & <ppj\\_lbll> & <ppj\\_lbll> & <ppj\\_lbll> & <ppj\\_lbll> & <ppj\\_lbll> & <ppj\\_lbll> & <ppj\\_lbll>\\\\\n",
       "\\hline\n",
       "\t1 & Cond0 & 2.38 & 1.89 & 77.40 & 0.78 & .102 & .006\\\\\n",
       "\\end{tabular}\n"
      ],
      "text/markdown": [
       "\n",
       "A apa_results_table: 1 × 7\n",
       "\n",
       "| <!--/--> | Effect &lt;ppj_lbll&gt; | F &lt;ppj_lbll&gt; | df1 &lt;ppj_lbll&gt; | df2 &lt;ppj_lbll&gt; | MSE &lt;ppj_lbll&gt; | p &lt;ppj_lbll&gt; | ges &lt;ppj_lbll&gt; |\n",
       "|---|---|---|---|---|---|---|---|\n",
       "| 1 | Cond0 | 2.38 | 1.89 | 77.40 | 0.78 | .102 | .006 |\n",
       "\n"
      ],
      "text/plain": [
       "  Effect F    df1  df2   MSE  p    ges \n",
       "1 Cond0  2.38 1.89 77.40 0.78 .102 .006"
      ]
     },
     "metadata": {},
     "output_type": "display_data"
    },
    {
     "data": {
      "text/markdown": [
       "### Result"
      ]
     },
     "metadata": {},
     "output_type": "display_data"
    },
    {
     "data": {
      "text/markdown": [
       "$F(1.89, 77.40) = 2.38$, $\\mathit{MSE} = 0.78$, $p = .102$, $\\hat{\\eta}^2_G = .006$"
      ]
     },
     "metadata": {},
     "output_type": "display_data"
    },
    {
     "data": {
      "text/markdown": [
       "### Summary (all done1, incl. NANs)"
      ]
     },
     "metadata": {},
     "output_type": "display_data"
    },
    {
     "data": {
      "text/html": [
       "<table>\n",
       "<caption>A tibble: 3 × 5</caption>\n",
       "<thead>\n",
       "\t<tr><th scope=col>cond0</th><th scope=col>N</th><th scope=col>valX_M</th><th scope=col>valX_SD</th><th scope=col>valX_SE</th></tr>\n",
       "\t<tr><th scope=col>&lt;fct&gt;</th><th scope=col>&lt;int&gt;</th><th scope=col>&lt;dbl&gt;</th><th scope=col>&lt;dbl&gt;</th><th scope=col>&lt;dbl&gt;</th></tr>\n",
       "</thead>\n",
       "<tbody>\n",
       "\t<tr><td>noun_F</td><td>42</td><td>-3.020868</td><td>2.226987</td><td>0.3436316</td></tr>\n",
       "\t<tr><td>noun_M</td><td>42</td><td>-3.309663</td><td>1.924940</td><td>0.2970248</td></tr>\n",
       "\t<tr><td>verb_X</td><td>42</td><td>-2.915711</td><td>2.270142</td><td>0.3502906</td></tr>\n",
       "</tbody>\n",
       "</table>\n"
      ],
      "text/latex": [
       "A tibble: 3 × 5\n",
       "\\begin{tabular}{lllll}\n",
       " cond0 & N & valX\\_M & valX\\_SD & valX\\_SE\\\\\n",
       " <fct> & <int> & <dbl> & <dbl> & <dbl>\\\\\n",
       "\\hline\n",
       "\t noun\\_F & 42 & -3.020868 & 2.226987 & 0.3436316\\\\\n",
       "\t noun\\_M & 42 & -3.309663 & 1.924940 & 0.2970248\\\\\n",
       "\t verb\\_X & 42 & -2.915711 & 2.270142 & 0.3502906\\\\\n",
       "\\end{tabular}\n"
      ],
      "text/markdown": [
       "\n",
       "A tibble: 3 × 5\n",
       "\n",
       "| cond0 &lt;fct&gt; | N &lt;int&gt; | valX_M &lt;dbl&gt; | valX_SD &lt;dbl&gt; | valX_SE &lt;dbl&gt; |\n",
       "|---|---|---|---|---|\n",
       "| noun_F | 42 | -3.020868 | 2.226987 | 0.3436316 |\n",
       "| noun_M | 42 | -3.309663 | 1.924940 | 0.2970248 |\n",
       "| verb_X | 42 | -2.915711 | 2.270142 | 0.3502906 |\n",
       "\n"
      ],
      "text/plain": [
       "  cond0  N  valX_M    valX_SD  valX_SE  \n",
       "1 noun_F 42 -3.020868 2.226987 0.3436316\n",
       "2 noun_M 42 -3.309663 1.924940 0.2970248\n",
       "3 verb_X 42 -2.915711 2.270142 0.3502906"
      ]
     },
     "metadata": {},
     "output_type": "display_data"
    },
    {
     "data": {
      "text/markdown": [
       "### Expected marginal means"
      ]
     },
     "metadata": {},
     "output_type": "display_data"
    },
    {
     "data": {
      "text/html": [
       "<table>\n",
       "<caption>A apa_results_table: 3 × 5</caption>\n",
       "<thead>\n",
       "\t<tr><th></th><th scope=col>cond0</th><th scope=col>estimate</th><th scope=col>ci</th><th scope=col>statistic</th><th scope=col>p.value</th></tr>\n",
       "\t<tr><th></th><th scope=col>&lt;chr&gt;</th><th scope=col>&lt;ppj_lbll&gt;</th><th scope=col>&lt;ppj_lbll&gt;</th><th scope=col>&lt;ppj_lbll&gt;</th><th scope=col>&lt;ppj_lbll&gt;</th></tr>\n",
       "</thead>\n",
       "<tbody>\n",
       "\t<tr><th scope=row>noun_F</th><td>noun_F</td><td>-3.02</td><td>$[-3.69$, $-2.36]$</td><td>-9.12</td><td>&lt; .001</td></tr>\n",
       "\t<tr><th scope=row>noun_M</th><td>noun_M</td><td>-3.31</td><td>$[-3.97$, $-2.64]$</td><td>-9.99</td><td>&lt; .001</td></tr>\n",
       "\t<tr><th scope=row>verb_X</th><td>verb_X</td><td>-2.92</td><td>$[-3.58$, $-2.25]$</td><td>-8.80</td><td>&lt; .001</td></tr>\n",
       "</tbody>\n",
       "</table>\n"
      ],
      "text/latex": [
       "A apa\\_results\\_table: 3 × 5\n",
       "\\begin{tabular}{r|lllll}\n",
       "  & cond0 & estimate & ci & statistic & p.value\\\\\n",
       "  & <chr> & <ppj\\_lbll> & <ppj\\_lbll> & <ppj\\_lbll> & <ppj\\_lbll>\\\\\n",
       "\\hline\n",
       "\tnoun\\_F & noun\\_F & -3.02 & \\${[}-3.69\\$, \\$-2.36{]}\\$ & -9.12 & < .001\\\\\n",
       "\tnoun\\_M & noun\\_M & -3.31 & \\${[}-3.97\\$, \\$-2.64{]}\\$ & -9.99 & < .001\\\\\n",
       "\tverb\\_X & verb\\_X & -2.92 & \\${[}-3.58\\$, \\$-2.25{]}\\$ & -8.80 & < .001\\\\\n",
       "\\end{tabular}\n"
      ],
      "text/markdown": [
       "\n",
       "A apa_results_table: 3 × 5\n",
       "\n",
       "| <!--/--> | cond0 &lt;chr&gt; | estimate &lt;ppj_lbll&gt; | ci &lt;ppj_lbll&gt; | statistic &lt;ppj_lbll&gt; | p.value &lt;ppj_lbll&gt; |\n",
       "|---|---|---|---|---|---|\n",
       "| noun_F | noun_F | -3.02 | $[-3.69$, $-2.36]$ | -9.12 | &lt; .001 |\n",
       "| noun_M | noun_M | -3.31 | $[-3.97$, $-2.64]$ | -9.99 | &lt; .001 |\n",
       "| verb_X | verb_X | -2.92 | $[-3.58$, $-2.25]$ | -8.80 | &lt; .001 |\n",
       "\n"
      ],
      "text/plain": [
       "       cond0  estimate ci                 statistic p.value\n",
       "noun_F noun_F -3.02    $[-3.69$, $-2.36]$ -9.12     < .001 \n",
       "noun_M noun_M -3.31    $[-3.97$, $-2.64]$ -9.99     < .001 \n",
       "verb_X verb_X -2.92    $[-3.58$, $-2.25]$ -8.80     < .001 "
      ]
     },
     "metadata": {},
     "output_type": "display_data"
    },
    {
     "data": {
      "text/markdown": [
       "### Paired comparisons for expected marginal means"
      ]
     },
     "metadata": {},
     "output_type": "display_data"
    },
    {
     "data": {
      "text/html": [
       "<table>\n",
       "<caption>A apa_results_table: 3 × 5</caption>\n",
       "<thead>\n",
       "\t<tr><th></th><th scope=col>contrast</th><th scope=col>estimate</th><th scope=col>ci</th><th scope=col>statistic</th><th scope=col>p.value</th></tr>\n",
       "\t<tr><th></th><th scope=col>&lt;ppj_lbll&gt;</th><th scope=col>&lt;ppj_lbll&gt;</th><th scope=col>&lt;ppj_lbll&gt;</th><th scope=col>&lt;ppj_lbll&gt;</th><th scope=col>&lt;ppj_lbll&gt;</th></tr>\n",
       "</thead>\n",
       "<tbody>\n",
       "\t<tr><th scope=row>noun_F_noun_M</th><td>noun_F - noun_M</td><td>0.29 </td><td>$[-0.16$, $0.73]$</td><td>1.55 </td><td>.275</td></tr>\n",
       "\t<tr><th scope=row>noun_F_verb_X</th><td>noun_F - verb_X</td><td>-0.11</td><td>$[-0.55$, $0.34]$</td><td>-0.56</td><td>.840</td></tr>\n",
       "\t<tr><th scope=row>noun_M_verb_X</th><td>noun_M - verb_X</td><td>-0.39</td><td>$[-0.84$, $0.05]$</td><td>-2.11</td><td>.094</td></tr>\n",
       "</tbody>\n",
       "</table>\n"
      ],
      "text/latex": [
       "A apa\\_results\\_table: 3 × 5\n",
       "\\begin{tabular}{r|lllll}\n",
       "  & contrast & estimate & ci & statistic & p.value\\\\\n",
       "  & <ppj\\_lbll> & <ppj\\_lbll> & <ppj\\_lbll> & <ppj\\_lbll> & <ppj\\_lbll>\\\\\n",
       "\\hline\n",
       "\tnoun\\_F\\_noun\\_M & noun\\_F - noun\\_M & 0.29  & \\${[}-0.16\\$, \\$0.73{]}\\$ & 1.55  & .275\\\\\n",
       "\tnoun\\_F\\_verb\\_X & noun\\_F - verb\\_X & -0.11 & \\${[}-0.55\\$, \\$0.34{]}\\$ & -0.56 & .840\\\\\n",
       "\tnoun\\_M\\_verb\\_X & noun\\_M - verb\\_X & -0.39 & \\${[}-0.84\\$, \\$0.05{]}\\$ & -2.11 & .094\\\\\n",
       "\\end{tabular}\n"
      ],
      "text/markdown": [
       "\n",
       "A apa_results_table: 3 × 5\n",
       "\n",
       "| <!--/--> | contrast &lt;ppj_lbll&gt; | estimate &lt;ppj_lbll&gt; | ci &lt;ppj_lbll&gt; | statistic &lt;ppj_lbll&gt; | p.value &lt;ppj_lbll&gt; |\n",
       "|---|---|---|---|---|---|\n",
       "| noun_F_noun_M | noun_F - noun_M | 0.29  | $[-0.16$, $0.73]$ | 1.55  | .275 |\n",
       "| noun_F_verb_X | noun_F - verb_X | -0.11 | $[-0.55$, $0.34]$ | -0.56 | .840 |\n",
       "| noun_M_verb_X | noun_M - verb_X | -0.39 | $[-0.84$, $0.05]$ | -2.11 | .094 |\n",
       "\n"
      ],
      "text/plain": [
       "              contrast        estimate ci                statistic p.value\n",
       "noun_F_noun_M noun_F - noun_M 0.29     $[-0.16$, $0.73]$ 1.55      .275   \n",
       "noun_F_verb_X noun_F - verb_X -0.11    $[-0.55$, $0.34]$ -0.56     .840   \n",
       "noun_M_verb_X noun_M - verb_X -0.39    $[-0.84$, $0.05]$ -2.11     .094   "
      ]
     },
     "metadata": {},
     "output_type": "display_data"
    }
   ],
   "source": [
    "IDX <- IDX+1; COND <- CONDS[IDX]\n",
    "data1 <- droplevels(subset(df1, eval(parse(text=COND)))); data1 <- data1[complete.cases(data1),]; done1 <- AOV4(data1,COND)\n",
    "display_markdown(str_c(\"# Condition \",IDX,\" of \",length(CONDS))); display_markdown(done1$info); display_markdown(\"### Table\"); done1$aov_APA$table; display_markdown(\"### Result\"); display_markdown(done1$aov_APA[[\"full_result\"]][[\"cond0\"]]); display_markdown(\"### Summary (all done1, incl. NANs)\"); done1$summary; display_markdown(\"### Expected marginal means\"); done1$emm_APA$table; display_markdown(\"### Paired comparisons for expected marginal means\"); done1$pairs_APA$table"
   ]
  },
  {
   "cell_type": "code",
   "execution_count": 56,
   "metadata": {},
   "outputs": [
    {
     "name": "stderr",
     "output_type": "stream",
     "text": [
      "Warning message:\n",
      "“Missing values for following ID(s):\n",
      "07zrxf\n",
      "Removing those cases from the analysis.”\n",
      "Warning message in summary.Anova.mlm(x$Anova):\n",
      "“HF eps > 1 treated as 1”\n"
     ]
    },
    {
     "data": {
      "text/markdown": [
       "# Condition 39 of 72"
      ]
     },
     "metadata": {},
     "output_type": "display_data"
    },
    {
     "data": {
      "text/markdown": [
       "`tmin0==0.41 & chan0==\"RF\" & mode0==\"pos\"`"
      ]
     },
     "metadata": {},
     "output_type": "display_data"
    },
    {
     "data": {
      "text/markdown": [
       "### Table"
      ]
     },
     "metadata": {},
     "output_type": "display_data"
    },
    {
     "data": {
      "text/html": [
       "<table>\n",
       "<caption>A apa_results_table: 1 × 7</caption>\n",
       "<thead>\n",
       "\t<tr><th></th><th scope=col>Effect</th><th scope=col>F</th><th scope=col>df1</th><th scope=col>df2</th><th scope=col>MSE</th><th scope=col>p</th><th scope=col>ges</th></tr>\n",
       "\t<tr><th></th><th scope=col>&lt;ppj_lbll&gt;</th><th scope=col>&lt;ppj_lbll&gt;</th><th scope=col>&lt;ppj_lbll&gt;</th><th scope=col>&lt;ppj_lbll&gt;</th><th scope=col>&lt;ppj_lbll&gt;</th><th scope=col>&lt;ppj_lbll&gt;</th><th scope=col>&lt;ppj_lbll&gt;</th></tr>\n",
       "</thead>\n",
       "<tbody>\n",
       "\t<tr><th scope=row>1</th><td>Cond0</td><td>1.97</td><td>1.92</td><td>76.66</td><td>0.35</td><td>.148</td><td>.003</td></tr>\n",
       "</tbody>\n",
       "</table>\n"
      ],
      "text/latex": [
       "A apa\\_results\\_table: 1 × 7\n",
       "\\begin{tabular}{r|lllllll}\n",
       "  & Effect & F & df1 & df2 & MSE & p & ges\\\\\n",
       "  & <ppj\\_lbll> & <ppj\\_lbll> & <ppj\\_lbll> & <ppj\\_lbll> & <ppj\\_lbll> & <ppj\\_lbll> & <ppj\\_lbll>\\\\\n",
       "\\hline\n",
       "\t1 & Cond0 & 1.97 & 1.92 & 76.66 & 0.35 & .148 & .003\\\\\n",
       "\\end{tabular}\n"
      ],
      "text/markdown": [
       "\n",
       "A apa_results_table: 1 × 7\n",
       "\n",
       "| <!--/--> | Effect &lt;ppj_lbll&gt; | F &lt;ppj_lbll&gt; | df1 &lt;ppj_lbll&gt; | df2 &lt;ppj_lbll&gt; | MSE &lt;ppj_lbll&gt; | p &lt;ppj_lbll&gt; | ges &lt;ppj_lbll&gt; |\n",
       "|---|---|---|---|---|---|---|---|\n",
       "| 1 | Cond0 | 1.97 | 1.92 | 76.66 | 0.35 | .148 | .003 |\n",
       "\n"
      ],
      "text/plain": [
       "  Effect F    df1  df2   MSE  p    ges \n",
       "1 Cond0  1.97 1.92 76.66 0.35 .148 .003"
      ]
     },
     "metadata": {},
     "output_type": "display_data"
    },
    {
     "data": {
      "text/markdown": [
       "### Result"
      ]
     },
     "metadata": {},
     "output_type": "display_data"
    },
    {
     "data": {
      "text/markdown": [
       "$F(1.92, 76.66) = 1.97$, $\\mathit{MSE} = 0.35$, $p = .148$, $\\hat{\\eta}^2_G = .003$"
      ]
     },
     "metadata": {},
     "output_type": "display_data"
    },
    {
     "data": {
      "text/markdown": [
       "### Summary (all done1, incl. NANs)"
      ]
     },
     "metadata": {},
     "output_type": "display_data"
    },
    {
     "data": {
      "text/html": [
       "<table>\n",
       "<caption>A tibble: 3 × 5</caption>\n",
       "<thead>\n",
       "\t<tr><th scope=col>cond0</th><th scope=col>N</th><th scope=col>valX_M</th><th scope=col>valX_SD</th><th scope=col>valX_SE</th></tr>\n",
       "\t<tr><th scope=col>&lt;fct&gt;</th><th scope=col>&lt;int&gt;</th><th scope=col>&lt;dbl&gt;</th><th scope=col>&lt;dbl&gt;</th><th scope=col>&lt;dbl&gt;</th></tr>\n",
       "</thead>\n",
       "<tbody>\n",
       "\t<tr><td>noun_F</td><td>42</td><td>-1.042816</td><td>2.601125</td><td>0.4013623</td></tr>\n",
       "\t<tr><td>noun_M</td><td>42</td><td>-1.435159</td><td>1.854583</td><td>0.2861684</td></tr>\n",
       "\t<tr><td>verb_X</td><td>41</td><td>-1.577668</td><td>1.938928</td><td>0.3028098</td></tr>\n",
       "</tbody>\n",
       "</table>\n"
      ],
      "text/latex": [
       "A tibble: 3 × 5\n",
       "\\begin{tabular}{lllll}\n",
       " cond0 & N & valX\\_M & valX\\_SD & valX\\_SE\\\\\n",
       " <fct> & <int> & <dbl> & <dbl> & <dbl>\\\\\n",
       "\\hline\n",
       "\t noun\\_F & 42 & -1.042816 & 2.601125 & 0.4013623\\\\\n",
       "\t noun\\_M & 42 & -1.435159 & 1.854583 & 0.2861684\\\\\n",
       "\t verb\\_X & 41 & -1.577668 & 1.938928 & 0.3028098\\\\\n",
       "\\end{tabular}\n"
      ],
      "text/markdown": [
       "\n",
       "A tibble: 3 × 5\n",
       "\n",
       "| cond0 &lt;fct&gt; | N &lt;int&gt; | valX_M &lt;dbl&gt; | valX_SD &lt;dbl&gt; | valX_SE &lt;dbl&gt; |\n",
       "|---|---|---|---|---|\n",
       "| noun_F | 42 | -1.042816 | 2.601125 | 0.4013623 |\n",
       "| noun_M | 42 | -1.435159 | 1.854583 | 0.2861684 |\n",
       "| verb_X | 41 | -1.577668 | 1.938928 | 0.3028098 |\n",
       "\n"
      ],
      "text/plain": [
       "  cond0  N  valX_M    valX_SD  valX_SE  \n",
       "1 noun_F 42 -1.042816 2.601125 0.4013623\n",
       "2 noun_M 42 -1.435159 1.854583 0.2861684\n",
       "3 verb_X 41 -1.577668 1.938928 0.3028098"
      ]
     },
     "metadata": {},
     "output_type": "display_data"
    },
    {
     "data": {
      "text/markdown": [
       "### Expected marginal means"
      ]
     },
     "metadata": {},
     "output_type": "display_data"
    },
    {
     "data": {
      "text/html": [
       "<table>\n",
       "<caption>A apa_results_table: 3 × 5</caption>\n",
       "<thead>\n",
       "\t<tr><th></th><th scope=col>cond0</th><th scope=col>estimate</th><th scope=col>ci</th><th scope=col>statistic</th><th scope=col>p.value</th></tr>\n",
       "\t<tr><th></th><th scope=col>&lt;chr&gt;</th><th scope=col>&lt;ppj_lbll&gt;</th><th scope=col>&lt;ppj_lbll&gt;</th><th scope=col>&lt;ppj_lbll&gt;</th><th scope=col>&lt;ppj_lbll&gt;</th></tr>\n",
       "</thead>\n",
       "<tbody>\n",
       "\t<tr><th scope=row>noun_F</th><td>noun_F</td><td>-1.34</td><td>$[-1.91$, $-0.78]$</td><td>-4.76</td><td>&lt; .001</td></tr>\n",
       "\t<tr><th scope=row>noun_M</th><td>noun_M</td><td>-1.55</td><td>$[-2.12$, $-0.98]$</td><td>-5.48</td><td>&lt; .001</td></tr>\n",
       "\t<tr><th scope=row>verb_X</th><td>verb_X</td><td>-1.58</td><td>$[-2.15$, $-1.01]$</td><td>-5.59</td><td>&lt; .001</td></tr>\n",
       "</tbody>\n",
       "</table>\n"
      ],
      "text/latex": [
       "A apa\\_results\\_table: 3 × 5\n",
       "\\begin{tabular}{r|lllll}\n",
       "  & cond0 & estimate & ci & statistic & p.value\\\\\n",
       "  & <chr> & <ppj\\_lbll> & <ppj\\_lbll> & <ppj\\_lbll> & <ppj\\_lbll>\\\\\n",
       "\\hline\n",
       "\tnoun\\_F & noun\\_F & -1.34 & \\${[}-1.91\\$, \\$-0.78{]}\\$ & -4.76 & < .001\\\\\n",
       "\tnoun\\_M & noun\\_M & -1.55 & \\${[}-2.12\\$, \\$-0.98{]}\\$ & -5.48 & < .001\\\\\n",
       "\tverb\\_X & verb\\_X & -1.58 & \\${[}-2.15\\$, \\$-1.01{]}\\$ & -5.59 & < .001\\\\\n",
       "\\end{tabular}\n"
      ],
      "text/markdown": [
       "\n",
       "A apa_results_table: 3 × 5\n",
       "\n",
       "| <!--/--> | cond0 &lt;chr&gt; | estimate &lt;ppj_lbll&gt; | ci &lt;ppj_lbll&gt; | statistic &lt;ppj_lbll&gt; | p.value &lt;ppj_lbll&gt; |\n",
       "|---|---|---|---|---|---|\n",
       "| noun_F | noun_F | -1.34 | $[-1.91$, $-0.78]$ | -4.76 | &lt; .001 |\n",
       "| noun_M | noun_M | -1.55 | $[-2.12$, $-0.98]$ | -5.48 | &lt; .001 |\n",
       "| verb_X | verb_X | -1.58 | $[-2.15$, $-1.01]$ | -5.59 | &lt; .001 |\n",
       "\n"
      ],
      "text/plain": [
       "       cond0  estimate ci                 statistic p.value\n",
       "noun_F noun_F -1.34    $[-1.91$, $-0.78]$ -4.76     < .001 \n",
       "noun_M noun_M -1.55    $[-2.12$, $-0.98]$ -5.48     < .001 \n",
       "verb_X verb_X -1.58    $[-2.15$, $-1.01]$ -5.59     < .001 "
      ]
     },
     "metadata": {},
     "output_type": "display_data"
    },
    {
     "data": {
      "text/markdown": [
       "### Paired comparisons for expected marginal means"
      ]
     },
     "metadata": {},
     "output_type": "display_data"
    },
    {
     "data": {
      "text/html": [
       "<table>\n",
       "<caption>A apa_results_table: 3 × 5</caption>\n",
       "<thead>\n",
       "\t<tr><th></th><th scope=col>contrast</th><th scope=col>estimate</th><th scope=col>ci</th><th scope=col>statistic</th><th scope=col>p.value</th></tr>\n",
       "\t<tr><th></th><th scope=col>&lt;ppj_lbll&gt;</th><th scope=col>&lt;ppj_lbll&gt;</th><th scope=col>&lt;ppj_lbll&gt;</th><th scope=col>&lt;ppj_lbll&gt;</th><th scope=col>&lt;ppj_lbll&gt;</th></tr>\n",
       "</thead>\n",
       "<tbody>\n",
       "\t<tr><th scope=row>noun_F_noun_M</th><td>noun_F - noun_M</td><td>0.20</td><td>$[-0.10$, $0.51]$</td><td>1.59</td><td>.256</td></tr>\n",
       "\t<tr><th scope=row>noun_F_verb_X</th><td>noun_F - verb_X</td><td>0.23</td><td>$[-0.07$, $0.54]$</td><td>1.83</td><td>.167</td></tr>\n",
       "\t<tr><th scope=row>noun_M_verb_X</th><td>noun_M - verb_X</td><td>0.03</td><td>$[-0.28$, $0.34]$</td><td>0.24</td><td>.970</td></tr>\n",
       "</tbody>\n",
       "</table>\n"
      ],
      "text/latex": [
       "A apa\\_results\\_table: 3 × 5\n",
       "\\begin{tabular}{r|lllll}\n",
       "  & contrast & estimate & ci & statistic & p.value\\\\\n",
       "  & <ppj\\_lbll> & <ppj\\_lbll> & <ppj\\_lbll> & <ppj\\_lbll> & <ppj\\_lbll>\\\\\n",
       "\\hline\n",
       "\tnoun\\_F\\_noun\\_M & noun\\_F - noun\\_M & 0.20 & \\${[}-0.10\\$, \\$0.51{]}\\$ & 1.59 & .256\\\\\n",
       "\tnoun\\_F\\_verb\\_X & noun\\_F - verb\\_X & 0.23 & \\${[}-0.07\\$, \\$0.54{]}\\$ & 1.83 & .167\\\\\n",
       "\tnoun\\_M\\_verb\\_X & noun\\_M - verb\\_X & 0.03 & \\${[}-0.28\\$, \\$0.34{]}\\$ & 0.24 & .970\\\\\n",
       "\\end{tabular}\n"
      ],
      "text/markdown": [
       "\n",
       "A apa_results_table: 3 × 5\n",
       "\n",
       "| <!--/--> | contrast &lt;ppj_lbll&gt; | estimate &lt;ppj_lbll&gt; | ci &lt;ppj_lbll&gt; | statistic &lt;ppj_lbll&gt; | p.value &lt;ppj_lbll&gt; |\n",
       "|---|---|---|---|---|---|\n",
       "| noun_F_noun_M | noun_F - noun_M | 0.20 | $[-0.10$, $0.51]$ | 1.59 | .256 |\n",
       "| noun_F_verb_X | noun_F - verb_X | 0.23 | $[-0.07$, $0.54]$ | 1.83 | .167 |\n",
       "| noun_M_verb_X | noun_M - verb_X | 0.03 | $[-0.28$, $0.34]$ | 0.24 | .970 |\n",
       "\n"
      ],
      "text/plain": [
       "              contrast        estimate ci                statistic p.value\n",
       "noun_F_noun_M noun_F - noun_M 0.20     $[-0.10$, $0.51]$ 1.59      .256   \n",
       "noun_F_verb_X noun_F - verb_X 0.23     $[-0.07$, $0.54]$ 1.83      .167   \n",
       "noun_M_verb_X noun_M - verb_X 0.03     $[-0.28$, $0.34]$ 0.24      .970   "
      ]
     },
     "metadata": {},
     "output_type": "display_data"
    }
   ],
   "source": [
    "IDX <- IDX+1; COND <- CONDS[IDX]\n",
    "data1 <- droplevels(subset(df1, eval(parse(text=COND)))); data1 <- data1[complete.cases(data1),]; done1 <- AOV4(data1,COND)\n",
    "display_markdown(str_c(\"# Condition \",IDX,\" of \",length(CONDS))); display_markdown(done1$info); display_markdown(\"### Table\"); done1$aov_APA$table; display_markdown(\"### Result\"); display_markdown(done1$aov_APA[[\"full_result\"]][[\"cond0\"]]); display_markdown(\"### Summary (all done1, incl. NANs)\"); done1$summary; display_markdown(\"### Expected marginal means\"); done1$emm_APA$table; display_markdown(\"### Paired comparisons for expected marginal means\"); done1$pairs_APA$table"
   ]
  },
  {
   "cell_type": "code",
   "execution_count": 57,
   "metadata": {},
   "outputs": [
    {
     "name": "stderr",
     "output_type": "stream",
     "text": [
      "Warning message:\n",
      "“Missing values for following ID(s):\n",
      "07zrxf\n",
      "Removing those cases from the analysis.”\n"
     ]
    },
    {
     "data": {
      "text/markdown": [
       "# Condition 40 of 72"
      ]
     },
     "metadata": {},
     "output_type": "display_data"
    },
    {
     "data": {
      "text/markdown": [
       "`tmin0==0.41 & chan0==\"RF\" & mode0==\"neg\"`"
      ]
     },
     "metadata": {},
     "output_type": "display_data"
    },
    {
     "data": {
      "text/markdown": [
       "### Table"
      ]
     },
     "metadata": {},
     "output_type": "display_data"
    },
    {
     "data": {
      "text/html": [
       "<table>\n",
       "<caption>A apa_results_table: 1 × 7</caption>\n",
       "<thead>\n",
       "\t<tr><th></th><th scope=col>Effect</th><th scope=col>F</th><th scope=col>df1</th><th scope=col>df2</th><th scope=col>MSE</th><th scope=col>p</th><th scope=col>ges</th></tr>\n",
       "\t<tr><th></th><th scope=col>&lt;ppj_lbll&gt;</th><th scope=col>&lt;ppj_lbll&gt;</th><th scope=col>&lt;ppj_lbll&gt;</th><th scope=col>&lt;ppj_lbll&gt;</th><th scope=col>&lt;ppj_lbll&gt;</th><th scope=col>&lt;ppj_lbll&gt;</th><th scope=col>&lt;ppj_lbll&gt;</th></tr>\n",
       "</thead>\n",
       "<tbody>\n",
       "\t<tr><th scope=row>1</th><td>Cond0</td><td>2.23</td><td>1.60</td><td>64.11</td><td>0.52</td><td>.126</td><td>.004</td></tr>\n",
       "</tbody>\n",
       "</table>\n"
      ],
      "text/latex": [
       "A apa\\_results\\_table: 1 × 7\n",
       "\\begin{tabular}{r|lllllll}\n",
       "  & Effect & F & df1 & df2 & MSE & p & ges\\\\\n",
       "  & <ppj\\_lbll> & <ppj\\_lbll> & <ppj\\_lbll> & <ppj\\_lbll> & <ppj\\_lbll> & <ppj\\_lbll> & <ppj\\_lbll>\\\\\n",
       "\\hline\n",
       "\t1 & Cond0 & 2.23 & 1.60 & 64.11 & 0.52 & .126 & .004\\\\\n",
       "\\end{tabular}\n"
      ],
      "text/markdown": [
       "\n",
       "A apa_results_table: 1 × 7\n",
       "\n",
       "| <!--/--> | Effect &lt;ppj_lbll&gt; | F &lt;ppj_lbll&gt; | df1 &lt;ppj_lbll&gt; | df2 &lt;ppj_lbll&gt; | MSE &lt;ppj_lbll&gt; | p &lt;ppj_lbll&gt; | ges &lt;ppj_lbll&gt; |\n",
       "|---|---|---|---|---|---|---|---|\n",
       "| 1 | Cond0 | 2.23 | 1.60 | 64.11 | 0.52 | .126 | .004 |\n",
       "\n"
      ],
      "text/plain": [
       "  Effect F    df1  df2   MSE  p    ges \n",
       "1 Cond0  2.23 1.60 64.11 0.52 .126 .004"
      ]
     },
     "metadata": {},
     "output_type": "display_data"
    },
    {
     "data": {
      "text/markdown": [
       "### Result"
      ]
     },
     "metadata": {},
     "output_type": "display_data"
    },
    {
     "data": {
      "text/markdown": [
       "$F(1.60, 64.11) = 2.23$, $\\mathit{MSE} = 0.52$, $p = .126$, $\\hat{\\eta}^2_G = .004$"
      ]
     },
     "metadata": {},
     "output_type": "display_data"
    },
    {
     "data": {
      "text/markdown": [
       "### Summary (all done1, incl. NANs)"
      ]
     },
     "metadata": {},
     "output_type": "display_data"
    },
    {
     "data": {
      "text/html": [
       "<table>\n",
       "<caption>A tibble: 3 × 5</caption>\n",
       "<thead>\n",
       "\t<tr><th scope=col>cond0</th><th scope=col>N</th><th scope=col>valX_M</th><th scope=col>valX_SD</th><th scope=col>valX_SE</th></tr>\n",
       "\t<tr><th scope=col>&lt;fct&gt;</th><th scope=col>&lt;int&gt;</th><th scope=col>&lt;dbl&gt;</th><th scope=col>&lt;dbl&gt;</th><th scope=col>&lt;dbl&gt;</th></tr>\n",
       "</thead>\n",
       "<tbody>\n",
       "\t<tr><td>noun_F</td><td>41</td><td>-3.594184</td><td>1.767796</td><td>0.2760833</td></tr>\n",
       "\t<tr><td>noun_M</td><td>42</td><td>-3.721401</td><td>1.868240</td><td>0.2882757</td></tr>\n",
       "\t<tr><td>verb_X</td><td>41</td><td>-3.458458</td><td>1.945652</td><td>0.3038598</td></tr>\n",
       "</tbody>\n",
       "</table>\n"
      ],
      "text/latex": [
       "A tibble: 3 × 5\n",
       "\\begin{tabular}{lllll}\n",
       " cond0 & N & valX\\_M & valX\\_SD & valX\\_SE\\\\\n",
       " <fct> & <int> & <dbl> & <dbl> & <dbl>\\\\\n",
       "\\hline\n",
       "\t noun\\_F & 41 & -3.594184 & 1.767796 & 0.2760833\\\\\n",
       "\t noun\\_M & 42 & -3.721401 & 1.868240 & 0.2882757\\\\\n",
       "\t verb\\_X & 41 & -3.458458 & 1.945652 & 0.3038598\\\\\n",
       "\\end{tabular}\n"
      ],
      "text/markdown": [
       "\n",
       "A tibble: 3 × 5\n",
       "\n",
       "| cond0 &lt;fct&gt; | N &lt;int&gt; | valX_M &lt;dbl&gt; | valX_SD &lt;dbl&gt; | valX_SE &lt;dbl&gt; |\n",
       "|---|---|---|---|---|\n",
       "| noun_F | 41 | -3.594184 | 1.767796 | 0.2760833 |\n",
       "| noun_M | 42 | -3.721401 | 1.868240 | 0.2882757 |\n",
       "| verb_X | 41 | -3.458458 | 1.945652 | 0.3038598 |\n",
       "\n"
      ],
      "text/plain": [
       "  cond0  N  valX_M    valX_SD  valX_SE  \n",
       "1 noun_F 41 -3.594184 1.767796 0.2760833\n",
       "2 noun_M 42 -3.721401 1.868240 0.2882757\n",
       "3 verb_X 41 -3.458458 1.945652 0.3038598"
      ]
     },
     "metadata": {},
     "output_type": "display_data"
    },
    {
     "data": {
      "text/markdown": [
       "### Expected marginal means"
      ]
     },
     "metadata": {},
     "output_type": "display_data"
    },
    {
     "data": {
      "text/html": [
       "<table>\n",
       "<caption>A apa_results_table: 3 × 5</caption>\n",
       "<thead>\n",
       "\t<tr><th></th><th scope=col>cond0</th><th scope=col>estimate</th><th scope=col>ci</th><th scope=col>statistic</th><th scope=col>p.value</th></tr>\n",
       "\t<tr><th></th><th scope=col>&lt;chr&gt;</th><th scope=col>&lt;ppj_lbll&gt;</th><th scope=col>&lt;ppj_lbll&gt;</th><th scope=col>&lt;ppj_lbll&gt;</th><th scope=col>&lt;ppj_lbll&gt;</th></tr>\n",
       "</thead>\n",
       "<tbody>\n",
       "\t<tr><th scope=row>noun_F</th><td>noun_F</td><td>-3.59</td><td>$[-4.18$, $-3.01]$</td><td>-12.35</td><td>&lt; .001</td></tr>\n",
       "\t<tr><th scope=row>noun_M</th><td>noun_M</td><td>-3.76</td><td>$[-4.35$, $-3.17]$</td><td>-12.92</td><td>&lt; .001</td></tr>\n",
       "\t<tr><th scope=row>verb_X</th><td>verb_X</td><td>-3.46</td><td>$[-4.04$, $-2.87]$</td><td>-11.88</td><td>&lt; .001</td></tr>\n",
       "</tbody>\n",
       "</table>\n"
      ],
      "text/latex": [
       "A apa\\_results\\_table: 3 × 5\n",
       "\\begin{tabular}{r|lllll}\n",
       "  & cond0 & estimate & ci & statistic & p.value\\\\\n",
       "  & <chr> & <ppj\\_lbll> & <ppj\\_lbll> & <ppj\\_lbll> & <ppj\\_lbll>\\\\\n",
       "\\hline\n",
       "\tnoun\\_F & noun\\_F & -3.59 & \\${[}-4.18\\$, \\$-3.01{]}\\$ & -12.35 & < .001\\\\\n",
       "\tnoun\\_M & noun\\_M & -3.76 & \\${[}-4.35\\$, \\$-3.17{]}\\$ & -12.92 & < .001\\\\\n",
       "\tverb\\_X & verb\\_X & -3.46 & \\${[}-4.04\\$, \\$-2.87{]}\\$ & -11.88 & < .001\\\\\n",
       "\\end{tabular}\n"
      ],
      "text/markdown": [
       "\n",
       "A apa_results_table: 3 × 5\n",
       "\n",
       "| <!--/--> | cond0 &lt;chr&gt; | estimate &lt;ppj_lbll&gt; | ci &lt;ppj_lbll&gt; | statistic &lt;ppj_lbll&gt; | p.value &lt;ppj_lbll&gt; |\n",
       "|---|---|---|---|---|---|\n",
       "| noun_F | noun_F | -3.59 | $[-4.18$, $-3.01]$ | -12.35 | &lt; .001 |\n",
       "| noun_M | noun_M | -3.76 | $[-4.35$, $-3.17]$ | -12.92 | &lt; .001 |\n",
       "| verb_X | verb_X | -3.46 | $[-4.04$, $-2.87]$ | -11.88 | &lt; .001 |\n",
       "\n"
      ],
      "text/plain": [
       "       cond0  estimate ci                 statistic p.value\n",
       "noun_F noun_F -3.59    $[-4.18$, $-3.01]$ -12.35    < .001 \n",
       "noun_M noun_M -3.76    $[-4.35$, $-3.17]$ -12.92    < .001 \n",
       "verb_X verb_X -3.46    $[-4.04$, $-2.87]$ -11.88    < .001 "
      ]
     },
     "metadata": {},
     "output_type": "display_data"
    },
    {
     "data": {
      "text/markdown": [
       "### Paired comparisons for expected marginal means"
      ]
     },
     "metadata": {},
     "output_type": "display_data"
    },
    {
     "data": {
      "text/html": [
       "<table>\n",
       "<caption>A apa_results_table: 3 × 5</caption>\n",
       "<thead>\n",
       "\t<tr><th></th><th scope=col>contrast</th><th scope=col>estimate</th><th scope=col>ci</th><th scope=col>statistic</th><th scope=col>p.value</th></tr>\n",
       "\t<tr><th></th><th scope=col>&lt;ppj_lbll&gt;</th><th scope=col>&lt;ppj_lbll&gt;</th><th scope=col>&lt;ppj_lbll&gt;</th><th scope=col>&lt;ppj_lbll&gt;</th><th scope=col>&lt;ppj_lbll&gt;</th></tr>\n",
       "</thead>\n",
       "<tbody>\n",
       "\t<tr><th scope=row>noun_F_noun_M</th><td>noun_F - noun_M</td><td>0.17 </td><td>$[-0.18$, $0.51]$</td><td>1.16 </td><td>.480</td></tr>\n",
       "\t<tr><th scope=row>noun_F_verb_X</th><td>noun_F - verb_X</td><td>-0.14</td><td>$[-0.48$, $0.21]$</td><td>-0.95</td><td>.612</td></tr>\n",
       "\t<tr><th scope=row>noun_M_verb_X</th><td>noun_M - verb_X</td><td>-0.30</td><td>$[-0.64$, $0.04]$</td><td>-2.11</td><td>.094</td></tr>\n",
       "</tbody>\n",
       "</table>\n"
      ],
      "text/latex": [
       "A apa\\_results\\_table: 3 × 5\n",
       "\\begin{tabular}{r|lllll}\n",
       "  & contrast & estimate & ci & statistic & p.value\\\\\n",
       "  & <ppj\\_lbll> & <ppj\\_lbll> & <ppj\\_lbll> & <ppj\\_lbll> & <ppj\\_lbll>\\\\\n",
       "\\hline\n",
       "\tnoun\\_F\\_noun\\_M & noun\\_F - noun\\_M & 0.17  & \\${[}-0.18\\$, \\$0.51{]}\\$ & 1.16  & .480\\\\\n",
       "\tnoun\\_F\\_verb\\_X & noun\\_F - verb\\_X & -0.14 & \\${[}-0.48\\$, \\$0.21{]}\\$ & -0.95 & .612\\\\\n",
       "\tnoun\\_M\\_verb\\_X & noun\\_M - verb\\_X & -0.30 & \\${[}-0.64\\$, \\$0.04{]}\\$ & -2.11 & .094\\\\\n",
       "\\end{tabular}\n"
      ],
      "text/markdown": [
       "\n",
       "A apa_results_table: 3 × 5\n",
       "\n",
       "| <!--/--> | contrast &lt;ppj_lbll&gt; | estimate &lt;ppj_lbll&gt; | ci &lt;ppj_lbll&gt; | statistic &lt;ppj_lbll&gt; | p.value &lt;ppj_lbll&gt; |\n",
       "|---|---|---|---|---|---|\n",
       "| noun_F_noun_M | noun_F - noun_M | 0.17  | $[-0.18$, $0.51]$ | 1.16  | .480 |\n",
       "| noun_F_verb_X | noun_F - verb_X | -0.14 | $[-0.48$, $0.21]$ | -0.95 | .612 |\n",
       "| noun_M_verb_X | noun_M - verb_X | -0.30 | $[-0.64$, $0.04]$ | -2.11 | .094 |\n",
       "\n"
      ],
      "text/plain": [
       "              contrast        estimate ci                statistic p.value\n",
       "noun_F_noun_M noun_F - noun_M 0.17     $[-0.18$, $0.51]$ 1.16      .480   \n",
       "noun_F_verb_X noun_F - verb_X -0.14    $[-0.48$, $0.21]$ -0.95     .612   \n",
       "noun_M_verb_X noun_M - verb_X -0.30    $[-0.64$, $0.04]$ -2.11     .094   "
      ]
     },
     "metadata": {},
     "output_type": "display_data"
    }
   ],
   "source": [
    "IDX <- IDX+1; COND <- CONDS[IDX]\n",
    "data1 <- droplevels(subset(df1, eval(parse(text=COND)))); data1 <- data1[complete.cases(data1),]; done1 <- AOV4(data1,COND)\n",
    "display_markdown(str_c(\"# Condition \",IDX,\" of \",length(CONDS))); display_markdown(done1$info); display_markdown(\"### Table\"); done1$aov_APA$table; display_markdown(\"### Result\"); display_markdown(done1$aov_APA[[\"full_result\"]][[\"cond0\"]]); display_markdown(\"### Summary (all done1, incl. NANs)\"); done1$summary; display_markdown(\"### Expected marginal means\"); done1$emm_APA$table; display_markdown(\"### Paired comparisons for expected marginal means\"); done1$pairs_APA$table"
   ]
  },
  {
   "cell_type": "code",
   "execution_count": 58,
   "metadata": {},
   "outputs": [
    {
     "data": {
      "text/markdown": [
       "# Condition 41 of 72"
      ]
     },
     "metadata": {},
     "output_type": "display_data"
    },
    {
     "data": {
      "text/markdown": [
       "`tmin0==0.41 & chan0==\"LC\" & mode0==\"pos\"`"
      ]
     },
     "metadata": {},
     "output_type": "display_data"
    },
    {
     "data": {
      "text/markdown": [
       "### Table"
      ]
     },
     "metadata": {},
     "output_type": "display_data"
    },
    {
     "data": {
      "text/html": [
       "<table>\n",
       "<caption>A apa_results_table: 1 × 7</caption>\n",
       "<thead>\n",
       "\t<tr><th></th><th scope=col>Effect</th><th scope=col>F</th><th scope=col>df1</th><th scope=col>df2</th><th scope=col>MSE</th><th scope=col>p</th><th scope=col>ges</th></tr>\n",
       "\t<tr><th></th><th scope=col>&lt;ppj_lbll&gt;</th><th scope=col>&lt;ppj_lbll&gt;</th><th scope=col>&lt;ppj_lbll&gt;</th><th scope=col>&lt;ppj_lbll&gt;</th><th scope=col>&lt;ppj_lbll&gt;</th><th scope=col>&lt;ppj_lbll&gt;</th><th scope=col>&lt;ppj_lbll&gt;</th></tr>\n",
       "</thead>\n",
       "<tbody>\n",
       "\t<tr><th scope=row>1</th><td>Cond0</td><td>0.74</td><td>1.57</td><td>64.55</td><td>0.39</td><td>.452</td><td>.002</td></tr>\n",
       "</tbody>\n",
       "</table>\n"
      ],
      "text/latex": [
       "A apa\\_results\\_table: 1 × 7\n",
       "\\begin{tabular}{r|lllllll}\n",
       "  & Effect & F & df1 & df2 & MSE & p & ges\\\\\n",
       "  & <ppj\\_lbll> & <ppj\\_lbll> & <ppj\\_lbll> & <ppj\\_lbll> & <ppj\\_lbll> & <ppj\\_lbll> & <ppj\\_lbll>\\\\\n",
       "\\hline\n",
       "\t1 & Cond0 & 0.74 & 1.57 & 64.55 & 0.39 & .452 & .002\\\\\n",
       "\\end{tabular}\n"
      ],
      "text/markdown": [
       "\n",
       "A apa_results_table: 1 × 7\n",
       "\n",
       "| <!--/--> | Effect &lt;ppj_lbll&gt; | F &lt;ppj_lbll&gt; | df1 &lt;ppj_lbll&gt; | df2 &lt;ppj_lbll&gt; | MSE &lt;ppj_lbll&gt; | p &lt;ppj_lbll&gt; | ges &lt;ppj_lbll&gt; |\n",
       "|---|---|---|---|---|---|---|---|\n",
       "| 1 | Cond0 | 0.74 | 1.57 | 64.55 | 0.39 | .452 | .002 |\n",
       "\n"
      ],
      "text/plain": [
       "  Effect F    df1  df2   MSE  p    ges \n",
       "1 Cond0  0.74 1.57 64.55 0.39 .452 .002"
      ]
     },
     "metadata": {},
     "output_type": "display_data"
    },
    {
     "data": {
      "text/markdown": [
       "### Result"
      ]
     },
     "metadata": {},
     "output_type": "display_data"
    },
    {
     "data": {
      "text/markdown": [
       "$F(1.57, 64.55) = 0.74$, $\\mathit{MSE} = 0.39$, $p = .452$, $\\hat{\\eta}^2_G = .002$"
      ]
     },
     "metadata": {},
     "output_type": "display_data"
    },
    {
     "data": {
      "text/markdown": [
       "### Summary (all done1, incl. NANs)"
      ]
     },
     "metadata": {},
     "output_type": "display_data"
    },
    {
     "data": {
      "text/html": [
       "<table>\n",
       "<caption>A tibble: 3 × 5</caption>\n",
       "<thead>\n",
       "\t<tr><th scope=col>cond0</th><th scope=col>N</th><th scope=col>valX_M</th><th scope=col>valX_SD</th><th scope=col>valX_SE</th></tr>\n",
       "\t<tr><th scope=col>&lt;fct&gt;</th><th scope=col>&lt;int&gt;</th><th scope=col>&lt;dbl&gt;</th><th scope=col>&lt;dbl&gt;</th><th scope=col>&lt;dbl&gt;</th></tr>\n",
       "</thead>\n",
       "<tbody>\n",
       "\t<tr><td>noun_F</td><td>42</td><td>1.518711</td><td>1.542091</td><td>0.2379498</td></tr>\n",
       "\t<tr><td>noun_M</td><td>42</td><td>1.663074</td><td>1.226860</td><td>0.1893086</td></tr>\n",
       "\t<tr><td>verb_X</td><td>42</td><td>1.566396</td><td>1.368801</td><td>0.2112106</td></tr>\n",
       "</tbody>\n",
       "</table>\n"
      ],
      "text/latex": [
       "A tibble: 3 × 5\n",
       "\\begin{tabular}{lllll}\n",
       " cond0 & N & valX\\_M & valX\\_SD & valX\\_SE\\\\\n",
       " <fct> & <int> & <dbl> & <dbl> & <dbl>\\\\\n",
       "\\hline\n",
       "\t noun\\_F & 42 & 1.518711 & 1.542091 & 0.2379498\\\\\n",
       "\t noun\\_M & 42 & 1.663074 & 1.226860 & 0.1893086\\\\\n",
       "\t verb\\_X & 42 & 1.566396 & 1.368801 & 0.2112106\\\\\n",
       "\\end{tabular}\n"
      ],
      "text/markdown": [
       "\n",
       "A tibble: 3 × 5\n",
       "\n",
       "| cond0 &lt;fct&gt; | N &lt;int&gt; | valX_M &lt;dbl&gt; | valX_SD &lt;dbl&gt; | valX_SE &lt;dbl&gt; |\n",
       "|---|---|---|---|---|\n",
       "| noun_F | 42 | 1.518711 | 1.542091 | 0.2379498 |\n",
       "| noun_M | 42 | 1.663074 | 1.226860 | 0.1893086 |\n",
       "| verb_X | 42 | 1.566396 | 1.368801 | 0.2112106 |\n",
       "\n"
      ],
      "text/plain": [
       "  cond0  N  valX_M   valX_SD  valX_SE  \n",
       "1 noun_F 42 1.518711 1.542091 0.2379498\n",
       "2 noun_M 42 1.663074 1.226860 0.1893086\n",
       "3 verb_X 42 1.566396 1.368801 0.2112106"
      ]
     },
     "metadata": {},
     "output_type": "display_data"
    },
    {
     "data": {
      "text/markdown": [
       "### Expected marginal means"
      ]
     },
     "metadata": {},
     "output_type": "display_data"
    },
    {
     "data": {
      "text/html": [
       "<table>\n",
       "<caption>A apa_results_table: 3 × 5</caption>\n",
       "<thead>\n",
       "\t<tr><th></th><th scope=col>cond0</th><th scope=col>estimate</th><th scope=col>ci</th><th scope=col>statistic</th><th scope=col>p.value</th></tr>\n",
       "\t<tr><th></th><th scope=col>&lt;chr&gt;</th><th scope=col>&lt;ppj_lbll&gt;</th><th scope=col>&lt;ppj_lbll&gt;</th><th scope=col>&lt;ppj_lbll&gt;</th><th scope=col>&lt;ppj_lbll&gt;</th></tr>\n",
       "</thead>\n",
       "<tbody>\n",
       "\t<tr><th scope=row>noun_F</th><td>noun_F</td><td>1.52</td><td>$[1.09$, $1.95]$</td><td>7.11</td><td>&lt; .001</td></tr>\n",
       "\t<tr><th scope=row>noun_M</th><td>noun_M</td><td>1.66</td><td>$[1.23$, $2.09]$</td><td>7.78</td><td>&lt; .001</td></tr>\n",
       "\t<tr><th scope=row>verb_X</th><td>verb_X</td><td>1.57</td><td>$[1.14$, $2.00]$</td><td>7.33</td><td>&lt; .001</td></tr>\n",
       "</tbody>\n",
       "</table>\n"
      ],
      "text/latex": [
       "A apa\\_results\\_table: 3 × 5\n",
       "\\begin{tabular}{r|lllll}\n",
       "  & cond0 & estimate & ci & statistic & p.value\\\\\n",
       "  & <chr> & <ppj\\_lbll> & <ppj\\_lbll> & <ppj\\_lbll> & <ppj\\_lbll>\\\\\n",
       "\\hline\n",
       "\tnoun\\_F & noun\\_F & 1.52 & \\${[}1.09\\$, \\$1.95{]}\\$ & 7.11 & < .001\\\\\n",
       "\tnoun\\_M & noun\\_M & 1.66 & \\${[}1.23\\$, \\$2.09{]}\\$ & 7.78 & < .001\\\\\n",
       "\tverb\\_X & verb\\_X & 1.57 & \\${[}1.14\\$, \\$2.00{]}\\$ & 7.33 & < .001\\\\\n",
       "\\end{tabular}\n"
      ],
      "text/markdown": [
       "\n",
       "A apa_results_table: 3 × 5\n",
       "\n",
       "| <!--/--> | cond0 &lt;chr&gt; | estimate &lt;ppj_lbll&gt; | ci &lt;ppj_lbll&gt; | statistic &lt;ppj_lbll&gt; | p.value &lt;ppj_lbll&gt; |\n",
       "|---|---|---|---|---|---|\n",
       "| noun_F | noun_F | 1.52 | $[1.09$, $1.95]$ | 7.11 | &lt; .001 |\n",
       "| noun_M | noun_M | 1.66 | $[1.23$, $2.09]$ | 7.78 | &lt; .001 |\n",
       "| verb_X | verb_X | 1.57 | $[1.14$, $2.00]$ | 7.33 | &lt; .001 |\n",
       "\n"
      ],
      "text/plain": [
       "       cond0  estimate ci               statistic p.value\n",
       "noun_F noun_F 1.52     $[1.09$, $1.95]$ 7.11      < .001 \n",
       "noun_M noun_M 1.66     $[1.23$, $2.09]$ 7.78      < .001 \n",
       "verb_X verb_X 1.57     $[1.14$, $2.00]$ 7.33      < .001 "
      ]
     },
     "metadata": {},
     "output_type": "display_data"
    },
    {
     "data": {
      "text/markdown": [
       "### Paired comparisons for expected marginal means"
      ]
     },
     "metadata": {},
     "output_type": "display_data"
    },
    {
     "data": {
      "text/html": [
       "<table>\n",
       "<caption>A apa_results_table: 3 × 5</caption>\n",
       "<thead>\n",
       "\t<tr><th></th><th scope=col>contrast</th><th scope=col>estimate</th><th scope=col>ci</th><th scope=col>statistic</th><th scope=col>p.value</th></tr>\n",
       "\t<tr><th></th><th scope=col>&lt;ppj_lbll&gt;</th><th scope=col>&lt;ppj_lbll&gt;</th><th scope=col>&lt;ppj_lbll&gt;</th><th scope=col>&lt;ppj_lbll&gt;</th><th scope=col>&lt;ppj_lbll&gt;</th></tr>\n",
       "</thead>\n",
       "<tbody>\n",
       "\t<tr><th scope=row>noun_F_noun_M</th><td>noun_F - noun_M</td><td>-0.14</td><td>$[-0.43$, $0.14]$</td><td>-1.19</td><td>.461</td></tr>\n",
       "\t<tr><th scope=row>noun_F_verb_X</th><td>noun_F - verb_X</td><td>-0.05</td><td>$[-0.34$, $0.24]$</td><td>-0.39</td><td>.918</td></tr>\n",
       "\t<tr><th scope=row>noun_M_verb_X</th><td>noun_M - verb_X</td><td>0.10 </td><td>$[-0.19$, $0.39]$</td><td>0.80 </td><td>.705</td></tr>\n",
       "</tbody>\n",
       "</table>\n"
      ],
      "text/latex": [
       "A apa\\_results\\_table: 3 × 5\n",
       "\\begin{tabular}{r|lllll}\n",
       "  & contrast & estimate & ci & statistic & p.value\\\\\n",
       "  & <ppj\\_lbll> & <ppj\\_lbll> & <ppj\\_lbll> & <ppj\\_lbll> & <ppj\\_lbll>\\\\\n",
       "\\hline\n",
       "\tnoun\\_F\\_noun\\_M & noun\\_F - noun\\_M & -0.14 & \\${[}-0.43\\$, \\$0.14{]}\\$ & -1.19 & .461\\\\\n",
       "\tnoun\\_F\\_verb\\_X & noun\\_F - verb\\_X & -0.05 & \\${[}-0.34\\$, \\$0.24{]}\\$ & -0.39 & .918\\\\\n",
       "\tnoun\\_M\\_verb\\_X & noun\\_M - verb\\_X & 0.10  & \\${[}-0.19\\$, \\$0.39{]}\\$ & 0.80  & .705\\\\\n",
       "\\end{tabular}\n"
      ],
      "text/markdown": [
       "\n",
       "A apa_results_table: 3 × 5\n",
       "\n",
       "| <!--/--> | contrast &lt;ppj_lbll&gt; | estimate &lt;ppj_lbll&gt; | ci &lt;ppj_lbll&gt; | statistic &lt;ppj_lbll&gt; | p.value &lt;ppj_lbll&gt; |\n",
       "|---|---|---|---|---|---|\n",
       "| noun_F_noun_M | noun_F - noun_M | -0.14 | $[-0.43$, $0.14]$ | -1.19 | .461 |\n",
       "| noun_F_verb_X | noun_F - verb_X | -0.05 | $[-0.34$, $0.24]$ | -0.39 | .918 |\n",
       "| noun_M_verb_X | noun_M - verb_X | 0.10  | $[-0.19$, $0.39]$ | 0.80  | .705 |\n",
       "\n"
      ],
      "text/plain": [
       "              contrast        estimate ci                statistic p.value\n",
       "noun_F_noun_M noun_F - noun_M -0.14    $[-0.43$, $0.14]$ -1.19     .461   \n",
       "noun_F_verb_X noun_F - verb_X -0.05    $[-0.34$, $0.24]$ -0.39     .918   \n",
       "noun_M_verb_X noun_M - verb_X 0.10     $[-0.19$, $0.39]$ 0.80      .705   "
      ]
     },
     "metadata": {},
     "output_type": "display_data"
    }
   ],
   "source": [
    "IDX <- IDX+1; COND <- CONDS[IDX]\n",
    "data1 <- droplevels(subset(df1, eval(parse(text=COND)))); data1 <- data1[complete.cases(data1),]; done1 <- AOV4(data1,COND)\n",
    "display_markdown(str_c(\"# Condition \",IDX,\" of \",length(CONDS))); display_markdown(done1$info); display_markdown(\"### Table\"); done1$aov_APA$table; display_markdown(\"### Result\"); display_markdown(done1$aov_APA[[\"full_result\"]][[\"cond0\"]]); display_markdown(\"### Summary (all done1, incl. NANs)\"); done1$summary; display_markdown(\"### Expected marginal means\"); done1$emm_APA$table; display_markdown(\"### Paired comparisons for expected marginal means\"); done1$pairs_APA$table"
   ]
  },
  {
   "cell_type": "code",
   "execution_count": 59,
   "metadata": {},
   "outputs": [
    {
     "data": {
      "text/markdown": [
       "# Condition 42 of 72"
      ]
     },
     "metadata": {},
     "output_type": "display_data"
    },
    {
     "data": {
      "text/markdown": [
       "`tmin0==0.41 & chan0==\"LC\" & mode0==\"neg\"`"
      ]
     },
     "metadata": {},
     "output_type": "display_data"
    },
    {
     "data": {
      "text/markdown": [
       "### Table"
      ]
     },
     "metadata": {},
     "output_type": "display_data"
    },
    {
     "data": {
      "text/html": [
       "<table>\n",
       "<caption>A apa_results_table: 1 × 7</caption>\n",
       "<thead>\n",
       "\t<tr><th></th><th scope=col>Effect</th><th scope=col>F</th><th scope=col>df1</th><th scope=col>df2</th><th scope=col>MSE</th><th scope=col>p</th><th scope=col>ges</th></tr>\n",
       "\t<tr><th></th><th scope=col>&lt;ppj_lbll&gt;</th><th scope=col>&lt;ppj_lbll&gt;</th><th scope=col>&lt;ppj_lbll&gt;</th><th scope=col>&lt;ppj_lbll&gt;</th><th scope=col>&lt;ppj_lbll&gt;</th><th scope=col>&lt;ppj_lbll&gt;</th><th scope=col>&lt;ppj_lbll&gt;</th></tr>\n",
       "</thead>\n",
       "<tbody>\n",
       "\t<tr><th scope=row>1</th><td>Cond0</td><td>0.54</td><td>1.57</td><td>64.27</td><td>0.38</td><td>.543</td><td>.001</td></tr>\n",
       "</tbody>\n",
       "</table>\n"
      ],
      "text/latex": [
       "A apa\\_results\\_table: 1 × 7\n",
       "\\begin{tabular}{r|lllllll}\n",
       "  & Effect & F & df1 & df2 & MSE & p & ges\\\\\n",
       "  & <ppj\\_lbll> & <ppj\\_lbll> & <ppj\\_lbll> & <ppj\\_lbll> & <ppj\\_lbll> & <ppj\\_lbll> & <ppj\\_lbll>\\\\\n",
       "\\hline\n",
       "\t1 & Cond0 & 0.54 & 1.57 & 64.27 & 0.38 & .543 & .001\\\\\n",
       "\\end{tabular}\n"
      ],
      "text/markdown": [
       "\n",
       "A apa_results_table: 1 × 7\n",
       "\n",
       "| <!--/--> | Effect &lt;ppj_lbll&gt; | F &lt;ppj_lbll&gt; | df1 &lt;ppj_lbll&gt; | df2 &lt;ppj_lbll&gt; | MSE &lt;ppj_lbll&gt; | p &lt;ppj_lbll&gt; | ges &lt;ppj_lbll&gt; |\n",
       "|---|---|---|---|---|---|---|---|\n",
       "| 1 | Cond0 | 0.54 | 1.57 | 64.27 | 0.38 | .543 | .001 |\n",
       "\n"
      ],
      "text/plain": [
       "  Effect F    df1  df2   MSE  p    ges \n",
       "1 Cond0  0.54 1.57 64.27 0.38 .543 .001"
      ]
     },
     "metadata": {},
     "output_type": "display_data"
    },
    {
     "data": {
      "text/markdown": [
       "### Result"
      ]
     },
     "metadata": {},
     "output_type": "display_data"
    },
    {
     "data": {
      "text/markdown": [
       "$F(1.57, 64.27) = 0.54$, $\\mathit{MSE} = 0.38$, $p = .543$, $\\hat{\\eta}^2_G = .001$"
      ]
     },
     "metadata": {},
     "output_type": "display_data"
    },
    {
     "data": {
      "text/markdown": [
       "### Summary (all done1, incl. NANs)"
      ]
     },
     "metadata": {},
     "output_type": "display_data"
    },
    {
     "data": {
      "text/html": [
       "<table>\n",
       "<caption>A tibble: 3 × 5</caption>\n",
       "<thead>\n",
       "\t<tr><th scope=col>cond0</th><th scope=col>N</th><th scope=col>valX_M</th><th scope=col>valX_SD</th><th scope=col>valX_SE</th></tr>\n",
       "\t<tr><th scope=col>&lt;fct&gt;</th><th scope=col>&lt;int&gt;</th><th scope=col>&lt;dbl&gt;</th><th scope=col>&lt;dbl&gt;</th><th scope=col>&lt;dbl&gt;</th></tr>\n",
       "</thead>\n",
       "<tbody>\n",
       "\t<tr><td>noun_F</td><td>42</td><td>0.1822789</td><td>1.604342</td><td>0.2475554</td></tr>\n",
       "\t<tr><td>noun_M</td><td>42</td><td>0.1850149</td><td>1.333468</td><td>0.2057585</td></tr>\n",
       "\t<tr><td>verb_X</td><td>42</td><td>0.2908507</td><td>1.600486</td><td>0.2469604</td></tr>\n",
       "</tbody>\n",
       "</table>\n"
      ],
      "text/latex": [
       "A tibble: 3 × 5\n",
       "\\begin{tabular}{lllll}\n",
       " cond0 & N & valX\\_M & valX\\_SD & valX\\_SE\\\\\n",
       " <fct> & <int> & <dbl> & <dbl> & <dbl>\\\\\n",
       "\\hline\n",
       "\t noun\\_F & 42 & 0.1822789 & 1.604342 & 0.2475554\\\\\n",
       "\t noun\\_M & 42 & 0.1850149 & 1.333468 & 0.2057585\\\\\n",
       "\t verb\\_X & 42 & 0.2908507 & 1.600486 & 0.2469604\\\\\n",
       "\\end{tabular}\n"
      ],
      "text/markdown": [
       "\n",
       "A tibble: 3 × 5\n",
       "\n",
       "| cond0 &lt;fct&gt; | N &lt;int&gt; | valX_M &lt;dbl&gt; | valX_SD &lt;dbl&gt; | valX_SE &lt;dbl&gt; |\n",
       "|---|---|---|---|---|\n",
       "| noun_F | 42 | 0.1822789 | 1.604342 | 0.2475554 |\n",
       "| noun_M | 42 | 0.1850149 | 1.333468 | 0.2057585 |\n",
       "| verb_X | 42 | 0.2908507 | 1.600486 | 0.2469604 |\n",
       "\n"
      ],
      "text/plain": [
       "  cond0  N  valX_M    valX_SD  valX_SE  \n",
       "1 noun_F 42 0.1822789 1.604342 0.2475554\n",
       "2 noun_M 42 0.1850149 1.333468 0.2057585\n",
       "3 verb_X 42 0.2908507 1.600486 0.2469604"
      ]
     },
     "metadata": {},
     "output_type": "display_data"
    },
    {
     "data": {
      "text/markdown": [
       "### Expected marginal means"
      ]
     },
     "metadata": {},
     "output_type": "display_data"
    },
    {
     "data": {
      "text/html": [
       "<table>\n",
       "<caption>A apa_results_table: 3 × 5</caption>\n",
       "<thead>\n",
       "\t<tr><th></th><th scope=col>cond0</th><th scope=col>estimate</th><th scope=col>ci</th><th scope=col>statistic</th><th scope=col>p.value</th></tr>\n",
       "\t<tr><th></th><th scope=col>&lt;chr&gt;</th><th scope=col>&lt;ppj_lbll&gt;</th><th scope=col>&lt;ppj_lbll&gt;</th><th scope=col>&lt;ppj_lbll&gt;</th><th scope=col>&lt;ppj_lbll&gt;</th></tr>\n",
       "</thead>\n",
       "<tbody>\n",
       "\t<tr><th scope=row>noun_F</th><td>noun_F</td><td>0.18</td><td>$[-0.29$, $0.65]$</td><td>0.78</td><td>.440</td></tr>\n",
       "\t<tr><th scope=row>noun_M</th><td>noun_M</td><td>0.19</td><td>$[-0.29$, $0.66]$</td><td>0.79</td><td>.433</td></tr>\n",
       "\t<tr><th scope=row>verb_X</th><td>verb_X</td><td>0.29</td><td>$[-0.18$, $0.76]$</td><td>1.24</td><td>.220</td></tr>\n",
       "</tbody>\n",
       "</table>\n"
      ],
      "text/latex": [
       "A apa\\_results\\_table: 3 × 5\n",
       "\\begin{tabular}{r|lllll}\n",
       "  & cond0 & estimate & ci & statistic & p.value\\\\\n",
       "  & <chr> & <ppj\\_lbll> & <ppj\\_lbll> & <ppj\\_lbll> & <ppj\\_lbll>\\\\\n",
       "\\hline\n",
       "\tnoun\\_F & noun\\_F & 0.18 & \\${[}-0.29\\$, \\$0.65{]}\\$ & 0.78 & .440\\\\\n",
       "\tnoun\\_M & noun\\_M & 0.19 & \\${[}-0.29\\$, \\$0.66{]}\\$ & 0.79 & .433\\\\\n",
       "\tverb\\_X & verb\\_X & 0.29 & \\${[}-0.18\\$, \\$0.76{]}\\$ & 1.24 & .220\\\\\n",
       "\\end{tabular}\n"
      ],
      "text/markdown": [
       "\n",
       "A apa_results_table: 3 × 5\n",
       "\n",
       "| <!--/--> | cond0 &lt;chr&gt; | estimate &lt;ppj_lbll&gt; | ci &lt;ppj_lbll&gt; | statistic &lt;ppj_lbll&gt; | p.value &lt;ppj_lbll&gt; |\n",
       "|---|---|---|---|---|---|\n",
       "| noun_F | noun_F | 0.18 | $[-0.29$, $0.65]$ | 0.78 | .440 |\n",
       "| noun_M | noun_M | 0.19 | $[-0.29$, $0.66]$ | 0.79 | .433 |\n",
       "| verb_X | verb_X | 0.29 | $[-0.18$, $0.76]$ | 1.24 | .220 |\n",
       "\n"
      ],
      "text/plain": [
       "       cond0  estimate ci                statistic p.value\n",
       "noun_F noun_F 0.18     $[-0.29$, $0.65]$ 0.78      .440   \n",
       "noun_M noun_M 0.19     $[-0.29$, $0.66]$ 0.79      .433   \n",
       "verb_X verb_X 0.29     $[-0.18$, $0.76]$ 1.24      .220   "
      ]
     },
     "metadata": {},
     "output_type": "display_data"
    },
    {
     "data": {
      "text/markdown": [
       "### Paired comparisons for expected marginal means"
      ]
     },
     "metadata": {},
     "output_type": "display_data"
    },
    {
     "data": {
      "text/html": [
       "<table>\n",
       "<caption>A apa_results_table: 3 × 5</caption>\n",
       "<thead>\n",
       "\t<tr><th></th><th scope=col>contrast</th><th scope=col>estimate</th><th scope=col>ci</th><th scope=col>statistic</th><th scope=col>p.value</th></tr>\n",
       "\t<tr><th></th><th scope=col>&lt;ppj_lbll&gt;</th><th scope=col>&lt;ppj_lbll&gt;</th><th scope=col>&lt;ppj_lbll&gt;</th><th scope=col>&lt;ppj_lbll&gt;</th><th scope=col>&lt;ppj_lbll&gt;</th></tr>\n",
       "</thead>\n",
       "<tbody>\n",
       "\t<tr><th scope=row>noun_F_noun_M</th><td>noun_F - noun_M</td><td>0.00 </td><td>$[-0.29$, $0.28]$</td><td>-0.02</td><td>&gt; .999</td></tr>\n",
       "\t<tr><th scope=row>noun_F_verb_X</th><td>noun_F - verb_X</td><td>-0.11</td><td>$[-0.39$, $0.18]$</td><td>-0.91</td><td>.635  </td></tr>\n",
       "\t<tr><th scope=row>noun_M_verb_X</th><td>noun_M - verb_X</td><td>-0.11</td><td>$[-0.39$, $0.18]$</td><td>-0.89</td><td>.650  </td></tr>\n",
       "</tbody>\n",
       "</table>\n"
      ],
      "text/latex": [
       "A apa\\_results\\_table: 3 × 5\n",
       "\\begin{tabular}{r|lllll}\n",
       "  & contrast & estimate & ci & statistic & p.value\\\\\n",
       "  & <ppj\\_lbll> & <ppj\\_lbll> & <ppj\\_lbll> & <ppj\\_lbll> & <ppj\\_lbll>\\\\\n",
       "\\hline\n",
       "\tnoun\\_F\\_noun\\_M & noun\\_F - noun\\_M & 0.00  & \\${[}-0.29\\$, \\$0.28{]}\\$ & -0.02 & > .999\\\\\n",
       "\tnoun\\_F\\_verb\\_X & noun\\_F - verb\\_X & -0.11 & \\${[}-0.39\\$, \\$0.18{]}\\$ & -0.91 & .635  \\\\\n",
       "\tnoun\\_M\\_verb\\_X & noun\\_M - verb\\_X & -0.11 & \\${[}-0.39\\$, \\$0.18{]}\\$ & -0.89 & .650  \\\\\n",
       "\\end{tabular}\n"
      ],
      "text/markdown": [
       "\n",
       "A apa_results_table: 3 × 5\n",
       "\n",
       "| <!--/--> | contrast &lt;ppj_lbll&gt; | estimate &lt;ppj_lbll&gt; | ci &lt;ppj_lbll&gt; | statistic &lt;ppj_lbll&gt; | p.value &lt;ppj_lbll&gt; |\n",
       "|---|---|---|---|---|---|\n",
       "| noun_F_noun_M | noun_F - noun_M | 0.00  | $[-0.29$, $0.28]$ | -0.02 | &gt; .999 |\n",
       "| noun_F_verb_X | noun_F - verb_X | -0.11 | $[-0.39$, $0.18]$ | -0.91 | .635   |\n",
       "| noun_M_verb_X | noun_M - verb_X | -0.11 | $[-0.39$, $0.18]$ | -0.89 | .650   |\n",
       "\n"
      ],
      "text/plain": [
       "              contrast        estimate ci                statistic p.value\n",
       "noun_F_noun_M noun_F - noun_M 0.00     $[-0.29$, $0.28]$ -0.02     > .999 \n",
       "noun_F_verb_X noun_F - verb_X -0.11    $[-0.39$, $0.18]$ -0.91     .635   \n",
       "noun_M_verb_X noun_M - verb_X -0.11    $[-0.39$, $0.18]$ -0.89     .650   "
      ]
     },
     "metadata": {},
     "output_type": "display_data"
    }
   ],
   "source": [
    "IDX <- IDX+1; COND <- CONDS[IDX]\n",
    "data1 <- droplevels(subset(df1, eval(parse(text=COND)))); data1 <- data1[complete.cases(data1),]; done1 <- AOV4(data1,COND)\n",
    "display_markdown(str_c(\"# Condition \",IDX,\" of \",length(CONDS))); display_markdown(done1$info); display_markdown(\"### Table\"); done1$aov_APA$table; display_markdown(\"### Result\"); display_markdown(done1$aov_APA[[\"full_result\"]][[\"cond0\"]]); display_markdown(\"### Summary (all done1, incl. NANs)\"); done1$summary; display_markdown(\"### Expected marginal means\"); done1$emm_APA$table; display_markdown(\"### Paired comparisons for expected marginal means\"); done1$pairs_APA$table"
   ]
  },
  {
   "cell_type": "code",
   "execution_count": 60,
   "metadata": {},
   "outputs": [
    {
     "data": {
      "text/markdown": [
       "# Condition 43 of 72"
      ]
     },
     "metadata": {},
     "output_type": "display_data"
    },
    {
     "data": {
      "text/markdown": [
       "`tmin0==0.41 & chan0==\"RC\" & mode0==\"pos\"`"
      ]
     },
     "metadata": {},
     "output_type": "display_data"
    },
    {
     "data": {
      "text/markdown": [
       "### Table"
      ]
     },
     "metadata": {},
     "output_type": "display_data"
    },
    {
     "data": {
      "text/html": [
       "<table>\n",
       "<caption>A apa_results_table: 1 × 7</caption>\n",
       "<thead>\n",
       "\t<tr><th></th><th scope=col>Effect</th><th scope=col>F</th><th scope=col>df1</th><th scope=col>df2</th><th scope=col>MSE</th><th scope=col>p</th><th scope=col>ges</th></tr>\n",
       "\t<tr><th></th><th scope=col>&lt;ppj_lbll&gt;</th><th scope=col>&lt;ppj_lbll&gt;</th><th scope=col>&lt;ppj_lbll&gt;</th><th scope=col>&lt;ppj_lbll&gt;</th><th scope=col>&lt;ppj_lbll&gt;</th><th scope=col>&lt;ppj_lbll&gt;</th><th scope=col>&lt;ppj_lbll&gt;</th></tr>\n",
       "</thead>\n",
       "<tbody>\n",
       "\t<tr><th scope=row>1</th><td>Cond0</td><td>0.68</td><td>1.72</td><td>70.61</td><td>0.43</td><td>.487</td><td>.002</td></tr>\n",
       "</tbody>\n",
       "</table>\n"
      ],
      "text/latex": [
       "A apa\\_results\\_table: 1 × 7\n",
       "\\begin{tabular}{r|lllllll}\n",
       "  & Effect & F & df1 & df2 & MSE & p & ges\\\\\n",
       "  & <ppj\\_lbll> & <ppj\\_lbll> & <ppj\\_lbll> & <ppj\\_lbll> & <ppj\\_lbll> & <ppj\\_lbll> & <ppj\\_lbll>\\\\\n",
       "\\hline\n",
       "\t1 & Cond0 & 0.68 & 1.72 & 70.61 & 0.43 & .487 & .002\\\\\n",
       "\\end{tabular}\n"
      ],
      "text/markdown": [
       "\n",
       "A apa_results_table: 1 × 7\n",
       "\n",
       "| <!--/--> | Effect &lt;ppj_lbll&gt; | F &lt;ppj_lbll&gt; | df1 &lt;ppj_lbll&gt; | df2 &lt;ppj_lbll&gt; | MSE &lt;ppj_lbll&gt; | p &lt;ppj_lbll&gt; | ges &lt;ppj_lbll&gt; |\n",
       "|---|---|---|---|---|---|---|---|\n",
       "| 1 | Cond0 | 0.68 | 1.72 | 70.61 | 0.43 | .487 | .002 |\n",
       "\n"
      ],
      "text/plain": [
       "  Effect F    df1  df2   MSE  p    ges \n",
       "1 Cond0  0.68 1.72 70.61 0.43 .487 .002"
      ]
     },
     "metadata": {},
     "output_type": "display_data"
    },
    {
     "data": {
      "text/markdown": [
       "### Result"
      ]
     },
     "metadata": {},
     "output_type": "display_data"
    },
    {
     "data": {
      "text/markdown": [
       "$F(1.72, 70.61) = 0.68$, $\\mathit{MSE} = 0.43$, $p = .487$, $\\hat{\\eta}^2_G = .002$"
      ]
     },
     "metadata": {},
     "output_type": "display_data"
    },
    {
     "data": {
      "text/markdown": [
       "### Summary (all done1, incl. NANs)"
      ]
     },
     "metadata": {},
     "output_type": "display_data"
    },
    {
     "data": {
      "text/html": [
       "<table>\n",
       "<caption>A tibble: 3 × 5</caption>\n",
       "<thead>\n",
       "\t<tr><th scope=col>cond0</th><th scope=col>N</th><th scope=col>valX_M</th><th scope=col>valX_SD</th><th scope=col>valX_SE</th></tr>\n",
       "\t<tr><th scope=col>&lt;fct&gt;</th><th scope=col>&lt;int&gt;</th><th scope=col>&lt;dbl&gt;</th><th scope=col>&lt;dbl&gt;</th><th scope=col>&lt;dbl&gt;</th></tr>\n",
       "</thead>\n",
       "<tbody>\n",
       "\t<tr><td>noun_F</td><td>42</td><td>1.800638</td><td>1.554869</td><td>0.2399215</td></tr>\n",
       "\t<tr><td>noun_M</td><td>42</td><td>1.692684</td><td>1.450329</td><td>0.2237906</td></tr>\n",
       "\t<tr><td>verb_X</td><td>42</td><td>1.650715</td><td>1.528723</td><td>0.2358871</td></tr>\n",
       "</tbody>\n",
       "</table>\n"
      ],
      "text/latex": [
       "A tibble: 3 × 5\n",
       "\\begin{tabular}{lllll}\n",
       " cond0 & N & valX\\_M & valX\\_SD & valX\\_SE\\\\\n",
       " <fct> & <int> & <dbl> & <dbl> & <dbl>\\\\\n",
       "\\hline\n",
       "\t noun\\_F & 42 & 1.800638 & 1.554869 & 0.2399215\\\\\n",
       "\t noun\\_M & 42 & 1.692684 & 1.450329 & 0.2237906\\\\\n",
       "\t verb\\_X & 42 & 1.650715 & 1.528723 & 0.2358871\\\\\n",
       "\\end{tabular}\n"
      ],
      "text/markdown": [
       "\n",
       "A tibble: 3 × 5\n",
       "\n",
       "| cond0 &lt;fct&gt; | N &lt;int&gt; | valX_M &lt;dbl&gt; | valX_SD &lt;dbl&gt; | valX_SE &lt;dbl&gt; |\n",
       "|---|---|---|---|---|\n",
       "| noun_F | 42 | 1.800638 | 1.554869 | 0.2399215 |\n",
       "| noun_M | 42 | 1.692684 | 1.450329 | 0.2237906 |\n",
       "| verb_X | 42 | 1.650715 | 1.528723 | 0.2358871 |\n",
       "\n"
      ],
      "text/plain": [
       "  cond0  N  valX_M   valX_SD  valX_SE  \n",
       "1 noun_F 42 1.800638 1.554869 0.2399215\n",
       "2 noun_M 42 1.692684 1.450329 0.2237906\n",
       "3 verb_X 42 1.650715 1.528723 0.2358871"
      ]
     },
     "metadata": {},
     "output_type": "display_data"
    },
    {
     "data": {
      "text/markdown": [
       "### Expected marginal means"
      ]
     },
     "metadata": {},
     "output_type": "display_data"
    },
    {
     "data": {
      "text/html": [
       "<table>\n",
       "<caption>A apa_results_table: 3 × 5</caption>\n",
       "<thead>\n",
       "\t<tr><th></th><th scope=col>cond0</th><th scope=col>estimate</th><th scope=col>ci</th><th scope=col>statistic</th><th scope=col>p.value</th></tr>\n",
       "\t<tr><th></th><th scope=col>&lt;chr&gt;</th><th scope=col>&lt;ppj_lbll&gt;</th><th scope=col>&lt;ppj_lbll&gt;</th><th scope=col>&lt;ppj_lbll&gt;</th><th scope=col>&lt;ppj_lbll&gt;</th></tr>\n",
       "</thead>\n",
       "<tbody>\n",
       "\t<tr><th scope=row>noun_F</th><td>noun_F</td><td>1.80</td><td>$[1.33$, $2.27]$</td><td>7.72</td><td>&lt; .001</td></tr>\n",
       "\t<tr><th scope=row>noun_M</th><td>noun_M</td><td>1.69</td><td>$[1.22$, $2.16]$</td><td>7.26</td><td>&lt; .001</td></tr>\n",
       "\t<tr><th scope=row>verb_X</th><td>verb_X</td><td>1.65</td><td>$[1.18$, $2.12]$</td><td>7.08</td><td>&lt; .001</td></tr>\n",
       "</tbody>\n",
       "</table>\n"
      ],
      "text/latex": [
       "A apa\\_results\\_table: 3 × 5\n",
       "\\begin{tabular}{r|lllll}\n",
       "  & cond0 & estimate & ci & statistic & p.value\\\\\n",
       "  & <chr> & <ppj\\_lbll> & <ppj\\_lbll> & <ppj\\_lbll> & <ppj\\_lbll>\\\\\n",
       "\\hline\n",
       "\tnoun\\_F & noun\\_F & 1.80 & \\${[}1.33\\$, \\$2.27{]}\\$ & 7.72 & < .001\\\\\n",
       "\tnoun\\_M & noun\\_M & 1.69 & \\${[}1.22\\$, \\$2.16{]}\\$ & 7.26 & < .001\\\\\n",
       "\tverb\\_X & verb\\_X & 1.65 & \\${[}1.18\\$, \\$2.12{]}\\$ & 7.08 & < .001\\\\\n",
       "\\end{tabular}\n"
      ],
      "text/markdown": [
       "\n",
       "A apa_results_table: 3 × 5\n",
       "\n",
       "| <!--/--> | cond0 &lt;chr&gt; | estimate &lt;ppj_lbll&gt; | ci &lt;ppj_lbll&gt; | statistic &lt;ppj_lbll&gt; | p.value &lt;ppj_lbll&gt; |\n",
       "|---|---|---|---|---|---|\n",
       "| noun_F | noun_F | 1.80 | $[1.33$, $2.27]$ | 7.72 | &lt; .001 |\n",
       "| noun_M | noun_M | 1.69 | $[1.22$, $2.16]$ | 7.26 | &lt; .001 |\n",
       "| verb_X | verb_X | 1.65 | $[1.18$, $2.12]$ | 7.08 | &lt; .001 |\n",
       "\n"
      ],
      "text/plain": [
       "       cond0  estimate ci               statistic p.value\n",
       "noun_F noun_F 1.80     $[1.33$, $2.27]$ 7.72      < .001 \n",
       "noun_M noun_M 1.69     $[1.22$, $2.16]$ 7.26      < .001 \n",
       "verb_X verb_X 1.65     $[1.18$, $2.12]$ 7.08      < .001 "
      ]
     },
     "metadata": {},
     "output_type": "display_data"
    },
    {
     "data": {
      "text/markdown": [
       "### Paired comparisons for expected marginal means"
      ]
     },
     "metadata": {},
     "output_type": "display_data"
    },
    {
     "data": {
      "text/html": [
       "<table>\n",
       "<caption>A apa_results_table: 3 × 5</caption>\n",
       "<thead>\n",
       "\t<tr><th></th><th scope=col>contrast</th><th scope=col>estimate</th><th scope=col>ci</th><th scope=col>statistic</th><th scope=col>p.value</th></tr>\n",
       "\t<tr><th></th><th scope=col>&lt;ppj_lbll&gt;</th><th scope=col>&lt;ppj_lbll&gt;</th><th scope=col>&lt;ppj_lbll&gt;</th><th scope=col>&lt;ppj_lbll&gt;</th><th scope=col>&lt;ppj_lbll&gt;</th></tr>\n",
       "</thead>\n",
       "<tbody>\n",
       "\t<tr><th scope=row>noun_F_noun_M</th><td>noun_F - noun_M</td><td>0.11</td><td>$[-0.21$, $0.42]$</td><td>0.82</td><td>.694</td></tr>\n",
       "\t<tr><th scope=row>noun_F_verb_X</th><td>noun_F - verb_X</td><td>0.15</td><td>$[-0.17$, $0.47]$</td><td>1.13</td><td>.496</td></tr>\n",
       "\t<tr><th scope=row>noun_M_verb_X</th><td>noun_M - verb_X</td><td>0.04</td><td>$[-0.27$, $0.36]$</td><td>0.32</td><td>.946</td></tr>\n",
       "</tbody>\n",
       "</table>\n"
      ],
      "text/latex": [
       "A apa\\_results\\_table: 3 × 5\n",
       "\\begin{tabular}{r|lllll}\n",
       "  & contrast & estimate & ci & statistic & p.value\\\\\n",
       "  & <ppj\\_lbll> & <ppj\\_lbll> & <ppj\\_lbll> & <ppj\\_lbll> & <ppj\\_lbll>\\\\\n",
       "\\hline\n",
       "\tnoun\\_F\\_noun\\_M & noun\\_F - noun\\_M & 0.11 & \\${[}-0.21\\$, \\$0.42{]}\\$ & 0.82 & .694\\\\\n",
       "\tnoun\\_F\\_verb\\_X & noun\\_F - verb\\_X & 0.15 & \\${[}-0.17\\$, \\$0.47{]}\\$ & 1.13 & .496\\\\\n",
       "\tnoun\\_M\\_verb\\_X & noun\\_M - verb\\_X & 0.04 & \\${[}-0.27\\$, \\$0.36{]}\\$ & 0.32 & .946\\\\\n",
       "\\end{tabular}\n"
      ],
      "text/markdown": [
       "\n",
       "A apa_results_table: 3 × 5\n",
       "\n",
       "| <!--/--> | contrast &lt;ppj_lbll&gt; | estimate &lt;ppj_lbll&gt; | ci &lt;ppj_lbll&gt; | statistic &lt;ppj_lbll&gt; | p.value &lt;ppj_lbll&gt; |\n",
       "|---|---|---|---|---|---|\n",
       "| noun_F_noun_M | noun_F - noun_M | 0.11 | $[-0.21$, $0.42]$ | 0.82 | .694 |\n",
       "| noun_F_verb_X | noun_F - verb_X | 0.15 | $[-0.17$, $0.47]$ | 1.13 | .496 |\n",
       "| noun_M_verb_X | noun_M - verb_X | 0.04 | $[-0.27$, $0.36]$ | 0.32 | .946 |\n",
       "\n"
      ],
      "text/plain": [
       "              contrast        estimate ci                statistic p.value\n",
       "noun_F_noun_M noun_F - noun_M 0.11     $[-0.21$, $0.42]$ 0.82      .694   \n",
       "noun_F_verb_X noun_F - verb_X 0.15     $[-0.17$, $0.47]$ 1.13      .496   \n",
       "noun_M_verb_X noun_M - verb_X 0.04     $[-0.27$, $0.36]$ 0.32      .946   "
      ]
     },
     "metadata": {},
     "output_type": "display_data"
    }
   ],
   "source": [
    "IDX <- IDX+1; COND <- CONDS[IDX]\n",
    "data1 <- droplevels(subset(df1, eval(parse(text=COND)))); data1 <- data1[complete.cases(data1),]; done1 <- AOV4(data1,COND)\n",
    "display_markdown(str_c(\"# Condition \",IDX,\" of \",length(CONDS))); display_markdown(done1$info); display_markdown(\"### Table\"); done1$aov_APA$table; display_markdown(\"### Result\"); display_markdown(done1$aov_APA[[\"full_result\"]][[\"cond0\"]]); display_markdown(\"### Summary (all done1, incl. NANs)\"); done1$summary; display_markdown(\"### Expected marginal means\"); done1$emm_APA$table; display_markdown(\"### Paired comparisons for expected marginal means\"); done1$pairs_APA$table"
   ]
  },
  {
   "cell_type": "code",
   "execution_count": 61,
   "metadata": {},
   "outputs": [
    {
     "data": {
      "text/markdown": [
       "# Condition 44 of 72"
      ]
     },
     "metadata": {},
     "output_type": "display_data"
    },
    {
     "data": {
      "text/markdown": [
       "`tmin0==0.41 & chan0==\"RC\" & mode0==\"neg\"`"
      ]
     },
     "metadata": {},
     "output_type": "display_data"
    },
    {
     "data": {
      "text/markdown": [
       "### Table"
      ]
     },
     "metadata": {},
     "output_type": "display_data"
    },
    {
     "data": {
      "text/html": [
       "<table>\n",
       "<caption>A apa_results_table: 1 × 7</caption>\n",
       "<thead>\n",
       "\t<tr><th></th><th scope=col>Effect</th><th scope=col>F</th><th scope=col>df1</th><th scope=col>df2</th><th scope=col>MSE</th><th scope=col>p</th><th scope=col>ges</th></tr>\n",
       "\t<tr><th></th><th scope=col>&lt;ppj_lbll&gt;</th><th scope=col>&lt;ppj_lbll&gt;</th><th scope=col>&lt;ppj_lbll&gt;</th><th scope=col>&lt;ppj_lbll&gt;</th><th scope=col>&lt;ppj_lbll&gt;</th><th scope=col>&lt;ppj_lbll&gt;</th><th scope=col>&lt;ppj_lbll&gt;</th></tr>\n",
       "</thead>\n",
       "<tbody>\n",
       "\t<tr><th scope=row>1</th><td>Cond0</td><td>3.44</td><td>1.72</td><td>70.44</td><td>0.35</td><td>.044</td><td>.007</td></tr>\n",
       "</tbody>\n",
       "</table>\n"
      ],
      "text/latex": [
       "A apa\\_results\\_table: 1 × 7\n",
       "\\begin{tabular}{r|lllllll}\n",
       "  & Effect & F & df1 & df2 & MSE & p & ges\\\\\n",
       "  & <ppj\\_lbll> & <ppj\\_lbll> & <ppj\\_lbll> & <ppj\\_lbll> & <ppj\\_lbll> & <ppj\\_lbll> & <ppj\\_lbll>\\\\\n",
       "\\hline\n",
       "\t1 & Cond0 & 3.44 & 1.72 & 70.44 & 0.35 & .044 & .007\\\\\n",
       "\\end{tabular}\n"
      ],
      "text/markdown": [
       "\n",
       "A apa_results_table: 1 × 7\n",
       "\n",
       "| <!--/--> | Effect &lt;ppj_lbll&gt; | F &lt;ppj_lbll&gt; | df1 &lt;ppj_lbll&gt; | df2 &lt;ppj_lbll&gt; | MSE &lt;ppj_lbll&gt; | p &lt;ppj_lbll&gt; | ges &lt;ppj_lbll&gt; |\n",
       "|---|---|---|---|---|---|---|---|\n",
       "| 1 | Cond0 | 3.44 | 1.72 | 70.44 | 0.35 | .044 | .007 |\n",
       "\n"
      ],
      "text/plain": [
       "  Effect F    df1  df2   MSE  p    ges \n",
       "1 Cond0  3.44 1.72 70.44 0.35 .044 .007"
      ]
     },
     "metadata": {},
     "output_type": "display_data"
    },
    {
     "data": {
      "text/markdown": [
       "### Result"
      ]
     },
     "metadata": {},
     "output_type": "display_data"
    },
    {
     "data": {
      "text/markdown": [
       "$F(1.72, 70.44) = 3.44$, $\\mathit{MSE} = 0.35$, $p = .044$, $\\hat{\\eta}^2_G = .007$"
      ]
     },
     "metadata": {},
     "output_type": "display_data"
    },
    {
     "data": {
      "text/markdown": [
       "### Summary (all done1, incl. NANs)"
      ]
     },
     "metadata": {},
     "output_type": "display_data"
    },
    {
     "data": {
      "text/html": [
       "<table>\n",
       "<caption>A tibble: 3 × 5</caption>\n",
       "<thead>\n",
       "\t<tr><th scope=col>cond0</th><th scope=col>N</th><th scope=col>valX_M</th><th scope=col>valX_SD</th><th scope=col>valX_SE</th></tr>\n",
       "\t<tr><th scope=col>&lt;fct&gt;</th><th scope=col>&lt;int&gt;</th><th scope=col>&lt;dbl&gt;</th><th scope=col>&lt;dbl&gt;</th><th scope=col>&lt;dbl&gt;</th></tr>\n",
       "</thead>\n",
       "<tbody>\n",
       "\t<tr><td>noun_F</td><td>42</td><td>0.3720706</td><td>1.635512</td><td>0.2523650</td></tr>\n",
       "\t<tr><td>noun_M</td><td>42</td><td>0.1969286</td><td>1.480558</td><td>0.2284550</td></tr>\n",
       "\t<tr><td>verb_X</td><td>42</td><td>0.5122825</td><td>1.558251</td><td>0.2404434</td></tr>\n",
       "</tbody>\n",
       "</table>\n"
      ],
      "text/latex": [
       "A tibble: 3 × 5\n",
       "\\begin{tabular}{lllll}\n",
       " cond0 & N & valX\\_M & valX\\_SD & valX\\_SE\\\\\n",
       " <fct> & <int> & <dbl> & <dbl> & <dbl>\\\\\n",
       "\\hline\n",
       "\t noun\\_F & 42 & 0.3720706 & 1.635512 & 0.2523650\\\\\n",
       "\t noun\\_M & 42 & 0.1969286 & 1.480558 & 0.2284550\\\\\n",
       "\t verb\\_X & 42 & 0.5122825 & 1.558251 & 0.2404434\\\\\n",
       "\\end{tabular}\n"
      ],
      "text/markdown": [
       "\n",
       "A tibble: 3 × 5\n",
       "\n",
       "| cond0 &lt;fct&gt; | N &lt;int&gt; | valX_M &lt;dbl&gt; | valX_SD &lt;dbl&gt; | valX_SE &lt;dbl&gt; |\n",
       "|---|---|---|---|---|\n",
       "| noun_F | 42 | 0.3720706 | 1.635512 | 0.2523650 |\n",
       "| noun_M | 42 | 0.1969286 | 1.480558 | 0.2284550 |\n",
       "| verb_X | 42 | 0.5122825 | 1.558251 | 0.2404434 |\n",
       "\n"
      ],
      "text/plain": [
       "  cond0  N  valX_M    valX_SD  valX_SE  \n",
       "1 noun_F 42 0.3720706 1.635512 0.2523650\n",
       "2 noun_M 42 0.1969286 1.480558 0.2284550\n",
       "3 verb_X 42 0.5122825 1.558251 0.2404434"
      ]
     },
     "metadata": {},
     "output_type": "display_data"
    },
    {
     "data": {
      "text/markdown": [
       "### Expected marginal means"
      ]
     },
     "metadata": {},
     "output_type": "display_data"
    },
    {
     "data": {
      "text/html": [
       "<table>\n",
       "<caption>A apa_results_table: 3 × 5</caption>\n",
       "<thead>\n",
       "\t<tr><th></th><th scope=col>cond0</th><th scope=col>estimate</th><th scope=col>ci</th><th scope=col>statistic</th><th scope=col>p.value</th></tr>\n",
       "\t<tr><th></th><th scope=col>&lt;chr&gt;</th><th scope=col>&lt;ppj_lbll&gt;</th><th scope=col>&lt;ppj_lbll&gt;</th><th scope=col>&lt;ppj_lbll&gt;</th><th scope=col>&lt;ppj_lbll&gt;</th></tr>\n",
       "</thead>\n",
       "<tbody>\n",
       "\t<tr><th scope=row>noun_F</th><td>noun_F</td><td>0.37</td><td>$[-0.11$, $0.86]$</td><td>1.55</td><td>.129</td></tr>\n",
       "\t<tr><th scope=row>noun_M</th><td>noun_M</td><td>0.20</td><td>$[-0.29$, $0.68]$</td><td>0.82</td><td>.417</td></tr>\n",
       "\t<tr><th scope=row>verb_X</th><td>verb_X</td><td>0.51</td><td>$[0.03$, $1.00]$ </td><td>2.13</td><td>.038</td></tr>\n",
       "</tbody>\n",
       "</table>\n"
      ],
      "text/latex": [
       "A apa\\_results\\_table: 3 × 5\n",
       "\\begin{tabular}{r|lllll}\n",
       "  & cond0 & estimate & ci & statistic & p.value\\\\\n",
       "  & <chr> & <ppj\\_lbll> & <ppj\\_lbll> & <ppj\\_lbll> & <ppj\\_lbll>\\\\\n",
       "\\hline\n",
       "\tnoun\\_F & noun\\_F & 0.37 & \\${[}-0.11\\$, \\$0.86{]}\\$ & 1.55 & .129\\\\\n",
       "\tnoun\\_M & noun\\_M & 0.20 & \\${[}-0.29\\$, \\$0.68{]}\\$ & 0.82 & .417\\\\\n",
       "\tverb\\_X & verb\\_X & 0.51 & \\${[}0.03\\$, \\$1.00{]}\\$  & 2.13 & .038\\\\\n",
       "\\end{tabular}\n"
      ],
      "text/markdown": [
       "\n",
       "A apa_results_table: 3 × 5\n",
       "\n",
       "| <!--/--> | cond0 &lt;chr&gt; | estimate &lt;ppj_lbll&gt; | ci &lt;ppj_lbll&gt; | statistic &lt;ppj_lbll&gt; | p.value &lt;ppj_lbll&gt; |\n",
       "|---|---|---|---|---|---|\n",
       "| noun_F | noun_F | 0.37 | $[-0.11$, $0.86]$ | 1.55 | .129 |\n",
       "| noun_M | noun_M | 0.20 | $[-0.29$, $0.68]$ | 0.82 | .417 |\n",
       "| verb_X | verb_X | 0.51 | $[0.03$, $1.00]$  | 2.13 | .038 |\n",
       "\n"
      ],
      "text/plain": [
       "       cond0  estimate ci                statistic p.value\n",
       "noun_F noun_F 0.37     $[-0.11$, $0.86]$ 1.55      .129   \n",
       "noun_M noun_M 0.20     $[-0.29$, $0.68]$ 0.82      .417   \n",
       "verb_X verb_X 0.51     $[0.03$, $1.00]$  2.13      .038   "
      ]
     },
     "metadata": {},
     "output_type": "display_data"
    },
    {
     "data": {
      "text/markdown": [
       "### Paired comparisons for expected marginal means"
      ]
     },
     "metadata": {},
     "output_type": "display_data"
    },
    {
     "data": {
      "text/html": [
       "<table>\n",
       "<caption>A apa_results_table: 3 × 5</caption>\n",
       "<thead>\n",
       "\t<tr><th></th><th scope=col>contrast</th><th scope=col>estimate</th><th scope=col>ci</th><th scope=col>statistic</th><th scope=col>p.value</th></tr>\n",
       "\t<tr><th></th><th scope=col>&lt;ppj_lbll&gt;</th><th scope=col>&lt;ppj_lbll&gt;</th><th scope=col>&lt;ppj_lbll&gt;</th><th scope=col>&lt;ppj_lbll&gt;</th><th scope=col>&lt;ppj_lbll&gt;</th></tr>\n",
       "</thead>\n",
       "<tbody>\n",
       "\t<tr><th scope=row>noun_F_noun_M</th><td>noun_F - noun_M</td><td>0.18 </td><td>$[-0.11$, $0.46]$ </td><td>1.45 </td><td>.318</td></tr>\n",
       "\t<tr><th scope=row>noun_F_verb_X</th><td>noun_F - verb_X</td><td>-0.14</td><td>$[-0.43$, $0.15]$ </td><td>-1.16</td><td>.478</td></tr>\n",
       "\t<tr><th scope=row>noun_M_verb_X</th><td>noun_M - verb_X</td><td>-0.32</td><td>$[-0.60$, $-0.03]$</td><td>-2.62</td><td>.028</td></tr>\n",
       "</tbody>\n",
       "</table>\n"
      ],
      "text/latex": [
       "A apa\\_results\\_table: 3 × 5\n",
       "\\begin{tabular}{r|lllll}\n",
       "  & contrast & estimate & ci & statistic & p.value\\\\\n",
       "  & <ppj\\_lbll> & <ppj\\_lbll> & <ppj\\_lbll> & <ppj\\_lbll> & <ppj\\_lbll>\\\\\n",
       "\\hline\n",
       "\tnoun\\_F\\_noun\\_M & noun\\_F - noun\\_M & 0.18  & \\${[}-0.11\\$, \\$0.46{]}\\$  & 1.45  & .318\\\\\n",
       "\tnoun\\_F\\_verb\\_X & noun\\_F - verb\\_X & -0.14 & \\${[}-0.43\\$, \\$0.15{]}\\$  & -1.16 & .478\\\\\n",
       "\tnoun\\_M\\_verb\\_X & noun\\_M - verb\\_X & -0.32 & \\${[}-0.60\\$, \\$-0.03{]}\\$ & -2.62 & .028\\\\\n",
       "\\end{tabular}\n"
      ],
      "text/markdown": [
       "\n",
       "A apa_results_table: 3 × 5\n",
       "\n",
       "| <!--/--> | contrast &lt;ppj_lbll&gt; | estimate &lt;ppj_lbll&gt; | ci &lt;ppj_lbll&gt; | statistic &lt;ppj_lbll&gt; | p.value &lt;ppj_lbll&gt; |\n",
       "|---|---|---|---|---|---|\n",
       "| noun_F_noun_M | noun_F - noun_M | 0.18  | $[-0.11$, $0.46]$  | 1.45  | .318 |\n",
       "| noun_F_verb_X | noun_F - verb_X | -0.14 | $[-0.43$, $0.15]$  | -1.16 | .478 |\n",
       "| noun_M_verb_X | noun_M - verb_X | -0.32 | $[-0.60$, $-0.03]$ | -2.62 | .028 |\n",
       "\n"
      ],
      "text/plain": [
       "              contrast        estimate ci                 statistic p.value\n",
       "noun_F_noun_M noun_F - noun_M 0.18     $[-0.11$, $0.46]$  1.45      .318   \n",
       "noun_F_verb_X noun_F - verb_X -0.14    $[-0.43$, $0.15]$  -1.16     .478   \n",
       "noun_M_verb_X noun_M - verb_X -0.32    $[-0.60$, $-0.03]$ -2.62     .028   "
      ]
     },
     "metadata": {},
     "output_type": "display_data"
    }
   ],
   "source": [
    "IDX <- IDX+1; COND <- CONDS[IDX]\n",
    "data1 <- droplevels(subset(df1, eval(parse(text=COND)))); data1 <- data1[complete.cases(data1),]; done1 <- AOV4(data1,COND)\n",
    "display_markdown(str_c(\"# Condition \",IDX,\" of \",length(CONDS))); display_markdown(done1$info); display_markdown(\"### Table\"); done1$aov_APA$table; display_markdown(\"### Result\"); display_markdown(done1$aov_APA[[\"full_result\"]][[\"cond0\"]]); display_markdown(\"### Summary (all done1, incl. NANs)\"); done1$summary; display_markdown(\"### Expected marginal means\"); done1$emm_APA$table; display_markdown(\"### Paired comparisons for expected marginal means\"); done1$pairs_APA$table"
   ]
  },
  {
   "cell_type": "code",
   "execution_count": 62,
   "metadata": {},
   "outputs": [
    {
     "name": "stderr",
     "output_type": "stream",
     "text": [
      "Warning message:\n",
      "“Missing values for following ID(s):\n",
      "07zrxf, 30mszf\n",
      "Removing those cases from the analysis.”\n",
      "Warning message in summary.Anova.mlm(x$Anova):\n",
      "“HF eps > 1 treated as 1”\n"
     ]
    },
    {
     "data": {
      "text/markdown": [
       "# Condition 45 of 72"
      ]
     },
     "metadata": {},
     "output_type": "display_data"
    },
    {
     "data": {
      "text/markdown": [
       "`tmin0==0.41 & chan0==\"LP\" & mode0==\"pos\"`"
      ]
     },
     "metadata": {},
     "output_type": "display_data"
    },
    {
     "data": {
      "text/markdown": [
       "### Table"
      ]
     },
     "metadata": {},
     "output_type": "display_data"
    },
    {
     "data": {
      "text/html": [
       "<table>\n",
       "<caption>A apa_results_table: 1 × 7</caption>\n",
       "<thead>\n",
       "\t<tr><th></th><th scope=col>Effect</th><th scope=col>F</th><th scope=col>df1</th><th scope=col>df2</th><th scope=col>MSE</th><th scope=col>p</th><th scope=col>ges</th></tr>\n",
       "\t<tr><th></th><th scope=col>&lt;ppj_lbll&gt;</th><th scope=col>&lt;ppj_lbll&gt;</th><th scope=col>&lt;ppj_lbll&gt;</th><th scope=col>&lt;ppj_lbll&gt;</th><th scope=col>&lt;ppj_lbll&gt;</th><th scope=col>&lt;ppj_lbll&gt;</th><th scope=col>&lt;ppj_lbll&gt;</th></tr>\n",
       "</thead>\n",
       "<tbody>\n",
       "\t<tr><th scope=row>1</th><td>Cond0</td><td>0.94</td><td>1.94</td><td>75.59</td><td>0.45</td><td>.391</td><td>.001</td></tr>\n",
       "</tbody>\n",
       "</table>\n"
      ],
      "text/latex": [
       "A apa\\_results\\_table: 1 × 7\n",
       "\\begin{tabular}{r|lllllll}\n",
       "  & Effect & F & df1 & df2 & MSE & p & ges\\\\\n",
       "  & <ppj\\_lbll> & <ppj\\_lbll> & <ppj\\_lbll> & <ppj\\_lbll> & <ppj\\_lbll> & <ppj\\_lbll> & <ppj\\_lbll>\\\\\n",
       "\\hline\n",
       "\t1 & Cond0 & 0.94 & 1.94 & 75.59 & 0.45 & .391 & .001\\\\\n",
       "\\end{tabular}\n"
      ],
      "text/markdown": [
       "\n",
       "A apa_results_table: 1 × 7\n",
       "\n",
       "| <!--/--> | Effect &lt;ppj_lbll&gt; | F &lt;ppj_lbll&gt; | df1 &lt;ppj_lbll&gt; | df2 &lt;ppj_lbll&gt; | MSE &lt;ppj_lbll&gt; | p &lt;ppj_lbll&gt; | ges &lt;ppj_lbll&gt; |\n",
       "|---|---|---|---|---|---|---|---|\n",
       "| 1 | Cond0 | 0.94 | 1.94 | 75.59 | 0.45 | .391 | .001 |\n",
       "\n"
      ],
      "text/plain": [
       "  Effect F    df1  df2   MSE  p    ges \n",
       "1 Cond0  0.94 1.94 75.59 0.45 .391 .001"
      ]
     },
     "metadata": {},
     "output_type": "display_data"
    },
    {
     "data": {
      "text/markdown": [
       "### Result"
      ]
     },
     "metadata": {},
     "output_type": "display_data"
    },
    {
     "data": {
      "text/markdown": [
       "$F(1.94, 75.59) = 0.94$, $\\mathit{MSE} = 0.45$, $p = .391$, $\\hat{\\eta}^2_G = .001$"
      ]
     },
     "metadata": {},
     "output_type": "display_data"
    },
    {
     "data": {
      "text/markdown": [
       "### Summary (all done1, incl. NANs)"
      ]
     },
     "metadata": {},
     "output_type": "display_data"
    },
    {
     "data": {
      "text/html": [
       "<table>\n",
       "<caption>A tibble: 3 × 5</caption>\n",
       "<thead>\n",
       "\t<tr><th scope=col>cond0</th><th scope=col>N</th><th scope=col>valX_M</th><th scope=col>valX_SD</th><th scope=col>valX_SE</th></tr>\n",
       "\t<tr><th scope=col>&lt;fct&gt;</th><th scope=col>&lt;int&gt;</th><th scope=col>&lt;dbl&gt;</th><th scope=col>&lt;dbl&gt;</th><th scope=col>&lt;dbl&gt;</th></tr>\n",
       "</thead>\n",
       "<tbody>\n",
       "\t<tr><td>noun_F</td><td>41</td><td>2.571274</td><td>2.532714</td><td>0.3955435</td></tr>\n",
       "\t<tr><td>noun_M</td><td>41</td><td>2.823260</td><td>2.204071</td><td>0.3442181</td></tr>\n",
       "\t<tr><td>verb_X</td><td>41</td><td>2.658914</td><td>2.369363</td><td>0.3700323</td></tr>\n",
       "</tbody>\n",
       "</table>\n"
      ],
      "text/latex": [
       "A tibble: 3 × 5\n",
       "\\begin{tabular}{lllll}\n",
       " cond0 & N & valX\\_M & valX\\_SD & valX\\_SE\\\\\n",
       " <fct> & <int> & <dbl> & <dbl> & <dbl>\\\\\n",
       "\\hline\n",
       "\t noun\\_F & 41 & 2.571274 & 2.532714 & 0.3955435\\\\\n",
       "\t noun\\_M & 41 & 2.823260 & 2.204071 & 0.3442181\\\\\n",
       "\t verb\\_X & 41 & 2.658914 & 2.369363 & 0.3700323\\\\\n",
       "\\end{tabular}\n"
      ],
      "text/markdown": [
       "\n",
       "A tibble: 3 × 5\n",
       "\n",
       "| cond0 &lt;fct&gt; | N &lt;int&gt; | valX_M &lt;dbl&gt; | valX_SD &lt;dbl&gt; | valX_SE &lt;dbl&gt; |\n",
       "|---|---|---|---|---|\n",
       "| noun_F | 41 | 2.571274 | 2.532714 | 0.3955435 |\n",
       "| noun_M | 41 | 2.823260 | 2.204071 | 0.3442181 |\n",
       "| verb_X | 41 | 2.658914 | 2.369363 | 0.3700323 |\n",
       "\n"
      ],
      "text/plain": [
       "  cond0  N  valX_M   valX_SD  valX_SE  \n",
       "1 noun_F 41 2.571274 2.532714 0.3955435\n",
       "2 noun_M 41 2.823260 2.204071 0.3442181\n",
       "3 verb_X 41 2.658914 2.369363 0.3700323"
      ]
     },
     "metadata": {},
     "output_type": "display_data"
    },
    {
     "data": {
      "text/markdown": [
       "### Expected marginal means"
      ]
     },
     "metadata": {},
     "output_type": "display_data"
    },
    {
     "data": {
      "text/html": [
       "<table>\n",
       "<caption>A apa_results_table: 3 × 5</caption>\n",
       "<thead>\n",
       "\t<tr><th></th><th scope=col>cond0</th><th scope=col>estimate</th><th scope=col>ci</th><th scope=col>statistic</th><th scope=col>p.value</th></tr>\n",
       "\t<tr><th></th><th scope=col>&lt;chr&gt;</th><th scope=col>&lt;ppj_lbll&gt;</th><th scope=col>&lt;ppj_lbll&gt;</th><th scope=col>&lt;ppj_lbll&gt;</th><th scope=col>&lt;ppj_lbll&gt;</th></tr>\n",
       "</thead>\n",
       "<tbody>\n",
       "\t<tr><th scope=row>noun_F</th><td>noun_F</td><td>2.67</td><td>$[1.92$, $3.42]$</td><td>7.16</td><td>&lt; .001</td></tr>\n",
       "\t<tr><th scope=row>noun_M</th><td>noun_M</td><td>2.86</td><td>$[2.11$, $3.62]$</td><td>7.69</td><td>&lt; .001</td></tr>\n",
       "\t<tr><th scope=row>verb_X</th><td>verb_X</td><td>2.73</td><td>$[1.98$, $3.48]$</td><td>7.32</td><td>&lt; .001</td></tr>\n",
       "</tbody>\n",
       "</table>\n"
      ],
      "text/latex": [
       "A apa\\_results\\_table: 3 × 5\n",
       "\\begin{tabular}{r|lllll}\n",
       "  & cond0 & estimate & ci & statistic & p.value\\\\\n",
       "  & <chr> & <ppj\\_lbll> & <ppj\\_lbll> & <ppj\\_lbll> & <ppj\\_lbll>\\\\\n",
       "\\hline\n",
       "\tnoun\\_F & noun\\_F & 2.67 & \\${[}1.92\\$, \\$3.42{]}\\$ & 7.16 & < .001\\\\\n",
       "\tnoun\\_M & noun\\_M & 2.86 & \\${[}2.11\\$, \\$3.62{]}\\$ & 7.69 & < .001\\\\\n",
       "\tverb\\_X & verb\\_X & 2.73 & \\${[}1.98\\$, \\$3.48{]}\\$ & 7.32 & < .001\\\\\n",
       "\\end{tabular}\n"
      ],
      "text/markdown": [
       "\n",
       "A apa_results_table: 3 × 5\n",
       "\n",
       "| <!--/--> | cond0 &lt;chr&gt; | estimate &lt;ppj_lbll&gt; | ci &lt;ppj_lbll&gt; | statistic &lt;ppj_lbll&gt; | p.value &lt;ppj_lbll&gt; |\n",
       "|---|---|---|---|---|---|\n",
       "| noun_F | noun_F | 2.67 | $[1.92$, $3.42]$ | 7.16 | &lt; .001 |\n",
       "| noun_M | noun_M | 2.86 | $[2.11$, $3.62]$ | 7.69 | &lt; .001 |\n",
       "| verb_X | verb_X | 2.73 | $[1.98$, $3.48]$ | 7.32 | &lt; .001 |\n",
       "\n"
      ],
      "text/plain": [
       "       cond0  estimate ci               statistic p.value\n",
       "noun_F noun_F 2.67     $[1.92$, $3.42]$ 7.16      < .001 \n",
       "noun_M noun_M 2.86     $[2.11$, $3.62]$ 7.69      < .001 \n",
       "verb_X verb_X 2.73     $[1.98$, $3.48]$ 7.32      < .001 "
      ]
     },
     "metadata": {},
     "output_type": "display_data"
    },
    {
     "data": {
      "text/markdown": [
       "### Paired comparisons for expected marginal means"
      ]
     },
     "metadata": {},
     "output_type": "display_data"
    },
    {
     "data": {
      "text/html": [
       "<table>\n",
       "<caption>A apa_results_table: 3 × 5</caption>\n",
       "<thead>\n",
       "\t<tr><th></th><th scope=col>contrast</th><th scope=col>estimate</th><th scope=col>ci</th><th scope=col>statistic</th><th scope=col>p.value</th></tr>\n",
       "\t<tr><th></th><th scope=col>&lt;ppj_lbll&gt;</th><th scope=col>&lt;ppj_lbll&gt;</th><th scope=col>&lt;ppj_lbll&gt;</th><th scope=col>&lt;ppj_lbll&gt;</th><th scope=col>&lt;ppj_lbll&gt;</th></tr>\n",
       "</thead>\n",
       "<tbody>\n",
       "\t<tr><th scope=row>noun_F_noun_M</th><td>noun_F - noun_M</td><td>-0.20</td><td>$[-0.55$, $0.15]$</td><td>-1.34</td><td>.375</td></tr>\n",
       "\t<tr><th scope=row>noun_F_verb_X</th><td>noun_F - verb_X</td><td>-0.06</td><td>$[-0.41$, $0.29]$</td><td>-0.42</td><td>.905</td></tr>\n",
       "\t<tr><th scope=row>noun_M_verb_X</th><td>noun_M - verb_X</td><td>0.14 </td><td>$[-0.22$, $0.49]$</td><td>0.92 </td><td>.630</td></tr>\n",
       "</tbody>\n",
       "</table>\n"
      ],
      "text/latex": [
       "A apa\\_results\\_table: 3 × 5\n",
       "\\begin{tabular}{r|lllll}\n",
       "  & contrast & estimate & ci & statistic & p.value\\\\\n",
       "  & <ppj\\_lbll> & <ppj\\_lbll> & <ppj\\_lbll> & <ppj\\_lbll> & <ppj\\_lbll>\\\\\n",
       "\\hline\n",
       "\tnoun\\_F\\_noun\\_M & noun\\_F - noun\\_M & -0.20 & \\${[}-0.55\\$, \\$0.15{]}\\$ & -1.34 & .375\\\\\n",
       "\tnoun\\_F\\_verb\\_X & noun\\_F - verb\\_X & -0.06 & \\${[}-0.41\\$, \\$0.29{]}\\$ & -0.42 & .905\\\\\n",
       "\tnoun\\_M\\_verb\\_X & noun\\_M - verb\\_X & 0.14  & \\${[}-0.22\\$, \\$0.49{]}\\$ & 0.92  & .630\\\\\n",
       "\\end{tabular}\n"
      ],
      "text/markdown": [
       "\n",
       "A apa_results_table: 3 × 5\n",
       "\n",
       "| <!--/--> | contrast &lt;ppj_lbll&gt; | estimate &lt;ppj_lbll&gt; | ci &lt;ppj_lbll&gt; | statistic &lt;ppj_lbll&gt; | p.value &lt;ppj_lbll&gt; |\n",
       "|---|---|---|---|---|---|\n",
       "| noun_F_noun_M | noun_F - noun_M | -0.20 | $[-0.55$, $0.15]$ | -1.34 | .375 |\n",
       "| noun_F_verb_X | noun_F - verb_X | -0.06 | $[-0.41$, $0.29]$ | -0.42 | .905 |\n",
       "| noun_M_verb_X | noun_M - verb_X | 0.14  | $[-0.22$, $0.49]$ | 0.92  | .630 |\n",
       "\n"
      ],
      "text/plain": [
       "              contrast        estimate ci                statistic p.value\n",
       "noun_F_noun_M noun_F - noun_M -0.20    $[-0.55$, $0.15]$ -1.34     .375   \n",
       "noun_F_verb_X noun_F - verb_X -0.06    $[-0.41$, $0.29]$ -0.42     .905   \n",
       "noun_M_verb_X noun_M - verb_X 0.14     $[-0.22$, $0.49]$ 0.92      .630   "
      ]
     },
     "metadata": {},
     "output_type": "display_data"
    }
   ],
   "source": [
    "IDX <- IDX+1; COND <- CONDS[IDX]\n",
    "data1 <- droplevels(subset(df1, eval(parse(text=COND)))); data1 <- data1[complete.cases(data1),]; done1 <- AOV4(data1,COND)\n",
    "display_markdown(str_c(\"# Condition \",IDX,\" of \",length(CONDS))); display_markdown(done1$info); display_markdown(\"### Table\"); done1$aov_APA$table; display_markdown(\"### Result\"); display_markdown(done1$aov_APA[[\"full_result\"]][[\"cond0\"]]); display_markdown(\"### Summary (all done1, incl. NANs)\"); done1$summary; display_markdown(\"### Expected marginal means\"); done1$emm_APA$table; display_markdown(\"### Paired comparisons for expected marginal means\"); done1$pairs_APA$table"
   ]
  },
  {
   "cell_type": "code",
   "execution_count": 63,
   "metadata": {},
   "outputs": [
    {
     "name": "stderr",
     "output_type": "stream",
     "text": [
      "Warning message:\n",
      "“Missing values for following ID(s):\n",
      "07zrxf, 30mszf\n",
      "Removing those cases from the analysis.”\n",
      "Warning message in summary.Anova.mlm(x$Anova):\n",
      "“HF eps > 1 treated as 1”\n"
     ]
    },
    {
     "data": {
      "text/markdown": [
       "# Condition 46 of 72"
      ]
     },
     "metadata": {},
     "output_type": "display_data"
    },
    {
     "data": {
      "text/markdown": [
       "`tmin0==0.41 & chan0==\"LP\" & mode0==\"neg\"`"
      ]
     },
     "metadata": {},
     "output_type": "display_data"
    },
    {
     "data": {
      "text/markdown": [
       "### Table"
      ]
     },
     "metadata": {},
     "output_type": "display_data"
    },
    {
     "data": {
      "text/html": [
       "<table>\n",
       "<caption>A apa_results_table: 1 × 7</caption>\n",
       "<thead>\n",
       "\t<tr><th></th><th scope=col>Effect</th><th scope=col>F</th><th scope=col>df1</th><th scope=col>df2</th><th scope=col>MSE</th><th scope=col>p</th><th scope=col>ges</th></tr>\n",
       "\t<tr><th></th><th scope=col>&lt;ppj_lbll&gt;</th><th scope=col>&lt;ppj_lbll&gt;</th><th scope=col>&lt;ppj_lbll&gt;</th><th scope=col>&lt;ppj_lbll&gt;</th><th scope=col>&lt;ppj_lbll&gt;</th><th scope=col>&lt;ppj_lbll&gt;</th><th scope=col>&lt;ppj_lbll&gt;</th></tr>\n",
       "</thead>\n",
       "<tbody>\n",
       "\t<tr><th scope=row>1</th><td>Cond0</td><td>5.00</td><td>2.00</td><td>77.93</td><td>0.42</td><td>.009</td><td>.008</td></tr>\n",
       "</tbody>\n",
       "</table>\n"
      ],
      "text/latex": [
       "A apa\\_results\\_table: 1 × 7\n",
       "\\begin{tabular}{r|lllllll}\n",
       "  & Effect & F & df1 & df2 & MSE & p & ges\\\\\n",
       "  & <ppj\\_lbll> & <ppj\\_lbll> & <ppj\\_lbll> & <ppj\\_lbll> & <ppj\\_lbll> & <ppj\\_lbll> & <ppj\\_lbll>\\\\\n",
       "\\hline\n",
       "\t1 & Cond0 & 5.00 & 2.00 & 77.93 & 0.42 & .009 & .008\\\\\n",
       "\\end{tabular}\n"
      ],
      "text/markdown": [
       "\n",
       "A apa_results_table: 1 × 7\n",
       "\n",
       "| <!--/--> | Effect &lt;ppj_lbll&gt; | F &lt;ppj_lbll&gt; | df1 &lt;ppj_lbll&gt; | df2 &lt;ppj_lbll&gt; | MSE &lt;ppj_lbll&gt; | p &lt;ppj_lbll&gt; | ges &lt;ppj_lbll&gt; |\n",
       "|---|---|---|---|---|---|---|---|\n",
       "| 1 | Cond0 | 5.00 | 2.00 | 77.93 | 0.42 | .009 | .008 |\n",
       "\n"
      ],
      "text/plain": [
       "  Effect F    df1  df2   MSE  p    ges \n",
       "1 Cond0  5.00 2.00 77.93 0.42 .009 .008"
      ]
     },
     "metadata": {},
     "output_type": "display_data"
    },
    {
     "data": {
      "text/markdown": [
       "### Result"
      ]
     },
     "metadata": {},
     "output_type": "display_data"
    },
    {
     "data": {
      "text/markdown": [
       "$F(2.00, 77.93) = 5.00$, $\\mathit{MSE} = 0.42$, $p = .009$, $\\hat{\\eta}^2_G = .008$"
      ]
     },
     "metadata": {},
     "output_type": "display_data"
    },
    {
     "data": {
      "text/markdown": [
       "### Summary (all done1, incl. NANs)"
      ]
     },
     "metadata": {},
     "output_type": "display_data"
    },
    {
     "data": {
      "text/html": [
       "<table>\n",
       "<caption>A tibble: 3 × 5</caption>\n",
       "<thead>\n",
       "\t<tr><th scope=col>cond0</th><th scope=col>N</th><th scope=col>valX_M</th><th scope=col>valX_SD</th><th scope=col>valX_SE</th></tr>\n",
       "\t<tr><th scope=col>&lt;fct&gt;</th><th scope=col>&lt;int&gt;</th><th scope=col>&lt;dbl&gt;</th><th scope=col>&lt;dbl&gt;</th><th scope=col>&lt;dbl&gt;</th></tr>\n",
       "</thead>\n",
       "<tbody>\n",
       "\t<tr><td>noun_F</td><td>42</td><td>-0.07821053</td><td>2.916449</td><td>0.4500178</td></tr>\n",
       "\t<tr><td>noun_M</td><td>41</td><td> 0.52855269</td><td>1.981732</td><td>0.3094946</td></tr>\n",
       "\t<tr><td>verb_X</td><td>41</td><td> 0.65966110</td><td>2.358293</td><td>0.3683034</td></tr>\n",
       "</tbody>\n",
       "</table>\n"
      ],
      "text/latex": [
       "A tibble: 3 × 5\n",
       "\\begin{tabular}{lllll}\n",
       " cond0 & N & valX\\_M & valX\\_SD & valX\\_SE\\\\\n",
       " <fct> & <int> & <dbl> & <dbl> & <dbl>\\\\\n",
       "\\hline\n",
       "\t noun\\_F & 42 & -0.07821053 & 2.916449 & 0.4500178\\\\\n",
       "\t noun\\_M & 41 &  0.52855269 & 1.981732 & 0.3094946\\\\\n",
       "\t verb\\_X & 41 &  0.65966110 & 2.358293 & 0.3683034\\\\\n",
       "\\end{tabular}\n"
      ],
      "text/markdown": [
       "\n",
       "A tibble: 3 × 5\n",
       "\n",
       "| cond0 &lt;fct&gt; | N &lt;int&gt; | valX_M &lt;dbl&gt; | valX_SD &lt;dbl&gt; | valX_SE &lt;dbl&gt; |\n",
       "|---|---|---|---|---|\n",
       "| noun_F | 42 | -0.07821053 | 2.916449 | 0.4500178 |\n",
       "| noun_M | 41 |  0.52855269 | 1.981732 | 0.3094946 |\n",
       "| verb_X | 41 |  0.65966110 | 2.358293 | 0.3683034 |\n",
       "\n"
      ],
      "text/plain": [
       "  cond0  N  valX_M      valX_SD  valX_SE  \n",
       "1 noun_F 42 -0.07821053 2.916449 0.4500178\n",
       "2 noun_M 41  0.52855269 1.981732 0.3094946\n",
       "3 verb_X 41  0.65966110 2.358293 0.3683034"
      ]
     },
     "metadata": {},
     "output_type": "display_data"
    },
    {
     "data": {
      "text/markdown": [
       "### Expected marginal means"
      ]
     },
     "metadata": {},
     "output_type": "display_data"
    },
    {
     "data": {
      "text/html": [
       "<table>\n",
       "<caption>A apa_results_table: 3 × 5</caption>\n",
       "<thead>\n",
       "\t<tr><th></th><th scope=col>cond0</th><th scope=col>estimate</th><th scope=col>ci</th><th scope=col>statistic</th><th scope=col>p.value</th></tr>\n",
       "\t<tr><th></th><th scope=col>&lt;chr&gt;</th><th scope=col>&lt;ppj_lbll&gt;</th><th scope=col>&lt;ppj_lbll&gt;</th><th scope=col>&lt;ppj_lbll&gt;</th><th scope=col>&lt;ppj_lbll&gt;</th></tr>\n",
       "</thead>\n",
       "<tbody>\n",
       "\t<tr><th scope=row>noun_F</th><td>noun_F</td><td>0.32</td><td>$[-0.34$, $0.99]$</td><td>0.98</td><td>.334</td></tr>\n",
       "\t<tr><th scope=row>noun_M</th><td>noun_M</td><td>0.62</td><td>$[-0.05$, $1.29]$</td><td>1.87</td><td>.068</td></tr>\n",
       "\t<tr><th scope=row>verb_X</th><td>verb_X</td><td>0.77</td><td>$[0.11$, $1.44]$ </td><td>2.34</td><td>.024</td></tr>\n",
       "</tbody>\n",
       "</table>\n"
      ],
      "text/latex": [
       "A apa\\_results\\_table: 3 × 5\n",
       "\\begin{tabular}{r|lllll}\n",
       "  & cond0 & estimate & ci & statistic & p.value\\\\\n",
       "  & <chr> & <ppj\\_lbll> & <ppj\\_lbll> & <ppj\\_lbll> & <ppj\\_lbll>\\\\\n",
       "\\hline\n",
       "\tnoun\\_F & noun\\_F & 0.32 & \\${[}-0.34\\$, \\$0.99{]}\\$ & 0.98 & .334\\\\\n",
       "\tnoun\\_M & noun\\_M & 0.62 & \\${[}-0.05\\$, \\$1.29{]}\\$ & 1.87 & .068\\\\\n",
       "\tverb\\_X & verb\\_X & 0.77 & \\${[}0.11\\$, \\$1.44{]}\\$  & 2.34 & .024\\\\\n",
       "\\end{tabular}\n"
      ],
      "text/markdown": [
       "\n",
       "A apa_results_table: 3 × 5\n",
       "\n",
       "| <!--/--> | cond0 &lt;chr&gt; | estimate &lt;ppj_lbll&gt; | ci &lt;ppj_lbll&gt; | statistic &lt;ppj_lbll&gt; | p.value &lt;ppj_lbll&gt; |\n",
       "|---|---|---|---|---|---|\n",
       "| noun_F | noun_F | 0.32 | $[-0.34$, $0.99]$ | 0.98 | .334 |\n",
       "| noun_M | noun_M | 0.62 | $[-0.05$, $1.29]$ | 1.87 | .068 |\n",
       "| verb_X | verb_X | 0.77 | $[0.11$, $1.44]$  | 2.34 | .024 |\n",
       "\n"
      ],
      "text/plain": [
       "       cond0  estimate ci                statistic p.value\n",
       "noun_F noun_F 0.32     $[-0.34$, $0.99]$ 0.98      .334   \n",
       "noun_M noun_M 0.62     $[-0.05$, $1.29]$ 1.87      .068   \n",
       "verb_X verb_X 0.77     $[0.11$, $1.44]$  2.34      .024   "
      ]
     },
     "metadata": {},
     "output_type": "display_data"
    },
    {
     "data": {
      "text/markdown": [
       "### Paired comparisons for expected marginal means"
      ]
     },
     "metadata": {},
     "output_type": "display_data"
    },
    {
     "data": {
      "text/html": [
       "<table>\n",
       "<caption>A apa_results_table: 3 × 5</caption>\n",
       "<thead>\n",
       "\t<tr><th></th><th scope=col>contrast</th><th scope=col>estimate</th><th scope=col>ci</th><th scope=col>statistic</th><th scope=col>p.value</th></tr>\n",
       "\t<tr><th></th><th scope=col>&lt;ppj_lbll&gt;</th><th scope=col>&lt;ppj_lbll&gt;</th><th scope=col>&lt;ppj_lbll&gt;</th><th scope=col>&lt;ppj_lbll&gt;</th><th scope=col>&lt;ppj_lbll&gt;</th></tr>\n",
       "</thead>\n",
       "<tbody>\n",
       "\t<tr><th scope=row>noun_F_noun_M</th><td>noun_F - noun_M</td><td>-0.30</td><td>$[-0.64$, $0.05]$ </td><td>-2.04</td><td>.110</td></tr>\n",
       "\t<tr><th scope=row>noun_F_verb_X</th><td>noun_F - verb_X</td><td>-0.45</td><td>$[-0.80$, $-0.11]$</td><td>-3.11</td><td>.007</td></tr>\n",
       "\t<tr><th scope=row>noun_M_verb_X</th><td>noun_M - verb_X</td><td>-0.16</td><td>$[-0.50$, $0.19]$ </td><td>-1.08</td><td>.531</td></tr>\n",
       "</tbody>\n",
       "</table>\n"
      ],
      "text/latex": [
       "A apa\\_results\\_table: 3 × 5\n",
       "\\begin{tabular}{r|lllll}\n",
       "  & contrast & estimate & ci & statistic & p.value\\\\\n",
       "  & <ppj\\_lbll> & <ppj\\_lbll> & <ppj\\_lbll> & <ppj\\_lbll> & <ppj\\_lbll>\\\\\n",
       "\\hline\n",
       "\tnoun\\_F\\_noun\\_M & noun\\_F - noun\\_M & -0.30 & \\${[}-0.64\\$, \\$0.05{]}\\$  & -2.04 & .110\\\\\n",
       "\tnoun\\_F\\_verb\\_X & noun\\_F - verb\\_X & -0.45 & \\${[}-0.80\\$, \\$-0.11{]}\\$ & -3.11 & .007\\\\\n",
       "\tnoun\\_M\\_verb\\_X & noun\\_M - verb\\_X & -0.16 & \\${[}-0.50\\$, \\$0.19{]}\\$  & -1.08 & .531\\\\\n",
       "\\end{tabular}\n"
      ],
      "text/markdown": [
       "\n",
       "A apa_results_table: 3 × 5\n",
       "\n",
       "| <!--/--> | contrast &lt;ppj_lbll&gt; | estimate &lt;ppj_lbll&gt; | ci &lt;ppj_lbll&gt; | statistic &lt;ppj_lbll&gt; | p.value &lt;ppj_lbll&gt; |\n",
       "|---|---|---|---|---|---|\n",
       "| noun_F_noun_M | noun_F - noun_M | -0.30 | $[-0.64$, $0.05]$  | -2.04 | .110 |\n",
       "| noun_F_verb_X | noun_F - verb_X | -0.45 | $[-0.80$, $-0.11]$ | -3.11 | .007 |\n",
       "| noun_M_verb_X | noun_M - verb_X | -0.16 | $[-0.50$, $0.19]$  | -1.08 | .531 |\n",
       "\n"
      ],
      "text/plain": [
       "              contrast        estimate ci                 statistic p.value\n",
       "noun_F_noun_M noun_F - noun_M -0.30    $[-0.64$, $0.05]$  -2.04     .110   \n",
       "noun_F_verb_X noun_F - verb_X -0.45    $[-0.80$, $-0.11]$ -3.11     .007   \n",
       "noun_M_verb_X noun_M - verb_X -0.16    $[-0.50$, $0.19]$  -1.08     .531   "
      ]
     },
     "metadata": {},
     "output_type": "display_data"
    }
   ],
   "source": [
    "IDX <- IDX+1; COND <- CONDS[IDX]\n",
    "data1 <- droplevels(subset(df1, eval(parse(text=COND)))); data1 <- data1[complete.cases(data1),]; done1 <- AOV4(data1,COND)\n",
    "display_markdown(str_c(\"# Condition \",IDX,\" of \",length(CONDS))); display_markdown(done1$info); display_markdown(\"### Table\"); done1$aov_APA$table; display_markdown(\"### Result\"); display_markdown(done1$aov_APA[[\"full_result\"]][[\"cond0\"]]); display_markdown(\"### Summary (all done1, incl. NANs)\"); done1$summary; display_markdown(\"### Expected marginal means\"); done1$emm_APA$table; display_markdown(\"### Paired comparisons for expected marginal means\"); done1$pairs_APA$table"
   ]
  },
  {
   "cell_type": "code",
   "execution_count": 64,
   "metadata": {},
   "outputs": [
    {
     "name": "stderr",
     "output_type": "stream",
     "text": [
      "Warning message:\n",
      "“Missing values for following ID(s):\n",
      "07zrxf\n",
      "Removing those cases from the analysis.”\n"
     ]
    },
    {
     "data": {
      "text/markdown": [
       "# Condition 47 of 72"
      ]
     },
     "metadata": {},
     "output_type": "display_data"
    },
    {
     "data": {
      "text/markdown": [
       "`tmin0==0.41 & chan0==\"RP\" & mode0==\"pos\"`"
      ]
     },
     "metadata": {},
     "output_type": "display_data"
    },
    {
     "data": {
      "text/markdown": [
       "### Table"
      ]
     },
     "metadata": {},
     "output_type": "display_data"
    },
    {
     "data": {
      "text/html": [
       "<table>\n",
       "<caption>A apa_results_table: 1 × 7</caption>\n",
       "<thead>\n",
       "\t<tr><th></th><th scope=col>Effect</th><th scope=col>F</th><th scope=col>df1</th><th scope=col>df2</th><th scope=col>MSE</th><th scope=col>p</th><th scope=col>ges</th></tr>\n",
       "\t<tr><th></th><th scope=col>&lt;ppj_lbll&gt;</th><th scope=col>&lt;ppj_lbll&gt;</th><th scope=col>&lt;ppj_lbll&gt;</th><th scope=col>&lt;ppj_lbll&gt;</th><th scope=col>&lt;ppj_lbll&gt;</th><th scope=col>&lt;ppj_lbll&gt;</th><th scope=col>&lt;ppj_lbll&gt;</th></tr>\n",
       "</thead>\n",
       "<tbody>\n",
       "\t<tr><th scope=row>1</th><td>Cond0</td><td>2.47</td><td>1.83</td><td>73.18</td><td>0.53</td><td>.096</td><td>.005</td></tr>\n",
       "</tbody>\n",
       "</table>\n"
      ],
      "text/latex": [
       "A apa\\_results\\_table: 1 × 7\n",
       "\\begin{tabular}{r|lllllll}\n",
       "  & Effect & F & df1 & df2 & MSE & p & ges\\\\\n",
       "  & <ppj\\_lbll> & <ppj\\_lbll> & <ppj\\_lbll> & <ppj\\_lbll> & <ppj\\_lbll> & <ppj\\_lbll> & <ppj\\_lbll>\\\\\n",
       "\\hline\n",
       "\t1 & Cond0 & 2.47 & 1.83 & 73.18 & 0.53 & .096 & .005\\\\\n",
       "\\end{tabular}\n"
      ],
      "text/markdown": [
       "\n",
       "A apa_results_table: 1 × 7\n",
       "\n",
       "| <!--/--> | Effect &lt;ppj_lbll&gt; | F &lt;ppj_lbll&gt; | df1 &lt;ppj_lbll&gt; | df2 &lt;ppj_lbll&gt; | MSE &lt;ppj_lbll&gt; | p &lt;ppj_lbll&gt; | ges &lt;ppj_lbll&gt; |\n",
       "|---|---|---|---|---|---|---|---|\n",
       "| 1 | Cond0 | 2.47 | 1.83 | 73.18 | 0.53 | .096 | .005 |\n",
       "\n"
      ],
      "text/plain": [
       "  Effect F    df1  df2   MSE  p    ges \n",
       "1 Cond0  2.47 1.83 73.18 0.53 .096 .005"
      ]
     },
     "metadata": {},
     "output_type": "display_data"
    },
    {
     "data": {
      "text/markdown": [
       "### Result"
      ]
     },
     "metadata": {},
     "output_type": "display_data"
    },
    {
     "data": {
      "text/markdown": [
       "$F(1.83, 73.18) = 2.47$, $\\mathit{MSE} = 0.53$, $p = .096$, $\\hat{\\eta}^2_G = .005$"
      ]
     },
     "metadata": {},
     "output_type": "display_data"
    },
    {
     "data": {
      "text/markdown": [
       "### Summary (all done1, incl. NANs)"
      ]
     },
     "metadata": {},
     "output_type": "display_data"
    },
    {
     "data": {
      "text/html": [
       "<table>\n",
       "<caption>A tibble: 3 × 5</caption>\n",
       "<thead>\n",
       "\t<tr><th scope=col>cond0</th><th scope=col>N</th><th scope=col>valX_M</th><th scope=col>valX_SD</th><th scope=col>valX_SE</th></tr>\n",
       "\t<tr><th scope=col>&lt;fct&gt;</th><th scope=col>&lt;int&gt;</th><th scope=col>&lt;dbl&gt;</th><th scope=col>&lt;dbl&gt;</th><th scope=col>&lt;dbl&gt;</th></tr>\n",
       "</thead>\n",
       "<tbody>\n",
       "\t<tr><td>noun_F</td><td>41</td><td>3.860333</td><td>1.924411</td><td>0.3005425</td></tr>\n",
       "\t<tr><td>noun_M</td><td>42</td><td>4.078567</td><td>2.254974</td><td>0.3479500</td></tr>\n",
       "\t<tr><td>verb_X</td><td>41</td><td>3.973052</td><td>2.113261</td><td>0.3300359</td></tr>\n",
       "</tbody>\n",
       "</table>\n"
      ],
      "text/latex": [
       "A tibble: 3 × 5\n",
       "\\begin{tabular}{lllll}\n",
       " cond0 & N & valX\\_M & valX\\_SD & valX\\_SE\\\\\n",
       " <fct> & <int> & <dbl> & <dbl> & <dbl>\\\\\n",
       "\\hline\n",
       "\t noun\\_F & 41 & 3.860333 & 1.924411 & 0.3005425\\\\\n",
       "\t noun\\_M & 42 & 4.078567 & 2.254974 & 0.3479500\\\\\n",
       "\t verb\\_X & 41 & 3.973052 & 2.113261 & 0.3300359\\\\\n",
       "\\end{tabular}\n"
      ],
      "text/markdown": [
       "\n",
       "A tibble: 3 × 5\n",
       "\n",
       "| cond0 &lt;fct&gt; | N &lt;int&gt; | valX_M &lt;dbl&gt; | valX_SD &lt;dbl&gt; | valX_SE &lt;dbl&gt; |\n",
       "|---|---|---|---|---|\n",
       "| noun_F | 41 | 3.860333 | 1.924411 | 0.3005425 |\n",
       "| noun_M | 42 | 4.078567 | 2.254974 | 0.3479500 |\n",
       "| verb_X | 41 | 3.973052 | 2.113261 | 0.3300359 |\n",
       "\n"
      ],
      "text/plain": [
       "  cond0  N  valX_M   valX_SD  valX_SE  \n",
       "1 noun_F 41 3.860333 1.924411 0.3005425\n",
       "2 noun_M 42 4.078567 2.254974 0.3479500\n",
       "3 verb_X 41 3.973052 2.113261 0.3300359"
      ]
     },
     "metadata": {},
     "output_type": "display_data"
    },
    {
     "data": {
      "text/markdown": [
       "### Expected marginal means"
      ]
     },
     "metadata": {},
     "output_type": "display_data"
    },
    {
     "data": {
      "text/html": [
       "<table>\n",
       "<caption>A apa_results_table: 3 × 5</caption>\n",
       "<thead>\n",
       "\t<tr><th></th><th scope=col>cond0</th><th scope=col>estimate</th><th scope=col>ci</th><th scope=col>statistic</th><th scope=col>p.value</th></tr>\n",
       "\t<tr><th></th><th scope=col>&lt;chr&gt;</th><th scope=col>&lt;ppj_lbll&gt;</th><th scope=col>&lt;ppj_lbll&gt;</th><th scope=col>&lt;ppj_lbll&gt;</th><th scope=col>&lt;ppj_lbll&gt;</th></tr>\n",
       "</thead>\n",
       "<tbody>\n",
       "\t<tr><th scope=row>noun_F</th><td>noun_F</td><td>3.86</td><td>$[3.21$, $4.51]$</td><td>11.97</td><td>&lt; .001</td></tr>\n",
       "\t<tr><th scope=row>noun_M</th><td>noun_M</td><td>4.20</td><td>$[3.55$, $4.84]$</td><td>13.01</td><td>&lt; .001</td></tr>\n",
       "\t<tr><th scope=row>verb_X</th><td>verb_X</td><td>3.97</td><td>$[3.32$, $4.62]$</td><td>12.32</td><td>&lt; .001</td></tr>\n",
       "</tbody>\n",
       "</table>\n"
      ],
      "text/latex": [
       "A apa\\_results\\_table: 3 × 5\n",
       "\\begin{tabular}{r|lllll}\n",
       "  & cond0 & estimate & ci & statistic & p.value\\\\\n",
       "  & <chr> & <ppj\\_lbll> & <ppj\\_lbll> & <ppj\\_lbll> & <ppj\\_lbll>\\\\\n",
       "\\hline\n",
       "\tnoun\\_F & noun\\_F & 3.86 & \\${[}3.21\\$, \\$4.51{]}\\$ & 11.97 & < .001\\\\\n",
       "\tnoun\\_M & noun\\_M & 4.20 & \\${[}3.55\\$, \\$4.84{]}\\$ & 13.01 & < .001\\\\\n",
       "\tverb\\_X & verb\\_X & 3.97 & \\${[}3.32\\$, \\$4.62{]}\\$ & 12.32 & < .001\\\\\n",
       "\\end{tabular}\n"
      ],
      "text/markdown": [
       "\n",
       "A apa_results_table: 3 × 5\n",
       "\n",
       "| <!--/--> | cond0 &lt;chr&gt; | estimate &lt;ppj_lbll&gt; | ci &lt;ppj_lbll&gt; | statistic &lt;ppj_lbll&gt; | p.value &lt;ppj_lbll&gt; |\n",
       "|---|---|---|---|---|---|\n",
       "| noun_F | noun_F | 3.86 | $[3.21$, $4.51]$ | 11.97 | &lt; .001 |\n",
       "| noun_M | noun_M | 4.20 | $[3.55$, $4.84]$ | 13.01 | &lt; .001 |\n",
       "| verb_X | verb_X | 3.97 | $[3.32$, $4.62]$ | 12.32 | &lt; .001 |\n",
       "\n"
      ],
      "text/plain": [
       "       cond0  estimate ci               statistic p.value\n",
       "noun_F noun_F 3.86     $[3.21$, $4.51]$ 11.97     < .001 \n",
       "noun_M noun_M 4.20     $[3.55$, $4.84]$ 13.01     < .001 \n",
       "verb_X verb_X 3.97     $[3.32$, $4.62]$ 12.32     < .001 "
      ]
     },
     "metadata": {},
     "output_type": "display_data"
    },
    {
     "data": {
      "text/markdown": [
       "### Paired comparisons for expected marginal means"
      ]
     },
     "metadata": {},
     "output_type": "display_data"
    },
    {
     "data": {
      "text/html": [
       "<table>\n",
       "<caption>A apa_results_table: 3 × 5</caption>\n",
       "<thead>\n",
       "\t<tr><th></th><th scope=col>contrast</th><th scope=col>estimate</th><th scope=col>ci</th><th scope=col>statistic</th><th scope=col>p.value</th></tr>\n",
       "\t<tr><th></th><th scope=col>&lt;ppj_lbll&gt;</th><th scope=col>&lt;ppj_lbll&gt;</th><th scope=col>&lt;ppj_lbll&gt;</th><th scope=col>&lt;ppj_lbll&gt;</th><th scope=col>&lt;ppj_lbll&gt;</th></tr>\n",
       "</thead>\n",
       "<tbody>\n",
       "\t<tr><th scope=row>noun_F_noun_M</th><td>noun_F - noun_M</td><td>-0.33</td><td>$[-0.70$, $0.03]$</td><td>-2.18</td><td>.080</td></tr>\n",
       "\t<tr><th scope=row>noun_F_verb_X</th><td>noun_F - verb_X</td><td>-0.11</td><td>$[-0.48$, $0.25]$</td><td>-0.73</td><td>.744</td></tr>\n",
       "\t<tr><th scope=row>noun_M_verb_X</th><td>noun_M - verb_X</td><td>0.22 </td><td>$[-0.14$, $0.59]$</td><td>1.45 </td><td>.321</td></tr>\n",
       "</tbody>\n",
       "</table>\n"
      ],
      "text/latex": [
       "A apa\\_results\\_table: 3 × 5\n",
       "\\begin{tabular}{r|lllll}\n",
       "  & contrast & estimate & ci & statistic & p.value\\\\\n",
       "  & <ppj\\_lbll> & <ppj\\_lbll> & <ppj\\_lbll> & <ppj\\_lbll> & <ppj\\_lbll>\\\\\n",
       "\\hline\n",
       "\tnoun\\_F\\_noun\\_M & noun\\_F - noun\\_M & -0.33 & \\${[}-0.70\\$, \\$0.03{]}\\$ & -2.18 & .080\\\\\n",
       "\tnoun\\_F\\_verb\\_X & noun\\_F - verb\\_X & -0.11 & \\${[}-0.48\\$, \\$0.25{]}\\$ & -0.73 & .744\\\\\n",
       "\tnoun\\_M\\_verb\\_X & noun\\_M - verb\\_X & 0.22  & \\${[}-0.14\\$, \\$0.59{]}\\$ & 1.45  & .321\\\\\n",
       "\\end{tabular}\n"
      ],
      "text/markdown": [
       "\n",
       "A apa_results_table: 3 × 5\n",
       "\n",
       "| <!--/--> | contrast &lt;ppj_lbll&gt; | estimate &lt;ppj_lbll&gt; | ci &lt;ppj_lbll&gt; | statistic &lt;ppj_lbll&gt; | p.value &lt;ppj_lbll&gt; |\n",
       "|---|---|---|---|---|---|\n",
       "| noun_F_noun_M | noun_F - noun_M | -0.33 | $[-0.70$, $0.03]$ | -2.18 | .080 |\n",
       "| noun_F_verb_X | noun_F - verb_X | -0.11 | $[-0.48$, $0.25]$ | -0.73 | .744 |\n",
       "| noun_M_verb_X | noun_M - verb_X | 0.22  | $[-0.14$, $0.59]$ | 1.45  | .321 |\n",
       "\n"
      ],
      "text/plain": [
       "              contrast        estimate ci                statistic p.value\n",
       "noun_F_noun_M noun_F - noun_M -0.33    $[-0.70$, $0.03]$ -2.18     .080   \n",
       "noun_F_verb_X noun_F - verb_X -0.11    $[-0.48$, $0.25]$ -0.73     .744   \n",
       "noun_M_verb_X noun_M - verb_X 0.22     $[-0.14$, $0.59]$ 1.45      .321   "
      ]
     },
     "metadata": {},
     "output_type": "display_data"
    }
   ],
   "source": [
    "IDX <- IDX+1; COND <- CONDS[IDX]\n",
    "data1 <- droplevels(subset(df1, eval(parse(text=COND)))); data1 <- data1[complete.cases(data1),]; done1 <- AOV4(data1,COND)\n",
    "display_markdown(str_c(\"# Condition \",IDX,\" of \",length(CONDS))); display_markdown(done1$info); display_markdown(\"### Table\"); done1$aov_APA$table; display_markdown(\"### Result\"); display_markdown(done1$aov_APA[[\"full_result\"]][[\"cond0\"]]); display_markdown(\"### Summary (all done1, incl. NANs)\"); done1$summary; display_markdown(\"### Expected marginal means\"); done1$emm_APA$table; display_markdown(\"### Paired comparisons for expected marginal means\"); done1$pairs_APA$table"
   ]
  },
  {
   "cell_type": "code",
   "execution_count": 65,
   "metadata": {},
   "outputs": [
    {
     "name": "stderr",
     "output_type": "stream",
     "text": [
      "Warning message:\n",
      "“Missing values for following ID(s):\n",
      "07zrxf\n",
      "Removing those cases from the analysis.”\n"
     ]
    },
    {
     "data": {
      "text/markdown": [
       "# Condition 48 of 72"
      ]
     },
     "metadata": {},
     "output_type": "display_data"
    },
    {
     "data": {
      "text/markdown": [
       "`tmin0==0.41 & chan0==\"RP\" & mode0==\"neg\"`"
      ]
     },
     "metadata": {},
     "output_type": "display_data"
    },
    {
     "data": {
      "text/markdown": [
       "### Table"
      ]
     },
     "metadata": {},
     "output_type": "display_data"
    },
    {
     "data": {
      "text/html": [
       "<table>\n",
       "<caption>A apa_results_table: 1 × 7</caption>\n",
       "<thead>\n",
       "\t<tr><th></th><th scope=col>Effect</th><th scope=col>F</th><th scope=col>df1</th><th scope=col>df2</th><th scope=col>MSE</th><th scope=col>p</th><th scope=col>ges</th></tr>\n",
       "\t<tr><th></th><th scope=col>&lt;ppj_lbll&gt;</th><th scope=col>&lt;ppj_lbll&gt;</th><th scope=col>&lt;ppj_lbll&gt;</th><th scope=col>&lt;ppj_lbll&gt;</th><th scope=col>&lt;ppj_lbll&gt;</th><th scope=col>&lt;ppj_lbll&gt;</th><th scope=col>&lt;ppj_lbll&gt;</th></tr>\n",
       "</thead>\n",
       "<tbody>\n",
       "\t<tr><th scope=row>1</th><td>Cond0</td><td>0.37</td><td>1.91</td><td>76.25</td><td>0.55</td><td>.682</td><td>.001</td></tr>\n",
       "</tbody>\n",
       "</table>\n"
      ],
      "text/latex": [
       "A apa\\_results\\_table: 1 × 7\n",
       "\\begin{tabular}{r|lllllll}\n",
       "  & Effect & F & df1 & df2 & MSE & p & ges\\\\\n",
       "  & <ppj\\_lbll> & <ppj\\_lbll> & <ppj\\_lbll> & <ppj\\_lbll> & <ppj\\_lbll> & <ppj\\_lbll> & <ppj\\_lbll>\\\\\n",
       "\\hline\n",
       "\t1 & Cond0 & 0.37 & 1.91 & 76.25 & 0.55 & .682 & .001\\\\\n",
       "\\end{tabular}\n"
      ],
      "text/markdown": [
       "\n",
       "A apa_results_table: 1 × 7\n",
       "\n",
       "| <!--/--> | Effect &lt;ppj_lbll&gt; | F &lt;ppj_lbll&gt; | df1 &lt;ppj_lbll&gt; | df2 &lt;ppj_lbll&gt; | MSE &lt;ppj_lbll&gt; | p &lt;ppj_lbll&gt; | ges &lt;ppj_lbll&gt; |\n",
       "|---|---|---|---|---|---|---|---|\n",
       "| 1 | Cond0 | 0.37 | 1.91 | 76.25 | 0.55 | .682 | .001 |\n",
       "\n"
      ],
      "text/plain": [
       "  Effect F    df1  df2   MSE  p    ges \n",
       "1 Cond0  0.37 1.91 76.25 0.55 .682 .001"
      ]
     },
     "metadata": {},
     "output_type": "display_data"
    },
    {
     "data": {
      "text/markdown": [
       "### Result"
      ]
     },
     "metadata": {},
     "output_type": "display_data"
    },
    {
     "data": {
      "text/markdown": [
       "$F(1.91, 76.25) = 0.37$, $\\mathit{MSE} = 0.55$, $p = .682$, $\\hat{\\eta}^2_G = .001$"
      ]
     },
     "metadata": {},
     "output_type": "display_data"
    },
    {
     "data": {
      "text/markdown": [
       "### Summary (all done1, incl. NANs)"
      ]
     },
     "metadata": {},
     "output_type": "display_data"
    },
    {
     "data": {
      "text/html": [
       "<table>\n",
       "<caption>A tibble: 3 × 5</caption>\n",
       "<thead>\n",
       "\t<tr><th scope=col>cond0</th><th scope=col>N</th><th scope=col>valX_M</th><th scope=col>valX_SD</th><th scope=col>valX_SE</th></tr>\n",
       "\t<tr><th scope=col>&lt;fct&gt;</th><th scope=col>&lt;int&gt;</th><th scope=col>&lt;dbl&gt;</th><th scope=col>&lt;dbl&gt;</th><th scope=col>&lt;dbl&gt;</th></tr>\n",
       "</thead>\n",
       "<tbody>\n",
       "\t<tr><td>noun_F</td><td>42</td><td>1.367303</td><td>3.032355</td><td>0.4679025</td></tr>\n",
       "\t<tr><td>noun_M</td><td>42</td><td>1.671950</td><td>2.297869</td><td>0.3545688</td></tr>\n",
       "\t<tr><td>verb_X</td><td>41</td><td>1.833801</td><td>2.239861</td><td>0.3498075</td></tr>\n",
       "</tbody>\n",
       "</table>\n"
      ],
      "text/latex": [
       "A tibble: 3 × 5\n",
       "\\begin{tabular}{lllll}\n",
       " cond0 & N & valX\\_M & valX\\_SD & valX\\_SE\\\\\n",
       " <fct> & <int> & <dbl> & <dbl> & <dbl>\\\\\n",
       "\\hline\n",
       "\t noun\\_F & 42 & 1.367303 & 3.032355 & 0.4679025\\\\\n",
       "\t noun\\_M & 42 & 1.671950 & 2.297869 & 0.3545688\\\\\n",
       "\t verb\\_X & 41 & 1.833801 & 2.239861 & 0.3498075\\\\\n",
       "\\end{tabular}\n"
      ],
      "text/markdown": [
       "\n",
       "A tibble: 3 × 5\n",
       "\n",
       "| cond0 &lt;fct&gt; | N &lt;int&gt; | valX_M &lt;dbl&gt; | valX_SD &lt;dbl&gt; | valX_SE &lt;dbl&gt; |\n",
       "|---|---|---|---|---|\n",
       "| noun_F | 42 | 1.367303 | 3.032355 | 0.4679025 |\n",
       "| noun_M | 42 | 1.671950 | 2.297869 | 0.3545688 |\n",
       "| verb_X | 41 | 1.833801 | 2.239861 | 0.3498075 |\n",
       "\n"
      ],
      "text/plain": [
       "  cond0  N  valX_M   valX_SD  valX_SE  \n",
       "1 noun_F 42 1.367303 3.032355 0.4679025\n",
       "2 noun_M 42 1.671950 2.297869 0.3545688\n",
       "3 verb_X 41 1.833801 2.239861 0.3498075"
      ]
     },
     "metadata": {},
     "output_type": "display_data"
    },
    {
     "data": {
      "text/markdown": [
       "### Expected marginal means"
      ]
     },
     "metadata": {},
     "output_type": "display_data"
    },
    {
     "data": {
      "text/html": [
       "<table>\n",
       "<caption>A apa_results_table: 3 × 5</caption>\n",
       "<thead>\n",
       "\t<tr><th></th><th scope=col>cond0</th><th scope=col>estimate</th><th scope=col>ci</th><th scope=col>statistic</th><th scope=col>p.value</th></tr>\n",
       "\t<tr><th></th><th scope=col>&lt;chr&gt;</th><th scope=col>&lt;ppj_lbll&gt;</th><th scope=col>&lt;ppj_lbll&gt;</th><th scope=col>&lt;ppj_lbll&gt;</th><th scope=col>&lt;ppj_lbll&gt;</th></tr>\n",
       "</thead>\n",
       "<tbody>\n",
       "\t<tr><th scope=row>noun_F</th><td>noun_F</td><td>1.70</td><td>$[1.00$, $2.39]$</td><td>4.90</td><td>&lt; .001</td></tr>\n",
       "\t<tr><th scope=row>noun_M</th><td>noun_M</td><td>1.77</td><td>$[1.08$, $2.47]$</td><td>5.12</td><td>&lt; .001</td></tr>\n",
       "\t<tr><th scope=row>verb_X</th><td>verb_X</td><td>1.83</td><td>$[1.14$, $2.53]$</td><td>5.30</td><td>&lt; .001</td></tr>\n",
       "</tbody>\n",
       "</table>\n"
      ],
      "text/latex": [
       "A apa\\_results\\_table: 3 × 5\n",
       "\\begin{tabular}{r|lllll}\n",
       "  & cond0 & estimate & ci & statistic & p.value\\\\\n",
       "  & <chr> & <ppj\\_lbll> & <ppj\\_lbll> & <ppj\\_lbll> & <ppj\\_lbll>\\\\\n",
       "\\hline\n",
       "\tnoun\\_F & noun\\_F & 1.70 & \\${[}1.00\\$, \\$2.39{]}\\$ & 4.90 & < .001\\\\\n",
       "\tnoun\\_M & noun\\_M & 1.77 & \\${[}1.08\\$, \\$2.47{]}\\$ & 5.12 & < .001\\\\\n",
       "\tverb\\_X & verb\\_X & 1.83 & \\${[}1.14\\$, \\$2.53{]}\\$ & 5.30 & < .001\\\\\n",
       "\\end{tabular}\n"
      ],
      "text/markdown": [
       "\n",
       "A apa_results_table: 3 × 5\n",
       "\n",
       "| <!--/--> | cond0 &lt;chr&gt; | estimate &lt;ppj_lbll&gt; | ci &lt;ppj_lbll&gt; | statistic &lt;ppj_lbll&gt; | p.value &lt;ppj_lbll&gt; |\n",
       "|---|---|---|---|---|---|\n",
       "| noun_F | noun_F | 1.70 | $[1.00$, $2.39]$ | 4.90 | &lt; .001 |\n",
       "| noun_M | noun_M | 1.77 | $[1.08$, $2.47]$ | 5.12 | &lt; .001 |\n",
       "| verb_X | verb_X | 1.83 | $[1.14$, $2.53]$ | 5.30 | &lt; .001 |\n",
       "\n"
      ],
      "text/plain": [
       "       cond0  estimate ci               statistic p.value\n",
       "noun_F noun_F 1.70     $[1.00$, $2.39]$ 4.90      < .001 \n",
       "noun_M noun_M 1.77     $[1.08$, $2.47]$ 5.12      < .001 \n",
       "verb_X verb_X 1.83     $[1.14$, $2.53]$ 5.30      < .001 "
      ]
     },
     "metadata": {},
     "output_type": "display_data"
    },
    {
     "data": {
      "text/markdown": [
       "### Paired comparisons for expected marginal means"
      ]
     },
     "metadata": {},
     "output_type": "display_data"
    },
    {
     "data": {
      "text/html": [
       "<table>\n",
       "<caption>A apa_results_table: 3 × 5</caption>\n",
       "<thead>\n",
       "\t<tr><th></th><th scope=col>contrast</th><th scope=col>estimate</th><th scope=col>ci</th><th scope=col>statistic</th><th scope=col>p.value</th></tr>\n",
       "\t<tr><th></th><th scope=col>&lt;ppj_lbll&gt;</th><th scope=col>&lt;ppj_lbll&gt;</th><th scope=col>&lt;ppj_lbll&gt;</th><th scope=col>&lt;ppj_lbll&gt;</th><th scope=col>&lt;ppj_lbll&gt;</th></tr>\n",
       "</thead>\n",
       "<tbody>\n",
       "\t<tr><th scope=row>noun_F_noun_M</th><td>noun_F - noun_M</td><td>-0.08</td><td>$[-0.46$, $0.31]$</td><td>-0.49</td><td>.878</td></tr>\n",
       "\t<tr><th scope=row>noun_F_verb_X</th><td>noun_F - verb_X</td><td>-0.14</td><td>$[-0.52$, $0.25]$</td><td>-0.86</td><td>.668</td></tr>\n",
       "\t<tr><th scope=row>noun_M_verb_X</th><td>noun_M - verb_X</td><td>-0.06</td><td>$[-0.44$, $0.32]$</td><td>-0.37</td><td>.927</td></tr>\n",
       "</tbody>\n",
       "</table>\n"
      ],
      "text/latex": [
       "A apa\\_results\\_table: 3 × 5\n",
       "\\begin{tabular}{r|lllll}\n",
       "  & contrast & estimate & ci & statistic & p.value\\\\\n",
       "  & <ppj\\_lbll> & <ppj\\_lbll> & <ppj\\_lbll> & <ppj\\_lbll> & <ppj\\_lbll>\\\\\n",
       "\\hline\n",
       "\tnoun\\_F\\_noun\\_M & noun\\_F - noun\\_M & -0.08 & \\${[}-0.46\\$, \\$0.31{]}\\$ & -0.49 & .878\\\\\n",
       "\tnoun\\_F\\_verb\\_X & noun\\_F - verb\\_X & -0.14 & \\${[}-0.52\\$, \\$0.25{]}\\$ & -0.86 & .668\\\\\n",
       "\tnoun\\_M\\_verb\\_X & noun\\_M - verb\\_X & -0.06 & \\${[}-0.44\\$, \\$0.32{]}\\$ & -0.37 & .927\\\\\n",
       "\\end{tabular}\n"
      ],
      "text/markdown": [
       "\n",
       "A apa_results_table: 3 × 5\n",
       "\n",
       "| <!--/--> | contrast &lt;ppj_lbll&gt; | estimate &lt;ppj_lbll&gt; | ci &lt;ppj_lbll&gt; | statistic &lt;ppj_lbll&gt; | p.value &lt;ppj_lbll&gt; |\n",
       "|---|---|---|---|---|---|\n",
       "| noun_F_noun_M | noun_F - noun_M | -0.08 | $[-0.46$, $0.31]$ | -0.49 | .878 |\n",
       "| noun_F_verb_X | noun_F - verb_X | -0.14 | $[-0.52$, $0.25]$ | -0.86 | .668 |\n",
       "| noun_M_verb_X | noun_M - verb_X | -0.06 | $[-0.44$, $0.32]$ | -0.37 | .927 |\n",
       "\n"
      ],
      "text/plain": [
       "              contrast        estimate ci                statistic p.value\n",
       "noun_F_noun_M noun_F - noun_M -0.08    $[-0.46$, $0.31]$ -0.49     .878   \n",
       "noun_F_verb_X noun_F - verb_X -0.14    $[-0.52$, $0.25]$ -0.86     .668   \n",
       "noun_M_verb_X noun_M - verb_X -0.06    $[-0.44$, $0.32]$ -0.37     .927   "
      ]
     },
     "metadata": {},
     "output_type": "display_data"
    }
   ],
   "source": [
    "IDX <- IDX+1; COND <- CONDS[IDX]\n",
    "data1 <- droplevels(subset(df1, eval(parse(text=COND)))); data1 <- data1[complete.cases(data1),]; done1 <- AOV4(data1,COND)\n",
    "display_markdown(str_c(\"# Condition \",IDX,\" of \",length(CONDS))); display_markdown(done1$info); display_markdown(\"### Table\"); done1$aov_APA$table; display_markdown(\"### Result\"); display_markdown(done1$aov_APA[[\"full_result\"]][[\"cond0\"]]); display_markdown(\"### Summary (all done1, incl. NANs)\"); done1$summary; display_markdown(\"### Expected marginal means\"); done1$emm_APA$table; display_markdown(\"### Paired comparisons for expected marginal means\"); done1$pairs_APA$table"
   ]
  },
  {
   "cell_type": "code",
   "execution_count": 66,
   "metadata": {},
   "outputs": [
    {
     "data": {
      "text/markdown": [
       "# Condition 49 of 72"
      ]
     },
     "metadata": {},
     "output_type": "display_data"
    },
    {
     "data": {
      "text/markdown": [
       "`tmin0==0.6 & chan0==\"LF\" & mode0==\"pos\"`"
      ]
     },
     "metadata": {},
     "output_type": "display_data"
    },
    {
     "data": {
      "text/markdown": [
       "### Table"
      ]
     },
     "metadata": {},
     "output_type": "display_data"
    },
    {
     "data": {
      "text/html": [
       "<table>\n",
       "<caption>A apa_results_table: 1 × 7</caption>\n",
       "<thead>\n",
       "\t<tr><th></th><th scope=col>Effect</th><th scope=col>F</th><th scope=col>df1</th><th scope=col>df2</th><th scope=col>MSE</th><th scope=col>p</th><th scope=col>ges</th></tr>\n",
       "\t<tr><th></th><th scope=col>&lt;ppj_lbll&gt;</th><th scope=col>&lt;ppj_lbll&gt;</th><th scope=col>&lt;ppj_lbll&gt;</th><th scope=col>&lt;ppj_lbll&gt;</th><th scope=col>&lt;ppj_lbll&gt;</th><th scope=col>&lt;ppj_lbll&gt;</th><th scope=col>&lt;ppj_lbll&gt;</th></tr>\n",
       "</thead>\n",
       "<tbody>\n",
       "\t<tr><th scope=row>1</th><td>Cond0</td><td>4.55</td><td>1.84</td><td>75.37</td><td>0.59</td><td>.016</td><td>.008</td></tr>\n",
       "</tbody>\n",
       "</table>\n"
      ],
      "text/latex": [
       "A apa\\_results\\_table: 1 × 7\n",
       "\\begin{tabular}{r|lllllll}\n",
       "  & Effect & F & df1 & df2 & MSE & p & ges\\\\\n",
       "  & <ppj\\_lbll> & <ppj\\_lbll> & <ppj\\_lbll> & <ppj\\_lbll> & <ppj\\_lbll> & <ppj\\_lbll> & <ppj\\_lbll>\\\\\n",
       "\\hline\n",
       "\t1 & Cond0 & 4.55 & 1.84 & 75.37 & 0.59 & .016 & .008\\\\\n",
       "\\end{tabular}\n"
      ],
      "text/markdown": [
       "\n",
       "A apa_results_table: 1 × 7\n",
       "\n",
       "| <!--/--> | Effect &lt;ppj_lbll&gt; | F &lt;ppj_lbll&gt; | df1 &lt;ppj_lbll&gt; | df2 &lt;ppj_lbll&gt; | MSE &lt;ppj_lbll&gt; | p &lt;ppj_lbll&gt; | ges &lt;ppj_lbll&gt; |\n",
       "|---|---|---|---|---|---|---|---|\n",
       "| 1 | Cond0 | 4.55 | 1.84 | 75.37 | 0.59 | .016 | .008 |\n",
       "\n"
      ],
      "text/plain": [
       "  Effect F    df1  df2   MSE  p    ges \n",
       "1 Cond0  4.55 1.84 75.37 0.59 .016 .008"
      ]
     },
     "metadata": {},
     "output_type": "display_data"
    },
    {
     "data": {
      "text/markdown": [
       "### Result"
      ]
     },
     "metadata": {},
     "output_type": "display_data"
    },
    {
     "data": {
      "text/markdown": [
       "$F(1.84, 75.37) = 4.55$, $\\mathit{MSE} = 0.59$, $p = .016$, $\\hat{\\eta}^2_G = .008$"
      ]
     },
     "metadata": {},
     "output_type": "display_data"
    },
    {
     "data": {
      "text/markdown": [
       "### Summary (all done1, incl. NANs)"
      ]
     },
     "metadata": {},
     "output_type": "display_data"
    },
    {
     "data": {
      "text/html": [
       "<table>\n",
       "<caption>A tibble: 3 × 5</caption>\n",
       "<thead>\n",
       "\t<tr><th scope=col>cond0</th><th scope=col>N</th><th scope=col>valX_M</th><th scope=col>valX_SD</th><th scope=col>valX_SE</th></tr>\n",
       "\t<tr><th scope=col>&lt;fct&gt;</th><th scope=col>&lt;int&gt;</th><th scope=col>&lt;dbl&gt;</th><th scope=col>&lt;dbl&gt;</th><th scope=col>&lt;dbl&gt;</th></tr>\n",
       "</thead>\n",
       "<tbody>\n",
       "\t<tr><td>noun_F</td><td>42</td><td>-0.0912757</td><td>2.386567</td><td>0.3682553</td></tr>\n",
       "\t<tr><td>noun_M</td><td>42</td><td>-0.3545464</td><td>2.099339</td><td>0.3239351</td></tr>\n",
       "\t<tr><td>verb_X</td><td>42</td><td>-0.5763876</td><td>1.999215</td><td>0.3084856</td></tr>\n",
       "</tbody>\n",
       "</table>\n"
      ],
      "text/latex": [
       "A tibble: 3 × 5\n",
       "\\begin{tabular}{lllll}\n",
       " cond0 & N & valX\\_M & valX\\_SD & valX\\_SE\\\\\n",
       " <fct> & <int> & <dbl> & <dbl> & <dbl>\\\\\n",
       "\\hline\n",
       "\t noun\\_F & 42 & -0.0912757 & 2.386567 & 0.3682553\\\\\n",
       "\t noun\\_M & 42 & -0.3545464 & 2.099339 & 0.3239351\\\\\n",
       "\t verb\\_X & 42 & -0.5763876 & 1.999215 & 0.3084856\\\\\n",
       "\\end{tabular}\n"
      ],
      "text/markdown": [
       "\n",
       "A tibble: 3 × 5\n",
       "\n",
       "| cond0 &lt;fct&gt; | N &lt;int&gt; | valX_M &lt;dbl&gt; | valX_SD &lt;dbl&gt; | valX_SE &lt;dbl&gt; |\n",
       "|---|---|---|---|---|\n",
       "| noun_F | 42 | -0.0912757 | 2.386567 | 0.3682553 |\n",
       "| noun_M | 42 | -0.3545464 | 2.099339 | 0.3239351 |\n",
       "| verb_X | 42 | -0.5763876 | 1.999215 | 0.3084856 |\n",
       "\n"
      ],
      "text/plain": [
       "  cond0  N  valX_M     valX_SD  valX_SE  \n",
       "1 noun_F 42 -0.0912757 2.386567 0.3682553\n",
       "2 noun_M 42 -0.3545464 2.099339 0.3239351\n",
       "3 verb_X 42 -0.5763876 1.999215 0.3084856"
      ]
     },
     "metadata": {},
     "output_type": "display_data"
    },
    {
     "data": {
      "text/markdown": [
       "### Expected marginal means"
      ]
     },
     "metadata": {},
     "output_type": "display_data"
    },
    {
     "data": {
      "text/html": [
       "<table>\n",
       "<caption>A apa_results_table: 3 × 5</caption>\n",
       "<thead>\n",
       "\t<tr><th></th><th scope=col>cond0</th><th scope=col>estimate</th><th scope=col>ci</th><th scope=col>statistic</th><th scope=col>p.value</th></tr>\n",
       "\t<tr><th></th><th scope=col>&lt;chr&gt;</th><th scope=col>&lt;ppj_lbll&gt;</th><th scope=col>&lt;ppj_lbll&gt;</th><th scope=col>&lt;ppj_lbll&gt;</th><th scope=col>&lt;ppj_lbll&gt;</th></tr>\n",
       "</thead>\n",
       "<tbody>\n",
       "\t<tr><th scope=row>noun_F</th><td>noun_F</td><td>-0.09</td><td>$[-0.76$, $0.58]$</td><td>-0.27</td><td>.786</td></tr>\n",
       "\t<tr><th scope=row>noun_M</th><td>noun_M</td><td>-0.35</td><td>$[-1.03$, $0.32]$</td><td>-1.06</td><td>.295</td></tr>\n",
       "\t<tr><th scope=row>verb_X</th><td>verb_X</td><td>-0.58</td><td>$[-1.25$, $0.10]$</td><td>-1.72</td><td>.091</td></tr>\n",
       "</tbody>\n",
       "</table>\n"
      ],
      "text/latex": [
       "A apa\\_results\\_table: 3 × 5\n",
       "\\begin{tabular}{r|lllll}\n",
       "  & cond0 & estimate & ci & statistic & p.value\\\\\n",
       "  & <chr> & <ppj\\_lbll> & <ppj\\_lbll> & <ppj\\_lbll> & <ppj\\_lbll>\\\\\n",
       "\\hline\n",
       "\tnoun\\_F & noun\\_F & -0.09 & \\${[}-0.76\\$, \\$0.58{]}\\$ & -0.27 & .786\\\\\n",
       "\tnoun\\_M & noun\\_M & -0.35 & \\${[}-1.03\\$, \\$0.32{]}\\$ & -1.06 & .295\\\\\n",
       "\tverb\\_X & verb\\_X & -0.58 & \\${[}-1.25\\$, \\$0.10{]}\\$ & -1.72 & .091\\\\\n",
       "\\end{tabular}\n"
      ],
      "text/markdown": [
       "\n",
       "A apa_results_table: 3 × 5\n",
       "\n",
       "| <!--/--> | cond0 &lt;chr&gt; | estimate &lt;ppj_lbll&gt; | ci &lt;ppj_lbll&gt; | statistic &lt;ppj_lbll&gt; | p.value &lt;ppj_lbll&gt; |\n",
       "|---|---|---|---|---|---|\n",
       "| noun_F | noun_F | -0.09 | $[-0.76$, $0.58]$ | -0.27 | .786 |\n",
       "| noun_M | noun_M | -0.35 | $[-1.03$, $0.32]$ | -1.06 | .295 |\n",
       "| verb_X | verb_X | -0.58 | $[-1.25$, $0.10]$ | -1.72 | .091 |\n",
       "\n"
      ],
      "text/plain": [
       "       cond0  estimate ci                statistic p.value\n",
       "noun_F noun_F -0.09    $[-0.76$, $0.58]$ -0.27     .786   \n",
       "noun_M noun_M -0.35    $[-1.03$, $0.32]$ -1.06     .295   \n",
       "verb_X verb_X -0.58    $[-1.25$, $0.10]$ -1.72     .091   "
      ]
     },
     "metadata": {},
     "output_type": "display_data"
    },
    {
     "data": {
      "text/markdown": [
       "### Paired comparisons for expected marginal means"
      ]
     },
     "metadata": {},
     "output_type": "display_data"
    },
    {
     "data": {
      "text/html": [
       "<table>\n",
       "<caption>A apa_results_table: 3 × 5</caption>\n",
       "<thead>\n",
       "\t<tr><th></th><th scope=col>contrast</th><th scope=col>estimate</th><th scope=col>ci</th><th scope=col>statistic</th><th scope=col>p.value</th></tr>\n",
       "\t<tr><th></th><th scope=col>&lt;ppj_lbll&gt;</th><th scope=col>&lt;ppj_lbll&gt;</th><th scope=col>&lt;ppj_lbll&gt;</th><th scope=col>&lt;ppj_lbll&gt;</th><th scope=col>&lt;ppj_lbll&gt;</th></tr>\n",
       "</thead>\n",
       "<tbody>\n",
       "\t<tr><th scope=row>noun_F_noun_M</th><td>noun_F - noun_M</td><td>0.26</td><td>$[-0.12$, $0.65]$</td><td>1.64</td><td>.237</td></tr>\n",
       "\t<tr><th scope=row>noun_F_verb_X</th><td>noun_F - verb_X</td><td>0.49</td><td>$[0.10$, $0.87]$ </td><td>3.01</td><td>.010</td></tr>\n",
       "\t<tr><th scope=row>noun_M_verb_X</th><td>noun_M - verb_X</td><td>0.22</td><td>$[-0.16$, $0.61]$</td><td>1.38</td><td>.357</td></tr>\n",
       "</tbody>\n",
       "</table>\n"
      ],
      "text/latex": [
       "A apa\\_results\\_table: 3 × 5\n",
       "\\begin{tabular}{r|lllll}\n",
       "  & contrast & estimate & ci & statistic & p.value\\\\\n",
       "  & <ppj\\_lbll> & <ppj\\_lbll> & <ppj\\_lbll> & <ppj\\_lbll> & <ppj\\_lbll>\\\\\n",
       "\\hline\n",
       "\tnoun\\_F\\_noun\\_M & noun\\_F - noun\\_M & 0.26 & \\${[}-0.12\\$, \\$0.65{]}\\$ & 1.64 & .237\\\\\n",
       "\tnoun\\_F\\_verb\\_X & noun\\_F - verb\\_X & 0.49 & \\${[}0.10\\$, \\$0.87{]}\\$  & 3.01 & .010\\\\\n",
       "\tnoun\\_M\\_verb\\_X & noun\\_M - verb\\_X & 0.22 & \\${[}-0.16\\$, \\$0.61{]}\\$ & 1.38 & .357\\\\\n",
       "\\end{tabular}\n"
      ],
      "text/markdown": [
       "\n",
       "A apa_results_table: 3 × 5\n",
       "\n",
       "| <!--/--> | contrast &lt;ppj_lbll&gt; | estimate &lt;ppj_lbll&gt; | ci &lt;ppj_lbll&gt; | statistic &lt;ppj_lbll&gt; | p.value &lt;ppj_lbll&gt; |\n",
       "|---|---|---|---|---|---|\n",
       "| noun_F_noun_M | noun_F - noun_M | 0.26 | $[-0.12$, $0.65]$ | 1.64 | .237 |\n",
       "| noun_F_verb_X | noun_F - verb_X | 0.49 | $[0.10$, $0.87]$  | 3.01 | .010 |\n",
       "| noun_M_verb_X | noun_M - verb_X | 0.22 | $[-0.16$, $0.61]$ | 1.38 | .357 |\n",
       "\n"
      ],
      "text/plain": [
       "              contrast        estimate ci                statistic p.value\n",
       "noun_F_noun_M noun_F - noun_M 0.26     $[-0.12$, $0.65]$ 1.64      .237   \n",
       "noun_F_verb_X noun_F - verb_X 0.49     $[0.10$, $0.87]$  3.01      .010   \n",
       "noun_M_verb_X noun_M - verb_X 0.22     $[-0.16$, $0.61]$ 1.38      .357   "
      ]
     },
     "metadata": {},
     "output_type": "display_data"
    }
   ],
   "source": [
    "IDX <- IDX+1; COND <- CONDS[IDX]\n",
    "data1 <- droplevels(subset(df1, eval(parse(text=COND)))); data1 <- data1[complete.cases(data1),]; done1 <- AOV4(data1,COND)\n",
    "display_markdown(str_c(\"# Condition \",IDX,\" of \",length(CONDS))); display_markdown(done1$info); display_markdown(\"### Table\"); done1$aov_APA$table; display_markdown(\"### Result\"); display_markdown(done1$aov_APA[[\"full_result\"]][[\"cond0\"]]); display_markdown(\"### Summary (all done1, incl. NANs)\"); done1$summary; display_markdown(\"### Expected marginal means\"); done1$emm_APA$table; display_markdown(\"### Paired comparisons for expected marginal means\"); done1$pairs_APA$table"
   ]
  },
  {
   "cell_type": "code",
   "execution_count": 67,
   "metadata": {},
   "outputs": [
    {
     "data": {
      "text/markdown": [
       "# Condition 50 of 72"
      ]
     },
     "metadata": {},
     "output_type": "display_data"
    },
    {
     "data": {
      "text/markdown": [
       "`tmin0==0.6 & chan0==\"LF\" & mode0==\"neg\"`"
      ]
     },
     "metadata": {},
     "output_type": "display_data"
    },
    {
     "data": {
      "text/markdown": [
       "### Table"
      ]
     },
     "metadata": {},
     "output_type": "display_data"
    },
    {
     "data": {
      "text/html": [
       "<table>\n",
       "<caption>A apa_results_table: 1 × 7</caption>\n",
       "<thead>\n",
       "\t<tr><th></th><th scope=col>Effect</th><th scope=col>F</th><th scope=col>df1</th><th scope=col>df2</th><th scope=col>MSE</th><th scope=col>p</th><th scope=col>ges</th></tr>\n",
       "\t<tr><th></th><th scope=col>&lt;ppj_lbll&gt;</th><th scope=col>&lt;ppj_lbll&gt;</th><th scope=col>&lt;ppj_lbll&gt;</th><th scope=col>&lt;ppj_lbll&gt;</th><th scope=col>&lt;ppj_lbll&gt;</th><th scope=col>&lt;ppj_lbll&gt;</th><th scope=col>&lt;ppj_lbll&gt;</th></tr>\n",
       "</thead>\n",
       "<tbody>\n",
       "\t<tr><th scope=row>1</th><td>Cond0</td><td>1.47</td><td>1.86</td><td>76.13</td><td>0.55</td><td>.236</td><td>.004</td></tr>\n",
       "</tbody>\n",
       "</table>\n"
      ],
      "text/latex": [
       "A apa\\_results\\_table: 1 × 7\n",
       "\\begin{tabular}{r|lllllll}\n",
       "  & Effect & F & df1 & df2 & MSE & p & ges\\\\\n",
       "  & <ppj\\_lbll> & <ppj\\_lbll> & <ppj\\_lbll> & <ppj\\_lbll> & <ppj\\_lbll> & <ppj\\_lbll> & <ppj\\_lbll>\\\\\n",
       "\\hline\n",
       "\t1 & Cond0 & 1.47 & 1.86 & 76.13 & 0.55 & .236 & .004\\\\\n",
       "\\end{tabular}\n"
      ],
      "text/markdown": [
       "\n",
       "A apa_results_table: 1 × 7\n",
       "\n",
       "| <!--/--> | Effect &lt;ppj_lbll&gt; | F &lt;ppj_lbll&gt; | df1 &lt;ppj_lbll&gt; | df2 &lt;ppj_lbll&gt; | MSE &lt;ppj_lbll&gt; | p &lt;ppj_lbll&gt; | ges &lt;ppj_lbll&gt; |\n",
       "|---|---|---|---|---|---|---|---|\n",
       "| 1 | Cond0 | 1.47 | 1.86 | 76.13 | 0.55 | .236 | .004 |\n",
       "\n"
      ],
      "text/plain": [
       "  Effect F    df1  df2   MSE  p    ges \n",
       "1 Cond0  1.47 1.86 76.13 0.55 .236 .004"
      ]
     },
     "metadata": {},
     "output_type": "display_data"
    },
    {
     "data": {
      "text/markdown": [
       "### Result"
      ]
     },
     "metadata": {},
     "output_type": "display_data"
    },
    {
     "data": {
      "text/markdown": [
       "$F(1.86, 76.13) = 1.47$, $\\mathit{MSE} = 0.55$, $p = .236$, $\\hat{\\eta}^2_G = .004$"
      ]
     },
     "metadata": {},
     "output_type": "display_data"
    },
    {
     "data": {
      "text/markdown": [
       "### Summary (all done1, incl. NANs)"
      ]
     },
     "metadata": {},
     "output_type": "display_data"
    },
    {
     "data": {
      "text/html": [
       "<table>\n",
       "<caption>A tibble: 3 × 5</caption>\n",
       "<thead>\n",
       "\t<tr><th scope=col>cond0</th><th scope=col>N</th><th scope=col>valX_M</th><th scope=col>valX_SD</th><th scope=col>valX_SE</th></tr>\n",
       "\t<tr><th scope=col>&lt;fct&gt;</th><th scope=col>&lt;int&gt;</th><th scope=col>&lt;dbl&gt;</th><th scope=col>&lt;dbl&gt;</th><th scope=col>&lt;dbl&gt;</th></tr>\n",
       "</thead>\n",
       "<tbody>\n",
       "\t<tr><td>noun_F</td><td>42</td><td>-2.268396</td><td>1.968912</td><td>0.3038097</td></tr>\n",
       "\t<tr><td>noun_M</td><td>42</td><td>-2.534242</td><td>1.813587</td><td>0.2798426</td></tr>\n",
       "\t<tr><td>verb_X</td><td>42</td><td>-2.378760</td><td>1.602524</td><td>0.2472749</td></tr>\n",
       "</tbody>\n",
       "</table>\n"
      ],
      "text/latex": [
       "A tibble: 3 × 5\n",
       "\\begin{tabular}{lllll}\n",
       " cond0 & N & valX\\_M & valX\\_SD & valX\\_SE\\\\\n",
       " <fct> & <int> & <dbl> & <dbl> & <dbl>\\\\\n",
       "\\hline\n",
       "\t noun\\_F & 42 & -2.268396 & 1.968912 & 0.3038097\\\\\n",
       "\t noun\\_M & 42 & -2.534242 & 1.813587 & 0.2798426\\\\\n",
       "\t verb\\_X & 42 & -2.378760 & 1.602524 & 0.2472749\\\\\n",
       "\\end{tabular}\n"
      ],
      "text/markdown": [
       "\n",
       "A tibble: 3 × 5\n",
       "\n",
       "| cond0 &lt;fct&gt; | N &lt;int&gt; | valX_M &lt;dbl&gt; | valX_SD &lt;dbl&gt; | valX_SE &lt;dbl&gt; |\n",
       "|---|---|---|---|---|\n",
       "| noun_F | 42 | -2.268396 | 1.968912 | 0.3038097 |\n",
       "| noun_M | 42 | -2.534242 | 1.813587 | 0.2798426 |\n",
       "| verb_X | 42 | -2.378760 | 1.602524 | 0.2472749 |\n",
       "\n"
      ],
      "text/plain": [
       "  cond0  N  valX_M    valX_SD  valX_SE  \n",
       "1 noun_F 42 -2.268396 1.968912 0.3038097\n",
       "2 noun_M 42 -2.534242 1.813587 0.2798426\n",
       "3 verb_X 42 -2.378760 1.602524 0.2472749"
      ]
     },
     "metadata": {},
     "output_type": "display_data"
    },
    {
     "data": {
      "text/markdown": [
       "### Expected marginal means"
      ]
     },
     "metadata": {},
     "output_type": "display_data"
    },
    {
     "data": {
      "text/html": [
       "<table>\n",
       "<caption>A apa_results_table: 3 × 5</caption>\n",
       "<thead>\n",
       "\t<tr><th></th><th scope=col>cond0</th><th scope=col>estimate</th><th scope=col>ci</th><th scope=col>statistic</th><th scope=col>p.value</th></tr>\n",
       "\t<tr><th></th><th scope=col>&lt;chr&gt;</th><th scope=col>&lt;ppj_lbll&gt;</th><th scope=col>&lt;ppj_lbll&gt;</th><th scope=col>&lt;ppj_lbll&gt;</th><th scope=col>&lt;ppj_lbll&gt;</th></tr>\n",
       "</thead>\n",
       "<tbody>\n",
       "\t<tr><th scope=row>noun_F</th><td>noun_F</td><td>-2.27</td><td>$[-2.83$, $-1.71]$</td><td>-8.16</td><td>&lt; .001</td></tr>\n",
       "\t<tr><th scope=row>noun_M</th><td>noun_M</td><td>-2.53</td><td>$[-3.09$, $-1.98]$</td><td>-9.12</td><td>&lt; .001</td></tr>\n",
       "\t<tr><th scope=row>verb_X</th><td>verb_X</td><td>-2.38</td><td>$[-2.94$, $-1.82]$</td><td>-8.56</td><td>&lt; .001</td></tr>\n",
       "</tbody>\n",
       "</table>\n"
      ],
      "text/latex": [
       "A apa\\_results\\_table: 3 × 5\n",
       "\\begin{tabular}{r|lllll}\n",
       "  & cond0 & estimate & ci & statistic & p.value\\\\\n",
       "  & <chr> & <ppj\\_lbll> & <ppj\\_lbll> & <ppj\\_lbll> & <ppj\\_lbll>\\\\\n",
       "\\hline\n",
       "\tnoun\\_F & noun\\_F & -2.27 & \\${[}-2.83\\$, \\$-1.71{]}\\$ & -8.16 & < .001\\\\\n",
       "\tnoun\\_M & noun\\_M & -2.53 & \\${[}-3.09\\$, \\$-1.98{]}\\$ & -9.12 & < .001\\\\\n",
       "\tverb\\_X & verb\\_X & -2.38 & \\${[}-2.94\\$, \\$-1.82{]}\\$ & -8.56 & < .001\\\\\n",
       "\\end{tabular}\n"
      ],
      "text/markdown": [
       "\n",
       "A apa_results_table: 3 × 5\n",
       "\n",
       "| <!--/--> | cond0 &lt;chr&gt; | estimate &lt;ppj_lbll&gt; | ci &lt;ppj_lbll&gt; | statistic &lt;ppj_lbll&gt; | p.value &lt;ppj_lbll&gt; |\n",
       "|---|---|---|---|---|---|\n",
       "| noun_F | noun_F | -2.27 | $[-2.83$, $-1.71]$ | -8.16 | &lt; .001 |\n",
       "| noun_M | noun_M | -2.53 | $[-3.09$, $-1.98]$ | -9.12 | &lt; .001 |\n",
       "| verb_X | verb_X | -2.38 | $[-2.94$, $-1.82]$ | -8.56 | &lt; .001 |\n",
       "\n"
      ],
      "text/plain": [
       "       cond0  estimate ci                 statistic p.value\n",
       "noun_F noun_F -2.27    $[-2.83$, $-1.71]$ -8.16     < .001 \n",
       "noun_M noun_M -2.53    $[-3.09$, $-1.98]$ -9.12     < .001 \n",
       "verb_X verb_X -2.38    $[-2.94$, $-1.82]$ -8.56     < .001 "
      ]
     },
     "metadata": {},
     "output_type": "display_data"
    },
    {
     "data": {
      "text/markdown": [
       "### Paired comparisons for expected marginal means"
      ]
     },
     "metadata": {},
     "output_type": "display_data"
    },
    {
     "data": {
      "text/html": [
       "<table>\n",
       "<caption>A apa_results_table: 3 × 5</caption>\n",
       "<thead>\n",
       "\t<tr><th></th><th scope=col>contrast</th><th scope=col>estimate</th><th scope=col>ci</th><th scope=col>statistic</th><th scope=col>p.value</th></tr>\n",
       "\t<tr><th></th><th scope=col>&lt;ppj_lbll&gt;</th><th scope=col>&lt;ppj_lbll&gt;</th><th scope=col>&lt;ppj_lbll&gt;</th><th scope=col>&lt;ppj_lbll&gt;</th><th scope=col>&lt;ppj_lbll&gt;</th></tr>\n",
       "</thead>\n",
       "<tbody>\n",
       "\t<tr><th scope=row>noun_F_noun_M</th><td>noun_F - noun_M</td><td>0.27 </td><td>$[-0.11$, $0.64]$</td><td>1.71 </td><td>.208</td></tr>\n",
       "\t<tr><th scope=row>noun_F_verb_X</th><td>noun_F - verb_X</td><td>0.11 </td><td>$[-0.26$, $0.48]$</td><td>0.71 </td><td>.759</td></tr>\n",
       "\t<tr><th scope=row>noun_M_verb_X</th><td>noun_M - verb_X</td><td>-0.16</td><td>$[-0.53$, $0.22]$</td><td>-1.00</td><td>.579</td></tr>\n",
       "</tbody>\n",
       "</table>\n"
      ],
      "text/latex": [
       "A apa\\_results\\_table: 3 × 5\n",
       "\\begin{tabular}{r|lllll}\n",
       "  & contrast & estimate & ci & statistic & p.value\\\\\n",
       "  & <ppj\\_lbll> & <ppj\\_lbll> & <ppj\\_lbll> & <ppj\\_lbll> & <ppj\\_lbll>\\\\\n",
       "\\hline\n",
       "\tnoun\\_F\\_noun\\_M & noun\\_F - noun\\_M & 0.27  & \\${[}-0.11\\$, \\$0.64{]}\\$ & 1.71  & .208\\\\\n",
       "\tnoun\\_F\\_verb\\_X & noun\\_F - verb\\_X & 0.11  & \\${[}-0.26\\$, \\$0.48{]}\\$ & 0.71  & .759\\\\\n",
       "\tnoun\\_M\\_verb\\_X & noun\\_M - verb\\_X & -0.16 & \\${[}-0.53\\$, \\$0.22{]}\\$ & -1.00 & .579\\\\\n",
       "\\end{tabular}\n"
      ],
      "text/markdown": [
       "\n",
       "A apa_results_table: 3 × 5\n",
       "\n",
       "| <!--/--> | contrast &lt;ppj_lbll&gt; | estimate &lt;ppj_lbll&gt; | ci &lt;ppj_lbll&gt; | statistic &lt;ppj_lbll&gt; | p.value &lt;ppj_lbll&gt; |\n",
       "|---|---|---|---|---|---|\n",
       "| noun_F_noun_M | noun_F - noun_M | 0.27  | $[-0.11$, $0.64]$ | 1.71  | .208 |\n",
       "| noun_F_verb_X | noun_F - verb_X | 0.11  | $[-0.26$, $0.48]$ | 0.71  | .759 |\n",
       "| noun_M_verb_X | noun_M - verb_X | -0.16 | $[-0.53$, $0.22]$ | -1.00 | .579 |\n",
       "\n"
      ],
      "text/plain": [
       "              contrast        estimate ci                statistic p.value\n",
       "noun_F_noun_M noun_F - noun_M 0.27     $[-0.11$, $0.64]$ 1.71      .208   \n",
       "noun_F_verb_X noun_F - verb_X 0.11     $[-0.26$, $0.48]$ 0.71      .759   \n",
       "noun_M_verb_X noun_M - verb_X -0.16    $[-0.53$, $0.22]$ -1.00     .579   "
      ]
     },
     "metadata": {},
     "output_type": "display_data"
    }
   ],
   "source": [
    "IDX <- IDX+1; COND <- CONDS[IDX]\n",
    "data1 <- droplevels(subset(df1, eval(parse(text=COND)))); data1 <- data1[complete.cases(data1),]; done1 <- AOV4(data1,COND)\n",
    "display_markdown(str_c(\"# Condition \",IDX,\" of \",length(CONDS))); display_markdown(done1$info); display_markdown(\"### Table\"); done1$aov_APA$table; display_markdown(\"### Result\"); display_markdown(done1$aov_APA[[\"full_result\"]][[\"cond0\"]]); display_markdown(\"### Summary (all done1, incl. NANs)\"); done1$summary; display_markdown(\"### Expected marginal means\"); done1$emm_APA$table; display_markdown(\"### Paired comparisons for expected marginal means\"); done1$pairs_APA$table"
   ]
  },
  {
   "cell_type": "code",
   "execution_count": 68,
   "metadata": {},
   "outputs": [
    {
     "data": {
      "text/markdown": [
       "# Condition 51 of 72"
      ]
     },
     "metadata": {},
     "output_type": "display_data"
    },
    {
     "data": {
      "text/markdown": [
       "`tmin0==0.6 & chan0==\"RF\" & mode0==\"pos\"`"
      ]
     },
     "metadata": {},
     "output_type": "display_data"
    },
    {
     "data": {
      "text/markdown": [
       "### Table"
      ]
     },
     "metadata": {},
     "output_type": "display_data"
    },
    {
     "data": {
      "text/html": [
       "<table>\n",
       "<caption>A apa_results_table: 1 × 7</caption>\n",
       "<thead>\n",
       "\t<tr><th></th><th scope=col>Effect</th><th scope=col>F</th><th scope=col>df1</th><th scope=col>df2</th><th scope=col>MSE</th><th scope=col>p</th><th scope=col>ges</th></tr>\n",
       "\t<tr><th></th><th scope=col>&lt;ppj_lbll&gt;</th><th scope=col>&lt;ppj_lbll&gt;</th><th scope=col>&lt;ppj_lbll&gt;</th><th scope=col>&lt;ppj_lbll&gt;</th><th scope=col>&lt;ppj_lbll&gt;</th><th scope=col>&lt;ppj_lbll&gt;</th><th scope=col>&lt;ppj_lbll&gt;</th></tr>\n",
       "</thead>\n",
       "<tbody>\n",
       "\t<tr><th scope=row>1</th><td>Cond0</td><td>5.54</td><td>1.79</td><td>73.55</td><td>0.54</td><td>.007</td><td>.009</td></tr>\n",
       "</tbody>\n",
       "</table>\n"
      ],
      "text/latex": [
       "A apa\\_results\\_table: 1 × 7\n",
       "\\begin{tabular}{r|lllllll}\n",
       "  & Effect & F & df1 & df2 & MSE & p & ges\\\\\n",
       "  & <ppj\\_lbll> & <ppj\\_lbll> & <ppj\\_lbll> & <ppj\\_lbll> & <ppj\\_lbll> & <ppj\\_lbll> & <ppj\\_lbll>\\\\\n",
       "\\hline\n",
       "\t1 & Cond0 & 5.54 & 1.79 & 73.55 & 0.54 & .007 & .009\\\\\n",
       "\\end{tabular}\n"
      ],
      "text/markdown": [
       "\n",
       "A apa_results_table: 1 × 7\n",
       "\n",
       "| <!--/--> | Effect &lt;ppj_lbll&gt; | F &lt;ppj_lbll&gt; | df1 &lt;ppj_lbll&gt; | df2 &lt;ppj_lbll&gt; | MSE &lt;ppj_lbll&gt; | p &lt;ppj_lbll&gt; | ges &lt;ppj_lbll&gt; |\n",
       "|---|---|---|---|---|---|---|---|\n",
       "| 1 | Cond0 | 5.54 | 1.79 | 73.55 | 0.54 | .007 | .009 |\n",
       "\n"
      ],
      "text/plain": [
       "  Effect F    df1  df2   MSE  p    ges \n",
       "1 Cond0  5.54 1.79 73.55 0.54 .007 .009"
      ]
     },
     "metadata": {},
     "output_type": "display_data"
    },
    {
     "data": {
      "text/markdown": [
       "### Result"
      ]
     },
     "metadata": {},
     "output_type": "display_data"
    },
    {
     "data": {
      "text/markdown": [
       "$F(1.79, 73.55) = 5.54$, $\\mathit{MSE} = 0.54$, $p = .007$, $\\hat{\\eta}^2_G = .009$"
      ]
     },
     "metadata": {},
     "output_type": "display_data"
    },
    {
     "data": {
      "text/markdown": [
       "### Summary (all done1, incl. NANs)"
      ]
     },
     "metadata": {},
     "output_type": "display_data"
    },
    {
     "data": {
      "text/html": [
       "<table>\n",
       "<caption>A tibble: 3 × 5</caption>\n",
       "<thead>\n",
       "\t<tr><th scope=col>cond0</th><th scope=col>N</th><th scope=col>valX_M</th><th scope=col>valX_SD</th><th scope=col>valX_SE</th></tr>\n",
       "\t<tr><th scope=col>&lt;fct&gt;</th><th scope=col>&lt;int&gt;</th><th scope=col>&lt;dbl&gt;</th><th scope=col>&lt;dbl&gt;</th><th scope=col>&lt;dbl&gt;</th></tr>\n",
       "</thead>\n",
       "<tbody>\n",
       "\t<tr><td>noun_F</td><td>42</td><td>1.540771</td><td>2.315286</td><td>0.3572564</td></tr>\n",
       "\t<tr><td>noun_M</td><td>42</td><td>1.074418</td><td>1.969072</td><td>0.3038344</td></tr>\n",
       "\t<tr><td>verb_X</td><td>42</td><td>1.137772</td><td>2.222424</td><td>0.3429274</td></tr>\n",
       "</tbody>\n",
       "</table>\n"
      ],
      "text/latex": [
       "A tibble: 3 × 5\n",
       "\\begin{tabular}{lllll}\n",
       " cond0 & N & valX\\_M & valX\\_SD & valX\\_SE\\\\\n",
       " <fct> & <int> & <dbl> & <dbl> & <dbl>\\\\\n",
       "\\hline\n",
       "\t noun\\_F & 42 & 1.540771 & 2.315286 & 0.3572564\\\\\n",
       "\t noun\\_M & 42 & 1.074418 & 1.969072 & 0.3038344\\\\\n",
       "\t verb\\_X & 42 & 1.137772 & 2.222424 & 0.3429274\\\\\n",
       "\\end{tabular}\n"
      ],
      "text/markdown": [
       "\n",
       "A tibble: 3 × 5\n",
       "\n",
       "| cond0 &lt;fct&gt; | N &lt;int&gt; | valX_M &lt;dbl&gt; | valX_SD &lt;dbl&gt; | valX_SE &lt;dbl&gt; |\n",
       "|---|---|---|---|---|\n",
       "| noun_F | 42 | 1.540771 | 2.315286 | 0.3572564 |\n",
       "| noun_M | 42 | 1.074418 | 1.969072 | 0.3038344 |\n",
       "| verb_X | 42 | 1.137772 | 2.222424 | 0.3429274 |\n",
       "\n"
      ],
      "text/plain": [
       "  cond0  N  valX_M   valX_SD  valX_SE  \n",
       "1 noun_F 42 1.540771 2.315286 0.3572564\n",
       "2 noun_M 42 1.074418 1.969072 0.3038344\n",
       "3 verb_X 42 1.137772 2.222424 0.3429274"
      ]
     },
     "metadata": {},
     "output_type": "display_data"
    },
    {
     "data": {
      "text/markdown": [
       "### Expected marginal means"
      ]
     },
     "metadata": {},
     "output_type": "display_data"
    },
    {
     "data": {
      "text/html": [
       "<table>\n",
       "<caption>A apa_results_table: 3 × 5</caption>\n",
       "<thead>\n",
       "\t<tr><th></th><th scope=col>cond0</th><th scope=col>estimate</th><th scope=col>ci</th><th scope=col>statistic</th><th scope=col>p.value</th></tr>\n",
       "\t<tr><th></th><th scope=col>&lt;chr&gt;</th><th scope=col>&lt;ppj_lbll&gt;</th><th scope=col>&lt;ppj_lbll&gt;</th><th scope=col>&lt;ppj_lbll&gt;</th><th scope=col>&lt;ppj_lbll&gt;</th></tr>\n",
       "</thead>\n",
       "<tbody>\n",
       "\t<tr><th scope=row>noun_F</th><td>noun_F</td><td>1.54</td><td>$[0.87$, $2.22]$</td><td>4.59</td><td>&lt; .001</td></tr>\n",
       "\t<tr><th scope=row>noun_M</th><td>noun_M</td><td>1.07</td><td>$[0.40$, $1.75]$</td><td>3.20</td><td>.002  </td></tr>\n",
       "\t<tr><th scope=row>verb_X</th><td>verb_X</td><td>1.14</td><td>$[0.46$, $1.81]$</td><td>3.39</td><td>.001  </td></tr>\n",
       "</tbody>\n",
       "</table>\n"
      ],
      "text/latex": [
       "A apa\\_results\\_table: 3 × 5\n",
       "\\begin{tabular}{r|lllll}\n",
       "  & cond0 & estimate & ci & statistic & p.value\\\\\n",
       "  & <chr> & <ppj\\_lbll> & <ppj\\_lbll> & <ppj\\_lbll> & <ppj\\_lbll>\\\\\n",
       "\\hline\n",
       "\tnoun\\_F & noun\\_F & 1.54 & \\${[}0.87\\$, \\$2.22{]}\\$ & 4.59 & < .001\\\\\n",
       "\tnoun\\_M & noun\\_M & 1.07 & \\${[}0.40\\$, \\$1.75{]}\\$ & 3.20 & .002  \\\\\n",
       "\tverb\\_X & verb\\_X & 1.14 & \\${[}0.46\\$, \\$1.81{]}\\$ & 3.39 & .001  \\\\\n",
       "\\end{tabular}\n"
      ],
      "text/markdown": [
       "\n",
       "A apa_results_table: 3 × 5\n",
       "\n",
       "| <!--/--> | cond0 &lt;chr&gt; | estimate &lt;ppj_lbll&gt; | ci &lt;ppj_lbll&gt; | statistic &lt;ppj_lbll&gt; | p.value &lt;ppj_lbll&gt; |\n",
       "|---|---|---|---|---|---|\n",
       "| noun_F | noun_F | 1.54 | $[0.87$, $2.22]$ | 4.59 | &lt; .001 |\n",
       "| noun_M | noun_M | 1.07 | $[0.40$, $1.75]$ | 3.20 | .002   |\n",
       "| verb_X | verb_X | 1.14 | $[0.46$, $1.81]$ | 3.39 | .001   |\n",
       "\n"
      ],
      "text/plain": [
       "       cond0  estimate ci               statistic p.value\n",
       "noun_F noun_F 1.54     $[0.87$, $2.22]$ 4.59      < .001 \n",
       "noun_M noun_M 1.07     $[0.40$, $1.75]$ 3.20      .002   \n",
       "verb_X verb_X 1.14     $[0.46$, $1.81]$ 3.39      .001   "
      ]
     },
     "metadata": {},
     "output_type": "display_data"
    },
    {
     "data": {
      "text/markdown": [
       "### Paired comparisons for expected marginal means"
      ]
     },
     "metadata": {},
     "output_type": "display_data"
    },
    {
     "data": {
      "text/html": [
       "<table>\n",
       "<caption>A apa_results_table: 3 × 5</caption>\n",
       "<thead>\n",
       "\t<tr><th></th><th scope=col>contrast</th><th scope=col>estimate</th><th scope=col>ci</th><th scope=col>statistic</th><th scope=col>p.value</th></tr>\n",
       "\t<tr><th></th><th scope=col>&lt;ppj_lbll&gt;</th><th scope=col>&lt;ppj_lbll&gt;</th><th scope=col>&lt;ppj_lbll&gt;</th><th scope=col>&lt;ppj_lbll&gt;</th><th scope=col>&lt;ppj_lbll&gt;</th></tr>\n",
       "</thead>\n",
       "<tbody>\n",
       "\t<tr><th scope=row>noun_F_noun_M</th><td>noun_F - noun_M</td><td>0.47 </td><td>$[0.10$, $0.83]$ </td><td>3.07 </td><td>.008</td></tr>\n",
       "\t<tr><th scope=row>noun_F_verb_X</th><td>noun_F - verb_X</td><td>0.40 </td><td>$[0.04$, $0.77]$ </td><td>2.65 </td><td>.026</td></tr>\n",
       "\t<tr><th scope=row>noun_M_verb_X</th><td>noun_M - verb_X</td><td>-0.06</td><td>$[-0.43$, $0.30]$</td><td>-0.42</td><td>.909</td></tr>\n",
       "</tbody>\n",
       "</table>\n"
      ],
      "text/latex": [
       "A apa\\_results\\_table: 3 × 5\n",
       "\\begin{tabular}{r|lllll}\n",
       "  & contrast & estimate & ci & statistic & p.value\\\\\n",
       "  & <ppj\\_lbll> & <ppj\\_lbll> & <ppj\\_lbll> & <ppj\\_lbll> & <ppj\\_lbll>\\\\\n",
       "\\hline\n",
       "\tnoun\\_F\\_noun\\_M & noun\\_F - noun\\_M & 0.47  & \\${[}0.10\\$, \\$0.83{]}\\$  & 3.07  & .008\\\\\n",
       "\tnoun\\_F\\_verb\\_X & noun\\_F - verb\\_X & 0.40  & \\${[}0.04\\$, \\$0.77{]}\\$  & 2.65  & .026\\\\\n",
       "\tnoun\\_M\\_verb\\_X & noun\\_M - verb\\_X & -0.06 & \\${[}-0.43\\$, \\$0.30{]}\\$ & -0.42 & .909\\\\\n",
       "\\end{tabular}\n"
      ],
      "text/markdown": [
       "\n",
       "A apa_results_table: 3 × 5\n",
       "\n",
       "| <!--/--> | contrast &lt;ppj_lbll&gt; | estimate &lt;ppj_lbll&gt; | ci &lt;ppj_lbll&gt; | statistic &lt;ppj_lbll&gt; | p.value &lt;ppj_lbll&gt; |\n",
       "|---|---|---|---|---|---|\n",
       "| noun_F_noun_M | noun_F - noun_M | 0.47  | $[0.10$, $0.83]$  | 3.07  | .008 |\n",
       "| noun_F_verb_X | noun_F - verb_X | 0.40  | $[0.04$, $0.77]$  | 2.65  | .026 |\n",
       "| noun_M_verb_X | noun_M - verb_X | -0.06 | $[-0.43$, $0.30]$ | -0.42 | .909 |\n",
       "\n"
      ],
      "text/plain": [
       "              contrast        estimate ci                statistic p.value\n",
       "noun_F_noun_M noun_F - noun_M 0.47     $[0.10$, $0.83]$  3.07      .008   \n",
       "noun_F_verb_X noun_F - verb_X 0.40     $[0.04$, $0.77]$  2.65      .026   \n",
       "noun_M_verb_X noun_M - verb_X -0.06    $[-0.43$, $0.30]$ -0.42     .909   "
      ]
     },
     "metadata": {},
     "output_type": "display_data"
    }
   ],
   "source": [
    "IDX <- IDX+1; COND <- CONDS[IDX]\n",
    "data1 <- droplevels(subset(df1, eval(parse(text=COND)))); data1 <- data1[complete.cases(data1),]; done1 <- AOV4(data1,COND)\n",
    "display_markdown(str_c(\"# Condition \",IDX,\" of \",length(CONDS))); display_markdown(done1$info); display_markdown(\"### Table\"); done1$aov_APA$table; display_markdown(\"### Result\"); display_markdown(done1$aov_APA[[\"full_result\"]][[\"cond0\"]]); display_markdown(\"### Summary (all done1, incl. NANs)\"); done1$summary; display_markdown(\"### Expected marginal means\"); done1$emm_APA$table; display_markdown(\"### Paired comparisons for expected marginal means\"); done1$pairs_APA$table"
   ]
  },
  {
   "cell_type": "code",
   "execution_count": 69,
   "metadata": {},
   "outputs": [
    {
     "name": "stderr",
     "output_type": "stream",
     "text": [
      "Warning message in summary.Anova.mlm(x$Anova):\n",
      "“HF eps > 1 treated as 1”\n"
     ]
    },
    {
     "data": {
      "text/markdown": [
       "# Condition 52 of 72"
      ]
     },
     "metadata": {},
     "output_type": "display_data"
    },
    {
     "data": {
      "text/markdown": [
       "`tmin0==0.6 & chan0==\"RF\" & mode0==\"neg\"`"
      ]
     },
     "metadata": {},
     "output_type": "display_data"
    },
    {
     "data": {
      "text/markdown": [
       "### Table"
      ]
     },
     "metadata": {},
     "output_type": "display_data"
    },
    {
     "data": {
      "text/html": [
       "<table>\n",
       "<caption>A apa_results_table: 1 × 7</caption>\n",
       "<thead>\n",
       "\t<tr><th></th><th scope=col>Effect</th><th scope=col>F</th><th scope=col>df1</th><th scope=col>df2</th><th scope=col>MSE</th><th scope=col>p</th><th scope=col>ges</th></tr>\n",
       "\t<tr><th></th><th scope=col>&lt;ppj_lbll&gt;</th><th scope=col>&lt;ppj_lbll&gt;</th><th scope=col>&lt;ppj_lbll&gt;</th><th scope=col>&lt;ppj_lbll&gt;</th><th scope=col>&lt;ppj_lbll&gt;</th><th scope=col>&lt;ppj_lbll&gt;</th><th scope=col>&lt;ppj_lbll&gt;</th></tr>\n",
       "</thead>\n",
       "<tbody>\n",
       "\t<tr><th scope=row>1</th><td>Cond0</td><td>4.20</td><td>1.99</td><td>81.57</td><td>0.55</td><td>.018</td><td>.010</td></tr>\n",
       "</tbody>\n",
       "</table>\n"
      ],
      "text/latex": [
       "A apa\\_results\\_table: 1 × 7\n",
       "\\begin{tabular}{r|lllllll}\n",
       "  & Effect & F & df1 & df2 & MSE & p & ges\\\\\n",
       "  & <ppj\\_lbll> & <ppj\\_lbll> & <ppj\\_lbll> & <ppj\\_lbll> & <ppj\\_lbll> & <ppj\\_lbll> & <ppj\\_lbll>\\\\\n",
       "\\hline\n",
       "\t1 & Cond0 & 4.20 & 1.99 & 81.57 & 0.55 & .018 & .010\\\\\n",
       "\\end{tabular}\n"
      ],
      "text/markdown": [
       "\n",
       "A apa_results_table: 1 × 7\n",
       "\n",
       "| <!--/--> | Effect &lt;ppj_lbll&gt; | F &lt;ppj_lbll&gt; | df1 &lt;ppj_lbll&gt; | df2 &lt;ppj_lbll&gt; | MSE &lt;ppj_lbll&gt; | p &lt;ppj_lbll&gt; | ges &lt;ppj_lbll&gt; |\n",
       "|---|---|---|---|---|---|---|---|\n",
       "| 1 | Cond0 | 4.20 | 1.99 | 81.57 | 0.55 | .018 | .010 |\n",
       "\n"
      ],
      "text/plain": [
       "  Effect F    df1  df2   MSE  p    ges \n",
       "1 Cond0  4.20 1.99 81.57 0.55 .018 .010"
      ]
     },
     "metadata": {},
     "output_type": "display_data"
    },
    {
     "data": {
      "text/markdown": [
       "### Result"
      ]
     },
     "metadata": {},
     "output_type": "display_data"
    },
    {
     "data": {
      "text/markdown": [
       "$F(1.99, 81.57) = 4.20$, $\\mathit{MSE} = 0.55$, $p = .018$, $\\hat{\\eta}^2_G = .010$"
      ]
     },
     "metadata": {},
     "output_type": "display_data"
    },
    {
     "data": {
      "text/markdown": [
       "### Summary (all done1, incl. NANs)"
      ]
     },
     "metadata": {},
     "output_type": "display_data"
    },
    {
     "data": {
      "text/html": [
       "<table>\n",
       "<caption>A tibble: 3 × 5</caption>\n",
       "<thead>\n",
       "\t<tr><th scope=col>cond0</th><th scope=col>N</th><th scope=col>valX_M</th><th scope=col>valX_SD</th><th scope=col>valX_SE</th></tr>\n",
       "\t<tr><th scope=col>&lt;fct&gt;</th><th scope=col>&lt;int&gt;</th><th scope=col>&lt;dbl&gt;</th><th scope=col>&lt;dbl&gt;</th><th scope=col>&lt;dbl&gt;</th></tr>\n",
       "</thead>\n",
       "<tbody>\n",
       "\t<tr><td>noun_F</td><td>42</td><td>-1.233521</td><td>2.007828</td><td>0.3098146</td></tr>\n",
       "\t<tr><td>noun_M</td><td>42</td><td>-1.613235</td><td>1.869096</td><td>0.2884077</td></tr>\n",
       "\t<tr><td>verb_X</td><td>42</td><td>-1.186201</td><td>1.888123</td><td>0.2913437</td></tr>\n",
       "</tbody>\n",
       "</table>\n"
      ],
      "text/latex": [
       "A tibble: 3 × 5\n",
       "\\begin{tabular}{lllll}\n",
       " cond0 & N & valX\\_M & valX\\_SD & valX\\_SE\\\\\n",
       " <fct> & <int> & <dbl> & <dbl> & <dbl>\\\\\n",
       "\\hline\n",
       "\t noun\\_F & 42 & -1.233521 & 2.007828 & 0.3098146\\\\\n",
       "\t noun\\_M & 42 & -1.613235 & 1.869096 & 0.2884077\\\\\n",
       "\t verb\\_X & 42 & -1.186201 & 1.888123 & 0.2913437\\\\\n",
       "\\end{tabular}\n"
      ],
      "text/markdown": [
       "\n",
       "A tibble: 3 × 5\n",
       "\n",
       "| cond0 &lt;fct&gt; | N &lt;int&gt; | valX_M &lt;dbl&gt; | valX_SD &lt;dbl&gt; | valX_SE &lt;dbl&gt; |\n",
       "|---|---|---|---|---|\n",
       "| noun_F | 42 | -1.233521 | 2.007828 | 0.3098146 |\n",
       "| noun_M | 42 | -1.613235 | 1.869096 | 0.2884077 |\n",
       "| verb_X | 42 | -1.186201 | 1.888123 | 0.2913437 |\n",
       "\n"
      ],
      "text/plain": [
       "  cond0  N  valX_M    valX_SD  valX_SE  \n",
       "1 noun_F 42 -1.233521 2.007828 0.3098146\n",
       "2 noun_M 42 -1.613235 1.869096 0.2884077\n",
       "3 verb_X 42 -1.186201 1.888123 0.2913437"
      ]
     },
     "metadata": {},
     "output_type": "display_data"
    },
    {
     "data": {
      "text/markdown": [
       "### Expected marginal means"
      ]
     },
     "metadata": {},
     "output_type": "display_data"
    },
    {
     "data": {
      "text/html": [
       "<table>\n",
       "<caption>A apa_results_table: 3 × 5</caption>\n",
       "<thead>\n",
       "\t<tr><th></th><th scope=col>cond0</th><th scope=col>estimate</th><th scope=col>ci</th><th scope=col>statistic</th><th scope=col>p.value</th></tr>\n",
       "\t<tr><th></th><th scope=col>&lt;chr&gt;</th><th scope=col>&lt;ppj_lbll&gt;</th><th scope=col>&lt;ppj_lbll&gt;</th><th scope=col>&lt;ppj_lbll&gt;</th><th scope=col>&lt;ppj_lbll&gt;</th></tr>\n",
       "</thead>\n",
       "<tbody>\n",
       "\t<tr><th scope=row>noun_F</th><td>noun_F</td><td>-1.23</td><td>$[-1.83$, $-0.64]$</td><td>-4.16</td><td>&lt; .001</td></tr>\n",
       "\t<tr><th scope=row>noun_M</th><td>noun_M</td><td>-1.61</td><td>$[-2.21$, $-1.02]$</td><td>-5.44</td><td>&lt; .001</td></tr>\n",
       "\t<tr><th scope=row>verb_X</th><td>verb_X</td><td>-1.19</td><td>$[-1.78$, $-0.59]$</td><td>-4.00</td><td>&lt; .001</td></tr>\n",
       "</tbody>\n",
       "</table>\n"
      ],
      "text/latex": [
       "A apa\\_results\\_table: 3 × 5\n",
       "\\begin{tabular}{r|lllll}\n",
       "  & cond0 & estimate & ci & statistic & p.value\\\\\n",
       "  & <chr> & <ppj\\_lbll> & <ppj\\_lbll> & <ppj\\_lbll> & <ppj\\_lbll>\\\\\n",
       "\\hline\n",
       "\tnoun\\_F & noun\\_F & -1.23 & \\${[}-1.83\\$, \\$-0.64{]}\\$ & -4.16 & < .001\\\\\n",
       "\tnoun\\_M & noun\\_M & -1.61 & \\${[}-2.21\\$, \\$-1.02{]}\\$ & -5.44 & < .001\\\\\n",
       "\tverb\\_X & verb\\_X & -1.19 & \\${[}-1.78\\$, \\$-0.59{]}\\$ & -4.00 & < .001\\\\\n",
       "\\end{tabular}\n"
      ],
      "text/markdown": [
       "\n",
       "A apa_results_table: 3 × 5\n",
       "\n",
       "| <!--/--> | cond0 &lt;chr&gt; | estimate &lt;ppj_lbll&gt; | ci &lt;ppj_lbll&gt; | statistic &lt;ppj_lbll&gt; | p.value &lt;ppj_lbll&gt; |\n",
       "|---|---|---|---|---|---|\n",
       "| noun_F | noun_F | -1.23 | $[-1.83$, $-0.64]$ | -4.16 | &lt; .001 |\n",
       "| noun_M | noun_M | -1.61 | $[-2.21$, $-1.02]$ | -5.44 | &lt; .001 |\n",
       "| verb_X | verb_X | -1.19 | $[-1.78$, $-0.59]$ | -4.00 | &lt; .001 |\n",
       "\n"
      ],
      "text/plain": [
       "       cond0  estimate ci                 statistic p.value\n",
       "noun_F noun_F -1.23    $[-1.83$, $-0.64]$ -4.16     < .001 \n",
       "noun_M noun_M -1.61    $[-2.21$, $-1.02]$ -5.44     < .001 \n",
       "verb_X verb_X -1.19    $[-1.78$, $-0.59]$ -4.00     < .001 "
      ]
     },
     "metadata": {},
     "output_type": "display_data"
    },
    {
     "data": {
      "text/markdown": [
       "### Paired comparisons for expected marginal means"
      ]
     },
     "metadata": {},
     "output_type": "display_data"
    },
    {
     "data": {
      "text/html": [
       "<table>\n",
       "<caption>A apa_results_table: 3 × 5</caption>\n",
       "<thead>\n",
       "\t<tr><th></th><th scope=col>contrast</th><th scope=col>estimate</th><th scope=col>ci</th><th scope=col>statistic</th><th scope=col>p.value</th></tr>\n",
       "\t<tr><th></th><th scope=col>&lt;ppj_lbll&gt;</th><th scope=col>&lt;ppj_lbll&gt;</th><th scope=col>&lt;ppj_lbll&gt;</th><th scope=col>&lt;ppj_lbll&gt;</th><th scope=col>&lt;ppj_lbll&gt;</th></tr>\n",
       "</thead>\n",
       "<tbody>\n",
       "\t<tr><th scope=row>noun_F_noun_M</th><td>noun_F - noun_M</td><td>0.38 </td><td>$[-0.01$, $0.77]$ </td><td>2.35 </td><td>.054</td></tr>\n",
       "\t<tr><th scope=row>noun_F_verb_X</th><td>noun_F - verb_X</td><td>-0.05</td><td>$[-0.43$, $0.34]$ </td><td>-0.29</td><td>.954</td></tr>\n",
       "\t<tr><th scope=row>noun_M_verb_X</th><td>noun_M - verb_X</td><td>-0.43</td><td>$[-0.81$, $-0.04]$</td><td>-2.64</td><td>.026</td></tr>\n",
       "</tbody>\n",
       "</table>\n"
      ],
      "text/latex": [
       "A apa\\_results\\_table: 3 × 5\n",
       "\\begin{tabular}{r|lllll}\n",
       "  & contrast & estimate & ci & statistic & p.value\\\\\n",
       "  & <ppj\\_lbll> & <ppj\\_lbll> & <ppj\\_lbll> & <ppj\\_lbll> & <ppj\\_lbll>\\\\\n",
       "\\hline\n",
       "\tnoun\\_F\\_noun\\_M & noun\\_F - noun\\_M & 0.38  & \\${[}-0.01\\$, \\$0.77{]}\\$  & 2.35  & .054\\\\\n",
       "\tnoun\\_F\\_verb\\_X & noun\\_F - verb\\_X & -0.05 & \\${[}-0.43\\$, \\$0.34{]}\\$  & -0.29 & .954\\\\\n",
       "\tnoun\\_M\\_verb\\_X & noun\\_M - verb\\_X & -0.43 & \\${[}-0.81\\$, \\$-0.04{]}\\$ & -2.64 & .026\\\\\n",
       "\\end{tabular}\n"
      ],
      "text/markdown": [
       "\n",
       "A apa_results_table: 3 × 5\n",
       "\n",
       "| <!--/--> | contrast &lt;ppj_lbll&gt; | estimate &lt;ppj_lbll&gt; | ci &lt;ppj_lbll&gt; | statistic &lt;ppj_lbll&gt; | p.value &lt;ppj_lbll&gt; |\n",
       "|---|---|---|---|---|---|\n",
       "| noun_F_noun_M | noun_F - noun_M | 0.38  | $[-0.01$, $0.77]$  | 2.35  | .054 |\n",
       "| noun_F_verb_X | noun_F - verb_X | -0.05 | $[-0.43$, $0.34]$  | -0.29 | .954 |\n",
       "| noun_M_verb_X | noun_M - verb_X | -0.43 | $[-0.81$, $-0.04]$ | -2.64 | .026 |\n",
       "\n"
      ],
      "text/plain": [
       "              contrast        estimate ci                 statistic p.value\n",
       "noun_F_noun_M noun_F - noun_M 0.38     $[-0.01$, $0.77]$  2.35      .054   \n",
       "noun_F_verb_X noun_F - verb_X -0.05    $[-0.43$, $0.34]$  -0.29     .954   \n",
       "noun_M_verb_X noun_M - verb_X -0.43    $[-0.81$, $-0.04]$ -2.64     .026   "
      ]
     },
     "metadata": {},
     "output_type": "display_data"
    }
   ],
   "source": [
    "IDX <- IDX+1; COND <- CONDS[IDX]\n",
    "data1 <- droplevels(subset(df1, eval(parse(text=COND)))); data1 <- data1[complete.cases(data1),]; done1 <- AOV4(data1,COND)\n",
    "display_markdown(str_c(\"# Condition \",IDX,\" of \",length(CONDS))); display_markdown(done1$info); display_markdown(\"### Table\"); done1$aov_APA$table; display_markdown(\"### Result\"); display_markdown(done1$aov_APA[[\"full_result\"]][[\"cond0\"]]); display_markdown(\"### Summary (all done1, incl. NANs)\"); done1$summary; display_markdown(\"### Expected marginal means\"); done1$emm_APA$table; display_markdown(\"### Paired comparisons for expected marginal means\"); done1$pairs_APA$table"
   ]
  },
  {
   "cell_type": "code",
   "execution_count": 70,
   "metadata": {},
   "outputs": [
    {
     "name": "stderr",
     "output_type": "stream",
     "text": [
      "Warning message in summary.Anova.mlm(x$Anova):\n",
      "“HF eps > 1 treated as 1”\n"
     ]
    },
    {
     "data": {
      "text/markdown": [
       "# Condition 53 of 72"
      ]
     },
     "metadata": {},
     "output_type": "display_data"
    },
    {
     "data": {
      "text/markdown": [
       "`tmin0==0.6 & chan0==\"LC\" & mode0==\"pos\"`"
      ]
     },
     "metadata": {},
     "output_type": "display_data"
    },
    {
     "data": {
      "text/markdown": [
       "### Table"
      ]
     },
     "metadata": {},
     "output_type": "display_data"
    },
    {
     "data": {
      "text/html": [
       "<table>\n",
       "<caption>A apa_results_table: 1 × 7</caption>\n",
       "<thead>\n",
       "\t<tr><th></th><th scope=col>Effect</th><th scope=col>F</th><th scope=col>df1</th><th scope=col>df2</th><th scope=col>MSE</th><th scope=col>p</th><th scope=col>ges</th></tr>\n",
       "\t<tr><th></th><th scope=col>&lt;ppj_lbll&gt;</th><th scope=col>&lt;ppj_lbll&gt;</th><th scope=col>&lt;ppj_lbll&gt;</th><th scope=col>&lt;ppj_lbll&gt;</th><th scope=col>&lt;ppj_lbll&gt;</th><th scope=col>&lt;ppj_lbll&gt;</th><th scope=col>&lt;ppj_lbll&gt;</th></tr>\n",
       "</thead>\n",
       "<tbody>\n",
       "\t<tr><th scope=row>1</th><td>Cond0</td><td>1.88</td><td>1.96</td><td>80.31</td><td>0.22</td><td>.160</td><td>.004</td></tr>\n",
       "</tbody>\n",
       "</table>\n"
      ],
      "text/latex": [
       "A apa\\_results\\_table: 1 × 7\n",
       "\\begin{tabular}{r|lllllll}\n",
       "  & Effect & F & df1 & df2 & MSE & p & ges\\\\\n",
       "  & <ppj\\_lbll> & <ppj\\_lbll> & <ppj\\_lbll> & <ppj\\_lbll> & <ppj\\_lbll> & <ppj\\_lbll> & <ppj\\_lbll>\\\\\n",
       "\\hline\n",
       "\t1 & Cond0 & 1.88 & 1.96 & 80.31 & 0.22 & .160 & .004\\\\\n",
       "\\end{tabular}\n"
      ],
      "text/markdown": [
       "\n",
       "A apa_results_table: 1 × 7\n",
       "\n",
       "| <!--/--> | Effect &lt;ppj_lbll&gt; | F &lt;ppj_lbll&gt; | df1 &lt;ppj_lbll&gt; | df2 &lt;ppj_lbll&gt; | MSE &lt;ppj_lbll&gt; | p &lt;ppj_lbll&gt; | ges &lt;ppj_lbll&gt; |\n",
       "|---|---|---|---|---|---|---|---|\n",
       "| 1 | Cond0 | 1.88 | 1.96 | 80.31 | 0.22 | .160 | .004 |\n",
       "\n"
      ],
      "text/plain": [
       "  Effect F    df1  df2   MSE  p    ges \n",
       "1 Cond0  1.88 1.96 80.31 0.22 .160 .004"
      ]
     },
     "metadata": {},
     "output_type": "display_data"
    },
    {
     "data": {
      "text/markdown": [
       "### Result"
      ]
     },
     "metadata": {},
     "output_type": "display_data"
    },
    {
     "data": {
      "text/markdown": [
       "$F(1.96, 80.31) = 1.88$, $\\mathit{MSE} = 0.22$, $p = .160$, $\\hat{\\eta}^2_G = .004$"
      ]
     },
     "metadata": {},
     "output_type": "display_data"
    },
    {
     "data": {
      "text/markdown": [
       "### Summary (all done1, incl. NANs)"
      ]
     },
     "metadata": {},
     "output_type": "display_data"
    },
    {
     "data": {
      "text/html": [
       "<table>\n",
       "<caption>A tibble: 3 × 5</caption>\n",
       "<thead>\n",
       "\t<tr><th scope=col>cond0</th><th scope=col>N</th><th scope=col>valX_M</th><th scope=col>valX_SD</th><th scope=col>valX_SE</th></tr>\n",
       "\t<tr><th scope=col>&lt;fct&gt;</th><th scope=col>&lt;int&gt;</th><th scope=col>&lt;dbl&gt;</th><th scope=col>&lt;dbl&gt;</th><th scope=col>&lt;dbl&gt;</th></tr>\n",
       "</thead>\n",
       "<tbody>\n",
       "\t<tr><td>noun_F</td><td>42</td><td>1.1129694</td><td>1.299208</td><td>0.2004721</td></tr>\n",
       "\t<tr><td>noun_M</td><td>42</td><td>0.9897037</td><td>1.302126</td><td>0.2009223</td></tr>\n",
       "\t<tr><td>verb_X</td><td>42</td><td>0.9202174</td><td>1.407766</td><td>0.2172230</td></tr>\n",
       "</tbody>\n",
       "</table>\n"
      ],
      "text/latex": [
       "A tibble: 3 × 5\n",
       "\\begin{tabular}{lllll}\n",
       " cond0 & N & valX\\_M & valX\\_SD & valX\\_SE\\\\\n",
       " <fct> & <int> & <dbl> & <dbl> & <dbl>\\\\\n",
       "\\hline\n",
       "\t noun\\_F & 42 & 1.1129694 & 1.299208 & 0.2004721\\\\\n",
       "\t noun\\_M & 42 & 0.9897037 & 1.302126 & 0.2009223\\\\\n",
       "\t verb\\_X & 42 & 0.9202174 & 1.407766 & 0.2172230\\\\\n",
       "\\end{tabular}\n"
      ],
      "text/markdown": [
       "\n",
       "A tibble: 3 × 5\n",
       "\n",
       "| cond0 &lt;fct&gt; | N &lt;int&gt; | valX_M &lt;dbl&gt; | valX_SD &lt;dbl&gt; | valX_SE &lt;dbl&gt; |\n",
       "|---|---|---|---|---|\n",
       "| noun_F | 42 | 1.1129694 | 1.299208 | 0.2004721 |\n",
       "| noun_M | 42 | 0.9897037 | 1.302126 | 0.2009223 |\n",
       "| verb_X | 42 | 0.9202174 | 1.407766 | 0.2172230 |\n",
       "\n"
      ],
      "text/plain": [
       "  cond0  N  valX_M    valX_SD  valX_SE  \n",
       "1 noun_F 42 1.1129694 1.299208 0.2004721\n",
       "2 noun_M 42 0.9897037 1.302126 0.2009223\n",
       "3 verb_X 42 0.9202174 1.407766 0.2172230"
      ]
     },
     "metadata": {},
     "output_type": "display_data"
    },
    {
     "data": {
      "text/markdown": [
       "### Expected marginal means"
      ]
     },
     "metadata": {},
     "output_type": "display_data"
    },
    {
     "data": {
      "text/html": [
       "<table>\n",
       "<caption>A apa_results_table: 3 × 5</caption>\n",
       "<thead>\n",
       "\t<tr><th></th><th scope=col>cond0</th><th scope=col>estimate</th><th scope=col>ci</th><th scope=col>statistic</th><th scope=col>p.value</th></tr>\n",
       "\t<tr><th></th><th scope=col>&lt;chr&gt;</th><th scope=col>&lt;ppj_lbll&gt;</th><th scope=col>&lt;ppj_lbll&gt;</th><th scope=col>&lt;ppj_lbll&gt;</th><th scope=col>&lt;ppj_lbll&gt;</th></tr>\n",
       "</thead>\n",
       "<tbody>\n",
       "\t<tr><th scope=row>noun_F</th><td>noun_F</td><td>1.11</td><td>$[0.70$, $1.53]$</td><td>5.39</td><td>&lt; .001</td></tr>\n",
       "\t<tr><th scope=row>noun_M</th><td>noun_M</td><td>0.99</td><td>$[0.57$, $1.40]$</td><td>4.80</td><td>&lt; .001</td></tr>\n",
       "\t<tr><th scope=row>verb_X</th><td>verb_X</td><td>0.92</td><td>$[0.51$, $1.34]$</td><td>4.46</td><td>&lt; .001</td></tr>\n",
       "</tbody>\n",
       "</table>\n"
      ],
      "text/latex": [
       "A apa\\_results\\_table: 3 × 5\n",
       "\\begin{tabular}{r|lllll}\n",
       "  & cond0 & estimate & ci & statistic & p.value\\\\\n",
       "  & <chr> & <ppj\\_lbll> & <ppj\\_lbll> & <ppj\\_lbll> & <ppj\\_lbll>\\\\\n",
       "\\hline\n",
       "\tnoun\\_F & noun\\_F & 1.11 & \\${[}0.70\\$, \\$1.53{]}\\$ & 5.39 & < .001\\\\\n",
       "\tnoun\\_M & noun\\_M & 0.99 & \\${[}0.57\\$, \\$1.40{]}\\$ & 4.80 & < .001\\\\\n",
       "\tverb\\_X & verb\\_X & 0.92 & \\${[}0.51\\$, \\$1.34{]}\\$ & 4.46 & < .001\\\\\n",
       "\\end{tabular}\n"
      ],
      "text/markdown": [
       "\n",
       "A apa_results_table: 3 × 5\n",
       "\n",
       "| <!--/--> | cond0 &lt;chr&gt; | estimate &lt;ppj_lbll&gt; | ci &lt;ppj_lbll&gt; | statistic &lt;ppj_lbll&gt; | p.value &lt;ppj_lbll&gt; |\n",
       "|---|---|---|---|---|---|\n",
       "| noun_F | noun_F | 1.11 | $[0.70$, $1.53]$ | 5.39 | &lt; .001 |\n",
       "| noun_M | noun_M | 0.99 | $[0.57$, $1.40]$ | 4.80 | &lt; .001 |\n",
       "| verb_X | verb_X | 0.92 | $[0.51$, $1.34]$ | 4.46 | &lt; .001 |\n",
       "\n"
      ],
      "text/plain": [
       "       cond0  estimate ci               statistic p.value\n",
       "noun_F noun_F 1.11     $[0.70$, $1.53]$ 5.39      < .001 \n",
       "noun_M noun_M 0.99     $[0.57$, $1.40]$ 4.80      < .001 \n",
       "verb_X verb_X 0.92     $[0.51$, $1.34]$ 4.46      < .001 "
      ]
     },
     "metadata": {},
     "output_type": "display_data"
    },
    {
     "data": {
      "text/markdown": [
       "### Paired comparisons for expected marginal means"
      ]
     },
     "metadata": {},
     "output_type": "display_data"
    },
    {
     "data": {
      "text/html": [
       "<table>\n",
       "<caption>A apa_results_table: 3 × 5</caption>\n",
       "<thead>\n",
       "\t<tr><th></th><th scope=col>contrast</th><th scope=col>estimate</th><th scope=col>ci</th><th scope=col>statistic</th><th scope=col>p.value</th></tr>\n",
       "\t<tr><th></th><th scope=col>&lt;ppj_lbll&gt;</th><th scope=col>&lt;ppj_lbll&gt;</th><th scope=col>&lt;ppj_lbll&gt;</th><th scope=col>&lt;ppj_lbll&gt;</th><th scope=col>&lt;ppj_lbll&gt;</th></tr>\n",
       "</thead>\n",
       "<tbody>\n",
       "\t<tr><th scope=row>noun_F_noun_M</th><td>noun_F - noun_M</td><td>0.12</td><td>$[-0.12$, $0.36]$</td><td>1.22</td><td>.443</td></tr>\n",
       "\t<tr><th scope=row>noun_F_verb_X</th><td>noun_F - verb_X</td><td>0.19</td><td>$[-0.05$, $0.43]$</td><td>1.91</td><td>.141</td></tr>\n",
       "\t<tr><th scope=row>noun_M_verb_X</th><td>noun_M - verb_X</td><td>0.07</td><td>$[-0.17$, $0.31]$</td><td>0.69</td><td>.770</td></tr>\n",
       "</tbody>\n",
       "</table>\n"
      ],
      "text/latex": [
       "A apa\\_results\\_table: 3 × 5\n",
       "\\begin{tabular}{r|lllll}\n",
       "  & contrast & estimate & ci & statistic & p.value\\\\\n",
       "  & <ppj\\_lbll> & <ppj\\_lbll> & <ppj\\_lbll> & <ppj\\_lbll> & <ppj\\_lbll>\\\\\n",
       "\\hline\n",
       "\tnoun\\_F\\_noun\\_M & noun\\_F - noun\\_M & 0.12 & \\${[}-0.12\\$, \\$0.36{]}\\$ & 1.22 & .443\\\\\n",
       "\tnoun\\_F\\_verb\\_X & noun\\_F - verb\\_X & 0.19 & \\${[}-0.05\\$, \\$0.43{]}\\$ & 1.91 & .141\\\\\n",
       "\tnoun\\_M\\_verb\\_X & noun\\_M - verb\\_X & 0.07 & \\${[}-0.17\\$, \\$0.31{]}\\$ & 0.69 & .770\\\\\n",
       "\\end{tabular}\n"
      ],
      "text/markdown": [
       "\n",
       "A apa_results_table: 3 × 5\n",
       "\n",
       "| <!--/--> | contrast &lt;ppj_lbll&gt; | estimate &lt;ppj_lbll&gt; | ci &lt;ppj_lbll&gt; | statistic &lt;ppj_lbll&gt; | p.value &lt;ppj_lbll&gt; |\n",
       "|---|---|---|---|---|---|\n",
       "| noun_F_noun_M | noun_F - noun_M | 0.12 | $[-0.12$, $0.36]$ | 1.22 | .443 |\n",
       "| noun_F_verb_X | noun_F - verb_X | 0.19 | $[-0.05$, $0.43]$ | 1.91 | .141 |\n",
       "| noun_M_verb_X | noun_M - verb_X | 0.07 | $[-0.17$, $0.31]$ | 0.69 | .770 |\n",
       "\n"
      ],
      "text/plain": [
       "              contrast        estimate ci                statistic p.value\n",
       "noun_F_noun_M noun_F - noun_M 0.12     $[-0.12$, $0.36]$ 1.22      .443   \n",
       "noun_F_verb_X noun_F - verb_X 0.19     $[-0.05$, $0.43]$ 1.91      .141   \n",
       "noun_M_verb_X noun_M - verb_X 0.07     $[-0.17$, $0.31]$ 0.69      .770   "
      ]
     },
     "metadata": {},
     "output_type": "display_data"
    }
   ],
   "source": [
    "IDX <- IDX+1; COND <- CONDS[IDX]\n",
    "data1 <- droplevels(subset(df1, eval(parse(text=COND)))); data1 <- data1[complete.cases(data1),]; done1 <- AOV4(data1,COND)\n",
    "display_markdown(str_c(\"# Condition \",IDX,\" of \",length(CONDS))); display_markdown(done1$info); display_markdown(\"### Table\"); done1$aov_APA$table; display_markdown(\"### Result\"); display_markdown(done1$aov_APA[[\"full_result\"]][[\"cond0\"]]); display_markdown(\"### Summary (all done1, incl. NANs)\"); done1$summary; display_markdown(\"### Expected marginal means\"); done1$emm_APA$table; display_markdown(\"### Paired comparisons for expected marginal means\"); done1$pairs_APA$table"
   ]
  },
  {
   "cell_type": "code",
   "execution_count": 71,
   "metadata": {},
   "outputs": [
    {
     "data": {
      "text/markdown": [
       "# Condition 54 of 72"
      ]
     },
     "metadata": {},
     "output_type": "display_data"
    },
    {
     "data": {
      "text/markdown": [
       "`tmin0==0.6 & chan0==\"LC\" & mode0==\"neg\"`"
      ]
     },
     "metadata": {},
     "output_type": "display_data"
    },
    {
     "data": {
      "text/markdown": [
       "### Table"
      ]
     },
     "metadata": {},
     "output_type": "display_data"
    },
    {
     "data": {
      "text/html": [
       "<table>\n",
       "<caption>A apa_results_table: 1 × 7</caption>\n",
       "<thead>\n",
       "\t<tr><th></th><th scope=col>Effect</th><th scope=col>F</th><th scope=col>df1</th><th scope=col>df2</th><th scope=col>MSE</th><th scope=col>p</th><th scope=col>ges</th></tr>\n",
       "\t<tr><th></th><th scope=col>&lt;ppj_lbll&gt;</th><th scope=col>&lt;ppj_lbll&gt;</th><th scope=col>&lt;ppj_lbll&gt;</th><th scope=col>&lt;ppj_lbll&gt;</th><th scope=col>&lt;ppj_lbll&gt;</th><th scope=col>&lt;ppj_lbll&gt;</th><th scope=col>&lt;ppj_lbll&gt;</th></tr>\n",
       "</thead>\n",
       "<tbody>\n",
       "\t<tr><th scope=row>1</th><td>Cond0</td><td>3.48</td><td>1.79</td><td>73.28</td><td>0.32</td><td>.041</td><td>.007</td></tr>\n",
       "</tbody>\n",
       "</table>\n"
      ],
      "text/latex": [
       "A apa\\_results\\_table: 1 × 7\n",
       "\\begin{tabular}{r|lllllll}\n",
       "  & Effect & F & df1 & df2 & MSE & p & ges\\\\\n",
       "  & <ppj\\_lbll> & <ppj\\_lbll> & <ppj\\_lbll> & <ppj\\_lbll> & <ppj\\_lbll> & <ppj\\_lbll> & <ppj\\_lbll>\\\\\n",
       "\\hline\n",
       "\t1 & Cond0 & 3.48 & 1.79 & 73.28 & 0.32 & .041 & .007\\\\\n",
       "\\end{tabular}\n"
      ],
      "text/markdown": [
       "\n",
       "A apa_results_table: 1 × 7\n",
       "\n",
       "| <!--/--> | Effect &lt;ppj_lbll&gt; | F &lt;ppj_lbll&gt; | df1 &lt;ppj_lbll&gt; | df2 &lt;ppj_lbll&gt; | MSE &lt;ppj_lbll&gt; | p &lt;ppj_lbll&gt; | ges &lt;ppj_lbll&gt; |\n",
       "|---|---|---|---|---|---|---|---|\n",
       "| 1 | Cond0 | 3.48 | 1.79 | 73.28 | 0.32 | .041 | .007 |\n",
       "\n"
      ],
      "text/plain": [
       "  Effect F    df1  df2   MSE  p    ges \n",
       "1 Cond0  3.48 1.79 73.28 0.32 .041 .007"
      ]
     },
     "metadata": {},
     "output_type": "display_data"
    },
    {
     "data": {
      "text/markdown": [
       "### Result"
      ]
     },
     "metadata": {},
     "output_type": "display_data"
    },
    {
     "data": {
      "text/markdown": [
       "$F(1.79, 73.28) = 3.48$, $\\mathit{MSE} = 0.32$, $p = .041$, $\\hat{\\eta}^2_G = .007$"
      ]
     },
     "metadata": {},
     "output_type": "display_data"
    },
    {
     "data": {
      "text/markdown": [
       "### Summary (all done1, incl. NANs)"
      ]
     },
     "metadata": {},
     "output_type": "display_data"
    },
    {
     "data": {
      "text/html": [
       "<table>\n",
       "<caption>A tibble: 3 × 5</caption>\n",
       "<thead>\n",
       "\t<tr><th scope=col>cond0</th><th scope=col>N</th><th scope=col>valX_M</th><th scope=col>valX_SD</th><th scope=col>valX_SE</th></tr>\n",
       "\t<tr><th scope=col>&lt;fct&gt;</th><th scope=col>&lt;int&gt;</th><th scope=col>&lt;dbl&gt;</th><th scope=col>&lt;dbl&gt;</th><th scope=col>&lt;dbl&gt;</th></tr>\n",
       "</thead>\n",
       "<tbody>\n",
       "\t<tr><td>noun_F</td><td>42</td><td>-0.6616578</td><td>1.486804</td><td>0.2294189</td></tr>\n",
       "\t<tr><td>noun_M</td><td>42</td><td>-0.7288810</td><td>1.366429</td><td>0.2108446</td></tr>\n",
       "\t<tr><td>verb_X</td><td>42</td><td>-0.4370582</td><td>1.522761</td><td>0.2349672</td></tr>\n",
       "</tbody>\n",
       "</table>\n"
      ],
      "text/latex": [
       "A tibble: 3 × 5\n",
       "\\begin{tabular}{lllll}\n",
       " cond0 & N & valX\\_M & valX\\_SD & valX\\_SE\\\\\n",
       " <fct> & <int> & <dbl> & <dbl> & <dbl>\\\\\n",
       "\\hline\n",
       "\t noun\\_F & 42 & -0.6616578 & 1.486804 & 0.2294189\\\\\n",
       "\t noun\\_M & 42 & -0.7288810 & 1.366429 & 0.2108446\\\\\n",
       "\t verb\\_X & 42 & -0.4370582 & 1.522761 & 0.2349672\\\\\n",
       "\\end{tabular}\n"
      ],
      "text/markdown": [
       "\n",
       "A tibble: 3 × 5\n",
       "\n",
       "| cond0 &lt;fct&gt; | N &lt;int&gt; | valX_M &lt;dbl&gt; | valX_SD &lt;dbl&gt; | valX_SE &lt;dbl&gt; |\n",
       "|---|---|---|---|---|\n",
       "| noun_F | 42 | -0.6616578 | 1.486804 | 0.2294189 |\n",
       "| noun_M | 42 | -0.7288810 | 1.366429 | 0.2108446 |\n",
       "| verb_X | 42 | -0.4370582 | 1.522761 | 0.2349672 |\n",
       "\n"
      ],
      "text/plain": [
       "  cond0  N  valX_M     valX_SD  valX_SE  \n",
       "1 noun_F 42 -0.6616578 1.486804 0.2294189\n",
       "2 noun_M 42 -0.7288810 1.366429 0.2108446\n",
       "3 verb_X 42 -0.4370582 1.522761 0.2349672"
      ]
     },
     "metadata": {},
     "output_type": "display_data"
    },
    {
     "data": {
      "text/markdown": [
       "### Expected marginal means"
      ]
     },
     "metadata": {},
     "output_type": "display_data"
    },
    {
     "data": {
      "text/html": [
       "<table>\n",
       "<caption>A apa_results_table: 3 × 5</caption>\n",
       "<thead>\n",
       "\t<tr><th></th><th scope=col>cond0</th><th scope=col>estimate</th><th scope=col>ci</th><th scope=col>statistic</th><th scope=col>p.value</th></tr>\n",
       "\t<tr><th></th><th scope=col>&lt;chr&gt;</th><th scope=col>&lt;ppj_lbll&gt;</th><th scope=col>&lt;ppj_lbll&gt;</th><th scope=col>&lt;ppj_lbll&gt;</th><th scope=col>&lt;ppj_lbll&gt;</th></tr>\n",
       "</thead>\n",
       "<tbody>\n",
       "\t<tr><th scope=row>noun_F</th><td>noun_F</td><td>-0.66</td><td>$[-1.11$, $-0.21]$</td><td>-2.94</td><td>.005</td></tr>\n",
       "\t<tr><th scope=row>noun_M</th><td>noun_M</td><td>-0.73</td><td>$[-1.18$, $-0.28]$</td><td>-3.23</td><td>.002</td></tr>\n",
       "\t<tr><th scope=row>verb_X</th><td>verb_X</td><td>-0.44</td><td>$[-0.89$, $0.02]$ </td><td>-1.94</td><td>.058</td></tr>\n",
       "</tbody>\n",
       "</table>\n"
      ],
      "text/latex": [
       "A apa\\_results\\_table: 3 × 5\n",
       "\\begin{tabular}{r|lllll}\n",
       "  & cond0 & estimate & ci & statistic & p.value\\\\\n",
       "  & <chr> & <ppj\\_lbll> & <ppj\\_lbll> & <ppj\\_lbll> & <ppj\\_lbll>\\\\\n",
       "\\hline\n",
       "\tnoun\\_F & noun\\_F & -0.66 & \\${[}-1.11\\$, \\$-0.21{]}\\$ & -2.94 & .005\\\\\n",
       "\tnoun\\_M & noun\\_M & -0.73 & \\${[}-1.18\\$, \\$-0.28{]}\\$ & -3.23 & .002\\\\\n",
       "\tverb\\_X & verb\\_X & -0.44 & \\${[}-0.89\\$, \\$0.02{]}\\$  & -1.94 & .058\\\\\n",
       "\\end{tabular}\n"
      ],
      "text/markdown": [
       "\n",
       "A apa_results_table: 3 × 5\n",
       "\n",
       "| <!--/--> | cond0 &lt;chr&gt; | estimate &lt;ppj_lbll&gt; | ci &lt;ppj_lbll&gt; | statistic &lt;ppj_lbll&gt; | p.value &lt;ppj_lbll&gt; |\n",
       "|---|---|---|---|---|---|\n",
       "| noun_F | noun_F | -0.66 | $[-1.11$, $-0.21]$ | -2.94 | .005 |\n",
       "| noun_M | noun_M | -0.73 | $[-1.18$, $-0.28]$ | -3.23 | .002 |\n",
       "| verb_X | verb_X | -0.44 | $[-0.89$, $0.02]$  | -1.94 | .058 |\n",
       "\n"
      ],
      "text/plain": [
       "       cond0  estimate ci                 statistic p.value\n",
       "noun_F noun_F -0.66    $[-1.11$, $-0.21]$ -2.94     .005   \n",
       "noun_M noun_M -0.73    $[-1.18$, $-0.28]$ -3.23     .002   \n",
       "verb_X verb_X -0.44    $[-0.89$, $0.02]$  -1.94     .058   "
      ]
     },
     "metadata": {},
     "output_type": "display_data"
    },
    {
     "data": {
      "text/markdown": [
       "### Paired comparisons for expected marginal means"
      ]
     },
     "metadata": {},
     "output_type": "display_data"
    },
    {
     "data": {
      "text/html": [
       "<table>\n",
       "<caption>A apa_results_table: 3 × 5</caption>\n",
       "<thead>\n",
       "\t<tr><th></th><th scope=col>contrast</th><th scope=col>estimate</th><th scope=col>ci</th><th scope=col>statistic</th><th scope=col>p.value</th></tr>\n",
       "\t<tr><th></th><th scope=col>&lt;ppj_lbll&gt;</th><th scope=col>&lt;ppj_lbll&gt;</th><th scope=col>&lt;ppj_lbll&gt;</th><th scope=col>&lt;ppj_lbll&gt;</th><th scope=col>&lt;ppj_lbll&gt;</th></tr>\n",
       "</thead>\n",
       "<tbody>\n",
       "\t<tr><th scope=row>noun_F_noun_M</th><td>noun_F - noun_M</td><td>0.07 </td><td>$[-0.21$, $0.34]$ </td><td>0.58 </td><td>.831</td></tr>\n",
       "\t<tr><th scope=row>noun_F_verb_X</th><td>noun_F - verb_X</td><td>-0.22</td><td>$[-0.50$, $0.05]$ </td><td>-1.94</td><td>.135</td></tr>\n",
       "\t<tr><th scope=row>noun_M_verb_X</th><td>noun_M - verb_X</td><td>-0.29</td><td>$[-0.57$, $-0.02]$</td><td>-2.52</td><td>.036</td></tr>\n",
       "</tbody>\n",
       "</table>\n"
      ],
      "text/latex": [
       "A apa\\_results\\_table: 3 × 5\n",
       "\\begin{tabular}{r|lllll}\n",
       "  & contrast & estimate & ci & statistic & p.value\\\\\n",
       "  & <ppj\\_lbll> & <ppj\\_lbll> & <ppj\\_lbll> & <ppj\\_lbll> & <ppj\\_lbll>\\\\\n",
       "\\hline\n",
       "\tnoun\\_F\\_noun\\_M & noun\\_F - noun\\_M & 0.07  & \\${[}-0.21\\$, \\$0.34{]}\\$  & 0.58  & .831\\\\\n",
       "\tnoun\\_F\\_verb\\_X & noun\\_F - verb\\_X & -0.22 & \\${[}-0.50\\$, \\$0.05{]}\\$  & -1.94 & .135\\\\\n",
       "\tnoun\\_M\\_verb\\_X & noun\\_M - verb\\_X & -0.29 & \\${[}-0.57\\$, \\$-0.02{]}\\$ & -2.52 & .036\\\\\n",
       "\\end{tabular}\n"
      ],
      "text/markdown": [
       "\n",
       "A apa_results_table: 3 × 5\n",
       "\n",
       "| <!--/--> | contrast &lt;ppj_lbll&gt; | estimate &lt;ppj_lbll&gt; | ci &lt;ppj_lbll&gt; | statistic &lt;ppj_lbll&gt; | p.value &lt;ppj_lbll&gt; |\n",
       "|---|---|---|---|---|---|\n",
       "| noun_F_noun_M | noun_F - noun_M | 0.07  | $[-0.21$, $0.34]$  | 0.58  | .831 |\n",
       "| noun_F_verb_X | noun_F - verb_X | -0.22 | $[-0.50$, $0.05]$  | -1.94 | .135 |\n",
       "| noun_M_verb_X | noun_M - verb_X | -0.29 | $[-0.57$, $-0.02]$ | -2.52 | .036 |\n",
       "\n"
      ],
      "text/plain": [
       "              contrast        estimate ci                 statistic p.value\n",
       "noun_F_noun_M noun_F - noun_M 0.07     $[-0.21$, $0.34]$  0.58      .831   \n",
       "noun_F_verb_X noun_F - verb_X -0.22    $[-0.50$, $0.05]$  -1.94     .135   \n",
       "noun_M_verb_X noun_M - verb_X -0.29    $[-0.57$, $-0.02]$ -2.52     .036   "
      ]
     },
     "metadata": {},
     "output_type": "display_data"
    }
   ],
   "source": [
    "IDX <- IDX+1; COND <- CONDS[IDX]\n",
    "data1 <- droplevels(subset(df1, eval(parse(text=COND)))); data1 <- data1[complete.cases(data1),]; done1 <- AOV4(data1,COND)\n",
    "display_markdown(str_c(\"# Condition \",IDX,\" of \",length(CONDS))); display_markdown(done1$info); display_markdown(\"### Table\"); done1$aov_APA$table; display_markdown(\"### Result\"); display_markdown(done1$aov_APA[[\"full_result\"]][[\"cond0\"]]); display_markdown(\"### Summary (all done1, incl. NANs)\"); done1$summary; display_markdown(\"### Expected marginal means\"); done1$emm_APA$table; display_markdown(\"### Paired comparisons for expected marginal means\"); done1$pairs_APA$table"
   ]
  },
  {
   "cell_type": "code",
   "execution_count": 72,
   "metadata": {},
   "outputs": [
    {
     "data": {
      "text/markdown": [
       "# Condition 55 of 72"
      ]
     },
     "metadata": {},
     "output_type": "display_data"
    },
    {
     "data": {
      "text/markdown": [
       "`tmin0==0.6 & chan0==\"RC\" & mode0==\"pos\"`"
      ]
     },
     "metadata": {},
     "output_type": "display_data"
    },
    {
     "data": {
      "text/markdown": [
       "### Table"
      ]
     },
     "metadata": {},
     "output_type": "display_data"
    },
    {
     "data": {
      "text/html": [
       "<table>\n",
       "<caption>A apa_results_table: 1 × 7</caption>\n",
       "<thead>\n",
       "\t<tr><th></th><th scope=col>Effect</th><th scope=col>F</th><th scope=col>df1</th><th scope=col>df2</th><th scope=col>MSE</th><th scope=col>p</th><th scope=col>ges</th></tr>\n",
       "\t<tr><th></th><th scope=col>&lt;ppj_lbll&gt;</th><th scope=col>&lt;ppj_lbll&gt;</th><th scope=col>&lt;ppj_lbll&gt;</th><th scope=col>&lt;ppj_lbll&gt;</th><th scope=col>&lt;ppj_lbll&gt;</th><th scope=col>&lt;ppj_lbll&gt;</th><th scope=col>&lt;ppj_lbll&gt;</th></tr>\n",
       "</thead>\n",
       "<tbody>\n",
       "\t<tr><th scope=row>1</th><td>Cond0</td><td>2.98</td><td>1.84</td><td>75.52</td><td>0.37</td><td>.061</td><td>.010</td></tr>\n",
       "</tbody>\n",
       "</table>\n"
      ],
      "text/latex": [
       "A apa\\_results\\_table: 1 × 7\n",
       "\\begin{tabular}{r|lllllll}\n",
       "  & Effect & F & df1 & df2 & MSE & p & ges\\\\\n",
       "  & <ppj\\_lbll> & <ppj\\_lbll> & <ppj\\_lbll> & <ppj\\_lbll> & <ppj\\_lbll> & <ppj\\_lbll> & <ppj\\_lbll>\\\\\n",
       "\\hline\n",
       "\t1 & Cond0 & 2.98 & 1.84 & 75.52 & 0.37 & .061 & .010\\\\\n",
       "\\end{tabular}\n"
      ],
      "text/markdown": [
       "\n",
       "A apa_results_table: 1 × 7\n",
       "\n",
       "| <!--/--> | Effect &lt;ppj_lbll&gt; | F &lt;ppj_lbll&gt; | df1 &lt;ppj_lbll&gt; | df2 &lt;ppj_lbll&gt; | MSE &lt;ppj_lbll&gt; | p &lt;ppj_lbll&gt; | ges &lt;ppj_lbll&gt; |\n",
       "|---|---|---|---|---|---|---|---|\n",
       "| 1 | Cond0 | 2.98 | 1.84 | 75.52 | 0.37 | .061 | .010 |\n",
       "\n"
      ],
      "text/plain": [
       "  Effect F    df1  df2   MSE  p    ges \n",
       "1 Cond0  2.98 1.84 75.52 0.37 .061 .010"
      ]
     },
     "metadata": {},
     "output_type": "display_data"
    },
    {
     "data": {
      "text/markdown": [
       "### Result"
      ]
     },
     "metadata": {},
     "output_type": "display_data"
    },
    {
     "data": {
      "text/markdown": [
       "$F(1.84, 75.52) = 2.98$, $\\mathit{MSE} = 0.37$, $p = .061$, $\\hat{\\eta}^2_G = .010$"
      ]
     },
     "metadata": {},
     "output_type": "display_data"
    },
    {
     "data": {
      "text/markdown": [
       "### Summary (all done1, incl. NANs)"
      ]
     },
     "metadata": {},
     "output_type": "display_data"
    },
    {
     "data": {
      "text/html": [
       "<table>\n",
       "<caption>A tibble: 3 × 5</caption>\n",
       "<thead>\n",
       "\t<tr><th scope=col>cond0</th><th scope=col>N</th><th scope=col>valX_M</th><th scope=col>valX_SD</th><th scope=col>valX_SE</th></tr>\n",
       "\t<tr><th scope=col>&lt;fct&gt;</th><th scope=col>&lt;int&gt;</th><th scope=col>&lt;dbl&gt;</th><th scope=col>&lt;dbl&gt;</th><th scope=col>&lt;dbl&gt;</th></tr>\n",
       "</thead>\n",
       "<tbody>\n",
       "\t<tr><td>noun_F</td><td>42</td><td>2.268632</td><td>1.279591</td><td>0.1974452</td></tr>\n",
       "\t<tr><td>noun_M</td><td>42</td><td>1.957888</td><td>1.315877</td><td>0.2030443</td></tr>\n",
       "\t<tr><td>verb_X</td><td>42</td><td>2.143979</td><td>1.355660</td><td>0.2091829</td></tr>\n",
       "</tbody>\n",
       "</table>\n"
      ],
      "text/latex": [
       "A tibble: 3 × 5\n",
       "\\begin{tabular}{lllll}\n",
       " cond0 & N & valX\\_M & valX\\_SD & valX\\_SE\\\\\n",
       " <fct> & <int> & <dbl> & <dbl> & <dbl>\\\\\n",
       "\\hline\n",
       "\t noun\\_F & 42 & 2.268632 & 1.279591 & 0.1974452\\\\\n",
       "\t noun\\_M & 42 & 1.957888 & 1.315877 & 0.2030443\\\\\n",
       "\t verb\\_X & 42 & 2.143979 & 1.355660 & 0.2091829\\\\\n",
       "\\end{tabular}\n"
      ],
      "text/markdown": [
       "\n",
       "A tibble: 3 × 5\n",
       "\n",
       "| cond0 &lt;fct&gt; | N &lt;int&gt; | valX_M &lt;dbl&gt; | valX_SD &lt;dbl&gt; | valX_SE &lt;dbl&gt; |\n",
       "|---|---|---|---|---|\n",
       "| noun_F | 42 | 2.268632 | 1.279591 | 0.1974452 |\n",
       "| noun_M | 42 | 1.957888 | 1.315877 | 0.2030443 |\n",
       "| verb_X | 42 | 2.143979 | 1.355660 | 0.2091829 |\n",
       "\n"
      ],
      "text/plain": [
       "  cond0  N  valX_M   valX_SD  valX_SE  \n",
       "1 noun_F 42 2.268632 1.279591 0.1974452\n",
       "2 noun_M 42 1.957888 1.315877 0.2030443\n",
       "3 verb_X 42 2.143979 1.355660 0.2091829"
      ]
     },
     "metadata": {},
     "output_type": "display_data"
    },
    {
     "data": {
      "text/markdown": [
       "### Expected marginal means"
      ]
     },
     "metadata": {},
     "output_type": "display_data"
    },
    {
     "data": {
      "text/html": [
       "<table>\n",
       "<caption>A apa_results_table: 3 × 5</caption>\n",
       "<thead>\n",
       "\t<tr><th></th><th scope=col>cond0</th><th scope=col>estimate</th><th scope=col>ci</th><th scope=col>statistic</th><th scope=col>p.value</th></tr>\n",
       "\t<tr><th></th><th scope=col>&lt;chr&gt;</th><th scope=col>&lt;ppj_lbll&gt;</th><th scope=col>&lt;ppj_lbll&gt;</th><th scope=col>&lt;ppj_lbll&gt;</th><th scope=col>&lt;ppj_lbll&gt;</th></tr>\n",
       "</thead>\n",
       "<tbody>\n",
       "\t<tr><th scope=row>noun_F</th><td>noun_F</td><td>2.27</td><td>$[1.86$, $2.68]$</td><td>11.16</td><td>&lt; .001</td></tr>\n",
       "\t<tr><th scope=row>noun_M</th><td>noun_M</td><td>1.96</td><td>$[1.55$, $2.37]$</td><td>9.63 </td><td>&lt; .001</td></tr>\n",
       "\t<tr><th scope=row>verb_X</th><td>verb_X</td><td>2.14</td><td>$[1.74$, $2.55]$</td><td>10.55</td><td>&lt; .001</td></tr>\n",
       "</tbody>\n",
       "</table>\n"
      ],
      "text/latex": [
       "A apa\\_results\\_table: 3 × 5\n",
       "\\begin{tabular}{r|lllll}\n",
       "  & cond0 & estimate & ci & statistic & p.value\\\\\n",
       "  & <chr> & <ppj\\_lbll> & <ppj\\_lbll> & <ppj\\_lbll> & <ppj\\_lbll>\\\\\n",
       "\\hline\n",
       "\tnoun\\_F & noun\\_F & 2.27 & \\${[}1.86\\$, \\$2.68{]}\\$ & 11.16 & < .001\\\\\n",
       "\tnoun\\_M & noun\\_M & 1.96 & \\${[}1.55\\$, \\$2.37{]}\\$ & 9.63  & < .001\\\\\n",
       "\tverb\\_X & verb\\_X & 2.14 & \\${[}1.74\\$, \\$2.55{]}\\$ & 10.55 & < .001\\\\\n",
       "\\end{tabular}\n"
      ],
      "text/markdown": [
       "\n",
       "A apa_results_table: 3 × 5\n",
       "\n",
       "| <!--/--> | cond0 &lt;chr&gt; | estimate &lt;ppj_lbll&gt; | ci &lt;ppj_lbll&gt; | statistic &lt;ppj_lbll&gt; | p.value &lt;ppj_lbll&gt; |\n",
       "|---|---|---|---|---|---|\n",
       "| noun_F | noun_F | 2.27 | $[1.86$, $2.68]$ | 11.16 | &lt; .001 |\n",
       "| noun_M | noun_M | 1.96 | $[1.55$, $2.37]$ | 9.63  | &lt; .001 |\n",
       "| verb_X | verb_X | 2.14 | $[1.74$, $2.55]$ | 10.55 | &lt; .001 |\n",
       "\n"
      ],
      "text/plain": [
       "       cond0  estimate ci               statistic p.value\n",
       "noun_F noun_F 2.27     $[1.86$, $2.68]$ 11.16     < .001 \n",
       "noun_M noun_M 1.96     $[1.55$, $2.37]$ 9.63      < .001 \n",
       "verb_X verb_X 2.14     $[1.74$, $2.55]$ 10.55     < .001 "
      ]
     },
     "metadata": {},
     "output_type": "display_data"
    },
    {
     "data": {
      "text/markdown": [
       "### Paired comparisons for expected marginal means"
      ]
     },
     "metadata": {},
     "output_type": "display_data"
    },
    {
     "data": {
      "text/html": [
       "<table>\n",
       "<caption>A apa_results_table: 3 × 5</caption>\n",
       "<thead>\n",
       "\t<tr><th></th><th scope=col>contrast</th><th scope=col>estimate</th><th scope=col>ci</th><th scope=col>statistic</th><th scope=col>p.value</th></tr>\n",
       "\t<tr><th></th><th scope=col>&lt;ppj_lbll&gt;</th><th scope=col>&lt;ppj_lbll&gt;</th><th scope=col>&lt;ppj_lbll&gt;</th><th scope=col>&lt;ppj_lbll&gt;</th><th scope=col>&lt;ppj_lbll&gt;</th></tr>\n",
       "</thead>\n",
       "<tbody>\n",
       "\t<tr><th scope=row>noun_F_noun_M</th><td>noun_F - noun_M</td><td>0.31 </td><td>$[0.01$, $0.62]$ </td><td>2.43 </td><td>.045</td></tr>\n",
       "\t<tr><th scope=row>noun_F_verb_X</th><td>noun_F - verb_X</td><td>0.12 </td><td>$[-0.18$, $0.43]$</td><td>0.97 </td><td>.595</td></tr>\n",
       "\t<tr><th scope=row>noun_M_verb_X</th><td>noun_M - verb_X</td><td>-0.19</td><td>$[-0.49$, $0.12]$</td><td>-1.45</td><td>.319</td></tr>\n",
       "</tbody>\n",
       "</table>\n"
      ],
      "text/latex": [
       "A apa\\_results\\_table: 3 × 5\n",
       "\\begin{tabular}{r|lllll}\n",
       "  & contrast & estimate & ci & statistic & p.value\\\\\n",
       "  & <ppj\\_lbll> & <ppj\\_lbll> & <ppj\\_lbll> & <ppj\\_lbll> & <ppj\\_lbll>\\\\\n",
       "\\hline\n",
       "\tnoun\\_F\\_noun\\_M & noun\\_F - noun\\_M & 0.31  & \\${[}0.01\\$, \\$0.62{]}\\$  & 2.43  & .045\\\\\n",
       "\tnoun\\_F\\_verb\\_X & noun\\_F - verb\\_X & 0.12  & \\${[}-0.18\\$, \\$0.43{]}\\$ & 0.97  & .595\\\\\n",
       "\tnoun\\_M\\_verb\\_X & noun\\_M - verb\\_X & -0.19 & \\${[}-0.49\\$, \\$0.12{]}\\$ & -1.45 & .319\\\\\n",
       "\\end{tabular}\n"
      ],
      "text/markdown": [
       "\n",
       "A apa_results_table: 3 × 5\n",
       "\n",
       "| <!--/--> | contrast &lt;ppj_lbll&gt; | estimate &lt;ppj_lbll&gt; | ci &lt;ppj_lbll&gt; | statistic &lt;ppj_lbll&gt; | p.value &lt;ppj_lbll&gt; |\n",
       "|---|---|---|---|---|---|\n",
       "| noun_F_noun_M | noun_F - noun_M | 0.31  | $[0.01$, $0.62]$  | 2.43  | .045 |\n",
       "| noun_F_verb_X | noun_F - verb_X | 0.12  | $[-0.18$, $0.43]$ | 0.97  | .595 |\n",
       "| noun_M_verb_X | noun_M - verb_X | -0.19 | $[-0.49$, $0.12]$ | -1.45 | .319 |\n",
       "\n"
      ],
      "text/plain": [
       "              contrast        estimate ci                statistic p.value\n",
       "noun_F_noun_M noun_F - noun_M 0.31     $[0.01$, $0.62]$  2.43      .045   \n",
       "noun_F_verb_X noun_F - verb_X 0.12     $[-0.18$, $0.43]$ 0.97      .595   \n",
       "noun_M_verb_X noun_M - verb_X -0.19    $[-0.49$, $0.12]$ -1.45     .319   "
      ]
     },
     "metadata": {},
     "output_type": "display_data"
    }
   ],
   "source": [
    "IDX <- IDX+1; COND <- CONDS[IDX]\n",
    "data1 <- droplevels(subset(df1, eval(parse(text=COND)))); data1 <- data1[complete.cases(data1),]; done1 <- AOV4(data1,COND)\n",
    "display_markdown(str_c(\"# Condition \",IDX,\" of \",length(CONDS))); display_markdown(done1$info); display_markdown(\"### Table\"); done1$aov_APA$table; display_markdown(\"### Result\"); display_markdown(done1$aov_APA[[\"full_result\"]][[\"cond0\"]]); display_markdown(\"### Summary (all done1, incl. NANs)\"); done1$summary; display_markdown(\"### Expected marginal means\"); done1$emm_APA$table; display_markdown(\"### Paired comparisons for expected marginal means\"); done1$pairs_APA$table"
   ]
  },
  {
   "cell_type": "code",
   "execution_count": 73,
   "metadata": {},
   "outputs": [
    {
     "data": {
      "text/markdown": [
       "# Condition 56 of 72"
      ]
     },
     "metadata": {},
     "output_type": "display_data"
    },
    {
     "data": {
      "text/markdown": [
       "`tmin0==0.6 & chan0==\"RC\" & mode0==\"neg\"`"
      ]
     },
     "metadata": {},
     "output_type": "display_data"
    },
    {
     "data": {
      "text/markdown": [
       "### Table"
      ]
     },
     "metadata": {},
     "output_type": "display_data"
    },
    {
     "data": {
      "text/html": [
       "<table>\n",
       "<caption>A apa_results_table: 1 × 7</caption>\n",
       "<thead>\n",
       "\t<tr><th></th><th scope=col>Effect</th><th scope=col>F</th><th scope=col>df1</th><th scope=col>df2</th><th scope=col>MSE</th><th scope=col>p</th><th scope=col>ges</th></tr>\n",
       "\t<tr><th></th><th scope=col>&lt;ppj_lbll&gt;</th><th scope=col>&lt;ppj_lbll&gt;</th><th scope=col>&lt;ppj_lbll&gt;</th><th scope=col>&lt;ppj_lbll&gt;</th><th scope=col>&lt;ppj_lbll&gt;</th><th scope=col>&lt;ppj_lbll&gt;</th><th scope=col>&lt;ppj_lbll&gt;</th></tr>\n",
       "</thead>\n",
       "<tbody>\n",
       "\t<tr><th scope=row>1</th><td>Cond0</td><td>9.63</td><td>1.66</td><td>68.24</td><td>0.44</td><td>&lt; .001</td><td>.025</td></tr>\n",
       "</tbody>\n",
       "</table>\n"
      ],
      "text/latex": [
       "A apa\\_results\\_table: 1 × 7\n",
       "\\begin{tabular}{r|lllllll}\n",
       "  & Effect & F & df1 & df2 & MSE & p & ges\\\\\n",
       "  & <ppj\\_lbll> & <ppj\\_lbll> & <ppj\\_lbll> & <ppj\\_lbll> & <ppj\\_lbll> & <ppj\\_lbll> & <ppj\\_lbll>\\\\\n",
       "\\hline\n",
       "\t1 & Cond0 & 9.63 & 1.66 & 68.24 & 0.44 & < .001 & .025\\\\\n",
       "\\end{tabular}\n"
      ],
      "text/markdown": [
       "\n",
       "A apa_results_table: 1 × 7\n",
       "\n",
       "| <!--/--> | Effect &lt;ppj_lbll&gt; | F &lt;ppj_lbll&gt; | df1 &lt;ppj_lbll&gt; | df2 &lt;ppj_lbll&gt; | MSE &lt;ppj_lbll&gt; | p &lt;ppj_lbll&gt; | ges &lt;ppj_lbll&gt; |\n",
       "|---|---|---|---|---|---|---|---|\n",
       "| 1 | Cond0 | 9.63 | 1.66 | 68.24 | 0.44 | &lt; .001 | .025 |\n",
       "\n"
      ],
      "text/plain": [
       "  Effect F    df1  df2   MSE  p      ges \n",
       "1 Cond0  9.63 1.66 68.24 0.44 < .001 .025"
      ]
     },
     "metadata": {},
     "output_type": "display_data"
    },
    {
     "data": {
      "text/markdown": [
       "### Result"
      ]
     },
     "metadata": {},
     "output_type": "display_data"
    },
    {
     "data": {
      "text/markdown": [
       "$F(1.66, 68.24) = 9.63$, $\\mathit{MSE} = 0.44$, $p < .001$, $\\hat{\\eta}^2_G = .025$"
      ]
     },
     "metadata": {},
     "output_type": "display_data"
    },
    {
     "data": {
      "text/markdown": [
       "### Summary (all done1, incl. NANs)"
      ]
     },
     "metadata": {},
     "output_type": "display_data"
    },
    {
     "data": {
      "text/html": [
       "<table>\n",
       "<caption>A tibble: 3 × 5</caption>\n",
       "<thead>\n",
       "\t<tr><th scope=col>cond0</th><th scope=col>N</th><th scope=col>valX_M</th><th scope=col>valX_SD</th><th scope=col>valX_SE</th></tr>\n",
       "\t<tr><th scope=col>&lt;fct&gt;</th><th scope=col>&lt;int&gt;</th><th scope=col>&lt;dbl&gt;</th><th scope=col>&lt;dbl&gt;</th><th scope=col>&lt;dbl&gt;</th></tr>\n",
       "</thead>\n",
       "<tbody>\n",
       "\t<tr><td>noun_F</td><td>42</td><td>0.5139280</td><td>1.528124</td><td>0.2357947</td></tr>\n",
       "\t<tr><td>noun_M</td><td>42</td><td>0.2874146</td><td>1.429243</td><td>0.2205369</td></tr>\n",
       "\t<tr><td>verb_X</td><td>42</td><td>0.8610185</td><td>1.486238</td><td>0.2293315</td></tr>\n",
       "</tbody>\n",
       "</table>\n"
      ],
      "text/latex": [
       "A tibble: 3 × 5\n",
       "\\begin{tabular}{lllll}\n",
       " cond0 & N & valX\\_M & valX\\_SD & valX\\_SE\\\\\n",
       " <fct> & <int> & <dbl> & <dbl> & <dbl>\\\\\n",
       "\\hline\n",
       "\t noun\\_F & 42 & 0.5139280 & 1.528124 & 0.2357947\\\\\n",
       "\t noun\\_M & 42 & 0.2874146 & 1.429243 & 0.2205369\\\\\n",
       "\t verb\\_X & 42 & 0.8610185 & 1.486238 & 0.2293315\\\\\n",
       "\\end{tabular}\n"
      ],
      "text/markdown": [
       "\n",
       "A tibble: 3 × 5\n",
       "\n",
       "| cond0 &lt;fct&gt; | N &lt;int&gt; | valX_M &lt;dbl&gt; | valX_SD &lt;dbl&gt; | valX_SE &lt;dbl&gt; |\n",
       "|---|---|---|---|---|\n",
       "| noun_F | 42 | 0.5139280 | 1.528124 | 0.2357947 |\n",
       "| noun_M | 42 | 0.2874146 | 1.429243 | 0.2205369 |\n",
       "| verb_X | 42 | 0.8610185 | 1.486238 | 0.2293315 |\n",
       "\n"
      ],
      "text/plain": [
       "  cond0  N  valX_M    valX_SD  valX_SE  \n",
       "1 noun_F 42 0.5139280 1.528124 0.2357947\n",
       "2 noun_M 42 0.2874146 1.429243 0.2205369\n",
       "3 verb_X 42 0.8610185 1.486238 0.2293315"
      ]
     },
     "metadata": {},
     "output_type": "display_data"
    },
    {
     "data": {
      "text/markdown": [
       "### Expected marginal means"
      ]
     },
     "metadata": {},
     "output_type": "display_data"
    },
    {
     "data": {
      "text/html": [
       "<table>\n",
       "<caption>A apa_results_table: 3 × 5</caption>\n",
       "<thead>\n",
       "\t<tr><th></th><th scope=col>cond0</th><th scope=col>estimate</th><th scope=col>ci</th><th scope=col>statistic</th><th scope=col>p.value</th></tr>\n",
       "\t<tr><th></th><th scope=col>&lt;chr&gt;</th><th scope=col>&lt;ppj_lbll&gt;</th><th scope=col>&lt;ppj_lbll&gt;</th><th scope=col>&lt;ppj_lbll&gt;</th><th scope=col>&lt;ppj_lbll&gt;</th></tr>\n",
       "</thead>\n",
       "<tbody>\n",
       "\t<tr><th scope=row>noun_F</th><td>noun_F</td><td>0.51</td><td>$[0.06$, $0.97]$ </td><td>2.25</td><td>.029  </td></tr>\n",
       "\t<tr><th scope=row>noun_M</th><td>noun_M</td><td>0.29</td><td>$[-0.17$, $0.75]$</td><td>1.26</td><td>.214  </td></tr>\n",
       "\t<tr><th scope=row>verb_X</th><td>verb_X</td><td>0.86</td><td>$[0.40$, $1.32]$ </td><td>3.77</td><td>&lt; .001</td></tr>\n",
       "</tbody>\n",
       "</table>\n"
      ],
      "text/latex": [
       "A apa\\_results\\_table: 3 × 5\n",
       "\\begin{tabular}{r|lllll}\n",
       "  & cond0 & estimate & ci & statistic & p.value\\\\\n",
       "  & <chr> & <ppj\\_lbll> & <ppj\\_lbll> & <ppj\\_lbll> & <ppj\\_lbll>\\\\\n",
       "\\hline\n",
       "\tnoun\\_F & noun\\_F & 0.51 & \\${[}0.06\\$, \\$0.97{]}\\$  & 2.25 & .029  \\\\\n",
       "\tnoun\\_M & noun\\_M & 0.29 & \\${[}-0.17\\$, \\$0.75{]}\\$ & 1.26 & .214  \\\\\n",
       "\tverb\\_X & verb\\_X & 0.86 & \\${[}0.40\\$, \\$1.32{]}\\$  & 3.77 & < .001\\\\\n",
       "\\end{tabular}\n"
      ],
      "text/markdown": [
       "\n",
       "A apa_results_table: 3 × 5\n",
       "\n",
       "| <!--/--> | cond0 &lt;chr&gt; | estimate &lt;ppj_lbll&gt; | ci &lt;ppj_lbll&gt; | statistic &lt;ppj_lbll&gt; | p.value &lt;ppj_lbll&gt; |\n",
       "|---|---|---|---|---|---|\n",
       "| noun_F | noun_F | 0.51 | $[0.06$, $0.97]$  | 2.25 | .029   |\n",
       "| noun_M | noun_M | 0.29 | $[-0.17$, $0.75]$ | 1.26 | .214   |\n",
       "| verb_X | verb_X | 0.86 | $[0.40$, $1.32]$  | 3.77 | &lt; .001 |\n",
       "\n"
      ],
      "text/plain": [
       "       cond0  estimate ci                statistic p.value\n",
       "noun_F noun_F 0.51     $[0.06$, $0.97]$  2.25      .029   \n",
       "noun_M noun_M 0.29     $[-0.17$, $0.75]$ 1.26      .214   \n",
       "verb_X verb_X 0.86     $[0.40$, $1.32]$  3.77      < .001 "
      ]
     },
     "metadata": {},
     "output_type": "display_data"
    },
    {
     "data": {
      "text/markdown": [
       "### Paired comparisons for expected marginal means"
      ]
     },
     "metadata": {},
     "output_type": "display_data"
    },
    {
     "data": {
      "text/html": [
       "<table>\n",
       "<caption>A apa_results_table: 3 × 5</caption>\n",
       "<thead>\n",
       "\t<tr><th></th><th scope=col>contrast</th><th scope=col>estimate</th><th scope=col>ci</th><th scope=col>statistic</th><th scope=col>p.value</th></tr>\n",
       "\t<tr><th></th><th scope=col>&lt;ppj_lbll&gt;</th><th scope=col>&lt;ppj_lbll&gt;</th><th scope=col>&lt;ppj_lbll&gt;</th><th scope=col>&lt;ppj_lbll&gt;</th><th scope=col>&lt;ppj_lbll&gt;</th></tr>\n",
       "</thead>\n",
       "<tbody>\n",
       "\t<tr><th scope=row>noun_F_noun_M</th><td>noun_F - noun_M</td><td>0.23 </td><td>$[-0.09$, $0.54]$ </td><td>1.72 </td><td>.204  </td></tr>\n",
       "\t<tr><th scope=row>noun_F_verb_X</th><td>noun_F - verb_X</td><td>-0.35</td><td>$[-0.66$, $-0.03]$</td><td>-2.64</td><td>.027  </td></tr>\n",
       "\t<tr><th scope=row>noun_M_verb_X</th><td>noun_M - verb_X</td><td>-0.57</td><td>$[-0.89$, $-0.26]$</td><td>-4.36</td><td>&lt; .001</td></tr>\n",
       "</tbody>\n",
       "</table>\n"
      ],
      "text/latex": [
       "A apa\\_results\\_table: 3 × 5\n",
       "\\begin{tabular}{r|lllll}\n",
       "  & contrast & estimate & ci & statistic & p.value\\\\\n",
       "  & <ppj\\_lbll> & <ppj\\_lbll> & <ppj\\_lbll> & <ppj\\_lbll> & <ppj\\_lbll>\\\\\n",
       "\\hline\n",
       "\tnoun\\_F\\_noun\\_M & noun\\_F - noun\\_M & 0.23  & \\${[}-0.09\\$, \\$0.54{]}\\$  & 1.72  & .204  \\\\\n",
       "\tnoun\\_F\\_verb\\_X & noun\\_F - verb\\_X & -0.35 & \\${[}-0.66\\$, \\$-0.03{]}\\$ & -2.64 & .027  \\\\\n",
       "\tnoun\\_M\\_verb\\_X & noun\\_M - verb\\_X & -0.57 & \\${[}-0.89\\$, \\$-0.26{]}\\$ & -4.36 & < .001\\\\\n",
       "\\end{tabular}\n"
      ],
      "text/markdown": [
       "\n",
       "A apa_results_table: 3 × 5\n",
       "\n",
       "| <!--/--> | contrast &lt;ppj_lbll&gt; | estimate &lt;ppj_lbll&gt; | ci &lt;ppj_lbll&gt; | statistic &lt;ppj_lbll&gt; | p.value &lt;ppj_lbll&gt; |\n",
       "|---|---|---|---|---|---|\n",
       "| noun_F_noun_M | noun_F - noun_M | 0.23  | $[-0.09$, $0.54]$  | 1.72  | .204   |\n",
       "| noun_F_verb_X | noun_F - verb_X | -0.35 | $[-0.66$, $-0.03]$ | -2.64 | .027   |\n",
       "| noun_M_verb_X | noun_M - verb_X | -0.57 | $[-0.89$, $-0.26]$ | -4.36 | &lt; .001 |\n",
       "\n"
      ],
      "text/plain": [
       "              contrast        estimate ci                 statistic p.value\n",
       "noun_F_noun_M noun_F - noun_M 0.23     $[-0.09$, $0.54]$  1.72      .204   \n",
       "noun_F_verb_X noun_F - verb_X -0.35    $[-0.66$, $-0.03]$ -2.64     .027   \n",
       "noun_M_verb_X noun_M - verb_X -0.57    $[-0.89$, $-0.26]$ -4.36     < .001 "
      ]
     },
     "metadata": {},
     "output_type": "display_data"
    }
   ],
   "source": [
    "IDX <- IDX+1; COND <- CONDS[IDX]\n",
    "data1 <- droplevels(subset(df1, eval(parse(text=COND)))); data1 <- data1[complete.cases(data1),]; done1 <- AOV4(data1,COND)\n",
    "display_markdown(str_c(\"# Condition \",IDX,\" of \",length(CONDS))); display_markdown(done1$info); display_markdown(\"### Table\"); done1$aov_APA$table; display_markdown(\"### Result\"); display_markdown(done1$aov_APA[[\"full_result\"]][[\"cond0\"]]); display_markdown(\"### Summary (all done1, incl. NANs)\"); done1$summary; display_markdown(\"### Expected marginal means\"); done1$emm_APA$table; display_markdown(\"### Paired comparisons for expected marginal means\"); done1$pairs_APA$table"
   ]
  },
  {
   "cell_type": "code",
   "execution_count": 74,
   "metadata": {},
   "outputs": [
    {
     "name": "stderr",
     "output_type": "stream",
     "text": [
      "Warning message in summary.Anova.mlm(x$Anova):\n",
      "“HF eps > 1 treated as 1”\n"
     ]
    },
    {
     "data": {
      "text/markdown": [
       "# Condition 57 of 72"
      ]
     },
     "metadata": {},
     "output_type": "display_data"
    },
    {
     "data": {
      "text/markdown": [
       "`tmin0==0.6 & chan0==\"LP\" & mode0==\"pos\"`"
      ]
     },
     "metadata": {},
     "output_type": "display_data"
    },
    {
     "data": {
      "text/markdown": [
       "### Table"
      ]
     },
     "metadata": {},
     "output_type": "display_data"
    },
    {
     "data": {
      "text/html": [
       "<table>\n",
       "<caption>A apa_results_table: 1 × 7</caption>\n",
       "<thead>\n",
       "\t<tr><th></th><th scope=col>Effect</th><th scope=col>F</th><th scope=col>df1</th><th scope=col>df2</th><th scope=col>MSE</th><th scope=col>p</th><th scope=col>ges</th></tr>\n",
       "\t<tr><th></th><th scope=col>&lt;ppj_lbll&gt;</th><th scope=col>&lt;ppj_lbll&gt;</th><th scope=col>&lt;ppj_lbll&gt;</th><th scope=col>&lt;ppj_lbll&gt;</th><th scope=col>&lt;ppj_lbll&gt;</th><th scope=col>&lt;ppj_lbll&gt;</th><th scope=col>&lt;ppj_lbll&gt;</th></tr>\n",
       "</thead>\n",
       "<tbody>\n",
       "\t<tr><th scope=row>1</th><td>Cond0</td><td>0.43</td><td>1.95</td><td>79.92</td><td>0.60</td><td>.646</td><td>.001</td></tr>\n",
       "</tbody>\n",
       "</table>\n"
      ],
      "text/latex": [
       "A apa\\_results\\_table: 1 × 7\n",
       "\\begin{tabular}{r|lllllll}\n",
       "  & Effect & F & df1 & df2 & MSE & p & ges\\\\\n",
       "  & <ppj\\_lbll> & <ppj\\_lbll> & <ppj\\_lbll> & <ppj\\_lbll> & <ppj\\_lbll> & <ppj\\_lbll> & <ppj\\_lbll>\\\\\n",
       "\\hline\n",
       "\t1 & Cond0 & 0.43 & 1.95 & 79.92 & 0.60 & .646 & .001\\\\\n",
       "\\end{tabular}\n"
      ],
      "text/markdown": [
       "\n",
       "A apa_results_table: 1 × 7\n",
       "\n",
       "| <!--/--> | Effect &lt;ppj_lbll&gt; | F &lt;ppj_lbll&gt; | df1 &lt;ppj_lbll&gt; | df2 &lt;ppj_lbll&gt; | MSE &lt;ppj_lbll&gt; | p &lt;ppj_lbll&gt; | ges &lt;ppj_lbll&gt; |\n",
       "|---|---|---|---|---|---|---|---|\n",
       "| 1 | Cond0 | 0.43 | 1.95 | 79.92 | 0.60 | .646 | .001 |\n",
       "\n"
      ],
      "text/plain": [
       "  Effect F    df1  df2   MSE  p    ges \n",
       "1 Cond0  0.43 1.95 79.92 0.60 .646 .001"
      ]
     },
     "metadata": {},
     "output_type": "display_data"
    },
    {
     "data": {
      "text/markdown": [
       "### Result"
      ]
     },
     "metadata": {},
     "output_type": "display_data"
    },
    {
     "data": {
      "text/markdown": [
       "$F(1.95, 79.92) = 0.43$, $\\mathit{MSE} = 0.60$, $p = .646$, $\\hat{\\eta}^2_G = .001$"
      ]
     },
     "metadata": {},
     "output_type": "display_data"
    },
    {
     "data": {
      "text/markdown": [
       "### Summary (all done1, incl. NANs)"
      ]
     },
     "metadata": {},
     "output_type": "display_data"
    },
    {
     "data": {
      "text/html": [
       "<table>\n",
       "<caption>A tibble: 3 × 5</caption>\n",
       "<thead>\n",
       "\t<tr><th scope=col>cond0</th><th scope=col>N</th><th scope=col>valX_M</th><th scope=col>valX_SD</th><th scope=col>valX_SE</th></tr>\n",
       "\t<tr><th scope=col>&lt;fct&gt;</th><th scope=col>&lt;int&gt;</th><th scope=col>&lt;dbl&gt;</th><th scope=col>&lt;dbl&gt;</th><th scope=col>&lt;dbl&gt;</th></tr>\n",
       "</thead>\n",
       "<tbody>\n",
       "\t<tr><td>noun_F</td><td>42</td><td>0.4781189</td><td>2.034312</td><td>0.3139011</td></tr>\n",
       "\t<tr><td>noun_M</td><td>42</td><td>0.5997088</td><td>2.145143</td><td>0.3310027</td></tr>\n",
       "\t<tr><td>verb_X</td><td>42</td><td>0.4562686</td><td>2.041356</td><td>0.3149881</td></tr>\n",
       "</tbody>\n",
       "</table>\n"
      ],
      "text/latex": [
       "A tibble: 3 × 5\n",
       "\\begin{tabular}{lllll}\n",
       " cond0 & N & valX\\_M & valX\\_SD & valX\\_SE\\\\\n",
       " <fct> & <int> & <dbl> & <dbl> & <dbl>\\\\\n",
       "\\hline\n",
       "\t noun\\_F & 42 & 0.4781189 & 2.034312 & 0.3139011\\\\\n",
       "\t noun\\_M & 42 & 0.5997088 & 2.145143 & 0.3310027\\\\\n",
       "\t verb\\_X & 42 & 0.4562686 & 2.041356 & 0.3149881\\\\\n",
       "\\end{tabular}\n"
      ],
      "text/markdown": [
       "\n",
       "A tibble: 3 × 5\n",
       "\n",
       "| cond0 &lt;fct&gt; | N &lt;int&gt; | valX_M &lt;dbl&gt; | valX_SD &lt;dbl&gt; | valX_SE &lt;dbl&gt; |\n",
       "|---|---|---|---|---|\n",
       "| noun_F | 42 | 0.4781189 | 2.034312 | 0.3139011 |\n",
       "| noun_M | 42 | 0.5997088 | 2.145143 | 0.3310027 |\n",
       "| verb_X | 42 | 0.4562686 | 2.041356 | 0.3149881 |\n",
       "\n"
      ],
      "text/plain": [
       "  cond0  N  valX_M    valX_SD  valX_SE  \n",
       "1 noun_F 42 0.4781189 2.034312 0.3139011\n",
       "2 noun_M 42 0.5997088 2.145143 0.3310027\n",
       "3 verb_X 42 0.4562686 2.041356 0.3149881"
      ]
     },
     "metadata": {},
     "output_type": "display_data"
    },
    {
     "data": {
      "text/markdown": [
       "### Expected marginal means"
      ]
     },
     "metadata": {},
     "output_type": "display_data"
    },
    {
     "data": {
      "text/html": [
       "<table>\n",
       "<caption>A apa_results_table: 3 × 5</caption>\n",
       "<thead>\n",
       "\t<tr><th></th><th scope=col>cond0</th><th scope=col>estimate</th><th scope=col>ci</th><th scope=col>statistic</th><th scope=col>p.value</th></tr>\n",
       "\t<tr><th></th><th scope=col>&lt;chr&gt;</th><th scope=col>&lt;ppj_lbll&gt;</th><th scope=col>&lt;ppj_lbll&gt;</th><th scope=col>&lt;ppj_lbll&gt;</th><th scope=col>&lt;ppj_lbll&gt;</th></tr>\n",
       "</thead>\n",
       "<tbody>\n",
       "\t<tr><th scope=row>noun_F</th><td>noun_F</td><td>0.48</td><td>$[-0.16$, $1.12]$</td><td>1.49</td><td>.142</td></tr>\n",
       "\t<tr><th scope=row>noun_M</th><td>noun_M</td><td>0.60</td><td>$[-0.04$, $1.24]$</td><td>1.87</td><td>.067</td></tr>\n",
       "\t<tr><th scope=row>verb_X</th><td>verb_X</td><td>0.46</td><td>$[-0.19$, $1.10]$</td><td>1.43</td><td>.160</td></tr>\n",
       "</tbody>\n",
       "</table>\n"
      ],
      "text/latex": [
       "A apa\\_results\\_table: 3 × 5\n",
       "\\begin{tabular}{r|lllll}\n",
       "  & cond0 & estimate & ci & statistic & p.value\\\\\n",
       "  & <chr> & <ppj\\_lbll> & <ppj\\_lbll> & <ppj\\_lbll> & <ppj\\_lbll>\\\\\n",
       "\\hline\n",
       "\tnoun\\_F & noun\\_F & 0.48 & \\${[}-0.16\\$, \\$1.12{]}\\$ & 1.49 & .142\\\\\n",
       "\tnoun\\_M & noun\\_M & 0.60 & \\${[}-0.04\\$, \\$1.24{]}\\$ & 1.87 & .067\\\\\n",
       "\tverb\\_X & verb\\_X & 0.46 & \\${[}-0.19\\$, \\$1.10{]}\\$ & 1.43 & .160\\\\\n",
       "\\end{tabular}\n"
      ],
      "text/markdown": [
       "\n",
       "A apa_results_table: 3 × 5\n",
       "\n",
       "| <!--/--> | cond0 &lt;chr&gt; | estimate &lt;ppj_lbll&gt; | ci &lt;ppj_lbll&gt; | statistic &lt;ppj_lbll&gt; | p.value &lt;ppj_lbll&gt; |\n",
       "|---|---|---|---|---|---|\n",
       "| noun_F | noun_F | 0.48 | $[-0.16$, $1.12]$ | 1.49 | .142 |\n",
       "| noun_M | noun_M | 0.60 | $[-0.04$, $1.24]$ | 1.87 | .067 |\n",
       "| verb_X | verb_X | 0.46 | $[-0.19$, $1.10]$ | 1.43 | .160 |\n",
       "\n"
      ],
      "text/plain": [
       "       cond0  estimate ci                statistic p.value\n",
       "noun_F noun_F 0.48     $[-0.16$, $1.12]$ 1.49      .142   \n",
       "noun_M noun_M 0.60     $[-0.04$, $1.24]$ 1.87      .067   \n",
       "verb_X verb_X 0.46     $[-0.19$, $1.10]$ 1.43      .160   "
      ]
     },
     "metadata": {},
     "output_type": "display_data"
    },
    {
     "data": {
      "text/markdown": [
       "### Paired comparisons for expected marginal means"
      ]
     },
     "metadata": {},
     "output_type": "display_data"
    },
    {
     "data": {
      "text/html": [
       "<table>\n",
       "<caption>A apa_results_table: 3 × 5</caption>\n",
       "<thead>\n",
       "\t<tr><th></th><th scope=col>contrast</th><th scope=col>estimate</th><th scope=col>ci</th><th scope=col>statistic</th><th scope=col>p.value</th></tr>\n",
       "\t<tr><th></th><th scope=col>&lt;ppj_lbll&gt;</th><th scope=col>&lt;ppj_lbll&gt;</th><th scope=col>&lt;ppj_lbll&gt;</th><th scope=col>&lt;ppj_lbll&gt;</th><th scope=col>&lt;ppj_lbll&gt;</th></tr>\n",
       "</thead>\n",
       "<tbody>\n",
       "\t<tr><th scope=row>noun_F_noun_M</th><td>noun_F - noun_M</td><td>-0.12</td><td>$[-0.52$, $0.28]$</td><td>-0.73</td><td>.746</td></tr>\n",
       "\t<tr><th scope=row>noun_F_verb_X</th><td>noun_F - verb_X</td><td>0.02 </td><td>$[-0.38$, $0.42]$</td><td>0.13 </td><td>.991</td></tr>\n",
       "\t<tr><th scope=row>noun_M_verb_X</th><td>noun_M - verb_X</td><td>0.14 </td><td>$[-0.25$, $0.54]$</td><td>0.86 </td><td>.665</td></tr>\n",
       "</tbody>\n",
       "</table>\n"
      ],
      "text/latex": [
       "A apa\\_results\\_table: 3 × 5\n",
       "\\begin{tabular}{r|lllll}\n",
       "  & contrast & estimate & ci & statistic & p.value\\\\\n",
       "  & <ppj\\_lbll> & <ppj\\_lbll> & <ppj\\_lbll> & <ppj\\_lbll> & <ppj\\_lbll>\\\\\n",
       "\\hline\n",
       "\tnoun\\_F\\_noun\\_M & noun\\_F - noun\\_M & -0.12 & \\${[}-0.52\\$, \\$0.28{]}\\$ & -0.73 & .746\\\\\n",
       "\tnoun\\_F\\_verb\\_X & noun\\_F - verb\\_X & 0.02  & \\${[}-0.38\\$, \\$0.42{]}\\$ & 0.13  & .991\\\\\n",
       "\tnoun\\_M\\_verb\\_X & noun\\_M - verb\\_X & 0.14  & \\${[}-0.25\\$, \\$0.54{]}\\$ & 0.86  & .665\\\\\n",
       "\\end{tabular}\n"
      ],
      "text/markdown": [
       "\n",
       "A apa_results_table: 3 × 5\n",
       "\n",
       "| <!--/--> | contrast &lt;ppj_lbll&gt; | estimate &lt;ppj_lbll&gt; | ci &lt;ppj_lbll&gt; | statistic &lt;ppj_lbll&gt; | p.value &lt;ppj_lbll&gt; |\n",
       "|---|---|---|---|---|---|\n",
       "| noun_F_noun_M | noun_F - noun_M | -0.12 | $[-0.52$, $0.28]$ | -0.73 | .746 |\n",
       "| noun_F_verb_X | noun_F - verb_X | 0.02  | $[-0.38$, $0.42]$ | 0.13  | .991 |\n",
       "| noun_M_verb_X | noun_M - verb_X | 0.14  | $[-0.25$, $0.54]$ | 0.86  | .665 |\n",
       "\n"
      ],
      "text/plain": [
       "              contrast        estimate ci                statistic p.value\n",
       "noun_F_noun_M noun_F - noun_M -0.12    $[-0.52$, $0.28]$ -0.73     .746   \n",
       "noun_F_verb_X noun_F - verb_X 0.02     $[-0.38$, $0.42]$ 0.13      .991   \n",
       "noun_M_verb_X noun_M - verb_X 0.14     $[-0.25$, $0.54]$ 0.86      .665   "
      ]
     },
     "metadata": {},
     "output_type": "display_data"
    }
   ],
   "source": [
    "IDX <- IDX+1; COND <- CONDS[IDX]\n",
    "data1 <- droplevels(subset(df1, eval(parse(text=COND)))); data1 <- data1[complete.cases(data1),]; done1 <- AOV4(data1,COND)\n",
    "display_markdown(str_c(\"# Condition \",IDX,\" of \",length(CONDS))); display_markdown(done1$info); display_markdown(\"### Table\"); done1$aov_APA$table; display_markdown(\"### Result\"); display_markdown(done1$aov_APA[[\"full_result\"]][[\"cond0\"]]); display_markdown(\"### Summary (all done1, incl. NANs)\"); done1$summary; display_markdown(\"### Expected marginal means\"); done1$emm_APA$table; display_markdown(\"### Paired comparisons for expected marginal means\"); done1$pairs_APA$table"
   ]
  },
  {
   "cell_type": "code",
   "execution_count": 75,
   "metadata": {},
   "outputs": [
    {
     "data": {
      "text/markdown": [
       "# Condition 58 of 72"
      ]
     },
     "metadata": {},
     "output_type": "display_data"
    },
    {
     "data": {
      "text/markdown": [
       "`tmin0==0.6 & chan0==\"LP\" & mode0==\"neg\"`"
      ]
     },
     "metadata": {},
     "output_type": "display_data"
    },
    {
     "data": {
      "text/markdown": [
       "### Table"
      ]
     },
     "metadata": {},
     "output_type": "display_data"
    },
    {
     "data": {
      "text/html": [
       "<table>\n",
       "<caption>A apa_results_table: 1 × 7</caption>\n",
       "<thead>\n",
       "\t<tr><th></th><th scope=col>Effect</th><th scope=col>F</th><th scope=col>df1</th><th scope=col>df2</th><th scope=col>MSE</th><th scope=col>p</th><th scope=col>ges</th></tr>\n",
       "\t<tr><th></th><th scope=col>&lt;ppj_lbll&gt;</th><th scope=col>&lt;ppj_lbll&gt;</th><th scope=col>&lt;ppj_lbll&gt;</th><th scope=col>&lt;ppj_lbll&gt;</th><th scope=col>&lt;ppj_lbll&gt;</th><th scope=col>&lt;ppj_lbll&gt;</th><th scope=col>&lt;ppj_lbll&gt;</th></tr>\n",
       "</thead>\n",
       "<tbody>\n",
       "\t<tr><th scope=row>1</th><td>Cond0</td><td>10.39</td><td>1.90</td><td>78.00</td><td>0.50</td><td>&lt; .001</td><td>.014</td></tr>\n",
       "</tbody>\n",
       "</table>\n"
      ],
      "text/latex": [
       "A apa\\_results\\_table: 1 × 7\n",
       "\\begin{tabular}{r|lllllll}\n",
       "  & Effect & F & df1 & df2 & MSE & p & ges\\\\\n",
       "  & <ppj\\_lbll> & <ppj\\_lbll> & <ppj\\_lbll> & <ppj\\_lbll> & <ppj\\_lbll> & <ppj\\_lbll> & <ppj\\_lbll>\\\\\n",
       "\\hline\n",
       "\t1 & Cond0 & 10.39 & 1.90 & 78.00 & 0.50 & < .001 & .014\\\\\n",
       "\\end{tabular}\n"
      ],
      "text/markdown": [
       "\n",
       "A apa_results_table: 1 × 7\n",
       "\n",
       "| <!--/--> | Effect &lt;ppj_lbll&gt; | F &lt;ppj_lbll&gt; | df1 &lt;ppj_lbll&gt; | df2 &lt;ppj_lbll&gt; | MSE &lt;ppj_lbll&gt; | p &lt;ppj_lbll&gt; | ges &lt;ppj_lbll&gt; |\n",
       "|---|---|---|---|---|---|---|---|\n",
       "| 1 | Cond0 | 10.39 | 1.90 | 78.00 | 0.50 | &lt; .001 | .014 |\n",
       "\n"
      ],
      "text/plain": [
       "  Effect F     df1  df2   MSE  p      ges \n",
       "1 Cond0  10.39 1.90 78.00 0.50 < .001 .014"
      ]
     },
     "metadata": {},
     "output_type": "display_data"
    },
    {
     "data": {
      "text/markdown": [
       "### Result"
      ]
     },
     "metadata": {},
     "output_type": "display_data"
    },
    {
     "data": {
      "text/markdown": [
       "$F(1.90, 78.00) = 10.39$, $\\mathit{MSE} = 0.50$, $p < .001$, $\\hat{\\eta}^2_G = .014$"
      ]
     },
     "metadata": {},
     "output_type": "display_data"
    },
    {
     "data": {
      "text/markdown": [
       "### Summary (all done1, incl. NANs)"
      ]
     },
     "metadata": {},
     "output_type": "display_data"
    },
    {
     "data": {
      "text/html": [
       "<table>\n",
       "<caption>A tibble: 3 × 5</caption>\n",
       "<thead>\n",
       "\t<tr><th scope=col>cond0</th><th scope=col>N</th><th scope=col>valX_M</th><th scope=col>valX_SD</th><th scope=col>valX_SE</th></tr>\n",
       "\t<tr><th scope=col>&lt;fct&gt;</th><th scope=col>&lt;int&gt;</th><th scope=col>&lt;dbl&gt;</th><th scope=col>&lt;dbl&gt;</th><th scope=col>&lt;dbl&gt;</th></tr>\n",
       "</thead>\n",
       "<tbody>\n",
       "\t<tr><td>noun_F</td><td>42</td><td>-2.114307</td><td>2.481554</td><td>0.3829120</td></tr>\n",
       "\t<tr><td>noun_M</td><td>42</td><td>-1.707023</td><td>2.214557</td><td>0.3417136</td></tr>\n",
       "\t<tr><td>verb_X</td><td>42</td><td>-1.432424</td><td>2.500919</td><td>0.3859002</td></tr>\n",
       "</tbody>\n",
       "</table>\n"
      ],
      "text/latex": [
       "A tibble: 3 × 5\n",
       "\\begin{tabular}{lllll}\n",
       " cond0 & N & valX\\_M & valX\\_SD & valX\\_SE\\\\\n",
       " <fct> & <int> & <dbl> & <dbl> & <dbl>\\\\\n",
       "\\hline\n",
       "\t noun\\_F & 42 & -2.114307 & 2.481554 & 0.3829120\\\\\n",
       "\t noun\\_M & 42 & -1.707023 & 2.214557 & 0.3417136\\\\\n",
       "\t verb\\_X & 42 & -1.432424 & 2.500919 & 0.3859002\\\\\n",
       "\\end{tabular}\n"
      ],
      "text/markdown": [
       "\n",
       "A tibble: 3 × 5\n",
       "\n",
       "| cond0 &lt;fct&gt; | N &lt;int&gt; | valX_M &lt;dbl&gt; | valX_SD &lt;dbl&gt; | valX_SE &lt;dbl&gt; |\n",
       "|---|---|---|---|---|\n",
       "| noun_F | 42 | -2.114307 | 2.481554 | 0.3829120 |\n",
       "| noun_M | 42 | -1.707023 | 2.214557 | 0.3417136 |\n",
       "| verb_X | 42 | -1.432424 | 2.500919 | 0.3859002 |\n",
       "\n"
      ],
      "text/plain": [
       "  cond0  N  valX_M    valX_SD  valX_SE  \n",
       "1 noun_F 42 -2.114307 2.481554 0.3829120\n",
       "2 noun_M 42 -1.707023 2.214557 0.3417136\n",
       "3 verb_X 42 -1.432424 2.500919 0.3859002"
      ]
     },
     "metadata": {},
     "output_type": "display_data"
    },
    {
     "data": {
      "text/markdown": [
       "### Expected marginal means"
      ]
     },
     "metadata": {},
     "output_type": "display_data"
    },
    {
     "data": {
      "text/html": [
       "<table>\n",
       "<caption>A apa_results_table: 3 × 5</caption>\n",
       "<thead>\n",
       "\t<tr><th></th><th scope=col>cond0</th><th scope=col>estimate</th><th scope=col>ci</th><th scope=col>statistic</th><th scope=col>p.value</th></tr>\n",
       "\t<tr><th></th><th scope=col>&lt;chr&gt;</th><th scope=col>&lt;ppj_lbll&gt;</th><th scope=col>&lt;ppj_lbll&gt;</th><th scope=col>&lt;ppj_lbll&gt;</th><th scope=col>&lt;ppj_lbll&gt;</th></tr>\n",
       "</thead>\n",
       "<tbody>\n",
       "\t<tr><th scope=row>noun_F</th><td>noun_F</td><td>-2.11</td><td>$[-2.86$, $-1.37]$</td><td>-5.70</td><td>&lt; .001</td></tr>\n",
       "\t<tr><th scope=row>noun_M</th><td>noun_M</td><td>-1.71</td><td>$[-2.45$, $-0.96]$</td><td>-4.60</td><td>&lt; .001</td></tr>\n",
       "\t<tr><th scope=row>verb_X</th><td>verb_X</td><td>-1.43</td><td>$[-2.18$, $-0.69]$</td><td>-3.86</td><td>&lt; .001</td></tr>\n",
       "</tbody>\n",
       "</table>\n"
      ],
      "text/latex": [
       "A apa\\_results\\_table: 3 × 5\n",
       "\\begin{tabular}{r|lllll}\n",
       "  & cond0 & estimate & ci & statistic & p.value\\\\\n",
       "  & <chr> & <ppj\\_lbll> & <ppj\\_lbll> & <ppj\\_lbll> & <ppj\\_lbll>\\\\\n",
       "\\hline\n",
       "\tnoun\\_F & noun\\_F & -2.11 & \\${[}-2.86\\$, \\$-1.37{]}\\$ & -5.70 & < .001\\\\\n",
       "\tnoun\\_M & noun\\_M & -1.71 & \\${[}-2.45\\$, \\$-0.96{]}\\$ & -4.60 & < .001\\\\\n",
       "\tverb\\_X & verb\\_X & -1.43 & \\${[}-2.18\\$, \\$-0.69{]}\\$ & -3.86 & < .001\\\\\n",
       "\\end{tabular}\n"
      ],
      "text/markdown": [
       "\n",
       "A apa_results_table: 3 × 5\n",
       "\n",
       "| <!--/--> | cond0 &lt;chr&gt; | estimate &lt;ppj_lbll&gt; | ci &lt;ppj_lbll&gt; | statistic &lt;ppj_lbll&gt; | p.value &lt;ppj_lbll&gt; |\n",
       "|---|---|---|---|---|---|\n",
       "| noun_F | noun_F | -2.11 | $[-2.86$, $-1.37]$ | -5.70 | &lt; .001 |\n",
       "| noun_M | noun_M | -1.71 | $[-2.45$, $-0.96]$ | -4.60 | &lt; .001 |\n",
       "| verb_X | verb_X | -1.43 | $[-2.18$, $-0.69]$ | -3.86 | &lt; .001 |\n",
       "\n"
      ],
      "text/plain": [
       "       cond0  estimate ci                 statistic p.value\n",
       "noun_F noun_F -2.11    $[-2.86$, $-1.37]$ -5.70     < .001 \n",
       "noun_M noun_M -1.71    $[-2.45$, $-0.96]$ -4.60     < .001 \n",
       "verb_X verb_X -1.43    $[-2.18$, $-0.69]$ -3.86     < .001 "
      ]
     },
     "metadata": {},
     "output_type": "display_data"
    },
    {
     "data": {
      "text/markdown": [
       "### Paired comparisons for expected marginal means"
      ]
     },
     "metadata": {},
     "output_type": "display_data"
    },
    {
     "data": {
      "text/html": [
       "<table>\n",
       "<caption>A apa_results_table: 3 × 5</caption>\n",
       "<thead>\n",
       "\t<tr><th></th><th scope=col>contrast</th><th scope=col>estimate</th><th scope=col>ci</th><th scope=col>statistic</th><th scope=col>p.value</th></tr>\n",
       "\t<tr><th></th><th scope=col>&lt;ppj_lbll&gt;</th><th scope=col>&lt;ppj_lbll&gt;</th><th scope=col>&lt;ppj_lbll&gt;</th><th scope=col>&lt;ppj_lbll&gt;</th><th scope=col>&lt;ppj_lbll&gt;</th></tr>\n",
       "</thead>\n",
       "<tbody>\n",
       "\t<tr><th scope=row>noun_F_noun_M</th><td>noun_F - noun_M</td><td>-0.41</td><td>$[-0.77$, $-0.05]$</td><td>-2.71</td><td>.022  </td></tr>\n",
       "\t<tr><th scope=row>noun_F_verb_X</th><td>noun_F - verb_X</td><td>-0.68</td><td>$[-1.04$, $-0.32]$</td><td>-4.53</td><td>&lt; .001</td></tr>\n",
       "\t<tr><th scope=row>noun_M_verb_X</th><td>noun_M - verb_X</td><td>-0.27</td><td>$[-0.63$, $0.08]$ </td><td>-1.82</td><td>.168  </td></tr>\n",
       "</tbody>\n",
       "</table>\n"
      ],
      "text/latex": [
       "A apa\\_results\\_table: 3 × 5\n",
       "\\begin{tabular}{r|lllll}\n",
       "  & contrast & estimate & ci & statistic & p.value\\\\\n",
       "  & <ppj\\_lbll> & <ppj\\_lbll> & <ppj\\_lbll> & <ppj\\_lbll> & <ppj\\_lbll>\\\\\n",
       "\\hline\n",
       "\tnoun\\_F\\_noun\\_M & noun\\_F - noun\\_M & -0.41 & \\${[}-0.77\\$, \\$-0.05{]}\\$ & -2.71 & .022  \\\\\n",
       "\tnoun\\_F\\_verb\\_X & noun\\_F - verb\\_X & -0.68 & \\${[}-1.04\\$, \\$-0.32{]}\\$ & -4.53 & < .001\\\\\n",
       "\tnoun\\_M\\_verb\\_X & noun\\_M - verb\\_X & -0.27 & \\${[}-0.63\\$, \\$0.08{]}\\$  & -1.82 & .168  \\\\\n",
       "\\end{tabular}\n"
      ],
      "text/markdown": [
       "\n",
       "A apa_results_table: 3 × 5\n",
       "\n",
       "| <!--/--> | contrast &lt;ppj_lbll&gt; | estimate &lt;ppj_lbll&gt; | ci &lt;ppj_lbll&gt; | statistic &lt;ppj_lbll&gt; | p.value &lt;ppj_lbll&gt; |\n",
       "|---|---|---|---|---|---|\n",
       "| noun_F_noun_M | noun_F - noun_M | -0.41 | $[-0.77$, $-0.05]$ | -2.71 | .022   |\n",
       "| noun_F_verb_X | noun_F - verb_X | -0.68 | $[-1.04$, $-0.32]$ | -4.53 | &lt; .001 |\n",
       "| noun_M_verb_X | noun_M - verb_X | -0.27 | $[-0.63$, $0.08]$  | -1.82 | .168   |\n",
       "\n"
      ],
      "text/plain": [
       "              contrast        estimate ci                 statistic p.value\n",
       "noun_F_noun_M noun_F - noun_M -0.41    $[-0.77$, $-0.05]$ -2.71     .022   \n",
       "noun_F_verb_X noun_F - verb_X -0.68    $[-1.04$, $-0.32]$ -4.53     < .001 \n",
       "noun_M_verb_X noun_M - verb_X -0.27    $[-0.63$, $0.08]$  -1.82     .168   "
      ]
     },
     "metadata": {},
     "output_type": "display_data"
    }
   ],
   "source": [
    "IDX <- IDX+1; COND <- CONDS[IDX]\n",
    "data1 <- droplevels(subset(df1, eval(parse(text=COND)))); data1 <- data1[complete.cases(data1),]; done1 <- AOV4(data1,COND)\n",
    "display_markdown(str_c(\"# Condition \",IDX,\" of \",length(CONDS))); display_markdown(done1$info); display_markdown(\"### Table\"); done1$aov_APA$table; display_markdown(\"### Result\"); display_markdown(done1$aov_APA[[\"full_result\"]][[\"cond0\"]]); display_markdown(\"### Summary (all done1, incl. NANs)\"); done1$summary; display_markdown(\"### Expected marginal means\"); done1$emm_APA$table; display_markdown(\"### Paired comparisons for expected marginal means\"); done1$pairs_APA$table"
   ]
  },
  {
   "cell_type": "code",
   "execution_count": 76,
   "metadata": {},
   "outputs": [
    {
     "data": {
      "text/markdown": [
       "# Condition 59 of 72"
      ]
     },
     "metadata": {},
     "output_type": "display_data"
    },
    {
     "data": {
      "text/markdown": [
       "`tmin0==0.6 & chan0==\"RP\" & mode0==\"pos\"`"
      ]
     },
     "metadata": {},
     "output_type": "display_data"
    },
    {
     "data": {
      "text/markdown": [
       "### Table"
      ]
     },
     "metadata": {},
     "output_type": "display_data"
    },
    {
     "data": {
      "text/html": [
       "<table>\n",
       "<caption>A apa_results_table: 1 × 7</caption>\n",
       "<thead>\n",
       "\t<tr><th></th><th scope=col>Effect</th><th scope=col>F</th><th scope=col>df1</th><th scope=col>df2</th><th scope=col>MSE</th><th scope=col>p</th><th scope=col>ges</th></tr>\n",
       "\t<tr><th></th><th scope=col>&lt;ppj_lbll&gt;</th><th scope=col>&lt;ppj_lbll&gt;</th><th scope=col>&lt;ppj_lbll&gt;</th><th scope=col>&lt;ppj_lbll&gt;</th><th scope=col>&lt;ppj_lbll&gt;</th><th scope=col>&lt;ppj_lbll&gt;</th><th scope=col>&lt;ppj_lbll&gt;</th></tr>\n",
       "</thead>\n",
       "<tbody>\n",
       "\t<tr><th scope=row>1</th><td>Cond0</td><td>2.04</td><td>1.87</td><td>76.84</td><td>0.52</td><td>.140</td><td>.004</td></tr>\n",
       "</tbody>\n",
       "</table>\n"
      ],
      "text/latex": [
       "A apa\\_results\\_table: 1 × 7\n",
       "\\begin{tabular}{r|lllllll}\n",
       "  & Effect & F & df1 & df2 & MSE & p & ges\\\\\n",
       "  & <ppj\\_lbll> & <ppj\\_lbll> & <ppj\\_lbll> & <ppj\\_lbll> & <ppj\\_lbll> & <ppj\\_lbll> & <ppj\\_lbll>\\\\\n",
       "\\hline\n",
       "\t1 & Cond0 & 2.04 & 1.87 & 76.84 & 0.52 & .140 & .004\\\\\n",
       "\\end{tabular}\n"
      ],
      "text/markdown": [
       "\n",
       "A apa_results_table: 1 × 7\n",
       "\n",
       "| <!--/--> | Effect &lt;ppj_lbll&gt; | F &lt;ppj_lbll&gt; | df1 &lt;ppj_lbll&gt; | df2 &lt;ppj_lbll&gt; | MSE &lt;ppj_lbll&gt; | p &lt;ppj_lbll&gt; | ges &lt;ppj_lbll&gt; |\n",
       "|---|---|---|---|---|---|---|---|\n",
       "| 1 | Cond0 | 2.04 | 1.87 | 76.84 | 0.52 | .140 | .004 |\n",
       "\n"
      ],
      "text/plain": [
       "  Effect F    df1  df2   MSE  p    ges \n",
       "1 Cond0  2.04 1.87 76.84 0.52 .140 .004"
      ]
     },
     "metadata": {},
     "output_type": "display_data"
    },
    {
     "data": {
      "text/markdown": [
       "### Result"
      ]
     },
     "metadata": {},
     "output_type": "display_data"
    },
    {
     "data": {
      "text/markdown": [
       "$F(1.87, 76.84) = 2.04$, $\\mathit{MSE} = 0.52$, $p = .140$, $\\hat{\\eta}^2_G = .004$"
      ]
     },
     "metadata": {},
     "output_type": "display_data"
    },
    {
     "data": {
      "text/markdown": [
       "### Summary (all done1, incl. NANs)"
      ]
     },
     "metadata": {},
     "output_type": "display_data"
    },
    {
     "data": {
      "text/html": [
       "<table>\n",
       "<caption>A tibble: 3 × 5</caption>\n",
       "<thead>\n",
       "\t<tr><th scope=col>cond0</th><th scope=col>N</th><th scope=col>valX_M</th><th scope=col>valX_SD</th><th scope=col>valX_SE</th></tr>\n",
       "\t<tr><th scope=col>&lt;fct&gt;</th><th scope=col>&lt;int&gt;</th><th scope=col>&lt;dbl&gt;</th><th scope=col>&lt;dbl&gt;</th><th scope=col>&lt;dbl&gt;</th></tr>\n",
       "</thead>\n",
       "<tbody>\n",
       "\t<tr><td>noun_F</td><td>42</td><td>2.213899</td><td>2.161625</td><td>0.3335459</td></tr>\n",
       "\t<tr><td>noun_M</td><td>42</td><td>2.490893</td><td>2.230421</td><td>0.3441615</td></tr>\n",
       "\t<tr><td>verb_X</td><td>42</td><td>2.233618</td><td>1.867128</td><td>0.2881041</td></tr>\n",
       "</tbody>\n",
       "</table>\n"
      ],
      "text/latex": [
       "A tibble: 3 × 5\n",
       "\\begin{tabular}{lllll}\n",
       " cond0 & N & valX\\_M & valX\\_SD & valX\\_SE\\\\\n",
       " <fct> & <int> & <dbl> & <dbl> & <dbl>\\\\\n",
       "\\hline\n",
       "\t noun\\_F & 42 & 2.213899 & 2.161625 & 0.3335459\\\\\n",
       "\t noun\\_M & 42 & 2.490893 & 2.230421 & 0.3441615\\\\\n",
       "\t verb\\_X & 42 & 2.233618 & 1.867128 & 0.2881041\\\\\n",
       "\\end{tabular}\n"
      ],
      "text/markdown": [
       "\n",
       "A tibble: 3 × 5\n",
       "\n",
       "| cond0 &lt;fct&gt; | N &lt;int&gt; | valX_M &lt;dbl&gt; | valX_SD &lt;dbl&gt; | valX_SE &lt;dbl&gt; |\n",
       "|---|---|---|---|---|\n",
       "| noun_F | 42 | 2.213899 | 2.161625 | 0.3335459 |\n",
       "| noun_M | 42 | 2.490893 | 2.230421 | 0.3441615 |\n",
       "| verb_X | 42 | 2.233618 | 1.867128 | 0.2881041 |\n",
       "\n"
      ],
      "text/plain": [
       "  cond0  N  valX_M   valX_SD  valX_SE  \n",
       "1 noun_F 42 2.213899 2.161625 0.3335459\n",
       "2 noun_M 42 2.490893 2.230421 0.3441615\n",
       "3 verb_X 42 2.233618 1.867128 0.2881041"
      ]
     },
     "metadata": {},
     "output_type": "display_data"
    },
    {
     "data": {
      "text/markdown": [
       "### Expected marginal means"
      ]
     },
     "metadata": {},
     "output_type": "display_data"
    },
    {
     "data": {
      "text/html": [
       "<table>\n",
       "<caption>A apa_results_table: 3 × 5</caption>\n",
       "<thead>\n",
       "\t<tr><th></th><th scope=col>cond0</th><th scope=col>estimate</th><th scope=col>ci</th><th scope=col>statistic</th><th scope=col>p.value</th></tr>\n",
       "\t<tr><th></th><th scope=col>&lt;chr&gt;</th><th scope=col>&lt;ppj_lbll&gt;</th><th scope=col>&lt;ppj_lbll&gt;</th><th scope=col>&lt;ppj_lbll&gt;</th><th scope=col>&lt;ppj_lbll&gt;</th></tr>\n",
       "</thead>\n",
       "<tbody>\n",
       "\t<tr><th scope=row>noun_F</th><td>noun_F</td><td>2.21</td><td>$[1.56$, $2.86]$</td><td>6.86</td><td>&lt; .001</td></tr>\n",
       "\t<tr><th scope=row>noun_M</th><td>noun_M</td><td>2.49</td><td>$[1.84$, $3.14]$</td><td>7.72</td><td>&lt; .001</td></tr>\n",
       "\t<tr><th scope=row>verb_X</th><td>verb_X</td><td>2.23</td><td>$[1.58$, $2.88]$</td><td>6.92</td><td>&lt; .001</td></tr>\n",
       "</tbody>\n",
       "</table>\n"
      ],
      "text/latex": [
       "A apa\\_results\\_table: 3 × 5\n",
       "\\begin{tabular}{r|lllll}\n",
       "  & cond0 & estimate & ci & statistic & p.value\\\\\n",
       "  & <chr> & <ppj\\_lbll> & <ppj\\_lbll> & <ppj\\_lbll> & <ppj\\_lbll>\\\\\n",
       "\\hline\n",
       "\tnoun\\_F & noun\\_F & 2.21 & \\${[}1.56\\$, \\$2.86{]}\\$ & 6.86 & < .001\\\\\n",
       "\tnoun\\_M & noun\\_M & 2.49 & \\${[}1.84\\$, \\$3.14{]}\\$ & 7.72 & < .001\\\\\n",
       "\tverb\\_X & verb\\_X & 2.23 & \\${[}1.58\\$, \\$2.88{]}\\$ & 6.92 & < .001\\\\\n",
       "\\end{tabular}\n"
      ],
      "text/markdown": [
       "\n",
       "A apa_results_table: 3 × 5\n",
       "\n",
       "| <!--/--> | cond0 &lt;chr&gt; | estimate &lt;ppj_lbll&gt; | ci &lt;ppj_lbll&gt; | statistic &lt;ppj_lbll&gt; | p.value &lt;ppj_lbll&gt; |\n",
       "|---|---|---|---|---|---|\n",
       "| noun_F | noun_F | 2.21 | $[1.56$, $2.86]$ | 6.86 | &lt; .001 |\n",
       "| noun_M | noun_M | 2.49 | $[1.84$, $3.14]$ | 7.72 | &lt; .001 |\n",
       "| verb_X | verb_X | 2.23 | $[1.58$, $2.88]$ | 6.92 | &lt; .001 |\n",
       "\n"
      ],
      "text/plain": [
       "       cond0  estimate ci               statistic p.value\n",
       "noun_F noun_F 2.21     $[1.56$, $2.86]$ 6.86      < .001 \n",
       "noun_M noun_M 2.49     $[1.84$, $3.14]$ 7.72      < .001 \n",
       "verb_X verb_X 2.23     $[1.58$, $2.88]$ 6.92      < .001 "
      ]
     },
     "metadata": {},
     "output_type": "display_data"
    },
    {
     "data": {
      "text/markdown": [
       "### Paired comparisons for expected marginal means"
      ]
     },
     "metadata": {},
     "output_type": "display_data"
    },
    {
     "data": {
      "text/html": [
       "<table>\n",
       "<caption>A apa_results_table: 3 × 5</caption>\n",
       "<thead>\n",
       "\t<tr><th></th><th scope=col>contrast</th><th scope=col>estimate</th><th scope=col>ci</th><th scope=col>statistic</th><th scope=col>p.value</th></tr>\n",
       "\t<tr><th></th><th scope=col>&lt;ppj_lbll&gt;</th><th scope=col>&lt;ppj_lbll&gt;</th><th scope=col>&lt;ppj_lbll&gt;</th><th scope=col>&lt;ppj_lbll&gt;</th><th scope=col>&lt;ppj_lbll&gt;</th></tr>\n",
       "</thead>\n",
       "<tbody>\n",
       "\t<tr><th scope=row>noun_F_noun_M</th><td>noun_F - noun_M</td><td>-0.28</td><td>$[-0.64$, $0.09]$</td><td>-1.81</td><td>.173</td></tr>\n",
       "\t<tr><th scope=row>noun_F_verb_X</th><td>noun_F - verb_X</td><td>-0.02</td><td>$[-0.39$, $0.35]$</td><td>-0.13</td><td>.991</td></tr>\n",
       "\t<tr><th scope=row>noun_M_verb_X</th><td>noun_M - verb_X</td><td>0.26 </td><td>$[-0.11$, $0.62]$</td><td>1.68 </td><td>.219</td></tr>\n",
       "</tbody>\n",
       "</table>\n"
      ],
      "text/latex": [
       "A apa\\_results\\_table: 3 × 5\n",
       "\\begin{tabular}{r|lllll}\n",
       "  & contrast & estimate & ci & statistic & p.value\\\\\n",
       "  & <ppj\\_lbll> & <ppj\\_lbll> & <ppj\\_lbll> & <ppj\\_lbll> & <ppj\\_lbll>\\\\\n",
       "\\hline\n",
       "\tnoun\\_F\\_noun\\_M & noun\\_F - noun\\_M & -0.28 & \\${[}-0.64\\$, \\$0.09{]}\\$ & -1.81 & .173\\\\\n",
       "\tnoun\\_F\\_verb\\_X & noun\\_F - verb\\_X & -0.02 & \\${[}-0.39\\$, \\$0.35{]}\\$ & -0.13 & .991\\\\\n",
       "\tnoun\\_M\\_verb\\_X & noun\\_M - verb\\_X & 0.26  & \\${[}-0.11\\$, \\$0.62{]}\\$ & 1.68  & .219\\\\\n",
       "\\end{tabular}\n"
      ],
      "text/markdown": [
       "\n",
       "A apa_results_table: 3 × 5\n",
       "\n",
       "| <!--/--> | contrast &lt;ppj_lbll&gt; | estimate &lt;ppj_lbll&gt; | ci &lt;ppj_lbll&gt; | statistic &lt;ppj_lbll&gt; | p.value &lt;ppj_lbll&gt; |\n",
       "|---|---|---|---|---|---|\n",
       "| noun_F_noun_M | noun_F - noun_M | -0.28 | $[-0.64$, $0.09]$ | -1.81 | .173 |\n",
       "| noun_F_verb_X | noun_F - verb_X | -0.02 | $[-0.39$, $0.35]$ | -0.13 | .991 |\n",
       "| noun_M_verb_X | noun_M - verb_X | 0.26  | $[-0.11$, $0.62]$ | 1.68  | .219 |\n",
       "\n"
      ],
      "text/plain": [
       "              contrast        estimate ci                statistic p.value\n",
       "noun_F_noun_M noun_F - noun_M -0.28    $[-0.64$, $0.09]$ -1.81     .173   \n",
       "noun_F_verb_X noun_F - verb_X -0.02    $[-0.39$, $0.35]$ -0.13     .991   \n",
       "noun_M_verb_X noun_M - verb_X 0.26     $[-0.11$, $0.62]$ 1.68      .219   "
      ]
     },
     "metadata": {},
     "output_type": "display_data"
    }
   ],
   "source": [
    "IDX <- IDX+1; COND <- CONDS[IDX]\n",
    "data1 <- droplevels(subset(df1, eval(parse(text=COND)))); data1 <- data1[complete.cases(data1),]; done1 <- AOV4(data1,COND)\n",
    "display_markdown(str_c(\"# Condition \",IDX,\" of \",length(CONDS))); display_markdown(done1$info); display_markdown(\"### Table\"); done1$aov_APA$table; display_markdown(\"### Result\"); display_markdown(done1$aov_APA[[\"full_result\"]][[\"cond0\"]]); display_markdown(\"### Summary (all done1, incl. NANs)\"); done1$summary; display_markdown(\"### Expected marginal means\"); done1$emm_APA$table; display_markdown(\"### Paired comparisons for expected marginal means\"); done1$pairs_APA$table"
   ]
  },
  {
   "cell_type": "code",
   "execution_count": 77,
   "metadata": {},
   "outputs": [
    {
     "data": {
      "text/markdown": [
       "# Condition 60 of 72"
      ]
     },
     "metadata": {},
     "output_type": "display_data"
    },
    {
     "data": {
      "text/markdown": [
       "`tmin0==0.6 & chan0==\"RP\" & mode0==\"neg\"`"
      ]
     },
     "metadata": {},
     "output_type": "display_data"
    },
    {
     "data": {
      "text/markdown": [
       "### Table"
      ]
     },
     "metadata": {},
     "output_type": "display_data"
    },
    {
     "data": {
      "text/html": [
       "<table>\n",
       "<caption>A apa_results_table: 1 × 7</caption>\n",
       "<thead>\n",
       "\t<tr><th></th><th scope=col>Effect</th><th scope=col>F</th><th scope=col>df1</th><th scope=col>df2</th><th scope=col>MSE</th><th scope=col>p</th><th scope=col>ges</th></tr>\n",
       "\t<tr><th></th><th scope=col>&lt;ppj_lbll&gt;</th><th scope=col>&lt;ppj_lbll&gt;</th><th scope=col>&lt;ppj_lbll&gt;</th><th scope=col>&lt;ppj_lbll&gt;</th><th scope=col>&lt;ppj_lbll&gt;</th><th scope=col>&lt;ppj_lbll&gt;</th><th scope=col>&lt;ppj_lbll&gt;</th></tr>\n",
       "</thead>\n",
       "<tbody>\n",
       "\t<tr><th scope=row>1</th><td>Cond0</td><td>4.55</td><td>1.76</td><td>72.06</td><td>0.69</td><td>.017</td><td>.006</td></tr>\n",
       "</tbody>\n",
       "</table>\n"
      ],
      "text/latex": [
       "A apa\\_results\\_table: 1 × 7\n",
       "\\begin{tabular}{r|lllllll}\n",
       "  & Effect & F & df1 & df2 & MSE & p & ges\\\\\n",
       "  & <ppj\\_lbll> & <ppj\\_lbll> & <ppj\\_lbll> & <ppj\\_lbll> & <ppj\\_lbll> & <ppj\\_lbll> & <ppj\\_lbll>\\\\\n",
       "\\hline\n",
       "\t1 & Cond0 & 4.55 & 1.76 & 72.06 & 0.69 & .017 & .006\\\\\n",
       "\\end{tabular}\n"
      ],
      "text/markdown": [
       "\n",
       "A apa_results_table: 1 × 7\n",
       "\n",
       "| <!--/--> | Effect &lt;ppj_lbll&gt; | F &lt;ppj_lbll&gt; | df1 &lt;ppj_lbll&gt; | df2 &lt;ppj_lbll&gt; | MSE &lt;ppj_lbll&gt; | p &lt;ppj_lbll&gt; | ges &lt;ppj_lbll&gt; |\n",
       "|---|---|---|---|---|---|---|---|\n",
       "| 1 | Cond0 | 4.55 | 1.76 | 72.06 | 0.69 | .017 | .006 |\n",
       "\n"
      ],
      "text/plain": [
       "  Effect F    df1  df2   MSE  p    ges \n",
       "1 Cond0  4.55 1.76 72.06 0.69 .017 .006"
      ]
     },
     "metadata": {},
     "output_type": "display_data"
    },
    {
     "data": {
      "text/markdown": [
       "### Result"
      ]
     },
     "metadata": {},
     "output_type": "display_data"
    },
    {
     "data": {
      "text/markdown": [
       "$F(1.76, 72.06) = 4.55$, $\\mathit{MSE} = 0.69$, $p = .017$, $\\hat{\\eta}^2_G = .006$"
      ]
     },
     "metadata": {},
     "output_type": "display_data"
    },
    {
     "data": {
      "text/markdown": [
       "### Summary (all done1, incl. NANs)"
      ]
     },
     "metadata": {},
     "output_type": "display_data"
    },
    {
     "data": {
      "text/html": [
       "<table>\n",
       "<caption>A tibble: 3 × 5</caption>\n",
       "<thead>\n",
       "\t<tr><th scope=col>cond0</th><th scope=col>N</th><th scope=col>valX_M</th><th scope=col>valX_SD</th><th scope=col>valX_SE</th></tr>\n",
       "\t<tr><th scope=col>&lt;fct&gt;</th><th scope=col>&lt;int&gt;</th><th scope=col>&lt;dbl&gt;</th><th scope=col>&lt;dbl&gt;</th><th scope=col>&lt;dbl&gt;</th></tr>\n",
       "</thead>\n",
       "<tbody>\n",
       "\t<tr><td>noun_F</td><td>42</td><td>-0.1405336</td><td>2.936157</td><td>0.4530589</td></tr>\n",
       "\t<tr><td>noun_M</td><td>42</td><td> 0.2013572</td><td>2.507150</td><td>0.3868617</td></tr>\n",
       "\t<tr><td>verb_X</td><td>42</td><td> 0.3626507</td><td>2.572085</td><td>0.3968813</td></tr>\n",
       "</tbody>\n",
       "</table>\n"
      ],
      "text/latex": [
       "A tibble: 3 × 5\n",
       "\\begin{tabular}{lllll}\n",
       " cond0 & N & valX\\_M & valX\\_SD & valX\\_SE\\\\\n",
       " <fct> & <int> & <dbl> & <dbl> & <dbl>\\\\\n",
       "\\hline\n",
       "\t noun\\_F & 42 & -0.1405336 & 2.936157 & 0.4530589\\\\\n",
       "\t noun\\_M & 42 &  0.2013572 & 2.507150 & 0.3868617\\\\\n",
       "\t verb\\_X & 42 &  0.3626507 & 2.572085 & 0.3968813\\\\\n",
       "\\end{tabular}\n"
      ],
      "text/markdown": [
       "\n",
       "A tibble: 3 × 5\n",
       "\n",
       "| cond0 &lt;fct&gt; | N &lt;int&gt; | valX_M &lt;dbl&gt; | valX_SD &lt;dbl&gt; | valX_SE &lt;dbl&gt; |\n",
       "|---|---|---|---|---|\n",
       "| noun_F | 42 | -0.1405336 | 2.936157 | 0.4530589 |\n",
       "| noun_M | 42 |  0.2013572 | 2.507150 | 0.3868617 |\n",
       "| verb_X | 42 |  0.3626507 | 2.572085 | 0.3968813 |\n",
       "\n"
      ],
      "text/plain": [
       "  cond0  N  valX_M     valX_SD  valX_SE  \n",
       "1 noun_F 42 -0.1405336 2.936157 0.4530589\n",
       "2 noun_M 42  0.2013572 2.507150 0.3868617\n",
       "3 verb_X 42  0.3626507 2.572085 0.3968813"
      ]
     },
     "metadata": {},
     "output_type": "display_data"
    },
    {
     "data": {
      "text/markdown": [
       "### Expected marginal means"
      ]
     },
     "metadata": {},
     "output_type": "display_data"
    },
    {
     "data": {
      "text/html": [
       "<table>\n",
       "<caption>A apa_results_table: 3 × 5</caption>\n",
       "<thead>\n",
       "\t<tr><th></th><th scope=col>cond0</th><th scope=col>estimate</th><th scope=col>ci</th><th scope=col>statistic</th><th scope=col>p.value</th></tr>\n",
       "\t<tr><th></th><th scope=col>&lt;chr&gt;</th><th scope=col>&lt;ppj_lbll&gt;</th><th scope=col>&lt;ppj_lbll&gt;</th><th scope=col>&lt;ppj_lbll&gt;</th><th scope=col>&lt;ppj_lbll&gt;</th></tr>\n",
       "</thead>\n",
       "<tbody>\n",
       "\t<tr><th scope=row>noun_F</th><td>noun_F</td><td>-0.14</td><td>$[-0.97$, $0.69]$</td><td>-0.34</td><td>.735</td></tr>\n",
       "\t<tr><th scope=row>noun_M</th><td>noun_M</td><td>0.20 </td><td>$[-0.63$, $1.03]$</td><td>0.49 </td><td>.628</td></tr>\n",
       "\t<tr><th scope=row>verb_X</th><td>verb_X</td><td>0.36 </td><td>$[-0.47$, $1.19]$</td><td>0.88 </td><td>.385</td></tr>\n",
       "</tbody>\n",
       "</table>\n"
      ],
      "text/latex": [
       "A apa\\_results\\_table: 3 × 5\n",
       "\\begin{tabular}{r|lllll}\n",
       "  & cond0 & estimate & ci & statistic & p.value\\\\\n",
       "  & <chr> & <ppj\\_lbll> & <ppj\\_lbll> & <ppj\\_lbll> & <ppj\\_lbll>\\\\\n",
       "\\hline\n",
       "\tnoun\\_F & noun\\_F & -0.14 & \\${[}-0.97\\$, \\$0.69{]}\\$ & -0.34 & .735\\\\\n",
       "\tnoun\\_M & noun\\_M & 0.20  & \\${[}-0.63\\$, \\$1.03{]}\\$ & 0.49  & .628\\\\\n",
       "\tverb\\_X & verb\\_X & 0.36  & \\${[}-0.47\\$, \\$1.19{]}\\$ & 0.88  & .385\\\\\n",
       "\\end{tabular}\n"
      ],
      "text/markdown": [
       "\n",
       "A apa_results_table: 3 × 5\n",
       "\n",
       "| <!--/--> | cond0 &lt;chr&gt; | estimate &lt;ppj_lbll&gt; | ci &lt;ppj_lbll&gt; | statistic &lt;ppj_lbll&gt; | p.value &lt;ppj_lbll&gt; |\n",
       "|---|---|---|---|---|---|\n",
       "| noun_F | noun_F | -0.14 | $[-0.97$, $0.69]$ | -0.34 | .735 |\n",
       "| noun_M | noun_M | 0.20  | $[-0.63$, $1.03]$ | 0.49  | .628 |\n",
       "| verb_X | verb_X | 0.36  | $[-0.47$, $1.19]$ | 0.88  | .385 |\n",
       "\n"
      ],
      "text/plain": [
       "       cond0  estimate ci                statistic p.value\n",
       "noun_F noun_F -0.14    $[-0.97$, $0.69]$ -0.34     .735   \n",
       "noun_M noun_M 0.20     $[-0.63$, $1.03]$ 0.49      .628   \n",
       "verb_X verb_X 0.36     $[-0.47$, $1.19]$ 0.88      .385   "
      ]
     },
     "metadata": {},
     "output_type": "display_data"
    },
    {
     "data": {
      "text/markdown": [
       "### Paired comparisons for expected marginal means"
      ]
     },
     "metadata": {},
     "output_type": "display_data"
    },
    {
     "data": {
      "text/html": [
       "<table>\n",
       "<caption>A apa_results_table: 3 × 5</caption>\n",
       "<thead>\n",
       "\t<tr><th></th><th scope=col>contrast</th><th scope=col>estimate</th><th scope=col>ci</th><th scope=col>statistic</th><th scope=col>p.value</th></tr>\n",
       "\t<tr><th></th><th scope=col>&lt;ppj_lbll&gt;</th><th scope=col>&lt;ppj_lbll&gt;</th><th scope=col>&lt;ppj_lbll&gt;</th><th scope=col>&lt;ppj_lbll&gt;</th><th scope=col>&lt;ppj_lbll&gt;</th></tr>\n",
       "</thead>\n",
       "<tbody>\n",
       "\t<tr><th scope=row>noun_F_noun_M</th><td>noun_F - noun_M</td><td>-0.34</td><td>$[-0.75$, $0.06]$ </td><td>-2.01</td><td>.117</td></tr>\n",
       "\t<tr><th scope=row>noun_F_verb_X</th><td>noun_F - verb_X</td><td>-0.50</td><td>$[-0.91$, $-0.10]$</td><td>-2.95</td><td>.011</td></tr>\n",
       "\t<tr><th scope=row>noun_M_verb_X</th><td>noun_M - verb_X</td><td>-0.16</td><td>$[-0.57$, $0.25]$ </td><td>-0.95</td><td>.613</td></tr>\n",
       "</tbody>\n",
       "</table>\n"
      ],
      "text/latex": [
       "A apa\\_results\\_table: 3 × 5\n",
       "\\begin{tabular}{r|lllll}\n",
       "  & contrast & estimate & ci & statistic & p.value\\\\\n",
       "  & <ppj\\_lbll> & <ppj\\_lbll> & <ppj\\_lbll> & <ppj\\_lbll> & <ppj\\_lbll>\\\\\n",
       "\\hline\n",
       "\tnoun\\_F\\_noun\\_M & noun\\_F - noun\\_M & -0.34 & \\${[}-0.75\\$, \\$0.06{]}\\$  & -2.01 & .117\\\\\n",
       "\tnoun\\_F\\_verb\\_X & noun\\_F - verb\\_X & -0.50 & \\${[}-0.91\\$, \\$-0.10{]}\\$ & -2.95 & .011\\\\\n",
       "\tnoun\\_M\\_verb\\_X & noun\\_M - verb\\_X & -0.16 & \\${[}-0.57\\$, \\$0.25{]}\\$  & -0.95 & .613\\\\\n",
       "\\end{tabular}\n"
      ],
      "text/markdown": [
       "\n",
       "A apa_results_table: 3 × 5\n",
       "\n",
       "| <!--/--> | contrast &lt;ppj_lbll&gt; | estimate &lt;ppj_lbll&gt; | ci &lt;ppj_lbll&gt; | statistic &lt;ppj_lbll&gt; | p.value &lt;ppj_lbll&gt; |\n",
       "|---|---|---|---|---|---|\n",
       "| noun_F_noun_M | noun_F - noun_M | -0.34 | $[-0.75$, $0.06]$  | -2.01 | .117 |\n",
       "| noun_F_verb_X | noun_F - verb_X | -0.50 | $[-0.91$, $-0.10]$ | -2.95 | .011 |\n",
       "| noun_M_verb_X | noun_M - verb_X | -0.16 | $[-0.57$, $0.25]$  | -0.95 | .613 |\n",
       "\n"
      ],
      "text/plain": [
       "              contrast        estimate ci                 statistic p.value\n",
       "noun_F_noun_M noun_F - noun_M -0.34    $[-0.75$, $0.06]$  -2.01     .117   \n",
       "noun_F_verb_X noun_F - verb_X -0.50    $[-0.91$, $-0.10]$ -2.95     .011   \n",
       "noun_M_verb_X noun_M - verb_X -0.16    $[-0.57$, $0.25]$  -0.95     .613   "
      ]
     },
     "metadata": {},
     "output_type": "display_data"
    }
   ],
   "source": [
    "IDX <- IDX+1; COND <- CONDS[IDX]\n",
    "data1 <- droplevels(subset(df1, eval(parse(text=COND)))); data1 <- data1[complete.cases(data1),]; done1 <- AOV4(data1,COND)\n",
    "display_markdown(str_c(\"# Condition \",IDX,\" of \",length(CONDS))); display_markdown(done1$info); display_markdown(\"### Table\"); done1$aov_APA$table; display_markdown(\"### Result\"); display_markdown(done1$aov_APA[[\"full_result\"]][[\"cond0\"]]); display_markdown(\"### Summary (all done1, incl. NANs)\"); done1$summary; display_markdown(\"### Expected marginal means\"); done1$emm_APA$table; display_markdown(\"### Paired comparisons for expected marginal means\"); done1$pairs_APA$table"
   ]
  },
  {
   "cell_type": "code",
   "execution_count": 78,
   "metadata": {},
   "outputs": [
    {
     "name": "stderr",
     "output_type": "stream",
     "text": [
      "Warning message:\n",
      "“Missing values for following ID(s):\n",
      "19jgxf, 24jkxf, 25abxf, 30mszf, 31ltxf, 33kkxm, 39mrxm\n",
      "Removing those cases from the analysis.”\n"
     ]
    },
    {
     "ename": "ERROR",
     "evalue": "Error: No observations remain after removing missing values.\n  Try adding to ANOVA call: na.rm = TRUE\n",
     "output_type": "error",
     "traceback": [
      "Error: No observations remain after removing missing values.\n  Try adding to ANOVA call: na.rm = TRUE\nTraceback:\n",
      "1. AOV4(data1, COND)",
      "2. aov_4(formula <- FORMULA, data <- DATA, )   # at line 13-16 of file <text>",
      "3. aov_car(formula = as.formula(formula), data = data, fun_aggregate = fun_aggregate, \n .     type = type, return = return, factorize = factorize, check_contrasts = check_contrasts, \n .     observed = observed, anova_table = anova_table, include_aov = include_aov, \n .     ...)",
      "4. stop(\"No observations remain after removing missing values.\", \n .     \"\\n  Try adding to ANOVA call: na.rm = TRUE\", call. = FALSE)"
     ]
    }
   ],
   "source": [
    "IDX <- IDX+1; COND <- CONDS[IDX]\n",
    "data1 <- droplevels(subset(df1, eval(parse(text=COND)))); data1 <- data1[complete.cases(data1),]; done1 <- AOV4(data1,COND)\n",
    "display_markdown(str_c(\"# Condition \",IDX,\" of \",length(CONDS))); display_markdown(done1$info); display_markdown(\"### Table\"); done1$aov_APA$table; display_markdown(\"### Result\"); display_markdown(done1$aov_APA[[\"full_result\"]][[\"cond0\"]]); display_markdown(\"### Summary (all done1, incl. NANs)\"); done1$summary; display_markdown(\"### Expected marginal means\"); done1$emm_APA$table; display_markdown(\"### Paired comparisons for expected marginal means\"); done1$pairs_APA$table"
   ]
  },
  {
   "cell_type": "code",
   "execution_count": 79,
   "metadata": {},
   "outputs": [
    {
     "name": "stderr",
     "output_type": "stream",
     "text": [
      "Warning message:\n",
      "“Missing values for following ID(s):\n",
      "09msxf, 10mczf, 13jsxm, 15agxf, 22foxm, 25abxf, 32mjxf, 36rwxm, 37lpxm, 39mrxm, 40asxm\n",
      "Removing those cases from the analysis.”\n"
     ]
    },
    {
     "data": {
      "text/markdown": [
       "# Condition 62 of 72"
      ]
     },
     "metadata": {},
     "output_type": "display_data"
    },
    {
     "data": {
      "text/markdown": [
       "`tmin0==0.11 & chan0==\"LF\" & mode0==\"neg\"`"
      ]
     },
     "metadata": {},
     "output_type": "display_data"
    },
    {
     "data": {
      "text/markdown": [
       "### Table"
      ]
     },
     "metadata": {},
     "output_type": "display_data"
    },
    {
     "data": {
      "text/html": [
       "<table>\n",
       "<caption>A apa_results_table: 1 × 7</caption>\n",
       "<thead>\n",
       "\t<tr><th></th><th scope=col>Effect</th><th scope=col>F</th><th scope=col>df1</th><th scope=col>df2</th><th scope=col>MSE</th><th scope=col>p</th><th scope=col>ges</th></tr>\n",
       "\t<tr><th></th><th scope=col>&lt;ppj_lbll&gt;</th><th scope=col>&lt;ppj_lbll&gt;</th><th scope=col>&lt;ppj_lbll&gt;</th><th scope=col>&lt;ppj_lbll&gt;</th><th scope=col>&lt;ppj_lbll&gt;</th><th scope=col>&lt;ppj_lbll&gt;</th><th scope=col>&lt;ppj_lbll&gt;</th></tr>\n",
       "</thead>\n",
       "<tbody>\n",
       "\t<tr><th scope=row>1</th><td>Cond0</td><td>0.46</td><td>1.23</td><td>3.68</td><td>0.45</td><td>.575</td><td>.035</td></tr>\n",
       "</tbody>\n",
       "</table>\n"
      ],
      "text/latex": [
       "A apa\\_results\\_table: 1 × 7\n",
       "\\begin{tabular}{r|lllllll}\n",
       "  & Effect & F & df1 & df2 & MSE & p & ges\\\\\n",
       "  & <ppj\\_lbll> & <ppj\\_lbll> & <ppj\\_lbll> & <ppj\\_lbll> & <ppj\\_lbll> & <ppj\\_lbll> & <ppj\\_lbll>\\\\\n",
       "\\hline\n",
       "\t1 & Cond0 & 0.46 & 1.23 & 3.68 & 0.45 & .575 & .035\\\\\n",
       "\\end{tabular}\n"
      ],
      "text/markdown": [
       "\n",
       "A apa_results_table: 1 × 7\n",
       "\n",
       "| <!--/--> | Effect &lt;ppj_lbll&gt; | F &lt;ppj_lbll&gt; | df1 &lt;ppj_lbll&gt; | df2 &lt;ppj_lbll&gt; | MSE &lt;ppj_lbll&gt; | p &lt;ppj_lbll&gt; | ges &lt;ppj_lbll&gt; |\n",
       "|---|---|---|---|---|---|---|---|\n",
       "| 1 | Cond0 | 0.46 | 1.23 | 3.68 | 0.45 | .575 | .035 |\n",
       "\n"
      ],
      "text/plain": [
       "  Effect F    df1  df2  MSE  p    ges \n",
       "1 Cond0  0.46 1.23 3.68 0.45 .575 .035"
      ]
     },
     "metadata": {},
     "output_type": "display_data"
    },
    {
     "data": {
      "text/markdown": [
       "### Result"
      ]
     },
     "metadata": {},
     "output_type": "display_data"
    },
    {
     "data": {
      "text/markdown": [
       "$F(1.23, 3.68) = 0.46$, $\\mathit{MSE} = 0.45$, $p = .575$, $\\hat{\\eta}^2_G = .035$"
      ]
     },
     "metadata": {},
     "output_type": "display_data"
    },
    {
     "data": {
      "text/markdown": [
       "### Summary (all done1, incl. NANs)"
      ]
     },
     "metadata": {},
     "output_type": "display_data"
    },
    {
     "data": {
      "text/html": [
       "<table>\n",
       "<caption>A tibble: 3 × 5</caption>\n",
       "<thead>\n",
       "\t<tr><th scope=col>cond0</th><th scope=col>N</th><th scope=col>valX_M</th><th scope=col>valX_SD</th><th scope=col>valX_SE</th></tr>\n",
       "\t<tr><th scope=col>&lt;fct&gt;</th><th scope=col>&lt;int&gt;</th><th scope=col>&lt;dbl&gt;</th><th scope=col>&lt;dbl&gt;</th><th scope=col>&lt;dbl&gt;</th></tr>\n",
       "</thead>\n",
       "<tbody>\n",
       "\t<tr><td>noun_F</td><td> 7</td><td>-2.546522</td><td>1.065947</td><td>0.4028901</td></tr>\n",
       "\t<tr><td>noun_M</td><td>10</td><td>-2.645662</td><td>1.143593</td><td>0.3616357</td></tr>\n",
       "\t<tr><td>verb_X</td><td> 9</td><td>-2.037640</td><td>1.683528</td><td>0.5611759</td></tr>\n",
       "</tbody>\n",
       "</table>\n"
      ],
      "text/latex": [
       "A tibble: 3 × 5\n",
       "\\begin{tabular}{lllll}\n",
       " cond0 & N & valX\\_M & valX\\_SD & valX\\_SE\\\\\n",
       " <fct> & <int> & <dbl> & <dbl> & <dbl>\\\\\n",
       "\\hline\n",
       "\t noun\\_F &  7 & -2.546522 & 1.065947 & 0.4028901\\\\\n",
       "\t noun\\_M & 10 & -2.645662 & 1.143593 & 0.3616357\\\\\n",
       "\t verb\\_X &  9 & -2.037640 & 1.683528 & 0.5611759\\\\\n",
       "\\end{tabular}\n"
      ],
      "text/markdown": [
       "\n",
       "A tibble: 3 × 5\n",
       "\n",
       "| cond0 &lt;fct&gt; | N &lt;int&gt; | valX_M &lt;dbl&gt; | valX_SD &lt;dbl&gt; | valX_SE &lt;dbl&gt; |\n",
       "|---|---|---|---|---|\n",
       "| noun_F |  7 | -2.546522 | 1.065947 | 0.4028901 |\n",
       "| noun_M | 10 | -2.645662 | 1.143593 | 0.3616357 |\n",
       "| verb_X |  9 | -2.037640 | 1.683528 | 0.5611759 |\n",
       "\n"
      ],
      "text/plain": [
       "  cond0  N  valX_M    valX_SD  valX_SE  \n",
       "1 noun_F  7 -2.546522 1.065947 0.4028901\n",
       "2 noun_M 10 -2.645662 1.143593 0.3616357\n",
       "3 verb_X  9 -2.037640 1.683528 0.5611759"
      ]
     },
     "metadata": {},
     "output_type": "display_data"
    },
    {
     "data": {
      "text/markdown": [
       "### Expected marginal means"
      ]
     },
     "metadata": {},
     "output_type": "display_data"
    },
    {
     "data": {
      "text/html": [
       "<table>\n",
       "<caption>A apa_results_table: 3 × 5</caption>\n",
       "<thead>\n",
       "\t<tr><th></th><th scope=col>cond0</th><th scope=col>estimate</th><th scope=col>ci</th><th scope=col>statistic</th><th scope=col>p.value</th></tr>\n",
       "\t<tr><th></th><th scope=col>&lt;chr&gt;</th><th scope=col>&lt;ppj_lbll&gt;</th><th scope=col>&lt;ppj_lbll&gt;</th><th scope=col>&lt;ppj_lbll&gt;</th><th scope=col>&lt;ppj_lbll&gt;</th></tr>\n",
       "</thead>\n",
       "<tbody>\n",
       "\t<tr><th scope=row>noun_F</th><td>noun_F</td><td>-3.14</td><td>$[-4.30$, $-1.98]$</td><td>-7.03</td><td>.001</td></tr>\n",
       "\t<tr><th scope=row>noun_M</th><td>noun_M</td><td>-2.83</td><td>$[-3.99$, $-1.67]$</td><td>-6.34</td><td>.002</td></tr>\n",
       "\t<tr><th scope=row>verb_X</th><td>verb_X</td><td>-2.82</td><td>$[-3.98$, $-1.67]$</td><td>-6.32</td><td>.002</td></tr>\n",
       "</tbody>\n",
       "</table>\n"
      ],
      "text/latex": [
       "A apa\\_results\\_table: 3 × 5\n",
       "\\begin{tabular}{r|lllll}\n",
       "  & cond0 & estimate & ci & statistic & p.value\\\\\n",
       "  & <chr> & <ppj\\_lbll> & <ppj\\_lbll> & <ppj\\_lbll> & <ppj\\_lbll>\\\\\n",
       "\\hline\n",
       "\tnoun\\_F & noun\\_F & -3.14 & \\${[}-4.30\\$, \\$-1.98{]}\\$ & -7.03 & .001\\\\\n",
       "\tnoun\\_M & noun\\_M & -2.83 & \\${[}-3.99\\$, \\$-1.67{]}\\$ & -6.34 & .002\\\\\n",
       "\tverb\\_X & verb\\_X & -2.82 & \\${[}-3.98\\$, \\$-1.67{]}\\$ & -6.32 & .002\\\\\n",
       "\\end{tabular}\n"
      ],
      "text/markdown": [
       "\n",
       "A apa_results_table: 3 × 5\n",
       "\n",
       "| <!--/--> | cond0 &lt;chr&gt; | estimate &lt;ppj_lbll&gt; | ci &lt;ppj_lbll&gt; | statistic &lt;ppj_lbll&gt; | p.value &lt;ppj_lbll&gt; |\n",
       "|---|---|---|---|---|---|\n",
       "| noun_F | noun_F | -3.14 | $[-4.30$, $-1.98]$ | -7.03 | .001 |\n",
       "| noun_M | noun_M | -2.83 | $[-3.99$, $-1.67]$ | -6.34 | .002 |\n",
       "| verb_X | verb_X | -2.82 | $[-3.98$, $-1.67]$ | -6.32 | .002 |\n",
       "\n"
      ],
      "text/plain": [
       "       cond0  estimate ci                 statistic p.value\n",
       "noun_F noun_F -3.14    $[-4.30$, $-1.98]$ -7.03     .001   \n",
       "noun_M noun_M -2.83    $[-3.99$, $-1.67]$ -6.34     .002   \n",
       "verb_X verb_X -2.82    $[-3.98$, $-1.67]$ -6.32     .002   "
      ]
     },
     "metadata": {},
     "output_type": "display_data"
    },
    {
     "data": {
      "text/markdown": [
       "### Paired comparisons for expected marginal means"
      ]
     },
     "metadata": {},
     "output_type": "display_data"
    },
    {
     "data": {
      "text/html": [
       "<table>\n",
       "<caption>A apa_results_table: 3 × 5</caption>\n",
       "<thead>\n",
       "\t<tr><th></th><th scope=col>contrast</th><th scope=col>estimate</th><th scope=col>ci</th><th scope=col>statistic</th><th scope=col>p.value</th></tr>\n",
       "\t<tr><th></th><th scope=col>&lt;ppj_lbll&gt;</th><th scope=col>&lt;ppj_lbll&gt;</th><th scope=col>&lt;ppj_lbll&gt;</th><th scope=col>&lt;ppj_lbll&gt;</th><th scope=col>&lt;ppj_lbll&gt;</th></tr>\n",
       "</thead>\n",
       "<tbody>\n",
       "\t<tr><th scope=row>noun_F_noun_M</th><td>noun_F - noun_M</td><td>-0.31</td><td>$[-1.45$, $0.84]$</td><td>-0.82</td><td>.705  </td></tr>\n",
       "\t<tr><th scope=row>noun_F_verb_X</th><td>noun_F - verb_X</td><td>-0.31</td><td>$[-1.46$, $0.83]$</td><td>-0.85</td><td>.690  </td></tr>\n",
       "\t<tr><th scope=row>noun_M_verb_X</th><td>noun_M - verb_X</td><td>-0.01</td><td>$[-1.15$, $1.13]$</td><td>-0.03</td><td>&gt; .999</td></tr>\n",
       "</tbody>\n",
       "</table>\n"
      ],
      "text/latex": [
       "A apa\\_results\\_table: 3 × 5\n",
       "\\begin{tabular}{r|lllll}\n",
       "  & contrast & estimate & ci & statistic & p.value\\\\\n",
       "  & <ppj\\_lbll> & <ppj\\_lbll> & <ppj\\_lbll> & <ppj\\_lbll> & <ppj\\_lbll>\\\\\n",
       "\\hline\n",
       "\tnoun\\_F\\_noun\\_M & noun\\_F - noun\\_M & -0.31 & \\${[}-1.45\\$, \\$0.84{]}\\$ & -0.82 & .705  \\\\\n",
       "\tnoun\\_F\\_verb\\_X & noun\\_F - verb\\_X & -0.31 & \\${[}-1.46\\$, \\$0.83{]}\\$ & -0.85 & .690  \\\\\n",
       "\tnoun\\_M\\_verb\\_X & noun\\_M - verb\\_X & -0.01 & \\${[}-1.15\\$, \\$1.13{]}\\$ & -0.03 & > .999\\\\\n",
       "\\end{tabular}\n"
      ],
      "text/markdown": [
       "\n",
       "A apa_results_table: 3 × 5\n",
       "\n",
       "| <!--/--> | contrast &lt;ppj_lbll&gt; | estimate &lt;ppj_lbll&gt; | ci &lt;ppj_lbll&gt; | statistic &lt;ppj_lbll&gt; | p.value &lt;ppj_lbll&gt; |\n",
       "|---|---|---|---|---|---|\n",
       "| noun_F_noun_M | noun_F - noun_M | -0.31 | $[-1.45$, $0.84]$ | -0.82 | .705   |\n",
       "| noun_F_verb_X | noun_F - verb_X | -0.31 | $[-1.46$, $0.83]$ | -0.85 | .690   |\n",
       "| noun_M_verb_X | noun_M - verb_X | -0.01 | $[-1.15$, $1.13]$ | -0.03 | &gt; .999 |\n",
       "\n"
      ],
      "text/plain": [
       "              contrast        estimate ci                statistic p.value\n",
       "noun_F_noun_M noun_F - noun_M -0.31    $[-1.45$, $0.84]$ -0.82     .705   \n",
       "noun_F_verb_X noun_F - verb_X -0.31    $[-1.46$, $0.83]$ -0.85     .690   \n",
       "noun_M_verb_X noun_M - verb_X -0.01    $[-1.15$, $1.13]$ -0.03     > .999 "
      ]
     },
     "metadata": {},
     "output_type": "display_data"
    }
   ],
   "source": [
    "IDX <- IDX+1; COND <- CONDS[IDX]\n",
    "data1 <- droplevels(subset(df1, eval(parse(text=COND)))); data1 <- data1[complete.cases(data1),]; done1 <- AOV4(data1,COND)\n",
    "display_markdown(str_c(\"# Condition \",IDX,\" of \",length(CONDS))); display_markdown(done1$info); display_markdown(\"### Table\"); done1$aov_APA$table; display_markdown(\"### Result\"); display_markdown(done1$aov_APA[[\"full_result\"]][[\"cond0\"]]); display_markdown(\"### Summary (all done1, incl. NANs)\"); done1$summary; display_markdown(\"### Expected marginal means\"); done1$emm_APA$table; display_markdown(\"### Paired comparisons for expected marginal means\"); done1$pairs_APA$table"
   ]
  },
  {
   "cell_type": "code",
   "execution_count": 80,
   "metadata": {},
   "outputs": [
    {
     "name": "stderr",
     "output_type": "stream",
     "text": [
      "Warning message:\n",
      "“Missing values for following ID(s):\n",
      "01mkxf, 04mkkm, 19jgxf, 24jkxf, 26mwxf, 33kkxm, 39mrxm\n",
      "Removing those cases from the analysis.”\n"
     ]
    },
    {
     "ename": "ERROR",
     "evalue": "Error: No observations remain after removing missing values.\n  Try adding to ANOVA call: na.rm = TRUE\n",
     "output_type": "error",
     "traceback": [
      "Error: No observations remain after removing missing values.\n  Try adding to ANOVA call: na.rm = TRUE\nTraceback:\n",
      "1. AOV4(data1, COND)",
      "2. aov_4(formula <- FORMULA, data <- DATA, )   # at line 13-16 of file <text>",
      "3. aov_car(formula = as.formula(formula), data = data, fun_aggregate = fun_aggregate, \n .     type = type, return = return, factorize = factorize, check_contrasts = check_contrasts, \n .     observed = observed, anova_table = anova_table, include_aov = include_aov, \n .     ...)",
      "4. stop(\"No observations remain after removing missing values.\", \n .     \"\\n  Try adding to ANOVA call: na.rm = TRUE\", call. = FALSE)"
     ]
    }
   ],
   "source": [
    "IDX <- IDX+1; COND <- CONDS[IDX]\n",
    "data1 <- droplevels(subset(df1, eval(parse(text=COND)))); data1 <- data1[complete.cases(data1),]; done1 <- AOV4(data1,COND)\n",
    "display_markdown(str_c(\"# Condition \",IDX,\" of \",length(CONDS))); display_markdown(done1$info); display_markdown(\"### Table\"); done1$aov_APA$table; display_markdown(\"### Result\"); display_markdown(done1$aov_APA[[\"full_result\"]][[\"cond0\"]]); display_markdown(\"### Summary (all done1, incl. NANs)\"); done1$summary; display_markdown(\"### Expected marginal means\"); done1$emm_APA$table; display_markdown(\"### Paired comparisons for expected marginal means\"); done1$pairs_APA$table"
   ]
  },
  {
   "cell_type": "code",
   "execution_count": 81,
   "metadata": {},
   "outputs": [
    {
     "name": "stderr",
     "output_type": "stream",
     "text": [
      "Warning message:\n",
      "“Missing values for following ID(s):\n",
      "02ppxm, 04mkkm, 05jwxf, 07zrxf, 10mczf, 12jnxf, 14ktxf, 15agxf, 17makf, 22foxm, 31ltxf, 32mjxf, 36rwxm, 40asxm, 42aszm\n",
      "Removing those cases from the analysis.”\n",
      "Warning message in summary.Anova.mlm(x$Anova):\n",
      "“Singular error SSP matrix:\n",
      "non-sphericity test and corrections not available”\n"
     ]
    },
    {
     "data": {
      "text/markdown": [
       "# Condition 64 of 72"
      ]
     },
     "metadata": {},
     "output_type": "display_data"
    },
    {
     "data": {
      "text/markdown": [
       "`tmin0==0.11 & chan0==\"RF\" & mode0==\"neg\"`"
      ]
     },
     "metadata": {},
     "output_type": "display_data"
    },
    {
     "data": {
      "text/markdown": [
       "### Table"
      ]
     },
     "metadata": {},
     "output_type": "display_data"
    },
    {
     "data": {
      "text/html": [
       "<table>\n",
       "<caption>A apa_results_table: 1 × 7</caption>\n",
       "<thead>\n",
       "\t<tr><th></th><th scope=col>Effect</th><th scope=col>F</th><th scope=col>df1</th><th scope=col>df2</th><th scope=col>MSE</th><th scope=col>p</th><th scope=col>ges</th></tr>\n",
       "\t<tr><th></th><th scope=col>&lt;ppj_lbll&gt;</th><th scope=col>&lt;ppj_lbll&gt;</th><th scope=col>&lt;ppj_lbll&gt;</th><th scope=col>&lt;ppj_lbll&gt;</th><th scope=col>&lt;ppj_lbll&gt;</th><th scope=col>&lt;ppj_lbll&gt;</th><th scope=col>&lt;ppj_lbll&gt;</th></tr>\n",
       "</thead>\n",
       "<tbody>\n",
       "\t<tr><th scope=row>1</th><td>Cond0</td><td>5.68</td><td>2</td><td>2</td><td>0.13</td><td>.150</td><td>.757</td></tr>\n",
       "</tbody>\n",
       "</table>\n"
      ],
      "text/latex": [
       "A apa\\_results\\_table: 1 × 7\n",
       "\\begin{tabular}{r|lllllll}\n",
       "  & Effect & F & df1 & df2 & MSE & p & ges\\\\\n",
       "  & <ppj\\_lbll> & <ppj\\_lbll> & <ppj\\_lbll> & <ppj\\_lbll> & <ppj\\_lbll> & <ppj\\_lbll> & <ppj\\_lbll>\\\\\n",
       "\\hline\n",
       "\t1 & Cond0 & 5.68 & 2 & 2 & 0.13 & .150 & .757\\\\\n",
       "\\end{tabular}\n"
      ],
      "text/markdown": [
       "\n",
       "A apa_results_table: 1 × 7\n",
       "\n",
       "| <!--/--> | Effect &lt;ppj_lbll&gt; | F &lt;ppj_lbll&gt; | df1 &lt;ppj_lbll&gt; | df2 &lt;ppj_lbll&gt; | MSE &lt;ppj_lbll&gt; | p &lt;ppj_lbll&gt; | ges &lt;ppj_lbll&gt; |\n",
       "|---|---|---|---|---|---|---|---|\n",
       "| 1 | Cond0 | 5.68 | 2 | 2 | 0.13 | .150 | .757 |\n",
       "\n"
      ],
      "text/plain": [
       "  Effect F    df1 df2 MSE  p    ges \n",
       "1 Cond0  5.68 2   2   0.13 .150 .757"
      ]
     },
     "metadata": {},
     "output_type": "display_data"
    },
    {
     "data": {
      "text/markdown": [
       "### Result"
      ]
     },
     "metadata": {},
     "output_type": "display_data"
    },
    {
     "data": {
      "text/markdown": [
       "$F(2, 2) = 5.68$, $\\mathit{MSE} = 0.13$, $p = .150$, $\\hat{\\eta}^2_G = .757$"
      ]
     },
     "metadata": {},
     "output_type": "display_data"
    },
    {
     "data": {
      "text/markdown": [
       "### Summary (all done1, incl. NANs)"
      ]
     },
     "metadata": {},
     "output_type": "display_data"
    },
    {
     "data": {
      "text/html": [
       "<table>\n",
       "<caption>A tibble: 3 × 5</caption>\n",
       "<thead>\n",
       "\t<tr><th scope=col>cond0</th><th scope=col>N</th><th scope=col>valX_M</th><th scope=col>valX_SD</th><th scope=col>valX_SE</th></tr>\n",
       "\t<tr><th scope=col>&lt;fct&gt;</th><th scope=col>&lt;int&gt;</th><th scope=col>&lt;dbl&gt;</th><th scope=col>&lt;dbl&gt;</th><th scope=col>&lt;dbl&gt;</th></tr>\n",
       "</thead>\n",
       "<tbody>\n",
       "\t<tr><td>noun_F</td><td>12</td><td>-1.845465</td><td>0.9907064</td><td>0.2859923</td></tr>\n",
       "\t<tr><td>noun_M</td><td>10</td><td>-2.135666</td><td>1.1629144</td><td>0.3677458</td></tr>\n",
       "\t<tr><td>verb_X</td><td> 6</td><td>-2.842978</td><td>0.9977967</td><td>0.4073488</td></tr>\n",
       "</tbody>\n",
       "</table>\n"
      ],
      "text/latex": [
       "A tibble: 3 × 5\n",
       "\\begin{tabular}{lllll}\n",
       " cond0 & N & valX\\_M & valX\\_SD & valX\\_SE\\\\\n",
       " <fct> & <int> & <dbl> & <dbl> & <dbl>\\\\\n",
       "\\hline\n",
       "\t noun\\_F & 12 & -1.845465 & 0.9907064 & 0.2859923\\\\\n",
       "\t noun\\_M & 10 & -2.135666 & 1.1629144 & 0.3677458\\\\\n",
       "\t verb\\_X &  6 & -2.842978 & 0.9977967 & 0.4073488\\\\\n",
       "\\end{tabular}\n"
      ],
      "text/markdown": [
       "\n",
       "A tibble: 3 × 5\n",
       "\n",
       "| cond0 &lt;fct&gt; | N &lt;int&gt; | valX_M &lt;dbl&gt; | valX_SD &lt;dbl&gt; | valX_SE &lt;dbl&gt; |\n",
       "|---|---|---|---|---|\n",
       "| noun_F | 12 | -1.845465 | 0.9907064 | 0.2859923 |\n",
       "| noun_M | 10 | -2.135666 | 1.1629144 | 0.3677458 |\n",
       "| verb_X |  6 | -2.842978 | 0.9977967 | 0.4073488 |\n",
       "\n"
      ],
      "text/plain": [
       "  cond0  N  valX_M    valX_SD   valX_SE  \n",
       "1 noun_F 12 -1.845465 0.9907064 0.2859923\n",
       "2 noun_M 10 -2.135666 1.1629144 0.3677458\n",
       "3 verb_X  6 -2.842978 0.9977967 0.4073488"
      ]
     },
     "metadata": {},
     "output_type": "display_data"
    },
    {
     "data": {
      "text/markdown": [
       "### Expected marginal means"
      ]
     },
     "metadata": {},
     "output_type": "display_data"
    },
    {
     "data": {
      "text/html": [
       "<table>\n",
       "<caption>A apa_results_table: 3 × 5</caption>\n",
       "<thead>\n",
       "\t<tr><th></th><th scope=col>cond0</th><th scope=col>estimate</th><th scope=col>ci</th><th scope=col>statistic</th><th scope=col>p.value</th></tr>\n",
       "\t<tr><th></th><th scope=col>&lt;chr&gt;</th><th scope=col>&lt;ppj_lbll&gt;</th><th scope=col>&lt;ppj_lbll&gt;</th><th scope=col>&lt;ppj_lbll&gt;</th><th scope=col>&lt;ppj_lbll&gt;</th></tr>\n",
       "</thead>\n",
       "<tbody>\n",
       "\t<tr><th scope=row>noun_F</th><td>noun_F</td><td>-3.16</td><td>$[-4.07$, $-2.24]$</td><td>-11.38</td><td>.002</td></tr>\n",
       "\t<tr><th scope=row>noun_M</th><td>noun_M</td><td>-1.98</td><td>$[-2.90$, $-1.07]$</td><td>-7.15 </td><td>.007</td></tr>\n",
       "\t<tr><th scope=row>verb_X</th><td>verb_X</td><td>-2.79</td><td>$[-3.71$, $-1.88]$</td><td>-10.06</td><td>.003</td></tr>\n",
       "</tbody>\n",
       "</table>\n"
      ],
      "text/latex": [
       "A apa\\_results\\_table: 3 × 5\n",
       "\\begin{tabular}{r|lllll}\n",
       "  & cond0 & estimate & ci & statistic & p.value\\\\\n",
       "  & <chr> & <ppj\\_lbll> & <ppj\\_lbll> & <ppj\\_lbll> & <ppj\\_lbll>\\\\\n",
       "\\hline\n",
       "\tnoun\\_F & noun\\_F & -3.16 & \\${[}-4.07\\$, \\$-2.24{]}\\$ & -11.38 & .002\\\\\n",
       "\tnoun\\_M & noun\\_M & -1.98 & \\${[}-2.90\\$, \\$-1.07{]}\\$ & -7.15  & .007\\\\\n",
       "\tverb\\_X & verb\\_X & -2.79 & \\${[}-3.71\\$, \\$-1.88{]}\\$ & -10.06 & .003\\\\\n",
       "\\end{tabular}\n"
      ],
      "text/markdown": [
       "\n",
       "A apa_results_table: 3 × 5\n",
       "\n",
       "| <!--/--> | cond0 &lt;chr&gt; | estimate &lt;ppj_lbll&gt; | ci &lt;ppj_lbll&gt; | statistic &lt;ppj_lbll&gt; | p.value &lt;ppj_lbll&gt; |\n",
       "|---|---|---|---|---|---|\n",
       "| noun_F | noun_F | -3.16 | $[-4.07$, $-2.24]$ | -11.38 | .002 |\n",
       "| noun_M | noun_M | -1.98 | $[-2.90$, $-1.07]$ | -7.15  | .007 |\n",
       "| verb_X | verb_X | -2.79 | $[-3.71$, $-1.88]$ | -10.06 | .003 |\n",
       "\n"
      ],
      "text/plain": [
       "       cond0  estimate ci                 statistic p.value\n",
       "noun_F noun_F -3.16    $[-4.07$, $-2.24]$ -11.38    .002   \n",
       "noun_M noun_M -1.98    $[-2.90$, $-1.07]$ -7.15     .007   \n",
       "verb_X verb_X -2.79    $[-3.71$, $-1.88]$ -10.06    .003   "
      ]
     },
     "metadata": {},
     "output_type": "display_data"
    },
    {
     "data": {
      "text/markdown": [
       "### Paired comparisons for expected marginal means"
      ]
     },
     "metadata": {},
     "output_type": "display_data"
    },
    {
     "data": {
      "text/html": [
       "<table>\n",
       "<caption>A apa_results_table: 3 × 5</caption>\n",
       "<thead>\n",
       "\t<tr><th></th><th scope=col>contrast</th><th scope=col>estimate</th><th scope=col>ci</th><th scope=col>statistic</th><th scope=col>p.value</th></tr>\n",
       "\t<tr><th></th><th scope=col>&lt;ppj_lbll&gt;</th><th scope=col>&lt;ppj_lbll&gt;</th><th scope=col>&lt;ppj_lbll&gt;</th><th scope=col>&lt;ppj_lbll&gt;</th><th scope=col>&lt;ppj_lbll&gt;</th></tr>\n",
       "</thead>\n",
       "<tbody>\n",
       "\t<tr><th scope=row>noun_F_noun_M</th><td>noun_F - noun_M</td><td>-1.17</td><td>$[-3.27$, $0.92]$</td><td>-3.29</td><td>.144</td></tr>\n",
       "\t<tr><th scope=row>noun_F_verb_X</th><td>noun_F - verb_X</td><td>-0.37</td><td>$[-2.46$, $1.73]$</td><td>-1.03</td><td>.633</td></tr>\n",
       "\t<tr><th scope=row>noun_M_verb_X</th><td>noun_M - verb_X</td><td>0.81 </td><td>$[-1.29$, $2.91]$</td><td>2.27 </td><td>.262</td></tr>\n",
       "</tbody>\n",
       "</table>\n"
      ],
      "text/latex": [
       "A apa\\_results\\_table: 3 × 5\n",
       "\\begin{tabular}{r|lllll}\n",
       "  & contrast & estimate & ci & statistic & p.value\\\\\n",
       "  & <ppj\\_lbll> & <ppj\\_lbll> & <ppj\\_lbll> & <ppj\\_lbll> & <ppj\\_lbll>\\\\\n",
       "\\hline\n",
       "\tnoun\\_F\\_noun\\_M & noun\\_F - noun\\_M & -1.17 & \\${[}-3.27\\$, \\$0.92{]}\\$ & -3.29 & .144\\\\\n",
       "\tnoun\\_F\\_verb\\_X & noun\\_F - verb\\_X & -0.37 & \\${[}-2.46\\$, \\$1.73{]}\\$ & -1.03 & .633\\\\\n",
       "\tnoun\\_M\\_verb\\_X & noun\\_M - verb\\_X & 0.81  & \\${[}-1.29\\$, \\$2.91{]}\\$ & 2.27  & .262\\\\\n",
       "\\end{tabular}\n"
      ],
      "text/markdown": [
       "\n",
       "A apa_results_table: 3 × 5\n",
       "\n",
       "| <!--/--> | contrast &lt;ppj_lbll&gt; | estimate &lt;ppj_lbll&gt; | ci &lt;ppj_lbll&gt; | statistic &lt;ppj_lbll&gt; | p.value &lt;ppj_lbll&gt; |\n",
       "|---|---|---|---|---|---|\n",
       "| noun_F_noun_M | noun_F - noun_M | -1.17 | $[-3.27$, $0.92]$ | -3.29 | .144 |\n",
       "| noun_F_verb_X | noun_F - verb_X | -0.37 | $[-2.46$, $1.73]$ | -1.03 | .633 |\n",
       "| noun_M_verb_X | noun_M - verb_X | 0.81  | $[-1.29$, $2.91]$ | 2.27  | .262 |\n",
       "\n"
      ],
      "text/plain": [
       "              contrast        estimate ci                statistic p.value\n",
       "noun_F_noun_M noun_F - noun_M -1.17    $[-3.27$, $0.92]$ -3.29     .144   \n",
       "noun_F_verb_X noun_F - verb_X -0.37    $[-2.46$, $1.73]$ -1.03     .633   \n",
       "noun_M_verb_X noun_M - verb_X 0.81     $[-1.29$, $2.91]$ 2.27      .262   "
      ]
     },
     "metadata": {},
     "output_type": "display_data"
    }
   ],
   "source": [
    "IDX <- IDX+1; COND <- CONDS[IDX]\n",
    "data1 <- droplevels(subset(df1, eval(parse(text=COND)))); data1 <- data1[complete.cases(data1),]; done1 <- AOV4(data1,COND)\n",
    "display_markdown(str_c(\"# Condition \",IDX,\" of \",length(CONDS))); display_markdown(done1$info); display_markdown(\"### Table\"); done1$aov_APA$table; display_markdown(\"### Result\"); display_markdown(done1$aov_APA[[\"full_result\"]][[\"cond0\"]]); display_markdown(\"### Summary (all done1, incl. NANs)\"); done1$summary; display_markdown(\"### Expected marginal means\"); done1$emm_APA$table; display_markdown(\"### Paired comparisons for expected marginal means\"); done1$pairs_APA$table"
   ]
  },
  {
   "cell_type": "code",
   "execution_count": 82,
   "metadata": {},
   "outputs": [
    {
     "name": "stderr",
     "output_type": "stream",
     "text": [
      "Warning message:\n",
      "“Missing values for following ID(s):\n",
      "02ppxm, 08pnxm, 11kbxm, 12jnxf, 13jsxm, 15agxf, 22foxm, 23zdxf, 28pmsf, 31ltxf, 36rwxm, 37lpxm\n",
      "Removing those cases from the analysis.”\n"
     ]
    },
    {
     "ename": "ERROR",
     "evalue": "Error: No observations remain after removing missing values.\n  Try adding to ANOVA call: na.rm = TRUE\n",
     "output_type": "error",
     "traceback": [
      "Error: No observations remain after removing missing values.\n  Try adding to ANOVA call: na.rm = TRUE\nTraceback:\n",
      "1. AOV4(data1, COND)",
      "2. aov_4(formula <- FORMULA, data <- DATA, )   # at line 13-16 of file <text>",
      "3. aov_car(formula = as.formula(formula), data = data, fun_aggregate = fun_aggregate, \n .     type = type, return = return, factorize = factorize, check_contrasts = check_contrasts, \n .     observed = observed, anova_table = anova_table, include_aov = include_aov, \n .     ...)",
      "4. stop(\"No observations remain after removing missing values.\", \n .     \"\\n  Try adding to ANOVA call: na.rm = TRUE\", call. = FALSE)"
     ]
    }
   ],
   "source": [
    "IDX <- IDX+1; COND <- CONDS[IDX]\n",
    "data1 <- droplevels(subset(df1, eval(parse(text=COND)))); data1 <- data1[complete.cases(data1),]; done1 <- AOV4(data1,COND)\n",
    "display_markdown(str_c(\"# Condition \",IDX,\" of \",length(CONDS))); display_markdown(done1$info); display_markdown(\"### Table\"); done1$aov_APA$table; display_markdown(\"### Result\"); display_markdown(done1$aov_APA[[\"full_result\"]][[\"cond0\"]]); display_markdown(\"### Summary (all done1, incl. NANs)\"); done1$summary; display_markdown(\"### Expected marginal means\"); done1$emm_APA$table; display_markdown(\"### Paired comparisons for expected marginal means\"); done1$pairs_APA$table"
   ]
  },
  {
   "cell_type": "code",
   "execution_count": 83,
   "metadata": {},
   "outputs": [
    {
     "name": "stderr",
     "output_type": "stream",
     "text": [
      "Warning message:\n",
      "“Missing values for following ID(s):\n",
      "03mjkf, 06pppm, 09msxf, 11kbxm, 12jnxf, 14ktxf, 16olxm, 17makf, 18skxm, 19jgxf, 21koxf, 22foxm, 24jkxf, 25abxf, 26mwxf, 27zgxf, 32mjxf, 35mwxm, 36rwxm, 37lpxm, 39mrxm, 40asxm\n",
      "Removing those cases from the analysis.”\n",
      "Warning message in summary.Anova.mlm(x$Anova):\n",
      "“HF eps > 1 treated as 1”\n"
     ]
    },
    {
     "data": {
      "text/markdown": [
       "# Condition 66 of 72"
      ]
     },
     "metadata": {},
     "output_type": "display_data"
    },
    {
     "data": {
      "text/markdown": [
       "`tmin0==0.11 & chan0==\"LC\" & mode0==\"neg\"`"
      ]
     },
     "metadata": {},
     "output_type": "display_data"
    },
    {
     "data": {
      "text/markdown": [
       "### Table"
      ]
     },
     "metadata": {},
     "output_type": "display_data"
    },
    {
     "data": {
      "text/html": [
       "<table>\n",
       "<caption>A apa_results_table: 1 × 7</caption>\n",
       "<thead>\n",
       "\t<tr><th></th><th scope=col>Effect</th><th scope=col>F</th><th scope=col>df1</th><th scope=col>df2</th><th scope=col>MSE</th><th scope=col>p</th><th scope=col>ges</th></tr>\n",
       "\t<tr><th></th><th scope=col>&lt;ppj_lbll&gt;</th><th scope=col>&lt;ppj_lbll&gt;</th><th scope=col>&lt;ppj_lbll&gt;</th><th scope=col>&lt;ppj_lbll&gt;</th><th scope=col>&lt;ppj_lbll&gt;</th><th scope=col>&lt;ppj_lbll&gt;</th><th scope=col>&lt;ppj_lbll&gt;</th></tr>\n",
       "</thead>\n",
       "<tbody>\n",
       "\t<tr><th scope=row>1</th><td>Cond0</td><td>1.01</td><td>1.52</td><td>3.03</td><td>0.05</td><td>.434</td><td>.008</td></tr>\n",
       "</tbody>\n",
       "</table>\n"
      ],
      "text/latex": [
       "A apa\\_results\\_table: 1 × 7\n",
       "\\begin{tabular}{r|lllllll}\n",
       "  & Effect & F & df1 & df2 & MSE & p & ges\\\\\n",
       "  & <ppj\\_lbll> & <ppj\\_lbll> & <ppj\\_lbll> & <ppj\\_lbll> & <ppj\\_lbll> & <ppj\\_lbll> & <ppj\\_lbll>\\\\\n",
       "\\hline\n",
       "\t1 & Cond0 & 1.01 & 1.52 & 3.03 & 0.05 & .434 & .008\\\\\n",
       "\\end{tabular}\n"
      ],
      "text/markdown": [
       "\n",
       "A apa_results_table: 1 × 7\n",
       "\n",
       "| <!--/--> | Effect &lt;ppj_lbll&gt; | F &lt;ppj_lbll&gt; | df1 &lt;ppj_lbll&gt; | df2 &lt;ppj_lbll&gt; | MSE &lt;ppj_lbll&gt; | p &lt;ppj_lbll&gt; | ges &lt;ppj_lbll&gt; |\n",
       "|---|---|---|---|---|---|---|---|\n",
       "| 1 | Cond0 | 1.01 | 1.52 | 3.03 | 0.05 | .434 | .008 |\n",
       "\n"
      ],
      "text/plain": [
       "  Effect F    df1  df2  MSE  p    ges \n",
       "1 Cond0  1.01 1.52 3.03 0.05 .434 .008"
      ]
     },
     "metadata": {},
     "output_type": "display_data"
    },
    {
     "data": {
      "text/markdown": [
       "### Result"
      ]
     },
     "metadata": {},
     "output_type": "display_data"
    },
    {
     "data": {
      "text/markdown": [
       "$F(1.52, 3.03) = 1.01$, $\\mathit{MSE} = 0.05$, $p = .434$, $\\hat{\\eta}^2_G = .008$"
      ]
     },
     "metadata": {},
     "output_type": "display_data"
    },
    {
     "data": {
      "text/markdown": [
       "### Summary (all done1, incl. NANs)"
      ]
     },
     "metadata": {},
     "output_type": "display_data"
    },
    {
     "data": {
      "text/html": [
       "<table>\n",
       "<caption>A tibble: 3 × 5</caption>\n",
       "<thead>\n",
       "\t<tr><th scope=col>cond0</th><th scope=col>N</th><th scope=col>valX_M</th><th scope=col>valX_SD</th><th scope=col>valX_SE</th></tr>\n",
       "\t<tr><th scope=col>&lt;fct&gt;</th><th scope=col>&lt;int&gt;</th><th scope=col>&lt;dbl&gt;</th><th scope=col>&lt;dbl&gt;</th><th scope=col>&lt;dbl&gt;</th></tr>\n",
       "</thead>\n",
       "<tbody>\n",
       "\t<tr><td>noun_F</td><td>11</td><td>-0.6055175</td><td>0.6479714</td><td>0.1953707</td></tr>\n",
       "\t<tr><td>noun_M</td><td>14</td><td>-0.7874379</td><td>0.8798603</td><td>0.2351525</td></tr>\n",
       "\t<tr><td>verb_X</td><td>11</td><td>-0.8345657</td><td>1.1182691</td><td>0.3371708</td></tr>\n",
       "</tbody>\n",
       "</table>\n"
      ],
      "text/latex": [
       "A tibble: 3 × 5\n",
       "\\begin{tabular}{lllll}\n",
       " cond0 & N & valX\\_M & valX\\_SD & valX\\_SE\\\\\n",
       " <fct> & <int> & <dbl> & <dbl> & <dbl>\\\\\n",
       "\\hline\n",
       "\t noun\\_F & 11 & -0.6055175 & 0.6479714 & 0.1953707\\\\\n",
       "\t noun\\_M & 14 & -0.7874379 & 0.8798603 & 0.2351525\\\\\n",
       "\t verb\\_X & 11 & -0.8345657 & 1.1182691 & 0.3371708\\\\\n",
       "\\end{tabular}\n"
      ],
      "text/markdown": [
       "\n",
       "A tibble: 3 × 5\n",
       "\n",
       "| cond0 &lt;fct&gt; | N &lt;int&gt; | valX_M &lt;dbl&gt; | valX_SD &lt;dbl&gt; | valX_SE &lt;dbl&gt; |\n",
       "|---|---|---|---|---|\n",
       "| noun_F | 11 | -0.6055175 | 0.6479714 | 0.1953707 |\n",
       "| noun_M | 14 | -0.7874379 | 0.8798603 | 0.2351525 |\n",
       "| verb_X | 11 | -0.8345657 | 1.1182691 | 0.3371708 |\n",
       "\n"
      ],
      "text/plain": [
       "  cond0  N  valX_M     valX_SD   valX_SE  \n",
       "1 noun_F 11 -0.6055175 0.6479714 0.1953707\n",
       "2 noun_M 14 -0.7874379 0.8798603 0.2351525\n",
       "3 verb_X 11 -0.8345657 1.1182691 0.3371708"
      ]
     },
     "metadata": {},
     "output_type": "display_data"
    },
    {
     "data": {
      "text/markdown": [
       "### Expected marginal means"
      ]
     },
     "metadata": {},
     "output_type": "display_data"
    },
    {
     "data": {
      "text/html": [
       "<table>\n",
       "<caption>A apa_results_table: 3 × 5</caption>\n",
       "<thead>\n",
       "\t<tr><th></th><th scope=col>cond0</th><th scope=col>estimate</th><th scope=col>ci</th><th scope=col>statistic</th><th scope=col>p.value</th></tr>\n",
       "\t<tr><th></th><th scope=col>&lt;chr&gt;</th><th scope=col>&lt;ppj_lbll&gt;</th><th scope=col>&lt;ppj_lbll&gt;</th><th scope=col>&lt;ppj_lbll&gt;</th><th scope=col>&lt;ppj_lbll&gt;</th></tr>\n",
       "</thead>\n",
       "<tbody>\n",
       "\t<tr><th scope=row>noun_F</th><td>noun_F</td><td>-0.36</td><td>$[-3.34$, $2.62]$</td><td>-0.50</td><td>.664</td></tr>\n",
       "\t<tr><th scope=row>noun_M</th><td>noun_M</td><td>-0.58</td><td>$[-3.56$, $2.40]$</td><td>-0.81</td><td>.501</td></tr>\n",
       "\t<tr><th scope=row>verb_X</th><td>verb_X</td><td>-0.49</td><td>$[-3.47$, $2.49]$</td><td>-0.69</td><td>.560</td></tr>\n",
       "</tbody>\n",
       "</table>\n"
      ],
      "text/latex": [
       "A apa\\_results\\_table: 3 × 5\n",
       "\\begin{tabular}{r|lllll}\n",
       "  & cond0 & estimate & ci & statistic & p.value\\\\\n",
       "  & <chr> & <ppj\\_lbll> & <ppj\\_lbll> & <ppj\\_lbll> & <ppj\\_lbll>\\\\\n",
       "\\hline\n",
       "\tnoun\\_F & noun\\_F & -0.36 & \\${[}-3.34\\$, \\$2.62{]}\\$ & -0.50 & .664\\\\\n",
       "\tnoun\\_M & noun\\_M & -0.58 & \\${[}-3.56\\$, \\$2.40{]}\\$ & -0.81 & .501\\\\\n",
       "\tverb\\_X & verb\\_X & -0.49 & \\${[}-3.47\\$, \\$2.49{]}\\$ & -0.69 & .560\\\\\n",
       "\\end{tabular}\n"
      ],
      "text/markdown": [
       "\n",
       "A apa_results_table: 3 × 5\n",
       "\n",
       "| <!--/--> | cond0 &lt;chr&gt; | estimate &lt;ppj_lbll&gt; | ci &lt;ppj_lbll&gt; | statistic &lt;ppj_lbll&gt; | p.value &lt;ppj_lbll&gt; |\n",
       "|---|---|---|---|---|---|\n",
       "| noun_F | noun_F | -0.36 | $[-3.34$, $2.62]$ | -0.50 | .664 |\n",
       "| noun_M | noun_M | -0.58 | $[-3.56$, $2.40]$ | -0.81 | .501 |\n",
       "| verb_X | verb_X | -0.49 | $[-3.47$, $2.49]$ | -0.69 | .560 |\n",
       "\n"
      ],
      "text/plain": [
       "       cond0  estimate ci                statistic p.value\n",
       "noun_F noun_F -0.36    $[-3.34$, $2.62]$ -0.50     .664   \n",
       "noun_M noun_M -0.58    $[-3.56$, $2.40]$ -0.81     .501   \n",
       "verb_X verb_X -0.49    $[-3.47$, $2.49]$ -0.69     .560   "
      ]
     },
     "metadata": {},
     "output_type": "display_data"
    },
    {
     "data": {
      "text/markdown": [
       "### Paired comparisons for expected marginal means"
      ]
     },
     "metadata": {},
     "output_type": "display_data"
    },
    {
     "data": {
      "text/html": [
       "<table>\n",
       "<caption>A apa_results_table: 3 × 5</caption>\n",
       "<thead>\n",
       "\t<tr><th></th><th scope=col>contrast</th><th scope=col>estimate</th><th scope=col>ci</th><th scope=col>statistic</th><th scope=col>p.value</th></tr>\n",
       "\t<tr><th></th><th scope=col>&lt;ppj_lbll&gt;</th><th scope=col>&lt;ppj_lbll&gt;</th><th scope=col>&lt;ppj_lbll&gt;</th><th scope=col>&lt;ppj_lbll&gt;</th><th scope=col>&lt;ppj_lbll&gt;</th></tr>\n",
       "</thead>\n",
       "<tbody>\n",
       "\t<tr><th scope=row>noun_F_noun_M</th><td>noun_F - noun_M</td><td>0.22 </td><td>$[-0.33$, $0.77]$</td><td>1.41 </td><td>.418</td></tr>\n",
       "\t<tr><th scope=row>noun_F_verb_X</th><td>noun_F - verb_X</td><td>0.13 </td><td>$[-0.42$, $0.69]$</td><td>0.86 </td><td>.692</td></tr>\n",
       "\t<tr><th scope=row>noun_M_verb_X</th><td>noun_M - verb_X</td><td>-0.09</td><td>$[-0.64$, $0.47]$</td><td>-0.55</td><td>.850</td></tr>\n",
       "</tbody>\n",
       "</table>\n"
      ],
      "text/latex": [
       "A apa\\_results\\_table: 3 × 5\n",
       "\\begin{tabular}{r|lllll}\n",
       "  & contrast & estimate & ci & statistic & p.value\\\\\n",
       "  & <ppj\\_lbll> & <ppj\\_lbll> & <ppj\\_lbll> & <ppj\\_lbll> & <ppj\\_lbll>\\\\\n",
       "\\hline\n",
       "\tnoun\\_F\\_noun\\_M & noun\\_F - noun\\_M & 0.22  & \\${[}-0.33\\$, \\$0.77{]}\\$ & 1.41  & .418\\\\\n",
       "\tnoun\\_F\\_verb\\_X & noun\\_F - verb\\_X & 0.13  & \\${[}-0.42\\$, \\$0.69{]}\\$ & 0.86  & .692\\\\\n",
       "\tnoun\\_M\\_verb\\_X & noun\\_M - verb\\_X & -0.09 & \\${[}-0.64\\$, \\$0.47{]}\\$ & -0.55 & .850\\\\\n",
       "\\end{tabular}\n"
      ],
      "text/markdown": [
       "\n",
       "A apa_results_table: 3 × 5\n",
       "\n",
       "| <!--/--> | contrast &lt;ppj_lbll&gt; | estimate &lt;ppj_lbll&gt; | ci &lt;ppj_lbll&gt; | statistic &lt;ppj_lbll&gt; | p.value &lt;ppj_lbll&gt; |\n",
       "|---|---|---|---|---|---|\n",
       "| noun_F_noun_M | noun_F - noun_M | 0.22  | $[-0.33$, $0.77]$ | 1.41  | .418 |\n",
       "| noun_F_verb_X | noun_F - verb_X | 0.13  | $[-0.42$, $0.69]$ | 0.86  | .692 |\n",
       "| noun_M_verb_X | noun_M - verb_X | -0.09 | $[-0.64$, $0.47]$ | -0.55 | .850 |\n",
       "\n"
      ],
      "text/plain": [
       "              contrast        estimate ci                statistic p.value\n",
       "noun_F_noun_M noun_F - noun_M 0.22     $[-0.33$, $0.77]$ 1.41      .418   \n",
       "noun_F_verb_X noun_F - verb_X 0.13     $[-0.42$, $0.69]$ 0.86      .692   \n",
       "noun_M_verb_X noun_M - verb_X -0.09    $[-0.64$, $0.47]$ -0.55     .850   "
      ]
     },
     "metadata": {},
     "output_type": "display_data"
    }
   ],
   "source": [
    "IDX <- IDX+1; COND <- CONDS[IDX]\n",
    "data1 <- droplevels(subset(df1, eval(parse(text=COND)))); data1 <- data1[complete.cases(data1),]; done1 <- AOV4(data1,COND)\n",
    "display_markdown(str_c(\"# Condition \",IDX,\" of \",length(CONDS))); display_markdown(done1$info); display_markdown(\"### Table\"); done1$aov_APA$table; display_markdown(\"### Result\"); display_markdown(done1$aov_APA[[\"full_result\"]][[\"cond0\"]]); display_markdown(\"### Summary (all done1, incl. NANs)\"); done1$summary; display_markdown(\"### Expected marginal means\"); done1$emm_APA$table; display_markdown(\"### Paired comparisons for expected marginal means\"); done1$pairs_APA$table"
   ]
  },
  {
   "cell_type": "code",
   "execution_count": 84,
   "metadata": {},
   "outputs": [
    {
     "name": "stderr",
     "output_type": "stream",
     "text": [
      "Warning message:\n",
      "“Missing values for following ID(s):\n",
      "01mkxf, 09msxf, 10mczf, 13jsxm, 16olxm, 18skxm, 19jgxf, 24jkxf, 27zgxf, 31ltxf, 35mwxm, 36rwxm, 39mrxm, 42aszm\n",
      "Removing those cases from the analysis.”\n"
     ]
    },
    {
     "data": {
      "text/markdown": [
       "# Condition 67 of 72"
      ]
     },
     "metadata": {},
     "output_type": "display_data"
    },
    {
     "data": {
      "text/markdown": [
       "`tmin0==0.11 & chan0==\"RC\" & mode0==\"pos\"`"
      ]
     },
     "metadata": {},
     "output_type": "display_data"
    },
    {
     "data": {
      "text/markdown": [
       "### Table"
      ]
     },
     "metadata": {},
     "output_type": "display_data"
    },
    {
     "data": {
      "text/html": [
       "<table>\n",
       "<caption>A apa_results_table: 1 × 7</caption>\n",
       "<thead>\n",
       "\t<tr><th></th><th scope=col>Effect</th><th scope=col>F</th><th scope=col>df1</th><th scope=col>df2</th><th scope=col>MSE</th><th scope=col>p</th><th scope=col>ges</th></tr>\n",
       "\t<tr><th></th><th scope=col>&lt;ppj_lbll&gt;</th><th scope=col>&lt;ppj_lbll&gt;</th><th scope=col>&lt;ppj_lbll&gt;</th><th scope=col>&lt;ppj_lbll&gt;</th><th scope=col>&lt;ppj_lbll&gt;</th><th scope=col>&lt;ppj_lbll&gt;</th><th scope=col>&lt;ppj_lbll&gt;</th></tr>\n",
       "</thead>\n",
       "<tbody>\n",
       "\t<tr><th scope=row>1</th><td>Cond0</td><td>2.91</td><td>1.03</td><td>2.07</td><td>0.30</td><td>.228</td><td>.296</td></tr>\n",
       "</tbody>\n",
       "</table>\n"
      ],
      "text/latex": [
       "A apa\\_results\\_table: 1 × 7\n",
       "\\begin{tabular}{r|lllllll}\n",
       "  & Effect & F & df1 & df2 & MSE & p & ges\\\\\n",
       "  & <ppj\\_lbll> & <ppj\\_lbll> & <ppj\\_lbll> & <ppj\\_lbll> & <ppj\\_lbll> & <ppj\\_lbll> & <ppj\\_lbll>\\\\\n",
       "\\hline\n",
       "\t1 & Cond0 & 2.91 & 1.03 & 2.07 & 0.30 & .228 & .296\\\\\n",
       "\\end{tabular}\n"
      ],
      "text/markdown": [
       "\n",
       "A apa_results_table: 1 × 7\n",
       "\n",
       "| <!--/--> | Effect &lt;ppj_lbll&gt; | F &lt;ppj_lbll&gt; | df1 &lt;ppj_lbll&gt; | df2 &lt;ppj_lbll&gt; | MSE &lt;ppj_lbll&gt; | p &lt;ppj_lbll&gt; | ges &lt;ppj_lbll&gt; |\n",
       "|---|---|---|---|---|---|---|---|\n",
       "| 1 | Cond0 | 2.91 | 1.03 | 2.07 | 0.30 | .228 | .296 |\n",
       "\n"
      ],
      "text/plain": [
       "  Effect F    df1  df2  MSE  p    ges \n",
       "1 Cond0  2.91 1.03 2.07 0.30 .228 .296"
      ]
     },
     "metadata": {},
     "output_type": "display_data"
    },
    {
     "data": {
      "text/markdown": [
       "### Result"
      ]
     },
     "metadata": {},
     "output_type": "display_data"
    },
    {
     "data": {
      "text/markdown": [
       "$F(1.03, 2.07) = 2.91$, $\\mathit{MSE} = 0.30$, $p = .228$, $\\hat{\\eta}^2_G = .296$"
      ]
     },
     "metadata": {},
     "output_type": "display_data"
    },
    {
     "data": {
      "text/markdown": [
       "### Summary (all done1, incl. NANs)"
      ]
     },
     "metadata": {},
     "output_type": "display_data"
    },
    {
     "data": {
      "text/html": [
       "<table>\n",
       "<caption>A tibble: 3 × 5</caption>\n",
       "<thead>\n",
       "\t<tr><th scope=col>cond0</th><th scope=col>N</th><th scope=col>valX_M</th><th scope=col>valX_SD</th><th scope=col>valX_SE</th></tr>\n",
       "\t<tr><th scope=col>&lt;fct&gt;</th><th scope=col>&lt;int&gt;</th><th scope=col>&lt;dbl&gt;</th><th scope=col>&lt;dbl&gt;</th><th scope=col>&lt;dbl&gt;</th></tr>\n",
       "</thead>\n",
       "<tbody>\n",
       "\t<tr><td>noun_F</td><td>10</td><td>0.4077196</td><td>1.0046279</td><td>0.3176912</td></tr>\n",
       "\t<tr><td>noun_M</td><td> 6</td><td>0.4383543</td><td>1.1266464</td><td>0.4599515</td></tr>\n",
       "\t<tr><td>verb_X</td><td> 8</td><td>0.3924365</td><td>0.4787236</td><td>0.1692544</td></tr>\n",
       "</tbody>\n",
       "</table>\n"
      ],
      "text/latex": [
       "A tibble: 3 × 5\n",
       "\\begin{tabular}{lllll}\n",
       " cond0 & N & valX\\_M & valX\\_SD & valX\\_SE\\\\\n",
       " <fct> & <int> & <dbl> & <dbl> & <dbl>\\\\\n",
       "\\hline\n",
       "\t noun\\_F & 10 & 0.4077196 & 1.0046279 & 0.3176912\\\\\n",
       "\t noun\\_M &  6 & 0.4383543 & 1.1266464 & 0.4599515\\\\\n",
       "\t verb\\_X &  8 & 0.3924365 & 0.4787236 & 0.1692544\\\\\n",
       "\\end{tabular}\n"
      ],
      "text/markdown": [
       "\n",
       "A tibble: 3 × 5\n",
       "\n",
       "| cond0 &lt;fct&gt; | N &lt;int&gt; | valX_M &lt;dbl&gt; | valX_SD &lt;dbl&gt; | valX_SE &lt;dbl&gt; |\n",
       "|---|---|---|---|---|\n",
       "| noun_F | 10 | 0.4077196 | 1.0046279 | 0.3176912 |\n",
       "| noun_M |  6 | 0.4383543 | 1.1266464 | 0.4599515 |\n",
       "| verb_X |  8 | 0.3924365 | 0.4787236 | 0.1692544 |\n",
       "\n"
      ],
      "text/plain": [
       "  cond0  N  valX_M    valX_SD   valX_SE  \n",
       "1 noun_F 10 0.4077196 1.0046279 0.3176912\n",
       "2 noun_M  6 0.4383543 1.1266464 0.4599515\n",
       "3 verb_X  8 0.3924365 0.4787236 0.1692544"
      ]
     },
     "metadata": {},
     "output_type": "display_data"
    },
    {
     "data": {
      "text/markdown": [
       "### Expected marginal means"
      ]
     },
     "metadata": {},
     "output_type": "display_data"
    },
    {
     "data": {
      "text/html": [
       "<table>\n",
       "<caption>A apa_results_table: 3 × 5</caption>\n",
       "<thead>\n",
       "\t<tr><th></th><th scope=col>cond0</th><th scope=col>estimate</th><th scope=col>ci</th><th scope=col>statistic</th><th scope=col>p.value</th></tr>\n",
       "\t<tr><th></th><th scope=col>&lt;chr&gt;</th><th scope=col>&lt;ppj_lbll&gt;</th><th scope=col>&lt;ppj_lbll&gt;</th><th scope=col>&lt;ppj_lbll&gt;</th><th scope=col>&lt;ppj_lbll&gt;</th></tr>\n",
       "</thead>\n",
       "<tbody>\n",
       "\t<tr><th scope=row>noun_F</th><td>noun_F</td><td>0.13</td><td>$[-0.86$, $1.12]$</td><td>0.37</td><td>.731</td></tr>\n",
       "\t<tr><th scope=row>noun_M</th><td>noun_M</td><td>0.84</td><td>$[-0.15$, $1.83]$</td><td>2.45</td><td>.076</td></tr>\n",
       "\t<tr><th scope=row>verb_X</th><td>verb_X</td><td>0.74</td><td>$[-0.25$, $1.73]$</td><td>2.15</td><td>.105</td></tr>\n",
       "</tbody>\n",
       "</table>\n"
      ],
      "text/latex": [
       "A apa\\_results\\_table: 3 × 5\n",
       "\\begin{tabular}{r|lllll}\n",
       "  & cond0 & estimate & ci & statistic & p.value\\\\\n",
       "  & <chr> & <ppj\\_lbll> & <ppj\\_lbll> & <ppj\\_lbll> & <ppj\\_lbll>\\\\\n",
       "\\hline\n",
       "\tnoun\\_F & noun\\_F & 0.13 & \\${[}-0.86\\$, \\$1.12{]}\\$ & 0.37 & .731\\\\\n",
       "\tnoun\\_M & noun\\_M & 0.84 & \\${[}-0.15\\$, \\$1.83{]}\\$ & 2.45 & .076\\\\\n",
       "\tverb\\_X & verb\\_X & 0.74 & \\${[}-0.25\\$, \\$1.73{]}\\$ & 2.15 & .105\\\\\n",
       "\\end{tabular}\n"
      ],
      "text/markdown": [
       "\n",
       "A apa_results_table: 3 × 5\n",
       "\n",
       "| <!--/--> | cond0 &lt;chr&gt; | estimate &lt;ppj_lbll&gt; | ci &lt;ppj_lbll&gt; | statistic &lt;ppj_lbll&gt; | p.value &lt;ppj_lbll&gt; |\n",
       "|---|---|---|---|---|---|\n",
       "| noun_F | noun_F | 0.13 | $[-0.86$, $1.12]$ | 0.37 | .731 |\n",
       "| noun_M | noun_M | 0.84 | $[-0.15$, $1.83]$ | 2.45 | .076 |\n",
       "| verb_X | verb_X | 0.74 | $[-0.25$, $1.73]$ | 2.15 | .105 |\n",
       "\n"
      ],
      "text/plain": [
       "       cond0  estimate ci                statistic p.value\n",
       "noun_F noun_F 0.13     $[-0.86$, $1.12]$ 0.37      .731   \n",
       "noun_M noun_M 0.84     $[-0.15$, $1.83]$ 2.45      .076   \n",
       "verb_X verb_X 0.74     $[-0.25$, $1.73]$ 2.15      .105   "
      ]
     },
     "metadata": {},
     "output_type": "display_data"
    },
    {
     "data": {
      "text/markdown": [
       "### Paired comparisons for expected marginal means"
      ]
     },
     "metadata": {},
     "output_type": "display_data"
    },
    {
     "data": {
      "text/html": [
       "<table>\n",
       "<caption>A apa_results_table: 3 × 5</caption>\n",
       "<thead>\n",
       "\t<tr><th></th><th scope=col>contrast</th><th scope=col>estimate</th><th scope=col>ci</th><th scope=col>statistic</th><th scope=col>p.value</th></tr>\n",
       "\t<tr><th></th><th scope=col>&lt;ppj_lbll&gt;</th><th scope=col>&lt;ppj_lbll&gt;</th><th scope=col>&lt;ppj_lbll&gt;</th><th scope=col>&lt;ppj_lbll&gt;</th><th scope=col>&lt;ppj_lbll&gt;</th></tr>\n",
       "</thead>\n",
       "<tbody>\n",
       "\t<tr><th scope=row>noun_F_noun_M</th><td>noun_F - noun_M</td><td>-0.71</td><td>$[-1.85$, $0.43]$</td><td>-2.23</td><td>.179</td></tr>\n",
       "\t<tr><th scope=row>noun_F_verb_X</th><td>noun_F - verb_X</td><td>-0.61</td><td>$[-1.75$, $0.53]$</td><td>-1.90</td><td>.251</td></tr>\n",
       "\t<tr><th scope=row>noun_M_verb_X</th><td>noun_M - verb_X</td><td>0.10 </td><td>$[-1.03$, $1.24]$</td><td>0.33 </td><td>.943</td></tr>\n",
       "</tbody>\n",
       "</table>\n"
      ],
      "text/latex": [
       "A apa\\_results\\_table: 3 × 5\n",
       "\\begin{tabular}{r|lllll}\n",
       "  & contrast & estimate & ci & statistic & p.value\\\\\n",
       "  & <ppj\\_lbll> & <ppj\\_lbll> & <ppj\\_lbll> & <ppj\\_lbll> & <ppj\\_lbll>\\\\\n",
       "\\hline\n",
       "\tnoun\\_F\\_noun\\_M & noun\\_F - noun\\_M & -0.71 & \\${[}-1.85\\$, \\$0.43{]}\\$ & -2.23 & .179\\\\\n",
       "\tnoun\\_F\\_verb\\_X & noun\\_F - verb\\_X & -0.61 & \\${[}-1.75\\$, \\$0.53{]}\\$ & -1.90 & .251\\\\\n",
       "\tnoun\\_M\\_verb\\_X & noun\\_M - verb\\_X & 0.10  & \\${[}-1.03\\$, \\$1.24{]}\\$ & 0.33  & .943\\\\\n",
       "\\end{tabular}\n"
      ],
      "text/markdown": [
       "\n",
       "A apa_results_table: 3 × 5\n",
       "\n",
       "| <!--/--> | contrast &lt;ppj_lbll&gt; | estimate &lt;ppj_lbll&gt; | ci &lt;ppj_lbll&gt; | statistic &lt;ppj_lbll&gt; | p.value &lt;ppj_lbll&gt; |\n",
       "|---|---|---|---|---|---|\n",
       "| noun_F_noun_M | noun_F - noun_M | -0.71 | $[-1.85$, $0.43]$ | -2.23 | .179 |\n",
       "| noun_F_verb_X | noun_F - verb_X | -0.61 | $[-1.75$, $0.53]$ | -1.90 | .251 |\n",
       "| noun_M_verb_X | noun_M - verb_X | 0.10  | $[-1.03$, $1.24]$ | 0.33  | .943 |\n",
       "\n"
      ],
      "text/plain": [
       "              contrast        estimate ci                statistic p.value\n",
       "noun_F_noun_M noun_F - noun_M -0.71    $[-1.85$, $0.43]$ -2.23     .179   \n",
       "noun_F_verb_X noun_F - verb_X -0.61    $[-1.75$, $0.53]$ -1.90     .251   \n",
       "noun_M_verb_X noun_M - verb_X 0.10     $[-1.03$, $1.24]$ 0.33      .943   "
      ]
     },
     "metadata": {},
     "output_type": "display_data"
    }
   ],
   "source": [
    "IDX <- IDX+1; COND <- CONDS[IDX]\n",
    "data1 <- droplevels(subset(df1, eval(parse(text=COND)))); data1 <- data1[complete.cases(data1),]; done1 <- AOV4(data1,COND)\n",
    "display_markdown(str_c(\"# Condition \",IDX,\" of \",length(CONDS))); display_markdown(done1$info); display_markdown(\"### Table\"); done1$aov_APA$table; display_markdown(\"### Result\"); display_markdown(done1$aov_APA[[\"full_result\"]][[\"cond0\"]]); display_markdown(\"### Summary (all done1, incl. NANs)\"); done1$summary; display_markdown(\"### Expected marginal means\"); done1$emm_APA$table; display_markdown(\"### Paired comparisons for expected marginal means\"); done1$pairs_APA$table"
   ]
  },
  {
   "cell_type": "code",
   "execution_count": 85,
   "metadata": {},
   "outputs": [
    {
     "name": "stderr",
     "output_type": "stream",
     "text": [
      "Warning message:\n",
      "“Missing values for following ID(s):\n",
      "04mkkm, 05jwxf, 08pnxm, 10mczf, 11kbxm, 12jnxf, 14ktxf, 15agxf, 16olxm, 19jgxf, 20jpxf, 22foxm, 25abxf, 30mszf, 31ltxf, 32mjxf, 36rwxm\n",
      "Removing those cases from the analysis.”\n"
     ]
    },
    {
     "ename": "ERROR",
     "evalue": "Error in `contrasts<-`(`*tmp*`, value = contr.funs[1 + isOF[nn]]): contrasts can be applied only to factors with 2 or more levels\n",
     "output_type": "error",
     "traceback": [
      "Error in `contrasts<-`(`*tmp*`, value = contr.funs[1 + isOF[nn]]): contrasts can be applied only to factors with 2 or more levels\nTraceback:\n",
      "1. AOV4(data1, COND)",
      "2. aov_4(formula <- FORMULA, data <- DATA, )   # at line 13-16 of file <text>",
      "3. aov_car(formula = as.formula(formula), data = data, fun_aggregate = fun_aggregate, \n .     type = type, return = return, factorize = factorize, check_contrasts = check_contrasts, \n .     observed = observed, anova_table = anova_table, include_aov = include_aov, \n .     ...)",
      "4. aov(tmp_formula, data = dat.ret, contrasts = contrasts)",
      "5. eval(ecall, parent.frame())",
      "6. eval(ecall, parent.frame())",
      "7. stats::lm(formula = valX ~ SUB/(cond0), data = dat.ret, singular.ok = TRUE, \n .     method = \"qr\", qr = TRUE)",
      "8. model.matrix(mt, mf, contrasts)",
      "9. model.matrix.default(mt, mf, contrasts)",
      "10. `contrasts<-`(`*tmp*`, value = contr.funs[1 + isOF[nn]])",
      "11. stop(\"contrasts can be applied only to factors with 2 or more levels\")"
     ]
    }
   ],
   "source": [
    "IDX <- IDX+1; COND <- CONDS[IDX]\n",
    "data1 <- droplevels(subset(df1, eval(parse(text=COND)))); data1 <- data1[complete.cases(data1),]; done1 <- AOV4(data1,COND)\n",
    "display_markdown(str_c(\"# Condition \",IDX,\" of \",length(CONDS))); display_markdown(done1$info); display_markdown(\"### Table\"); done1$aov_APA$table; display_markdown(\"### Result\"); display_markdown(done1$aov_APA[[\"full_result\"]][[\"cond0\"]]); display_markdown(\"### Summary (all done1, incl. NANs)\"); done1$summary; display_markdown(\"### Expected marginal means\"); done1$emm_APA$table; display_markdown(\"### Paired comparisons for expected marginal means\"); done1$pairs_APA$table"
   ]
  },
  {
   "cell_type": "code",
   "execution_count": 86,
   "metadata": {
    "scrolled": true
   },
   "outputs": [
    {
     "name": "stderr",
     "output_type": "stream",
     "text": [
      "Warning message:\n",
      "“Missing values for following ID(s):\n",
      "02ppxm, 04mkkm, 05jwxf, 10mczf, 12jnxf, 13jsxm, 17makf, 22foxm, 32mjxf, 36rwxm, 37lpxm, 41roxm\n",
      "Removing those cases from the analysis.”\n",
      "Warning message in summary.Anova.mlm(x$Anova):\n",
      "“Singular error SSP matrix:\n",
      "non-sphericity test and corrections not available”\n"
     ]
    },
    {
     "data": {
      "text/markdown": [
       "# Condition 69 of 72"
      ]
     },
     "metadata": {},
     "output_type": "display_data"
    },
    {
     "data": {
      "text/markdown": [
       "`tmin0==0.11 & chan0==\"LP\" & mode0==\"pos\"`"
      ]
     },
     "metadata": {},
     "output_type": "display_data"
    },
    {
     "data": {
      "text/markdown": [
       "### Table"
      ]
     },
     "metadata": {},
     "output_type": "display_data"
    },
    {
     "data": {
      "text/html": [
       "<table>\n",
       "<caption>A apa_results_table: 1 × 7</caption>\n",
       "<thead>\n",
       "\t<tr><th></th><th scope=col>Effect</th><th scope=col>F</th><th scope=col>df1</th><th scope=col>df2</th><th scope=col>MSE</th><th scope=col>p</th><th scope=col>ges</th></tr>\n",
       "\t<tr><th></th><th scope=col>&lt;ppj_lbll&gt;</th><th scope=col>&lt;ppj_lbll&gt;</th><th scope=col>&lt;ppj_lbll&gt;</th><th scope=col>&lt;ppj_lbll&gt;</th><th scope=col>&lt;ppj_lbll&gt;</th><th scope=col>&lt;ppj_lbll&gt;</th><th scope=col>&lt;ppj_lbll&gt;</th></tr>\n",
       "</thead>\n",
       "<tbody>\n",
       "\t<tr><th scope=row>1</th><td>Cond0</td><td>0.10</td><td>2</td><td>2</td><td>0.93</td><td>.907</td><td>.079</td></tr>\n",
       "</tbody>\n",
       "</table>\n"
      ],
      "text/latex": [
       "A apa\\_results\\_table: 1 × 7\n",
       "\\begin{tabular}{r|lllllll}\n",
       "  & Effect & F & df1 & df2 & MSE & p & ges\\\\\n",
       "  & <ppj\\_lbll> & <ppj\\_lbll> & <ppj\\_lbll> & <ppj\\_lbll> & <ppj\\_lbll> & <ppj\\_lbll> & <ppj\\_lbll>\\\\\n",
       "\\hline\n",
       "\t1 & Cond0 & 0.10 & 2 & 2 & 0.93 & .907 & .079\\\\\n",
       "\\end{tabular}\n"
      ],
      "text/markdown": [
       "\n",
       "A apa_results_table: 1 × 7\n",
       "\n",
       "| <!--/--> | Effect &lt;ppj_lbll&gt; | F &lt;ppj_lbll&gt; | df1 &lt;ppj_lbll&gt; | df2 &lt;ppj_lbll&gt; | MSE &lt;ppj_lbll&gt; | p &lt;ppj_lbll&gt; | ges &lt;ppj_lbll&gt; |\n",
       "|---|---|---|---|---|---|---|---|\n",
       "| 1 | Cond0 | 0.10 | 2 | 2 | 0.93 | .907 | .079 |\n",
       "\n"
      ],
      "text/plain": [
       "  Effect F    df1 df2 MSE  p    ges \n",
       "1 Cond0  0.10 2   2   0.93 .907 .079"
      ]
     },
     "metadata": {},
     "output_type": "display_data"
    },
    {
     "data": {
      "text/markdown": [
       "### Result"
      ]
     },
     "metadata": {},
     "output_type": "display_data"
    },
    {
     "data": {
      "text/markdown": [
       "$F(2, 2) = 0.10$, $\\mathit{MSE} = 0.93$, $p = .907$, $\\hat{\\eta}^2_G = .079$"
      ]
     },
     "metadata": {},
     "output_type": "display_data"
    },
    {
     "data": {
      "text/markdown": [
       "### Summary (all done1, incl. NANs)"
      ]
     },
     "metadata": {},
     "output_type": "display_data"
    },
    {
     "data": {
      "text/html": [
       "<table>\n",
       "<caption>A tibble: 3 × 5</caption>\n",
       "<thead>\n",
       "\t<tr><th scope=col>cond0</th><th scope=col>N</th><th scope=col>valX_M</th><th scope=col>valX_SD</th><th scope=col>valX_SE</th></tr>\n",
       "\t<tr><th scope=col>&lt;fct&gt;</th><th scope=col>&lt;int&gt;</th><th scope=col>&lt;dbl&gt;</th><th scope=col>&lt;dbl&gt;</th><th scope=col>&lt;dbl&gt;</th></tr>\n",
       "</thead>\n",
       "<tbody>\n",
       "\t<tr><td>noun_F</td><td>7</td><td>2.522520</td><td>1.4036655</td><td>0.5305357</td></tr>\n",
       "\t<tr><td>noun_M</td><td>7</td><td>3.628220</td><td>1.6806887</td><td>0.6352406</td></tr>\n",
       "\t<tr><td>verb_X</td><td>6</td><td>2.940462</td><td>0.7904734</td><td>0.3227094</td></tr>\n",
       "</tbody>\n",
       "</table>\n"
      ],
      "text/latex": [
       "A tibble: 3 × 5\n",
       "\\begin{tabular}{lllll}\n",
       " cond0 & N & valX\\_M & valX\\_SD & valX\\_SE\\\\\n",
       " <fct> & <int> & <dbl> & <dbl> & <dbl>\\\\\n",
       "\\hline\n",
       "\t noun\\_F & 7 & 2.522520 & 1.4036655 & 0.5305357\\\\\n",
       "\t noun\\_M & 7 & 3.628220 & 1.6806887 & 0.6352406\\\\\n",
       "\t verb\\_X & 6 & 2.940462 & 0.7904734 & 0.3227094\\\\\n",
       "\\end{tabular}\n"
      ],
      "text/markdown": [
       "\n",
       "A tibble: 3 × 5\n",
       "\n",
       "| cond0 &lt;fct&gt; | N &lt;int&gt; | valX_M &lt;dbl&gt; | valX_SD &lt;dbl&gt; | valX_SE &lt;dbl&gt; |\n",
       "|---|---|---|---|---|\n",
       "| noun_F | 7 | 2.522520 | 1.4036655 | 0.5305357 |\n",
       "| noun_M | 7 | 3.628220 | 1.6806887 | 0.6352406 |\n",
       "| verb_X | 6 | 2.940462 | 0.7904734 | 0.3227094 |\n",
       "\n"
      ],
      "text/plain": [
       "  cond0  N valX_M   valX_SD   valX_SE  \n",
       "1 noun_F 7 2.522520 1.4036655 0.5305357\n",
       "2 noun_M 7 3.628220 1.6806887 0.6352406\n",
       "3 verb_X 6 2.940462 0.7904734 0.3227094"
      ]
     },
     "metadata": {},
     "output_type": "display_data"
    },
    {
     "data": {
      "text/markdown": [
       "### Expected marginal means"
      ]
     },
     "metadata": {},
     "output_type": "display_data"
    },
    {
     "data": {
      "text/html": [
       "<table>\n",
       "<caption>A apa_results_table: 3 × 5</caption>\n",
       "<thead>\n",
       "\t<tr><th></th><th scope=col>cond0</th><th scope=col>estimate</th><th scope=col>ci</th><th scope=col>statistic</th><th scope=col>p.value</th></tr>\n",
       "\t<tr><th></th><th scope=col>&lt;chr&gt;</th><th scope=col>&lt;ppj_lbll&gt;</th><th scope=col>&lt;ppj_lbll&gt;</th><th scope=col>&lt;ppj_lbll&gt;</th><th scope=col>&lt;ppj_lbll&gt;</th></tr>\n",
       "</thead>\n",
       "<tbody>\n",
       "\t<tr><th scope=row>noun_F</th><td>noun_F</td><td>4.16</td><td>$[2.08$, $6.24]$</td><td>6.84</td><td>.009</td></tr>\n",
       "\t<tr><th scope=row>noun_M</th><td>noun_M</td><td>4.03</td><td>$[1.95$, $6.12]$</td><td>6.63</td><td>.010</td></tr>\n",
       "\t<tr><th scope=row>verb_X</th><td>verb_X</td><td>3.73</td><td>$[1.65$, $5.82]$</td><td>6.14</td><td>.012</td></tr>\n",
       "</tbody>\n",
       "</table>\n"
      ],
      "text/latex": [
       "A apa\\_results\\_table: 3 × 5\n",
       "\\begin{tabular}{r|lllll}\n",
       "  & cond0 & estimate & ci & statistic & p.value\\\\\n",
       "  & <chr> & <ppj\\_lbll> & <ppj\\_lbll> & <ppj\\_lbll> & <ppj\\_lbll>\\\\\n",
       "\\hline\n",
       "\tnoun\\_F & noun\\_F & 4.16 & \\${[}2.08\\$, \\$6.24{]}\\$ & 6.84 & .009\\\\\n",
       "\tnoun\\_M & noun\\_M & 4.03 & \\${[}1.95\\$, \\$6.12{]}\\$ & 6.63 & .010\\\\\n",
       "\tverb\\_X & verb\\_X & 3.73 & \\${[}1.65\\$, \\$5.82{]}\\$ & 6.14 & .012\\\\\n",
       "\\end{tabular}\n"
      ],
      "text/markdown": [
       "\n",
       "A apa_results_table: 3 × 5\n",
       "\n",
       "| <!--/--> | cond0 &lt;chr&gt; | estimate &lt;ppj_lbll&gt; | ci &lt;ppj_lbll&gt; | statistic &lt;ppj_lbll&gt; | p.value &lt;ppj_lbll&gt; |\n",
       "|---|---|---|---|---|---|\n",
       "| noun_F | noun_F | 4.16 | $[2.08$, $6.24]$ | 6.84 | .009 |\n",
       "| noun_M | noun_M | 4.03 | $[1.95$, $6.12]$ | 6.63 | .010 |\n",
       "| verb_X | verb_X | 3.73 | $[1.65$, $5.82]$ | 6.14 | .012 |\n",
       "\n"
      ],
      "text/plain": [
       "       cond0  estimate ci               statistic p.value\n",
       "noun_F noun_F 4.16     $[2.08$, $6.24]$ 6.84      .009   \n",
       "noun_M noun_M 4.03     $[1.95$, $6.12]$ 6.63      .010   \n",
       "verb_X verb_X 3.73     $[1.65$, $5.82]$ 6.14      .012   "
      ]
     },
     "metadata": {},
     "output_type": "display_data"
    },
    {
     "data": {
      "text/markdown": [
       "### Paired comparisons for expected marginal means"
      ]
     },
     "metadata": {},
     "output_type": "display_data"
    },
    {
     "data": {
      "text/html": [
       "<table>\n",
       "<caption>A apa_results_table: 3 × 5</caption>\n",
       "<thead>\n",
       "\t<tr><th></th><th scope=col>contrast</th><th scope=col>estimate</th><th scope=col>ci</th><th scope=col>statistic</th><th scope=col>p.value</th></tr>\n",
       "\t<tr><th></th><th scope=col>&lt;ppj_lbll&gt;</th><th scope=col>&lt;ppj_lbll&gt;</th><th scope=col>&lt;ppj_lbll&gt;</th><th scope=col>&lt;ppj_lbll&gt;</th><th scope=col>&lt;ppj_lbll&gt;</th></tr>\n",
       "</thead>\n",
       "<tbody>\n",
       "\t<tr><th scope=row>noun_F_noun_M</th><td>noun_F - noun_M</td><td>0.12</td><td>$[-5.54$, $5.79]$</td><td>0.13</td><td>.991</td></tr>\n",
       "\t<tr><th scope=row>noun_F_verb_X</th><td>noun_F - verb_X</td><td>0.42</td><td>$[-5.24$, $6.09]$</td><td>0.44</td><td>.903</td></tr>\n",
       "\t<tr><th scope=row>noun_M_verb_X</th><td>noun_M - verb_X</td><td>0.30</td><td>$[-5.37$, $5.97]$</td><td>0.31</td><td>.949</td></tr>\n",
       "</tbody>\n",
       "</table>\n"
      ],
      "text/latex": [
       "A apa\\_results\\_table: 3 × 5\n",
       "\\begin{tabular}{r|lllll}\n",
       "  & contrast & estimate & ci & statistic & p.value\\\\\n",
       "  & <ppj\\_lbll> & <ppj\\_lbll> & <ppj\\_lbll> & <ppj\\_lbll> & <ppj\\_lbll>\\\\\n",
       "\\hline\n",
       "\tnoun\\_F\\_noun\\_M & noun\\_F - noun\\_M & 0.12 & \\${[}-5.54\\$, \\$5.79{]}\\$ & 0.13 & .991\\\\\n",
       "\tnoun\\_F\\_verb\\_X & noun\\_F - verb\\_X & 0.42 & \\${[}-5.24\\$, \\$6.09{]}\\$ & 0.44 & .903\\\\\n",
       "\tnoun\\_M\\_verb\\_X & noun\\_M - verb\\_X & 0.30 & \\${[}-5.37\\$, \\$5.97{]}\\$ & 0.31 & .949\\\\\n",
       "\\end{tabular}\n"
      ],
      "text/markdown": [
       "\n",
       "A apa_results_table: 3 × 5\n",
       "\n",
       "| <!--/--> | contrast &lt;ppj_lbll&gt; | estimate &lt;ppj_lbll&gt; | ci &lt;ppj_lbll&gt; | statistic &lt;ppj_lbll&gt; | p.value &lt;ppj_lbll&gt; |\n",
       "|---|---|---|---|---|---|\n",
       "| noun_F_noun_M | noun_F - noun_M | 0.12 | $[-5.54$, $5.79]$ | 0.13 | .991 |\n",
       "| noun_F_verb_X | noun_F - verb_X | 0.42 | $[-5.24$, $6.09]$ | 0.44 | .903 |\n",
       "| noun_M_verb_X | noun_M - verb_X | 0.30 | $[-5.37$, $5.97]$ | 0.31 | .949 |\n",
       "\n"
      ],
      "text/plain": [
       "              contrast        estimate ci                statistic p.value\n",
       "noun_F_noun_M noun_F - noun_M 0.12     $[-5.54$, $5.79]$ 0.13      .991   \n",
       "noun_F_verb_X noun_F - verb_X 0.42     $[-5.24$, $6.09]$ 0.44      .903   \n",
       "noun_M_verb_X noun_M - verb_X 0.30     $[-5.37$, $5.97]$ 0.31      .949   "
      ]
     },
     "metadata": {},
     "output_type": "display_data"
    }
   ],
   "source": [
    "IDX <- IDX+1; COND <- CONDS[IDX]\n",
    "data1 <- droplevels(subset(df1, eval(parse(text=COND)))); data1 <- data1[complete.cases(data1),]; done1 <- AOV4(data1,COND)\n",
    "display_markdown(str_c(\"# Condition \",IDX,\" of \",length(CONDS))); display_markdown(done1$info); display_markdown(\"### Table\"); done1$aov_APA$table; display_markdown(\"### Result\"); display_markdown(done1$aov_APA[[\"full_result\"]][[\"cond0\"]]); display_markdown(\"### Summary (all done1, incl. NANs)\"); done1$summary; display_markdown(\"### Expected marginal means\"); done1$emm_APA$table; display_markdown(\"### Paired comparisons for expected marginal means\"); done1$pairs_APA$table"
   ]
  },
  {
   "cell_type": "code",
   "execution_count": 87,
   "metadata": {},
   "outputs": [
    {
     "name": "stderr",
     "output_type": "stream",
     "text": [
      "Warning message:\n",
      "“Missing values for following ID(s):\n",
      "24jkxf, 33kkxm, 34gsxm\n",
      "Removing those cases from the analysis.”\n"
     ]
    },
    {
     "ename": "ERROR",
     "evalue": "Error in `contrasts<-`(`*tmp*`, value = contr.funs[1 + isOF[nn]]): contrasts can be applied only to factors with 2 or more levels\n",
     "output_type": "error",
     "traceback": [
      "Error in `contrasts<-`(`*tmp*`, value = contr.funs[1 + isOF[nn]]): contrasts can be applied only to factors with 2 or more levels\nTraceback:\n",
      "1. AOV4(data1, COND)",
      "2. aov_4(formula <- FORMULA, data <- DATA, )   # at line 13-16 of file <text>",
      "3. aov_car(formula = as.formula(formula), data = data, fun_aggregate = fun_aggregate, \n .     type = type, return = return, factorize = factorize, check_contrasts = check_contrasts, \n .     observed = observed, anova_table = anova_table, include_aov = include_aov, \n .     ...)",
      "4. aov(tmp_formula, data = dat.ret, contrasts = contrasts)",
      "5. eval(ecall, parent.frame())",
      "6. eval(ecall, parent.frame())",
      "7. stats::lm(formula = valX ~ SUB/(cond0), data = dat.ret, singular.ok = TRUE, \n .     method = \"qr\", qr = TRUE)",
      "8. model.matrix(mt, mf, contrasts)",
      "9. model.matrix.default(mt, mf, contrasts)",
      "10. `contrasts<-`(`*tmp*`, value = contr.funs[1 + isOF[nn]])",
      "11. stop(\"contrasts can be applied only to factors with 2 or more levels\")"
     ]
    }
   ],
   "source": [
    "IDX <- IDX+1; COND <- CONDS[IDX]\n",
    "data1 <- droplevels(subset(df1, eval(parse(text=COND)))); data1 <- data1[complete.cases(data1),]; done1 <- AOV4(data1,COND)\n",
    "display_markdown(str_c(\"# Condition \",IDX,\" of \",length(CONDS))); display_markdown(done1$info); display_markdown(\"### Table\"); done1$aov_APA$table; display_markdown(\"### Result\"); display_markdown(done1$aov_APA[[\"full_result\"]][[\"cond0\"]]); display_markdown(\"### Summary (all done1, incl. NANs)\"); done1$summary; display_markdown(\"### Expected marginal means\"); done1$emm_APA$table; display_markdown(\"### Paired comparisons for expected marginal means\"); done1$pairs_APA$table"
   ]
  },
  {
   "cell_type": "code",
   "execution_count": 88,
   "metadata": {},
   "outputs": [
    {
     "name": "stderr",
     "output_type": "stream",
     "text": [
      "Warning message:\n",
      "“Missing values for following ID(s):\n",
      "07zrxf, 09msxf, 13jsxm, 14ktxf, 19jgxf, 24jkxf, 36rwxm, 37lpxm, 42aszm\n",
      "Removing those cases from the analysis.”\n"
     ]
    },
    {
     "data": {
      "text/markdown": [
       "# Condition 71 of 72"
      ]
     },
     "metadata": {},
     "output_type": "display_data"
    },
    {
     "data": {
      "text/markdown": [
       "`tmin0==0.11 & chan0==\"RP\" & mode0==\"pos\"`"
      ]
     },
     "metadata": {},
     "output_type": "display_data"
    },
    {
     "data": {
      "text/markdown": [
       "### Table"
      ]
     },
     "metadata": {},
     "output_type": "display_data"
    },
    {
     "data": {
      "text/html": [
       "<table>\n",
       "<caption>A apa_results_table: 1 × 7</caption>\n",
       "<thead>\n",
       "\t<tr><th></th><th scope=col>Effect</th><th scope=col>F</th><th scope=col>df1</th><th scope=col>df2</th><th scope=col>MSE</th><th scope=col>p</th><th scope=col>ges</th></tr>\n",
       "\t<tr><th></th><th scope=col>&lt;ppj_lbll&gt;</th><th scope=col>&lt;ppj_lbll&gt;</th><th scope=col>&lt;ppj_lbll&gt;</th><th scope=col>&lt;ppj_lbll&gt;</th><th scope=col>&lt;ppj_lbll&gt;</th><th scope=col>&lt;ppj_lbll&gt;</th><th scope=col>&lt;ppj_lbll&gt;</th></tr>\n",
       "</thead>\n",
       "<tbody>\n",
       "\t<tr><th scope=row>1</th><td>Cond0</td><td>0.65</td><td>1.08</td><td>5.42</td><td>1.47</td><td>.467</td><td>.007</td></tr>\n",
       "</tbody>\n",
       "</table>\n"
      ],
      "text/latex": [
       "A apa\\_results\\_table: 1 × 7\n",
       "\\begin{tabular}{r|lllllll}\n",
       "  & Effect & F & df1 & df2 & MSE & p & ges\\\\\n",
       "  & <ppj\\_lbll> & <ppj\\_lbll> & <ppj\\_lbll> & <ppj\\_lbll> & <ppj\\_lbll> & <ppj\\_lbll> & <ppj\\_lbll>\\\\\n",
       "\\hline\n",
       "\t1 & Cond0 & 0.65 & 1.08 & 5.42 & 1.47 & .467 & .007\\\\\n",
       "\\end{tabular}\n"
      ],
      "text/markdown": [
       "\n",
       "A apa_results_table: 1 × 7\n",
       "\n",
       "| <!--/--> | Effect &lt;ppj_lbll&gt; | F &lt;ppj_lbll&gt; | df1 &lt;ppj_lbll&gt; | df2 &lt;ppj_lbll&gt; | MSE &lt;ppj_lbll&gt; | p &lt;ppj_lbll&gt; | ges &lt;ppj_lbll&gt; |\n",
       "|---|---|---|---|---|---|---|---|\n",
       "| 1 | Cond0 | 0.65 | 1.08 | 5.42 | 1.47 | .467 | .007 |\n",
       "\n"
      ],
      "text/plain": [
       "  Effect F    df1  df2  MSE  p    ges \n",
       "1 Cond0  0.65 1.08 5.42 1.47 .467 .007"
      ]
     },
     "metadata": {},
     "output_type": "display_data"
    },
    {
     "data": {
      "text/markdown": [
       "### Result"
      ]
     },
     "metadata": {},
     "output_type": "display_data"
    },
    {
     "data": {
      "text/markdown": [
       "$F(1.08, 5.42) = 0.65$, $\\mathit{MSE} = 1.47$, $p = .467$, $\\hat{\\eta}^2_G = .007$"
      ]
     },
     "metadata": {},
     "output_type": "display_data"
    },
    {
     "data": {
      "text/markdown": [
       "### Summary (all done1, incl. NANs)"
      ]
     },
     "metadata": {},
     "output_type": "display_data"
    },
    {
     "data": {
      "text/html": [
       "<table>\n",
       "<caption>A tibble: 3 × 5</caption>\n",
       "<thead>\n",
       "\t<tr><th scope=col>cond0</th><th scope=col>N</th><th scope=col>valX_M</th><th scope=col>valX_SD</th><th scope=col>valX_SE</th></tr>\n",
       "\t<tr><th scope=col>&lt;fct&gt;</th><th scope=col>&lt;int&gt;</th><th scope=col>&lt;dbl&gt;</th><th scope=col>&lt;dbl&gt;</th><th scope=col>&lt;dbl&gt;</th></tr>\n",
       "</thead>\n",
       "<tbody>\n",
       "\t<tr><td>noun_F</td><td> 8</td><td>5.618231</td><td>3.417587</td><td>1.2082994</td></tr>\n",
       "\t<tr><td>noun_M</td><td>11</td><td>5.052340</td><td>1.928684</td><td>0.5815201</td></tr>\n",
       "\t<tr><td>verb_X</td><td> 9</td><td>4.384408</td><td>2.825685</td><td>0.9418950</td></tr>\n",
       "</tbody>\n",
       "</table>\n"
      ],
      "text/latex": [
       "A tibble: 3 × 5\n",
       "\\begin{tabular}{lllll}\n",
       " cond0 & N & valX\\_M & valX\\_SD & valX\\_SE\\\\\n",
       " <fct> & <int> & <dbl> & <dbl> & <dbl>\\\\\n",
       "\\hline\n",
       "\t noun\\_F &  8 & 5.618231 & 3.417587 & 1.2082994\\\\\n",
       "\t noun\\_M & 11 & 5.052340 & 1.928684 & 0.5815201\\\\\n",
       "\t verb\\_X &  9 & 4.384408 & 2.825685 & 0.9418950\\\\\n",
       "\\end{tabular}\n"
      ],
      "text/markdown": [
       "\n",
       "A tibble: 3 × 5\n",
       "\n",
       "| cond0 &lt;fct&gt; | N &lt;int&gt; | valX_M &lt;dbl&gt; | valX_SD &lt;dbl&gt; | valX_SE &lt;dbl&gt; |\n",
       "|---|---|---|---|---|\n",
       "| noun_F |  8 | 5.618231 | 3.417587 | 1.2082994 |\n",
       "| noun_M | 11 | 5.052340 | 1.928684 | 0.5815201 |\n",
       "| verb_X |  9 | 4.384408 | 2.825685 | 0.9418950 |\n",
       "\n"
      ],
      "text/plain": [
       "  cond0  N  valX_M   valX_SD  valX_SE  \n",
       "1 noun_F  8 5.618231 3.417587 1.2082994\n",
       "2 noun_M 11 5.052340 1.928684 0.5815201\n",
       "3 verb_X  9 4.384408 2.825685 0.9418950"
      ]
     },
     "metadata": {},
     "output_type": "display_data"
    },
    {
     "data": {
      "text/markdown": [
       "### Expected marginal means"
      ]
     },
     "metadata": {},
     "output_type": "display_data"
    },
    {
     "data": {
      "text/html": [
       "<table>\n",
       "<caption>A apa_results_table: 3 × 5</caption>\n",
       "<thead>\n",
       "\t<tr><th></th><th scope=col>cond0</th><th scope=col>estimate</th><th scope=col>ci</th><th scope=col>statistic</th><th scope=col>p.value</th></tr>\n",
       "\t<tr><th></th><th scope=col>&lt;chr&gt;</th><th scope=col>&lt;ppj_lbll&gt;</th><th scope=col>&lt;ppj_lbll&gt;</th><th scope=col>&lt;ppj_lbll&gt;</th><th scope=col>&lt;ppj_lbll&gt;</th></tr>\n",
       "</thead>\n",
       "<tbody>\n",
       "\t<tr><th scope=row>noun_F</th><td>noun_F</td><td>5.84</td><td>$[2.53$, $9.15]$</td><td>4.41</td><td>.005</td></tr>\n",
       "\t<tr><th scope=row>noun_M</th><td>noun_M</td><td>5.48</td><td>$[2.17$, $8.78]$</td><td>4.14</td><td>.007</td></tr>\n",
       "\t<tr><th scope=row>verb_X</th><td>verb_X</td><td>5.26</td><td>$[1.95$, $8.57]$</td><td>3.97</td><td>.009</td></tr>\n",
       "</tbody>\n",
       "</table>\n"
      ],
      "text/latex": [
       "A apa\\_results\\_table: 3 × 5\n",
       "\\begin{tabular}{r|lllll}\n",
       "  & cond0 & estimate & ci & statistic & p.value\\\\\n",
       "  & <chr> & <ppj\\_lbll> & <ppj\\_lbll> & <ppj\\_lbll> & <ppj\\_lbll>\\\\\n",
       "\\hline\n",
       "\tnoun\\_F & noun\\_F & 5.84 & \\${[}2.53\\$, \\$9.15{]}\\$ & 4.41 & .005\\\\\n",
       "\tnoun\\_M & noun\\_M & 5.48 & \\${[}2.17\\$, \\$8.78{]}\\$ & 4.14 & .007\\\\\n",
       "\tverb\\_X & verb\\_X & 5.26 & \\${[}1.95\\$, \\$8.57{]}\\$ & 3.97 & .009\\\\\n",
       "\\end{tabular}\n"
      ],
      "text/markdown": [
       "\n",
       "A apa_results_table: 3 × 5\n",
       "\n",
       "| <!--/--> | cond0 &lt;chr&gt; | estimate &lt;ppj_lbll&gt; | ci &lt;ppj_lbll&gt; | statistic &lt;ppj_lbll&gt; | p.value &lt;ppj_lbll&gt; |\n",
       "|---|---|---|---|---|---|\n",
       "| noun_F | noun_F | 5.84 | $[2.53$, $9.15]$ | 4.41 | .005 |\n",
       "| noun_M | noun_M | 5.48 | $[2.17$, $8.78]$ | 4.14 | .007 |\n",
       "| verb_X | verb_X | 5.26 | $[1.95$, $8.57]$ | 3.97 | .009 |\n",
       "\n"
      ],
      "text/plain": [
       "       cond0  estimate ci               statistic p.value\n",
       "noun_F noun_F 5.84     $[2.53$, $9.15]$ 4.41      .005   \n",
       "noun_M noun_M 5.48     $[2.17$, $8.78]$ 4.14      .007   \n",
       "verb_X verb_X 5.26     $[1.95$, $8.57]$ 3.97      .009   "
      ]
     },
     "metadata": {},
     "output_type": "display_data"
    },
    {
     "data": {
      "text/markdown": [
       "### Paired comparisons for expected marginal means"
      ]
     },
     "metadata": {},
     "output_type": "display_data"
    },
    {
     "data": {
      "text/html": [
       "<table>\n",
       "<caption>A apa_results_table: 3 × 5</caption>\n",
       "<thead>\n",
       "\t<tr><th></th><th scope=col>contrast</th><th scope=col>estimate</th><th scope=col>ci</th><th scope=col>statistic</th><th scope=col>p.value</th></tr>\n",
       "\t<tr><th></th><th scope=col>&lt;ppj_lbll&gt;</th><th scope=col>&lt;ppj_lbll&gt;</th><th scope=col>&lt;ppj_lbll&gt;</th><th scope=col>&lt;ppj_lbll&gt;</th><th scope=col>&lt;ppj_lbll&gt;</th></tr>\n",
       "</thead>\n",
       "<tbody>\n",
       "\t<tr><th scope=row>noun_F_noun_M</th><td>noun_F - noun_M</td><td>0.36</td><td>$[-1.05$, $1.78]$</td><td>0.70</td><td>.766</td></tr>\n",
       "\t<tr><th scope=row>noun_F_verb_X</th><td>noun_F - verb_X</td><td>0.58</td><td>$[-0.83$, $1.99]$</td><td>1.13</td><td>.520</td></tr>\n",
       "\t<tr><th scope=row>noun_M_verb_X</th><td>noun_M - verb_X</td><td>0.22</td><td>$[-1.19$, $1.63]$</td><td>0.42</td><td>.907</td></tr>\n",
       "</tbody>\n",
       "</table>\n"
      ],
      "text/latex": [
       "A apa\\_results\\_table: 3 × 5\n",
       "\\begin{tabular}{r|lllll}\n",
       "  & contrast & estimate & ci & statistic & p.value\\\\\n",
       "  & <ppj\\_lbll> & <ppj\\_lbll> & <ppj\\_lbll> & <ppj\\_lbll> & <ppj\\_lbll>\\\\\n",
       "\\hline\n",
       "\tnoun\\_F\\_noun\\_M & noun\\_F - noun\\_M & 0.36 & \\${[}-1.05\\$, \\$1.78{]}\\$ & 0.70 & .766\\\\\n",
       "\tnoun\\_F\\_verb\\_X & noun\\_F - verb\\_X & 0.58 & \\${[}-0.83\\$, \\$1.99{]}\\$ & 1.13 & .520\\\\\n",
       "\tnoun\\_M\\_verb\\_X & noun\\_M - verb\\_X & 0.22 & \\${[}-1.19\\$, \\$1.63{]}\\$ & 0.42 & .907\\\\\n",
       "\\end{tabular}\n"
      ],
      "text/markdown": [
       "\n",
       "A apa_results_table: 3 × 5\n",
       "\n",
       "| <!--/--> | contrast &lt;ppj_lbll&gt; | estimate &lt;ppj_lbll&gt; | ci &lt;ppj_lbll&gt; | statistic &lt;ppj_lbll&gt; | p.value &lt;ppj_lbll&gt; |\n",
       "|---|---|---|---|---|---|\n",
       "| noun_F_noun_M | noun_F - noun_M | 0.36 | $[-1.05$, $1.78]$ | 0.70 | .766 |\n",
       "| noun_F_verb_X | noun_F - verb_X | 0.58 | $[-0.83$, $1.99]$ | 1.13 | .520 |\n",
       "| noun_M_verb_X | noun_M - verb_X | 0.22 | $[-1.19$, $1.63]$ | 0.42 | .907 |\n",
       "\n"
      ],
      "text/plain": [
       "              contrast        estimate ci                statistic p.value\n",
       "noun_F_noun_M noun_F - noun_M 0.36     $[-1.05$, $1.78]$ 0.70      .766   \n",
       "noun_F_verb_X noun_F - verb_X 0.58     $[-0.83$, $1.99]$ 1.13      .520   \n",
       "noun_M_verb_X noun_M - verb_X 0.22     $[-1.19$, $1.63]$ 0.42      .907   "
      ]
     },
     "metadata": {},
     "output_type": "display_data"
    }
   ],
   "source": [
    "IDX <- IDX+1; COND <- CONDS[IDX]\n",
    "data1 <- droplevels(subset(df1, eval(parse(text=COND)))); data1 <- data1[complete.cases(data1),]; done1 <- AOV4(data1,COND)\n",
    "display_markdown(str_c(\"# Condition \",IDX,\" of \",length(CONDS))); display_markdown(done1$info); display_markdown(\"### Table\"); done1$aov_APA$table; display_markdown(\"### Result\"); display_markdown(done1$aov_APA[[\"full_result\"]][[\"cond0\"]]); display_markdown(\"### Summary (all done1, incl. NANs)\"); done1$summary; display_markdown(\"### Expected marginal means\"); done1$emm_APA$table; display_markdown(\"### Paired comparisons for expected marginal means\"); done1$pairs_APA$table"
   ]
  },
  {
   "cell_type": "code",
   "execution_count": 89,
   "metadata": {},
   "outputs": [
    {
     "name": "stderr",
     "output_type": "stream",
     "text": [
      "Warning message:\n",
      "“Missing values for following ID(s):\n",
      "15agxf, 19jgxf, 31ltxf\n",
      "Removing those cases from the analysis.”\n"
     ]
    },
    {
     "ename": "ERROR",
     "evalue": "Error in `contrasts<-`(`*tmp*`, value = contr.funs[1 + isOF[nn]]): contrasts can be applied only to factors with 2 or more levels\n",
     "output_type": "error",
     "traceback": [
      "Error in `contrasts<-`(`*tmp*`, value = contr.funs[1 + isOF[nn]]): contrasts can be applied only to factors with 2 or more levels\nTraceback:\n",
      "1. AOV4(data1, COND)",
      "2. aov_4(formula <- FORMULA, data <- DATA, )   # at line 13-16 of file <text>",
      "3. aov_car(formula = as.formula(formula), data = data, fun_aggregate = fun_aggregate, \n .     type = type, return = return, factorize = factorize, check_contrasts = check_contrasts, \n .     observed = observed, anova_table = anova_table, include_aov = include_aov, \n .     ...)",
      "4. aov(tmp_formula, data = dat.ret, contrasts = contrasts)",
      "5. eval(ecall, parent.frame())",
      "6. eval(ecall, parent.frame())",
      "7. stats::lm(formula = valX ~ SUB/(cond0), data = dat.ret, singular.ok = TRUE, \n .     method = \"qr\", qr = TRUE)",
      "8. model.matrix(mt, mf, contrasts)",
      "9. model.matrix.default(mt, mf, contrasts)",
      "10. `contrasts<-`(`*tmp*`, value = contr.funs[1 + isOF[nn]])",
      "11. stop(\"contrasts can be applied only to factors with 2 or more levels\")"
     ]
    }
   ],
   "source": [
    "IDX <- IDX+1; COND <- CONDS[IDX]\n",
    "data1 <- droplevels(subset(df1, eval(parse(text=COND)))); data1 <- data1[complete.cases(data1),]; done1 <- AOV4(data1,COND)\n",
    "display_markdown(str_c(\"# Condition \",IDX,\" of \",length(CONDS))); display_markdown(done1$info); display_markdown(\"### Table\"); done1$aov_APA$table; display_markdown(\"### Result\"); display_markdown(done1$aov_APA[[\"full_result\"]][[\"cond0\"]]); display_markdown(\"### Summary (all done1, incl. NANs)\"); done1$summary; display_markdown(\"### Expected marginal means\"); done1$emm_APA$table; display_markdown(\"### Paired comparisons for expected marginal means\"); done1$pairs_APA$table"
   ]
  },
  {
   "cell_type": "code",
   "execution_count": 90,
   "metadata": {},
   "outputs": [
    {
     "ename": "ERROR",
     "evalue": "Error in dim(ordered) <- ns: dims [product 1] do not match the length of object [0]\n",
     "output_type": "error",
     "traceback": [
      "Error in dim(ordered) <- ns: dims [product 1] do not match the length of object [0]\nTraceback:\n",
      "1. AOV4(data1, COND)",
      "2. aov_4(formula <- FORMULA, data <- DATA, )   # at line 13-16 of file <text>",
      "3. aov_car(formula = as.formula(formula), data = data, fun_aggregate = fun_aggregate, \n .     type = type, return = return, factorize = factorize, check_contrasts = check_contrasts, \n .     observed = observed, anova_table = anova_table, include_aov = include_aov, \n .     ...)",
      "4. do.call(dcast, args = c(data = list(data), formula = as.formula(paste(lh1, \n .     if (length(within) > 0) rh1 else \".\", sep = \"~\")), fun.aggregate = fun_aggregate, \n .     dots, value.var = dv))",
      "5. (function (data, formula, fun.aggregate = NULL, ..., margins = NULL, \n .     subset = NULL, fill = NULL, drop = TRUE, value.var = guess_value(data)) \n . {\n .     formula <- parse_formula(formula, names(data), value.var)\n .     if (length(formula) > 2) {\n .         stop(\"Dataframes have at most two output dimensions\")\n .     }\n .     if (!is.null(margins)) {\n .         data <- add_margins(data, lapply(formula, names), margins)\n .     }\n .     res <- cast(data, formula, fun.aggregate, ..., subset = subset, \n .         fill = fill, drop = drop, value.var = value.var)\n .     data <- as.data.frame.matrix(res$data, stringsAsFactors = FALSE)\n .     names(data) <- array_names(res$labels[[2]])\n .     stopifnot(nrow(res$labels[[1]]) == nrow(data))\n .     cbind(res$labels[[1]], data)\n . })(data = structure(list(cond0 = structure(integer(0), .Label = character(0), class = \"factor\"), \n .     chan0 = structure(integer(0), .Label = character(0), class = \"factor\"), \n .     tmin0 = numeric(0), tmax0 = numeric(0), mode0 = structure(integer(0), .Label = character(0), class = \"factor\"), \n .     valX = numeric(0), SUB = structure(integer(0), .Label = character(0), class = \"factor\")), row.names = integer(0), class = \"data.frame\"), \n .     formula = SUB ~ cond0, value.var = \"valX\")",
      "6. cast(data, formula, fun.aggregate, ..., subset = subset, fill = fill, \n .     drop = drop, value.var = value.var)"
     ]
    }
   ],
   "source": [
    "IDX <- IDX+1; COND <- CONDS[IDX]\n",
    "data1 <- droplevels(subset(df1, eval(parse(text=COND)))); data1 <- data1[complete.cases(data1),]; done1 <- AOV4(data1,COND)\n",
    "display_markdown(str_c(\"# Condition \",IDX,\" of \",length(CONDS))); display_markdown(done1$info); display_markdown(\"### Table\"); done1$aov_APA$table; display_markdown(\"### Result\"); display_markdown(done1$aov_APA[[\"full_result\"]][[\"cond0\"]]); display_markdown(\"### Summary (all done1, incl. NANs)\"); done1$summary; display_markdown(\"### Expected marginal means\"); done1$emm_APA$table; display_markdown(\"### Paired comparisons for expected marginal means\"); done1$pairs_APA$table"
   ]
  },
  {
   "cell_type": "code",
   "execution_count": null,
   "metadata": {},
   "outputs": [],
   "source": []
  },
  {
   "cell_type": "code",
   "execution_count": null,
   "metadata": {},
   "outputs": [],
   "source": []
  },
  {
   "cell_type": "code",
   "execution_count": null,
   "metadata": {},
   "outputs": [],
   "source": [
    "IDX = 71"
   ]
  },
  {
   "cell_type": "code",
   "execution_count": null,
   "metadata": {},
   "outputs": [],
   "source": []
  },
  {
   "cell_type": "code",
   "execution_count": null,
   "metadata": {},
   "outputs": [],
   "source": []
  },
  {
   "cell_type": "code",
   "execution_count": null,
   "metadata": {},
   "outputs": [],
   "source": []
  },
  {
   "cell_type": "code",
   "execution_count": null,
   "metadata": {},
   "outputs": [],
   "source": []
  },
  {
   "cell_type": "code",
   "execution_count": null,
   "metadata": {},
   "outputs": [],
   "source": []
  },
  {
   "cell_type": "code",
   "execution_count": null,
   "metadata": {},
   "outputs": [],
   "source": []
  },
  {
   "cell_type": "code",
   "execution_count": null,
   "metadata": {},
   "outputs": [],
   "source": []
  },
  {
   "cell_type": "code",
   "execution_count": null,
   "metadata": {},
   "outputs": [],
   "source": []
  }
 ],
 "metadata": {
  "kernelspec": {
   "display_name": "R",
   "language": "R",
   "name": "ir"
  },
  "language_info": {
   "codemirror_mode": "r",
   "file_extension": ".r",
   "mimetype": "text/x-r-source",
   "name": "R",
   "pygments_lexer": "r",
   "version": "3.6.3"
  }
 },
 "nbformat": 4,
 "nbformat_minor": 4
}
