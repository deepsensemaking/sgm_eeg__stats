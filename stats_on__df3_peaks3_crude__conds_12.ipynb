{
 "cells": [
  {
   "cell_type": "code",
   "execution_count": 1,
   "metadata": {},
   "outputs": [
    {
     "name": "stderr",
     "output_type": "stream",
     "text": [
      "\n",
      "Attaching package: ‘dplyr’\n",
      "\n",
      "\n",
      "The following objects are masked from ‘package:stats’:\n",
      "\n",
      "    filter, lag\n",
      "\n",
      "\n",
      "The following objects are masked from ‘package:base’:\n",
      "\n",
      "    intersect, setdiff, setequal, union\n",
      "\n",
      "\n",
      "Loading required package: lme4\n",
      "\n",
      "Loading required package: Matrix\n",
      "\n",
      "\n",
      "Attaching package: ‘Matrix’\n",
      "\n",
      "\n",
      "The following objects are masked from ‘package:tidyr’:\n",
      "\n",
      "    expand, pack, unpack\n",
      "\n",
      "\n",
      "Registered S3 methods overwritten by 'car':\n",
      "  method                          from\n",
      "  influence.merMod                lme4\n",
      "  cooks.distance.influence.merMod lme4\n",
      "  dfbeta.influence.merMod         lme4\n",
      "  dfbetas.influence.merMod        lme4\n",
      "\n",
      "************\n",
      "Welcome to afex. For support visit: http://afex.singmann.science/\n",
      "\n",
      "- Functions for ANOVAs: aov_car(), aov_ez(), and aov_4()\n",
      "- Methods for calculating p-values with mixed(): 'KR', 'S', 'LRT', and 'PB'\n",
      "- 'afex_aov' and 'mixed' objects can be passed to emmeans() for follow-up tests\n",
      "- NEWS: library('emmeans') now needs to be called explicitly!\n",
      "- Get and set global package options with: afex_options()\n",
      "- Set orthogonal sum-to-zero contrasts globally: set_sum_contrasts()\n",
      "- For example analyses see: browseVignettes(\"afex\")\n",
      "************\n",
      "\n",
      "\n",
      "Attaching package: ‘afex’\n",
      "\n",
      "\n",
      "The following object is masked from ‘package:lme4’:\n",
      "\n",
      "    lmer\n",
      "\n",
      "\n",
      "Loading required package: mvtnorm\n",
      "\n",
      "Loading required package: survival\n",
      "\n",
      "Loading required package: TH.data\n",
      "\n",
      "Loading required package: MASS\n",
      "\n",
      "\n",
      "Attaching package: ‘MASS’\n",
      "\n",
      "\n",
      "The following object is masked from ‘package:dplyr’:\n",
      "\n",
      "    select\n",
      "\n",
      "\n",
      "\n",
      "Attaching package: ‘TH.data’\n",
      "\n",
      "\n",
      "The following object is masked from ‘package:MASS’:\n",
      "\n",
      "    geyser\n",
      "\n",
      "\n",
      "Loading required package: carData\n",
      "\n",
      "\n",
      "Attaching package: ‘car’\n",
      "\n",
      "\n",
      "The following object is masked from ‘package:dplyr’:\n",
      "\n",
      "    recode\n",
      "\n",
      "\n",
      "Loading required package: lattice\n",
      "\n",
      "Loading required package: ez\n",
      "\n",
      "── \u001b[1mAttaching packages\u001b[22m ─────────────────────────────────────────────────────────────────────────────────────────────────────────────────────────────────────────────────────────────────────────────────────────────────────── tidyverse 1.3.0 ──\n",
      "\n",
      "\u001b[32m✔\u001b[39m \u001b[34mtibble \u001b[39m 3.0.3     \u001b[32m✔\u001b[39m \u001b[34mstringr\u001b[39m 1.4.0\n",
      "\u001b[32m✔\u001b[39m \u001b[34mreadr  \u001b[39m 1.3.1     \u001b[32m✔\u001b[39m \u001b[34mforcats\u001b[39m 0.5.0\n",
      "\u001b[32m✔\u001b[39m \u001b[34mpurrr  \u001b[39m 0.3.4     \n",
      "\n",
      "── \u001b[1mConflicts\u001b[22m ────────────────────────────────────────────────────────────────────────────────────────────────────────────────────────────────────────────────────────────────────────────────────────────────────────── tidyverse_conflicts() ──\n",
      "\u001b[31m✖\u001b[39m \u001b[34mMatrix\u001b[39m::\u001b[32mexpand()\u001b[39m masks \u001b[34mtidyr\u001b[39m::expand()\n",
      "\u001b[31m✖\u001b[39m \u001b[34mdplyr\u001b[39m::\u001b[32mfilter()\u001b[39m  masks \u001b[34mstats\u001b[39m::filter()\n",
      "\u001b[31m✖\u001b[39m \u001b[34mdplyr\u001b[39m::\u001b[32mlag()\u001b[39m     masks \u001b[34mstats\u001b[39m::lag()\n",
      "\u001b[31m✖\u001b[39m \u001b[34mMatrix\u001b[39m::\u001b[32mpack()\u001b[39m   masks \u001b[34mtidyr\u001b[39m::pack()\n",
      "\u001b[31m✖\u001b[39m \u001b[34mcar\u001b[39m::\u001b[32mrecode()\u001b[39m    masks \u001b[34mdplyr\u001b[39m::recode()\n",
      "\u001b[31m✖\u001b[39m \u001b[34mMASS\u001b[39m::\u001b[32mselect()\u001b[39m   masks \u001b[34mdplyr\u001b[39m::select()\n",
      "\u001b[31m✖\u001b[39m \u001b[34mpurrr\u001b[39m::\u001b[32msome()\u001b[39m    masks \u001b[34mcar\u001b[39m::some()\n",
      "\u001b[31m✖\u001b[39m \u001b[34mMatrix\u001b[39m::\u001b[32munpack()\u001b[39m masks \u001b[34mtidyr\u001b[39m::unpack()\n",
      "\n"
     ]
    }
   ],
   "source": [
    "library(\"dplyr\")\n",
    "library(\"tidyr\")\n",
    "library(\"afex\")     # provides mixed() and attaches lme4 automatically.\n",
    "library(\"emmeans\")  # follow-up tests.\n",
    "library(\"multcomp\") # advanced control for multiple testing/Type 1 errors.\n",
    "library(\"ggplot2\")\n",
    "\n",
    "library(\"car\")\n",
    "require(\"lattice\")\n",
    "require(\"ez\")\n",
    "\n",
    "library(\"cowplot\")\n",
    "library(\"ggbeeswarm\")\n",
    "\n",
    "library(\"nortest\")\n",
    "\n",
    "library(\"effectsize\")\n",
    "\n",
    "theme_set(theme_bw(base_size = 15) +\n",
    "            theme(legend.position=\"bottom\",\n",
    "                  panel.grid.major.x = element_blank()))\n",
    "\n",
    "\n",
    "options(width=240)\n",
    "library(tidyverse)\n"
   ]
  },
  {
   "cell_type": "code",
   "execution_count": 2,
   "metadata": {
    "scrolled": true
   },
   "outputs": [
    {
     "name": "stderr",
     "output_type": "stream",
     "text": [
      "\n",
      "Attaching package: ‘IRdisplay’\n",
      "\n",
      "\n",
      "The following object is masked from ‘package:xtable’:\n",
      "\n",
      "    display\n",
      "\n",
      "\n",
      "Loading required package: papaja\n",
      "\n",
      "Loading required package: tinytex\n",
      "\n"
     ]
    }
   ],
   "source": [
    "library(xtable)\n",
    "library(IRdisplay)\n",
    "library(repr)\n",
    "require(\"papaja\")\n",
    "require(\"tinytex\")"
   ]
  },
  {
   "cell_type": "code",
   "execution_count": 3,
   "metadata": {},
   "outputs": [],
   "source": [
    "apaMd <- function(apaObj){\n",
    "    apaStr <- \"\"\n",
    "    for (ii in names(apaObj)){\n",
    "        apaStr <- paste(apaStr, paste(\"\\n\",\"### \", ii, \"\\n\" ,sep=\"\" ,collapse = \"\")  ,sep=\"\" ,collapse = \"\")\n",
    "        if(!(ii == \"table\")){ \n",
    "            for (jj in names(apaObj[[ii]])){\n",
    "                apaStr <- paste(apaStr, paste(\"- \", ii,\" for `\", jj, \"` is \", \"\\n\" ,sep=\"\" ,collapse = \"\")  ,sep=\"\\n\" ,collapse = \" \")\n",
    "                apaStr <- paste(apaStr, paste(\"  - \", apaObj[[ii]][[jj]], \"\\n\" ,sep=\"\" ,collapse = \"\")  ,sep=\"\\n\" ,collapse = \" \")\n",
    "                }}\n",
    "        else {\n",
    "            # apaStr <- paste(apaStr, \"\\n\\n\", paste(apa_table(apaObj$table))  ,sep=\"\\n\" ,collapse = \" \")\n",
    "            apaStr <- paste(apaStr, paste(\"- support for will arrive some day\", \"\\n\" ,sep=\"\" ,collapse = \"\")  ,sep=\"\\n\" ,collapse = \" \")\n",
    "            apaStr <- paste(apaStr, paste(\"- for now please use apa_table function\", \"\\n\" ,sep=\"\" ,collapse = \"\")  ,sep=\"\\n\" ,collapse = \" \")\n",
    "\n",
    "        }}\n",
    "    return(apaStr)\n",
    "}"
   ]
  },
  {
   "cell_type": "code",
   "execution_count": 4,
   "metadata": {},
   "outputs": [],
   "source": [
    "AOV4 <- function(DATA,INFO){\n",
    "\n",
    "    INFO <- paste(\"`\",INFO,\"`\",sep=\"\")\n",
    "    DATA_SUMMARY <- DATA %>%\n",
    "        group_by(cond0) %>%\n",
    "        summarise(\n",
    "            N = n(),\n",
    "            valX_M = mean(valX),\n",
    "            valX_SD = sd(valX),\n",
    "            valX_SE = valX_SD / sqrt(N),\n",
    "            .groups = \"drop\"\n",
    "        )    \n",
    "    DATA_aov <- aov_4(\n",
    "        formula  <- FORMULA,\n",
    "        data     <- DATA,\n",
    "    )    \n",
    "    DATA_aov_APA <- apa_print(DATA_aov)\n",
    "    \n",
    "    DATA_aov_EMM <- emmeans(DATA_aov, specs<-c(\"cond0\",\"chan0\"))\n",
    "    # DATA_aov_EMM <- emmeans(DATA_aov, specs<-pairwise~cond0|chan0)\n",
    "    # DATA_aov_EMM <- emmeans(DATA_aov, specs<-pairwise~cond0:chan0)\n",
    "    DATA_aov_EMM_APA <- apa_print(DATA_aov_EMM)\n",
    "    \n",
    "    # DATA_aov_EMM_PAIRS <- pairs(DATA_aov_EMM)\n",
    "    # DATA_aov_EMM_PAIRS <- pairs(DATA_aov_EMM )\n",
    "\n",
    "    # cont <- \"trt.vs.ctrl1\"\n",
    "    # cont <- \"trt.vs.ctrl\"\n",
    "    # cont <- \"consec\"\n",
    "    # cont <- \"poly\"\n",
    "    # cont <- \"trt.vs.ctrlk\"\n",
    "    cont <- \"pairwise\"\n",
    "    # DATA_aov_EMM_PAIRS <- contrast(DATA_aov_EMM, cont, by = c(\"chan0\"))\n",
    "    DATA_aov_EMM_PAIRS <- contrast(DATA_aov_EMM, cont, by = c(\"chan0\"))\n",
    "    \n",
    "    \n",
    "    DATA_aov_EMM_PAIRS_APA <- apa_print(DATA_aov_EMM_PAIRS)    \n",
    "\n",
    "    return(list(\"info\"      = INFO,\n",
    "                \"summary\"   = DATA_SUMMARY,\n",
    "                \"aov\"       = DATA_aov,\n",
    "                \"aov_APA\"   = DATA_aov_APA,\n",
    "                \"emm\"       = DATA_aov_EMM,\n",
    "                \"emm_APA\"   = DATA_aov_EMM_APA,\n",
    "                \"pairs\"     = DATA_aov_EMM_PAIRS,\n",
    "                \"pairs_APA\" = DATA_aov_EMM_PAIRS_APA\n",
    "               )\n",
    "          )\n",
    "}"
   ]
  },
  {
   "cell_type": "markdown",
   "metadata": {},
   "source": [
    "# Peaks 0"
   ]
  },
  {
   "cell_type": "code",
   "execution_count": 5,
   "metadata": {},
   "outputs": [],
   "source": [
    "ifName=\"./data/JOB_004/exports/df3_peaks3_crude.csv\"\n",
    "\n",
    "\n",
    "df0 <- read.csv(file = ifName)\n",
    "df0 <- subset(df0, CHAN_BUND==\"\" | is.na(CHAN_BUND)  )\n",
    "df0 <- subset(df0, quest0==\"word_set\" )"
   ]
  },
  {
   "cell_type": "code",
   "execution_count": 6,
   "metadata": {},
   "outputs": [
    {
     "name": "stdout",
     "output_type": "stream",
     "text": [
      "'data.frame':\t15120 obs. of  15 variables:\n",
      " $ evoked0  : Factor w/ 1 level \"evoked3\": 1 1 1 1 1 1 1 1 1 1 ...\n",
      " $ quest0   : Factor w/ 2 levels \"word_len\",\"word_set\": 2 2 2 2 2 2 2 2 2 2 ...\n",
      " $ cond0    : Factor w/ 8 levels \"7\",\"8\",\"9\",\"all_in\",..: 4 4 4 4 4 4 4 4 4 4 ...\n",
      " $ chan0    : Factor w/ 42 levels \"AF3\",\"AF4\",\"C1\",..: 26 26 26 26 26 26 26 26 26 26 ...\n",
      " $ tmin0    : num  0.1 0.1 0.19 0.19 0.35 0.35 0.41 0.41 0.6 0.6 ...\n",
      " $ tmax0    : num  0.19 0.19 0.29 0.29 0.45 0.45 0.58 0.58 0.895 0.895 ...\n",
      " $ mode0    : Factor w/ 2 levels \"neg\",\"pos\": 2 1 2 1 2 1 2 1 2 1 ...\n",
      " $ chanX    : Factor w/ 42 levels \"AF3\",\"AF4\",\"C1\",..: 26 26 26 26 26 26 26 26 26 26 ...\n",
      " $ latX     : num  0.105 0.14 0.205 0.255 0.45 0.35 0.475 0.425 0.66 0.7 ...\n",
      " $ valX     : num  0.144 -2.242 0.216 -0.828 -0.886 ...\n",
      " $ SUB      : Factor w/ 42 levels \"01mkxf\",\"02ppxm\",..: 1 1 1 1 1 1 1 1 1 1 ...\n",
      " $ SES      : Factor w/ 1 level \"eeg001\": 1 1 1 1 1 1 1 1 1 1 ...\n",
      " $ TASK     : Factor w/ 1 level \"lexdec\": 1 1 1 1 1 1 1 1 1 1 ...\n",
      " $ RUN      : int  0 0 0 0 0 0 0 0 0 0 ...\n",
      " $ CHAN_BUND: Factor w/ 7 levels \"\",\"LC\",\"LF\",\"LP\",..: 1 1 1 1 1 1 1 1 1 1 ...\n"
     ]
    }
   ],
   "source": [
    "str(df0)\n"
   ]
  },
  {
   "cell_type": "code",
   "execution_count": 7,
   "metadata": {},
   "outputs": [],
   "source": [
    "df1 <- data.frame(df0)"
   ]
  },
  {
   "cell_type": "code",
   "execution_count": 8,
   "metadata": {},
   "outputs": [],
   "source": [
    "df1 <- subset(df1, cond0 %in% c(\"noun_F\",\"noun_M\",\"verb_X\") )\n",
    "# df1 <- subset(df1, cond0 %in% c(\"noun_X\",\"verb_X\") )"
   ]
  },
  {
   "cell_type": "code",
   "execution_count": 9,
   "metadata": {},
   "outputs": [],
   "source": [
    "'%!in%' <- function(x,y)!('%in%'(x,y))\n",
    "\n",
    "# df1 <- subset(df1, SUB %!in% c(\"01mkxf\",\"02ppxm\",\"09msxf\",\"15agxf\",\"17makf\",\"24jkxf\",\"26mwxf\",\"31ltxf\",\"33kkxm\",\"37lpxm\") )"
   ]
  },
  {
   "cell_type": "code",
   "execution_count": null,
   "metadata": {},
   "outputs": [],
   "source": []
  },
  {
   "cell_type": "code",
   "execution_count": 10,
   "metadata": {},
   "outputs": [],
   "source": [
    "df1 <- droplevels(df1)\n",
    "# df1 <- subset(df1, select = -c(evoked0,SES,TASK,RUN,chanX,quest0,CHAN_BUND) )\n",
    "df1 <- subset(df1, select = c(cond0,chan0,tmin0,tmax0,mode0,valX,SUB) )\n"
   ]
  },
  {
   "cell_type": "code",
   "execution_count": 11,
   "metadata": {},
   "outputs": [
    {
     "name": "stdout",
     "output_type": "stream",
     "text": [
      "'data.frame':\t9072 obs. of  7 variables:\n",
      " $ cond0: Factor w/ 3 levels \"noun_F\",\"noun_M\",..: 3 3 3 3 3 3 3 3 3 3 ...\n",
      " $ chan0: Factor w/ 6 levels \"LC\",\"LF\",\"LP\",..: 2 2 2 2 2 2 2 2 2 2 ...\n",
      " $ tmin0: num  0.1 0.1 0.19 0.19 0.35 0.35 0.41 0.41 0.6 0.6 ...\n",
      " $ tmax0: num  0.19 0.19 0.29 0.29 0.45 0.45 0.58 0.58 0.895 0.895 ...\n",
      " $ mode0: Factor w/ 2 levels \"neg\",\"pos\": 2 1 2 1 2 1 2 1 2 1 ...\n",
      " $ valX : num  0.0756 -2.2746 -0.0233 -1.0445 -1.3524 ...\n",
      " $ SUB  : Factor w/ 42 levels \"01mkxf\",\"02ppxm\",..: 1 1 1 1 1 1 1 1 1 1 ...\n"
     ]
    }
   ],
   "source": [
    "str(df1)"
   ]
  },
  {
   "cell_type": "code",
   "execution_count": 12,
   "metadata": {},
   "outputs": [
    {
     "data": {
      "text/plain": [
       "    cond0     \n",
       " noun_F:3024  \n",
       " noun_M:3024  \n",
       " verb_X:3024  "
      ]
     },
     "metadata": {},
     "output_type": "display_data"
    }
   ],
   "source": [
    "as.matrix(summary(df1[\"cond0\"]))"
   ]
  },
  {
   "cell_type": "code",
   "execution_count": 13,
   "metadata": {},
   "outputs": [
    {
     "data": {
      "text/html": [
       "<strong>$chan0</strong> = <style>\n",
       ".list-inline {list-style: none; margin:0; padding: 0}\n",
       ".list-inline>li {display: inline-block}\n",
       ".list-inline>li:not(:last-child)::after {content: \"\\00b7\"; padding: 0 .5ex}\n",
       "</style>\n",
       "<ol class=list-inline><li>LF</li><li>RF</li><li>LC</li><li>RC</li><li>LP</li><li>RP</li></ol>\n",
       "\n",
       "<details>\n",
       "\t<summary style=display:list-item;cursor:pointer>\n",
       "\t\t<strong>Levels</strong>:\n",
       "\t</summary>\n",
       "\t<style>\n",
       "\t.list-inline {list-style: none; margin:0; padding: 0}\n",
       "\t.list-inline>li {display: inline-block}\n",
       "\t.list-inline>li:not(:last-child)::after {content: \"\\00b7\"; padding: 0 .5ex}\n",
       "\t</style>\n",
       "\t<ol class=list-inline><li>'LC'</li><li>'LF'</li><li>'LP'</li><li>'RC'</li><li>'RF'</li><li>'RP'</li></ol>\n",
       "</details>"
      ],
      "text/latex": [
       "\\textbf{\\$chan0} = \\begin{enumerate*}\n",
       "\\item LF\n",
       "\\item RF\n",
       "\\item LC\n",
       "\\item RC\n",
       "\\item LP\n",
       "\\item RP\n",
       "\\end{enumerate*}\n",
       "\n",
       "\\emph{Levels}: \\begin{enumerate*}\n",
       "\\item 'LC'\n",
       "\\item 'LF'\n",
       "\\item 'LP'\n",
       "\\item 'RC'\n",
       "\\item 'RF'\n",
       "\\item 'RP'\n",
       "\\end{enumerate*}\n"
      ],
      "text/markdown": [
       "**$chan0** = 1. LF\n",
       "2. RF\n",
       "3. LC\n",
       "4. RC\n",
       "5. LP\n",
       "6. RP\n",
       "\n",
       "\n",
       "\n",
       "**Levels**: 1. 'LC'\n",
       "2. 'LF'\n",
       "3. 'LP'\n",
       "4. 'RC'\n",
       "5. 'RF'\n",
       "6. 'RP'\n",
       "\n",
       "\n"
      ],
      "text/plain": [
       "$chan0\n",
       "[1] LF RF LC RC LP RP\n",
       "Levels: LC LF LP RC RF RP\n"
      ]
     },
     "metadata": {},
     "output_type": "display_data"
    }
   ],
   "source": [
    "c(unique(df1[\"chan0\"]))"
   ]
  },
  {
   "cell_type": "code",
   "execution_count": 14,
   "metadata": {},
   "outputs": [
    {
     "data": {
      "text/html": [
       "<strong>$tmin0</strong> = <style>\n",
       ".list-inline {list-style: none; margin:0; padding: 0}\n",
       ".list-inline>li {display: inline-block}\n",
       ".list-inline>li:not(:last-child)::after {content: \"\\00b7\"; padding: 0 .5ex}\n",
       "</style>\n",
       "<ol class=list-inline><li>0.1</li><li>0.19</li><li>0.35</li><li>0.41</li><li>0.6</li><li>0.11</li></ol>\n"
      ],
      "text/latex": [
       "\\textbf{\\$tmin0} = \\begin{enumerate*}\n",
       "\\item 0.1\n",
       "\\item 0.19\n",
       "\\item 0.35\n",
       "\\item 0.41\n",
       "\\item 0.6\n",
       "\\item 0.11\n",
       "\\end{enumerate*}\n"
      ],
      "text/markdown": [
       "**$tmin0** = 1. 0.1\n",
       "2. 0.19\n",
       "3. 0.35\n",
       "4. 0.41\n",
       "5. 0.6\n",
       "6. 0.11\n",
       "\n",
       "\n"
      ],
      "text/plain": [
       "$tmin0\n",
       "[1] 0.10 0.19 0.35 0.41 0.60 0.11\n"
      ]
     },
     "metadata": {},
     "output_type": "display_data"
    }
   ],
   "source": [
    "c(unique(df1[\"tmin0\"]))"
   ]
  },
  {
   "cell_type": "markdown",
   "metadata": {},
   "source": [
    "https://www.rdocumentation.org/packages/afex/versions/0.27-2/topics/aov_car"
   ]
  },
  {
   "cell_type": "code",
   "execution_count": 15,
   "metadata": {},
   "outputs": [],
   "source": [
    "# FORMULA  <- valX~(cond0|SUB)\n",
    "# TEST     <- adjusted(\"free\")\n",
    "\n",
    "FORMULA  <- valX~(cond0*chan0|SUB)\n",
    "TEST     <- adjusted(\"free\")"
   ]
  },
  {
   "cell_type": "markdown",
   "metadata": {},
   "source": [
    "# Produce all possible condition combinations"
   ]
  },
  {
   "cell_type": "code",
   "execution_count": 16,
   "metadata": {},
   "outputs": [],
   "source": [
    "CONDS <- c()\n",
    "mode0 <- as.matrix(unique(df1[\"mode0\"]))\n",
    "tmin0 <- as.matrix(unique(df1[\"tmin0\"]))\n",
    "for(tmin1 in tmin0 ){\n",
    "    for(mode1 in mode0 ){\n",
    "        CONDS <- c(CONDS,str_c(\"tmin0==\",tmin1,\" & mode0==\\\"\",mode1,\"\\\"\"))\n",
    "    }\n",
    "}"
   ]
  },
  {
   "cell_type": "code",
   "execution_count": 17,
   "metadata": {},
   "outputs": [
    {
     "data": {
      "text/html": [
       "12"
      ],
      "text/latex": [
       "12"
      ],
      "text/markdown": [
       "12"
      ],
      "text/plain": [
       "[1] 12"
      ]
     },
     "metadata": {},
     "output_type": "display_data"
    }
   ],
   "source": [
    "length(CONDS)"
   ]
  },
  {
   "cell_type": "markdown",
   "metadata": {},
   "source": [
    "## Example condition defining string"
   ]
  },
  {
   "cell_type": "code",
   "execution_count": 18,
   "metadata": {
    "scrolled": true
   },
   "outputs": [
    {
     "data": {
      "text/html": [
       "'tmin0==0.1 &amp; mode0==\"pos\"'"
      ],
      "text/latex": [
       "'tmin0==0.1 \\& mode0==\"pos\"'"
      ],
      "text/markdown": [
       "'tmin0==0.1 &amp; mode0==\"pos\"'"
      ],
      "text/plain": [
       "[1] \"tmin0==0.1 & mode0==\\\"pos\\\"\""
      ]
     },
     "metadata": {},
     "output_type": "display_data"
    }
   ],
   "source": [
    "IDX=0\n",
    "CONDS[1]"
   ]
  },
  {
   "cell_type": "code",
   "execution_count": 19,
   "metadata": {},
   "outputs": [
    {
     "data": {
      "text/markdown": [
       "# Condition 1 of 12"
      ]
     },
     "metadata": {},
     "output_type": "display_data"
    },
    {
     "data": {
      "text/markdown": [
       "`tmin0==0.1 & mode0==\"pos\"`"
      ]
     },
     "metadata": {},
     "output_type": "display_data"
    },
    {
     "data": {
      "text/markdown": [
       "### Table"
      ]
     },
     "metadata": {},
     "output_type": "display_data"
    },
    {
     "data": {
      "text/html": [
       "<table>\n",
       "<caption>A apa_results_table: 3 × 7</caption>\n",
       "<thead>\n",
       "\t<tr><th></th><th scope=col>Effect</th><th scope=col>F</th><th scope=col>df1</th><th scope=col>df2</th><th scope=col>MSE</th><th scope=col>p</th><th scope=col>ges</th></tr>\n",
       "\t<tr><th></th><th scope=col>&lt;ppj_lbll&gt;</th><th scope=col>&lt;ppj_lbll&gt;</th><th scope=col>&lt;ppj_lbll&gt;</th><th scope=col>&lt;ppj_lbll&gt;</th><th scope=col>&lt;ppj_lbll&gt;</th><th scope=col>&lt;ppj_lbll&gt;</th><th scope=col>&lt;ppj_lbll&gt;</th></tr>\n",
       "</thead>\n",
       "<tbody>\n",
       "\t<tr><th scope=row>1</th><td>Cond0                </td><td>2.42 </td><td>1.78</td><td>73.06 </td><td>0.32 </td><td>.102  </td><td>.001</td></tr>\n",
       "\t<tr><th scope=row>2</th><td><span style=white-space:pre-wrap>Chan0                </span></td><td>68.11</td><td>2.00</td><td>81.84 </td><td>18.67</td><td>&lt; .001</td><td>.556</td></tr>\n",
       "\t<tr><th scope=row>3</th><td>Cond0 $\\times$ Chan0</td><td>1.13 </td><td>5.33</td><td>218.68</td><td>0.49 </td><td>.343  </td><td>.001</td></tr>\n",
       "</tbody>\n",
       "</table>\n"
      ],
      "text/latex": [
       "A apa\\_results\\_table: 3 × 7\n",
       "\\begin{tabular}{r|lllllll}\n",
       "  & Effect & F & df1 & df2 & MSE & p & ges\\\\\n",
       "  & <ppj\\_lbll> & <ppj\\_lbll> & <ppj\\_lbll> & <ppj\\_lbll> & <ppj\\_lbll> & <ppj\\_lbll> & <ppj\\_lbll>\\\\\n",
       "\\hline\n",
       "\t1 & Cond0                 & 2.42  & 1.78 & 73.06  & 0.32  & .102   & .001\\\\\n",
       "\t2 & Chan0                 & 68.11 & 2.00 & 81.84  & 18.67 & < .001 & .556\\\\\n",
       "\t3 & Cond0 \\$\\textbackslash{}times\\$ Chan0 & 1.13  & 5.33 & 218.68 & 0.49  & .343   & .001\\\\\n",
       "\\end{tabular}\n"
      ],
      "text/markdown": [
       "\n",
       "A apa_results_table: 3 × 7\n",
       "\n",
       "| <!--/--> | Effect &lt;ppj_lbll&gt; | F &lt;ppj_lbll&gt; | df1 &lt;ppj_lbll&gt; | df2 &lt;ppj_lbll&gt; | MSE &lt;ppj_lbll&gt; | p &lt;ppj_lbll&gt; | ges &lt;ppj_lbll&gt; |\n",
       "|---|---|---|---|---|---|---|---|\n",
       "| 1 | Cond0                 | 2.42  | 1.78 | 73.06  | 0.32  | .102   | .001 |\n",
       "| 2 | Chan0                 | 68.11 | 2.00 | 81.84  | 18.67 | &lt; .001 | .556 |\n",
       "| 3 | Cond0 $\\times$ Chan0 | 1.13  | 5.33 | 218.68 | 0.49  | .343   | .001 |\n",
       "\n"
      ],
      "text/plain": [
       "  Effect                F     df1  df2    MSE   p      ges \n",
       "1 Cond0                 2.42  1.78 73.06  0.32  .102   .001\n",
       "2 Chan0                 68.11 2.00 81.84  18.67 < .001 .556\n",
       "3 Cond0 $\\\\times$ Chan0 1.13  5.33 218.68 0.49  .343   .001"
      ]
     },
     "metadata": {},
     "output_type": "display_data"
    },
    {
     "data": {
      "text/markdown": [
       "### Result"
      ]
     },
     "metadata": {},
     "output_type": "display_data"
    },
    {
     "data": {
      "text/markdown": [
       "$F(1.78, 73.06) = 2.42$, $\\mathit{MSE} = 0.32$, $p = .102$, $\\hat{\\eta}^2_G = .001$"
      ]
     },
     "metadata": {},
     "output_type": "display_data"
    },
    {
     "data": {
      "text/markdown": [
       "### Summary (all done1, incl. NANs)"
      ]
     },
     "metadata": {},
     "output_type": "display_data"
    },
    {
     "data": {
      "text/html": [
       "<table>\n",
       "<caption>A tibble: 3 × 5</caption>\n",
       "<thead>\n",
       "\t<tr><th scope=col>cond0</th><th scope=col>N</th><th scope=col>valX_M</th><th scope=col>valX_SD</th><th scope=col>valX_SE</th></tr>\n",
       "\t<tr><th scope=col>&lt;fct&gt;</th><th scope=col>&lt;int&gt;</th><th scope=col>&lt;dbl&gt;</th><th scope=col>&lt;dbl&gt;</th><th scope=col>&lt;dbl&gt;</th></tr>\n",
       "</thead>\n",
       "<tbody>\n",
       "\t<tr><td>noun_F</td><td>252</td><td>2.167381</td><td>2.451860</td><td>0.1544526</td></tr>\n",
       "\t<tr><td>noun_M</td><td>252</td><td>2.066938</td><td>2.468749</td><td>0.1555166</td></tr>\n",
       "\t<tr><td>verb_X</td><td>252</td><td>2.090008</td><td>2.471338</td><td>0.1556797</td></tr>\n",
       "</tbody>\n",
       "</table>\n"
      ],
      "text/latex": [
       "A tibble: 3 × 5\n",
       "\\begin{tabular}{lllll}\n",
       " cond0 & N & valX\\_M & valX\\_SD & valX\\_SE\\\\\n",
       " <fct> & <int> & <dbl> & <dbl> & <dbl>\\\\\n",
       "\\hline\n",
       "\t noun\\_F & 252 & 2.167381 & 2.451860 & 0.1544526\\\\\n",
       "\t noun\\_M & 252 & 2.066938 & 2.468749 & 0.1555166\\\\\n",
       "\t verb\\_X & 252 & 2.090008 & 2.471338 & 0.1556797\\\\\n",
       "\\end{tabular}\n"
      ],
      "text/markdown": [
       "\n",
       "A tibble: 3 × 5\n",
       "\n",
       "| cond0 &lt;fct&gt; | N &lt;int&gt; | valX_M &lt;dbl&gt; | valX_SD &lt;dbl&gt; | valX_SE &lt;dbl&gt; |\n",
       "|---|---|---|---|---|\n",
       "| noun_F | 252 | 2.167381 | 2.451860 | 0.1544526 |\n",
       "| noun_M | 252 | 2.066938 | 2.468749 | 0.1555166 |\n",
       "| verb_X | 252 | 2.090008 | 2.471338 | 0.1556797 |\n",
       "\n"
      ],
      "text/plain": [
       "  cond0  N   valX_M   valX_SD  valX_SE  \n",
       "1 noun_F 252 2.167381 2.451860 0.1544526\n",
       "2 noun_M 252 2.066938 2.468749 0.1555166\n",
       "3 verb_X 252 2.090008 2.471338 0.1556797"
      ]
     },
     "metadata": {},
     "output_type": "display_data"
    },
    {
     "data": {
      "text/markdown": [
       "### Expected marginal means"
      ]
     },
     "metadata": {},
     "output_type": "display_data"
    },
    {
     "data": {
      "text/html": [
       "<table>\n",
       "<caption>A apa_results_table: 18 × 6</caption>\n",
       "<thead>\n",
       "\t<tr><th></th><th scope=col>chan0</th><th scope=col>cond0</th><th scope=col>estimate</th><th scope=col>ci</th><th scope=col>statistic</th><th scope=col>p.value</th></tr>\n",
       "\t<tr><th></th><th scope=col>&lt;chr&gt;</th><th scope=col>&lt;chr&gt;</th><th scope=col>&lt;ppj_lbll&gt;</th><th scope=col>&lt;ppj_lbll&gt;</th><th scope=col>&lt;ppj_lbll&gt;</th><th scope=col>&lt;ppj_lbll&gt;</th></tr>\n",
       "</thead>\n",
       "<tbody>\n",
       "\t<tr><th scope=row>noun_F_LC</th><td>LC</td><td>noun_F</td><td>1.13</td><td>$[0.62$, $1.63]$ </td><td>4.41 </td><td>&lt; .001</td></tr>\n",
       "\t<tr><th scope=row>noun_M_LC</th><td><span style=white-space:pre-wrap>  </span></td><td>noun_M</td><td>0.95</td><td>$[0.45$, $1.45]$ </td><td>3.71 </td><td>&lt; .001</td></tr>\n",
       "\t<tr><th scope=row>verb_X_LC</th><td><span style=white-space:pre-wrap>  </span></td><td>verb_X</td><td>0.98</td><td>$[0.47$, $1.48]$ </td><td>3.82 </td><td>&lt; .001</td></tr>\n",
       "\t<tr><th scope=row>noun_F_LF</th><td>LF</td><td>noun_F</td><td>1.08</td><td>$[0.58$, $1.58]$ </td><td>4.22 </td><td>&lt; .001</td></tr>\n",
       "\t<tr><th scope=row>noun_M_LF</th><td>  </td><td>noun_M</td><td>0.78</td><td>$[0.28$, $1.29]$ </td><td>3.06 </td><td>.002  </td></tr>\n",
       "\t<tr><th scope=row>verb_X_LF</th><td>  </td><td>verb_X</td><td>0.84</td><td>$[0.33$, $1.34]$ </td><td>3.27 </td><td>.001  </td></tr>\n",
       "\t<tr><th scope=row>noun_F_LP</th><td>LP</td><td>noun_F</td><td>4.06</td><td>$[3.55$, $4.56]$ </td><td>15.86</td><td>&lt; .001</td></tr>\n",
       "\t<tr><th scope=row>noun_M_LP</th><td><span style=white-space:pre-wrap>  </span></td><td>noun_M</td><td>4.20</td><td>$[3.69$, $4.70]$ </td><td>16.40</td><td>&lt; .001</td></tr>\n",
       "\t<tr><th scope=row>verb_X_LP</th><td><span style=white-space:pre-wrap>  </span></td><td>verb_X</td><td>4.02</td><td>$[3.51$, $4.52]$ </td><td>15.70</td><td>&lt; .001</td></tr>\n",
       "\t<tr><th scope=row>noun_F_RC</th><td>RC</td><td>noun_F</td><td>1.11</td><td>$[0.61$, $1.61]$ </td><td>4.34 </td><td>&lt; .001</td></tr>\n",
       "\t<tr><th scope=row>noun_M_RC</th><td><span style=white-space:pre-wrap>  </span></td><td>noun_M</td><td>1.03</td><td>$[0.53$, $1.53]$ </td><td>4.03 </td><td>&lt; .001</td></tr>\n",
       "\t<tr><th scope=row>verb_X_RC</th><td><span style=white-space:pre-wrap>  </span></td><td>verb_X</td><td>1.11</td><td>$[0.60$, $1.61]$ </td><td>4.32 </td><td>&lt; .001</td></tr>\n",
       "\t<tr><th scope=row>noun_F_RF</th><td>RF</td><td>noun_F</td><td>0.38</td><td>$[-0.12$, $0.89]$</td><td>1.49 </td><td>.137  </td></tr>\n",
       "\t<tr><th scope=row>noun_M_RF</th><td>  </td><td>noun_M</td><td>0.33</td><td>$[-0.17$, $0.84]$</td><td>1.31 </td><td>.193  </td></tr>\n",
       "\t<tr><th scope=row>verb_X_RF</th><td>  </td><td>verb_X</td><td>0.39</td><td>$[-0.11$, $0.90]$</td><td>1.54 </td><td>.126  </td></tr>\n",
       "\t<tr><th scope=row>noun_F_RP</th><td>RP</td><td>noun_F</td><td>5.25</td><td>$[4.74$, $5.75]$ </td><td>20.50</td><td>&lt; .001</td></tr>\n",
       "\t<tr><th scope=row>noun_M_RP</th><td><span style=white-space:pre-wrap>  </span></td><td>noun_M</td><td>5.11</td><td>$[4.60$, $5.61]$ </td><td>19.95</td><td>&lt; .001</td></tr>\n",
       "\t<tr><th scope=row>verb_X_RP</th><td><span style=white-space:pre-wrap>  </span></td><td>verb_X</td><td>5.21</td><td>$[4.71$, $5.71]$ </td><td>20.36</td><td>&lt; .001</td></tr>\n",
       "</tbody>\n",
       "</table>\n"
      ],
      "text/latex": [
       "A apa\\_results\\_table: 18 × 6\n",
       "\\begin{tabular}{r|llllll}\n",
       "  & chan0 & cond0 & estimate & ci & statistic & p.value\\\\\n",
       "  & <chr> & <chr> & <ppj\\_lbll> & <ppj\\_lbll> & <ppj\\_lbll> & <ppj\\_lbll>\\\\\n",
       "\\hline\n",
       "\tnoun\\_F\\_LC & LC & noun\\_F & 1.13 & \\${[}0.62\\$, \\$1.63{]}\\$  & 4.41  & < .001\\\\\n",
       "\tnoun\\_M\\_LC &    & noun\\_M & 0.95 & \\${[}0.45\\$, \\$1.45{]}\\$  & 3.71  & < .001\\\\\n",
       "\tverb\\_X\\_LC &    & verb\\_X & 0.98 & \\${[}0.47\\$, \\$1.48{]}\\$  & 3.82  & < .001\\\\\n",
       "\tnoun\\_F\\_LF & LF & noun\\_F & 1.08 & \\${[}0.58\\$, \\$1.58{]}\\$  & 4.22  & < .001\\\\\n",
       "\tnoun\\_M\\_LF &    & noun\\_M & 0.78 & \\${[}0.28\\$, \\$1.29{]}\\$  & 3.06  & .002  \\\\\n",
       "\tverb\\_X\\_LF &    & verb\\_X & 0.84 & \\${[}0.33\\$, \\$1.34{]}\\$  & 3.27  & .001  \\\\\n",
       "\tnoun\\_F\\_LP & LP & noun\\_F & 4.06 & \\${[}3.55\\$, \\$4.56{]}\\$  & 15.86 & < .001\\\\\n",
       "\tnoun\\_M\\_LP &    & noun\\_M & 4.20 & \\${[}3.69\\$, \\$4.70{]}\\$  & 16.40 & < .001\\\\\n",
       "\tverb\\_X\\_LP &    & verb\\_X & 4.02 & \\${[}3.51\\$, \\$4.52{]}\\$  & 15.70 & < .001\\\\\n",
       "\tnoun\\_F\\_RC & RC & noun\\_F & 1.11 & \\${[}0.61\\$, \\$1.61{]}\\$  & 4.34  & < .001\\\\\n",
       "\tnoun\\_M\\_RC &    & noun\\_M & 1.03 & \\${[}0.53\\$, \\$1.53{]}\\$  & 4.03  & < .001\\\\\n",
       "\tverb\\_X\\_RC &    & verb\\_X & 1.11 & \\${[}0.60\\$, \\$1.61{]}\\$  & 4.32  & < .001\\\\\n",
       "\tnoun\\_F\\_RF & RF & noun\\_F & 0.38 & \\${[}-0.12\\$, \\$0.89{]}\\$ & 1.49  & .137  \\\\\n",
       "\tnoun\\_M\\_RF &    & noun\\_M & 0.33 & \\${[}-0.17\\$, \\$0.84{]}\\$ & 1.31  & .193  \\\\\n",
       "\tverb\\_X\\_RF &    & verb\\_X & 0.39 & \\${[}-0.11\\$, \\$0.90{]}\\$ & 1.54  & .126  \\\\\n",
       "\tnoun\\_F\\_RP & RP & noun\\_F & 5.25 & \\${[}4.74\\$, \\$5.75{]}\\$  & 20.50 & < .001\\\\\n",
       "\tnoun\\_M\\_RP &    & noun\\_M & 5.11 & \\${[}4.60\\$, \\$5.61{]}\\$  & 19.95 & < .001\\\\\n",
       "\tverb\\_X\\_RP &    & verb\\_X & 5.21 & \\${[}4.71\\$, \\$5.71{]}\\$  & 20.36 & < .001\\\\\n",
       "\\end{tabular}\n"
      ],
      "text/markdown": [
       "\n",
       "A apa_results_table: 18 × 6\n",
       "\n",
       "| <!--/--> | chan0 &lt;chr&gt; | cond0 &lt;chr&gt; | estimate &lt;ppj_lbll&gt; | ci &lt;ppj_lbll&gt; | statistic &lt;ppj_lbll&gt; | p.value &lt;ppj_lbll&gt; |\n",
       "|---|---|---|---|---|---|---|\n",
       "| noun_F_LC | LC | noun_F | 1.13 | $[0.62$, $1.63]$  | 4.41  | &lt; .001 |\n",
       "| noun_M_LC | <!----> | noun_M | 0.95 | $[0.45$, $1.45]$  | 3.71  | &lt; .001 |\n",
       "| verb_X_LC | <!----> | verb_X | 0.98 | $[0.47$, $1.48]$  | 3.82  | &lt; .001 |\n",
       "| noun_F_LF | LF | noun_F | 1.08 | $[0.58$, $1.58]$  | 4.22  | &lt; .001 |\n",
       "| noun_M_LF | <!----> | noun_M | 0.78 | $[0.28$, $1.29]$  | 3.06  | .002   |\n",
       "| verb_X_LF | <!----> | verb_X | 0.84 | $[0.33$, $1.34]$  | 3.27  | .001   |\n",
       "| noun_F_LP | LP | noun_F | 4.06 | $[3.55$, $4.56]$  | 15.86 | &lt; .001 |\n",
       "| noun_M_LP | <!----> | noun_M | 4.20 | $[3.69$, $4.70]$  | 16.40 | &lt; .001 |\n",
       "| verb_X_LP | <!----> | verb_X | 4.02 | $[3.51$, $4.52]$  | 15.70 | &lt; .001 |\n",
       "| noun_F_RC | RC | noun_F | 1.11 | $[0.61$, $1.61]$  | 4.34  | &lt; .001 |\n",
       "| noun_M_RC | <!----> | noun_M | 1.03 | $[0.53$, $1.53]$  | 4.03  | &lt; .001 |\n",
       "| verb_X_RC | <!----> | verb_X | 1.11 | $[0.60$, $1.61]$  | 4.32  | &lt; .001 |\n",
       "| noun_F_RF | RF | noun_F | 0.38 | $[-0.12$, $0.89]$ | 1.49  | .137   |\n",
       "| noun_M_RF | <!----> | noun_M | 0.33 | $[-0.17$, $0.84]$ | 1.31  | .193   |\n",
       "| verb_X_RF | <!----> | verb_X | 0.39 | $[-0.11$, $0.90]$ | 1.54  | .126   |\n",
       "| noun_F_RP | RP | noun_F | 5.25 | $[4.74$, $5.75]$  | 20.50 | &lt; .001 |\n",
       "| noun_M_RP | <!----> | noun_M | 5.11 | $[4.60$, $5.61]$  | 19.95 | &lt; .001 |\n",
       "| verb_X_RP | <!----> | verb_X | 5.21 | $[4.71$, $5.71]$  | 20.36 | &lt; .001 |\n",
       "\n"
      ],
      "text/plain": [
       "          chan0 cond0  estimate ci                statistic p.value\n",
       "noun_F_LC LC    noun_F 1.13     $[0.62$, $1.63]$  4.41      < .001 \n",
       "noun_M_LC       noun_M 0.95     $[0.45$, $1.45]$  3.71      < .001 \n",
       "verb_X_LC       verb_X 0.98     $[0.47$, $1.48]$  3.82      < .001 \n",
       "noun_F_LF LF    noun_F 1.08     $[0.58$, $1.58]$  4.22      < .001 \n",
       "noun_M_LF       noun_M 0.78     $[0.28$, $1.29]$  3.06      .002   \n",
       "verb_X_LF       verb_X 0.84     $[0.33$, $1.34]$  3.27      .001   \n",
       "noun_F_LP LP    noun_F 4.06     $[3.55$, $4.56]$  15.86     < .001 \n",
       "noun_M_LP       noun_M 4.20     $[3.69$, $4.70]$  16.40     < .001 \n",
       "verb_X_LP       verb_X 4.02     $[3.51$, $4.52]$  15.70     < .001 \n",
       "noun_F_RC RC    noun_F 1.11     $[0.61$, $1.61]$  4.34      < .001 \n",
       "noun_M_RC       noun_M 1.03     $[0.53$, $1.53]$  4.03      < .001 \n",
       "verb_X_RC       verb_X 1.11     $[0.60$, $1.61]$  4.32      < .001 \n",
       "noun_F_RF RF    noun_F 0.38     $[-0.12$, $0.89]$ 1.49      .137   \n",
       "noun_M_RF       noun_M 0.33     $[-0.17$, $0.84]$ 1.31      .193   \n",
       "verb_X_RF       verb_X 0.39     $[-0.11$, $0.90]$ 1.54      .126   \n",
       "noun_F_RP RP    noun_F 5.25     $[4.74$, $5.75]$  20.50     < .001 \n",
       "noun_M_RP       noun_M 5.11     $[4.60$, $5.61]$  19.95     < .001 \n",
       "verb_X_RP       verb_X 5.21     $[4.71$, $5.71]$  20.36     < .001 "
      ]
     },
     "metadata": {},
     "output_type": "display_data"
    },
    {
     "data": {
      "text/markdown": [
       "### Paired comparisons for expected marginal means"
      ]
     },
     "metadata": {},
     "output_type": "display_data"
    },
    {
     "data": {
      "text/html": [
       "<table>\n",
       "<caption>A apa_results_table: 18 × 6</caption>\n",
       "<thead>\n",
       "\t<tr><th></th><th scope=col>chan0</th><th scope=col>contrast</th><th scope=col>estimate</th><th scope=col>ci</th><th scope=col>statistic</th><th scope=col>p.value</th></tr>\n",
       "\t<tr><th></th><th scope=col>&lt;chr&gt;</th><th scope=col>&lt;ppj_lbll&gt;</th><th scope=col>&lt;ppj_lbll&gt;</th><th scope=col>&lt;ppj_lbll&gt;</th><th scope=col>&lt;ppj_lbll&gt;</th><th scope=col>&lt;ppj_lbll&gt;</th></tr>\n",
       "</thead>\n",
       "<tbody>\n",
       "\t<tr><th scope=row>LC_noun_F_noun_M</th><td>LC</td><td>noun_F - noun_M</td><td>0.18 </td><td>$[-0.09$, $0.44]$</td><td>1.59 </td><td>.250</td></tr>\n",
       "\t<tr><th scope=row>LC_noun_F_verb_X</th><td>  </td><td>noun_F - verb_X</td><td>0.15 </td><td>$[-0.11$, $0.41]$</td><td>1.35 </td><td>.370</td></tr>\n",
       "\t<tr><th scope=row>LC_noun_M_verb_X</th><td>  </td><td>noun_M - verb_X</td><td>-0.03</td><td>$[-0.29$, $0.24]$</td><td>-0.24</td><td>.967</td></tr>\n",
       "\t<tr><th scope=row>LF_noun_F_noun_M</th><td>LF</td><td>noun_F - noun_M</td><td>0.30 </td><td>$[0.03$, $0.56]$ </td><td>2.65 </td><td>.022</td></tr>\n",
       "\t<tr><th scope=row>LF_noun_F_verb_X</th><td>  </td><td>noun_F - verb_X</td><td>0.24 </td><td>$[-0.02$, $0.51]$</td><td>2.16 </td><td>.079</td></tr>\n",
       "\t<tr><th scope=row>LF_noun_M_verb_X</th><td>  </td><td>noun_M - verb_X</td><td>-0.05</td><td>$[-0.32$, $0.21]$</td><td>-0.49</td><td>.877</td></tr>\n",
       "\t<tr><th scope=row>LP_noun_F_noun_M</th><td>LP</td><td>noun_F - noun_M</td><td>-0.14</td><td>$[-0.40$, $0.12]$</td><td>-1.25</td><td>.422</td></tr>\n",
       "\t<tr><th scope=row>LP_noun_F_verb_X</th><td>  </td><td>noun_F - verb_X</td><td>0.04 </td><td>$[-0.22$, $0.30]$</td><td>0.36 </td><td>.931</td></tr>\n",
       "\t<tr><th scope=row>LP_noun_M_verb_X</th><td>  </td><td>noun_M - verb_X</td><td>0.18 </td><td>$[-0.08$, $0.44]$</td><td>1.61 </td><td>.241</td></tr>\n",
       "\t<tr><th scope=row>RC_noun_F_noun_M</th><td>RC</td><td>noun_F - noun_M</td><td>0.08 </td><td>$[-0.18$, $0.34]$</td><td>0.70 </td><td>.763</td></tr>\n",
       "\t<tr><th scope=row>RC_noun_F_verb_X</th><td>  </td><td>noun_F - verb_X</td><td>0.00 </td><td>$[-0.26$, $0.27]$</td><td>0.04 </td><td>.999</td></tr>\n",
       "\t<tr><th scope=row>RC_noun_M_verb_X</th><td>  </td><td>noun_M - verb_X</td><td>-0.07</td><td>$[-0.34$, $0.19]$</td><td>-0.66</td><td>.785</td></tr>\n",
       "\t<tr><th scope=row>RF_noun_F_noun_M</th><td>RF</td><td>noun_F - noun_M</td><td>0.05 </td><td>$[-0.22$, $0.31]$</td><td>0.42 </td><td>.907</td></tr>\n",
       "\t<tr><th scope=row>RF_noun_F_verb_X</th><td>  </td><td>noun_F - verb_X</td><td>-0.01</td><td>$[-0.28$, $0.25]$</td><td>-0.10</td><td>.994</td></tr>\n",
       "\t<tr><th scope=row>RF_noun_M_verb_X</th><td>  </td><td>noun_M - verb_X</td><td>-0.06</td><td>$[-0.32$, $0.20]$</td><td>-0.53</td><td>.859</td></tr>\n",
       "\t<tr><th scope=row>RP_noun_F_noun_M</th><td>RP</td><td>noun_F - noun_M</td><td>0.14 </td><td>$[-0.12$, $0.41]$</td><td>1.26 </td><td>.417</td></tr>\n",
       "\t<tr><th scope=row>RP_noun_F_verb_X</th><td>  </td><td>noun_F - verb_X</td><td>0.04 </td><td>$[-0.23$, $0.30]$</td><td>0.34 </td><td>.940</td></tr>\n",
       "\t<tr><th scope=row>RP_noun_M_verb_X</th><td>  </td><td>noun_M - verb_X</td><td>-0.10</td><td>$[-0.37$, $0.16]$</td><td>-0.93</td><td>.623</td></tr>\n",
       "</tbody>\n",
       "</table>\n"
      ],
      "text/latex": [
       "A apa\\_results\\_table: 18 × 6\n",
       "\\begin{tabular}{r|llllll}\n",
       "  & chan0 & contrast & estimate & ci & statistic & p.value\\\\\n",
       "  & <chr> & <ppj\\_lbll> & <ppj\\_lbll> & <ppj\\_lbll> & <ppj\\_lbll> & <ppj\\_lbll>\\\\\n",
       "\\hline\n",
       "\tLC\\_noun\\_F\\_noun\\_M & LC & noun\\_F - noun\\_M & 0.18  & \\${[}-0.09\\$, \\$0.44{]}\\$ & 1.59  & .250\\\\\n",
       "\tLC\\_noun\\_F\\_verb\\_X &    & noun\\_F - verb\\_X & 0.15  & \\${[}-0.11\\$, \\$0.41{]}\\$ & 1.35  & .370\\\\\n",
       "\tLC\\_noun\\_M\\_verb\\_X &    & noun\\_M - verb\\_X & -0.03 & \\${[}-0.29\\$, \\$0.24{]}\\$ & -0.24 & .967\\\\\n",
       "\tLF\\_noun\\_F\\_noun\\_M & LF & noun\\_F - noun\\_M & 0.30  & \\${[}0.03\\$, \\$0.56{]}\\$  & 2.65  & .022\\\\\n",
       "\tLF\\_noun\\_F\\_verb\\_X &    & noun\\_F - verb\\_X & 0.24  & \\${[}-0.02\\$, \\$0.51{]}\\$ & 2.16  & .079\\\\\n",
       "\tLF\\_noun\\_M\\_verb\\_X &    & noun\\_M - verb\\_X & -0.05 & \\${[}-0.32\\$, \\$0.21{]}\\$ & -0.49 & .877\\\\\n",
       "\tLP\\_noun\\_F\\_noun\\_M & LP & noun\\_F - noun\\_M & -0.14 & \\${[}-0.40\\$, \\$0.12{]}\\$ & -1.25 & .422\\\\\n",
       "\tLP\\_noun\\_F\\_verb\\_X &    & noun\\_F - verb\\_X & 0.04  & \\${[}-0.22\\$, \\$0.30{]}\\$ & 0.36  & .931\\\\\n",
       "\tLP\\_noun\\_M\\_verb\\_X &    & noun\\_M - verb\\_X & 0.18  & \\${[}-0.08\\$, \\$0.44{]}\\$ & 1.61  & .241\\\\\n",
       "\tRC\\_noun\\_F\\_noun\\_M & RC & noun\\_F - noun\\_M & 0.08  & \\${[}-0.18\\$, \\$0.34{]}\\$ & 0.70  & .763\\\\\n",
       "\tRC\\_noun\\_F\\_verb\\_X &    & noun\\_F - verb\\_X & 0.00  & \\${[}-0.26\\$, \\$0.27{]}\\$ & 0.04  & .999\\\\\n",
       "\tRC\\_noun\\_M\\_verb\\_X &    & noun\\_M - verb\\_X & -0.07 & \\${[}-0.34\\$, \\$0.19{]}\\$ & -0.66 & .785\\\\\n",
       "\tRF\\_noun\\_F\\_noun\\_M & RF & noun\\_F - noun\\_M & 0.05  & \\${[}-0.22\\$, \\$0.31{]}\\$ & 0.42  & .907\\\\\n",
       "\tRF\\_noun\\_F\\_verb\\_X &    & noun\\_F - verb\\_X & -0.01 & \\${[}-0.28\\$, \\$0.25{]}\\$ & -0.10 & .994\\\\\n",
       "\tRF\\_noun\\_M\\_verb\\_X &    & noun\\_M - verb\\_X & -0.06 & \\${[}-0.32\\$, \\$0.20{]}\\$ & -0.53 & .859\\\\\n",
       "\tRP\\_noun\\_F\\_noun\\_M & RP & noun\\_F - noun\\_M & 0.14  & \\${[}-0.12\\$, \\$0.41{]}\\$ & 1.26  & .417\\\\\n",
       "\tRP\\_noun\\_F\\_verb\\_X &    & noun\\_F - verb\\_X & 0.04  & \\${[}-0.23\\$, \\$0.30{]}\\$ & 0.34  & .940\\\\\n",
       "\tRP\\_noun\\_M\\_verb\\_X &    & noun\\_M - verb\\_X & -0.10 & \\${[}-0.37\\$, \\$0.16{]}\\$ & -0.93 & .623\\\\\n",
       "\\end{tabular}\n"
      ],
      "text/markdown": [
       "\n",
       "A apa_results_table: 18 × 6\n",
       "\n",
       "| <!--/--> | chan0 &lt;chr&gt; | contrast &lt;ppj_lbll&gt; | estimate &lt;ppj_lbll&gt; | ci &lt;ppj_lbll&gt; | statistic &lt;ppj_lbll&gt; | p.value &lt;ppj_lbll&gt; |\n",
       "|---|---|---|---|---|---|---|\n",
       "| LC_noun_F_noun_M | LC | noun_F - noun_M | 0.18  | $[-0.09$, $0.44]$ | 1.59  | .250 |\n",
       "| LC_noun_F_verb_X | <!----> | noun_F - verb_X | 0.15  | $[-0.11$, $0.41]$ | 1.35  | .370 |\n",
       "| LC_noun_M_verb_X | <!----> | noun_M - verb_X | -0.03 | $[-0.29$, $0.24]$ | -0.24 | .967 |\n",
       "| LF_noun_F_noun_M | LF | noun_F - noun_M | 0.30  | $[0.03$, $0.56]$  | 2.65  | .022 |\n",
       "| LF_noun_F_verb_X | <!----> | noun_F - verb_X | 0.24  | $[-0.02$, $0.51]$ | 2.16  | .079 |\n",
       "| LF_noun_M_verb_X | <!----> | noun_M - verb_X | -0.05 | $[-0.32$, $0.21]$ | -0.49 | .877 |\n",
       "| LP_noun_F_noun_M | LP | noun_F - noun_M | -0.14 | $[-0.40$, $0.12]$ | -1.25 | .422 |\n",
       "| LP_noun_F_verb_X | <!----> | noun_F - verb_X | 0.04  | $[-0.22$, $0.30]$ | 0.36  | .931 |\n",
       "| LP_noun_M_verb_X | <!----> | noun_M - verb_X | 0.18  | $[-0.08$, $0.44]$ | 1.61  | .241 |\n",
       "| RC_noun_F_noun_M | RC | noun_F - noun_M | 0.08  | $[-0.18$, $0.34]$ | 0.70  | .763 |\n",
       "| RC_noun_F_verb_X | <!----> | noun_F - verb_X | 0.00  | $[-0.26$, $0.27]$ | 0.04  | .999 |\n",
       "| RC_noun_M_verb_X | <!----> | noun_M - verb_X | -0.07 | $[-0.34$, $0.19]$ | -0.66 | .785 |\n",
       "| RF_noun_F_noun_M | RF | noun_F - noun_M | 0.05  | $[-0.22$, $0.31]$ | 0.42  | .907 |\n",
       "| RF_noun_F_verb_X | <!----> | noun_F - verb_X | -0.01 | $[-0.28$, $0.25]$ | -0.10 | .994 |\n",
       "| RF_noun_M_verb_X | <!----> | noun_M - verb_X | -0.06 | $[-0.32$, $0.20]$ | -0.53 | .859 |\n",
       "| RP_noun_F_noun_M | RP | noun_F - noun_M | 0.14  | $[-0.12$, $0.41]$ | 1.26  | .417 |\n",
       "| RP_noun_F_verb_X | <!----> | noun_F - verb_X | 0.04  | $[-0.23$, $0.30]$ | 0.34  | .940 |\n",
       "| RP_noun_M_verb_X | <!----> | noun_M - verb_X | -0.10 | $[-0.37$, $0.16]$ | -0.93 | .623 |\n",
       "\n"
      ],
      "text/plain": [
       "                 chan0 contrast        estimate ci                statistic p.value\n",
       "LC_noun_F_noun_M LC    noun_F - noun_M 0.18     $[-0.09$, $0.44]$ 1.59      .250   \n",
       "LC_noun_F_verb_X       noun_F - verb_X 0.15     $[-0.11$, $0.41]$ 1.35      .370   \n",
       "LC_noun_M_verb_X       noun_M - verb_X -0.03    $[-0.29$, $0.24]$ -0.24     .967   \n",
       "LF_noun_F_noun_M LF    noun_F - noun_M 0.30     $[0.03$, $0.56]$  2.65      .022   \n",
       "LF_noun_F_verb_X       noun_F - verb_X 0.24     $[-0.02$, $0.51]$ 2.16      .079   \n",
       "LF_noun_M_verb_X       noun_M - verb_X -0.05    $[-0.32$, $0.21]$ -0.49     .877   \n",
       "LP_noun_F_noun_M LP    noun_F - noun_M -0.14    $[-0.40$, $0.12]$ -1.25     .422   \n",
       "LP_noun_F_verb_X       noun_F - verb_X 0.04     $[-0.22$, $0.30]$ 0.36      .931   \n",
       "LP_noun_M_verb_X       noun_M - verb_X 0.18     $[-0.08$, $0.44]$ 1.61      .241   \n",
       "RC_noun_F_noun_M RC    noun_F - noun_M 0.08     $[-0.18$, $0.34]$ 0.70      .763   \n",
       "RC_noun_F_verb_X       noun_F - verb_X 0.00     $[-0.26$, $0.27]$ 0.04      .999   \n",
       "RC_noun_M_verb_X       noun_M - verb_X -0.07    $[-0.34$, $0.19]$ -0.66     .785   \n",
       "RF_noun_F_noun_M RF    noun_F - noun_M 0.05     $[-0.22$, $0.31]$ 0.42      .907   \n",
       "RF_noun_F_verb_X       noun_F - verb_X -0.01    $[-0.28$, $0.25]$ -0.10     .994   \n",
       "RF_noun_M_verb_X       noun_M - verb_X -0.06    $[-0.32$, $0.20]$ -0.53     .859   \n",
       "RP_noun_F_noun_M RP    noun_F - noun_M 0.14     $[-0.12$, $0.41]$ 1.26      .417   \n",
       "RP_noun_F_verb_X       noun_F - verb_X 0.04     $[-0.23$, $0.30]$ 0.34      .940   \n",
       "RP_noun_M_verb_X       noun_M - verb_X -0.10    $[-0.37$, $0.16]$ -0.93     .623   "
      ]
     },
     "metadata": {},
     "output_type": "display_data"
    }
   ],
   "source": [
    "IDX <- IDX+1; COND <- CONDS[IDX]\n",
    "data1 <- droplevels(subset(df1, eval(parse(text=COND)))); \n",
    "data1 <- data1[complete.cases(data1),]; \n",
    "done1 <- AOV4(data1,COND)\n",
    "display_markdown(str_c(\"# Condition \",IDX,\" of \",length(CONDS))); \n",
    "display_markdown(done1$info); \n",
    "display_markdown(\"### Table\"); \n",
    "done1$aov_APA$table; \n",
    "display_markdown(\"### Result\"); \n",
    "display_markdown(done1$aov_APA[[\"full_result\"]][[\"cond0\"]]); \n",
    "display_markdown(\"### Summary (all done1, incl. NANs)\"); \n",
    "done1$summary; \n",
    "display_markdown(\"### Expected marginal means\"); \n",
    "done1$emm_APA$table; \n",
    "display_markdown(\"### Paired comparisons for expected marginal means\"); \n",
    "done1$pairs_APA$table"
   ]
  },
  {
   "cell_type": "code",
   "execution_count": 20,
   "metadata": {},
   "outputs": [
    {
     "data": {
      "text/markdown": [
       "# Condition 2 of 12"
      ]
     },
     "metadata": {},
     "output_type": "display_data"
    },
    {
     "data": {
      "text/markdown": [
       "`tmin0==0.1 & mode0==\"neg\"`"
      ]
     },
     "metadata": {},
     "output_type": "display_data"
    },
    {
     "data": {
      "text/markdown": [
       "### Table"
      ]
     },
     "metadata": {},
     "output_type": "display_data"
    },
    {
     "data": {
      "text/html": [
       "<table>\n",
       "<caption>A apa_results_table: 3 × 7</caption>\n",
       "<thead>\n",
       "\t<tr><th></th><th scope=col>Effect</th><th scope=col>F</th><th scope=col>df1</th><th scope=col>df2</th><th scope=col>MSE</th><th scope=col>p</th><th scope=col>ges</th></tr>\n",
       "\t<tr><th></th><th scope=col>&lt;ppj_lbll&gt;</th><th scope=col>&lt;ppj_lbll&gt;</th><th scope=col>&lt;ppj_lbll&gt;</th><th scope=col>&lt;ppj_lbll&gt;</th><th scope=col>&lt;ppj_lbll&gt;</th><th scope=col>&lt;ppj_lbll&gt;</th><th scope=col>&lt;ppj_lbll&gt;</th></tr>\n",
       "</thead>\n",
       "<tbody>\n",
       "\t<tr><th scope=row>1</th><td>Cond0                </td><td>1.70 </td><td>1.86</td><td>76.41 </td><td>0.33 </td><td>.191  </td><td>.001</td></tr>\n",
       "\t<tr><th scope=row>2</th><td><span style=white-space:pre-wrap>Chan0                </span></td><td>20.45</td><td>2.08</td><td>85.11 </td><td>16.93</td><td>&lt; .001</td><td>.274</td></tr>\n",
       "\t<tr><th scope=row>3</th><td>Cond0 $\\times$ Chan0</td><td>1.80 </td><td>4.88</td><td>200.20</td><td>0.48 </td><td>.116  </td><td>.002</td></tr>\n",
       "</tbody>\n",
       "</table>\n"
      ],
      "text/latex": [
       "A apa\\_results\\_table: 3 × 7\n",
       "\\begin{tabular}{r|lllllll}\n",
       "  & Effect & F & df1 & df2 & MSE & p & ges\\\\\n",
       "  & <ppj\\_lbll> & <ppj\\_lbll> & <ppj\\_lbll> & <ppj\\_lbll> & <ppj\\_lbll> & <ppj\\_lbll> & <ppj\\_lbll>\\\\\n",
       "\\hline\n",
       "\t1 & Cond0                 & 1.70  & 1.86 & 76.41  & 0.33  & .191   & .001\\\\\n",
       "\t2 & Chan0                 & 20.45 & 2.08 & 85.11  & 16.93 & < .001 & .274\\\\\n",
       "\t3 & Cond0 \\$\\textbackslash{}times\\$ Chan0 & 1.80  & 4.88 & 200.20 & 0.48  & .116   & .002\\\\\n",
       "\\end{tabular}\n"
      ],
      "text/markdown": [
       "\n",
       "A apa_results_table: 3 × 7\n",
       "\n",
       "| <!--/--> | Effect &lt;ppj_lbll&gt; | F &lt;ppj_lbll&gt; | df1 &lt;ppj_lbll&gt; | df2 &lt;ppj_lbll&gt; | MSE &lt;ppj_lbll&gt; | p &lt;ppj_lbll&gt; | ges &lt;ppj_lbll&gt; |\n",
       "|---|---|---|---|---|---|---|---|\n",
       "| 1 | Cond0                 | 1.70  | 1.86 | 76.41  | 0.33  | .191   | .001 |\n",
       "| 2 | Chan0                 | 20.45 | 2.08 | 85.11  | 16.93 | &lt; .001 | .274 |\n",
       "| 3 | Cond0 $\\times$ Chan0 | 1.80  | 4.88 | 200.20 | 0.48  | .116   | .002 |\n",
       "\n"
      ],
      "text/plain": [
       "  Effect                F     df1  df2    MSE   p      ges \n",
       "1 Cond0                 1.70  1.86 76.41  0.33  .191   .001\n",
       "2 Chan0                 20.45 2.08 85.11  16.93 < .001 .274\n",
       "3 Cond0 $\\\\times$ Chan0 1.80  4.88 200.20 0.48  .116   .002"
      ]
     },
     "metadata": {},
     "output_type": "display_data"
    },
    {
     "data": {
      "text/markdown": [
       "### Result"
      ]
     },
     "metadata": {},
     "output_type": "display_data"
    },
    {
     "data": {
      "text/markdown": [
       "$F(1.86, 76.41) = 1.70$, $\\mathit{MSE} = 0.33$, $p = .191$, $\\hat{\\eta}^2_G = .001$"
      ]
     },
     "metadata": {},
     "output_type": "display_data"
    },
    {
     "data": {
      "text/markdown": [
       "### Summary (all done1, incl. NANs)"
      ]
     },
     "metadata": {},
     "output_type": "display_data"
    },
    {
     "data": {
      "text/html": [
       "<table>\n",
       "<caption>A tibble: 3 × 5</caption>\n",
       "<thead>\n",
       "\t<tr><th scope=col>cond0</th><th scope=col>N</th><th scope=col>valX_M</th><th scope=col>valX_SD</th><th scope=col>valX_SE</th></tr>\n",
       "\t<tr><th scope=col>&lt;fct&gt;</th><th scope=col>&lt;int&gt;</th><th scope=col>&lt;dbl&gt;</th><th scope=col>&lt;dbl&gt;</th><th scope=col>&lt;dbl&gt;</th></tr>\n",
       "</thead>\n",
       "<tbody>\n",
       "\t<tr><td>noun_F</td><td>252</td><td>-1.735705</td><td>1.848611</td><td>0.1164516</td></tr>\n",
       "\t<tr><td>noun_M</td><td>252</td><td>-1.682084</td><td>1.880921</td><td>0.1184869</td></tr>\n",
       "\t<tr><td>verb_X</td><td>252</td><td>-1.645735</td><td>1.869333</td><td>0.1177569</td></tr>\n",
       "</tbody>\n",
       "</table>\n"
      ],
      "text/latex": [
       "A tibble: 3 × 5\n",
       "\\begin{tabular}{lllll}\n",
       " cond0 & N & valX\\_M & valX\\_SD & valX\\_SE\\\\\n",
       " <fct> & <int> & <dbl> & <dbl> & <dbl>\\\\\n",
       "\\hline\n",
       "\t noun\\_F & 252 & -1.735705 & 1.848611 & 0.1164516\\\\\n",
       "\t noun\\_M & 252 & -1.682084 & 1.880921 & 0.1184869\\\\\n",
       "\t verb\\_X & 252 & -1.645735 & 1.869333 & 0.1177569\\\\\n",
       "\\end{tabular}\n"
      ],
      "text/markdown": [
       "\n",
       "A tibble: 3 × 5\n",
       "\n",
       "| cond0 &lt;fct&gt; | N &lt;int&gt; | valX_M &lt;dbl&gt; | valX_SD &lt;dbl&gt; | valX_SE &lt;dbl&gt; |\n",
       "|---|---|---|---|---|\n",
       "| noun_F | 252 | -1.735705 | 1.848611 | 0.1164516 |\n",
       "| noun_M | 252 | -1.682084 | 1.880921 | 0.1184869 |\n",
       "| verb_X | 252 | -1.645735 | 1.869333 | 0.1177569 |\n",
       "\n"
      ],
      "text/plain": [
       "  cond0  N   valX_M    valX_SD  valX_SE  \n",
       "1 noun_F 252 -1.735705 1.848611 0.1164516\n",
       "2 noun_M 252 -1.682084 1.880921 0.1184869\n",
       "3 verb_X 252 -1.645735 1.869333 0.1177569"
      ]
     },
     "metadata": {},
     "output_type": "display_data"
    },
    {
     "data": {
      "text/markdown": [
       "### Expected marginal means"
      ]
     },
     "metadata": {},
     "output_type": "display_data"
    },
    {
     "data": {
      "text/html": [
       "<table>\n",
       "<caption>A apa_results_table: 18 × 6</caption>\n",
       "<thead>\n",
       "\t<tr><th></th><th scope=col>chan0</th><th scope=col>cond0</th><th scope=col>estimate</th><th scope=col>ci</th><th scope=col>statistic</th><th scope=col>p.value</th></tr>\n",
       "\t<tr><th></th><th scope=col>&lt;chr&gt;</th><th scope=col>&lt;chr&gt;</th><th scope=col>&lt;ppj_lbll&gt;</th><th scope=col>&lt;ppj_lbll&gt;</th><th scope=col>&lt;ppj_lbll&gt;</th><th scope=col>&lt;ppj_lbll&gt;</th></tr>\n",
       "</thead>\n",
       "<tbody>\n",
       "\t<tr><th scope=row>noun_F_LC</th><td>LC</td><td>noun_F</td><td>-1.03</td><td>$[-1.52$, $-0.54]$</td><td>-4.16 </td><td>&lt; .001</td></tr>\n",
       "\t<tr><th scope=row>noun_M_LC</th><td><span style=white-space:pre-wrap>  </span></td><td>noun_M</td><td>-1.19</td><td>$[-1.68$, $-0.70]$</td><td>-4.80 </td><td>&lt; .001</td></tr>\n",
       "\t<tr><th scope=row>verb_X_LC</th><td><span style=white-space:pre-wrap>  </span></td><td>verb_X</td><td>-0.99</td><td>$[-1.47$, $-0.50]$</td><td>-3.98 </td><td>&lt; .001</td></tr>\n",
       "\t<tr><th scope=row>noun_F_LF</th><td>LF</td><td>noun_F</td><td>-2.78</td><td>$[-3.26$, $-2.29]$</td><td>-11.21</td><td>&lt; .001</td></tr>\n",
       "\t<tr><th scope=row>noun_M_LF</th><td><span style=white-space:pre-wrap>  </span></td><td>noun_M</td><td>-2.75</td><td>$[-3.24$, $-2.26]$</td><td>-11.11</td><td>&lt; .001</td></tr>\n",
       "\t<tr><th scope=row>verb_X_LF</th><td><span style=white-space:pre-wrap>  </span></td><td>verb_X</td><td>-2.71</td><td>$[-3.20$, $-2.22]$</td><td>-10.94</td><td>&lt; .001</td></tr>\n",
       "\t<tr><th scope=row>noun_F_LP</th><td>LP</td><td>noun_F</td><td>-2.06</td><td>$[-2.55$, $-1.58]$</td><td>-8.33 </td><td>&lt; .001</td></tr>\n",
       "\t<tr><th scope=row>noun_M_LP</th><td><span style=white-space:pre-wrap>  </span></td><td>noun_M</td><td>-2.00</td><td>$[-2.49$, $-1.51]$</td><td>-8.08 </td><td>&lt; .001</td></tr>\n",
       "\t<tr><th scope=row>verb_X_LP</th><td><span style=white-space:pre-wrap>  </span></td><td>verb_X</td><td>-2.05</td><td>$[-2.53$, $-1.56]$</td><td>-8.27 </td><td>&lt; .001</td></tr>\n",
       "\t<tr><th scope=row>noun_F_RC</th><td>RC</td><td>noun_F</td><td>-0.91</td><td>$[-1.40$, $-0.42]$</td><td>-3.68 </td><td>&lt; .001</td></tr>\n",
       "\t<tr><th scope=row>noun_M_RC</th><td>  </td><td>noun_M</td><td>-0.86</td><td>$[-1.35$, $-0.38]$</td><td>-3.49 </td><td>.001  </td></tr>\n",
       "\t<tr><th scope=row>verb_X_RC</th><td>  </td><td>verb_X</td><td>-0.70</td><td>$[-1.18$, $-0.21]$</td><td>-2.81 </td><td>.005  </td></tr>\n",
       "\t<tr><th scope=row>noun_F_RF</th><td>RF</td><td>noun_F</td><td>-3.01</td><td>$[-3.50$, $-2.53]$</td><td>-12.18</td><td>&lt; .001</td></tr>\n",
       "\t<tr><th scope=row>noun_M_RF</th><td><span style=white-space:pre-wrap>  </span></td><td>noun_M</td><td>-3.05</td><td>$[-3.54$, $-2.56]$</td><td>-12.31</td><td>&lt; .001</td></tr>\n",
       "\t<tr><th scope=row>verb_X_RF</th><td><span style=white-space:pre-wrap>  </span></td><td>verb_X</td><td>-2.99</td><td>$[-3.48$, $-2.50]$</td><td>-12.07</td><td>&lt; .001</td></tr>\n",
       "\t<tr><th scope=row>noun_F_RP</th><td>RP</td><td>noun_F</td><td>-0.62</td><td>$[-1.11$, $-0.13]$</td><td>-2.51 </td><td>.013  </td></tr>\n",
       "\t<tr><th scope=row>noun_M_RP</th><td>  </td><td>noun_M</td><td>-0.24</td><td>$[-0.73$, $0.25]$ </td><td>-0.98 </td><td>.329  </td></tr>\n",
       "\t<tr><th scope=row>verb_X_RP</th><td>  </td><td>verb_X</td><td>-0.45</td><td>$[-0.93$, $0.04]$ </td><td>-1.81 </td><td>.072  </td></tr>\n",
       "</tbody>\n",
       "</table>\n"
      ],
      "text/latex": [
       "A apa\\_results\\_table: 18 × 6\n",
       "\\begin{tabular}{r|llllll}\n",
       "  & chan0 & cond0 & estimate & ci & statistic & p.value\\\\\n",
       "  & <chr> & <chr> & <ppj\\_lbll> & <ppj\\_lbll> & <ppj\\_lbll> & <ppj\\_lbll>\\\\\n",
       "\\hline\n",
       "\tnoun\\_F\\_LC & LC & noun\\_F & -1.03 & \\${[}-1.52\\$, \\$-0.54{]}\\$ & -4.16  & < .001\\\\\n",
       "\tnoun\\_M\\_LC &    & noun\\_M & -1.19 & \\${[}-1.68\\$, \\$-0.70{]}\\$ & -4.80  & < .001\\\\\n",
       "\tverb\\_X\\_LC &    & verb\\_X & -0.99 & \\${[}-1.47\\$, \\$-0.50{]}\\$ & -3.98  & < .001\\\\\n",
       "\tnoun\\_F\\_LF & LF & noun\\_F & -2.78 & \\${[}-3.26\\$, \\$-2.29{]}\\$ & -11.21 & < .001\\\\\n",
       "\tnoun\\_M\\_LF &    & noun\\_M & -2.75 & \\${[}-3.24\\$, \\$-2.26{]}\\$ & -11.11 & < .001\\\\\n",
       "\tverb\\_X\\_LF &    & verb\\_X & -2.71 & \\${[}-3.20\\$, \\$-2.22{]}\\$ & -10.94 & < .001\\\\\n",
       "\tnoun\\_F\\_LP & LP & noun\\_F & -2.06 & \\${[}-2.55\\$, \\$-1.58{]}\\$ & -8.33  & < .001\\\\\n",
       "\tnoun\\_M\\_LP &    & noun\\_M & -2.00 & \\${[}-2.49\\$, \\$-1.51{]}\\$ & -8.08  & < .001\\\\\n",
       "\tverb\\_X\\_LP &    & verb\\_X & -2.05 & \\${[}-2.53\\$, \\$-1.56{]}\\$ & -8.27  & < .001\\\\\n",
       "\tnoun\\_F\\_RC & RC & noun\\_F & -0.91 & \\${[}-1.40\\$, \\$-0.42{]}\\$ & -3.68  & < .001\\\\\n",
       "\tnoun\\_M\\_RC &    & noun\\_M & -0.86 & \\${[}-1.35\\$, \\$-0.38{]}\\$ & -3.49  & .001  \\\\\n",
       "\tverb\\_X\\_RC &    & verb\\_X & -0.70 & \\${[}-1.18\\$, \\$-0.21{]}\\$ & -2.81  & .005  \\\\\n",
       "\tnoun\\_F\\_RF & RF & noun\\_F & -3.01 & \\${[}-3.50\\$, \\$-2.53{]}\\$ & -12.18 & < .001\\\\\n",
       "\tnoun\\_M\\_RF &    & noun\\_M & -3.05 & \\${[}-3.54\\$, \\$-2.56{]}\\$ & -12.31 & < .001\\\\\n",
       "\tverb\\_X\\_RF &    & verb\\_X & -2.99 & \\${[}-3.48\\$, \\$-2.50{]}\\$ & -12.07 & < .001\\\\\n",
       "\tnoun\\_F\\_RP & RP & noun\\_F & -0.62 & \\${[}-1.11\\$, \\$-0.13{]}\\$ & -2.51  & .013  \\\\\n",
       "\tnoun\\_M\\_RP &    & noun\\_M & -0.24 & \\${[}-0.73\\$, \\$0.25{]}\\$  & -0.98  & .329  \\\\\n",
       "\tverb\\_X\\_RP &    & verb\\_X & -0.45 & \\${[}-0.93\\$, \\$0.04{]}\\$  & -1.81  & .072  \\\\\n",
       "\\end{tabular}\n"
      ],
      "text/markdown": [
       "\n",
       "A apa_results_table: 18 × 6\n",
       "\n",
       "| <!--/--> | chan0 &lt;chr&gt; | cond0 &lt;chr&gt; | estimate &lt;ppj_lbll&gt; | ci &lt;ppj_lbll&gt; | statistic &lt;ppj_lbll&gt; | p.value &lt;ppj_lbll&gt; |\n",
       "|---|---|---|---|---|---|---|\n",
       "| noun_F_LC | LC | noun_F | -1.03 | $[-1.52$, $-0.54]$ | -4.16  | &lt; .001 |\n",
       "| noun_M_LC | <!----> | noun_M | -1.19 | $[-1.68$, $-0.70]$ | -4.80  | &lt; .001 |\n",
       "| verb_X_LC | <!----> | verb_X | -0.99 | $[-1.47$, $-0.50]$ | -3.98  | &lt; .001 |\n",
       "| noun_F_LF | LF | noun_F | -2.78 | $[-3.26$, $-2.29]$ | -11.21 | &lt; .001 |\n",
       "| noun_M_LF | <!----> | noun_M | -2.75 | $[-3.24$, $-2.26]$ | -11.11 | &lt; .001 |\n",
       "| verb_X_LF | <!----> | verb_X | -2.71 | $[-3.20$, $-2.22]$ | -10.94 | &lt; .001 |\n",
       "| noun_F_LP | LP | noun_F | -2.06 | $[-2.55$, $-1.58]$ | -8.33  | &lt; .001 |\n",
       "| noun_M_LP | <!----> | noun_M | -2.00 | $[-2.49$, $-1.51]$ | -8.08  | &lt; .001 |\n",
       "| verb_X_LP | <!----> | verb_X | -2.05 | $[-2.53$, $-1.56]$ | -8.27  | &lt; .001 |\n",
       "| noun_F_RC | RC | noun_F | -0.91 | $[-1.40$, $-0.42]$ | -3.68  | &lt; .001 |\n",
       "| noun_M_RC | <!----> | noun_M | -0.86 | $[-1.35$, $-0.38]$ | -3.49  | .001   |\n",
       "| verb_X_RC | <!----> | verb_X | -0.70 | $[-1.18$, $-0.21]$ | -2.81  | .005   |\n",
       "| noun_F_RF | RF | noun_F | -3.01 | $[-3.50$, $-2.53]$ | -12.18 | &lt; .001 |\n",
       "| noun_M_RF | <!----> | noun_M | -3.05 | $[-3.54$, $-2.56]$ | -12.31 | &lt; .001 |\n",
       "| verb_X_RF | <!----> | verb_X | -2.99 | $[-3.48$, $-2.50]$ | -12.07 | &lt; .001 |\n",
       "| noun_F_RP | RP | noun_F | -0.62 | $[-1.11$, $-0.13]$ | -2.51  | .013   |\n",
       "| noun_M_RP | <!----> | noun_M | -0.24 | $[-0.73$, $0.25]$  | -0.98  | .329   |\n",
       "| verb_X_RP | <!----> | verb_X | -0.45 | $[-0.93$, $0.04]$  | -1.81  | .072   |\n",
       "\n"
      ],
      "text/plain": [
       "          chan0 cond0  estimate ci                 statistic p.value\n",
       "noun_F_LC LC    noun_F -1.03    $[-1.52$, $-0.54]$ -4.16     < .001 \n",
       "noun_M_LC       noun_M -1.19    $[-1.68$, $-0.70]$ -4.80     < .001 \n",
       "verb_X_LC       verb_X -0.99    $[-1.47$, $-0.50]$ -3.98     < .001 \n",
       "noun_F_LF LF    noun_F -2.78    $[-3.26$, $-2.29]$ -11.21    < .001 \n",
       "noun_M_LF       noun_M -2.75    $[-3.24$, $-2.26]$ -11.11    < .001 \n",
       "verb_X_LF       verb_X -2.71    $[-3.20$, $-2.22]$ -10.94    < .001 \n",
       "noun_F_LP LP    noun_F -2.06    $[-2.55$, $-1.58]$ -8.33     < .001 \n",
       "noun_M_LP       noun_M -2.00    $[-2.49$, $-1.51]$ -8.08     < .001 \n",
       "verb_X_LP       verb_X -2.05    $[-2.53$, $-1.56]$ -8.27     < .001 \n",
       "noun_F_RC RC    noun_F -0.91    $[-1.40$, $-0.42]$ -3.68     < .001 \n",
       "noun_M_RC       noun_M -0.86    $[-1.35$, $-0.38]$ -3.49     .001   \n",
       "verb_X_RC       verb_X -0.70    $[-1.18$, $-0.21]$ -2.81     .005   \n",
       "noun_F_RF RF    noun_F -3.01    $[-3.50$, $-2.53]$ -12.18    < .001 \n",
       "noun_M_RF       noun_M -3.05    $[-3.54$, $-2.56]$ -12.31    < .001 \n",
       "verb_X_RF       verb_X -2.99    $[-3.48$, $-2.50]$ -12.07    < .001 \n",
       "noun_F_RP RP    noun_F -0.62    $[-1.11$, $-0.13]$ -2.51     .013   \n",
       "noun_M_RP       noun_M -0.24    $[-0.73$, $0.25]$  -0.98     .329   \n",
       "verb_X_RP       verb_X -0.45    $[-0.93$, $0.04]$  -1.81     .072   "
      ]
     },
     "metadata": {},
     "output_type": "display_data"
    },
    {
     "data": {
      "text/markdown": [
       "### Paired comparisons for expected marginal means"
      ]
     },
     "metadata": {},
     "output_type": "display_data"
    },
    {
     "data": {
      "text/html": [
       "<table>\n",
       "<caption>A apa_results_table: 18 × 6</caption>\n",
       "<thead>\n",
       "\t<tr><th></th><th scope=col>chan0</th><th scope=col>contrast</th><th scope=col>estimate</th><th scope=col>ci</th><th scope=col>statistic</th><th scope=col>p.value</th></tr>\n",
       "\t<tr><th></th><th scope=col>&lt;chr&gt;</th><th scope=col>&lt;ppj_lbll&gt;</th><th scope=col>&lt;ppj_lbll&gt;</th><th scope=col>&lt;ppj_lbll&gt;</th><th scope=col>&lt;ppj_lbll&gt;</th><th scope=col>&lt;ppj_lbll&gt;</th></tr>\n",
       "</thead>\n",
       "<tbody>\n",
       "\t<tr><th scope=row>LC_noun_F_noun_M</th><td>LC</td><td>noun_F - noun_M</td><td>0.16 </td><td>$[-0.10$, $0.41]$ </td><td>1.46 </td><td>.312</td></tr>\n",
       "\t<tr><th scope=row>LC_noun_F_verb_X</th><td>  </td><td>noun_F - verb_X</td><td>-0.04</td><td>$[-0.30$, $0.21]$ </td><td>-0.40</td><td>.917</td></tr>\n",
       "\t<tr><th scope=row>LC_noun_M_verb_X</th><td>  </td><td>noun_M - verb_X</td><td>-0.20</td><td>$[-0.46$, $0.05]$ </td><td>-1.86</td><td>.153</td></tr>\n",
       "\t<tr><th scope=row>LF_noun_F_noun_M</th><td>LF</td><td>noun_F - noun_M</td><td>-0.02</td><td>$[-0.28$, $0.23]$ </td><td>-0.23</td><td>.972</td></tr>\n",
       "\t<tr><th scope=row>LF_noun_F_verb_X</th><td>  </td><td>noun_F - verb_X</td><td>-0.07</td><td>$[-0.32$, $0.19]$ </td><td>-0.62</td><td>.812</td></tr>\n",
       "\t<tr><th scope=row>LF_noun_M_verb_X</th><td>  </td><td>noun_M - verb_X</td><td>-0.04</td><td>$[-0.30$, $0.21]$ </td><td>-0.39</td><td>.920</td></tr>\n",
       "\t<tr><th scope=row>LP_noun_F_noun_M</th><td>LP</td><td>noun_F - noun_M</td><td>-0.06</td><td>$[-0.32$, $0.19]$ </td><td>-0.58</td><td>.832</td></tr>\n",
       "\t<tr><th scope=row>LP_noun_F_verb_X</th><td>  </td><td>noun_F - verb_X</td><td>-0.02</td><td>$[-0.27$, $0.24]$ </td><td>-0.15</td><td>.988</td></tr>\n",
       "\t<tr><th scope=row>LP_noun_M_verb_X</th><td>  </td><td>noun_M - verb_X</td><td>0.05 </td><td>$[-0.21$, $0.30]$ </td><td>0.43 </td><td>.902</td></tr>\n",
       "\t<tr><th scope=row>RC_noun_F_noun_M</th><td>RC</td><td>noun_F - noun_M</td><td>-0.05</td><td>$[-0.30$, $0.21]$ </td><td>-0.44</td><td>.898</td></tr>\n",
       "\t<tr><th scope=row>RC_noun_F_verb_X</th><td>  </td><td>noun_F - verb_X</td><td>-0.22</td><td>$[-0.47$, $0.04]$ </td><td>-1.98</td><td>.117</td></tr>\n",
       "\t<tr><th scope=row>RC_noun_M_verb_X</th><td>  </td><td>noun_M - verb_X</td><td>-0.17</td><td>$[-0.42$, $0.09]$ </td><td>-1.54</td><td>.272</td></tr>\n",
       "\t<tr><th scope=row>RF_noun_F_noun_M</th><td>RF</td><td>noun_F - noun_M</td><td>0.03 </td><td>$[-0.22$, $0.29]$ </td><td>0.31 </td><td>.949</td></tr>\n",
       "\t<tr><th scope=row>RF_noun_F_verb_X</th><td>  </td><td>noun_F - verb_X</td><td>-0.03</td><td>$[-0.28$, $0.23]$ </td><td>-0.24</td><td>.969</td></tr>\n",
       "\t<tr><th scope=row>RF_noun_M_verb_X</th><td>  </td><td>noun_M - verb_X</td><td>-0.06</td><td>$[-0.31$, $0.20]$ </td><td>-0.55</td><td>.849</td></tr>\n",
       "\t<tr><th scope=row>RP_noun_F_noun_M</th><td>RP</td><td>noun_F - noun_M</td><td>-0.38</td><td>$[-0.63$, $-0.12]$</td><td>-3.48</td><td>.002</td></tr>\n",
       "\t<tr><th scope=row>RP_noun_F_verb_X</th><td>  </td><td>noun_F - verb_X</td><td>-0.17</td><td>$[-0.43$, $0.08]$ </td><td>-1.59</td><td>.251</td></tr>\n",
       "\t<tr><th scope=row>RP_noun_M_verb_X</th><td>  </td><td>noun_M - verb_X</td><td>0.21 </td><td>$[-0.05$, $0.46]$ </td><td>1.89 </td><td>.142</td></tr>\n",
       "</tbody>\n",
       "</table>\n"
      ],
      "text/latex": [
       "A apa\\_results\\_table: 18 × 6\n",
       "\\begin{tabular}{r|llllll}\n",
       "  & chan0 & contrast & estimate & ci & statistic & p.value\\\\\n",
       "  & <chr> & <ppj\\_lbll> & <ppj\\_lbll> & <ppj\\_lbll> & <ppj\\_lbll> & <ppj\\_lbll>\\\\\n",
       "\\hline\n",
       "\tLC\\_noun\\_F\\_noun\\_M & LC & noun\\_F - noun\\_M & 0.16  & \\${[}-0.10\\$, \\$0.41{]}\\$  & 1.46  & .312\\\\\n",
       "\tLC\\_noun\\_F\\_verb\\_X &    & noun\\_F - verb\\_X & -0.04 & \\${[}-0.30\\$, \\$0.21{]}\\$  & -0.40 & .917\\\\\n",
       "\tLC\\_noun\\_M\\_verb\\_X &    & noun\\_M - verb\\_X & -0.20 & \\${[}-0.46\\$, \\$0.05{]}\\$  & -1.86 & .153\\\\\n",
       "\tLF\\_noun\\_F\\_noun\\_M & LF & noun\\_F - noun\\_M & -0.02 & \\${[}-0.28\\$, \\$0.23{]}\\$  & -0.23 & .972\\\\\n",
       "\tLF\\_noun\\_F\\_verb\\_X &    & noun\\_F - verb\\_X & -0.07 & \\${[}-0.32\\$, \\$0.19{]}\\$  & -0.62 & .812\\\\\n",
       "\tLF\\_noun\\_M\\_verb\\_X &    & noun\\_M - verb\\_X & -0.04 & \\${[}-0.30\\$, \\$0.21{]}\\$  & -0.39 & .920\\\\\n",
       "\tLP\\_noun\\_F\\_noun\\_M & LP & noun\\_F - noun\\_M & -0.06 & \\${[}-0.32\\$, \\$0.19{]}\\$  & -0.58 & .832\\\\\n",
       "\tLP\\_noun\\_F\\_verb\\_X &    & noun\\_F - verb\\_X & -0.02 & \\${[}-0.27\\$, \\$0.24{]}\\$  & -0.15 & .988\\\\\n",
       "\tLP\\_noun\\_M\\_verb\\_X &    & noun\\_M - verb\\_X & 0.05  & \\${[}-0.21\\$, \\$0.30{]}\\$  & 0.43  & .902\\\\\n",
       "\tRC\\_noun\\_F\\_noun\\_M & RC & noun\\_F - noun\\_M & -0.05 & \\${[}-0.30\\$, \\$0.21{]}\\$  & -0.44 & .898\\\\\n",
       "\tRC\\_noun\\_F\\_verb\\_X &    & noun\\_F - verb\\_X & -0.22 & \\${[}-0.47\\$, \\$0.04{]}\\$  & -1.98 & .117\\\\\n",
       "\tRC\\_noun\\_M\\_verb\\_X &    & noun\\_M - verb\\_X & -0.17 & \\${[}-0.42\\$, \\$0.09{]}\\$  & -1.54 & .272\\\\\n",
       "\tRF\\_noun\\_F\\_noun\\_M & RF & noun\\_F - noun\\_M & 0.03  & \\${[}-0.22\\$, \\$0.29{]}\\$  & 0.31  & .949\\\\\n",
       "\tRF\\_noun\\_F\\_verb\\_X &    & noun\\_F - verb\\_X & -0.03 & \\${[}-0.28\\$, \\$0.23{]}\\$  & -0.24 & .969\\\\\n",
       "\tRF\\_noun\\_M\\_verb\\_X &    & noun\\_M - verb\\_X & -0.06 & \\${[}-0.31\\$, \\$0.20{]}\\$  & -0.55 & .849\\\\\n",
       "\tRP\\_noun\\_F\\_noun\\_M & RP & noun\\_F - noun\\_M & -0.38 & \\${[}-0.63\\$, \\$-0.12{]}\\$ & -3.48 & .002\\\\\n",
       "\tRP\\_noun\\_F\\_verb\\_X &    & noun\\_F - verb\\_X & -0.17 & \\${[}-0.43\\$, \\$0.08{]}\\$  & -1.59 & .251\\\\\n",
       "\tRP\\_noun\\_M\\_verb\\_X &    & noun\\_M - verb\\_X & 0.21  & \\${[}-0.05\\$, \\$0.46{]}\\$  & 1.89  & .142\\\\\n",
       "\\end{tabular}\n"
      ],
      "text/markdown": [
       "\n",
       "A apa_results_table: 18 × 6\n",
       "\n",
       "| <!--/--> | chan0 &lt;chr&gt; | contrast &lt;ppj_lbll&gt; | estimate &lt;ppj_lbll&gt; | ci &lt;ppj_lbll&gt; | statistic &lt;ppj_lbll&gt; | p.value &lt;ppj_lbll&gt; |\n",
       "|---|---|---|---|---|---|---|\n",
       "| LC_noun_F_noun_M | LC | noun_F - noun_M | 0.16  | $[-0.10$, $0.41]$  | 1.46  | .312 |\n",
       "| LC_noun_F_verb_X | <!----> | noun_F - verb_X | -0.04 | $[-0.30$, $0.21]$  | -0.40 | .917 |\n",
       "| LC_noun_M_verb_X | <!----> | noun_M - verb_X | -0.20 | $[-0.46$, $0.05]$  | -1.86 | .153 |\n",
       "| LF_noun_F_noun_M | LF | noun_F - noun_M | -0.02 | $[-0.28$, $0.23]$  | -0.23 | .972 |\n",
       "| LF_noun_F_verb_X | <!----> | noun_F - verb_X | -0.07 | $[-0.32$, $0.19]$  | -0.62 | .812 |\n",
       "| LF_noun_M_verb_X | <!----> | noun_M - verb_X | -0.04 | $[-0.30$, $0.21]$  | -0.39 | .920 |\n",
       "| LP_noun_F_noun_M | LP | noun_F - noun_M | -0.06 | $[-0.32$, $0.19]$  | -0.58 | .832 |\n",
       "| LP_noun_F_verb_X | <!----> | noun_F - verb_X | -0.02 | $[-0.27$, $0.24]$  | -0.15 | .988 |\n",
       "| LP_noun_M_verb_X | <!----> | noun_M - verb_X | 0.05  | $[-0.21$, $0.30]$  | 0.43  | .902 |\n",
       "| RC_noun_F_noun_M | RC | noun_F - noun_M | -0.05 | $[-0.30$, $0.21]$  | -0.44 | .898 |\n",
       "| RC_noun_F_verb_X | <!----> | noun_F - verb_X | -0.22 | $[-0.47$, $0.04]$  | -1.98 | .117 |\n",
       "| RC_noun_M_verb_X | <!----> | noun_M - verb_X | -0.17 | $[-0.42$, $0.09]$  | -1.54 | .272 |\n",
       "| RF_noun_F_noun_M | RF | noun_F - noun_M | 0.03  | $[-0.22$, $0.29]$  | 0.31  | .949 |\n",
       "| RF_noun_F_verb_X | <!----> | noun_F - verb_X | -0.03 | $[-0.28$, $0.23]$  | -0.24 | .969 |\n",
       "| RF_noun_M_verb_X | <!----> | noun_M - verb_X | -0.06 | $[-0.31$, $0.20]$  | -0.55 | .849 |\n",
       "| RP_noun_F_noun_M | RP | noun_F - noun_M | -0.38 | $[-0.63$, $-0.12]$ | -3.48 | .002 |\n",
       "| RP_noun_F_verb_X | <!----> | noun_F - verb_X | -0.17 | $[-0.43$, $0.08]$  | -1.59 | .251 |\n",
       "| RP_noun_M_verb_X | <!----> | noun_M - verb_X | 0.21  | $[-0.05$, $0.46]$  | 1.89  | .142 |\n",
       "\n"
      ],
      "text/plain": [
       "                 chan0 contrast        estimate ci                 statistic p.value\n",
       "LC_noun_F_noun_M LC    noun_F - noun_M 0.16     $[-0.10$, $0.41]$  1.46      .312   \n",
       "LC_noun_F_verb_X       noun_F - verb_X -0.04    $[-0.30$, $0.21]$  -0.40     .917   \n",
       "LC_noun_M_verb_X       noun_M - verb_X -0.20    $[-0.46$, $0.05]$  -1.86     .153   \n",
       "LF_noun_F_noun_M LF    noun_F - noun_M -0.02    $[-0.28$, $0.23]$  -0.23     .972   \n",
       "LF_noun_F_verb_X       noun_F - verb_X -0.07    $[-0.32$, $0.19]$  -0.62     .812   \n",
       "LF_noun_M_verb_X       noun_M - verb_X -0.04    $[-0.30$, $0.21]$  -0.39     .920   \n",
       "LP_noun_F_noun_M LP    noun_F - noun_M -0.06    $[-0.32$, $0.19]$  -0.58     .832   \n",
       "LP_noun_F_verb_X       noun_F - verb_X -0.02    $[-0.27$, $0.24]$  -0.15     .988   \n",
       "LP_noun_M_verb_X       noun_M - verb_X 0.05     $[-0.21$, $0.30]$  0.43      .902   \n",
       "RC_noun_F_noun_M RC    noun_F - noun_M -0.05    $[-0.30$, $0.21]$  -0.44     .898   \n",
       "RC_noun_F_verb_X       noun_F - verb_X -0.22    $[-0.47$, $0.04]$  -1.98     .117   \n",
       "RC_noun_M_verb_X       noun_M - verb_X -0.17    $[-0.42$, $0.09]$  -1.54     .272   \n",
       "RF_noun_F_noun_M RF    noun_F - noun_M 0.03     $[-0.22$, $0.29]$  0.31      .949   \n",
       "RF_noun_F_verb_X       noun_F - verb_X -0.03    $[-0.28$, $0.23]$  -0.24     .969   \n",
       "RF_noun_M_verb_X       noun_M - verb_X -0.06    $[-0.31$, $0.20]$  -0.55     .849   \n",
       "RP_noun_F_noun_M RP    noun_F - noun_M -0.38    $[-0.63$, $-0.12]$ -3.48     .002   \n",
       "RP_noun_F_verb_X       noun_F - verb_X -0.17    $[-0.43$, $0.08]$  -1.59     .251   \n",
       "RP_noun_M_verb_X       noun_M - verb_X 0.21     $[-0.05$, $0.46]$  1.89      .142   "
      ]
     },
     "metadata": {},
     "output_type": "display_data"
    }
   ],
   "source": [
    "IDX <- IDX+1; COND <- CONDS[IDX]\n",
    "data1 <- droplevels(subset(df1, eval(parse(text=COND)))); data1 <- data1[complete.cases(data1),]; done1 <- AOV4(data1,COND)\n",
    "display_markdown(str_c(\"# Condition \",IDX,\" of \",length(CONDS))); display_markdown(done1$info); display_markdown(\"### Table\"); done1$aov_APA$table; display_markdown(\"### Result\"); display_markdown(done1$aov_APA[[\"full_result\"]][[\"cond0\"]]); display_markdown(\"### Summary (all done1, incl. NANs)\"); done1$summary; display_markdown(\"### Expected marginal means\"); done1$emm_APA$table; display_markdown(\"### Paired comparisons for expected marginal means\"); done1$pairs_APA$table"
   ]
  },
  {
   "cell_type": "code",
   "execution_count": 21,
   "metadata": {},
   "outputs": [
    {
     "name": "stderr",
     "output_type": "stream",
     "text": [
      "Warning message in summary.Anova.mlm(x$Anova):\n",
      "“HF eps > 1 treated as 1”\n"
     ]
    },
    {
     "data": {
      "text/markdown": [
       "# Condition 3 of 12"
      ]
     },
     "metadata": {},
     "output_type": "display_data"
    },
    {
     "data": {
      "text/markdown": [
       "`tmin0==0.19 & mode0==\"pos\"`"
      ]
     },
     "metadata": {},
     "output_type": "display_data"
    },
    {
     "data": {
      "text/markdown": [
       "### Table"
      ]
     },
     "metadata": {},
     "output_type": "display_data"
    },
    {
     "data": {
      "text/html": [
       "<table>\n",
       "<caption>A apa_results_table: 3 × 7</caption>\n",
       "<thead>\n",
       "\t<tr><th></th><th scope=col>Effect</th><th scope=col>F</th><th scope=col>df1</th><th scope=col>df2</th><th scope=col>MSE</th><th scope=col>p</th><th scope=col>ges</th></tr>\n",
       "\t<tr><th></th><th scope=col>&lt;ppj_lbll&gt;</th><th scope=col>&lt;ppj_lbll&gt;</th><th scope=col>&lt;ppj_lbll&gt;</th><th scope=col>&lt;ppj_lbll&gt;</th><th scope=col>&lt;ppj_lbll&gt;</th><th scope=col>&lt;ppj_lbll&gt;</th><th scope=col>&lt;ppj_lbll&gt;</th></tr>\n",
       "</thead>\n",
       "<tbody>\n",
       "\t<tr><th scope=row>1</th><td>Cond0                </td><td>1.95 </td><td>1.99</td><td>81.78 </td><td>0.30 </td><td>.149  </td><td>.000</td></tr>\n",
       "\t<tr><th scope=row>2</th><td><span style=white-space:pre-wrap>Chan0                </span></td><td>13.67</td><td>1.99</td><td>81.76 </td><td>23.83</td><td>&lt; .001</td><td>.205</td></tr>\n",
       "\t<tr><th scope=row>3</th><td>Cond0 $\\times$ Chan0</td><td>3.73 </td><td>6.07</td><td>248.75</td><td>0.42 </td><td>.001  </td><td>.004</td></tr>\n",
       "</tbody>\n",
       "</table>\n"
      ],
      "text/latex": [
       "A apa\\_results\\_table: 3 × 7\n",
       "\\begin{tabular}{r|lllllll}\n",
       "  & Effect & F & df1 & df2 & MSE & p & ges\\\\\n",
       "  & <ppj\\_lbll> & <ppj\\_lbll> & <ppj\\_lbll> & <ppj\\_lbll> & <ppj\\_lbll> & <ppj\\_lbll> & <ppj\\_lbll>\\\\\n",
       "\\hline\n",
       "\t1 & Cond0                 & 1.95  & 1.99 & 81.78  & 0.30  & .149   & .000\\\\\n",
       "\t2 & Chan0                 & 13.67 & 1.99 & 81.76  & 23.83 & < .001 & .205\\\\\n",
       "\t3 & Cond0 \\$\\textbackslash{}times\\$ Chan0 & 3.73  & 6.07 & 248.75 & 0.42  & .001   & .004\\\\\n",
       "\\end{tabular}\n"
      ],
      "text/markdown": [
       "\n",
       "A apa_results_table: 3 × 7\n",
       "\n",
       "| <!--/--> | Effect &lt;ppj_lbll&gt; | F &lt;ppj_lbll&gt; | df1 &lt;ppj_lbll&gt; | df2 &lt;ppj_lbll&gt; | MSE &lt;ppj_lbll&gt; | p &lt;ppj_lbll&gt; | ges &lt;ppj_lbll&gt; |\n",
       "|---|---|---|---|---|---|---|---|\n",
       "| 1 | Cond0                 | 1.95  | 1.99 | 81.78  | 0.30  | .149   | .000 |\n",
       "| 2 | Chan0                 | 13.67 | 1.99 | 81.76  | 23.83 | &lt; .001 | .205 |\n",
       "| 3 | Cond0 $\\times$ Chan0 | 3.73  | 6.07 | 248.75 | 0.42  | .001   | .004 |\n",
       "\n"
      ],
      "text/plain": [
       "  Effect                F     df1  df2    MSE   p      ges \n",
       "1 Cond0                 1.95  1.99 81.78  0.30  .149   .000\n",
       "2 Chan0                 13.67 1.99 81.76  23.83 < .001 .205\n",
       "3 Cond0 $\\\\times$ Chan0 3.73  6.07 248.75 0.42  .001   .004"
      ]
     },
     "metadata": {},
     "output_type": "display_data"
    },
    {
     "data": {
      "text/markdown": [
       "### Result"
      ]
     },
     "metadata": {},
     "output_type": "display_data"
    },
    {
     "data": {
      "text/markdown": [
       "$F(1.99, 81.78) = 1.95$, $\\mathit{MSE} = 0.30$, $p = .149$, $\\hat{\\eta}^2_G = .000$"
      ]
     },
     "metadata": {},
     "output_type": "display_data"
    },
    {
     "data": {
      "text/markdown": [
       "### Summary (all done1, incl. NANs)"
      ]
     },
     "metadata": {},
     "output_type": "display_data"
    },
    {
     "data": {
      "text/html": [
       "<table>\n",
       "<caption>A tibble: 3 × 5</caption>\n",
       "<thead>\n",
       "\t<tr><th scope=col>cond0</th><th scope=col>N</th><th scope=col>valX_M</th><th scope=col>valX_SD</th><th scope=col>valX_SE</th></tr>\n",
       "\t<tr><th scope=col>&lt;fct&gt;</th><th scope=col>&lt;int&gt;</th><th scope=col>&lt;dbl&gt;</th><th scope=col>&lt;dbl&gt;</th><th scope=col>&lt;dbl&gt;</th></tr>\n",
       "</thead>\n",
       "<tbody>\n",
       "\t<tr><td>noun_F</td><td>252</td><td>1.964146</td><td>2.010653</td><td>0.1266593</td></tr>\n",
       "\t<tr><td>noun_M</td><td>252</td><td>1.963329</td><td>2.122907</td><td>0.1337306</td></tr>\n",
       "\t<tr><td>verb_X</td><td>252</td><td>1.880297</td><td>2.022787</td><td>0.1274236</td></tr>\n",
       "</tbody>\n",
       "</table>\n"
      ],
      "text/latex": [
       "A tibble: 3 × 5\n",
       "\\begin{tabular}{lllll}\n",
       " cond0 & N & valX\\_M & valX\\_SD & valX\\_SE\\\\\n",
       " <fct> & <int> & <dbl> & <dbl> & <dbl>\\\\\n",
       "\\hline\n",
       "\t noun\\_F & 252 & 1.964146 & 2.010653 & 0.1266593\\\\\n",
       "\t noun\\_M & 252 & 1.963329 & 2.122907 & 0.1337306\\\\\n",
       "\t verb\\_X & 252 & 1.880297 & 2.022787 & 0.1274236\\\\\n",
       "\\end{tabular}\n"
      ],
      "text/markdown": [
       "\n",
       "A tibble: 3 × 5\n",
       "\n",
       "| cond0 &lt;fct&gt; | N &lt;int&gt; | valX_M &lt;dbl&gt; | valX_SD &lt;dbl&gt; | valX_SE &lt;dbl&gt; |\n",
       "|---|---|---|---|---|\n",
       "| noun_F | 252 | 1.964146 | 2.010653 | 0.1266593 |\n",
       "| noun_M | 252 | 1.963329 | 2.122907 | 0.1337306 |\n",
       "| verb_X | 252 | 1.880297 | 2.022787 | 0.1274236 |\n",
       "\n"
      ],
      "text/plain": [
       "  cond0  N   valX_M   valX_SD  valX_SE  \n",
       "1 noun_F 252 1.964146 2.010653 0.1266593\n",
       "2 noun_M 252 1.963329 2.122907 0.1337306\n",
       "3 verb_X 252 1.880297 2.022787 0.1274236"
      ]
     },
     "metadata": {},
     "output_type": "display_data"
    },
    {
     "data": {
      "text/markdown": [
       "### Expected marginal means"
      ]
     },
     "metadata": {},
     "output_type": "display_data"
    },
    {
     "data": {
      "text/html": [
       "<table>\n",
       "<caption>A apa_results_table: 18 × 6</caption>\n",
       "<thead>\n",
       "\t<tr><th></th><th scope=col>chan0</th><th scope=col>cond0</th><th scope=col>estimate</th><th scope=col>ci</th><th scope=col>statistic</th><th scope=col>p.value</th></tr>\n",
       "\t<tr><th></th><th scope=col>&lt;chr&gt;</th><th scope=col>&lt;chr&gt;</th><th scope=col>&lt;ppj_lbll&gt;</th><th scope=col>&lt;ppj_lbll&gt;</th><th scope=col>&lt;ppj_lbll&gt;</th><th scope=col>&lt;ppj_lbll&gt;</th></tr>\n",
       "</thead>\n",
       "<tbody>\n",
       "\t<tr><th scope=row>noun_F_LC</th><td>LC</td><td>noun_F</td><td>1.58</td><td>$[1.02$, $2.14]$</td><td>5.53 </td><td>&lt; .001</td></tr>\n",
       "\t<tr><th scope=row>noun_M_LC</th><td><span style=white-space:pre-wrap>  </span></td><td>noun_M</td><td>1.61</td><td>$[1.05$, $2.17]$</td><td>5.64 </td><td>&lt; .001</td></tr>\n",
       "\t<tr><th scope=row>verb_X_LC</th><td><span style=white-space:pre-wrap>  </span></td><td>verb_X</td><td>1.56</td><td>$[1.00$, $2.13]$</td><td>5.49 </td><td>&lt; .001</td></tr>\n",
       "\t<tr><th scope=row>noun_F_LF</th><td>LF</td><td>noun_F</td><td>2.13</td><td>$[1.57$, $2.69]$</td><td>7.47 </td><td>&lt; .001</td></tr>\n",
       "\t<tr><th scope=row>noun_M_LF</th><td><span style=white-space:pre-wrap>  </span></td><td>noun_M</td><td>1.95</td><td>$[1.39$, $2.51]$</td><td>6.86 </td><td>&lt; .001</td></tr>\n",
       "\t<tr><th scope=row>verb_X_LF</th><td><span style=white-space:pre-wrap>  </span></td><td>verb_X</td><td>1.91</td><td>$[1.35$, $2.47]$</td><td>6.70 </td><td>&lt; .001</td></tr>\n",
       "\t<tr><th scope=row>noun_F_LP</th><td>LP</td><td>noun_F</td><td>1.95</td><td>$[1.39$, $2.51]$</td><td>6.86 </td><td>&lt; .001</td></tr>\n",
       "\t<tr><th scope=row>noun_M_LP</th><td><span style=white-space:pre-wrap>  </span></td><td>noun_M</td><td>2.36</td><td>$[1.80$, $2.92]$</td><td>8.29 </td><td>&lt; .001</td></tr>\n",
       "\t<tr><th scope=row>verb_X_LP</th><td><span style=white-space:pre-wrap>  </span></td><td>verb_X</td><td>1.89</td><td>$[1.33$, $2.45]$</td><td>6.63 </td><td>&lt; .001</td></tr>\n",
       "\t<tr><th scope=row>noun_F_RC</th><td>RC</td><td>noun_F</td><td>1.45</td><td>$[0.88$, $2.01]$</td><td>5.08 </td><td>&lt; .001</td></tr>\n",
       "\t<tr><th scope=row>noun_M_RC</th><td><span style=white-space:pre-wrap>  </span></td><td>noun_M</td><td>1.32</td><td>$[0.76$, $1.88]$</td><td>4.62 </td><td>&lt; .001</td></tr>\n",
       "\t<tr><th scope=row>verb_X_RC</th><td><span style=white-space:pre-wrap>  </span></td><td>verb_X</td><td>1.51</td><td>$[0.95$, $2.07]$</td><td>5.29 </td><td>&lt; .001</td></tr>\n",
       "\t<tr><th scope=row>noun_F_RF</th><td>RF</td><td>noun_F</td><td>0.94</td><td>$[0.38$, $1.50]$</td><td>3.29 </td><td>.001  </td></tr>\n",
       "\t<tr><th scope=row>noun_M_RF</th><td>  </td><td>noun_M</td><td>0.63</td><td>$[0.07$, $1.19]$</td><td>2.22 </td><td>.027  </td></tr>\n",
       "\t<tr><th scope=row>verb_X_RF</th><td>  </td><td>verb_X</td><td>0.74</td><td>$[0.18$, $1.30]$</td><td>2.60 </td><td>.010  </td></tr>\n",
       "\t<tr><th scope=row>noun_F_RP</th><td>RP</td><td>noun_F</td><td>3.75</td><td>$[3.19$, $4.31]$</td><td>13.16</td><td>&lt; .001</td></tr>\n",
       "\t<tr><th scope=row>noun_M_RP</th><td><span style=white-space:pre-wrap>  </span></td><td>noun_M</td><td>3.91</td><td>$[3.35$, $4.47]$</td><td>13.72</td><td>&lt; .001</td></tr>\n",
       "\t<tr><th scope=row>verb_X_RP</th><td><span style=white-space:pre-wrap>  </span></td><td>verb_X</td><td>3.67</td><td>$[3.11$, $4.23]$</td><td>12.90</td><td>&lt; .001</td></tr>\n",
       "</tbody>\n",
       "</table>\n"
      ],
      "text/latex": [
       "A apa\\_results\\_table: 18 × 6\n",
       "\\begin{tabular}{r|llllll}\n",
       "  & chan0 & cond0 & estimate & ci & statistic & p.value\\\\\n",
       "  & <chr> & <chr> & <ppj\\_lbll> & <ppj\\_lbll> & <ppj\\_lbll> & <ppj\\_lbll>\\\\\n",
       "\\hline\n",
       "\tnoun\\_F\\_LC & LC & noun\\_F & 1.58 & \\${[}1.02\\$, \\$2.14{]}\\$ & 5.53  & < .001\\\\\n",
       "\tnoun\\_M\\_LC &    & noun\\_M & 1.61 & \\${[}1.05\\$, \\$2.17{]}\\$ & 5.64  & < .001\\\\\n",
       "\tverb\\_X\\_LC &    & verb\\_X & 1.56 & \\${[}1.00\\$, \\$2.13{]}\\$ & 5.49  & < .001\\\\\n",
       "\tnoun\\_F\\_LF & LF & noun\\_F & 2.13 & \\${[}1.57\\$, \\$2.69{]}\\$ & 7.47  & < .001\\\\\n",
       "\tnoun\\_M\\_LF &    & noun\\_M & 1.95 & \\${[}1.39\\$, \\$2.51{]}\\$ & 6.86  & < .001\\\\\n",
       "\tverb\\_X\\_LF &    & verb\\_X & 1.91 & \\${[}1.35\\$, \\$2.47{]}\\$ & 6.70  & < .001\\\\\n",
       "\tnoun\\_F\\_LP & LP & noun\\_F & 1.95 & \\${[}1.39\\$, \\$2.51{]}\\$ & 6.86  & < .001\\\\\n",
       "\tnoun\\_M\\_LP &    & noun\\_M & 2.36 & \\${[}1.80\\$, \\$2.92{]}\\$ & 8.29  & < .001\\\\\n",
       "\tverb\\_X\\_LP &    & verb\\_X & 1.89 & \\${[}1.33\\$, \\$2.45{]}\\$ & 6.63  & < .001\\\\\n",
       "\tnoun\\_F\\_RC & RC & noun\\_F & 1.45 & \\${[}0.88\\$, \\$2.01{]}\\$ & 5.08  & < .001\\\\\n",
       "\tnoun\\_M\\_RC &    & noun\\_M & 1.32 & \\${[}0.76\\$, \\$1.88{]}\\$ & 4.62  & < .001\\\\\n",
       "\tverb\\_X\\_RC &    & verb\\_X & 1.51 & \\${[}0.95\\$, \\$2.07{]}\\$ & 5.29  & < .001\\\\\n",
       "\tnoun\\_F\\_RF & RF & noun\\_F & 0.94 & \\${[}0.38\\$, \\$1.50{]}\\$ & 3.29  & .001  \\\\\n",
       "\tnoun\\_M\\_RF &    & noun\\_M & 0.63 & \\${[}0.07\\$, \\$1.19{]}\\$ & 2.22  & .027  \\\\\n",
       "\tverb\\_X\\_RF &    & verb\\_X & 0.74 & \\${[}0.18\\$, \\$1.30{]}\\$ & 2.60  & .010  \\\\\n",
       "\tnoun\\_F\\_RP & RP & noun\\_F & 3.75 & \\${[}3.19\\$, \\$4.31{]}\\$ & 13.16 & < .001\\\\\n",
       "\tnoun\\_M\\_RP &    & noun\\_M & 3.91 & \\${[}3.35\\$, \\$4.47{]}\\$ & 13.72 & < .001\\\\\n",
       "\tverb\\_X\\_RP &    & verb\\_X & 3.67 & \\${[}3.11\\$, \\$4.23{]}\\$ & 12.90 & < .001\\\\\n",
       "\\end{tabular}\n"
      ],
      "text/markdown": [
       "\n",
       "A apa_results_table: 18 × 6\n",
       "\n",
       "| <!--/--> | chan0 &lt;chr&gt; | cond0 &lt;chr&gt; | estimate &lt;ppj_lbll&gt; | ci &lt;ppj_lbll&gt; | statistic &lt;ppj_lbll&gt; | p.value &lt;ppj_lbll&gt; |\n",
       "|---|---|---|---|---|---|---|\n",
       "| noun_F_LC | LC | noun_F | 1.58 | $[1.02$, $2.14]$ | 5.53  | &lt; .001 |\n",
       "| noun_M_LC | <!----> | noun_M | 1.61 | $[1.05$, $2.17]$ | 5.64  | &lt; .001 |\n",
       "| verb_X_LC | <!----> | verb_X | 1.56 | $[1.00$, $2.13]$ | 5.49  | &lt; .001 |\n",
       "| noun_F_LF | LF | noun_F | 2.13 | $[1.57$, $2.69]$ | 7.47  | &lt; .001 |\n",
       "| noun_M_LF | <!----> | noun_M | 1.95 | $[1.39$, $2.51]$ | 6.86  | &lt; .001 |\n",
       "| verb_X_LF | <!----> | verb_X | 1.91 | $[1.35$, $2.47]$ | 6.70  | &lt; .001 |\n",
       "| noun_F_LP | LP | noun_F | 1.95 | $[1.39$, $2.51]$ | 6.86  | &lt; .001 |\n",
       "| noun_M_LP | <!----> | noun_M | 2.36 | $[1.80$, $2.92]$ | 8.29  | &lt; .001 |\n",
       "| verb_X_LP | <!----> | verb_X | 1.89 | $[1.33$, $2.45]$ | 6.63  | &lt; .001 |\n",
       "| noun_F_RC | RC | noun_F | 1.45 | $[0.88$, $2.01]$ | 5.08  | &lt; .001 |\n",
       "| noun_M_RC | <!----> | noun_M | 1.32 | $[0.76$, $1.88]$ | 4.62  | &lt; .001 |\n",
       "| verb_X_RC | <!----> | verb_X | 1.51 | $[0.95$, $2.07]$ | 5.29  | &lt; .001 |\n",
       "| noun_F_RF | RF | noun_F | 0.94 | $[0.38$, $1.50]$ | 3.29  | .001   |\n",
       "| noun_M_RF | <!----> | noun_M | 0.63 | $[0.07$, $1.19]$ | 2.22  | .027   |\n",
       "| verb_X_RF | <!----> | verb_X | 0.74 | $[0.18$, $1.30]$ | 2.60  | .010   |\n",
       "| noun_F_RP | RP | noun_F | 3.75 | $[3.19$, $4.31]$ | 13.16 | &lt; .001 |\n",
       "| noun_M_RP | <!----> | noun_M | 3.91 | $[3.35$, $4.47]$ | 13.72 | &lt; .001 |\n",
       "| verb_X_RP | <!----> | verb_X | 3.67 | $[3.11$, $4.23]$ | 12.90 | &lt; .001 |\n",
       "\n"
      ],
      "text/plain": [
       "          chan0 cond0  estimate ci               statistic p.value\n",
       "noun_F_LC LC    noun_F 1.58     $[1.02$, $2.14]$ 5.53      < .001 \n",
       "noun_M_LC       noun_M 1.61     $[1.05$, $2.17]$ 5.64      < .001 \n",
       "verb_X_LC       verb_X 1.56     $[1.00$, $2.13]$ 5.49      < .001 \n",
       "noun_F_LF LF    noun_F 2.13     $[1.57$, $2.69]$ 7.47      < .001 \n",
       "noun_M_LF       noun_M 1.95     $[1.39$, $2.51]$ 6.86      < .001 \n",
       "verb_X_LF       verb_X 1.91     $[1.35$, $2.47]$ 6.70      < .001 \n",
       "noun_F_LP LP    noun_F 1.95     $[1.39$, $2.51]$ 6.86      < .001 \n",
       "noun_M_LP       noun_M 2.36     $[1.80$, $2.92]$ 8.29      < .001 \n",
       "verb_X_LP       verb_X 1.89     $[1.33$, $2.45]$ 6.63      < .001 \n",
       "noun_F_RC RC    noun_F 1.45     $[0.88$, $2.01]$ 5.08      < .001 \n",
       "noun_M_RC       noun_M 1.32     $[0.76$, $1.88]$ 4.62      < .001 \n",
       "verb_X_RC       verb_X 1.51     $[0.95$, $2.07]$ 5.29      < .001 \n",
       "noun_F_RF RF    noun_F 0.94     $[0.38$, $1.50]$ 3.29      .001   \n",
       "noun_M_RF       noun_M 0.63     $[0.07$, $1.19]$ 2.22      .027   \n",
       "verb_X_RF       verb_X 0.74     $[0.18$, $1.30]$ 2.60      .010   \n",
       "noun_F_RP RP    noun_F 3.75     $[3.19$, $4.31]$ 13.16     < .001 \n",
       "noun_M_RP       noun_M 3.91     $[3.35$, $4.47]$ 13.72     < .001 \n",
       "verb_X_RP       verb_X 3.67     $[3.11$, $4.23]$ 12.90     < .001 "
      ]
     },
     "metadata": {},
     "output_type": "display_data"
    },
    {
     "data": {
      "text/markdown": [
       "### Paired comparisons for expected marginal means"
      ]
     },
     "metadata": {},
     "output_type": "display_data"
    },
    {
     "data": {
      "text/html": [
       "<table>\n",
       "<caption>A apa_results_table: 18 × 6</caption>\n",
       "<thead>\n",
       "\t<tr><th></th><th scope=col>chan0</th><th scope=col>contrast</th><th scope=col>estimate</th><th scope=col>ci</th><th scope=col>statistic</th><th scope=col>p.value</th></tr>\n",
       "\t<tr><th></th><th scope=col>&lt;chr&gt;</th><th scope=col>&lt;ppj_lbll&gt;</th><th scope=col>&lt;ppj_lbll&gt;</th><th scope=col>&lt;ppj_lbll&gt;</th><th scope=col>&lt;ppj_lbll&gt;</th><th scope=col>&lt;ppj_lbll&gt;</th></tr>\n",
       "</thead>\n",
       "<tbody>\n",
       "\t<tr><th scope=row>LC_noun_F_noun_M</th><td>LC</td><td>noun_F - noun_M</td><td>-0.03</td><td>$[-0.29$, $0.23]$ </td><td>-0.28</td><td>.957  </td></tr>\n",
       "\t<tr><th scope=row>LC_noun_F_verb_X</th><td>  </td><td>noun_F - verb_X</td><td>0.01 </td><td>$[-0.25$, $0.27]$ </td><td>0.10 </td><td>.995  </td></tr>\n",
       "\t<tr><th scope=row>LC_noun_M_verb_X</th><td>  </td><td>noun_M - verb_X</td><td>0.04 </td><td>$[-0.22$, $0.31]$ </td><td>0.38 </td><td>.923  </td></tr>\n",
       "\t<tr><th scope=row>LF_noun_F_noun_M</th><td>LF</td><td>noun_F - noun_M</td><td>0.17 </td><td>$[-0.09$, $0.43]$ </td><td>1.54 </td><td>.274  </td></tr>\n",
       "\t<tr><th scope=row>LF_noun_F_verb_X</th><td>  </td><td>noun_F - verb_X</td><td>0.22 </td><td>$[-0.05$, $0.48]$ </td><td>1.94 </td><td>.129  </td></tr>\n",
       "\t<tr><th scope=row>LF_noun_M_verb_X</th><td>  </td><td>noun_M - verb_X</td><td>0.04 </td><td>$[-0.22$, $0.31]$ </td><td>0.40 </td><td>.915  </td></tr>\n",
       "\t<tr><th scope=row>LP_noun_F_noun_M</th><td>LP</td><td>noun_F - noun_M</td><td>-0.41</td><td>$[-0.67$, $-0.14]$</td><td>-3.64</td><td>.001  </td></tr>\n",
       "\t<tr><th scope=row>LP_noun_F_verb_X</th><td>  </td><td>noun_F - verb_X</td><td>0.07 </td><td>$[-0.20$, $0.33]$ </td><td>0.60 </td><td>.818  </td></tr>\n",
       "\t<tr><th scope=row>LP_noun_M_verb_X</th><td><span style=white-space:pre-wrap>  </span></td><td>noun_M - verb_X</td><td>0.47 </td><td><span style=white-space:pre-wrap>$[0.21$, $0.74]$  </span></td><td>4.24 </td><td>&lt; .001</td></tr>\n",
       "\t<tr><th scope=row>RC_noun_F_noun_M</th><td>RC</td><td>noun_F - noun_M</td><td>0.13 </td><td>$[-0.13$, $0.39]$ </td><td>1.16 </td><td>.477  </td></tr>\n",
       "\t<tr><th scope=row>RC_noun_F_verb_X</th><td>  </td><td>noun_F - verb_X</td><td>-0.06</td><td>$[-0.32$, $0.20]$ </td><td>-0.56</td><td>.844  </td></tr>\n",
       "\t<tr><th scope=row>RC_noun_M_verb_X</th><td>  </td><td>noun_M - verb_X</td><td>-0.19</td><td>$[-0.45$, $0.07]$ </td><td>-1.72</td><td>.200  </td></tr>\n",
       "\t<tr><th scope=row>RF_noun_F_noun_M</th><td>RF</td><td>noun_F - noun_M</td><td>0.30 </td><td>$[0.04$, $0.57]$  </td><td>2.71 </td><td>.019  </td></tr>\n",
       "\t<tr><th scope=row>RF_noun_F_verb_X</th><td>  </td><td>noun_F - verb_X</td><td>0.20 </td><td>$[-0.07$, $0.46]$ </td><td>1.76 </td><td>.184  </td></tr>\n",
       "\t<tr><th scope=row>RF_noun_M_verb_X</th><td>  </td><td>noun_M - verb_X</td><td>-0.11</td><td>$[-0.37$, $0.16]$ </td><td>-0.95</td><td>.610  </td></tr>\n",
       "\t<tr><th scope=row>RP_noun_F_noun_M</th><td>RP</td><td>noun_F - noun_M</td><td>-0.16</td><td>$[-0.42$, $0.10]$ </td><td>-1.44</td><td>.321  </td></tr>\n",
       "\t<tr><th scope=row>RP_noun_F_verb_X</th><td>  </td><td>noun_F - verb_X</td><td>0.07 </td><td>$[-0.19$, $0.34]$ </td><td>0.65 </td><td>.791  </td></tr>\n",
       "\t<tr><th scope=row>RP_noun_M_verb_X</th><td>  </td><td>noun_M - verb_X</td><td>0.23 </td><td>$[-0.03$, $0.50]$ </td><td>2.09 </td><td>.092  </td></tr>\n",
       "</tbody>\n",
       "</table>\n"
      ],
      "text/latex": [
       "A apa\\_results\\_table: 18 × 6\n",
       "\\begin{tabular}{r|llllll}\n",
       "  & chan0 & contrast & estimate & ci & statistic & p.value\\\\\n",
       "  & <chr> & <ppj\\_lbll> & <ppj\\_lbll> & <ppj\\_lbll> & <ppj\\_lbll> & <ppj\\_lbll>\\\\\n",
       "\\hline\n",
       "\tLC\\_noun\\_F\\_noun\\_M & LC & noun\\_F - noun\\_M & -0.03 & \\${[}-0.29\\$, \\$0.23{]}\\$  & -0.28 & .957  \\\\\n",
       "\tLC\\_noun\\_F\\_verb\\_X &    & noun\\_F - verb\\_X & 0.01  & \\${[}-0.25\\$, \\$0.27{]}\\$  & 0.10  & .995  \\\\\n",
       "\tLC\\_noun\\_M\\_verb\\_X &    & noun\\_M - verb\\_X & 0.04  & \\${[}-0.22\\$, \\$0.31{]}\\$  & 0.38  & .923  \\\\\n",
       "\tLF\\_noun\\_F\\_noun\\_M & LF & noun\\_F - noun\\_M & 0.17  & \\${[}-0.09\\$, \\$0.43{]}\\$  & 1.54  & .274  \\\\\n",
       "\tLF\\_noun\\_F\\_verb\\_X &    & noun\\_F - verb\\_X & 0.22  & \\${[}-0.05\\$, \\$0.48{]}\\$  & 1.94  & .129  \\\\\n",
       "\tLF\\_noun\\_M\\_verb\\_X &    & noun\\_M - verb\\_X & 0.04  & \\${[}-0.22\\$, \\$0.31{]}\\$  & 0.40  & .915  \\\\\n",
       "\tLP\\_noun\\_F\\_noun\\_M & LP & noun\\_F - noun\\_M & -0.41 & \\${[}-0.67\\$, \\$-0.14{]}\\$ & -3.64 & .001  \\\\\n",
       "\tLP\\_noun\\_F\\_verb\\_X &    & noun\\_F - verb\\_X & 0.07  & \\${[}-0.20\\$, \\$0.33{]}\\$  & 0.60  & .818  \\\\\n",
       "\tLP\\_noun\\_M\\_verb\\_X &    & noun\\_M - verb\\_X & 0.47  & \\${[}0.21\\$, \\$0.74{]}\\$   & 4.24  & < .001\\\\\n",
       "\tRC\\_noun\\_F\\_noun\\_M & RC & noun\\_F - noun\\_M & 0.13  & \\${[}-0.13\\$, \\$0.39{]}\\$  & 1.16  & .477  \\\\\n",
       "\tRC\\_noun\\_F\\_verb\\_X &    & noun\\_F - verb\\_X & -0.06 & \\${[}-0.32\\$, \\$0.20{]}\\$  & -0.56 & .844  \\\\\n",
       "\tRC\\_noun\\_M\\_verb\\_X &    & noun\\_M - verb\\_X & -0.19 & \\${[}-0.45\\$, \\$0.07{]}\\$  & -1.72 & .200  \\\\\n",
       "\tRF\\_noun\\_F\\_noun\\_M & RF & noun\\_F - noun\\_M & 0.30  & \\${[}0.04\\$, \\$0.57{]}\\$   & 2.71  & .019  \\\\\n",
       "\tRF\\_noun\\_F\\_verb\\_X &    & noun\\_F - verb\\_X & 0.20  & \\${[}-0.07\\$, \\$0.46{]}\\$  & 1.76  & .184  \\\\\n",
       "\tRF\\_noun\\_M\\_verb\\_X &    & noun\\_M - verb\\_X & -0.11 & \\${[}-0.37\\$, \\$0.16{]}\\$  & -0.95 & .610  \\\\\n",
       "\tRP\\_noun\\_F\\_noun\\_M & RP & noun\\_F - noun\\_M & -0.16 & \\${[}-0.42\\$, \\$0.10{]}\\$  & -1.44 & .321  \\\\\n",
       "\tRP\\_noun\\_F\\_verb\\_X &    & noun\\_F - verb\\_X & 0.07  & \\${[}-0.19\\$, \\$0.34{]}\\$  & 0.65  & .791  \\\\\n",
       "\tRP\\_noun\\_M\\_verb\\_X &    & noun\\_M - verb\\_X & 0.23  & \\${[}-0.03\\$, \\$0.50{]}\\$  & 2.09  & .092  \\\\\n",
       "\\end{tabular}\n"
      ],
      "text/markdown": [
       "\n",
       "A apa_results_table: 18 × 6\n",
       "\n",
       "| <!--/--> | chan0 &lt;chr&gt; | contrast &lt;ppj_lbll&gt; | estimate &lt;ppj_lbll&gt; | ci &lt;ppj_lbll&gt; | statistic &lt;ppj_lbll&gt; | p.value &lt;ppj_lbll&gt; |\n",
       "|---|---|---|---|---|---|---|\n",
       "| LC_noun_F_noun_M | LC | noun_F - noun_M | -0.03 | $[-0.29$, $0.23]$  | -0.28 | .957   |\n",
       "| LC_noun_F_verb_X | <!----> | noun_F - verb_X | 0.01  | $[-0.25$, $0.27]$  | 0.10  | .995   |\n",
       "| LC_noun_M_verb_X | <!----> | noun_M - verb_X | 0.04  | $[-0.22$, $0.31]$  | 0.38  | .923   |\n",
       "| LF_noun_F_noun_M | LF | noun_F - noun_M | 0.17  | $[-0.09$, $0.43]$  | 1.54  | .274   |\n",
       "| LF_noun_F_verb_X | <!----> | noun_F - verb_X | 0.22  | $[-0.05$, $0.48]$  | 1.94  | .129   |\n",
       "| LF_noun_M_verb_X | <!----> | noun_M - verb_X | 0.04  | $[-0.22$, $0.31]$  | 0.40  | .915   |\n",
       "| LP_noun_F_noun_M | LP | noun_F - noun_M | -0.41 | $[-0.67$, $-0.14]$ | -3.64 | .001   |\n",
       "| LP_noun_F_verb_X | <!----> | noun_F - verb_X | 0.07  | $[-0.20$, $0.33]$  | 0.60  | .818   |\n",
       "| LP_noun_M_verb_X | <!----> | noun_M - verb_X | 0.47  | $[0.21$, $0.74]$   | 4.24  | &lt; .001 |\n",
       "| RC_noun_F_noun_M | RC | noun_F - noun_M | 0.13  | $[-0.13$, $0.39]$  | 1.16  | .477   |\n",
       "| RC_noun_F_verb_X | <!----> | noun_F - verb_X | -0.06 | $[-0.32$, $0.20]$  | -0.56 | .844   |\n",
       "| RC_noun_M_verb_X | <!----> | noun_M - verb_X | -0.19 | $[-0.45$, $0.07]$  | -1.72 | .200   |\n",
       "| RF_noun_F_noun_M | RF | noun_F - noun_M | 0.30  | $[0.04$, $0.57]$   | 2.71  | .019   |\n",
       "| RF_noun_F_verb_X | <!----> | noun_F - verb_X | 0.20  | $[-0.07$, $0.46]$  | 1.76  | .184   |\n",
       "| RF_noun_M_verb_X | <!----> | noun_M - verb_X | -0.11 | $[-0.37$, $0.16]$  | -0.95 | .610   |\n",
       "| RP_noun_F_noun_M | RP | noun_F - noun_M | -0.16 | $[-0.42$, $0.10]$  | -1.44 | .321   |\n",
       "| RP_noun_F_verb_X | <!----> | noun_F - verb_X | 0.07  | $[-0.19$, $0.34]$  | 0.65  | .791   |\n",
       "| RP_noun_M_verb_X | <!----> | noun_M - verb_X | 0.23  | $[-0.03$, $0.50]$  | 2.09  | .092   |\n",
       "\n"
      ],
      "text/plain": [
       "                 chan0 contrast        estimate ci                 statistic p.value\n",
       "LC_noun_F_noun_M LC    noun_F - noun_M -0.03    $[-0.29$, $0.23]$  -0.28     .957   \n",
       "LC_noun_F_verb_X       noun_F - verb_X 0.01     $[-0.25$, $0.27]$  0.10      .995   \n",
       "LC_noun_M_verb_X       noun_M - verb_X 0.04     $[-0.22$, $0.31]$  0.38      .923   \n",
       "LF_noun_F_noun_M LF    noun_F - noun_M 0.17     $[-0.09$, $0.43]$  1.54      .274   \n",
       "LF_noun_F_verb_X       noun_F - verb_X 0.22     $[-0.05$, $0.48]$  1.94      .129   \n",
       "LF_noun_M_verb_X       noun_M - verb_X 0.04     $[-0.22$, $0.31]$  0.40      .915   \n",
       "LP_noun_F_noun_M LP    noun_F - noun_M -0.41    $[-0.67$, $-0.14]$ -3.64     .001   \n",
       "LP_noun_F_verb_X       noun_F - verb_X 0.07     $[-0.20$, $0.33]$  0.60      .818   \n",
       "LP_noun_M_verb_X       noun_M - verb_X 0.47     $[0.21$, $0.74]$   4.24      < .001 \n",
       "RC_noun_F_noun_M RC    noun_F - noun_M 0.13     $[-0.13$, $0.39]$  1.16      .477   \n",
       "RC_noun_F_verb_X       noun_F - verb_X -0.06    $[-0.32$, $0.20]$  -0.56     .844   \n",
       "RC_noun_M_verb_X       noun_M - verb_X -0.19    $[-0.45$, $0.07]$  -1.72     .200   \n",
       "RF_noun_F_noun_M RF    noun_F - noun_M 0.30     $[0.04$, $0.57]$   2.71      .019   \n",
       "RF_noun_F_verb_X       noun_F - verb_X 0.20     $[-0.07$, $0.46]$  1.76      .184   \n",
       "RF_noun_M_verb_X       noun_M - verb_X -0.11    $[-0.37$, $0.16]$  -0.95     .610   \n",
       "RP_noun_F_noun_M RP    noun_F - noun_M -0.16    $[-0.42$, $0.10]$  -1.44     .321   \n",
       "RP_noun_F_verb_X       noun_F - verb_X 0.07     $[-0.19$, $0.34]$  0.65      .791   \n",
       "RP_noun_M_verb_X       noun_M - verb_X 0.23     $[-0.03$, $0.50]$  2.09      .092   "
      ]
     },
     "metadata": {},
     "output_type": "display_data"
    }
   ],
   "source": [
    "IDX <- IDX+1; COND <- CONDS[IDX]\n",
    "data1 <- droplevels(subset(df1, eval(parse(text=COND)))); data1 <- data1[complete.cases(data1),]; done1 <- AOV4(data1,COND)\n",
    "display_markdown(str_c(\"# Condition \",IDX,\" of \",length(CONDS))); display_markdown(done1$info); display_markdown(\"### Table\"); done1$aov_APA$table; display_markdown(\"### Result\"); display_markdown(done1$aov_APA[[\"full_result\"]][[\"cond0\"]]); display_markdown(\"### Summary (all done1, incl. NANs)\"); done1$summary; display_markdown(\"### Expected marginal means\"); done1$emm_APA$table; display_markdown(\"### Paired comparisons for expected marginal means\"); done1$pairs_APA$table"
   ]
  },
  {
   "cell_type": "code",
   "execution_count": 22,
   "metadata": {},
   "outputs": [
    {
     "name": "stderr",
     "output_type": "stream",
     "text": [
      "Warning message in summary.Anova.mlm(x$Anova):\n",
      "“HF eps > 1 treated as 1”\n"
     ]
    },
    {
     "data": {
      "text/markdown": [
       "# Condition 4 of 12"
      ]
     },
     "metadata": {},
     "output_type": "display_data"
    },
    {
     "data": {
      "text/markdown": [
       "`tmin0==0.19 & mode0==\"neg\"`"
      ]
     },
     "metadata": {},
     "output_type": "display_data"
    },
    {
     "data": {
      "text/markdown": [
       "### Table"
      ]
     },
     "metadata": {},
     "output_type": "display_data"
    },
    {
     "data": {
      "text/html": [
       "<table>\n",
       "<caption>A apa_results_table: 3 × 7</caption>\n",
       "<thead>\n",
       "\t<tr><th></th><th scope=col>Effect</th><th scope=col>F</th><th scope=col>df1</th><th scope=col>df2</th><th scope=col>MSE</th><th scope=col>p</th><th scope=col>ges</th></tr>\n",
       "\t<tr><th></th><th scope=col>&lt;ppj_lbll&gt;</th><th scope=col>&lt;ppj_lbll&gt;</th><th scope=col>&lt;ppj_lbll&gt;</th><th scope=col>&lt;ppj_lbll&gt;</th><th scope=col>&lt;ppj_lbll&gt;</th><th scope=col>&lt;ppj_lbll&gt;</th><th scope=col>&lt;ppj_lbll&gt;</th></tr>\n",
       "</thead>\n",
       "<tbody>\n",
       "\t<tr><th scope=row>1</th><td>Cond0                </td><td>2.60 </td><td>1.99</td><td>81.43 </td><td>0.36 </td><td>.081  </td><td>.001</td></tr>\n",
       "\t<tr><th scope=row>2</th><td><span style=white-space:pre-wrap>Chan0                </span></td><td>11.47</td><td>2.00</td><td>81.90 </td><td>22.79</td><td>&lt; .001</td><td>.176</td></tr>\n",
       "\t<tr><th scope=row>3</th><td>Cond0 $\\times$ Chan0</td><td>3.05 </td><td>6.18</td><td>253.30</td><td>0.45 </td><td>.006  </td><td>.003</td></tr>\n",
       "</tbody>\n",
       "</table>\n"
      ],
      "text/latex": [
       "A apa\\_results\\_table: 3 × 7\n",
       "\\begin{tabular}{r|lllllll}\n",
       "  & Effect & F & df1 & df2 & MSE & p & ges\\\\\n",
       "  & <ppj\\_lbll> & <ppj\\_lbll> & <ppj\\_lbll> & <ppj\\_lbll> & <ppj\\_lbll> & <ppj\\_lbll> & <ppj\\_lbll>\\\\\n",
       "\\hline\n",
       "\t1 & Cond0                 & 2.60  & 1.99 & 81.43  & 0.36  & .081   & .001\\\\\n",
       "\t2 & Chan0                 & 11.47 & 2.00 & 81.90  & 22.79 & < .001 & .176\\\\\n",
       "\t3 & Cond0 \\$\\textbackslash{}times\\$ Chan0 & 3.05  & 6.18 & 253.30 & 0.45  & .006   & .003\\\\\n",
       "\\end{tabular}\n"
      ],
      "text/markdown": [
       "\n",
       "A apa_results_table: 3 × 7\n",
       "\n",
       "| <!--/--> | Effect &lt;ppj_lbll&gt; | F &lt;ppj_lbll&gt; | df1 &lt;ppj_lbll&gt; | df2 &lt;ppj_lbll&gt; | MSE &lt;ppj_lbll&gt; | p &lt;ppj_lbll&gt; | ges &lt;ppj_lbll&gt; |\n",
       "|---|---|---|---|---|---|---|---|\n",
       "| 1 | Cond0                 | 2.60  | 1.99 | 81.43  | 0.36  | .081   | .001 |\n",
       "| 2 | Chan0                 | 11.47 | 2.00 | 81.90  | 22.79 | &lt; .001 | .176 |\n",
       "| 3 | Cond0 $\\times$ Chan0 | 3.05  | 6.18 | 253.30 | 0.45  | .006   | .003 |\n",
       "\n"
      ],
      "text/plain": [
       "  Effect                F     df1  df2    MSE   p      ges \n",
       "1 Cond0                 2.60  1.99 81.43  0.36  .081   .001\n",
       "2 Chan0                 11.47 2.00 81.90  22.79 < .001 .176\n",
       "3 Cond0 $\\\\times$ Chan0 3.05  6.18 253.30 0.45  .006   .003"
      ]
     },
     "metadata": {},
     "output_type": "display_data"
    },
    {
     "data": {
      "text/markdown": [
       "### Result"
      ]
     },
     "metadata": {},
     "output_type": "display_data"
    },
    {
     "data": {
      "text/markdown": [
       "$F(1.99, 81.43) = 2.60$, $\\mathit{MSE} = 0.36$, $p = .081$, $\\hat{\\eta}^2_G = .001$"
      ]
     },
     "metadata": {},
     "output_type": "display_data"
    },
    {
     "data": {
      "text/markdown": [
       "### Summary (all done1, incl. NANs)"
      ]
     },
     "metadata": {},
     "output_type": "display_data"
    },
    {
     "data": {
      "text/html": [
       "<table>\n",
       "<caption>A tibble: 3 × 5</caption>\n",
       "<thead>\n",
       "\t<tr><th scope=col>cond0</th><th scope=col>N</th><th scope=col>valX_M</th><th scope=col>valX_SD</th><th scope=col>valX_SE</th></tr>\n",
       "\t<tr><th scope=col>&lt;fct&gt;</th><th scope=col>&lt;int&gt;</th><th scope=col>&lt;dbl&gt;</th><th scope=col>&lt;dbl&gt;</th><th scope=col>&lt;dbl&gt;</th></tr>\n",
       "</thead>\n",
       "<tbody>\n",
       "\t<tr><td>noun_F</td><td>252</td><td>-1.401727</td><td>1.977839</td><td>0.1245922</td></tr>\n",
       "\t<tr><td>noun_M</td><td>252</td><td>-1.424256</td><td>2.024073</td><td>0.1275046</td></tr>\n",
       "\t<tr><td>verb_X</td><td>252</td><td>-1.309952</td><td>1.960087</td><td>0.1234739</td></tr>\n",
       "</tbody>\n",
       "</table>\n"
      ],
      "text/latex": [
       "A tibble: 3 × 5\n",
       "\\begin{tabular}{lllll}\n",
       " cond0 & N & valX\\_M & valX\\_SD & valX\\_SE\\\\\n",
       " <fct> & <int> & <dbl> & <dbl> & <dbl>\\\\\n",
       "\\hline\n",
       "\t noun\\_F & 252 & -1.401727 & 1.977839 & 0.1245922\\\\\n",
       "\t noun\\_M & 252 & -1.424256 & 2.024073 & 0.1275046\\\\\n",
       "\t verb\\_X & 252 & -1.309952 & 1.960087 & 0.1234739\\\\\n",
       "\\end{tabular}\n"
      ],
      "text/markdown": [
       "\n",
       "A tibble: 3 × 5\n",
       "\n",
       "| cond0 &lt;fct&gt; | N &lt;int&gt; | valX_M &lt;dbl&gt; | valX_SD &lt;dbl&gt; | valX_SE &lt;dbl&gt; |\n",
       "|---|---|---|---|---|\n",
       "| noun_F | 252 | -1.401727 | 1.977839 | 0.1245922 |\n",
       "| noun_M | 252 | -1.424256 | 2.024073 | 0.1275046 |\n",
       "| verb_X | 252 | -1.309952 | 1.960087 | 0.1234739 |\n",
       "\n"
      ],
      "text/plain": [
       "  cond0  N   valX_M    valX_SD  valX_SE  \n",
       "1 noun_F 252 -1.401727 1.977839 0.1245922\n",
       "2 noun_M 252 -1.424256 2.024073 0.1275046\n",
       "3 verb_X 252 -1.309952 1.960087 0.1234739"
      ]
     },
     "metadata": {},
     "output_type": "display_data"
    },
    {
     "data": {
      "text/markdown": [
       "### Expected marginal means"
      ]
     },
     "metadata": {},
     "output_type": "display_data"
    },
    {
     "data": {
      "text/html": [
       "<table>\n",
       "<caption>A apa_results_table: 18 × 6</caption>\n",
       "<thead>\n",
       "\t<tr><th></th><th scope=col>chan0</th><th scope=col>cond0</th><th scope=col>estimate</th><th scope=col>ci</th><th scope=col>statistic</th><th scope=col>p.value</th></tr>\n",
       "\t<tr><th></th><th scope=col>&lt;chr&gt;</th><th scope=col>&lt;chr&gt;</th><th scope=col>&lt;ppj_lbll&gt;</th><th scope=col>&lt;ppj_lbll&gt;</th><th scope=col>&lt;ppj_lbll&gt;</th><th scope=col>&lt;ppj_lbll&gt;</th></tr>\n",
       "</thead>\n",
       "<tbody>\n",
       "\t<tr><th scope=row>noun_F_LC</th><td>LC</td><td>noun_F</td><td>-0.51</td><td>$[-1.06$, $0.04]$ </td><td>-1.81 </td><td>.071  </td></tr>\n",
       "\t<tr><th scope=row>noun_M_LC</th><td>  </td><td>noun_M</td><td>-0.66</td><td>$[-1.21$, $-0.11]$</td><td>-2.35 </td><td>.020  </td></tr>\n",
       "\t<tr><th scope=row>verb_X_LC</th><td>  </td><td>verb_X</td><td>-0.44</td><td>$[-0.99$, $0.12]$ </td><td>-1.55 </td><td>.122  </td></tr>\n",
       "\t<tr><th scope=row>noun_F_LF</th><td>LF</td><td>noun_F</td><td>-1.78</td><td>$[-2.33$, $-1.22]$</td><td>-6.32 </td><td>&lt; .001</td></tr>\n",
       "\t<tr><th scope=row>noun_M_LF</th><td><span style=white-space:pre-wrap>  </span></td><td>noun_M</td><td>-1.84</td><td>$[-2.40$, $-1.29]$</td><td>-6.57 </td><td>&lt; .001</td></tr>\n",
       "\t<tr><th scope=row>verb_X_LF</th><td><span style=white-space:pre-wrap>  </span></td><td>verb_X</td><td>-1.79</td><td>$[-2.35$, $-1.24]$</td><td>-6.39 </td><td>&lt; .001</td></tr>\n",
       "\t<tr><th scope=row>noun_F_LP</th><td>LP</td><td>noun_F</td><td>-2.23</td><td>$[-2.79$, $-1.68]$</td><td>-7.96 </td><td>&lt; .001</td></tr>\n",
       "\t<tr><th scope=row>noun_M_LP</th><td><span style=white-space:pre-wrap>  </span></td><td>noun_M</td><td>-1.88</td><td>$[-2.44$, $-1.33]$</td><td>-6.71 </td><td>&lt; .001</td></tr>\n",
       "\t<tr><th scope=row>verb_X_LP</th><td><span style=white-space:pre-wrap>  </span></td><td>verb_X</td><td>-2.10</td><td>$[-2.66$, $-1.55]$</td><td>-7.50 </td><td>&lt; .001</td></tr>\n",
       "\t<tr><th scope=row>noun_F_RC</th><td>RC</td><td>noun_F</td><td>-0.73</td><td>$[-1.28$, $-0.18]$</td><td>-2.60 </td><td>.010  </td></tr>\n",
       "\t<tr><th scope=row>noun_M_RC</th><td>  </td><td>noun_M</td><td>-0.86</td><td>$[-1.41$, $-0.31]$</td><td>-3.06 </td><td>.002  </td></tr>\n",
       "\t<tr><th scope=row>verb_X_RC</th><td>  </td><td>verb_X</td><td>-0.63</td><td>$[-1.18$, $-0.08]$</td><td>-2.24 </td><td>.026  </td></tr>\n",
       "\t<tr><th scope=row>noun_F_RF</th><td>RF</td><td>noun_F</td><td>-2.54</td><td>$[-3.09$, $-1.99]$</td><td>-9.04 </td><td>&lt; .001</td></tr>\n",
       "\t<tr><th scope=row>noun_M_RF</th><td><span style=white-space:pre-wrap>  </span></td><td>noun_M</td><td>-2.89</td><td>$[-3.44$, $-2.33]$</td><td>-10.28</td><td>&lt; .001</td></tr>\n",
       "\t<tr><th scope=row>verb_X_RF</th><td><span style=white-space:pre-wrap>  </span></td><td>verb_X</td><td>-2.46</td><td>$[-3.02$, $-1.91]$</td><td>-8.77 </td><td>&lt; .001</td></tr>\n",
       "\t<tr><th scope=row>noun_F_RP</th><td>RP</td><td>noun_F</td><td>-0.62</td><td>$[-1.17$, $-0.07]$</td><td>-2.21 </td><td>.028  </td></tr>\n",
       "\t<tr><th scope=row>noun_M_RP</th><td>  </td><td>noun_M</td><td>-0.41</td><td>$[-0.96$, $0.14]$ </td><td>-1.46 </td><td>.145  </td></tr>\n",
       "\t<tr><th scope=row>verb_X_RP</th><td>  </td><td>verb_X</td><td>-0.43</td><td>$[-0.99$, $0.12]$ </td><td>-1.54 </td><td>.124  </td></tr>\n",
       "</tbody>\n",
       "</table>\n"
      ],
      "text/latex": [
       "A apa\\_results\\_table: 18 × 6\n",
       "\\begin{tabular}{r|llllll}\n",
       "  & chan0 & cond0 & estimate & ci & statistic & p.value\\\\\n",
       "  & <chr> & <chr> & <ppj\\_lbll> & <ppj\\_lbll> & <ppj\\_lbll> & <ppj\\_lbll>\\\\\n",
       "\\hline\n",
       "\tnoun\\_F\\_LC & LC & noun\\_F & -0.51 & \\${[}-1.06\\$, \\$0.04{]}\\$  & -1.81  & .071  \\\\\n",
       "\tnoun\\_M\\_LC &    & noun\\_M & -0.66 & \\${[}-1.21\\$, \\$-0.11{]}\\$ & -2.35  & .020  \\\\\n",
       "\tverb\\_X\\_LC &    & verb\\_X & -0.44 & \\${[}-0.99\\$, \\$0.12{]}\\$  & -1.55  & .122  \\\\\n",
       "\tnoun\\_F\\_LF & LF & noun\\_F & -1.78 & \\${[}-2.33\\$, \\$-1.22{]}\\$ & -6.32  & < .001\\\\\n",
       "\tnoun\\_M\\_LF &    & noun\\_M & -1.84 & \\${[}-2.40\\$, \\$-1.29{]}\\$ & -6.57  & < .001\\\\\n",
       "\tverb\\_X\\_LF &    & verb\\_X & -1.79 & \\${[}-2.35\\$, \\$-1.24{]}\\$ & -6.39  & < .001\\\\\n",
       "\tnoun\\_F\\_LP & LP & noun\\_F & -2.23 & \\${[}-2.79\\$, \\$-1.68{]}\\$ & -7.96  & < .001\\\\\n",
       "\tnoun\\_M\\_LP &    & noun\\_M & -1.88 & \\${[}-2.44\\$, \\$-1.33{]}\\$ & -6.71  & < .001\\\\\n",
       "\tverb\\_X\\_LP &    & verb\\_X & -2.10 & \\${[}-2.66\\$, \\$-1.55{]}\\$ & -7.50  & < .001\\\\\n",
       "\tnoun\\_F\\_RC & RC & noun\\_F & -0.73 & \\${[}-1.28\\$, \\$-0.18{]}\\$ & -2.60  & .010  \\\\\n",
       "\tnoun\\_M\\_RC &    & noun\\_M & -0.86 & \\${[}-1.41\\$, \\$-0.31{]}\\$ & -3.06  & .002  \\\\\n",
       "\tverb\\_X\\_RC &    & verb\\_X & -0.63 & \\${[}-1.18\\$, \\$-0.08{]}\\$ & -2.24  & .026  \\\\\n",
       "\tnoun\\_F\\_RF & RF & noun\\_F & -2.54 & \\${[}-3.09\\$, \\$-1.99{]}\\$ & -9.04  & < .001\\\\\n",
       "\tnoun\\_M\\_RF &    & noun\\_M & -2.89 & \\${[}-3.44\\$, \\$-2.33{]}\\$ & -10.28 & < .001\\\\\n",
       "\tverb\\_X\\_RF &    & verb\\_X & -2.46 & \\${[}-3.02\\$, \\$-1.91{]}\\$ & -8.77  & < .001\\\\\n",
       "\tnoun\\_F\\_RP & RP & noun\\_F & -0.62 & \\${[}-1.17\\$, \\$-0.07{]}\\$ & -2.21  & .028  \\\\\n",
       "\tnoun\\_M\\_RP &    & noun\\_M & -0.41 & \\${[}-0.96\\$, \\$0.14{]}\\$  & -1.46  & .145  \\\\\n",
       "\tverb\\_X\\_RP &    & verb\\_X & -0.43 & \\${[}-0.99\\$, \\$0.12{]}\\$  & -1.54  & .124  \\\\\n",
       "\\end{tabular}\n"
      ],
      "text/markdown": [
       "\n",
       "A apa_results_table: 18 × 6\n",
       "\n",
       "| <!--/--> | chan0 &lt;chr&gt; | cond0 &lt;chr&gt; | estimate &lt;ppj_lbll&gt; | ci &lt;ppj_lbll&gt; | statistic &lt;ppj_lbll&gt; | p.value &lt;ppj_lbll&gt; |\n",
       "|---|---|---|---|---|---|---|\n",
       "| noun_F_LC | LC | noun_F | -0.51 | $[-1.06$, $0.04]$  | -1.81  | .071   |\n",
       "| noun_M_LC | <!----> | noun_M | -0.66 | $[-1.21$, $-0.11]$ | -2.35  | .020   |\n",
       "| verb_X_LC | <!----> | verb_X | -0.44 | $[-0.99$, $0.12]$  | -1.55  | .122   |\n",
       "| noun_F_LF | LF | noun_F | -1.78 | $[-2.33$, $-1.22]$ | -6.32  | &lt; .001 |\n",
       "| noun_M_LF | <!----> | noun_M | -1.84 | $[-2.40$, $-1.29]$ | -6.57  | &lt; .001 |\n",
       "| verb_X_LF | <!----> | verb_X | -1.79 | $[-2.35$, $-1.24]$ | -6.39  | &lt; .001 |\n",
       "| noun_F_LP | LP | noun_F | -2.23 | $[-2.79$, $-1.68]$ | -7.96  | &lt; .001 |\n",
       "| noun_M_LP | <!----> | noun_M | -1.88 | $[-2.44$, $-1.33]$ | -6.71  | &lt; .001 |\n",
       "| verb_X_LP | <!----> | verb_X | -2.10 | $[-2.66$, $-1.55]$ | -7.50  | &lt; .001 |\n",
       "| noun_F_RC | RC | noun_F | -0.73 | $[-1.28$, $-0.18]$ | -2.60  | .010   |\n",
       "| noun_M_RC | <!----> | noun_M | -0.86 | $[-1.41$, $-0.31]$ | -3.06  | .002   |\n",
       "| verb_X_RC | <!----> | verb_X | -0.63 | $[-1.18$, $-0.08]$ | -2.24  | .026   |\n",
       "| noun_F_RF | RF | noun_F | -2.54 | $[-3.09$, $-1.99]$ | -9.04  | &lt; .001 |\n",
       "| noun_M_RF | <!----> | noun_M | -2.89 | $[-3.44$, $-2.33]$ | -10.28 | &lt; .001 |\n",
       "| verb_X_RF | <!----> | verb_X | -2.46 | $[-3.02$, $-1.91]$ | -8.77  | &lt; .001 |\n",
       "| noun_F_RP | RP | noun_F | -0.62 | $[-1.17$, $-0.07]$ | -2.21  | .028   |\n",
       "| noun_M_RP | <!----> | noun_M | -0.41 | $[-0.96$, $0.14]$  | -1.46  | .145   |\n",
       "| verb_X_RP | <!----> | verb_X | -0.43 | $[-0.99$, $0.12]$  | -1.54  | .124   |\n",
       "\n"
      ],
      "text/plain": [
       "          chan0 cond0  estimate ci                 statistic p.value\n",
       "noun_F_LC LC    noun_F -0.51    $[-1.06$, $0.04]$  -1.81     .071   \n",
       "noun_M_LC       noun_M -0.66    $[-1.21$, $-0.11]$ -2.35     .020   \n",
       "verb_X_LC       verb_X -0.44    $[-0.99$, $0.12]$  -1.55     .122   \n",
       "noun_F_LF LF    noun_F -1.78    $[-2.33$, $-1.22]$ -6.32     < .001 \n",
       "noun_M_LF       noun_M -1.84    $[-2.40$, $-1.29]$ -6.57     < .001 \n",
       "verb_X_LF       verb_X -1.79    $[-2.35$, $-1.24]$ -6.39     < .001 \n",
       "noun_F_LP LP    noun_F -2.23    $[-2.79$, $-1.68]$ -7.96     < .001 \n",
       "noun_M_LP       noun_M -1.88    $[-2.44$, $-1.33]$ -6.71     < .001 \n",
       "verb_X_LP       verb_X -2.10    $[-2.66$, $-1.55]$ -7.50     < .001 \n",
       "noun_F_RC RC    noun_F -0.73    $[-1.28$, $-0.18]$ -2.60     .010   \n",
       "noun_M_RC       noun_M -0.86    $[-1.41$, $-0.31]$ -3.06     .002   \n",
       "verb_X_RC       verb_X -0.63    $[-1.18$, $-0.08]$ -2.24     .026   \n",
       "noun_F_RF RF    noun_F -2.54    $[-3.09$, $-1.99]$ -9.04     < .001 \n",
       "noun_M_RF       noun_M -2.89    $[-3.44$, $-2.33]$ -10.28    < .001 \n",
       "verb_X_RF       verb_X -2.46    $[-3.02$, $-1.91]$ -8.77     < .001 \n",
       "noun_F_RP RP    noun_F -0.62    $[-1.17$, $-0.07]$ -2.21     .028   \n",
       "noun_M_RP       noun_M -0.41    $[-0.96$, $0.14]$  -1.46     .145   \n",
       "verb_X_RP       verb_X -0.43    $[-0.99$, $0.12]$  -1.54     .124   "
      ]
     },
     "metadata": {},
     "output_type": "display_data"
    },
    {
     "data": {
      "text/markdown": [
       "### Paired comparisons for expected marginal means"
      ]
     },
     "metadata": {},
     "output_type": "display_data"
    },
    {
     "data": {
      "text/html": [
       "<table>\n",
       "<caption>A apa_results_table: 18 × 6</caption>\n",
       "<thead>\n",
       "\t<tr><th></th><th scope=col>chan0</th><th scope=col>contrast</th><th scope=col>estimate</th><th scope=col>ci</th><th scope=col>statistic</th><th scope=col>p.value</th></tr>\n",
       "\t<tr><th></th><th scope=col>&lt;chr&gt;</th><th scope=col>&lt;ppj_lbll&gt;</th><th scope=col>&lt;ppj_lbll&gt;</th><th scope=col>&lt;ppj_lbll&gt;</th><th scope=col>&lt;ppj_lbll&gt;</th><th scope=col>&lt;ppj_lbll&gt;</th></tr>\n",
       "</thead>\n",
       "<tbody>\n",
       "\t<tr><th scope=row>LC_noun_F_noun_M</th><td>LC</td><td>noun_F - noun_M</td><td>0.15 </td><td>$[-0.13$, $0.43]$ </td><td>1.28 </td><td>.405</td></tr>\n",
       "\t<tr><th scope=row>LC_noun_F_verb_X</th><td>  </td><td>noun_F - verb_X</td><td>-0.07</td><td>$[-0.35$, $0.20]$ </td><td>-0.62</td><td>.809</td></tr>\n",
       "\t<tr><th scope=row>LC_noun_M_verb_X</th><td>  </td><td>noun_M - verb_X</td><td>-0.22</td><td>$[-0.50$, $0.05]$ </td><td>-1.90</td><td>.139</td></tr>\n",
       "\t<tr><th scope=row>LF_noun_F_noun_M</th><td>LF</td><td>noun_F - noun_M</td><td>0.07 </td><td>$[-0.21$, $0.35]$ </td><td>0.59 </td><td>.827</td></tr>\n",
       "\t<tr><th scope=row>LF_noun_F_verb_X</th><td>  </td><td>noun_F - verb_X</td><td>0.02 </td><td>$[-0.26$, $0.29]$ </td><td>0.15 </td><td>.987</td></tr>\n",
       "\t<tr><th scope=row>LF_noun_M_verb_X</th><td>  </td><td>noun_M - verb_X</td><td>-0.05</td><td>$[-0.33$, $0.23]$ </td><td>-0.43</td><td>.901</td></tr>\n",
       "\t<tr><th scope=row>LP_noun_F_noun_M</th><td>LP</td><td>noun_F - noun_M</td><td>-0.35</td><td>$[-0.63$, $-0.07]$</td><td>-2.97</td><td>.009</td></tr>\n",
       "\t<tr><th scope=row>LP_noun_F_verb_X</th><td>  </td><td>noun_F - verb_X</td><td>-0.13</td><td>$[-0.41$, $0.15]$ </td><td>-1.10</td><td>.513</td></tr>\n",
       "\t<tr><th scope=row>LP_noun_M_verb_X</th><td>  </td><td>noun_M - verb_X</td><td>0.22 </td><td>$[-0.06$, $0.50]$ </td><td>1.87 </td><td>.149</td></tr>\n",
       "\t<tr><th scope=row>RC_noun_F_noun_M</th><td>RC</td><td>noun_F - noun_M</td><td>0.13 </td><td>$[-0.15$, $0.41]$ </td><td>1.09 </td><td>.521</td></tr>\n",
       "\t<tr><th scope=row>RC_noun_F_verb_X</th><td>  </td><td>noun_F - verb_X</td><td>-0.10</td><td>$[-0.38$, $0.18]$ </td><td>-0.86</td><td>.663</td></tr>\n",
       "\t<tr><th scope=row>RC_noun_M_verb_X</th><td>  </td><td>noun_M - verb_X</td><td>-0.23</td><td>$[-0.51$, $0.05]$ </td><td>-1.95</td><td>.125</td></tr>\n",
       "\t<tr><th scope=row>RF_noun_F_noun_M</th><td>RF</td><td>noun_F - noun_M</td><td>0.35 </td><td>$[0.07$, $0.62]$  </td><td>2.94 </td><td>.010</td></tr>\n",
       "\t<tr><th scope=row>RF_noun_F_verb_X</th><td>  </td><td>noun_F - verb_X</td><td>-0.08</td><td>$[-0.35$, $0.20]$ </td><td>-0.65</td><td>.790</td></tr>\n",
       "\t<tr><th scope=row>RF_noun_M_verb_X</th><td>  </td><td>noun_M - verb_X</td><td>-0.42</td><td>$[-0.70$, $-0.15]$</td><td>-3.60</td><td>.001</td></tr>\n",
       "\t<tr><th scope=row>RP_noun_F_noun_M</th><td>RP</td><td>noun_F - noun_M</td><td>-0.21</td><td>$[-0.49$, $0.07]$ </td><td>-1.78</td><td>.177</td></tr>\n",
       "\t<tr><th scope=row>RP_noun_F_verb_X</th><td>  </td><td>noun_F - verb_X</td><td>-0.19</td><td>$[-0.46$, $0.09]$ </td><td>-1.59</td><td>.252</td></tr>\n",
       "\t<tr><th scope=row>RP_noun_M_verb_X</th><td>  </td><td>noun_M - verb_X</td><td>0.02 </td><td>$[-0.25$, $0.30]$ </td><td>0.19 </td><td>.980</td></tr>\n",
       "</tbody>\n",
       "</table>\n"
      ],
      "text/latex": [
       "A apa\\_results\\_table: 18 × 6\n",
       "\\begin{tabular}{r|llllll}\n",
       "  & chan0 & contrast & estimate & ci & statistic & p.value\\\\\n",
       "  & <chr> & <ppj\\_lbll> & <ppj\\_lbll> & <ppj\\_lbll> & <ppj\\_lbll> & <ppj\\_lbll>\\\\\n",
       "\\hline\n",
       "\tLC\\_noun\\_F\\_noun\\_M & LC & noun\\_F - noun\\_M & 0.15  & \\${[}-0.13\\$, \\$0.43{]}\\$  & 1.28  & .405\\\\\n",
       "\tLC\\_noun\\_F\\_verb\\_X &    & noun\\_F - verb\\_X & -0.07 & \\${[}-0.35\\$, \\$0.20{]}\\$  & -0.62 & .809\\\\\n",
       "\tLC\\_noun\\_M\\_verb\\_X &    & noun\\_M - verb\\_X & -0.22 & \\${[}-0.50\\$, \\$0.05{]}\\$  & -1.90 & .139\\\\\n",
       "\tLF\\_noun\\_F\\_noun\\_M & LF & noun\\_F - noun\\_M & 0.07  & \\${[}-0.21\\$, \\$0.35{]}\\$  & 0.59  & .827\\\\\n",
       "\tLF\\_noun\\_F\\_verb\\_X &    & noun\\_F - verb\\_X & 0.02  & \\${[}-0.26\\$, \\$0.29{]}\\$  & 0.15  & .987\\\\\n",
       "\tLF\\_noun\\_M\\_verb\\_X &    & noun\\_M - verb\\_X & -0.05 & \\${[}-0.33\\$, \\$0.23{]}\\$  & -0.43 & .901\\\\\n",
       "\tLP\\_noun\\_F\\_noun\\_M & LP & noun\\_F - noun\\_M & -0.35 & \\${[}-0.63\\$, \\$-0.07{]}\\$ & -2.97 & .009\\\\\n",
       "\tLP\\_noun\\_F\\_verb\\_X &    & noun\\_F - verb\\_X & -0.13 & \\${[}-0.41\\$, \\$0.15{]}\\$  & -1.10 & .513\\\\\n",
       "\tLP\\_noun\\_M\\_verb\\_X &    & noun\\_M - verb\\_X & 0.22  & \\${[}-0.06\\$, \\$0.50{]}\\$  & 1.87  & .149\\\\\n",
       "\tRC\\_noun\\_F\\_noun\\_M & RC & noun\\_F - noun\\_M & 0.13  & \\${[}-0.15\\$, \\$0.41{]}\\$  & 1.09  & .521\\\\\n",
       "\tRC\\_noun\\_F\\_verb\\_X &    & noun\\_F - verb\\_X & -0.10 & \\${[}-0.38\\$, \\$0.18{]}\\$  & -0.86 & .663\\\\\n",
       "\tRC\\_noun\\_M\\_verb\\_X &    & noun\\_M - verb\\_X & -0.23 & \\${[}-0.51\\$, \\$0.05{]}\\$  & -1.95 & .125\\\\\n",
       "\tRF\\_noun\\_F\\_noun\\_M & RF & noun\\_F - noun\\_M & 0.35  & \\${[}0.07\\$, \\$0.62{]}\\$   & 2.94  & .010\\\\\n",
       "\tRF\\_noun\\_F\\_verb\\_X &    & noun\\_F - verb\\_X & -0.08 & \\${[}-0.35\\$, \\$0.20{]}\\$  & -0.65 & .790\\\\\n",
       "\tRF\\_noun\\_M\\_verb\\_X &    & noun\\_M - verb\\_X & -0.42 & \\${[}-0.70\\$, \\$-0.15{]}\\$ & -3.60 & .001\\\\\n",
       "\tRP\\_noun\\_F\\_noun\\_M & RP & noun\\_F - noun\\_M & -0.21 & \\${[}-0.49\\$, \\$0.07{]}\\$  & -1.78 & .177\\\\\n",
       "\tRP\\_noun\\_F\\_verb\\_X &    & noun\\_F - verb\\_X & -0.19 & \\${[}-0.46\\$, \\$0.09{]}\\$  & -1.59 & .252\\\\\n",
       "\tRP\\_noun\\_M\\_verb\\_X &    & noun\\_M - verb\\_X & 0.02  & \\${[}-0.25\\$, \\$0.30{]}\\$  & 0.19  & .980\\\\\n",
       "\\end{tabular}\n"
      ],
      "text/markdown": [
       "\n",
       "A apa_results_table: 18 × 6\n",
       "\n",
       "| <!--/--> | chan0 &lt;chr&gt; | contrast &lt;ppj_lbll&gt; | estimate &lt;ppj_lbll&gt; | ci &lt;ppj_lbll&gt; | statistic &lt;ppj_lbll&gt; | p.value &lt;ppj_lbll&gt; |\n",
       "|---|---|---|---|---|---|---|\n",
       "| LC_noun_F_noun_M | LC | noun_F - noun_M | 0.15  | $[-0.13$, $0.43]$  | 1.28  | .405 |\n",
       "| LC_noun_F_verb_X | <!----> | noun_F - verb_X | -0.07 | $[-0.35$, $0.20]$  | -0.62 | .809 |\n",
       "| LC_noun_M_verb_X | <!----> | noun_M - verb_X | -0.22 | $[-0.50$, $0.05]$  | -1.90 | .139 |\n",
       "| LF_noun_F_noun_M | LF | noun_F - noun_M | 0.07  | $[-0.21$, $0.35]$  | 0.59  | .827 |\n",
       "| LF_noun_F_verb_X | <!----> | noun_F - verb_X | 0.02  | $[-0.26$, $0.29]$  | 0.15  | .987 |\n",
       "| LF_noun_M_verb_X | <!----> | noun_M - verb_X | -0.05 | $[-0.33$, $0.23]$  | -0.43 | .901 |\n",
       "| LP_noun_F_noun_M | LP | noun_F - noun_M | -0.35 | $[-0.63$, $-0.07]$ | -2.97 | .009 |\n",
       "| LP_noun_F_verb_X | <!----> | noun_F - verb_X | -0.13 | $[-0.41$, $0.15]$  | -1.10 | .513 |\n",
       "| LP_noun_M_verb_X | <!----> | noun_M - verb_X | 0.22  | $[-0.06$, $0.50]$  | 1.87  | .149 |\n",
       "| RC_noun_F_noun_M | RC | noun_F - noun_M | 0.13  | $[-0.15$, $0.41]$  | 1.09  | .521 |\n",
       "| RC_noun_F_verb_X | <!----> | noun_F - verb_X | -0.10 | $[-0.38$, $0.18]$  | -0.86 | .663 |\n",
       "| RC_noun_M_verb_X | <!----> | noun_M - verb_X | -0.23 | $[-0.51$, $0.05]$  | -1.95 | .125 |\n",
       "| RF_noun_F_noun_M | RF | noun_F - noun_M | 0.35  | $[0.07$, $0.62]$   | 2.94  | .010 |\n",
       "| RF_noun_F_verb_X | <!----> | noun_F - verb_X | -0.08 | $[-0.35$, $0.20]$  | -0.65 | .790 |\n",
       "| RF_noun_M_verb_X | <!----> | noun_M - verb_X | -0.42 | $[-0.70$, $-0.15]$ | -3.60 | .001 |\n",
       "| RP_noun_F_noun_M | RP | noun_F - noun_M | -0.21 | $[-0.49$, $0.07]$  | -1.78 | .177 |\n",
       "| RP_noun_F_verb_X | <!----> | noun_F - verb_X | -0.19 | $[-0.46$, $0.09]$  | -1.59 | .252 |\n",
       "| RP_noun_M_verb_X | <!----> | noun_M - verb_X | 0.02  | $[-0.25$, $0.30]$  | 0.19  | .980 |\n",
       "\n"
      ],
      "text/plain": [
       "                 chan0 contrast        estimate ci                 statistic p.value\n",
       "LC_noun_F_noun_M LC    noun_F - noun_M 0.15     $[-0.13$, $0.43]$  1.28      .405   \n",
       "LC_noun_F_verb_X       noun_F - verb_X -0.07    $[-0.35$, $0.20]$  -0.62     .809   \n",
       "LC_noun_M_verb_X       noun_M - verb_X -0.22    $[-0.50$, $0.05]$  -1.90     .139   \n",
       "LF_noun_F_noun_M LF    noun_F - noun_M 0.07     $[-0.21$, $0.35]$  0.59      .827   \n",
       "LF_noun_F_verb_X       noun_F - verb_X 0.02     $[-0.26$, $0.29]$  0.15      .987   \n",
       "LF_noun_M_verb_X       noun_M - verb_X -0.05    $[-0.33$, $0.23]$  -0.43     .901   \n",
       "LP_noun_F_noun_M LP    noun_F - noun_M -0.35    $[-0.63$, $-0.07]$ -2.97     .009   \n",
       "LP_noun_F_verb_X       noun_F - verb_X -0.13    $[-0.41$, $0.15]$  -1.10     .513   \n",
       "LP_noun_M_verb_X       noun_M - verb_X 0.22     $[-0.06$, $0.50]$  1.87      .149   \n",
       "RC_noun_F_noun_M RC    noun_F - noun_M 0.13     $[-0.15$, $0.41]$  1.09      .521   \n",
       "RC_noun_F_verb_X       noun_F - verb_X -0.10    $[-0.38$, $0.18]$  -0.86     .663   \n",
       "RC_noun_M_verb_X       noun_M - verb_X -0.23    $[-0.51$, $0.05]$  -1.95     .125   \n",
       "RF_noun_F_noun_M RF    noun_F - noun_M 0.35     $[0.07$, $0.62]$   2.94      .010   \n",
       "RF_noun_F_verb_X       noun_F - verb_X -0.08    $[-0.35$, $0.20]$  -0.65     .790   \n",
       "RF_noun_M_verb_X       noun_M - verb_X -0.42    $[-0.70$, $-0.15]$ -3.60     .001   \n",
       "RP_noun_F_noun_M RP    noun_F - noun_M -0.21    $[-0.49$, $0.07]$  -1.78     .177   \n",
       "RP_noun_F_verb_X       noun_F - verb_X -0.19    $[-0.46$, $0.09]$  -1.59     .252   \n",
       "RP_noun_M_verb_X       noun_M - verb_X 0.02     $[-0.25$, $0.30]$  0.19      .980   "
      ]
     },
     "metadata": {},
     "output_type": "display_data"
    }
   ],
   "source": [
    "IDX <- IDX+1; COND <- CONDS[IDX]\n",
    "data1 <- droplevels(subset(df1, eval(parse(text=COND)))); data1 <- data1[complete.cases(data1),]; done1 <- AOV4(data1,COND)\n",
    "display_markdown(str_c(\"# Condition \",IDX,\" of \",length(CONDS))); display_markdown(done1$info); display_markdown(\"### Table\"); done1$aov_APA$table; display_markdown(\"### Result\"); display_markdown(done1$aov_APA[[\"full_result\"]][[\"cond0\"]]); display_markdown(\"### Summary (all done1, incl. NANs)\"); done1$summary; display_markdown(\"### Expected marginal means\"); done1$emm_APA$table; display_markdown(\"### Paired comparisons for expected marginal means\"); done1$pairs_APA$table"
   ]
  },
  {
   "cell_type": "code",
   "execution_count": 23,
   "metadata": {
    "scrolled": true
   },
   "outputs": [
    {
     "data": {
      "text/markdown": [
       "# Condition 5 of 12"
      ]
     },
     "metadata": {},
     "output_type": "display_data"
    },
    {
     "data": {
      "text/markdown": [
       "`tmin0==0.35 & mode0==\"pos\"`"
      ]
     },
     "metadata": {},
     "output_type": "display_data"
    },
    {
     "data": {
      "text/markdown": [
       "### Table"
      ]
     },
     "metadata": {},
     "output_type": "display_data"
    },
    {
     "data": {
      "text/html": [
       "<table>\n",
       "<caption>A apa_results_table: 3 × 7</caption>\n",
       "<thead>\n",
       "\t<tr><th></th><th scope=col>Effect</th><th scope=col>F</th><th scope=col>df1</th><th scope=col>df2</th><th scope=col>MSE</th><th scope=col>p</th><th scope=col>ges</th></tr>\n",
       "\t<tr><th></th><th scope=col>&lt;ppj_lbll&gt;</th><th scope=col>&lt;ppj_lbll&gt;</th><th scope=col>&lt;ppj_lbll&gt;</th><th scope=col>&lt;ppj_lbll&gt;</th><th scope=col>&lt;ppj_lbll&gt;</th><th scope=col>&lt;ppj_lbll&gt;</th><th scope=col>&lt;ppj_lbll&gt;</th></tr>\n",
       "</thead>\n",
       "<tbody>\n",
       "\t<tr><th scope=row>1</th><td>Cond0                </td><td>3.10 </td><td>1.85</td><td>75.70 </td><td>0.35 </td><td>.055  </td><td>.001</td></tr>\n",
       "\t<tr><th scope=row>2</th><td><span style=white-space:pre-wrap>Chan0                </span></td><td>73.46</td><td>2.40</td><td>98.51 </td><td>20.13</td><td>&lt; .001</td><td>.603</td></tr>\n",
       "\t<tr><th scope=row>3</th><td>Cond0 $\\times$ Chan0</td><td>1.93 </td><td>4.76</td><td>195.08</td><td>0.80 </td><td>.094  </td><td>.003</td></tr>\n",
       "</tbody>\n",
       "</table>\n"
      ],
      "text/latex": [
       "A apa\\_results\\_table: 3 × 7\n",
       "\\begin{tabular}{r|lllllll}\n",
       "  & Effect & F & df1 & df2 & MSE & p & ges\\\\\n",
       "  & <ppj\\_lbll> & <ppj\\_lbll> & <ppj\\_lbll> & <ppj\\_lbll> & <ppj\\_lbll> & <ppj\\_lbll> & <ppj\\_lbll>\\\\\n",
       "\\hline\n",
       "\t1 & Cond0                 & 3.10  & 1.85 & 75.70  & 0.35  & .055   & .001\\\\\n",
       "\t2 & Chan0                 & 73.46 & 2.40 & 98.51  & 20.13 & < .001 & .603\\\\\n",
       "\t3 & Cond0 \\$\\textbackslash{}times\\$ Chan0 & 1.93  & 4.76 & 195.08 & 0.80  & .094   & .003\\\\\n",
       "\\end{tabular}\n"
      ],
      "text/markdown": [
       "\n",
       "A apa_results_table: 3 × 7\n",
       "\n",
       "| <!--/--> | Effect &lt;ppj_lbll&gt; | F &lt;ppj_lbll&gt; | df1 &lt;ppj_lbll&gt; | df2 &lt;ppj_lbll&gt; | MSE &lt;ppj_lbll&gt; | p &lt;ppj_lbll&gt; | ges &lt;ppj_lbll&gt; |\n",
       "|---|---|---|---|---|---|---|---|\n",
       "| 1 | Cond0                 | 3.10  | 1.85 | 75.70  | 0.35  | .055   | .001 |\n",
       "| 2 | Chan0                 | 73.46 | 2.40 | 98.51  | 20.13 | &lt; .001 | .603 |\n",
       "| 3 | Cond0 $\\times$ Chan0 | 1.93  | 4.76 | 195.08 | 0.80  | .094   | .003 |\n",
       "\n"
      ],
      "text/plain": [
       "  Effect                F     df1  df2    MSE   p      ges \n",
       "1 Cond0                 3.10  1.85 75.70  0.35  .055   .001\n",
       "2 Chan0                 73.46 2.40 98.51  20.13 < .001 .603\n",
       "3 Cond0 $\\\\times$ Chan0 1.93  4.76 195.08 0.80  .094   .003"
      ]
     },
     "metadata": {},
     "output_type": "display_data"
    },
    {
     "data": {
      "text/markdown": [
       "### Result"
      ]
     },
     "metadata": {},
     "output_type": "display_data"
    },
    {
     "data": {
      "text/markdown": [
       "$F(1.85, 75.70) = 3.10$, $\\mathit{MSE} = 0.35$, $p = .055$, $\\hat{\\eta}^2_G = .001$"
      ]
     },
     "metadata": {},
     "output_type": "display_data"
    },
    {
     "data": {
      "text/markdown": [
       "### Summary (all done1, incl. NANs)"
      ]
     },
     "metadata": {},
     "output_type": "display_data"
    },
    {
     "data": {
      "text/html": [
       "<table>\n",
       "<caption>A tibble: 3 × 5</caption>\n",
       "<thead>\n",
       "\t<tr><th scope=col>cond0</th><th scope=col>N</th><th scope=col>valX_M</th><th scope=col>valX_SD</th><th scope=col>valX_SE</th></tr>\n",
       "\t<tr><th scope=col>&lt;fct&gt;</th><th scope=col>&lt;int&gt;</th><th scope=col>&lt;dbl&gt;</th><th scope=col>&lt;dbl&gt;</th><th scope=col>&lt;dbl&gt;</th></tr>\n",
       "</thead>\n",
       "<tbody>\n",
       "\t<tr><td>noun_F</td><td>252</td><td>1.386136</td><td>2.801570</td><td>0.1764823</td></tr>\n",
       "\t<tr><td>noun_M</td><td>252</td><td>1.328305</td><td>2.807033</td><td>0.1768265</td></tr>\n",
       "\t<tr><td>verb_X</td><td>252</td><td>1.259814</td><td>2.792640</td><td>0.1759198</td></tr>\n",
       "</tbody>\n",
       "</table>\n"
      ],
      "text/latex": [
       "A tibble: 3 × 5\n",
       "\\begin{tabular}{lllll}\n",
       " cond0 & N & valX\\_M & valX\\_SD & valX\\_SE\\\\\n",
       " <fct> & <int> & <dbl> & <dbl> & <dbl>\\\\\n",
       "\\hline\n",
       "\t noun\\_F & 252 & 1.386136 & 2.801570 & 0.1764823\\\\\n",
       "\t noun\\_M & 252 & 1.328305 & 2.807033 & 0.1768265\\\\\n",
       "\t verb\\_X & 252 & 1.259814 & 2.792640 & 0.1759198\\\\\n",
       "\\end{tabular}\n"
      ],
      "text/markdown": [
       "\n",
       "A tibble: 3 × 5\n",
       "\n",
       "| cond0 &lt;fct&gt; | N &lt;int&gt; | valX_M &lt;dbl&gt; | valX_SD &lt;dbl&gt; | valX_SE &lt;dbl&gt; |\n",
       "|---|---|---|---|---|\n",
       "| noun_F | 252 | 1.386136 | 2.801570 | 0.1764823 |\n",
       "| noun_M | 252 | 1.328305 | 2.807033 | 0.1768265 |\n",
       "| verb_X | 252 | 1.259814 | 2.792640 | 0.1759198 |\n",
       "\n"
      ],
      "text/plain": [
       "  cond0  N   valX_M   valX_SD  valX_SE  \n",
       "1 noun_F 252 1.386136 2.801570 0.1764823\n",
       "2 noun_M 252 1.328305 2.807033 0.1768265\n",
       "3 verb_X 252 1.259814 2.792640 0.1759198"
      ]
     },
     "metadata": {},
     "output_type": "display_data"
    },
    {
     "data": {
      "text/markdown": [
       "### Expected marginal means"
      ]
     },
     "metadata": {},
     "output_type": "display_data"
    },
    {
     "data": {
      "text/html": [
       "<table>\n",
       "<caption>A apa_results_table: 18 × 6</caption>\n",
       "<thead>\n",
       "\t<tr><th></th><th scope=col>chan0</th><th scope=col>cond0</th><th scope=col>estimate</th><th scope=col>ci</th><th scope=col>statistic</th><th scope=col>p.value</th></tr>\n",
       "\t<tr><th></th><th scope=col>&lt;chr&gt;</th><th scope=col>&lt;chr&gt;</th><th scope=col>&lt;ppj_lbll&gt;</th><th scope=col>&lt;ppj_lbll&gt;</th><th scope=col>&lt;ppj_lbll&gt;</th><th scope=col>&lt;ppj_lbll&gt;</th></tr>\n",
       "</thead>\n",
       "<tbody>\n",
       "\t<tr><th scope=row>noun_F_LC</th><td>LC</td><td>noun_F</td><td>1.66 </td><td><span style=white-space:pre-wrap>$[1.12$, $2.20]$  </span></td><td>6.03 </td><td>&lt; .001</td></tr>\n",
       "\t<tr><th scope=row>noun_M_LC</th><td><span style=white-space:pre-wrap>  </span></td><td>noun_M</td><td>1.64 </td><td><span style=white-space:pre-wrap>$[1.10$, $2.18]$  </span></td><td>5.97 </td><td>&lt; .001</td></tr>\n",
       "\t<tr><th scope=row>verb_X_LC</th><td><span style=white-space:pre-wrap>  </span></td><td>verb_X</td><td>1.59 </td><td><span style=white-space:pre-wrap>$[1.05$, $2.13]$  </span></td><td>5.77 </td><td>&lt; .001</td></tr>\n",
       "\t<tr><th scope=row>noun_F_LF</th><td>LF</td><td>noun_F</td><td>-1.01</td><td>$[-1.55$, $-0.46]$</td><td>-3.66</td><td>&lt; .001</td></tr>\n",
       "\t<tr><th scope=row>noun_M_LF</th><td><span style=white-space:pre-wrap>  </span></td><td>noun_M</td><td>-1.05</td><td>$[-1.59$, $-0.51]$</td><td>-3.82</td><td>&lt; .001</td></tr>\n",
       "\t<tr><th scope=row>verb_X_LF</th><td><span style=white-space:pre-wrap>  </span></td><td>verb_X</td><td>-1.30</td><td>$[-1.84$, $-0.76]$</td><td>-4.72</td><td>&lt; .001</td></tr>\n",
       "\t<tr><th scope=row>noun_F_LP</th><td>LP</td><td>noun_F</td><td>3.02 </td><td><span style=white-space:pre-wrap>$[2.48$, $3.56]$  </span></td><td>10.97</td><td>&lt; .001</td></tr>\n",
       "\t<tr><th scope=row>noun_M_LP</th><td><span style=white-space:pre-wrap>  </span></td><td>noun_M</td><td>3.18 </td><td><span style=white-space:pre-wrap>$[2.64$, $3.72]$  </span></td><td>11.56</td><td>&lt; .001</td></tr>\n",
       "\t<tr><th scope=row>verb_X_LP</th><td><span style=white-space:pre-wrap>  </span></td><td>verb_X</td><td>2.93 </td><td><span style=white-space:pre-wrap>$[2.39$, $3.48]$  </span></td><td>10.67</td><td>&lt; .001</td></tr>\n",
       "\t<tr><th scope=row>noun_F_RC</th><td>RC</td><td>noun_F</td><td>1.80 </td><td><span style=white-space:pre-wrap>$[1.26$, $2.34]$  </span></td><td>6.55 </td><td>&lt; .001</td></tr>\n",
       "\t<tr><th scope=row>noun_M_RC</th><td><span style=white-space:pre-wrap>  </span></td><td>noun_M</td><td>1.63 </td><td><span style=white-space:pre-wrap>$[1.09$, $2.17]$  </span></td><td>5.93 </td><td>&lt; .001</td></tr>\n",
       "\t<tr><th scope=row>verb_X_RC</th><td><span style=white-space:pre-wrap>  </span></td><td>verb_X</td><td>1.82 </td><td><span style=white-space:pre-wrap>$[1.28$, $2.36]$  </span></td><td>6.62 </td><td>&lt; .001</td></tr>\n",
       "\t<tr><th scope=row>noun_F_RF</th><td>RF</td><td>noun_F</td><td>-1.56</td><td>$[-2.10$, $-1.02]$</td><td>-5.68</td><td>&lt; .001</td></tr>\n",
       "\t<tr><th scope=row>noun_M_RF</th><td><span style=white-space:pre-wrap>  </span></td><td>noun_M</td><td>-1.97</td><td>$[-2.51$, $-1.43]$</td><td>-7.16</td><td>&lt; .001</td></tr>\n",
       "\t<tr><th scope=row>verb_X_RF</th><td><span style=white-space:pre-wrap>  </span></td><td>verb_X</td><td>-1.75</td><td>$[-2.29$, $-1.21]$</td><td>-6.37</td><td>&lt; .001</td></tr>\n",
       "\t<tr><th scope=row>noun_F_RP</th><td>RP</td><td>noun_F</td><td>4.41 </td><td><span style=white-space:pre-wrap>$[3.86$, $4.95]$  </span></td><td>16.02</td><td>&lt; .001</td></tr>\n",
       "\t<tr><th scope=row>noun_M_RP</th><td><span style=white-space:pre-wrap>  </span></td><td>noun_M</td><td>4.54 </td><td><span style=white-space:pre-wrap>$[4.00$, $5.08]$  </span></td><td>16.50</td><td>&lt; .001</td></tr>\n",
       "\t<tr><th scope=row>verb_X_RP</th><td><span style=white-space:pre-wrap>  </span></td><td>verb_X</td><td>4.27 </td><td><span style=white-space:pre-wrap>$[3.73$, $4.81]$  </span></td><td>15.52</td><td>&lt; .001</td></tr>\n",
       "</tbody>\n",
       "</table>\n"
      ],
      "text/latex": [
       "A apa\\_results\\_table: 18 × 6\n",
       "\\begin{tabular}{r|llllll}\n",
       "  & chan0 & cond0 & estimate & ci & statistic & p.value\\\\\n",
       "  & <chr> & <chr> & <ppj\\_lbll> & <ppj\\_lbll> & <ppj\\_lbll> & <ppj\\_lbll>\\\\\n",
       "\\hline\n",
       "\tnoun\\_F\\_LC & LC & noun\\_F & 1.66  & \\${[}1.12\\$, \\$2.20{]}\\$   & 6.03  & < .001\\\\\n",
       "\tnoun\\_M\\_LC &    & noun\\_M & 1.64  & \\${[}1.10\\$, \\$2.18{]}\\$   & 5.97  & < .001\\\\\n",
       "\tverb\\_X\\_LC &    & verb\\_X & 1.59  & \\${[}1.05\\$, \\$2.13{]}\\$   & 5.77  & < .001\\\\\n",
       "\tnoun\\_F\\_LF & LF & noun\\_F & -1.01 & \\${[}-1.55\\$, \\$-0.46{]}\\$ & -3.66 & < .001\\\\\n",
       "\tnoun\\_M\\_LF &    & noun\\_M & -1.05 & \\${[}-1.59\\$, \\$-0.51{]}\\$ & -3.82 & < .001\\\\\n",
       "\tverb\\_X\\_LF &    & verb\\_X & -1.30 & \\${[}-1.84\\$, \\$-0.76{]}\\$ & -4.72 & < .001\\\\\n",
       "\tnoun\\_F\\_LP & LP & noun\\_F & 3.02  & \\${[}2.48\\$, \\$3.56{]}\\$   & 10.97 & < .001\\\\\n",
       "\tnoun\\_M\\_LP &    & noun\\_M & 3.18  & \\${[}2.64\\$, \\$3.72{]}\\$   & 11.56 & < .001\\\\\n",
       "\tverb\\_X\\_LP &    & verb\\_X & 2.93  & \\${[}2.39\\$, \\$3.48{]}\\$   & 10.67 & < .001\\\\\n",
       "\tnoun\\_F\\_RC & RC & noun\\_F & 1.80  & \\${[}1.26\\$, \\$2.34{]}\\$   & 6.55  & < .001\\\\\n",
       "\tnoun\\_M\\_RC &    & noun\\_M & 1.63  & \\${[}1.09\\$, \\$2.17{]}\\$   & 5.93  & < .001\\\\\n",
       "\tverb\\_X\\_RC &    & verb\\_X & 1.82  & \\${[}1.28\\$, \\$2.36{]}\\$   & 6.62  & < .001\\\\\n",
       "\tnoun\\_F\\_RF & RF & noun\\_F & -1.56 & \\${[}-2.10\\$, \\$-1.02{]}\\$ & -5.68 & < .001\\\\\n",
       "\tnoun\\_M\\_RF &    & noun\\_M & -1.97 & \\${[}-2.51\\$, \\$-1.43{]}\\$ & -7.16 & < .001\\\\\n",
       "\tverb\\_X\\_RF &    & verb\\_X & -1.75 & \\${[}-2.29\\$, \\$-1.21{]}\\$ & -6.37 & < .001\\\\\n",
       "\tnoun\\_F\\_RP & RP & noun\\_F & 4.41  & \\${[}3.86\\$, \\$4.95{]}\\$   & 16.02 & < .001\\\\\n",
       "\tnoun\\_M\\_RP &    & noun\\_M & 4.54  & \\${[}4.00\\$, \\$5.08{]}\\$   & 16.50 & < .001\\\\\n",
       "\tverb\\_X\\_RP &    & verb\\_X & 4.27  & \\${[}3.73\\$, \\$4.81{]}\\$   & 15.52 & < .001\\\\\n",
       "\\end{tabular}\n"
      ],
      "text/markdown": [
       "\n",
       "A apa_results_table: 18 × 6\n",
       "\n",
       "| <!--/--> | chan0 &lt;chr&gt; | cond0 &lt;chr&gt; | estimate &lt;ppj_lbll&gt; | ci &lt;ppj_lbll&gt; | statistic &lt;ppj_lbll&gt; | p.value &lt;ppj_lbll&gt; |\n",
       "|---|---|---|---|---|---|---|\n",
       "| noun_F_LC | LC | noun_F | 1.66  | $[1.12$, $2.20]$   | 6.03  | &lt; .001 |\n",
       "| noun_M_LC | <!----> | noun_M | 1.64  | $[1.10$, $2.18]$   | 5.97  | &lt; .001 |\n",
       "| verb_X_LC | <!----> | verb_X | 1.59  | $[1.05$, $2.13]$   | 5.77  | &lt; .001 |\n",
       "| noun_F_LF | LF | noun_F | -1.01 | $[-1.55$, $-0.46]$ | -3.66 | &lt; .001 |\n",
       "| noun_M_LF | <!----> | noun_M | -1.05 | $[-1.59$, $-0.51]$ | -3.82 | &lt; .001 |\n",
       "| verb_X_LF | <!----> | verb_X | -1.30 | $[-1.84$, $-0.76]$ | -4.72 | &lt; .001 |\n",
       "| noun_F_LP | LP | noun_F | 3.02  | $[2.48$, $3.56]$   | 10.97 | &lt; .001 |\n",
       "| noun_M_LP | <!----> | noun_M | 3.18  | $[2.64$, $3.72]$   | 11.56 | &lt; .001 |\n",
       "| verb_X_LP | <!----> | verb_X | 2.93  | $[2.39$, $3.48]$   | 10.67 | &lt; .001 |\n",
       "| noun_F_RC | RC | noun_F | 1.80  | $[1.26$, $2.34]$   | 6.55  | &lt; .001 |\n",
       "| noun_M_RC | <!----> | noun_M | 1.63  | $[1.09$, $2.17]$   | 5.93  | &lt; .001 |\n",
       "| verb_X_RC | <!----> | verb_X | 1.82  | $[1.28$, $2.36]$   | 6.62  | &lt; .001 |\n",
       "| noun_F_RF | RF | noun_F | -1.56 | $[-2.10$, $-1.02]$ | -5.68 | &lt; .001 |\n",
       "| noun_M_RF | <!----> | noun_M | -1.97 | $[-2.51$, $-1.43]$ | -7.16 | &lt; .001 |\n",
       "| verb_X_RF | <!----> | verb_X | -1.75 | $[-2.29$, $-1.21]$ | -6.37 | &lt; .001 |\n",
       "| noun_F_RP | RP | noun_F | 4.41  | $[3.86$, $4.95]$   | 16.02 | &lt; .001 |\n",
       "| noun_M_RP | <!----> | noun_M | 4.54  | $[4.00$, $5.08]$   | 16.50 | &lt; .001 |\n",
       "| verb_X_RP | <!----> | verb_X | 4.27  | $[3.73$, $4.81]$   | 15.52 | &lt; .001 |\n",
       "\n"
      ],
      "text/plain": [
       "          chan0 cond0  estimate ci                 statistic p.value\n",
       "noun_F_LC LC    noun_F 1.66     $[1.12$, $2.20]$   6.03      < .001 \n",
       "noun_M_LC       noun_M 1.64     $[1.10$, $2.18]$   5.97      < .001 \n",
       "verb_X_LC       verb_X 1.59     $[1.05$, $2.13]$   5.77      < .001 \n",
       "noun_F_LF LF    noun_F -1.01    $[-1.55$, $-0.46]$ -3.66     < .001 \n",
       "noun_M_LF       noun_M -1.05    $[-1.59$, $-0.51]$ -3.82     < .001 \n",
       "verb_X_LF       verb_X -1.30    $[-1.84$, $-0.76]$ -4.72     < .001 \n",
       "noun_F_LP LP    noun_F 3.02     $[2.48$, $3.56]$   10.97     < .001 \n",
       "noun_M_LP       noun_M 3.18     $[2.64$, $3.72]$   11.56     < .001 \n",
       "verb_X_LP       verb_X 2.93     $[2.39$, $3.48]$   10.67     < .001 \n",
       "noun_F_RC RC    noun_F 1.80     $[1.26$, $2.34]$   6.55      < .001 \n",
       "noun_M_RC       noun_M 1.63     $[1.09$, $2.17]$   5.93      < .001 \n",
       "verb_X_RC       verb_X 1.82     $[1.28$, $2.36]$   6.62      < .001 \n",
       "noun_F_RF RF    noun_F -1.56    $[-2.10$, $-1.02]$ -5.68     < .001 \n",
       "noun_M_RF       noun_M -1.97    $[-2.51$, $-1.43]$ -7.16     < .001 \n",
       "verb_X_RF       verb_X -1.75    $[-2.29$, $-1.21]$ -6.37     < .001 \n",
       "noun_F_RP RP    noun_F 4.41     $[3.86$, $4.95]$   16.02     < .001 \n",
       "noun_M_RP       noun_M 4.54     $[4.00$, $5.08]$   16.50     < .001 \n",
       "verb_X_RP       verb_X 4.27     $[3.73$, $4.81]$   15.52     < .001 "
      ]
     },
     "metadata": {},
     "output_type": "display_data"
    },
    {
     "data": {
      "text/markdown": [
       "### Paired comparisons for expected marginal means"
      ]
     },
     "metadata": {},
     "output_type": "display_data"
    },
    {
     "data": {
      "text/html": [
       "<table>\n",
       "<caption>A apa_results_table: 18 × 6</caption>\n",
       "<thead>\n",
       "\t<tr><th></th><th scope=col>chan0</th><th scope=col>contrast</th><th scope=col>estimate</th><th scope=col>ci</th><th scope=col>statistic</th><th scope=col>p.value</th></tr>\n",
       "\t<tr><th></th><th scope=col>&lt;chr&gt;</th><th scope=col>&lt;ppj_lbll&gt;</th><th scope=col>&lt;ppj_lbll&gt;</th><th scope=col>&lt;ppj_lbll&gt;</th><th scope=col>&lt;ppj_lbll&gt;</th><th scope=col>&lt;ppj_lbll&gt;</th></tr>\n",
       "</thead>\n",
       "<tbody>\n",
       "\t<tr><th scope=row>LC_noun_F_noun_M</th><td>LC</td><td>noun_F - noun_M</td><td>0.02 </td><td>$[-0.30$, $0.33]$</td><td>0.14 </td><td>.990</td></tr>\n",
       "\t<tr><th scope=row>LC_noun_F_verb_X</th><td>  </td><td>noun_F - verb_X</td><td>0.07 </td><td>$[-0.24$, $0.39]$</td><td>0.55 </td><td>.849</td></tr>\n",
       "\t<tr><th scope=row>LC_noun_M_verb_X</th><td>  </td><td>noun_M - verb_X</td><td>0.05 </td><td>$[-0.26$, $0.37]$</td><td>0.41 </td><td>.911</td></tr>\n",
       "\t<tr><th scope=row>LF_noun_F_noun_M</th><td>LF</td><td>noun_F - noun_M</td><td>0.04 </td><td>$[-0.27$, $0.36]$</td><td>0.34 </td><td>.939</td></tr>\n",
       "\t<tr><th scope=row>LF_noun_F_verb_X</th><td>  </td><td>noun_F - verb_X</td><td>0.29 </td><td>$[-0.02$, $0.61]$</td><td>2.20 </td><td>.072</td></tr>\n",
       "\t<tr><th scope=row>LF_noun_M_verb_X</th><td>  </td><td>noun_M - verb_X</td><td>0.25 </td><td>$[-0.07$, $0.56]$</td><td>1.86 </td><td>.151</td></tr>\n",
       "\t<tr><th scope=row>LP_noun_F_noun_M</th><td>LP</td><td>noun_F - noun_M</td><td>-0.16</td><td>$[-0.47$, $0.15]$</td><td>-1.21</td><td>.446</td></tr>\n",
       "\t<tr><th scope=row>LP_noun_F_verb_X</th><td>  </td><td>noun_F - verb_X</td><td>0.08 </td><td>$[-0.23$, $0.40]$</td><td>0.63 </td><td>.802</td></tr>\n",
       "\t<tr><th scope=row>LP_noun_M_verb_X</th><td>  </td><td>noun_M - verb_X</td><td>0.25 </td><td>$[-0.07$, $0.56]$</td><td>1.85 </td><td>.156</td></tr>\n",
       "\t<tr><th scope=row>RC_noun_F_noun_M</th><td>RC</td><td>noun_F - noun_M</td><td>0.17 </td><td>$[-0.14$, $0.48]$</td><td>1.28 </td><td>.410</td></tr>\n",
       "\t<tr><th scope=row>RC_noun_F_verb_X</th><td>  </td><td>noun_F - verb_X</td><td>-0.02</td><td>$[-0.33$, $0.30]$</td><td>-0.14</td><td>.990</td></tr>\n",
       "\t<tr><th scope=row>RC_noun_M_verb_X</th><td>  </td><td>noun_M - verb_X</td><td>-0.19</td><td>$[-0.50$, $0.13]$</td><td>-1.41</td><td>.336</td></tr>\n",
       "\t<tr><th scope=row>RF_noun_F_noun_M</th><td>RF</td><td>noun_F - noun_M</td><td>0.41 </td><td>$[0.09$, $0.72]$ </td><td>3.05 </td><td>.007</td></tr>\n",
       "\t<tr><th scope=row>RF_noun_F_verb_X</th><td>  </td><td>noun_F - verb_X</td><td>0.19 </td><td>$[-0.12$, $0.50]$</td><td>1.42 </td><td>.333</td></tr>\n",
       "\t<tr><th scope=row>RF_noun_M_verb_X</th><td>  </td><td>noun_M - verb_X</td><td>-0.22</td><td>$[-0.53$, $0.10]$</td><td>-1.63</td><td>.232</td></tr>\n",
       "\t<tr><th scope=row>RP_noun_F_noun_M</th><td>RP</td><td>noun_F - noun_M</td><td>-0.13</td><td>$[-0.44$, $0.18]$</td><td>-0.98</td><td>.588</td></tr>\n",
       "\t<tr><th scope=row>RP_noun_F_verb_X</th><td>  </td><td>noun_F - verb_X</td><td>0.14 </td><td>$[-0.18$, $0.45]$</td><td>1.03 </td><td>.559</td></tr>\n",
       "\t<tr><th scope=row>RP_noun_M_verb_X</th><td>  </td><td>noun_M - verb_X</td><td>0.27 </td><td>$[-0.05$, $0.58]$</td><td>2.01 </td><td>.110</td></tr>\n",
       "</tbody>\n",
       "</table>\n"
      ],
      "text/latex": [
       "A apa\\_results\\_table: 18 × 6\n",
       "\\begin{tabular}{r|llllll}\n",
       "  & chan0 & contrast & estimate & ci & statistic & p.value\\\\\n",
       "  & <chr> & <ppj\\_lbll> & <ppj\\_lbll> & <ppj\\_lbll> & <ppj\\_lbll> & <ppj\\_lbll>\\\\\n",
       "\\hline\n",
       "\tLC\\_noun\\_F\\_noun\\_M & LC & noun\\_F - noun\\_M & 0.02  & \\${[}-0.30\\$, \\$0.33{]}\\$ & 0.14  & .990\\\\\n",
       "\tLC\\_noun\\_F\\_verb\\_X &    & noun\\_F - verb\\_X & 0.07  & \\${[}-0.24\\$, \\$0.39{]}\\$ & 0.55  & .849\\\\\n",
       "\tLC\\_noun\\_M\\_verb\\_X &    & noun\\_M - verb\\_X & 0.05  & \\${[}-0.26\\$, \\$0.37{]}\\$ & 0.41  & .911\\\\\n",
       "\tLF\\_noun\\_F\\_noun\\_M & LF & noun\\_F - noun\\_M & 0.04  & \\${[}-0.27\\$, \\$0.36{]}\\$ & 0.34  & .939\\\\\n",
       "\tLF\\_noun\\_F\\_verb\\_X &    & noun\\_F - verb\\_X & 0.29  & \\${[}-0.02\\$, \\$0.61{]}\\$ & 2.20  & .072\\\\\n",
       "\tLF\\_noun\\_M\\_verb\\_X &    & noun\\_M - verb\\_X & 0.25  & \\${[}-0.07\\$, \\$0.56{]}\\$ & 1.86  & .151\\\\\n",
       "\tLP\\_noun\\_F\\_noun\\_M & LP & noun\\_F - noun\\_M & -0.16 & \\${[}-0.47\\$, \\$0.15{]}\\$ & -1.21 & .446\\\\\n",
       "\tLP\\_noun\\_F\\_verb\\_X &    & noun\\_F - verb\\_X & 0.08  & \\${[}-0.23\\$, \\$0.40{]}\\$ & 0.63  & .802\\\\\n",
       "\tLP\\_noun\\_M\\_verb\\_X &    & noun\\_M - verb\\_X & 0.25  & \\${[}-0.07\\$, \\$0.56{]}\\$ & 1.85  & .156\\\\\n",
       "\tRC\\_noun\\_F\\_noun\\_M & RC & noun\\_F - noun\\_M & 0.17  & \\${[}-0.14\\$, \\$0.48{]}\\$ & 1.28  & .410\\\\\n",
       "\tRC\\_noun\\_F\\_verb\\_X &    & noun\\_F - verb\\_X & -0.02 & \\${[}-0.33\\$, \\$0.30{]}\\$ & -0.14 & .990\\\\\n",
       "\tRC\\_noun\\_M\\_verb\\_X &    & noun\\_M - verb\\_X & -0.19 & \\${[}-0.50\\$, \\$0.13{]}\\$ & -1.41 & .336\\\\\n",
       "\tRF\\_noun\\_F\\_noun\\_M & RF & noun\\_F - noun\\_M & 0.41  & \\${[}0.09\\$, \\$0.72{]}\\$  & 3.05  & .007\\\\\n",
       "\tRF\\_noun\\_F\\_verb\\_X &    & noun\\_F - verb\\_X & 0.19  & \\${[}-0.12\\$, \\$0.50{]}\\$ & 1.42  & .333\\\\\n",
       "\tRF\\_noun\\_M\\_verb\\_X &    & noun\\_M - verb\\_X & -0.22 & \\${[}-0.53\\$, \\$0.10{]}\\$ & -1.63 & .232\\\\\n",
       "\tRP\\_noun\\_F\\_noun\\_M & RP & noun\\_F - noun\\_M & -0.13 & \\${[}-0.44\\$, \\$0.18{]}\\$ & -0.98 & .588\\\\\n",
       "\tRP\\_noun\\_F\\_verb\\_X &    & noun\\_F - verb\\_X & 0.14  & \\${[}-0.18\\$, \\$0.45{]}\\$ & 1.03  & .559\\\\\n",
       "\tRP\\_noun\\_M\\_verb\\_X &    & noun\\_M - verb\\_X & 0.27  & \\${[}-0.05\\$, \\$0.58{]}\\$ & 2.01  & .110\\\\\n",
       "\\end{tabular}\n"
      ],
      "text/markdown": [
       "\n",
       "A apa_results_table: 18 × 6\n",
       "\n",
       "| <!--/--> | chan0 &lt;chr&gt; | contrast &lt;ppj_lbll&gt; | estimate &lt;ppj_lbll&gt; | ci &lt;ppj_lbll&gt; | statistic &lt;ppj_lbll&gt; | p.value &lt;ppj_lbll&gt; |\n",
       "|---|---|---|---|---|---|---|\n",
       "| LC_noun_F_noun_M | LC | noun_F - noun_M | 0.02  | $[-0.30$, $0.33]$ | 0.14  | .990 |\n",
       "| LC_noun_F_verb_X | <!----> | noun_F - verb_X | 0.07  | $[-0.24$, $0.39]$ | 0.55  | .849 |\n",
       "| LC_noun_M_verb_X | <!----> | noun_M - verb_X | 0.05  | $[-0.26$, $0.37]$ | 0.41  | .911 |\n",
       "| LF_noun_F_noun_M | LF | noun_F - noun_M | 0.04  | $[-0.27$, $0.36]$ | 0.34  | .939 |\n",
       "| LF_noun_F_verb_X | <!----> | noun_F - verb_X | 0.29  | $[-0.02$, $0.61]$ | 2.20  | .072 |\n",
       "| LF_noun_M_verb_X | <!----> | noun_M - verb_X | 0.25  | $[-0.07$, $0.56]$ | 1.86  | .151 |\n",
       "| LP_noun_F_noun_M | LP | noun_F - noun_M | -0.16 | $[-0.47$, $0.15]$ | -1.21 | .446 |\n",
       "| LP_noun_F_verb_X | <!----> | noun_F - verb_X | 0.08  | $[-0.23$, $0.40]$ | 0.63  | .802 |\n",
       "| LP_noun_M_verb_X | <!----> | noun_M - verb_X | 0.25  | $[-0.07$, $0.56]$ | 1.85  | .156 |\n",
       "| RC_noun_F_noun_M | RC | noun_F - noun_M | 0.17  | $[-0.14$, $0.48]$ | 1.28  | .410 |\n",
       "| RC_noun_F_verb_X | <!----> | noun_F - verb_X | -0.02 | $[-0.33$, $0.30]$ | -0.14 | .990 |\n",
       "| RC_noun_M_verb_X | <!----> | noun_M - verb_X | -0.19 | $[-0.50$, $0.13]$ | -1.41 | .336 |\n",
       "| RF_noun_F_noun_M | RF | noun_F - noun_M | 0.41  | $[0.09$, $0.72]$  | 3.05  | .007 |\n",
       "| RF_noun_F_verb_X | <!----> | noun_F - verb_X | 0.19  | $[-0.12$, $0.50]$ | 1.42  | .333 |\n",
       "| RF_noun_M_verb_X | <!----> | noun_M - verb_X | -0.22 | $[-0.53$, $0.10]$ | -1.63 | .232 |\n",
       "| RP_noun_F_noun_M | RP | noun_F - noun_M | -0.13 | $[-0.44$, $0.18]$ | -0.98 | .588 |\n",
       "| RP_noun_F_verb_X | <!----> | noun_F - verb_X | 0.14  | $[-0.18$, $0.45]$ | 1.03  | .559 |\n",
       "| RP_noun_M_verb_X | <!----> | noun_M - verb_X | 0.27  | $[-0.05$, $0.58]$ | 2.01  | .110 |\n",
       "\n"
      ],
      "text/plain": [
       "                 chan0 contrast        estimate ci                statistic p.value\n",
       "LC_noun_F_noun_M LC    noun_F - noun_M 0.02     $[-0.30$, $0.33]$ 0.14      .990   \n",
       "LC_noun_F_verb_X       noun_F - verb_X 0.07     $[-0.24$, $0.39]$ 0.55      .849   \n",
       "LC_noun_M_verb_X       noun_M - verb_X 0.05     $[-0.26$, $0.37]$ 0.41      .911   \n",
       "LF_noun_F_noun_M LF    noun_F - noun_M 0.04     $[-0.27$, $0.36]$ 0.34      .939   \n",
       "LF_noun_F_verb_X       noun_F - verb_X 0.29     $[-0.02$, $0.61]$ 2.20      .072   \n",
       "LF_noun_M_verb_X       noun_M - verb_X 0.25     $[-0.07$, $0.56]$ 1.86      .151   \n",
       "LP_noun_F_noun_M LP    noun_F - noun_M -0.16    $[-0.47$, $0.15]$ -1.21     .446   \n",
       "LP_noun_F_verb_X       noun_F - verb_X 0.08     $[-0.23$, $0.40]$ 0.63      .802   \n",
       "LP_noun_M_verb_X       noun_M - verb_X 0.25     $[-0.07$, $0.56]$ 1.85      .156   \n",
       "RC_noun_F_noun_M RC    noun_F - noun_M 0.17     $[-0.14$, $0.48]$ 1.28      .410   \n",
       "RC_noun_F_verb_X       noun_F - verb_X -0.02    $[-0.33$, $0.30]$ -0.14     .990   \n",
       "RC_noun_M_verb_X       noun_M - verb_X -0.19    $[-0.50$, $0.13]$ -1.41     .336   \n",
       "RF_noun_F_noun_M RF    noun_F - noun_M 0.41     $[0.09$, $0.72]$  3.05      .007   \n",
       "RF_noun_F_verb_X       noun_F - verb_X 0.19     $[-0.12$, $0.50]$ 1.42      .333   \n",
       "RF_noun_M_verb_X       noun_M - verb_X -0.22    $[-0.53$, $0.10]$ -1.63     .232   \n",
       "RP_noun_F_noun_M RP    noun_F - noun_M -0.13    $[-0.44$, $0.18]$ -0.98     .588   \n",
       "RP_noun_F_verb_X       noun_F - verb_X 0.14     $[-0.18$, $0.45]$ 1.03      .559   \n",
       "RP_noun_M_verb_X       noun_M - verb_X 0.27     $[-0.05$, $0.58]$ 2.01      .110   "
      ]
     },
     "metadata": {},
     "output_type": "display_data"
    }
   ],
   "source": [
    "IDX <- IDX+1; COND <- CONDS[IDX]\n",
    "data1 <- droplevels(subset(df1, eval(parse(text=COND)))); data1 <- data1[complete.cases(data1),]; done1 <- AOV4(data1,COND)\n",
    "display_markdown(str_c(\"# Condition \",IDX,\" of \",length(CONDS))); display_markdown(done1$info); display_markdown(\"### Table\"); done1$aov_APA$table; display_markdown(\"### Result\"); display_markdown(done1$aov_APA[[\"full_result\"]][[\"cond0\"]]); display_markdown(\"### Summary (all done1, incl. NANs)\"); done1$summary; display_markdown(\"### Expected marginal means\"); done1$emm_APA$table; display_markdown(\"### Paired comparisons for expected marginal means\"); done1$pairs_APA$table"
   ]
  },
  {
   "cell_type": "code",
   "execution_count": 24,
   "metadata": {},
   "outputs": [
    {
     "data": {
      "text/markdown": [
       "# Condition 6 of 12"
      ]
     },
     "metadata": {},
     "output_type": "display_data"
    },
    {
     "data": {
      "text/markdown": [
       "`tmin0==0.35 & mode0==\"neg\"`"
      ]
     },
     "metadata": {},
     "output_type": "display_data"
    },
    {
     "data": {
      "text/markdown": [
       "### Table"
      ]
     },
     "metadata": {},
     "output_type": "display_data"
    },
    {
     "data": {
      "text/html": [
       "<table>\n",
       "<caption>A apa_results_table: 3 × 7</caption>\n",
       "<thead>\n",
       "\t<tr><th></th><th scope=col>Effect</th><th scope=col>F</th><th scope=col>df1</th><th scope=col>df2</th><th scope=col>MSE</th><th scope=col>p</th><th scope=col>ges</th></tr>\n",
       "\t<tr><th></th><th scope=col>&lt;ppj_lbll&gt;</th><th scope=col>&lt;ppj_lbll&gt;</th><th scope=col>&lt;ppj_lbll&gt;</th><th scope=col>&lt;ppj_lbll&gt;</th><th scope=col>&lt;ppj_lbll&gt;</th><th scope=col>&lt;ppj_lbll&gt;</th><th scope=col>&lt;ppj_lbll&gt;</th></tr>\n",
       "</thead>\n",
       "<tbody>\n",
       "\t<tr><th scope=row>1</th><td>Cond0                </td><td>9.56 </td><td>1.61</td><td>66.12 </td><td>0.56 </td><td>.001  </td><td>.004</td></tr>\n",
       "\t<tr><th scope=row>2</th><td><span style=white-space:pre-wrap>Chan0                </span></td><td>70.93</td><td>2.49</td><td>102.11</td><td>19.80</td><td>&lt; .001</td><td>.594</td></tr>\n",
       "\t<tr><th scope=row>3</th><td>Cond0 $\\times$ Chan0</td><td>1.40 </td><td>4.88</td><td>200.12</td><td>0.77 </td><td>.228  </td><td>.002</td></tr>\n",
       "</tbody>\n",
       "</table>\n"
      ],
      "text/latex": [
       "A apa\\_results\\_table: 3 × 7\n",
       "\\begin{tabular}{r|lllllll}\n",
       "  & Effect & F & df1 & df2 & MSE & p & ges\\\\\n",
       "  & <ppj\\_lbll> & <ppj\\_lbll> & <ppj\\_lbll> & <ppj\\_lbll> & <ppj\\_lbll> & <ppj\\_lbll> & <ppj\\_lbll>\\\\\n",
       "\\hline\n",
       "\t1 & Cond0                 & 9.56  & 1.61 & 66.12  & 0.56  & .001   & .004\\\\\n",
       "\t2 & Chan0                 & 70.93 & 2.49 & 102.11 & 19.80 & < .001 & .594\\\\\n",
       "\t3 & Cond0 \\$\\textbackslash{}times\\$ Chan0 & 1.40  & 4.88 & 200.12 & 0.77  & .228   & .002\\\\\n",
       "\\end{tabular}\n"
      ],
      "text/markdown": [
       "\n",
       "A apa_results_table: 3 × 7\n",
       "\n",
       "| <!--/--> | Effect &lt;ppj_lbll&gt; | F &lt;ppj_lbll&gt; | df1 &lt;ppj_lbll&gt; | df2 &lt;ppj_lbll&gt; | MSE &lt;ppj_lbll&gt; | p &lt;ppj_lbll&gt; | ges &lt;ppj_lbll&gt; |\n",
       "|---|---|---|---|---|---|---|---|\n",
       "| 1 | Cond0                 | 9.56  | 1.61 | 66.12  | 0.56  | .001   | .004 |\n",
       "| 2 | Chan0                 | 70.93 | 2.49 | 102.11 | 19.80 | &lt; .001 | .594 |\n",
       "| 3 | Cond0 $\\times$ Chan0 | 1.40  | 4.88 | 200.12 | 0.77  | .228   | .002 |\n",
       "\n"
      ],
      "text/plain": [
       "  Effect                F     df1  df2    MSE   p      ges \n",
       "1 Cond0                 9.56  1.61 66.12  0.56  .001   .004\n",
       "2 Chan0                 70.93 2.49 102.11 19.80 < .001 .594\n",
       "3 Cond0 $\\\\times$ Chan0 1.40  4.88 200.12 0.77  .228   .002"
      ]
     },
     "metadata": {},
     "output_type": "display_data"
    },
    {
     "data": {
      "text/markdown": [
       "### Result"
      ]
     },
     "metadata": {},
     "output_type": "display_data"
    },
    {
     "data": {
      "text/markdown": [
       "$F(1.61, 66.12) = 9.56$, $\\mathit{MSE} = 0.56$, $p = .001$, $\\hat{\\eta}^2_G = .004$"
      ]
     },
     "metadata": {},
     "output_type": "display_data"
    },
    {
     "data": {
      "text/markdown": [
       "### Summary (all done1, incl. NANs)"
      ]
     },
     "metadata": {},
     "output_type": "display_data"
    },
    {
     "data": {
      "text/html": [
       "<table>\n",
       "<caption>A tibble: 3 × 5</caption>\n",
       "<thead>\n",
       "\t<tr><th scope=col>cond0</th><th scope=col>N</th><th scope=col>valX_M</th><th scope=col>valX_SD</th><th scope=col>valX_SE</th></tr>\n",
       "\t<tr><th scope=col>&lt;fct&gt;</th><th scope=col>&lt;int&gt;</th><th scope=col>&lt;dbl&gt;</th><th scope=col>&lt;dbl&gt;</th><th scope=col>&lt;dbl&gt;</th></tr>\n",
       "</thead>\n",
       "<tbody>\n",
       "\t<tr><td>noun_F</td><td>252</td><td>-0.5541810</td><td>2.813528</td><td>0.1772356</td></tr>\n",
       "\t<tr><td>noun_M</td><td>252</td><td>-0.5114951</td><td>2.796140</td><td>0.1761403</td></tr>\n",
       "\t<tr><td>verb_X</td><td>252</td><td>-0.3092414</td><td>2.780667</td><td>0.1751655</td></tr>\n",
       "</tbody>\n",
       "</table>\n"
      ],
      "text/latex": [
       "A tibble: 3 × 5\n",
       "\\begin{tabular}{lllll}\n",
       " cond0 & N & valX\\_M & valX\\_SD & valX\\_SE\\\\\n",
       " <fct> & <int> & <dbl> & <dbl> & <dbl>\\\\\n",
       "\\hline\n",
       "\t noun\\_F & 252 & -0.5541810 & 2.813528 & 0.1772356\\\\\n",
       "\t noun\\_M & 252 & -0.5114951 & 2.796140 & 0.1761403\\\\\n",
       "\t verb\\_X & 252 & -0.3092414 & 2.780667 & 0.1751655\\\\\n",
       "\\end{tabular}\n"
      ],
      "text/markdown": [
       "\n",
       "A tibble: 3 × 5\n",
       "\n",
       "| cond0 &lt;fct&gt; | N &lt;int&gt; | valX_M &lt;dbl&gt; | valX_SD &lt;dbl&gt; | valX_SE &lt;dbl&gt; |\n",
       "|---|---|---|---|---|\n",
       "| noun_F | 252 | -0.5541810 | 2.813528 | 0.1772356 |\n",
       "| noun_M | 252 | -0.5114951 | 2.796140 | 0.1761403 |\n",
       "| verb_X | 252 | -0.3092414 | 2.780667 | 0.1751655 |\n",
       "\n"
      ],
      "text/plain": [
       "  cond0  N   valX_M     valX_SD  valX_SE  \n",
       "1 noun_F 252 -0.5541810 2.813528 0.1772356\n",
       "2 noun_M 252 -0.5114951 2.796140 0.1761403\n",
       "3 verb_X 252 -0.3092414 2.780667 0.1751655"
      ]
     },
     "metadata": {},
     "output_type": "display_data"
    },
    {
     "data": {
      "text/markdown": [
       "### Expected marginal means"
      ]
     },
     "metadata": {},
     "output_type": "display_data"
    },
    {
     "data": {
      "text/html": [
       "<table>\n",
       "<caption>A apa_results_table: 18 × 6</caption>\n",
       "<thead>\n",
       "\t<tr><th></th><th scope=col>chan0</th><th scope=col>cond0</th><th scope=col>estimate</th><th scope=col>ci</th><th scope=col>statistic</th><th scope=col>p.value</th></tr>\n",
       "\t<tr><th></th><th scope=col>&lt;chr&gt;</th><th scope=col>&lt;chr&gt;</th><th scope=col>&lt;ppj_lbll&gt;</th><th scope=col>&lt;ppj_lbll&gt;</th><th scope=col>&lt;ppj_lbll&gt;</th><th scope=col>&lt;ppj_lbll&gt;</th></tr>\n",
       "</thead>\n",
       "<tbody>\n",
       "\t<tr><th scope=row>noun_F_LC</th><td>LC</td><td>noun_F</td><td>0.23 </td><td>$[-0.32$, $0.78]$ </td><td>0.83  </td><td>.408  </td></tr>\n",
       "\t<tr><th scope=row>noun_M_LC</th><td>  </td><td>noun_M</td><td>0.34 </td><td>$[-0.20$, $0.89]$ </td><td>1.23  </td><td>.219  </td></tr>\n",
       "\t<tr><th scope=row>verb_X_LC</th><td>  </td><td>verb_X</td><td>0.41 </td><td>$[-0.14$, $0.95]$ </td><td>1.46  </td><td>.145  </td></tr>\n",
       "\t<tr><th scope=row>noun_F_LF</th><td>LF</td><td>noun_F</td><td>-3.18</td><td>$[-3.73$, $-2.63]$</td><td>-11.46</td><td>&lt; .001</td></tr>\n",
       "\t<tr><th scope=row>noun_M_LF</th><td><span style=white-space:pre-wrap>  </span></td><td>noun_M</td><td>-3.09</td><td>$[-3.64$, $-2.55]$</td><td>-11.15</td><td>&lt; .001</td></tr>\n",
       "\t<tr><th scope=row>verb_X_LF</th><td><span style=white-space:pre-wrap>  </span></td><td>verb_X</td><td>-2.98</td><td>$[-3.52$, $-2.43]$</td><td>-10.73</td><td>&lt; .001</td></tr>\n",
       "\t<tr><th scope=row>noun_F_LP</th><td>LP</td><td>noun_F</td><td>0.85 </td><td>$[0.31$, $1.40]$  </td><td>3.08  </td><td>.002  </td></tr>\n",
       "\t<tr><th scope=row>noun_M_LP</th><td><span style=white-space:pre-wrap>  </span></td><td>noun_M</td><td>1.21 </td><td><span style=white-space:pre-wrap>$[0.66$, $1.76]$  </span></td><td><span style=white-space:pre-wrap>4.36  </span></td><td>&lt; .001</td></tr>\n",
       "\t<tr><th scope=row>verb_X_LP</th><td><span style=white-space:pre-wrap>  </span></td><td>verb_X</td><td>1.29 </td><td><span style=white-space:pre-wrap>$[0.74$, $1.84]$  </span></td><td><span style=white-space:pre-wrap>4.65  </span></td><td>&lt; .001</td></tr>\n",
       "\t<tr><th scope=row>noun_F_RC</th><td>RC</td><td>noun_F</td><td>0.39 </td><td>$[-0.15$, $0.94]$ </td><td>1.41  </td><td>.158  </td></tr>\n",
       "\t<tr><th scope=row>noun_M_RC</th><td>  </td><td>noun_M</td><td>0.18 </td><td>$[-0.36$, $0.73]$ </td><td>0.66  </td><td>.510  </td></tr>\n",
       "\t<tr><th scope=row>verb_X_RC</th><td>  </td><td>verb_X</td><td>0.56 </td><td>$[0.02$, $1.11]$  </td><td>2.03  </td><td>.043  </td></tr>\n",
       "\t<tr><th scope=row>noun_F_RF</th><td>RF</td><td>noun_F</td><td>-3.68</td><td>$[-4.23$, $-3.13]$</td><td>-13.26</td><td>&lt; .001</td></tr>\n",
       "\t<tr><th scope=row>noun_M_RF</th><td><span style=white-space:pre-wrap>  </span></td><td>noun_M</td><td>-3.84</td><td>$[-4.39$, $-3.29]$</td><td>-13.84</td><td>&lt; .001</td></tr>\n",
       "\t<tr><th scope=row>verb_X_RF</th><td><span style=white-space:pre-wrap>  </span></td><td>verb_X</td><td>-3.43</td><td>$[-3.98$, $-2.89]$</td><td>-12.37</td><td>&lt; .001</td></tr>\n",
       "\t<tr><th scope=row>noun_F_RP</th><td>RP</td><td>noun_F</td><td>2.06 </td><td><span style=white-space:pre-wrap>$[1.51$, $2.61]$  </span></td><td><span style=white-space:pre-wrap>7.42  </span></td><td>&lt; .001</td></tr>\n",
       "\t<tr><th scope=row>noun_M_RP</th><td><span style=white-space:pre-wrap>  </span></td><td>noun_M</td><td>2.13 </td><td><span style=white-space:pre-wrap>$[1.58$, $2.68]$  </span></td><td><span style=white-space:pre-wrap>7.67  </span></td><td>&lt; .001</td></tr>\n",
       "\t<tr><th scope=row>verb_X_RP</th><td><span style=white-space:pre-wrap>  </span></td><td>verb_X</td><td>2.30 </td><td><span style=white-space:pre-wrap>$[1.75$, $2.84]$  </span></td><td><span style=white-space:pre-wrap>8.27  </span></td><td>&lt; .001</td></tr>\n",
       "</tbody>\n",
       "</table>\n"
      ],
      "text/latex": [
       "A apa\\_results\\_table: 18 × 6\n",
       "\\begin{tabular}{r|llllll}\n",
       "  & chan0 & cond0 & estimate & ci & statistic & p.value\\\\\n",
       "  & <chr> & <chr> & <ppj\\_lbll> & <ppj\\_lbll> & <ppj\\_lbll> & <ppj\\_lbll>\\\\\n",
       "\\hline\n",
       "\tnoun\\_F\\_LC & LC & noun\\_F & 0.23  & \\${[}-0.32\\$, \\$0.78{]}\\$  & 0.83   & .408  \\\\\n",
       "\tnoun\\_M\\_LC &    & noun\\_M & 0.34  & \\${[}-0.20\\$, \\$0.89{]}\\$  & 1.23   & .219  \\\\\n",
       "\tverb\\_X\\_LC &    & verb\\_X & 0.41  & \\${[}-0.14\\$, \\$0.95{]}\\$  & 1.46   & .145  \\\\\n",
       "\tnoun\\_F\\_LF & LF & noun\\_F & -3.18 & \\${[}-3.73\\$, \\$-2.63{]}\\$ & -11.46 & < .001\\\\\n",
       "\tnoun\\_M\\_LF &    & noun\\_M & -3.09 & \\${[}-3.64\\$, \\$-2.55{]}\\$ & -11.15 & < .001\\\\\n",
       "\tverb\\_X\\_LF &    & verb\\_X & -2.98 & \\${[}-3.52\\$, \\$-2.43{]}\\$ & -10.73 & < .001\\\\\n",
       "\tnoun\\_F\\_LP & LP & noun\\_F & 0.85  & \\${[}0.31\\$, \\$1.40{]}\\$   & 3.08   & .002  \\\\\n",
       "\tnoun\\_M\\_LP &    & noun\\_M & 1.21  & \\${[}0.66\\$, \\$1.76{]}\\$   & 4.36   & < .001\\\\\n",
       "\tverb\\_X\\_LP &    & verb\\_X & 1.29  & \\${[}0.74\\$, \\$1.84{]}\\$   & 4.65   & < .001\\\\\n",
       "\tnoun\\_F\\_RC & RC & noun\\_F & 0.39  & \\${[}-0.15\\$, \\$0.94{]}\\$  & 1.41   & .158  \\\\\n",
       "\tnoun\\_M\\_RC &    & noun\\_M & 0.18  & \\${[}-0.36\\$, \\$0.73{]}\\$  & 0.66   & .510  \\\\\n",
       "\tverb\\_X\\_RC &    & verb\\_X & 0.56  & \\${[}0.02\\$, \\$1.11{]}\\$   & 2.03   & .043  \\\\\n",
       "\tnoun\\_F\\_RF & RF & noun\\_F & -3.68 & \\${[}-4.23\\$, \\$-3.13{]}\\$ & -13.26 & < .001\\\\\n",
       "\tnoun\\_M\\_RF &    & noun\\_M & -3.84 & \\${[}-4.39\\$, \\$-3.29{]}\\$ & -13.84 & < .001\\\\\n",
       "\tverb\\_X\\_RF &    & verb\\_X & -3.43 & \\${[}-3.98\\$, \\$-2.89{]}\\$ & -12.37 & < .001\\\\\n",
       "\tnoun\\_F\\_RP & RP & noun\\_F & 2.06  & \\${[}1.51\\$, \\$2.61{]}\\$   & 7.42   & < .001\\\\\n",
       "\tnoun\\_M\\_RP &    & noun\\_M & 2.13  & \\${[}1.58\\$, \\$2.68{]}\\$   & 7.67   & < .001\\\\\n",
       "\tverb\\_X\\_RP &    & verb\\_X & 2.30  & \\${[}1.75\\$, \\$2.84{]}\\$   & 8.27   & < .001\\\\\n",
       "\\end{tabular}\n"
      ],
      "text/markdown": [
       "\n",
       "A apa_results_table: 18 × 6\n",
       "\n",
       "| <!--/--> | chan0 &lt;chr&gt; | cond0 &lt;chr&gt; | estimate &lt;ppj_lbll&gt; | ci &lt;ppj_lbll&gt; | statistic &lt;ppj_lbll&gt; | p.value &lt;ppj_lbll&gt; |\n",
       "|---|---|---|---|---|---|---|\n",
       "| noun_F_LC | LC | noun_F | 0.23  | $[-0.32$, $0.78]$  | 0.83   | .408   |\n",
       "| noun_M_LC | <!----> | noun_M | 0.34  | $[-0.20$, $0.89]$  | 1.23   | .219   |\n",
       "| verb_X_LC | <!----> | verb_X | 0.41  | $[-0.14$, $0.95]$  | 1.46   | .145   |\n",
       "| noun_F_LF | LF | noun_F | -3.18 | $[-3.73$, $-2.63]$ | -11.46 | &lt; .001 |\n",
       "| noun_M_LF | <!----> | noun_M | -3.09 | $[-3.64$, $-2.55]$ | -11.15 | &lt; .001 |\n",
       "| verb_X_LF | <!----> | verb_X | -2.98 | $[-3.52$, $-2.43]$ | -10.73 | &lt; .001 |\n",
       "| noun_F_LP | LP | noun_F | 0.85  | $[0.31$, $1.40]$   | 3.08   | .002   |\n",
       "| noun_M_LP | <!----> | noun_M | 1.21  | $[0.66$, $1.76]$   | 4.36   | &lt; .001 |\n",
       "| verb_X_LP | <!----> | verb_X | 1.29  | $[0.74$, $1.84]$   | 4.65   | &lt; .001 |\n",
       "| noun_F_RC | RC | noun_F | 0.39  | $[-0.15$, $0.94]$  | 1.41   | .158   |\n",
       "| noun_M_RC | <!----> | noun_M | 0.18  | $[-0.36$, $0.73]$  | 0.66   | .510   |\n",
       "| verb_X_RC | <!----> | verb_X | 0.56  | $[0.02$, $1.11]$   | 2.03   | .043   |\n",
       "| noun_F_RF | RF | noun_F | -3.68 | $[-4.23$, $-3.13]$ | -13.26 | &lt; .001 |\n",
       "| noun_M_RF | <!----> | noun_M | -3.84 | $[-4.39$, $-3.29]$ | -13.84 | &lt; .001 |\n",
       "| verb_X_RF | <!----> | verb_X | -3.43 | $[-3.98$, $-2.89]$ | -12.37 | &lt; .001 |\n",
       "| noun_F_RP | RP | noun_F | 2.06  | $[1.51$, $2.61]$   | 7.42   | &lt; .001 |\n",
       "| noun_M_RP | <!----> | noun_M | 2.13  | $[1.58$, $2.68]$   | 7.67   | &lt; .001 |\n",
       "| verb_X_RP | <!----> | verb_X | 2.30  | $[1.75$, $2.84]$   | 8.27   | &lt; .001 |\n",
       "\n"
      ],
      "text/plain": [
       "          chan0 cond0  estimate ci                 statistic p.value\n",
       "noun_F_LC LC    noun_F 0.23     $[-0.32$, $0.78]$  0.83      .408   \n",
       "noun_M_LC       noun_M 0.34     $[-0.20$, $0.89]$  1.23      .219   \n",
       "verb_X_LC       verb_X 0.41     $[-0.14$, $0.95]$  1.46      .145   \n",
       "noun_F_LF LF    noun_F -3.18    $[-3.73$, $-2.63]$ -11.46    < .001 \n",
       "noun_M_LF       noun_M -3.09    $[-3.64$, $-2.55]$ -11.15    < .001 \n",
       "verb_X_LF       verb_X -2.98    $[-3.52$, $-2.43]$ -10.73    < .001 \n",
       "noun_F_LP LP    noun_F 0.85     $[0.31$, $1.40]$   3.08      .002   \n",
       "noun_M_LP       noun_M 1.21     $[0.66$, $1.76]$   4.36      < .001 \n",
       "verb_X_LP       verb_X 1.29     $[0.74$, $1.84]$   4.65      < .001 \n",
       "noun_F_RC RC    noun_F 0.39     $[-0.15$, $0.94]$  1.41      .158   \n",
       "noun_M_RC       noun_M 0.18     $[-0.36$, $0.73]$  0.66      .510   \n",
       "verb_X_RC       verb_X 0.56     $[0.02$, $1.11]$   2.03      .043   \n",
       "noun_F_RF RF    noun_F -3.68    $[-4.23$, $-3.13]$ -13.26    < .001 \n",
       "noun_M_RF       noun_M -3.84    $[-4.39$, $-3.29]$ -13.84    < .001 \n",
       "verb_X_RF       verb_X -3.43    $[-3.98$, $-2.89]$ -12.37    < .001 \n",
       "noun_F_RP RP    noun_F 2.06     $[1.51$, $2.61]$   7.42      < .001 \n",
       "noun_M_RP       noun_M 2.13     $[1.58$, $2.68]$   7.67      < .001 \n",
       "verb_X_RP       verb_X 2.30     $[1.75$, $2.84]$   8.27      < .001 "
      ]
     },
     "metadata": {},
     "output_type": "display_data"
    },
    {
     "data": {
      "text/markdown": [
       "### Paired comparisons for expected marginal means"
      ]
     },
     "metadata": {},
     "output_type": "display_data"
    },
    {
     "data": {
      "text/html": [
       "<table>\n",
       "<caption>A apa_results_table: 18 × 6</caption>\n",
       "<thead>\n",
       "\t<tr><th></th><th scope=col>chan0</th><th scope=col>contrast</th><th scope=col>estimate</th><th scope=col>ci</th><th scope=col>statistic</th><th scope=col>p.value</th></tr>\n",
       "\t<tr><th></th><th scope=col>&lt;chr&gt;</th><th scope=col>&lt;ppj_lbll&gt;</th><th scope=col>&lt;ppj_lbll&gt;</th><th scope=col>&lt;ppj_lbll&gt;</th><th scope=col>&lt;ppj_lbll&gt;</th><th scope=col>&lt;ppj_lbll&gt;</th></tr>\n",
       "</thead>\n",
       "<tbody>\n",
       "\t<tr><th scope=row>LC_noun_F_noun_M</th><td>LC</td><td>noun_F - noun_M</td><td>-0.11</td><td>$[-0.43$, $0.21]$ </td><td>-0.83</td><td>.687</td></tr>\n",
       "\t<tr><th scope=row>LC_noun_F_verb_X</th><td>  </td><td>noun_F - verb_X</td><td>-0.18</td><td>$[-0.50$, $0.14]$ </td><td>-1.29</td><td>.400</td></tr>\n",
       "\t<tr><th scope=row>LC_noun_M_verb_X</th><td>  </td><td>noun_M - verb_X</td><td>-0.06</td><td>$[-0.38$, $0.26]$ </td><td>-0.47</td><td>.887</td></tr>\n",
       "\t<tr><th scope=row>LF_noun_F_noun_M</th><td>LF</td><td>noun_F - noun_M</td><td>-0.09</td><td>$[-0.41$, $0.23]$ </td><td>-0.65</td><td>.793</td></tr>\n",
       "\t<tr><th scope=row>LF_noun_F_verb_X</th><td>  </td><td>noun_F - verb_X</td><td>-0.20</td><td>$[-0.52$, $0.12]$ </td><td>-1.50</td><td>.292</td></tr>\n",
       "\t<tr><th scope=row>LF_noun_M_verb_X</th><td>  </td><td>noun_M - verb_X</td><td>-0.12</td><td>$[-0.44$, $0.20]$ </td><td>-0.85</td><td>.672</td></tr>\n",
       "\t<tr><th scope=row>LP_noun_F_noun_M</th><td>LP</td><td>noun_F - noun_M</td><td>-0.35</td><td>$[-0.67$, $-0.04]$</td><td>-2.61</td><td>.025</td></tr>\n",
       "\t<tr><th scope=row>LP_noun_F_verb_X</th><td>  </td><td>noun_F - verb_X</td><td>-0.44</td><td>$[-0.76$, $-0.12]$</td><td>-3.20</td><td>.004</td></tr>\n",
       "\t<tr><th scope=row>LP_noun_M_verb_X</th><td>  </td><td>noun_M - verb_X</td><td>-0.08</td><td>$[-0.40$, $0.24]$ </td><td>-0.59</td><td>.824</td></tr>\n",
       "\t<tr><th scope=row>RC_noun_F_noun_M</th><td>RC</td><td>noun_F - noun_M</td><td>0.21 </td><td>$[-0.11$, $0.53]$ </td><td>1.54 </td><td>.272</td></tr>\n",
       "\t<tr><th scope=row>RC_noun_F_verb_X</th><td>  </td><td>noun_F - verb_X</td><td>-0.17</td><td>$[-0.49$, $0.15]$ </td><td>-1.25</td><td>.422</td></tr>\n",
       "\t<tr><th scope=row>RC_noun_M_verb_X</th><td>  </td><td>noun_M - verb_X</td><td>-0.38</td><td>$[-0.70$, $-0.06]$</td><td>-2.80</td><td>.015</td></tr>\n",
       "\t<tr><th scope=row>RF_noun_F_noun_M</th><td>RF</td><td>noun_F - noun_M</td><td>0.16 </td><td>$[-0.16$, $0.48]$ </td><td>1.17 </td><td>.470</td></tr>\n",
       "\t<tr><th scope=row>RF_noun_F_verb_X</th><td>  </td><td>noun_F - verb_X</td><td>-0.25</td><td>$[-0.57$, $0.07]$ </td><td>-1.82</td><td>.163</td></tr>\n",
       "\t<tr><th scope=row>RF_noun_M_verb_X</th><td>  </td><td>noun_M - verb_X</td><td>-0.41</td><td>$[-0.73$, $-0.09]$</td><td>-3.00</td><td>.008</td></tr>\n",
       "\t<tr><th scope=row>RP_noun_F_noun_M</th><td>RP</td><td>noun_F - noun_M</td><td>-0.07</td><td>$[-0.39$, $0.25]$ </td><td>-0.51</td><td>.864</td></tr>\n",
       "\t<tr><th scope=row>RP_noun_F_verb_X</th><td>  </td><td>noun_F - verb_X</td><td>-0.24</td><td>$[-0.56$, $0.08]$ </td><td>-1.74</td><td>.192</td></tr>\n",
       "\t<tr><th scope=row>RP_noun_M_verb_X</th><td>  </td><td>noun_M - verb_X</td><td>-0.17</td><td>$[-0.49$, $0.15]$ </td><td>-1.22</td><td>.440</td></tr>\n",
       "</tbody>\n",
       "</table>\n"
      ],
      "text/latex": [
       "A apa\\_results\\_table: 18 × 6\n",
       "\\begin{tabular}{r|llllll}\n",
       "  & chan0 & contrast & estimate & ci & statistic & p.value\\\\\n",
       "  & <chr> & <ppj\\_lbll> & <ppj\\_lbll> & <ppj\\_lbll> & <ppj\\_lbll> & <ppj\\_lbll>\\\\\n",
       "\\hline\n",
       "\tLC\\_noun\\_F\\_noun\\_M & LC & noun\\_F - noun\\_M & -0.11 & \\${[}-0.43\\$, \\$0.21{]}\\$  & -0.83 & .687\\\\\n",
       "\tLC\\_noun\\_F\\_verb\\_X &    & noun\\_F - verb\\_X & -0.18 & \\${[}-0.50\\$, \\$0.14{]}\\$  & -1.29 & .400\\\\\n",
       "\tLC\\_noun\\_M\\_verb\\_X &    & noun\\_M - verb\\_X & -0.06 & \\${[}-0.38\\$, \\$0.26{]}\\$  & -0.47 & .887\\\\\n",
       "\tLF\\_noun\\_F\\_noun\\_M & LF & noun\\_F - noun\\_M & -0.09 & \\${[}-0.41\\$, \\$0.23{]}\\$  & -0.65 & .793\\\\\n",
       "\tLF\\_noun\\_F\\_verb\\_X &    & noun\\_F - verb\\_X & -0.20 & \\${[}-0.52\\$, \\$0.12{]}\\$  & -1.50 & .292\\\\\n",
       "\tLF\\_noun\\_M\\_verb\\_X &    & noun\\_M - verb\\_X & -0.12 & \\${[}-0.44\\$, \\$0.20{]}\\$  & -0.85 & .672\\\\\n",
       "\tLP\\_noun\\_F\\_noun\\_M & LP & noun\\_F - noun\\_M & -0.35 & \\${[}-0.67\\$, \\$-0.04{]}\\$ & -2.61 & .025\\\\\n",
       "\tLP\\_noun\\_F\\_verb\\_X &    & noun\\_F - verb\\_X & -0.44 & \\${[}-0.76\\$, \\$-0.12{]}\\$ & -3.20 & .004\\\\\n",
       "\tLP\\_noun\\_M\\_verb\\_X &    & noun\\_M - verb\\_X & -0.08 & \\${[}-0.40\\$, \\$0.24{]}\\$  & -0.59 & .824\\\\\n",
       "\tRC\\_noun\\_F\\_noun\\_M & RC & noun\\_F - noun\\_M & 0.21  & \\${[}-0.11\\$, \\$0.53{]}\\$  & 1.54  & .272\\\\\n",
       "\tRC\\_noun\\_F\\_verb\\_X &    & noun\\_F - verb\\_X & -0.17 & \\${[}-0.49\\$, \\$0.15{]}\\$  & -1.25 & .422\\\\\n",
       "\tRC\\_noun\\_M\\_verb\\_X &    & noun\\_M - verb\\_X & -0.38 & \\${[}-0.70\\$, \\$-0.06{]}\\$ & -2.80 & .015\\\\\n",
       "\tRF\\_noun\\_F\\_noun\\_M & RF & noun\\_F - noun\\_M & 0.16  & \\${[}-0.16\\$, \\$0.48{]}\\$  & 1.17  & .470\\\\\n",
       "\tRF\\_noun\\_F\\_verb\\_X &    & noun\\_F - verb\\_X & -0.25 & \\${[}-0.57\\$, \\$0.07{]}\\$  & -1.82 & .163\\\\\n",
       "\tRF\\_noun\\_M\\_verb\\_X &    & noun\\_M - verb\\_X & -0.41 & \\${[}-0.73\\$, \\$-0.09{]}\\$ & -3.00 & .008\\\\\n",
       "\tRP\\_noun\\_F\\_noun\\_M & RP & noun\\_F - noun\\_M & -0.07 & \\${[}-0.39\\$, \\$0.25{]}\\$  & -0.51 & .864\\\\\n",
       "\tRP\\_noun\\_F\\_verb\\_X &    & noun\\_F - verb\\_X & -0.24 & \\${[}-0.56\\$, \\$0.08{]}\\$  & -1.74 & .192\\\\\n",
       "\tRP\\_noun\\_M\\_verb\\_X &    & noun\\_M - verb\\_X & -0.17 & \\${[}-0.49\\$, \\$0.15{]}\\$  & -1.22 & .440\\\\\n",
       "\\end{tabular}\n"
      ],
      "text/markdown": [
       "\n",
       "A apa_results_table: 18 × 6\n",
       "\n",
       "| <!--/--> | chan0 &lt;chr&gt; | contrast &lt;ppj_lbll&gt; | estimate &lt;ppj_lbll&gt; | ci &lt;ppj_lbll&gt; | statistic &lt;ppj_lbll&gt; | p.value &lt;ppj_lbll&gt; |\n",
       "|---|---|---|---|---|---|---|\n",
       "| LC_noun_F_noun_M | LC | noun_F - noun_M | -0.11 | $[-0.43$, $0.21]$  | -0.83 | .687 |\n",
       "| LC_noun_F_verb_X | <!----> | noun_F - verb_X | -0.18 | $[-0.50$, $0.14]$  | -1.29 | .400 |\n",
       "| LC_noun_M_verb_X | <!----> | noun_M - verb_X | -0.06 | $[-0.38$, $0.26]$  | -0.47 | .887 |\n",
       "| LF_noun_F_noun_M | LF | noun_F - noun_M | -0.09 | $[-0.41$, $0.23]$  | -0.65 | .793 |\n",
       "| LF_noun_F_verb_X | <!----> | noun_F - verb_X | -0.20 | $[-0.52$, $0.12]$  | -1.50 | .292 |\n",
       "| LF_noun_M_verb_X | <!----> | noun_M - verb_X | -0.12 | $[-0.44$, $0.20]$  | -0.85 | .672 |\n",
       "| LP_noun_F_noun_M | LP | noun_F - noun_M | -0.35 | $[-0.67$, $-0.04]$ | -2.61 | .025 |\n",
       "| LP_noun_F_verb_X | <!----> | noun_F - verb_X | -0.44 | $[-0.76$, $-0.12]$ | -3.20 | .004 |\n",
       "| LP_noun_M_verb_X | <!----> | noun_M - verb_X | -0.08 | $[-0.40$, $0.24]$  | -0.59 | .824 |\n",
       "| RC_noun_F_noun_M | RC | noun_F - noun_M | 0.21  | $[-0.11$, $0.53]$  | 1.54  | .272 |\n",
       "| RC_noun_F_verb_X | <!----> | noun_F - verb_X | -0.17 | $[-0.49$, $0.15]$  | -1.25 | .422 |\n",
       "| RC_noun_M_verb_X | <!----> | noun_M - verb_X | -0.38 | $[-0.70$, $-0.06]$ | -2.80 | .015 |\n",
       "| RF_noun_F_noun_M | RF | noun_F - noun_M | 0.16  | $[-0.16$, $0.48]$  | 1.17  | .470 |\n",
       "| RF_noun_F_verb_X | <!----> | noun_F - verb_X | -0.25 | $[-0.57$, $0.07]$  | -1.82 | .163 |\n",
       "| RF_noun_M_verb_X | <!----> | noun_M - verb_X | -0.41 | $[-0.73$, $-0.09]$ | -3.00 | .008 |\n",
       "| RP_noun_F_noun_M | RP | noun_F - noun_M | -0.07 | $[-0.39$, $0.25]$  | -0.51 | .864 |\n",
       "| RP_noun_F_verb_X | <!----> | noun_F - verb_X | -0.24 | $[-0.56$, $0.08]$  | -1.74 | .192 |\n",
       "| RP_noun_M_verb_X | <!----> | noun_M - verb_X | -0.17 | $[-0.49$, $0.15]$  | -1.22 | .440 |\n",
       "\n"
      ],
      "text/plain": [
       "                 chan0 contrast        estimate ci                 statistic p.value\n",
       "LC_noun_F_noun_M LC    noun_F - noun_M -0.11    $[-0.43$, $0.21]$  -0.83     .687   \n",
       "LC_noun_F_verb_X       noun_F - verb_X -0.18    $[-0.50$, $0.14]$  -1.29     .400   \n",
       "LC_noun_M_verb_X       noun_M - verb_X -0.06    $[-0.38$, $0.26]$  -0.47     .887   \n",
       "LF_noun_F_noun_M LF    noun_F - noun_M -0.09    $[-0.41$, $0.23]$  -0.65     .793   \n",
       "LF_noun_F_verb_X       noun_F - verb_X -0.20    $[-0.52$, $0.12]$  -1.50     .292   \n",
       "LF_noun_M_verb_X       noun_M - verb_X -0.12    $[-0.44$, $0.20]$  -0.85     .672   \n",
       "LP_noun_F_noun_M LP    noun_F - noun_M -0.35    $[-0.67$, $-0.04]$ -2.61     .025   \n",
       "LP_noun_F_verb_X       noun_F - verb_X -0.44    $[-0.76$, $-0.12]$ -3.20     .004   \n",
       "LP_noun_M_verb_X       noun_M - verb_X -0.08    $[-0.40$, $0.24]$  -0.59     .824   \n",
       "RC_noun_F_noun_M RC    noun_F - noun_M 0.21     $[-0.11$, $0.53]$  1.54      .272   \n",
       "RC_noun_F_verb_X       noun_F - verb_X -0.17    $[-0.49$, $0.15]$  -1.25     .422   \n",
       "RC_noun_M_verb_X       noun_M - verb_X -0.38    $[-0.70$, $-0.06]$ -2.80     .015   \n",
       "RF_noun_F_noun_M RF    noun_F - noun_M 0.16     $[-0.16$, $0.48]$  1.17      .470   \n",
       "RF_noun_F_verb_X       noun_F - verb_X -0.25    $[-0.57$, $0.07]$  -1.82     .163   \n",
       "RF_noun_M_verb_X       noun_M - verb_X -0.41    $[-0.73$, $-0.09]$ -3.00     .008   \n",
       "RP_noun_F_noun_M RP    noun_F - noun_M -0.07    $[-0.39$, $0.25]$  -0.51     .864   \n",
       "RP_noun_F_verb_X       noun_F - verb_X -0.24    $[-0.56$, $0.08]$  -1.74     .192   \n",
       "RP_noun_M_verb_X       noun_M - verb_X -0.17    $[-0.49$, $0.15]$  -1.22     .440   "
      ]
     },
     "metadata": {},
     "output_type": "display_data"
    }
   ],
   "source": [
    "IDX <- IDX+1; COND <- CONDS[IDX]\n",
    "data1 <- droplevels(subset(df1, eval(parse(text=COND)))); data1 <- data1[complete.cases(data1),]; done1 <- AOV4(data1,COND)\n",
    "display_markdown(str_c(\"# Condition \",IDX,\" of \",length(CONDS))); display_markdown(done1$info); display_markdown(\"### Table\"); done1$aov_APA$table; display_markdown(\"### Result\"); display_markdown(done1$aov_APA[[\"full_result\"]][[\"cond0\"]]); display_markdown(\"### Summary (all done1, incl. NANs)\"); done1$summary; display_markdown(\"### Expected marginal means\"); done1$emm_APA$table; display_markdown(\"### Paired comparisons for expected marginal means\"); done1$pairs_APA$table"
   ]
  },
  {
   "cell_type": "code",
   "execution_count": 25,
   "metadata": {},
   "outputs": [
    {
     "data": {
      "text/markdown": [
       "# Condition 7 of 12"
      ]
     },
     "metadata": {},
     "output_type": "display_data"
    },
    {
     "data": {
      "text/markdown": [
       "`tmin0==0.41 & mode0==\"pos\"`"
      ]
     },
     "metadata": {},
     "output_type": "display_data"
    },
    {
     "data": {
      "text/markdown": [
       "### Table"
      ]
     },
     "metadata": {},
     "output_type": "display_data"
    },
    {
     "data": {
      "text/html": [
       "<table>\n",
       "<caption>A apa_results_table: 3 × 7</caption>\n",
       "<thead>\n",
       "\t<tr><th></th><th scope=col>Effect</th><th scope=col>F</th><th scope=col>df1</th><th scope=col>df2</th><th scope=col>MSE</th><th scope=col>p</th><th scope=col>ges</th></tr>\n",
       "\t<tr><th></th><th scope=col>&lt;ppj_lbll&gt;</th><th scope=col>&lt;ppj_lbll&gt;</th><th scope=col>&lt;ppj_lbll&gt;</th><th scope=col>&lt;ppj_lbll&gt;</th><th scope=col>&lt;ppj_lbll&gt;</th><th scope=col>&lt;ppj_lbll&gt;</th><th scope=col>&lt;ppj_lbll&gt;</th></tr>\n",
       "</thead>\n",
       "<tbody>\n",
       "\t<tr><th scope=row>1</th><td>Cond0                </td><td>0.65 </td><td>1.68</td><td>69.06 </td><td>0.50 </td><td>.500  </td><td>.000</td></tr>\n",
       "\t<tr><th scope=row>2</th><td><span style=white-space:pre-wrap>Chan0                </span></td><td>42.94</td><td>2.14</td><td>87.93 </td><td>28.56</td><td>&lt; .001</td><td>.471</td></tr>\n",
       "\t<tr><th scope=row>3</th><td>Cond0 $\\times$ Chan0</td><td>2.00 </td><td>4.00</td><td>163.88</td><td>1.08 </td><td>.097  </td><td>.003</td></tr>\n",
       "</tbody>\n",
       "</table>\n"
      ],
      "text/latex": [
       "A apa\\_results\\_table: 3 × 7\n",
       "\\begin{tabular}{r|lllllll}\n",
       "  & Effect & F & df1 & df2 & MSE & p & ges\\\\\n",
       "  & <ppj\\_lbll> & <ppj\\_lbll> & <ppj\\_lbll> & <ppj\\_lbll> & <ppj\\_lbll> & <ppj\\_lbll> & <ppj\\_lbll>\\\\\n",
       "\\hline\n",
       "\t1 & Cond0                 & 0.65  & 1.68 & 69.06  & 0.50  & .500   & .000\\\\\n",
       "\t2 & Chan0                 & 42.94 & 2.14 & 87.93  & 28.56 & < .001 & .471\\\\\n",
       "\t3 & Cond0 \\$\\textbackslash{}times\\$ Chan0 & 2.00  & 4.00 & 163.88 & 1.08  & .097   & .003\\\\\n",
       "\\end{tabular}\n"
      ],
      "text/markdown": [
       "\n",
       "A apa_results_table: 3 × 7\n",
       "\n",
       "| <!--/--> | Effect &lt;ppj_lbll&gt; | F &lt;ppj_lbll&gt; | df1 &lt;ppj_lbll&gt; | df2 &lt;ppj_lbll&gt; | MSE &lt;ppj_lbll&gt; | p &lt;ppj_lbll&gt; | ges &lt;ppj_lbll&gt; |\n",
       "|---|---|---|---|---|---|---|---|\n",
       "| 1 | Cond0                 | 0.65  | 1.68 | 69.06  | 0.50  | .500   | .000 |\n",
       "| 2 | Chan0                 | 42.94 | 2.14 | 87.93  | 28.56 | &lt; .001 | .471 |\n",
       "| 3 | Cond0 $\\times$ Chan0 | 2.00  | 4.00 | 163.88 | 1.08  | .097   | .003 |\n",
       "\n"
      ],
      "text/plain": [
       "  Effect                F     df1  df2    MSE   p      ges \n",
       "1 Cond0                 0.65  1.68 69.06  0.50  .500   .000\n",
       "2 Chan0                 42.94 2.14 87.93  28.56 < .001 .471\n",
       "3 Cond0 $\\\\times$ Chan0 2.00  4.00 163.88 1.08  .097   .003"
      ]
     },
     "metadata": {},
     "output_type": "display_data"
    },
    {
     "data": {
      "text/markdown": [
       "### Result"
      ]
     },
     "metadata": {},
     "output_type": "display_data"
    },
    {
     "data": {
      "text/markdown": [
       "$F(1.68, 69.06) = 0.65$, $\\mathit{MSE} = 0.50$, $p = .500$, $\\hat{\\eta}^2_G = .000$"
      ]
     },
     "metadata": {},
     "output_type": "display_data"
    },
    {
     "data": {
      "text/markdown": [
       "### Summary (all done1, incl. NANs)"
      ]
     },
     "metadata": {},
     "output_type": "display_data"
    },
    {
     "data": {
      "text/html": [
       "<table>\n",
       "<caption>A tibble: 3 × 5</caption>\n",
       "<thead>\n",
       "\t<tr><th scope=col>cond0</th><th scope=col>N</th><th scope=col>valX_M</th><th scope=col>valX_SD</th><th scope=col>valX_SE</th></tr>\n",
       "\t<tr><th scope=col>&lt;fct&gt;</th><th scope=col>&lt;int&gt;</th><th scope=col>&lt;dbl&gt;</th><th scope=col>&lt;dbl&gt;</th><th scope=col>&lt;dbl&gt;</th></tr>\n",
       "</thead>\n",
       "<tbody>\n",
       "\t<tr><td>noun_F</td><td>252</td><td>1.396912</td><td>2.756034</td><td>0.1736138</td></tr>\n",
       "\t<tr><td>noun_M</td><td>252</td><td>1.417533</td><td>2.670787</td><td>0.1682438</td></tr>\n",
       "\t<tr><td>verb_X</td><td>252</td><td>1.352892</td><td>2.747269</td><td>0.1730617</td></tr>\n",
       "</tbody>\n",
       "</table>\n"
      ],
      "text/latex": [
       "A tibble: 3 × 5\n",
       "\\begin{tabular}{lllll}\n",
       " cond0 & N & valX\\_M & valX\\_SD & valX\\_SE\\\\\n",
       " <fct> & <int> & <dbl> & <dbl> & <dbl>\\\\\n",
       "\\hline\n",
       "\t noun\\_F & 252 & 1.396912 & 2.756034 & 0.1736138\\\\\n",
       "\t noun\\_M & 252 & 1.417533 & 2.670787 & 0.1682438\\\\\n",
       "\t verb\\_X & 252 & 1.352892 & 2.747269 & 0.1730617\\\\\n",
       "\\end{tabular}\n"
      ],
      "text/markdown": [
       "\n",
       "A tibble: 3 × 5\n",
       "\n",
       "| cond0 &lt;fct&gt; | N &lt;int&gt; | valX_M &lt;dbl&gt; | valX_SD &lt;dbl&gt; | valX_SE &lt;dbl&gt; |\n",
       "|---|---|---|---|---|\n",
       "| noun_F | 252 | 1.396912 | 2.756034 | 0.1736138 |\n",
       "| noun_M | 252 | 1.417533 | 2.670787 | 0.1682438 |\n",
       "| verb_X | 252 | 1.352892 | 2.747269 | 0.1730617 |\n",
       "\n"
      ],
      "text/plain": [
       "  cond0  N   valX_M   valX_SD  valX_SE  \n",
       "1 noun_F 252 1.396912 2.756034 0.1736138\n",
       "2 noun_M 252 1.417533 2.670787 0.1682438\n",
       "3 verb_X 252 1.352892 2.747269 0.1730617"
      ]
     },
     "metadata": {},
     "output_type": "display_data"
    },
    {
     "data": {
      "text/markdown": [
       "### Expected marginal means"
      ]
     },
     "metadata": {},
     "output_type": "display_data"
    },
    {
     "data": {
      "text/html": [
       "<table>\n",
       "<caption>A apa_results_table: 18 × 6</caption>\n",
       "<thead>\n",
       "\t<tr><th></th><th scope=col>chan0</th><th scope=col>cond0</th><th scope=col>estimate</th><th scope=col>ci</th><th scope=col>statistic</th><th scope=col>p.value</th></tr>\n",
       "\t<tr><th></th><th scope=col>&lt;chr&gt;</th><th scope=col>&lt;chr&gt;</th><th scope=col>&lt;ppj_lbll&gt;</th><th scope=col>&lt;ppj_lbll&gt;</th><th scope=col>&lt;ppj_lbll&gt;</th><th scope=col>&lt;ppj_lbll&gt;</th></tr>\n",
       "</thead>\n",
       "<tbody>\n",
       "\t<tr><th scope=row>noun_F_LC</th><td>LC</td><td>noun_F</td><td>1.62 </td><td><span style=white-space:pre-wrap>$[1.01$, $2.23]$  </span></td><td>5.25 </td><td>&lt; .001</td></tr>\n",
       "\t<tr><th scope=row>noun_M_LC</th><td><span style=white-space:pre-wrap>  </span></td><td>noun_M</td><td>1.71 </td><td><span style=white-space:pre-wrap>$[1.11$, $2.32]$  </span></td><td>5.55 </td><td>&lt; .001</td></tr>\n",
       "\t<tr><th scope=row>verb_X_LC</th><td><span style=white-space:pre-wrap>  </span></td><td>verb_X</td><td>1.62 </td><td><span style=white-space:pre-wrap>$[1.02$, $2.23]$  </span></td><td>5.26 </td><td>&lt; .001</td></tr>\n",
       "\t<tr><th scope=row>noun_F_LF</th><td>LF</td><td>noun_F</td><td>-0.82</td><td>$[-1.43$, $-0.21]$</td><td>-2.65</td><td>.008  </td></tr>\n",
       "\t<tr><th scope=row>noun_M_LF</th><td>  </td><td>noun_M</td><td>-0.93</td><td>$[-1.54$, $-0.32]$</td><td>-3.01</td><td>.003  </td></tr>\n",
       "\t<tr><th scope=row>verb_X_LF</th><td>  </td><td>verb_X</td><td>-1.03</td><td>$[-1.63$, $-0.42]$</td><td>-3.33</td><td>.001  </td></tr>\n",
       "\t<tr><th scope=row>noun_F_LP</th><td>LP</td><td>noun_F</td><td>2.62 </td><td><span style=white-space:pre-wrap>$[2.02$, $3.23]$  </span></td><td>8.50 </td><td>&lt; .001</td></tr>\n",
       "\t<tr><th scope=row>noun_M_LP</th><td><span style=white-space:pre-wrap>  </span></td><td>noun_M</td><td>2.93 </td><td><span style=white-space:pre-wrap>$[2.33$, $3.54]$  </span></td><td>9.51 </td><td>&lt; .001</td></tr>\n",
       "\t<tr><th scope=row>verb_X_LP</th><td><span style=white-space:pre-wrap>  </span></td><td>verb_X</td><td>2.68 </td><td><span style=white-space:pre-wrap>$[2.07$, $3.29]$  </span></td><td>8.68 </td><td>&lt; .001</td></tr>\n",
       "\t<tr><th scope=row>noun_F_RC</th><td>RC</td><td>noun_F</td><td>1.89 </td><td><span style=white-space:pre-wrap>$[1.28$, $2.49]$  </span></td><td>6.11 </td><td>&lt; .001</td></tr>\n",
       "\t<tr><th scope=row>noun_M_RC</th><td><span style=white-space:pre-wrap>  </span></td><td>noun_M</td><td>1.81 </td><td><span style=white-space:pre-wrap>$[1.20$, $2.42]$  </span></td><td>5.86 </td><td>&lt; .001</td></tr>\n",
       "\t<tr><th scope=row>verb_X_RC</th><td><span style=white-space:pre-wrap>  </span></td><td>verb_X</td><td>1.83 </td><td><span style=white-space:pre-wrap>$[1.22$, $2.44]$  </span></td><td>5.93 </td><td>&lt; .001</td></tr>\n",
       "\t<tr><th scope=row>noun_F_RF</th><td>RF</td><td>noun_F</td><td>-0.91</td><td>$[-1.52$, $-0.31]$</td><td>-2.96</td><td>.003  </td></tr>\n",
       "\t<tr><th scope=row>noun_M_RF</th><td><span style=white-space:pre-wrap>  </span></td><td>noun_M</td><td>-1.30</td><td>$[-1.91$, $-0.70]$</td><td>-4.22</td><td>&lt; .001</td></tr>\n",
       "\t<tr><th scope=row>verb_X_RF</th><td>  </td><td>verb_X</td><td>-1.01</td><td>$[-1.62$, $-0.41]$</td><td>-3.28</td><td>.001  </td></tr>\n",
       "\t<tr><th scope=row>noun_F_RP</th><td>RP</td><td>noun_F</td><td>3.98 </td><td><span style=white-space:pre-wrap>$[3.38$, $4.59]$  </span></td><td>12.91</td><td>&lt; .001</td></tr>\n",
       "\t<tr><th scope=row>noun_M_RP</th><td><span style=white-space:pre-wrap>  </span></td><td>noun_M</td><td>4.28 </td><td><span style=white-space:pre-wrap>$[3.67$, $4.89]$  </span></td><td>13.86</td><td>&lt; .001</td></tr>\n",
       "\t<tr><th scope=row>verb_X_RP</th><td><span style=white-space:pre-wrap>  </span></td><td>verb_X</td><td>4.03 </td><td><span style=white-space:pre-wrap>$[3.42$, $4.63]$  </span></td><td>13.04</td><td>&lt; .001</td></tr>\n",
       "</tbody>\n",
       "</table>\n"
      ],
      "text/latex": [
       "A apa\\_results\\_table: 18 × 6\n",
       "\\begin{tabular}{r|llllll}\n",
       "  & chan0 & cond0 & estimate & ci & statistic & p.value\\\\\n",
       "  & <chr> & <chr> & <ppj\\_lbll> & <ppj\\_lbll> & <ppj\\_lbll> & <ppj\\_lbll>\\\\\n",
       "\\hline\n",
       "\tnoun\\_F\\_LC & LC & noun\\_F & 1.62  & \\${[}1.01\\$, \\$2.23{]}\\$   & 5.25  & < .001\\\\\n",
       "\tnoun\\_M\\_LC &    & noun\\_M & 1.71  & \\${[}1.11\\$, \\$2.32{]}\\$   & 5.55  & < .001\\\\\n",
       "\tverb\\_X\\_LC &    & verb\\_X & 1.62  & \\${[}1.02\\$, \\$2.23{]}\\$   & 5.26  & < .001\\\\\n",
       "\tnoun\\_F\\_LF & LF & noun\\_F & -0.82 & \\${[}-1.43\\$, \\$-0.21{]}\\$ & -2.65 & .008  \\\\\n",
       "\tnoun\\_M\\_LF &    & noun\\_M & -0.93 & \\${[}-1.54\\$, \\$-0.32{]}\\$ & -3.01 & .003  \\\\\n",
       "\tverb\\_X\\_LF &    & verb\\_X & -1.03 & \\${[}-1.63\\$, \\$-0.42{]}\\$ & -3.33 & .001  \\\\\n",
       "\tnoun\\_F\\_LP & LP & noun\\_F & 2.62  & \\${[}2.02\\$, \\$3.23{]}\\$   & 8.50  & < .001\\\\\n",
       "\tnoun\\_M\\_LP &    & noun\\_M & 2.93  & \\${[}2.33\\$, \\$3.54{]}\\$   & 9.51  & < .001\\\\\n",
       "\tverb\\_X\\_LP &    & verb\\_X & 2.68  & \\${[}2.07\\$, \\$3.29{]}\\$   & 8.68  & < .001\\\\\n",
       "\tnoun\\_F\\_RC & RC & noun\\_F & 1.89  & \\${[}1.28\\$, \\$2.49{]}\\$   & 6.11  & < .001\\\\\n",
       "\tnoun\\_M\\_RC &    & noun\\_M & 1.81  & \\${[}1.20\\$, \\$2.42{]}\\$   & 5.86  & < .001\\\\\n",
       "\tverb\\_X\\_RC &    & verb\\_X & 1.83  & \\${[}1.22\\$, \\$2.44{]}\\$   & 5.93  & < .001\\\\\n",
       "\tnoun\\_F\\_RF & RF & noun\\_F & -0.91 & \\${[}-1.52\\$, \\$-0.31{]}\\$ & -2.96 & .003  \\\\\n",
       "\tnoun\\_M\\_RF &    & noun\\_M & -1.30 & \\${[}-1.91\\$, \\$-0.70{]}\\$ & -4.22 & < .001\\\\\n",
       "\tverb\\_X\\_RF &    & verb\\_X & -1.01 & \\${[}-1.62\\$, \\$-0.41{]}\\$ & -3.28 & .001  \\\\\n",
       "\tnoun\\_F\\_RP & RP & noun\\_F & 3.98  & \\${[}3.38\\$, \\$4.59{]}\\$   & 12.91 & < .001\\\\\n",
       "\tnoun\\_M\\_RP &    & noun\\_M & 4.28  & \\${[}3.67\\$, \\$4.89{]}\\$   & 13.86 & < .001\\\\\n",
       "\tverb\\_X\\_RP &    & verb\\_X & 4.03  & \\${[}3.42\\$, \\$4.63{]}\\$   & 13.04 & < .001\\\\\n",
       "\\end{tabular}\n"
      ],
      "text/markdown": [
       "\n",
       "A apa_results_table: 18 × 6\n",
       "\n",
       "| <!--/--> | chan0 &lt;chr&gt; | cond0 &lt;chr&gt; | estimate &lt;ppj_lbll&gt; | ci &lt;ppj_lbll&gt; | statistic &lt;ppj_lbll&gt; | p.value &lt;ppj_lbll&gt; |\n",
       "|---|---|---|---|---|---|---|\n",
       "| noun_F_LC | LC | noun_F | 1.62  | $[1.01$, $2.23]$   | 5.25  | &lt; .001 |\n",
       "| noun_M_LC | <!----> | noun_M | 1.71  | $[1.11$, $2.32]$   | 5.55  | &lt; .001 |\n",
       "| verb_X_LC | <!----> | verb_X | 1.62  | $[1.02$, $2.23]$   | 5.26  | &lt; .001 |\n",
       "| noun_F_LF | LF | noun_F | -0.82 | $[-1.43$, $-0.21]$ | -2.65 | .008   |\n",
       "| noun_M_LF | <!----> | noun_M | -0.93 | $[-1.54$, $-0.32]$ | -3.01 | .003   |\n",
       "| verb_X_LF | <!----> | verb_X | -1.03 | $[-1.63$, $-0.42]$ | -3.33 | .001   |\n",
       "| noun_F_LP | LP | noun_F | 2.62  | $[2.02$, $3.23]$   | 8.50  | &lt; .001 |\n",
       "| noun_M_LP | <!----> | noun_M | 2.93  | $[2.33$, $3.54]$   | 9.51  | &lt; .001 |\n",
       "| verb_X_LP | <!----> | verb_X | 2.68  | $[2.07$, $3.29]$   | 8.68  | &lt; .001 |\n",
       "| noun_F_RC | RC | noun_F | 1.89  | $[1.28$, $2.49]$   | 6.11  | &lt; .001 |\n",
       "| noun_M_RC | <!----> | noun_M | 1.81  | $[1.20$, $2.42]$   | 5.86  | &lt; .001 |\n",
       "| verb_X_RC | <!----> | verb_X | 1.83  | $[1.22$, $2.44]$   | 5.93  | &lt; .001 |\n",
       "| noun_F_RF | RF | noun_F | -0.91 | $[-1.52$, $-0.31]$ | -2.96 | .003   |\n",
       "| noun_M_RF | <!----> | noun_M | -1.30 | $[-1.91$, $-0.70]$ | -4.22 | &lt; .001 |\n",
       "| verb_X_RF | <!----> | verb_X | -1.01 | $[-1.62$, $-0.41]$ | -3.28 | .001   |\n",
       "| noun_F_RP | RP | noun_F | 3.98  | $[3.38$, $4.59]$   | 12.91 | &lt; .001 |\n",
       "| noun_M_RP | <!----> | noun_M | 4.28  | $[3.67$, $4.89]$   | 13.86 | &lt; .001 |\n",
       "| verb_X_RP | <!----> | verb_X | 4.03  | $[3.42$, $4.63]$   | 13.04 | &lt; .001 |\n",
       "\n"
      ],
      "text/plain": [
       "          chan0 cond0  estimate ci                 statistic p.value\n",
       "noun_F_LC LC    noun_F 1.62     $[1.01$, $2.23]$   5.25      < .001 \n",
       "noun_M_LC       noun_M 1.71     $[1.11$, $2.32]$   5.55      < .001 \n",
       "verb_X_LC       verb_X 1.62     $[1.02$, $2.23]$   5.26      < .001 \n",
       "noun_F_LF LF    noun_F -0.82    $[-1.43$, $-0.21]$ -2.65     .008   \n",
       "noun_M_LF       noun_M -0.93    $[-1.54$, $-0.32]$ -3.01     .003   \n",
       "verb_X_LF       verb_X -1.03    $[-1.63$, $-0.42]$ -3.33     .001   \n",
       "noun_F_LP LP    noun_F 2.62     $[2.02$, $3.23]$   8.50      < .001 \n",
       "noun_M_LP       noun_M 2.93     $[2.33$, $3.54]$   9.51      < .001 \n",
       "verb_X_LP       verb_X 2.68     $[2.07$, $3.29]$   8.68      < .001 \n",
       "noun_F_RC RC    noun_F 1.89     $[1.28$, $2.49]$   6.11      < .001 \n",
       "noun_M_RC       noun_M 1.81     $[1.20$, $2.42]$   5.86      < .001 \n",
       "verb_X_RC       verb_X 1.83     $[1.22$, $2.44]$   5.93      < .001 \n",
       "noun_F_RF RF    noun_F -0.91    $[-1.52$, $-0.31]$ -2.96     .003   \n",
       "noun_M_RF       noun_M -1.30    $[-1.91$, $-0.70]$ -4.22     < .001 \n",
       "verb_X_RF       verb_X -1.01    $[-1.62$, $-0.41]$ -3.28     .001   \n",
       "noun_F_RP RP    noun_F 3.98     $[3.38$, $4.59]$   12.91     < .001 \n",
       "noun_M_RP       noun_M 4.28     $[3.67$, $4.89]$   13.86     < .001 \n",
       "verb_X_RP       verb_X 4.03     $[3.42$, $4.63]$   13.04     < .001 "
      ]
     },
     "metadata": {},
     "output_type": "display_data"
    },
    {
     "data": {
      "text/markdown": [
       "### Paired comparisons for expected marginal means"
      ]
     },
     "metadata": {},
     "output_type": "display_data"
    },
    {
     "data": {
      "text/html": [
       "<table>\n",
       "<caption>A apa_results_table: 18 × 6</caption>\n",
       "<thead>\n",
       "\t<tr><th></th><th scope=col>chan0</th><th scope=col>contrast</th><th scope=col>estimate</th><th scope=col>ci</th><th scope=col>statistic</th><th scope=col>p.value</th></tr>\n",
       "\t<tr><th></th><th scope=col>&lt;chr&gt;</th><th scope=col>&lt;ppj_lbll&gt;</th><th scope=col>&lt;ppj_lbll&gt;</th><th scope=col>&lt;ppj_lbll&gt;</th><th scope=col>&lt;ppj_lbll&gt;</th><th scope=col>&lt;ppj_lbll&gt;</th></tr>\n",
       "</thead>\n",
       "<tbody>\n",
       "\t<tr><th scope=row>LC_noun_F_noun_M</th><td>LC</td><td>noun_F - noun_M</td><td>-0.09</td><td>$[-0.43$, $0.24]$</td><td>-0.65</td><td>.790  </td></tr>\n",
       "\t<tr><th scope=row>LC_noun_F_verb_X</th><td><span style=white-space:pre-wrap>  </span></td><td>noun_F - verb_X</td><td>0.00 </td><td>$[-0.34$, $0.33]$</td><td>-0.02</td><td>&gt; .999</td></tr>\n",
       "\t<tr><th scope=row>LC_noun_M_verb_X</th><td>  </td><td>noun_M - verb_X</td><td>0.09 </td><td>$[-0.25$, $0.43]$</td><td>0.63 </td><td>.801  </td></tr>\n",
       "\t<tr><th scope=row>LF_noun_F_noun_M</th><td>LF</td><td>noun_F - noun_M</td><td>0.11 </td><td>$[-0.23$, $0.45]$</td><td>0.76 </td><td>.728  </td></tr>\n",
       "\t<tr><th scope=row>LF_noun_F_verb_X</th><td>  </td><td>noun_F - verb_X</td><td>0.21 </td><td>$[-0.13$, $0.54]$</td><td>1.45 </td><td>.316  </td></tr>\n",
       "\t<tr><th scope=row>LF_noun_M_verb_X</th><td>  </td><td>noun_M - verb_X</td><td>0.10 </td><td>$[-0.24$, $0.44]$</td><td>0.69 </td><td>.770  </td></tr>\n",
       "\t<tr><th scope=row>LP_noun_F_noun_M</th><td>LP</td><td>noun_F - noun_M</td><td>-0.31</td><td>$[-0.65$, $0.02]$</td><td>-2.18</td><td>.076  </td></tr>\n",
       "\t<tr><th scope=row>LP_noun_F_verb_X</th><td>  </td><td>noun_F - verb_X</td><td>-0.05</td><td>$[-0.39$, $0.28]$</td><td>-0.38</td><td>.923  </td></tr>\n",
       "\t<tr><th scope=row>LP_noun_M_verb_X</th><td>  </td><td>noun_M - verb_X</td><td>0.26 </td><td>$[-0.08$, $0.59]$</td><td>1.79 </td><td>.172  </td></tr>\n",
       "\t<tr><th scope=row>RC_noun_F_noun_M</th><td>RC</td><td>noun_F - noun_M</td><td>0.08 </td><td>$[-0.26$, $0.41]$</td><td>0.55 </td><td>.847  </td></tr>\n",
       "\t<tr><th scope=row>RC_noun_F_verb_X</th><td>  </td><td>noun_F - verb_X</td><td>0.06 </td><td>$[-0.28$, $0.39]$</td><td>0.40 </td><td>.918  </td></tr>\n",
       "\t<tr><th scope=row>RC_noun_M_verb_X</th><td>  </td><td>noun_M - verb_X</td><td>-0.02</td><td>$[-0.36$, $0.31]$</td><td>-0.15</td><td>.987  </td></tr>\n",
       "\t<tr><th scope=row>RF_noun_F_noun_M</th><td>RF</td><td>noun_F - noun_M</td><td>0.39 </td><td>$[0.05$, $0.73]$ </td><td>2.72 </td><td>.019  </td></tr>\n",
       "\t<tr><th scope=row>RF_noun_F_verb_X</th><td>  </td><td>noun_F - verb_X</td><td>0.10 </td><td>$[-0.24$, $0.44]$</td><td>0.69 </td><td>.769  </td></tr>\n",
       "\t<tr><th scope=row>RF_noun_M_verb_X</th><td>  </td><td>noun_M - verb_X</td><td>-0.29</td><td>$[-0.63$, $0.05]$</td><td>-2.03</td><td>.107  </td></tr>\n",
       "\t<tr><th scope=row>RP_noun_F_noun_M</th><td>RP</td><td>noun_F - noun_M</td><td>-0.29</td><td>$[-0.63$, $0.04]$</td><td>-2.06</td><td>.099  </td></tr>\n",
       "\t<tr><th scope=row>RP_noun_F_verb_X</th><td>  </td><td>noun_F - verb_X</td><td>-0.04</td><td>$[-0.38$, $0.30]$</td><td>-0.29</td><td>.955  </td></tr>\n",
       "\t<tr><th scope=row>RP_noun_M_verb_X</th><td>  </td><td>noun_M - verb_X</td><td>0.25 </td><td>$[-0.08$, $0.59]$</td><td>1.77 </td><td>.180  </td></tr>\n",
       "</tbody>\n",
       "</table>\n"
      ],
      "text/latex": [
       "A apa\\_results\\_table: 18 × 6\n",
       "\\begin{tabular}{r|llllll}\n",
       "  & chan0 & contrast & estimate & ci & statistic & p.value\\\\\n",
       "  & <chr> & <ppj\\_lbll> & <ppj\\_lbll> & <ppj\\_lbll> & <ppj\\_lbll> & <ppj\\_lbll>\\\\\n",
       "\\hline\n",
       "\tLC\\_noun\\_F\\_noun\\_M & LC & noun\\_F - noun\\_M & -0.09 & \\${[}-0.43\\$, \\$0.24{]}\\$ & -0.65 & .790  \\\\\n",
       "\tLC\\_noun\\_F\\_verb\\_X &    & noun\\_F - verb\\_X & 0.00  & \\${[}-0.34\\$, \\$0.33{]}\\$ & -0.02 & > .999\\\\\n",
       "\tLC\\_noun\\_M\\_verb\\_X &    & noun\\_M - verb\\_X & 0.09  & \\${[}-0.25\\$, \\$0.43{]}\\$ & 0.63  & .801  \\\\\n",
       "\tLF\\_noun\\_F\\_noun\\_M & LF & noun\\_F - noun\\_M & 0.11  & \\${[}-0.23\\$, \\$0.45{]}\\$ & 0.76  & .728  \\\\\n",
       "\tLF\\_noun\\_F\\_verb\\_X &    & noun\\_F - verb\\_X & 0.21  & \\${[}-0.13\\$, \\$0.54{]}\\$ & 1.45  & .316  \\\\\n",
       "\tLF\\_noun\\_M\\_verb\\_X &    & noun\\_M - verb\\_X & 0.10  & \\${[}-0.24\\$, \\$0.44{]}\\$ & 0.69  & .770  \\\\\n",
       "\tLP\\_noun\\_F\\_noun\\_M & LP & noun\\_F - noun\\_M & -0.31 & \\${[}-0.65\\$, \\$0.02{]}\\$ & -2.18 & .076  \\\\\n",
       "\tLP\\_noun\\_F\\_verb\\_X &    & noun\\_F - verb\\_X & -0.05 & \\${[}-0.39\\$, \\$0.28{]}\\$ & -0.38 & .923  \\\\\n",
       "\tLP\\_noun\\_M\\_verb\\_X &    & noun\\_M - verb\\_X & 0.26  & \\${[}-0.08\\$, \\$0.59{]}\\$ & 1.79  & .172  \\\\\n",
       "\tRC\\_noun\\_F\\_noun\\_M & RC & noun\\_F - noun\\_M & 0.08  & \\${[}-0.26\\$, \\$0.41{]}\\$ & 0.55  & .847  \\\\\n",
       "\tRC\\_noun\\_F\\_verb\\_X &    & noun\\_F - verb\\_X & 0.06  & \\${[}-0.28\\$, \\$0.39{]}\\$ & 0.40  & .918  \\\\\n",
       "\tRC\\_noun\\_M\\_verb\\_X &    & noun\\_M - verb\\_X & -0.02 & \\${[}-0.36\\$, \\$0.31{]}\\$ & -0.15 & .987  \\\\\n",
       "\tRF\\_noun\\_F\\_noun\\_M & RF & noun\\_F - noun\\_M & 0.39  & \\${[}0.05\\$, \\$0.73{]}\\$  & 2.72  & .019  \\\\\n",
       "\tRF\\_noun\\_F\\_verb\\_X &    & noun\\_F - verb\\_X & 0.10  & \\${[}-0.24\\$, \\$0.44{]}\\$ & 0.69  & .769  \\\\\n",
       "\tRF\\_noun\\_M\\_verb\\_X &    & noun\\_M - verb\\_X & -0.29 & \\${[}-0.63\\$, \\$0.05{]}\\$ & -2.03 & .107  \\\\\n",
       "\tRP\\_noun\\_F\\_noun\\_M & RP & noun\\_F - noun\\_M & -0.29 & \\${[}-0.63\\$, \\$0.04{]}\\$ & -2.06 & .099  \\\\\n",
       "\tRP\\_noun\\_F\\_verb\\_X &    & noun\\_F - verb\\_X & -0.04 & \\${[}-0.38\\$, \\$0.30{]}\\$ & -0.29 & .955  \\\\\n",
       "\tRP\\_noun\\_M\\_verb\\_X &    & noun\\_M - verb\\_X & 0.25  & \\${[}-0.08\\$, \\$0.59{]}\\$ & 1.77  & .180  \\\\\n",
       "\\end{tabular}\n"
      ],
      "text/markdown": [
       "\n",
       "A apa_results_table: 18 × 6\n",
       "\n",
       "| <!--/--> | chan0 &lt;chr&gt; | contrast &lt;ppj_lbll&gt; | estimate &lt;ppj_lbll&gt; | ci &lt;ppj_lbll&gt; | statistic &lt;ppj_lbll&gt; | p.value &lt;ppj_lbll&gt; |\n",
       "|---|---|---|---|---|---|---|\n",
       "| LC_noun_F_noun_M | LC | noun_F - noun_M | -0.09 | $[-0.43$, $0.24]$ | -0.65 | .790   |\n",
       "| LC_noun_F_verb_X | <!----> | noun_F - verb_X | 0.00  | $[-0.34$, $0.33]$ | -0.02 | &gt; .999 |\n",
       "| LC_noun_M_verb_X | <!----> | noun_M - verb_X | 0.09  | $[-0.25$, $0.43]$ | 0.63  | .801   |\n",
       "| LF_noun_F_noun_M | LF | noun_F - noun_M | 0.11  | $[-0.23$, $0.45]$ | 0.76  | .728   |\n",
       "| LF_noun_F_verb_X | <!----> | noun_F - verb_X | 0.21  | $[-0.13$, $0.54]$ | 1.45  | .316   |\n",
       "| LF_noun_M_verb_X | <!----> | noun_M - verb_X | 0.10  | $[-0.24$, $0.44]$ | 0.69  | .770   |\n",
       "| LP_noun_F_noun_M | LP | noun_F - noun_M | -0.31 | $[-0.65$, $0.02]$ | -2.18 | .076   |\n",
       "| LP_noun_F_verb_X | <!----> | noun_F - verb_X | -0.05 | $[-0.39$, $0.28]$ | -0.38 | .923   |\n",
       "| LP_noun_M_verb_X | <!----> | noun_M - verb_X | 0.26  | $[-0.08$, $0.59]$ | 1.79  | .172   |\n",
       "| RC_noun_F_noun_M | RC | noun_F - noun_M | 0.08  | $[-0.26$, $0.41]$ | 0.55  | .847   |\n",
       "| RC_noun_F_verb_X | <!----> | noun_F - verb_X | 0.06  | $[-0.28$, $0.39]$ | 0.40  | .918   |\n",
       "| RC_noun_M_verb_X | <!----> | noun_M - verb_X | -0.02 | $[-0.36$, $0.31]$ | -0.15 | .987   |\n",
       "| RF_noun_F_noun_M | RF | noun_F - noun_M | 0.39  | $[0.05$, $0.73]$  | 2.72  | .019   |\n",
       "| RF_noun_F_verb_X | <!----> | noun_F - verb_X | 0.10  | $[-0.24$, $0.44]$ | 0.69  | .769   |\n",
       "| RF_noun_M_verb_X | <!----> | noun_M - verb_X | -0.29 | $[-0.63$, $0.05]$ | -2.03 | .107   |\n",
       "| RP_noun_F_noun_M | RP | noun_F - noun_M | -0.29 | $[-0.63$, $0.04]$ | -2.06 | .099   |\n",
       "| RP_noun_F_verb_X | <!----> | noun_F - verb_X | -0.04 | $[-0.38$, $0.30]$ | -0.29 | .955   |\n",
       "| RP_noun_M_verb_X | <!----> | noun_M - verb_X | 0.25  | $[-0.08$, $0.59]$ | 1.77  | .180   |\n",
       "\n"
      ],
      "text/plain": [
       "                 chan0 contrast        estimate ci                statistic p.value\n",
       "LC_noun_F_noun_M LC    noun_F - noun_M -0.09    $[-0.43$, $0.24]$ -0.65     .790   \n",
       "LC_noun_F_verb_X       noun_F - verb_X 0.00     $[-0.34$, $0.33]$ -0.02     > .999 \n",
       "LC_noun_M_verb_X       noun_M - verb_X 0.09     $[-0.25$, $0.43]$ 0.63      .801   \n",
       "LF_noun_F_noun_M LF    noun_F - noun_M 0.11     $[-0.23$, $0.45]$ 0.76      .728   \n",
       "LF_noun_F_verb_X       noun_F - verb_X 0.21     $[-0.13$, $0.54]$ 1.45      .316   \n",
       "LF_noun_M_verb_X       noun_M - verb_X 0.10     $[-0.24$, $0.44]$ 0.69      .770   \n",
       "LP_noun_F_noun_M LP    noun_F - noun_M -0.31    $[-0.65$, $0.02]$ -2.18     .076   \n",
       "LP_noun_F_verb_X       noun_F - verb_X -0.05    $[-0.39$, $0.28]$ -0.38     .923   \n",
       "LP_noun_M_verb_X       noun_M - verb_X 0.26     $[-0.08$, $0.59]$ 1.79      .172   \n",
       "RC_noun_F_noun_M RC    noun_F - noun_M 0.08     $[-0.26$, $0.41]$ 0.55      .847   \n",
       "RC_noun_F_verb_X       noun_F - verb_X 0.06     $[-0.28$, $0.39]$ 0.40      .918   \n",
       "RC_noun_M_verb_X       noun_M - verb_X -0.02    $[-0.36$, $0.31]$ -0.15     .987   \n",
       "RF_noun_F_noun_M RF    noun_F - noun_M 0.39     $[0.05$, $0.73]$  2.72      .019   \n",
       "RF_noun_F_verb_X       noun_F - verb_X 0.10     $[-0.24$, $0.44]$ 0.69      .769   \n",
       "RF_noun_M_verb_X       noun_M - verb_X -0.29    $[-0.63$, $0.05]$ -2.03     .107   \n",
       "RP_noun_F_noun_M RP    noun_F - noun_M -0.29    $[-0.63$, $0.04]$ -2.06     .099   \n",
       "RP_noun_F_verb_X       noun_F - verb_X -0.04    $[-0.38$, $0.30]$ -0.29     .955   \n",
       "RP_noun_M_verb_X       noun_M - verb_X 0.25     $[-0.08$, $0.59]$ 1.77      .180   "
      ]
     },
     "metadata": {},
     "output_type": "display_data"
    }
   ],
   "source": [
    "IDX <- IDX+1; COND <- CONDS[IDX]\n",
    "data1 <- droplevels(subset(df1, eval(parse(text=COND)))); data1 <- data1[complete.cases(data1),]; done1 <- AOV4(data1,COND)\n",
    "display_markdown(str_c(\"# Condition \",IDX,\" of \",length(CONDS))); display_markdown(done1$info); display_markdown(\"### Table\"); done1$aov_APA$table; display_markdown(\"### Result\"); display_markdown(done1$aov_APA[[\"full_result\"]][[\"cond0\"]]); display_markdown(\"### Summary (all done1, incl. NANs)\"); done1$summary; display_markdown(\"### Expected marginal means\"); done1$emm_APA$table; display_markdown(\"### Paired comparisons for expected marginal means\"); done1$pairs_APA$table"
   ]
  },
  {
   "cell_type": "code",
   "execution_count": 26,
   "metadata": {},
   "outputs": [
    {
     "data": {
      "text/markdown": [
       "# Condition 8 of 12"
      ]
     },
     "metadata": {},
     "output_type": "display_data"
    },
    {
     "data": {
      "text/markdown": [
       "`tmin0==0.41 & mode0==\"neg\"`"
      ]
     },
     "metadata": {},
     "output_type": "display_data"
    },
    {
     "data": {
      "text/markdown": [
       "### Table"
      ]
     },
     "metadata": {},
     "output_type": "display_data"
    },
    {
     "data": {
      "text/html": [
       "<table>\n",
       "<caption>A apa_results_table: 3 × 7</caption>\n",
       "<thead>\n",
       "\t<tr><th></th><th scope=col>Effect</th><th scope=col>F</th><th scope=col>df1</th><th scope=col>df2</th><th scope=col>MSE</th><th scope=col>p</th><th scope=col>ges</th></tr>\n",
       "\t<tr><th></th><th scope=col>&lt;ppj_lbll&gt;</th><th scope=col>&lt;ppj_lbll&gt;</th><th scope=col>&lt;ppj_lbll&gt;</th><th scope=col>&lt;ppj_lbll&gt;</th><th scope=col>&lt;ppj_lbll&gt;</th><th scope=col>&lt;ppj_lbll&gt;</th><th scope=col>&lt;ppj_lbll&gt;</th></tr>\n",
       "</thead>\n",
       "<tbody>\n",
       "\t<tr><th scope=row>1</th><td>Cond0                </td><td>4.34 </td><td>1.39</td><td>57.12 </td><td>0.77 </td><td>.029  </td><td>.001</td></tr>\n",
       "\t<tr><th scope=row>2</th><td><span style=white-space:pre-wrap>Chan0                </span></td><td>42.48</td><td>2.02</td><td>82.78 </td><td>30.59</td><td>&lt; .001</td><td>.450</td></tr>\n",
       "\t<tr><th scope=row>3</th><td>Cond0 $\\times$ Chan0</td><td>1.86 </td><td>4.05</td><td>166.14</td><td>1.10 </td><td>.118  </td><td>.003</td></tr>\n",
       "</tbody>\n",
       "</table>\n"
      ],
      "text/latex": [
       "A apa\\_results\\_table: 3 × 7\n",
       "\\begin{tabular}{r|lllllll}\n",
       "  & Effect & F & df1 & df2 & MSE & p & ges\\\\\n",
       "  & <ppj\\_lbll> & <ppj\\_lbll> & <ppj\\_lbll> & <ppj\\_lbll> & <ppj\\_lbll> & <ppj\\_lbll> & <ppj\\_lbll>\\\\\n",
       "\\hline\n",
       "\t1 & Cond0                 & 4.34  & 1.39 & 57.12  & 0.77  & .029   & .001\\\\\n",
       "\t2 & Chan0                 & 42.48 & 2.02 & 82.78  & 30.59 & < .001 & .450\\\\\n",
       "\t3 & Cond0 \\$\\textbackslash{}times\\$ Chan0 & 1.86  & 4.05 & 166.14 & 1.10  & .118   & .003\\\\\n",
       "\\end{tabular}\n"
      ],
      "text/markdown": [
       "\n",
       "A apa_results_table: 3 × 7\n",
       "\n",
       "| <!--/--> | Effect &lt;ppj_lbll&gt; | F &lt;ppj_lbll&gt; | df1 &lt;ppj_lbll&gt; | df2 &lt;ppj_lbll&gt; | MSE &lt;ppj_lbll&gt; | p &lt;ppj_lbll&gt; | ges &lt;ppj_lbll&gt; |\n",
       "|---|---|---|---|---|---|---|---|\n",
       "| 1 | Cond0                 | 4.34  | 1.39 | 57.12  | 0.77  | .029   | .001 |\n",
       "| 2 | Chan0                 | 42.48 | 2.02 | 82.78  | 30.59 | &lt; .001 | .450 |\n",
       "| 3 | Cond0 $\\times$ Chan0 | 1.86  | 4.05 | 166.14 | 1.10  | .118   | .003 |\n",
       "\n"
      ],
      "text/plain": [
       "  Effect                F     df1  df2    MSE   p      ges \n",
       "1 Cond0                 4.34  1.39 57.12  0.77  .029   .001\n",
       "2 Chan0                 42.48 2.02 82.78  30.59 < .001 .450\n",
       "3 Cond0 $\\\\times$ Chan0 1.86  4.05 166.14 1.10  .118   .003"
      ]
     },
     "metadata": {},
     "output_type": "display_data"
    },
    {
     "data": {
      "text/markdown": [
       "### Result"
      ]
     },
     "metadata": {},
     "output_type": "display_data"
    },
    {
     "data": {
      "text/markdown": [
       "$F(1.39, 57.12) = 4.34$, $\\mathit{MSE} = 0.77$, $p = .029$, $\\hat{\\eta}^2_G = .001$"
      ]
     },
     "metadata": {},
     "output_type": "display_data"
    },
    {
     "data": {
      "text/markdown": [
       "### Summary (all done1, incl. NANs)"
      ]
     },
     "metadata": {},
     "output_type": "display_data"
    },
    {
     "data": {
      "text/html": [
       "<table>\n",
       "<caption>A tibble: 3 × 5</caption>\n",
       "<thead>\n",
       "\t<tr><th scope=col>cond0</th><th scope=col>N</th><th scope=col>valX_M</th><th scope=col>valX_SD</th><th scope=col>valX_SE</th></tr>\n",
       "\t<tr><th scope=col>&lt;fct&gt;</th><th scope=col>&lt;int&gt;</th><th scope=col>&lt;dbl&gt;</th><th scope=col>&lt;dbl&gt;</th><th scope=col>&lt;dbl&gt;</th></tr>\n",
       "</thead>\n",
       "<tbody>\n",
       "\t<tr><td>noun_F</td><td>252</td><td>-0.9018101</td><td>2.813277</td><td>0.1772198</td></tr>\n",
       "\t<tr><td>noun_M</td><td>252</td><td>-0.9031400</td><td>2.705026</td><td>0.1704006</td></tr>\n",
       "\t<tr><td>verb_X</td><td>252</td><td>-0.7359581</td><td>2.830054</td><td>0.1782766</td></tr>\n",
       "</tbody>\n",
       "</table>\n"
      ],
      "text/latex": [
       "A tibble: 3 × 5\n",
       "\\begin{tabular}{lllll}\n",
       " cond0 & N & valX\\_M & valX\\_SD & valX\\_SE\\\\\n",
       " <fct> & <int> & <dbl> & <dbl> & <dbl>\\\\\n",
       "\\hline\n",
       "\t noun\\_F & 252 & -0.9018101 & 2.813277 & 0.1772198\\\\\n",
       "\t noun\\_M & 252 & -0.9031400 & 2.705026 & 0.1704006\\\\\n",
       "\t verb\\_X & 252 & -0.7359581 & 2.830054 & 0.1782766\\\\\n",
       "\\end{tabular}\n"
      ],
      "text/markdown": [
       "\n",
       "A tibble: 3 × 5\n",
       "\n",
       "| cond0 &lt;fct&gt; | N &lt;int&gt; | valX_M &lt;dbl&gt; | valX_SD &lt;dbl&gt; | valX_SE &lt;dbl&gt; |\n",
       "|---|---|---|---|---|\n",
       "| noun_F | 252 | -0.9018101 | 2.813277 | 0.1772198 |\n",
       "| noun_M | 252 | -0.9031400 | 2.705026 | 0.1704006 |\n",
       "| verb_X | 252 | -0.7359581 | 2.830054 | 0.1782766 |\n",
       "\n"
      ],
      "text/plain": [
       "  cond0  N   valX_M     valX_SD  valX_SE  \n",
       "1 noun_F 252 -0.9018101 2.813277 0.1772198\n",
       "2 noun_M 252 -0.9031400 2.705026 0.1704006\n",
       "3 verb_X 252 -0.7359581 2.830054 0.1782766"
      ]
     },
     "metadata": {},
     "output_type": "display_data"
    },
    {
     "data": {
      "text/markdown": [
       "### Expected marginal means"
      ]
     },
     "metadata": {},
     "output_type": "display_data"
    },
    {
     "data": {
      "text/html": [
       "<table>\n",
       "<caption>A apa_results_table: 18 × 6</caption>\n",
       "<thead>\n",
       "\t<tr><th></th><th scope=col>chan0</th><th scope=col>cond0</th><th scope=col>estimate</th><th scope=col>ci</th><th scope=col>statistic</th><th scope=col>p.value</th></tr>\n",
       "\t<tr><th></th><th scope=col>&lt;chr&gt;</th><th scope=col>&lt;chr&gt;</th><th scope=col>&lt;ppj_lbll&gt;</th><th scope=col>&lt;ppj_lbll&gt;</th><th scope=col>&lt;ppj_lbll&gt;</th><th scope=col>&lt;ppj_lbll&gt;</th></tr>\n",
       "</thead>\n",
       "<tbody>\n",
       "\t<tr><th scope=row>noun_F_LC</th><td>LC</td><td>noun_F</td><td>0.06 </td><td>$[-0.57$, $0.70]$ </td><td>0.20  </td><td>.841  </td></tr>\n",
       "\t<tr><th scope=row>noun_M_LC</th><td>  </td><td>noun_M</td><td>0.08 </td><td>$[-0.56$, $0.71]$ </td><td>0.24  </td><td>.812  </td></tr>\n",
       "\t<tr><th scope=row>verb_X_LC</th><td>  </td><td>verb_X</td><td>0.22 </td><td>$[-0.41$, $0.85]$ </td><td>0.69  </td><td>.490  </td></tr>\n",
       "\t<tr><th scope=row>noun_F_LF</th><td>LF</td><td>noun_F</td><td>-3.17</td><td>$[-3.81$, $-2.54]$</td><td>-9.88 </td><td>&lt; .001</td></tr>\n",
       "\t<tr><th scope=row>noun_M_LF</th><td><span style=white-space:pre-wrap>  </span></td><td>noun_M</td><td>-3.38</td><td>$[-4.01$, $-2.75]$</td><td>-10.52</td><td>&lt; .001</td></tr>\n",
       "\t<tr><th scope=row>verb_X_LF</th><td><span style=white-space:pre-wrap>  </span></td><td>verb_X</td><td>-3.12</td><td>$[-3.75$, $-2.49]$</td><td>-9.70 </td><td>&lt; .001</td></tr>\n",
       "\t<tr><th scope=row>noun_F_LP</th><td>LP</td><td>noun_F</td><td>-0.23</td><td>$[-0.86$, $0.41]$ </td><td>-0.70 </td><td>.484  </td></tr>\n",
       "\t<tr><th scope=row>noun_M_LP</th><td>  </td><td>noun_M</td><td>0.21 </td><td>$[-0.42$, $0.84]$ </td><td>0.66  </td><td>.512  </td></tr>\n",
       "\t<tr><th scope=row>verb_X_LP</th><td>  </td><td>verb_X</td><td>0.04 </td><td>$[-0.59$, $0.67]$ </td><td>0.12  </td><td>.905  </td></tr>\n",
       "\t<tr><th scope=row>noun_F_RC</th><td>RC</td><td>noun_F</td><td>0.25 </td><td>$[-0.38$, $0.89]$ </td><td>0.79  </td><td>.431  </td></tr>\n",
       "\t<tr><th scope=row>noun_M_RC</th><td>  </td><td>noun_M</td><td>0.14 </td><td>$[-0.50$, $0.77]$ </td><td>0.43  </td><td>.671  </td></tr>\n",
       "\t<tr><th scope=row>verb_X_RC</th><td>  </td><td>verb_X</td><td>0.48 </td><td>$[-0.15$, $1.11]$ </td><td>1.50  </td><td>.134  </td></tr>\n",
       "\t<tr><th scope=row>noun_F_RF</th><td>RF</td><td>noun_F</td><td>-3.55</td><td>$[-4.18$, $-2.91]$</td><td>-11.04</td><td>&lt; .001</td></tr>\n",
       "\t<tr><th scope=row>noun_M_RF</th><td><span style=white-space:pre-wrap>  </span></td><td>noun_M</td><td>-3.81</td><td>$[-4.44$, $-3.18]$</td><td>-11.86</td><td>&lt; .001</td></tr>\n",
       "\t<tr><th scope=row>verb_X_RF</th><td><span style=white-space:pre-wrap>  </span></td><td>verb_X</td><td>-3.42</td><td>$[-4.05$, $-2.79]$</td><td>-10.64</td><td>&lt; .001</td></tr>\n",
       "\t<tr><th scope=row>noun_F_RP</th><td>RP</td><td>noun_F</td><td>1.22 </td><td><span style=white-space:pre-wrap>$[0.58$, $1.85]$  </span></td><td><span style=white-space:pre-wrap>3.79  </span></td><td>&lt; .001</td></tr>\n",
       "\t<tr><th scope=row>noun_M_RP</th><td><span style=white-space:pre-wrap>  </span></td><td>noun_M</td><td>1.35 </td><td><span style=white-space:pre-wrap>$[0.72$, $1.98]$  </span></td><td><span style=white-space:pre-wrap>4.20  </span></td><td>&lt; .001</td></tr>\n",
       "\t<tr><th scope=row>verb_X_RP</th><td><span style=white-space:pre-wrap>  </span></td><td>verb_X</td><td>1.38 </td><td><span style=white-space:pre-wrap>$[0.74$, $2.01]$  </span></td><td><span style=white-space:pre-wrap>4.29  </span></td><td>&lt; .001</td></tr>\n",
       "</tbody>\n",
       "</table>\n"
      ],
      "text/latex": [
       "A apa\\_results\\_table: 18 × 6\n",
       "\\begin{tabular}{r|llllll}\n",
       "  & chan0 & cond0 & estimate & ci & statistic & p.value\\\\\n",
       "  & <chr> & <chr> & <ppj\\_lbll> & <ppj\\_lbll> & <ppj\\_lbll> & <ppj\\_lbll>\\\\\n",
       "\\hline\n",
       "\tnoun\\_F\\_LC & LC & noun\\_F & 0.06  & \\${[}-0.57\\$, \\$0.70{]}\\$  & 0.20   & .841  \\\\\n",
       "\tnoun\\_M\\_LC &    & noun\\_M & 0.08  & \\${[}-0.56\\$, \\$0.71{]}\\$  & 0.24   & .812  \\\\\n",
       "\tverb\\_X\\_LC &    & verb\\_X & 0.22  & \\${[}-0.41\\$, \\$0.85{]}\\$  & 0.69   & .490  \\\\\n",
       "\tnoun\\_F\\_LF & LF & noun\\_F & -3.17 & \\${[}-3.81\\$, \\$-2.54{]}\\$ & -9.88  & < .001\\\\\n",
       "\tnoun\\_M\\_LF &    & noun\\_M & -3.38 & \\${[}-4.01\\$, \\$-2.75{]}\\$ & -10.52 & < .001\\\\\n",
       "\tverb\\_X\\_LF &    & verb\\_X & -3.12 & \\${[}-3.75\\$, \\$-2.49{]}\\$ & -9.70  & < .001\\\\\n",
       "\tnoun\\_F\\_LP & LP & noun\\_F & -0.23 & \\${[}-0.86\\$, \\$0.41{]}\\$  & -0.70  & .484  \\\\\n",
       "\tnoun\\_M\\_LP &    & noun\\_M & 0.21  & \\${[}-0.42\\$, \\$0.84{]}\\$  & 0.66   & .512  \\\\\n",
       "\tverb\\_X\\_LP &    & verb\\_X & 0.04  & \\${[}-0.59\\$, \\$0.67{]}\\$  & 0.12   & .905  \\\\\n",
       "\tnoun\\_F\\_RC & RC & noun\\_F & 0.25  & \\${[}-0.38\\$, \\$0.89{]}\\$  & 0.79   & .431  \\\\\n",
       "\tnoun\\_M\\_RC &    & noun\\_M & 0.14  & \\${[}-0.50\\$, \\$0.77{]}\\$  & 0.43   & .671  \\\\\n",
       "\tverb\\_X\\_RC &    & verb\\_X & 0.48  & \\${[}-0.15\\$, \\$1.11{]}\\$  & 1.50   & .134  \\\\\n",
       "\tnoun\\_F\\_RF & RF & noun\\_F & -3.55 & \\${[}-4.18\\$, \\$-2.91{]}\\$ & -11.04 & < .001\\\\\n",
       "\tnoun\\_M\\_RF &    & noun\\_M & -3.81 & \\${[}-4.44\\$, \\$-3.18{]}\\$ & -11.86 & < .001\\\\\n",
       "\tverb\\_X\\_RF &    & verb\\_X & -3.42 & \\${[}-4.05\\$, \\$-2.79{]}\\$ & -10.64 & < .001\\\\\n",
       "\tnoun\\_F\\_RP & RP & noun\\_F & 1.22  & \\${[}0.58\\$, \\$1.85{]}\\$   & 3.79   & < .001\\\\\n",
       "\tnoun\\_M\\_RP &    & noun\\_M & 1.35  & \\${[}0.72\\$, \\$1.98{]}\\$   & 4.20   & < .001\\\\\n",
       "\tverb\\_X\\_RP &    & verb\\_X & 1.38  & \\${[}0.74\\$, \\$2.01{]}\\$   & 4.29   & < .001\\\\\n",
       "\\end{tabular}\n"
      ],
      "text/markdown": [
       "\n",
       "A apa_results_table: 18 × 6\n",
       "\n",
       "| <!--/--> | chan0 &lt;chr&gt; | cond0 &lt;chr&gt; | estimate &lt;ppj_lbll&gt; | ci &lt;ppj_lbll&gt; | statistic &lt;ppj_lbll&gt; | p.value &lt;ppj_lbll&gt; |\n",
       "|---|---|---|---|---|---|---|\n",
       "| noun_F_LC | LC | noun_F | 0.06  | $[-0.57$, $0.70]$  | 0.20   | .841   |\n",
       "| noun_M_LC | <!----> | noun_M | 0.08  | $[-0.56$, $0.71]$  | 0.24   | .812   |\n",
       "| verb_X_LC | <!----> | verb_X | 0.22  | $[-0.41$, $0.85]$  | 0.69   | .490   |\n",
       "| noun_F_LF | LF | noun_F | -3.17 | $[-3.81$, $-2.54]$ | -9.88  | &lt; .001 |\n",
       "| noun_M_LF | <!----> | noun_M | -3.38 | $[-4.01$, $-2.75]$ | -10.52 | &lt; .001 |\n",
       "| verb_X_LF | <!----> | verb_X | -3.12 | $[-3.75$, $-2.49]$ | -9.70  | &lt; .001 |\n",
       "| noun_F_LP | LP | noun_F | -0.23 | $[-0.86$, $0.41]$  | -0.70  | .484   |\n",
       "| noun_M_LP | <!----> | noun_M | 0.21  | $[-0.42$, $0.84]$  | 0.66   | .512   |\n",
       "| verb_X_LP | <!----> | verb_X | 0.04  | $[-0.59$, $0.67]$  | 0.12   | .905   |\n",
       "| noun_F_RC | RC | noun_F | 0.25  | $[-0.38$, $0.89]$  | 0.79   | .431   |\n",
       "| noun_M_RC | <!----> | noun_M | 0.14  | $[-0.50$, $0.77]$  | 0.43   | .671   |\n",
       "| verb_X_RC | <!----> | verb_X | 0.48  | $[-0.15$, $1.11]$  | 1.50   | .134   |\n",
       "| noun_F_RF | RF | noun_F | -3.55 | $[-4.18$, $-2.91]$ | -11.04 | &lt; .001 |\n",
       "| noun_M_RF | <!----> | noun_M | -3.81 | $[-4.44$, $-3.18]$ | -11.86 | &lt; .001 |\n",
       "| verb_X_RF | <!----> | verb_X | -3.42 | $[-4.05$, $-2.79]$ | -10.64 | &lt; .001 |\n",
       "| noun_F_RP | RP | noun_F | 1.22  | $[0.58$, $1.85]$   | 3.79   | &lt; .001 |\n",
       "| noun_M_RP | <!----> | noun_M | 1.35  | $[0.72$, $1.98]$   | 4.20   | &lt; .001 |\n",
       "| verb_X_RP | <!----> | verb_X | 1.38  | $[0.74$, $2.01]$   | 4.29   | &lt; .001 |\n",
       "\n"
      ],
      "text/plain": [
       "          chan0 cond0  estimate ci                 statistic p.value\n",
       "noun_F_LC LC    noun_F 0.06     $[-0.57$, $0.70]$  0.20      .841   \n",
       "noun_M_LC       noun_M 0.08     $[-0.56$, $0.71]$  0.24      .812   \n",
       "verb_X_LC       verb_X 0.22     $[-0.41$, $0.85]$  0.69      .490   \n",
       "noun_F_LF LF    noun_F -3.17    $[-3.81$, $-2.54]$ -9.88     < .001 \n",
       "noun_M_LF       noun_M -3.38    $[-4.01$, $-2.75]$ -10.52    < .001 \n",
       "verb_X_LF       verb_X -3.12    $[-3.75$, $-2.49]$ -9.70     < .001 \n",
       "noun_F_LP LP    noun_F -0.23    $[-0.86$, $0.41]$  -0.70     .484   \n",
       "noun_M_LP       noun_M 0.21     $[-0.42$, $0.84]$  0.66      .512   \n",
       "verb_X_LP       verb_X 0.04     $[-0.59$, $0.67]$  0.12      .905   \n",
       "noun_F_RC RC    noun_F 0.25     $[-0.38$, $0.89]$  0.79      .431   \n",
       "noun_M_RC       noun_M 0.14     $[-0.50$, $0.77]$  0.43      .671   \n",
       "verb_X_RC       verb_X 0.48     $[-0.15$, $1.11]$  1.50      .134   \n",
       "noun_F_RF RF    noun_F -3.55    $[-4.18$, $-2.91]$ -11.04    < .001 \n",
       "noun_M_RF       noun_M -3.81    $[-4.44$, $-3.18]$ -11.86    < .001 \n",
       "verb_X_RF       verb_X -3.42    $[-4.05$, $-2.79]$ -10.64    < .001 \n",
       "noun_F_RP RP    noun_F 1.22     $[0.58$, $1.85]$   3.79      < .001 \n",
       "noun_M_RP       noun_M 1.35     $[0.72$, $1.98]$   4.20      < .001 \n",
       "verb_X_RP       verb_X 1.38     $[0.74$, $2.01]$   4.29      < .001 "
      ]
     },
     "metadata": {},
     "output_type": "display_data"
    },
    {
     "data": {
      "text/markdown": [
       "### Paired comparisons for expected marginal means"
      ]
     },
     "metadata": {},
     "output_type": "display_data"
    },
    {
     "data": {
      "text/html": [
       "<table>\n",
       "<caption>A apa_results_table: 18 × 6</caption>\n",
       "<thead>\n",
       "\t<tr><th></th><th scope=col>chan0</th><th scope=col>contrast</th><th scope=col>estimate</th><th scope=col>ci</th><th scope=col>statistic</th><th scope=col>p.value</th></tr>\n",
       "\t<tr><th></th><th scope=col>&lt;chr&gt;</th><th scope=col>&lt;ppj_lbll&gt;</th><th scope=col>&lt;ppj_lbll&gt;</th><th scope=col>&lt;ppj_lbll&gt;</th><th scope=col>&lt;ppj_lbll&gt;</th><th scope=col>&lt;ppj_lbll&gt;</th></tr>\n",
       "</thead>\n",
       "<tbody>\n",
       "\t<tr><th scope=row>LC_noun_F_noun_M</th><td>LC</td><td>noun_F - noun_M</td><td>-0.01</td><td>$[-0.36$, $0.34]$ </td><td>-0.08</td><td>.996</td></tr>\n",
       "\t<tr><th scope=row>LC_noun_F_verb_X</th><td>  </td><td>noun_F - verb_X</td><td>-0.16</td><td>$[-0.51$, $0.19]$ </td><td>-1.07</td><td>.535</td></tr>\n",
       "\t<tr><th scope=row>LC_noun_M_verb_X</th><td>  </td><td>noun_M - verb_X</td><td>-0.15</td><td>$[-0.49$, $0.20]$ </td><td>-0.98</td><td>.587</td></tr>\n",
       "\t<tr><th scope=row>LF_noun_F_noun_M</th><td>LF</td><td>noun_F - noun_M</td><td>0.21 </td><td>$[-0.14$, $0.56]$ </td><td>1.41 </td><td>.339</td></tr>\n",
       "\t<tr><th scope=row>LF_noun_F_verb_X</th><td>  </td><td>noun_F - verb_X</td><td>-0.06</td><td>$[-0.40$, $0.29]$ </td><td>-0.38</td><td>.925</td></tr>\n",
       "\t<tr><th scope=row>LF_noun_M_verb_X</th><td>  </td><td>noun_M - verb_X</td><td>-0.26</td><td>$[-0.61$, $0.08]$ </td><td>-1.78</td><td>.177</td></tr>\n",
       "\t<tr><th scope=row>LP_noun_F_noun_M</th><td>LP</td><td>noun_F - noun_M</td><td>-0.44</td><td>$[-0.78$, $-0.09]$</td><td>-2.95</td><td>.009</td></tr>\n",
       "\t<tr><th scope=row>LP_noun_F_verb_X</th><td>  </td><td>noun_F - verb_X</td><td>-0.26</td><td>$[-0.61$, $0.08]$ </td><td>-1.78</td><td>.176</td></tr>\n",
       "\t<tr><th scope=row>LP_noun_M_verb_X</th><td>  </td><td>noun_M - verb_X</td><td>0.17 </td><td>$[-0.18$, $0.52]$ </td><td>1.17 </td><td>.474</td></tr>\n",
       "\t<tr><th scope=row>RC_noun_F_noun_M</th><td>RC</td><td>noun_F - noun_M</td><td>0.12 </td><td>$[-0.23$, $0.46]$ </td><td>0.79 </td><td>.710</td></tr>\n",
       "\t<tr><th scope=row>RC_noun_F_verb_X</th><td>  </td><td>noun_F - verb_X</td><td>-0.23</td><td>$[-0.58$, $0.12]$ </td><td>-1.55</td><td>.269</td></tr>\n",
       "\t<tr><th scope=row>RC_noun_M_verb_X</th><td>  </td><td>noun_M - verb_X</td><td>-0.35</td><td>$[-0.69$, $0.00]$ </td><td>-2.34</td><td>.052</td></tr>\n",
       "\t<tr><th scope=row>RF_noun_F_noun_M</th><td>RF</td><td>noun_F - noun_M</td><td>0.27 </td><td>$[-0.08$, $0.61]$ </td><td>1.80 </td><td>.172</td></tr>\n",
       "\t<tr><th scope=row>RF_noun_F_verb_X</th><td>  </td><td>noun_F - verb_X</td><td>-0.13</td><td>$[-0.48$, $0.22]$ </td><td>-0.87</td><td>.660</td></tr>\n",
       "\t<tr><th scope=row>RF_noun_M_verb_X</th><td>  </td><td>noun_M - verb_X</td><td>-0.39</td><td>$[-0.74$, $-0.05]$</td><td>-2.67</td><td>.022</td></tr>\n",
       "\t<tr><th scope=row>RP_noun_F_noun_M</th><td>RP</td><td>noun_F - noun_M</td><td>-0.13</td><td>$[-0.48$, $0.21]$ </td><td>-0.90</td><td>.638</td></tr>\n",
       "\t<tr><th scope=row>RP_noun_F_verb_X</th><td>  </td><td>noun_F - verb_X</td><td>-0.16</td><td>$[-0.51$, $0.19]$ </td><td>-1.08</td><td>.526</td></tr>\n",
       "\t<tr><th scope=row>RP_noun_M_verb_X</th><td>  </td><td>noun_M - verb_X</td><td>-0.03</td><td>$[-0.37$, $0.32]$ </td><td>-0.18</td><td>.983</td></tr>\n",
       "</tbody>\n",
       "</table>\n"
      ],
      "text/latex": [
       "A apa\\_results\\_table: 18 × 6\n",
       "\\begin{tabular}{r|llllll}\n",
       "  & chan0 & contrast & estimate & ci & statistic & p.value\\\\\n",
       "  & <chr> & <ppj\\_lbll> & <ppj\\_lbll> & <ppj\\_lbll> & <ppj\\_lbll> & <ppj\\_lbll>\\\\\n",
       "\\hline\n",
       "\tLC\\_noun\\_F\\_noun\\_M & LC & noun\\_F - noun\\_M & -0.01 & \\${[}-0.36\\$, \\$0.34{]}\\$  & -0.08 & .996\\\\\n",
       "\tLC\\_noun\\_F\\_verb\\_X &    & noun\\_F - verb\\_X & -0.16 & \\${[}-0.51\\$, \\$0.19{]}\\$  & -1.07 & .535\\\\\n",
       "\tLC\\_noun\\_M\\_verb\\_X &    & noun\\_M - verb\\_X & -0.15 & \\${[}-0.49\\$, \\$0.20{]}\\$  & -0.98 & .587\\\\\n",
       "\tLF\\_noun\\_F\\_noun\\_M & LF & noun\\_F - noun\\_M & 0.21  & \\${[}-0.14\\$, \\$0.56{]}\\$  & 1.41  & .339\\\\\n",
       "\tLF\\_noun\\_F\\_verb\\_X &    & noun\\_F - verb\\_X & -0.06 & \\${[}-0.40\\$, \\$0.29{]}\\$  & -0.38 & .925\\\\\n",
       "\tLF\\_noun\\_M\\_verb\\_X &    & noun\\_M - verb\\_X & -0.26 & \\${[}-0.61\\$, \\$0.08{]}\\$  & -1.78 & .177\\\\\n",
       "\tLP\\_noun\\_F\\_noun\\_M & LP & noun\\_F - noun\\_M & -0.44 & \\${[}-0.78\\$, \\$-0.09{]}\\$ & -2.95 & .009\\\\\n",
       "\tLP\\_noun\\_F\\_verb\\_X &    & noun\\_F - verb\\_X & -0.26 & \\${[}-0.61\\$, \\$0.08{]}\\$  & -1.78 & .176\\\\\n",
       "\tLP\\_noun\\_M\\_verb\\_X &    & noun\\_M - verb\\_X & 0.17  & \\${[}-0.18\\$, \\$0.52{]}\\$  & 1.17  & .474\\\\\n",
       "\tRC\\_noun\\_F\\_noun\\_M & RC & noun\\_F - noun\\_M & 0.12  & \\${[}-0.23\\$, \\$0.46{]}\\$  & 0.79  & .710\\\\\n",
       "\tRC\\_noun\\_F\\_verb\\_X &    & noun\\_F - verb\\_X & -0.23 & \\${[}-0.58\\$, \\$0.12{]}\\$  & -1.55 & .269\\\\\n",
       "\tRC\\_noun\\_M\\_verb\\_X &    & noun\\_M - verb\\_X & -0.35 & \\${[}-0.69\\$, \\$0.00{]}\\$  & -2.34 & .052\\\\\n",
       "\tRF\\_noun\\_F\\_noun\\_M & RF & noun\\_F - noun\\_M & 0.27  & \\${[}-0.08\\$, \\$0.61{]}\\$  & 1.80  & .172\\\\\n",
       "\tRF\\_noun\\_F\\_verb\\_X &    & noun\\_F - verb\\_X & -0.13 & \\${[}-0.48\\$, \\$0.22{]}\\$  & -0.87 & .660\\\\\n",
       "\tRF\\_noun\\_M\\_verb\\_X &    & noun\\_M - verb\\_X & -0.39 & \\${[}-0.74\\$, \\$-0.05{]}\\$ & -2.67 & .022\\\\\n",
       "\tRP\\_noun\\_F\\_noun\\_M & RP & noun\\_F - noun\\_M & -0.13 & \\${[}-0.48\\$, \\$0.21{]}\\$  & -0.90 & .638\\\\\n",
       "\tRP\\_noun\\_F\\_verb\\_X &    & noun\\_F - verb\\_X & -0.16 & \\${[}-0.51\\$, \\$0.19{]}\\$  & -1.08 & .526\\\\\n",
       "\tRP\\_noun\\_M\\_verb\\_X &    & noun\\_M - verb\\_X & -0.03 & \\${[}-0.37\\$, \\$0.32{]}\\$  & -0.18 & .983\\\\\n",
       "\\end{tabular}\n"
      ],
      "text/markdown": [
       "\n",
       "A apa_results_table: 18 × 6\n",
       "\n",
       "| <!--/--> | chan0 &lt;chr&gt; | contrast &lt;ppj_lbll&gt; | estimate &lt;ppj_lbll&gt; | ci &lt;ppj_lbll&gt; | statistic &lt;ppj_lbll&gt; | p.value &lt;ppj_lbll&gt; |\n",
       "|---|---|---|---|---|---|---|\n",
       "| LC_noun_F_noun_M | LC | noun_F - noun_M | -0.01 | $[-0.36$, $0.34]$  | -0.08 | .996 |\n",
       "| LC_noun_F_verb_X | <!----> | noun_F - verb_X | -0.16 | $[-0.51$, $0.19]$  | -1.07 | .535 |\n",
       "| LC_noun_M_verb_X | <!----> | noun_M - verb_X | -0.15 | $[-0.49$, $0.20]$  | -0.98 | .587 |\n",
       "| LF_noun_F_noun_M | LF | noun_F - noun_M | 0.21  | $[-0.14$, $0.56]$  | 1.41  | .339 |\n",
       "| LF_noun_F_verb_X | <!----> | noun_F - verb_X | -0.06 | $[-0.40$, $0.29]$  | -0.38 | .925 |\n",
       "| LF_noun_M_verb_X | <!----> | noun_M - verb_X | -0.26 | $[-0.61$, $0.08]$  | -1.78 | .177 |\n",
       "| LP_noun_F_noun_M | LP | noun_F - noun_M | -0.44 | $[-0.78$, $-0.09]$ | -2.95 | .009 |\n",
       "| LP_noun_F_verb_X | <!----> | noun_F - verb_X | -0.26 | $[-0.61$, $0.08]$  | -1.78 | .176 |\n",
       "| LP_noun_M_verb_X | <!----> | noun_M - verb_X | 0.17  | $[-0.18$, $0.52]$  | 1.17  | .474 |\n",
       "| RC_noun_F_noun_M | RC | noun_F - noun_M | 0.12  | $[-0.23$, $0.46]$  | 0.79  | .710 |\n",
       "| RC_noun_F_verb_X | <!----> | noun_F - verb_X | -0.23 | $[-0.58$, $0.12]$  | -1.55 | .269 |\n",
       "| RC_noun_M_verb_X | <!----> | noun_M - verb_X | -0.35 | $[-0.69$, $0.00]$  | -2.34 | .052 |\n",
       "| RF_noun_F_noun_M | RF | noun_F - noun_M | 0.27  | $[-0.08$, $0.61]$  | 1.80  | .172 |\n",
       "| RF_noun_F_verb_X | <!----> | noun_F - verb_X | -0.13 | $[-0.48$, $0.22]$  | -0.87 | .660 |\n",
       "| RF_noun_M_verb_X | <!----> | noun_M - verb_X | -0.39 | $[-0.74$, $-0.05]$ | -2.67 | .022 |\n",
       "| RP_noun_F_noun_M | RP | noun_F - noun_M | -0.13 | $[-0.48$, $0.21]$  | -0.90 | .638 |\n",
       "| RP_noun_F_verb_X | <!----> | noun_F - verb_X | -0.16 | $[-0.51$, $0.19]$  | -1.08 | .526 |\n",
       "| RP_noun_M_verb_X | <!----> | noun_M - verb_X | -0.03 | $[-0.37$, $0.32]$  | -0.18 | .983 |\n",
       "\n"
      ],
      "text/plain": [
       "                 chan0 contrast        estimate ci                 statistic p.value\n",
       "LC_noun_F_noun_M LC    noun_F - noun_M -0.01    $[-0.36$, $0.34]$  -0.08     .996   \n",
       "LC_noun_F_verb_X       noun_F - verb_X -0.16    $[-0.51$, $0.19]$  -1.07     .535   \n",
       "LC_noun_M_verb_X       noun_M - verb_X -0.15    $[-0.49$, $0.20]$  -0.98     .587   \n",
       "LF_noun_F_noun_M LF    noun_F - noun_M 0.21     $[-0.14$, $0.56]$  1.41      .339   \n",
       "LF_noun_F_verb_X       noun_F - verb_X -0.06    $[-0.40$, $0.29]$  -0.38     .925   \n",
       "LF_noun_M_verb_X       noun_M - verb_X -0.26    $[-0.61$, $0.08]$  -1.78     .177   \n",
       "LP_noun_F_noun_M LP    noun_F - noun_M -0.44    $[-0.78$, $-0.09]$ -2.95     .009   \n",
       "LP_noun_F_verb_X       noun_F - verb_X -0.26    $[-0.61$, $0.08]$  -1.78     .176   \n",
       "LP_noun_M_verb_X       noun_M - verb_X 0.17     $[-0.18$, $0.52]$  1.17      .474   \n",
       "RC_noun_F_noun_M RC    noun_F - noun_M 0.12     $[-0.23$, $0.46]$  0.79      .710   \n",
       "RC_noun_F_verb_X       noun_F - verb_X -0.23    $[-0.58$, $0.12]$  -1.55     .269   \n",
       "RC_noun_M_verb_X       noun_M - verb_X -0.35    $[-0.69$, $0.00]$  -2.34     .052   \n",
       "RF_noun_F_noun_M RF    noun_F - noun_M 0.27     $[-0.08$, $0.61]$  1.80      .172   \n",
       "RF_noun_F_verb_X       noun_F - verb_X -0.13    $[-0.48$, $0.22]$  -0.87     .660   \n",
       "RF_noun_M_verb_X       noun_M - verb_X -0.39    $[-0.74$, $-0.05]$ -2.67     .022   \n",
       "RP_noun_F_noun_M RP    noun_F - noun_M -0.13    $[-0.48$, $0.21]$  -0.90     .638   \n",
       "RP_noun_F_verb_X       noun_F - verb_X -0.16    $[-0.51$, $0.19]$  -1.08     .526   \n",
       "RP_noun_M_verb_X       noun_M - verb_X -0.03    $[-0.37$, $0.32]$  -0.18     .983   "
      ]
     },
     "metadata": {},
     "output_type": "display_data"
    }
   ],
   "source": [
    "IDX <- IDX+1; COND <- CONDS[IDX]\n",
    "data1 <- droplevels(subset(df1, eval(parse(text=COND)))); data1 <- data1[complete.cases(data1),]; done1 <- AOV4(data1,COND)\n",
    "display_markdown(str_c(\"# Condition \",IDX,\" of \",length(CONDS))); display_markdown(done1$info); display_markdown(\"### Table\"); done1$aov_APA$table; display_markdown(\"### Result\"); display_markdown(done1$aov_APA[[\"full_result\"]][[\"cond0\"]]); display_markdown(\"### Summary (all done1, incl. NANs)\"); done1$summary; display_markdown(\"### Expected marginal means\"); done1$emm_APA$table; display_markdown(\"### Paired comparisons for expected marginal means\"); done1$pairs_APA$table"
   ]
  },
  {
   "cell_type": "code",
   "execution_count": 27,
   "metadata": {},
   "outputs": [
    {
     "data": {
      "text/markdown": [
       "# Condition 9 of 12"
      ]
     },
     "metadata": {},
     "output_type": "display_data"
    },
    {
     "data": {
      "text/markdown": [
       "`tmin0==0.6 & mode0==\"pos\"`"
      ]
     },
     "metadata": {},
     "output_type": "display_data"
    },
    {
     "data": {
      "text/markdown": [
       "### Table"
      ]
     },
     "metadata": {},
     "output_type": "display_data"
    },
    {
     "data": {
      "text/html": [
       "<table>\n",
       "<caption>A apa_results_table: 3 × 7</caption>\n",
       "<thead>\n",
       "\t<tr><th></th><th scope=col>Effect</th><th scope=col>F</th><th scope=col>df1</th><th scope=col>df2</th><th scope=col>MSE</th><th scope=col>p</th><th scope=col>ges</th></tr>\n",
       "\t<tr><th></th><th scope=col>&lt;ppj_lbll&gt;</th><th scope=col>&lt;ppj_lbll&gt;</th><th scope=col>&lt;ppj_lbll&gt;</th><th scope=col>&lt;ppj_lbll&gt;</th><th scope=col>&lt;ppj_lbll&gt;</th><th scope=col>&lt;ppj_lbll&gt;</th><th scope=col>&lt;ppj_lbll&gt;</th></tr>\n",
       "</thead>\n",
       "<tbody>\n",
       "\t<tr><th scope=row>1</th><td>Cond0                </td><td>6.80 </td><td>1.65</td><td>67.56 </td><td>0.63 </td><td>.004  </td><td>.003</td></tr>\n",
       "\t<tr><th scope=row>2</th><td><span style=white-space:pre-wrap>Chan0                </span></td><td>10.73</td><td>2.13</td><td>87.14 </td><td>27.13</td><td>&lt; .001</td><td>.185</td></tr>\n",
       "\t<tr><th scope=row>3</th><td>Cond0 $\\times$ Chan0</td><td>2.88 </td><td>5.06</td><td>207.59</td><td>0.81 </td><td>.015  </td><td>.004</td></tr>\n",
       "</tbody>\n",
       "</table>\n"
      ],
      "text/latex": [
       "A apa\\_results\\_table: 3 × 7\n",
       "\\begin{tabular}{r|lllllll}\n",
       "  & Effect & F & df1 & df2 & MSE & p & ges\\\\\n",
       "  & <ppj\\_lbll> & <ppj\\_lbll> & <ppj\\_lbll> & <ppj\\_lbll> & <ppj\\_lbll> & <ppj\\_lbll> & <ppj\\_lbll>\\\\\n",
       "\\hline\n",
       "\t1 & Cond0                 & 6.80  & 1.65 & 67.56  & 0.63  & .004   & .003\\\\\n",
       "\t2 & Chan0                 & 10.73 & 2.13 & 87.14  & 27.13 & < .001 & .185\\\\\n",
       "\t3 & Cond0 \\$\\textbackslash{}times\\$ Chan0 & 2.88  & 5.06 & 207.59 & 0.81  & .015   & .004\\\\\n",
       "\\end{tabular}\n"
      ],
      "text/markdown": [
       "\n",
       "A apa_results_table: 3 × 7\n",
       "\n",
       "| <!--/--> | Effect &lt;ppj_lbll&gt; | F &lt;ppj_lbll&gt; | df1 &lt;ppj_lbll&gt; | df2 &lt;ppj_lbll&gt; | MSE &lt;ppj_lbll&gt; | p &lt;ppj_lbll&gt; | ges &lt;ppj_lbll&gt; |\n",
       "|---|---|---|---|---|---|---|---|\n",
       "| 1 | Cond0                 | 6.80  | 1.65 | 67.56  | 0.63  | .004   | .003 |\n",
       "| 2 | Chan0                 | 10.73 | 2.13 | 87.14  | 27.13 | &lt; .001 | .185 |\n",
       "| 3 | Cond0 $\\times$ Chan0 | 2.88  | 5.06 | 207.59 | 0.81  | .015   | .004 |\n",
       "\n"
      ],
      "text/plain": [
       "  Effect                F     df1  df2    MSE   p      ges \n",
       "1 Cond0                 6.80  1.65 67.56  0.63  .004   .003\n",
       "2 Chan0                 10.73 2.13 87.14  27.13 < .001 .185\n",
       "3 Cond0 $\\\\times$ Chan0 2.88  5.06 207.59 0.81  .015   .004"
      ]
     },
     "metadata": {},
     "output_type": "display_data"
    },
    {
     "data": {
      "text/markdown": [
       "### Result"
      ]
     },
     "metadata": {},
     "output_type": "display_data"
    },
    {
     "data": {
      "text/markdown": [
       "$F(1.65, 67.56) = 6.80$, $\\mathit{MSE} = 0.63$, $p = .004$, $\\hat{\\eta}^2_G = .003$"
      ]
     },
     "metadata": {},
     "output_type": "display_data"
    },
    {
     "data": {
      "text/markdown": [
       "### Summary (all done1, incl. NANs)"
      ]
     },
     "metadata": {},
     "output_type": "display_data"
    },
    {
     "data": {
      "text/html": [
       "<table>\n",
       "<caption>A tibble: 3 × 5</caption>\n",
       "<thead>\n",
       "\t<tr><th scope=col>cond0</th><th scope=col>N</th><th scope=col>valX_M</th><th scope=col>valX_SD</th><th scope=col>valX_SE</th></tr>\n",
       "\t<tr><th scope=col>&lt;fct&gt;</th><th scope=col>&lt;int&gt;</th><th scope=col>&lt;dbl&gt;</th><th scope=col>&lt;dbl&gt;</th><th scope=col>&lt;dbl&gt;</th></tr>\n",
       "</thead>\n",
       "<tbody>\n",
       "\t<tr><td>noun_F</td><td>252</td><td>1.393528</td><td>2.173353</td><td>0.1369084</td></tr>\n",
       "\t<tr><td>noun_M</td><td>252</td><td>1.242988</td><td>2.086968</td><td>0.1314666</td></tr>\n",
       "\t<tr><td>verb_X</td><td>252</td><td>1.161003</td><td>2.071985</td><td>0.1305228</td></tr>\n",
       "</tbody>\n",
       "</table>\n"
      ],
      "text/latex": [
       "A tibble: 3 × 5\n",
       "\\begin{tabular}{lllll}\n",
       " cond0 & N & valX\\_M & valX\\_SD & valX\\_SE\\\\\n",
       " <fct> & <int> & <dbl> & <dbl> & <dbl>\\\\\n",
       "\\hline\n",
       "\t noun\\_F & 252 & 1.393528 & 2.173353 & 0.1369084\\\\\n",
       "\t noun\\_M & 252 & 1.242988 & 2.086968 & 0.1314666\\\\\n",
       "\t verb\\_X & 252 & 1.161003 & 2.071985 & 0.1305228\\\\\n",
       "\\end{tabular}\n"
      ],
      "text/markdown": [
       "\n",
       "A tibble: 3 × 5\n",
       "\n",
       "| cond0 &lt;fct&gt; | N &lt;int&gt; | valX_M &lt;dbl&gt; | valX_SD &lt;dbl&gt; | valX_SE &lt;dbl&gt; |\n",
       "|---|---|---|---|---|\n",
       "| noun_F | 252 | 1.393528 | 2.173353 | 0.1369084 |\n",
       "| noun_M | 252 | 1.242988 | 2.086968 | 0.1314666 |\n",
       "| verb_X | 252 | 1.161003 | 2.071985 | 0.1305228 |\n",
       "\n"
      ],
      "text/plain": [
       "  cond0  N   valX_M   valX_SD  valX_SE  \n",
       "1 noun_F 252 1.393528 2.173353 0.1369084\n",
       "2 noun_M 252 1.242988 2.086968 0.1314666\n",
       "3 verb_X 252 1.161003 2.071985 0.1305228"
      ]
     },
     "metadata": {},
     "output_type": "display_data"
    },
    {
     "data": {
      "text/markdown": [
       "### Expected marginal means"
      ]
     },
     "metadata": {},
     "output_type": "display_data"
    },
    {
     "data": {
      "text/html": [
       "<table>\n",
       "<caption>A apa_results_table: 18 × 6</caption>\n",
       "<thead>\n",
       "\t<tr><th></th><th scope=col>chan0</th><th scope=col>cond0</th><th scope=col>estimate</th><th scope=col>ci</th><th scope=col>statistic</th><th scope=col>p.value</th></tr>\n",
       "\t<tr><th></th><th scope=col>&lt;chr&gt;</th><th scope=col>&lt;chr&gt;</th><th scope=col>&lt;ppj_lbll&gt;</th><th scope=col>&lt;ppj_lbll&gt;</th><th scope=col>&lt;ppj_lbll&gt;</th><th scope=col>&lt;ppj_lbll&gt;</th></tr>\n",
       "</thead>\n",
       "<tbody>\n",
       "\t<tr><th scope=row>noun_F_LC</th><td>LC</td><td>noun_F</td><td>1.15 </td><td>$[0.57$, $1.74]$ </td><td>3.88 </td><td>&lt; .001</td></tr>\n",
       "\t<tr><th scope=row>noun_M_LC</th><td><span style=white-space:pre-wrap>  </span></td><td>noun_M</td><td>1.06 </td><td>$[0.47$, $1.64]$ </td><td>3.56 </td><td>&lt; .001</td></tr>\n",
       "\t<tr><th scope=row>verb_X_LC</th><td>  </td><td>verb_X</td><td>0.97 </td><td>$[0.39$, $1.56]$ </td><td>3.28 </td><td>.001  </td></tr>\n",
       "\t<tr><th scope=row>noun_F_LF</th><td>LF</td><td>noun_F</td><td>0.08 </td><td>$[-0.50$, $0.66]$</td><td>0.27 </td><td>.788  </td></tr>\n",
       "\t<tr><th scope=row>noun_M_LF</th><td>  </td><td>noun_M</td><td>-0.30</td><td>$[-0.88$, $0.28]$</td><td>-1.01</td><td>.311  </td></tr>\n",
       "\t<tr><th scope=row>verb_X_LF</th><td>  </td><td>verb_X</td><td>-0.52</td><td>$[-1.11$, $0.06]$</td><td>-1.77</td><td>.078  </td></tr>\n",
       "\t<tr><th scope=row>noun_F_LP</th><td>LP</td><td>noun_F</td><td>0.71 </td><td>$[0.13$, $1.30]$ </td><td>2.41 </td><td>.017  </td></tr>\n",
       "\t<tr><th scope=row>noun_M_LP</th><td>  </td><td>noun_M</td><td>0.80 </td><td>$[0.22$, $1.39]$ </td><td>2.71 </td><td>.007  </td></tr>\n",
       "\t<tr><th scope=row>verb_X_LP</th><td>  </td><td>verb_X</td><td>0.65 </td><td>$[0.07$, $1.24]$ </td><td>2.20 </td><td>.028  </td></tr>\n",
       "\t<tr><th scope=row>noun_F_RC</th><td>RC</td><td>noun_F</td><td>2.29 </td><td>$[1.71$, $2.87]$ </td><td>7.72 </td><td>&lt; .001</td></tr>\n",
       "\t<tr><th scope=row>noun_M_RC</th><td><span style=white-space:pre-wrap>  </span></td><td>noun_M</td><td>2.05 </td><td>$[1.47$, $2.63]$ </td><td>6.91 </td><td>&lt; .001</td></tr>\n",
       "\t<tr><th scope=row>verb_X_RC</th><td><span style=white-space:pre-wrap>  </span></td><td>verb_X</td><td>2.16 </td><td>$[1.58$, $2.75]$ </td><td>7.30 </td><td>&lt; .001</td></tr>\n",
       "\t<tr><th scope=row>noun_F_RF</th><td>RF</td><td>noun_F</td><td>1.76 </td><td>$[1.17$, $2.34]$ </td><td>5.93 </td><td>&lt; .001</td></tr>\n",
       "\t<tr><th scope=row>noun_M_RF</th><td><span style=white-space:pre-wrap>  </span></td><td>noun_M</td><td>1.23 </td><td>$[0.64$, $1.81]$ </td><td>4.14 </td><td>&lt; .001</td></tr>\n",
       "\t<tr><th scope=row>verb_X_RF</th><td><span style=white-space:pre-wrap>  </span></td><td>verb_X</td><td>1.29 </td><td>$[0.71$, $1.88]$ </td><td>4.36 </td><td>&lt; .001</td></tr>\n",
       "\t<tr><th scope=row>noun_F_RP</th><td>RP</td><td>noun_F</td><td>2.37 </td><td>$[1.78$, $2.95]$ </td><td>7.98 </td><td>&lt; .001</td></tr>\n",
       "\t<tr><th scope=row>noun_M_RP</th><td><span style=white-space:pre-wrap>  </span></td><td>noun_M</td><td>2.62 </td><td>$[2.04$, $3.21]$ </td><td>8.85 </td><td>&lt; .001</td></tr>\n",
       "\t<tr><th scope=row>verb_X_RP</th><td><span style=white-space:pre-wrap>  </span></td><td>verb_X</td><td>2.41 </td><td>$[1.83$, $2.99]$ </td><td>8.12 </td><td>&lt; .001</td></tr>\n",
       "</tbody>\n",
       "</table>\n"
      ],
      "text/latex": [
       "A apa\\_results\\_table: 18 × 6\n",
       "\\begin{tabular}{r|llllll}\n",
       "  & chan0 & cond0 & estimate & ci & statistic & p.value\\\\\n",
       "  & <chr> & <chr> & <ppj\\_lbll> & <ppj\\_lbll> & <ppj\\_lbll> & <ppj\\_lbll>\\\\\n",
       "\\hline\n",
       "\tnoun\\_F\\_LC & LC & noun\\_F & 1.15  & \\${[}0.57\\$, \\$1.74{]}\\$  & 3.88  & < .001\\\\\n",
       "\tnoun\\_M\\_LC &    & noun\\_M & 1.06  & \\${[}0.47\\$, \\$1.64{]}\\$  & 3.56  & < .001\\\\\n",
       "\tverb\\_X\\_LC &    & verb\\_X & 0.97  & \\${[}0.39\\$, \\$1.56{]}\\$  & 3.28  & .001  \\\\\n",
       "\tnoun\\_F\\_LF & LF & noun\\_F & 0.08  & \\${[}-0.50\\$, \\$0.66{]}\\$ & 0.27  & .788  \\\\\n",
       "\tnoun\\_M\\_LF &    & noun\\_M & -0.30 & \\${[}-0.88\\$, \\$0.28{]}\\$ & -1.01 & .311  \\\\\n",
       "\tverb\\_X\\_LF &    & verb\\_X & -0.52 & \\${[}-1.11\\$, \\$0.06{]}\\$ & -1.77 & .078  \\\\\n",
       "\tnoun\\_F\\_LP & LP & noun\\_F & 0.71  & \\${[}0.13\\$, \\$1.30{]}\\$  & 2.41  & .017  \\\\\n",
       "\tnoun\\_M\\_LP &    & noun\\_M & 0.80  & \\${[}0.22\\$, \\$1.39{]}\\$  & 2.71  & .007  \\\\\n",
       "\tverb\\_X\\_LP &    & verb\\_X & 0.65  & \\${[}0.07\\$, \\$1.24{]}\\$  & 2.20  & .028  \\\\\n",
       "\tnoun\\_F\\_RC & RC & noun\\_F & 2.29  & \\${[}1.71\\$, \\$2.87{]}\\$  & 7.72  & < .001\\\\\n",
       "\tnoun\\_M\\_RC &    & noun\\_M & 2.05  & \\${[}1.47\\$, \\$2.63{]}\\$  & 6.91  & < .001\\\\\n",
       "\tverb\\_X\\_RC &    & verb\\_X & 2.16  & \\${[}1.58\\$, \\$2.75{]}\\$  & 7.30  & < .001\\\\\n",
       "\tnoun\\_F\\_RF & RF & noun\\_F & 1.76  & \\${[}1.17\\$, \\$2.34{]}\\$  & 5.93  & < .001\\\\\n",
       "\tnoun\\_M\\_RF &    & noun\\_M & 1.23  & \\${[}0.64\\$, \\$1.81{]}\\$  & 4.14  & < .001\\\\\n",
       "\tverb\\_X\\_RF &    & verb\\_X & 1.29  & \\${[}0.71\\$, \\$1.88{]}\\$  & 4.36  & < .001\\\\\n",
       "\tnoun\\_F\\_RP & RP & noun\\_F & 2.37  & \\${[}1.78\\$, \\$2.95{]}\\$  & 7.98  & < .001\\\\\n",
       "\tnoun\\_M\\_RP &    & noun\\_M & 2.62  & \\${[}2.04\\$, \\$3.21{]}\\$  & 8.85  & < .001\\\\\n",
       "\tverb\\_X\\_RP &    & verb\\_X & 2.41  & \\${[}1.83\\$, \\$2.99{]}\\$  & 8.12  & < .001\\\\\n",
       "\\end{tabular}\n"
      ],
      "text/markdown": [
       "\n",
       "A apa_results_table: 18 × 6\n",
       "\n",
       "| <!--/--> | chan0 &lt;chr&gt; | cond0 &lt;chr&gt; | estimate &lt;ppj_lbll&gt; | ci &lt;ppj_lbll&gt; | statistic &lt;ppj_lbll&gt; | p.value &lt;ppj_lbll&gt; |\n",
       "|---|---|---|---|---|---|---|\n",
       "| noun_F_LC | LC | noun_F | 1.15  | $[0.57$, $1.74]$  | 3.88  | &lt; .001 |\n",
       "| noun_M_LC | <!----> | noun_M | 1.06  | $[0.47$, $1.64]$  | 3.56  | &lt; .001 |\n",
       "| verb_X_LC | <!----> | verb_X | 0.97  | $[0.39$, $1.56]$  | 3.28  | .001   |\n",
       "| noun_F_LF | LF | noun_F | 0.08  | $[-0.50$, $0.66]$ | 0.27  | .788   |\n",
       "| noun_M_LF | <!----> | noun_M | -0.30 | $[-0.88$, $0.28]$ | -1.01 | .311   |\n",
       "| verb_X_LF | <!----> | verb_X | -0.52 | $[-1.11$, $0.06]$ | -1.77 | .078   |\n",
       "| noun_F_LP | LP | noun_F | 0.71  | $[0.13$, $1.30]$  | 2.41  | .017   |\n",
       "| noun_M_LP | <!----> | noun_M | 0.80  | $[0.22$, $1.39]$  | 2.71  | .007   |\n",
       "| verb_X_LP | <!----> | verb_X | 0.65  | $[0.07$, $1.24]$  | 2.20  | .028   |\n",
       "| noun_F_RC | RC | noun_F | 2.29  | $[1.71$, $2.87]$  | 7.72  | &lt; .001 |\n",
       "| noun_M_RC | <!----> | noun_M | 2.05  | $[1.47$, $2.63]$  | 6.91  | &lt; .001 |\n",
       "| verb_X_RC | <!----> | verb_X | 2.16  | $[1.58$, $2.75]$  | 7.30  | &lt; .001 |\n",
       "| noun_F_RF | RF | noun_F | 1.76  | $[1.17$, $2.34]$  | 5.93  | &lt; .001 |\n",
       "| noun_M_RF | <!----> | noun_M | 1.23  | $[0.64$, $1.81]$  | 4.14  | &lt; .001 |\n",
       "| verb_X_RF | <!----> | verb_X | 1.29  | $[0.71$, $1.88]$  | 4.36  | &lt; .001 |\n",
       "| noun_F_RP | RP | noun_F | 2.37  | $[1.78$, $2.95]$  | 7.98  | &lt; .001 |\n",
       "| noun_M_RP | <!----> | noun_M | 2.62  | $[2.04$, $3.21]$  | 8.85  | &lt; .001 |\n",
       "| verb_X_RP | <!----> | verb_X | 2.41  | $[1.83$, $2.99]$  | 8.12  | &lt; .001 |\n",
       "\n"
      ],
      "text/plain": [
       "          chan0 cond0  estimate ci                statistic p.value\n",
       "noun_F_LC LC    noun_F 1.15     $[0.57$, $1.74]$  3.88      < .001 \n",
       "noun_M_LC       noun_M 1.06     $[0.47$, $1.64]$  3.56      < .001 \n",
       "verb_X_LC       verb_X 0.97     $[0.39$, $1.56]$  3.28      .001   \n",
       "noun_F_LF LF    noun_F 0.08     $[-0.50$, $0.66]$ 0.27      .788   \n",
       "noun_M_LF       noun_M -0.30    $[-0.88$, $0.28]$ -1.01     .311   \n",
       "verb_X_LF       verb_X -0.52    $[-1.11$, $0.06]$ -1.77     .078   \n",
       "noun_F_LP LP    noun_F 0.71     $[0.13$, $1.30]$  2.41      .017   \n",
       "noun_M_LP       noun_M 0.80     $[0.22$, $1.39]$  2.71      .007   \n",
       "verb_X_LP       verb_X 0.65     $[0.07$, $1.24]$  2.20      .028   \n",
       "noun_F_RC RC    noun_F 2.29     $[1.71$, $2.87]$  7.72      < .001 \n",
       "noun_M_RC       noun_M 2.05     $[1.47$, $2.63]$  6.91      < .001 \n",
       "verb_X_RC       verb_X 2.16     $[1.58$, $2.75]$  7.30      < .001 \n",
       "noun_F_RF RF    noun_F 1.76     $[1.17$, $2.34]$  5.93      < .001 \n",
       "noun_M_RF       noun_M 1.23     $[0.64$, $1.81]$  4.14      < .001 \n",
       "verb_X_RF       verb_X 1.29     $[0.71$, $1.88]$  4.36      < .001 \n",
       "noun_F_RP RP    noun_F 2.37     $[1.78$, $2.95]$  7.98      < .001 \n",
       "noun_M_RP       noun_M 2.62     $[2.04$, $3.21]$  8.85      < .001 \n",
       "verb_X_RP       verb_X 2.41     $[1.83$, $2.99]$  8.12      < .001 "
      ]
     },
     "metadata": {},
     "output_type": "display_data"
    },
    {
     "data": {
      "text/markdown": [
       "### Paired comparisons for expected marginal means"
      ]
     },
     "metadata": {},
     "output_type": "display_data"
    },
    {
     "data": {
      "text/html": [
       "<table>\n",
       "<caption>A apa_results_table: 18 × 6</caption>\n",
       "<thead>\n",
       "\t<tr><th></th><th scope=col>chan0</th><th scope=col>contrast</th><th scope=col>estimate</th><th scope=col>ci</th><th scope=col>statistic</th><th scope=col>p.value</th></tr>\n",
       "\t<tr><th></th><th scope=col>&lt;chr&gt;</th><th scope=col>&lt;ppj_lbll&gt;</th><th scope=col>&lt;ppj_lbll&gt;</th><th scope=col>&lt;ppj_lbll&gt;</th><th scope=col>&lt;ppj_lbll&gt;</th><th scope=col>&lt;ppj_lbll&gt;</th></tr>\n",
       "</thead>\n",
       "<tbody>\n",
       "\t<tr><th scope=row>LC_noun_F_noun_M</th><td>LC</td><td>noun_F - noun_M</td><td>0.10 </td><td>$[-0.24$, $0.43]$</td><td>0.67 </td><td>.780  </td></tr>\n",
       "\t<tr><th scope=row>LC_noun_F_verb_X</th><td>  </td><td>noun_F - verb_X</td><td>0.18 </td><td>$[-0.16$, $0.52]$</td><td>1.26 </td><td>.421  </td></tr>\n",
       "\t<tr><th scope=row>LC_noun_M_verb_X</th><td>  </td><td>noun_M - verb_X</td><td>0.08 </td><td>$[-0.25$, $0.42]$</td><td>0.58 </td><td>.828  </td></tr>\n",
       "\t<tr><th scope=row>LF_noun_F_noun_M</th><td>LF</td><td>noun_F - noun_M</td><td>0.38 </td><td>$[0.04$, $0.72]$ </td><td>2.66 </td><td>.022  </td></tr>\n",
       "\t<tr><th scope=row>LF_noun_F_verb_X</th><td><span style=white-space:pre-wrap>  </span></td><td>noun_F - verb_X</td><td>0.60 </td><td>$[0.27$, $0.94]$ </td><td>4.23 </td><td>&lt; .001</td></tr>\n",
       "\t<tr><th scope=row>LF_noun_M_verb_X</th><td>  </td><td>noun_M - verb_X</td><td>0.22 </td><td>$[-0.11$, $0.56]$</td><td>1.57 </td><td>.262  </td></tr>\n",
       "\t<tr><th scope=row>LP_noun_F_noun_M</th><td>LP</td><td>noun_F - noun_M</td><td>-0.09</td><td>$[-0.43$, $0.25]$</td><td>-0.63</td><td>.803  </td></tr>\n",
       "\t<tr><th scope=row>LP_noun_F_verb_X</th><td>  </td><td>noun_F - verb_X</td><td>0.06 </td><td>$[-0.28$, $0.40]$</td><td>0.42 </td><td>.908  </td></tr>\n",
       "\t<tr><th scope=row>LP_noun_M_verb_X</th><td>  </td><td>noun_M - verb_X</td><td>0.15 </td><td>$[-0.19$, $0.49]$</td><td>1.05 </td><td>.545  </td></tr>\n",
       "\t<tr><th scope=row>RC_noun_F_noun_M</th><td>RC</td><td>noun_F - noun_M</td><td>0.24 </td><td>$[-0.09$, $0.58]$</td><td>1.69 </td><td>.210  </td></tr>\n",
       "\t<tr><th scope=row>RC_noun_F_verb_X</th><td>  </td><td>noun_F - verb_X</td><td>0.13 </td><td>$[-0.21$, $0.46]$</td><td>0.88 </td><td>.651  </td></tr>\n",
       "\t<tr><th scope=row>RC_noun_M_verb_X</th><td>  </td><td>noun_M - verb_X</td><td>-0.12</td><td>$[-0.45$, $0.22]$</td><td>-0.81</td><td>.699  </td></tr>\n",
       "\t<tr><th scope=row>RF_noun_F_noun_M</th><td>RF</td><td>noun_F - noun_M</td><td>0.53 </td><td>$[0.19$, $0.87]$ </td><td>3.71 </td><td>.001  </td></tr>\n",
       "\t<tr><th scope=row>RF_noun_F_verb_X</th><td>  </td><td>noun_F - verb_X</td><td>0.47 </td><td>$[0.13$, $0.80]$ </td><td>3.26 </td><td>.003  </td></tr>\n",
       "\t<tr><th scope=row>RF_noun_M_verb_X</th><td>  </td><td>noun_M - verb_X</td><td>-0.07</td><td>$[-0.40$, $0.27]$</td><td>-0.46</td><td>.891  </td></tr>\n",
       "\t<tr><th scope=row>RP_noun_F_noun_M</th><td>RP</td><td>noun_F - noun_M</td><td>-0.26</td><td>$[-0.59$, $0.08]$</td><td>-1.79</td><td>.174  </td></tr>\n",
       "\t<tr><th scope=row>RP_noun_F_verb_X</th><td>  </td><td>noun_F - verb_X</td><td>-0.04</td><td>$[-0.38$, $0.30]$</td><td>-0.29</td><td>.956  </td></tr>\n",
       "\t<tr><th scope=row>RP_noun_M_verb_X</th><td>  </td><td>noun_M - verb_X</td><td>0.21 </td><td>$[-0.12$, $0.55]$</td><td>1.50 </td><td>.290  </td></tr>\n",
       "</tbody>\n",
       "</table>\n"
      ],
      "text/latex": [
       "A apa\\_results\\_table: 18 × 6\n",
       "\\begin{tabular}{r|llllll}\n",
       "  & chan0 & contrast & estimate & ci & statistic & p.value\\\\\n",
       "  & <chr> & <ppj\\_lbll> & <ppj\\_lbll> & <ppj\\_lbll> & <ppj\\_lbll> & <ppj\\_lbll>\\\\\n",
       "\\hline\n",
       "\tLC\\_noun\\_F\\_noun\\_M & LC & noun\\_F - noun\\_M & 0.10  & \\${[}-0.24\\$, \\$0.43{]}\\$ & 0.67  & .780  \\\\\n",
       "\tLC\\_noun\\_F\\_verb\\_X &    & noun\\_F - verb\\_X & 0.18  & \\${[}-0.16\\$, \\$0.52{]}\\$ & 1.26  & .421  \\\\\n",
       "\tLC\\_noun\\_M\\_verb\\_X &    & noun\\_M - verb\\_X & 0.08  & \\${[}-0.25\\$, \\$0.42{]}\\$ & 0.58  & .828  \\\\\n",
       "\tLF\\_noun\\_F\\_noun\\_M & LF & noun\\_F - noun\\_M & 0.38  & \\${[}0.04\\$, \\$0.72{]}\\$  & 2.66  & .022  \\\\\n",
       "\tLF\\_noun\\_F\\_verb\\_X &    & noun\\_F - verb\\_X & 0.60  & \\${[}0.27\\$, \\$0.94{]}\\$  & 4.23  & < .001\\\\\n",
       "\tLF\\_noun\\_M\\_verb\\_X &    & noun\\_M - verb\\_X & 0.22  & \\${[}-0.11\\$, \\$0.56{]}\\$ & 1.57  & .262  \\\\\n",
       "\tLP\\_noun\\_F\\_noun\\_M & LP & noun\\_F - noun\\_M & -0.09 & \\${[}-0.43\\$, \\$0.25{]}\\$ & -0.63 & .803  \\\\\n",
       "\tLP\\_noun\\_F\\_verb\\_X &    & noun\\_F - verb\\_X & 0.06  & \\${[}-0.28\\$, \\$0.40{]}\\$ & 0.42  & .908  \\\\\n",
       "\tLP\\_noun\\_M\\_verb\\_X &    & noun\\_M - verb\\_X & 0.15  & \\${[}-0.19\\$, \\$0.49{]}\\$ & 1.05  & .545  \\\\\n",
       "\tRC\\_noun\\_F\\_noun\\_M & RC & noun\\_F - noun\\_M & 0.24  & \\${[}-0.09\\$, \\$0.58{]}\\$ & 1.69  & .210  \\\\\n",
       "\tRC\\_noun\\_F\\_verb\\_X &    & noun\\_F - verb\\_X & 0.13  & \\${[}-0.21\\$, \\$0.46{]}\\$ & 0.88  & .651  \\\\\n",
       "\tRC\\_noun\\_M\\_verb\\_X &    & noun\\_M - verb\\_X & -0.12 & \\${[}-0.45\\$, \\$0.22{]}\\$ & -0.81 & .699  \\\\\n",
       "\tRF\\_noun\\_F\\_noun\\_M & RF & noun\\_F - noun\\_M & 0.53  & \\${[}0.19\\$, \\$0.87{]}\\$  & 3.71  & .001  \\\\\n",
       "\tRF\\_noun\\_F\\_verb\\_X &    & noun\\_F - verb\\_X & 0.47  & \\${[}0.13\\$, \\$0.80{]}\\$  & 3.26  & .003  \\\\\n",
       "\tRF\\_noun\\_M\\_verb\\_X &    & noun\\_M - verb\\_X & -0.07 & \\${[}-0.40\\$, \\$0.27{]}\\$ & -0.46 & .891  \\\\\n",
       "\tRP\\_noun\\_F\\_noun\\_M & RP & noun\\_F - noun\\_M & -0.26 & \\${[}-0.59\\$, \\$0.08{]}\\$ & -1.79 & .174  \\\\\n",
       "\tRP\\_noun\\_F\\_verb\\_X &    & noun\\_F - verb\\_X & -0.04 & \\${[}-0.38\\$, \\$0.30{]}\\$ & -0.29 & .956  \\\\\n",
       "\tRP\\_noun\\_M\\_verb\\_X &    & noun\\_M - verb\\_X & 0.21  & \\${[}-0.12\\$, \\$0.55{]}\\$ & 1.50  & .290  \\\\\n",
       "\\end{tabular}\n"
      ],
      "text/markdown": [
       "\n",
       "A apa_results_table: 18 × 6\n",
       "\n",
       "| <!--/--> | chan0 &lt;chr&gt; | contrast &lt;ppj_lbll&gt; | estimate &lt;ppj_lbll&gt; | ci &lt;ppj_lbll&gt; | statistic &lt;ppj_lbll&gt; | p.value &lt;ppj_lbll&gt; |\n",
       "|---|---|---|---|---|---|---|\n",
       "| LC_noun_F_noun_M | LC | noun_F - noun_M | 0.10  | $[-0.24$, $0.43]$ | 0.67  | .780   |\n",
       "| LC_noun_F_verb_X | <!----> | noun_F - verb_X | 0.18  | $[-0.16$, $0.52]$ | 1.26  | .421   |\n",
       "| LC_noun_M_verb_X | <!----> | noun_M - verb_X | 0.08  | $[-0.25$, $0.42]$ | 0.58  | .828   |\n",
       "| LF_noun_F_noun_M | LF | noun_F - noun_M | 0.38  | $[0.04$, $0.72]$  | 2.66  | .022   |\n",
       "| LF_noun_F_verb_X | <!----> | noun_F - verb_X | 0.60  | $[0.27$, $0.94]$  | 4.23  | &lt; .001 |\n",
       "| LF_noun_M_verb_X | <!----> | noun_M - verb_X | 0.22  | $[-0.11$, $0.56]$ | 1.57  | .262   |\n",
       "| LP_noun_F_noun_M | LP | noun_F - noun_M | -0.09 | $[-0.43$, $0.25]$ | -0.63 | .803   |\n",
       "| LP_noun_F_verb_X | <!----> | noun_F - verb_X | 0.06  | $[-0.28$, $0.40]$ | 0.42  | .908   |\n",
       "| LP_noun_M_verb_X | <!----> | noun_M - verb_X | 0.15  | $[-0.19$, $0.49]$ | 1.05  | .545   |\n",
       "| RC_noun_F_noun_M | RC | noun_F - noun_M | 0.24  | $[-0.09$, $0.58]$ | 1.69  | .210   |\n",
       "| RC_noun_F_verb_X | <!----> | noun_F - verb_X | 0.13  | $[-0.21$, $0.46]$ | 0.88  | .651   |\n",
       "| RC_noun_M_verb_X | <!----> | noun_M - verb_X | -0.12 | $[-0.45$, $0.22]$ | -0.81 | .699   |\n",
       "| RF_noun_F_noun_M | RF | noun_F - noun_M | 0.53  | $[0.19$, $0.87]$  | 3.71  | .001   |\n",
       "| RF_noun_F_verb_X | <!----> | noun_F - verb_X | 0.47  | $[0.13$, $0.80]$  | 3.26  | .003   |\n",
       "| RF_noun_M_verb_X | <!----> | noun_M - verb_X | -0.07 | $[-0.40$, $0.27]$ | -0.46 | .891   |\n",
       "| RP_noun_F_noun_M | RP | noun_F - noun_M | -0.26 | $[-0.59$, $0.08]$ | -1.79 | .174   |\n",
       "| RP_noun_F_verb_X | <!----> | noun_F - verb_X | -0.04 | $[-0.38$, $0.30]$ | -0.29 | .956   |\n",
       "| RP_noun_M_verb_X | <!----> | noun_M - verb_X | 0.21  | $[-0.12$, $0.55]$ | 1.50  | .290   |\n",
       "\n"
      ],
      "text/plain": [
       "                 chan0 contrast        estimate ci                statistic p.value\n",
       "LC_noun_F_noun_M LC    noun_F - noun_M 0.10     $[-0.24$, $0.43]$ 0.67      .780   \n",
       "LC_noun_F_verb_X       noun_F - verb_X 0.18     $[-0.16$, $0.52]$ 1.26      .421   \n",
       "LC_noun_M_verb_X       noun_M - verb_X 0.08     $[-0.25$, $0.42]$ 0.58      .828   \n",
       "LF_noun_F_noun_M LF    noun_F - noun_M 0.38     $[0.04$, $0.72]$  2.66      .022   \n",
       "LF_noun_F_verb_X       noun_F - verb_X 0.60     $[0.27$, $0.94]$  4.23      < .001 \n",
       "LF_noun_M_verb_X       noun_M - verb_X 0.22     $[-0.11$, $0.56]$ 1.57      .262   \n",
       "LP_noun_F_noun_M LP    noun_F - noun_M -0.09    $[-0.43$, $0.25]$ -0.63     .803   \n",
       "LP_noun_F_verb_X       noun_F - verb_X 0.06     $[-0.28$, $0.40]$ 0.42      .908   \n",
       "LP_noun_M_verb_X       noun_M - verb_X 0.15     $[-0.19$, $0.49]$ 1.05      .545   \n",
       "RC_noun_F_noun_M RC    noun_F - noun_M 0.24     $[-0.09$, $0.58]$ 1.69      .210   \n",
       "RC_noun_F_verb_X       noun_F - verb_X 0.13     $[-0.21$, $0.46]$ 0.88      .651   \n",
       "RC_noun_M_verb_X       noun_M - verb_X -0.12    $[-0.45$, $0.22]$ -0.81     .699   \n",
       "RF_noun_F_noun_M RF    noun_F - noun_M 0.53     $[0.19$, $0.87]$  3.71      .001   \n",
       "RF_noun_F_verb_X       noun_F - verb_X 0.47     $[0.13$, $0.80]$  3.26      .003   \n",
       "RF_noun_M_verb_X       noun_M - verb_X -0.07    $[-0.40$, $0.27]$ -0.46     .891   \n",
       "RP_noun_F_noun_M RP    noun_F - noun_M -0.26    $[-0.59$, $0.08]$ -1.79     .174   \n",
       "RP_noun_F_verb_X       noun_F - verb_X -0.04    $[-0.38$, $0.30]$ -0.29     .956   \n",
       "RP_noun_M_verb_X       noun_M - verb_X 0.21     $[-0.12$, $0.55]$ 1.50      .290   "
      ]
     },
     "metadata": {},
     "output_type": "display_data"
    }
   ],
   "source": [
    "IDX <- IDX+1; COND <- CONDS[IDX]\n",
    "data1 <- droplevels(subset(df1, eval(parse(text=COND)))); data1 <- data1[complete.cases(data1),]; done1 <- AOV4(data1,COND)\n",
    "display_markdown(str_c(\"# Condition \",IDX,\" of \",length(CONDS))); display_markdown(done1$info); display_markdown(\"### Table\"); done1$aov_APA$table; display_markdown(\"### Result\"); display_markdown(done1$aov_APA[[\"full_result\"]][[\"cond0\"]]); display_markdown(\"### Summary (all done1, incl. NANs)\"); done1$summary; display_markdown(\"### Expected marginal means\"); done1$emm_APA$table; display_markdown(\"### Paired comparisons for expected marginal means\"); done1$pairs_APA$table"
   ]
  },
  {
   "cell_type": "code",
   "execution_count": 28,
   "metadata": {},
   "outputs": [
    {
     "data": {
      "text/markdown": [
       "# Condition 10 of 12"
      ]
     },
     "metadata": {},
     "output_type": "display_data"
    },
    {
     "data": {
      "text/markdown": [
       "`tmin0==0.6 & mode0==\"neg\"`"
      ]
     },
     "metadata": {},
     "output_type": "display_data"
    },
    {
     "data": {
      "text/markdown": [
       "### Table"
      ]
     },
     "metadata": {},
     "output_type": "display_data"
    },
    {
     "data": {
      "text/html": [
       "<table>\n",
       "<caption>A apa_results_table: 3 × 7</caption>\n",
       "<thead>\n",
       "\t<tr><th></th><th scope=col>Effect</th><th scope=col>F</th><th scope=col>df1</th><th scope=col>df2</th><th scope=col>MSE</th><th scope=col>p</th><th scope=col>ges</th></tr>\n",
       "\t<tr><th></th><th scope=col>&lt;ppj_lbll&gt;</th><th scope=col>&lt;ppj_lbll&gt;</th><th scope=col>&lt;ppj_lbll&gt;</th><th scope=col>&lt;ppj_lbll&gt;</th><th scope=col>&lt;ppj_lbll&gt;</th><th scope=col>&lt;ppj_lbll&gt;</th><th scope=col>&lt;ppj_lbll&gt;</th></tr>\n",
       "</thead>\n",
       "<tbody>\n",
       "\t<tr><th scope=row>1</th><td><span style=white-space:pre-wrap>Cond0                </span></td><td>12.75</td><td>1.52</td><td>62.49 </td><td>0.92 </td><td>&lt; .001</td><td>.006</td></tr>\n",
       "\t<tr><th scope=row>2</th><td><span style=white-space:pre-wrap>Chan0                </span></td><td>14.49</td><td>1.87</td><td>76.81 </td><td>31.36</td><td>&lt; .001</td><td>.222</td></tr>\n",
       "\t<tr><th scope=row>3</th><td>Cond0 $\\times$ Chan0</td><td>3.67 </td><td>5.34</td><td>218.76</td><td>0.76 </td><td>.003  </td><td>.005</td></tr>\n",
       "</tbody>\n",
       "</table>\n"
      ],
      "text/latex": [
       "A apa\\_results\\_table: 3 × 7\n",
       "\\begin{tabular}{r|lllllll}\n",
       "  & Effect & F & df1 & df2 & MSE & p & ges\\\\\n",
       "  & <ppj\\_lbll> & <ppj\\_lbll> & <ppj\\_lbll> & <ppj\\_lbll> & <ppj\\_lbll> & <ppj\\_lbll> & <ppj\\_lbll>\\\\\n",
       "\\hline\n",
       "\t1 & Cond0                 & 12.75 & 1.52 & 62.49  & 0.92  & < .001 & .006\\\\\n",
       "\t2 & Chan0                 & 14.49 & 1.87 & 76.81  & 31.36 & < .001 & .222\\\\\n",
       "\t3 & Cond0 \\$\\textbackslash{}times\\$ Chan0 & 3.67  & 5.34 & 218.76 & 0.76  & .003   & .005\\\\\n",
       "\\end{tabular}\n"
      ],
      "text/markdown": [
       "\n",
       "A apa_results_table: 3 × 7\n",
       "\n",
       "| <!--/--> | Effect &lt;ppj_lbll&gt; | F &lt;ppj_lbll&gt; | df1 &lt;ppj_lbll&gt; | df2 &lt;ppj_lbll&gt; | MSE &lt;ppj_lbll&gt; | p &lt;ppj_lbll&gt; | ges &lt;ppj_lbll&gt; |\n",
       "|---|---|---|---|---|---|---|---|\n",
       "| 1 | Cond0                 | 12.75 | 1.52 | 62.49  | 0.92  | &lt; .001 | .006 |\n",
       "| 2 | Chan0                 | 14.49 | 1.87 | 76.81  | 31.36 | &lt; .001 | .222 |\n",
       "| 3 | Cond0 $\\times$ Chan0 | 3.67  | 5.34 | 218.76 | 0.76  | .003   | .005 |\n",
       "\n"
      ],
      "text/plain": [
       "  Effect                F     df1  df2    MSE   p      ges \n",
       "1 Cond0                 12.75 1.52 62.49  0.92  < .001 .006\n",
       "2 Chan0                 14.49 1.87 76.81  31.36 < .001 .222\n",
       "3 Cond0 $\\\\times$ Chan0 3.67  5.34 218.76 0.76  .003   .005"
      ]
     },
     "metadata": {},
     "output_type": "display_data"
    },
    {
     "data": {
      "text/markdown": [
       "### Result"
      ]
     },
     "metadata": {},
     "output_type": "display_data"
    },
    {
     "data": {
      "text/markdown": [
       "$F(1.52, 62.49) = 12.75$, $\\mathit{MSE} = 0.92$, $p < .001$, $\\hat{\\eta}^2_G = .006$"
      ]
     },
     "metadata": {},
     "output_type": "display_data"
    },
    {
     "data": {
      "text/markdown": [
       "### Summary (all done1, incl. NANs)"
      ]
     },
     "metadata": {},
     "output_type": "display_data"
    },
    {
     "data": {
      "text/html": [
       "<table>\n",
       "<caption>A tibble: 3 × 5</caption>\n",
       "<thead>\n",
       "\t<tr><th scope=col>cond0</th><th scope=col>N</th><th scope=col>valX_M</th><th scope=col>valX_SD</th><th scope=col>valX_SE</th></tr>\n",
       "\t<tr><th scope=col>&lt;fct&gt;</th><th scope=col>&lt;int&gt;</th><th scope=col>&lt;dbl&gt;</th><th scope=col>&lt;dbl&gt;</th><th scope=col>&lt;dbl&gt;</th></tr>\n",
       "</thead>\n",
       "<tbody>\n",
       "\t<tr><td>noun_F</td><td>252</td><td>-1.1442963</td><td>2.363520</td><td>0.1488878</td></tr>\n",
       "\t<tr><td>noun_M</td><td>252</td><td>-1.0738460</td><td>2.170951</td><td>0.1367570</td></tr>\n",
       "\t<tr><td>verb_X</td><td>252</td><td>-0.7880923</td><td>2.247977</td><td>0.1416092</td></tr>\n",
       "</tbody>\n",
       "</table>\n"
      ],
      "text/latex": [
       "A tibble: 3 × 5\n",
       "\\begin{tabular}{lllll}\n",
       " cond0 & N & valX\\_M & valX\\_SD & valX\\_SE\\\\\n",
       " <fct> & <int> & <dbl> & <dbl> & <dbl>\\\\\n",
       "\\hline\n",
       "\t noun\\_F & 252 & -1.1442963 & 2.363520 & 0.1488878\\\\\n",
       "\t noun\\_M & 252 & -1.0738460 & 2.170951 & 0.1367570\\\\\n",
       "\t verb\\_X & 252 & -0.7880923 & 2.247977 & 0.1416092\\\\\n",
       "\\end{tabular}\n"
      ],
      "text/markdown": [
       "\n",
       "A tibble: 3 × 5\n",
       "\n",
       "| cond0 &lt;fct&gt; | N &lt;int&gt; | valX_M &lt;dbl&gt; | valX_SD &lt;dbl&gt; | valX_SE &lt;dbl&gt; |\n",
       "|---|---|---|---|---|\n",
       "| noun_F | 252 | -1.1442963 | 2.363520 | 0.1488878 |\n",
       "| noun_M | 252 | -1.0738460 | 2.170951 | 0.1367570 |\n",
       "| verb_X | 252 | -0.7880923 | 2.247977 | 0.1416092 |\n",
       "\n"
      ],
      "text/plain": [
       "  cond0  N   valX_M     valX_SD  valX_SE  \n",
       "1 noun_F 252 -1.1442963 2.363520 0.1488878\n",
       "2 noun_M 252 -1.0738460 2.170951 0.1367570\n",
       "3 verb_X 252 -0.7880923 2.247977 0.1416092"
      ]
     },
     "metadata": {},
     "output_type": "display_data"
    },
    {
     "data": {
      "text/markdown": [
       "### Expected marginal means"
      ]
     },
     "metadata": {},
     "output_type": "display_data"
    },
    {
     "data": {
      "text/html": [
       "<table>\n",
       "<caption>A apa_results_table: 18 × 6</caption>\n",
       "<thead>\n",
       "\t<tr><th></th><th scope=col>chan0</th><th scope=col>cond0</th><th scope=col>estimate</th><th scope=col>ci</th><th scope=col>statistic</th><th scope=col>p.value</th></tr>\n",
       "\t<tr><th></th><th scope=col>&lt;chr&gt;</th><th scope=col>&lt;chr&gt;</th><th scope=col>&lt;ppj_lbll&gt;</th><th scope=col>&lt;ppj_lbll&gt;</th><th scope=col>&lt;ppj_lbll&gt;</th><th scope=col>&lt;ppj_lbll&gt;</th></tr>\n",
       "</thead>\n",
       "<tbody>\n",
       "\t<tr><th scope=row>noun_F_LC</th><td>LC</td><td>noun_F</td><td>-0.77</td><td>$[-1.38$, $-0.16]$</td><td>-2.48</td><td>.014  </td></tr>\n",
       "\t<tr><th scope=row>noun_M_LC</th><td>  </td><td>noun_M</td><td>-0.75</td><td>$[-1.36$, $-0.14]$</td><td>-2.42</td><td>.016  </td></tr>\n",
       "\t<tr><th scope=row>verb_X_LC</th><td>  </td><td>verb_X</td><td>-0.51</td><td>$[-1.12$, $0.10]$ </td><td>-1.64</td><td>.103  </td></tr>\n",
       "\t<tr><th scope=row>noun_F_LF</th><td>LF</td><td>noun_F</td><td>-2.47</td><td>$[-3.08$, $-1.86]$</td><td>-7.95</td><td>&lt; .001</td></tr>\n",
       "\t<tr><th scope=row>noun_M_LF</th><td><span style=white-space:pre-wrap>  </span></td><td>noun_M</td><td>-2.58</td><td>$[-3.20$, $-1.97]$</td><td>-8.32</td><td>&lt; .001</td></tr>\n",
       "\t<tr><th scope=row>verb_X_LF</th><td><span style=white-space:pre-wrap>  </span></td><td>verb_X</td><td>-2.44</td><td>$[-3.06$, $-1.83]$</td><td>-7.87</td><td>&lt; .001</td></tr>\n",
       "\t<tr><th scope=row>noun_F_LP</th><td>LP</td><td>noun_F</td><td>-2.25</td><td>$[-2.86$, $-1.64]$</td><td>-7.25</td><td>&lt; .001</td></tr>\n",
       "\t<tr><th scope=row>noun_M_LP</th><td><span style=white-space:pre-wrap>  </span></td><td>noun_M</td><td>-1.75</td><td>$[-2.36$, $-1.14]$</td><td>-5.63</td><td>&lt; .001</td></tr>\n",
       "\t<tr><th scope=row>verb_X_LP</th><td><span style=white-space:pre-wrap>  </span></td><td>verb_X</td><td>-1.52</td><td>$[-2.13$, $-0.91]$</td><td>-4.89</td><td>&lt; .001</td></tr>\n",
       "\t<tr><th scope=row>noun_F_RC</th><td>RC</td><td>noun_F</td><td>0.46 </td><td>$[-0.16$, $1.07]$ </td><td>1.47 </td><td>.144  </td></tr>\n",
       "\t<tr><th scope=row>noun_M_RC</th><td>  </td><td>noun_M</td><td>0.25 </td><td>$[-0.36$, $0.86]$ </td><td>0.80 </td><td>.426  </td></tr>\n",
       "\t<tr><th scope=row>verb_X_RC</th><td>  </td><td>verb_X</td><td>0.81 </td><td>$[0.20$, $1.42]$  </td><td>2.61 </td><td>.010  </td></tr>\n",
       "\t<tr><th scope=row>noun_F_RF</th><td>RF</td><td>noun_F</td><td>-1.54</td><td>$[-2.15$, $-0.93]$</td><td>-4.95</td><td>&lt; .001</td></tr>\n",
       "\t<tr><th scope=row>noun_M_RF</th><td><span style=white-space:pre-wrap>  </span></td><td>noun_M</td><td>-1.79</td><td>$[-2.40$, $-1.18]$</td><td>-5.75</td><td>&lt; .001</td></tr>\n",
       "\t<tr><th scope=row>verb_X_RF</th><td><span style=white-space:pre-wrap>  </span></td><td>verb_X</td><td>-1.36</td><td>$[-1.97$, $-0.75]$</td><td>-4.39</td><td>&lt; .001</td></tr>\n",
       "\t<tr><th scope=row>noun_F_RP</th><td>RP</td><td>noun_F</td><td>-0.29</td><td>$[-0.91$, $0.32]$ </td><td>-0.95</td><td>.344  </td></tr>\n",
       "\t<tr><th scope=row>noun_M_RP</th><td>  </td><td>noun_M</td><td>0.18 </td><td>$[-0.43$, $0.79]$ </td><td>0.57 </td><td>.569  </td></tr>\n",
       "\t<tr><th scope=row>verb_X_RP</th><td>  </td><td>verb_X</td><td>0.30 </td><td>$[-0.31$, $0.91]$ </td><td>0.96 </td><td>.338  </td></tr>\n",
       "</tbody>\n",
       "</table>\n"
      ],
      "text/latex": [
       "A apa\\_results\\_table: 18 × 6\n",
       "\\begin{tabular}{r|llllll}\n",
       "  & chan0 & cond0 & estimate & ci & statistic & p.value\\\\\n",
       "  & <chr> & <chr> & <ppj\\_lbll> & <ppj\\_lbll> & <ppj\\_lbll> & <ppj\\_lbll>\\\\\n",
       "\\hline\n",
       "\tnoun\\_F\\_LC & LC & noun\\_F & -0.77 & \\${[}-1.38\\$, \\$-0.16{]}\\$ & -2.48 & .014  \\\\\n",
       "\tnoun\\_M\\_LC &    & noun\\_M & -0.75 & \\${[}-1.36\\$, \\$-0.14{]}\\$ & -2.42 & .016  \\\\\n",
       "\tverb\\_X\\_LC &    & verb\\_X & -0.51 & \\${[}-1.12\\$, \\$0.10{]}\\$  & -1.64 & .103  \\\\\n",
       "\tnoun\\_F\\_LF & LF & noun\\_F & -2.47 & \\${[}-3.08\\$, \\$-1.86{]}\\$ & -7.95 & < .001\\\\\n",
       "\tnoun\\_M\\_LF &    & noun\\_M & -2.58 & \\${[}-3.20\\$, \\$-1.97{]}\\$ & -8.32 & < .001\\\\\n",
       "\tverb\\_X\\_LF &    & verb\\_X & -2.44 & \\${[}-3.06\\$, \\$-1.83{]}\\$ & -7.87 & < .001\\\\\n",
       "\tnoun\\_F\\_LP & LP & noun\\_F & -2.25 & \\${[}-2.86\\$, \\$-1.64{]}\\$ & -7.25 & < .001\\\\\n",
       "\tnoun\\_M\\_LP &    & noun\\_M & -1.75 & \\${[}-2.36\\$, \\$-1.14{]}\\$ & -5.63 & < .001\\\\\n",
       "\tverb\\_X\\_LP &    & verb\\_X & -1.52 & \\${[}-2.13\\$, \\$-0.91{]}\\$ & -4.89 & < .001\\\\\n",
       "\tnoun\\_F\\_RC & RC & noun\\_F & 0.46  & \\${[}-0.16\\$, \\$1.07{]}\\$  & 1.47  & .144  \\\\\n",
       "\tnoun\\_M\\_RC &    & noun\\_M & 0.25  & \\${[}-0.36\\$, \\$0.86{]}\\$  & 0.80  & .426  \\\\\n",
       "\tverb\\_X\\_RC &    & verb\\_X & 0.81  & \\${[}0.20\\$, \\$1.42{]}\\$   & 2.61  & .010  \\\\\n",
       "\tnoun\\_F\\_RF & RF & noun\\_F & -1.54 & \\${[}-2.15\\$, \\$-0.93{]}\\$ & -4.95 & < .001\\\\\n",
       "\tnoun\\_M\\_RF &    & noun\\_M & -1.79 & \\${[}-2.40\\$, \\$-1.18{]}\\$ & -5.75 & < .001\\\\\n",
       "\tverb\\_X\\_RF &    & verb\\_X & -1.36 & \\${[}-1.97\\$, \\$-0.75{]}\\$ & -4.39 & < .001\\\\\n",
       "\tnoun\\_F\\_RP & RP & noun\\_F & -0.29 & \\${[}-0.91\\$, \\$0.32{]}\\$  & -0.95 & .344  \\\\\n",
       "\tnoun\\_M\\_RP &    & noun\\_M & 0.18  & \\${[}-0.43\\$, \\$0.79{]}\\$  & 0.57  & .569  \\\\\n",
       "\tverb\\_X\\_RP &    & verb\\_X & 0.30  & \\${[}-0.31\\$, \\$0.91{]}\\$  & 0.96  & .338  \\\\\n",
       "\\end{tabular}\n"
      ],
      "text/markdown": [
       "\n",
       "A apa_results_table: 18 × 6\n",
       "\n",
       "| <!--/--> | chan0 &lt;chr&gt; | cond0 &lt;chr&gt; | estimate &lt;ppj_lbll&gt; | ci &lt;ppj_lbll&gt; | statistic &lt;ppj_lbll&gt; | p.value &lt;ppj_lbll&gt; |\n",
       "|---|---|---|---|---|---|---|\n",
       "| noun_F_LC | LC | noun_F | -0.77 | $[-1.38$, $-0.16]$ | -2.48 | .014   |\n",
       "| noun_M_LC | <!----> | noun_M | -0.75 | $[-1.36$, $-0.14]$ | -2.42 | .016   |\n",
       "| verb_X_LC | <!----> | verb_X | -0.51 | $[-1.12$, $0.10]$  | -1.64 | .103   |\n",
       "| noun_F_LF | LF | noun_F | -2.47 | $[-3.08$, $-1.86]$ | -7.95 | &lt; .001 |\n",
       "| noun_M_LF | <!----> | noun_M | -2.58 | $[-3.20$, $-1.97]$ | -8.32 | &lt; .001 |\n",
       "| verb_X_LF | <!----> | verb_X | -2.44 | $[-3.06$, $-1.83]$ | -7.87 | &lt; .001 |\n",
       "| noun_F_LP | LP | noun_F | -2.25 | $[-2.86$, $-1.64]$ | -7.25 | &lt; .001 |\n",
       "| noun_M_LP | <!----> | noun_M | -1.75 | $[-2.36$, $-1.14]$ | -5.63 | &lt; .001 |\n",
       "| verb_X_LP | <!----> | verb_X | -1.52 | $[-2.13$, $-0.91]$ | -4.89 | &lt; .001 |\n",
       "| noun_F_RC | RC | noun_F | 0.46  | $[-0.16$, $1.07]$  | 1.47  | .144   |\n",
       "| noun_M_RC | <!----> | noun_M | 0.25  | $[-0.36$, $0.86]$  | 0.80  | .426   |\n",
       "| verb_X_RC | <!----> | verb_X | 0.81  | $[0.20$, $1.42]$   | 2.61  | .010   |\n",
       "| noun_F_RF | RF | noun_F | -1.54 | $[-2.15$, $-0.93]$ | -4.95 | &lt; .001 |\n",
       "| noun_M_RF | <!----> | noun_M | -1.79 | $[-2.40$, $-1.18]$ | -5.75 | &lt; .001 |\n",
       "| verb_X_RF | <!----> | verb_X | -1.36 | $[-1.97$, $-0.75]$ | -4.39 | &lt; .001 |\n",
       "| noun_F_RP | RP | noun_F | -0.29 | $[-0.91$, $0.32]$  | -0.95 | .344   |\n",
       "| noun_M_RP | <!----> | noun_M | 0.18  | $[-0.43$, $0.79]$  | 0.57  | .569   |\n",
       "| verb_X_RP | <!----> | verb_X | 0.30  | $[-0.31$, $0.91]$  | 0.96  | .338   |\n",
       "\n"
      ],
      "text/plain": [
       "          chan0 cond0  estimate ci                 statistic p.value\n",
       "noun_F_LC LC    noun_F -0.77    $[-1.38$, $-0.16]$ -2.48     .014   \n",
       "noun_M_LC       noun_M -0.75    $[-1.36$, $-0.14]$ -2.42     .016   \n",
       "verb_X_LC       verb_X -0.51    $[-1.12$, $0.10]$  -1.64     .103   \n",
       "noun_F_LF LF    noun_F -2.47    $[-3.08$, $-1.86]$ -7.95     < .001 \n",
       "noun_M_LF       noun_M -2.58    $[-3.20$, $-1.97]$ -8.32     < .001 \n",
       "verb_X_LF       verb_X -2.44    $[-3.06$, $-1.83]$ -7.87     < .001 \n",
       "noun_F_LP LP    noun_F -2.25    $[-2.86$, $-1.64]$ -7.25     < .001 \n",
       "noun_M_LP       noun_M -1.75    $[-2.36$, $-1.14]$ -5.63     < .001 \n",
       "verb_X_LP       verb_X -1.52    $[-2.13$, $-0.91]$ -4.89     < .001 \n",
       "noun_F_RC RC    noun_F 0.46     $[-0.16$, $1.07]$  1.47      .144   \n",
       "noun_M_RC       noun_M 0.25     $[-0.36$, $0.86]$  0.80      .426   \n",
       "verb_X_RC       verb_X 0.81     $[0.20$, $1.42]$   2.61      .010   \n",
       "noun_F_RF RF    noun_F -1.54    $[-2.15$, $-0.93]$ -4.95     < .001 \n",
       "noun_M_RF       noun_M -1.79    $[-2.40$, $-1.18]$ -5.75     < .001 \n",
       "verb_X_RF       verb_X -1.36    $[-1.97$, $-0.75]$ -4.39     < .001 \n",
       "noun_F_RP RP    noun_F -0.29    $[-0.91$, $0.32]$  -0.95     .344   \n",
       "noun_M_RP       noun_M 0.18     $[-0.43$, $0.79]$  0.57      .569   \n",
       "verb_X_RP       verb_X 0.30     $[-0.31$, $0.91]$  0.96      .338   "
      ]
     },
     "metadata": {},
     "output_type": "display_data"
    },
    {
     "data": {
      "text/markdown": [
       "### Paired comparisons for expected marginal means"
      ]
     },
     "metadata": {},
     "output_type": "display_data"
    },
    {
     "data": {
      "text/html": [
       "<table>\n",
       "<caption>A apa_results_table: 18 × 6</caption>\n",
       "<thead>\n",
       "\t<tr><th></th><th scope=col>chan0</th><th scope=col>contrast</th><th scope=col>estimate</th><th scope=col>ci</th><th scope=col>statistic</th><th scope=col>p.value</th></tr>\n",
       "\t<tr><th></th><th scope=col>&lt;chr&gt;</th><th scope=col>&lt;ppj_lbll&gt;</th><th scope=col>&lt;ppj_lbll&gt;</th><th scope=col>&lt;ppj_lbll&gt;</th><th scope=col>&lt;ppj_lbll&gt;</th><th scope=col>&lt;ppj_lbll&gt;</th></tr>\n",
       "</thead>\n",
       "<tbody>\n",
       "\t<tr><th scope=row>LC_noun_F_noun_M</th><td>LC</td><td>noun_F - noun_M</td><td>-0.02</td><td>$[-0.37$, $0.33]$ </td><td>-0.13</td><td>.991  </td></tr>\n",
       "\t<tr><th scope=row>LC_noun_F_verb_X</th><td>  </td><td>noun_F - verb_X</td><td>-0.26</td><td>$[-0.61$, $0.09]$ </td><td>-1.77</td><td>.179  </td></tr>\n",
       "\t<tr><th scope=row>LC_noun_M_verb_X</th><td>  </td><td>noun_M - verb_X</td><td>-0.24</td><td>$[-0.59$, $0.10]$ </td><td>-1.64</td><td>.229  </td></tr>\n",
       "\t<tr><th scope=row>LF_noun_F_noun_M</th><td>LF</td><td>noun_F - noun_M</td><td>0.12 </td><td>$[-0.23$, $0.46]$ </td><td>0.79 </td><td>.707  </td></tr>\n",
       "\t<tr><th scope=row>LF_noun_F_verb_X</th><td>  </td><td>noun_F - verb_X</td><td>-0.02</td><td>$[-0.37$, $0.32]$ </td><td>-0.16</td><td>.987  </td></tr>\n",
       "\t<tr><th scope=row>LF_noun_M_verb_X</th><td>  </td><td>noun_M - verb_X</td><td>-0.14</td><td>$[-0.49$, $0.21]$ </td><td>-0.95</td><td>.608  </td></tr>\n",
       "\t<tr><th scope=row>LP_noun_F_noun_M</th><td>LP</td><td>noun_F - noun_M</td><td>-0.51</td><td>$[-0.85$, $-0.16]$</td><td>-3.43</td><td>.002  </td></tr>\n",
       "\t<tr><th scope=row>LP_noun_F_verb_X</th><td><span style=white-space:pre-wrap>  </span></td><td>noun_F - verb_X</td><td>-0.73</td><td>$[-1.08$, $-0.39]$</td><td>-4.97</td><td>&lt; .001</td></tr>\n",
       "\t<tr><th scope=row>LP_noun_M_verb_X</th><td>  </td><td>noun_M - verb_X</td><td>-0.23</td><td>$[-0.57$, $0.12]$ </td><td>-1.54</td><td>.272  </td></tr>\n",
       "\t<tr><th scope=row>RC_noun_F_noun_M</th><td>RC</td><td>noun_F - noun_M</td><td>0.21 </td><td>$[-0.14$, $0.55]$ </td><td>1.41 </td><td>.337  </td></tr>\n",
       "\t<tr><th scope=row>RC_noun_F_verb_X</th><td>  </td><td>noun_F - verb_X</td><td>-0.35</td><td>$[-0.70$, $-0.01]$</td><td>-2.40</td><td>.044  </td></tr>\n",
       "\t<tr><th scope=row>RC_noun_M_verb_X</th><td><span style=white-space:pre-wrap>  </span></td><td>noun_M - verb_X</td><td>-0.56</td><td>$[-0.91$, $-0.21]$</td><td>-3.81</td><td>&lt; .001</td></tr>\n",
       "\t<tr><th scope=row>RF_noun_F_noun_M</th><td>RF</td><td>noun_F - noun_M</td><td>0.25 </td><td>$[-0.10$, $0.60]$ </td><td>1.69 </td><td>.211  </td></tr>\n",
       "\t<tr><th scope=row>RF_noun_F_verb_X</th><td>  </td><td>noun_F - verb_X</td><td>-0.17</td><td>$[-0.52$, $0.17]$ </td><td>-1.18</td><td>.466  </td></tr>\n",
       "\t<tr><th scope=row>RF_noun_M_verb_X</th><td>  </td><td>noun_M - verb_X</td><td>-0.42</td><td>$[-0.77$, $-0.08]$</td><td>-2.87</td><td>.012  </td></tr>\n",
       "\t<tr><th scope=row>RP_noun_F_noun_M</th><td>RP</td><td>noun_F - noun_M</td><td>-0.47</td><td>$[-0.82$, $-0.12]$</td><td>-3.20</td><td>.004  </td></tr>\n",
       "\t<tr><th scope=row>RP_noun_F_verb_X</th><td><span style=white-space:pre-wrap>  </span></td><td>noun_F - verb_X</td><td>-0.59</td><td>$[-0.94$, $-0.25]$</td><td>-4.02</td><td>&lt; .001</td></tr>\n",
       "\t<tr><th scope=row>RP_noun_M_verb_X</th><td>  </td><td>noun_M - verb_X</td><td>-0.12</td><td>$[-0.47$, $0.23]$ </td><td>-0.82</td><td>.689  </td></tr>\n",
       "</tbody>\n",
       "</table>\n"
      ],
      "text/latex": [
       "A apa\\_results\\_table: 18 × 6\n",
       "\\begin{tabular}{r|llllll}\n",
       "  & chan0 & contrast & estimate & ci & statistic & p.value\\\\\n",
       "  & <chr> & <ppj\\_lbll> & <ppj\\_lbll> & <ppj\\_lbll> & <ppj\\_lbll> & <ppj\\_lbll>\\\\\n",
       "\\hline\n",
       "\tLC\\_noun\\_F\\_noun\\_M & LC & noun\\_F - noun\\_M & -0.02 & \\${[}-0.37\\$, \\$0.33{]}\\$  & -0.13 & .991  \\\\\n",
       "\tLC\\_noun\\_F\\_verb\\_X &    & noun\\_F - verb\\_X & -0.26 & \\${[}-0.61\\$, \\$0.09{]}\\$  & -1.77 & .179  \\\\\n",
       "\tLC\\_noun\\_M\\_verb\\_X &    & noun\\_M - verb\\_X & -0.24 & \\${[}-0.59\\$, \\$0.10{]}\\$  & -1.64 & .229  \\\\\n",
       "\tLF\\_noun\\_F\\_noun\\_M & LF & noun\\_F - noun\\_M & 0.12  & \\${[}-0.23\\$, \\$0.46{]}\\$  & 0.79  & .707  \\\\\n",
       "\tLF\\_noun\\_F\\_verb\\_X &    & noun\\_F - verb\\_X & -0.02 & \\${[}-0.37\\$, \\$0.32{]}\\$  & -0.16 & .987  \\\\\n",
       "\tLF\\_noun\\_M\\_verb\\_X &    & noun\\_M - verb\\_X & -0.14 & \\${[}-0.49\\$, \\$0.21{]}\\$  & -0.95 & .608  \\\\\n",
       "\tLP\\_noun\\_F\\_noun\\_M & LP & noun\\_F - noun\\_M & -0.51 & \\${[}-0.85\\$, \\$-0.16{]}\\$ & -3.43 & .002  \\\\\n",
       "\tLP\\_noun\\_F\\_verb\\_X &    & noun\\_F - verb\\_X & -0.73 & \\${[}-1.08\\$, \\$-0.39{]}\\$ & -4.97 & < .001\\\\\n",
       "\tLP\\_noun\\_M\\_verb\\_X &    & noun\\_M - verb\\_X & -0.23 & \\${[}-0.57\\$, \\$0.12{]}\\$  & -1.54 & .272  \\\\\n",
       "\tRC\\_noun\\_F\\_noun\\_M & RC & noun\\_F - noun\\_M & 0.21  & \\${[}-0.14\\$, \\$0.55{]}\\$  & 1.41  & .337  \\\\\n",
       "\tRC\\_noun\\_F\\_verb\\_X &    & noun\\_F - verb\\_X & -0.35 & \\${[}-0.70\\$, \\$-0.01{]}\\$ & -2.40 & .044  \\\\\n",
       "\tRC\\_noun\\_M\\_verb\\_X &    & noun\\_M - verb\\_X & -0.56 & \\${[}-0.91\\$, \\$-0.21{]}\\$ & -3.81 & < .001\\\\\n",
       "\tRF\\_noun\\_F\\_noun\\_M & RF & noun\\_F - noun\\_M & 0.25  & \\${[}-0.10\\$, \\$0.60{]}\\$  & 1.69  & .211  \\\\\n",
       "\tRF\\_noun\\_F\\_verb\\_X &    & noun\\_F - verb\\_X & -0.17 & \\${[}-0.52\\$, \\$0.17{]}\\$  & -1.18 & .466  \\\\\n",
       "\tRF\\_noun\\_M\\_verb\\_X &    & noun\\_M - verb\\_X & -0.42 & \\${[}-0.77\\$, \\$-0.08{]}\\$ & -2.87 & .012  \\\\\n",
       "\tRP\\_noun\\_F\\_noun\\_M & RP & noun\\_F - noun\\_M & -0.47 & \\${[}-0.82\\$, \\$-0.12{]}\\$ & -3.20 & .004  \\\\\n",
       "\tRP\\_noun\\_F\\_verb\\_X &    & noun\\_F - verb\\_X & -0.59 & \\${[}-0.94\\$, \\$-0.25{]}\\$ & -4.02 & < .001\\\\\n",
       "\tRP\\_noun\\_M\\_verb\\_X &    & noun\\_M - verb\\_X & -0.12 & \\${[}-0.47\\$, \\$0.23{]}\\$  & -0.82 & .689  \\\\\n",
       "\\end{tabular}\n"
      ],
      "text/markdown": [
       "\n",
       "A apa_results_table: 18 × 6\n",
       "\n",
       "| <!--/--> | chan0 &lt;chr&gt; | contrast &lt;ppj_lbll&gt; | estimate &lt;ppj_lbll&gt; | ci &lt;ppj_lbll&gt; | statistic &lt;ppj_lbll&gt; | p.value &lt;ppj_lbll&gt; |\n",
       "|---|---|---|---|---|---|---|\n",
       "| LC_noun_F_noun_M | LC | noun_F - noun_M | -0.02 | $[-0.37$, $0.33]$  | -0.13 | .991   |\n",
       "| LC_noun_F_verb_X | <!----> | noun_F - verb_X | -0.26 | $[-0.61$, $0.09]$  | -1.77 | .179   |\n",
       "| LC_noun_M_verb_X | <!----> | noun_M - verb_X | -0.24 | $[-0.59$, $0.10]$  | -1.64 | .229   |\n",
       "| LF_noun_F_noun_M | LF | noun_F - noun_M | 0.12  | $[-0.23$, $0.46]$  | 0.79  | .707   |\n",
       "| LF_noun_F_verb_X | <!----> | noun_F - verb_X | -0.02 | $[-0.37$, $0.32]$  | -0.16 | .987   |\n",
       "| LF_noun_M_verb_X | <!----> | noun_M - verb_X | -0.14 | $[-0.49$, $0.21]$  | -0.95 | .608   |\n",
       "| LP_noun_F_noun_M | LP | noun_F - noun_M | -0.51 | $[-0.85$, $-0.16]$ | -3.43 | .002   |\n",
       "| LP_noun_F_verb_X | <!----> | noun_F - verb_X | -0.73 | $[-1.08$, $-0.39]$ | -4.97 | &lt; .001 |\n",
       "| LP_noun_M_verb_X | <!----> | noun_M - verb_X | -0.23 | $[-0.57$, $0.12]$  | -1.54 | .272   |\n",
       "| RC_noun_F_noun_M | RC | noun_F - noun_M | 0.21  | $[-0.14$, $0.55]$  | 1.41  | .337   |\n",
       "| RC_noun_F_verb_X | <!----> | noun_F - verb_X | -0.35 | $[-0.70$, $-0.01]$ | -2.40 | .044   |\n",
       "| RC_noun_M_verb_X | <!----> | noun_M - verb_X | -0.56 | $[-0.91$, $-0.21]$ | -3.81 | &lt; .001 |\n",
       "| RF_noun_F_noun_M | RF | noun_F - noun_M | 0.25  | $[-0.10$, $0.60]$  | 1.69  | .211   |\n",
       "| RF_noun_F_verb_X | <!----> | noun_F - verb_X | -0.17 | $[-0.52$, $0.17]$  | -1.18 | .466   |\n",
       "| RF_noun_M_verb_X | <!----> | noun_M - verb_X | -0.42 | $[-0.77$, $-0.08]$ | -2.87 | .012   |\n",
       "| RP_noun_F_noun_M | RP | noun_F - noun_M | -0.47 | $[-0.82$, $-0.12]$ | -3.20 | .004   |\n",
       "| RP_noun_F_verb_X | <!----> | noun_F - verb_X | -0.59 | $[-0.94$, $-0.25]$ | -4.02 | &lt; .001 |\n",
       "| RP_noun_M_verb_X | <!----> | noun_M - verb_X | -0.12 | $[-0.47$, $0.23]$  | -0.82 | .689   |\n",
       "\n"
      ],
      "text/plain": [
       "                 chan0 contrast        estimate ci                 statistic p.value\n",
       "LC_noun_F_noun_M LC    noun_F - noun_M -0.02    $[-0.37$, $0.33]$  -0.13     .991   \n",
       "LC_noun_F_verb_X       noun_F - verb_X -0.26    $[-0.61$, $0.09]$  -1.77     .179   \n",
       "LC_noun_M_verb_X       noun_M - verb_X -0.24    $[-0.59$, $0.10]$  -1.64     .229   \n",
       "LF_noun_F_noun_M LF    noun_F - noun_M 0.12     $[-0.23$, $0.46]$  0.79      .707   \n",
       "LF_noun_F_verb_X       noun_F - verb_X -0.02    $[-0.37$, $0.32]$  -0.16     .987   \n",
       "LF_noun_M_verb_X       noun_M - verb_X -0.14    $[-0.49$, $0.21]$  -0.95     .608   \n",
       "LP_noun_F_noun_M LP    noun_F - noun_M -0.51    $[-0.85$, $-0.16]$ -3.43     .002   \n",
       "LP_noun_F_verb_X       noun_F - verb_X -0.73    $[-1.08$, $-0.39]$ -4.97     < .001 \n",
       "LP_noun_M_verb_X       noun_M - verb_X -0.23    $[-0.57$, $0.12]$  -1.54     .272   \n",
       "RC_noun_F_noun_M RC    noun_F - noun_M 0.21     $[-0.14$, $0.55]$  1.41      .337   \n",
       "RC_noun_F_verb_X       noun_F - verb_X -0.35    $[-0.70$, $-0.01]$ -2.40     .044   \n",
       "RC_noun_M_verb_X       noun_M - verb_X -0.56    $[-0.91$, $-0.21]$ -3.81     < .001 \n",
       "RF_noun_F_noun_M RF    noun_F - noun_M 0.25     $[-0.10$, $0.60]$  1.69      .211   \n",
       "RF_noun_F_verb_X       noun_F - verb_X -0.17    $[-0.52$, $0.17]$  -1.18     .466   \n",
       "RF_noun_M_verb_X       noun_M - verb_X -0.42    $[-0.77$, $-0.08]$ -2.87     .012   \n",
       "RP_noun_F_noun_M RP    noun_F - noun_M -0.47    $[-0.82$, $-0.12]$ -3.20     .004   \n",
       "RP_noun_F_verb_X       noun_F - verb_X -0.59    $[-0.94$, $-0.25]$ -4.02     < .001 \n",
       "RP_noun_M_verb_X       noun_M - verb_X -0.12    $[-0.47$, $0.23]$  -0.82     .689   "
      ]
     },
     "metadata": {},
     "output_type": "display_data"
    }
   ],
   "source": [
    "IDX <- IDX+1; COND <- CONDS[IDX]\n",
    "data1 <- droplevels(subset(df1, eval(parse(text=COND)))); data1 <- data1[complete.cases(data1),]; done1 <- AOV4(data1,COND)\n",
    "display_markdown(str_c(\"# Condition \",IDX,\" of \",length(CONDS))); display_markdown(done1$info); display_markdown(\"### Table\"); done1$aov_APA$table; display_markdown(\"### Result\"); display_markdown(done1$aov_APA[[\"full_result\"]][[\"cond0\"]]); display_markdown(\"### Summary (all done1, incl. NANs)\"); done1$summary; display_markdown(\"### Expected marginal means\"); done1$emm_APA$table; display_markdown(\"### Paired comparisons for expected marginal means\"); done1$pairs_APA$table"
   ]
  },
  {
   "cell_type": "code",
   "execution_count": 29,
   "metadata": {},
   "outputs": [
    {
     "data": {
      "text/markdown": [
       "# Condition 11 of 12"
      ]
     },
     "metadata": {},
     "output_type": "display_data"
    },
    {
     "data": {
      "text/markdown": [
       "`tmin0==0.11 & mode0==\"pos\"`"
      ]
     },
     "metadata": {},
     "output_type": "display_data"
    },
    {
     "data": {
      "text/markdown": [
       "### Table"
      ]
     },
     "metadata": {},
     "output_type": "display_data"
    },
    {
     "data": {
      "text/html": [
       "<table>\n",
       "<caption>A apa_results_table: 3 × 7</caption>\n",
       "<thead>\n",
       "\t<tr><th></th><th scope=col>Effect</th><th scope=col>F</th><th scope=col>df1</th><th scope=col>df2</th><th scope=col>MSE</th><th scope=col>p</th><th scope=col>ges</th></tr>\n",
       "\t<tr><th></th><th scope=col>&lt;ppj_lbll&gt;</th><th scope=col>&lt;ppj_lbll&gt;</th><th scope=col>&lt;ppj_lbll&gt;</th><th scope=col>&lt;ppj_lbll&gt;</th><th scope=col>&lt;ppj_lbll&gt;</th><th scope=col>&lt;ppj_lbll&gt;</th><th scope=col>&lt;ppj_lbll&gt;</th></tr>\n",
       "</thead>\n",
       "<tbody>\n",
       "\t<tr><th scope=row>1</th><td>Cond0                </td><td>1.83 </td><td>1.91</td><td>78.23 </td><td>0.19 </td><td>.169  </td><td>.000</td></tr>\n",
       "\t<tr><th scope=row>2</th><td><span style=white-space:pre-wrap>Chan0                </span></td><td>80.22</td><td>1.65</td><td>67.68 </td><td>26.15</td><td>&lt; .001</td><td>.624</td></tr>\n",
       "\t<tr><th scope=row>3</th><td>Cond0 $\\times$ Chan0</td><td>1.00 </td><td>5.10</td><td>209.18</td><td>0.59 </td><td>.417  </td><td>.001</td></tr>\n",
       "</tbody>\n",
       "</table>\n"
      ],
      "text/latex": [
       "A apa\\_results\\_table: 3 × 7\n",
       "\\begin{tabular}{r|lllllll}\n",
       "  & Effect & F & df1 & df2 & MSE & p & ges\\\\\n",
       "  & <ppj\\_lbll> & <ppj\\_lbll> & <ppj\\_lbll> & <ppj\\_lbll> & <ppj\\_lbll> & <ppj\\_lbll> & <ppj\\_lbll>\\\\\n",
       "\\hline\n",
       "\t1 & Cond0                 & 1.83  & 1.91 & 78.23  & 0.19  & .169   & .000\\\\\n",
       "\t2 & Chan0                 & 80.22 & 1.65 & 67.68  & 26.15 & < .001 & .624\\\\\n",
       "\t3 & Cond0 \\$\\textbackslash{}times\\$ Chan0 & 1.00  & 5.10 & 209.18 & 0.59  & .417   & .001\\\\\n",
       "\\end{tabular}\n"
      ],
      "text/markdown": [
       "\n",
       "A apa_results_table: 3 × 7\n",
       "\n",
       "| <!--/--> | Effect &lt;ppj_lbll&gt; | F &lt;ppj_lbll&gt; | df1 &lt;ppj_lbll&gt; | df2 &lt;ppj_lbll&gt; | MSE &lt;ppj_lbll&gt; | p &lt;ppj_lbll&gt; | ges &lt;ppj_lbll&gt; |\n",
       "|---|---|---|---|---|---|---|---|\n",
       "| 1 | Cond0                 | 1.83  | 1.91 | 78.23  | 0.19  | .169   | .000 |\n",
       "| 2 | Chan0                 | 80.22 | 1.65 | 67.68  | 26.15 | &lt; .001 | .624 |\n",
       "| 3 | Cond0 $\\times$ Chan0 | 1.00  | 5.10 | 209.18 | 0.59  | .417   | .001 |\n",
       "\n"
      ],
      "text/plain": [
       "  Effect                F     df1  df2    MSE   p      ges \n",
       "1 Cond0                 1.83  1.91 78.23  0.19  .169   .000\n",
       "2 Chan0                 80.22 1.65 67.68  26.15 < .001 .624\n",
       "3 Cond0 $\\\\times$ Chan0 1.00  5.10 209.18 0.59  .417   .001"
      ]
     },
     "metadata": {},
     "output_type": "display_data"
    },
    {
     "data": {
      "text/markdown": [
       "### Result"
      ]
     },
     "metadata": {},
     "output_type": "display_data"
    },
    {
     "data": {
      "text/markdown": [
       "$F(1.91, 78.23) = 1.83$, $\\mathit{MSE} = 0.19$, $p = .169$, $\\hat{\\eta}^2_G = .000$"
      ]
     },
     "metadata": {},
     "output_type": "display_data"
    },
    {
     "data": {
      "text/markdown": [
       "### Summary (all done1, incl. NANs)"
      ]
     },
     "metadata": {},
     "output_type": "display_data"
    },
    {
     "data": {
      "text/html": [
       "<table>\n",
       "<caption>A tibble: 3 × 5</caption>\n",
       "<thead>\n",
       "\t<tr><th scope=col>cond0</th><th scope=col>N</th><th scope=col>valX_M</th><th scope=col>valX_SD</th><th scope=col>valX_SE</th></tr>\n",
       "\t<tr><th scope=col>&lt;fct&gt;</th><th scope=col>&lt;int&gt;</th><th scope=col>&lt;dbl&gt;</th><th scope=col>&lt;dbl&gt;</th><th scope=col>&lt;dbl&gt;</th></tr>\n",
       "</thead>\n",
       "<tbody>\n",
       "\t<tr><td>noun_F</td><td>252</td><td>1.100700</td><td>2.745554</td><td>0.1729536</td></tr>\n",
       "\t<tr><td>noun_M</td><td>252</td><td>1.032498</td><td>2.706017</td><td>0.1704630</td></tr>\n",
       "\t<tr><td>verb_X</td><td>252</td><td>1.047033</td><td>2.693244</td><td>0.1696584</td></tr>\n",
       "</tbody>\n",
       "</table>\n"
      ],
      "text/latex": [
       "A tibble: 3 × 5\n",
       "\\begin{tabular}{lllll}\n",
       " cond0 & N & valX\\_M & valX\\_SD & valX\\_SE\\\\\n",
       " <fct> & <int> & <dbl> & <dbl> & <dbl>\\\\\n",
       "\\hline\n",
       "\t noun\\_F & 252 & 1.100700 & 2.745554 & 0.1729536\\\\\n",
       "\t noun\\_M & 252 & 1.032498 & 2.706017 & 0.1704630\\\\\n",
       "\t verb\\_X & 252 & 1.047033 & 2.693244 & 0.1696584\\\\\n",
       "\\end{tabular}\n"
      ],
      "text/markdown": [
       "\n",
       "A tibble: 3 × 5\n",
       "\n",
       "| cond0 &lt;fct&gt; | N &lt;int&gt; | valX_M &lt;dbl&gt; | valX_SD &lt;dbl&gt; | valX_SE &lt;dbl&gt; |\n",
       "|---|---|---|---|---|\n",
       "| noun_F | 252 | 1.100700 | 2.745554 | 0.1729536 |\n",
       "| noun_M | 252 | 1.032498 | 2.706017 | 0.1704630 |\n",
       "| verb_X | 252 | 1.047033 | 2.693244 | 0.1696584 |\n",
       "\n"
      ],
      "text/plain": [
       "  cond0  N   valX_M   valX_SD  valX_SE  \n",
       "1 noun_F 252 1.100700 2.745554 0.1729536\n",
       "2 noun_M 252 1.032498 2.706017 0.1704630\n",
       "3 verb_X 252 1.047033 2.693244 0.1696584"
      ]
     },
     "metadata": {},
     "output_type": "display_data"
    },
    {
     "data": {
      "text/markdown": [
       "### Expected marginal means"
      ]
     },
     "metadata": {},
     "output_type": "display_data"
    },
    {
     "data": {
      "text/html": [
       "<table>\n",
       "<caption>A apa_results_table: 18 × 6</caption>\n",
       "<thead>\n",
       "\t<tr><th></th><th scope=col>chan0</th><th scope=col>cond0</th><th scope=col>estimate</th><th scope=col>ci</th><th scope=col>statistic</th><th scope=col>p.value</th></tr>\n",
       "\t<tr><th></th><th scope=col>&lt;chr&gt;</th><th scope=col>&lt;chr&gt;</th><th scope=col>&lt;ppj_lbll&gt;</th><th scope=col>&lt;ppj_lbll&gt;</th><th scope=col>&lt;ppj_lbll&gt;</th><th scope=col>&lt;ppj_lbll&gt;</th></tr>\n",
       "</thead>\n",
       "<tbody>\n",
       "\t<tr><th scope=row>noun_F_LC</th><td>LC</td><td>noun_F</td><td>0.11 </td><td>$[-0.40$, $0.63]$ </td><td>0.44 </td><td>.659  </td></tr>\n",
       "\t<tr><th scope=row>noun_M_LC</th><td>  </td><td>noun_M</td><td>0.02 </td><td>$[-0.49$, $0.53]$ </td><td>0.08 </td><td>.933  </td></tr>\n",
       "\t<tr><th scope=row>verb_X_LC</th><td>  </td><td>verb_X</td><td>-0.01</td><td>$[-0.52$, $0.50]$ </td><td>-0.03</td><td>.976  </td></tr>\n",
       "\t<tr><th scope=row>noun_F_LF</th><td>LF</td><td>noun_F</td><td>-0.73</td><td>$[-1.24$, $-0.22]$</td><td>-2.81</td><td>.005  </td></tr>\n",
       "\t<tr><th scope=row>noun_M_LF</th><td><span style=white-space:pre-wrap>  </span></td><td>noun_M</td><td>-1.03</td><td>$[-1.55$, $-0.52]$</td><td>-3.99</td><td>&lt; .001</td></tr>\n",
       "\t<tr><th scope=row>verb_X_LF</th><td><span style=white-space:pre-wrap>  </span></td><td>verb_X</td><td>-0.94</td><td>$[-1.45$, $-0.43]$</td><td>-3.63</td><td>&lt; .001</td></tr>\n",
       "\t<tr><th scope=row>noun_F_LP</th><td>LP</td><td>noun_F</td><td>3.43 </td><td><span style=white-space:pre-wrap>$[2.92$, $3.94]$  </span></td><td>13.23</td><td>&lt; .001</td></tr>\n",
       "\t<tr><th scope=row>noun_M_LP</th><td><span style=white-space:pre-wrap>  </span></td><td>noun_M</td><td>3.54 </td><td><span style=white-space:pre-wrap>$[3.03$, $4.05]$  </span></td><td>13.66</td><td>&lt; .001</td></tr>\n",
       "\t<tr><th scope=row>verb_X_LP</th><td><span style=white-space:pre-wrap>  </span></td><td>verb_X</td><td>3.36 </td><td><span style=white-space:pre-wrap>$[2.84$, $3.87]$  </span></td><td>12.94</td><td>&lt; .001</td></tr>\n",
       "\t<tr><th scope=row>noun_F_RC</th><td>RC</td><td>noun_F</td><td>0.37 </td><td>$[-0.15$, $0.88]$ </td><td>1.41 </td><td>.160  </td></tr>\n",
       "\t<tr><th scope=row>noun_M_RC</th><td>  </td><td>noun_M</td><td>0.39 </td><td>$[-0.12$, $0.90]$ </td><td>1.49 </td><td>.138  </td></tr>\n",
       "\t<tr><th scope=row>verb_X_RC</th><td>  </td><td>verb_X</td><td>0.42 </td><td>$[-0.09$, $0.93]$ </td><td>1.60 </td><td>.110  </td></tr>\n",
       "\t<tr><th scope=row>noun_F_RF</th><td>RF</td><td>noun_F</td><td>-1.11</td><td>$[-1.62$, $-0.60]$</td><td>-4.28</td><td>&lt; .001</td></tr>\n",
       "\t<tr><th scope=row>noun_M_RF</th><td><span style=white-space:pre-wrap>  </span></td><td>noun_M</td><td>-1.15</td><td>$[-1.66$, $-0.64]$</td><td>-4.42</td><td>&lt; .001</td></tr>\n",
       "\t<tr><th scope=row>verb_X_RF</th><td><span style=white-space:pre-wrap>  </span></td><td>verb_X</td><td>-1.06</td><td>$[-1.57$, $-0.55]$</td><td>-4.10</td><td>&lt; .001</td></tr>\n",
       "\t<tr><th scope=row>noun_F_RP</th><td>RP</td><td>noun_F</td><td>4.53 </td><td><span style=white-space:pre-wrap>$[4.02$, $5.04]$  </span></td><td>17.47</td><td>&lt; .001</td></tr>\n",
       "\t<tr><th scope=row>noun_M_RP</th><td><span style=white-space:pre-wrap>  </span></td><td>noun_M</td><td>4.43 </td><td><span style=white-space:pre-wrap>$[3.92$, $4.94]$  </span></td><td>17.07</td><td>&lt; .001</td></tr>\n",
       "\t<tr><th scope=row>verb_X_RP</th><td><span style=white-space:pre-wrap>  </span></td><td>verb_X</td><td>4.52 </td><td><span style=white-space:pre-wrap>$[4.01$, $5.03]$  </span></td><td>17.44</td><td>&lt; .001</td></tr>\n",
       "</tbody>\n",
       "</table>\n"
      ],
      "text/latex": [
       "A apa\\_results\\_table: 18 × 6\n",
       "\\begin{tabular}{r|llllll}\n",
       "  & chan0 & cond0 & estimate & ci & statistic & p.value\\\\\n",
       "  & <chr> & <chr> & <ppj\\_lbll> & <ppj\\_lbll> & <ppj\\_lbll> & <ppj\\_lbll>\\\\\n",
       "\\hline\n",
       "\tnoun\\_F\\_LC & LC & noun\\_F & 0.11  & \\${[}-0.40\\$, \\$0.63{]}\\$  & 0.44  & .659  \\\\\n",
       "\tnoun\\_M\\_LC &    & noun\\_M & 0.02  & \\${[}-0.49\\$, \\$0.53{]}\\$  & 0.08  & .933  \\\\\n",
       "\tverb\\_X\\_LC &    & verb\\_X & -0.01 & \\${[}-0.52\\$, \\$0.50{]}\\$  & -0.03 & .976  \\\\\n",
       "\tnoun\\_F\\_LF & LF & noun\\_F & -0.73 & \\${[}-1.24\\$, \\$-0.22{]}\\$ & -2.81 & .005  \\\\\n",
       "\tnoun\\_M\\_LF &    & noun\\_M & -1.03 & \\${[}-1.55\\$, \\$-0.52{]}\\$ & -3.99 & < .001\\\\\n",
       "\tverb\\_X\\_LF &    & verb\\_X & -0.94 & \\${[}-1.45\\$, \\$-0.43{]}\\$ & -3.63 & < .001\\\\\n",
       "\tnoun\\_F\\_LP & LP & noun\\_F & 3.43  & \\${[}2.92\\$, \\$3.94{]}\\$   & 13.23 & < .001\\\\\n",
       "\tnoun\\_M\\_LP &    & noun\\_M & 3.54  & \\${[}3.03\\$, \\$4.05{]}\\$   & 13.66 & < .001\\\\\n",
       "\tverb\\_X\\_LP &    & verb\\_X & 3.36  & \\${[}2.84\\$, \\$3.87{]}\\$   & 12.94 & < .001\\\\\n",
       "\tnoun\\_F\\_RC & RC & noun\\_F & 0.37  & \\${[}-0.15\\$, \\$0.88{]}\\$  & 1.41  & .160  \\\\\n",
       "\tnoun\\_M\\_RC &    & noun\\_M & 0.39  & \\${[}-0.12\\$, \\$0.90{]}\\$  & 1.49  & .138  \\\\\n",
       "\tverb\\_X\\_RC &    & verb\\_X & 0.42  & \\${[}-0.09\\$, \\$0.93{]}\\$  & 1.60  & .110  \\\\\n",
       "\tnoun\\_F\\_RF & RF & noun\\_F & -1.11 & \\${[}-1.62\\$, \\$-0.60{]}\\$ & -4.28 & < .001\\\\\n",
       "\tnoun\\_M\\_RF &    & noun\\_M & -1.15 & \\${[}-1.66\\$, \\$-0.64{]}\\$ & -4.42 & < .001\\\\\n",
       "\tverb\\_X\\_RF &    & verb\\_X & -1.06 & \\${[}-1.57\\$, \\$-0.55{]}\\$ & -4.10 & < .001\\\\\n",
       "\tnoun\\_F\\_RP & RP & noun\\_F & 4.53  & \\${[}4.02\\$, \\$5.04{]}\\$   & 17.47 & < .001\\\\\n",
       "\tnoun\\_M\\_RP &    & noun\\_M & 4.43  & \\${[}3.92\\$, \\$4.94{]}\\$   & 17.07 & < .001\\\\\n",
       "\tverb\\_X\\_RP &    & verb\\_X & 4.52  & \\${[}4.01\\$, \\$5.03{]}\\$   & 17.44 & < .001\\\\\n",
       "\\end{tabular}\n"
      ],
      "text/markdown": [
       "\n",
       "A apa_results_table: 18 × 6\n",
       "\n",
       "| <!--/--> | chan0 &lt;chr&gt; | cond0 &lt;chr&gt; | estimate &lt;ppj_lbll&gt; | ci &lt;ppj_lbll&gt; | statistic &lt;ppj_lbll&gt; | p.value &lt;ppj_lbll&gt; |\n",
       "|---|---|---|---|---|---|---|\n",
       "| noun_F_LC | LC | noun_F | 0.11  | $[-0.40$, $0.63]$  | 0.44  | .659   |\n",
       "| noun_M_LC | <!----> | noun_M | 0.02  | $[-0.49$, $0.53]$  | 0.08  | .933   |\n",
       "| verb_X_LC | <!----> | verb_X | -0.01 | $[-0.52$, $0.50]$  | -0.03 | .976   |\n",
       "| noun_F_LF | LF | noun_F | -0.73 | $[-1.24$, $-0.22]$ | -2.81 | .005   |\n",
       "| noun_M_LF | <!----> | noun_M | -1.03 | $[-1.55$, $-0.52]$ | -3.99 | &lt; .001 |\n",
       "| verb_X_LF | <!----> | verb_X | -0.94 | $[-1.45$, $-0.43]$ | -3.63 | &lt; .001 |\n",
       "| noun_F_LP | LP | noun_F | 3.43  | $[2.92$, $3.94]$   | 13.23 | &lt; .001 |\n",
       "| noun_M_LP | <!----> | noun_M | 3.54  | $[3.03$, $4.05]$   | 13.66 | &lt; .001 |\n",
       "| verb_X_LP | <!----> | verb_X | 3.36  | $[2.84$, $3.87]$   | 12.94 | &lt; .001 |\n",
       "| noun_F_RC | RC | noun_F | 0.37  | $[-0.15$, $0.88]$  | 1.41  | .160   |\n",
       "| noun_M_RC | <!----> | noun_M | 0.39  | $[-0.12$, $0.90]$  | 1.49  | .138   |\n",
       "| verb_X_RC | <!----> | verb_X | 0.42  | $[-0.09$, $0.93]$  | 1.60  | .110   |\n",
       "| noun_F_RF | RF | noun_F | -1.11 | $[-1.62$, $-0.60]$ | -4.28 | &lt; .001 |\n",
       "| noun_M_RF | <!----> | noun_M | -1.15 | $[-1.66$, $-0.64]$ | -4.42 | &lt; .001 |\n",
       "| verb_X_RF | <!----> | verb_X | -1.06 | $[-1.57$, $-0.55]$ | -4.10 | &lt; .001 |\n",
       "| noun_F_RP | RP | noun_F | 4.53  | $[4.02$, $5.04]$   | 17.47 | &lt; .001 |\n",
       "| noun_M_RP | <!----> | noun_M | 4.43  | $[3.92$, $4.94]$   | 17.07 | &lt; .001 |\n",
       "| verb_X_RP | <!----> | verb_X | 4.52  | $[4.01$, $5.03]$   | 17.44 | &lt; .001 |\n",
       "\n"
      ],
      "text/plain": [
       "          chan0 cond0  estimate ci                 statistic p.value\n",
       "noun_F_LC LC    noun_F 0.11     $[-0.40$, $0.63]$  0.44      .659   \n",
       "noun_M_LC       noun_M 0.02     $[-0.49$, $0.53]$  0.08      .933   \n",
       "verb_X_LC       verb_X -0.01    $[-0.52$, $0.50]$  -0.03     .976   \n",
       "noun_F_LF LF    noun_F -0.73    $[-1.24$, $-0.22]$ -2.81     .005   \n",
       "noun_M_LF       noun_M -1.03    $[-1.55$, $-0.52]$ -3.99     < .001 \n",
       "verb_X_LF       verb_X -0.94    $[-1.45$, $-0.43]$ -3.63     < .001 \n",
       "noun_F_LP LP    noun_F 3.43     $[2.92$, $3.94]$   13.23     < .001 \n",
       "noun_M_LP       noun_M 3.54     $[3.03$, $4.05]$   13.66     < .001 \n",
       "verb_X_LP       verb_X 3.36     $[2.84$, $3.87]$   12.94     < .001 \n",
       "noun_F_RC RC    noun_F 0.37     $[-0.15$, $0.88]$  1.41      .160   \n",
       "noun_M_RC       noun_M 0.39     $[-0.12$, $0.90]$  1.49      .138   \n",
       "verb_X_RC       verb_X 0.42     $[-0.09$, $0.93]$  1.60      .110   \n",
       "noun_F_RF RF    noun_F -1.11    $[-1.62$, $-0.60]$ -4.28     < .001 \n",
       "noun_M_RF       noun_M -1.15    $[-1.66$, $-0.64]$ -4.42     < .001 \n",
       "verb_X_RF       verb_X -1.06    $[-1.57$, $-0.55]$ -4.10     < .001 \n",
       "noun_F_RP RP    noun_F 4.53     $[4.02$, $5.04]$   17.47     < .001 \n",
       "noun_M_RP       noun_M 4.43     $[3.92$, $4.94]$   17.07     < .001 \n",
       "verb_X_RP       verb_X 4.52     $[4.01$, $5.03]$   17.44     < .001 "
      ]
     },
     "metadata": {},
     "output_type": "display_data"
    },
    {
     "data": {
      "text/markdown": [
       "### Paired comparisons for expected marginal means"
      ]
     },
     "metadata": {},
     "output_type": "display_data"
    },
    {
     "data": {
      "text/html": [
       "<table>\n",
       "<caption>A apa_results_table: 18 × 6</caption>\n",
       "<thead>\n",
       "\t<tr><th></th><th scope=col>chan0</th><th scope=col>contrast</th><th scope=col>estimate</th><th scope=col>ci</th><th scope=col>statistic</th><th scope=col>p.value</th></tr>\n",
       "\t<tr><th></th><th scope=col>&lt;chr&gt;</th><th scope=col>&lt;ppj_lbll&gt;</th><th scope=col>&lt;ppj_lbll&gt;</th><th scope=col>&lt;ppj_lbll&gt;</th><th scope=col>&lt;ppj_lbll&gt;</th><th scope=col>&lt;ppj_lbll&gt;</th></tr>\n",
       "</thead>\n",
       "<tbody>\n",
       "\t<tr><th scope=row>LC_noun_F_noun_M</th><td>LC</td><td>noun_F - noun_M</td><td>0.09 </td><td>$[-0.18$, $0.36]$</td><td>0.80 </td><td>.701</td></tr>\n",
       "\t<tr><th scope=row>LC_noun_F_verb_X</th><td>  </td><td>noun_F - verb_X</td><td>0.12 </td><td>$[-0.15$, $0.39]$</td><td>1.06 </td><td>.540</td></tr>\n",
       "\t<tr><th scope=row>LC_noun_M_verb_X</th><td>  </td><td>noun_M - verb_X</td><td>0.03 </td><td>$[-0.24$, $0.30]$</td><td>0.26 </td><td>.965</td></tr>\n",
       "\t<tr><th scope=row>LF_noun_F_noun_M</th><td>LF</td><td>noun_F - noun_M</td><td>0.31 </td><td>$[0.04$, $0.58]$ </td><td>2.66 </td><td>.022</td></tr>\n",
       "\t<tr><th scope=row>LF_noun_F_verb_X</th><td>  </td><td>noun_F - verb_X</td><td>0.21 </td><td>$[-0.06$, $0.48]$</td><td>1.85 </td><td>.156</td></tr>\n",
       "\t<tr><th scope=row>LF_noun_M_verb_X</th><td>  </td><td>noun_M - verb_X</td><td>-0.09</td><td>$[-0.37$, $0.18]$</td><td>-0.81</td><td>.696</td></tr>\n",
       "\t<tr><th scope=row>LP_noun_F_noun_M</th><td>LP</td><td>noun_F - noun_M</td><td>-0.11</td><td>$[-0.38$, $0.16]$</td><td>-0.98</td><td>.592</td></tr>\n",
       "\t<tr><th scope=row>LP_noun_F_verb_X</th><td>  </td><td>noun_F - verb_X</td><td>0.08 </td><td>$[-0.20$, $0.35]$</td><td>0.65 </td><td>.790</td></tr>\n",
       "\t<tr><th scope=row>LP_noun_M_verb_X</th><td>  </td><td>noun_M - verb_X</td><td>0.19 </td><td>$[-0.08$, $0.46]$</td><td>1.63 </td><td>.234</td></tr>\n",
       "\t<tr><th scope=row>RC_noun_F_noun_M</th><td>RC</td><td>noun_F - noun_M</td><td>-0.02</td><td>$[-0.29$, $0.25]$</td><td>-0.18</td><td>.983</td></tr>\n",
       "\t<tr><th scope=row>RC_noun_F_verb_X</th><td>  </td><td>noun_F - verb_X</td><td>-0.05</td><td>$[-0.32$, $0.22]$</td><td>-0.44</td><td>.899</td></tr>\n",
       "\t<tr><th scope=row>RC_noun_M_verb_X</th><td>  </td><td>noun_M - verb_X</td><td>-0.03</td><td>$[-0.30$, $0.24]$</td><td>-0.26</td><td>.963</td></tr>\n",
       "\t<tr><th scope=row>RF_noun_F_noun_M</th><td>RF</td><td>noun_F - noun_M</td><td>0.04 </td><td>$[-0.23$, $0.31]$</td><td>0.32 </td><td>.944</td></tr>\n",
       "\t<tr><th scope=row>RF_noun_F_verb_X</th><td>  </td><td>noun_F - verb_X</td><td>-0.05</td><td>$[-0.32$, $0.22]$</td><td>-0.41</td><td>.911</td></tr>\n",
       "\t<tr><th scope=row>RF_noun_M_verb_X</th><td>  </td><td>noun_M - verb_X</td><td>-0.08</td><td>$[-0.36$, $0.19]$</td><td>-0.74</td><td>.743</td></tr>\n",
       "\t<tr><th scope=row>RP_noun_F_noun_M</th><td>RP</td><td>noun_F - noun_M</td><td>0.11 </td><td>$[-0.17$, $0.38]$</td><td>0.91 </td><td>.633</td></tr>\n",
       "\t<tr><th scope=row>RP_noun_F_verb_X</th><td>  </td><td>noun_F - verb_X</td><td>0.01 </td><td>$[-0.26$, $0.28]$</td><td>0.08 </td><td>.996</td></tr>\n",
       "\t<tr><th scope=row>RP_noun_M_verb_X</th><td>  </td><td>noun_M - verb_X</td><td>-0.10</td><td>$[-0.37$, $0.18]$</td><td>-0.83</td><td>.683</td></tr>\n",
       "</tbody>\n",
       "</table>\n"
      ],
      "text/latex": [
       "A apa\\_results\\_table: 18 × 6\n",
       "\\begin{tabular}{r|llllll}\n",
       "  & chan0 & contrast & estimate & ci & statistic & p.value\\\\\n",
       "  & <chr> & <ppj\\_lbll> & <ppj\\_lbll> & <ppj\\_lbll> & <ppj\\_lbll> & <ppj\\_lbll>\\\\\n",
       "\\hline\n",
       "\tLC\\_noun\\_F\\_noun\\_M & LC & noun\\_F - noun\\_M & 0.09  & \\${[}-0.18\\$, \\$0.36{]}\\$ & 0.80  & .701\\\\\n",
       "\tLC\\_noun\\_F\\_verb\\_X &    & noun\\_F - verb\\_X & 0.12  & \\${[}-0.15\\$, \\$0.39{]}\\$ & 1.06  & .540\\\\\n",
       "\tLC\\_noun\\_M\\_verb\\_X &    & noun\\_M - verb\\_X & 0.03  & \\${[}-0.24\\$, \\$0.30{]}\\$ & 0.26  & .965\\\\\n",
       "\tLF\\_noun\\_F\\_noun\\_M & LF & noun\\_F - noun\\_M & 0.31  & \\${[}0.04\\$, \\$0.58{]}\\$  & 2.66  & .022\\\\\n",
       "\tLF\\_noun\\_F\\_verb\\_X &    & noun\\_F - verb\\_X & 0.21  & \\${[}-0.06\\$, \\$0.48{]}\\$ & 1.85  & .156\\\\\n",
       "\tLF\\_noun\\_M\\_verb\\_X &    & noun\\_M - verb\\_X & -0.09 & \\${[}-0.37\\$, \\$0.18{]}\\$ & -0.81 & .696\\\\\n",
       "\tLP\\_noun\\_F\\_noun\\_M & LP & noun\\_F - noun\\_M & -0.11 & \\${[}-0.38\\$, \\$0.16{]}\\$ & -0.98 & .592\\\\\n",
       "\tLP\\_noun\\_F\\_verb\\_X &    & noun\\_F - verb\\_X & 0.08  & \\${[}-0.20\\$, \\$0.35{]}\\$ & 0.65  & .790\\\\\n",
       "\tLP\\_noun\\_M\\_verb\\_X &    & noun\\_M - verb\\_X & 0.19  & \\${[}-0.08\\$, \\$0.46{]}\\$ & 1.63  & .234\\\\\n",
       "\tRC\\_noun\\_F\\_noun\\_M & RC & noun\\_F - noun\\_M & -0.02 & \\${[}-0.29\\$, \\$0.25{]}\\$ & -0.18 & .983\\\\\n",
       "\tRC\\_noun\\_F\\_verb\\_X &    & noun\\_F - verb\\_X & -0.05 & \\${[}-0.32\\$, \\$0.22{]}\\$ & -0.44 & .899\\\\\n",
       "\tRC\\_noun\\_M\\_verb\\_X &    & noun\\_M - verb\\_X & -0.03 & \\${[}-0.30\\$, \\$0.24{]}\\$ & -0.26 & .963\\\\\n",
       "\tRF\\_noun\\_F\\_noun\\_M & RF & noun\\_F - noun\\_M & 0.04  & \\${[}-0.23\\$, \\$0.31{]}\\$ & 0.32  & .944\\\\\n",
       "\tRF\\_noun\\_F\\_verb\\_X &    & noun\\_F - verb\\_X & -0.05 & \\${[}-0.32\\$, \\$0.22{]}\\$ & -0.41 & .911\\\\\n",
       "\tRF\\_noun\\_M\\_verb\\_X &    & noun\\_M - verb\\_X & -0.08 & \\${[}-0.36\\$, \\$0.19{]}\\$ & -0.74 & .743\\\\\n",
       "\tRP\\_noun\\_F\\_noun\\_M & RP & noun\\_F - noun\\_M & 0.11  & \\${[}-0.17\\$, \\$0.38{]}\\$ & 0.91  & .633\\\\\n",
       "\tRP\\_noun\\_F\\_verb\\_X &    & noun\\_F - verb\\_X & 0.01  & \\${[}-0.26\\$, \\$0.28{]}\\$ & 0.08  & .996\\\\\n",
       "\tRP\\_noun\\_M\\_verb\\_X &    & noun\\_M - verb\\_X & -0.10 & \\${[}-0.37\\$, \\$0.18{]}\\$ & -0.83 & .683\\\\\n",
       "\\end{tabular}\n"
      ],
      "text/markdown": [
       "\n",
       "A apa_results_table: 18 × 6\n",
       "\n",
       "| <!--/--> | chan0 &lt;chr&gt; | contrast &lt;ppj_lbll&gt; | estimate &lt;ppj_lbll&gt; | ci &lt;ppj_lbll&gt; | statistic &lt;ppj_lbll&gt; | p.value &lt;ppj_lbll&gt; |\n",
       "|---|---|---|---|---|---|---|\n",
       "| LC_noun_F_noun_M | LC | noun_F - noun_M | 0.09  | $[-0.18$, $0.36]$ | 0.80  | .701 |\n",
       "| LC_noun_F_verb_X | <!----> | noun_F - verb_X | 0.12  | $[-0.15$, $0.39]$ | 1.06  | .540 |\n",
       "| LC_noun_M_verb_X | <!----> | noun_M - verb_X | 0.03  | $[-0.24$, $0.30]$ | 0.26  | .965 |\n",
       "| LF_noun_F_noun_M | LF | noun_F - noun_M | 0.31  | $[0.04$, $0.58]$  | 2.66  | .022 |\n",
       "| LF_noun_F_verb_X | <!----> | noun_F - verb_X | 0.21  | $[-0.06$, $0.48]$ | 1.85  | .156 |\n",
       "| LF_noun_M_verb_X | <!----> | noun_M - verb_X | -0.09 | $[-0.37$, $0.18]$ | -0.81 | .696 |\n",
       "| LP_noun_F_noun_M | LP | noun_F - noun_M | -0.11 | $[-0.38$, $0.16]$ | -0.98 | .592 |\n",
       "| LP_noun_F_verb_X | <!----> | noun_F - verb_X | 0.08  | $[-0.20$, $0.35]$ | 0.65  | .790 |\n",
       "| LP_noun_M_verb_X | <!----> | noun_M - verb_X | 0.19  | $[-0.08$, $0.46]$ | 1.63  | .234 |\n",
       "| RC_noun_F_noun_M | RC | noun_F - noun_M | -0.02 | $[-0.29$, $0.25]$ | -0.18 | .983 |\n",
       "| RC_noun_F_verb_X | <!----> | noun_F - verb_X | -0.05 | $[-0.32$, $0.22]$ | -0.44 | .899 |\n",
       "| RC_noun_M_verb_X | <!----> | noun_M - verb_X | -0.03 | $[-0.30$, $0.24]$ | -0.26 | .963 |\n",
       "| RF_noun_F_noun_M | RF | noun_F - noun_M | 0.04  | $[-0.23$, $0.31]$ | 0.32  | .944 |\n",
       "| RF_noun_F_verb_X | <!----> | noun_F - verb_X | -0.05 | $[-0.32$, $0.22]$ | -0.41 | .911 |\n",
       "| RF_noun_M_verb_X | <!----> | noun_M - verb_X | -0.08 | $[-0.36$, $0.19]$ | -0.74 | .743 |\n",
       "| RP_noun_F_noun_M | RP | noun_F - noun_M | 0.11  | $[-0.17$, $0.38]$ | 0.91  | .633 |\n",
       "| RP_noun_F_verb_X | <!----> | noun_F - verb_X | 0.01  | $[-0.26$, $0.28]$ | 0.08  | .996 |\n",
       "| RP_noun_M_verb_X | <!----> | noun_M - verb_X | -0.10 | $[-0.37$, $0.18]$ | -0.83 | .683 |\n",
       "\n"
      ],
      "text/plain": [
       "                 chan0 contrast        estimate ci                statistic p.value\n",
       "LC_noun_F_noun_M LC    noun_F - noun_M 0.09     $[-0.18$, $0.36]$ 0.80      .701   \n",
       "LC_noun_F_verb_X       noun_F - verb_X 0.12     $[-0.15$, $0.39]$ 1.06      .540   \n",
       "LC_noun_M_verb_X       noun_M - verb_X 0.03     $[-0.24$, $0.30]$ 0.26      .965   \n",
       "LF_noun_F_noun_M LF    noun_F - noun_M 0.31     $[0.04$, $0.58]$  2.66      .022   \n",
       "LF_noun_F_verb_X       noun_F - verb_X 0.21     $[-0.06$, $0.48]$ 1.85      .156   \n",
       "LF_noun_M_verb_X       noun_M - verb_X -0.09    $[-0.37$, $0.18]$ -0.81     .696   \n",
       "LP_noun_F_noun_M LP    noun_F - noun_M -0.11    $[-0.38$, $0.16]$ -0.98     .592   \n",
       "LP_noun_F_verb_X       noun_F - verb_X 0.08     $[-0.20$, $0.35]$ 0.65      .790   \n",
       "LP_noun_M_verb_X       noun_M - verb_X 0.19     $[-0.08$, $0.46]$ 1.63      .234   \n",
       "RC_noun_F_noun_M RC    noun_F - noun_M -0.02    $[-0.29$, $0.25]$ -0.18     .983   \n",
       "RC_noun_F_verb_X       noun_F - verb_X -0.05    $[-0.32$, $0.22]$ -0.44     .899   \n",
       "RC_noun_M_verb_X       noun_M - verb_X -0.03    $[-0.30$, $0.24]$ -0.26     .963   \n",
       "RF_noun_F_noun_M RF    noun_F - noun_M 0.04     $[-0.23$, $0.31]$ 0.32      .944   \n",
       "RF_noun_F_verb_X       noun_F - verb_X -0.05    $[-0.32$, $0.22]$ -0.41     .911   \n",
       "RF_noun_M_verb_X       noun_M - verb_X -0.08    $[-0.36$, $0.19]$ -0.74     .743   \n",
       "RP_noun_F_noun_M RP    noun_F - noun_M 0.11     $[-0.17$, $0.38]$ 0.91      .633   \n",
       "RP_noun_F_verb_X       noun_F - verb_X 0.01     $[-0.26$, $0.28]$ 0.08      .996   \n",
       "RP_noun_M_verb_X       noun_M - verb_X -0.10    $[-0.37$, $0.18]$ -0.83     .683   "
      ]
     },
     "metadata": {},
     "output_type": "display_data"
    }
   ],
   "source": [
    "IDX <- IDX+1; COND <- CONDS[IDX]\n",
    "data1 <- droplevels(subset(df1, eval(parse(text=COND)))); data1 <- data1[complete.cases(data1),]; done1 <- AOV4(data1,COND)\n",
    "display_markdown(str_c(\"# Condition \",IDX,\" of \",length(CONDS))); display_markdown(done1$info); display_markdown(\"### Table\"); done1$aov_APA$table; display_markdown(\"### Result\"); display_markdown(done1$aov_APA[[\"full_result\"]][[\"cond0\"]]); display_markdown(\"### Summary (all done1, incl. NANs)\"); done1$summary; display_markdown(\"### Expected marginal means\"); done1$emm_APA$table; display_markdown(\"### Paired comparisons for expected marginal means\"); done1$pairs_APA$table"
   ]
  },
  {
   "cell_type": "code",
   "execution_count": 30,
   "metadata": {},
   "outputs": [
    {
     "data": {
      "text/markdown": [
       "# Condition 12 of 12"
      ]
     },
     "metadata": {},
     "output_type": "display_data"
    },
    {
     "data": {
      "text/markdown": [
       "`tmin0==0.11 & mode0==\"neg\"`"
      ]
     },
     "metadata": {},
     "output_type": "display_data"
    },
    {
     "data": {
      "text/markdown": [
       "### Table"
      ]
     },
     "metadata": {},
     "output_type": "display_data"
    },
    {
     "data": {
      "text/html": [
       "<table>\n",
       "<caption>A apa_results_table: 3 × 7</caption>\n",
       "<thead>\n",
       "\t<tr><th></th><th scope=col>Effect</th><th scope=col>F</th><th scope=col>df1</th><th scope=col>df2</th><th scope=col>MSE</th><th scope=col>p</th><th scope=col>ges</th></tr>\n",
       "\t<tr><th></th><th scope=col>&lt;ppj_lbll&gt;</th><th scope=col>&lt;ppj_lbll&gt;</th><th scope=col>&lt;ppj_lbll&gt;</th><th scope=col>&lt;ppj_lbll&gt;</th><th scope=col>&lt;ppj_lbll&gt;</th><th scope=col>&lt;ppj_lbll&gt;</th><th scope=col>&lt;ppj_lbll&gt;</th></tr>\n",
       "</thead>\n",
       "<tbody>\n",
       "\t<tr><th scope=row>1</th><td>Cond0                </td><td>1.03 </td><td>1.85</td><td>75.96 </td><td>0.21 </td><td>.357  </td><td>.000</td></tr>\n",
       "\t<tr><th scope=row>2</th><td><span style=white-space:pre-wrap>Chan0                </span></td><td>58.64</td><td>1.67</td><td>68.57 </td><td>21.35</td><td>&lt; .001</td><td>.552</td></tr>\n",
       "\t<tr><th scope=row>3</th><td>Cond0 $\\times$ Chan0</td><td>1.03 </td><td>4.56</td><td>187.08</td><td>0.68 </td><td>.397  </td><td>.002</td></tr>\n",
       "</tbody>\n",
       "</table>\n"
      ],
      "text/latex": [
       "A apa\\_results\\_table: 3 × 7\n",
       "\\begin{tabular}{r|lllllll}\n",
       "  & Effect & F & df1 & df2 & MSE & p & ges\\\\\n",
       "  & <ppj\\_lbll> & <ppj\\_lbll> & <ppj\\_lbll> & <ppj\\_lbll> & <ppj\\_lbll> & <ppj\\_lbll> & <ppj\\_lbll>\\\\\n",
       "\\hline\n",
       "\t1 & Cond0                 & 1.03  & 1.85 & 75.96  & 0.21  & .357   & .000\\\\\n",
       "\t2 & Chan0                 & 58.64 & 1.67 & 68.57  & 21.35 & < .001 & .552\\\\\n",
       "\t3 & Cond0 \\$\\textbackslash{}times\\$ Chan0 & 1.03  & 4.56 & 187.08 & 0.68  & .397   & .002\\\\\n",
       "\\end{tabular}\n"
      ],
      "text/markdown": [
       "\n",
       "A apa_results_table: 3 × 7\n",
       "\n",
       "| <!--/--> | Effect &lt;ppj_lbll&gt; | F &lt;ppj_lbll&gt; | df1 &lt;ppj_lbll&gt; | df2 &lt;ppj_lbll&gt; | MSE &lt;ppj_lbll&gt; | p &lt;ppj_lbll&gt; | ges &lt;ppj_lbll&gt; |\n",
       "|---|---|---|---|---|---|---|---|\n",
       "| 1 | Cond0                 | 1.03  | 1.85 | 75.96  | 0.21  | .357   | .000 |\n",
       "| 2 | Chan0                 | 58.64 | 1.67 | 68.57  | 21.35 | &lt; .001 | .552 |\n",
       "| 3 | Cond0 $\\times$ Chan0 | 1.03  | 4.56 | 187.08 | 0.68  | .397   | .002 |\n",
       "\n"
      ],
      "text/plain": [
       "  Effect                F     df1  df2    MSE   p      ges \n",
       "1 Cond0                 1.03  1.85 75.96  0.21  .357   .000\n",
       "2 Chan0                 58.64 1.67 68.57  21.35 < .001 .552\n",
       "3 Cond0 $\\\\times$ Chan0 1.03  4.56 187.08 0.68  .397   .002"
      ]
     },
     "metadata": {},
     "output_type": "display_data"
    },
    {
     "data": {
      "text/markdown": [
       "### Result"
      ]
     },
     "metadata": {},
     "output_type": "display_data"
    },
    {
     "data": {
      "text/markdown": [
       "$F(1.85, 75.96) = 1.03$, $\\mathit{MSE} = 0.21$, $p = .357$, $\\hat{\\eta}^2_G = .000$"
      ]
     },
     "metadata": {},
     "output_type": "display_data"
    },
    {
     "data": {
      "text/markdown": [
       "### Summary (all done1, incl. NANs)"
      ]
     },
     "metadata": {},
     "output_type": "display_data"
    },
    {
     "data": {
      "text/html": [
       "<table>\n",
       "<caption>A tibble: 3 × 5</caption>\n",
       "<thead>\n",
       "\t<tr><th scope=col>cond0</th><th scope=col>N</th><th scope=col>valX_M</th><th scope=col>valX_SD</th><th scope=col>valX_SE</th></tr>\n",
       "\t<tr><th scope=col>&lt;fct&gt;</th><th scope=col>&lt;int&gt;</th><th scope=col>&lt;dbl&gt;</th><th scope=col>&lt;dbl&gt;</th><th scope=col>&lt;dbl&gt;</th></tr>\n",
       "</thead>\n",
       "<tbody>\n",
       "\t<tr><td>noun_F</td><td>252</td><td>-0.4305127</td><td>2.252176</td><td>0.1418737</td></tr>\n",
       "\t<tr><td>noun_M</td><td>252</td><td>-0.3816280</td><td>2.276384</td><td>0.1433987</td></tr>\n",
       "\t<tr><td>verb_X</td><td>252</td><td>-0.3821270</td><td>2.209403</td><td>0.1391793</td></tr>\n",
       "</tbody>\n",
       "</table>\n"
      ],
      "text/latex": [
       "A tibble: 3 × 5\n",
       "\\begin{tabular}{lllll}\n",
       " cond0 & N & valX\\_M & valX\\_SD & valX\\_SE\\\\\n",
       " <fct> & <int> & <dbl> & <dbl> & <dbl>\\\\\n",
       "\\hline\n",
       "\t noun\\_F & 252 & -0.4305127 & 2.252176 & 0.1418737\\\\\n",
       "\t noun\\_M & 252 & -0.3816280 & 2.276384 & 0.1433987\\\\\n",
       "\t verb\\_X & 252 & -0.3821270 & 2.209403 & 0.1391793\\\\\n",
       "\\end{tabular}\n"
      ],
      "text/markdown": [
       "\n",
       "A tibble: 3 × 5\n",
       "\n",
       "| cond0 &lt;fct&gt; | N &lt;int&gt; | valX_M &lt;dbl&gt; | valX_SD &lt;dbl&gt; | valX_SE &lt;dbl&gt; |\n",
       "|---|---|---|---|---|\n",
       "| noun_F | 252 | -0.4305127 | 2.252176 | 0.1418737 |\n",
       "| noun_M | 252 | -0.3816280 | 2.276384 | 0.1433987 |\n",
       "| verb_X | 252 | -0.3821270 | 2.209403 | 0.1391793 |\n",
       "\n"
      ],
      "text/plain": [
       "  cond0  N   valX_M     valX_SD  valX_SE  \n",
       "1 noun_F 252 -0.4305127 2.252176 0.1418737\n",
       "2 noun_M 252 -0.3816280 2.276384 0.1433987\n",
       "3 verb_X 252 -0.3821270 2.209403 0.1391793"
      ]
     },
     "metadata": {},
     "output_type": "display_data"
    },
    {
     "data": {
      "text/markdown": [
       "### Expected marginal means"
      ]
     },
     "metadata": {},
     "output_type": "display_data"
    },
    {
     "data": {
      "text/html": [
       "<table>\n",
       "<caption>A apa_results_table: 18 × 6</caption>\n",
       "<thead>\n",
       "\t<tr><th></th><th scope=col>chan0</th><th scope=col>cond0</th><th scope=col>estimate</th><th scope=col>ci</th><th scope=col>statistic</th><th scope=col>p.value</th></tr>\n",
       "\t<tr><th></th><th scope=col>&lt;chr&gt;</th><th scope=col>&lt;chr&gt;</th><th scope=col>&lt;ppj_lbll&gt;</th><th scope=col>&lt;ppj_lbll&gt;</th><th scope=col>&lt;ppj_lbll&gt;</th><th scope=col>&lt;ppj_lbll&gt;</th></tr>\n",
       "</thead>\n",
       "<tbody>\n",
       "\t<tr><th scope=row>noun_F_LC</th><td>LC</td><td>noun_F</td><td>-0.63</td><td>$[-1.10$, $-0.17]$</td><td>-2.71 </td><td>.007  </td></tr>\n",
       "\t<tr><th scope=row>noun_M_LC</th><td>  </td><td>noun_M</td><td>-0.74</td><td>$[-1.20$, $-0.28]$</td><td>-3.17 </td><td>.002  </td></tr>\n",
       "\t<tr><th scope=row>verb_X_LC</th><td>  </td><td>verb_X</td><td>-0.67</td><td>$[-1.13$, $-0.21]$</td><td>-2.85 </td><td>.005  </td></tr>\n",
       "\t<tr><th scope=row>noun_F_LF</th><td>LF</td><td>noun_F</td><td>-2.33</td><td>$[-2.79$, $-1.87]$</td><td>-9.94 </td><td>&lt; .001</td></tr>\n",
       "\t<tr><th scope=row>noun_M_LF</th><td><span style=white-space:pre-wrap>  </span></td><td>noun_M</td><td>-2.33</td><td>$[-2.79$, $-1.87]$</td><td>-9.93 </td><td>&lt; .001</td></tr>\n",
       "\t<tr><th scope=row>verb_X_LF</th><td><span style=white-space:pre-wrap>  </span></td><td>verb_X</td><td>-2.36</td><td>$[-2.82$, $-1.89]$</td><td>-10.05</td><td>&lt; .001</td></tr>\n",
       "\t<tr><th scope=row>noun_F_LP</th><td>LP</td><td>noun_F</td><td>1.23 </td><td><span style=white-space:pre-wrap>$[0.77$, $1.69]$  </span></td><td><span style=white-space:pre-wrap>5.25  </span></td><td>&lt; .001</td></tr>\n",
       "\t<tr><th scope=row>noun_M_LP</th><td><span style=white-space:pre-wrap>  </span></td><td>noun_M</td><td>1.37 </td><td><span style=white-space:pre-wrap>$[0.91$, $1.83]$  </span></td><td><span style=white-space:pre-wrap>5.83  </span></td><td>&lt; .001</td></tr>\n",
       "\t<tr><th scope=row>verb_X_LP</th><td><span style=white-space:pre-wrap>  </span></td><td>verb_X</td><td>1.20 </td><td><span style=white-space:pre-wrap>$[0.74$, $1.66]$  </span></td><td><span style=white-space:pre-wrap>5.13  </span></td><td>&lt; .001</td></tr>\n",
       "\t<tr><th scope=row>noun_F_RC</th><td>RC</td><td>noun_F</td><td>-0.35</td><td>$[-0.81$, $0.11]$ </td><td>-1.48 </td><td>.140  </td></tr>\n",
       "\t<tr><th scope=row>noun_M_RC</th><td>  </td><td>noun_M</td><td>-0.30</td><td>$[-0.77$, $0.16]$ </td><td>-1.30 </td><td>.194  </td></tr>\n",
       "\t<tr><th scope=row>verb_X_RC</th><td>  </td><td>verb_X</td><td>-0.16</td><td>$[-0.62$, $0.30]$ </td><td>-0.68 </td><td>.499  </td></tr>\n",
       "\t<tr><th scope=row>noun_F_RF</th><td>RF</td><td>noun_F</td><td>-2.39</td><td>$[-2.85$, $-1.93]$</td><td>-10.21</td><td>&lt; .001</td></tr>\n",
       "\t<tr><th scope=row>noun_M_RF</th><td><span style=white-space:pre-wrap>  </span></td><td>noun_M</td><td>-2.45</td><td>$[-2.91$, $-1.99]$</td><td>-10.47</td><td>&lt; .001</td></tr>\n",
       "\t<tr><th scope=row>verb_X_RF</th><td><span style=white-space:pre-wrap>  </span></td><td>verb_X</td><td>-2.38</td><td>$[-2.84$, $-1.91]$</td><td>-10.14</td><td>&lt; .001</td></tr>\n",
       "\t<tr><th scope=row>noun_F_RP</th><td>RP</td><td>noun_F</td><td>1.89 </td><td><span style=white-space:pre-wrap>$[1.43$, $2.35]$  </span></td><td><span style=white-space:pre-wrap>8.07  </span></td><td>&lt; .001</td></tr>\n",
       "\t<tr><th scope=row>noun_M_RP</th><td><span style=white-space:pre-wrap>  </span></td><td>noun_M</td><td>2.17 </td><td><span style=white-space:pre-wrap>$[1.71$, $2.63]$  </span></td><td><span style=white-space:pre-wrap>9.26  </span></td><td>&lt; .001</td></tr>\n",
       "\t<tr><th scope=row>verb_X_RP</th><td><span style=white-space:pre-wrap>  </span></td><td>verb_X</td><td>2.06 </td><td><span style=white-space:pre-wrap>$[1.60$, $2.53]$  </span></td><td><span style=white-space:pre-wrap>8.81  </span></td><td>&lt; .001</td></tr>\n",
       "</tbody>\n",
       "</table>\n"
      ],
      "text/latex": [
       "A apa\\_results\\_table: 18 × 6\n",
       "\\begin{tabular}{r|llllll}\n",
       "  & chan0 & cond0 & estimate & ci & statistic & p.value\\\\\n",
       "  & <chr> & <chr> & <ppj\\_lbll> & <ppj\\_lbll> & <ppj\\_lbll> & <ppj\\_lbll>\\\\\n",
       "\\hline\n",
       "\tnoun\\_F\\_LC & LC & noun\\_F & -0.63 & \\${[}-1.10\\$, \\$-0.17{]}\\$ & -2.71  & .007  \\\\\n",
       "\tnoun\\_M\\_LC &    & noun\\_M & -0.74 & \\${[}-1.20\\$, \\$-0.28{]}\\$ & -3.17  & .002  \\\\\n",
       "\tverb\\_X\\_LC &    & verb\\_X & -0.67 & \\${[}-1.13\\$, \\$-0.21{]}\\$ & -2.85  & .005  \\\\\n",
       "\tnoun\\_F\\_LF & LF & noun\\_F & -2.33 & \\${[}-2.79\\$, \\$-1.87{]}\\$ & -9.94  & < .001\\\\\n",
       "\tnoun\\_M\\_LF &    & noun\\_M & -2.33 & \\${[}-2.79\\$, \\$-1.87{]}\\$ & -9.93  & < .001\\\\\n",
       "\tverb\\_X\\_LF &    & verb\\_X & -2.36 & \\${[}-2.82\\$, \\$-1.89{]}\\$ & -10.05 & < .001\\\\\n",
       "\tnoun\\_F\\_LP & LP & noun\\_F & 1.23  & \\${[}0.77\\$, \\$1.69{]}\\$   & 5.25   & < .001\\\\\n",
       "\tnoun\\_M\\_LP &    & noun\\_M & 1.37  & \\${[}0.91\\$, \\$1.83{]}\\$   & 5.83   & < .001\\\\\n",
       "\tverb\\_X\\_LP &    & verb\\_X & 1.20  & \\${[}0.74\\$, \\$1.66{]}\\$   & 5.13   & < .001\\\\\n",
       "\tnoun\\_F\\_RC & RC & noun\\_F & -0.35 & \\${[}-0.81\\$, \\$0.11{]}\\$  & -1.48  & .140  \\\\\n",
       "\tnoun\\_M\\_RC &    & noun\\_M & -0.30 & \\${[}-0.77\\$, \\$0.16{]}\\$  & -1.30  & .194  \\\\\n",
       "\tverb\\_X\\_RC &    & verb\\_X & -0.16 & \\${[}-0.62\\$, \\$0.30{]}\\$  & -0.68  & .499  \\\\\n",
       "\tnoun\\_F\\_RF & RF & noun\\_F & -2.39 & \\${[}-2.85\\$, \\$-1.93{]}\\$ & -10.21 & < .001\\\\\n",
       "\tnoun\\_M\\_RF &    & noun\\_M & -2.45 & \\${[}-2.91\\$, \\$-1.99{]}\\$ & -10.47 & < .001\\\\\n",
       "\tverb\\_X\\_RF &    & verb\\_X & -2.38 & \\${[}-2.84\\$, \\$-1.91{]}\\$ & -10.14 & < .001\\\\\n",
       "\tnoun\\_F\\_RP & RP & noun\\_F & 1.89  & \\${[}1.43\\$, \\$2.35{]}\\$   & 8.07   & < .001\\\\\n",
       "\tnoun\\_M\\_RP &    & noun\\_M & 2.17  & \\${[}1.71\\$, \\$2.63{]}\\$   & 9.26   & < .001\\\\\n",
       "\tverb\\_X\\_RP &    & verb\\_X & 2.06  & \\${[}1.60\\$, \\$2.53{]}\\$   & 8.81   & < .001\\\\\n",
       "\\end{tabular}\n"
      ],
      "text/markdown": [
       "\n",
       "A apa_results_table: 18 × 6\n",
       "\n",
       "| <!--/--> | chan0 &lt;chr&gt; | cond0 &lt;chr&gt; | estimate &lt;ppj_lbll&gt; | ci &lt;ppj_lbll&gt; | statistic &lt;ppj_lbll&gt; | p.value &lt;ppj_lbll&gt; |\n",
       "|---|---|---|---|---|---|---|\n",
       "| noun_F_LC | LC | noun_F | -0.63 | $[-1.10$, $-0.17]$ | -2.71  | .007   |\n",
       "| noun_M_LC | <!----> | noun_M | -0.74 | $[-1.20$, $-0.28]$ | -3.17  | .002   |\n",
       "| verb_X_LC | <!----> | verb_X | -0.67 | $[-1.13$, $-0.21]$ | -2.85  | .005   |\n",
       "| noun_F_LF | LF | noun_F | -2.33 | $[-2.79$, $-1.87]$ | -9.94  | &lt; .001 |\n",
       "| noun_M_LF | <!----> | noun_M | -2.33 | $[-2.79$, $-1.87]$ | -9.93  | &lt; .001 |\n",
       "| verb_X_LF | <!----> | verb_X | -2.36 | $[-2.82$, $-1.89]$ | -10.05 | &lt; .001 |\n",
       "| noun_F_LP | LP | noun_F | 1.23  | $[0.77$, $1.69]$   | 5.25   | &lt; .001 |\n",
       "| noun_M_LP | <!----> | noun_M | 1.37  | $[0.91$, $1.83]$   | 5.83   | &lt; .001 |\n",
       "| verb_X_LP | <!----> | verb_X | 1.20  | $[0.74$, $1.66]$   | 5.13   | &lt; .001 |\n",
       "| noun_F_RC | RC | noun_F | -0.35 | $[-0.81$, $0.11]$  | -1.48  | .140   |\n",
       "| noun_M_RC | <!----> | noun_M | -0.30 | $[-0.77$, $0.16]$  | -1.30  | .194   |\n",
       "| verb_X_RC | <!----> | verb_X | -0.16 | $[-0.62$, $0.30]$  | -0.68  | .499   |\n",
       "| noun_F_RF | RF | noun_F | -2.39 | $[-2.85$, $-1.93]$ | -10.21 | &lt; .001 |\n",
       "| noun_M_RF | <!----> | noun_M | -2.45 | $[-2.91$, $-1.99]$ | -10.47 | &lt; .001 |\n",
       "| verb_X_RF | <!----> | verb_X | -2.38 | $[-2.84$, $-1.91]$ | -10.14 | &lt; .001 |\n",
       "| noun_F_RP | RP | noun_F | 1.89  | $[1.43$, $2.35]$   | 8.07   | &lt; .001 |\n",
       "| noun_M_RP | <!----> | noun_M | 2.17  | $[1.71$, $2.63]$   | 9.26   | &lt; .001 |\n",
       "| verb_X_RP | <!----> | verb_X | 2.06  | $[1.60$, $2.53]$   | 8.81   | &lt; .001 |\n",
       "\n"
      ],
      "text/plain": [
       "          chan0 cond0  estimate ci                 statistic p.value\n",
       "noun_F_LC LC    noun_F -0.63    $[-1.10$, $-0.17]$ -2.71     .007   \n",
       "noun_M_LC       noun_M -0.74    $[-1.20$, $-0.28]$ -3.17     .002   \n",
       "verb_X_LC       verb_X -0.67    $[-1.13$, $-0.21]$ -2.85     .005   \n",
       "noun_F_LF LF    noun_F -2.33    $[-2.79$, $-1.87]$ -9.94     < .001 \n",
       "noun_M_LF       noun_M -2.33    $[-2.79$, $-1.87]$ -9.93     < .001 \n",
       "verb_X_LF       verb_X -2.36    $[-2.82$, $-1.89]$ -10.05    < .001 \n",
       "noun_F_LP LP    noun_F 1.23     $[0.77$, $1.69]$   5.25      < .001 \n",
       "noun_M_LP       noun_M 1.37     $[0.91$, $1.83]$   5.83      < .001 \n",
       "verb_X_LP       verb_X 1.20     $[0.74$, $1.66]$   5.13      < .001 \n",
       "noun_F_RC RC    noun_F -0.35    $[-0.81$, $0.11]$  -1.48     .140   \n",
       "noun_M_RC       noun_M -0.30    $[-0.77$, $0.16]$  -1.30     .194   \n",
       "verb_X_RC       verb_X -0.16    $[-0.62$, $0.30]$  -0.68     .499   \n",
       "noun_F_RF RF    noun_F -2.39    $[-2.85$, $-1.93]$ -10.21    < .001 \n",
       "noun_M_RF       noun_M -2.45    $[-2.91$, $-1.99]$ -10.47    < .001 \n",
       "verb_X_RF       verb_X -2.38    $[-2.84$, $-1.91]$ -10.14    < .001 \n",
       "noun_F_RP RP    noun_F 1.89     $[1.43$, $2.35]$   8.07      < .001 \n",
       "noun_M_RP       noun_M 2.17     $[1.71$, $2.63]$   9.26      < .001 \n",
       "verb_X_RP       verb_X 2.06     $[1.60$, $2.53]$   8.81      < .001 "
      ]
     },
     "metadata": {},
     "output_type": "display_data"
    },
    {
     "data": {
      "text/markdown": [
       "### Paired comparisons for expected marginal means"
      ]
     },
     "metadata": {},
     "output_type": "display_data"
    },
    {
     "data": {
      "text/html": [
       "<table>\n",
       "<caption>A apa_results_table: 18 × 6</caption>\n",
       "<thead>\n",
       "\t<tr><th></th><th scope=col>chan0</th><th scope=col>contrast</th><th scope=col>estimate</th><th scope=col>ci</th><th scope=col>statistic</th><th scope=col>p.value</th></tr>\n",
       "\t<tr><th></th><th scope=col>&lt;chr&gt;</th><th scope=col>&lt;ppj_lbll&gt;</th><th scope=col>&lt;ppj_lbll&gt;</th><th scope=col>&lt;ppj_lbll&gt;</th><th scope=col>&lt;ppj_lbll&gt;</th><th scope=col>&lt;ppj_lbll&gt;</th></tr>\n",
       "</thead>\n",
       "<tbody>\n",
       "\t<tr><th scope=row>LC_noun_F_noun_M</th><td>LC</td><td>noun_F - noun_M</td><td>0.11 </td><td>$[-0.17$, $0.38]$</td><td>0.92 </td><td>.629  </td></tr>\n",
       "\t<tr><th scope=row>LC_noun_F_verb_X</th><td>  </td><td>noun_F - verb_X</td><td>0.03 </td><td>$[-0.24$, $0.31]$</td><td>0.28 </td><td>.958  </td></tr>\n",
       "\t<tr><th scope=row>LC_noun_M_verb_X</th><td>  </td><td>noun_M - verb_X</td><td>-0.07</td><td>$[-0.35$, $0.20]$</td><td>-0.64</td><td>.799  </td></tr>\n",
       "\t<tr><th scope=row>LF_noun_F_noun_M</th><td>LF</td><td>noun_F - noun_M</td><td>0.00 </td><td>$[-0.28$, $0.27]$</td><td>-0.01</td><td>&gt; .999</td></tr>\n",
       "\t<tr><th scope=row>LF_noun_F_verb_X</th><td>  </td><td>noun_F - verb_X</td><td>0.03 </td><td>$[-0.25$, $0.30]$</td><td>0.23 </td><td>.971  </td></tr>\n",
       "\t<tr><th scope=row>LF_noun_M_verb_X</th><td>  </td><td>noun_M - verb_X</td><td>0.03 </td><td>$[-0.25$, $0.30]$</td><td>0.24 </td><td>.969  </td></tr>\n",
       "\t<tr><th scope=row>LP_noun_F_noun_M</th><td>LP</td><td>noun_F - noun_M</td><td>-0.14</td><td>$[-0.41$, $0.14]$</td><td>-1.17</td><td>.471  </td></tr>\n",
       "\t<tr><th scope=row>LP_noun_F_verb_X</th><td>  </td><td>noun_F - verb_X</td><td>0.03 </td><td>$[-0.25$, $0.30]$</td><td>0.24 </td><td>.967  </td></tr>\n",
       "\t<tr><th scope=row>LP_noun_M_verb_X</th><td>  </td><td>noun_M - verb_X</td><td>0.17 </td><td>$[-0.11$, $0.44]$</td><td>1.42 </td><td>.333  </td></tr>\n",
       "\t<tr><th scope=row>RC_noun_F_noun_M</th><td>RC</td><td>noun_F - noun_M</td><td>-0.04</td><td>$[-0.32$, $0.23]$</td><td>-0.36</td><td>.931  </td></tr>\n",
       "\t<tr><th scope=row>RC_noun_F_verb_X</th><td>  </td><td>noun_F - verb_X</td><td>-0.19</td><td>$[-0.46$, $0.09]$</td><td>-1.61</td><td>.243  </td></tr>\n",
       "\t<tr><th scope=row>RC_noun_M_verb_X</th><td>  </td><td>noun_M - verb_X</td><td>-0.15</td><td>$[-0.42$, $0.13]$</td><td>-1.25</td><td>.425  </td></tr>\n",
       "\t<tr><th scope=row>RF_noun_F_noun_M</th><td>RF</td><td>noun_F - noun_M</td><td>0.06 </td><td>$[-0.22$, $0.34]$</td><td>0.51 </td><td>.868  </td></tr>\n",
       "\t<tr><th scope=row>RF_noun_F_verb_X</th><td>  </td><td>noun_F - verb_X</td><td>-0.02</td><td>$[-0.29$, $0.26]$</td><td>-0.14</td><td>.989  </td></tr>\n",
       "\t<tr><th scope=row>RF_noun_M_verb_X</th><td>  </td><td>noun_M - verb_X</td><td>-0.08</td><td>$[-0.35$, $0.20]$</td><td>-0.65</td><td>.792  </td></tr>\n",
       "\t<tr><th scope=row>RP_noun_F_noun_M</th><td>RP</td><td>noun_F - noun_M</td><td>-0.28</td><td>$[-0.56$, $0.00]$</td><td>-2.39</td><td>.046  </td></tr>\n",
       "\t<tr><th scope=row>RP_noun_F_verb_X</th><td>  </td><td>noun_F - verb_X</td><td>-0.17</td><td>$[-0.45$, $0.10]$</td><td>-1.48</td><td>.302  </td></tr>\n",
       "\t<tr><th scope=row>RP_noun_M_verb_X</th><td>  </td><td>noun_M - verb_X</td><td>0.11 </td><td>$[-0.17$, $0.38]$</td><td>0.91 </td><td>.635  </td></tr>\n",
       "</tbody>\n",
       "</table>\n"
      ],
      "text/latex": [
       "A apa\\_results\\_table: 18 × 6\n",
       "\\begin{tabular}{r|llllll}\n",
       "  & chan0 & contrast & estimate & ci & statistic & p.value\\\\\n",
       "  & <chr> & <ppj\\_lbll> & <ppj\\_lbll> & <ppj\\_lbll> & <ppj\\_lbll> & <ppj\\_lbll>\\\\\n",
       "\\hline\n",
       "\tLC\\_noun\\_F\\_noun\\_M & LC & noun\\_F - noun\\_M & 0.11  & \\${[}-0.17\\$, \\$0.38{]}\\$ & 0.92  & .629  \\\\\n",
       "\tLC\\_noun\\_F\\_verb\\_X &    & noun\\_F - verb\\_X & 0.03  & \\${[}-0.24\\$, \\$0.31{]}\\$ & 0.28  & .958  \\\\\n",
       "\tLC\\_noun\\_M\\_verb\\_X &    & noun\\_M - verb\\_X & -0.07 & \\${[}-0.35\\$, \\$0.20{]}\\$ & -0.64 & .799  \\\\\n",
       "\tLF\\_noun\\_F\\_noun\\_M & LF & noun\\_F - noun\\_M & 0.00  & \\${[}-0.28\\$, \\$0.27{]}\\$ & -0.01 & > .999\\\\\n",
       "\tLF\\_noun\\_F\\_verb\\_X &    & noun\\_F - verb\\_X & 0.03  & \\${[}-0.25\\$, \\$0.30{]}\\$ & 0.23  & .971  \\\\\n",
       "\tLF\\_noun\\_M\\_verb\\_X &    & noun\\_M - verb\\_X & 0.03  & \\${[}-0.25\\$, \\$0.30{]}\\$ & 0.24  & .969  \\\\\n",
       "\tLP\\_noun\\_F\\_noun\\_M & LP & noun\\_F - noun\\_M & -0.14 & \\${[}-0.41\\$, \\$0.14{]}\\$ & -1.17 & .471  \\\\\n",
       "\tLP\\_noun\\_F\\_verb\\_X &    & noun\\_F - verb\\_X & 0.03  & \\${[}-0.25\\$, \\$0.30{]}\\$ & 0.24  & .967  \\\\\n",
       "\tLP\\_noun\\_M\\_verb\\_X &    & noun\\_M - verb\\_X & 0.17  & \\${[}-0.11\\$, \\$0.44{]}\\$ & 1.42  & .333  \\\\\n",
       "\tRC\\_noun\\_F\\_noun\\_M & RC & noun\\_F - noun\\_M & -0.04 & \\${[}-0.32\\$, \\$0.23{]}\\$ & -0.36 & .931  \\\\\n",
       "\tRC\\_noun\\_F\\_verb\\_X &    & noun\\_F - verb\\_X & -0.19 & \\${[}-0.46\\$, \\$0.09{]}\\$ & -1.61 & .243  \\\\\n",
       "\tRC\\_noun\\_M\\_verb\\_X &    & noun\\_M - verb\\_X & -0.15 & \\${[}-0.42\\$, \\$0.13{]}\\$ & -1.25 & .425  \\\\\n",
       "\tRF\\_noun\\_F\\_noun\\_M & RF & noun\\_F - noun\\_M & 0.06  & \\${[}-0.22\\$, \\$0.34{]}\\$ & 0.51  & .868  \\\\\n",
       "\tRF\\_noun\\_F\\_verb\\_X &    & noun\\_F - verb\\_X & -0.02 & \\${[}-0.29\\$, \\$0.26{]}\\$ & -0.14 & .989  \\\\\n",
       "\tRF\\_noun\\_M\\_verb\\_X &    & noun\\_M - verb\\_X & -0.08 & \\${[}-0.35\\$, \\$0.20{]}\\$ & -0.65 & .792  \\\\\n",
       "\tRP\\_noun\\_F\\_noun\\_M & RP & noun\\_F - noun\\_M & -0.28 & \\${[}-0.56\\$, \\$0.00{]}\\$ & -2.39 & .046  \\\\\n",
       "\tRP\\_noun\\_F\\_verb\\_X &    & noun\\_F - verb\\_X & -0.17 & \\${[}-0.45\\$, \\$0.10{]}\\$ & -1.48 & .302  \\\\\n",
       "\tRP\\_noun\\_M\\_verb\\_X &    & noun\\_M - verb\\_X & 0.11  & \\${[}-0.17\\$, \\$0.38{]}\\$ & 0.91  & .635  \\\\\n",
       "\\end{tabular}\n"
      ],
      "text/markdown": [
       "\n",
       "A apa_results_table: 18 × 6\n",
       "\n",
       "| <!--/--> | chan0 &lt;chr&gt; | contrast &lt;ppj_lbll&gt; | estimate &lt;ppj_lbll&gt; | ci &lt;ppj_lbll&gt; | statistic &lt;ppj_lbll&gt; | p.value &lt;ppj_lbll&gt; |\n",
       "|---|---|---|---|---|---|---|\n",
       "| LC_noun_F_noun_M | LC | noun_F - noun_M | 0.11  | $[-0.17$, $0.38]$ | 0.92  | .629   |\n",
       "| LC_noun_F_verb_X | <!----> | noun_F - verb_X | 0.03  | $[-0.24$, $0.31]$ | 0.28  | .958   |\n",
       "| LC_noun_M_verb_X | <!----> | noun_M - verb_X | -0.07 | $[-0.35$, $0.20]$ | -0.64 | .799   |\n",
       "| LF_noun_F_noun_M | LF | noun_F - noun_M | 0.00  | $[-0.28$, $0.27]$ | -0.01 | &gt; .999 |\n",
       "| LF_noun_F_verb_X | <!----> | noun_F - verb_X | 0.03  | $[-0.25$, $0.30]$ | 0.23  | .971   |\n",
       "| LF_noun_M_verb_X | <!----> | noun_M - verb_X | 0.03  | $[-0.25$, $0.30]$ | 0.24  | .969   |\n",
       "| LP_noun_F_noun_M | LP | noun_F - noun_M | -0.14 | $[-0.41$, $0.14]$ | -1.17 | .471   |\n",
       "| LP_noun_F_verb_X | <!----> | noun_F - verb_X | 0.03  | $[-0.25$, $0.30]$ | 0.24  | .967   |\n",
       "| LP_noun_M_verb_X | <!----> | noun_M - verb_X | 0.17  | $[-0.11$, $0.44]$ | 1.42  | .333   |\n",
       "| RC_noun_F_noun_M | RC | noun_F - noun_M | -0.04 | $[-0.32$, $0.23]$ | -0.36 | .931   |\n",
       "| RC_noun_F_verb_X | <!----> | noun_F - verb_X | -0.19 | $[-0.46$, $0.09]$ | -1.61 | .243   |\n",
       "| RC_noun_M_verb_X | <!----> | noun_M - verb_X | -0.15 | $[-0.42$, $0.13]$ | -1.25 | .425   |\n",
       "| RF_noun_F_noun_M | RF | noun_F - noun_M | 0.06  | $[-0.22$, $0.34]$ | 0.51  | .868   |\n",
       "| RF_noun_F_verb_X | <!----> | noun_F - verb_X | -0.02 | $[-0.29$, $0.26]$ | -0.14 | .989   |\n",
       "| RF_noun_M_verb_X | <!----> | noun_M - verb_X | -0.08 | $[-0.35$, $0.20]$ | -0.65 | .792   |\n",
       "| RP_noun_F_noun_M | RP | noun_F - noun_M | -0.28 | $[-0.56$, $0.00]$ | -2.39 | .046   |\n",
       "| RP_noun_F_verb_X | <!----> | noun_F - verb_X | -0.17 | $[-0.45$, $0.10]$ | -1.48 | .302   |\n",
       "| RP_noun_M_verb_X | <!----> | noun_M - verb_X | 0.11  | $[-0.17$, $0.38]$ | 0.91  | .635   |\n",
       "\n"
      ],
      "text/plain": [
       "                 chan0 contrast        estimate ci                statistic p.value\n",
       "LC_noun_F_noun_M LC    noun_F - noun_M 0.11     $[-0.17$, $0.38]$ 0.92      .629   \n",
       "LC_noun_F_verb_X       noun_F - verb_X 0.03     $[-0.24$, $0.31]$ 0.28      .958   \n",
       "LC_noun_M_verb_X       noun_M - verb_X -0.07    $[-0.35$, $0.20]$ -0.64     .799   \n",
       "LF_noun_F_noun_M LF    noun_F - noun_M 0.00     $[-0.28$, $0.27]$ -0.01     > .999 \n",
       "LF_noun_F_verb_X       noun_F - verb_X 0.03     $[-0.25$, $0.30]$ 0.23      .971   \n",
       "LF_noun_M_verb_X       noun_M - verb_X 0.03     $[-0.25$, $0.30]$ 0.24      .969   \n",
       "LP_noun_F_noun_M LP    noun_F - noun_M -0.14    $[-0.41$, $0.14]$ -1.17     .471   \n",
       "LP_noun_F_verb_X       noun_F - verb_X 0.03     $[-0.25$, $0.30]$ 0.24      .967   \n",
       "LP_noun_M_verb_X       noun_M - verb_X 0.17     $[-0.11$, $0.44]$ 1.42      .333   \n",
       "RC_noun_F_noun_M RC    noun_F - noun_M -0.04    $[-0.32$, $0.23]$ -0.36     .931   \n",
       "RC_noun_F_verb_X       noun_F - verb_X -0.19    $[-0.46$, $0.09]$ -1.61     .243   \n",
       "RC_noun_M_verb_X       noun_M - verb_X -0.15    $[-0.42$, $0.13]$ -1.25     .425   \n",
       "RF_noun_F_noun_M RF    noun_F - noun_M 0.06     $[-0.22$, $0.34]$ 0.51      .868   \n",
       "RF_noun_F_verb_X       noun_F - verb_X -0.02    $[-0.29$, $0.26]$ -0.14     .989   \n",
       "RF_noun_M_verb_X       noun_M - verb_X -0.08    $[-0.35$, $0.20]$ -0.65     .792   \n",
       "RP_noun_F_noun_M RP    noun_F - noun_M -0.28    $[-0.56$, $0.00]$ -2.39     .046   \n",
       "RP_noun_F_verb_X       noun_F - verb_X -0.17    $[-0.45$, $0.10]$ -1.48     .302   \n",
       "RP_noun_M_verb_X       noun_M - verb_X 0.11     $[-0.17$, $0.38]$ 0.91      .635   "
      ]
     },
     "metadata": {},
     "output_type": "display_data"
    }
   ],
   "source": [
    "IDX <- IDX+1; COND <- CONDS[IDX]\n",
    "data1 <- droplevels(subset(df1, eval(parse(text=COND)))); data1 <- data1[complete.cases(data1),]; done1 <- AOV4(data1,COND)\n",
    "display_markdown(str_c(\"# Condition \",IDX,\" of \",length(CONDS))); display_markdown(done1$info); display_markdown(\"### Table\"); done1$aov_APA$table; display_markdown(\"### Result\"); display_markdown(done1$aov_APA[[\"full_result\"]][[\"cond0\"]]); display_markdown(\"### Summary (all done1, incl. NANs)\"); done1$summary; display_markdown(\"### Expected marginal means\"); done1$emm_APA$table; display_markdown(\"### Paired comparisons for expected marginal means\"); done1$pairs_APA$table"
   ]
  },
  {
   "cell_type": "code",
   "execution_count": null,
   "metadata": {},
   "outputs": [],
   "source": []
  },
  {
   "cell_type": "code",
   "execution_count": null,
   "metadata": {},
   "outputs": [],
   "source": []
  },
  {
   "cell_type": "code",
   "execution_count": null,
   "metadata": {},
   "outputs": [],
   "source": []
  },
  {
   "cell_type": "code",
   "execution_count": null,
   "metadata": {},
   "outputs": [],
   "source": []
  },
  {
   "cell_type": "code",
   "execution_count": null,
   "metadata": {},
   "outputs": [],
   "source": []
  },
  {
   "cell_type": "code",
   "execution_count": null,
   "metadata": {},
   "outputs": [],
   "source": []
  }
 ],
 "metadata": {
  "kernelspec": {
   "display_name": "R",
   "language": "R",
   "name": "ir"
  },
  "language_info": {
   "codemirror_mode": "r",
   "file_extension": ".r",
   "mimetype": "text/x-r-source",
   "name": "R",
   "pygments_lexer": "r",
   "version": "3.6.3"
  }
 },
 "nbformat": 4,
 "nbformat_minor": 4
}
