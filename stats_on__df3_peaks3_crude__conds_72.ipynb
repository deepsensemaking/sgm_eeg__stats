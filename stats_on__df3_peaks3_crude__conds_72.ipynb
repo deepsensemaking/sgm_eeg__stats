{
 "cells": [
  {
   "cell_type": "code",
   "execution_count": 241,
   "metadata": {},
   "outputs": [],
   "source": [
    "library(\"dplyr\")\n",
    "library(\"tidyr\")\n",
    "library(\"afex\")     # provides mixed() and attaches lme4 automatically.\n",
    "library(\"emmeans\")  # follow-up tests.\n",
    "library(\"multcomp\") # advanced control for multiple testing/Type 1 errors.\n",
    "library(\"ggplot2\")\n",
    "\n",
    "library(\"car\")\n",
    "require(\"lattice\")\n",
    "require(\"ez\")\n",
    "\n",
    "library(\"cowplot\")\n",
    "library(\"ggbeeswarm\")\n",
    "\n",
    "library(\"nortest\")\n",
    "\n",
    "library(\"effectsize\")\n",
    "\n",
    "theme_set(theme_bw(base_size = 15) +\n",
    "            theme(legend.position=\"bottom\",\n",
    "                  panel.grid.major.x = element_blank()))\n",
    "\n",
    "\n",
    "options(width=240)\n",
    "library(tidyverse)"
   ]
  },
  {
   "cell_type": "code",
   "execution_count": 242,
   "metadata": {},
   "outputs": [],
   "source": [
    "library(xtable)\n",
    "library(IRdisplay)\n",
    "library(repr)\n",
    "require(\"papaja\")\n",
    "require(\"tinytex\")"
   ]
  },
  {
   "cell_type": "code",
   "execution_count": 243,
   "metadata": {},
   "outputs": [],
   "source": [
    "apaMd <- function(apaObj){\n",
    "    apaStr <- \"\"\n",
    "    for (ii in names(apaObj)){\n",
    "        apaStr <- paste(apaStr, paste(\"\\n\",\"### \", ii, \"\\n\" ,sep=\"\" ,collapse = \"\")  ,sep=\"\" ,collapse = \"\")\n",
    "        if(!(ii == \"table\")){ \n",
    "            for (jj in names(apaObj[[ii]])){\n",
    "                apaStr <- paste(apaStr, paste(\"- \", ii,\" for `\", jj, \"` is \", \"\\n\" ,sep=\"\" ,collapse = \"\")  ,sep=\"\\n\" ,collapse = \" \")\n",
    "                apaStr <- paste(apaStr, paste(\"  - \", apaObj[[ii]][[jj]], \"\\n\" ,sep=\"\" ,collapse = \"\")  ,sep=\"\\n\" ,collapse = \" \")\n",
    "                }}\n",
    "        else {\n",
    "            # apaStr <- paste(apaStr, \"\\n\\n\", paste(apa_table(apaObj$table))  ,sep=\"\\n\" ,collapse = \" \")\n",
    "            apaStr <- paste(apaStr, paste(\"- support for will arrive some day\", \"\\n\" ,sep=\"\" ,collapse = \"\")  ,sep=\"\\n\" ,collapse = \" \")\n",
    "            apaStr <- paste(apaStr, paste(\"- for now please use apa_table function\", \"\\n\" ,sep=\"\" ,collapse = \"\")  ,sep=\"\\n\" ,collapse = \" \")\n",
    "\n",
    "        }}\n",
    "    return(apaStr)\n",
    "}"
   ]
  },
  {
   "cell_type": "code",
   "execution_count": 244,
   "metadata": {},
   "outputs": [],
   "source": [
    "AOV4 <- function(DATA,INFO){\n",
    "\n",
    "    INFO <- paste(\"`\",INFO,\"`\",sep=\"\")\n",
    "    DATA_SUMMARY <- DATA %>%\n",
    "        group_by(cond0) %>%\n",
    "        summarise(\n",
    "            N = n(),\n",
    "            valX_M = mean(valX),\n",
    "            valX_SD = sd(valX),\n",
    "            valX_SE = valX_SD / sqrt(N),\n",
    "            .groups = \"drop\"\n",
    "        )    \n",
    "    DATA_aov <- aov_4(\n",
    "        formula  <- FORMULA,\n",
    "        data     <- DATA,\n",
    "    )    \n",
    "    DATA_aov_APA <- apa_print(DATA_aov)\n",
    "    DATA_aov_EMM <- emmeans(DATA_aov, specs<-c(\"cond0\"))\n",
    "    DATA_aov_EMM_APA <- apa_print(DATA_aov_EMM)\n",
    "    DATA_aov_EMM_PAIRS <- pairs(DATA_aov_EMM)\n",
    "    \n",
    "    # cont <- \"pairwise\"\n",
    "    # DATA_aov_EMM_PAIRS <- contrast(DATA_aov_EMM, cont, by = c(\"chan0\"))\n",
    "    # DATA_aov_EMM_PAIRS <- contrast(DATA_aov_EMM, cont, by = c(\"chan0\"))    \n",
    "    \n",
    "    DATA_aov_EMM_PAIRS_APA <- apa_print(DATA_aov_EMM_PAIRS)    \n",
    "\n",
    "    return(list(\"info\"      = INFO,\n",
    "                \"summary\"   = DATA_SUMMARY,\n",
    "                \"aov\"       = DATA_aov,\n",
    "                \"aov_APA\"   = DATA_aov_APA,\n",
    "                \"emm\"       = DATA_aov_EMM,\n",
    "                \"emm_APA\"   = DATA_aov_EMM_APA,\n",
    "                \"pairs\"     = DATA_aov_EMM_PAIRS,\n",
    "                \"pairs_APA\" = DATA_aov_EMM_PAIRS_APA\n",
    "               )\n",
    "          )\n",
    "}"
   ]
  },
  {
   "cell_type": "markdown",
   "metadata": {},
   "source": [
    "# Peaks 0"
   ]
  },
  {
   "cell_type": "code",
   "execution_count": 155,
   "metadata": {},
   "outputs": [],
   "source": [
    "ifName=\"./data/JOB_004/exports/df3_peaks3_crude.csv\"\n",
    "\n",
    "df0 <- read.csv(file = ifName)\n",
    "df0 <- subset(df0, CHAN_BUND==\"\" )\n",
    "df0 <- subset(df0, quest0==\"word_set\" )"
   ]
  },
  {
   "cell_type": "code",
   "execution_count": 156,
   "metadata": {},
   "outputs": [],
   "source": [
    "df1 <- data.frame(df0)"
   ]
  },
  {
   "cell_type": "code",
   "execution_count": 157,
   "metadata": {},
   "outputs": [],
   "source": [
    "df1 <- subset(df1, cond0 %in% c(\"noun_F\",\"noun_M\",\"verb_X\") )\n",
    "# df1 <- subset(df1, cond0 %in% c(\"noun_X\",\"verb_X\") )"
   ]
  },
  {
   "cell_type": "code",
   "execution_count": 158,
   "metadata": {},
   "outputs": [],
   "source": [
    "'%!in%' <- function(x,y)!('%in%'(x,y))\n",
    "\n",
    "# df1 <- subset(df1, SUB %!in% c(\"01mkxf\",\"02ppxm\",\"09msxf\",\"15agxf\",\"17makf\",\"24jkxf\",\"26mwxf\",\"31ltxf\",\"33kkxm\",\"37lpxm\") )"
   ]
  },
  {
   "cell_type": "code",
   "execution_count": null,
   "metadata": {},
   "outputs": [],
   "source": []
  },
  {
   "cell_type": "code",
   "execution_count": 159,
   "metadata": {},
   "outputs": [],
   "source": [
    "df1 <- droplevels(df1)\n",
    "# df1 <- subset(df1, select = -c(evoked0,SES,TASK,RUN,chanX,quest0,CHAN_BUND) )\n",
    "df1 <- subset(df1, select = c(cond0,chan0,tmin0,tmax0,mode0,valX,SUB) )\n",
    "\n"
   ]
  },
  {
   "cell_type": "code",
   "execution_count": 160,
   "metadata": {},
   "outputs": [
    {
     "name": "stdout",
     "output_type": "stream",
     "text": [
      "'data.frame':\t9072 obs. of  7 variables:\n",
      " $ cond0: Factor w/ 3 levels \"noun_F\",\"noun_M\",..: 3 3 3 3 3 3 3 3 3 3 ...\n",
      " $ chan0: Factor w/ 6 levels \"LC\",\"LF\",\"LP\",..: 2 2 2 2 2 2 2 2 2 2 ...\n",
      " $ tmin0: num  0.1 0.1 0.19 0.19 0.35 0.35 0.41 0.41 0.6 0.6 ...\n",
      " $ tmax0: num  0.19 0.19 0.29 0.29 0.45 0.45 0.58 0.58 0.895 0.895 ...\n",
      " $ mode0: Factor w/ 2 levels \"neg\",\"pos\": 2 1 2 1 2 1 2 1 2 1 ...\n",
      " $ valX : num  0.0756 -2.2746 -0.0233 -1.0445 -1.3524 ...\n",
      " $ SUB  : Factor w/ 42 levels \"01mkxf\",\"02ppxm\",..: 1 1 1 1 1 1 1 1 1 1 ...\n"
     ]
    }
   ],
   "source": [
    "str(df1)"
   ]
  },
  {
   "cell_type": "code",
   "execution_count": 161,
   "metadata": {},
   "outputs": [
    {
     "data": {
      "text/html": [
       "<style>\n",
       ".list-inline {list-style: none; margin:0; padding: 0}\n",
       ".list-inline>li {display: inline-block}\n",
       ".list-inline>li:not(:last-child)::after {content: \"\\00b7\"; padding: 0 .5ex}\n",
       "</style>\n",
       "<ol class=list-inline><li><span style=white-space:pre-wrap>'noun_F:3024  '</span></li><li><span style=white-space:pre-wrap>'noun_M:3024  '</span></li><li><span style=white-space:pre-wrap>'verb_X:3024  '</span></li></ol>\n"
      ],
      "text/latex": [
       "\\begin{enumerate*}\n",
       "\\item 'noun\\_F:3024  '\n",
       "\\item 'noun\\_M:3024  '\n",
       "\\item 'verb\\_X:3024  '\n",
       "\\end{enumerate*}\n"
      ],
      "text/markdown": [
       "1. <span style=white-space:pre-wrap>'noun_F:3024  '</span>\n",
       "2. <span style=white-space:pre-wrap>'noun_M:3024  '</span>\n",
       "3. <span style=white-space:pre-wrap>'verb_X:3024  '</span>\n",
       "\n",
       "\n"
      ],
      "text/plain": [
       "[1] \"noun_F:3024  \" \"noun_M:3024  \" \"verb_X:3024  \""
      ]
     },
     "metadata": {},
     "output_type": "display_data"
    }
   ],
   "source": [
    "c(summary(df1[\"cond0\"]))"
   ]
  },
  {
   "cell_type": "code",
   "execution_count": 162,
   "metadata": {},
   "outputs": [
    {
     "data": {
      "text/html": [
       "<strong>$chan0</strong> = <style>\n",
       ".list-inline {list-style: none; margin:0; padding: 0}\n",
       ".list-inline>li {display: inline-block}\n",
       ".list-inline>li:not(:last-child)::after {content: \"\\00b7\"; padding: 0 .5ex}\n",
       "</style>\n",
       "<ol class=list-inline><li>LF</li><li>RF</li><li>LC</li><li>RC</li><li>LP</li><li>RP</li></ol>\n",
       "\n",
       "<details>\n",
       "\t<summary style=display:list-item;cursor:pointer>\n",
       "\t\t<strong>Levels</strong>:\n",
       "\t</summary>\n",
       "\t<style>\n",
       "\t.list-inline {list-style: none; margin:0; padding: 0}\n",
       "\t.list-inline>li {display: inline-block}\n",
       "\t.list-inline>li:not(:last-child)::after {content: \"\\00b7\"; padding: 0 .5ex}\n",
       "\t</style>\n",
       "\t<ol class=list-inline><li>'LC'</li><li>'LF'</li><li>'LP'</li><li>'RC'</li><li>'RF'</li><li>'RP'</li></ol>\n",
       "</details>"
      ],
      "text/latex": [
       "\\textbf{\\$chan0} = \\begin{enumerate*}\n",
       "\\item LF\n",
       "\\item RF\n",
       "\\item LC\n",
       "\\item RC\n",
       "\\item LP\n",
       "\\item RP\n",
       "\\end{enumerate*}\n",
       "\n",
       "\\emph{Levels}: \\begin{enumerate*}\n",
       "\\item 'LC'\n",
       "\\item 'LF'\n",
       "\\item 'LP'\n",
       "\\item 'RC'\n",
       "\\item 'RF'\n",
       "\\item 'RP'\n",
       "\\end{enumerate*}\n"
      ],
      "text/markdown": [
       "**$chan0** = 1. LF\n",
       "2. RF\n",
       "3. LC\n",
       "4. RC\n",
       "5. LP\n",
       "6. RP\n",
       "\n",
       "\n",
       "\n",
       "**Levels**: 1. 'LC'\n",
       "2. 'LF'\n",
       "3. 'LP'\n",
       "4. 'RC'\n",
       "5. 'RF'\n",
       "6. 'RP'\n",
       "\n",
       "\n"
      ],
      "text/plain": [
       "$chan0\n",
       "[1] LF RF LC RC LP RP\n",
       "Levels: LC LF LP RC RF RP\n"
      ]
     },
     "metadata": {},
     "output_type": "display_data"
    }
   ],
   "source": [
    "c(unique(df1[\"chan0\"]))"
   ]
  },
  {
   "cell_type": "code",
   "execution_count": 163,
   "metadata": {},
   "outputs": [
    {
     "data": {
      "text/html": [
       "<strong>$tmin0</strong> = <style>\n",
       ".list-inline {list-style: none; margin:0; padding: 0}\n",
       ".list-inline>li {display: inline-block}\n",
       ".list-inline>li:not(:last-child)::after {content: \"\\00b7\"; padding: 0 .5ex}\n",
       "</style>\n",
       "<ol class=list-inline><li>0.1</li><li>0.19</li><li>0.35</li><li>0.41</li><li>0.6</li><li>0.11</li></ol>\n"
      ],
      "text/latex": [
       "\\textbf{\\$tmin0} = \\begin{enumerate*}\n",
       "\\item 0.1\n",
       "\\item 0.19\n",
       "\\item 0.35\n",
       "\\item 0.41\n",
       "\\item 0.6\n",
       "\\item 0.11\n",
       "\\end{enumerate*}\n"
      ],
      "text/markdown": [
       "**$tmin0** = 1. 0.1\n",
       "2. 0.19\n",
       "3. 0.35\n",
       "4. 0.41\n",
       "5. 0.6\n",
       "6. 0.11\n",
       "\n",
       "\n"
      ],
      "text/plain": [
       "$tmin0\n",
       "[1] 0.10 0.19 0.35 0.41 0.60 0.11\n"
      ]
     },
     "metadata": {},
     "output_type": "display_data"
    }
   ],
   "source": [
    "c(unique(df1[\"tmin0\"]))"
   ]
  },
  {
   "cell_type": "markdown",
   "metadata": {},
   "source": [
    "https://www.rdocumentation.org/packages/afex/versions/0.27-2/topics/aov_car"
   ]
  },
  {
   "cell_type": "code",
   "execution_count": 164,
   "metadata": {},
   "outputs": [],
   "source": [
    "FORMULA  <- valX~(cond0|SUB)\n",
    "TEST     <- adjusted(\"free\")"
   ]
  },
  {
   "cell_type": "code",
   "execution_count": 165,
   "metadata": {},
   "outputs": [],
   "source": [
    "CONDS <- c()\n",
    "mode0 <- as.matrix(unique(df1[\"mode0\"]))\n",
    "chan0 <- as.matrix(unique(df1[\"chan0\"]))\n",
    "tmin0 <- as.matrix(unique(df1[\"tmin0\"]))\n",
    "for(tmin1 in tmin0 ){\n",
    "    for(chan1 in chan0 ){\n",
    "        for(mode1 in mode0 ){\n",
    "            CONDS <- c(CONDS,str_c(\"tmin0==\",tmin1,\" & chan0==\\\"\",chan1,\"\\\" & mode0==\\\"\",mode1,\"\\\"\"))\n",
    "        }\n",
    "    }\n",
    "}"
   ]
  },
  {
   "cell_type": "code",
   "execution_count": 166,
   "metadata": {},
   "outputs": [
    {
     "data": {
      "text/html": [
       "72"
      ],
      "text/latex": [
       "72"
      ],
      "text/markdown": [
       "72"
      ],
      "text/plain": [
       "[1] 72"
      ]
     },
     "metadata": {},
     "output_type": "display_data"
    }
   ],
   "source": [
    "length(CONDS)"
   ]
  },
  {
   "cell_type": "code",
   "execution_count": 167,
   "metadata": {
    "scrolled": true
   },
   "outputs": [
    {
     "data": {
      "text/html": [
       "'tmin0==0.1 &amp; chan0==\"LF\" &amp; mode0==\"pos\"'"
      ],
      "text/latex": [
       "'tmin0==0.1 \\& chan0==\"LF\" \\& mode0==\"pos\"'"
      ],
      "text/markdown": [
       "'tmin0==0.1 &amp; chan0==\"LF\" &amp; mode0==\"pos\"'"
      ],
      "text/plain": [
       "[1] \"tmin0==0.1 & chan0==\\\"LF\\\" & mode0==\\\"pos\\\"\""
      ]
     },
     "metadata": {},
     "output_type": "display_data"
    }
   ],
   "source": [
    "IDX=0\n",
    "CONDS[1]"
   ]
  },
  {
   "cell_type": "code",
   "execution_count": 168,
   "metadata": {},
   "outputs": [
    {
     "data": {
      "text/markdown": [
       "# Condition 1 of 72"
      ]
     },
     "metadata": {},
     "output_type": "display_data"
    },
    {
     "data": {
      "text/markdown": [
       "`tmin0==0.1 & chan0==\"LF\" & mode0==\"pos\"`"
      ]
     },
     "metadata": {},
     "output_type": "display_data"
    },
    {
     "data": {
      "text/markdown": [
       "### Table"
      ]
     },
     "metadata": {},
     "output_type": "display_data"
    },
    {
     "data": {
      "text/html": [
       "<table>\n",
       "<caption>A apa_results_table: 1 × 7</caption>\n",
       "<thead>\n",
       "\t<tr><th></th><th scope=col>Effect</th><th scope=col>F</th><th scope=col>df1</th><th scope=col>df2</th><th scope=col>MSE</th><th scope=col>p</th><th scope=col>ges</th></tr>\n",
       "\t<tr><th></th><th scope=col>&lt;ppj_lbll&gt;</th><th scope=col>&lt;ppj_lbll&gt;</th><th scope=col>&lt;ppj_lbll&gt;</th><th scope=col>&lt;ppj_lbll&gt;</th><th scope=col>&lt;ppj_lbll&gt;</th><th scope=col>&lt;ppj_lbll&gt;</th><th scope=col>&lt;ppj_lbll&gt;</th></tr>\n",
       "</thead>\n",
       "<tbody>\n",
       "\t<tr><th scope=row>1</th><td>Cond0</td><td>3.52</td><td>1.84</td><td>75.42</td><td>0.32</td><td>.038</td><td>.009</td></tr>\n",
       "</tbody>\n",
       "</table>\n"
      ],
      "text/latex": [
       "A apa\\_results\\_table: 1 × 7\n",
       "\\begin{tabular}{r|lllllll}\n",
       "  & Effect & F & df1 & df2 & MSE & p & ges\\\\\n",
       "  & <ppj\\_lbll> & <ppj\\_lbll> & <ppj\\_lbll> & <ppj\\_lbll> & <ppj\\_lbll> & <ppj\\_lbll> & <ppj\\_lbll>\\\\\n",
       "\\hline\n",
       "\t1 & Cond0 & 3.52 & 1.84 & 75.42 & 0.32 & .038 & .009\\\\\n",
       "\\end{tabular}\n"
      ],
      "text/markdown": [
       "\n",
       "A apa_results_table: 1 × 7\n",
       "\n",
       "| <!--/--> | Effect &lt;ppj_lbll&gt; | F &lt;ppj_lbll&gt; | df1 &lt;ppj_lbll&gt; | df2 &lt;ppj_lbll&gt; | MSE &lt;ppj_lbll&gt; | p &lt;ppj_lbll&gt; | ges &lt;ppj_lbll&gt; |\n",
       "|---|---|---|---|---|---|---|---|\n",
       "| 1 | Cond0 | 3.52 | 1.84 | 75.42 | 0.32 | .038 | .009 |\n",
       "\n"
      ],
      "text/plain": [
       "  Effect F    df1  df2   MSE  p    ges \n",
       "1 Cond0  3.52 1.84 75.42 0.32 .038 .009"
      ]
     },
     "metadata": {},
     "output_type": "display_data"
    },
    {
     "data": {
      "text/markdown": [
       "### Result"
      ]
     },
     "metadata": {},
     "output_type": "display_data"
    },
    {
     "data": {
      "text/markdown": [
       "$F(1.84, 75.42) = 3.52$, $\\mathit{MSE} = 0.32$, $p = .038$, $\\hat{\\eta}^2_G = .009$"
      ]
     },
     "metadata": {},
     "output_type": "display_data"
    },
    {
     "data": {
      "text/markdown": [
       "### Summary (all done1, incl. NANs)"
      ]
     },
     "metadata": {},
     "output_type": "display_data"
    },
    {
     "data": {
      "text/html": [
       "<table>\n",
       "<caption>A tibble: 3 × 5</caption>\n",
       "<thead>\n",
       "\t<tr><th scope=col>cond0</th><th scope=col>N</th><th scope=col>valX_M</th><th scope=col>valX_SD</th><th scope=col>valX_SE</th></tr>\n",
       "\t<tr><th scope=col>&lt;fct&gt;</th><th scope=col>&lt;int&gt;</th><th scope=col>&lt;dbl&gt;</th><th scope=col>&lt;dbl&gt;</th><th scope=col>&lt;dbl&gt;</th></tr>\n",
       "</thead>\n",
       "<tbody>\n",
       "\t<tr><td>noun_F</td><td>42</td><td>1.0798279</td><td>1.342364</td><td>0.2071313</td></tr>\n",
       "\t<tr><td>noun_M</td><td>42</td><td>0.7825993</td><td>1.381289</td><td>0.2131375</td></tr>\n",
       "\t<tr><td>verb_X</td><td>42</td><td>0.8373153</td><td>1.302212</td><td>0.2009357</td></tr>\n",
       "</tbody>\n",
       "</table>\n"
      ],
      "text/latex": [
       "A tibble: 3 × 5\n",
       "\\begin{tabular}{lllll}\n",
       " cond0 & N & valX\\_M & valX\\_SD & valX\\_SE\\\\\n",
       " <fct> & <int> & <dbl> & <dbl> & <dbl>\\\\\n",
       "\\hline\n",
       "\t noun\\_F & 42 & 1.0798279 & 1.342364 & 0.2071313\\\\\n",
       "\t noun\\_M & 42 & 0.7825993 & 1.381289 & 0.2131375\\\\\n",
       "\t verb\\_X & 42 & 0.8373153 & 1.302212 & 0.2009357\\\\\n",
       "\\end{tabular}\n"
      ],
      "text/markdown": [
       "\n",
       "A tibble: 3 × 5\n",
       "\n",
       "| cond0 &lt;fct&gt; | N &lt;int&gt; | valX_M &lt;dbl&gt; | valX_SD &lt;dbl&gt; | valX_SE &lt;dbl&gt; |\n",
       "|---|---|---|---|---|\n",
       "| noun_F | 42 | 1.0798279 | 1.342364 | 0.2071313 |\n",
       "| noun_M | 42 | 0.7825993 | 1.381289 | 0.2131375 |\n",
       "| verb_X | 42 | 0.8373153 | 1.302212 | 0.2009357 |\n",
       "\n"
      ],
      "text/plain": [
       "  cond0  N  valX_M    valX_SD  valX_SE  \n",
       "1 noun_F 42 1.0798279 1.342364 0.2071313\n",
       "2 noun_M 42 0.7825993 1.381289 0.2131375\n",
       "3 verb_X 42 0.8373153 1.302212 0.2009357"
      ]
     },
     "metadata": {},
     "output_type": "display_data"
    },
    {
     "data": {
      "text/markdown": [
       "### Expected marginal means"
      ]
     },
     "metadata": {},
     "output_type": "display_data"
    },
    {
     "data": {
      "text/html": [
       "<table>\n",
       "<caption>A apa_results_table: 3 × 5</caption>\n",
       "<thead>\n",
       "\t<tr><th></th><th scope=col>cond0</th><th scope=col>estimate</th><th scope=col>ci</th><th scope=col>statistic</th><th scope=col>p.value</th></tr>\n",
       "\t<tr><th></th><th scope=col>&lt;chr&gt;</th><th scope=col>&lt;ppj_lbll&gt;</th><th scope=col>&lt;ppj_lbll&gt;</th><th scope=col>&lt;ppj_lbll&gt;</th><th scope=col>&lt;ppj_lbll&gt;</th></tr>\n",
       "</thead>\n",
       "<tbody>\n",
       "\t<tr><th scope=row>noun_F</th><td>noun_F</td><td>1.08</td><td>$[0.66$, $1.50]$</td><td>5.21</td><td>&lt; .001</td></tr>\n",
       "\t<tr><th scope=row>noun_M</th><td>noun_M</td><td>0.78</td><td>$[0.37$, $1.20]$</td><td>3.78</td><td>&lt; .001</td></tr>\n",
       "\t<tr><th scope=row>verb_X</th><td>verb_X</td><td>0.84</td><td>$[0.42$, $1.25]$</td><td>4.04</td><td>&lt; .001</td></tr>\n",
       "</tbody>\n",
       "</table>\n"
      ],
      "text/latex": [
       "A apa\\_results\\_table: 3 × 5\n",
       "\\begin{tabular}{r|lllll}\n",
       "  & cond0 & estimate & ci & statistic & p.value\\\\\n",
       "  & <chr> & <ppj\\_lbll> & <ppj\\_lbll> & <ppj\\_lbll> & <ppj\\_lbll>\\\\\n",
       "\\hline\n",
       "\tnoun\\_F & noun\\_F & 1.08 & \\${[}0.66\\$, \\$1.50{]}\\$ & 5.21 & < .001\\\\\n",
       "\tnoun\\_M & noun\\_M & 0.78 & \\${[}0.37\\$, \\$1.20{]}\\$ & 3.78 & < .001\\\\\n",
       "\tverb\\_X & verb\\_X & 0.84 & \\${[}0.42\\$, \\$1.25{]}\\$ & 4.04 & < .001\\\\\n",
       "\\end{tabular}\n"
      ],
      "text/markdown": [
       "\n",
       "A apa_results_table: 3 × 5\n",
       "\n",
       "| <!--/--> | cond0 &lt;chr&gt; | estimate &lt;ppj_lbll&gt; | ci &lt;ppj_lbll&gt; | statistic &lt;ppj_lbll&gt; | p.value &lt;ppj_lbll&gt; |\n",
       "|---|---|---|---|---|---|\n",
       "| noun_F | noun_F | 1.08 | $[0.66$, $1.50]$ | 5.21 | &lt; .001 |\n",
       "| noun_M | noun_M | 0.78 | $[0.37$, $1.20]$ | 3.78 | &lt; .001 |\n",
       "| verb_X | verb_X | 0.84 | $[0.42$, $1.25]$ | 4.04 | &lt; .001 |\n",
       "\n"
      ],
      "text/plain": [
       "       cond0  estimate ci               statistic p.value\n",
       "noun_F noun_F 1.08     $[0.66$, $1.50]$ 5.21      < .001 \n",
       "noun_M noun_M 0.78     $[0.37$, $1.20]$ 3.78      < .001 \n",
       "verb_X verb_X 0.84     $[0.42$, $1.25]$ 4.04      < .001 "
      ]
     },
     "metadata": {},
     "output_type": "display_data"
    },
    {
     "data": {
      "text/markdown": [
       "### Paired comparisons for expected marginal means"
      ]
     },
     "metadata": {},
     "output_type": "display_data"
    },
    {
     "data": {
      "text/html": [
       "<table>\n",
       "<caption>A apa_results_table: 3 × 5</caption>\n",
       "<thead>\n",
       "\t<tr><th></th><th scope=col>contrast</th><th scope=col>estimate</th><th scope=col>ci</th><th scope=col>statistic</th><th scope=col>p.value</th></tr>\n",
       "\t<tr><th></th><th scope=col>&lt;ppj_lbll&gt;</th><th scope=col>&lt;ppj_lbll&gt;</th><th scope=col>&lt;ppj_lbll&gt;</th><th scope=col>&lt;ppj_lbll&gt;</th><th scope=col>&lt;ppj_lbll&gt;</th></tr>\n",
       "</thead>\n",
       "<tbody>\n",
       "\t<tr><th scope=row>noun_F_noun_M</th><td>noun_F - noun_M</td><td>0.30 </td><td>$[0.01$, $0.58]$ </td><td>2.49 </td><td>.039</td></tr>\n",
       "\t<tr><th scope=row>noun_F_verb_X</th><td>noun_F - verb_X</td><td>0.24 </td><td>$[-0.04$, $0.53]$</td><td>2.03 </td><td>.111</td></tr>\n",
       "\t<tr><th scope=row>noun_M_verb_X</th><td>noun_M - verb_X</td><td>-0.05</td><td>$[-0.34$, $0.23]$</td><td>-0.46</td><td>.891</td></tr>\n",
       "</tbody>\n",
       "</table>\n"
      ],
      "text/latex": [
       "A apa\\_results\\_table: 3 × 5\n",
       "\\begin{tabular}{r|lllll}\n",
       "  & contrast & estimate & ci & statistic & p.value\\\\\n",
       "  & <ppj\\_lbll> & <ppj\\_lbll> & <ppj\\_lbll> & <ppj\\_lbll> & <ppj\\_lbll>\\\\\n",
       "\\hline\n",
       "\tnoun\\_F\\_noun\\_M & noun\\_F - noun\\_M & 0.30  & \\${[}0.01\\$, \\$0.58{]}\\$  & 2.49  & .039\\\\\n",
       "\tnoun\\_F\\_verb\\_X & noun\\_F - verb\\_X & 0.24  & \\${[}-0.04\\$, \\$0.53{]}\\$ & 2.03  & .111\\\\\n",
       "\tnoun\\_M\\_verb\\_X & noun\\_M - verb\\_X & -0.05 & \\${[}-0.34\\$, \\$0.23{]}\\$ & -0.46 & .891\\\\\n",
       "\\end{tabular}\n"
      ],
      "text/markdown": [
       "\n",
       "A apa_results_table: 3 × 5\n",
       "\n",
       "| <!--/--> | contrast &lt;ppj_lbll&gt; | estimate &lt;ppj_lbll&gt; | ci &lt;ppj_lbll&gt; | statistic &lt;ppj_lbll&gt; | p.value &lt;ppj_lbll&gt; |\n",
       "|---|---|---|---|---|---|\n",
       "| noun_F_noun_M | noun_F - noun_M | 0.30  | $[0.01$, $0.58]$  | 2.49  | .039 |\n",
       "| noun_F_verb_X | noun_F - verb_X | 0.24  | $[-0.04$, $0.53]$ | 2.03  | .111 |\n",
       "| noun_M_verb_X | noun_M - verb_X | -0.05 | $[-0.34$, $0.23]$ | -0.46 | .891 |\n",
       "\n"
      ],
      "text/plain": [
       "              contrast        estimate ci                statistic p.value\n",
       "noun_F_noun_M noun_F - noun_M 0.30     $[0.01$, $0.58]$  2.49      .039   \n",
       "noun_F_verb_X noun_F - verb_X 0.24     $[-0.04$, $0.53]$ 2.03      .111   \n",
       "noun_M_verb_X noun_M - verb_X -0.05    $[-0.34$, $0.23]$ -0.46     .891   "
      ]
     },
     "metadata": {},
     "output_type": "display_data"
    }
   ],
   "source": [
    "IDX <- IDX+1; COND <- CONDS[IDX]\n",
    "data1 <- droplevels(subset(df1, eval(parse(text=COND)))); data1 <- data1[complete.cases(data1),]; done1 <- AOV4(data1,COND)\n",
    "display_markdown(str_c(\"# Condition \",IDX,\" of \",length(CONDS))); display_markdown(done1$info); display_markdown(\"### Table\"); done1$aov_APA$table; display_markdown(\"### Result\"); display_markdown(done1$aov_APA[[\"full_result\"]][[\"cond0\"]]); display_markdown(\"### Summary (all done1, incl. NANs)\"); done1$summary; display_markdown(\"### Expected marginal means\"); done1$emm_APA$table; display_markdown(\"### Paired comparisons for expected marginal means\"); done1$pairs_APA$table"
   ]
  },
  {
   "cell_type": "code",
   "execution_count": 169,
   "metadata": {},
   "outputs": [
    {
     "data": {
      "text/markdown": [
       "# Condition 2 of 72"
      ]
     },
     "metadata": {},
     "output_type": "display_data"
    },
    {
     "data": {
      "text/markdown": [
       "`tmin0==0.1 & chan0==\"LF\" & mode0==\"neg\"`"
      ]
     },
     "metadata": {},
     "output_type": "display_data"
    },
    {
     "data": {
      "text/markdown": [
       "### Table"
      ]
     },
     "metadata": {},
     "output_type": "display_data"
    },
    {
     "data": {
      "text/html": [
       "<table>\n",
       "<caption>A apa_results_table: 1 × 7</caption>\n",
       "<thead>\n",
       "\t<tr><th></th><th scope=col>Effect</th><th scope=col>F</th><th scope=col>df1</th><th scope=col>df2</th><th scope=col>MSE</th><th scope=col>p</th><th scope=col>ges</th></tr>\n",
       "\t<tr><th></th><th scope=col>&lt;ppj_lbll&gt;</th><th scope=col>&lt;ppj_lbll&gt;</th><th scope=col>&lt;ppj_lbll&gt;</th><th scope=col>&lt;ppj_lbll&gt;</th><th scope=col>&lt;ppj_lbll&gt;</th><th scope=col>&lt;ppj_lbll&gt;</th><th scope=col>&lt;ppj_lbll&gt;</th></tr>\n",
       "</thead>\n",
       "<tbody>\n",
       "\t<tr><th scope=row>1</th><td>Cond0</td><td>0.19</td><td>1.82</td><td>74.48</td><td>0.28</td><td>.806</td><td>.000</td></tr>\n",
       "</tbody>\n",
       "</table>\n"
      ],
      "text/latex": [
       "A apa\\_results\\_table: 1 × 7\n",
       "\\begin{tabular}{r|lllllll}\n",
       "  & Effect & F & df1 & df2 & MSE & p & ges\\\\\n",
       "  & <ppj\\_lbll> & <ppj\\_lbll> & <ppj\\_lbll> & <ppj\\_lbll> & <ppj\\_lbll> & <ppj\\_lbll> & <ppj\\_lbll>\\\\\n",
       "\\hline\n",
       "\t1 & Cond0 & 0.19 & 1.82 & 74.48 & 0.28 & .806 & .000\\\\\n",
       "\\end{tabular}\n"
      ],
      "text/markdown": [
       "\n",
       "A apa_results_table: 1 × 7\n",
       "\n",
       "| <!--/--> | Effect &lt;ppj_lbll&gt; | F &lt;ppj_lbll&gt; | df1 &lt;ppj_lbll&gt; | df2 &lt;ppj_lbll&gt; | MSE &lt;ppj_lbll&gt; | p &lt;ppj_lbll&gt; | ges &lt;ppj_lbll&gt; |\n",
       "|---|---|---|---|---|---|---|---|\n",
       "| 1 | Cond0 | 0.19 | 1.82 | 74.48 | 0.28 | .806 | .000 |\n",
       "\n"
      ],
      "text/plain": [
       "  Effect F    df1  df2   MSE  p    ges \n",
       "1 Cond0  0.19 1.82 74.48 0.28 .806 .000"
      ]
     },
     "metadata": {},
     "output_type": "display_data"
    },
    {
     "data": {
      "text/markdown": [
       "### Result"
      ]
     },
     "metadata": {},
     "output_type": "display_data"
    },
    {
     "data": {
      "text/markdown": [
       "$F(1.82, 74.48) = 0.19$, $\\mathit{MSE} = 0.28$, $p = .806$, $\\hat{\\eta}^2_G = .000$"
      ]
     },
     "metadata": {},
     "output_type": "display_data"
    },
    {
     "data": {
      "text/markdown": [
       "### Summary (all done1, incl. NANs)"
      ]
     },
     "metadata": {},
     "output_type": "display_data"
    },
    {
     "data": {
      "text/html": [
       "<table>\n",
       "<caption>A tibble: 3 × 5</caption>\n",
       "<thead>\n",
       "\t<tr><th scope=col>cond0</th><th scope=col>N</th><th scope=col>valX_M</th><th scope=col>valX_SD</th><th scope=col>valX_SE</th></tr>\n",
       "\t<tr><th scope=col>&lt;fct&gt;</th><th scope=col>&lt;int&gt;</th><th scope=col>&lt;dbl&gt;</th><th scope=col>&lt;dbl&gt;</th><th scope=col>&lt;dbl&gt;</th></tr>\n",
       "</thead>\n",
       "<tbody>\n",
       "\t<tr><td>noun_F</td><td>42</td><td>-2.775418</td><td>1.417731</td><td>0.2187607</td></tr>\n",
       "\t<tr><td>noun_M</td><td>42</td><td>-2.750686</td><td>1.704491</td><td>0.2630087</td></tr>\n",
       "\t<tr><td>verb_X</td><td>42</td><td>-2.708572</td><td>1.415776</td><td>0.2184591</td></tr>\n",
       "</tbody>\n",
       "</table>\n"
      ],
      "text/latex": [
       "A tibble: 3 × 5\n",
       "\\begin{tabular}{lllll}\n",
       " cond0 & N & valX\\_M & valX\\_SD & valX\\_SE\\\\\n",
       " <fct> & <int> & <dbl> & <dbl> & <dbl>\\\\\n",
       "\\hline\n",
       "\t noun\\_F & 42 & -2.775418 & 1.417731 & 0.2187607\\\\\n",
       "\t noun\\_M & 42 & -2.750686 & 1.704491 & 0.2630087\\\\\n",
       "\t verb\\_X & 42 & -2.708572 & 1.415776 & 0.2184591\\\\\n",
       "\\end{tabular}\n"
      ],
      "text/markdown": [
       "\n",
       "A tibble: 3 × 5\n",
       "\n",
       "| cond0 &lt;fct&gt; | N &lt;int&gt; | valX_M &lt;dbl&gt; | valX_SD &lt;dbl&gt; | valX_SE &lt;dbl&gt; |\n",
       "|---|---|---|---|---|\n",
       "| noun_F | 42 | -2.775418 | 1.417731 | 0.2187607 |\n",
       "| noun_M | 42 | -2.750686 | 1.704491 | 0.2630087 |\n",
       "| verb_X | 42 | -2.708572 | 1.415776 | 0.2184591 |\n",
       "\n"
      ],
      "text/plain": [
       "  cond0  N  valX_M    valX_SD  valX_SE  \n",
       "1 noun_F 42 -2.775418 1.417731 0.2187607\n",
       "2 noun_M 42 -2.750686 1.704491 0.2630087\n",
       "3 verb_X 42 -2.708572 1.415776 0.2184591"
      ]
     },
     "metadata": {},
     "output_type": "display_data"
    },
    {
     "data": {
      "text/markdown": [
       "### Expected marginal means"
      ]
     },
     "metadata": {},
     "output_type": "display_data"
    },
    {
     "data": {
      "text/html": [
       "<table>\n",
       "<caption>A apa_results_table: 3 × 5</caption>\n",
       "<thead>\n",
       "\t<tr><th></th><th scope=col>cond0</th><th scope=col>estimate</th><th scope=col>ci</th><th scope=col>statistic</th><th scope=col>p.value</th></tr>\n",
       "\t<tr><th></th><th scope=col>&lt;chr&gt;</th><th scope=col>&lt;ppj_lbll&gt;</th><th scope=col>&lt;ppj_lbll&gt;</th><th scope=col>&lt;ppj_lbll&gt;</th><th scope=col>&lt;ppj_lbll&gt;</th></tr>\n",
       "</thead>\n",
       "<tbody>\n",
       "\t<tr><th scope=row>noun_F</th><td>noun_F</td><td>-2.78</td><td>$[-3.25$, $-2.30]$</td><td>-11.84</td><td>&lt; .001</td></tr>\n",
       "\t<tr><th scope=row>noun_M</th><td>noun_M</td><td>-2.75</td><td>$[-3.22$, $-2.28]$</td><td>-11.74</td><td>&lt; .001</td></tr>\n",
       "\t<tr><th scope=row>verb_X</th><td>verb_X</td><td>-2.71</td><td>$[-3.18$, $-2.24]$</td><td>-11.56</td><td>&lt; .001</td></tr>\n",
       "</tbody>\n",
       "</table>\n"
      ],
      "text/latex": [
       "A apa\\_results\\_table: 3 × 5\n",
       "\\begin{tabular}{r|lllll}\n",
       "  & cond0 & estimate & ci & statistic & p.value\\\\\n",
       "  & <chr> & <ppj\\_lbll> & <ppj\\_lbll> & <ppj\\_lbll> & <ppj\\_lbll>\\\\\n",
       "\\hline\n",
       "\tnoun\\_F & noun\\_F & -2.78 & \\${[}-3.25\\$, \\$-2.30{]}\\$ & -11.84 & < .001\\\\\n",
       "\tnoun\\_M & noun\\_M & -2.75 & \\${[}-3.22\\$, \\$-2.28{]}\\$ & -11.74 & < .001\\\\\n",
       "\tverb\\_X & verb\\_X & -2.71 & \\${[}-3.18\\$, \\$-2.24{]}\\$ & -11.56 & < .001\\\\\n",
       "\\end{tabular}\n"
      ],
      "text/markdown": [
       "\n",
       "A apa_results_table: 3 × 5\n",
       "\n",
       "| <!--/--> | cond0 &lt;chr&gt; | estimate &lt;ppj_lbll&gt; | ci &lt;ppj_lbll&gt; | statistic &lt;ppj_lbll&gt; | p.value &lt;ppj_lbll&gt; |\n",
       "|---|---|---|---|---|---|\n",
       "| noun_F | noun_F | -2.78 | $[-3.25$, $-2.30]$ | -11.84 | &lt; .001 |\n",
       "| noun_M | noun_M | -2.75 | $[-3.22$, $-2.28]$ | -11.74 | &lt; .001 |\n",
       "| verb_X | verb_X | -2.71 | $[-3.18$, $-2.24]$ | -11.56 | &lt; .001 |\n",
       "\n"
      ],
      "text/plain": [
       "       cond0  estimate ci                 statistic p.value\n",
       "noun_F noun_F -2.78    $[-3.25$, $-2.30]$ -11.84    < .001 \n",
       "noun_M noun_M -2.75    $[-3.22$, $-2.28]$ -11.74    < .001 \n",
       "verb_X verb_X -2.71    $[-3.18$, $-2.24]$ -11.56    < .001 "
      ]
     },
     "metadata": {},
     "output_type": "display_data"
    },
    {
     "data": {
      "text/markdown": [
       "### Paired comparisons for expected marginal means"
      ]
     },
     "metadata": {},
     "output_type": "display_data"
    },
    {
     "data": {
      "text/html": [
       "<table>\n",
       "<caption>A apa_results_table: 3 × 5</caption>\n",
       "<thead>\n",
       "\t<tr><th></th><th scope=col>contrast</th><th scope=col>estimate</th><th scope=col>ci</th><th scope=col>statistic</th><th scope=col>p.value</th></tr>\n",
       "\t<tr><th></th><th scope=col>&lt;ppj_lbll&gt;</th><th scope=col>&lt;ppj_lbll&gt;</th><th scope=col>&lt;ppj_lbll&gt;</th><th scope=col>&lt;ppj_lbll&gt;</th><th scope=col>&lt;ppj_lbll&gt;</th></tr>\n",
       "</thead>\n",
       "<tbody>\n",
       "\t<tr><th scope=row>noun_F_noun_M</th><td>noun_F - noun_M</td><td>-0.02</td><td>$[-0.29$, $0.24]$</td><td>-0.23</td><td>.972</td></tr>\n",
       "\t<tr><th scope=row>noun_F_verb_X</th><td>noun_F - verb_X</td><td>-0.07</td><td>$[-0.33$, $0.19]$</td><td>-0.61</td><td>.815</td></tr>\n",
       "\t<tr><th scope=row>noun_M_verb_X</th><td>noun_M - verb_X</td><td>-0.04</td><td>$[-0.30$, $0.22]$</td><td>-0.38</td><td>.922</td></tr>\n",
       "</tbody>\n",
       "</table>\n"
      ],
      "text/latex": [
       "A apa\\_results\\_table: 3 × 5\n",
       "\\begin{tabular}{r|lllll}\n",
       "  & contrast & estimate & ci & statistic & p.value\\\\\n",
       "  & <ppj\\_lbll> & <ppj\\_lbll> & <ppj\\_lbll> & <ppj\\_lbll> & <ppj\\_lbll>\\\\\n",
       "\\hline\n",
       "\tnoun\\_F\\_noun\\_M & noun\\_F - noun\\_M & -0.02 & \\${[}-0.29\\$, \\$0.24{]}\\$ & -0.23 & .972\\\\\n",
       "\tnoun\\_F\\_verb\\_X & noun\\_F - verb\\_X & -0.07 & \\${[}-0.33\\$, \\$0.19{]}\\$ & -0.61 & .815\\\\\n",
       "\tnoun\\_M\\_verb\\_X & noun\\_M - verb\\_X & -0.04 & \\${[}-0.30\\$, \\$0.22{]}\\$ & -0.38 & .922\\\\\n",
       "\\end{tabular}\n"
      ],
      "text/markdown": [
       "\n",
       "A apa_results_table: 3 × 5\n",
       "\n",
       "| <!--/--> | contrast &lt;ppj_lbll&gt; | estimate &lt;ppj_lbll&gt; | ci &lt;ppj_lbll&gt; | statistic &lt;ppj_lbll&gt; | p.value &lt;ppj_lbll&gt; |\n",
       "|---|---|---|---|---|---|\n",
       "| noun_F_noun_M | noun_F - noun_M | -0.02 | $[-0.29$, $0.24]$ | -0.23 | .972 |\n",
       "| noun_F_verb_X | noun_F - verb_X | -0.07 | $[-0.33$, $0.19]$ | -0.61 | .815 |\n",
       "| noun_M_verb_X | noun_M - verb_X | -0.04 | $[-0.30$, $0.22]$ | -0.38 | .922 |\n",
       "\n"
      ],
      "text/plain": [
       "              contrast        estimate ci                statistic p.value\n",
       "noun_F_noun_M noun_F - noun_M -0.02    $[-0.29$, $0.24]$ -0.23     .972   \n",
       "noun_F_verb_X noun_F - verb_X -0.07    $[-0.33$, $0.19]$ -0.61     .815   \n",
       "noun_M_verb_X noun_M - verb_X -0.04    $[-0.30$, $0.22]$ -0.38     .922   "
      ]
     },
     "metadata": {},
     "output_type": "display_data"
    }
   ],
   "source": [
    "IDX <- IDX+1; COND <- CONDS[IDX]\n",
    "data1 <- droplevels(subset(df1, eval(parse(text=COND)))); data1 <- data1[complete.cases(data1),]; done1 <- AOV4(data1,COND)\n",
    "display_markdown(str_c(\"# Condition \",IDX,\" of \",length(CONDS))); display_markdown(done1$info); display_markdown(\"### Table\"); done1$aov_APA$table; display_markdown(\"### Result\"); display_markdown(done1$aov_APA[[\"full_result\"]][[\"cond0\"]]); display_markdown(\"### Summary (all done1, incl. NANs)\"); done1$summary; display_markdown(\"### Expected marginal means\"); done1$emm_APA$table; display_markdown(\"### Paired comparisons for expected marginal means\"); done1$pairs_APA$table"
   ]
  },
  {
   "cell_type": "code",
   "execution_count": 170,
   "metadata": {},
   "outputs": [
    {
     "data": {
      "text/markdown": [
       "# Condition 3 of 72"
      ]
     },
     "metadata": {},
     "output_type": "display_data"
    },
    {
     "data": {
      "text/markdown": [
       "`tmin0==0.1 & chan0==\"RF\" & mode0==\"pos\"`"
      ]
     },
     "metadata": {},
     "output_type": "display_data"
    },
    {
     "data": {
      "text/markdown": [
       "### Table"
      ]
     },
     "metadata": {},
     "output_type": "display_data"
    },
    {
     "data": {
      "text/html": [
       "<table>\n",
       "<caption>A apa_results_table: 1 × 7</caption>\n",
       "<thead>\n",
       "\t<tr><th></th><th scope=col>Effect</th><th scope=col>F</th><th scope=col>df1</th><th scope=col>df2</th><th scope=col>MSE</th><th scope=col>p</th><th scope=col>ges</th></tr>\n",
       "\t<tr><th></th><th scope=col>&lt;ppj_lbll&gt;</th><th scope=col>&lt;ppj_lbll&gt;</th><th scope=col>&lt;ppj_lbll&gt;</th><th scope=col>&lt;ppj_lbll&gt;</th><th scope=col>&lt;ppj_lbll&gt;</th><th scope=col>&lt;ppj_lbll&gt;</th><th scope=col>&lt;ppj_lbll&gt;</th></tr>\n",
       "</thead>\n",
       "<tbody>\n",
       "\t<tr><th scope=row>1</th><td>Cond0</td><td>0.16</td><td>1.85</td><td>75.95</td><td>0.28</td><td>.840</td><td>.000</td></tr>\n",
       "</tbody>\n",
       "</table>\n"
      ],
      "text/latex": [
       "A apa\\_results\\_table: 1 × 7\n",
       "\\begin{tabular}{r|lllllll}\n",
       "  & Effect & F & df1 & df2 & MSE & p & ges\\\\\n",
       "  & <ppj\\_lbll> & <ppj\\_lbll> & <ppj\\_lbll> & <ppj\\_lbll> & <ppj\\_lbll> & <ppj\\_lbll> & <ppj\\_lbll>\\\\\n",
       "\\hline\n",
       "\t1 & Cond0 & 0.16 & 1.85 & 75.95 & 0.28 & .840 & .000\\\\\n",
       "\\end{tabular}\n"
      ],
      "text/markdown": [
       "\n",
       "A apa_results_table: 1 × 7\n",
       "\n",
       "| <!--/--> | Effect &lt;ppj_lbll&gt; | F &lt;ppj_lbll&gt; | df1 &lt;ppj_lbll&gt; | df2 &lt;ppj_lbll&gt; | MSE &lt;ppj_lbll&gt; | p &lt;ppj_lbll&gt; | ges &lt;ppj_lbll&gt; |\n",
       "|---|---|---|---|---|---|---|---|\n",
       "| 1 | Cond0 | 0.16 | 1.85 | 75.95 | 0.28 | .840 | .000 |\n",
       "\n"
      ],
      "text/plain": [
       "  Effect F    df1  df2   MSE  p    ges \n",
       "1 Cond0  0.16 1.85 75.95 0.28 .840 .000"
      ]
     },
     "metadata": {},
     "output_type": "display_data"
    },
    {
     "data": {
      "text/markdown": [
       "### Result"
      ]
     },
     "metadata": {},
     "output_type": "display_data"
    },
    {
     "data": {
      "text/markdown": [
       "$F(1.85, 75.95) = 0.16$, $\\mathit{MSE} = 0.28$, $p = .840$, $\\hat{\\eta}^2_G = .000$"
      ]
     },
     "metadata": {},
     "output_type": "display_data"
    },
    {
     "data": {
      "text/markdown": [
       "### Summary (all done1, incl. NANs)"
      ]
     },
     "metadata": {},
     "output_type": "display_data"
    },
    {
     "data": {
      "text/html": [
       "<table>\n",
       "<caption>A tibble: 3 × 5</caption>\n",
       "<thead>\n",
       "\t<tr><th scope=col>cond0</th><th scope=col>N</th><th scope=col>valX_M</th><th scope=col>valX_SD</th><th scope=col>valX_SE</th></tr>\n",
       "\t<tr><th scope=col>&lt;fct&gt;</th><th scope=col>&lt;int&gt;</th><th scope=col>&lt;dbl&gt;</th><th scope=col>&lt;dbl&gt;</th><th scope=col>&lt;dbl&gt;</th></tr>\n",
       "</thead>\n",
       "<tbody>\n",
       "\t<tr><td>noun_F</td><td>42</td><td>0.3813301</td><td>1.277017</td><td>0.1970480</td></tr>\n",
       "\t<tr><td>noun_M</td><td>42</td><td>0.3340320</td><td>1.107382</td><td>0.1708728</td></tr>\n",
       "\t<tr><td>verb_X</td><td>42</td><td>0.3929957</td><td>1.149810</td><td>0.1774196</td></tr>\n",
       "</tbody>\n",
       "</table>\n"
      ],
      "text/latex": [
       "A tibble: 3 × 5\n",
       "\\begin{tabular}{lllll}\n",
       " cond0 & N & valX\\_M & valX\\_SD & valX\\_SE\\\\\n",
       " <fct> & <int> & <dbl> & <dbl> & <dbl>\\\\\n",
       "\\hline\n",
       "\t noun\\_F & 42 & 0.3813301 & 1.277017 & 0.1970480\\\\\n",
       "\t noun\\_M & 42 & 0.3340320 & 1.107382 & 0.1708728\\\\\n",
       "\t verb\\_X & 42 & 0.3929957 & 1.149810 & 0.1774196\\\\\n",
       "\\end{tabular}\n"
      ],
      "text/markdown": [
       "\n",
       "A tibble: 3 × 5\n",
       "\n",
       "| cond0 &lt;fct&gt; | N &lt;int&gt; | valX_M &lt;dbl&gt; | valX_SD &lt;dbl&gt; | valX_SE &lt;dbl&gt; |\n",
       "|---|---|---|---|---|\n",
       "| noun_F | 42 | 0.3813301 | 1.277017 | 0.1970480 |\n",
       "| noun_M | 42 | 0.3340320 | 1.107382 | 0.1708728 |\n",
       "| verb_X | 42 | 0.3929957 | 1.149810 | 0.1774196 |\n",
       "\n"
      ],
      "text/plain": [
       "  cond0  N  valX_M    valX_SD  valX_SE  \n",
       "1 noun_F 42 0.3813301 1.277017 0.1970480\n",
       "2 noun_M 42 0.3340320 1.107382 0.1708728\n",
       "3 verb_X 42 0.3929957 1.149810 0.1774196"
      ]
     },
     "metadata": {},
     "output_type": "display_data"
    },
    {
     "data": {
      "text/markdown": [
       "### Expected marginal means"
      ]
     },
     "metadata": {},
     "output_type": "display_data"
    },
    {
     "data": {
      "text/html": [
       "<table>\n",
       "<caption>A apa_results_table: 3 × 5</caption>\n",
       "<thead>\n",
       "\t<tr><th></th><th scope=col>cond0</th><th scope=col>estimate</th><th scope=col>ci</th><th scope=col>statistic</th><th scope=col>p.value</th></tr>\n",
       "\t<tr><th></th><th scope=col>&lt;chr&gt;</th><th scope=col>&lt;ppj_lbll&gt;</th><th scope=col>&lt;ppj_lbll&gt;</th><th scope=col>&lt;ppj_lbll&gt;</th><th scope=col>&lt;ppj_lbll&gt;</th></tr>\n",
       "</thead>\n",
       "<tbody>\n",
       "\t<tr><th scope=row>noun_F</th><td>noun_F</td><td>0.38</td><td>$[0.02$, $0.75]$ </td><td>2.09</td><td>.041</td></tr>\n",
       "\t<tr><th scope=row>noun_M</th><td>noun_M</td><td>0.33</td><td>$[-0.03$, $0.70]$</td><td>1.83</td><td>.072</td></tr>\n",
       "\t<tr><th scope=row>verb_X</th><td>verb_X</td><td>0.39</td><td>$[0.03$, $0.76]$ </td><td>2.16</td><td>.035</td></tr>\n",
       "</tbody>\n",
       "</table>\n"
      ],
      "text/latex": [
       "A apa\\_results\\_table: 3 × 5\n",
       "\\begin{tabular}{r|lllll}\n",
       "  & cond0 & estimate & ci & statistic & p.value\\\\\n",
       "  & <chr> & <ppj\\_lbll> & <ppj\\_lbll> & <ppj\\_lbll> & <ppj\\_lbll>\\\\\n",
       "\\hline\n",
       "\tnoun\\_F & noun\\_F & 0.38 & \\${[}0.02\\$, \\$0.75{]}\\$  & 2.09 & .041\\\\\n",
       "\tnoun\\_M & noun\\_M & 0.33 & \\${[}-0.03\\$, \\$0.70{]}\\$ & 1.83 & .072\\\\\n",
       "\tverb\\_X & verb\\_X & 0.39 & \\${[}0.03\\$, \\$0.76{]}\\$  & 2.16 & .035\\\\\n",
       "\\end{tabular}\n"
      ],
      "text/markdown": [
       "\n",
       "A apa_results_table: 3 × 5\n",
       "\n",
       "| <!--/--> | cond0 &lt;chr&gt; | estimate &lt;ppj_lbll&gt; | ci &lt;ppj_lbll&gt; | statistic &lt;ppj_lbll&gt; | p.value &lt;ppj_lbll&gt; |\n",
       "|---|---|---|---|---|---|\n",
       "| noun_F | noun_F | 0.38 | $[0.02$, $0.75]$  | 2.09 | .041 |\n",
       "| noun_M | noun_M | 0.33 | $[-0.03$, $0.70]$ | 1.83 | .072 |\n",
       "| verb_X | verb_X | 0.39 | $[0.03$, $0.76]$  | 2.16 | .035 |\n",
       "\n"
      ],
      "text/plain": [
       "       cond0  estimate ci                statistic p.value\n",
       "noun_F noun_F 0.38     $[0.02$, $0.75]$  2.09      .041   \n",
       "noun_M noun_M 0.33     $[-0.03$, $0.70]$ 1.83      .072   \n",
       "verb_X verb_X 0.39     $[0.03$, $0.76]$  2.16      .035   "
      ]
     },
     "metadata": {},
     "output_type": "display_data"
    },
    {
     "data": {
      "text/markdown": [
       "### Paired comparisons for expected marginal means"
      ]
     },
     "metadata": {},
     "output_type": "display_data"
    },
    {
     "data": {
      "text/html": [
       "<table>\n",
       "<caption>A apa_results_table: 3 × 5</caption>\n",
       "<thead>\n",
       "\t<tr><th></th><th scope=col>contrast</th><th scope=col>estimate</th><th scope=col>ci</th><th scope=col>statistic</th><th scope=col>p.value</th></tr>\n",
       "\t<tr><th></th><th scope=col>&lt;ppj_lbll&gt;</th><th scope=col>&lt;ppj_lbll&gt;</th><th scope=col>&lt;ppj_lbll&gt;</th><th scope=col>&lt;ppj_lbll&gt;</th><th scope=col>&lt;ppj_lbll&gt;</th></tr>\n",
       "</thead>\n",
       "<tbody>\n",
       "\t<tr><th scope=row>noun_F_noun_M</th><td>noun_F - noun_M</td><td>0.05 </td><td>$[-0.22$, $0.31]$</td><td>0.42 </td><td>.906</td></tr>\n",
       "\t<tr><th scope=row>noun_F_verb_X</th><td>noun_F - verb_X</td><td>-0.01</td><td>$[-0.28$, $0.25]$</td><td>-0.10</td><td>.994</td></tr>\n",
       "\t<tr><th scope=row>noun_M_verb_X</th><td>noun_M - verb_X</td><td>-0.06</td><td>$[-0.33$, $0.21]$</td><td>-0.53</td><td>.858</td></tr>\n",
       "</tbody>\n",
       "</table>\n"
      ],
      "text/latex": [
       "A apa\\_results\\_table: 3 × 5\n",
       "\\begin{tabular}{r|lllll}\n",
       "  & contrast & estimate & ci & statistic & p.value\\\\\n",
       "  & <ppj\\_lbll> & <ppj\\_lbll> & <ppj\\_lbll> & <ppj\\_lbll> & <ppj\\_lbll>\\\\\n",
       "\\hline\n",
       "\tnoun\\_F\\_noun\\_M & noun\\_F - noun\\_M & 0.05  & \\${[}-0.22\\$, \\$0.31{]}\\$ & 0.42  & .906\\\\\n",
       "\tnoun\\_F\\_verb\\_X & noun\\_F - verb\\_X & -0.01 & \\${[}-0.28\\$, \\$0.25{]}\\$ & -0.10 & .994\\\\\n",
       "\tnoun\\_M\\_verb\\_X & noun\\_M - verb\\_X & -0.06 & \\${[}-0.33\\$, \\$0.21{]}\\$ & -0.53 & .858\\\\\n",
       "\\end{tabular}\n"
      ],
      "text/markdown": [
       "\n",
       "A apa_results_table: 3 × 5\n",
       "\n",
       "| <!--/--> | contrast &lt;ppj_lbll&gt; | estimate &lt;ppj_lbll&gt; | ci &lt;ppj_lbll&gt; | statistic &lt;ppj_lbll&gt; | p.value &lt;ppj_lbll&gt; |\n",
       "|---|---|---|---|---|---|\n",
       "| noun_F_noun_M | noun_F - noun_M | 0.05  | $[-0.22$, $0.31]$ | 0.42  | .906 |\n",
       "| noun_F_verb_X | noun_F - verb_X | -0.01 | $[-0.28$, $0.25]$ | -0.10 | .994 |\n",
       "| noun_M_verb_X | noun_M - verb_X | -0.06 | $[-0.33$, $0.21]$ | -0.53 | .858 |\n",
       "\n"
      ],
      "text/plain": [
       "              contrast        estimate ci                statistic p.value\n",
       "noun_F_noun_M noun_F - noun_M 0.05     $[-0.22$, $0.31]$ 0.42      .906   \n",
       "noun_F_verb_X noun_F - verb_X -0.01    $[-0.28$, $0.25]$ -0.10     .994   \n",
       "noun_M_verb_X noun_M - verb_X -0.06    $[-0.33$, $0.21]$ -0.53     .858   "
      ]
     },
     "metadata": {},
     "output_type": "display_data"
    }
   ],
   "source": [
    "IDX <- IDX+1; COND <- CONDS[IDX]\n",
    "data1 <- droplevels(subset(df1, eval(parse(text=COND)))); data1 <- data1[complete.cases(data1),]; done1 <- AOV4(data1,COND)\n",
    "display_markdown(str_c(\"# Condition \",IDX,\" of \",length(CONDS))); display_markdown(done1$info); display_markdown(\"### Table\"); done1$aov_APA$table; display_markdown(\"### Result\"); display_markdown(done1$aov_APA[[\"full_result\"]][[\"cond0\"]]); display_markdown(\"### Summary (all done1, incl. NANs)\"); done1$summary; display_markdown(\"### Expected marginal means\"); done1$emm_APA$table; display_markdown(\"### Paired comparisons for expected marginal means\"); done1$pairs_APA$table"
   ]
  },
  {
   "cell_type": "code",
   "execution_count": 171,
   "metadata": {},
   "outputs": [
    {
     "data": {
      "text/markdown": [
       "# Condition 4 of 72"
      ]
     },
     "metadata": {},
     "output_type": "display_data"
    },
    {
     "data": {
      "text/markdown": [
       "`tmin0==0.1 & chan0==\"RF\" & mode0==\"neg\"`"
      ]
     },
     "metadata": {},
     "output_type": "display_data"
    },
    {
     "data": {
      "text/markdown": [
       "### Table"
      ]
     },
     "metadata": {},
     "output_type": "display_data"
    },
    {
     "data": {
      "text/html": [
       "<table>\n",
       "<caption>A apa_results_table: 1 × 7</caption>\n",
       "<thead>\n",
       "\t<tr><th></th><th scope=col>Effect</th><th scope=col>F</th><th scope=col>df1</th><th scope=col>df2</th><th scope=col>MSE</th><th scope=col>p</th><th scope=col>ges</th></tr>\n",
       "\t<tr><th></th><th scope=col>&lt;ppj_lbll&gt;</th><th scope=col>&lt;ppj_lbll&gt;</th><th scope=col>&lt;ppj_lbll&gt;</th><th scope=col>&lt;ppj_lbll&gt;</th><th scope=col>&lt;ppj_lbll&gt;</th><th scope=col>&lt;ppj_lbll&gt;</th><th scope=col>&lt;ppj_lbll&gt;</th></tr>\n",
       "</thead>\n",
       "<tbody>\n",
       "\t<tr><th scope=row>1</th><td>Cond0</td><td>0.11</td><td>1.76</td><td>72.22</td><td>0.37</td><td>.870</td><td>.000</td></tr>\n",
       "</tbody>\n",
       "</table>\n"
      ],
      "text/latex": [
       "A apa\\_results\\_table: 1 × 7\n",
       "\\begin{tabular}{r|lllllll}\n",
       "  & Effect & F & df1 & df2 & MSE & p & ges\\\\\n",
       "  & <ppj\\_lbll> & <ppj\\_lbll> & <ppj\\_lbll> & <ppj\\_lbll> & <ppj\\_lbll> & <ppj\\_lbll> & <ppj\\_lbll>\\\\\n",
       "\\hline\n",
       "\t1 & Cond0 & 0.11 & 1.76 & 72.22 & 0.37 & .870 & .000\\\\\n",
       "\\end{tabular}\n"
      ],
      "text/markdown": [
       "\n",
       "A apa_results_table: 1 × 7\n",
       "\n",
       "| <!--/--> | Effect &lt;ppj_lbll&gt; | F &lt;ppj_lbll&gt; | df1 &lt;ppj_lbll&gt; | df2 &lt;ppj_lbll&gt; | MSE &lt;ppj_lbll&gt; | p &lt;ppj_lbll&gt; | ges &lt;ppj_lbll&gt; |\n",
       "|---|---|---|---|---|---|---|---|\n",
       "| 1 | Cond0 | 0.11 | 1.76 | 72.22 | 0.37 | .870 | .000 |\n",
       "\n"
      ],
      "text/plain": [
       "  Effect F    df1  df2   MSE  p    ges \n",
       "1 Cond0  0.11 1.76 72.22 0.37 .870 .000"
      ]
     },
     "metadata": {},
     "output_type": "display_data"
    },
    {
     "data": {
      "text/markdown": [
       "### Result"
      ]
     },
     "metadata": {},
     "output_type": "display_data"
    },
    {
     "data": {
      "text/markdown": [
       "$F(1.76, 72.22) = 0.11$, $\\mathit{MSE} = 0.37$, $p = .870$, $\\hat{\\eta}^2_G = .000$"
      ]
     },
     "metadata": {},
     "output_type": "display_data"
    },
    {
     "data": {
      "text/markdown": [
       "### Summary (all done1, incl. NANs)"
      ]
     },
     "metadata": {},
     "output_type": "display_data"
    },
    {
     "data": {
      "text/html": [
       "<table>\n",
       "<caption>A tibble: 3 × 5</caption>\n",
       "<thead>\n",
       "\t<tr><th scope=col>cond0</th><th scope=col>N</th><th scope=col>valX_M</th><th scope=col>valX_SD</th><th scope=col>valX_SE</th></tr>\n",
       "\t<tr><th scope=col>&lt;fct&gt;</th><th scope=col>&lt;int&gt;</th><th scope=col>&lt;dbl&gt;</th><th scope=col>&lt;dbl&gt;</th><th scope=col>&lt;dbl&gt;</th></tr>\n",
       "</thead>\n",
       "<tbody>\n",
       "\t<tr><td>noun_F</td><td>42</td><td>-3.014649</td><td>1.353080</td><td>0.2087848</td></tr>\n",
       "\t<tr><td>noun_M</td><td>42</td><td>-3.048192</td><td>1.399786</td><td>0.2159917</td></tr>\n",
       "\t<tr><td>verb_X</td><td>42</td><td>-2.988902</td><td>1.490371</td><td>0.2299692</td></tr>\n",
       "</tbody>\n",
       "</table>\n"
      ],
      "text/latex": [
       "A tibble: 3 × 5\n",
       "\\begin{tabular}{lllll}\n",
       " cond0 & N & valX\\_M & valX\\_SD & valX\\_SE\\\\\n",
       " <fct> & <int> & <dbl> & <dbl> & <dbl>\\\\\n",
       "\\hline\n",
       "\t noun\\_F & 42 & -3.014649 & 1.353080 & 0.2087848\\\\\n",
       "\t noun\\_M & 42 & -3.048192 & 1.399786 & 0.2159917\\\\\n",
       "\t verb\\_X & 42 & -2.988902 & 1.490371 & 0.2299692\\\\\n",
       "\\end{tabular}\n"
      ],
      "text/markdown": [
       "\n",
       "A tibble: 3 × 5\n",
       "\n",
       "| cond0 &lt;fct&gt; | N &lt;int&gt; | valX_M &lt;dbl&gt; | valX_SD &lt;dbl&gt; | valX_SE &lt;dbl&gt; |\n",
       "|---|---|---|---|---|\n",
       "| noun_F | 42 | -3.014649 | 1.353080 | 0.2087848 |\n",
       "| noun_M | 42 | -3.048192 | 1.399786 | 0.2159917 |\n",
       "| verb_X | 42 | -2.988902 | 1.490371 | 0.2299692 |\n",
       "\n"
      ],
      "text/plain": [
       "  cond0  N  valX_M    valX_SD  valX_SE  \n",
       "1 noun_F 42 -3.014649 1.353080 0.2087848\n",
       "2 noun_M 42 -3.048192 1.399786 0.2159917\n",
       "3 verb_X 42 -2.988902 1.490371 0.2299692"
      ]
     },
     "metadata": {},
     "output_type": "display_data"
    },
    {
     "data": {
      "text/markdown": [
       "### Expected marginal means"
      ]
     },
     "metadata": {},
     "output_type": "display_data"
    },
    {
     "data": {
      "text/html": [
       "<table>\n",
       "<caption>A apa_results_table: 3 × 5</caption>\n",
       "<thead>\n",
       "\t<tr><th></th><th scope=col>cond0</th><th scope=col>estimate</th><th scope=col>ci</th><th scope=col>statistic</th><th scope=col>p.value</th></tr>\n",
       "\t<tr><th></th><th scope=col>&lt;chr&gt;</th><th scope=col>&lt;ppj_lbll&gt;</th><th scope=col>&lt;ppj_lbll&gt;</th><th scope=col>&lt;ppj_lbll&gt;</th><th scope=col>&lt;ppj_lbll&gt;</th></tr>\n",
       "</thead>\n",
       "<tbody>\n",
       "\t<tr><th scope=row>noun_F</th><td>noun_F</td><td>-3.01</td><td>$[-3.45$, $-2.58]$</td><td>-13.80</td><td>&lt; .001</td></tr>\n",
       "\t<tr><th scope=row>noun_M</th><td>noun_M</td><td>-3.05</td><td>$[-3.49$, $-2.61]$</td><td>-13.96</td><td>&lt; .001</td></tr>\n",
       "\t<tr><th scope=row>verb_X</th><td>verb_X</td><td>-2.99</td><td>$[-3.43$, $-2.55]$</td><td>-13.68</td><td>&lt; .001</td></tr>\n",
       "</tbody>\n",
       "</table>\n"
      ],
      "text/latex": [
       "A apa\\_results\\_table: 3 × 5\n",
       "\\begin{tabular}{r|lllll}\n",
       "  & cond0 & estimate & ci & statistic & p.value\\\\\n",
       "  & <chr> & <ppj\\_lbll> & <ppj\\_lbll> & <ppj\\_lbll> & <ppj\\_lbll>\\\\\n",
       "\\hline\n",
       "\tnoun\\_F & noun\\_F & -3.01 & \\${[}-3.45\\$, \\$-2.58{]}\\$ & -13.80 & < .001\\\\\n",
       "\tnoun\\_M & noun\\_M & -3.05 & \\${[}-3.49\\$, \\$-2.61{]}\\$ & -13.96 & < .001\\\\\n",
       "\tverb\\_X & verb\\_X & -2.99 & \\${[}-3.43\\$, \\$-2.55{]}\\$ & -13.68 & < .001\\\\\n",
       "\\end{tabular}\n"
      ],
      "text/markdown": [
       "\n",
       "A apa_results_table: 3 × 5\n",
       "\n",
       "| <!--/--> | cond0 &lt;chr&gt; | estimate &lt;ppj_lbll&gt; | ci &lt;ppj_lbll&gt; | statistic &lt;ppj_lbll&gt; | p.value &lt;ppj_lbll&gt; |\n",
       "|---|---|---|---|---|---|\n",
       "| noun_F | noun_F | -3.01 | $[-3.45$, $-2.58]$ | -13.80 | &lt; .001 |\n",
       "| noun_M | noun_M | -3.05 | $[-3.49$, $-2.61]$ | -13.96 | &lt; .001 |\n",
       "| verb_X | verb_X | -2.99 | $[-3.43$, $-2.55]$ | -13.68 | &lt; .001 |\n",
       "\n"
      ],
      "text/plain": [
       "       cond0  estimate ci                 statistic p.value\n",
       "noun_F noun_F -3.01    $[-3.45$, $-2.58]$ -13.80    < .001 \n",
       "noun_M noun_M -3.05    $[-3.49$, $-2.61]$ -13.96    < .001 \n",
       "verb_X verb_X -2.99    $[-3.43$, $-2.55]$ -13.68    < .001 "
      ]
     },
     "metadata": {},
     "output_type": "display_data"
    },
    {
     "data": {
      "text/markdown": [
       "### Paired comparisons for expected marginal means"
      ]
     },
     "metadata": {},
     "output_type": "display_data"
    },
    {
     "data": {
      "text/html": [
       "<table>\n",
       "<caption>A apa_results_table: 3 × 5</caption>\n",
       "<thead>\n",
       "\t<tr><th></th><th scope=col>contrast</th><th scope=col>estimate</th><th scope=col>ci</th><th scope=col>statistic</th><th scope=col>p.value</th></tr>\n",
       "\t<tr><th></th><th scope=col>&lt;ppj_lbll&gt;</th><th scope=col>&lt;ppj_lbll&gt;</th><th scope=col>&lt;ppj_lbll&gt;</th><th scope=col>&lt;ppj_lbll&gt;</th><th scope=col>&lt;ppj_lbll&gt;</th></tr>\n",
       "</thead>\n",
       "<tbody>\n",
       "\t<tr><th scope=row>noun_F_noun_M</th><td>noun_F - noun_M</td><td>0.03 </td><td>$[-0.27$, $0.33]$</td><td>0.27 </td><td>.961</td></tr>\n",
       "\t<tr><th scope=row>noun_F_verb_X</th><td>noun_F - verb_X</td><td>-0.03</td><td>$[-0.32$, $0.27]$</td><td>-0.21</td><td>.977</td></tr>\n",
       "\t<tr><th scope=row>noun_M_verb_X</th><td>noun_M - verb_X</td><td>-0.06</td><td>$[-0.36$, $0.24]$</td><td>-0.47</td><td>.884</td></tr>\n",
       "</tbody>\n",
       "</table>\n"
      ],
      "text/latex": [
       "A apa\\_results\\_table: 3 × 5\n",
       "\\begin{tabular}{r|lllll}\n",
       "  & contrast & estimate & ci & statistic & p.value\\\\\n",
       "  & <ppj\\_lbll> & <ppj\\_lbll> & <ppj\\_lbll> & <ppj\\_lbll> & <ppj\\_lbll>\\\\\n",
       "\\hline\n",
       "\tnoun\\_F\\_noun\\_M & noun\\_F - noun\\_M & 0.03  & \\${[}-0.27\\$, \\$0.33{]}\\$ & 0.27  & .961\\\\\n",
       "\tnoun\\_F\\_verb\\_X & noun\\_F - verb\\_X & -0.03 & \\${[}-0.32\\$, \\$0.27{]}\\$ & -0.21 & .977\\\\\n",
       "\tnoun\\_M\\_verb\\_X & noun\\_M - verb\\_X & -0.06 & \\${[}-0.36\\$, \\$0.24{]}\\$ & -0.47 & .884\\\\\n",
       "\\end{tabular}\n"
      ],
      "text/markdown": [
       "\n",
       "A apa_results_table: 3 × 5\n",
       "\n",
       "| <!--/--> | contrast &lt;ppj_lbll&gt; | estimate &lt;ppj_lbll&gt; | ci &lt;ppj_lbll&gt; | statistic &lt;ppj_lbll&gt; | p.value &lt;ppj_lbll&gt; |\n",
       "|---|---|---|---|---|---|\n",
       "| noun_F_noun_M | noun_F - noun_M | 0.03  | $[-0.27$, $0.33]$ | 0.27  | .961 |\n",
       "| noun_F_verb_X | noun_F - verb_X | -0.03 | $[-0.32$, $0.27]$ | -0.21 | .977 |\n",
       "| noun_M_verb_X | noun_M - verb_X | -0.06 | $[-0.36$, $0.24]$ | -0.47 | .884 |\n",
       "\n"
      ],
      "text/plain": [
       "              contrast        estimate ci                statistic p.value\n",
       "noun_F_noun_M noun_F - noun_M 0.03     $[-0.27$, $0.33]$ 0.27      .961   \n",
       "noun_F_verb_X noun_F - verb_X -0.03    $[-0.32$, $0.27]$ -0.21     .977   \n",
       "noun_M_verb_X noun_M - verb_X -0.06    $[-0.36$, $0.24]$ -0.47     .884   "
      ]
     },
     "metadata": {},
     "output_type": "display_data"
    }
   ],
   "source": [
    "IDX <- IDX+1; COND <- CONDS[IDX]\n",
    "data1 <- droplevels(subset(df1, eval(parse(text=COND)))); data1 <- data1[complete.cases(data1),]; done1 <- AOV4(data1,COND)\n",
    "display_markdown(str_c(\"# Condition \",IDX,\" of \",length(CONDS))); display_markdown(done1$info); display_markdown(\"### Table\"); done1$aov_APA$table; display_markdown(\"### Result\"); display_markdown(done1$aov_APA[[\"full_result\"]][[\"cond0\"]]); display_markdown(\"### Summary (all done1, incl. NANs)\"); done1$summary; display_markdown(\"### Expected marginal means\"); done1$emm_APA$table; display_markdown(\"### Paired comparisons for expected marginal means\"); done1$pairs_APA$table"
   ]
  },
  {
   "cell_type": "code",
   "execution_count": 172,
   "metadata": {},
   "outputs": [
    {
     "data": {
      "text/markdown": [
       "# Condition 5 of 72"
      ]
     },
     "metadata": {},
     "output_type": "display_data"
    },
    {
     "data": {
      "text/markdown": [
       "`tmin0==0.1 & chan0==\"LC\" & mode0==\"pos\"`"
      ]
     },
     "metadata": {},
     "output_type": "display_data"
    },
    {
     "data": {
      "text/markdown": [
       "### Table"
      ]
     },
     "metadata": {},
     "output_type": "display_data"
    },
    {
     "data": {
      "text/html": [
       "<table>\n",
       "<caption>A apa_results_table: 1 × 7</caption>\n",
       "<thead>\n",
       "\t<tr><th></th><th scope=col>Effect</th><th scope=col>F</th><th scope=col>df1</th><th scope=col>df2</th><th scope=col>MSE</th><th scope=col>p</th><th scope=col>ges</th></tr>\n",
       "\t<tr><th></th><th scope=col>&lt;ppj_lbll&gt;</th><th scope=col>&lt;ppj_lbll&gt;</th><th scope=col>&lt;ppj_lbll&gt;</th><th scope=col>&lt;ppj_lbll&gt;</th><th scope=col>&lt;ppj_lbll&gt;</th><th scope=col>&lt;ppj_lbll&gt;</th><th scope=col>&lt;ppj_lbll&gt;</th></tr>\n",
       "</thead>\n",
       "<tbody>\n",
       "\t<tr><th scope=row>1</th><td>Cond0</td><td>2.09</td><td>1.70</td><td>69.78</td><td>0.22</td><td>.139</td><td>.007</td></tr>\n",
       "</tbody>\n",
       "</table>\n"
      ],
      "text/latex": [
       "A apa\\_results\\_table: 1 × 7\n",
       "\\begin{tabular}{r|lllllll}\n",
       "  & Effect & F & df1 & df2 & MSE & p & ges\\\\\n",
       "  & <ppj\\_lbll> & <ppj\\_lbll> & <ppj\\_lbll> & <ppj\\_lbll> & <ppj\\_lbll> & <ppj\\_lbll> & <ppj\\_lbll>\\\\\n",
       "\\hline\n",
       "\t1 & Cond0 & 2.09 & 1.70 & 69.78 & 0.22 & .139 & .007\\\\\n",
       "\\end{tabular}\n"
      ],
      "text/markdown": [
       "\n",
       "A apa_results_table: 1 × 7\n",
       "\n",
       "| <!--/--> | Effect &lt;ppj_lbll&gt; | F &lt;ppj_lbll&gt; | df1 &lt;ppj_lbll&gt; | df2 &lt;ppj_lbll&gt; | MSE &lt;ppj_lbll&gt; | p &lt;ppj_lbll&gt; | ges &lt;ppj_lbll&gt; |\n",
       "|---|---|---|---|---|---|---|---|\n",
       "| 1 | Cond0 | 2.09 | 1.70 | 69.78 | 0.22 | .139 | .007 |\n",
       "\n"
      ],
      "text/plain": [
       "  Effect F    df1  df2   MSE  p    ges \n",
       "1 Cond0  2.09 1.70 69.78 0.22 .139 .007"
      ]
     },
     "metadata": {},
     "output_type": "display_data"
    },
    {
     "data": {
      "text/markdown": [
       "### Result"
      ]
     },
     "metadata": {},
     "output_type": "display_data"
    },
    {
     "data": {
      "text/markdown": [
       "$F(1.70, 69.78) = 2.09$, $\\mathit{MSE} = 0.22$, $p = .139$, $\\hat{\\eta}^2_G = .007$"
      ]
     },
     "metadata": {},
     "output_type": "display_data"
    },
    {
     "data": {
      "text/markdown": [
       "### Summary (all done1, incl. NANs)"
      ]
     },
     "metadata": {},
     "output_type": "display_data"
    },
    {
     "data": {
      "text/html": [
       "<table>\n",
       "<caption>A tibble: 3 × 5</caption>\n",
       "<thead>\n",
       "\t<tr><th scope=col>cond0</th><th scope=col>N</th><th scope=col>valX_M</th><th scope=col>valX_SD</th><th scope=col>valX_SE</th></tr>\n",
       "\t<tr><th scope=col>&lt;fct&gt;</th><th scope=col>&lt;int&gt;</th><th scope=col>&lt;dbl&gt;</th><th scope=col>&lt;dbl&gt;</th><th scope=col>&lt;dbl&gt;</th></tr>\n",
       "</thead>\n",
       "<tbody>\n",
       "\t<tr><td>noun_F</td><td>42</td><td>1.1275563</td><td>0.9902205</td><td>0.1527943</td></tr>\n",
       "\t<tr><td>noun_M</td><td>42</td><td>0.9490766</td><td>0.8701118</td><td>0.1342612</td></tr>\n",
       "\t<tr><td>verb_X</td><td>42</td><td>0.9765251</td><td>1.0187853</td><td>0.1572020</td></tr>\n",
       "</tbody>\n",
       "</table>\n"
      ],
      "text/latex": [
       "A tibble: 3 × 5\n",
       "\\begin{tabular}{lllll}\n",
       " cond0 & N & valX\\_M & valX\\_SD & valX\\_SE\\\\\n",
       " <fct> & <int> & <dbl> & <dbl> & <dbl>\\\\\n",
       "\\hline\n",
       "\t noun\\_F & 42 & 1.1275563 & 0.9902205 & 0.1527943\\\\\n",
       "\t noun\\_M & 42 & 0.9490766 & 0.8701118 & 0.1342612\\\\\n",
       "\t verb\\_X & 42 & 0.9765251 & 1.0187853 & 0.1572020\\\\\n",
       "\\end{tabular}\n"
      ],
      "text/markdown": [
       "\n",
       "A tibble: 3 × 5\n",
       "\n",
       "| cond0 &lt;fct&gt; | N &lt;int&gt; | valX_M &lt;dbl&gt; | valX_SD &lt;dbl&gt; | valX_SE &lt;dbl&gt; |\n",
       "|---|---|---|---|---|\n",
       "| noun_F | 42 | 1.1275563 | 0.9902205 | 0.1527943 |\n",
       "| noun_M | 42 | 0.9490766 | 0.8701118 | 0.1342612 |\n",
       "| verb_X | 42 | 0.9765251 | 1.0187853 | 0.1572020 |\n",
       "\n"
      ],
      "text/plain": [
       "  cond0  N  valX_M    valX_SD   valX_SE  \n",
       "1 noun_F 42 1.1275563 0.9902205 0.1527943\n",
       "2 noun_M 42 0.9490766 0.8701118 0.1342612\n",
       "3 verb_X 42 0.9765251 1.0187853 0.1572020"
      ]
     },
     "metadata": {},
     "output_type": "display_data"
    },
    {
     "data": {
      "text/markdown": [
       "### Expected marginal means"
      ]
     },
     "metadata": {},
     "output_type": "display_data"
    },
    {
     "data": {
      "text/html": [
       "<table>\n",
       "<caption>A apa_results_table: 3 × 5</caption>\n",
       "<thead>\n",
       "\t<tr><th></th><th scope=col>cond0</th><th scope=col>estimate</th><th scope=col>ci</th><th scope=col>statistic</th><th scope=col>p.value</th></tr>\n",
       "\t<tr><th></th><th scope=col>&lt;chr&gt;</th><th scope=col>&lt;ppj_lbll&gt;</th><th scope=col>&lt;ppj_lbll&gt;</th><th scope=col>&lt;ppj_lbll&gt;</th><th scope=col>&lt;ppj_lbll&gt;</th></tr>\n",
       "</thead>\n",
       "<tbody>\n",
       "\t<tr><th scope=row>noun_F</th><td>noun_F</td><td>1.13</td><td>$[0.83$, $1.43]$</td><td>7.60</td><td>&lt; .001</td></tr>\n",
       "\t<tr><th scope=row>noun_M</th><td>noun_M</td><td>0.95</td><td>$[0.65$, $1.25]$</td><td>6.39</td><td>&lt; .001</td></tr>\n",
       "\t<tr><th scope=row>verb_X</th><td>verb_X</td><td>0.98</td><td>$[0.68$, $1.27]$</td><td>6.58</td><td>&lt; .001</td></tr>\n",
       "</tbody>\n",
       "</table>\n"
      ],
      "text/latex": [
       "A apa\\_results\\_table: 3 × 5\n",
       "\\begin{tabular}{r|lllll}\n",
       "  & cond0 & estimate & ci & statistic & p.value\\\\\n",
       "  & <chr> & <ppj\\_lbll> & <ppj\\_lbll> & <ppj\\_lbll> & <ppj\\_lbll>\\\\\n",
       "\\hline\n",
       "\tnoun\\_F & noun\\_F & 1.13 & \\${[}0.83\\$, \\$1.43{]}\\$ & 7.60 & < .001\\\\\n",
       "\tnoun\\_M & noun\\_M & 0.95 & \\${[}0.65\\$, \\$1.25{]}\\$ & 6.39 & < .001\\\\\n",
       "\tverb\\_X & verb\\_X & 0.98 & \\${[}0.68\\$, \\$1.27{]}\\$ & 6.58 & < .001\\\\\n",
       "\\end{tabular}\n"
      ],
      "text/markdown": [
       "\n",
       "A apa_results_table: 3 × 5\n",
       "\n",
       "| <!--/--> | cond0 &lt;chr&gt; | estimate &lt;ppj_lbll&gt; | ci &lt;ppj_lbll&gt; | statistic &lt;ppj_lbll&gt; | p.value &lt;ppj_lbll&gt; |\n",
       "|---|---|---|---|---|---|\n",
       "| noun_F | noun_F | 1.13 | $[0.83$, $1.43]$ | 7.60 | &lt; .001 |\n",
       "| noun_M | noun_M | 0.95 | $[0.65$, $1.25]$ | 6.39 | &lt; .001 |\n",
       "| verb_X | verb_X | 0.98 | $[0.68$, $1.27]$ | 6.58 | &lt; .001 |\n",
       "\n"
      ],
      "text/plain": [
       "       cond0  estimate ci               statistic p.value\n",
       "noun_F noun_F 1.13     $[0.83$, $1.43]$ 7.60      < .001 \n",
       "noun_M noun_M 0.95     $[0.65$, $1.25]$ 6.39      < .001 \n",
       "verb_X verb_X 0.98     $[0.68$, $1.27]$ 6.58      < .001 "
      ]
     },
     "metadata": {},
     "output_type": "display_data"
    },
    {
     "data": {
      "text/markdown": [
       "### Paired comparisons for expected marginal means"
      ]
     },
     "metadata": {},
     "output_type": "display_data"
    },
    {
     "data": {
      "text/html": [
       "<table>\n",
       "<caption>A apa_results_table: 3 × 5</caption>\n",
       "<thead>\n",
       "\t<tr><th></th><th scope=col>contrast</th><th scope=col>estimate</th><th scope=col>ci</th><th scope=col>statistic</th><th scope=col>p.value</th></tr>\n",
       "\t<tr><th></th><th scope=col>&lt;ppj_lbll&gt;</th><th scope=col>&lt;ppj_lbll&gt;</th><th scope=col>&lt;ppj_lbll&gt;</th><th scope=col>&lt;ppj_lbll&gt;</th><th scope=col>&lt;ppj_lbll&gt;</th></tr>\n",
       "</thead>\n",
       "<tbody>\n",
       "\t<tr><th scope=row>noun_F_noun_M</th><td>noun_F - noun_M</td><td>0.18 </td><td>$[-0.05$, $0.40]$</td><td>1.90 </td><td>.146</td></tr>\n",
       "\t<tr><th scope=row>noun_F_verb_X</th><td>noun_F - verb_X</td><td>0.15 </td><td>$[-0.07$, $0.38]$</td><td>1.61 </td><td>.249</td></tr>\n",
       "\t<tr><th scope=row>noun_M_verb_X</th><td>noun_M - verb_X</td><td>-0.03</td><td>$[-0.25$, $0.20]$</td><td>-0.29</td><td>.954</td></tr>\n",
       "</tbody>\n",
       "</table>\n"
      ],
      "text/latex": [
       "A apa\\_results\\_table: 3 × 5\n",
       "\\begin{tabular}{r|lllll}\n",
       "  & contrast & estimate & ci & statistic & p.value\\\\\n",
       "  & <ppj\\_lbll> & <ppj\\_lbll> & <ppj\\_lbll> & <ppj\\_lbll> & <ppj\\_lbll>\\\\\n",
       "\\hline\n",
       "\tnoun\\_F\\_noun\\_M & noun\\_F - noun\\_M & 0.18  & \\${[}-0.05\\$, \\$0.40{]}\\$ & 1.90  & .146\\\\\n",
       "\tnoun\\_F\\_verb\\_X & noun\\_F - verb\\_X & 0.15  & \\${[}-0.07\\$, \\$0.38{]}\\$ & 1.61  & .249\\\\\n",
       "\tnoun\\_M\\_verb\\_X & noun\\_M - verb\\_X & -0.03 & \\${[}-0.25\\$, \\$0.20{]}\\$ & -0.29 & .954\\\\\n",
       "\\end{tabular}\n"
      ],
      "text/markdown": [
       "\n",
       "A apa_results_table: 3 × 5\n",
       "\n",
       "| <!--/--> | contrast &lt;ppj_lbll&gt; | estimate &lt;ppj_lbll&gt; | ci &lt;ppj_lbll&gt; | statistic &lt;ppj_lbll&gt; | p.value &lt;ppj_lbll&gt; |\n",
       "|---|---|---|---|---|---|\n",
       "| noun_F_noun_M | noun_F - noun_M | 0.18  | $[-0.05$, $0.40]$ | 1.90  | .146 |\n",
       "| noun_F_verb_X | noun_F - verb_X | 0.15  | $[-0.07$, $0.38]$ | 1.61  | .249 |\n",
       "| noun_M_verb_X | noun_M - verb_X | -0.03 | $[-0.25$, $0.20]$ | -0.29 | .954 |\n",
       "\n"
      ],
      "text/plain": [
       "              contrast        estimate ci                statistic p.value\n",
       "noun_F_noun_M noun_F - noun_M 0.18     $[-0.05$, $0.40]$ 1.90      .146   \n",
       "noun_F_verb_X noun_F - verb_X 0.15     $[-0.07$, $0.38]$ 1.61      .249   \n",
       "noun_M_verb_X noun_M - verb_X -0.03    $[-0.25$, $0.20]$ -0.29     .954   "
      ]
     },
     "metadata": {},
     "output_type": "display_data"
    }
   ],
   "source": [
    "IDX <- IDX+1; COND <- CONDS[IDX]\n",
    "data1 <- droplevels(subset(df1, eval(parse(text=COND)))); data1 <- data1[complete.cases(data1),]; done1 <- AOV4(data1,COND)\n",
    "display_markdown(str_c(\"# Condition \",IDX,\" of \",length(CONDS))); display_markdown(done1$info); display_markdown(\"### Table\"); done1$aov_APA$table; display_markdown(\"### Result\"); display_markdown(done1$aov_APA[[\"full_result\"]][[\"cond0\"]]); display_markdown(\"### Summary (all done1, incl. NANs)\"); done1$summary; display_markdown(\"### Expected marginal means\"); done1$emm_APA$table; display_markdown(\"### Paired comparisons for expected marginal means\"); done1$pairs_APA$table"
   ]
  },
  {
   "cell_type": "code",
   "execution_count": 173,
   "metadata": {},
   "outputs": [
    {
     "name": "stderr",
     "output_type": "stream",
     "text": [
      "Warning message in summary.Anova.mlm(x$Anova):\n",
      "“HF eps > 1 treated as 1”\n"
     ]
    },
    {
     "data": {
      "text/markdown": [
       "# Condition 6 of 72"
      ]
     },
     "metadata": {},
     "output_type": "display_data"
    },
    {
     "data": {
      "text/markdown": [
       "`tmin0==0.1 & chan0==\"LC\" & mode0==\"neg\"`"
      ]
     },
     "metadata": {},
     "output_type": "display_data"
    },
    {
     "data": {
      "text/markdown": [
       "### Table"
      ]
     },
     "metadata": {},
     "output_type": "display_data"
    },
    {
     "data": {
      "text/html": [
       "<table>\n",
       "<caption>A apa_results_table: 1 × 7</caption>\n",
       "<thead>\n",
       "\t<tr><th></th><th scope=col>Effect</th><th scope=col>F</th><th scope=col>df1</th><th scope=col>df2</th><th scope=col>MSE</th><th scope=col>p</th><th scope=col>ges</th></tr>\n",
       "\t<tr><th></th><th scope=col>&lt;ppj_lbll&gt;</th><th scope=col>&lt;ppj_lbll&gt;</th><th scope=col>&lt;ppj_lbll&gt;</th><th scope=col>&lt;ppj_lbll&gt;</th><th scope=col>&lt;ppj_lbll&gt;</th><th scope=col>&lt;ppj_lbll&gt;</th><th scope=col>&lt;ppj_lbll&gt;</th></tr>\n",
       "</thead>\n",
       "<tbody>\n",
       "\t<tr><th scope=row>1</th><td>Cond0</td><td>3.65</td><td>1.94</td><td>79.39</td><td>0.13</td><td>.032</td><td>.011</td></tr>\n",
       "</tbody>\n",
       "</table>\n"
      ],
      "text/latex": [
       "A apa\\_results\\_table: 1 × 7\n",
       "\\begin{tabular}{r|lllllll}\n",
       "  & Effect & F & df1 & df2 & MSE & p & ges\\\\\n",
       "  & <ppj\\_lbll> & <ppj\\_lbll> & <ppj\\_lbll> & <ppj\\_lbll> & <ppj\\_lbll> & <ppj\\_lbll> & <ppj\\_lbll>\\\\\n",
       "\\hline\n",
       "\t1 & Cond0 & 3.65 & 1.94 & 79.39 & 0.13 & .032 & .011\\\\\n",
       "\\end{tabular}\n"
      ],
      "text/markdown": [
       "\n",
       "A apa_results_table: 1 × 7\n",
       "\n",
       "| <!--/--> | Effect &lt;ppj_lbll&gt; | F &lt;ppj_lbll&gt; | df1 &lt;ppj_lbll&gt; | df2 &lt;ppj_lbll&gt; | MSE &lt;ppj_lbll&gt; | p &lt;ppj_lbll&gt; | ges &lt;ppj_lbll&gt; |\n",
       "|---|---|---|---|---|---|---|---|\n",
       "| 1 | Cond0 | 3.65 | 1.94 | 79.39 | 0.13 | .032 | .011 |\n",
       "\n"
      ],
      "text/plain": [
       "  Effect F    df1  df2   MSE  p    ges \n",
       "1 Cond0  3.65 1.94 79.39 0.13 .032 .011"
      ]
     },
     "metadata": {},
     "output_type": "display_data"
    },
    {
     "data": {
      "text/markdown": [
       "### Result"
      ]
     },
     "metadata": {},
     "output_type": "display_data"
    },
    {
     "data": {
      "text/markdown": [
       "$F(1.94, 79.39) = 3.65$, $\\mathit{MSE} = 0.13$, $p = .032$, $\\hat{\\eta}^2_G = .011$"
      ]
     },
     "metadata": {},
     "output_type": "display_data"
    },
    {
     "data": {
      "text/markdown": [
       "### Summary (all done1, incl. NANs)"
      ]
     },
     "metadata": {},
     "output_type": "display_data"
    },
    {
     "data": {
      "text/html": [
       "<table>\n",
       "<caption>A tibble: 3 × 5</caption>\n",
       "<thead>\n",
       "\t<tr><th scope=col>cond0</th><th scope=col>N</th><th scope=col>valX_M</th><th scope=col>valX_SD</th><th scope=col>valX_SE</th></tr>\n",
       "\t<tr><th scope=col>&lt;fct&gt;</th><th scope=col>&lt;int&gt;</th><th scope=col>&lt;dbl&gt;</th><th scope=col>&lt;dbl&gt;</th><th scope=col>&lt;dbl&gt;</th></tr>\n",
       "</thead>\n",
       "<tbody>\n",
       "\t<tr><td>noun_F</td><td>42</td><td>-1.029579</td><td>0.8369821</td><td>0.1291491</td></tr>\n",
       "\t<tr><td>noun_M</td><td>42</td><td>-1.187889</td><td>0.8056964</td><td>0.1243216</td></tr>\n",
       "\t<tr><td>verb_X</td><td>42</td><td>-0.986402</td><td>0.8313299</td><td>0.1282770</td></tr>\n",
       "</tbody>\n",
       "</table>\n"
      ],
      "text/latex": [
       "A tibble: 3 × 5\n",
       "\\begin{tabular}{lllll}\n",
       " cond0 & N & valX\\_M & valX\\_SD & valX\\_SE\\\\\n",
       " <fct> & <int> & <dbl> & <dbl> & <dbl>\\\\\n",
       "\\hline\n",
       "\t noun\\_F & 42 & -1.029579 & 0.8369821 & 0.1291491\\\\\n",
       "\t noun\\_M & 42 & -1.187889 & 0.8056964 & 0.1243216\\\\\n",
       "\t verb\\_X & 42 & -0.986402 & 0.8313299 & 0.1282770\\\\\n",
       "\\end{tabular}\n"
      ],
      "text/markdown": [
       "\n",
       "A tibble: 3 × 5\n",
       "\n",
       "| cond0 &lt;fct&gt; | N &lt;int&gt; | valX_M &lt;dbl&gt; | valX_SD &lt;dbl&gt; | valX_SE &lt;dbl&gt; |\n",
       "|---|---|---|---|---|\n",
       "| noun_F | 42 | -1.029579 | 0.8369821 | 0.1291491 |\n",
       "| noun_M | 42 | -1.187889 | 0.8056964 | 0.1243216 |\n",
       "| verb_X | 42 | -0.986402 | 0.8313299 | 0.1282770 |\n",
       "\n"
      ],
      "text/plain": [
       "  cond0  N  valX_M    valX_SD   valX_SE  \n",
       "1 noun_F 42 -1.029579 0.8369821 0.1291491\n",
       "2 noun_M 42 -1.187889 0.8056964 0.1243216\n",
       "3 verb_X 42 -0.986402 0.8313299 0.1282770"
      ]
     },
     "metadata": {},
     "output_type": "display_data"
    },
    {
     "data": {
      "text/markdown": [
       "### Expected marginal means"
      ]
     },
     "metadata": {},
     "output_type": "display_data"
    },
    {
     "data": {
      "text/html": [
       "<table>\n",
       "<caption>A apa_results_table: 3 × 5</caption>\n",
       "<thead>\n",
       "\t<tr><th></th><th scope=col>cond0</th><th scope=col>estimate</th><th scope=col>ci</th><th scope=col>statistic</th><th scope=col>p.value</th></tr>\n",
       "\t<tr><th></th><th scope=col>&lt;chr&gt;</th><th scope=col>&lt;ppj_lbll&gt;</th><th scope=col>&lt;ppj_lbll&gt;</th><th scope=col>&lt;ppj_lbll&gt;</th><th scope=col>&lt;ppj_lbll&gt;</th></tr>\n",
       "</thead>\n",
       "<tbody>\n",
       "\t<tr><th scope=row>noun_F</th><td>noun_F</td><td>-1.03</td><td>$[-1.28$, $-0.77]$</td><td>-8.09</td><td>&lt; .001</td></tr>\n",
       "\t<tr><th scope=row>noun_M</th><td>noun_M</td><td>-1.19</td><td>$[-1.44$, $-0.93]$</td><td>-9.33</td><td>&lt; .001</td></tr>\n",
       "\t<tr><th scope=row>verb_X</th><td>verb_X</td><td>-0.99</td><td>$[-1.24$, $-0.73]$</td><td>-7.75</td><td>&lt; .001</td></tr>\n",
       "</tbody>\n",
       "</table>\n"
      ],
      "text/latex": [
       "A apa\\_results\\_table: 3 × 5\n",
       "\\begin{tabular}{r|lllll}\n",
       "  & cond0 & estimate & ci & statistic & p.value\\\\\n",
       "  & <chr> & <ppj\\_lbll> & <ppj\\_lbll> & <ppj\\_lbll> & <ppj\\_lbll>\\\\\n",
       "\\hline\n",
       "\tnoun\\_F & noun\\_F & -1.03 & \\${[}-1.28\\$, \\$-0.77{]}\\$ & -8.09 & < .001\\\\\n",
       "\tnoun\\_M & noun\\_M & -1.19 & \\${[}-1.44\\$, \\$-0.93{]}\\$ & -9.33 & < .001\\\\\n",
       "\tverb\\_X & verb\\_X & -0.99 & \\${[}-1.24\\$, \\$-0.73{]}\\$ & -7.75 & < .001\\\\\n",
       "\\end{tabular}\n"
      ],
      "text/markdown": [
       "\n",
       "A apa_results_table: 3 × 5\n",
       "\n",
       "| <!--/--> | cond0 &lt;chr&gt; | estimate &lt;ppj_lbll&gt; | ci &lt;ppj_lbll&gt; | statistic &lt;ppj_lbll&gt; | p.value &lt;ppj_lbll&gt; |\n",
       "|---|---|---|---|---|---|\n",
       "| noun_F | noun_F | -1.03 | $[-1.28$, $-0.77]$ | -8.09 | &lt; .001 |\n",
       "| noun_M | noun_M | -1.19 | $[-1.44$, $-0.93]$ | -9.33 | &lt; .001 |\n",
       "| verb_X | verb_X | -0.99 | $[-1.24$, $-0.73]$ | -7.75 | &lt; .001 |\n",
       "\n"
      ],
      "text/plain": [
       "       cond0  estimate ci                 statistic p.value\n",
       "noun_F noun_F -1.03    $[-1.28$, $-0.77]$ -8.09     < .001 \n",
       "noun_M noun_M -1.19    $[-1.44$, $-0.93]$ -9.33     < .001 \n",
       "verb_X verb_X -0.99    $[-1.24$, $-0.73]$ -7.75     < .001 "
      ]
     },
     "metadata": {},
     "output_type": "display_data"
    },
    {
     "data": {
      "text/markdown": [
       "### Paired comparisons for expected marginal means"
      ]
     },
     "metadata": {},
     "output_type": "display_data"
    },
    {
     "data": {
      "text/html": [
       "<table>\n",
       "<caption>A apa_results_table: 3 × 5</caption>\n",
       "<thead>\n",
       "\t<tr><th></th><th scope=col>contrast</th><th scope=col>estimate</th><th scope=col>ci</th><th scope=col>statistic</th><th scope=col>p.value</th></tr>\n",
       "\t<tr><th></th><th scope=col>&lt;ppj_lbll&gt;</th><th scope=col>&lt;ppj_lbll&gt;</th><th scope=col>&lt;ppj_lbll&gt;</th><th scope=col>&lt;ppj_lbll&gt;</th><th scope=col>&lt;ppj_lbll&gt;</th></tr>\n",
       "</thead>\n",
       "<tbody>\n",
       "\t<tr><th scope=row>noun_F_noun_M</th><td>noun_F - noun_M</td><td>0.16 </td><td>$[-0.03$, $0.35]$ </td><td>2.02 </td><td>.115</td></tr>\n",
       "\t<tr><th scope=row>noun_F_verb_X</th><td>noun_F - verb_X</td><td>-0.04</td><td>$[-0.23$, $0.14]$ </td><td>-0.55</td><td>.847</td></tr>\n",
       "\t<tr><th scope=row>noun_M_verb_X</th><td>noun_M - verb_X</td><td>-0.20</td><td>$[-0.39$, $-0.01]$</td><td>-2.57</td><td>.032</td></tr>\n",
       "</tbody>\n",
       "</table>\n"
      ],
      "text/latex": [
       "A apa\\_results\\_table: 3 × 5\n",
       "\\begin{tabular}{r|lllll}\n",
       "  & contrast & estimate & ci & statistic & p.value\\\\\n",
       "  & <ppj\\_lbll> & <ppj\\_lbll> & <ppj\\_lbll> & <ppj\\_lbll> & <ppj\\_lbll>\\\\\n",
       "\\hline\n",
       "\tnoun\\_F\\_noun\\_M & noun\\_F - noun\\_M & 0.16  & \\${[}-0.03\\$, \\$0.35{]}\\$  & 2.02  & .115\\\\\n",
       "\tnoun\\_F\\_verb\\_X & noun\\_F - verb\\_X & -0.04 & \\${[}-0.23\\$, \\$0.14{]}\\$  & -0.55 & .847\\\\\n",
       "\tnoun\\_M\\_verb\\_X & noun\\_M - verb\\_X & -0.20 & \\${[}-0.39\\$, \\$-0.01{]}\\$ & -2.57 & .032\\\\\n",
       "\\end{tabular}\n"
      ],
      "text/markdown": [
       "\n",
       "A apa_results_table: 3 × 5\n",
       "\n",
       "| <!--/--> | contrast &lt;ppj_lbll&gt; | estimate &lt;ppj_lbll&gt; | ci &lt;ppj_lbll&gt; | statistic &lt;ppj_lbll&gt; | p.value &lt;ppj_lbll&gt; |\n",
       "|---|---|---|---|---|---|\n",
       "| noun_F_noun_M | noun_F - noun_M | 0.16  | $[-0.03$, $0.35]$  | 2.02  | .115 |\n",
       "| noun_F_verb_X | noun_F - verb_X | -0.04 | $[-0.23$, $0.14]$  | -0.55 | .847 |\n",
       "| noun_M_verb_X | noun_M - verb_X | -0.20 | $[-0.39$, $-0.01]$ | -2.57 | .032 |\n",
       "\n"
      ],
      "text/plain": [
       "              contrast        estimate ci                 statistic p.value\n",
       "noun_F_noun_M noun_F - noun_M 0.16     $[-0.03$, $0.35]$  2.02      .115   \n",
       "noun_F_verb_X noun_F - verb_X -0.04    $[-0.23$, $0.14]$  -0.55     .847   \n",
       "noun_M_verb_X noun_M - verb_X -0.20    $[-0.39$, $-0.01]$ -2.57     .032   "
      ]
     },
     "metadata": {},
     "output_type": "display_data"
    }
   ],
   "source": [
    "IDX <- IDX+1; COND <- CONDS[IDX]\n",
    "data1 <- droplevels(subset(df1, eval(parse(text=COND)))); data1 <- data1[complete.cases(data1),]; done1 <- AOV4(data1,COND)\n",
    "display_markdown(str_c(\"# Condition \",IDX,\" of \",length(CONDS))); display_markdown(done1$info); display_markdown(\"### Table\"); done1$aov_APA$table; display_markdown(\"### Result\"); display_markdown(done1$aov_APA[[\"full_result\"]][[\"cond0\"]]); display_markdown(\"### Summary (all done1, incl. NANs)\"); done1$summary; display_markdown(\"### Expected marginal means\"); done1$emm_APA$table; display_markdown(\"### Paired comparisons for expected marginal means\"); done1$pairs_APA$table"
   ]
  },
  {
   "cell_type": "code",
   "execution_count": 174,
   "metadata": {},
   "outputs": [
    {
     "data": {
      "text/markdown": [
       "# Condition 7 of 72"
      ]
     },
     "metadata": {},
     "output_type": "display_data"
    },
    {
     "data": {
      "text/markdown": [
       "`tmin0==0.1 & chan0==\"RC\" & mode0==\"pos\"`"
      ]
     },
     "metadata": {},
     "output_type": "display_data"
    },
    {
     "data": {
      "text/markdown": [
       "### Table"
      ]
     },
     "metadata": {},
     "output_type": "display_data"
    },
    {
     "data": {
      "text/html": [
       "<table>\n",
       "<caption>A apa_results_table: 1 × 7</caption>\n",
       "<thead>\n",
       "\t<tr><th></th><th scope=col>Effect</th><th scope=col>F</th><th scope=col>df1</th><th scope=col>df2</th><th scope=col>MSE</th><th scope=col>p</th><th scope=col>ges</th></tr>\n",
       "\t<tr><th></th><th scope=col>&lt;ppj_lbll&gt;</th><th scope=col>&lt;ppj_lbll&gt;</th><th scope=col>&lt;ppj_lbll&gt;</th><th scope=col>&lt;ppj_lbll&gt;</th><th scope=col>&lt;ppj_lbll&gt;</th><th scope=col>&lt;ppj_lbll&gt;</th><th scope=col>&lt;ppj_lbll&gt;</th></tr>\n",
       "</thead>\n",
       "<tbody>\n",
       "\t<tr><th scope=row>1</th><td>Cond0</td><td>0.47</td><td>1.91</td><td>78.27</td><td>0.18</td><td>.618</td><td>.001</td></tr>\n",
       "</tbody>\n",
       "</table>\n"
      ],
      "text/latex": [
       "A apa\\_results\\_table: 1 × 7\n",
       "\\begin{tabular}{r|lllllll}\n",
       "  & Effect & F & df1 & df2 & MSE & p & ges\\\\\n",
       "  & <ppj\\_lbll> & <ppj\\_lbll> & <ppj\\_lbll> & <ppj\\_lbll> & <ppj\\_lbll> & <ppj\\_lbll> & <ppj\\_lbll>\\\\\n",
       "\\hline\n",
       "\t1 & Cond0 & 0.47 & 1.91 & 78.27 & 0.18 & .618 & .001\\\\\n",
       "\\end{tabular}\n"
      ],
      "text/markdown": [
       "\n",
       "A apa_results_table: 1 × 7\n",
       "\n",
       "| <!--/--> | Effect &lt;ppj_lbll&gt; | F &lt;ppj_lbll&gt; | df1 &lt;ppj_lbll&gt; | df2 &lt;ppj_lbll&gt; | MSE &lt;ppj_lbll&gt; | p &lt;ppj_lbll&gt; | ges &lt;ppj_lbll&gt; |\n",
       "|---|---|---|---|---|---|---|---|\n",
       "| 1 | Cond0 | 0.47 | 1.91 | 78.27 | 0.18 | .618 | .001 |\n",
       "\n"
      ],
      "text/plain": [
       "  Effect F    df1  df2   MSE  p    ges \n",
       "1 Cond0  0.47 1.91 78.27 0.18 .618 .001"
      ]
     },
     "metadata": {},
     "output_type": "display_data"
    },
    {
     "data": {
      "text/markdown": [
       "### Result"
      ]
     },
     "metadata": {},
     "output_type": "display_data"
    },
    {
     "data": {
      "text/markdown": [
       "$F(1.91, 78.27) = 0.47$, $\\mathit{MSE} = 0.18$, $p = .618$, $\\hat{\\eta}^2_G = .001$"
      ]
     },
     "metadata": {},
     "output_type": "display_data"
    },
    {
     "data": {
      "text/markdown": [
       "### Summary (all done1, incl. NANs)"
      ]
     },
     "metadata": {},
     "output_type": "display_data"
    },
    {
     "data": {
      "text/html": [
       "<table>\n",
       "<caption>A tibble: 3 × 5</caption>\n",
       "<thead>\n",
       "\t<tr><th scope=col>cond0</th><th scope=col>N</th><th scope=col>valX_M</th><th scope=col>valX_SD</th><th scope=col>valX_SE</th></tr>\n",
       "\t<tr><th scope=col>&lt;fct&gt;</th><th scope=col>&lt;int&gt;</th><th scope=col>&lt;dbl&gt;</th><th scope=col>&lt;dbl&gt;</th><th scope=col>&lt;dbl&gt;</th></tr>\n",
       "</thead>\n",
       "<tbody>\n",
       "\t<tr><td>noun_F</td><td>42</td><td>1.109632</td><td>0.8754474</td><td>0.1350845</td></tr>\n",
       "\t<tr><td>noun_M</td><td>42</td><td>1.031065</td><td>0.9490884</td><td>0.1464475</td></tr>\n",
       "\t<tr><td>verb_X</td><td>42</td><td>1.105326</td><td>1.1565292</td><td>0.1784563</td></tr>\n",
       "</tbody>\n",
       "</table>\n"
      ],
      "text/latex": [
       "A tibble: 3 × 5\n",
       "\\begin{tabular}{lllll}\n",
       " cond0 & N & valX\\_M & valX\\_SD & valX\\_SE\\\\\n",
       " <fct> & <int> & <dbl> & <dbl> & <dbl>\\\\\n",
       "\\hline\n",
       "\t noun\\_F & 42 & 1.109632 & 0.8754474 & 0.1350845\\\\\n",
       "\t noun\\_M & 42 & 1.031065 & 0.9490884 & 0.1464475\\\\\n",
       "\t verb\\_X & 42 & 1.105326 & 1.1565292 & 0.1784563\\\\\n",
       "\\end{tabular}\n"
      ],
      "text/markdown": [
       "\n",
       "A tibble: 3 × 5\n",
       "\n",
       "| cond0 &lt;fct&gt; | N &lt;int&gt; | valX_M &lt;dbl&gt; | valX_SD &lt;dbl&gt; | valX_SE &lt;dbl&gt; |\n",
       "|---|---|---|---|---|\n",
       "| noun_F | 42 | 1.109632 | 0.8754474 | 0.1350845 |\n",
       "| noun_M | 42 | 1.031065 | 0.9490884 | 0.1464475 |\n",
       "| verb_X | 42 | 1.105326 | 1.1565292 | 0.1784563 |\n",
       "\n"
      ],
      "text/plain": [
       "  cond0  N  valX_M   valX_SD   valX_SE  \n",
       "1 noun_F 42 1.109632 0.8754474 0.1350845\n",
       "2 noun_M 42 1.031065 0.9490884 0.1464475\n",
       "3 verb_X 42 1.105326 1.1565292 0.1784563"
      ]
     },
     "metadata": {},
     "output_type": "display_data"
    },
    {
     "data": {
      "text/markdown": [
       "### Expected marginal means"
      ]
     },
     "metadata": {},
     "output_type": "display_data"
    },
    {
     "data": {
      "text/html": [
       "<table>\n",
       "<caption>A apa_results_table: 3 × 5</caption>\n",
       "<thead>\n",
       "\t<tr><th></th><th scope=col>cond0</th><th scope=col>estimate</th><th scope=col>ci</th><th scope=col>statistic</th><th scope=col>p.value</th></tr>\n",
       "\t<tr><th></th><th scope=col>&lt;chr&gt;</th><th scope=col>&lt;ppj_lbll&gt;</th><th scope=col>&lt;ppj_lbll&gt;</th><th scope=col>&lt;ppj_lbll&gt;</th><th scope=col>&lt;ppj_lbll&gt;</th></tr>\n",
       "</thead>\n",
       "<tbody>\n",
       "\t<tr><th scope=row>noun_F</th><td>noun_F</td><td>1.11</td><td>$[0.80$, $1.42]$</td><td>7.19</td><td>&lt; .001</td></tr>\n",
       "\t<tr><th scope=row>noun_M</th><td>noun_M</td><td>1.03</td><td>$[0.72$, $1.34]$</td><td>6.68</td><td>&lt; .001</td></tr>\n",
       "\t<tr><th scope=row>verb_X</th><td>verb_X</td><td>1.11</td><td>$[0.80$, $1.42]$</td><td>7.16</td><td>&lt; .001</td></tr>\n",
       "</tbody>\n",
       "</table>\n"
      ],
      "text/latex": [
       "A apa\\_results\\_table: 3 × 5\n",
       "\\begin{tabular}{r|lllll}\n",
       "  & cond0 & estimate & ci & statistic & p.value\\\\\n",
       "  & <chr> & <ppj\\_lbll> & <ppj\\_lbll> & <ppj\\_lbll> & <ppj\\_lbll>\\\\\n",
       "\\hline\n",
       "\tnoun\\_F & noun\\_F & 1.11 & \\${[}0.80\\$, \\$1.42{]}\\$ & 7.19 & < .001\\\\\n",
       "\tnoun\\_M & noun\\_M & 1.03 & \\${[}0.72\\$, \\$1.34{]}\\$ & 6.68 & < .001\\\\\n",
       "\tverb\\_X & verb\\_X & 1.11 & \\${[}0.80\\$, \\$1.42{]}\\$ & 7.16 & < .001\\\\\n",
       "\\end{tabular}\n"
      ],
      "text/markdown": [
       "\n",
       "A apa_results_table: 3 × 5\n",
       "\n",
       "| <!--/--> | cond0 &lt;chr&gt; | estimate &lt;ppj_lbll&gt; | ci &lt;ppj_lbll&gt; | statistic &lt;ppj_lbll&gt; | p.value &lt;ppj_lbll&gt; |\n",
       "|---|---|---|---|---|---|\n",
       "| noun_F | noun_F | 1.11 | $[0.80$, $1.42]$ | 7.19 | &lt; .001 |\n",
       "| noun_M | noun_M | 1.03 | $[0.72$, $1.34]$ | 6.68 | &lt; .001 |\n",
       "| verb_X | verb_X | 1.11 | $[0.80$, $1.42]$ | 7.16 | &lt; .001 |\n",
       "\n"
      ],
      "text/plain": [
       "       cond0  estimate ci               statistic p.value\n",
       "noun_F noun_F 1.11     $[0.80$, $1.42]$ 7.19      < .001 \n",
       "noun_M noun_M 1.03     $[0.72$, $1.34]$ 6.68      < .001 \n",
       "verb_X verb_X 1.11     $[0.80$, $1.42]$ 7.16      < .001 "
      ]
     },
     "metadata": {},
     "output_type": "display_data"
    },
    {
     "data": {
      "text/markdown": [
       "### Paired comparisons for expected marginal means"
      ]
     },
     "metadata": {},
     "output_type": "display_data"
    },
    {
     "data": {
      "text/html": [
       "<table>\n",
       "<caption>A apa_results_table: 3 × 5</caption>\n",
       "<thead>\n",
       "\t<tr><th></th><th scope=col>contrast</th><th scope=col>estimate</th><th scope=col>ci</th><th scope=col>statistic</th><th scope=col>p.value</th></tr>\n",
       "\t<tr><th></th><th scope=col>&lt;ppj_lbll&gt;</th><th scope=col>&lt;ppj_lbll&gt;</th><th scope=col>&lt;ppj_lbll&gt;</th><th scope=col>&lt;ppj_lbll&gt;</th><th scope=col>&lt;ppj_lbll&gt;</th></tr>\n",
       "</thead>\n",
       "<tbody>\n",
       "\t<tr><th scope=row>noun_F_noun_M</th><td>noun_F - noun_M</td><td>0.08 </td><td>$[-0.14$, $0.30]$</td><td>0.86 </td><td>.666</td></tr>\n",
       "\t<tr><th scope=row>noun_F_verb_X</th><td>noun_F - verb_X</td><td>0.00 </td><td>$[-0.21$, $0.22]$</td><td>0.05 </td><td>.999</td></tr>\n",
       "\t<tr><th scope=row>noun_M_verb_X</th><td>noun_M - verb_X</td><td>-0.07</td><td>$[-0.29$, $0.14]$</td><td>-0.81</td><td>.695</td></tr>\n",
       "</tbody>\n",
       "</table>\n"
      ],
      "text/latex": [
       "A apa\\_results\\_table: 3 × 5\n",
       "\\begin{tabular}{r|lllll}\n",
       "  & contrast & estimate & ci & statistic & p.value\\\\\n",
       "  & <ppj\\_lbll> & <ppj\\_lbll> & <ppj\\_lbll> & <ppj\\_lbll> & <ppj\\_lbll>\\\\\n",
       "\\hline\n",
       "\tnoun\\_F\\_noun\\_M & noun\\_F - noun\\_M & 0.08  & \\${[}-0.14\\$, \\$0.30{]}\\$ & 0.86  & .666\\\\\n",
       "\tnoun\\_F\\_verb\\_X & noun\\_F - verb\\_X & 0.00  & \\${[}-0.21\\$, \\$0.22{]}\\$ & 0.05  & .999\\\\\n",
       "\tnoun\\_M\\_verb\\_X & noun\\_M - verb\\_X & -0.07 & \\${[}-0.29\\$, \\$0.14{]}\\$ & -0.81 & .695\\\\\n",
       "\\end{tabular}\n"
      ],
      "text/markdown": [
       "\n",
       "A apa_results_table: 3 × 5\n",
       "\n",
       "| <!--/--> | contrast &lt;ppj_lbll&gt; | estimate &lt;ppj_lbll&gt; | ci &lt;ppj_lbll&gt; | statistic &lt;ppj_lbll&gt; | p.value &lt;ppj_lbll&gt; |\n",
       "|---|---|---|---|---|---|\n",
       "| noun_F_noun_M | noun_F - noun_M | 0.08  | $[-0.14$, $0.30]$ | 0.86  | .666 |\n",
       "| noun_F_verb_X | noun_F - verb_X | 0.00  | $[-0.21$, $0.22]$ | 0.05  | .999 |\n",
       "| noun_M_verb_X | noun_M - verb_X | -0.07 | $[-0.29$, $0.14]$ | -0.81 | .695 |\n",
       "\n"
      ],
      "text/plain": [
       "              contrast        estimate ci                statistic p.value\n",
       "noun_F_noun_M noun_F - noun_M 0.08     $[-0.14$, $0.30]$ 0.86      .666   \n",
       "noun_F_verb_X noun_F - verb_X 0.00     $[-0.21$, $0.22]$ 0.05      .999   \n",
       "noun_M_verb_X noun_M - verb_X -0.07    $[-0.29$, $0.14]$ -0.81     .695   "
      ]
     },
     "metadata": {},
     "output_type": "display_data"
    }
   ],
   "source": [
    "IDX <- IDX+1; COND <- CONDS[IDX]\n",
    "data1 <- droplevels(subset(df1, eval(parse(text=COND)))); data1 <- data1[complete.cases(data1),]; done1 <- AOV4(data1,COND)\n",
    "display_markdown(str_c(\"# Condition \",IDX,\" of \",length(CONDS))); display_markdown(done1$info); display_markdown(\"### Table\"); done1$aov_APA$table; display_markdown(\"### Result\"); display_markdown(done1$aov_APA[[\"full_result\"]][[\"cond0\"]]); display_markdown(\"### Summary (all done1, incl. NANs)\"); done1$summary; display_markdown(\"### Expected marginal means\"); done1$emm_APA$table; display_markdown(\"### Paired comparisons for expected marginal means\"); done1$pairs_APA$table"
   ]
  },
  {
   "cell_type": "code",
   "execution_count": 175,
   "metadata": {},
   "outputs": [
    {
     "name": "stderr",
     "output_type": "stream",
     "text": [
      "Warning message in summary.Anova.mlm(x$Anova):\n",
      "“HF eps > 1 treated as 1”\n"
     ]
    },
    {
     "data": {
      "text/markdown": [
       "# Condition 8 of 72"
      ]
     },
     "metadata": {},
     "output_type": "display_data"
    },
    {
     "data": {
      "text/markdown": [
       "`tmin0==0.1 & chan0==\"RC\" & mode0==\"neg\"`"
      ]
     },
     "metadata": {},
     "output_type": "display_data"
    },
    {
     "data": {
      "text/markdown": [
       "### Table"
      ]
     },
     "metadata": {},
     "output_type": "display_data"
    },
    {
     "data": {
      "text/html": [
       "<table>\n",
       "<caption>A apa_results_table: 1 × 7</caption>\n",
       "<thead>\n",
       "\t<tr><th></th><th scope=col>Effect</th><th scope=col>F</th><th scope=col>df1</th><th scope=col>df2</th><th scope=col>MSE</th><th scope=col>p</th><th scope=col>ges</th></tr>\n",
       "\t<tr><th></th><th scope=col>&lt;ppj_lbll&gt;</th><th scope=col>&lt;ppj_lbll&gt;</th><th scope=col>&lt;ppj_lbll&gt;</th><th scope=col>&lt;ppj_lbll&gt;</th><th scope=col>&lt;ppj_lbll&gt;</th><th scope=col>&lt;ppj_lbll&gt;</th><th scope=col>&lt;ppj_lbll&gt;</th></tr>\n",
       "</thead>\n",
       "<tbody>\n",
       "\t<tr><th scope=row>1</th><td>Cond0</td><td>3.81</td><td>1.93</td><td>79.08</td><td>0.15</td><td>.028</td><td>.014</td></tr>\n",
       "</tbody>\n",
       "</table>\n"
      ],
      "text/latex": [
       "A apa\\_results\\_table: 1 × 7\n",
       "\\begin{tabular}{r|lllllll}\n",
       "  & Effect & F & df1 & df2 & MSE & p & ges\\\\\n",
       "  & <ppj\\_lbll> & <ppj\\_lbll> & <ppj\\_lbll> & <ppj\\_lbll> & <ppj\\_lbll> & <ppj\\_lbll> & <ppj\\_lbll>\\\\\n",
       "\\hline\n",
       "\t1 & Cond0 & 3.81 & 1.93 & 79.08 & 0.15 & .028 & .014\\\\\n",
       "\\end{tabular}\n"
      ],
      "text/markdown": [
       "\n",
       "A apa_results_table: 1 × 7\n",
       "\n",
       "| <!--/--> | Effect &lt;ppj_lbll&gt; | F &lt;ppj_lbll&gt; | df1 &lt;ppj_lbll&gt; | df2 &lt;ppj_lbll&gt; | MSE &lt;ppj_lbll&gt; | p &lt;ppj_lbll&gt; | ges &lt;ppj_lbll&gt; |\n",
       "|---|---|---|---|---|---|---|---|\n",
       "| 1 | Cond0 | 3.81 | 1.93 | 79.08 | 0.15 | .028 | .014 |\n",
       "\n"
      ],
      "text/plain": [
       "  Effect F    df1  df2   MSE  p    ges \n",
       "1 Cond0  3.81 1.93 79.08 0.15 .028 .014"
      ]
     },
     "metadata": {},
     "output_type": "display_data"
    },
    {
     "data": {
      "text/markdown": [
       "### Result"
      ]
     },
     "metadata": {},
     "output_type": "display_data"
    },
    {
     "data": {
      "text/markdown": [
       "$F(1.93, 79.08) = 3.81$, $\\mathit{MSE} = 0.15$, $p = .028$, $\\hat{\\eta}^2_G = .014$"
      ]
     },
     "metadata": {},
     "output_type": "display_data"
    },
    {
     "data": {
      "text/markdown": [
       "### Summary (all done1, incl. NANs)"
      ]
     },
     "metadata": {},
     "output_type": "display_data"
    },
    {
     "data": {
      "text/html": [
       "<table>\n",
       "<caption>A tibble: 3 × 5</caption>\n",
       "<thead>\n",
       "\t<tr><th scope=col>cond0</th><th scope=col>N</th><th scope=col>valX_M</th><th scope=col>valX_SD</th><th scope=col>valX_SE</th></tr>\n",
       "\t<tr><th scope=col>&lt;fct&gt;</th><th scope=col>&lt;int&gt;</th><th scope=col>&lt;dbl&gt;</th><th scope=col>&lt;dbl&gt;</th><th scope=col>&lt;dbl&gt;</th></tr>\n",
       "</thead>\n",
       "<tbody>\n",
       "\t<tr><td>noun_F</td><td>42</td><td>-0.9116902</td><td>0.7653847</td><td>0.1181014</td></tr>\n",
       "\t<tr><td>noun_M</td><td>42</td><td>-0.8637751</td><td>0.7520701</td><td>0.1160469</td></tr>\n",
       "\t<tr><td>verb_X</td><td>42</td><td>-0.6961478</td><td>0.8389583</td><td>0.1294541</td></tr>\n",
       "</tbody>\n",
       "</table>\n"
      ],
      "text/latex": [
       "A tibble: 3 × 5\n",
       "\\begin{tabular}{lllll}\n",
       " cond0 & N & valX\\_M & valX\\_SD & valX\\_SE\\\\\n",
       " <fct> & <int> & <dbl> & <dbl> & <dbl>\\\\\n",
       "\\hline\n",
       "\t noun\\_F & 42 & -0.9116902 & 0.7653847 & 0.1181014\\\\\n",
       "\t noun\\_M & 42 & -0.8637751 & 0.7520701 & 0.1160469\\\\\n",
       "\t verb\\_X & 42 & -0.6961478 & 0.8389583 & 0.1294541\\\\\n",
       "\\end{tabular}\n"
      ],
      "text/markdown": [
       "\n",
       "A tibble: 3 × 5\n",
       "\n",
       "| cond0 &lt;fct&gt; | N &lt;int&gt; | valX_M &lt;dbl&gt; | valX_SD &lt;dbl&gt; | valX_SE &lt;dbl&gt; |\n",
       "|---|---|---|---|---|\n",
       "| noun_F | 42 | -0.9116902 | 0.7653847 | 0.1181014 |\n",
       "| noun_M | 42 | -0.8637751 | 0.7520701 | 0.1160469 |\n",
       "| verb_X | 42 | -0.6961478 | 0.8389583 | 0.1294541 |\n",
       "\n"
      ],
      "text/plain": [
       "  cond0  N  valX_M     valX_SD   valX_SE  \n",
       "1 noun_F 42 -0.9116902 0.7653847 0.1181014\n",
       "2 noun_M 42 -0.8637751 0.7520701 0.1160469\n",
       "3 verb_X 42 -0.6961478 0.8389583 0.1294541"
      ]
     },
     "metadata": {},
     "output_type": "display_data"
    },
    {
     "data": {
      "text/markdown": [
       "### Expected marginal means"
      ]
     },
     "metadata": {},
     "output_type": "display_data"
    },
    {
     "data": {
      "text/html": [
       "<table>\n",
       "<caption>A apa_results_table: 3 × 5</caption>\n",
       "<thead>\n",
       "\t<tr><th></th><th scope=col>cond0</th><th scope=col>estimate</th><th scope=col>ci</th><th scope=col>statistic</th><th scope=col>p.value</th></tr>\n",
       "\t<tr><th></th><th scope=col>&lt;chr&gt;</th><th scope=col>&lt;ppj_lbll&gt;</th><th scope=col>&lt;ppj_lbll&gt;</th><th scope=col>&lt;ppj_lbll&gt;</th><th scope=col>&lt;ppj_lbll&gt;</th></tr>\n",
       "</thead>\n",
       "<tbody>\n",
       "\t<tr><th scope=row>noun_F</th><td>noun_F</td><td>-0.91</td><td>$[-1.15$, $-0.67]$</td><td>-7.51</td><td>&lt; .001</td></tr>\n",
       "\t<tr><th scope=row>noun_M</th><td>noun_M</td><td>-0.86</td><td>$[-1.11$, $-0.62]$</td><td>-7.12</td><td>&lt; .001</td></tr>\n",
       "\t<tr><th scope=row>verb_X</th><td>verb_X</td><td>-0.70</td><td>$[-0.94$, $-0.45]$</td><td>-5.74</td><td>&lt; .001</td></tr>\n",
       "</tbody>\n",
       "</table>\n"
      ],
      "text/latex": [
       "A apa\\_results\\_table: 3 × 5\n",
       "\\begin{tabular}{r|lllll}\n",
       "  & cond0 & estimate & ci & statistic & p.value\\\\\n",
       "  & <chr> & <ppj\\_lbll> & <ppj\\_lbll> & <ppj\\_lbll> & <ppj\\_lbll>\\\\\n",
       "\\hline\n",
       "\tnoun\\_F & noun\\_F & -0.91 & \\${[}-1.15\\$, \\$-0.67{]}\\$ & -7.51 & < .001\\\\\n",
       "\tnoun\\_M & noun\\_M & -0.86 & \\${[}-1.11\\$, \\$-0.62{]}\\$ & -7.12 & < .001\\\\\n",
       "\tverb\\_X & verb\\_X & -0.70 & \\${[}-0.94\\$, \\$-0.45{]}\\$ & -5.74 & < .001\\\\\n",
       "\\end{tabular}\n"
      ],
      "text/markdown": [
       "\n",
       "A apa_results_table: 3 × 5\n",
       "\n",
       "| <!--/--> | cond0 &lt;chr&gt; | estimate &lt;ppj_lbll&gt; | ci &lt;ppj_lbll&gt; | statistic &lt;ppj_lbll&gt; | p.value &lt;ppj_lbll&gt; |\n",
       "|---|---|---|---|---|---|\n",
       "| noun_F | noun_F | -0.91 | $[-1.15$, $-0.67]$ | -7.51 | &lt; .001 |\n",
       "| noun_M | noun_M | -0.86 | $[-1.11$, $-0.62]$ | -7.12 | &lt; .001 |\n",
       "| verb_X | verb_X | -0.70 | $[-0.94$, $-0.45]$ | -5.74 | &lt; .001 |\n",
       "\n"
      ],
      "text/plain": [
       "       cond0  estimate ci                 statistic p.value\n",
       "noun_F noun_F -0.91    $[-1.15$, $-0.67]$ -7.51     < .001 \n",
       "noun_M noun_M -0.86    $[-1.11$, $-0.62]$ -7.12     < .001 \n",
       "verb_X verb_X -0.70    $[-0.94$, $-0.45]$ -5.74     < .001 "
      ]
     },
     "metadata": {},
     "output_type": "display_data"
    },
    {
     "data": {
      "text/markdown": [
       "### Paired comparisons for expected marginal means"
      ]
     },
     "metadata": {},
     "output_type": "display_data"
    },
    {
     "data": {
      "text/html": [
       "<table>\n",
       "<caption>A apa_results_table: 3 × 5</caption>\n",
       "<thead>\n",
       "\t<tr><th></th><th scope=col>contrast</th><th scope=col>estimate</th><th scope=col>ci</th><th scope=col>statistic</th><th scope=col>p.value</th></tr>\n",
       "\t<tr><th></th><th scope=col>&lt;ppj_lbll&gt;</th><th scope=col>&lt;ppj_lbll&gt;</th><th scope=col>&lt;ppj_lbll&gt;</th><th scope=col>&lt;ppj_lbll&gt;</th><th scope=col>&lt;ppj_lbll&gt;</th></tr>\n",
       "</thead>\n",
       "<tbody>\n",
       "\t<tr><th scope=row>noun_F_noun_M</th><td>noun_F - noun_M</td><td>-0.05</td><td>$[-0.24$, $0.15]$ </td><td>-0.58</td><td>.829</td></tr>\n",
       "\t<tr><th scope=row>noun_F_verb_X</th><td>noun_F - verb_X</td><td>-0.22</td><td>$[-0.41$, $-0.02]$</td><td>-2.63</td><td>.027</td></tr>\n",
       "\t<tr><th scope=row>noun_M_verb_X</th><td>noun_M - verb_X</td><td>-0.17</td><td>$[-0.36$, $0.03]$ </td><td>-2.04</td><td>.108</td></tr>\n",
       "</tbody>\n",
       "</table>\n"
      ],
      "text/latex": [
       "A apa\\_results\\_table: 3 × 5\n",
       "\\begin{tabular}{r|lllll}\n",
       "  & contrast & estimate & ci & statistic & p.value\\\\\n",
       "  & <ppj\\_lbll> & <ppj\\_lbll> & <ppj\\_lbll> & <ppj\\_lbll> & <ppj\\_lbll>\\\\\n",
       "\\hline\n",
       "\tnoun\\_F\\_noun\\_M & noun\\_F - noun\\_M & -0.05 & \\${[}-0.24\\$, \\$0.15{]}\\$  & -0.58 & .829\\\\\n",
       "\tnoun\\_F\\_verb\\_X & noun\\_F - verb\\_X & -0.22 & \\${[}-0.41\\$, \\$-0.02{]}\\$ & -2.63 & .027\\\\\n",
       "\tnoun\\_M\\_verb\\_X & noun\\_M - verb\\_X & -0.17 & \\${[}-0.36\\$, \\$0.03{]}\\$  & -2.04 & .108\\\\\n",
       "\\end{tabular}\n"
      ],
      "text/markdown": [
       "\n",
       "A apa_results_table: 3 × 5\n",
       "\n",
       "| <!--/--> | contrast &lt;ppj_lbll&gt; | estimate &lt;ppj_lbll&gt; | ci &lt;ppj_lbll&gt; | statistic &lt;ppj_lbll&gt; | p.value &lt;ppj_lbll&gt; |\n",
       "|---|---|---|---|---|---|\n",
       "| noun_F_noun_M | noun_F - noun_M | -0.05 | $[-0.24$, $0.15]$  | -0.58 | .829 |\n",
       "| noun_F_verb_X | noun_F - verb_X | -0.22 | $[-0.41$, $-0.02]$ | -2.63 | .027 |\n",
       "| noun_M_verb_X | noun_M - verb_X | -0.17 | $[-0.36$, $0.03]$  | -2.04 | .108 |\n",
       "\n"
      ],
      "text/plain": [
       "              contrast        estimate ci                 statistic p.value\n",
       "noun_F_noun_M noun_F - noun_M -0.05    $[-0.24$, $0.15]$  -0.58     .829   \n",
       "noun_F_verb_X noun_F - verb_X -0.22    $[-0.41$, $-0.02]$ -2.63     .027   \n",
       "noun_M_verb_X noun_M - verb_X -0.17    $[-0.36$, $0.03]$  -2.04     .108   "
      ]
     },
     "metadata": {},
     "output_type": "display_data"
    }
   ],
   "source": [
    "IDX <- IDX+1; COND <- CONDS[IDX]\n",
    "data1 <- droplevels(subset(df1, eval(parse(text=COND)))); data1 <- data1[complete.cases(data1),]; done1 <- AOV4(data1,COND)\n",
    "display_markdown(str_c(\"# Condition \",IDX,\" of \",length(CONDS))); display_markdown(done1$info); display_markdown(\"### Table\"); done1$aov_APA$table; display_markdown(\"### Result\"); display_markdown(done1$aov_APA[[\"full_result\"]][[\"cond0\"]]); display_markdown(\"### Summary (all done1, incl. NANs)\"); done1$summary; display_markdown(\"### Expected marginal means\"); done1$emm_APA$table; display_markdown(\"### Paired comparisons for expected marginal means\"); done1$pairs_APA$table"
   ]
  },
  {
   "cell_type": "code",
   "execution_count": 176,
   "metadata": {},
   "outputs": [
    {
     "data": {
      "text/markdown": [
       "# Condition 9 of 72"
      ]
     },
     "metadata": {},
     "output_type": "display_data"
    },
    {
     "data": {
      "text/markdown": [
       "`tmin0==0.1 & chan0==\"LP\" & mode0==\"pos\"`"
      ]
     },
     "metadata": {},
     "output_type": "display_data"
    },
    {
     "data": {
      "text/markdown": [
       "### Table"
      ]
     },
     "metadata": {},
     "output_type": "display_data"
    },
    {
     "data": {
      "text/html": [
       "<table>\n",
       "<caption>A apa_results_table: 1 × 7</caption>\n",
       "<thead>\n",
       "\t<tr><th></th><th scope=col>Effect</th><th scope=col>F</th><th scope=col>df1</th><th scope=col>df2</th><th scope=col>MSE</th><th scope=col>p</th><th scope=col>ges</th></tr>\n",
       "\t<tr><th></th><th scope=col>&lt;ppj_lbll&gt;</th><th scope=col>&lt;ppj_lbll&gt;</th><th scope=col>&lt;ppj_lbll&gt;</th><th scope=col>&lt;ppj_lbll&gt;</th><th scope=col>&lt;ppj_lbll&gt;</th><th scope=col>&lt;ppj_lbll&gt;</th><th scope=col>&lt;ppj_lbll&gt;</th></tr>\n",
       "</thead>\n",
       "<tbody>\n",
       "\t<tr><th scope=row>1</th><td>Cond0</td><td>1.22</td><td>1.66</td><td>68.14</td><td>0.37</td><td>.295</td><td>.001</td></tr>\n",
       "</tbody>\n",
       "</table>\n"
      ],
      "text/latex": [
       "A apa\\_results\\_table: 1 × 7\n",
       "\\begin{tabular}{r|lllllll}\n",
       "  & Effect & F & df1 & df2 & MSE & p & ges\\\\\n",
       "  & <ppj\\_lbll> & <ppj\\_lbll> & <ppj\\_lbll> & <ppj\\_lbll> & <ppj\\_lbll> & <ppj\\_lbll> & <ppj\\_lbll>\\\\\n",
       "\\hline\n",
       "\t1 & Cond0 & 1.22 & 1.66 & 68.14 & 0.37 & .295 & .001\\\\\n",
       "\\end{tabular}\n"
      ],
      "text/markdown": [
       "\n",
       "A apa_results_table: 1 × 7\n",
       "\n",
       "| <!--/--> | Effect &lt;ppj_lbll&gt; | F &lt;ppj_lbll&gt; | df1 &lt;ppj_lbll&gt; | df2 &lt;ppj_lbll&gt; | MSE &lt;ppj_lbll&gt; | p &lt;ppj_lbll&gt; | ges &lt;ppj_lbll&gt; |\n",
       "|---|---|---|---|---|---|---|---|\n",
       "| 1 | Cond0 | 1.22 | 1.66 | 68.14 | 0.37 | .295 | .001 |\n",
       "\n"
      ],
      "text/plain": [
       "  Effect F    df1  df2   MSE  p    ges \n",
       "1 Cond0  1.22 1.66 68.14 0.37 .295 .001"
      ]
     },
     "metadata": {},
     "output_type": "display_data"
    },
    {
     "data": {
      "text/markdown": [
       "### Result"
      ]
     },
     "metadata": {},
     "output_type": "display_data"
    },
    {
     "data": {
      "text/markdown": [
       "$F(1.66, 68.14) = 1.22$, $\\mathit{MSE} = 0.37$, $p = .295$, $\\hat{\\eta}^2_G = .001$"
      ]
     },
     "metadata": {},
     "output_type": "display_data"
    },
    {
     "data": {
      "text/markdown": [
       "### Summary (all done1, incl. NANs)"
      ]
     },
     "metadata": {},
     "output_type": "display_data"
    },
    {
     "data": {
      "text/html": [
       "<table>\n",
       "<caption>A tibble: 3 × 5</caption>\n",
       "<thead>\n",
       "\t<tr><th scope=col>cond0</th><th scope=col>N</th><th scope=col>valX_M</th><th scope=col>valX_SD</th><th scope=col>valX_SE</th></tr>\n",
       "\t<tr><th scope=col>&lt;fct&gt;</th><th scope=col>&lt;int&gt;</th><th scope=col>&lt;dbl&gt;</th><th scope=col>&lt;dbl&gt;</th><th scope=col>&lt;dbl&gt;</th></tr>\n",
       "</thead>\n",
       "<tbody>\n",
       "\t<tr><td>noun_F</td><td>42</td><td>4.058145</td><td>2.132290</td><td>0.3290195</td></tr>\n",
       "\t<tr><td>noun_M</td><td>42</td><td>4.198637</td><td>2.032277</td><td>0.3135872</td></tr>\n",
       "\t<tr><td>verb_X</td><td>42</td><td>4.017708</td><td>2.244133</td><td>0.3462773</td></tr>\n",
       "</tbody>\n",
       "</table>\n"
      ],
      "text/latex": [
       "A tibble: 3 × 5\n",
       "\\begin{tabular}{lllll}\n",
       " cond0 & N & valX\\_M & valX\\_SD & valX\\_SE\\\\\n",
       " <fct> & <int> & <dbl> & <dbl> & <dbl>\\\\\n",
       "\\hline\n",
       "\t noun\\_F & 42 & 4.058145 & 2.132290 & 0.3290195\\\\\n",
       "\t noun\\_M & 42 & 4.198637 & 2.032277 & 0.3135872\\\\\n",
       "\t verb\\_X & 42 & 4.017708 & 2.244133 & 0.3462773\\\\\n",
       "\\end{tabular}\n"
      ],
      "text/markdown": [
       "\n",
       "A tibble: 3 × 5\n",
       "\n",
       "| cond0 &lt;fct&gt; | N &lt;int&gt; | valX_M &lt;dbl&gt; | valX_SD &lt;dbl&gt; | valX_SE &lt;dbl&gt; |\n",
       "|---|---|---|---|---|\n",
       "| noun_F | 42 | 4.058145 | 2.132290 | 0.3290195 |\n",
       "| noun_M | 42 | 4.198637 | 2.032277 | 0.3135872 |\n",
       "| verb_X | 42 | 4.017708 | 2.244133 | 0.3462773 |\n",
       "\n"
      ],
      "text/plain": [
       "  cond0  N  valX_M   valX_SD  valX_SE  \n",
       "1 noun_F 42 4.058145 2.132290 0.3290195\n",
       "2 noun_M 42 4.198637 2.032277 0.3135872\n",
       "3 verb_X 42 4.017708 2.244133 0.3462773"
      ]
     },
     "metadata": {},
     "output_type": "display_data"
    },
    {
     "data": {
      "text/markdown": [
       "### Expected marginal means"
      ]
     },
     "metadata": {},
     "output_type": "display_data"
    },
    {
     "data": {
      "text/html": [
       "<table>\n",
       "<caption>A apa_results_table: 3 × 5</caption>\n",
       "<thead>\n",
       "\t<tr><th></th><th scope=col>cond0</th><th scope=col>estimate</th><th scope=col>ci</th><th scope=col>statistic</th><th scope=col>p.value</th></tr>\n",
       "\t<tr><th></th><th scope=col>&lt;chr&gt;</th><th scope=col>&lt;ppj_lbll&gt;</th><th scope=col>&lt;ppj_lbll&gt;</th><th scope=col>&lt;ppj_lbll&gt;</th><th scope=col>&lt;ppj_lbll&gt;</th></tr>\n",
       "</thead>\n",
       "<tbody>\n",
       "\t<tr><th scope=row>noun_F</th><td>noun_F</td><td>4.06</td><td>$[3.39$, $4.72]$</td><td>12.30</td><td>&lt; .001</td></tr>\n",
       "\t<tr><th scope=row>noun_M</th><td>noun_M</td><td>4.20</td><td>$[3.53$, $4.86]$</td><td>12.73</td><td>&lt; .001</td></tr>\n",
       "\t<tr><th scope=row>verb_X</th><td>verb_X</td><td>4.02</td><td>$[3.35$, $4.68]$</td><td>12.18</td><td>&lt; .001</td></tr>\n",
       "</tbody>\n",
       "</table>\n"
      ],
      "text/latex": [
       "A apa\\_results\\_table: 3 × 5\n",
       "\\begin{tabular}{r|lllll}\n",
       "  & cond0 & estimate & ci & statistic & p.value\\\\\n",
       "  & <chr> & <ppj\\_lbll> & <ppj\\_lbll> & <ppj\\_lbll> & <ppj\\_lbll>\\\\\n",
       "\\hline\n",
       "\tnoun\\_F & noun\\_F & 4.06 & \\${[}3.39\\$, \\$4.72{]}\\$ & 12.30 & < .001\\\\\n",
       "\tnoun\\_M & noun\\_M & 4.20 & \\${[}3.53\\$, \\$4.86{]}\\$ & 12.73 & < .001\\\\\n",
       "\tverb\\_X & verb\\_X & 4.02 & \\${[}3.35\\$, \\$4.68{]}\\$ & 12.18 & < .001\\\\\n",
       "\\end{tabular}\n"
      ],
      "text/markdown": [
       "\n",
       "A apa_results_table: 3 × 5\n",
       "\n",
       "| <!--/--> | cond0 &lt;chr&gt; | estimate &lt;ppj_lbll&gt; | ci &lt;ppj_lbll&gt; | statistic &lt;ppj_lbll&gt; | p.value &lt;ppj_lbll&gt; |\n",
       "|---|---|---|---|---|---|\n",
       "| noun_F | noun_F | 4.06 | $[3.39$, $4.72]$ | 12.30 | &lt; .001 |\n",
       "| noun_M | noun_M | 4.20 | $[3.53$, $4.86]$ | 12.73 | &lt; .001 |\n",
       "| verb_X | verb_X | 4.02 | $[3.35$, $4.68]$ | 12.18 | &lt; .001 |\n",
       "\n"
      ],
      "text/plain": [
       "       cond0  estimate ci               statistic p.value\n",
       "noun_F noun_F 4.06     $[3.39$, $4.72]$ 12.30     < .001 \n",
       "noun_M noun_M 4.20     $[3.53$, $4.86]$ 12.73     < .001 \n",
       "verb_X verb_X 4.02     $[3.35$, $4.68]$ 12.18     < .001 "
      ]
     },
     "metadata": {},
     "output_type": "display_data"
    },
    {
     "data": {
      "text/markdown": [
       "### Paired comparisons for expected marginal means"
      ]
     },
     "metadata": {},
     "output_type": "display_data"
    },
    {
     "data": {
      "text/html": [
       "<table>\n",
       "<caption>A apa_results_table: 3 × 5</caption>\n",
       "<thead>\n",
       "\t<tr><th></th><th scope=col>contrast</th><th scope=col>estimate</th><th scope=col>ci</th><th scope=col>statistic</th><th scope=col>p.value</th></tr>\n",
       "\t<tr><th></th><th scope=col>&lt;ppj_lbll&gt;</th><th scope=col>&lt;ppj_lbll&gt;</th><th scope=col>&lt;ppj_lbll&gt;</th><th scope=col>&lt;ppj_lbll&gt;</th><th scope=col>&lt;ppj_lbll&gt;</th></tr>\n",
       "</thead>\n",
       "<tbody>\n",
       "\t<tr><th scope=row>noun_F_noun_M</th><td>noun_F - noun_M</td><td>-0.14</td><td>$[-0.43$, $0.15]$</td><td>-1.16</td><td>.483</td></tr>\n",
       "\t<tr><th scope=row>noun_F_verb_X</th><td>noun_F - verb_X</td><td>0.04 </td><td>$[-0.25$, $0.33]$</td><td>0.33 </td><td>.941</td></tr>\n",
       "\t<tr><th scope=row>noun_M_verb_X</th><td>noun_M - verb_X</td><td>0.18 </td><td>$[-0.11$, $0.47]$</td><td>1.49 </td><td>.301</td></tr>\n",
       "</tbody>\n",
       "</table>\n"
      ],
      "text/latex": [
       "A apa\\_results\\_table: 3 × 5\n",
       "\\begin{tabular}{r|lllll}\n",
       "  & contrast & estimate & ci & statistic & p.value\\\\\n",
       "  & <ppj\\_lbll> & <ppj\\_lbll> & <ppj\\_lbll> & <ppj\\_lbll> & <ppj\\_lbll>\\\\\n",
       "\\hline\n",
       "\tnoun\\_F\\_noun\\_M & noun\\_F - noun\\_M & -0.14 & \\${[}-0.43\\$, \\$0.15{]}\\$ & -1.16 & .483\\\\\n",
       "\tnoun\\_F\\_verb\\_X & noun\\_F - verb\\_X & 0.04  & \\${[}-0.25\\$, \\$0.33{]}\\$ & 0.33  & .941\\\\\n",
       "\tnoun\\_M\\_verb\\_X & noun\\_M - verb\\_X & 0.18  & \\${[}-0.11\\$, \\$0.47{]}\\$ & 1.49  & .301\\\\\n",
       "\\end{tabular}\n"
      ],
      "text/markdown": [
       "\n",
       "A apa_results_table: 3 × 5\n",
       "\n",
       "| <!--/--> | contrast &lt;ppj_lbll&gt; | estimate &lt;ppj_lbll&gt; | ci &lt;ppj_lbll&gt; | statistic &lt;ppj_lbll&gt; | p.value &lt;ppj_lbll&gt; |\n",
       "|---|---|---|---|---|---|\n",
       "| noun_F_noun_M | noun_F - noun_M | -0.14 | $[-0.43$, $0.15]$ | -1.16 | .483 |\n",
       "| noun_F_verb_X | noun_F - verb_X | 0.04  | $[-0.25$, $0.33]$ | 0.33  | .941 |\n",
       "| noun_M_verb_X | noun_M - verb_X | 0.18  | $[-0.11$, $0.47]$ | 1.49  | .301 |\n",
       "\n"
      ],
      "text/plain": [
       "              contrast        estimate ci                statistic p.value\n",
       "noun_F_noun_M noun_F - noun_M -0.14    $[-0.43$, $0.15]$ -1.16     .483   \n",
       "noun_F_verb_X noun_F - verb_X 0.04     $[-0.25$, $0.33]$ 0.33      .941   \n",
       "noun_M_verb_X noun_M - verb_X 0.18     $[-0.11$, $0.47]$ 1.49      .301   "
      ]
     },
     "metadata": {},
     "output_type": "display_data"
    }
   ],
   "source": [
    "IDX <- IDX+1; COND <- CONDS[IDX]\n",
    "data1 <- droplevels(subset(df1, eval(parse(text=COND)))); data1 <- data1[complete.cases(data1),]; done1 <- AOV4(data1,COND)\n",
    "display_markdown(str_c(\"# Condition \",IDX,\" of \",length(CONDS))); display_markdown(done1$info); display_markdown(\"### Table\"); done1$aov_APA$table; display_markdown(\"### Result\"); display_markdown(done1$aov_APA[[\"full_result\"]][[\"cond0\"]]); display_markdown(\"### Summary (all done1, incl. NANs)\"); done1$summary; display_markdown(\"### Expected marginal means\"); done1$emm_APA$table; display_markdown(\"### Paired comparisons for expected marginal means\"); done1$pairs_APA$table"
   ]
  },
  {
   "cell_type": "code",
   "execution_count": 177,
   "metadata": {},
   "outputs": [
    {
     "data": {
      "text/markdown": [
       "# Condition 10 of 72"
      ]
     },
     "metadata": {},
     "output_type": "display_data"
    },
    {
     "data": {
      "text/markdown": [
       "`tmin0==0.1 & chan0==\"LP\" & mode0==\"neg\"`"
      ]
     },
     "metadata": {},
     "output_type": "display_data"
    },
    {
     "data": {
      "text/markdown": [
       "### Table"
      ]
     },
     "metadata": {},
     "output_type": "display_data"
    },
    {
     "data": {
      "text/html": [
       "<table>\n",
       "<caption>A apa_results_table: 1 × 7</caption>\n",
       "<thead>\n",
       "\t<tr><th></th><th scope=col>Effect</th><th scope=col>F</th><th scope=col>df1</th><th scope=col>df2</th><th scope=col>MSE</th><th scope=col>p</th><th scope=col>ges</th></tr>\n",
       "\t<tr><th></th><th scope=col>&lt;ppj_lbll&gt;</th><th scope=col>&lt;ppj_lbll&gt;</th><th scope=col>&lt;ppj_lbll&gt;</th><th scope=col>&lt;ppj_lbll&gt;</th><th scope=col>&lt;ppj_lbll&gt;</th><th scope=col>&lt;ppj_lbll&gt;</th><th scope=col>&lt;ppj_lbll&gt;</th></tr>\n",
       "</thead>\n",
       "<tbody>\n",
       "\t<tr><th scope=row>1</th><td>Cond0</td><td>0.14</td><td>1.85</td><td>75.91</td><td>0.35</td><td>.856</td><td>.000</td></tr>\n",
       "</tbody>\n",
       "</table>\n"
      ],
      "text/latex": [
       "A apa\\_results\\_table: 1 × 7\n",
       "\\begin{tabular}{r|lllllll}\n",
       "  & Effect & F & df1 & df2 & MSE & p & ges\\\\\n",
       "  & <ppj\\_lbll> & <ppj\\_lbll> & <ppj\\_lbll> & <ppj\\_lbll> & <ppj\\_lbll> & <ppj\\_lbll> & <ppj\\_lbll>\\\\\n",
       "\\hline\n",
       "\t1 & Cond0 & 0.14 & 1.85 & 75.91 & 0.35 & .856 & .000\\\\\n",
       "\\end{tabular}\n"
      ],
      "text/markdown": [
       "\n",
       "A apa_results_table: 1 × 7\n",
       "\n",
       "| <!--/--> | Effect &lt;ppj_lbll&gt; | F &lt;ppj_lbll&gt; | df1 &lt;ppj_lbll&gt; | df2 &lt;ppj_lbll&gt; | MSE &lt;ppj_lbll&gt; | p &lt;ppj_lbll&gt; | ges &lt;ppj_lbll&gt; |\n",
       "|---|---|---|---|---|---|---|---|\n",
       "| 1 | Cond0 | 0.14 | 1.85 | 75.91 | 0.35 | .856 | .000 |\n",
       "\n"
      ],
      "text/plain": [
       "  Effect F    df1  df2   MSE  p    ges \n",
       "1 Cond0  0.14 1.85 75.91 0.35 .856 .000"
      ]
     },
     "metadata": {},
     "output_type": "display_data"
    },
    {
     "data": {
      "text/markdown": [
       "### Result"
      ]
     },
     "metadata": {},
     "output_type": "display_data"
    },
    {
     "data": {
      "text/markdown": [
       "$F(1.85, 75.91) = 0.14$, $\\mathit{MSE} = 0.35$, $p = .856$, $\\hat{\\eta}^2_G = .000$"
      ]
     },
     "metadata": {},
     "output_type": "display_data"
    },
    {
     "data": {
      "text/markdown": [
       "### Summary (all done1, incl. NANs)"
      ]
     },
     "metadata": {},
     "output_type": "display_data"
    },
    {
     "data": {
      "text/html": [
       "<table>\n",
       "<caption>A tibble: 3 × 5</caption>\n",
       "<thead>\n",
       "\t<tr><th scope=col>cond0</th><th scope=col>N</th><th scope=col>valX_M</th><th scope=col>valX_SD</th><th scope=col>valX_SE</th></tr>\n",
       "\t<tr><th scope=col>&lt;fct&gt;</th><th scope=col>&lt;int&gt;</th><th scope=col>&lt;dbl&gt;</th><th scope=col>&lt;dbl&gt;</th><th scope=col>&lt;dbl&gt;</th></tr>\n",
       "</thead>\n",
       "<tbody>\n",
       "\t<tr><td>noun_F</td><td>42</td><td>-2.062577</td><td>2.685225</td><td>0.4143392</td></tr>\n",
       "\t<tr><td>noun_M</td><td>42</td><td>-1.999838</td><td>2.554357</td><td>0.3941459</td></tr>\n",
       "\t<tr><td>verb_X</td><td>42</td><td>-2.046829</td><td>2.624049</td><td>0.4048996</td></tr>\n",
       "</tbody>\n",
       "</table>\n"
      ],
      "text/latex": [
       "A tibble: 3 × 5\n",
       "\\begin{tabular}{lllll}\n",
       " cond0 & N & valX\\_M & valX\\_SD & valX\\_SE\\\\\n",
       " <fct> & <int> & <dbl> & <dbl> & <dbl>\\\\\n",
       "\\hline\n",
       "\t noun\\_F & 42 & -2.062577 & 2.685225 & 0.4143392\\\\\n",
       "\t noun\\_M & 42 & -1.999838 & 2.554357 & 0.3941459\\\\\n",
       "\t verb\\_X & 42 & -2.046829 & 2.624049 & 0.4048996\\\\\n",
       "\\end{tabular}\n"
      ],
      "text/markdown": [
       "\n",
       "A tibble: 3 × 5\n",
       "\n",
       "| cond0 &lt;fct&gt; | N &lt;int&gt; | valX_M &lt;dbl&gt; | valX_SD &lt;dbl&gt; | valX_SE &lt;dbl&gt; |\n",
       "|---|---|---|---|---|\n",
       "| noun_F | 42 | -2.062577 | 2.685225 | 0.4143392 |\n",
       "| noun_M | 42 | -1.999838 | 2.554357 | 0.3941459 |\n",
       "| verb_X | 42 | -2.046829 | 2.624049 | 0.4048996 |\n",
       "\n"
      ],
      "text/plain": [
       "  cond0  N  valX_M    valX_SD  valX_SE  \n",
       "1 noun_F 42 -2.062577 2.685225 0.4143392\n",
       "2 noun_M 42 -1.999838 2.554357 0.3941459\n",
       "3 verb_X 42 -2.046829 2.624049 0.4048996"
      ]
     },
     "metadata": {},
     "output_type": "display_data"
    },
    {
     "data": {
      "text/markdown": [
       "### Expected marginal means"
      ]
     },
     "metadata": {},
     "output_type": "display_data"
    },
    {
     "data": {
      "text/html": [
       "<table>\n",
       "<caption>A apa_results_table: 3 × 5</caption>\n",
       "<thead>\n",
       "\t<tr><th></th><th scope=col>cond0</th><th scope=col>estimate</th><th scope=col>ci</th><th scope=col>statistic</th><th scope=col>p.value</th></tr>\n",
       "\t<tr><th></th><th scope=col>&lt;chr&gt;</th><th scope=col>&lt;ppj_lbll&gt;</th><th scope=col>&lt;ppj_lbll&gt;</th><th scope=col>&lt;ppj_lbll&gt;</th><th scope=col>&lt;ppj_lbll&gt;</th></tr>\n",
       "</thead>\n",
       "<tbody>\n",
       "\t<tr><th scope=row>noun_F</th><td>noun_F</td><td>-2.06</td><td>$[-2.88$, $-1.25]$</td><td>-5.10</td><td>&lt; .001</td></tr>\n",
       "\t<tr><th scope=row>noun_M</th><td>noun_M</td><td>-2.00</td><td>$[-2.82$, $-1.18]$</td><td>-4.94</td><td>&lt; .001</td></tr>\n",
       "\t<tr><th scope=row>verb_X</th><td>verb_X</td><td>-2.05</td><td>$[-2.86$, $-1.23]$</td><td>-5.06</td><td>&lt; .001</td></tr>\n",
       "</tbody>\n",
       "</table>\n"
      ],
      "text/latex": [
       "A apa\\_results\\_table: 3 × 5\n",
       "\\begin{tabular}{r|lllll}\n",
       "  & cond0 & estimate & ci & statistic & p.value\\\\\n",
       "  & <chr> & <ppj\\_lbll> & <ppj\\_lbll> & <ppj\\_lbll> & <ppj\\_lbll>\\\\\n",
       "\\hline\n",
       "\tnoun\\_F & noun\\_F & -2.06 & \\${[}-2.88\\$, \\$-1.25{]}\\$ & -5.10 & < .001\\\\\n",
       "\tnoun\\_M & noun\\_M & -2.00 & \\${[}-2.82\\$, \\$-1.18{]}\\$ & -4.94 & < .001\\\\\n",
       "\tverb\\_X & verb\\_X & -2.05 & \\${[}-2.86\\$, \\$-1.23{]}\\$ & -5.06 & < .001\\\\\n",
       "\\end{tabular}\n"
      ],
      "text/markdown": [
       "\n",
       "A apa_results_table: 3 × 5\n",
       "\n",
       "| <!--/--> | cond0 &lt;chr&gt; | estimate &lt;ppj_lbll&gt; | ci &lt;ppj_lbll&gt; | statistic &lt;ppj_lbll&gt; | p.value &lt;ppj_lbll&gt; |\n",
       "|---|---|---|---|---|---|\n",
       "| noun_F | noun_F | -2.06 | $[-2.88$, $-1.25]$ | -5.10 | &lt; .001 |\n",
       "| noun_M | noun_M | -2.00 | $[-2.82$, $-1.18]$ | -4.94 | &lt; .001 |\n",
       "| verb_X | verb_X | -2.05 | $[-2.86$, $-1.23]$ | -5.06 | &lt; .001 |\n",
       "\n"
      ],
      "text/plain": [
       "       cond0  estimate ci                 statistic p.value\n",
       "noun_F noun_F -2.06    $[-2.88$, $-1.25]$ -5.10     < .001 \n",
       "noun_M noun_M -2.00    $[-2.82$, $-1.18]$ -4.94     < .001 \n",
       "verb_X verb_X -2.05    $[-2.86$, $-1.23]$ -5.06     < .001 "
      ]
     },
     "metadata": {},
     "output_type": "display_data"
    },
    {
     "data": {
      "text/markdown": [
       "### Paired comparisons for expected marginal means"
      ]
     },
     "metadata": {},
     "output_type": "display_data"
    },
    {
     "data": {
      "text/html": [
       "<table>\n",
       "<caption>A apa_results_table: 3 × 5</caption>\n",
       "<thead>\n",
       "\t<tr><th></th><th scope=col>contrast</th><th scope=col>estimate</th><th scope=col>ci</th><th scope=col>statistic</th><th scope=col>p.value</th></tr>\n",
       "\t<tr><th></th><th scope=col>&lt;ppj_lbll&gt;</th><th scope=col>&lt;ppj_lbll&gt;</th><th scope=col>&lt;ppj_lbll&gt;</th><th scope=col>&lt;ppj_lbll&gt;</th><th scope=col>&lt;ppj_lbll&gt;</th></tr>\n",
       "</thead>\n",
       "<tbody>\n",
       "\t<tr><th scope=row>noun_F_noun_M</th><td>noun_F - noun_M</td><td>-0.06</td><td>$[-0.36$, $0.23]$</td><td>-0.51</td><td>.869</td></tr>\n",
       "\t<tr><th scope=row>noun_F_verb_X</th><td>noun_F - verb_X</td><td>-0.02</td><td>$[-0.31$, $0.28]$</td><td>-0.13</td><td>.991</td></tr>\n",
       "\t<tr><th scope=row>noun_M_verb_X</th><td>noun_M - verb_X</td><td>0.05 </td><td>$[-0.25$, $0.34]$</td><td>0.38 </td><td>.924</td></tr>\n",
       "</tbody>\n",
       "</table>\n"
      ],
      "text/latex": [
       "A apa\\_results\\_table: 3 × 5\n",
       "\\begin{tabular}{r|lllll}\n",
       "  & contrast & estimate & ci & statistic & p.value\\\\\n",
       "  & <ppj\\_lbll> & <ppj\\_lbll> & <ppj\\_lbll> & <ppj\\_lbll> & <ppj\\_lbll>\\\\\n",
       "\\hline\n",
       "\tnoun\\_F\\_noun\\_M & noun\\_F - noun\\_M & -0.06 & \\${[}-0.36\\$, \\$0.23{]}\\$ & -0.51 & .869\\\\\n",
       "\tnoun\\_F\\_verb\\_X & noun\\_F - verb\\_X & -0.02 & \\${[}-0.31\\$, \\$0.28{]}\\$ & -0.13 & .991\\\\\n",
       "\tnoun\\_M\\_verb\\_X & noun\\_M - verb\\_X & 0.05  & \\${[}-0.25\\$, \\$0.34{]}\\$ & 0.38  & .924\\\\\n",
       "\\end{tabular}\n"
      ],
      "text/markdown": [
       "\n",
       "A apa_results_table: 3 × 5\n",
       "\n",
       "| <!--/--> | contrast &lt;ppj_lbll&gt; | estimate &lt;ppj_lbll&gt; | ci &lt;ppj_lbll&gt; | statistic &lt;ppj_lbll&gt; | p.value &lt;ppj_lbll&gt; |\n",
       "|---|---|---|---|---|---|\n",
       "| noun_F_noun_M | noun_F - noun_M | -0.06 | $[-0.36$, $0.23]$ | -0.51 | .869 |\n",
       "| noun_F_verb_X | noun_F - verb_X | -0.02 | $[-0.31$, $0.28]$ | -0.13 | .991 |\n",
       "| noun_M_verb_X | noun_M - verb_X | 0.05  | $[-0.25$, $0.34]$ | 0.38  | .924 |\n",
       "\n"
      ],
      "text/plain": [
       "              contrast        estimate ci                statistic p.value\n",
       "noun_F_noun_M noun_F - noun_M -0.06    $[-0.36$, $0.23]$ -0.51     .869   \n",
       "noun_F_verb_X noun_F - verb_X -0.02    $[-0.31$, $0.28]$ -0.13     .991   \n",
       "noun_M_verb_X noun_M - verb_X 0.05     $[-0.25$, $0.34]$ 0.38      .924   "
      ]
     },
     "metadata": {},
     "output_type": "display_data"
    }
   ],
   "source": [
    "IDX <- IDX+1; COND <- CONDS[IDX]\n",
    "data1 <- droplevels(subset(df1, eval(parse(text=COND)))); data1 <- data1[complete.cases(data1),]; done1 <- AOV4(data1,COND)\n",
    "display_markdown(str_c(\"# Condition \",IDX,\" of \",length(CONDS))); display_markdown(done1$info); display_markdown(\"### Table\"); done1$aov_APA$table; display_markdown(\"### Result\"); display_markdown(done1$aov_APA[[\"full_result\"]][[\"cond0\"]]); display_markdown(\"### Summary (all done1, incl. NANs)\"); done1$summary; display_markdown(\"### Expected marginal means\"); done1$emm_APA$table; display_markdown(\"### Paired comparisons for expected marginal means\"); done1$pairs_APA$table"
   ]
  },
  {
   "cell_type": "code",
   "execution_count": 178,
   "metadata": {},
   "outputs": [
    {
     "data": {
      "text/markdown": [
       "# Condition 11 of 72"
      ]
     },
     "metadata": {},
     "output_type": "display_data"
    },
    {
     "data": {
      "text/markdown": [
       "`tmin0==0.1 & chan0==\"RP\" & mode0==\"pos\"`"
      ]
     },
     "metadata": {},
     "output_type": "display_data"
    },
    {
     "data": {
      "text/markdown": [
       "### Table"
      ]
     },
     "metadata": {},
     "output_type": "display_data"
    },
    {
     "data": {
      "text/html": [
       "<table>\n",
       "<caption>A apa_results_table: 1 × 7</caption>\n",
       "<thead>\n",
       "\t<tr><th></th><th scope=col>Effect</th><th scope=col>F</th><th scope=col>df1</th><th scope=col>df2</th><th scope=col>MSE</th><th scope=col>p</th><th scope=col>ges</th></tr>\n",
       "\t<tr><th></th><th scope=col>&lt;ppj_lbll&gt;</th><th scope=col>&lt;ppj_lbll&gt;</th><th scope=col>&lt;ppj_lbll&gt;</th><th scope=col>&lt;ppj_lbll&gt;</th><th scope=col>&lt;ppj_lbll&gt;</th><th scope=col>&lt;ppj_lbll&gt;</th><th scope=col>&lt;ppj_lbll&gt;</th></tr>\n",
       "</thead>\n",
       "<tbody>\n",
       "\t<tr><th scope=row>1</th><td>Cond0</td><td>0.64</td><td>1.81</td><td>74.02</td><td>0.39</td><td>.515</td><td>.001</td></tr>\n",
       "</tbody>\n",
       "</table>\n"
      ],
      "text/latex": [
       "A apa\\_results\\_table: 1 × 7\n",
       "\\begin{tabular}{r|lllllll}\n",
       "  & Effect & F & df1 & df2 & MSE & p & ges\\\\\n",
       "  & <ppj\\_lbll> & <ppj\\_lbll> & <ppj\\_lbll> & <ppj\\_lbll> & <ppj\\_lbll> & <ppj\\_lbll> & <ppj\\_lbll>\\\\\n",
       "\\hline\n",
       "\t1 & Cond0 & 0.64 & 1.81 & 74.02 & 0.39 & .515 & .001\\\\\n",
       "\\end{tabular}\n"
      ],
      "text/markdown": [
       "\n",
       "A apa_results_table: 1 × 7\n",
       "\n",
       "| <!--/--> | Effect &lt;ppj_lbll&gt; | F &lt;ppj_lbll&gt; | df1 &lt;ppj_lbll&gt; | df2 &lt;ppj_lbll&gt; | MSE &lt;ppj_lbll&gt; | p &lt;ppj_lbll&gt; | ges &lt;ppj_lbll&gt; |\n",
       "|---|---|---|---|---|---|---|---|\n",
       "| 1 | Cond0 | 0.64 | 1.81 | 74.02 | 0.39 | .515 | .001 |\n",
       "\n"
      ],
      "text/plain": [
       "  Effect F    df1  df2   MSE  p    ges \n",
       "1 Cond0  0.64 1.81 74.02 0.39 .515 .001"
      ]
     },
     "metadata": {},
     "output_type": "display_data"
    },
    {
     "data": {
      "text/markdown": [
       "### Result"
      ]
     },
     "metadata": {},
     "output_type": "display_data"
    },
    {
     "data": {
      "text/markdown": [
       "$F(1.81, 74.02) = 0.64$, $\\mathit{MSE} = 0.39$, $p = .515$, $\\hat{\\eta}^2_G = .001$"
      ]
     },
     "metadata": {},
     "output_type": "display_data"
    },
    {
     "data": {
      "text/markdown": [
       "### Summary (all done1, incl. NANs)"
      ]
     },
     "metadata": {},
     "output_type": "display_data"
    },
    {
     "data": {
      "text/html": [
       "<table>\n",
       "<caption>A tibble: 3 × 5</caption>\n",
       "<thead>\n",
       "\t<tr><th scope=col>cond0</th><th scope=col>N</th><th scope=col>valX_M</th><th scope=col>valX_SD</th><th scope=col>valX_SE</th></tr>\n",
       "\t<tr><th scope=col>&lt;fct&gt;</th><th scope=col>&lt;int&gt;</th><th scope=col>&lt;dbl&gt;</th><th scope=col>&lt;dbl&gt;</th><th scope=col>&lt;dbl&gt;</th></tr>\n",
       "</thead>\n",
       "<tbody>\n",
       "\t<tr><td>noun_F</td><td>42</td><td>5.247797</td><td>2.638329</td><td>0.4071030</td></tr>\n",
       "\t<tr><td>noun_M</td><td>42</td><td>5.106216</td><td>2.669565</td><td>0.4119228</td></tr>\n",
       "\t<tr><td>verb_X</td><td>42</td><td>5.210179</td><td>2.521894</td><td>0.3891366</td></tr>\n",
       "</tbody>\n",
       "</table>\n"
      ],
      "text/latex": [
       "A tibble: 3 × 5\n",
       "\\begin{tabular}{lllll}\n",
       " cond0 & N & valX\\_M & valX\\_SD & valX\\_SE\\\\\n",
       " <fct> & <int> & <dbl> & <dbl> & <dbl>\\\\\n",
       "\\hline\n",
       "\t noun\\_F & 42 & 5.247797 & 2.638329 & 0.4071030\\\\\n",
       "\t noun\\_M & 42 & 5.106216 & 2.669565 & 0.4119228\\\\\n",
       "\t verb\\_X & 42 & 5.210179 & 2.521894 & 0.3891366\\\\\n",
       "\\end{tabular}\n"
      ],
      "text/markdown": [
       "\n",
       "A tibble: 3 × 5\n",
       "\n",
       "| cond0 &lt;fct&gt; | N &lt;int&gt; | valX_M &lt;dbl&gt; | valX_SD &lt;dbl&gt; | valX_SE &lt;dbl&gt; |\n",
       "|---|---|---|---|---|\n",
       "| noun_F | 42 | 5.247797 | 2.638329 | 0.4071030 |\n",
       "| noun_M | 42 | 5.106216 | 2.669565 | 0.4119228 |\n",
       "| verb_X | 42 | 5.210179 | 2.521894 | 0.3891366 |\n",
       "\n"
      ],
      "text/plain": [
       "  cond0  N  valX_M   valX_SD  valX_SE  \n",
       "1 noun_F 42 5.247797 2.638329 0.4071030\n",
       "2 noun_M 42 5.106216 2.669565 0.4119228\n",
       "3 verb_X 42 5.210179 2.521894 0.3891366"
      ]
     },
     "metadata": {},
     "output_type": "display_data"
    },
    {
     "data": {
      "text/markdown": [
       "### Expected marginal means"
      ]
     },
     "metadata": {},
     "output_type": "display_data"
    },
    {
     "data": {
      "text/html": [
       "<table>\n",
       "<caption>A apa_results_table: 3 × 5</caption>\n",
       "<thead>\n",
       "\t<tr><th></th><th scope=col>cond0</th><th scope=col>estimate</th><th scope=col>ci</th><th scope=col>statistic</th><th scope=col>p.value</th></tr>\n",
       "\t<tr><th></th><th scope=col>&lt;chr&gt;</th><th scope=col>&lt;ppj_lbll&gt;</th><th scope=col>&lt;ppj_lbll&gt;</th><th scope=col>&lt;ppj_lbll&gt;</th><th scope=col>&lt;ppj_lbll&gt;</th></tr>\n",
       "</thead>\n",
       "<tbody>\n",
       "\t<tr><th scope=row>noun_F</th><td>noun_F</td><td>5.25</td><td>$[4.44$, $6.06]$</td><td>13.03</td><td>&lt; .001</td></tr>\n",
       "\t<tr><th scope=row>noun_M</th><td>noun_M</td><td>5.11</td><td>$[4.29$, $5.92]$</td><td>12.68</td><td>&lt; .001</td></tr>\n",
       "\t<tr><th scope=row>verb_X</th><td>verb_X</td><td>5.21</td><td>$[4.40$, $6.02]$</td><td>12.93</td><td>&lt; .001</td></tr>\n",
       "</tbody>\n",
       "</table>\n"
      ],
      "text/latex": [
       "A apa\\_results\\_table: 3 × 5\n",
       "\\begin{tabular}{r|lllll}\n",
       "  & cond0 & estimate & ci & statistic & p.value\\\\\n",
       "  & <chr> & <ppj\\_lbll> & <ppj\\_lbll> & <ppj\\_lbll> & <ppj\\_lbll>\\\\\n",
       "\\hline\n",
       "\tnoun\\_F & noun\\_F & 5.25 & \\${[}4.44\\$, \\$6.06{]}\\$ & 13.03 & < .001\\\\\n",
       "\tnoun\\_M & noun\\_M & 5.11 & \\${[}4.29\\$, \\$5.92{]}\\$ & 12.68 & < .001\\\\\n",
       "\tverb\\_X & verb\\_X & 5.21 & \\${[}4.40\\$, \\$6.02{]}\\$ & 12.93 & < .001\\\\\n",
       "\\end{tabular}\n"
      ],
      "text/markdown": [
       "\n",
       "A apa_results_table: 3 × 5\n",
       "\n",
       "| <!--/--> | cond0 &lt;chr&gt; | estimate &lt;ppj_lbll&gt; | ci &lt;ppj_lbll&gt; | statistic &lt;ppj_lbll&gt; | p.value &lt;ppj_lbll&gt; |\n",
       "|---|---|---|---|---|---|\n",
       "| noun_F | noun_F | 5.25 | $[4.44$, $6.06]$ | 13.03 | &lt; .001 |\n",
       "| noun_M | noun_M | 5.11 | $[4.29$, $5.92]$ | 12.68 | &lt; .001 |\n",
       "| verb_X | verb_X | 5.21 | $[4.40$, $6.02]$ | 12.93 | &lt; .001 |\n",
       "\n"
      ],
      "text/plain": [
       "       cond0  estimate ci               statistic p.value\n",
       "noun_F noun_F 5.25     $[4.44$, $6.06]$ 13.03     < .001 \n",
       "noun_M noun_M 5.11     $[4.29$, $5.92]$ 12.68     < .001 \n",
       "verb_X verb_X 5.21     $[4.40$, $6.02]$ 12.93     < .001 "
      ]
     },
     "metadata": {},
     "output_type": "display_data"
    },
    {
     "data": {
      "text/markdown": [
       "### Paired comparisons for expected marginal means"
      ]
     },
     "metadata": {},
     "output_type": "display_data"
    },
    {
     "data": {
      "text/html": [
       "<table>\n",
       "<caption>A apa_results_table: 3 × 5</caption>\n",
       "<thead>\n",
       "\t<tr><th></th><th scope=col>contrast</th><th scope=col>estimate</th><th scope=col>ci</th><th scope=col>statistic</th><th scope=col>p.value</th></tr>\n",
       "\t<tr><th></th><th scope=col>&lt;ppj_lbll&gt;</th><th scope=col>&lt;ppj_lbll&gt;</th><th scope=col>&lt;ppj_lbll&gt;</th><th scope=col>&lt;ppj_lbll&gt;</th><th scope=col>&lt;ppj_lbll&gt;</th></tr>\n",
       "</thead>\n",
       "<tbody>\n",
       "\t<tr><th scope=row>noun_F_noun_M</th><td>noun_F - noun_M</td><td>0.14 </td><td>$[-0.17$, $0.45]$</td><td>1.09 </td><td>.522</td></tr>\n",
       "\t<tr><th scope=row>noun_F_verb_X</th><td>noun_F - verb_X</td><td>0.04 </td><td>$[-0.27$, $0.35]$</td><td>0.29 </td><td>.955</td></tr>\n",
       "\t<tr><th scope=row>noun_M_verb_X</th><td>noun_M - verb_X</td><td>-0.10</td><td>$[-0.41$, $0.21]$</td><td>-0.80</td><td>.703</td></tr>\n",
       "</tbody>\n",
       "</table>\n"
      ],
      "text/latex": [
       "A apa\\_results\\_table: 3 × 5\n",
       "\\begin{tabular}{r|lllll}\n",
       "  & contrast & estimate & ci & statistic & p.value\\\\\n",
       "  & <ppj\\_lbll> & <ppj\\_lbll> & <ppj\\_lbll> & <ppj\\_lbll> & <ppj\\_lbll>\\\\\n",
       "\\hline\n",
       "\tnoun\\_F\\_noun\\_M & noun\\_F - noun\\_M & 0.14  & \\${[}-0.17\\$, \\$0.45{]}\\$ & 1.09  & .522\\\\\n",
       "\tnoun\\_F\\_verb\\_X & noun\\_F - verb\\_X & 0.04  & \\${[}-0.27\\$, \\$0.35{]}\\$ & 0.29  & .955\\\\\n",
       "\tnoun\\_M\\_verb\\_X & noun\\_M - verb\\_X & -0.10 & \\${[}-0.41\\$, \\$0.21{]}\\$ & -0.80 & .703\\\\\n",
       "\\end{tabular}\n"
      ],
      "text/markdown": [
       "\n",
       "A apa_results_table: 3 × 5\n",
       "\n",
       "| <!--/--> | contrast &lt;ppj_lbll&gt; | estimate &lt;ppj_lbll&gt; | ci &lt;ppj_lbll&gt; | statistic &lt;ppj_lbll&gt; | p.value &lt;ppj_lbll&gt; |\n",
       "|---|---|---|---|---|---|\n",
       "| noun_F_noun_M | noun_F - noun_M | 0.14  | $[-0.17$, $0.45]$ | 1.09  | .522 |\n",
       "| noun_F_verb_X | noun_F - verb_X | 0.04  | $[-0.27$, $0.35]$ | 0.29  | .955 |\n",
       "| noun_M_verb_X | noun_M - verb_X | -0.10 | $[-0.41$, $0.21]$ | -0.80 | .703 |\n",
       "\n"
      ],
      "text/plain": [
       "              contrast        estimate ci                statistic p.value\n",
       "noun_F_noun_M noun_F - noun_M 0.14     $[-0.17$, $0.45]$ 1.09      .522   \n",
       "noun_F_verb_X noun_F - verb_X 0.04     $[-0.27$, $0.35]$ 0.29      .955   \n",
       "noun_M_verb_X noun_M - verb_X -0.10    $[-0.41$, $0.21]$ -0.80     .703   "
      ]
     },
     "metadata": {},
     "output_type": "display_data"
    }
   ],
   "source": [
    "IDX <- IDX+1; COND <- CONDS[IDX]\n",
    "data1 <- droplevels(subset(df1, eval(parse(text=COND)))); data1 <- data1[complete.cases(data1),]; done1 <- AOV4(data1,COND)\n",
    "display_markdown(str_c(\"# Condition \",IDX,\" of \",length(CONDS))); display_markdown(done1$info); display_markdown(\"### Table\"); done1$aov_APA$table; display_markdown(\"### Result\"); display_markdown(done1$aov_APA[[\"full_result\"]][[\"cond0\"]]); display_markdown(\"### Summary (all done1, incl. NANs)\"); done1$summary; display_markdown(\"### Expected marginal means\"); done1$emm_APA$table; display_markdown(\"### Paired comparisons for expected marginal means\"); done1$pairs_APA$table"
   ]
  },
  {
   "cell_type": "code",
   "execution_count": 179,
   "metadata": {},
   "outputs": [
    {
     "name": "stderr",
     "output_type": "stream",
     "text": [
      "Warning message in summary.Anova.mlm(x$Anova):\n",
      "“HF eps > 1 treated as 1”\n"
     ]
    },
    {
     "data": {
      "text/markdown": [
       "# Condition 12 of 72"
      ]
     },
     "metadata": {},
     "output_type": "display_data"
    },
    {
     "data": {
      "text/markdown": [
       "`tmin0==0.1 & chan0==\"RP\" & mode0==\"neg\"`"
      ]
     },
     "metadata": {},
     "output_type": "display_data"
    },
    {
     "data": {
      "text/markdown": [
       "### Table"
      ]
     },
     "metadata": {},
     "output_type": "display_data"
    },
    {
     "data": {
      "text/html": [
       "<table>\n",
       "<caption>A apa_results_table: 1 × 7</caption>\n",
       "<thead>\n",
       "\t<tr><th></th><th scope=col>Effect</th><th scope=col>F</th><th scope=col>df1</th><th scope=col>df2</th><th scope=col>MSE</th><th scope=col>p</th><th scope=col>ges</th></tr>\n",
       "\t<tr><th></th><th scope=col>&lt;ppj_lbll&gt;</th><th scope=col>&lt;ppj_lbll&gt;</th><th scope=col>&lt;ppj_lbll&gt;</th><th scope=col>&lt;ppj_lbll&gt;</th><th scope=col>&lt;ppj_lbll&gt;</th><th scope=col>&lt;ppj_lbll&gt;</th><th scope=col>&lt;ppj_lbll&gt;</th></tr>\n",
       "</thead>\n",
       "<tbody>\n",
       "\t<tr><th scope=row>1</th><td>Cond0</td><td>4.84</td><td>2.00</td><td>81.82</td><td>0.31</td><td>.010</td><td>.008</td></tr>\n",
       "</tbody>\n",
       "</table>\n"
      ],
      "text/latex": [
       "A apa\\_results\\_table: 1 × 7\n",
       "\\begin{tabular}{r|lllllll}\n",
       "  & Effect & F & df1 & df2 & MSE & p & ges\\\\\n",
       "  & <ppj\\_lbll> & <ppj\\_lbll> & <ppj\\_lbll> & <ppj\\_lbll> & <ppj\\_lbll> & <ppj\\_lbll> & <ppj\\_lbll>\\\\\n",
       "\\hline\n",
       "\t1 & Cond0 & 4.84 & 2.00 & 81.82 & 0.31 & .010 & .008\\\\\n",
       "\\end{tabular}\n"
      ],
      "text/markdown": [
       "\n",
       "A apa_results_table: 1 × 7\n",
       "\n",
       "| <!--/--> | Effect &lt;ppj_lbll&gt; | F &lt;ppj_lbll&gt; | df1 &lt;ppj_lbll&gt; | df2 &lt;ppj_lbll&gt; | MSE &lt;ppj_lbll&gt; | p &lt;ppj_lbll&gt; | ges &lt;ppj_lbll&gt; |\n",
       "|---|---|---|---|---|---|---|---|\n",
       "| 1 | Cond0 | 4.84 | 2.00 | 81.82 | 0.31 | .010 | .008 |\n",
       "\n"
      ],
      "text/plain": [
       "  Effect F    df1  df2   MSE  p    ges \n",
       "1 Cond0  4.84 2.00 81.82 0.31 .010 .008"
      ]
     },
     "metadata": {},
     "output_type": "display_data"
    },
    {
     "data": {
      "text/markdown": [
       "### Result"
      ]
     },
     "metadata": {},
     "output_type": "display_data"
    },
    {
     "data": {
      "text/markdown": [
       "$F(2.00, 81.82) = 4.84$, $\\mathit{MSE} = 0.31$, $p = .010$, $\\hat{\\eta}^2_G = .008$"
      ]
     },
     "metadata": {},
     "output_type": "display_data"
    },
    {
     "data": {
      "text/markdown": [
       "### Summary (all done1, incl. NANs)"
      ]
     },
     "metadata": {},
     "output_type": "display_data"
    },
    {
     "data": {
      "text/html": [
       "<table>\n",
       "<caption>A tibble: 3 × 5</caption>\n",
       "<thead>\n",
       "\t<tr><th scope=col>cond0</th><th scope=col>N</th><th scope=col>valX_M</th><th scope=col>valX_SD</th><th scope=col>valX_SE</th></tr>\n",
       "\t<tr><th scope=col>&lt;fct&gt;</th><th scope=col>&lt;int&gt;</th><th scope=col>&lt;dbl&gt;</th><th scope=col>&lt;dbl&gt;</th><th scope=col>&lt;dbl&gt;</th></tr>\n",
       "</thead>\n",
       "<tbody>\n",
       "\t<tr><td>noun_F</td><td>42</td><td>-0.6203155</td><td>1.791694</td><td>0.2764643</td></tr>\n",
       "\t<tr><td>noun_M</td><td>42</td><td>-0.2421227</td><td>1.676090</td><td>0.2586263</td></tr>\n",
       "\t<tr><td>verb_X</td><td>42</td><td>-0.4475602</td><td>1.696056</td><td>0.2617071</td></tr>\n",
       "</tbody>\n",
       "</table>\n"
      ],
      "text/latex": [
       "A tibble: 3 × 5\n",
       "\\begin{tabular}{lllll}\n",
       " cond0 & N & valX\\_M & valX\\_SD & valX\\_SE\\\\\n",
       " <fct> & <int> & <dbl> & <dbl> & <dbl>\\\\\n",
       "\\hline\n",
       "\t noun\\_F & 42 & -0.6203155 & 1.791694 & 0.2764643\\\\\n",
       "\t noun\\_M & 42 & -0.2421227 & 1.676090 & 0.2586263\\\\\n",
       "\t verb\\_X & 42 & -0.4475602 & 1.696056 & 0.2617071\\\\\n",
       "\\end{tabular}\n"
      ],
      "text/markdown": [
       "\n",
       "A tibble: 3 × 5\n",
       "\n",
       "| cond0 &lt;fct&gt; | N &lt;int&gt; | valX_M &lt;dbl&gt; | valX_SD &lt;dbl&gt; | valX_SE &lt;dbl&gt; |\n",
       "|---|---|---|---|---|\n",
       "| noun_F | 42 | -0.6203155 | 1.791694 | 0.2764643 |\n",
       "| noun_M | 42 | -0.2421227 | 1.676090 | 0.2586263 |\n",
       "| verb_X | 42 | -0.4475602 | 1.696056 | 0.2617071 |\n",
       "\n"
      ],
      "text/plain": [
       "  cond0  N  valX_M     valX_SD  valX_SE  \n",
       "1 noun_F 42 -0.6203155 1.791694 0.2764643\n",
       "2 noun_M 42 -0.2421227 1.676090 0.2586263\n",
       "3 verb_X 42 -0.4475602 1.696056 0.2617071"
      ]
     },
     "metadata": {},
     "output_type": "display_data"
    },
    {
     "data": {
      "text/markdown": [
       "### Expected marginal means"
      ]
     },
     "metadata": {},
     "output_type": "display_data"
    },
    {
     "data": {
      "text/html": [
       "<table>\n",
       "<caption>A apa_results_table: 3 × 5</caption>\n",
       "<thead>\n",
       "\t<tr><th></th><th scope=col>cond0</th><th scope=col>estimate</th><th scope=col>ci</th><th scope=col>statistic</th><th scope=col>p.value</th></tr>\n",
       "\t<tr><th></th><th scope=col>&lt;chr&gt;</th><th scope=col>&lt;ppj_lbll&gt;</th><th scope=col>&lt;ppj_lbll&gt;</th><th scope=col>&lt;ppj_lbll&gt;</th><th scope=col>&lt;ppj_lbll&gt;</th></tr>\n",
       "</thead>\n",
       "<tbody>\n",
       "\t<tr><th scope=row>noun_F</th><td>noun_F</td><td>-0.62</td><td>$[-1.15$, $-0.09]$</td><td>-2.33</td><td>.024</td></tr>\n",
       "\t<tr><th scope=row>noun_M</th><td>noun_M</td><td>-0.24</td><td>$[-0.78$, $0.29]$ </td><td>-0.91</td><td>.367</td></tr>\n",
       "\t<tr><th scope=row>verb_X</th><td>verb_X</td><td>-0.45</td><td>$[-0.98$, $0.09]$ </td><td>-1.68</td><td>.099</td></tr>\n",
       "</tbody>\n",
       "</table>\n"
      ],
      "text/latex": [
       "A apa\\_results\\_table: 3 × 5\n",
       "\\begin{tabular}{r|lllll}\n",
       "  & cond0 & estimate & ci & statistic & p.value\\\\\n",
       "  & <chr> & <ppj\\_lbll> & <ppj\\_lbll> & <ppj\\_lbll> & <ppj\\_lbll>\\\\\n",
       "\\hline\n",
       "\tnoun\\_F & noun\\_F & -0.62 & \\${[}-1.15\\$, \\$-0.09{]}\\$ & -2.33 & .024\\\\\n",
       "\tnoun\\_M & noun\\_M & -0.24 & \\${[}-0.78\\$, \\$0.29{]}\\$  & -0.91 & .367\\\\\n",
       "\tverb\\_X & verb\\_X & -0.45 & \\${[}-0.98\\$, \\$0.09{]}\\$  & -1.68 & .099\\\\\n",
       "\\end{tabular}\n"
      ],
      "text/markdown": [
       "\n",
       "A apa_results_table: 3 × 5\n",
       "\n",
       "| <!--/--> | cond0 &lt;chr&gt; | estimate &lt;ppj_lbll&gt; | ci &lt;ppj_lbll&gt; | statistic &lt;ppj_lbll&gt; | p.value &lt;ppj_lbll&gt; |\n",
       "|---|---|---|---|---|---|\n",
       "| noun_F | noun_F | -0.62 | $[-1.15$, $-0.09]$ | -2.33 | .024 |\n",
       "| noun_M | noun_M | -0.24 | $[-0.78$, $0.29]$  | -0.91 | .367 |\n",
       "| verb_X | verb_X | -0.45 | $[-0.98$, $0.09]$  | -1.68 | .099 |\n",
       "\n"
      ],
      "text/plain": [
       "       cond0  estimate ci                 statistic p.value\n",
       "noun_F noun_F -0.62    $[-1.15$, $-0.09]$ -2.33     .024   \n",
       "noun_M noun_M -0.24    $[-0.78$, $0.29]$  -0.91     .367   \n",
       "verb_X verb_X -0.45    $[-0.98$, $0.09]$  -1.68     .099   "
      ]
     },
     "metadata": {},
     "output_type": "display_data"
    },
    {
     "data": {
      "text/markdown": [
       "### Paired comparisons for expected marginal means"
      ]
     },
     "metadata": {},
     "output_type": "display_data"
    },
    {
     "data": {
      "text/html": [
       "<table>\n",
       "<caption>A apa_results_table: 3 × 5</caption>\n",
       "<thead>\n",
       "\t<tr><th></th><th scope=col>contrast</th><th scope=col>estimate</th><th scope=col>ci</th><th scope=col>statistic</th><th scope=col>p.value</th></tr>\n",
       "\t<tr><th></th><th scope=col>&lt;ppj_lbll&gt;</th><th scope=col>&lt;ppj_lbll&gt;</th><th scope=col>&lt;ppj_lbll&gt;</th><th scope=col>&lt;ppj_lbll&gt;</th><th scope=col>&lt;ppj_lbll&gt;</th></tr>\n",
       "</thead>\n",
       "<tbody>\n",
       "\t<tr><th scope=row>noun_F_noun_M</th><td>noun_F - noun_M</td><td>-0.38</td><td>$[-0.67$, $-0.09]$</td><td>-3.11</td><td>.007</td></tr>\n",
       "\t<tr><th scope=row>noun_F_verb_X</th><td>noun_F - verb_X</td><td>-0.17</td><td>$[-0.46$, $0.12]$ </td><td>-1.42</td><td>.336</td></tr>\n",
       "\t<tr><th scope=row>noun_M_verb_X</th><td>noun_M - verb_X</td><td>0.21 </td><td>$[-0.09$, $0.50]$ </td><td>1.69 </td><td>.216</td></tr>\n",
       "</tbody>\n",
       "</table>\n"
      ],
      "text/latex": [
       "A apa\\_results\\_table: 3 × 5\n",
       "\\begin{tabular}{r|lllll}\n",
       "  & contrast & estimate & ci & statistic & p.value\\\\\n",
       "  & <ppj\\_lbll> & <ppj\\_lbll> & <ppj\\_lbll> & <ppj\\_lbll> & <ppj\\_lbll>\\\\\n",
       "\\hline\n",
       "\tnoun\\_F\\_noun\\_M & noun\\_F - noun\\_M & -0.38 & \\${[}-0.67\\$, \\$-0.09{]}\\$ & -3.11 & .007\\\\\n",
       "\tnoun\\_F\\_verb\\_X & noun\\_F - verb\\_X & -0.17 & \\${[}-0.46\\$, \\$0.12{]}\\$  & -1.42 & .336\\\\\n",
       "\tnoun\\_M\\_verb\\_X & noun\\_M - verb\\_X & 0.21  & \\${[}-0.09\\$, \\$0.50{]}\\$  & 1.69  & .216\\\\\n",
       "\\end{tabular}\n"
      ],
      "text/markdown": [
       "\n",
       "A apa_results_table: 3 × 5\n",
       "\n",
       "| <!--/--> | contrast &lt;ppj_lbll&gt; | estimate &lt;ppj_lbll&gt; | ci &lt;ppj_lbll&gt; | statistic &lt;ppj_lbll&gt; | p.value &lt;ppj_lbll&gt; |\n",
       "|---|---|---|---|---|---|\n",
       "| noun_F_noun_M | noun_F - noun_M | -0.38 | $[-0.67$, $-0.09]$ | -3.11 | .007 |\n",
       "| noun_F_verb_X | noun_F - verb_X | -0.17 | $[-0.46$, $0.12]$  | -1.42 | .336 |\n",
       "| noun_M_verb_X | noun_M - verb_X | 0.21  | $[-0.09$, $0.50]$  | 1.69  | .216 |\n",
       "\n"
      ],
      "text/plain": [
       "              contrast        estimate ci                 statistic p.value\n",
       "noun_F_noun_M noun_F - noun_M -0.38    $[-0.67$, $-0.09]$ -3.11     .007   \n",
       "noun_F_verb_X noun_F - verb_X -0.17    $[-0.46$, $0.12]$  -1.42     .336   \n",
       "noun_M_verb_X noun_M - verb_X 0.21     $[-0.09$, $0.50]$  1.69      .216   "
      ]
     },
     "metadata": {},
     "output_type": "display_data"
    }
   ],
   "source": [
    "IDX <- IDX+1; COND <- CONDS[IDX]\n",
    "data1 <- droplevels(subset(df1, eval(parse(text=COND)))); data1 <- data1[complete.cases(data1),]; done1 <- AOV4(data1,COND)\n",
    "display_markdown(str_c(\"# Condition \",IDX,\" of \",length(CONDS))); display_markdown(done1$info); display_markdown(\"### Table\"); done1$aov_APA$table; display_markdown(\"### Result\"); display_markdown(done1$aov_APA[[\"full_result\"]][[\"cond0\"]]); display_markdown(\"### Summary (all done1, incl. NANs)\"); done1$summary; display_markdown(\"### Expected marginal means\"); done1$emm_APA$table; display_markdown(\"### Paired comparisons for expected marginal means\"); done1$pairs_APA$table"
   ]
  },
  {
   "cell_type": "code",
   "execution_count": 180,
   "metadata": {},
   "outputs": [
    {
     "data": {
      "text/markdown": [
       "# Condition 13 of 72"
      ]
     },
     "metadata": {},
     "output_type": "display_data"
    },
    {
     "data": {
      "text/markdown": [
       "`tmin0==0.19 & chan0==\"LF\" & mode0==\"pos\"`"
      ]
     },
     "metadata": {},
     "output_type": "display_data"
    },
    {
     "data": {
      "text/markdown": [
       "### Table"
      ]
     },
     "metadata": {},
     "output_type": "display_data"
    },
    {
     "data": {
      "text/html": [
       "<table>\n",
       "<caption>A apa_results_table: 1 × 7</caption>\n",
       "<thead>\n",
       "\t<tr><th></th><th scope=col>Effect</th><th scope=col>F</th><th scope=col>df1</th><th scope=col>df2</th><th scope=col>MSE</th><th scope=col>p</th><th scope=col>ges</th></tr>\n",
       "\t<tr><th></th><th scope=col>&lt;ppj_lbll&gt;</th><th scope=col>&lt;ppj_lbll&gt;</th><th scope=col>&lt;ppj_lbll&gt;</th><th scope=col>&lt;ppj_lbll&gt;</th><th scope=col>&lt;ppj_lbll&gt;</th><th scope=col>&lt;ppj_lbll&gt;</th><th scope=col>&lt;ppj_lbll&gt;</th></tr>\n",
       "</thead>\n",
       "<tbody>\n",
       "\t<tr><th scope=row>1</th><td>Cond0</td><td>1.85</td><td>1.82</td><td>74.52</td><td>0.33</td><td>.167</td><td>.003</td></tr>\n",
       "</tbody>\n",
       "</table>\n"
      ],
      "text/latex": [
       "A apa\\_results\\_table: 1 × 7\n",
       "\\begin{tabular}{r|lllllll}\n",
       "  & Effect & F & df1 & df2 & MSE & p & ges\\\\\n",
       "  & <ppj\\_lbll> & <ppj\\_lbll> & <ppj\\_lbll> & <ppj\\_lbll> & <ppj\\_lbll> & <ppj\\_lbll> & <ppj\\_lbll>\\\\\n",
       "\\hline\n",
       "\t1 & Cond0 & 1.85 & 1.82 & 74.52 & 0.33 & .167 & .003\\\\\n",
       "\\end{tabular}\n"
      ],
      "text/markdown": [
       "\n",
       "A apa_results_table: 1 × 7\n",
       "\n",
       "| <!--/--> | Effect &lt;ppj_lbll&gt; | F &lt;ppj_lbll&gt; | df1 &lt;ppj_lbll&gt; | df2 &lt;ppj_lbll&gt; | MSE &lt;ppj_lbll&gt; | p &lt;ppj_lbll&gt; | ges &lt;ppj_lbll&gt; |\n",
       "|---|---|---|---|---|---|---|---|\n",
       "| 1 | Cond0 | 1.85 | 1.82 | 74.52 | 0.33 | .167 | .003 |\n",
       "\n"
      ],
      "text/plain": [
       "  Effect F    df1  df2   MSE  p    ges \n",
       "1 Cond0  1.85 1.82 74.52 0.33 .167 .003"
      ]
     },
     "metadata": {},
     "output_type": "display_data"
    },
    {
     "data": {
      "text/markdown": [
       "### Result"
      ]
     },
     "metadata": {},
     "output_type": "display_data"
    },
    {
     "data": {
      "text/markdown": [
       "$F(1.82, 74.52) = 1.85$, $\\mathit{MSE} = 0.33$, $p = .167$, $\\hat{\\eta}^2_G = .003$"
      ]
     },
     "metadata": {},
     "output_type": "display_data"
    },
    {
     "data": {
      "text/markdown": [
       "### Summary (all done1, incl. NANs)"
      ]
     },
     "metadata": {},
     "output_type": "display_data"
    },
    {
     "data": {
      "text/html": [
       "<table>\n",
       "<caption>A tibble: 3 × 5</caption>\n",
       "<thead>\n",
       "\t<tr><th scope=col>cond0</th><th scope=col>N</th><th scope=col>valX_M</th><th scope=col>valX_SD</th><th scope=col>valX_SE</th></tr>\n",
       "\t<tr><th scope=col>&lt;fct&gt;</th><th scope=col>&lt;int&gt;</th><th scope=col>&lt;dbl&gt;</th><th scope=col>&lt;dbl&gt;</th><th scope=col>&lt;dbl&gt;</th></tr>\n",
       "</thead>\n",
       "<tbody>\n",
       "\t<tr><td>noun_F</td><td>42</td><td>2.126184</td><td>1.796150</td><td>0.2771520</td></tr>\n",
       "\t<tr><td>noun_M</td><td>42</td><td>1.954142</td><td>1.943283</td><td>0.2998551</td></tr>\n",
       "\t<tr><td>verb_X</td><td>42</td><td>1.909379</td><td>1.861813</td><td>0.2872840</td></tr>\n",
       "</tbody>\n",
       "</table>\n"
      ],
      "text/latex": [
       "A tibble: 3 × 5\n",
       "\\begin{tabular}{lllll}\n",
       " cond0 & N & valX\\_M & valX\\_SD & valX\\_SE\\\\\n",
       " <fct> & <int> & <dbl> & <dbl> & <dbl>\\\\\n",
       "\\hline\n",
       "\t noun\\_F & 42 & 2.126184 & 1.796150 & 0.2771520\\\\\n",
       "\t noun\\_M & 42 & 1.954142 & 1.943283 & 0.2998551\\\\\n",
       "\t verb\\_X & 42 & 1.909379 & 1.861813 & 0.2872840\\\\\n",
       "\\end{tabular}\n"
      ],
      "text/markdown": [
       "\n",
       "A tibble: 3 × 5\n",
       "\n",
       "| cond0 &lt;fct&gt; | N &lt;int&gt; | valX_M &lt;dbl&gt; | valX_SD &lt;dbl&gt; | valX_SE &lt;dbl&gt; |\n",
       "|---|---|---|---|---|\n",
       "| noun_F | 42 | 2.126184 | 1.796150 | 0.2771520 |\n",
       "| noun_M | 42 | 1.954142 | 1.943283 | 0.2998551 |\n",
       "| verb_X | 42 | 1.909379 | 1.861813 | 0.2872840 |\n",
       "\n"
      ],
      "text/plain": [
       "  cond0  N  valX_M   valX_SD  valX_SE  \n",
       "1 noun_F 42 2.126184 1.796150 0.2771520\n",
       "2 noun_M 42 1.954142 1.943283 0.2998551\n",
       "3 verb_X 42 1.909379 1.861813 0.2872840"
      ]
     },
     "metadata": {},
     "output_type": "display_data"
    },
    {
     "data": {
      "text/markdown": [
       "### Expected marginal means"
      ]
     },
     "metadata": {},
     "output_type": "display_data"
    },
    {
     "data": {
      "text/html": [
       "<table>\n",
       "<caption>A apa_results_table: 3 × 5</caption>\n",
       "<thead>\n",
       "\t<tr><th></th><th scope=col>cond0</th><th scope=col>estimate</th><th scope=col>ci</th><th scope=col>statistic</th><th scope=col>p.value</th></tr>\n",
       "\t<tr><th></th><th scope=col>&lt;chr&gt;</th><th scope=col>&lt;ppj_lbll&gt;</th><th scope=col>&lt;ppj_lbll&gt;</th><th scope=col>&lt;ppj_lbll&gt;</th><th scope=col>&lt;ppj_lbll&gt;</th></tr>\n",
       "</thead>\n",
       "<tbody>\n",
       "\t<tr><th scope=row>noun_F</th><td>noun_F</td><td>2.13</td><td>$[1.55$, $2.71]$</td><td>7.38</td><td>&lt; .001</td></tr>\n",
       "\t<tr><th scope=row>noun_M</th><td>noun_M</td><td>1.95</td><td>$[1.37$, $2.53]$</td><td>6.78</td><td>&lt; .001</td></tr>\n",
       "\t<tr><th scope=row>verb_X</th><td>verb_X</td><td>1.91</td><td>$[1.33$, $2.49]$</td><td>6.62</td><td>&lt; .001</td></tr>\n",
       "</tbody>\n",
       "</table>\n"
      ],
      "text/latex": [
       "A apa\\_results\\_table: 3 × 5\n",
       "\\begin{tabular}{r|lllll}\n",
       "  & cond0 & estimate & ci & statistic & p.value\\\\\n",
       "  & <chr> & <ppj\\_lbll> & <ppj\\_lbll> & <ppj\\_lbll> & <ppj\\_lbll>\\\\\n",
       "\\hline\n",
       "\tnoun\\_F & noun\\_F & 2.13 & \\${[}1.55\\$, \\$2.71{]}\\$ & 7.38 & < .001\\\\\n",
       "\tnoun\\_M & noun\\_M & 1.95 & \\${[}1.37\\$, \\$2.53{]}\\$ & 6.78 & < .001\\\\\n",
       "\tverb\\_X & verb\\_X & 1.91 & \\${[}1.33\\$, \\$2.49{]}\\$ & 6.62 & < .001\\\\\n",
       "\\end{tabular}\n"
      ],
      "text/markdown": [
       "\n",
       "A apa_results_table: 3 × 5\n",
       "\n",
       "| <!--/--> | cond0 &lt;chr&gt; | estimate &lt;ppj_lbll&gt; | ci &lt;ppj_lbll&gt; | statistic &lt;ppj_lbll&gt; | p.value &lt;ppj_lbll&gt; |\n",
       "|---|---|---|---|---|---|\n",
       "| noun_F | noun_F | 2.13 | $[1.55$, $2.71]$ | 7.38 | &lt; .001 |\n",
       "| noun_M | noun_M | 1.95 | $[1.37$, $2.53]$ | 6.78 | &lt; .001 |\n",
       "| verb_X | verb_X | 1.91 | $[1.33$, $2.49]$ | 6.62 | &lt; .001 |\n",
       "\n"
      ],
      "text/plain": [
       "       cond0  estimate ci               statistic p.value\n",
       "noun_F noun_F 2.13     $[1.55$, $2.71]$ 7.38      < .001 \n",
       "noun_M noun_M 1.95     $[1.37$, $2.53]$ 6.78      < .001 \n",
       "verb_X verb_X 1.91     $[1.33$, $2.49]$ 6.62      < .001 "
      ]
     },
     "metadata": {},
     "output_type": "display_data"
    },
    {
     "data": {
      "text/markdown": [
       "### Paired comparisons for expected marginal means"
      ]
     },
     "metadata": {},
     "output_type": "display_data"
    },
    {
     "data": {
      "text/html": [
       "<table>\n",
       "<caption>A apa_results_table: 3 × 5</caption>\n",
       "<thead>\n",
       "\t<tr><th></th><th scope=col>contrast</th><th scope=col>estimate</th><th scope=col>ci</th><th scope=col>statistic</th><th scope=col>p.value</th></tr>\n",
       "\t<tr><th></th><th scope=col>&lt;ppj_lbll&gt;</th><th scope=col>&lt;ppj_lbll&gt;</th><th scope=col>&lt;ppj_lbll&gt;</th><th scope=col>&lt;ppj_lbll&gt;</th><th scope=col>&lt;ppj_lbll&gt;</th></tr>\n",
       "</thead>\n",
       "<tbody>\n",
       "\t<tr><th scope=row>noun_F_noun_M</th><td>noun_F - noun_M</td><td>0.17</td><td>$[-0.11$, $0.46]$</td><td>1.45</td><td>.322</td></tr>\n",
       "\t<tr><th scope=row>noun_F_verb_X</th><td>noun_F - verb_X</td><td>0.22</td><td>$[-0.07$, $0.50]$</td><td>1.82</td><td>.169</td></tr>\n",
       "\t<tr><th scope=row>noun_M_verb_X</th><td>noun_M - verb_X</td><td>0.04</td><td>$[-0.24$, $0.33]$</td><td>0.38</td><td>.925</td></tr>\n",
       "</tbody>\n",
       "</table>\n"
      ],
      "text/latex": [
       "A apa\\_results\\_table: 3 × 5\n",
       "\\begin{tabular}{r|lllll}\n",
       "  & contrast & estimate & ci & statistic & p.value\\\\\n",
       "  & <ppj\\_lbll> & <ppj\\_lbll> & <ppj\\_lbll> & <ppj\\_lbll> & <ppj\\_lbll>\\\\\n",
       "\\hline\n",
       "\tnoun\\_F\\_noun\\_M & noun\\_F - noun\\_M & 0.17 & \\${[}-0.11\\$, \\$0.46{]}\\$ & 1.45 & .322\\\\\n",
       "\tnoun\\_F\\_verb\\_X & noun\\_F - verb\\_X & 0.22 & \\${[}-0.07\\$, \\$0.50{]}\\$ & 1.82 & .169\\\\\n",
       "\tnoun\\_M\\_verb\\_X & noun\\_M - verb\\_X & 0.04 & \\${[}-0.24\\$, \\$0.33{]}\\$ & 0.38 & .925\\\\\n",
       "\\end{tabular}\n"
      ],
      "text/markdown": [
       "\n",
       "A apa_results_table: 3 × 5\n",
       "\n",
       "| <!--/--> | contrast &lt;ppj_lbll&gt; | estimate &lt;ppj_lbll&gt; | ci &lt;ppj_lbll&gt; | statistic &lt;ppj_lbll&gt; | p.value &lt;ppj_lbll&gt; |\n",
       "|---|---|---|---|---|---|\n",
       "| noun_F_noun_M | noun_F - noun_M | 0.17 | $[-0.11$, $0.46]$ | 1.45 | .322 |\n",
       "| noun_F_verb_X | noun_F - verb_X | 0.22 | $[-0.07$, $0.50]$ | 1.82 | .169 |\n",
       "| noun_M_verb_X | noun_M - verb_X | 0.04 | $[-0.24$, $0.33]$ | 0.38 | .925 |\n",
       "\n"
      ],
      "text/plain": [
       "              contrast        estimate ci                statistic p.value\n",
       "noun_F_noun_M noun_F - noun_M 0.17     $[-0.11$, $0.46]$ 1.45      .322   \n",
       "noun_F_verb_X noun_F - verb_X 0.22     $[-0.07$, $0.50]$ 1.82      .169   \n",
       "noun_M_verb_X noun_M - verb_X 0.04     $[-0.24$, $0.33]$ 0.38      .925   "
      ]
     },
     "metadata": {},
     "output_type": "display_data"
    }
   ],
   "source": [
    "IDX <- IDX+1; COND <- CONDS[IDX]\n",
    "data1 <- droplevels(subset(df1, eval(parse(text=COND)))); data1 <- data1[complete.cases(data1),]; done1 <- AOV4(data1,COND)\n",
    "display_markdown(str_c(\"# Condition \",IDX,\" of \",length(CONDS))); display_markdown(done1$info); display_markdown(\"### Table\"); done1$aov_APA$table; display_markdown(\"### Result\"); display_markdown(done1$aov_APA[[\"full_result\"]][[\"cond0\"]]); display_markdown(\"### Summary (all done1, incl. NANs)\"); done1$summary; display_markdown(\"### Expected marginal means\"); done1$emm_APA$table; display_markdown(\"### Paired comparisons for expected marginal means\"); done1$pairs_APA$table"
   ]
  },
  {
   "cell_type": "code",
   "execution_count": 181,
   "metadata": {},
   "outputs": [
    {
     "data": {
      "text/markdown": [
       "# Condition 14 of 72"
      ]
     },
     "metadata": {},
     "output_type": "display_data"
    },
    {
     "data": {
      "text/markdown": [
       "`tmin0==0.19 & chan0==\"LF\" & mode0==\"neg\"`"
      ]
     },
     "metadata": {},
     "output_type": "display_data"
    },
    {
     "data": {
      "text/markdown": [
       "### Table"
      ]
     },
     "metadata": {},
     "output_type": "display_data"
    },
    {
     "data": {
      "text/html": [
       "<table>\n",
       "<caption>A apa_results_table: 1 × 7</caption>\n",
       "<thead>\n",
       "\t<tr><th></th><th scope=col>Effect</th><th scope=col>F</th><th scope=col>df1</th><th scope=col>df2</th><th scope=col>MSE</th><th scope=col>p</th><th scope=col>ges</th></tr>\n",
       "\t<tr><th></th><th scope=col>&lt;ppj_lbll&gt;</th><th scope=col>&lt;ppj_lbll&gt;</th><th scope=col>&lt;ppj_lbll&gt;</th><th scope=col>&lt;ppj_lbll&gt;</th><th scope=col>&lt;ppj_lbll&gt;</th><th scope=col>&lt;ppj_lbll&gt;</th><th scope=col>&lt;ppj_lbll&gt;</th></tr>\n",
       "</thead>\n",
       "<tbody>\n",
       "\t<tr><th scope=row>1</th><td>Cond0</td><td>0.14</td><td>1.88</td><td>77.05</td><td>0.40</td><td>.855</td><td>.000</td></tr>\n",
       "</tbody>\n",
       "</table>\n"
      ],
      "text/latex": [
       "A apa\\_results\\_table: 1 × 7\n",
       "\\begin{tabular}{r|lllllll}\n",
       "  & Effect & F & df1 & df2 & MSE & p & ges\\\\\n",
       "  & <ppj\\_lbll> & <ppj\\_lbll> & <ppj\\_lbll> & <ppj\\_lbll> & <ppj\\_lbll> & <ppj\\_lbll> & <ppj\\_lbll>\\\\\n",
       "\\hline\n",
       "\t1 & Cond0 & 0.14 & 1.88 & 77.05 & 0.40 & .855 & .000\\\\\n",
       "\\end{tabular}\n"
      ],
      "text/markdown": [
       "\n",
       "A apa_results_table: 1 × 7\n",
       "\n",
       "| <!--/--> | Effect &lt;ppj_lbll&gt; | F &lt;ppj_lbll&gt; | df1 &lt;ppj_lbll&gt; | df2 &lt;ppj_lbll&gt; | MSE &lt;ppj_lbll&gt; | p &lt;ppj_lbll&gt; | ges &lt;ppj_lbll&gt; |\n",
       "|---|---|---|---|---|---|---|---|\n",
       "| 1 | Cond0 | 0.14 | 1.88 | 77.05 | 0.40 | .855 | .000 |\n",
       "\n"
      ],
      "text/plain": [
       "  Effect F    df1  df2   MSE  p    ges \n",
       "1 Cond0  0.14 1.88 77.05 0.40 .855 .000"
      ]
     },
     "metadata": {},
     "output_type": "display_data"
    },
    {
     "data": {
      "text/markdown": [
       "### Result"
      ]
     },
     "metadata": {},
     "output_type": "display_data"
    },
    {
     "data": {
      "text/markdown": [
       "$F(1.88, 77.05) = 0.14$, $\\mathit{MSE} = 0.40$, $p = .855$, $\\hat{\\eta}^2_G = .000$"
      ]
     },
     "metadata": {},
     "output_type": "display_data"
    },
    {
     "data": {
      "text/markdown": [
       "### Summary (all done1, incl. NANs)"
      ]
     },
     "metadata": {},
     "output_type": "display_data"
    },
    {
     "data": {
      "text/html": [
       "<table>\n",
       "<caption>A tibble: 3 × 5</caption>\n",
       "<thead>\n",
       "\t<tr><th scope=col>cond0</th><th scope=col>N</th><th scope=col>valX_M</th><th scope=col>valX_SD</th><th scope=col>valX_SE</th></tr>\n",
       "\t<tr><th scope=col>&lt;fct&gt;</th><th scope=col>&lt;int&gt;</th><th scope=col>&lt;dbl&gt;</th><th scope=col>&lt;dbl&gt;</th><th scope=col>&lt;dbl&gt;</th></tr>\n",
       "</thead>\n",
       "<tbody>\n",
       "\t<tr><td>noun_F</td><td>42</td><td>-1.775206</td><td>1.772241</td><td>0.2734628</td></tr>\n",
       "\t<tr><td>noun_M</td><td>42</td><td>-1.844449</td><td>1.824880</td><td>0.2815851</td></tr>\n",
       "\t<tr><td>verb_X</td><td>42</td><td>-1.793346</td><td>1.680821</td><td>0.2593563</td></tr>\n",
       "</tbody>\n",
       "</table>\n"
      ],
      "text/latex": [
       "A tibble: 3 × 5\n",
       "\\begin{tabular}{lllll}\n",
       " cond0 & N & valX\\_M & valX\\_SD & valX\\_SE\\\\\n",
       " <fct> & <int> & <dbl> & <dbl> & <dbl>\\\\\n",
       "\\hline\n",
       "\t noun\\_F & 42 & -1.775206 & 1.772241 & 0.2734628\\\\\n",
       "\t noun\\_M & 42 & -1.844449 & 1.824880 & 0.2815851\\\\\n",
       "\t verb\\_X & 42 & -1.793346 & 1.680821 & 0.2593563\\\\\n",
       "\\end{tabular}\n"
      ],
      "text/markdown": [
       "\n",
       "A tibble: 3 × 5\n",
       "\n",
       "| cond0 &lt;fct&gt; | N &lt;int&gt; | valX_M &lt;dbl&gt; | valX_SD &lt;dbl&gt; | valX_SE &lt;dbl&gt; |\n",
       "|---|---|---|---|---|\n",
       "| noun_F | 42 | -1.775206 | 1.772241 | 0.2734628 |\n",
       "| noun_M | 42 | -1.844449 | 1.824880 | 0.2815851 |\n",
       "| verb_X | 42 | -1.793346 | 1.680821 | 0.2593563 |\n",
       "\n"
      ],
      "text/plain": [
       "  cond0  N  valX_M    valX_SD  valX_SE  \n",
       "1 noun_F 42 -1.775206 1.772241 0.2734628\n",
       "2 noun_M 42 -1.844449 1.824880 0.2815851\n",
       "3 verb_X 42 -1.793346 1.680821 0.2593563"
      ]
     },
     "metadata": {},
     "output_type": "display_data"
    },
    {
     "data": {
      "text/markdown": [
       "### Expected marginal means"
      ]
     },
     "metadata": {},
     "output_type": "display_data"
    },
    {
     "data": {
      "text/html": [
       "<table>\n",
       "<caption>A apa_results_table: 3 × 5</caption>\n",
       "<thead>\n",
       "\t<tr><th></th><th scope=col>cond0</th><th scope=col>estimate</th><th scope=col>ci</th><th scope=col>statistic</th><th scope=col>p.value</th></tr>\n",
       "\t<tr><th></th><th scope=col>&lt;chr&gt;</th><th scope=col>&lt;ppj_lbll&gt;</th><th scope=col>&lt;ppj_lbll&gt;</th><th scope=col>&lt;ppj_lbll&gt;</th><th scope=col>&lt;ppj_lbll&gt;</th></tr>\n",
       "</thead>\n",
       "<tbody>\n",
       "\t<tr><th scope=row>noun_F</th><td>noun_F</td><td>-1.78</td><td>$[-2.32$, $-1.23]$</td><td>-6.54</td><td>&lt; .001</td></tr>\n",
       "\t<tr><th scope=row>noun_M</th><td>noun_M</td><td>-1.84</td><td>$[-2.39$, $-1.30]$</td><td>-6.79</td><td>&lt; .001</td></tr>\n",
       "\t<tr><th scope=row>verb_X</th><td>verb_X</td><td>-1.79</td><td>$[-2.34$, $-1.25]$</td><td>-6.60</td><td>&lt; .001</td></tr>\n",
       "</tbody>\n",
       "</table>\n"
      ],
      "text/latex": [
       "A apa\\_results\\_table: 3 × 5\n",
       "\\begin{tabular}{r|lllll}\n",
       "  & cond0 & estimate & ci & statistic & p.value\\\\\n",
       "  & <chr> & <ppj\\_lbll> & <ppj\\_lbll> & <ppj\\_lbll> & <ppj\\_lbll>\\\\\n",
       "\\hline\n",
       "\tnoun\\_F & noun\\_F & -1.78 & \\${[}-2.32\\$, \\$-1.23{]}\\$ & -6.54 & < .001\\\\\n",
       "\tnoun\\_M & noun\\_M & -1.84 & \\${[}-2.39\\$, \\$-1.30{]}\\$ & -6.79 & < .001\\\\\n",
       "\tverb\\_X & verb\\_X & -1.79 & \\${[}-2.34\\$, \\$-1.25{]}\\$ & -6.60 & < .001\\\\\n",
       "\\end{tabular}\n"
      ],
      "text/markdown": [
       "\n",
       "A apa_results_table: 3 × 5\n",
       "\n",
       "| <!--/--> | cond0 &lt;chr&gt; | estimate &lt;ppj_lbll&gt; | ci &lt;ppj_lbll&gt; | statistic &lt;ppj_lbll&gt; | p.value &lt;ppj_lbll&gt; |\n",
       "|---|---|---|---|---|---|\n",
       "| noun_F | noun_F | -1.78 | $[-2.32$, $-1.23]$ | -6.54 | &lt; .001 |\n",
       "| noun_M | noun_M | -1.84 | $[-2.39$, $-1.30]$ | -6.79 | &lt; .001 |\n",
       "| verb_X | verb_X | -1.79 | $[-2.34$, $-1.25]$ | -6.60 | &lt; .001 |\n",
       "\n"
      ],
      "text/plain": [
       "       cond0  estimate ci                 statistic p.value\n",
       "noun_F noun_F -1.78    $[-2.32$, $-1.23]$ -6.54     < .001 \n",
       "noun_M noun_M -1.84    $[-2.39$, $-1.30]$ -6.79     < .001 \n",
       "verb_X verb_X -1.79    $[-2.34$, $-1.25]$ -6.60     < .001 "
      ]
     },
     "metadata": {},
     "output_type": "display_data"
    },
    {
     "data": {
      "text/markdown": [
       "### Paired comparisons for expected marginal means"
      ]
     },
     "metadata": {},
     "output_type": "display_data"
    },
    {
     "data": {
      "text/html": [
       "<table>\n",
       "<caption>A apa_results_table: 3 × 5</caption>\n",
       "<thead>\n",
       "\t<tr><th></th><th scope=col>contrast</th><th scope=col>estimate</th><th scope=col>ci</th><th scope=col>statistic</th><th scope=col>p.value</th></tr>\n",
       "\t<tr><th></th><th scope=col>&lt;ppj_lbll&gt;</th><th scope=col>&lt;ppj_lbll&gt;</th><th scope=col>&lt;ppj_lbll&gt;</th><th scope=col>&lt;ppj_lbll&gt;</th><th scope=col>&lt;ppj_lbll&gt;</th></tr>\n",
       "</thead>\n",
       "<tbody>\n",
       "\t<tr><th scope=row>noun_F_noun_M</th><td>noun_F - noun_M</td><td>0.07 </td><td>$[-0.25$, $0.39]$</td><td>0.52 </td><td>.864</td></tr>\n",
       "\t<tr><th scope=row>noun_F_verb_X</th><td>noun_F - verb_X</td><td>0.02 </td><td>$[-0.30$, $0.34]$</td><td>0.14 </td><td>.990</td></tr>\n",
       "\t<tr><th scope=row>noun_M_verb_X</th><td>noun_M - verb_X</td><td>-0.05</td><td>$[-0.37$, $0.27]$</td><td>-0.38</td><td>.923</td></tr>\n",
       "</tbody>\n",
       "</table>\n"
      ],
      "text/latex": [
       "A apa\\_results\\_table: 3 × 5\n",
       "\\begin{tabular}{r|lllll}\n",
       "  & contrast & estimate & ci & statistic & p.value\\\\\n",
       "  & <ppj\\_lbll> & <ppj\\_lbll> & <ppj\\_lbll> & <ppj\\_lbll> & <ppj\\_lbll>\\\\\n",
       "\\hline\n",
       "\tnoun\\_F\\_noun\\_M & noun\\_F - noun\\_M & 0.07  & \\${[}-0.25\\$, \\$0.39{]}\\$ & 0.52  & .864\\\\\n",
       "\tnoun\\_F\\_verb\\_X & noun\\_F - verb\\_X & 0.02  & \\${[}-0.30\\$, \\$0.34{]}\\$ & 0.14  & .990\\\\\n",
       "\tnoun\\_M\\_verb\\_X & noun\\_M - verb\\_X & -0.05 & \\${[}-0.37\\$, \\$0.27{]}\\$ & -0.38 & .923\\\\\n",
       "\\end{tabular}\n"
      ],
      "text/markdown": [
       "\n",
       "A apa_results_table: 3 × 5\n",
       "\n",
       "| <!--/--> | contrast &lt;ppj_lbll&gt; | estimate &lt;ppj_lbll&gt; | ci &lt;ppj_lbll&gt; | statistic &lt;ppj_lbll&gt; | p.value &lt;ppj_lbll&gt; |\n",
       "|---|---|---|---|---|---|\n",
       "| noun_F_noun_M | noun_F - noun_M | 0.07  | $[-0.25$, $0.39]$ | 0.52  | .864 |\n",
       "| noun_F_verb_X | noun_F - verb_X | 0.02  | $[-0.30$, $0.34]$ | 0.14  | .990 |\n",
       "| noun_M_verb_X | noun_M - verb_X | -0.05 | $[-0.37$, $0.27]$ | -0.38 | .923 |\n",
       "\n"
      ],
      "text/plain": [
       "              contrast        estimate ci                statistic p.value\n",
       "noun_F_noun_M noun_F - noun_M 0.07     $[-0.25$, $0.39]$ 0.52      .864   \n",
       "noun_F_verb_X noun_F - verb_X 0.02     $[-0.30$, $0.34]$ 0.14      .990   \n",
       "noun_M_verb_X noun_M - verb_X -0.05    $[-0.37$, $0.27]$ -0.38     .923   "
      ]
     },
     "metadata": {},
     "output_type": "display_data"
    }
   ],
   "source": [
    "IDX <- IDX+1; COND <- CONDS[IDX]\n",
    "data1 <- droplevels(subset(df1, eval(parse(text=COND)))); data1 <- data1[complete.cases(data1),]; done1 <- AOV4(data1,COND)\n",
    "display_markdown(str_c(\"# Condition \",IDX,\" of \",length(CONDS))); display_markdown(done1$info); display_markdown(\"### Table\"); done1$aov_APA$table; display_markdown(\"### Result\"); display_markdown(done1$aov_APA[[\"full_result\"]][[\"cond0\"]]); display_markdown(\"### Summary (all done1, incl. NANs)\"); done1$summary; display_markdown(\"### Expected marginal means\"); done1$emm_APA$table; display_markdown(\"### Paired comparisons for expected marginal means\"); done1$pairs_APA$table"
   ]
  },
  {
   "cell_type": "code",
   "execution_count": 182,
   "metadata": {},
   "outputs": [
    {
     "name": "stderr",
     "output_type": "stream",
     "text": [
      "Warning message in summary.Anova.mlm(x$Anova):\n",
      "“HF eps > 1 treated as 1”\n"
     ]
    },
    {
     "data": {
      "text/markdown": [
       "# Condition 15 of 72"
      ]
     },
     "metadata": {},
     "output_type": "display_data"
    },
    {
     "data": {
      "text/markdown": [
       "`tmin0==0.19 & chan0==\"RF\" & mode0==\"pos\"`"
      ]
     },
     "metadata": {},
     "output_type": "display_data"
    },
    {
     "data": {
      "text/markdown": [
       "### Table"
      ]
     },
     "metadata": {},
     "output_type": "display_data"
    },
    {
     "data": {
      "text/html": [
       "<table>\n",
       "<caption>A apa_results_table: 1 × 7</caption>\n",
       "<thead>\n",
       "\t<tr><th></th><th scope=col>Effect</th><th scope=col>F</th><th scope=col>df1</th><th scope=col>df2</th><th scope=col>MSE</th><th scope=col>p</th><th scope=col>ges</th></tr>\n",
       "\t<tr><th></th><th scope=col>&lt;ppj_lbll&gt;</th><th scope=col>&lt;ppj_lbll&gt;</th><th scope=col>&lt;ppj_lbll&gt;</th><th scope=col>&lt;ppj_lbll&gt;</th><th scope=col>&lt;ppj_lbll&gt;</th><th scope=col>&lt;ppj_lbll&gt;</th><th scope=col>&lt;ppj_lbll&gt;</th></tr>\n",
       "</thead>\n",
       "<tbody>\n",
       "\t<tr><th scope=row>1</th><td>Cond0</td><td>3.67</td><td>1.94</td><td>79.48</td><td>0.28</td><td>.031</td><td>.005</td></tr>\n",
       "</tbody>\n",
       "</table>\n"
      ],
      "text/latex": [
       "A apa\\_results\\_table: 1 × 7\n",
       "\\begin{tabular}{r|lllllll}\n",
       "  & Effect & F & df1 & df2 & MSE & p & ges\\\\\n",
       "  & <ppj\\_lbll> & <ppj\\_lbll> & <ppj\\_lbll> & <ppj\\_lbll> & <ppj\\_lbll> & <ppj\\_lbll> & <ppj\\_lbll>\\\\\n",
       "\\hline\n",
       "\t1 & Cond0 & 3.67 & 1.94 & 79.48 & 0.28 & .031 & .005\\\\\n",
       "\\end{tabular}\n"
      ],
      "text/markdown": [
       "\n",
       "A apa_results_table: 1 × 7\n",
       "\n",
       "| <!--/--> | Effect &lt;ppj_lbll&gt; | F &lt;ppj_lbll&gt; | df1 &lt;ppj_lbll&gt; | df2 &lt;ppj_lbll&gt; | MSE &lt;ppj_lbll&gt; | p &lt;ppj_lbll&gt; | ges &lt;ppj_lbll&gt; |\n",
       "|---|---|---|---|---|---|---|---|\n",
       "| 1 | Cond0 | 3.67 | 1.94 | 79.48 | 0.28 | .031 | .005 |\n",
       "\n"
      ],
      "text/plain": [
       "  Effect F    df1  df2   MSE  p    ges \n",
       "1 Cond0  3.67 1.94 79.48 0.28 .031 .005"
      ]
     },
     "metadata": {},
     "output_type": "display_data"
    },
    {
     "data": {
      "text/markdown": [
       "### Result"
      ]
     },
     "metadata": {},
     "output_type": "display_data"
    },
    {
     "data": {
      "text/markdown": [
       "$F(1.94, 79.48) = 3.67$, $\\mathit{MSE} = 0.28$, $p = .031$, $\\hat{\\eta}^2_G = .005$"
      ]
     },
     "metadata": {},
     "output_type": "display_data"
    },
    {
     "data": {
      "text/markdown": [
       "### Summary (all done1, incl. NANs)"
      ]
     },
     "metadata": {},
     "output_type": "display_data"
    },
    {
     "data": {
      "text/html": [
       "<table>\n",
       "<caption>A tibble: 3 × 5</caption>\n",
       "<thead>\n",
       "\t<tr><th scope=col>cond0</th><th scope=col>N</th><th scope=col>valX_M</th><th scope=col>valX_SD</th><th scope=col>valX_SE</th></tr>\n",
       "\t<tr><th scope=col>&lt;fct&gt;</th><th scope=col>&lt;int&gt;</th><th scope=col>&lt;dbl&gt;</th><th scope=col>&lt;dbl&gt;</th><th scope=col>&lt;dbl&gt;</th></tr>\n",
       "</thead>\n",
       "<tbody>\n",
       "\t<tr><td>noun_F</td><td>42</td><td>0.9362706</td><td>1.718330</td><td>0.2651441</td></tr>\n",
       "\t<tr><td>noun_M</td><td>42</td><td>0.6334266</td><td>1.657482</td><td>0.2557550</td></tr>\n",
       "\t<tr><td>verb_X</td><td>42</td><td>0.7394403</td><td>1.796061</td><td>0.2771383</td></tr>\n",
       "</tbody>\n",
       "</table>\n"
      ],
      "text/latex": [
       "A tibble: 3 × 5\n",
       "\\begin{tabular}{lllll}\n",
       " cond0 & N & valX\\_M & valX\\_SD & valX\\_SE\\\\\n",
       " <fct> & <int> & <dbl> & <dbl> & <dbl>\\\\\n",
       "\\hline\n",
       "\t noun\\_F & 42 & 0.9362706 & 1.718330 & 0.2651441\\\\\n",
       "\t noun\\_M & 42 & 0.6334266 & 1.657482 & 0.2557550\\\\\n",
       "\t verb\\_X & 42 & 0.7394403 & 1.796061 & 0.2771383\\\\\n",
       "\\end{tabular}\n"
      ],
      "text/markdown": [
       "\n",
       "A tibble: 3 × 5\n",
       "\n",
       "| cond0 &lt;fct&gt; | N &lt;int&gt; | valX_M &lt;dbl&gt; | valX_SD &lt;dbl&gt; | valX_SE &lt;dbl&gt; |\n",
       "|---|---|---|---|---|\n",
       "| noun_F | 42 | 0.9362706 | 1.718330 | 0.2651441 |\n",
       "| noun_M | 42 | 0.6334266 | 1.657482 | 0.2557550 |\n",
       "| verb_X | 42 | 0.7394403 | 1.796061 | 0.2771383 |\n",
       "\n"
      ],
      "text/plain": [
       "  cond0  N  valX_M    valX_SD  valX_SE  \n",
       "1 noun_F 42 0.9362706 1.718330 0.2651441\n",
       "2 noun_M 42 0.6334266 1.657482 0.2557550\n",
       "3 verb_X 42 0.7394403 1.796061 0.2771383"
      ]
     },
     "metadata": {},
     "output_type": "display_data"
    },
    {
     "data": {
      "text/markdown": [
       "### Expected marginal means"
      ]
     },
     "metadata": {},
     "output_type": "display_data"
    },
    {
     "data": {
      "text/html": [
       "<table>\n",
       "<caption>A apa_results_table: 3 × 5</caption>\n",
       "<thead>\n",
       "\t<tr><th></th><th scope=col>cond0</th><th scope=col>estimate</th><th scope=col>ci</th><th scope=col>statistic</th><th scope=col>p.value</th></tr>\n",
       "\t<tr><th></th><th scope=col>&lt;chr&gt;</th><th scope=col>&lt;ppj_lbll&gt;</th><th scope=col>&lt;ppj_lbll&gt;</th><th scope=col>&lt;ppj_lbll&gt;</th><th scope=col>&lt;ppj_lbll&gt;</th></tr>\n",
       "</thead>\n",
       "<tbody>\n",
       "\t<tr><th scope=row>noun_F</th><td>noun_F</td><td>0.94</td><td>$[0.40$, $1.47]$</td><td>3.52</td><td>.001</td></tr>\n",
       "\t<tr><th scope=row>noun_M</th><td>noun_M</td><td>0.63</td><td>$[0.10$, $1.17]$</td><td>2.38</td><td>.021</td></tr>\n",
       "\t<tr><th scope=row>verb_X</th><td>verb_X</td><td>0.74</td><td>$[0.20$, $1.28]$</td><td>2.78</td><td>.008</td></tr>\n",
       "</tbody>\n",
       "</table>\n"
      ],
      "text/latex": [
       "A apa\\_results\\_table: 3 × 5\n",
       "\\begin{tabular}{r|lllll}\n",
       "  & cond0 & estimate & ci & statistic & p.value\\\\\n",
       "  & <chr> & <ppj\\_lbll> & <ppj\\_lbll> & <ppj\\_lbll> & <ppj\\_lbll>\\\\\n",
       "\\hline\n",
       "\tnoun\\_F & noun\\_F & 0.94 & \\${[}0.40\\$, \\$1.47{]}\\$ & 3.52 & .001\\\\\n",
       "\tnoun\\_M & noun\\_M & 0.63 & \\${[}0.10\\$, \\$1.17{]}\\$ & 2.38 & .021\\\\\n",
       "\tverb\\_X & verb\\_X & 0.74 & \\${[}0.20\\$, \\$1.28{]}\\$ & 2.78 & .008\\\\\n",
       "\\end{tabular}\n"
      ],
      "text/markdown": [
       "\n",
       "A apa_results_table: 3 × 5\n",
       "\n",
       "| <!--/--> | cond0 &lt;chr&gt; | estimate &lt;ppj_lbll&gt; | ci &lt;ppj_lbll&gt; | statistic &lt;ppj_lbll&gt; | p.value &lt;ppj_lbll&gt; |\n",
       "|---|---|---|---|---|---|\n",
       "| noun_F | noun_F | 0.94 | $[0.40$, $1.47]$ | 3.52 | .001 |\n",
       "| noun_M | noun_M | 0.63 | $[0.10$, $1.17]$ | 2.38 | .021 |\n",
       "| verb_X | verb_X | 0.74 | $[0.20$, $1.28]$ | 2.78 | .008 |\n",
       "\n"
      ],
      "text/plain": [
       "       cond0  estimate ci               statistic p.value\n",
       "noun_F noun_F 0.94     $[0.40$, $1.47]$ 3.52      .001   \n",
       "noun_M noun_M 0.63     $[0.10$, $1.17]$ 2.38      .021   \n",
       "verb_X verb_X 0.74     $[0.20$, $1.28]$ 2.78      .008   "
      ]
     },
     "metadata": {},
     "output_type": "display_data"
    },
    {
     "data": {
      "text/markdown": [
       "### Paired comparisons for expected marginal means"
      ]
     },
     "metadata": {},
     "output_type": "display_data"
    },
    {
     "data": {
      "text/html": [
       "<table>\n",
       "<caption>A apa_results_table: 3 × 5</caption>\n",
       "<thead>\n",
       "\t<tr><th></th><th scope=col>contrast</th><th scope=col>estimate</th><th scope=col>ci</th><th scope=col>statistic</th><th scope=col>p.value</th></tr>\n",
       "\t<tr><th></th><th scope=col>&lt;ppj_lbll&gt;</th><th scope=col>&lt;ppj_lbll&gt;</th><th scope=col>&lt;ppj_lbll&gt;</th><th scope=col>&lt;ppj_lbll&gt;</th><th scope=col>&lt;ppj_lbll&gt;</th></tr>\n",
       "</thead>\n",
       "<tbody>\n",
       "\t<tr><th scope=row>noun_F_noun_M</th><td>noun_F - noun_M</td><td>0.30 </td><td>$[0.03$, $0.57]$ </td><td>2.67 </td><td>.024</td></tr>\n",
       "\t<tr><th scope=row>noun_F_verb_X</th><td>noun_F - verb_X</td><td>0.20 </td><td>$[-0.07$, $0.47]$</td><td>1.74 </td><td>.198</td></tr>\n",
       "\t<tr><th scope=row>noun_M_verb_X</th><td>noun_M - verb_X</td><td>-0.11</td><td>$[-0.38$, $0.16]$</td><td>-0.93</td><td>.620</td></tr>\n",
       "</tbody>\n",
       "</table>\n"
      ],
      "text/latex": [
       "A apa\\_results\\_table: 3 × 5\n",
       "\\begin{tabular}{r|lllll}\n",
       "  & contrast & estimate & ci & statistic & p.value\\\\\n",
       "  & <ppj\\_lbll> & <ppj\\_lbll> & <ppj\\_lbll> & <ppj\\_lbll> & <ppj\\_lbll>\\\\\n",
       "\\hline\n",
       "\tnoun\\_F\\_noun\\_M & noun\\_F - noun\\_M & 0.30  & \\${[}0.03\\$, \\$0.57{]}\\$  & 2.67  & .024\\\\\n",
       "\tnoun\\_F\\_verb\\_X & noun\\_F - verb\\_X & 0.20  & \\${[}-0.07\\$, \\$0.47{]}\\$ & 1.74  & .198\\\\\n",
       "\tnoun\\_M\\_verb\\_X & noun\\_M - verb\\_X & -0.11 & \\${[}-0.38\\$, \\$0.16{]}\\$ & -0.93 & .620\\\\\n",
       "\\end{tabular}\n"
      ],
      "text/markdown": [
       "\n",
       "A apa_results_table: 3 × 5\n",
       "\n",
       "| <!--/--> | contrast &lt;ppj_lbll&gt; | estimate &lt;ppj_lbll&gt; | ci &lt;ppj_lbll&gt; | statistic &lt;ppj_lbll&gt; | p.value &lt;ppj_lbll&gt; |\n",
       "|---|---|---|---|---|---|\n",
       "| noun_F_noun_M | noun_F - noun_M | 0.30  | $[0.03$, $0.57]$  | 2.67  | .024 |\n",
       "| noun_F_verb_X | noun_F - verb_X | 0.20  | $[-0.07$, $0.47]$ | 1.74  | .198 |\n",
       "| noun_M_verb_X | noun_M - verb_X | -0.11 | $[-0.38$, $0.16]$ | -0.93 | .620 |\n",
       "\n"
      ],
      "text/plain": [
       "              contrast        estimate ci                statistic p.value\n",
       "noun_F_noun_M noun_F - noun_M 0.30     $[0.03$, $0.57]$  2.67      .024   \n",
       "noun_F_verb_X noun_F - verb_X 0.20     $[-0.07$, $0.47]$ 1.74      .198   \n",
       "noun_M_verb_X noun_M - verb_X -0.11    $[-0.38$, $0.16]$ -0.93     .620   "
      ]
     },
     "metadata": {},
     "output_type": "display_data"
    }
   ],
   "source": [
    "IDX <- IDX+1; COND <- CONDS[IDX]\n",
    "data1 <- droplevels(subset(df1, eval(parse(text=COND)))); data1 <- data1[complete.cases(data1),]; done1 <- AOV4(data1,COND)\n",
    "display_markdown(str_c(\"# Condition \",IDX,\" of \",length(CONDS))); display_markdown(done1$info); display_markdown(\"### Table\"); done1$aov_APA$table; display_markdown(\"### Result\"); display_markdown(done1$aov_APA[[\"full_result\"]][[\"cond0\"]]); display_markdown(\"### Summary (all done1, incl. NANs)\"); done1$summary; display_markdown(\"### Expected marginal means\"); done1$emm_APA$table; display_markdown(\"### Paired comparisons for expected marginal means\"); done1$pairs_APA$table"
   ]
  },
  {
   "cell_type": "code",
   "execution_count": 183,
   "metadata": {},
   "outputs": [
    {
     "name": "stderr",
     "output_type": "stream",
     "text": [
      "Warning message in summary.Anova.mlm(x$Anova):\n",
      "“HF eps > 1 treated as 1”\n"
     ]
    },
    {
     "data": {
      "text/markdown": [
       "# Condition 16 of 72"
      ]
     },
     "metadata": {},
     "output_type": "display_data"
    },
    {
     "data": {
      "text/markdown": [
       "`tmin0==0.19 & chan0==\"RF\" & mode0==\"neg\"`"
      ]
     },
     "metadata": {},
     "output_type": "display_data"
    },
    {
     "data": {
      "text/markdown": [
       "### Table"
      ]
     },
     "metadata": {},
     "output_type": "display_data"
    },
    {
     "data": {
      "text/html": [
       "<table>\n",
       "<caption>A apa_results_table: 1 × 7</caption>\n",
       "<thead>\n",
       "\t<tr><th></th><th scope=col>Effect</th><th scope=col>F</th><th scope=col>df1</th><th scope=col>df2</th><th scope=col>MSE</th><th scope=col>p</th><th scope=col>ges</th></tr>\n",
       "\t<tr><th></th><th scope=col>&lt;ppj_lbll&gt;</th><th scope=col>&lt;ppj_lbll&gt;</th><th scope=col>&lt;ppj_lbll&gt;</th><th scope=col>&lt;ppj_lbll&gt;</th><th scope=col>&lt;ppj_lbll&gt;</th><th scope=col>&lt;ppj_lbll&gt;</th><th scope=col>&lt;ppj_lbll&gt;</th></tr>\n",
       "</thead>\n",
       "<tbody>\n",
       "\t<tr><th scope=row>1</th><td>Cond0</td><td>8.14</td><td>1.93</td><td>78.98</td><td>0.27</td><td>.001</td><td>.014</td></tr>\n",
       "</tbody>\n",
       "</table>\n"
      ],
      "text/latex": [
       "A apa\\_results\\_table: 1 × 7\n",
       "\\begin{tabular}{r|lllllll}\n",
       "  & Effect & F & df1 & df2 & MSE & p & ges\\\\\n",
       "  & <ppj\\_lbll> & <ppj\\_lbll> & <ppj\\_lbll> & <ppj\\_lbll> & <ppj\\_lbll> & <ppj\\_lbll> & <ppj\\_lbll>\\\\\n",
       "\\hline\n",
       "\t1 & Cond0 & 8.14 & 1.93 & 78.98 & 0.27 & .001 & .014\\\\\n",
       "\\end{tabular}\n"
      ],
      "text/markdown": [
       "\n",
       "A apa_results_table: 1 × 7\n",
       "\n",
       "| <!--/--> | Effect &lt;ppj_lbll&gt; | F &lt;ppj_lbll&gt; | df1 &lt;ppj_lbll&gt; | df2 &lt;ppj_lbll&gt; | MSE &lt;ppj_lbll&gt; | p &lt;ppj_lbll&gt; | ges &lt;ppj_lbll&gt; |\n",
       "|---|---|---|---|---|---|---|---|\n",
       "| 1 | Cond0 | 8.14 | 1.93 | 78.98 | 0.27 | .001 | .014 |\n",
       "\n"
      ],
      "text/plain": [
       "  Effect F    df1  df2   MSE  p    ges \n",
       "1 Cond0  8.14 1.93 78.98 0.27 .001 .014"
      ]
     },
     "metadata": {},
     "output_type": "display_data"
    },
    {
     "data": {
      "text/markdown": [
       "### Result"
      ]
     },
     "metadata": {},
     "output_type": "display_data"
    },
    {
     "data": {
      "text/markdown": [
       "$F(1.93, 78.98) = 8.14$, $\\mathit{MSE} = 0.27$, $p = .001$, $\\hat{\\eta}^2_G = .014$"
      ]
     },
     "metadata": {},
     "output_type": "display_data"
    },
    {
     "data": {
      "text/markdown": [
       "### Summary (all done1, incl. NANs)"
      ]
     },
     "metadata": {},
     "output_type": "display_data"
    },
    {
     "data": {
      "text/html": [
       "<table>\n",
       "<caption>A tibble: 3 × 5</caption>\n",
       "<thead>\n",
       "\t<tr><th scope=col>cond0</th><th scope=col>N</th><th scope=col>valX_M</th><th scope=col>valX_SD</th><th scope=col>valX_SE</th></tr>\n",
       "\t<tr><th scope=col>&lt;fct&gt;</th><th scope=col>&lt;int&gt;</th><th scope=col>&lt;dbl&gt;</th><th scope=col>&lt;dbl&gt;</th><th scope=col>&lt;dbl&gt;</th></tr>\n",
       "</thead>\n",
       "<tbody>\n",
       "\t<tr><td>noun_F</td><td>42</td><td>-2.539765</td><td>1.543277</td><td>0.2381328</td></tr>\n",
       "\t<tr><td>noun_M</td><td>42</td><td>-2.886127</td><td>1.687206</td><td>0.2603415</td></tr>\n",
       "\t<tr><td>verb_X</td><td>42</td><td>-2.462653</td><td>1.512767</td><td>0.2334249</td></tr>\n",
       "</tbody>\n",
       "</table>\n"
      ],
      "text/latex": [
       "A tibble: 3 × 5\n",
       "\\begin{tabular}{lllll}\n",
       " cond0 & N & valX\\_M & valX\\_SD & valX\\_SE\\\\\n",
       " <fct> & <int> & <dbl> & <dbl> & <dbl>\\\\\n",
       "\\hline\n",
       "\t noun\\_F & 42 & -2.539765 & 1.543277 & 0.2381328\\\\\n",
       "\t noun\\_M & 42 & -2.886127 & 1.687206 & 0.2603415\\\\\n",
       "\t verb\\_X & 42 & -2.462653 & 1.512767 & 0.2334249\\\\\n",
       "\\end{tabular}\n"
      ],
      "text/markdown": [
       "\n",
       "A tibble: 3 × 5\n",
       "\n",
       "| cond0 &lt;fct&gt; | N &lt;int&gt; | valX_M &lt;dbl&gt; | valX_SD &lt;dbl&gt; | valX_SE &lt;dbl&gt; |\n",
       "|---|---|---|---|---|\n",
       "| noun_F | 42 | -2.539765 | 1.543277 | 0.2381328 |\n",
       "| noun_M | 42 | -2.886127 | 1.687206 | 0.2603415 |\n",
       "| verb_X | 42 | -2.462653 | 1.512767 | 0.2334249 |\n",
       "\n"
      ],
      "text/plain": [
       "  cond0  N  valX_M    valX_SD  valX_SE  \n",
       "1 noun_F 42 -2.539765 1.543277 0.2381328\n",
       "2 noun_M 42 -2.886127 1.687206 0.2603415\n",
       "3 verb_X 42 -2.462653 1.512767 0.2334249"
      ]
     },
     "metadata": {},
     "output_type": "display_data"
    },
    {
     "data": {
      "text/markdown": [
       "### Expected marginal means"
      ]
     },
     "metadata": {},
     "output_type": "display_data"
    },
    {
     "data": {
      "text/html": [
       "<table>\n",
       "<caption>A apa_results_table: 3 × 5</caption>\n",
       "<thead>\n",
       "\t<tr><th></th><th scope=col>cond0</th><th scope=col>estimate</th><th scope=col>ci</th><th scope=col>statistic</th><th scope=col>p.value</th></tr>\n",
       "\t<tr><th></th><th scope=col>&lt;chr&gt;</th><th scope=col>&lt;ppj_lbll&gt;</th><th scope=col>&lt;ppj_lbll&gt;</th><th scope=col>&lt;ppj_lbll&gt;</th><th scope=col>&lt;ppj_lbll&gt;</th></tr>\n",
       "</thead>\n",
       "<tbody>\n",
       "\t<tr><th scope=row>noun_F</th><td>noun_F</td><td>-2.54</td><td>$[-3.03$, $-2.05]$</td><td>-10.40</td><td>&lt; .001</td></tr>\n",
       "\t<tr><th scope=row>noun_M</th><td>noun_M</td><td>-2.89</td><td>$[-3.38$, $-2.39]$</td><td>-11.82</td><td>&lt; .001</td></tr>\n",
       "\t<tr><th scope=row>verb_X</th><td>verb_X</td><td>-2.46</td><td>$[-2.95$, $-1.97]$</td><td>-10.08</td><td>&lt; .001</td></tr>\n",
       "</tbody>\n",
       "</table>\n"
      ],
      "text/latex": [
       "A apa\\_results\\_table: 3 × 5\n",
       "\\begin{tabular}{r|lllll}\n",
       "  & cond0 & estimate & ci & statistic & p.value\\\\\n",
       "  & <chr> & <ppj\\_lbll> & <ppj\\_lbll> & <ppj\\_lbll> & <ppj\\_lbll>\\\\\n",
       "\\hline\n",
       "\tnoun\\_F & noun\\_F & -2.54 & \\${[}-3.03\\$, \\$-2.05{]}\\$ & -10.40 & < .001\\\\\n",
       "\tnoun\\_M & noun\\_M & -2.89 & \\${[}-3.38\\$, \\$-2.39{]}\\$ & -11.82 & < .001\\\\\n",
       "\tverb\\_X & verb\\_X & -2.46 & \\${[}-2.95\\$, \\$-1.97{]}\\$ & -10.08 & < .001\\\\\n",
       "\\end{tabular}\n"
      ],
      "text/markdown": [
       "\n",
       "A apa_results_table: 3 × 5\n",
       "\n",
       "| <!--/--> | cond0 &lt;chr&gt; | estimate &lt;ppj_lbll&gt; | ci &lt;ppj_lbll&gt; | statistic &lt;ppj_lbll&gt; | p.value &lt;ppj_lbll&gt; |\n",
       "|---|---|---|---|---|---|\n",
       "| noun_F | noun_F | -2.54 | $[-3.03$, $-2.05]$ | -10.40 | &lt; .001 |\n",
       "| noun_M | noun_M | -2.89 | $[-3.38$, $-2.39]$ | -11.82 | &lt; .001 |\n",
       "| verb_X | verb_X | -2.46 | $[-2.95$, $-1.97]$ | -10.08 | &lt; .001 |\n",
       "\n"
      ],
      "text/plain": [
       "       cond0  estimate ci                 statistic p.value\n",
       "noun_F noun_F -2.54    $[-3.03$, $-2.05]$ -10.40    < .001 \n",
       "noun_M noun_M -2.89    $[-3.38$, $-2.39]$ -11.82    < .001 \n",
       "verb_X verb_X -2.46    $[-2.95$, $-1.97]$ -10.08    < .001 "
      ]
     },
     "metadata": {},
     "output_type": "display_data"
    },
    {
     "data": {
      "text/markdown": [
       "### Paired comparisons for expected marginal means"
      ]
     },
     "metadata": {},
     "output_type": "display_data"
    },
    {
     "data": {
      "text/html": [
       "<table>\n",
       "<caption>A apa_results_table: 3 × 5</caption>\n",
       "<thead>\n",
       "\t<tr><th></th><th scope=col>contrast</th><th scope=col>estimate</th><th scope=col>ci</th><th scope=col>statistic</th><th scope=col>p.value</th></tr>\n",
       "\t<tr><th></th><th scope=col>&lt;ppj_lbll&gt;</th><th scope=col>&lt;ppj_lbll&gt;</th><th scope=col>&lt;ppj_lbll&gt;</th><th scope=col>&lt;ppj_lbll&gt;</th><th scope=col>&lt;ppj_lbll&gt;</th></tr>\n",
       "</thead>\n",
       "<tbody>\n",
       "\t<tr><th scope=row>noun_F_noun_M</th><td>noun_F - noun_M</td><td>0.35 </td><td>$[0.08$, $0.61]$  </td><td>3.10 </td><td>.007</td></tr>\n",
       "\t<tr><th scope=row>noun_F_verb_X</th><td>noun_F - verb_X</td><td>-0.08</td><td>$[-0.34$, $0.19]$ </td><td>-0.69</td><td>.770</td></tr>\n",
       "\t<tr><th scope=row>noun_M_verb_X</th><td>noun_M - verb_X</td><td>-0.42</td><td>$[-0.69$, $-0.16]$</td><td>-3.79</td><td>.001</td></tr>\n",
       "</tbody>\n",
       "</table>\n"
      ],
      "text/latex": [
       "A apa\\_results\\_table: 3 × 5\n",
       "\\begin{tabular}{r|lllll}\n",
       "  & contrast & estimate & ci & statistic & p.value\\\\\n",
       "  & <ppj\\_lbll> & <ppj\\_lbll> & <ppj\\_lbll> & <ppj\\_lbll> & <ppj\\_lbll>\\\\\n",
       "\\hline\n",
       "\tnoun\\_F\\_noun\\_M & noun\\_F - noun\\_M & 0.35  & \\${[}0.08\\$, \\$0.61{]}\\$   & 3.10  & .007\\\\\n",
       "\tnoun\\_F\\_verb\\_X & noun\\_F - verb\\_X & -0.08 & \\${[}-0.34\\$, \\$0.19{]}\\$  & -0.69 & .770\\\\\n",
       "\tnoun\\_M\\_verb\\_X & noun\\_M - verb\\_X & -0.42 & \\${[}-0.69\\$, \\$-0.16{]}\\$ & -3.79 & .001\\\\\n",
       "\\end{tabular}\n"
      ],
      "text/markdown": [
       "\n",
       "A apa_results_table: 3 × 5\n",
       "\n",
       "| <!--/--> | contrast &lt;ppj_lbll&gt; | estimate &lt;ppj_lbll&gt; | ci &lt;ppj_lbll&gt; | statistic &lt;ppj_lbll&gt; | p.value &lt;ppj_lbll&gt; |\n",
       "|---|---|---|---|---|---|\n",
       "| noun_F_noun_M | noun_F - noun_M | 0.35  | $[0.08$, $0.61]$   | 3.10  | .007 |\n",
       "| noun_F_verb_X | noun_F - verb_X | -0.08 | $[-0.34$, $0.19]$  | -0.69 | .770 |\n",
       "| noun_M_verb_X | noun_M - verb_X | -0.42 | $[-0.69$, $-0.16]$ | -3.79 | .001 |\n",
       "\n"
      ],
      "text/plain": [
       "              contrast        estimate ci                 statistic p.value\n",
       "noun_F_noun_M noun_F - noun_M 0.35     $[0.08$, $0.61]$   3.10      .007   \n",
       "noun_F_verb_X noun_F - verb_X -0.08    $[-0.34$, $0.19]$  -0.69     .770   \n",
       "noun_M_verb_X noun_M - verb_X -0.42    $[-0.69$, $-0.16]$ -3.79     .001   "
      ]
     },
     "metadata": {},
     "output_type": "display_data"
    }
   ],
   "source": [
    "IDX <- IDX+1; COND <- CONDS[IDX]\n",
    "data1 <- droplevels(subset(df1, eval(parse(text=COND)))); data1 <- data1[complete.cases(data1),]; done1 <- AOV4(data1,COND)\n",
    "display_markdown(str_c(\"# Condition \",IDX,\" of \",length(CONDS))); display_markdown(done1$info); display_markdown(\"### Table\"); done1$aov_APA$table; display_markdown(\"### Result\"); display_markdown(done1$aov_APA[[\"full_result\"]][[\"cond0\"]]); display_markdown(\"### Summary (all done1, incl. NANs)\"); done1$summary; display_markdown(\"### Expected marginal means\"); done1$emm_APA$table; display_markdown(\"### Paired comparisons for expected marginal means\"); done1$pairs_APA$table"
   ]
  },
  {
   "cell_type": "code",
   "execution_count": 184,
   "metadata": {},
   "outputs": [
    {
     "data": {
      "text/markdown": [
       "# Condition 17 of 72"
      ]
     },
     "metadata": {},
     "output_type": "display_data"
    },
    {
     "data": {
      "text/markdown": [
       "`tmin0==0.19 & chan0==\"LC\" & mode0==\"pos\"`"
      ]
     },
     "metadata": {},
     "output_type": "display_data"
    },
    {
     "data": {
      "text/markdown": [
       "### Table"
      ]
     },
     "metadata": {},
     "output_type": "display_data"
    },
    {
     "data": {
      "text/html": [
       "<table>\n",
       "<caption>A apa_results_table: 1 × 7</caption>\n",
       "<thead>\n",
       "\t<tr><th></th><th scope=col>Effect</th><th scope=col>F</th><th scope=col>df1</th><th scope=col>df2</th><th scope=col>MSE</th><th scope=col>p</th><th scope=col>ges</th></tr>\n",
       "\t<tr><th></th><th scope=col>&lt;ppj_lbll&gt;</th><th scope=col>&lt;ppj_lbll&gt;</th><th scope=col>&lt;ppj_lbll&gt;</th><th scope=col>&lt;ppj_lbll&gt;</th><th scope=col>&lt;ppj_lbll&gt;</th><th scope=col>&lt;ppj_lbll&gt;</th><th scope=col>&lt;ppj_lbll&gt;</th></tr>\n",
       "</thead>\n",
       "<tbody>\n",
       "\t<tr><th scope=row>1</th><td>Cond0</td><td>0.13</td><td>1.76</td><td>72.28</td><td>0.18</td><td>.855</td><td>.000</td></tr>\n",
       "</tbody>\n",
       "</table>\n"
      ],
      "text/latex": [
       "A apa\\_results\\_table: 1 × 7\n",
       "\\begin{tabular}{r|lllllll}\n",
       "  & Effect & F & df1 & df2 & MSE & p & ges\\\\\n",
       "  & <ppj\\_lbll> & <ppj\\_lbll> & <ppj\\_lbll> & <ppj\\_lbll> & <ppj\\_lbll> & <ppj\\_lbll> & <ppj\\_lbll>\\\\\n",
       "\\hline\n",
       "\t1 & Cond0 & 0.13 & 1.76 & 72.28 & 0.18 & .855 & .000\\\\\n",
       "\\end{tabular}\n"
      ],
      "text/markdown": [
       "\n",
       "A apa_results_table: 1 × 7\n",
       "\n",
       "| <!--/--> | Effect &lt;ppj_lbll&gt; | F &lt;ppj_lbll&gt; | df1 &lt;ppj_lbll&gt; | df2 &lt;ppj_lbll&gt; | MSE &lt;ppj_lbll&gt; | p &lt;ppj_lbll&gt; | ges &lt;ppj_lbll&gt; |\n",
       "|---|---|---|---|---|---|---|---|\n",
       "| 1 | Cond0 | 0.13 | 1.76 | 72.28 | 0.18 | .855 | .000 |\n",
       "\n"
      ],
      "text/plain": [
       "  Effect F    df1  df2   MSE  p    ges \n",
       "1 Cond0  0.13 1.76 72.28 0.18 .855 .000"
      ]
     },
     "metadata": {},
     "output_type": "display_data"
    },
    {
     "data": {
      "text/markdown": [
       "### Result"
      ]
     },
     "metadata": {},
     "output_type": "display_data"
    },
    {
     "data": {
      "text/markdown": [
       "$F(1.76, 72.28) = 0.13$, $\\mathit{MSE} = 0.18$, $p = .855$, $\\hat{\\eta}^2_G = .000$"
      ]
     },
     "metadata": {},
     "output_type": "display_data"
    },
    {
     "data": {
      "text/markdown": [
       "### Summary (all done1, incl. NANs)"
      ]
     },
     "metadata": {},
     "output_type": "display_data"
    },
    {
     "data": {
      "text/html": [
       "<table>\n",
       "<caption>A tibble: 3 × 5</caption>\n",
       "<thead>\n",
       "\t<tr><th scope=col>cond0</th><th scope=col>N</th><th scope=col>valX_M</th><th scope=col>valX_SD</th><th scope=col>valX_SE</th></tr>\n",
       "\t<tr><th scope=col>&lt;fct&gt;</th><th scope=col>&lt;int&gt;</th><th scope=col>&lt;dbl&gt;</th><th scope=col>&lt;dbl&gt;</th><th scope=col>&lt;dbl&gt;</th></tr>\n",
       "</thead>\n",
       "<tbody>\n",
       "\t<tr><td>noun_F</td><td>42</td><td>1.575691</td><td>0.9292082</td><td>0.1433799</td></tr>\n",
       "\t<tr><td>noun_M</td><td>42</td><td>1.607413</td><td>0.9506111</td><td>0.1466825</td></tr>\n",
       "\t<tr><td>verb_X</td><td>42</td><td>1.564651</td><td>0.9283023</td><td>0.1432401</td></tr>\n",
       "</tbody>\n",
       "</table>\n"
      ],
      "text/latex": [
       "A tibble: 3 × 5\n",
       "\\begin{tabular}{lllll}\n",
       " cond0 & N & valX\\_M & valX\\_SD & valX\\_SE\\\\\n",
       " <fct> & <int> & <dbl> & <dbl> & <dbl>\\\\\n",
       "\\hline\n",
       "\t noun\\_F & 42 & 1.575691 & 0.9292082 & 0.1433799\\\\\n",
       "\t noun\\_M & 42 & 1.607413 & 0.9506111 & 0.1466825\\\\\n",
       "\t verb\\_X & 42 & 1.564651 & 0.9283023 & 0.1432401\\\\\n",
       "\\end{tabular}\n"
      ],
      "text/markdown": [
       "\n",
       "A tibble: 3 × 5\n",
       "\n",
       "| cond0 &lt;fct&gt; | N &lt;int&gt; | valX_M &lt;dbl&gt; | valX_SD &lt;dbl&gt; | valX_SE &lt;dbl&gt; |\n",
       "|---|---|---|---|---|\n",
       "| noun_F | 42 | 1.575691 | 0.9292082 | 0.1433799 |\n",
       "| noun_M | 42 | 1.607413 | 0.9506111 | 0.1466825 |\n",
       "| verb_X | 42 | 1.564651 | 0.9283023 | 0.1432401 |\n",
       "\n"
      ],
      "text/plain": [
       "  cond0  N  valX_M   valX_SD   valX_SE  \n",
       "1 noun_F 42 1.575691 0.9292082 0.1433799\n",
       "2 noun_M 42 1.607413 0.9506111 0.1466825\n",
       "3 verb_X 42 1.564651 0.9283023 0.1432401"
      ]
     },
     "metadata": {},
     "output_type": "display_data"
    },
    {
     "data": {
      "text/markdown": [
       "### Expected marginal means"
      ]
     },
     "metadata": {},
     "output_type": "display_data"
    },
    {
     "data": {
      "text/html": [
       "<table>\n",
       "<caption>A apa_results_table: 3 × 5</caption>\n",
       "<thead>\n",
       "\t<tr><th></th><th scope=col>cond0</th><th scope=col>estimate</th><th scope=col>ci</th><th scope=col>statistic</th><th scope=col>p.value</th></tr>\n",
       "\t<tr><th></th><th scope=col>&lt;chr&gt;</th><th scope=col>&lt;ppj_lbll&gt;</th><th scope=col>&lt;ppj_lbll&gt;</th><th scope=col>&lt;ppj_lbll&gt;</th><th scope=col>&lt;ppj_lbll&gt;</th></tr>\n",
       "</thead>\n",
       "<tbody>\n",
       "\t<tr><th scope=row>noun_F</th><td>noun_F</td><td>1.58</td><td>$[1.29$, $1.87]$</td><td>10.91</td><td>&lt; .001</td></tr>\n",
       "\t<tr><th scope=row>noun_M</th><td>noun_M</td><td>1.61</td><td>$[1.32$, $1.90]$</td><td>11.13</td><td>&lt; .001</td></tr>\n",
       "\t<tr><th scope=row>verb_X</th><td>verb_X</td><td>1.56</td><td>$[1.27$, $1.85]$</td><td>10.83</td><td>&lt; .001</td></tr>\n",
       "</tbody>\n",
       "</table>\n"
      ],
      "text/latex": [
       "A apa\\_results\\_table: 3 × 5\n",
       "\\begin{tabular}{r|lllll}\n",
       "  & cond0 & estimate & ci & statistic & p.value\\\\\n",
       "  & <chr> & <ppj\\_lbll> & <ppj\\_lbll> & <ppj\\_lbll> & <ppj\\_lbll>\\\\\n",
       "\\hline\n",
       "\tnoun\\_F & noun\\_F & 1.58 & \\${[}1.29\\$, \\$1.87{]}\\$ & 10.91 & < .001\\\\\n",
       "\tnoun\\_M & noun\\_M & 1.61 & \\${[}1.32\\$, \\$1.90{]}\\$ & 11.13 & < .001\\\\\n",
       "\tverb\\_X & verb\\_X & 1.56 & \\${[}1.27\\$, \\$1.85{]}\\$ & 10.83 & < .001\\\\\n",
       "\\end{tabular}\n"
      ],
      "text/markdown": [
       "\n",
       "A apa_results_table: 3 × 5\n",
       "\n",
       "| <!--/--> | cond0 &lt;chr&gt; | estimate &lt;ppj_lbll&gt; | ci &lt;ppj_lbll&gt; | statistic &lt;ppj_lbll&gt; | p.value &lt;ppj_lbll&gt; |\n",
       "|---|---|---|---|---|---|\n",
       "| noun_F | noun_F | 1.58 | $[1.29$, $1.87]$ | 10.91 | &lt; .001 |\n",
       "| noun_M | noun_M | 1.61 | $[1.32$, $1.90]$ | 11.13 | &lt; .001 |\n",
       "| verb_X | verb_X | 1.56 | $[1.27$, $1.85]$ | 10.83 | &lt; .001 |\n",
       "\n"
      ],
      "text/plain": [
       "       cond0  estimate ci               statistic p.value\n",
       "noun_F noun_F 1.58     $[1.29$, $1.87]$ 10.91     < .001 \n",
       "noun_M noun_M 1.61     $[1.32$, $1.90]$ 11.13     < .001 \n",
       "verb_X verb_X 1.56     $[1.27$, $1.85]$ 10.83     < .001 "
      ]
     },
     "metadata": {},
     "output_type": "display_data"
    },
    {
     "data": {
      "text/markdown": [
       "### Paired comparisons for expected marginal means"
      ]
     },
     "metadata": {},
     "output_type": "display_data"
    },
    {
     "data": {
      "text/html": [
       "<table>\n",
       "<caption>A apa_results_table: 3 × 5</caption>\n",
       "<thead>\n",
       "\t<tr><th></th><th scope=col>contrast</th><th scope=col>estimate</th><th scope=col>ci</th><th scope=col>statistic</th><th scope=col>p.value</th></tr>\n",
       "\t<tr><th></th><th scope=col>&lt;ppj_lbll&gt;</th><th scope=col>&lt;ppj_lbll&gt;</th><th scope=col>&lt;ppj_lbll&gt;</th><th scope=col>&lt;ppj_lbll&gt;</th><th scope=col>&lt;ppj_lbll&gt;</th></tr>\n",
       "</thead>\n",
       "<tbody>\n",
       "\t<tr><th scope=row>noun_F_noun_M</th><td>noun_F - noun_M</td><td>-0.03</td><td>$[-0.24$, $0.18]$</td><td>-0.36</td><td>.930</td></tr>\n",
       "\t<tr><th scope=row>noun_F_verb_X</th><td>noun_F - verb_X</td><td>0.01 </td><td>$[-0.20$, $0.22]$</td><td>0.13 </td><td>.991</td></tr>\n",
       "\t<tr><th scope=row>noun_M_verb_X</th><td>noun_M - verb_X</td><td>0.04 </td><td>$[-0.17$, $0.25]$</td><td>0.49 </td><td>.877</td></tr>\n",
       "</tbody>\n",
       "</table>\n"
      ],
      "text/latex": [
       "A apa\\_results\\_table: 3 × 5\n",
       "\\begin{tabular}{r|lllll}\n",
       "  & contrast & estimate & ci & statistic & p.value\\\\\n",
       "  & <ppj\\_lbll> & <ppj\\_lbll> & <ppj\\_lbll> & <ppj\\_lbll> & <ppj\\_lbll>\\\\\n",
       "\\hline\n",
       "\tnoun\\_F\\_noun\\_M & noun\\_F - noun\\_M & -0.03 & \\${[}-0.24\\$, \\$0.18{]}\\$ & -0.36 & .930\\\\\n",
       "\tnoun\\_F\\_verb\\_X & noun\\_F - verb\\_X & 0.01  & \\${[}-0.20\\$, \\$0.22{]}\\$ & 0.13  & .991\\\\\n",
       "\tnoun\\_M\\_verb\\_X & noun\\_M - verb\\_X & 0.04  & \\${[}-0.17\\$, \\$0.25{]}\\$ & 0.49  & .877\\\\\n",
       "\\end{tabular}\n"
      ],
      "text/markdown": [
       "\n",
       "A apa_results_table: 3 × 5\n",
       "\n",
       "| <!--/--> | contrast &lt;ppj_lbll&gt; | estimate &lt;ppj_lbll&gt; | ci &lt;ppj_lbll&gt; | statistic &lt;ppj_lbll&gt; | p.value &lt;ppj_lbll&gt; |\n",
       "|---|---|---|---|---|---|\n",
       "| noun_F_noun_M | noun_F - noun_M | -0.03 | $[-0.24$, $0.18]$ | -0.36 | .930 |\n",
       "| noun_F_verb_X | noun_F - verb_X | 0.01  | $[-0.20$, $0.22]$ | 0.13  | .991 |\n",
       "| noun_M_verb_X | noun_M - verb_X | 0.04  | $[-0.17$, $0.25]$ | 0.49  | .877 |\n",
       "\n"
      ],
      "text/plain": [
       "              contrast        estimate ci                statistic p.value\n",
       "noun_F_noun_M noun_F - noun_M -0.03    $[-0.24$, $0.18]$ -0.36     .930   \n",
       "noun_F_verb_X noun_F - verb_X 0.01     $[-0.20$, $0.22]$ 0.13      .991   \n",
       "noun_M_verb_X noun_M - verb_X 0.04     $[-0.17$, $0.25]$ 0.49      .877   "
      ]
     },
     "metadata": {},
     "output_type": "display_data"
    }
   ],
   "source": [
    "IDX <- IDX+1; COND <- CONDS[IDX]\n",
    "data1 <- droplevels(subset(df1, eval(parse(text=COND)))); data1 <- data1[complete.cases(data1),]; done1 <- AOV4(data1,COND)\n",
    "display_markdown(str_c(\"# Condition \",IDX,\" of \",length(CONDS))); display_markdown(done1$info); display_markdown(\"### Table\"); done1$aov_APA$table; display_markdown(\"### Result\"); display_markdown(done1$aov_APA[[\"full_result\"]][[\"cond0\"]]); display_markdown(\"### Summary (all done1, incl. NANs)\"); done1$summary; display_markdown(\"### Expected marginal means\"); done1$emm_APA$table; display_markdown(\"### Paired comparisons for expected marginal means\"); done1$pairs_APA$table"
   ]
  },
  {
   "cell_type": "code",
   "execution_count": 185,
   "metadata": {},
   "outputs": [
    {
     "data": {
      "text/markdown": [
       "# Condition 18 of 72"
      ]
     },
     "metadata": {},
     "output_type": "display_data"
    },
    {
     "data": {
      "text/markdown": [
       "`tmin0==0.19 & chan0==\"LC\" & mode0==\"neg\"`"
      ]
     },
     "metadata": {},
     "output_type": "display_data"
    },
    {
     "data": {
      "text/markdown": [
       "### Table"
      ]
     },
     "metadata": {},
     "output_type": "display_data"
    },
    {
     "data": {
      "text/html": [
       "<table>\n",
       "<caption>A apa_results_table: 1 × 7</caption>\n",
       "<thead>\n",
       "\t<tr><th></th><th scope=col>Effect</th><th scope=col>F</th><th scope=col>df1</th><th scope=col>df2</th><th scope=col>MSE</th><th scope=col>p</th><th scope=col>ges</th></tr>\n",
       "\t<tr><th></th><th scope=col>&lt;ppj_lbll&gt;</th><th scope=col>&lt;ppj_lbll&gt;</th><th scope=col>&lt;ppj_lbll&gt;</th><th scope=col>&lt;ppj_lbll&gt;</th><th scope=col>&lt;ppj_lbll&gt;</th><th scope=col>&lt;ppj_lbll&gt;</th><th scope=col>&lt;ppj_lbll&gt;</th></tr>\n",
       "</thead>\n",
       "<tbody>\n",
       "\t<tr><th scope=row>1</th><td>Cond0</td><td>2.23</td><td>1.80</td><td>73.93</td><td>0.27</td><td>.120</td><td>.008</td></tr>\n",
       "</tbody>\n",
       "</table>\n"
      ],
      "text/latex": [
       "A apa\\_results\\_table: 1 × 7\n",
       "\\begin{tabular}{r|lllllll}\n",
       "  & Effect & F & df1 & df2 & MSE & p & ges\\\\\n",
       "  & <ppj\\_lbll> & <ppj\\_lbll> & <ppj\\_lbll> & <ppj\\_lbll> & <ppj\\_lbll> & <ppj\\_lbll> & <ppj\\_lbll>\\\\\n",
       "\\hline\n",
       "\t1 & Cond0 & 2.23 & 1.80 & 73.93 & 0.27 & .120 & .008\\\\\n",
       "\\end{tabular}\n"
      ],
      "text/markdown": [
       "\n",
       "A apa_results_table: 1 × 7\n",
       "\n",
       "| <!--/--> | Effect &lt;ppj_lbll&gt; | F &lt;ppj_lbll&gt; | df1 &lt;ppj_lbll&gt; | df2 &lt;ppj_lbll&gt; | MSE &lt;ppj_lbll&gt; | p &lt;ppj_lbll&gt; | ges &lt;ppj_lbll&gt; |\n",
       "|---|---|---|---|---|---|---|---|\n",
       "| 1 | Cond0 | 2.23 | 1.80 | 73.93 | 0.27 | .120 | .008 |\n",
       "\n"
      ],
      "text/plain": [
       "  Effect F    df1  df2   MSE  p    ges \n",
       "1 Cond0  2.23 1.80 73.93 0.27 .120 .008"
      ]
     },
     "metadata": {},
     "output_type": "display_data"
    },
    {
     "data": {
      "text/markdown": [
       "### Result"
      ]
     },
     "metadata": {},
     "output_type": "display_data"
    },
    {
     "data": {
      "text/markdown": [
       "$F(1.80, 73.93) = 2.23$, $\\mathit{MSE} = 0.27$, $p = .120$, $\\hat{\\eta}^2_G = .008$"
      ]
     },
     "metadata": {},
     "output_type": "display_data"
    },
    {
     "data": {
      "text/markdown": [
       "### Summary (all done1, incl. NANs)"
      ]
     },
     "metadata": {},
     "output_type": "display_data"
    },
    {
     "data": {
      "text/html": [
       "<table>\n",
       "<caption>A tibble: 3 × 5</caption>\n",
       "<thead>\n",
       "\t<tr><th scope=col>cond0</th><th scope=col>N</th><th scope=col>valX_M</th><th scope=col>valX_SD</th><th scope=col>valX_SE</th></tr>\n",
       "\t<tr><th scope=col>&lt;fct&gt;</th><th scope=col>&lt;int&gt;</th><th scope=col>&lt;dbl&gt;</th><th scope=col>&lt;dbl&gt;</th><th scope=col>&lt;dbl&gt;</th></tr>\n",
       "</thead>\n",
       "<tbody>\n",
       "\t<tr><td>noun_F</td><td>42</td><td>-0.5085365</td><td>1.1987308</td><td>0.1849682</td></tr>\n",
       "\t<tr><td>noun_M</td><td>42</td><td>-0.6596478</td><td>1.0079953</td><td>0.1555371</td></tr>\n",
       "\t<tr><td>verb_X</td><td>42</td><td>-0.4355195</td><td>0.9262213</td><td>0.1429191</td></tr>\n",
       "</tbody>\n",
       "</table>\n"
      ],
      "text/latex": [
       "A tibble: 3 × 5\n",
       "\\begin{tabular}{lllll}\n",
       " cond0 & N & valX\\_M & valX\\_SD & valX\\_SE\\\\\n",
       " <fct> & <int> & <dbl> & <dbl> & <dbl>\\\\\n",
       "\\hline\n",
       "\t noun\\_F & 42 & -0.5085365 & 1.1987308 & 0.1849682\\\\\n",
       "\t noun\\_M & 42 & -0.6596478 & 1.0079953 & 0.1555371\\\\\n",
       "\t verb\\_X & 42 & -0.4355195 & 0.9262213 & 0.1429191\\\\\n",
       "\\end{tabular}\n"
      ],
      "text/markdown": [
       "\n",
       "A tibble: 3 × 5\n",
       "\n",
       "| cond0 &lt;fct&gt; | N &lt;int&gt; | valX_M &lt;dbl&gt; | valX_SD &lt;dbl&gt; | valX_SE &lt;dbl&gt; |\n",
       "|---|---|---|---|---|\n",
       "| noun_F | 42 | -0.5085365 | 1.1987308 | 0.1849682 |\n",
       "| noun_M | 42 | -0.6596478 | 1.0079953 | 0.1555371 |\n",
       "| verb_X | 42 | -0.4355195 | 0.9262213 | 0.1429191 |\n",
       "\n"
      ],
      "text/plain": [
       "  cond0  N  valX_M     valX_SD   valX_SE  \n",
       "1 noun_F 42 -0.5085365 1.1987308 0.1849682\n",
       "2 noun_M 42 -0.6596478 1.0079953 0.1555371\n",
       "3 verb_X 42 -0.4355195 0.9262213 0.1429191"
      ]
     },
     "metadata": {},
     "output_type": "display_data"
    },
    {
     "data": {
      "text/markdown": [
       "### Expected marginal means"
      ]
     },
     "metadata": {},
     "output_type": "display_data"
    },
    {
     "data": {
      "text/html": [
       "<table>\n",
       "<caption>A apa_results_table: 3 × 5</caption>\n",
       "<thead>\n",
       "\t<tr><th></th><th scope=col>cond0</th><th scope=col>estimate</th><th scope=col>ci</th><th scope=col>statistic</th><th scope=col>p.value</th></tr>\n",
       "\t<tr><th></th><th scope=col>&lt;chr&gt;</th><th scope=col>&lt;ppj_lbll&gt;</th><th scope=col>&lt;ppj_lbll&gt;</th><th scope=col>&lt;ppj_lbll&gt;</th><th scope=col>&lt;ppj_lbll&gt;</th></tr>\n",
       "</thead>\n",
       "<tbody>\n",
       "\t<tr><th scope=row>noun_F</th><td>noun_F</td><td>-0.51</td><td>$[-0.83$, $-0.18]$</td><td>-3.14</td><td>.003  </td></tr>\n",
       "\t<tr><th scope=row>noun_M</th><td>noun_M</td><td>-0.66</td><td>$[-0.98$, $-0.33]$</td><td>-4.07</td><td>&lt; .001</td></tr>\n",
       "\t<tr><th scope=row>verb_X</th><td>verb_X</td><td>-0.44</td><td>$[-0.76$, $-0.11]$</td><td>-2.69</td><td>.009  </td></tr>\n",
       "</tbody>\n",
       "</table>\n"
      ],
      "text/latex": [
       "A apa\\_results\\_table: 3 × 5\n",
       "\\begin{tabular}{r|lllll}\n",
       "  & cond0 & estimate & ci & statistic & p.value\\\\\n",
       "  & <chr> & <ppj\\_lbll> & <ppj\\_lbll> & <ppj\\_lbll> & <ppj\\_lbll>\\\\\n",
       "\\hline\n",
       "\tnoun\\_F & noun\\_F & -0.51 & \\${[}-0.83\\$, \\$-0.18{]}\\$ & -3.14 & .003  \\\\\n",
       "\tnoun\\_M & noun\\_M & -0.66 & \\${[}-0.98\\$, \\$-0.33{]}\\$ & -4.07 & < .001\\\\\n",
       "\tverb\\_X & verb\\_X & -0.44 & \\${[}-0.76\\$, \\$-0.11{]}\\$ & -2.69 & .009  \\\\\n",
       "\\end{tabular}\n"
      ],
      "text/markdown": [
       "\n",
       "A apa_results_table: 3 × 5\n",
       "\n",
       "| <!--/--> | cond0 &lt;chr&gt; | estimate &lt;ppj_lbll&gt; | ci &lt;ppj_lbll&gt; | statistic &lt;ppj_lbll&gt; | p.value &lt;ppj_lbll&gt; |\n",
       "|---|---|---|---|---|---|\n",
       "| noun_F | noun_F | -0.51 | $[-0.83$, $-0.18]$ | -3.14 | .003   |\n",
       "| noun_M | noun_M | -0.66 | $[-0.98$, $-0.33]$ | -4.07 | &lt; .001 |\n",
       "| verb_X | verb_X | -0.44 | $[-0.76$, $-0.11]$ | -2.69 | .009   |\n",
       "\n"
      ],
      "text/plain": [
       "       cond0  estimate ci                 statistic p.value\n",
       "noun_F noun_F -0.51    $[-0.83$, $-0.18]$ -3.14     .003   \n",
       "noun_M noun_M -0.66    $[-0.98$, $-0.33]$ -4.07     < .001 \n",
       "verb_X verb_X -0.44    $[-0.76$, $-0.11]$ -2.69     .009   "
      ]
     },
     "metadata": {},
     "output_type": "display_data"
    },
    {
     "data": {
      "text/markdown": [
       "### Paired comparisons for expected marginal means"
      ]
     },
     "metadata": {},
     "output_type": "display_data"
    },
    {
     "data": {
      "text/html": [
       "<table>\n",
       "<caption>A apa_results_table: 3 × 5</caption>\n",
       "<thead>\n",
       "\t<tr><th></th><th scope=col>contrast</th><th scope=col>estimate</th><th scope=col>ci</th><th scope=col>statistic</th><th scope=col>p.value</th></tr>\n",
       "\t<tr><th></th><th scope=col>&lt;ppj_lbll&gt;</th><th scope=col>&lt;ppj_lbll&gt;</th><th scope=col>&lt;ppj_lbll&gt;</th><th scope=col>&lt;ppj_lbll&gt;</th><th scope=col>&lt;ppj_lbll&gt;</th></tr>\n",
       "</thead>\n",
       "<tbody>\n",
       "\t<tr><th scope=row>noun_F_noun_M</th><td>noun_F - noun_M</td><td>0.15 </td><td>$[-0.11$, $0.41]$</td><td>1.39 </td><td>.348</td></tr>\n",
       "\t<tr><th scope=row>noun_F_verb_X</th><td>noun_F - verb_X</td><td>-0.07</td><td>$[-0.33$, $0.19]$</td><td>-0.67</td><td>.779</td></tr>\n",
       "\t<tr><th scope=row>noun_M_verb_X</th><td>noun_M - verb_X</td><td>-0.22</td><td>$[-0.48$, $0.03]$</td><td>-2.07</td><td>.103</td></tr>\n",
       "</tbody>\n",
       "</table>\n"
      ],
      "text/latex": [
       "A apa\\_results\\_table: 3 × 5\n",
       "\\begin{tabular}{r|lllll}\n",
       "  & contrast & estimate & ci & statistic & p.value\\\\\n",
       "  & <ppj\\_lbll> & <ppj\\_lbll> & <ppj\\_lbll> & <ppj\\_lbll> & <ppj\\_lbll>\\\\\n",
       "\\hline\n",
       "\tnoun\\_F\\_noun\\_M & noun\\_F - noun\\_M & 0.15  & \\${[}-0.11\\$, \\$0.41{]}\\$ & 1.39  & .348\\\\\n",
       "\tnoun\\_F\\_verb\\_X & noun\\_F - verb\\_X & -0.07 & \\${[}-0.33\\$, \\$0.19{]}\\$ & -0.67 & .779\\\\\n",
       "\tnoun\\_M\\_verb\\_X & noun\\_M - verb\\_X & -0.22 & \\${[}-0.48\\$, \\$0.03{]}\\$ & -2.07 & .103\\\\\n",
       "\\end{tabular}\n"
      ],
      "text/markdown": [
       "\n",
       "A apa_results_table: 3 × 5\n",
       "\n",
       "| <!--/--> | contrast &lt;ppj_lbll&gt; | estimate &lt;ppj_lbll&gt; | ci &lt;ppj_lbll&gt; | statistic &lt;ppj_lbll&gt; | p.value &lt;ppj_lbll&gt; |\n",
       "|---|---|---|---|---|---|\n",
       "| noun_F_noun_M | noun_F - noun_M | 0.15  | $[-0.11$, $0.41]$ | 1.39  | .348 |\n",
       "| noun_F_verb_X | noun_F - verb_X | -0.07 | $[-0.33$, $0.19]$ | -0.67 | .779 |\n",
       "| noun_M_verb_X | noun_M - verb_X | -0.22 | $[-0.48$, $0.03]$ | -2.07 | .103 |\n",
       "\n"
      ],
      "text/plain": [
       "              contrast        estimate ci                statistic p.value\n",
       "noun_F_noun_M noun_F - noun_M 0.15     $[-0.11$, $0.41]$ 1.39      .348   \n",
       "noun_F_verb_X noun_F - verb_X -0.07    $[-0.33$, $0.19]$ -0.67     .779   \n",
       "noun_M_verb_X noun_M - verb_X -0.22    $[-0.48$, $0.03]$ -2.07     .103   "
      ]
     },
     "metadata": {},
     "output_type": "display_data"
    }
   ],
   "source": [
    "IDX <- IDX+1; COND <- CONDS[IDX]\n",
    "data1 <- droplevels(subset(df1, eval(parse(text=COND)))); data1 <- data1[complete.cases(data1),]; done1 <- AOV4(data1,COND)\n",
    "display_markdown(str_c(\"# Condition \",IDX,\" of \",length(CONDS))); display_markdown(done1$info); display_markdown(\"### Table\"); done1$aov_APA$table; display_markdown(\"### Result\"); display_markdown(done1$aov_APA[[\"full_result\"]][[\"cond0\"]]); display_markdown(\"### Summary (all done1, incl. NANs)\"); done1$summary; display_markdown(\"### Expected marginal means\"); done1$emm_APA$table; display_markdown(\"### Paired comparisons for expected marginal means\"); done1$pairs_APA$table"
   ]
  },
  {
   "cell_type": "code",
   "execution_count": 186,
   "metadata": {},
   "outputs": [
    {
     "data": {
      "text/markdown": [
       "# Condition 19 of 72"
      ]
     },
     "metadata": {},
     "output_type": "display_data"
    },
    {
     "data": {
      "text/markdown": [
       "`tmin0==0.19 & chan0==\"RC\" & mode0==\"pos\"`"
      ]
     },
     "metadata": {},
     "output_type": "display_data"
    },
    {
     "data": {
      "text/markdown": [
       "### Table"
      ]
     },
     "metadata": {},
     "output_type": "display_data"
    },
    {
     "data": {
      "text/html": [
       "<table>\n",
       "<caption>A apa_results_table: 1 × 7</caption>\n",
       "<thead>\n",
       "\t<tr><th></th><th scope=col>Effect</th><th scope=col>F</th><th scope=col>df1</th><th scope=col>df2</th><th scope=col>MSE</th><th scope=col>p</th><th scope=col>ges</th></tr>\n",
       "\t<tr><th></th><th scope=col>&lt;ppj_lbll&gt;</th><th scope=col>&lt;ppj_lbll&gt;</th><th scope=col>&lt;ppj_lbll&gt;</th><th scope=col>&lt;ppj_lbll&gt;</th><th scope=col>&lt;ppj_lbll&gt;</th><th scope=col>&lt;ppj_lbll&gt;</th><th scope=col>&lt;ppj_lbll&gt;</th></tr>\n",
       "</thead>\n",
       "<tbody>\n",
       "\t<tr><th scope=row>1</th><td>Cond0</td><td>2.13</td><td>1.86</td><td>76.07</td><td>0.20</td><td>.130</td><td>.003</td></tr>\n",
       "</tbody>\n",
       "</table>\n"
      ],
      "text/latex": [
       "A apa\\_results\\_table: 1 × 7\n",
       "\\begin{tabular}{r|lllllll}\n",
       "  & Effect & F & df1 & df2 & MSE & p & ges\\\\\n",
       "  & <ppj\\_lbll> & <ppj\\_lbll> & <ppj\\_lbll> & <ppj\\_lbll> & <ppj\\_lbll> & <ppj\\_lbll> & <ppj\\_lbll>\\\\\n",
       "\\hline\n",
       "\t1 & Cond0 & 2.13 & 1.86 & 76.07 & 0.20 & .130 & .003\\\\\n",
       "\\end{tabular}\n"
      ],
      "text/markdown": [
       "\n",
       "A apa_results_table: 1 × 7\n",
       "\n",
       "| <!--/--> | Effect &lt;ppj_lbll&gt; | F &lt;ppj_lbll&gt; | df1 &lt;ppj_lbll&gt; | df2 &lt;ppj_lbll&gt; | MSE &lt;ppj_lbll&gt; | p &lt;ppj_lbll&gt; | ges &lt;ppj_lbll&gt; |\n",
       "|---|---|---|---|---|---|---|---|\n",
       "| 1 | Cond0 | 2.13 | 1.86 | 76.07 | 0.20 | .130 | .003 |\n",
       "\n"
      ],
      "text/plain": [
       "  Effect F    df1  df2   MSE  p    ges \n",
       "1 Cond0  2.13 1.86 76.07 0.20 .130 .003"
      ]
     },
     "metadata": {},
     "output_type": "display_data"
    },
    {
     "data": {
      "text/markdown": [
       "### Result"
      ]
     },
     "metadata": {},
     "output_type": "display_data"
    },
    {
     "data": {
      "text/markdown": [
       "$F(1.86, 76.07) = 2.13$, $\\mathit{MSE} = 0.20$, $p = .130$, $\\hat{\\eta}^2_G = .003$"
      ]
     },
     "metadata": {},
     "output_type": "display_data"
    },
    {
     "data": {
      "text/markdown": [
       "### Summary (all done1, incl. NANs)"
      ]
     },
     "metadata": {},
     "output_type": "display_data"
    },
    {
     "data": {
      "text/html": [
       "<table>\n",
       "<caption>A tibble: 3 × 5</caption>\n",
       "<thead>\n",
       "\t<tr><th scope=col>cond0</th><th scope=col>N</th><th scope=col>valX_M</th><th scope=col>valX_SD</th><th scope=col>valX_SE</th></tr>\n",
       "\t<tr><th scope=col>&lt;fct&gt;</th><th scope=col>&lt;int&gt;</th><th scope=col>&lt;dbl&gt;</th><th scope=col>&lt;dbl&gt;</th><th scope=col>&lt;dbl&gt;</th></tr>\n",
       "</thead>\n",
       "<tbody>\n",
       "\t<tr><td>noun_F</td><td>42</td><td>1.445500</td><td>1.362452</td><td>0.2102309</td></tr>\n",
       "\t<tr><td>noun_M</td><td>42</td><td>1.315690</td><td>1.342021</td><td>0.2070784</td></tr>\n",
       "\t<tr><td>verb_X</td><td>42</td><td>1.507623</td><td>1.499634</td><td>0.2313985</td></tr>\n",
       "</tbody>\n",
       "</table>\n"
      ],
      "text/latex": [
       "A tibble: 3 × 5\n",
       "\\begin{tabular}{lllll}\n",
       " cond0 & N & valX\\_M & valX\\_SD & valX\\_SE\\\\\n",
       " <fct> & <int> & <dbl> & <dbl> & <dbl>\\\\\n",
       "\\hline\n",
       "\t noun\\_F & 42 & 1.445500 & 1.362452 & 0.2102309\\\\\n",
       "\t noun\\_M & 42 & 1.315690 & 1.342021 & 0.2070784\\\\\n",
       "\t verb\\_X & 42 & 1.507623 & 1.499634 & 0.2313985\\\\\n",
       "\\end{tabular}\n"
      ],
      "text/markdown": [
       "\n",
       "A tibble: 3 × 5\n",
       "\n",
       "| cond0 &lt;fct&gt; | N &lt;int&gt; | valX_M &lt;dbl&gt; | valX_SD &lt;dbl&gt; | valX_SE &lt;dbl&gt; |\n",
       "|---|---|---|---|---|\n",
       "| noun_F | 42 | 1.445500 | 1.362452 | 0.2102309 |\n",
       "| noun_M | 42 | 1.315690 | 1.342021 | 0.2070784 |\n",
       "| verb_X | 42 | 1.507623 | 1.499634 | 0.2313985 |\n",
       "\n"
      ],
      "text/plain": [
       "  cond0  N  valX_M   valX_SD  valX_SE  \n",
       "1 noun_F 42 1.445500 1.362452 0.2102309\n",
       "2 noun_M 42 1.315690 1.342021 0.2070784\n",
       "3 verb_X 42 1.507623 1.499634 0.2313985"
      ]
     },
     "metadata": {},
     "output_type": "display_data"
    },
    {
     "data": {
      "text/markdown": [
       "### Expected marginal means"
      ]
     },
     "metadata": {},
     "output_type": "display_data"
    },
    {
     "data": {
      "text/html": [
       "<table>\n",
       "<caption>A apa_results_table: 3 × 5</caption>\n",
       "<thead>\n",
       "\t<tr><th></th><th scope=col>cond0</th><th scope=col>estimate</th><th scope=col>ci</th><th scope=col>statistic</th><th scope=col>p.value</th></tr>\n",
       "\t<tr><th></th><th scope=col>&lt;chr&gt;</th><th scope=col>&lt;ppj_lbll&gt;</th><th scope=col>&lt;ppj_lbll&gt;</th><th scope=col>&lt;ppj_lbll&gt;</th><th scope=col>&lt;ppj_lbll&gt;</th></tr>\n",
       "</thead>\n",
       "<tbody>\n",
       "\t<tr><th scope=row>noun_F</th><td>noun_F</td><td>1.45</td><td>$[1.01$, $1.88]$</td><td>6.68</td><td>&lt; .001</td></tr>\n",
       "\t<tr><th scope=row>noun_M</th><td>noun_M</td><td>1.32</td><td>$[0.88$, $1.75]$</td><td>6.08</td><td>&lt; .001</td></tr>\n",
       "\t<tr><th scope=row>verb_X</th><td>verb_X</td><td>1.51</td><td>$[1.07$, $1.94]$</td><td>6.96</td><td>&lt; .001</td></tr>\n",
       "</tbody>\n",
       "</table>\n"
      ],
      "text/latex": [
       "A apa\\_results\\_table: 3 × 5\n",
       "\\begin{tabular}{r|lllll}\n",
       "  & cond0 & estimate & ci & statistic & p.value\\\\\n",
       "  & <chr> & <ppj\\_lbll> & <ppj\\_lbll> & <ppj\\_lbll> & <ppj\\_lbll>\\\\\n",
       "\\hline\n",
       "\tnoun\\_F & noun\\_F & 1.45 & \\${[}1.01\\$, \\$1.88{]}\\$ & 6.68 & < .001\\\\\n",
       "\tnoun\\_M & noun\\_M & 1.32 & \\${[}0.88\\$, \\$1.75{]}\\$ & 6.08 & < .001\\\\\n",
       "\tverb\\_X & verb\\_X & 1.51 & \\${[}1.07\\$, \\$1.94{]}\\$ & 6.96 & < .001\\\\\n",
       "\\end{tabular}\n"
      ],
      "text/markdown": [
       "\n",
       "A apa_results_table: 3 × 5\n",
       "\n",
       "| <!--/--> | cond0 &lt;chr&gt; | estimate &lt;ppj_lbll&gt; | ci &lt;ppj_lbll&gt; | statistic &lt;ppj_lbll&gt; | p.value &lt;ppj_lbll&gt; |\n",
       "|---|---|---|---|---|---|\n",
       "| noun_F | noun_F | 1.45 | $[1.01$, $1.88]$ | 6.68 | &lt; .001 |\n",
       "| noun_M | noun_M | 1.32 | $[0.88$, $1.75]$ | 6.08 | &lt; .001 |\n",
       "| verb_X | verb_X | 1.51 | $[1.07$, $1.94]$ | 6.96 | &lt; .001 |\n",
       "\n"
      ],
      "text/plain": [
       "       cond0  estimate ci               statistic p.value\n",
       "noun_F noun_F 1.45     $[1.01$, $1.88]$ 6.68      < .001 \n",
       "noun_M noun_M 1.32     $[0.88$, $1.75]$ 6.08      < .001 \n",
       "verb_X verb_X 1.51     $[1.07$, $1.94]$ 6.96      < .001 "
      ]
     },
     "metadata": {},
     "output_type": "display_data"
    },
    {
     "data": {
      "text/markdown": [
       "### Paired comparisons for expected marginal means"
      ]
     },
     "metadata": {},
     "output_type": "display_data"
    },
    {
     "data": {
      "text/html": [
       "<table>\n",
       "<caption>A apa_results_table: 3 × 5</caption>\n",
       "<thead>\n",
       "\t<tr><th></th><th scope=col>contrast</th><th scope=col>estimate</th><th scope=col>ci</th><th scope=col>statistic</th><th scope=col>p.value</th></tr>\n",
       "\t<tr><th></th><th scope=col>&lt;ppj_lbll&gt;</th><th scope=col>&lt;ppj_lbll&gt;</th><th scope=col>&lt;ppj_lbll&gt;</th><th scope=col>&lt;ppj_lbll&gt;</th><th scope=col>&lt;ppj_lbll&gt;</th></tr>\n",
       "</thead>\n",
       "<tbody>\n",
       "\t<tr><th scope=row>noun_F_noun_M</th><td>noun_F - noun_M</td><td>0.13 </td><td>$[-0.10$, $0.36]$</td><td>1.37 </td><td>.363</td></tr>\n",
       "\t<tr><th scope=row>noun_F_verb_X</th><td>noun_F - verb_X</td><td>-0.06</td><td>$[-0.29$, $0.16]$</td><td>-0.65</td><td>.790</td></tr>\n",
       "\t<tr><th scope=row>noun_M_verb_X</th><td>noun_M - verb_X</td><td>-0.19</td><td>$[-0.42$, $0.03]$</td><td>-2.02</td><td>.113</td></tr>\n",
       "</tbody>\n",
       "</table>\n"
      ],
      "text/latex": [
       "A apa\\_results\\_table: 3 × 5\n",
       "\\begin{tabular}{r|lllll}\n",
       "  & contrast & estimate & ci & statistic & p.value\\\\\n",
       "  & <ppj\\_lbll> & <ppj\\_lbll> & <ppj\\_lbll> & <ppj\\_lbll> & <ppj\\_lbll>\\\\\n",
       "\\hline\n",
       "\tnoun\\_F\\_noun\\_M & noun\\_F - noun\\_M & 0.13  & \\${[}-0.10\\$, \\$0.36{]}\\$ & 1.37  & .363\\\\\n",
       "\tnoun\\_F\\_verb\\_X & noun\\_F - verb\\_X & -0.06 & \\${[}-0.29\\$, \\$0.16{]}\\$ & -0.65 & .790\\\\\n",
       "\tnoun\\_M\\_verb\\_X & noun\\_M - verb\\_X & -0.19 & \\${[}-0.42\\$, \\$0.03{]}\\$ & -2.02 & .113\\\\\n",
       "\\end{tabular}\n"
      ],
      "text/markdown": [
       "\n",
       "A apa_results_table: 3 × 5\n",
       "\n",
       "| <!--/--> | contrast &lt;ppj_lbll&gt; | estimate &lt;ppj_lbll&gt; | ci &lt;ppj_lbll&gt; | statistic &lt;ppj_lbll&gt; | p.value &lt;ppj_lbll&gt; |\n",
       "|---|---|---|---|---|---|\n",
       "| noun_F_noun_M | noun_F - noun_M | 0.13  | $[-0.10$, $0.36]$ | 1.37  | .363 |\n",
       "| noun_F_verb_X | noun_F - verb_X | -0.06 | $[-0.29$, $0.16]$ | -0.65 | .790 |\n",
       "| noun_M_verb_X | noun_M - verb_X | -0.19 | $[-0.42$, $0.03]$ | -2.02 | .113 |\n",
       "\n"
      ],
      "text/plain": [
       "              contrast        estimate ci                statistic p.value\n",
       "noun_F_noun_M noun_F - noun_M 0.13     $[-0.10$, $0.36]$ 1.37      .363   \n",
       "noun_F_verb_X noun_F - verb_X -0.06    $[-0.29$, $0.16]$ -0.65     .790   \n",
       "noun_M_verb_X noun_M - verb_X -0.19    $[-0.42$, $0.03]$ -2.02     .113   "
      ]
     },
     "metadata": {},
     "output_type": "display_data"
    }
   ],
   "source": [
    "IDX <- IDX+1; COND <- CONDS[IDX]\n",
    "data1 <- droplevels(subset(df1, eval(parse(text=COND)))); data1 <- data1[complete.cases(data1),]; done1 <- AOV4(data1,COND)\n",
    "display_markdown(str_c(\"# Condition \",IDX,\" of \",length(CONDS))); display_markdown(done1$info); display_markdown(\"### Table\"); done1$aov_APA$table; display_markdown(\"### Result\"); display_markdown(done1$aov_APA[[\"full_result\"]][[\"cond0\"]]); display_markdown(\"### Summary (all done1, incl. NANs)\"); done1$summary; display_markdown(\"### Expected marginal means\"); done1$emm_APA$table; display_markdown(\"### Paired comparisons for expected marginal means\"); done1$pairs_APA$table"
   ]
  },
  {
   "cell_type": "code",
   "execution_count": 187,
   "metadata": {},
   "outputs": [
    {
     "data": {
      "text/markdown": [
       "# Condition 20 of 72"
      ]
     },
     "metadata": {},
     "output_type": "display_data"
    },
    {
     "data": {
      "text/markdown": [
       "`tmin0==0.19 & chan0==\"RC\" & mode0==\"neg\"`"
      ]
     },
     "metadata": {},
     "output_type": "display_data"
    },
    {
     "data": {
      "text/markdown": [
       "### Table"
      ]
     },
     "metadata": {},
     "output_type": "display_data"
    },
    {
     "data": {
      "text/html": [
       "<table>\n",
       "<caption>A apa_results_table: 1 × 7</caption>\n",
       "<thead>\n",
       "\t<tr><th></th><th scope=col>Effect</th><th scope=col>F</th><th scope=col>df1</th><th scope=col>df2</th><th scope=col>MSE</th><th scope=col>p</th><th scope=col>ges</th></tr>\n",
       "\t<tr><th></th><th scope=col>&lt;ppj_lbll&gt;</th><th scope=col>&lt;ppj_lbll&gt;</th><th scope=col>&lt;ppj_lbll&gt;</th><th scope=col>&lt;ppj_lbll&gt;</th><th scope=col>&lt;ppj_lbll&gt;</th><th scope=col>&lt;ppj_lbll&gt;</th><th scope=col>&lt;ppj_lbll&gt;</th></tr>\n",
       "</thead>\n",
       "<tbody>\n",
       "\t<tr><th scope=row>1</th><td>Cond0</td><td>2.77</td><td>1.80</td><td>73.82</td><td>0.22</td><td>.074</td><td>.007</td></tr>\n",
       "</tbody>\n",
       "</table>\n"
      ],
      "text/latex": [
       "A apa\\_results\\_table: 1 × 7\n",
       "\\begin{tabular}{r|lllllll}\n",
       "  & Effect & F & df1 & df2 & MSE & p & ges\\\\\n",
       "  & <ppj\\_lbll> & <ppj\\_lbll> & <ppj\\_lbll> & <ppj\\_lbll> & <ppj\\_lbll> & <ppj\\_lbll> & <ppj\\_lbll>\\\\\n",
       "\\hline\n",
       "\t1 & Cond0 & 2.77 & 1.80 & 73.82 & 0.22 & .074 & .007\\\\\n",
       "\\end{tabular}\n"
      ],
      "text/markdown": [
       "\n",
       "A apa_results_table: 1 × 7\n",
       "\n",
       "| <!--/--> | Effect &lt;ppj_lbll&gt; | F &lt;ppj_lbll&gt; | df1 &lt;ppj_lbll&gt; | df2 &lt;ppj_lbll&gt; | MSE &lt;ppj_lbll&gt; | p &lt;ppj_lbll&gt; | ges &lt;ppj_lbll&gt; |\n",
       "|---|---|---|---|---|---|---|---|\n",
       "| 1 | Cond0 | 2.77 | 1.80 | 73.82 | 0.22 | .074 | .007 |\n",
       "\n"
      ],
      "text/plain": [
       "  Effect F    df1  df2   MSE  p    ges \n",
       "1 Cond0  2.77 1.80 73.82 0.22 .074 .007"
      ]
     },
     "metadata": {},
     "output_type": "display_data"
    },
    {
     "data": {
      "text/markdown": [
       "### Result"
      ]
     },
     "metadata": {},
     "output_type": "display_data"
    },
    {
     "data": {
      "text/markdown": [
       "$F(1.80, 73.82) = 2.77$, $\\mathit{MSE} = 0.22$, $p = .074$, $\\hat{\\eta}^2_G = .007$"
      ]
     },
     "metadata": {},
     "output_type": "display_data"
    },
    {
     "data": {
      "text/markdown": [
       "### Summary (all done1, incl. NANs)"
      ]
     },
     "metadata": {},
     "output_type": "display_data"
    },
    {
     "data": {
      "text/html": [
       "<table>\n",
       "<caption>A tibble: 3 × 5</caption>\n",
       "<thead>\n",
       "\t<tr><th scope=col>cond0</th><th scope=col>N</th><th scope=col>valX_M</th><th scope=col>valX_SD</th><th scope=col>valX_SE</th></tr>\n",
       "\t<tr><th scope=col>&lt;fct&gt;</th><th scope=col>&lt;int&gt;</th><th scope=col>&lt;dbl&gt;</th><th scope=col>&lt;dbl&gt;</th><th scope=col>&lt;dbl&gt;</th></tr>\n",
       "</thead>\n",
       "<tbody>\n",
       "\t<tr><td>noun_F</td><td>42</td><td>-0.7314090</td><td>0.9265941</td><td>0.1429766</td></tr>\n",
       "\t<tr><td>noun_M</td><td>42</td><td>-0.8596825</td><td>1.2248853</td><td>0.1890039</td></tr>\n",
       "\t<tr><td>verb_X</td><td>42</td><td>-0.6296953</td><td>1.1525894</td><td>0.1778484</td></tr>\n",
       "</tbody>\n",
       "</table>\n"
      ],
      "text/latex": [
       "A tibble: 3 × 5\n",
       "\\begin{tabular}{lllll}\n",
       " cond0 & N & valX\\_M & valX\\_SD & valX\\_SE\\\\\n",
       " <fct> & <int> & <dbl> & <dbl> & <dbl>\\\\\n",
       "\\hline\n",
       "\t noun\\_F & 42 & -0.7314090 & 0.9265941 & 0.1429766\\\\\n",
       "\t noun\\_M & 42 & -0.8596825 & 1.2248853 & 0.1890039\\\\\n",
       "\t verb\\_X & 42 & -0.6296953 & 1.1525894 & 0.1778484\\\\\n",
       "\\end{tabular}\n"
      ],
      "text/markdown": [
       "\n",
       "A tibble: 3 × 5\n",
       "\n",
       "| cond0 &lt;fct&gt; | N &lt;int&gt; | valX_M &lt;dbl&gt; | valX_SD &lt;dbl&gt; | valX_SE &lt;dbl&gt; |\n",
       "|---|---|---|---|---|\n",
       "| noun_F | 42 | -0.7314090 | 0.9265941 | 0.1429766 |\n",
       "| noun_M | 42 | -0.8596825 | 1.2248853 | 0.1890039 |\n",
       "| verb_X | 42 | -0.6296953 | 1.1525894 | 0.1778484 |\n",
       "\n"
      ],
      "text/plain": [
       "  cond0  N  valX_M     valX_SD   valX_SE  \n",
       "1 noun_F 42 -0.7314090 0.9265941 0.1429766\n",
       "2 noun_M 42 -0.8596825 1.2248853 0.1890039\n",
       "3 verb_X 42 -0.6296953 1.1525894 0.1778484"
      ]
     },
     "metadata": {},
     "output_type": "display_data"
    },
    {
     "data": {
      "text/markdown": [
       "### Expected marginal means"
      ]
     },
     "metadata": {},
     "output_type": "display_data"
    },
    {
     "data": {
      "text/html": [
       "<table>\n",
       "<caption>A apa_results_table: 3 × 5</caption>\n",
       "<thead>\n",
       "\t<tr><th></th><th scope=col>cond0</th><th scope=col>estimate</th><th scope=col>ci</th><th scope=col>statistic</th><th scope=col>p.value</th></tr>\n",
       "\t<tr><th></th><th scope=col>&lt;chr&gt;</th><th scope=col>&lt;ppj_lbll&gt;</th><th scope=col>&lt;ppj_lbll&gt;</th><th scope=col>&lt;ppj_lbll&gt;</th><th scope=col>&lt;ppj_lbll&gt;</th></tr>\n",
       "</thead>\n",
       "<tbody>\n",
       "\t<tr><th scope=row>noun_F</th><td>noun_F</td><td>-0.73</td><td>$[-1.07$, $-0.39]$</td><td>-4.28</td><td>&lt; .001</td></tr>\n",
       "\t<tr><th scope=row>noun_M</th><td>noun_M</td><td>-0.86</td><td>$[-1.20$, $-0.52]$</td><td>-5.03</td><td>&lt; .001</td></tr>\n",
       "\t<tr><th scope=row>verb_X</th><td>verb_X</td><td>-0.63</td><td>$[-0.97$, $-0.29]$</td><td>-3.68</td><td>.001  </td></tr>\n",
       "</tbody>\n",
       "</table>\n"
      ],
      "text/latex": [
       "A apa\\_results\\_table: 3 × 5\n",
       "\\begin{tabular}{r|lllll}\n",
       "  & cond0 & estimate & ci & statistic & p.value\\\\\n",
       "  & <chr> & <ppj\\_lbll> & <ppj\\_lbll> & <ppj\\_lbll> & <ppj\\_lbll>\\\\\n",
       "\\hline\n",
       "\tnoun\\_F & noun\\_F & -0.73 & \\${[}-1.07\\$, \\$-0.39{]}\\$ & -4.28 & < .001\\\\\n",
       "\tnoun\\_M & noun\\_M & -0.86 & \\${[}-1.20\\$, \\$-0.52{]}\\$ & -5.03 & < .001\\\\\n",
       "\tverb\\_X & verb\\_X & -0.63 & \\${[}-0.97\\$, \\$-0.29{]}\\$ & -3.68 & .001  \\\\\n",
       "\\end{tabular}\n"
      ],
      "text/markdown": [
       "\n",
       "A apa_results_table: 3 × 5\n",
       "\n",
       "| <!--/--> | cond0 &lt;chr&gt; | estimate &lt;ppj_lbll&gt; | ci &lt;ppj_lbll&gt; | statistic &lt;ppj_lbll&gt; | p.value &lt;ppj_lbll&gt; |\n",
       "|---|---|---|---|---|---|\n",
       "| noun_F | noun_F | -0.73 | $[-1.07$, $-0.39]$ | -4.28 | &lt; .001 |\n",
       "| noun_M | noun_M | -0.86 | $[-1.20$, $-0.52]$ | -5.03 | &lt; .001 |\n",
       "| verb_X | verb_X | -0.63 | $[-0.97$, $-0.29]$ | -3.68 | .001   |\n",
       "\n"
      ],
      "text/plain": [
       "       cond0  estimate ci                 statistic p.value\n",
       "noun_F noun_F -0.73    $[-1.07$, $-0.39]$ -4.28     < .001 \n",
       "noun_M noun_M -0.86    $[-1.20$, $-0.52]$ -5.03     < .001 \n",
       "verb_X verb_X -0.63    $[-0.97$, $-0.29]$ -3.68     .001   "
      ]
     },
     "metadata": {},
     "output_type": "display_data"
    },
    {
     "data": {
      "text/markdown": [
       "### Paired comparisons for expected marginal means"
      ]
     },
     "metadata": {},
     "output_type": "display_data"
    },
    {
     "data": {
      "text/html": [
       "<table>\n",
       "<caption>A apa_results_table: 3 × 5</caption>\n",
       "<thead>\n",
       "\t<tr><th></th><th scope=col>contrast</th><th scope=col>estimate</th><th scope=col>ci</th><th scope=col>statistic</th><th scope=col>p.value</th></tr>\n",
       "\t<tr><th></th><th scope=col>&lt;ppj_lbll&gt;</th><th scope=col>&lt;ppj_lbll&gt;</th><th scope=col>&lt;ppj_lbll&gt;</th><th scope=col>&lt;ppj_lbll&gt;</th><th scope=col>&lt;ppj_lbll&gt;</th></tr>\n",
       "</thead>\n",
       "<tbody>\n",
       "\t<tr><th scope=row>noun_F_noun_M</th><td>noun_F - noun_M</td><td>0.13 </td><td>$[-0.11$, $0.36]$</td><td>1.31 </td><td>.393</td></tr>\n",
       "\t<tr><th scope=row>noun_F_verb_X</th><td>noun_F - verb_X</td><td>-0.10</td><td>$[-0.34$, $0.13]$</td><td>-1.04</td><td>.554</td></tr>\n",
       "\t<tr><th scope=row>noun_M_verb_X</th><td>noun_M - verb_X</td><td>-0.23</td><td>$[-0.46$, $0.00]$</td><td>-2.35</td><td>.055</td></tr>\n",
       "</tbody>\n",
       "</table>\n"
      ],
      "text/latex": [
       "A apa\\_results\\_table: 3 × 5\n",
       "\\begin{tabular}{r|lllll}\n",
       "  & contrast & estimate & ci & statistic & p.value\\\\\n",
       "  & <ppj\\_lbll> & <ppj\\_lbll> & <ppj\\_lbll> & <ppj\\_lbll> & <ppj\\_lbll>\\\\\n",
       "\\hline\n",
       "\tnoun\\_F\\_noun\\_M & noun\\_F - noun\\_M & 0.13  & \\${[}-0.11\\$, \\$0.36{]}\\$ & 1.31  & .393\\\\\n",
       "\tnoun\\_F\\_verb\\_X & noun\\_F - verb\\_X & -0.10 & \\${[}-0.34\\$, \\$0.13{]}\\$ & -1.04 & .554\\\\\n",
       "\tnoun\\_M\\_verb\\_X & noun\\_M - verb\\_X & -0.23 & \\${[}-0.46\\$, \\$0.00{]}\\$ & -2.35 & .055\\\\\n",
       "\\end{tabular}\n"
      ],
      "text/markdown": [
       "\n",
       "A apa_results_table: 3 × 5\n",
       "\n",
       "| <!--/--> | contrast &lt;ppj_lbll&gt; | estimate &lt;ppj_lbll&gt; | ci &lt;ppj_lbll&gt; | statistic &lt;ppj_lbll&gt; | p.value &lt;ppj_lbll&gt; |\n",
       "|---|---|---|---|---|---|\n",
       "| noun_F_noun_M | noun_F - noun_M | 0.13  | $[-0.11$, $0.36]$ | 1.31  | .393 |\n",
       "| noun_F_verb_X | noun_F - verb_X | -0.10 | $[-0.34$, $0.13]$ | -1.04 | .554 |\n",
       "| noun_M_verb_X | noun_M - verb_X | -0.23 | $[-0.46$, $0.00]$ | -2.35 | .055 |\n",
       "\n"
      ],
      "text/plain": [
       "              contrast        estimate ci                statistic p.value\n",
       "noun_F_noun_M noun_F - noun_M 0.13     $[-0.11$, $0.36]$ 1.31      .393   \n",
       "noun_F_verb_X noun_F - verb_X -0.10    $[-0.34$, $0.13]$ -1.04     .554   \n",
       "noun_M_verb_X noun_M - verb_X -0.23    $[-0.46$, $0.00]$ -2.35     .055   "
      ]
     },
     "metadata": {},
     "output_type": "display_data"
    }
   ],
   "source": [
    "IDX <- IDX+1; COND <- CONDS[IDX]\n",
    "data1 <- droplevels(subset(df1, eval(parse(text=COND)))); data1 <- data1[complete.cases(data1),]; done1 <- AOV4(data1,COND)\n",
    "display_markdown(str_c(\"# Condition \",IDX,\" of \",length(CONDS))); display_markdown(done1$info); display_markdown(\"### Table\"); done1$aov_APA$table; display_markdown(\"### Result\"); display_markdown(done1$aov_APA[[\"full_result\"]][[\"cond0\"]]); display_markdown(\"### Summary (all done1, incl. NANs)\"); done1$summary; display_markdown(\"### Expected marginal means\"); done1$emm_APA$table; display_markdown(\"### Paired comparisons for expected marginal means\"); done1$pairs_APA$table"
   ]
  },
  {
   "cell_type": "code",
   "execution_count": 188,
   "metadata": {},
   "outputs": [
    {
     "name": "stderr",
     "output_type": "stream",
     "text": [
      "Warning message in summary.Anova.mlm(x$Anova):\n",
      "“HF eps > 1 treated as 1”\n"
     ]
    },
    {
     "data": {
      "text/markdown": [
       "# Condition 21 of 72"
      ]
     },
     "metadata": {},
     "output_type": "display_data"
    },
    {
     "data": {
      "text/markdown": [
       "`tmin0==0.19 & chan0==\"LP\" & mode0==\"pos\"`"
      ]
     },
     "metadata": {},
     "output_type": "display_data"
    },
    {
     "data": {
      "text/markdown": [
       "### Table"
      ]
     },
     "metadata": {},
     "output_type": "display_data"
    },
    {
     "data": {
      "text/html": [
       "<table>\n",
       "<caption>A apa_results_table: 1 × 7</caption>\n",
       "<thead>\n",
       "\t<tr><th></th><th scope=col>Effect</th><th scope=col>F</th><th scope=col>df1</th><th scope=col>df2</th><th scope=col>MSE</th><th scope=col>p</th><th scope=col>ges</th></tr>\n",
       "\t<tr><th></th><th scope=col>&lt;ppj_lbll&gt;</th><th scope=col>&lt;ppj_lbll&gt;</th><th scope=col>&lt;ppj_lbll&gt;</th><th scope=col>&lt;ppj_lbll&gt;</th><th scope=col>&lt;ppj_lbll&gt;</th><th scope=col>&lt;ppj_lbll&gt;</th><th scope=col>&lt;ppj_lbll&gt;</th></tr>\n",
       "</thead>\n",
       "<tbody>\n",
       "\t<tr><th scope=row>1</th><td>Cond0</td><td>9.74</td><td>1.94</td><td>79.70</td><td>0.29</td><td>&lt; .001</td><td>.012</td></tr>\n",
       "</tbody>\n",
       "</table>\n"
      ],
      "text/latex": [
       "A apa\\_results\\_table: 1 × 7\n",
       "\\begin{tabular}{r|lllllll}\n",
       "  & Effect & F & df1 & df2 & MSE & p & ges\\\\\n",
       "  & <ppj\\_lbll> & <ppj\\_lbll> & <ppj\\_lbll> & <ppj\\_lbll> & <ppj\\_lbll> & <ppj\\_lbll> & <ppj\\_lbll>\\\\\n",
       "\\hline\n",
       "\t1 & Cond0 & 9.74 & 1.94 & 79.70 & 0.29 & < .001 & .012\\\\\n",
       "\\end{tabular}\n"
      ],
      "text/markdown": [
       "\n",
       "A apa_results_table: 1 × 7\n",
       "\n",
       "| <!--/--> | Effect &lt;ppj_lbll&gt; | F &lt;ppj_lbll&gt; | df1 &lt;ppj_lbll&gt; | df2 &lt;ppj_lbll&gt; | MSE &lt;ppj_lbll&gt; | p &lt;ppj_lbll&gt; | ges &lt;ppj_lbll&gt; |\n",
       "|---|---|---|---|---|---|---|---|\n",
       "| 1 | Cond0 | 9.74 | 1.94 | 79.70 | 0.29 | &lt; .001 | .012 |\n",
       "\n"
      ],
      "text/plain": [
       "  Effect F    df1  df2   MSE  p      ges \n",
       "1 Cond0  9.74 1.94 79.70 0.29 < .001 .012"
      ]
     },
     "metadata": {},
     "output_type": "display_data"
    },
    {
     "data": {
      "text/markdown": [
       "### Result"
      ]
     },
     "metadata": {},
     "output_type": "display_data"
    },
    {
     "data": {
      "text/markdown": [
       "$F(1.94, 79.70) = 9.74$, $\\mathit{MSE} = 0.29$, $p < .001$, $\\hat{\\eta}^2_G = .012$"
      ]
     },
     "metadata": {},
     "output_type": "display_data"
    },
    {
     "data": {
      "text/markdown": [
       "### Summary (all done1, incl. NANs)"
      ]
     },
     "metadata": {},
     "output_type": "display_data"
    },
    {
     "data": {
      "text/html": [
       "<table>\n",
       "<caption>A tibble: 3 × 5</caption>\n",
       "<thead>\n",
       "\t<tr><th scope=col>cond0</th><th scope=col>N</th><th scope=col>valX_M</th><th scope=col>valX_SD</th><th scope=col>valX_SE</th></tr>\n",
       "\t<tr><th scope=col>&lt;fct&gt;</th><th scope=col>&lt;int&gt;</th><th scope=col>&lt;dbl&gt;</th><th scope=col>&lt;dbl&gt;</th><th scope=col>&lt;dbl&gt;</th></tr>\n",
       "</thead>\n",
       "<tbody>\n",
       "\t<tr><td>noun_F</td><td>42</td><td>1.954209</td><td>1.984943</td><td>0.3062834</td></tr>\n",
       "\t<tr><td>noun_M</td><td>42</td><td>2.361286</td><td>1.922784</td><td>0.2966921</td></tr>\n",
       "\t<tr><td>verb_X</td><td>42</td><td>1.886678</td><td>1.968725</td><td>0.3037809</td></tr>\n",
       "</tbody>\n",
       "</table>\n"
      ],
      "text/latex": [
       "A tibble: 3 × 5\n",
       "\\begin{tabular}{lllll}\n",
       " cond0 & N & valX\\_M & valX\\_SD & valX\\_SE\\\\\n",
       " <fct> & <int> & <dbl> & <dbl> & <dbl>\\\\\n",
       "\\hline\n",
       "\t noun\\_F & 42 & 1.954209 & 1.984943 & 0.3062834\\\\\n",
       "\t noun\\_M & 42 & 2.361286 & 1.922784 & 0.2966921\\\\\n",
       "\t verb\\_X & 42 & 1.886678 & 1.968725 & 0.3037809\\\\\n",
       "\\end{tabular}\n"
      ],
      "text/markdown": [
       "\n",
       "A tibble: 3 × 5\n",
       "\n",
       "| cond0 &lt;fct&gt; | N &lt;int&gt; | valX_M &lt;dbl&gt; | valX_SD &lt;dbl&gt; | valX_SE &lt;dbl&gt; |\n",
       "|---|---|---|---|---|\n",
       "| noun_F | 42 | 1.954209 | 1.984943 | 0.3062834 |\n",
       "| noun_M | 42 | 2.361286 | 1.922784 | 0.2966921 |\n",
       "| verb_X | 42 | 1.886678 | 1.968725 | 0.3037809 |\n",
       "\n"
      ],
      "text/plain": [
       "  cond0  N  valX_M   valX_SD  valX_SE  \n",
       "1 noun_F 42 1.954209 1.984943 0.3062834\n",
       "2 noun_M 42 2.361286 1.922784 0.2966921\n",
       "3 verb_X 42 1.886678 1.968725 0.3037809"
      ]
     },
     "metadata": {},
     "output_type": "display_data"
    },
    {
     "data": {
      "text/markdown": [
       "### Expected marginal means"
      ]
     },
     "metadata": {},
     "output_type": "display_data"
    },
    {
     "data": {
      "text/html": [
       "<table>\n",
       "<caption>A apa_results_table: 3 × 5</caption>\n",
       "<thead>\n",
       "\t<tr><th></th><th scope=col>cond0</th><th scope=col>estimate</th><th scope=col>ci</th><th scope=col>statistic</th><th scope=col>p.value</th></tr>\n",
       "\t<tr><th></th><th scope=col>&lt;chr&gt;</th><th scope=col>&lt;ppj_lbll&gt;</th><th scope=col>&lt;ppj_lbll&gt;</th><th scope=col>&lt;ppj_lbll&gt;</th><th scope=col>&lt;ppj_lbll&gt;</th></tr>\n",
       "</thead>\n",
       "<tbody>\n",
       "\t<tr><th scope=row>noun_F</th><td>noun_F</td><td>1.95</td><td>$[1.35$, $2.56]$</td><td>6.46</td><td>&lt; .001</td></tr>\n",
       "\t<tr><th scope=row>noun_M</th><td>noun_M</td><td>2.36</td><td>$[1.75$, $2.97]$</td><td>7.81</td><td>&lt; .001</td></tr>\n",
       "\t<tr><th scope=row>verb_X</th><td>verb_X</td><td>1.89</td><td>$[1.28$, $2.50]$</td><td>6.24</td><td>&lt; .001</td></tr>\n",
       "</tbody>\n",
       "</table>\n"
      ],
      "text/latex": [
       "A apa\\_results\\_table: 3 × 5\n",
       "\\begin{tabular}{r|lllll}\n",
       "  & cond0 & estimate & ci & statistic & p.value\\\\\n",
       "  & <chr> & <ppj\\_lbll> & <ppj\\_lbll> & <ppj\\_lbll> & <ppj\\_lbll>\\\\\n",
       "\\hline\n",
       "\tnoun\\_F & noun\\_F & 1.95 & \\${[}1.35\\$, \\$2.56{]}\\$ & 6.46 & < .001\\\\\n",
       "\tnoun\\_M & noun\\_M & 2.36 & \\${[}1.75\\$, \\$2.97{]}\\$ & 7.81 & < .001\\\\\n",
       "\tverb\\_X & verb\\_X & 1.89 & \\${[}1.28\\$, \\$2.50{]}\\$ & 6.24 & < .001\\\\\n",
       "\\end{tabular}\n"
      ],
      "text/markdown": [
       "\n",
       "A apa_results_table: 3 × 5\n",
       "\n",
       "| <!--/--> | cond0 &lt;chr&gt; | estimate &lt;ppj_lbll&gt; | ci &lt;ppj_lbll&gt; | statistic &lt;ppj_lbll&gt; | p.value &lt;ppj_lbll&gt; |\n",
       "|---|---|---|---|---|---|\n",
       "| noun_F | noun_F | 1.95 | $[1.35$, $2.56]$ | 6.46 | &lt; .001 |\n",
       "| noun_M | noun_M | 2.36 | $[1.75$, $2.97]$ | 7.81 | &lt; .001 |\n",
       "| verb_X | verb_X | 1.89 | $[1.28$, $2.50]$ | 6.24 | &lt; .001 |\n",
       "\n"
      ],
      "text/plain": [
       "       cond0  estimate ci               statistic p.value\n",
       "noun_F noun_F 1.95     $[1.35$, $2.56]$ 6.46      < .001 \n",
       "noun_M noun_M 2.36     $[1.75$, $2.97]$ 7.81      < .001 \n",
       "verb_X verb_X 1.89     $[1.28$, $2.50]$ 6.24      < .001 "
      ]
     },
     "metadata": {},
     "output_type": "display_data"
    },
    {
     "data": {
      "text/markdown": [
       "### Paired comparisons for expected marginal means"
      ]
     },
     "metadata": {},
     "output_type": "display_data"
    },
    {
     "data": {
      "text/html": [
       "<table>\n",
       "<caption>A apa_results_table: 3 × 5</caption>\n",
       "<thead>\n",
       "\t<tr><th></th><th scope=col>contrast</th><th scope=col>estimate</th><th scope=col>ci</th><th scope=col>statistic</th><th scope=col>p.value</th></tr>\n",
       "\t<tr><th></th><th scope=col>&lt;ppj_lbll&gt;</th><th scope=col>&lt;ppj_lbll&gt;</th><th scope=col>&lt;ppj_lbll&gt;</th><th scope=col>&lt;ppj_lbll&gt;</th><th scope=col>&lt;ppj_lbll&gt;</th></tr>\n",
       "</thead>\n",
       "<tbody>\n",
       "\t<tr><th scope=row>noun_F_noun_M</th><td>noun_F - noun_M</td><td>-0.41</td><td>$[-0.68$, $-0.13]$</td><td>-3.50</td><td>.002  </td></tr>\n",
       "\t<tr><th scope=row>noun_F_verb_X</th><td>noun_F - verb_X</td><td>0.07 </td><td>$[-0.21$, $0.35]$ </td><td>0.58 </td><td>.831  </td></tr>\n",
       "\t<tr><th scope=row>noun_M_verb_X</th><td>noun_M - verb_X</td><td>0.47 </td><td><span style=white-space:pre-wrap>$[0.20$, $0.75]$  </span></td><td>4.08 </td><td>&lt; .001</td></tr>\n",
       "</tbody>\n",
       "</table>\n"
      ],
      "text/latex": [
       "A apa\\_results\\_table: 3 × 5\n",
       "\\begin{tabular}{r|lllll}\n",
       "  & contrast & estimate & ci & statistic & p.value\\\\\n",
       "  & <ppj\\_lbll> & <ppj\\_lbll> & <ppj\\_lbll> & <ppj\\_lbll> & <ppj\\_lbll>\\\\\n",
       "\\hline\n",
       "\tnoun\\_F\\_noun\\_M & noun\\_F - noun\\_M & -0.41 & \\${[}-0.68\\$, \\$-0.13{]}\\$ & -3.50 & .002  \\\\\n",
       "\tnoun\\_F\\_verb\\_X & noun\\_F - verb\\_X & 0.07  & \\${[}-0.21\\$, \\$0.35{]}\\$  & 0.58  & .831  \\\\\n",
       "\tnoun\\_M\\_verb\\_X & noun\\_M - verb\\_X & 0.47  & \\${[}0.20\\$, \\$0.75{]}\\$   & 4.08  & < .001\\\\\n",
       "\\end{tabular}\n"
      ],
      "text/markdown": [
       "\n",
       "A apa_results_table: 3 × 5\n",
       "\n",
       "| <!--/--> | contrast &lt;ppj_lbll&gt; | estimate &lt;ppj_lbll&gt; | ci &lt;ppj_lbll&gt; | statistic &lt;ppj_lbll&gt; | p.value &lt;ppj_lbll&gt; |\n",
       "|---|---|---|---|---|---|\n",
       "| noun_F_noun_M | noun_F - noun_M | -0.41 | $[-0.68$, $-0.13]$ | -3.50 | .002   |\n",
       "| noun_F_verb_X | noun_F - verb_X | 0.07  | $[-0.21$, $0.35]$  | 0.58  | .831   |\n",
       "| noun_M_verb_X | noun_M - verb_X | 0.47  | $[0.20$, $0.75]$   | 4.08  | &lt; .001 |\n",
       "\n"
      ],
      "text/plain": [
       "              contrast        estimate ci                 statistic p.value\n",
       "noun_F_noun_M noun_F - noun_M -0.41    $[-0.68$, $-0.13]$ -3.50     .002   \n",
       "noun_F_verb_X noun_F - verb_X 0.07     $[-0.21$, $0.35]$  0.58      .831   \n",
       "noun_M_verb_X noun_M - verb_X 0.47     $[0.20$, $0.75]$   4.08      < .001 "
      ]
     },
     "metadata": {},
     "output_type": "display_data"
    }
   ],
   "source": [
    "IDX <- IDX+1; COND <- CONDS[IDX]\n",
    "data1 <- droplevels(subset(df1, eval(parse(text=COND)))); data1 <- data1[complete.cases(data1),]; done1 <- AOV4(data1,COND)\n",
    "display_markdown(str_c(\"# Condition \",IDX,\" of \",length(CONDS))); display_markdown(done1$info); display_markdown(\"### Table\"); done1$aov_APA$table; display_markdown(\"### Result\"); display_markdown(done1$aov_APA[[\"full_result\"]][[\"cond0\"]]); display_markdown(\"### Summary (all done1, incl. NANs)\"); done1$summary; display_markdown(\"### Expected marginal means\"); done1$emm_APA$table; display_markdown(\"### Paired comparisons for expected marginal means\"); done1$pairs_APA$table"
   ]
  },
  {
   "cell_type": "code",
   "execution_count": 189,
   "metadata": {},
   "outputs": [
    {
     "data": {
      "text/markdown": [
       "# Condition 22 of 72"
      ]
     },
     "metadata": {},
     "output_type": "display_data"
    },
    {
     "data": {
      "text/markdown": [
       "`tmin0==0.19 & chan0==\"LP\" & mode0==\"neg\"`"
      ]
     },
     "metadata": {},
     "output_type": "display_data"
    },
    {
     "data": {
      "text/markdown": [
       "### Table"
      ]
     },
     "metadata": {},
     "output_type": "display_data"
    },
    {
     "data": {
      "text/html": [
       "<table>\n",
       "<caption>A apa_results_table: 1 × 7</caption>\n",
       "<thead>\n",
       "\t<tr><th></th><th scope=col>Effect</th><th scope=col>F</th><th scope=col>df1</th><th scope=col>df2</th><th scope=col>MSE</th><th scope=col>p</th><th scope=col>ges</th></tr>\n",
       "\t<tr><th></th><th scope=col>&lt;ppj_lbll&gt;</th><th scope=col>&lt;ppj_lbll&gt;</th><th scope=col>&lt;ppj_lbll&gt;</th><th scope=col>&lt;ppj_lbll&gt;</th><th scope=col>&lt;ppj_lbll&gt;</th><th scope=col>&lt;ppj_lbll&gt;</th><th scope=col>&lt;ppj_lbll&gt;</th></tr>\n",
       "</thead>\n",
       "<tbody>\n",
       "\t<tr><th scope=row>1</th><td>Cond0</td><td>3.63</td><td>1.74</td><td>71.45</td><td>0.42</td><td>.037</td><td>.003</td></tr>\n",
       "</tbody>\n",
       "</table>\n"
      ],
      "text/latex": [
       "A apa\\_results\\_table: 1 × 7\n",
       "\\begin{tabular}{r|lllllll}\n",
       "  & Effect & F & df1 & df2 & MSE & p & ges\\\\\n",
       "  & <ppj\\_lbll> & <ppj\\_lbll> & <ppj\\_lbll> & <ppj\\_lbll> & <ppj\\_lbll> & <ppj\\_lbll> & <ppj\\_lbll>\\\\\n",
       "\\hline\n",
       "\t1 & Cond0 & 3.63 & 1.74 & 71.45 & 0.42 & .037 & .003\\\\\n",
       "\\end{tabular}\n"
      ],
      "text/markdown": [
       "\n",
       "A apa_results_table: 1 × 7\n",
       "\n",
       "| <!--/--> | Effect &lt;ppj_lbll&gt; | F &lt;ppj_lbll&gt; | df1 &lt;ppj_lbll&gt; | df2 &lt;ppj_lbll&gt; | MSE &lt;ppj_lbll&gt; | p &lt;ppj_lbll&gt; | ges &lt;ppj_lbll&gt; |\n",
       "|---|---|---|---|---|---|---|---|\n",
       "| 1 | Cond0 | 3.63 | 1.74 | 71.45 | 0.42 | .037 | .003 |\n",
       "\n"
      ],
      "text/plain": [
       "  Effect F    df1  df2   MSE  p    ges \n",
       "1 Cond0  3.63 1.74 71.45 0.42 .037 .003"
      ]
     },
     "metadata": {},
     "output_type": "display_data"
    },
    {
     "data": {
      "text/markdown": [
       "### Result"
      ]
     },
     "metadata": {},
     "output_type": "display_data"
    },
    {
     "data": {
      "text/markdown": [
       "$F(1.74, 71.45) = 3.63$, $\\mathit{MSE} = 0.42$, $p = .037$, $\\hat{\\eta}^2_G = .003$"
      ]
     },
     "metadata": {},
     "output_type": "display_data"
    },
    {
     "data": {
      "text/markdown": [
       "### Summary (all done1, incl. NANs)"
      ]
     },
     "metadata": {},
     "output_type": "display_data"
    },
    {
     "data": {
      "text/html": [
       "<table>\n",
       "<caption>A tibble: 3 × 5</caption>\n",
       "<thead>\n",
       "\t<tr><th scope=col>cond0</th><th scope=col>N</th><th scope=col>valX_M</th><th scope=col>valX_SD</th><th scope=col>valX_SE</th></tr>\n",
       "\t<tr><th scope=col>&lt;fct&gt;</th><th scope=col>&lt;int&gt;</th><th scope=col>&lt;dbl&gt;</th><th scope=col>&lt;dbl&gt;</th><th scope=col>&lt;dbl&gt;</th></tr>\n",
       "</thead>\n",
       "<tbody>\n",
       "\t<tr><td>noun_F</td><td>42</td><td>-2.234740</td><td>2.625006</td><td>0.4050472</td></tr>\n",
       "\t<tr><td>noun_M</td><td>42</td><td>-1.884800</td><td>2.539065</td><td>0.3917863</td></tr>\n",
       "\t<tr><td>verb_X</td><td>42</td><td>-2.104852</td><td>2.629377</td><td>0.4057216</td></tr>\n",
       "</tbody>\n",
       "</table>\n"
      ],
      "text/latex": [
       "A tibble: 3 × 5\n",
       "\\begin{tabular}{lllll}\n",
       " cond0 & N & valX\\_M & valX\\_SD & valX\\_SE\\\\\n",
       " <fct> & <int> & <dbl> & <dbl> & <dbl>\\\\\n",
       "\\hline\n",
       "\t noun\\_F & 42 & -2.234740 & 2.625006 & 0.4050472\\\\\n",
       "\t noun\\_M & 42 & -1.884800 & 2.539065 & 0.3917863\\\\\n",
       "\t verb\\_X & 42 & -2.104852 & 2.629377 & 0.4057216\\\\\n",
       "\\end{tabular}\n"
      ],
      "text/markdown": [
       "\n",
       "A tibble: 3 × 5\n",
       "\n",
       "| cond0 &lt;fct&gt; | N &lt;int&gt; | valX_M &lt;dbl&gt; | valX_SD &lt;dbl&gt; | valX_SE &lt;dbl&gt; |\n",
       "|---|---|---|---|---|\n",
       "| noun_F | 42 | -2.234740 | 2.625006 | 0.4050472 |\n",
       "| noun_M | 42 | -1.884800 | 2.539065 | 0.3917863 |\n",
       "| verb_X | 42 | -2.104852 | 2.629377 | 0.4057216 |\n",
       "\n"
      ],
      "text/plain": [
       "  cond0  N  valX_M    valX_SD  valX_SE  \n",
       "1 noun_F 42 -2.234740 2.625006 0.4050472\n",
       "2 noun_M 42 -1.884800 2.539065 0.3917863\n",
       "3 verb_X 42 -2.104852 2.629377 0.4057216"
      ]
     },
     "metadata": {},
     "output_type": "display_data"
    },
    {
     "data": {
      "text/markdown": [
       "### Expected marginal means"
      ]
     },
     "metadata": {},
     "output_type": "display_data"
    },
    {
     "data": {
      "text/html": [
       "<table>\n",
       "<caption>A apa_results_table: 3 × 5</caption>\n",
       "<thead>\n",
       "\t<tr><th></th><th scope=col>cond0</th><th scope=col>estimate</th><th scope=col>ci</th><th scope=col>statistic</th><th scope=col>p.value</th></tr>\n",
       "\t<tr><th></th><th scope=col>&lt;chr&gt;</th><th scope=col>&lt;ppj_lbll&gt;</th><th scope=col>&lt;ppj_lbll&gt;</th><th scope=col>&lt;ppj_lbll&gt;</th><th scope=col>&lt;ppj_lbll&gt;</th></tr>\n",
       "</thead>\n",
       "<tbody>\n",
       "\t<tr><th scope=row>noun_F</th><td>noun_F</td><td>-2.23</td><td>$[-3.04$, $-1.43]$</td><td>-5.57</td><td>&lt; .001</td></tr>\n",
       "\t<tr><th scope=row>noun_M</th><td>noun_M</td><td>-1.88</td><td>$[-2.69$, $-1.08]$</td><td>-4.70</td><td>&lt; .001</td></tr>\n",
       "\t<tr><th scope=row>verb_X</th><td>verb_X</td><td>-2.10</td><td>$[-2.91$, $-1.30]$</td><td>-5.25</td><td>&lt; .001</td></tr>\n",
       "</tbody>\n",
       "</table>\n"
      ],
      "text/latex": [
       "A apa\\_results\\_table: 3 × 5\n",
       "\\begin{tabular}{r|lllll}\n",
       "  & cond0 & estimate & ci & statistic & p.value\\\\\n",
       "  & <chr> & <ppj\\_lbll> & <ppj\\_lbll> & <ppj\\_lbll> & <ppj\\_lbll>\\\\\n",
       "\\hline\n",
       "\tnoun\\_F & noun\\_F & -2.23 & \\${[}-3.04\\$, \\$-1.43{]}\\$ & -5.57 & < .001\\\\\n",
       "\tnoun\\_M & noun\\_M & -1.88 & \\${[}-2.69\\$, \\$-1.08{]}\\$ & -4.70 & < .001\\\\\n",
       "\tverb\\_X & verb\\_X & -2.10 & \\${[}-2.91\\$, \\$-1.30{]}\\$ & -5.25 & < .001\\\\\n",
       "\\end{tabular}\n"
      ],
      "text/markdown": [
       "\n",
       "A apa_results_table: 3 × 5\n",
       "\n",
       "| <!--/--> | cond0 &lt;chr&gt; | estimate &lt;ppj_lbll&gt; | ci &lt;ppj_lbll&gt; | statistic &lt;ppj_lbll&gt; | p.value &lt;ppj_lbll&gt; |\n",
       "|---|---|---|---|---|---|\n",
       "| noun_F | noun_F | -2.23 | $[-3.04$, $-1.43]$ | -5.57 | &lt; .001 |\n",
       "| noun_M | noun_M | -1.88 | $[-2.69$, $-1.08]$ | -4.70 | &lt; .001 |\n",
       "| verb_X | verb_X | -2.10 | $[-2.91$, $-1.30]$ | -5.25 | &lt; .001 |\n",
       "\n"
      ],
      "text/plain": [
       "       cond0  estimate ci                 statistic p.value\n",
       "noun_F noun_F -2.23    $[-3.04$, $-1.43]$ -5.57     < .001 \n",
       "noun_M noun_M -1.88    $[-2.69$, $-1.08]$ -4.70     < .001 \n",
       "verb_X verb_X -2.10    $[-2.91$, $-1.30]$ -5.25     < .001 "
      ]
     },
     "metadata": {},
     "output_type": "display_data"
    },
    {
     "data": {
      "text/markdown": [
       "### Paired comparisons for expected marginal means"
      ]
     },
     "metadata": {},
     "output_type": "display_data"
    },
    {
     "data": {
      "text/html": [
       "<table>\n",
       "<caption>A apa_results_table: 3 × 5</caption>\n",
       "<thead>\n",
       "\t<tr><th></th><th scope=col>contrast</th><th scope=col>estimate</th><th scope=col>ci</th><th scope=col>statistic</th><th scope=col>p.value</th></tr>\n",
       "\t<tr><th></th><th scope=col>&lt;ppj_lbll&gt;</th><th scope=col>&lt;ppj_lbll&gt;</th><th scope=col>&lt;ppj_lbll&gt;</th><th scope=col>&lt;ppj_lbll&gt;</th><th scope=col>&lt;ppj_lbll&gt;</th></tr>\n",
       "</thead>\n",
       "<tbody>\n",
       "\t<tr><th scope=row>noun_F_noun_M</th><td>noun_F - noun_M</td><td>-0.35</td><td>$[-0.66$, $-0.04]$</td><td>-2.67</td><td>.025</td></tr>\n",
       "\t<tr><th scope=row>noun_F_verb_X</th><td>noun_F - verb_X</td><td>-0.13</td><td>$[-0.44$, $0.18]$ </td><td>-0.99</td><td>.585</td></tr>\n",
       "\t<tr><th scope=row>noun_M_verb_X</th><td>noun_M - verb_X</td><td>0.22 </td><td>$[-0.09$, $0.53]$ </td><td>1.68 </td><td>.220</td></tr>\n",
       "</tbody>\n",
       "</table>\n"
      ],
      "text/latex": [
       "A apa\\_results\\_table: 3 × 5\n",
       "\\begin{tabular}{r|lllll}\n",
       "  & contrast & estimate & ci & statistic & p.value\\\\\n",
       "  & <ppj\\_lbll> & <ppj\\_lbll> & <ppj\\_lbll> & <ppj\\_lbll> & <ppj\\_lbll>\\\\\n",
       "\\hline\n",
       "\tnoun\\_F\\_noun\\_M & noun\\_F - noun\\_M & -0.35 & \\${[}-0.66\\$, \\$-0.04{]}\\$ & -2.67 & .025\\\\\n",
       "\tnoun\\_F\\_verb\\_X & noun\\_F - verb\\_X & -0.13 & \\${[}-0.44\\$, \\$0.18{]}\\$  & -0.99 & .585\\\\\n",
       "\tnoun\\_M\\_verb\\_X & noun\\_M - verb\\_X & 0.22  & \\${[}-0.09\\$, \\$0.53{]}\\$  & 1.68  & .220\\\\\n",
       "\\end{tabular}\n"
      ],
      "text/markdown": [
       "\n",
       "A apa_results_table: 3 × 5\n",
       "\n",
       "| <!--/--> | contrast &lt;ppj_lbll&gt; | estimate &lt;ppj_lbll&gt; | ci &lt;ppj_lbll&gt; | statistic &lt;ppj_lbll&gt; | p.value &lt;ppj_lbll&gt; |\n",
       "|---|---|---|---|---|---|\n",
       "| noun_F_noun_M | noun_F - noun_M | -0.35 | $[-0.66$, $-0.04]$ | -2.67 | .025 |\n",
       "| noun_F_verb_X | noun_F - verb_X | -0.13 | $[-0.44$, $0.18]$  | -0.99 | .585 |\n",
       "| noun_M_verb_X | noun_M - verb_X | 0.22  | $[-0.09$, $0.53]$  | 1.68  | .220 |\n",
       "\n"
      ],
      "text/plain": [
       "              contrast        estimate ci                 statistic p.value\n",
       "noun_F_noun_M noun_F - noun_M -0.35    $[-0.66$, $-0.04]$ -2.67     .025   \n",
       "noun_F_verb_X noun_F - verb_X -0.13    $[-0.44$, $0.18]$  -0.99     .585   \n",
       "noun_M_verb_X noun_M - verb_X 0.22     $[-0.09$, $0.53]$  1.68      .220   "
      ]
     },
     "metadata": {},
     "output_type": "display_data"
    }
   ],
   "source": [
    "IDX <- IDX+1; COND <- CONDS[IDX]\n",
    "data1 <- droplevels(subset(df1, eval(parse(text=COND)))); data1 <- data1[complete.cases(data1),]; done1 <- AOV4(data1,COND)\n",
    "display_markdown(str_c(\"# Condition \",IDX,\" of \",length(CONDS))); display_markdown(done1$info); display_markdown(\"### Table\"); done1$aov_APA$table; display_markdown(\"### Result\"); display_markdown(done1$aov_APA[[\"full_result\"]][[\"cond0\"]]); display_markdown(\"### Summary (all done1, incl. NANs)\"); done1$summary; display_markdown(\"### Expected marginal means\"); done1$emm_APA$table; display_markdown(\"### Paired comparisons for expected marginal means\"); done1$pairs_APA$table"
   ]
  },
  {
   "cell_type": "code",
   "execution_count": 190,
   "metadata": {},
   "outputs": [
    {
     "name": "stderr",
     "output_type": "stream",
     "text": [
      "Warning message in summary.Anova.mlm(x$Anova):\n",
      "“HF eps > 1 treated as 1”\n"
     ]
    },
    {
     "data": {
      "text/markdown": [
       "# Condition 23 of 72"
      ]
     },
     "metadata": {},
     "output_type": "display_data"
    },
    {
     "data": {
      "text/markdown": [
       "`tmin0==0.19 & chan0==\"RP\" & mode0==\"pos\"`"
      ]
     },
     "metadata": {},
     "output_type": "display_data"
    },
    {
     "data": {
      "text/markdown": [
       "### Table"
      ]
     },
     "metadata": {},
     "output_type": "display_data"
    },
    {
     "data": {
      "text/html": [
       "<table>\n",
       "<caption>A apa_results_table: 1 × 7</caption>\n",
       "<thead>\n",
       "\t<tr><th></th><th scope=col>Effect</th><th scope=col>F</th><th scope=col>df1</th><th scope=col>df2</th><th scope=col>MSE</th><th scope=col>p</th><th scope=col>ges</th></tr>\n",
       "\t<tr><th></th><th scope=col>&lt;ppj_lbll&gt;</th><th scope=col>&lt;ppj_lbll&gt;</th><th scope=col>&lt;ppj_lbll&gt;</th><th scope=col>&lt;ppj_lbll&gt;</th><th scope=col>&lt;ppj_lbll&gt;</th><th scope=col>&lt;ppj_lbll&gt;</th><th scope=col>&lt;ppj_lbll&gt;</th></tr>\n",
       "</thead>\n",
       "<tbody>\n",
       "\t<tr><th scope=row>1</th><td>Cond0</td><td>1.61</td><td>1.99</td><td>81.49</td><td>0.38</td><td>.206</td><td>.001</td></tr>\n",
       "</tbody>\n",
       "</table>\n"
      ],
      "text/latex": [
       "A apa\\_results\\_table: 1 × 7\n",
       "\\begin{tabular}{r|lllllll}\n",
       "  & Effect & F & df1 & df2 & MSE & p & ges\\\\\n",
       "  & <ppj\\_lbll> & <ppj\\_lbll> & <ppj\\_lbll> & <ppj\\_lbll> & <ppj\\_lbll> & <ppj\\_lbll> & <ppj\\_lbll>\\\\\n",
       "\\hline\n",
       "\t1 & Cond0 & 1.61 & 1.99 & 81.49 & 0.38 & .206 & .001\\\\\n",
       "\\end{tabular}\n"
      ],
      "text/markdown": [
       "\n",
       "A apa_results_table: 1 × 7\n",
       "\n",
       "| <!--/--> | Effect &lt;ppj_lbll&gt; | F &lt;ppj_lbll&gt; | df1 &lt;ppj_lbll&gt; | df2 &lt;ppj_lbll&gt; | MSE &lt;ppj_lbll&gt; | p &lt;ppj_lbll&gt; | ges &lt;ppj_lbll&gt; |\n",
       "|---|---|---|---|---|---|---|---|\n",
       "| 1 | Cond0 | 1.61 | 1.99 | 81.49 | 0.38 | .206 | .001 |\n",
       "\n"
      ],
      "text/plain": [
       "  Effect F    df1  df2   MSE  p    ges \n",
       "1 Cond0  1.61 1.99 81.49 0.38 .206 .001"
      ]
     },
     "metadata": {},
     "output_type": "display_data"
    },
    {
     "data": {
      "text/markdown": [
       "### Result"
      ]
     },
     "metadata": {},
     "output_type": "display_data"
    },
    {
     "data": {
      "text/markdown": [
       "$F(1.99, 81.49) = 1.61$, $\\mathit{MSE} = 0.38$, $p = .206$, $\\hat{\\eta}^2_G = .001$"
      ]
     },
     "metadata": {},
     "output_type": "display_data"
    },
    {
     "data": {
      "text/markdown": [
       "### Summary (all done1, incl. NANs)"
      ]
     },
     "metadata": {},
     "output_type": "display_data"
    },
    {
     "data": {
      "text/html": [
       "<table>\n",
       "<caption>A tibble: 3 × 5</caption>\n",
       "<thead>\n",
       "\t<tr><th scope=col>cond0</th><th scope=col>N</th><th scope=col>valX_M</th><th scope=col>valX_SD</th><th scope=col>valX_SE</th></tr>\n",
       "\t<tr><th scope=col>&lt;fct&gt;</th><th scope=col>&lt;int&gt;</th><th scope=col>&lt;dbl&gt;</th><th scope=col>&lt;dbl&gt;</th><th scope=col>&lt;dbl&gt;</th></tr>\n",
       "</thead>\n",
       "<tbody>\n",
       "\t<tr><td>noun_F</td><td>42</td><td>3.747019</td><td>2.667446</td><td>0.4115958</td></tr>\n",
       "\t<tr><td>noun_M</td><td>42</td><td>3.908017</td><td>2.873509</td><td>0.4433920</td></tr>\n",
       "\t<tr><td>verb_X</td><td>42</td><td>3.674008</td><td>2.548696</td><td>0.3932724</td></tr>\n",
       "</tbody>\n",
       "</table>\n"
      ],
      "text/latex": [
       "A tibble: 3 × 5\n",
       "\\begin{tabular}{lllll}\n",
       " cond0 & N & valX\\_M & valX\\_SD & valX\\_SE\\\\\n",
       " <fct> & <int> & <dbl> & <dbl> & <dbl>\\\\\n",
       "\\hline\n",
       "\t noun\\_F & 42 & 3.747019 & 2.667446 & 0.4115958\\\\\n",
       "\t noun\\_M & 42 & 3.908017 & 2.873509 & 0.4433920\\\\\n",
       "\t verb\\_X & 42 & 3.674008 & 2.548696 & 0.3932724\\\\\n",
       "\\end{tabular}\n"
      ],
      "text/markdown": [
       "\n",
       "A tibble: 3 × 5\n",
       "\n",
       "| cond0 &lt;fct&gt; | N &lt;int&gt; | valX_M &lt;dbl&gt; | valX_SD &lt;dbl&gt; | valX_SE &lt;dbl&gt; |\n",
       "|---|---|---|---|---|\n",
       "| noun_F | 42 | 3.747019 | 2.667446 | 0.4115958 |\n",
       "| noun_M | 42 | 3.908017 | 2.873509 | 0.4433920 |\n",
       "| verb_X | 42 | 3.674008 | 2.548696 | 0.3932724 |\n",
       "\n"
      ],
      "text/plain": [
       "  cond0  N  valX_M   valX_SD  valX_SE  \n",
       "1 noun_F 42 3.747019 2.667446 0.4115958\n",
       "2 noun_M 42 3.908017 2.873509 0.4433920\n",
       "3 verb_X 42 3.674008 2.548696 0.3932724"
      ]
     },
     "metadata": {},
     "output_type": "display_data"
    },
    {
     "data": {
      "text/markdown": [
       "### Expected marginal means"
      ]
     },
     "metadata": {},
     "output_type": "display_data"
    },
    {
     "data": {
      "text/html": [
       "<table>\n",
       "<caption>A apa_results_table: 3 × 5</caption>\n",
       "<thead>\n",
       "\t<tr><th></th><th scope=col>cond0</th><th scope=col>estimate</th><th scope=col>ci</th><th scope=col>statistic</th><th scope=col>p.value</th></tr>\n",
       "\t<tr><th></th><th scope=col>&lt;chr&gt;</th><th scope=col>&lt;ppj_lbll&gt;</th><th scope=col>&lt;ppj_lbll&gt;</th><th scope=col>&lt;ppj_lbll&gt;</th><th scope=col>&lt;ppj_lbll&gt;</th></tr>\n",
       "</thead>\n",
       "<tbody>\n",
       "\t<tr><th scope=row>noun_F</th><td>noun_F</td><td>3.75</td><td>$[2.91$, $4.59]$</td><td>8.99</td><td>&lt; .001</td></tr>\n",
       "\t<tr><th scope=row>noun_M</th><td>noun_M</td><td>3.91</td><td>$[3.07$, $4.75]$</td><td>9.38</td><td>&lt; .001</td></tr>\n",
       "\t<tr><th scope=row>verb_X</th><td>verb_X</td><td>3.67</td><td>$[2.83$, $4.51]$</td><td>8.82</td><td>&lt; .001</td></tr>\n",
       "</tbody>\n",
       "</table>\n"
      ],
      "text/latex": [
       "A apa\\_results\\_table: 3 × 5\n",
       "\\begin{tabular}{r|lllll}\n",
       "  & cond0 & estimate & ci & statistic & p.value\\\\\n",
       "  & <chr> & <ppj\\_lbll> & <ppj\\_lbll> & <ppj\\_lbll> & <ppj\\_lbll>\\\\\n",
       "\\hline\n",
       "\tnoun\\_F & noun\\_F & 3.75 & \\${[}2.91\\$, \\$4.59{]}\\$ & 8.99 & < .001\\\\\n",
       "\tnoun\\_M & noun\\_M & 3.91 & \\${[}3.07\\$, \\$4.75{]}\\$ & 9.38 & < .001\\\\\n",
       "\tverb\\_X & verb\\_X & 3.67 & \\${[}2.83\\$, \\$4.51{]}\\$ & 8.82 & < .001\\\\\n",
       "\\end{tabular}\n"
      ],
      "text/markdown": [
       "\n",
       "A apa_results_table: 3 × 5\n",
       "\n",
       "| <!--/--> | cond0 &lt;chr&gt; | estimate &lt;ppj_lbll&gt; | ci &lt;ppj_lbll&gt; | statistic &lt;ppj_lbll&gt; | p.value &lt;ppj_lbll&gt; |\n",
       "|---|---|---|---|---|---|\n",
       "| noun_F | noun_F | 3.75 | $[2.91$, $4.59]$ | 8.99 | &lt; .001 |\n",
       "| noun_M | noun_M | 3.91 | $[3.07$, $4.75]$ | 9.38 | &lt; .001 |\n",
       "| verb_X | verb_X | 3.67 | $[2.83$, $4.51]$ | 8.82 | &lt; .001 |\n",
       "\n"
      ],
      "text/plain": [
       "       cond0  estimate ci               statistic p.value\n",
       "noun_F noun_F 3.75     $[2.91$, $4.59]$ 8.99      < .001 \n",
       "noun_M noun_M 3.91     $[3.07$, $4.75]$ 9.38      < .001 \n",
       "verb_X verb_X 3.67     $[2.83$, $4.51]$ 8.82      < .001 "
      ]
     },
     "metadata": {},
     "output_type": "display_data"
    },
    {
     "data": {
      "text/markdown": [
       "### Paired comparisons for expected marginal means"
      ]
     },
     "metadata": {},
     "output_type": "display_data"
    },
    {
     "data": {
      "text/html": [
       "<table>\n",
       "<caption>A apa_results_table: 3 × 5</caption>\n",
       "<thead>\n",
       "\t<tr><th></th><th scope=col>contrast</th><th scope=col>estimate</th><th scope=col>ci</th><th scope=col>statistic</th><th scope=col>p.value</th></tr>\n",
       "\t<tr><th></th><th scope=col>&lt;ppj_lbll&gt;</th><th scope=col>&lt;ppj_lbll&gt;</th><th scope=col>&lt;ppj_lbll&gt;</th><th scope=col>&lt;ppj_lbll&gt;</th><th scope=col>&lt;ppj_lbll&gt;</th></tr>\n",
       "</thead>\n",
       "<tbody>\n",
       "\t<tr><th scope=row>noun_F_noun_M</th><td>noun_F - noun_M</td><td>-0.16</td><td>$[-0.48$, $0.16]$</td><td>-1.21</td><td>.452</td></tr>\n",
       "\t<tr><th scope=row>noun_F_verb_X</th><td>noun_F - verb_X</td><td>0.07 </td><td>$[-0.25$, $0.39]$</td><td>0.55 </td><td>.848</td></tr>\n",
       "\t<tr><th scope=row>noun_M_verb_X</th><td>noun_M - verb_X</td><td>0.23 </td><td>$[-0.08$, $0.55]$</td><td>1.75 </td><td>.191</td></tr>\n",
       "</tbody>\n",
       "</table>\n"
      ],
      "text/latex": [
       "A apa\\_results\\_table: 3 × 5\n",
       "\\begin{tabular}{r|lllll}\n",
       "  & contrast & estimate & ci & statistic & p.value\\\\\n",
       "  & <ppj\\_lbll> & <ppj\\_lbll> & <ppj\\_lbll> & <ppj\\_lbll> & <ppj\\_lbll>\\\\\n",
       "\\hline\n",
       "\tnoun\\_F\\_noun\\_M & noun\\_F - noun\\_M & -0.16 & \\${[}-0.48\\$, \\$0.16{]}\\$ & -1.21 & .452\\\\\n",
       "\tnoun\\_F\\_verb\\_X & noun\\_F - verb\\_X & 0.07  & \\${[}-0.25\\$, \\$0.39{]}\\$ & 0.55  & .848\\\\\n",
       "\tnoun\\_M\\_verb\\_X & noun\\_M - verb\\_X & 0.23  & \\${[}-0.08\\$, \\$0.55{]}\\$ & 1.75  & .191\\\\\n",
       "\\end{tabular}\n"
      ],
      "text/markdown": [
       "\n",
       "A apa_results_table: 3 × 5\n",
       "\n",
       "| <!--/--> | contrast &lt;ppj_lbll&gt; | estimate &lt;ppj_lbll&gt; | ci &lt;ppj_lbll&gt; | statistic &lt;ppj_lbll&gt; | p.value &lt;ppj_lbll&gt; |\n",
       "|---|---|---|---|---|---|\n",
       "| noun_F_noun_M | noun_F - noun_M | -0.16 | $[-0.48$, $0.16]$ | -1.21 | .452 |\n",
       "| noun_F_verb_X | noun_F - verb_X | 0.07  | $[-0.25$, $0.39]$ | 0.55  | .848 |\n",
       "| noun_M_verb_X | noun_M - verb_X | 0.23  | $[-0.08$, $0.55]$ | 1.75  | .191 |\n",
       "\n"
      ],
      "text/plain": [
       "              contrast        estimate ci                statistic p.value\n",
       "noun_F_noun_M noun_F - noun_M -0.16    $[-0.48$, $0.16]$ -1.21     .452   \n",
       "noun_F_verb_X noun_F - verb_X 0.07     $[-0.25$, $0.39]$ 0.55      .848   \n",
       "noun_M_verb_X noun_M - verb_X 0.23     $[-0.08$, $0.55]$ 1.75      .191   "
      ]
     },
     "metadata": {},
     "output_type": "display_data"
    }
   ],
   "source": [
    "IDX <- IDX+1; COND <- CONDS[IDX]\n",
    "data1 <- droplevels(subset(df1, eval(parse(text=COND)))); data1 <- data1[complete.cases(data1),]; done1 <- AOV4(data1,COND)\n",
    "display_markdown(str_c(\"# Condition \",IDX,\" of \",length(CONDS))); display_markdown(done1$info); display_markdown(\"### Table\"); done1$aov_APA$table; display_markdown(\"### Result\"); display_markdown(done1$aov_APA[[\"full_result\"]][[\"cond0\"]]); display_markdown(\"### Summary (all done1, incl. NANs)\"); done1$summary; display_markdown(\"### Expected marginal means\"); done1$emm_APA$table; display_markdown(\"### Paired comparisons for expected marginal means\"); done1$pairs_APA$table"
   ]
  },
  {
   "cell_type": "code",
   "execution_count": 191,
   "metadata": {},
   "outputs": [
    {
     "data": {
      "text/markdown": [
       "# Condition 24 of 72"
      ]
     },
     "metadata": {},
     "output_type": "display_data"
    },
    {
     "data": {
      "text/markdown": [
       "`tmin0==0.19 & chan0==\"RP\" & mode0==\"neg\"`"
      ]
     },
     "metadata": {},
     "output_type": "display_data"
    },
    {
     "data": {
      "text/markdown": [
       "### Table"
      ]
     },
     "metadata": {},
     "output_type": "display_data"
    },
    {
     "data": {
      "text/html": [
       "<table>\n",
       "<caption>A apa_results_table: 1 × 7</caption>\n",
       "<thead>\n",
       "\t<tr><th></th><th scope=col>Effect</th><th scope=col>F</th><th scope=col>df1</th><th scope=col>df2</th><th scope=col>MSE</th><th scope=col>p</th><th scope=col>ges</th></tr>\n",
       "\t<tr><th></th><th scope=col>&lt;ppj_lbll&gt;</th><th scope=col>&lt;ppj_lbll&gt;</th><th scope=col>&lt;ppj_lbll&gt;</th><th scope=col>&lt;ppj_lbll&gt;</th><th scope=col>&lt;ppj_lbll&gt;</th><th scope=col>&lt;ppj_lbll&gt;</th><th scope=col>&lt;ppj_lbll&gt;</th></tr>\n",
       "</thead>\n",
       "<tbody>\n",
       "\t<tr><th scope=row>1</th><td>Cond0</td><td>1.88</td><td>1.81</td><td>74.21</td><td>0.33</td><td>.164</td><td>.002</td></tr>\n",
       "</tbody>\n",
       "</table>\n"
      ],
      "text/latex": [
       "A apa\\_results\\_table: 1 × 7\n",
       "\\begin{tabular}{r|lllllll}\n",
       "  & Effect & F & df1 & df2 & MSE & p & ges\\\\\n",
       "  & <ppj\\_lbll> & <ppj\\_lbll> & <ppj\\_lbll> & <ppj\\_lbll> & <ppj\\_lbll> & <ppj\\_lbll> & <ppj\\_lbll>\\\\\n",
       "\\hline\n",
       "\t1 & Cond0 & 1.88 & 1.81 & 74.21 & 0.33 & .164 & .002\\\\\n",
       "\\end{tabular}\n"
      ],
      "text/markdown": [
       "\n",
       "A apa_results_table: 1 × 7\n",
       "\n",
       "| <!--/--> | Effect &lt;ppj_lbll&gt; | F &lt;ppj_lbll&gt; | df1 &lt;ppj_lbll&gt; | df2 &lt;ppj_lbll&gt; | MSE &lt;ppj_lbll&gt; | p &lt;ppj_lbll&gt; | ges &lt;ppj_lbll&gt; |\n",
       "|---|---|---|---|---|---|---|---|\n",
       "| 1 | Cond0 | 1.88 | 1.81 | 74.21 | 0.33 | .164 | .002 |\n",
       "\n"
      ],
      "text/plain": [
       "  Effect F    df1  df2   MSE  p    ges \n",
       "1 Cond0  1.88 1.81 74.21 0.33 .164 .002"
      ]
     },
     "metadata": {},
     "output_type": "display_data"
    },
    {
     "data": {
      "text/markdown": [
       "### Result"
      ]
     },
     "metadata": {},
     "output_type": "display_data"
    },
    {
     "data": {
      "text/markdown": [
       "$F(1.81, 74.21) = 1.88$, $\\mathit{MSE} = 0.33$, $p = .164$, $\\hat{\\eta}^2_G = .002$"
      ]
     },
     "metadata": {},
     "output_type": "display_data"
    },
    {
     "data": {
      "text/markdown": [
       "### Summary (all done1, incl. NANs)"
      ]
     },
     "metadata": {},
     "output_type": "display_data"
    },
    {
     "data": {
      "text/html": [
       "<table>\n",
       "<caption>A tibble: 3 × 5</caption>\n",
       "<thead>\n",
       "\t<tr><th scope=col>cond0</th><th scope=col>N</th><th scope=col>valX_M</th><th scope=col>valX_SD</th><th scope=col>valX_SE</th></tr>\n",
       "\t<tr><th scope=col>&lt;fct&gt;</th><th scope=col>&lt;int&gt;</th><th scope=col>&lt;dbl&gt;</th><th scope=col>&lt;dbl&gt;</th><th scope=col>&lt;dbl&gt;</th></tr>\n",
       "</thead>\n",
       "<tbody>\n",
       "\t<tr><td>noun_F</td><td>42</td><td>-0.6207037</td><td>2.270806</td><td>0.3503930</td></tr>\n",
       "\t<tr><td>noun_M</td><td>42</td><td>-0.4108307</td><td>2.318604</td><td>0.3577683</td></tr>\n",
       "\t<tr><td>verb_X</td><td>42</td><td>-0.4336474</td><td>2.239387</td><td>0.3455448</td></tr>\n",
       "</tbody>\n",
       "</table>\n"
      ],
      "text/latex": [
       "A tibble: 3 × 5\n",
       "\\begin{tabular}{lllll}\n",
       " cond0 & N & valX\\_M & valX\\_SD & valX\\_SE\\\\\n",
       " <fct> & <int> & <dbl> & <dbl> & <dbl>\\\\\n",
       "\\hline\n",
       "\t noun\\_F & 42 & -0.6207037 & 2.270806 & 0.3503930\\\\\n",
       "\t noun\\_M & 42 & -0.4108307 & 2.318604 & 0.3577683\\\\\n",
       "\t verb\\_X & 42 & -0.4336474 & 2.239387 & 0.3455448\\\\\n",
       "\\end{tabular}\n"
      ],
      "text/markdown": [
       "\n",
       "A tibble: 3 × 5\n",
       "\n",
       "| cond0 &lt;fct&gt; | N &lt;int&gt; | valX_M &lt;dbl&gt; | valX_SD &lt;dbl&gt; | valX_SE &lt;dbl&gt; |\n",
       "|---|---|---|---|---|\n",
       "| noun_F | 42 | -0.6207037 | 2.270806 | 0.3503930 |\n",
       "| noun_M | 42 | -0.4108307 | 2.318604 | 0.3577683 |\n",
       "| verb_X | 42 | -0.4336474 | 2.239387 | 0.3455448 |\n",
       "\n"
      ],
      "text/plain": [
       "  cond0  N  valX_M     valX_SD  valX_SE  \n",
       "1 noun_F 42 -0.6207037 2.270806 0.3503930\n",
       "2 noun_M 42 -0.4108307 2.318604 0.3577683\n",
       "3 verb_X 42 -0.4336474 2.239387 0.3455448"
      ]
     },
     "metadata": {},
     "output_type": "display_data"
    },
    {
     "data": {
      "text/markdown": [
       "### Expected marginal means"
      ]
     },
     "metadata": {},
     "output_type": "display_data"
    },
    {
     "data": {
      "text/html": [
       "<table>\n",
       "<caption>A apa_results_table: 3 × 5</caption>\n",
       "<thead>\n",
       "\t<tr><th></th><th scope=col>cond0</th><th scope=col>estimate</th><th scope=col>ci</th><th scope=col>statistic</th><th scope=col>p.value</th></tr>\n",
       "\t<tr><th></th><th scope=col>&lt;chr&gt;</th><th scope=col>&lt;ppj_lbll&gt;</th><th scope=col>&lt;ppj_lbll&gt;</th><th scope=col>&lt;ppj_lbll&gt;</th><th scope=col>&lt;ppj_lbll&gt;</th></tr>\n",
       "</thead>\n",
       "<tbody>\n",
       "\t<tr><th scope=row>noun_F</th><td>noun_F</td><td>-0.62</td><td>$[-1.33$, $0.09]$</td><td>-1.77</td><td>.084</td></tr>\n",
       "\t<tr><th scope=row>noun_M</th><td>noun_M</td><td>-0.41</td><td>$[-1.12$, $0.30]$</td><td>-1.17</td><td>.248</td></tr>\n",
       "\t<tr><th scope=row>verb_X</th><td>verb_X</td><td>-0.43</td><td>$[-1.14$, $0.27]$</td><td>-1.23</td><td>.224</td></tr>\n",
       "</tbody>\n",
       "</table>\n"
      ],
      "text/latex": [
       "A apa\\_results\\_table: 3 × 5\n",
       "\\begin{tabular}{r|lllll}\n",
       "  & cond0 & estimate & ci & statistic & p.value\\\\\n",
       "  & <chr> & <ppj\\_lbll> & <ppj\\_lbll> & <ppj\\_lbll> & <ppj\\_lbll>\\\\\n",
       "\\hline\n",
       "\tnoun\\_F & noun\\_F & -0.62 & \\${[}-1.33\\$, \\$0.09{]}\\$ & -1.77 & .084\\\\\n",
       "\tnoun\\_M & noun\\_M & -0.41 & \\${[}-1.12\\$, \\$0.30{]}\\$ & -1.17 & .248\\\\\n",
       "\tverb\\_X & verb\\_X & -0.43 & \\${[}-1.14\\$, \\$0.27{]}\\$ & -1.23 & .224\\\\\n",
       "\\end{tabular}\n"
      ],
      "text/markdown": [
       "\n",
       "A apa_results_table: 3 × 5\n",
       "\n",
       "| <!--/--> | cond0 &lt;chr&gt; | estimate &lt;ppj_lbll&gt; | ci &lt;ppj_lbll&gt; | statistic &lt;ppj_lbll&gt; | p.value &lt;ppj_lbll&gt; |\n",
       "|---|---|---|---|---|---|\n",
       "| noun_F | noun_F | -0.62 | $[-1.33$, $0.09]$ | -1.77 | .084 |\n",
       "| noun_M | noun_M | -0.41 | $[-1.12$, $0.30]$ | -1.17 | .248 |\n",
       "| verb_X | verb_X | -0.43 | $[-1.14$, $0.27]$ | -1.23 | .224 |\n",
       "\n"
      ],
      "text/plain": [
       "       cond0  estimate ci                statistic p.value\n",
       "noun_F noun_F -0.62    $[-1.33$, $0.09]$ -1.77     .084   \n",
       "noun_M noun_M -0.41    $[-1.12$, $0.30]$ -1.17     .248   \n",
       "verb_X verb_X -0.43    $[-1.14$, $0.27]$ -1.23     .224   "
      ]
     },
     "metadata": {},
     "output_type": "display_data"
    },
    {
     "data": {
      "text/markdown": [
       "### Paired comparisons for expected marginal means"
      ]
     },
     "metadata": {},
     "output_type": "display_data"
    },
    {
     "data": {
      "text/html": [
       "<table>\n",
       "<caption>A apa_results_table: 3 × 5</caption>\n",
       "<thead>\n",
       "\t<tr><th></th><th scope=col>contrast</th><th scope=col>estimate</th><th scope=col>ci</th><th scope=col>statistic</th><th scope=col>p.value</th></tr>\n",
       "\t<tr><th></th><th scope=col>&lt;ppj_lbll&gt;</th><th scope=col>&lt;ppj_lbll&gt;</th><th scope=col>&lt;ppj_lbll&gt;</th><th scope=col>&lt;ppj_lbll&gt;</th><th scope=col>&lt;ppj_lbll&gt;</th></tr>\n",
       "</thead>\n",
       "<tbody>\n",
       "\t<tr><th scope=row>noun_F_noun_M</th><td>noun_F - noun_M</td><td>-0.21</td><td>$[-0.49$, $0.07]$</td><td>-1.77</td><td>.187</td></tr>\n",
       "\t<tr><th scope=row>noun_F_verb_X</th><td>noun_F - verb_X</td><td>-0.19</td><td>$[-0.47$, $0.10]$</td><td>-1.57</td><td>.262</td></tr>\n",
       "\t<tr><th scope=row>noun_M_verb_X</th><td>noun_M - verb_X</td><td>0.02 </td><td>$[-0.26$, $0.31]$</td><td>0.19 </td><td>.980</td></tr>\n",
       "</tbody>\n",
       "</table>\n"
      ],
      "text/latex": [
       "A apa\\_results\\_table: 3 × 5\n",
       "\\begin{tabular}{r|lllll}\n",
       "  & contrast & estimate & ci & statistic & p.value\\\\\n",
       "  & <ppj\\_lbll> & <ppj\\_lbll> & <ppj\\_lbll> & <ppj\\_lbll> & <ppj\\_lbll>\\\\\n",
       "\\hline\n",
       "\tnoun\\_F\\_noun\\_M & noun\\_F - noun\\_M & -0.21 & \\${[}-0.49\\$, \\$0.07{]}\\$ & -1.77 & .187\\\\\n",
       "\tnoun\\_F\\_verb\\_X & noun\\_F - verb\\_X & -0.19 & \\${[}-0.47\\$, \\$0.10{]}\\$ & -1.57 & .262\\\\\n",
       "\tnoun\\_M\\_verb\\_X & noun\\_M - verb\\_X & 0.02  & \\${[}-0.26\\$, \\$0.31{]}\\$ & 0.19  & .980\\\\\n",
       "\\end{tabular}\n"
      ],
      "text/markdown": [
       "\n",
       "A apa_results_table: 3 × 5\n",
       "\n",
       "| <!--/--> | contrast &lt;ppj_lbll&gt; | estimate &lt;ppj_lbll&gt; | ci &lt;ppj_lbll&gt; | statistic &lt;ppj_lbll&gt; | p.value &lt;ppj_lbll&gt; |\n",
       "|---|---|---|---|---|---|\n",
       "| noun_F_noun_M | noun_F - noun_M | -0.21 | $[-0.49$, $0.07]$ | -1.77 | .187 |\n",
       "| noun_F_verb_X | noun_F - verb_X | -0.19 | $[-0.47$, $0.10]$ | -1.57 | .262 |\n",
       "| noun_M_verb_X | noun_M - verb_X | 0.02  | $[-0.26$, $0.31]$ | 0.19  | .980 |\n",
       "\n"
      ],
      "text/plain": [
       "              contrast        estimate ci                statistic p.value\n",
       "noun_F_noun_M noun_F - noun_M -0.21    $[-0.49$, $0.07]$ -1.77     .187   \n",
       "noun_F_verb_X noun_F - verb_X -0.19    $[-0.47$, $0.10]$ -1.57     .262   \n",
       "noun_M_verb_X noun_M - verb_X 0.02     $[-0.26$, $0.31]$ 0.19      .980   "
      ]
     },
     "metadata": {},
     "output_type": "display_data"
    }
   ],
   "source": [
    "IDX <- IDX+1; COND <- CONDS[IDX]\n",
    "data1 <- droplevels(subset(df1, eval(parse(text=COND)))); data1 <- data1[complete.cases(data1),]; done1 <- AOV4(data1,COND)\n",
    "display_markdown(str_c(\"# Condition \",IDX,\" of \",length(CONDS))); display_markdown(done1$info); display_markdown(\"### Table\"); done1$aov_APA$table; display_markdown(\"### Result\"); display_markdown(done1$aov_APA[[\"full_result\"]][[\"cond0\"]]); display_markdown(\"### Summary (all done1, incl. NANs)\"); done1$summary; display_markdown(\"### Expected marginal means\"); done1$emm_APA$table; display_markdown(\"### Paired comparisons for expected marginal means\"); done1$pairs_APA$table"
   ]
  },
  {
   "cell_type": "code",
   "execution_count": 192,
   "metadata": {},
   "outputs": [
    {
     "data": {
      "text/markdown": [
       "# Condition 25 of 72"
      ]
     },
     "metadata": {},
     "output_type": "display_data"
    },
    {
     "data": {
      "text/markdown": [
       "`tmin0==0.35 & chan0==\"LF\" & mode0==\"pos\"`"
      ]
     },
     "metadata": {},
     "output_type": "display_data"
    },
    {
     "data": {
      "text/markdown": [
       "### Table"
      ]
     },
     "metadata": {},
     "output_type": "display_data"
    },
    {
     "data": {
      "text/html": [
       "<table>\n",
       "<caption>A apa_results_table: 1 × 7</caption>\n",
       "<thead>\n",
       "\t<tr><th></th><th scope=col>Effect</th><th scope=col>F</th><th scope=col>df1</th><th scope=col>df2</th><th scope=col>MSE</th><th scope=col>p</th><th scope=col>ges</th></tr>\n",
       "\t<tr><th></th><th scope=col>&lt;ppj_lbll&gt;</th><th scope=col>&lt;ppj_lbll&gt;</th><th scope=col>&lt;ppj_lbll&gt;</th><th scope=col>&lt;ppj_lbll&gt;</th><th scope=col>&lt;ppj_lbll&gt;</th><th scope=col>&lt;ppj_lbll&gt;</th><th scope=col>&lt;ppj_lbll&gt;</th></tr>\n",
       "</thead>\n",
       "<tbody>\n",
       "\t<tr><th scope=row>1</th><td>Cond0</td><td>1.99</td><td>1.83</td><td>75.17</td><td>0.57</td><td>.147</td><td>.006</td></tr>\n",
       "</tbody>\n",
       "</table>\n"
      ],
      "text/latex": [
       "A apa\\_results\\_table: 1 × 7\n",
       "\\begin{tabular}{r|lllllll}\n",
       "  & Effect & F & df1 & df2 & MSE & p & ges\\\\\n",
       "  & <ppj\\_lbll> & <ppj\\_lbll> & <ppj\\_lbll> & <ppj\\_lbll> & <ppj\\_lbll> & <ppj\\_lbll> & <ppj\\_lbll>\\\\\n",
       "\\hline\n",
       "\t1 & Cond0 & 1.99 & 1.83 & 75.17 & 0.57 & .147 & .006\\\\\n",
       "\\end{tabular}\n"
      ],
      "text/markdown": [
       "\n",
       "A apa_results_table: 1 × 7\n",
       "\n",
       "| <!--/--> | Effect &lt;ppj_lbll&gt; | F &lt;ppj_lbll&gt; | df1 &lt;ppj_lbll&gt; | df2 &lt;ppj_lbll&gt; | MSE &lt;ppj_lbll&gt; | p &lt;ppj_lbll&gt; | ges &lt;ppj_lbll&gt; |\n",
       "|---|---|---|---|---|---|---|---|\n",
       "| 1 | Cond0 | 1.99 | 1.83 | 75.17 | 0.57 | .147 | .006 |\n",
       "\n"
      ],
      "text/plain": [
       "  Effect F    df1  df2   MSE  p    ges \n",
       "1 Cond0  1.99 1.83 75.17 0.57 .147 .006"
      ]
     },
     "metadata": {},
     "output_type": "display_data"
    },
    {
     "data": {
      "text/markdown": [
       "### Result"
      ]
     },
     "metadata": {},
     "output_type": "display_data"
    },
    {
     "data": {
      "text/markdown": [
       "$F(1.83, 75.17) = 1.99$, $\\mathit{MSE} = 0.57$, $p = .147$, $\\hat{\\eta}^2_G = .006$"
      ]
     },
     "metadata": {},
     "output_type": "display_data"
    },
    {
     "data": {
      "text/markdown": [
       "### Summary (all done1, incl. NANs)"
      ]
     },
     "metadata": {},
     "output_type": "display_data"
    },
    {
     "data": {
      "text/html": [
       "<table>\n",
       "<caption>A tibble: 3 × 5</caption>\n",
       "<thead>\n",
       "\t<tr><th scope=col>cond0</th><th scope=col>N</th><th scope=col>valX_M</th><th scope=col>valX_SD</th><th scope=col>valX_SE</th></tr>\n",
       "\t<tr><th scope=col>&lt;fct&gt;</th><th scope=col>&lt;int&gt;</th><th scope=col>&lt;dbl&gt;</th><th scope=col>&lt;dbl&gt;</th><th scope=col>&lt;dbl&gt;</th></tr>\n",
       "</thead>\n",
       "<tbody>\n",
       "\t<tr><td>noun_F</td><td>42</td><td>-1.006300</td><td>1.770892</td><td>0.2732545</td></tr>\n",
       "\t<tr><td>noun_M</td><td>42</td><td>-1.051203</td><td>1.712282</td><td>0.2642109</td></tr>\n",
       "\t<tr><td>verb_X</td><td>42</td><td>-1.299351</td><td>1.519235</td><td>0.2344230</td></tr>\n",
       "</tbody>\n",
       "</table>\n"
      ],
      "text/latex": [
       "A tibble: 3 × 5\n",
       "\\begin{tabular}{lllll}\n",
       " cond0 & N & valX\\_M & valX\\_SD & valX\\_SE\\\\\n",
       " <fct> & <int> & <dbl> & <dbl> & <dbl>\\\\\n",
       "\\hline\n",
       "\t noun\\_F & 42 & -1.006300 & 1.770892 & 0.2732545\\\\\n",
       "\t noun\\_M & 42 & -1.051203 & 1.712282 & 0.2642109\\\\\n",
       "\t verb\\_X & 42 & -1.299351 & 1.519235 & 0.2344230\\\\\n",
       "\\end{tabular}\n"
      ],
      "text/markdown": [
       "\n",
       "A tibble: 3 × 5\n",
       "\n",
       "| cond0 &lt;fct&gt; | N &lt;int&gt; | valX_M &lt;dbl&gt; | valX_SD &lt;dbl&gt; | valX_SE &lt;dbl&gt; |\n",
       "|---|---|---|---|---|\n",
       "| noun_F | 42 | -1.006300 | 1.770892 | 0.2732545 |\n",
       "| noun_M | 42 | -1.051203 | 1.712282 | 0.2642109 |\n",
       "| verb_X | 42 | -1.299351 | 1.519235 | 0.2344230 |\n",
       "\n"
      ],
      "text/plain": [
       "  cond0  N  valX_M    valX_SD  valX_SE  \n",
       "1 noun_F 42 -1.006300 1.770892 0.2732545\n",
       "2 noun_M 42 -1.051203 1.712282 0.2642109\n",
       "3 verb_X 42 -1.299351 1.519235 0.2344230"
      ]
     },
     "metadata": {},
     "output_type": "display_data"
    },
    {
     "data": {
      "text/markdown": [
       "### Expected marginal means"
      ]
     },
     "metadata": {},
     "output_type": "display_data"
    },
    {
     "data": {
      "text/html": [
       "<table>\n",
       "<caption>A apa_results_table: 3 × 5</caption>\n",
       "<thead>\n",
       "\t<tr><th></th><th scope=col>cond0</th><th scope=col>estimate</th><th scope=col>ci</th><th scope=col>statistic</th><th scope=col>p.value</th></tr>\n",
       "\t<tr><th></th><th scope=col>&lt;chr&gt;</th><th scope=col>&lt;ppj_lbll&gt;</th><th scope=col>&lt;ppj_lbll&gt;</th><th scope=col>&lt;ppj_lbll&gt;</th><th scope=col>&lt;ppj_lbll&gt;</th></tr>\n",
       "</thead>\n",
       "<tbody>\n",
       "\t<tr><th scope=row>noun_F</th><td>noun_F</td><td>-1.01</td><td>$[-1.52$, $-0.49]$</td><td>-3.90</td><td>&lt; .001</td></tr>\n",
       "\t<tr><th scope=row>noun_M</th><td>noun_M</td><td>-1.05</td><td>$[-1.57$, $-0.53]$</td><td>-4.08</td><td>&lt; .001</td></tr>\n",
       "\t<tr><th scope=row>verb_X</th><td>verb_X</td><td>-1.30</td><td>$[-1.82$, $-0.78]$</td><td>-5.04</td><td>&lt; .001</td></tr>\n",
       "</tbody>\n",
       "</table>\n"
      ],
      "text/latex": [
       "A apa\\_results\\_table: 3 × 5\n",
       "\\begin{tabular}{r|lllll}\n",
       "  & cond0 & estimate & ci & statistic & p.value\\\\\n",
       "  & <chr> & <ppj\\_lbll> & <ppj\\_lbll> & <ppj\\_lbll> & <ppj\\_lbll>\\\\\n",
       "\\hline\n",
       "\tnoun\\_F & noun\\_F & -1.01 & \\${[}-1.52\\$, \\$-0.49{]}\\$ & -3.90 & < .001\\\\\n",
       "\tnoun\\_M & noun\\_M & -1.05 & \\${[}-1.57\\$, \\$-0.53{]}\\$ & -4.08 & < .001\\\\\n",
       "\tverb\\_X & verb\\_X & -1.30 & \\${[}-1.82\\$, \\$-0.78{]}\\$ & -5.04 & < .001\\\\\n",
       "\\end{tabular}\n"
      ],
      "text/markdown": [
       "\n",
       "A apa_results_table: 3 × 5\n",
       "\n",
       "| <!--/--> | cond0 &lt;chr&gt; | estimate &lt;ppj_lbll&gt; | ci &lt;ppj_lbll&gt; | statistic &lt;ppj_lbll&gt; | p.value &lt;ppj_lbll&gt; |\n",
       "|---|---|---|---|---|---|\n",
       "| noun_F | noun_F | -1.01 | $[-1.52$, $-0.49]$ | -3.90 | &lt; .001 |\n",
       "| noun_M | noun_M | -1.05 | $[-1.57$, $-0.53]$ | -4.08 | &lt; .001 |\n",
       "| verb_X | verb_X | -1.30 | $[-1.82$, $-0.78]$ | -5.04 | &lt; .001 |\n",
       "\n"
      ],
      "text/plain": [
       "       cond0  estimate ci                 statistic p.value\n",
       "noun_F noun_F -1.01    $[-1.52$, $-0.49]$ -3.90     < .001 \n",
       "noun_M noun_M -1.05    $[-1.57$, $-0.53]$ -4.08     < .001 \n",
       "verb_X verb_X -1.30    $[-1.82$, $-0.78]$ -5.04     < .001 "
      ]
     },
     "metadata": {},
     "output_type": "display_data"
    },
    {
     "data": {
      "text/markdown": [
       "### Paired comparisons for expected marginal means"
      ]
     },
     "metadata": {},
     "output_type": "display_data"
    },
    {
     "data": {
      "text/html": [
       "<table>\n",
       "<caption>A apa_results_table: 3 × 5</caption>\n",
       "<thead>\n",
       "\t<tr><th></th><th scope=col>contrast</th><th scope=col>estimate</th><th scope=col>ci</th><th scope=col>statistic</th><th scope=col>p.value</th></tr>\n",
       "\t<tr><th></th><th scope=col>&lt;ppj_lbll&gt;</th><th scope=col>&lt;ppj_lbll&gt;</th><th scope=col>&lt;ppj_lbll&gt;</th><th scope=col>&lt;ppj_lbll&gt;</th><th scope=col>&lt;ppj_lbll&gt;</th></tr>\n",
       "</thead>\n",
       "<tbody>\n",
       "\t<tr><th scope=row>noun_F_noun_M</th><td>noun_F - noun_M</td><td>0.04</td><td>$[-0.33$, $0.42]$</td><td>0.28</td><td>.957</td></tr>\n",
       "\t<tr><th scope=row>noun_F_verb_X</th><td>noun_F - verb_X</td><td>0.29</td><td>$[-0.08$, $0.67]$</td><td>1.85</td><td>.159</td></tr>\n",
       "\t<tr><th scope=row>noun_M_verb_X</th><td>noun_M - verb_X</td><td>0.25</td><td>$[-0.13$, $0.63]$</td><td>1.57</td><td>.265</td></tr>\n",
       "</tbody>\n",
       "</table>\n"
      ],
      "text/latex": [
       "A apa\\_results\\_table: 3 × 5\n",
       "\\begin{tabular}{r|lllll}\n",
       "  & contrast & estimate & ci & statistic & p.value\\\\\n",
       "  & <ppj\\_lbll> & <ppj\\_lbll> & <ppj\\_lbll> & <ppj\\_lbll> & <ppj\\_lbll>\\\\\n",
       "\\hline\n",
       "\tnoun\\_F\\_noun\\_M & noun\\_F - noun\\_M & 0.04 & \\${[}-0.33\\$, \\$0.42{]}\\$ & 0.28 & .957\\\\\n",
       "\tnoun\\_F\\_verb\\_X & noun\\_F - verb\\_X & 0.29 & \\${[}-0.08\\$, \\$0.67{]}\\$ & 1.85 & .159\\\\\n",
       "\tnoun\\_M\\_verb\\_X & noun\\_M - verb\\_X & 0.25 & \\${[}-0.13\\$, \\$0.63{]}\\$ & 1.57 & .265\\\\\n",
       "\\end{tabular}\n"
      ],
      "text/markdown": [
       "\n",
       "A apa_results_table: 3 × 5\n",
       "\n",
       "| <!--/--> | contrast &lt;ppj_lbll&gt; | estimate &lt;ppj_lbll&gt; | ci &lt;ppj_lbll&gt; | statistic &lt;ppj_lbll&gt; | p.value &lt;ppj_lbll&gt; |\n",
       "|---|---|---|---|---|---|\n",
       "| noun_F_noun_M | noun_F - noun_M | 0.04 | $[-0.33$, $0.42]$ | 0.28 | .957 |\n",
       "| noun_F_verb_X | noun_F - verb_X | 0.29 | $[-0.08$, $0.67]$ | 1.85 | .159 |\n",
       "| noun_M_verb_X | noun_M - verb_X | 0.25 | $[-0.13$, $0.63]$ | 1.57 | .265 |\n",
       "\n"
      ],
      "text/plain": [
       "              contrast        estimate ci                statistic p.value\n",
       "noun_F_noun_M noun_F - noun_M 0.04     $[-0.33$, $0.42]$ 0.28      .957   \n",
       "noun_F_verb_X noun_F - verb_X 0.29     $[-0.08$, $0.67]$ 1.85      .159   \n",
       "noun_M_verb_X noun_M - verb_X 0.25     $[-0.13$, $0.63]$ 1.57      .265   "
      ]
     },
     "metadata": {},
     "output_type": "display_data"
    }
   ],
   "source": [
    "IDX <- IDX+1; COND <- CONDS[IDX]\n",
    "data1 <- droplevels(subset(df1, eval(parse(text=COND)))); data1 <- data1[complete.cases(data1),]; done1 <- AOV4(data1,COND)\n",
    "display_markdown(str_c(\"# Condition \",IDX,\" of \",length(CONDS))); display_markdown(done1$info); display_markdown(\"### Table\"); done1$aov_APA$table; display_markdown(\"### Result\"); display_markdown(done1$aov_APA[[\"full_result\"]][[\"cond0\"]]); display_markdown(\"### Summary (all done1, incl. NANs)\"); done1$summary; display_markdown(\"### Expected marginal means\"); done1$emm_APA$table; display_markdown(\"### Paired comparisons for expected marginal means\"); done1$pairs_APA$table"
   ]
  },
  {
   "cell_type": "code",
   "execution_count": 193,
   "metadata": {},
   "outputs": [
    {
     "data": {
      "text/markdown": [
       "# Condition 26 of 72"
      ]
     },
     "metadata": {},
     "output_type": "display_data"
    },
    {
     "data": {
      "text/markdown": [
       "`tmin0==0.35 & chan0==\"LF\" & mode0==\"neg\"`"
      ]
     },
     "metadata": {},
     "output_type": "display_data"
    },
    {
     "data": {
      "text/markdown": [
       "### Table"
      ]
     },
     "metadata": {},
     "output_type": "display_data"
    },
    {
     "data": {
      "text/html": [
       "<table>\n",
       "<caption>A apa_results_table: 1 × 7</caption>\n",
       "<thead>\n",
       "\t<tr><th></th><th scope=col>Effect</th><th scope=col>F</th><th scope=col>df1</th><th scope=col>df2</th><th scope=col>MSE</th><th scope=col>p</th><th scope=col>ges</th></tr>\n",
       "\t<tr><th></th><th scope=col>&lt;ppj_lbll&gt;</th><th scope=col>&lt;ppj_lbll&gt;</th><th scope=col>&lt;ppj_lbll&gt;</th><th scope=col>&lt;ppj_lbll&gt;</th><th scope=col>&lt;ppj_lbll&gt;</th><th scope=col>&lt;ppj_lbll&gt;</th><th scope=col>&lt;ppj_lbll&gt;</th></tr>\n",
       "</thead>\n",
       "<tbody>\n",
       "\t<tr><th scope=row>1</th><td>Cond0</td><td>0.95</td><td>1.83</td><td>74.95</td><td>0.50</td><td>.383</td><td>.003</td></tr>\n",
       "</tbody>\n",
       "</table>\n"
      ],
      "text/latex": [
       "A apa\\_results\\_table: 1 × 7\n",
       "\\begin{tabular}{r|lllllll}\n",
       "  & Effect & F & df1 & df2 & MSE & p & ges\\\\\n",
       "  & <ppj\\_lbll> & <ppj\\_lbll> & <ppj\\_lbll> & <ppj\\_lbll> & <ppj\\_lbll> & <ppj\\_lbll> & <ppj\\_lbll>\\\\\n",
       "\\hline\n",
       "\t1 & Cond0 & 0.95 & 1.83 & 74.95 & 0.50 & .383 & .003\\\\\n",
       "\\end{tabular}\n"
      ],
      "text/markdown": [
       "\n",
       "A apa_results_table: 1 × 7\n",
       "\n",
       "| <!--/--> | Effect &lt;ppj_lbll&gt; | F &lt;ppj_lbll&gt; | df1 &lt;ppj_lbll&gt; | df2 &lt;ppj_lbll&gt; | MSE &lt;ppj_lbll&gt; | p &lt;ppj_lbll&gt; | ges &lt;ppj_lbll&gt; |\n",
       "|---|---|---|---|---|---|---|---|\n",
       "| 1 | Cond0 | 0.95 | 1.83 | 74.95 | 0.50 | .383 | .003 |\n",
       "\n"
      ],
      "text/plain": [
       "  Effect F    df1  df2   MSE  p    ges \n",
       "1 Cond0  0.95 1.83 74.95 0.50 .383 .003"
      ]
     },
     "metadata": {},
     "output_type": "display_data"
    },
    {
     "data": {
      "text/markdown": [
       "### Result"
      ]
     },
     "metadata": {},
     "output_type": "display_data"
    },
    {
     "data": {
      "text/markdown": [
       "$F(1.83, 74.95) = 0.95$, $\\mathit{MSE} = 0.50$, $p = .383$, $\\hat{\\eta}^2_G = .003$"
      ]
     },
     "metadata": {},
     "output_type": "display_data"
    },
    {
     "data": {
      "text/markdown": [
       "### Summary (all done1, incl. NANs)"
      ]
     },
     "metadata": {},
     "output_type": "display_data"
    },
    {
     "data": {
      "text/html": [
       "<table>\n",
       "<caption>A tibble: 3 × 5</caption>\n",
       "<thead>\n",
       "\t<tr><th scope=col>cond0</th><th scope=col>N</th><th scope=col>valX_M</th><th scope=col>valX_SD</th><th scope=col>valX_SE</th></tr>\n",
       "\t<tr><th scope=col>&lt;fct&gt;</th><th scope=col>&lt;int&gt;</th><th scope=col>&lt;dbl&gt;</th><th scope=col>&lt;dbl&gt;</th><th scope=col>&lt;dbl&gt;</th></tr>\n",
       "</thead>\n",
       "<tbody>\n",
       "\t<tr><td>noun_F</td><td>42</td><td>-3.181257</td><td>1.794249</td><td>0.2768587</td></tr>\n",
       "\t<tr><td>noun_M</td><td>42</td><td>-3.093118</td><td>1.569629</td><td>0.2421990</td></tr>\n",
       "\t<tr><td>verb_X</td><td>42</td><td>-2.977539</td><td>1.606059</td><td>0.2478203</td></tr>\n",
       "</tbody>\n",
       "</table>\n"
      ],
      "text/latex": [
       "A tibble: 3 × 5\n",
       "\\begin{tabular}{lllll}\n",
       " cond0 & N & valX\\_M & valX\\_SD & valX\\_SE\\\\\n",
       " <fct> & <int> & <dbl> & <dbl> & <dbl>\\\\\n",
       "\\hline\n",
       "\t noun\\_F & 42 & -3.181257 & 1.794249 & 0.2768587\\\\\n",
       "\t noun\\_M & 42 & -3.093118 & 1.569629 & 0.2421990\\\\\n",
       "\t verb\\_X & 42 & -2.977539 & 1.606059 & 0.2478203\\\\\n",
       "\\end{tabular}\n"
      ],
      "text/markdown": [
       "\n",
       "A tibble: 3 × 5\n",
       "\n",
       "| cond0 &lt;fct&gt; | N &lt;int&gt; | valX_M &lt;dbl&gt; | valX_SD &lt;dbl&gt; | valX_SE &lt;dbl&gt; |\n",
       "|---|---|---|---|---|\n",
       "| noun_F | 42 | -3.181257 | 1.794249 | 0.2768587 |\n",
       "| noun_M | 42 | -3.093118 | 1.569629 | 0.2421990 |\n",
       "| verb_X | 42 | -2.977539 | 1.606059 | 0.2478203 |\n",
       "\n"
      ],
      "text/plain": [
       "  cond0  N  valX_M    valX_SD  valX_SE  \n",
       "1 noun_F 42 -3.181257 1.794249 0.2768587\n",
       "2 noun_M 42 -3.093118 1.569629 0.2421990\n",
       "3 verb_X 42 -2.977539 1.606059 0.2478203"
      ]
     },
     "metadata": {},
     "output_type": "display_data"
    },
    {
     "data": {
      "text/markdown": [
       "### Expected marginal means"
      ]
     },
     "metadata": {},
     "output_type": "display_data"
    },
    {
     "data": {
      "text/html": [
       "<table>\n",
       "<caption>A apa_results_table: 3 × 5</caption>\n",
       "<thead>\n",
       "\t<tr><th></th><th scope=col>cond0</th><th scope=col>estimate</th><th scope=col>ci</th><th scope=col>statistic</th><th scope=col>p.value</th></tr>\n",
       "\t<tr><th></th><th scope=col>&lt;chr&gt;</th><th scope=col>&lt;ppj_lbll&gt;</th><th scope=col>&lt;ppj_lbll&gt;</th><th scope=col>&lt;ppj_lbll&gt;</th><th scope=col>&lt;ppj_lbll&gt;</th></tr>\n",
       "</thead>\n",
       "<tbody>\n",
       "\t<tr><th scope=row>noun_F</th><td>noun_F</td><td>-3.18</td><td>$[-3.70$, $-2.67]$</td><td>-12.42</td><td>&lt; .001</td></tr>\n",
       "\t<tr><th scope=row>noun_M</th><td>noun_M</td><td>-3.09</td><td>$[-3.61$, $-2.58]$</td><td>-12.08</td><td>&lt; .001</td></tr>\n",
       "\t<tr><th scope=row>verb_X</th><td>verb_X</td><td>-2.98</td><td>$[-3.49$, $-2.46]$</td><td>-11.63</td><td>&lt; .001</td></tr>\n",
       "</tbody>\n",
       "</table>\n"
      ],
      "text/latex": [
       "A apa\\_results\\_table: 3 × 5\n",
       "\\begin{tabular}{r|lllll}\n",
       "  & cond0 & estimate & ci & statistic & p.value\\\\\n",
       "  & <chr> & <ppj\\_lbll> & <ppj\\_lbll> & <ppj\\_lbll> & <ppj\\_lbll>\\\\\n",
       "\\hline\n",
       "\tnoun\\_F & noun\\_F & -3.18 & \\${[}-3.70\\$, \\$-2.67{]}\\$ & -12.42 & < .001\\\\\n",
       "\tnoun\\_M & noun\\_M & -3.09 & \\${[}-3.61\\$, \\$-2.58{]}\\$ & -12.08 & < .001\\\\\n",
       "\tverb\\_X & verb\\_X & -2.98 & \\${[}-3.49\\$, \\$-2.46{]}\\$ & -11.63 & < .001\\\\\n",
       "\\end{tabular}\n"
      ],
      "text/markdown": [
       "\n",
       "A apa_results_table: 3 × 5\n",
       "\n",
       "| <!--/--> | cond0 &lt;chr&gt; | estimate &lt;ppj_lbll&gt; | ci &lt;ppj_lbll&gt; | statistic &lt;ppj_lbll&gt; | p.value &lt;ppj_lbll&gt; |\n",
       "|---|---|---|---|---|---|\n",
       "| noun_F | noun_F | -3.18 | $[-3.70$, $-2.67]$ | -12.42 | &lt; .001 |\n",
       "| noun_M | noun_M | -3.09 | $[-3.61$, $-2.58]$ | -12.08 | &lt; .001 |\n",
       "| verb_X | verb_X | -2.98 | $[-3.49$, $-2.46]$ | -11.63 | &lt; .001 |\n",
       "\n"
      ],
      "text/plain": [
       "       cond0  estimate ci                 statistic p.value\n",
       "noun_F noun_F -3.18    $[-3.70$, $-2.67]$ -12.42    < .001 \n",
       "noun_M noun_M -3.09    $[-3.61$, $-2.58]$ -12.08    < .001 \n",
       "verb_X verb_X -2.98    $[-3.49$, $-2.46]$ -11.63    < .001 "
      ]
     },
     "metadata": {},
     "output_type": "display_data"
    },
    {
     "data": {
      "text/markdown": [
       "### Paired comparisons for expected marginal means"
      ]
     },
     "metadata": {},
     "output_type": "display_data"
    },
    {
     "data": {
      "text/html": [
       "<table>\n",
       "<caption>A apa_results_table: 3 × 5</caption>\n",
       "<thead>\n",
       "\t<tr><th></th><th scope=col>contrast</th><th scope=col>estimate</th><th scope=col>ci</th><th scope=col>statistic</th><th scope=col>p.value</th></tr>\n",
       "\t<tr><th></th><th scope=col>&lt;ppj_lbll&gt;</th><th scope=col>&lt;ppj_lbll&gt;</th><th scope=col>&lt;ppj_lbll&gt;</th><th scope=col>&lt;ppj_lbll&gt;</th><th scope=col>&lt;ppj_lbll&gt;</th></tr>\n",
       "</thead>\n",
       "<tbody>\n",
       "\t<tr><th scope=row>noun_F_noun_M</th><td>noun_F - noun_M</td><td>-0.09</td><td>$[-0.44$, $0.26]$</td><td>-0.60</td><td>.823</td></tr>\n",
       "\t<tr><th scope=row>noun_F_verb_X</th><td>noun_F - verb_X</td><td>-0.20</td><td>$[-0.56$, $0.15]$</td><td>-1.38</td><td>.357</td></tr>\n",
       "\t<tr><th scope=row>noun_M_verb_X</th><td>noun_M - verb_X</td><td>-0.12</td><td>$[-0.47$, $0.24]$</td><td>-0.78</td><td>.715</td></tr>\n",
       "</tbody>\n",
       "</table>\n"
      ],
      "text/latex": [
       "A apa\\_results\\_table: 3 × 5\n",
       "\\begin{tabular}{r|lllll}\n",
       "  & contrast & estimate & ci & statistic & p.value\\\\\n",
       "  & <ppj\\_lbll> & <ppj\\_lbll> & <ppj\\_lbll> & <ppj\\_lbll> & <ppj\\_lbll>\\\\\n",
       "\\hline\n",
       "\tnoun\\_F\\_noun\\_M & noun\\_F - noun\\_M & -0.09 & \\${[}-0.44\\$, \\$0.26{]}\\$ & -0.60 & .823\\\\\n",
       "\tnoun\\_F\\_verb\\_X & noun\\_F - verb\\_X & -0.20 & \\${[}-0.56\\$, \\$0.15{]}\\$ & -1.38 & .357\\\\\n",
       "\tnoun\\_M\\_verb\\_X & noun\\_M - verb\\_X & -0.12 & \\${[}-0.47\\$, \\$0.24{]}\\$ & -0.78 & .715\\\\\n",
       "\\end{tabular}\n"
      ],
      "text/markdown": [
       "\n",
       "A apa_results_table: 3 × 5\n",
       "\n",
       "| <!--/--> | contrast &lt;ppj_lbll&gt; | estimate &lt;ppj_lbll&gt; | ci &lt;ppj_lbll&gt; | statistic &lt;ppj_lbll&gt; | p.value &lt;ppj_lbll&gt; |\n",
       "|---|---|---|---|---|---|\n",
       "| noun_F_noun_M | noun_F - noun_M | -0.09 | $[-0.44$, $0.26]$ | -0.60 | .823 |\n",
       "| noun_F_verb_X | noun_F - verb_X | -0.20 | $[-0.56$, $0.15]$ | -1.38 | .357 |\n",
       "| noun_M_verb_X | noun_M - verb_X | -0.12 | $[-0.47$, $0.24]$ | -0.78 | .715 |\n",
       "\n"
      ],
      "text/plain": [
       "              contrast        estimate ci                statistic p.value\n",
       "noun_F_noun_M noun_F - noun_M -0.09    $[-0.44$, $0.26]$ -0.60     .823   \n",
       "noun_F_verb_X noun_F - verb_X -0.20    $[-0.56$, $0.15]$ -1.38     .357   \n",
       "noun_M_verb_X noun_M - verb_X -0.12    $[-0.47$, $0.24]$ -0.78     .715   "
      ]
     },
     "metadata": {},
     "output_type": "display_data"
    }
   ],
   "source": [
    "IDX <- IDX+1; COND <- CONDS[IDX]\n",
    "data1 <- droplevels(subset(df1, eval(parse(text=COND)))); data1 <- data1[complete.cases(data1),]; done1 <- AOV4(data1,COND)\n",
    "display_markdown(str_c(\"# Condition \",IDX,\" of \",length(CONDS))); display_markdown(done1$info); display_markdown(\"### Table\"); done1$aov_APA$table; display_markdown(\"### Result\"); display_markdown(done1$aov_APA[[\"full_result\"]][[\"cond0\"]]); display_markdown(\"### Summary (all done1, incl. NANs)\"); done1$summary; display_markdown(\"### Expected marginal means\"); done1$emm_APA$table; display_markdown(\"### Paired comparisons for expected marginal means\"); done1$pairs_APA$table"
   ]
  },
  {
   "cell_type": "code",
   "execution_count": 194,
   "metadata": {},
   "outputs": [
    {
     "data": {
      "text/markdown": [
       "# Condition 27 of 72"
      ]
     },
     "metadata": {},
     "output_type": "display_data"
    },
    {
     "data": {
      "text/markdown": [
       "`tmin0==0.35 & chan0==\"RF\" & mode0==\"pos\"`"
      ]
     },
     "metadata": {},
     "output_type": "display_data"
    },
    {
     "data": {
      "text/markdown": [
       "### Table"
      ]
     },
     "metadata": {},
     "output_type": "display_data"
    },
    {
     "data": {
      "text/html": [
       "<table>\n",
       "<caption>A apa_results_table: 1 × 7</caption>\n",
       "<thead>\n",
       "\t<tr><th></th><th scope=col>Effect</th><th scope=col>F</th><th scope=col>df1</th><th scope=col>df2</th><th scope=col>MSE</th><th scope=col>p</th><th scope=col>ges</th></tr>\n",
       "\t<tr><th></th><th scope=col>&lt;ppj_lbll&gt;</th><th scope=col>&lt;ppj_lbll&gt;</th><th scope=col>&lt;ppj_lbll&gt;</th><th scope=col>&lt;ppj_lbll&gt;</th><th scope=col>&lt;ppj_lbll&gt;</th><th scope=col>&lt;ppj_lbll&gt;</th><th scope=col>&lt;ppj_lbll&gt;</th></tr>\n",
       "</thead>\n",
       "<tbody>\n",
       "\t<tr><th scope=row>1</th><td>Cond0</td><td>3.49</td><td>1.90</td><td>78.07</td><td>0.52</td><td>.038</td><td>.010</td></tr>\n",
       "</tbody>\n",
       "</table>\n"
      ],
      "text/latex": [
       "A apa\\_results\\_table: 1 × 7\n",
       "\\begin{tabular}{r|lllllll}\n",
       "  & Effect & F & df1 & df2 & MSE & p & ges\\\\\n",
       "  & <ppj\\_lbll> & <ppj\\_lbll> & <ppj\\_lbll> & <ppj\\_lbll> & <ppj\\_lbll> & <ppj\\_lbll> & <ppj\\_lbll>\\\\\n",
       "\\hline\n",
       "\t1 & Cond0 & 3.49 & 1.90 & 78.07 & 0.52 & .038 & .010\\\\\n",
       "\\end{tabular}\n"
      ],
      "text/markdown": [
       "\n",
       "A apa_results_table: 1 × 7\n",
       "\n",
       "| <!--/--> | Effect &lt;ppj_lbll&gt; | F &lt;ppj_lbll&gt; | df1 &lt;ppj_lbll&gt; | df2 &lt;ppj_lbll&gt; | MSE &lt;ppj_lbll&gt; | p &lt;ppj_lbll&gt; | ges &lt;ppj_lbll&gt; |\n",
       "|---|---|---|---|---|---|---|---|\n",
       "| 1 | Cond0 | 3.49 | 1.90 | 78.07 | 0.52 | .038 | .010 |\n",
       "\n"
      ],
      "text/plain": [
       "  Effect F    df1  df2   MSE  p    ges \n",
       "1 Cond0  3.49 1.90 78.07 0.52 .038 .010"
      ]
     },
     "metadata": {},
     "output_type": "display_data"
    },
    {
     "data": {
      "text/markdown": [
       "### Result"
      ]
     },
     "metadata": {},
     "output_type": "display_data"
    },
    {
     "data": {
      "text/markdown": [
       "$F(1.90, 78.07) = 3.49$, $\\mathit{MSE} = 0.52$, $p = .038$, $\\hat{\\eta}^2_G = .010$"
      ]
     },
     "metadata": {},
     "output_type": "display_data"
    },
    {
     "data": {
      "text/markdown": [
       "### Summary (all done1, incl. NANs)"
      ]
     },
     "metadata": {},
     "output_type": "display_data"
    },
    {
     "data": {
      "text/html": [
       "<table>\n",
       "<caption>A tibble: 3 × 5</caption>\n",
       "<thead>\n",
       "\t<tr><th scope=col>cond0</th><th scope=col>N</th><th scope=col>valX_M</th><th scope=col>valX_SD</th><th scope=col>valX_SE</th></tr>\n",
       "\t<tr><th scope=col>&lt;fct&gt;</th><th scope=col>&lt;int&gt;</th><th scope=col>&lt;dbl&gt;</th><th scope=col>&lt;dbl&gt;</th><th scope=col>&lt;dbl&gt;</th></tr>\n",
       "</thead>\n",
       "<tbody>\n",
       "\t<tr><td>noun_F</td><td>42</td><td>-1.562104</td><td>1.691790</td><td>0.2610488</td></tr>\n",
       "\t<tr><td>noun_M</td><td>42</td><td>-1.968772</td><td>1.582795</td><td>0.2442305</td></tr>\n",
       "\t<tr><td>verb_X</td><td>42</td><td>-1.750961</td><td>1.719795</td><td>0.2653702</td></tr>\n",
       "</tbody>\n",
       "</table>\n"
      ],
      "text/latex": [
       "A tibble: 3 × 5\n",
       "\\begin{tabular}{lllll}\n",
       " cond0 & N & valX\\_M & valX\\_SD & valX\\_SE\\\\\n",
       " <fct> & <int> & <dbl> & <dbl> & <dbl>\\\\\n",
       "\\hline\n",
       "\t noun\\_F & 42 & -1.562104 & 1.691790 & 0.2610488\\\\\n",
       "\t noun\\_M & 42 & -1.968772 & 1.582795 & 0.2442305\\\\\n",
       "\t verb\\_X & 42 & -1.750961 & 1.719795 & 0.2653702\\\\\n",
       "\\end{tabular}\n"
      ],
      "text/markdown": [
       "\n",
       "A tibble: 3 × 5\n",
       "\n",
       "| cond0 &lt;fct&gt; | N &lt;int&gt; | valX_M &lt;dbl&gt; | valX_SD &lt;dbl&gt; | valX_SE &lt;dbl&gt; |\n",
       "|---|---|---|---|---|\n",
       "| noun_F | 42 | -1.562104 | 1.691790 | 0.2610488 |\n",
       "| noun_M | 42 | -1.968772 | 1.582795 | 0.2442305 |\n",
       "| verb_X | 42 | -1.750961 | 1.719795 | 0.2653702 |\n",
       "\n"
      ],
      "text/plain": [
       "  cond0  N  valX_M    valX_SD  valX_SE  \n",
       "1 noun_F 42 -1.562104 1.691790 0.2610488\n",
       "2 noun_M 42 -1.968772 1.582795 0.2442305\n",
       "3 verb_X 42 -1.750961 1.719795 0.2653702"
      ]
     },
     "metadata": {},
     "output_type": "display_data"
    },
    {
     "data": {
      "text/markdown": [
       "### Expected marginal means"
      ]
     },
     "metadata": {},
     "output_type": "display_data"
    },
    {
     "data": {
      "text/html": [
       "<table>\n",
       "<caption>A apa_results_table: 3 × 5</caption>\n",
       "<thead>\n",
       "\t<tr><th></th><th scope=col>cond0</th><th scope=col>estimate</th><th scope=col>ci</th><th scope=col>statistic</th><th scope=col>p.value</th></tr>\n",
       "\t<tr><th></th><th scope=col>&lt;chr&gt;</th><th scope=col>&lt;ppj_lbll&gt;</th><th scope=col>&lt;ppj_lbll&gt;</th><th scope=col>&lt;ppj_lbll&gt;</th><th scope=col>&lt;ppj_lbll&gt;</th></tr>\n",
       "</thead>\n",
       "<tbody>\n",
       "\t<tr><th scope=row>noun_F</th><td>noun_F</td><td>-1.56</td><td>$[-2.08$, $-1.05]$</td><td>-6.08</td><td>&lt; .001</td></tr>\n",
       "\t<tr><th scope=row>noun_M</th><td>noun_M</td><td>-1.97</td><td>$[-2.48$, $-1.45]$</td><td>-7.66</td><td>&lt; .001</td></tr>\n",
       "\t<tr><th scope=row>verb_X</th><td>verb_X</td><td>-1.75</td><td>$[-2.27$, $-1.24]$</td><td>-6.81</td><td>&lt; .001</td></tr>\n",
       "</tbody>\n",
       "</table>\n"
      ],
      "text/latex": [
       "A apa\\_results\\_table: 3 × 5\n",
       "\\begin{tabular}{r|lllll}\n",
       "  & cond0 & estimate & ci & statistic & p.value\\\\\n",
       "  & <chr> & <ppj\\_lbll> & <ppj\\_lbll> & <ppj\\_lbll> & <ppj\\_lbll>\\\\\n",
       "\\hline\n",
       "\tnoun\\_F & noun\\_F & -1.56 & \\${[}-2.08\\$, \\$-1.05{]}\\$ & -6.08 & < .001\\\\\n",
       "\tnoun\\_M & noun\\_M & -1.97 & \\${[}-2.48\\$, \\$-1.45{]}\\$ & -7.66 & < .001\\\\\n",
       "\tverb\\_X & verb\\_X & -1.75 & \\${[}-2.27\\$, \\$-1.24{]}\\$ & -6.81 & < .001\\\\\n",
       "\\end{tabular}\n"
      ],
      "text/markdown": [
       "\n",
       "A apa_results_table: 3 × 5\n",
       "\n",
       "| <!--/--> | cond0 &lt;chr&gt; | estimate &lt;ppj_lbll&gt; | ci &lt;ppj_lbll&gt; | statistic &lt;ppj_lbll&gt; | p.value &lt;ppj_lbll&gt; |\n",
       "|---|---|---|---|---|---|\n",
       "| noun_F | noun_F | -1.56 | $[-2.08$, $-1.05]$ | -6.08 | &lt; .001 |\n",
       "| noun_M | noun_M | -1.97 | $[-2.48$, $-1.45]$ | -7.66 | &lt; .001 |\n",
       "| verb_X | verb_X | -1.75 | $[-2.27$, $-1.24]$ | -6.81 | &lt; .001 |\n",
       "\n"
      ],
      "text/plain": [
       "       cond0  estimate ci                 statistic p.value\n",
       "noun_F noun_F -1.56    $[-2.08$, $-1.05]$ -6.08     < .001 \n",
       "noun_M noun_M -1.97    $[-2.48$, $-1.45]$ -7.66     < .001 \n",
       "verb_X verb_X -1.75    $[-2.27$, $-1.24]$ -6.81     < .001 "
      ]
     },
     "metadata": {},
     "output_type": "display_data"
    },
    {
     "data": {
      "text/markdown": [
       "### Paired comparisons for expected marginal means"
      ]
     },
     "metadata": {},
     "output_type": "display_data"
    },
    {
     "data": {
      "text/html": [
       "<table>\n",
       "<caption>A apa_results_table: 3 × 5</caption>\n",
       "<thead>\n",
       "\t<tr><th></th><th scope=col>contrast</th><th scope=col>estimate</th><th scope=col>ci</th><th scope=col>statistic</th><th scope=col>p.value</th></tr>\n",
       "\t<tr><th></th><th scope=col>&lt;ppj_lbll&gt;</th><th scope=col>&lt;ppj_lbll&gt;</th><th scope=col>&lt;ppj_lbll&gt;</th><th scope=col>&lt;ppj_lbll&gt;</th><th scope=col>&lt;ppj_lbll&gt;</th></tr>\n",
       "</thead>\n",
       "<tbody>\n",
       "\t<tr><th scope=row>noun_F_noun_M</th><td>noun_F - noun_M</td><td>0.41 </td><td>$[0.04$, $0.77]$ </td><td>2.64 </td><td>.027</td></tr>\n",
       "\t<tr><th scope=row>noun_F_verb_X</th><td>noun_F - verb_X</td><td>0.19 </td><td>$[-0.18$, $0.56]$</td><td>1.23 </td><td>.442</td></tr>\n",
       "\t<tr><th scope=row>noun_M_verb_X</th><td>noun_M - verb_X</td><td>-0.22</td><td>$[-0.59$, $0.15]$</td><td>-1.41</td><td>.339</td></tr>\n",
       "</tbody>\n",
       "</table>\n"
      ],
      "text/latex": [
       "A apa\\_results\\_table: 3 × 5\n",
       "\\begin{tabular}{r|lllll}\n",
       "  & contrast & estimate & ci & statistic & p.value\\\\\n",
       "  & <ppj\\_lbll> & <ppj\\_lbll> & <ppj\\_lbll> & <ppj\\_lbll> & <ppj\\_lbll>\\\\\n",
       "\\hline\n",
       "\tnoun\\_F\\_noun\\_M & noun\\_F - noun\\_M & 0.41  & \\${[}0.04\\$, \\$0.77{]}\\$  & 2.64  & .027\\\\\n",
       "\tnoun\\_F\\_verb\\_X & noun\\_F - verb\\_X & 0.19  & \\${[}-0.18\\$, \\$0.56{]}\\$ & 1.23  & .442\\\\\n",
       "\tnoun\\_M\\_verb\\_X & noun\\_M - verb\\_X & -0.22 & \\${[}-0.59\\$, \\$0.15{]}\\$ & -1.41 & .339\\\\\n",
       "\\end{tabular}\n"
      ],
      "text/markdown": [
       "\n",
       "A apa_results_table: 3 × 5\n",
       "\n",
       "| <!--/--> | contrast &lt;ppj_lbll&gt; | estimate &lt;ppj_lbll&gt; | ci &lt;ppj_lbll&gt; | statistic &lt;ppj_lbll&gt; | p.value &lt;ppj_lbll&gt; |\n",
       "|---|---|---|---|---|---|\n",
       "| noun_F_noun_M | noun_F - noun_M | 0.41  | $[0.04$, $0.77]$  | 2.64  | .027 |\n",
       "| noun_F_verb_X | noun_F - verb_X | 0.19  | $[-0.18$, $0.56]$ | 1.23  | .442 |\n",
       "| noun_M_verb_X | noun_M - verb_X | -0.22 | $[-0.59$, $0.15]$ | -1.41 | .339 |\n",
       "\n"
      ],
      "text/plain": [
       "              contrast        estimate ci                statistic p.value\n",
       "noun_F_noun_M noun_F - noun_M 0.41     $[0.04$, $0.77]$  2.64      .027   \n",
       "noun_F_verb_X noun_F - verb_X 0.19     $[-0.18$, $0.56]$ 1.23      .442   \n",
       "noun_M_verb_X noun_M - verb_X -0.22    $[-0.59$, $0.15]$ -1.41     .339   "
      ]
     },
     "metadata": {},
     "output_type": "display_data"
    }
   ],
   "source": [
    "IDX <- IDX+1; COND <- CONDS[IDX]\n",
    "data1 <- droplevels(subset(df1, eval(parse(text=COND)))); data1 <- data1[complete.cases(data1),]; done1 <- AOV4(data1,COND)\n",
    "display_markdown(str_c(\"# Condition \",IDX,\" of \",length(CONDS))); display_markdown(done1$info); display_markdown(\"### Table\"); done1$aov_APA$table; display_markdown(\"### Result\"); display_markdown(done1$aov_APA[[\"full_result\"]][[\"cond0\"]]); display_markdown(\"### Summary (all done1, incl. NANs)\"); done1$summary; display_markdown(\"### Expected marginal means\"); done1$emm_APA$table; display_markdown(\"### Paired comparisons for expected marginal means\"); done1$pairs_APA$table"
   ]
  },
  {
   "cell_type": "code",
   "execution_count": 195,
   "metadata": {},
   "outputs": [
    {
     "data": {
      "text/markdown": [
       "# Condition 28 of 72"
      ]
     },
     "metadata": {},
     "output_type": "display_data"
    },
    {
     "data": {
      "text/markdown": [
       "`tmin0==0.35 & chan0==\"RF\" & mode0==\"neg\"`"
      ]
     },
     "metadata": {},
     "output_type": "display_data"
    },
    {
     "data": {
      "text/markdown": [
       "### Table"
      ]
     },
     "metadata": {},
     "output_type": "display_data"
    },
    {
     "data": {
      "text/html": [
       "<table>\n",
       "<caption>A apa_results_table: 1 × 7</caption>\n",
       "<thead>\n",
       "\t<tr><th></th><th scope=col>Effect</th><th scope=col>F</th><th scope=col>df1</th><th scope=col>df2</th><th scope=col>MSE</th><th scope=col>p</th><th scope=col>ges</th></tr>\n",
       "\t<tr><th></th><th scope=col>&lt;ppj_lbll&gt;</th><th scope=col>&lt;ppj_lbll&gt;</th><th scope=col>&lt;ppj_lbll&gt;</th><th scope=col>&lt;ppj_lbll&gt;</th><th scope=col>&lt;ppj_lbll&gt;</th><th scope=col>&lt;ppj_lbll&gt;</th><th scope=col>&lt;ppj_lbll&gt;</th></tr>\n",
       "</thead>\n",
       "<tbody>\n",
       "\t<tr><th scope=row>1</th><td>Cond0</td><td>5.30</td><td>1.90</td><td>78.07</td><td>0.35</td><td>.008</td><td>.010</td></tr>\n",
       "</tbody>\n",
       "</table>\n"
      ],
      "text/latex": [
       "A apa\\_results\\_table: 1 × 7\n",
       "\\begin{tabular}{r|lllllll}\n",
       "  & Effect & F & df1 & df2 & MSE & p & ges\\\\\n",
       "  & <ppj\\_lbll> & <ppj\\_lbll> & <ppj\\_lbll> & <ppj\\_lbll> & <ppj\\_lbll> & <ppj\\_lbll> & <ppj\\_lbll>\\\\\n",
       "\\hline\n",
       "\t1 & Cond0 & 5.30 & 1.90 & 78.07 & 0.35 & .008 & .010\\\\\n",
       "\\end{tabular}\n"
      ],
      "text/markdown": [
       "\n",
       "A apa_results_table: 1 × 7\n",
       "\n",
       "| <!--/--> | Effect &lt;ppj_lbll&gt; | F &lt;ppj_lbll&gt; | df1 &lt;ppj_lbll&gt; | df2 &lt;ppj_lbll&gt; | MSE &lt;ppj_lbll&gt; | p &lt;ppj_lbll&gt; | ges &lt;ppj_lbll&gt; |\n",
       "|---|---|---|---|---|---|---|---|\n",
       "| 1 | Cond0 | 5.30 | 1.90 | 78.07 | 0.35 | .008 | .010 |\n",
       "\n"
      ],
      "text/plain": [
       "  Effect F    df1  df2   MSE  p    ges \n",
       "1 Cond0  5.30 1.90 78.07 0.35 .008 .010"
      ]
     },
     "metadata": {},
     "output_type": "display_data"
    },
    {
     "data": {
      "text/markdown": [
       "### Result"
      ]
     },
     "metadata": {},
     "output_type": "display_data"
    },
    {
     "data": {
      "text/markdown": [
       "$F(1.90, 78.07) = 5.30$, $\\mathit{MSE} = 0.35$, $p = .008$, $\\hat{\\eta}^2_G = .010$"
      ]
     },
     "metadata": {},
     "output_type": "display_data"
    },
    {
     "data": {
      "text/markdown": [
       "### Summary (all done1, incl. NANs)"
      ]
     },
     "metadata": {},
     "output_type": "display_data"
    },
    {
     "data": {
      "text/html": [
       "<table>\n",
       "<caption>A tibble: 3 × 5</caption>\n",
       "<thead>\n",
       "\t<tr><th scope=col>cond0</th><th scope=col>N</th><th scope=col>valX_M</th><th scope=col>valX_SD</th><th scope=col>valX_SE</th></tr>\n",
       "\t<tr><th scope=col>&lt;fct&gt;</th><th scope=col>&lt;int&gt;</th><th scope=col>&lt;dbl&gt;</th><th scope=col>&lt;dbl&gt;</th><th scope=col>&lt;dbl&gt;</th></tr>\n",
       "</thead>\n",
       "<tbody>\n",
       "\t<tr><td>noun_F</td><td>42</td><td>-3.680973</td><td>1.738828</td><td>0.2683070</td></tr>\n",
       "\t<tr><td>noun_M</td><td>42</td><td>-3.840452</td><td>1.635038</td><td>0.2522918</td></tr>\n",
       "\t<tr><td>verb_X</td><td>42</td><td>-3.433158</td><td>1.792537</td><td>0.2765945</td></tr>\n",
       "</tbody>\n",
       "</table>\n"
      ],
      "text/latex": [
       "A tibble: 3 × 5\n",
       "\\begin{tabular}{lllll}\n",
       " cond0 & N & valX\\_M & valX\\_SD & valX\\_SE\\\\\n",
       " <fct> & <int> & <dbl> & <dbl> & <dbl>\\\\\n",
       "\\hline\n",
       "\t noun\\_F & 42 & -3.680973 & 1.738828 & 0.2683070\\\\\n",
       "\t noun\\_M & 42 & -3.840452 & 1.635038 & 0.2522918\\\\\n",
       "\t verb\\_X & 42 & -3.433158 & 1.792537 & 0.2765945\\\\\n",
       "\\end{tabular}\n"
      ],
      "text/markdown": [
       "\n",
       "A tibble: 3 × 5\n",
       "\n",
       "| cond0 &lt;fct&gt; | N &lt;int&gt; | valX_M &lt;dbl&gt; | valX_SD &lt;dbl&gt; | valX_SE &lt;dbl&gt; |\n",
       "|---|---|---|---|---|\n",
       "| noun_F | 42 | -3.680973 | 1.738828 | 0.2683070 |\n",
       "| noun_M | 42 | -3.840452 | 1.635038 | 0.2522918 |\n",
       "| verb_X | 42 | -3.433158 | 1.792537 | 0.2765945 |\n",
       "\n"
      ],
      "text/plain": [
       "  cond0  N  valX_M    valX_SD  valX_SE  \n",
       "1 noun_F 42 -3.680973 1.738828 0.2683070\n",
       "2 noun_M 42 -3.840452 1.635038 0.2522918\n",
       "3 verb_X 42 -3.433158 1.792537 0.2765945"
      ]
     },
     "metadata": {},
     "output_type": "display_data"
    },
    {
     "data": {
      "text/markdown": [
       "### Expected marginal means"
      ]
     },
     "metadata": {},
     "output_type": "display_data"
    },
    {
     "data": {
      "text/html": [
       "<table>\n",
       "<caption>A apa_results_table: 3 × 5</caption>\n",
       "<thead>\n",
       "\t<tr><th></th><th scope=col>cond0</th><th scope=col>estimate</th><th scope=col>ci</th><th scope=col>statistic</th><th scope=col>p.value</th></tr>\n",
       "\t<tr><th></th><th scope=col>&lt;chr&gt;</th><th scope=col>&lt;ppj_lbll&gt;</th><th scope=col>&lt;ppj_lbll&gt;</th><th scope=col>&lt;ppj_lbll&gt;</th><th scope=col>&lt;ppj_lbll&gt;</th></tr>\n",
       "</thead>\n",
       "<tbody>\n",
       "\t<tr><th scope=row>noun_F</th><td>noun_F</td><td>-3.68</td><td>$[-4.22$, $-3.15]$</td><td>-13.84</td><td>&lt; .001</td></tr>\n",
       "\t<tr><th scope=row>noun_M</th><td>noun_M</td><td>-3.84</td><td>$[-4.38$, $-3.31]$</td><td>-14.44</td><td>&lt; .001</td></tr>\n",
       "\t<tr><th scope=row>verb_X</th><td>verb_X</td><td>-3.43</td><td>$[-3.97$, $-2.90]$</td><td>-12.91</td><td>&lt; .001</td></tr>\n",
       "</tbody>\n",
       "</table>\n"
      ],
      "text/latex": [
       "A apa\\_results\\_table: 3 × 5\n",
       "\\begin{tabular}{r|lllll}\n",
       "  & cond0 & estimate & ci & statistic & p.value\\\\\n",
       "  & <chr> & <ppj\\_lbll> & <ppj\\_lbll> & <ppj\\_lbll> & <ppj\\_lbll>\\\\\n",
       "\\hline\n",
       "\tnoun\\_F & noun\\_F & -3.68 & \\${[}-4.22\\$, \\$-3.15{]}\\$ & -13.84 & < .001\\\\\n",
       "\tnoun\\_M & noun\\_M & -3.84 & \\${[}-4.38\\$, \\$-3.31{]}\\$ & -14.44 & < .001\\\\\n",
       "\tverb\\_X & verb\\_X & -3.43 & \\${[}-3.97\\$, \\$-2.90{]}\\$ & -12.91 & < .001\\\\\n",
       "\\end{tabular}\n"
      ],
      "text/markdown": [
       "\n",
       "A apa_results_table: 3 × 5\n",
       "\n",
       "| <!--/--> | cond0 &lt;chr&gt; | estimate &lt;ppj_lbll&gt; | ci &lt;ppj_lbll&gt; | statistic &lt;ppj_lbll&gt; | p.value &lt;ppj_lbll&gt; |\n",
       "|---|---|---|---|---|---|\n",
       "| noun_F | noun_F | -3.68 | $[-4.22$, $-3.15]$ | -13.84 | &lt; .001 |\n",
       "| noun_M | noun_M | -3.84 | $[-4.38$, $-3.31]$ | -14.44 | &lt; .001 |\n",
       "| verb_X | verb_X | -3.43 | $[-3.97$, $-2.90]$ | -12.91 | &lt; .001 |\n",
       "\n"
      ],
      "text/plain": [
       "       cond0  estimate ci                 statistic p.value\n",
       "noun_F noun_F -3.68    $[-4.22$, $-3.15]$ -13.84    < .001 \n",
       "noun_M noun_M -3.84    $[-4.38$, $-3.31]$ -14.44    < .001 \n",
       "verb_X verb_X -3.43    $[-3.97$, $-2.90]$ -12.91    < .001 "
      ]
     },
     "metadata": {},
     "output_type": "display_data"
    },
    {
     "data": {
      "text/markdown": [
       "### Paired comparisons for expected marginal means"
      ]
     },
     "metadata": {},
     "output_type": "display_data"
    },
    {
     "data": {
      "text/html": [
       "<table>\n",
       "<caption>A apa_results_table: 3 × 5</caption>\n",
       "<thead>\n",
       "\t<tr><th></th><th scope=col>contrast</th><th scope=col>estimate</th><th scope=col>ci</th><th scope=col>statistic</th><th scope=col>p.value</th></tr>\n",
       "\t<tr><th></th><th scope=col>&lt;ppj_lbll&gt;</th><th scope=col>&lt;ppj_lbll&gt;</th><th scope=col>&lt;ppj_lbll&gt;</th><th scope=col>&lt;ppj_lbll&gt;</th><th scope=col>&lt;ppj_lbll&gt;</th></tr>\n",
       "</thead>\n",
       "<tbody>\n",
       "\t<tr><th scope=row>noun_F_noun_M</th><td>noun_F - noun_M</td><td>0.16 </td><td>$[-0.14$, $0.46]$ </td><td>1.27 </td><td>.419</td></tr>\n",
       "\t<tr><th scope=row>noun_F_verb_X</th><td>noun_F - verb_X</td><td>-0.25</td><td>$[-0.55$, $0.05]$ </td><td>-1.97</td><td>.127</td></tr>\n",
       "\t<tr><th scope=row>noun_M_verb_X</th><td>noun_M - verb_X</td><td>-0.41</td><td>$[-0.71$, $-0.11]$</td><td>-3.23</td><td>.005</td></tr>\n",
       "</tbody>\n",
       "</table>\n"
      ],
      "text/latex": [
       "A apa\\_results\\_table: 3 × 5\n",
       "\\begin{tabular}{r|lllll}\n",
       "  & contrast & estimate & ci & statistic & p.value\\\\\n",
       "  & <ppj\\_lbll> & <ppj\\_lbll> & <ppj\\_lbll> & <ppj\\_lbll> & <ppj\\_lbll>\\\\\n",
       "\\hline\n",
       "\tnoun\\_F\\_noun\\_M & noun\\_F - noun\\_M & 0.16  & \\${[}-0.14\\$, \\$0.46{]}\\$  & 1.27  & .419\\\\\n",
       "\tnoun\\_F\\_verb\\_X & noun\\_F - verb\\_X & -0.25 & \\${[}-0.55\\$, \\$0.05{]}\\$  & -1.97 & .127\\\\\n",
       "\tnoun\\_M\\_verb\\_X & noun\\_M - verb\\_X & -0.41 & \\${[}-0.71\\$, \\$-0.11{]}\\$ & -3.23 & .005\\\\\n",
       "\\end{tabular}\n"
      ],
      "text/markdown": [
       "\n",
       "A apa_results_table: 3 × 5\n",
       "\n",
       "| <!--/--> | contrast &lt;ppj_lbll&gt; | estimate &lt;ppj_lbll&gt; | ci &lt;ppj_lbll&gt; | statistic &lt;ppj_lbll&gt; | p.value &lt;ppj_lbll&gt; |\n",
       "|---|---|---|---|---|---|\n",
       "| noun_F_noun_M | noun_F - noun_M | 0.16  | $[-0.14$, $0.46]$  | 1.27  | .419 |\n",
       "| noun_F_verb_X | noun_F - verb_X | -0.25 | $[-0.55$, $0.05]$  | -1.97 | .127 |\n",
       "| noun_M_verb_X | noun_M - verb_X | -0.41 | $[-0.71$, $-0.11]$ | -3.23 | .005 |\n",
       "\n"
      ],
      "text/plain": [
       "              contrast        estimate ci                 statistic p.value\n",
       "noun_F_noun_M noun_F - noun_M 0.16     $[-0.14$, $0.46]$  1.27      .419   \n",
       "noun_F_verb_X noun_F - verb_X -0.25    $[-0.55$, $0.05]$  -1.97     .127   \n",
       "noun_M_verb_X noun_M - verb_X -0.41    $[-0.71$, $-0.11]$ -3.23     .005   "
      ]
     },
     "metadata": {},
     "output_type": "display_data"
    }
   ],
   "source": [
    "IDX <- IDX+1; COND <- CONDS[IDX]\n",
    "data1 <- droplevels(subset(df1, eval(parse(text=COND)))); data1 <- data1[complete.cases(data1),]; done1 <- AOV4(data1,COND)\n",
    "display_markdown(str_c(\"# Condition \",IDX,\" of \",length(CONDS))); display_markdown(done1$info); display_markdown(\"### Table\"); done1$aov_APA$table; display_markdown(\"### Result\"); display_markdown(done1$aov_APA[[\"full_result\"]][[\"cond0\"]]); display_markdown(\"### Summary (all done1, incl. NANs)\"); done1$summary; display_markdown(\"### Expected marginal means\"); done1$emm_APA$table; display_markdown(\"### Paired comparisons for expected marginal means\"); done1$pairs_APA$table"
   ]
  },
  {
   "cell_type": "code",
   "execution_count": 196,
   "metadata": {},
   "outputs": [
    {
     "name": "stderr",
     "output_type": "stream",
     "text": [
      "Warning message in summary.Anova.mlm(x$Anova):\n",
      "“HF eps > 1 treated as 1”\n"
     ]
    },
    {
     "data": {
      "text/markdown": [
       "# Condition 29 of 72"
      ]
     },
     "metadata": {},
     "output_type": "display_data"
    },
    {
     "data": {
      "text/markdown": [
       "`tmin0==0.35 & chan0==\"LC\" & mode0==\"pos\"`"
      ]
     },
     "metadata": {},
     "output_type": "display_data"
    },
    {
     "data": {
      "text/markdown": [
       "### Table"
      ]
     },
     "metadata": {},
     "output_type": "display_data"
    },
    {
     "data": {
      "text/html": [
       "<table>\n",
       "<caption>A apa_results_table: 1 × 7</caption>\n",
       "<thead>\n",
       "\t<tr><th></th><th scope=col>Effect</th><th scope=col>F</th><th scope=col>df1</th><th scope=col>df2</th><th scope=col>MSE</th><th scope=col>p</th><th scope=col>ges</th></tr>\n",
       "\t<tr><th></th><th scope=col>&lt;ppj_lbll&gt;</th><th scope=col>&lt;ppj_lbll&gt;</th><th scope=col>&lt;ppj_lbll&gt;</th><th scope=col>&lt;ppj_lbll&gt;</th><th scope=col>&lt;ppj_lbll&gt;</th><th scope=col>&lt;ppj_lbll&gt;</th><th scope=col>&lt;ppj_lbll&gt;</th></tr>\n",
       "</thead>\n",
       "<tbody>\n",
       "\t<tr><th scope=row>1</th><td>Cond0</td><td>0.27</td><td>1.99</td><td>81.58</td><td>0.22</td><td>.763</td><td>.001</td></tr>\n",
       "</tbody>\n",
       "</table>\n"
      ],
      "text/latex": [
       "A apa\\_results\\_table: 1 × 7\n",
       "\\begin{tabular}{r|lllllll}\n",
       "  & Effect & F & df1 & df2 & MSE & p & ges\\\\\n",
       "  & <ppj\\_lbll> & <ppj\\_lbll> & <ppj\\_lbll> & <ppj\\_lbll> & <ppj\\_lbll> & <ppj\\_lbll> & <ppj\\_lbll>\\\\\n",
       "\\hline\n",
       "\t1 & Cond0 & 0.27 & 1.99 & 81.58 & 0.22 & .763 & .001\\\\\n",
       "\\end{tabular}\n"
      ],
      "text/markdown": [
       "\n",
       "A apa_results_table: 1 × 7\n",
       "\n",
       "| <!--/--> | Effect &lt;ppj_lbll&gt; | F &lt;ppj_lbll&gt; | df1 &lt;ppj_lbll&gt; | df2 &lt;ppj_lbll&gt; | MSE &lt;ppj_lbll&gt; | p &lt;ppj_lbll&gt; | ges &lt;ppj_lbll&gt; |\n",
       "|---|---|---|---|---|---|---|---|\n",
       "| 1 | Cond0 | 0.27 | 1.99 | 81.58 | 0.22 | .763 | .001 |\n",
       "\n"
      ],
      "text/plain": [
       "  Effect F    df1  df2   MSE  p    ges \n",
       "1 Cond0  0.27 1.99 81.58 0.22 .763 .001"
      ]
     },
     "metadata": {},
     "output_type": "display_data"
    },
    {
     "data": {
      "text/markdown": [
       "### Result"
      ]
     },
     "metadata": {},
     "output_type": "display_data"
    },
    {
     "data": {
      "text/markdown": [
       "$F(1.99, 81.58) = 0.27$, $\\mathit{MSE} = 0.22$, $p = .763$, $\\hat{\\eta}^2_G = .001$"
      ]
     },
     "metadata": {},
     "output_type": "display_data"
    },
    {
     "data": {
      "text/markdown": [
       "### Summary (all done1, incl. NANs)"
      ]
     },
     "metadata": {},
     "output_type": "display_data"
    },
    {
     "data": {
      "text/html": [
       "<table>\n",
       "<caption>A tibble: 3 × 5</caption>\n",
       "<thead>\n",
       "\t<tr><th scope=col>cond0</th><th scope=col>N</th><th scope=col>valX_M</th><th scope=col>valX_SD</th><th scope=col>valX_SE</th></tr>\n",
       "\t<tr><th scope=col>&lt;fct&gt;</th><th scope=col>&lt;int&gt;</th><th scope=col>&lt;dbl&gt;</th><th scope=col>&lt;dbl&gt;</th><th scope=col>&lt;dbl&gt;</th></tr>\n",
       "</thead>\n",
       "<tbody>\n",
       "\t<tr><td>noun_F</td><td>42</td><td>1.659264</td><td>1.349710</td><td>0.2082648</td></tr>\n",
       "\t<tr><td>noun_M</td><td>42</td><td>1.641222</td><td>1.254165</td><td>0.1935219</td></tr>\n",
       "\t<tr><td>verb_X</td><td>42</td><td>1.586564</td><td>1.232751</td><td>0.1902176</td></tr>\n",
       "</tbody>\n",
       "</table>\n"
      ],
      "text/latex": [
       "A tibble: 3 × 5\n",
       "\\begin{tabular}{lllll}\n",
       " cond0 & N & valX\\_M & valX\\_SD & valX\\_SE\\\\\n",
       " <fct> & <int> & <dbl> & <dbl> & <dbl>\\\\\n",
       "\\hline\n",
       "\t noun\\_F & 42 & 1.659264 & 1.349710 & 0.2082648\\\\\n",
       "\t noun\\_M & 42 & 1.641222 & 1.254165 & 0.1935219\\\\\n",
       "\t verb\\_X & 42 & 1.586564 & 1.232751 & 0.1902176\\\\\n",
       "\\end{tabular}\n"
      ],
      "text/markdown": [
       "\n",
       "A tibble: 3 × 5\n",
       "\n",
       "| cond0 &lt;fct&gt; | N &lt;int&gt; | valX_M &lt;dbl&gt; | valX_SD &lt;dbl&gt; | valX_SE &lt;dbl&gt; |\n",
       "|---|---|---|---|---|\n",
       "| noun_F | 42 | 1.659264 | 1.349710 | 0.2082648 |\n",
       "| noun_M | 42 | 1.641222 | 1.254165 | 0.1935219 |\n",
       "| verb_X | 42 | 1.586564 | 1.232751 | 0.1902176 |\n",
       "\n"
      ],
      "text/plain": [
       "  cond0  N  valX_M   valX_SD  valX_SE  \n",
       "1 noun_F 42 1.659264 1.349710 0.2082648\n",
       "2 noun_M 42 1.641222 1.254165 0.1935219\n",
       "3 verb_X 42 1.586564 1.232751 0.1902176"
      ]
     },
     "metadata": {},
     "output_type": "display_data"
    },
    {
     "data": {
      "text/markdown": [
       "### Expected marginal means"
      ]
     },
     "metadata": {},
     "output_type": "display_data"
    },
    {
     "data": {
      "text/html": [
       "<table>\n",
       "<caption>A apa_results_table: 3 × 5</caption>\n",
       "<thead>\n",
       "\t<tr><th></th><th scope=col>cond0</th><th scope=col>estimate</th><th scope=col>ci</th><th scope=col>statistic</th><th scope=col>p.value</th></tr>\n",
       "\t<tr><th></th><th scope=col>&lt;chr&gt;</th><th scope=col>&lt;ppj_lbll&gt;</th><th scope=col>&lt;ppj_lbll&gt;</th><th scope=col>&lt;ppj_lbll&gt;</th><th scope=col>&lt;ppj_lbll&gt;</th></tr>\n",
       "</thead>\n",
       "<tbody>\n",
       "\t<tr><th scope=row>noun_F</th><td>noun_F</td><td>1.66</td><td>$[1.26$, $2.06]$</td><td>8.40</td><td>&lt; .001</td></tr>\n",
       "\t<tr><th scope=row>noun_M</th><td>noun_M</td><td>1.64</td><td>$[1.24$, $2.04]$</td><td>8.31</td><td>&lt; .001</td></tr>\n",
       "\t<tr><th scope=row>verb_X</th><td>verb_X</td><td>1.59</td><td>$[1.19$, $1.98]$</td><td>8.03</td><td>&lt; .001</td></tr>\n",
       "</tbody>\n",
       "</table>\n"
      ],
      "text/latex": [
       "A apa\\_results\\_table: 3 × 5\n",
       "\\begin{tabular}{r|lllll}\n",
       "  & cond0 & estimate & ci & statistic & p.value\\\\\n",
       "  & <chr> & <ppj\\_lbll> & <ppj\\_lbll> & <ppj\\_lbll> & <ppj\\_lbll>\\\\\n",
       "\\hline\n",
       "\tnoun\\_F & noun\\_F & 1.66 & \\${[}1.26\\$, \\$2.06{]}\\$ & 8.40 & < .001\\\\\n",
       "\tnoun\\_M & noun\\_M & 1.64 & \\${[}1.24\\$, \\$2.04{]}\\$ & 8.31 & < .001\\\\\n",
       "\tverb\\_X & verb\\_X & 1.59 & \\${[}1.19\\$, \\$1.98{]}\\$ & 8.03 & < .001\\\\\n",
       "\\end{tabular}\n"
      ],
      "text/markdown": [
       "\n",
       "A apa_results_table: 3 × 5\n",
       "\n",
       "| <!--/--> | cond0 &lt;chr&gt; | estimate &lt;ppj_lbll&gt; | ci &lt;ppj_lbll&gt; | statistic &lt;ppj_lbll&gt; | p.value &lt;ppj_lbll&gt; |\n",
       "|---|---|---|---|---|---|\n",
       "| noun_F | noun_F | 1.66 | $[1.26$, $2.06]$ | 8.40 | &lt; .001 |\n",
       "| noun_M | noun_M | 1.64 | $[1.24$, $2.04]$ | 8.31 | &lt; .001 |\n",
       "| verb_X | verb_X | 1.59 | $[1.19$, $1.98]$ | 8.03 | &lt; .001 |\n",
       "\n"
      ],
      "text/plain": [
       "       cond0  estimate ci               statistic p.value\n",
       "noun_F noun_F 1.66     $[1.26$, $2.06]$ 8.40      < .001 \n",
       "noun_M noun_M 1.64     $[1.24$, $2.04]$ 8.31      < .001 \n",
       "verb_X verb_X 1.59     $[1.19$, $1.98]$ 8.03      < .001 "
      ]
     },
     "metadata": {},
     "output_type": "display_data"
    },
    {
     "data": {
      "text/markdown": [
       "### Paired comparisons for expected marginal means"
      ]
     },
     "metadata": {},
     "output_type": "display_data"
    },
    {
     "data": {
      "text/html": [
       "<table>\n",
       "<caption>A apa_results_table: 3 × 5</caption>\n",
       "<thead>\n",
       "\t<tr><th></th><th scope=col>contrast</th><th scope=col>estimate</th><th scope=col>ci</th><th scope=col>statistic</th><th scope=col>p.value</th></tr>\n",
       "\t<tr><th></th><th scope=col>&lt;ppj_lbll&gt;</th><th scope=col>&lt;ppj_lbll&gt;</th><th scope=col>&lt;ppj_lbll&gt;</th><th scope=col>&lt;ppj_lbll&gt;</th><th scope=col>&lt;ppj_lbll&gt;</th></tr>\n",
       "</thead>\n",
       "<tbody>\n",
       "\t<tr><th scope=row>noun_F_noun_M</th><td>noun_F - noun_M</td><td>0.02</td><td>$[-0.23$, $0.26]$</td><td>0.17</td><td>.983</td></tr>\n",
       "\t<tr><th scope=row>noun_F_verb_X</th><td>noun_F - verb_X</td><td>0.07</td><td>$[-0.17$, $0.32]$</td><td>0.70</td><td>.761</td></tr>\n",
       "\t<tr><th scope=row>noun_M_verb_X</th><td>noun_M - verb_X</td><td>0.05</td><td>$[-0.19$, $0.30]$</td><td>0.53</td><td>.857</td></tr>\n",
       "</tbody>\n",
       "</table>\n"
      ],
      "text/latex": [
       "A apa\\_results\\_table: 3 × 5\n",
       "\\begin{tabular}{r|lllll}\n",
       "  & contrast & estimate & ci & statistic & p.value\\\\\n",
       "  & <ppj\\_lbll> & <ppj\\_lbll> & <ppj\\_lbll> & <ppj\\_lbll> & <ppj\\_lbll>\\\\\n",
       "\\hline\n",
       "\tnoun\\_F\\_noun\\_M & noun\\_F - noun\\_M & 0.02 & \\${[}-0.23\\$, \\$0.26{]}\\$ & 0.17 & .983\\\\\n",
       "\tnoun\\_F\\_verb\\_X & noun\\_F - verb\\_X & 0.07 & \\${[}-0.17\\$, \\$0.32{]}\\$ & 0.70 & .761\\\\\n",
       "\tnoun\\_M\\_verb\\_X & noun\\_M - verb\\_X & 0.05 & \\${[}-0.19\\$, \\$0.30{]}\\$ & 0.53 & .857\\\\\n",
       "\\end{tabular}\n"
      ],
      "text/markdown": [
       "\n",
       "A apa_results_table: 3 × 5\n",
       "\n",
       "| <!--/--> | contrast &lt;ppj_lbll&gt; | estimate &lt;ppj_lbll&gt; | ci &lt;ppj_lbll&gt; | statistic &lt;ppj_lbll&gt; | p.value &lt;ppj_lbll&gt; |\n",
       "|---|---|---|---|---|---|\n",
       "| noun_F_noun_M | noun_F - noun_M | 0.02 | $[-0.23$, $0.26]$ | 0.17 | .983 |\n",
       "| noun_F_verb_X | noun_F - verb_X | 0.07 | $[-0.17$, $0.32]$ | 0.70 | .761 |\n",
       "| noun_M_verb_X | noun_M - verb_X | 0.05 | $[-0.19$, $0.30]$ | 0.53 | .857 |\n",
       "\n"
      ],
      "text/plain": [
       "              contrast        estimate ci                statistic p.value\n",
       "noun_F_noun_M noun_F - noun_M 0.02     $[-0.23$, $0.26]$ 0.17      .983   \n",
       "noun_F_verb_X noun_F - verb_X 0.07     $[-0.17$, $0.32]$ 0.70      .761   \n",
       "noun_M_verb_X noun_M - verb_X 0.05     $[-0.19$, $0.30]$ 0.53      .857   "
      ]
     },
     "metadata": {},
     "output_type": "display_data"
    }
   ],
   "source": [
    "IDX <- IDX+1; COND <- CONDS[IDX]\n",
    "data1 <- droplevels(subset(df1, eval(parse(text=COND)))); data1 <- data1[complete.cases(data1),]; done1 <- AOV4(data1,COND)\n",
    "display_markdown(str_c(\"# Condition \",IDX,\" of \",length(CONDS))); display_markdown(done1$info); display_markdown(\"### Table\"); done1$aov_APA$table; display_markdown(\"### Result\"); display_markdown(done1$aov_APA[[\"full_result\"]][[\"cond0\"]]); display_markdown(\"### Summary (all done1, incl. NANs)\"); done1$summary; display_markdown(\"### Expected marginal means\"); done1$emm_APA$table; display_markdown(\"### Paired comparisons for expected marginal means\"); done1$pairs_APA$table"
   ]
  },
  {
   "cell_type": "code",
   "execution_count": 197,
   "metadata": {},
   "outputs": [
    {
     "data": {
      "text/markdown": [
       "# Condition 30 of 72"
      ]
     },
     "metadata": {},
     "output_type": "display_data"
    },
    {
     "data": {
      "text/markdown": [
       "`tmin0==0.35 & chan0==\"LC\" & mode0==\"neg\"`"
      ]
     },
     "metadata": {},
     "output_type": "display_data"
    },
    {
     "data": {
      "text/markdown": [
       "### Table"
      ]
     },
     "metadata": {},
     "output_type": "display_data"
    },
    {
     "data": {
      "text/html": [
       "<table>\n",
       "<caption>A apa_results_table: 1 × 7</caption>\n",
       "<thead>\n",
       "\t<tr><th></th><th scope=col>Effect</th><th scope=col>F</th><th scope=col>df1</th><th scope=col>df2</th><th scope=col>MSE</th><th scope=col>p</th><th scope=col>ges</th></tr>\n",
       "\t<tr><th></th><th scope=col>&lt;ppj_lbll&gt;</th><th scope=col>&lt;ppj_lbll&gt;</th><th scope=col>&lt;ppj_lbll&gt;</th><th scope=col>&lt;ppj_lbll&gt;</th><th scope=col>&lt;ppj_lbll&gt;</th><th scope=col>&lt;ppj_lbll&gt;</th><th scope=col>&lt;ppj_lbll&gt;</th></tr>\n",
       "</thead>\n",
       "<tbody>\n",
       "\t<tr><th scope=row>1</th><td>Cond0</td><td>1.49</td><td>1.87</td><td>76.56</td><td>0.24</td><td>.232</td><td>.003</td></tr>\n",
       "</tbody>\n",
       "</table>\n"
      ],
      "text/latex": [
       "A apa\\_results\\_table: 1 × 7\n",
       "\\begin{tabular}{r|lllllll}\n",
       "  & Effect & F & df1 & df2 & MSE & p & ges\\\\\n",
       "  & <ppj\\_lbll> & <ppj\\_lbll> & <ppj\\_lbll> & <ppj\\_lbll> & <ppj\\_lbll> & <ppj\\_lbll> & <ppj\\_lbll>\\\\\n",
       "\\hline\n",
       "\t1 & Cond0 & 1.49 & 1.87 & 76.56 & 0.24 & .232 & .003\\\\\n",
       "\\end{tabular}\n"
      ],
      "text/markdown": [
       "\n",
       "A apa_results_table: 1 × 7\n",
       "\n",
       "| <!--/--> | Effect &lt;ppj_lbll&gt; | F &lt;ppj_lbll&gt; | df1 &lt;ppj_lbll&gt; | df2 &lt;ppj_lbll&gt; | MSE &lt;ppj_lbll&gt; | p &lt;ppj_lbll&gt; | ges &lt;ppj_lbll&gt; |\n",
       "|---|---|---|---|---|---|---|---|\n",
       "| 1 | Cond0 | 1.49 | 1.87 | 76.56 | 0.24 | .232 | .003 |\n",
       "\n"
      ],
      "text/plain": [
       "  Effect F    df1  df2   MSE  p    ges \n",
       "1 Cond0  1.49 1.87 76.56 0.24 .232 .003"
      ]
     },
     "metadata": {},
     "output_type": "display_data"
    },
    {
     "data": {
      "text/markdown": [
       "### Result"
      ]
     },
     "metadata": {},
     "output_type": "display_data"
    },
    {
     "data": {
      "text/markdown": [
       "$F(1.87, 76.56) = 1.49$, $\\mathit{MSE} = 0.24$, $p = .232$, $\\hat{\\eta}^2_G = .003$"
      ]
     },
     "metadata": {},
     "output_type": "display_data"
    },
    {
     "data": {
      "text/markdown": [
       "### Summary (all done1, incl. NANs)"
      ]
     },
     "metadata": {},
     "output_type": "display_data"
    },
    {
     "data": {
      "text/html": [
       "<table>\n",
       "<caption>A tibble: 3 × 5</caption>\n",
       "<thead>\n",
       "\t<tr><th scope=col>cond0</th><th scope=col>N</th><th scope=col>valX_M</th><th scope=col>valX_SD</th><th scope=col>valX_SE</th></tr>\n",
       "\t<tr><th scope=col>&lt;fct&gt;</th><th scope=col>&lt;int&gt;</th><th scope=col>&lt;dbl&gt;</th><th scope=col>&lt;dbl&gt;</th><th scope=col>&lt;dbl&gt;</th></tr>\n",
       "</thead>\n",
       "<tbody>\n",
       "\t<tr><td>noun_F</td><td>42</td><td>0.2299094</td><td>1.297205</td><td>0.2001631</td></tr>\n",
       "\t<tr><td>noun_M</td><td>42</td><td>0.3421153</td><td>1.224453</td><td>0.1889373</td></tr>\n",
       "\t<tr><td>verb_X</td><td>42</td><td>0.4056508</td><td>1.265236</td><td>0.1952302</td></tr>\n",
       "</tbody>\n",
       "</table>\n"
      ],
      "text/latex": [
       "A tibble: 3 × 5\n",
       "\\begin{tabular}{lllll}\n",
       " cond0 & N & valX\\_M & valX\\_SD & valX\\_SE\\\\\n",
       " <fct> & <int> & <dbl> & <dbl> & <dbl>\\\\\n",
       "\\hline\n",
       "\t noun\\_F & 42 & 0.2299094 & 1.297205 & 0.2001631\\\\\n",
       "\t noun\\_M & 42 & 0.3421153 & 1.224453 & 0.1889373\\\\\n",
       "\t verb\\_X & 42 & 0.4056508 & 1.265236 & 0.1952302\\\\\n",
       "\\end{tabular}\n"
      ],
      "text/markdown": [
       "\n",
       "A tibble: 3 × 5\n",
       "\n",
       "| cond0 &lt;fct&gt; | N &lt;int&gt; | valX_M &lt;dbl&gt; | valX_SD &lt;dbl&gt; | valX_SE &lt;dbl&gt; |\n",
       "|---|---|---|---|---|\n",
       "| noun_F | 42 | 0.2299094 | 1.297205 | 0.2001631 |\n",
       "| noun_M | 42 | 0.3421153 | 1.224453 | 0.1889373 |\n",
       "| verb_X | 42 | 0.4056508 | 1.265236 | 0.1952302 |\n",
       "\n"
      ],
      "text/plain": [
       "  cond0  N  valX_M    valX_SD  valX_SE  \n",
       "1 noun_F 42 0.2299094 1.297205 0.2001631\n",
       "2 noun_M 42 0.3421153 1.224453 0.1889373\n",
       "3 verb_X 42 0.4056508 1.265236 0.1952302"
      ]
     },
     "metadata": {},
     "output_type": "display_data"
    },
    {
     "data": {
      "text/markdown": [
       "### Expected marginal means"
      ]
     },
     "metadata": {},
     "output_type": "display_data"
    },
    {
     "data": {
      "text/html": [
       "<table>\n",
       "<caption>A apa_results_table: 3 × 5</caption>\n",
       "<thead>\n",
       "\t<tr><th></th><th scope=col>cond0</th><th scope=col>estimate</th><th scope=col>ci</th><th scope=col>statistic</th><th scope=col>p.value</th></tr>\n",
       "\t<tr><th></th><th scope=col>&lt;chr&gt;</th><th scope=col>&lt;ppj_lbll&gt;</th><th scope=col>&lt;ppj_lbll&gt;</th><th scope=col>&lt;ppj_lbll&gt;</th><th scope=col>&lt;ppj_lbll&gt;</th></tr>\n",
       "</thead>\n",
       "<tbody>\n",
       "\t<tr><th scope=row>noun_F</th><td>noun_F</td><td>0.23</td><td>$[-0.16$, $0.62]$</td><td>1.18</td><td>.244</td></tr>\n",
       "\t<tr><th scope=row>noun_M</th><td>noun_M</td><td>0.34</td><td>$[-0.05$, $0.73]$</td><td>1.76</td><td>.085</td></tr>\n",
       "\t<tr><th scope=row>verb_X</th><td>verb_X</td><td>0.41</td><td>$[0.01$, $0.80]$ </td><td>2.08</td><td>.043</td></tr>\n",
       "</tbody>\n",
       "</table>\n"
      ],
      "text/latex": [
       "A apa\\_results\\_table: 3 × 5\n",
       "\\begin{tabular}{r|lllll}\n",
       "  & cond0 & estimate & ci & statistic & p.value\\\\\n",
       "  & <chr> & <ppj\\_lbll> & <ppj\\_lbll> & <ppj\\_lbll> & <ppj\\_lbll>\\\\\n",
       "\\hline\n",
       "\tnoun\\_F & noun\\_F & 0.23 & \\${[}-0.16\\$, \\$0.62{]}\\$ & 1.18 & .244\\\\\n",
       "\tnoun\\_M & noun\\_M & 0.34 & \\${[}-0.05\\$, \\$0.73{]}\\$ & 1.76 & .085\\\\\n",
       "\tverb\\_X & verb\\_X & 0.41 & \\${[}0.01\\$, \\$0.80{]}\\$  & 2.08 & .043\\\\\n",
       "\\end{tabular}\n"
      ],
      "text/markdown": [
       "\n",
       "A apa_results_table: 3 × 5\n",
       "\n",
       "| <!--/--> | cond0 &lt;chr&gt; | estimate &lt;ppj_lbll&gt; | ci &lt;ppj_lbll&gt; | statistic &lt;ppj_lbll&gt; | p.value &lt;ppj_lbll&gt; |\n",
       "|---|---|---|---|---|---|\n",
       "| noun_F | noun_F | 0.23 | $[-0.16$, $0.62]$ | 1.18 | .244 |\n",
       "| noun_M | noun_M | 0.34 | $[-0.05$, $0.73]$ | 1.76 | .085 |\n",
       "| verb_X | verb_X | 0.41 | $[0.01$, $0.80]$  | 2.08 | .043 |\n",
       "\n"
      ],
      "text/plain": [
       "       cond0  estimate ci                statistic p.value\n",
       "noun_F noun_F 0.23     $[-0.16$, $0.62]$ 1.18      .244   \n",
       "noun_M noun_M 0.34     $[-0.05$, $0.73]$ 1.76      .085   \n",
       "verb_X verb_X 0.41     $[0.01$, $0.80]$  2.08      .043   "
      ]
     },
     "metadata": {},
     "output_type": "display_data"
    },
    {
     "data": {
      "text/markdown": [
       "### Paired comparisons for expected marginal means"
      ]
     },
     "metadata": {},
     "output_type": "display_data"
    },
    {
     "data": {
      "text/html": [
       "<table>\n",
       "<caption>A apa_results_table: 3 × 5</caption>\n",
       "<thead>\n",
       "\t<tr><th></th><th scope=col>contrast</th><th scope=col>estimate</th><th scope=col>ci</th><th scope=col>statistic</th><th scope=col>p.value</th></tr>\n",
       "\t<tr><th></th><th scope=col>&lt;ppj_lbll&gt;</th><th scope=col>&lt;ppj_lbll&gt;</th><th scope=col>&lt;ppj_lbll&gt;</th><th scope=col>&lt;ppj_lbll&gt;</th><th scope=col>&lt;ppj_lbll&gt;</th></tr>\n",
       "</thead>\n",
       "<tbody>\n",
       "\t<tr><th scope=row>noun_F_noun_M</th><td>noun_F - noun_M</td><td>-0.11</td><td>$[-0.36$, $0.13]$</td><td>-1.09</td><td>.523</td></tr>\n",
       "\t<tr><th scope=row>noun_F_verb_X</th><td>noun_F - verb_X</td><td>-0.18</td><td>$[-0.42$, $0.07]$</td><td>-1.71</td><td>.209</td></tr>\n",
       "\t<tr><th scope=row>noun_M_verb_X</th><td>noun_M - verb_X</td><td>-0.06</td><td>$[-0.31$, $0.18]$</td><td>-0.62</td><td>.811</td></tr>\n",
       "</tbody>\n",
       "</table>\n"
      ],
      "text/latex": [
       "A apa\\_results\\_table: 3 × 5\n",
       "\\begin{tabular}{r|lllll}\n",
       "  & contrast & estimate & ci & statistic & p.value\\\\\n",
       "  & <ppj\\_lbll> & <ppj\\_lbll> & <ppj\\_lbll> & <ppj\\_lbll> & <ppj\\_lbll>\\\\\n",
       "\\hline\n",
       "\tnoun\\_F\\_noun\\_M & noun\\_F - noun\\_M & -0.11 & \\${[}-0.36\\$, \\$0.13{]}\\$ & -1.09 & .523\\\\\n",
       "\tnoun\\_F\\_verb\\_X & noun\\_F - verb\\_X & -0.18 & \\${[}-0.42\\$, \\$0.07{]}\\$ & -1.71 & .209\\\\\n",
       "\tnoun\\_M\\_verb\\_X & noun\\_M - verb\\_X & -0.06 & \\${[}-0.31\\$, \\$0.18{]}\\$ & -0.62 & .811\\\\\n",
       "\\end{tabular}\n"
      ],
      "text/markdown": [
       "\n",
       "A apa_results_table: 3 × 5\n",
       "\n",
       "| <!--/--> | contrast &lt;ppj_lbll&gt; | estimate &lt;ppj_lbll&gt; | ci &lt;ppj_lbll&gt; | statistic &lt;ppj_lbll&gt; | p.value &lt;ppj_lbll&gt; |\n",
       "|---|---|---|---|---|---|\n",
       "| noun_F_noun_M | noun_F - noun_M | -0.11 | $[-0.36$, $0.13]$ | -1.09 | .523 |\n",
       "| noun_F_verb_X | noun_F - verb_X | -0.18 | $[-0.42$, $0.07]$ | -1.71 | .209 |\n",
       "| noun_M_verb_X | noun_M - verb_X | -0.06 | $[-0.31$, $0.18]$ | -0.62 | .811 |\n",
       "\n"
      ],
      "text/plain": [
       "              contrast        estimate ci                statistic p.value\n",
       "noun_F_noun_M noun_F - noun_M -0.11    $[-0.36$, $0.13]$ -1.09     .523   \n",
       "noun_F_verb_X noun_F - verb_X -0.18    $[-0.42$, $0.07]$ -1.71     .209   \n",
       "noun_M_verb_X noun_M - verb_X -0.06    $[-0.31$, $0.18]$ -0.62     .811   "
      ]
     },
     "metadata": {},
     "output_type": "display_data"
    }
   ],
   "source": [
    "IDX <- IDX+1; COND <- CONDS[IDX]\n",
    "data1 <- droplevels(subset(df1, eval(parse(text=COND)))); data1 <- data1[complete.cases(data1),]; done1 <- AOV4(data1,COND)\n",
    "display_markdown(str_c(\"# Condition \",IDX,\" of \",length(CONDS))); display_markdown(done1$info); display_markdown(\"### Table\"); done1$aov_APA$table; display_markdown(\"### Result\"); display_markdown(done1$aov_APA[[\"full_result\"]][[\"cond0\"]]); display_markdown(\"### Summary (all done1, incl. NANs)\"); done1$summary; display_markdown(\"### Expected marginal means\"); done1$emm_APA$table; display_markdown(\"### Paired comparisons for expected marginal means\"); done1$pairs_APA$table"
   ]
  },
  {
   "cell_type": "code",
   "execution_count": 198,
   "metadata": {},
   "outputs": [
    {
     "name": "stderr",
     "output_type": "stream",
     "text": [
      "Warning message in summary.Anova.mlm(x$Anova):\n",
      "“HF eps > 1 treated as 1”\n"
     ]
    },
    {
     "data": {
      "text/markdown": [
       "# Condition 31 of 72"
      ]
     },
     "metadata": {},
     "output_type": "display_data"
    },
    {
     "data": {
      "text/markdown": [
       "`tmin0==0.35 & chan0==\"RC\" & mode0==\"pos\"`"
      ]
     },
     "metadata": {},
     "output_type": "display_data"
    },
    {
     "data": {
      "text/markdown": [
       "### Table"
      ]
     },
     "metadata": {},
     "output_type": "display_data"
    },
    {
     "data": {
      "text/html": [
       "<table>\n",
       "<caption>A apa_results_table: 1 × 7</caption>\n",
       "<thead>\n",
       "\t<tr><th></th><th scope=col>Effect</th><th scope=col>F</th><th scope=col>df1</th><th scope=col>df2</th><th scope=col>MSE</th><th scope=col>p</th><th scope=col>ges</th></tr>\n",
       "\t<tr><th></th><th scope=col>&lt;ppj_lbll&gt;</th><th scope=col>&lt;ppj_lbll&gt;</th><th scope=col>&lt;ppj_lbll&gt;</th><th scope=col>&lt;ppj_lbll&gt;</th><th scope=col>&lt;ppj_lbll&gt;</th><th scope=col>&lt;ppj_lbll&gt;</th><th scope=col>&lt;ppj_lbll&gt;</th></tr>\n",
       "</thead>\n",
       "<tbody>\n",
       "\t<tr><th scope=row>1</th><td>Cond0</td><td>2.10</td><td>1.96</td><td>80.32</td><td>0.22</td><td>.130</td><td>.003</td></tr>\n",
       "</tbody>\n",
       "</table>\n"
      ],
      "text/latex": [
       "A apa\\_results\\_table: 1 × 7\n",
       "\\begin{tabular}{r|lllllll}\n",
       "  & Effect & F & df1 & df2 & MSE & p & ges\\\\\n",
       "  & <ppj\\_lbll> & <ppj\\_lbll> & <ppj\\_lbll> & <ppj\\_lbll> & <ppj\\_lbll> & <ppj\\_lbll> & <ppj\\_lbll>\\\\\n",
       "\\hline\n",
       "\t1 & Cond0 & 2.10 & 1.96 & 80.32 & 0.22 & .130 & .003\\\\\n",
       "\\end{tabular}\n"
      ],
      "text/markdown": [
       "\n",
       "A apa_results_table: 1 × 7\n",
       "\n",
       "| <!--/--> | Effect &lt;ppj_lbll&gt; | F &lt;ppj_lbll&gt; | df1 &lt;ppj_lbll&gt; | df2 &lt;ppj_lbll&gt; | MSE &lt;ppj_lbll&gt; | p &lt;ppj_lbll&gt; | ges &lt;ppj_lbll&gt; |\n",
       "|---|---|---|---|---|---|---|---|\n",
       "| 1 | Cond0 | 2.10 | 1.96 | 80.32 | 0.22 | .130 | .003 |\n",
       "\n"
      ],
      "text/plain": [
       "  Effect F    df1  df2   MSE  p    ges \n",
       "1 Cond0  2.10 1.96 80.32 0.22 .130 .003"
      ]
     },
     "metadata": {},
     "output_type": "display_data"
    },
    {
     "data": {
      "text/markdown": [
       "### Result"
      ]
     },
     "metadata": {},
     "output_type": "display_data"
    },
    {
     "data": {
      "text/markdown": [
       "$F(1.96, 80.32) = 2.10$, $\\mathit{MSE} = 0.22$, $p = .130$, $\\hat{\\eta}^2_G = .003$"
      ]
     },
     "metadata": {},
     "output_type": "display_data"
    },
    {
     "data": {
      "text/markdown": [
       "### Summary (all done1, incl. NANs)"
      ]
     },
     "metadata": {},
     "output_type": "display_data"
    },
    {
     "data": {
      "text/html": [
       "<table>\n",
       "<caption>A tibble: 3 × 5</caption>\n",
       "<thead>\n",
       "\t<tr><th scope=col>cond0</th><th scope=col>N</th><th scope=col>valX_M</th><th scope=col>valX_SD</th><th scope=col>valX_SE</th></tr>\n",
       "\t<tr><th scope=col>&lt;fct&gt;</th><th scope=col>&lt;int&gt;</th><th scope=col>&lt;dbl&gt;</th><th scope=col>&lt;dbl&gt;</th><th scope=col>&lt;dbl&gt;</th></tr>\n",
       "</thead>\n",
       "<tbody>\n",
       "\t<tr><td>noun_F</td><td>42</td><td>1.801751</td><td>1.514716</td><td>0.2337258</td></tr>\n",
       "\t<tr><td>noun_M</td><td>42</td><td>1.631761</td><td>1.335056</td><td>0.2060036</td></tr>\n",
       "\t<tr><td>verb_X</td><td>42</td><td>1.819825</td><td>1.542495</td><td>0.2380122</td></tr>\n",
       "</tbody>\n",
       "</table>\n"
      ],
      "text/latex": [
       "A tibble: 3 × 5\n",
       "\\begin{tabular}{lllll}\n",
       " cond0 & N & valX\\_M & valX\\_SD & valX\\_SE\\\\\n",
       " <fct> & <int> & <dbl> & <dbl> & <dbl>\\\\\n",
       "\\hline\n",
       "\t noun\\_F & 42 & 1.801751 & 1.514716 & 0.2337258\\\\\n",
       "\t noun\\_M & 42 & 1.631761 & 1.335056 & 0.2060036\\\\\n",
       "\t verb\\_X & 42 & 1.819825 & 1.542495 & 0.2380122\\\\\n",
       "\\end{tabular}\n"
      ],
      "text/markdown": [
       "\n",
       "A tibble: 3 × 5\n",
       "\n",
       "| cond0 &lt;fct&gt; | N &lt;int&gt; | valX_M &lt;dbl&gt; | valX_SD &lt;dbl&gt; | valX_SE &lt;dbl&gt; |\n",
       "|---|---|---|---|---|\n",
       "| noun_F | 42 | 1.801751 | 1.514716 | 0.2337258 |\n",
       "| noun_M | 42 | 1.631761 | 1.335056 | 0.2060036 |\n",
       "| verb_X | 42 | 1.819825 | 1.542495 | 0.2380122 |\n",
       "\n"
      ],
      "text/plain": [
       "  cond0  N  valX_M   valX_SD  valX_SE  \n",
       "1 noun_F 42 1.801751 1.514716 0.2337258\n",
       "2 noun_M 42 1.631761 1.335056 0.2060036\n",
       "3 verb_X 42 1.819825 1.542495 0.2380122"
      ]
     },
     "metadata": {},
     "output_type": "display_data"
    },
    {
     "data": {
      "text/markdown": [
       "### Expected marginal means"
      ]
     },
     "metadata": {},
     "output_type": "display_data"
    },
    {
     "data": {
      "text/html": [
       "<table>\n",
       "<caption>A apa_results_table: 3 × 5</caption>\n",
       "<thead>\n",
       "\t<tr><th></th><th scope=col>cond0</th><th scope=col>estimate</th><th scope=col>ci</th><th scope=col>statistic</th><th scope=col>p.value</th></tr>\n",
       "\t<tr><th></th><th scope=col>&lt;chr&gt;</th><th scope=col>&lt;ppj_lbll&gt;</th><th scope=col>&lt;ppj_lbll&gt;</th><th scope=col>&lt;ppj_lbll&gt;</th><th scope=col>&lt;ppj_lbll&gt;</th></tr>\n",
       "</thead>\n",
       "<tbody>\n",
       "\t<tr><th scope=row>noun_F</th><td>noun_F</td><td>1.80</td><td>$[1.35$, $2.26]$</td><td>7.96</td><td>&lt; .001</td></tr>\n",
       "\t<tr><th scope=row>noun_M</th><td>noun_M</td><td>1.63</td><td>$[1.18$, $2.09]$</td><td>7.21</td><td>&lt; .001</td></tr>\n",
       "\t<tr><th scope=row>verb_X</th><td>verb_X</td><td>1.82</td><td>$[1.36$, $2.28]$</td><td>8.04</td><td>&lt; .001</td></tr>\n",
       "</tbody>\n",
       "</table>\n"
      ],
      "text/latex": [
       "A apa\\_results\\_table: 3 × 5\n",
       "\\begin{tabular}{r|lllll}\n",
       "  & cond0 & estimate & ci & statistic & p.value\\\\\n",
       "  & <chr> & <ppj\\_lbll> & <ppj\\_lbll> & <ppj\\_lbll> & <ppj\\_lbll>\\\\\n",
       "\\hline\n",
       "\tnoun\\_F & noun\\_F & 1.80 & \\${[}1.35\\$, \\$2.26{]}\\$ & 7.96 & < .001\\\\\n",
       "\tnoun\\_M & noun\\_M & 1.63 & \\${[}1.18\\$, \\$2.09{]}\\$ & 7.21 & < .001\\\\\n",
       "\tverb\\_X & verb\\_X & 1.82 & \\${[}1.36\\$, \\$2.28{]}\\$ & 8.04 & < .001\\\\\n",
       "\\end{tabular}\n"
      ],
      "text/markdown": [
       "\n",
       "A apa_results_table: 3 × 5\n",
       "\n",
       "| <!--/--> | cond0 &lt;chr&gt; | estimate &lt;ppj_lbll&gt; | ci &lt;ppj_lbll&gt; | statistic &lt;ppj_lbll&gt; | p.value &lt;ppj_lbll&gt; |\n",
       "|---|---|---|---|---|---|\n",
       "| noun_F | noun_F | 1.80 | $[1.35$, $2.26]$ | 7.96 | &lt; .001 |\n",
       "| noun_M | noun_M | 1.63 | $[1.18$, $2.09]$ | 7.21 | &lt; .001 |\n",
       "| verb_X | verb_X | 1.82 | $[1.36$, $2.28]$ | 8.04 | &lt; .001 |\n",
       "\n"
      ],
      "text/plain": [
       "       cond0  estimate ci               statistic p.value\n",
       "noun_F noun_F 1.80     $[1.35$, $2.26]$ 7.96      < .001 \n",
       "noun_M noun_M 1.63     $[1.18$, $2.09]$ 7.21      < .001 \n",
       "verb_X verb_X 1.82     $[1.36$, $2.28]$ 8.04      < .001 "
      ]
     },
     "metadata": {},
     "output_type": "display_data"
    },
    {
     "data": {
      "text/markdown": [
       "### Paired comparisons for expected marginal means"
      ]
     },
     "metadata": {},
     "output_type": "display_data"
    },
    {
     "data": {
      "text/html": [
       "<table>\n",
       "<caption>A apa_results_table: 3 × 5</caption>\n",
       "<thead>\n",
       "\t<tr><th></th><th scope=col>contrast</th><th scope=col>estimate</th><th scope=col>ci</th><th scope=col>statistic</th><th scope=col>p.value</th></tr>\n",
       "\t<tr><th></th><th scope=col>&lt;ppj_lbll&gt;</th><th scope=col>&lt;ppj_lbll&gt;</th><th scope=col>&lt;ppj_lbll&gt;</th><th scope=col>&lt;ppj_lbll&gt;</th><th scope=col>&lt;ppj_lbll&gt;</th></tr>\n",
       "</thead>\n",
       "<tbody>\n",
       "\t<tr><th scope=row>noun_F_noun_M</th><td>noun_F - noun_M</td><td>0.17 </td><td>$[-0.07$, $0.41]$</td><td>1.68 </td><td>.220</td></tr>\n",
       "\t<tr><th scope=row>noun_F_verb_X</th><td>noun_F - verb_X</td><td>-0.02</td><td>$[-0.26$, $0.22]$</td><td>-0.18</td><td>.983</td></tr>\n",
       "\t<tr><th scope=row>noun_M_verb_X</th><td>noun_M - verb_X</td><td>-0.19</td><td>$[-0.43$, $0.05]$</td><td>-1.86</td><td>.158</td></tr>\n",
       "</tbody>\n",
       "</table>\n"
      ],
      "text/latex": [
       "A apa\\_results\\_table: 3 × 5\n",
       "\\begin{tabular}{r|lllll}\n",
       "  & contrast & estimate & ci & statistic & p.value\\\\\n",
       "  & <ppj\\_lbll> & <ppj\\_lbll> & <ppj\\_lbll> & <ppj\\_lbll> & <ppj\\_lbll>\\\\\n",
       "\\hline\n",
       "\tnoun\\_F\\_noun\\_M & noun\\_F - noun\\_M & 0.17  & \\${[}-0.07\\$, \\$0.41{]}\\$ & 1.68  & .220\\\\\n",
       "\tnoun\\_F\\_verb\\_X & noun\\_F - verb\\_X & -0.02 & \\${[}-0.26\\$, \\$0.22{]}\\$ & -0.18 & .983\\\\\n",
       "\tnoun\\_M\\_verb\\_X & noun\\_M - verb\\_X & -0.19 & \\${[}-0.43\\$, \\$0.05{]}\\$ & -1.86 & .158\\\\\n",
       "\\end{tabular}\n"
      ],
      "text/markdown": [
       "\n",
       "A apa_results_table: 3 × 5\n",
       "\n",
       "| <!--/--> | contrast &lt;ppj_lbll&gt; | estimate &lt;ppj_lbll&gt; | ci &lt;ppj_lbll&gt; | statistic &lt;ppj_lbll&gt; | p.value &lt;ppj_lbll&gt; |\n",
       "|---|---|---|---|---|---|\n",
       "| noun_F_noun_M | noun_F - noun_M | 0.17  | $[-0.07$, $0.41]$ | 1.68  | .220 |\n",
       "| noun_F_verb_X | noun_F - verb_X | -0.02 | $[-0.26$, $0.22]$ | -0.18 | .983 |\n",
       "| noun_M_verb_X | noun_M - verb_X | -0.19 | $[-0.43$, $0.05]$ | -1.86 | .158 |\n",
       "\n"
      ],
      "text/plain": [
       "              contrast        estimate ci                statistic p.value\n",
       "noun_F_noun_M noun_F - noun_M 0.17     $[-0.07$, $0.41]$ 1.68      .220   \n",
       "noun_F_verb_X noun_F - verb_X -0.02    $[-0.26$, $0.22]$ -0.18     .983   \n",
       "noun_M_verb_X noun_M - verb_X -0.19    $[-0.43$, $0.05]$ -1.86     .158   "
      ]
     },
     "metadata": {},
     "output_type": "display_data"
    }
   ],
   "source": [
    "IDX <- IDX+1; COND <- CONDS[IDX]\n",
    "data1 <- droplevels(subset(df1, eval(parse(text=COND)))); data1 <- data1[complete.cases(data1),]; done1 <- AOV4(data1,COND)\n",
    "display_markdown(str_c(\"# Condition \",IDX,\" of \",length(CONDS))); display_markdown(done1$info); display_markdown(\"### Table\"); done1$aov_APA$table; display_markdown(\"### Result\"); display_markdown(done1$aov_APA[[\"full_result\"]][[\"cond0\"]]); display_markdown(\"### Summary (all done1, incl. NANs)\"); done1$summary; display_markdown(\"### Expected marginal means\"); done1$emm_APA$table; display_markdown(\"### Paired comparisons for expected marginal means\"); done1$pairs_APA$table"
   ]
  },
  {
   "cell_type": "code",
   "execution_count": 199,
   "metadata": {},
   "outputs": [
    {
     "data": {
      "text/markdown": [
       "# Condition 32 of 72"
      ]
     },
     "metadata": {},
     "output_type": "display_data"
    },
    {
     "data": {
      "text/markdown": [
       "`tmin0==0.35 & chan0==\"RC\" & mode0==\"neg\"`"
      ]
     },
     "metadata": {},
     "output_type": "display_data"
    },
    {
     "data": {
      "text/markdown": [
       "### Table"
      ]
     },
     "metadata": {},
     "output_type": "display_data"
    },
    {
     "data": {
      "text/html": [
       "<table>\n",
       "<caption>A apa_results_table: 1 × 7</caption>\n",
       "<thead>\n",
       "\t<tr><th></th><th scope=col>Effect</th><th scope=col>F</th><th scope=col>df1</th><th scope=col>df2</th><th scope=col>MSE</th><th scope=col>p</th><th scope=col>ges</th></tr>\n",
       "\t<tr><th></th><th scope=col>&lt;ppj_lbll&gt;</th><th scope=col>&lt;ppj_lbll&gt;</th><th scope=col>&lt;ppj_lbll&gt;</th><th scope=col>&lt;ppj_lbll&gt;</th><th scope=col>&lt;ppj_lbll&gt;</th><th scope=col>&lt;ppj_lbll&gt;</th><th scope=col>&lt;ppj_lbll&gt;</th></tr>\n",
       "</thead>\n",
       "<tbody>\n",
       "\t<tr><th scope=row>1</th><td>Cond0</td><td>5.24</td><td>1.74</td><td>71.54</td><td>0.33</td><td>.010</td><td>.011</td></tr>\n",
       "</tbody>\n",
       "</table>\n"
      ],
      "text/latex": [
       "A apa\\_results\\_table: 1 × 7\n",
       "\\begin{tabular}{r|lllllll}\n",
       "  & Effect & F & df1 & df2 & MSE & p & ges\\\\\n",
       "  & <ppj\\_lbll> & <ppj\\_lbll> & <ppj\\_lbll> & <ppj\\_lbll> & <ppj\\_lbll> & <ppj\\_lbll> & <ppj\\_lbll>\\\\\n",
       "\\hline\n",
       "\t1 & Cond0 & 5.24 & 1.74 & 71.54 & 0.33 & .010 & .011\\\\\n",
       "\\end{tabular}\n"
      ],
      "text/markdown": [
       "\n",
       "A apa_results_table: 1 × 7\n",
       "\n",
       "| <!--/--> | Effect &lt;ppj_lbll&gt; | F &lt;ppj_lbll&gt; | df1 &lt;ppj_lbll&gt; | df2 &lt;ppj_lbll&gt; | MSE &lt;ppj_lbll&gt; | p &lt;ppj_lbll&gt; | ges &lt;ppj_lbll&gt; |\n",
       "|---|---|---|---|---|---|---|---|\n",
       "| 1 | Cond0 | 5.24 | 1.74 | 71.54 | 0.33 | .010 | .011 |\n",
       "\n"
      ],
      "text/plain": [
       "  Effect F    df1  df2   MSE  p    ges \n",
       "1 Cond0  5.24 1.74 71.54 0.33 .010 .011"
      ]
     },
     "metadata": {},
     "output_type": "display_data"
    },
    {
     "data": {
      "text/markdown": [
       "### Result"
      ]
     },
     "metadata": {},
     "output_type": "display_data"
    },
    {
     "data": {
      "text/markdown": [
       "$F(1.74, 71.54) = 5.24$, $\\mathit{MSE} = 0.33$, $p = .010$, $\\hat{\\eta}^2_G = .011$"
      ]
     },
     "metadata": {},
     "output_type": "display_data"
    },
    {
     "data": {
      "text/markdown": [
       "### Summary (all done1, incl. NANs)"
      ]
     },
     "metadata": {},
     "output_type": "display_data"
    },
    {
     "data": {
      "text/html": [
       "<table>\n",
       "<caption>A tibble: 3 × 5</caption>\n",
       "<thead>\n",
       "\t<tr><th scope=col>cond0</th><th scope=col>N</th><th scope=col>valX_M</th><th scope=col>valX_SD</th><th scope=col>valX_SE</th></tr>\n",
       "\t<tr><th scope=col>&lt;fct&gt;</th><th scope=col>&lt;int&gt;</th><th scope=col>&lt;dbl&gt;</th><th scope=col>&lt;dbl&gt;</th><th scope=col>&lt;dbl&gt;</th></tr>\n",
       "</thead>\n",
       "<tbody>\n",
       "\t<tr><td>noun_F</td><td>42</td><td>0.3926471</td><td>1.540043</td><td>0.2376337</td></tr>\n",
       "\t<tr><td>noun_M</td><td>42</td><td>0.1830027</td><td>1.497887</td><td>0.2311290</td></tr>\n",
       "\t<tr><td>verb_X</td><td>42</td><td>0.5632380</td><td>1.512045</td><td>0.2333137</td></tr>\n",
       "</tbody>\n",
       "</table>\n"
      ],
      "text/latex": [
       "A tibble: 3 × 5\n",
       "\\begin{tabular}{lllll}\n",
       " cond0 & N & valX\\_M & valX\\_SD & valX\\_SE\\\\\n",
       " <fct> & <int> & <dbl> & <dbl> & <dbl>\\\\\n",
       "\\hline\n",
       "\t noun\\_F & 42 & 0.3926471 & 1.540043 & 0.2376337\\\\\n",
       "\t noun\\_M & 42 & 0.1830027 & 1.497887 & 0.2311290\\\\\n",
       "\t verb\\_X & 42 & 0.5632380 & 1.512045 & 0.2333137\\\\\n",
       "\\end{tabular}\n"
      ],
      "text/markdown": [
       "\n",
       "A tibble: 3 × 5\n",
       "\n",
       "| cond0 &lt;fct&gt; | N &lt;int&gt; | valX_M &lt;dbl&gt; | valX_SD &lt;dbl&gt; | valX_SE &lt;dbl&gt; |\n",
       "|---|---|---|---|---|\n",
       "| noun_F | 42 | 0.3926471 | 1.540043 | 0.2376337 |\n",
       "| noun_M | 42 | 0.1830027 | 1.497887 | 0.2311290 |\n",
       "| verb_X | 42 | 0.5632380 | 1.512045 | 0.2333137 |\n",
       "\n"
      ],
      "text/plain": [
       "  cond0  N  valX_M    valX_SD  valX_SE  \n",
       "1 noun_F 42 0.3926471 1.540043 0.2376337\n",
       "2 noun_M 42 0.1830027 1.497887 0.2311290\n",
       "3 verb_X 42 0.5632380 1.512045 0.2333137"
      ]
     },
     "metadata": {},
     "output_type": "display_data"
    },
    {
     "data": {
      "text/markdown": [
       "### Expected marginal means"
      ]
     },
     "metadata": {},
     "output_type": "display_data"
    },
    {
     "data": {
      "text/html": [
       "<table>\n",
       "<caption>A apa_results_table: 3 × 5</caption>\n",
       "<thead>\n",
       "\t<tr><th></th><th scope=col>cond0</th><th scope=col>estimate</th><th scope=col>ci</th><th scope=col>statistic</th><th scope=col>p.value</th></tr>\n",
       "\t<tr><th></th><th scope=col>&lt;chr&gt;</th><th scope=col>&lt;ppj_lbll&gt;</th><th scope=col>&lt;ppj_lbll&gt;</th><th scope=col>&lt;ppj_lbll&gt;</th><th scope=col>&lt;ppj_lbll&gt;</th></tr>\n",
       "</thead>\n",
       "<tbody>\n",
       "\t<tr><th scope=row>noun_F</th><td>noun_F</td><td>0.39</td><td>$[-0.08$, $0.86]$</td><td>1.68</td><td>.100</td></tr>\n",
       "\t<tr><th scope=row>noun_M</th><td>noun_M</td><td>0.18</td><td>$[-0.29$, $0.65]$</td><td>0.78</td><td>.438</td></tr>\n",
       "\t<tr><th scope=row>verb_X</th><td>verb_X</td><td>0.56</td><td>$[0.09$, $1.03]$ </td><td>2.41</td><td>.020</td></tr>\n",
       "</tbody>\n",
       "</table>\n"
      ],
      "text/latex": [
       "A apa\\_results\\_table: 3 × 5\n",
       "\\begin{tabular}{r|lllll}\n",
       "  & cond0 & estimate & ci & statistic & p.value\\\\\n",
       "  & <chr> & <ppj\\_lbll> & <ppj\\_lbll> & <ppj\\_lbll> & <ppj\\_lbll>\\\\\n",
       "\\hline\n",
       "\tnoun\\_F & noun\\_F & 0.39 & \\${[}-0.08\\$, \\$0.86{]}\\$ & 1.68 & .100\\\\\n",
       "\tnoun\\_M & noun\\_M & 0.18 & \\${[}-0.29\\$, \\$0.65{]}\\$ & 0.78 & .438\\\\\n",
       "\tverb\\_X & verb\\_X & 0.56 & \\${[}0.09\\$, \\$1.03{]}\\$  & 2.41 & .020\\\\\n",
       "\\end{tabular}\n"
      ],
      "text/markdown": [
       "\n",
       "A apa_results_table: 3 × 5\n",
       "\n",
       "| <!--/--> | cond0 &lt;chr&gt; | estimate &lt;ppj_lbll&gt; | ci &lt;ppj_lbll&gt; | statistic &lt;ppj_lbll&gt; | p.value &lt;ppj_lbll&gt; |\n",
       "|---|---|---|---|---|---|\n",
       "| noun_F | noun_F | 0.39 | $[-0.08$, $0.86]$ | 1.68 | .100 |\n",
       "| noun_M | noun_M | 0.18 | $[-0.29$, $0.65]$ | 0.78 | .438 |\n",
       "| verb_X | verb_X | 0.56 | $[0.09$, $1.03]$  | 2.41 | .020 |\n",
       "\n"
      ],
      "text/plain": [
       "       cond0  estimate ci                statistic p.value\n",
       "noun_F noun_F 0.39     $[-0.08$, $0.86]$ 1.68      .100   \n",
       "noun_M noun_M 0.18     $[-0.29$, $0.65]$ 0.78      .438   \n",
       "verb_X verb_X 0.56     $[0.09$, $1.03]$  2.41      .020   "
      ]
     },
     "metadata": {},
     "output_type": "display_data"
    },
    {
     "data": {
      "text/markdown": [
       "### Paired comparisons for expected marginal means"
      ]
     },
     "metadata": {},
     "output_type": "display_data"
    },
    {
     "data": {
      "text/html": [
       "<table>\n",
       "<caption>A apa_results_table: 3 × 5</caption>\n",
       "<thead>\n",
       "\t<tr><th></th><th scope=col>contrast</th><th scope=col>estimate</th><th scope=col>ci</th><th scope=col>statistic</th><th scope=col>p.value</th></tr>\n",
       "\t<tr><th></th><th scope=col>&lt;ppj_lbll&gt;</th><th scope=col>&lt;ppj_lbll&gt;</th><th scope=col>&lt;ppj_lbll&gt;</th><th scope=col>&lt;ppj_lbll&gt;</th><th scope=col>&lt;ppj_lbll&gt;</th></tr>\n",
       "</thead>\n",
       "<tbody>\n",
       "\t<tr><th scope=row>noun_F_noun_M</th><td>noun_F - noun_M</td><td>0.21 </td><td>$[-0.07$, $0.49]$ </td><td>1.78 </td><td>.182</td></tr>\n",
       "\t<tr><th scope=row>noun_F_verb_X</th><td>noun_F - verb_X</td><td>-0.17</td><td>$[-0.45$, $0.11]$ </td><td>-1.45</td><td>.321</td></tr>\n",
       "\t<tr><th scope=row>noun_M_verb_X</th><td>noun_M - verb_X</td><td>-0.38</td><td>$[-0.66$, $-0.10]$</td><td>-3.23</td><td>.005</td></tr>\n",
       "</tbody>\n",
       "</table>\n"
      ],
      "text/latex": [
       "A apa\\_results\\_table: 3 × 5\n",
       "\\begin{tabular}{r|lllll}\n",
       "  & contrast & estimate & ci & statistic & p.value\\\\\n",
       "  & <ppj\\_lbll> & <ppj\\_lbll> & <ppj\\_lbll> & <ppj\\_lbll> & <ppj\\_lbll>\\\\\n",
       "\\hline\n",
       "\tnoun\\_F\\_noun\\_M & noun\\_F - noun\\_M & 0.21  & \\${[}-0.07\\$, \\$0.49{]}\\$  & 1.78  & .182\\\\\n",
       "\tnoun\\_F\\_verb\\_X & noun\\_F - verb\\_X & -0.17 & \\${[}-0.45\\$, \\$0.11{]}\\$  & -1.45 & .321\\\\\n",
       "\tnoun\\_M\\_verb\\_X & noun\\_M - verb\\_X & -0.38 & \\${[}-0.66\\$, \\$-0.10{]}\\$ & -3.23 & .005\\\\\n",
       "\\end{tabular}\n"
      ],
      "text/markdown": [
       "\n",
       "A apa_results_table: 3 × 5\n",
       "\n",
       "| <!--/--> | contrast &lt;ppj_lbll&gt; | estimate &lt;ppj_lbll&gt; | ci &lt;ppj_lbll&gt; | statistic &lt;ppj_lbll&gt; | p.value &lt;ppj_lbll&gt; |\n",
       "|---|---|---|---|---|---|\n",
       "| noun_F_noun_M | noun_F - noun_M | 0.21  | $[-0.07$, $0.49]$  | 1.78  | .182 |\n",
       "| noun_F_verb_X | noun_F - verb_X | -0.17 | $[-0.45$, $0.11]$  | -1.45 | .321 |\n",
       "| noun_M_verb_X | noun_M - verb_X | -0.38 | $[-0.66$, $-0.10]$ | -3.23 | .005 |\n",
       "\n"
      ],
      "text/plain": [
       "              contrast        estimate ci                 statistic p.value\n",
       "noun_F_noun_M noun_F - noun_M 0.21     $[-0.07$, $0.49]$  1.78      .182   \n",
       "noun_F_verb_X noun_F - verb_X -0.17    $[-0.45$, $0.11]$  -1.45     .321   \n",
       "noun_M_verb_X noun_M - verb_X -0.38    $[-0.66$, $-0.10]$ -3.23     .005   "
      ]
     },
     "metadata": {},
     "output_type": "display_data"
    }
   ],
   "source": [
    "IDX <- IDX+1; COND <- CONDS[IDX]\n",
    "data1 <- droplevels(subset(df1, eval(parse(text=COND)))); data1 <- data1[complete.cases(data1),]; done1 <- AOV4(data1,COND)\n",
    "display_markdown(str_c(\"# Condition \",IDX,\" of \",length(CONDS))); display_markdown(done1$info); display_markdown(\"### Table\"); done1$aov_APA$table; display_markdown(\"### Result\"); display_markdown(done1$aov_APA[[\"full_result\"]][[\"cond0\"]]); display_markdown(\"### Summary (all done1, incl. NANs)\"); done1$summary; display_markdown(\"### Expected marginal means\"); done1$emm_APA$table; display_markdown(\"### Paired comparisons for expected marginal means\"); done1$pairs_APA$table"
   ]
  },
  {
   "cell_type": "code",
   "execution_count": 200,
   "metadata": {},
   "outputs": [
    {
     "data": {
      "text/markdown": [
       "# Condition 33 of 72"
      ]
     },
     "metadata": {},
     "output_type": "display_data"
    },
    {
     "data": {
      "text/markdown": [
       "`tmin0==0.35 & chan0==\"LP\" & mode0==\"pos\"`"
      ]
     },
     "metadata": {},
     "output_type": "display_data"
    },
    {
     "data": {
      "text/markdown": [
       "### Table"
      ]
     },
     "metadata": {},
     "output_type": "display_data"
    },
    {
     "data": {
      "text/html": [
       "<table>\n",
       "<caption>A apa_results_table: 1 × 7</caption>\n",
       "<thead>\n",
       "\t<tr><th></th><th scope=col>Effect</th><th scope=col>F</th><th scope=col>df1</th><th scope=col>df2</th><th scope=col>MSE</th><th scope=col>p</th><th scope=col>ges</th></tr>\n",
       "\t<tr><th></th><th scope=col>&lt;ppj_lbll&gt;</th><th scope=col>&lt;ppj_lbll&gt;</th><th scope=col>&lt;ppj_lbll&gt;</th><th scope=col>&lt;ppj_lbll&gt;</th><th scope=col>&lt;ppj_lbll&gt;</th><th scope=col>&lt;ppj_lbll&gt;</th><th scope=col>&lt;ppj_lbll&gt;</th></tr>\n",
       "</thead>\n",
       "<tbody>\n",
       "\t<tr><th scope=row>1</th><td>Cond0</td><td>1.61</td><td>1.82</td><td>74.63</td><td>0.45</td><td>.208</td><td>.002</td></tr>\n",
       "</tbody>\n",
       "</table>\n"
      ],
      "text/latex": [
       "A apa\\_results\\_table: 1 × 7\n",
       "\\begin{tabular}{r|lllllll}\n",
       "  & Effect & F & df1 & df2 & MSE & p & ges\\\\\n",
       "  & <ppj\\_lbll> & <ppj\\_lbll> & <ppj\\_lbll> & <ppj\\_lbll> & <ppj\\_lbll> & <ppj\\_lbll> & <ppj\\_lbll>\\\\\n",
       "\\hline\n",
       "\t1 & Cond0 & 1.61 & 1.82 & 74.63 & 0.45 & .208 & .002\\\\\n",
       "\\end{tabular}\n"
      ],
      "text/markdown": [
       "\n",
       "A apa_results_table: 1 × 7\n",
       "\n",
       "| <!--/--> | Effect &lt;ppj_lbll&gt; | F &lt;ppj_lbll&gt; | df1 &lt;ppj_lbll&gt; | df2 &lt;ppj_lbll&gt; | MSE &lt;ppj_lbll&gt; | p &lt;ppj_lbll&gt; | ges &lt;ppj_lbll&gt; |\n",
       "|---|---|---|---|---|---|---|---|\n",
       "| 1 | Cond0 | 1.61 | 1.82 | 74.63 | 0.45 | .208 | .002 |\n",
       "\n"
      ],
      "text/plain": [
       "  Effect F    df1  df2   MSE  p    ges \n",
       "1 Cond0  1.61 1.82 74.63 0.45 .208 .002"
      ]
     },
     "metadata": {},
     "output_type": "display_data"
    },
    {
     "data": {
      "text/markdown": [
       "### Result"
      ]
     },
     "metadata": {},
     "output_type": "display_data"
    },
    {
     "data": {
      "text/markdown": [
       "$F(1.82, 74.63) = 1.61$, $\\mathit{MSE} = 0.45$, $p = .208$, $\\hat{\\eta}^2_G = .002$"
      ]
     },
     "metadata": {},
     "output_type": "display_data"
    },
    {
     "data": {
      "text/markdown": [
       "### Summary (all done1, incl. NANs)"
      ]
     },
     "metadata": {},
     "output_type": "display_data"
    },
    {
     "data": {
      "text/html": [
       "<table>\n",
       "<caption>A tibble: 3 × 5</caption>\n",
       "<thead>\n",
       "\t<tr><th scope=col>cond0</th><th scope=col>N</th><th scope=col>valX_M</th><th scope=col>valX_SD</th><th scope=col>valX_SE</th></tr>\n",
       "\t<tr><th scope=col>&lt;fct&gt;</th><th scope=col>&lt;int&gt;</th><th scope=col>&lt;dbl&gt;</th><th scope=col>&lt;dbl&gt;</th><th scope=col>&lt;dbl&gt;</th></tr>\n",
       "</thead>\n",
       "<tbody>\n",
       "\t<tr><td>noun_F</td><td>42</td><td>3.018245</td><td>2.458999</td><td>0.3794318</td></tr>\n",
       "\t<tr><td>noun_M</td><td>42</td><td>3.179876</td><td>2.032700</td><td>0.3136524</td></tr>\n",
       "\t<tr><td>verb_X</td><td>42</td><td>2.933987</td><td>2.314439</td><td>0.3571257</td></tr>\n",
       "</tbody>\n",
       "</table>\n"
      ],
      "text/latex": [
       "A tibble: 3 × 5\n",
       "\\begin{tabular}{lllll}\n",
       " cond0 & N & valX\\_M & valX\\_SD & valX\\_SE\\\\\n",
       " <fct> & <int> & <dbl> & <dbl> & <dbl>\\\\\n",
       "\\hline\n",
       "\t noun\\_F & 42 & 3.018245 & 2.458999 & 0.3794318\\\\\n",
       "\t noun\\_M & 42 & 3.179876 & 2.032700 & 0.3136524\\\\\n",
       "\t verb\\_X & 42 & 2.933987 & 2.314439 & 0.3571257\\\\\n",
       "\\end{tabular}\n"
      ],
      "text/markdown": [
       "\n",
       "A tibble: 3 × 5\n",
       "\n",
       "| cond0 &lt;fct&gt; | N &lt;int&gt; | valX_M &lt;dbl&gt; | valX_SD &lt;dbl&gt; | valX_SE &lt;dbl&gt; |\n",
       "|---|---|---|---|---|\n",
       "| noun_F | 42 | 3.018245 | 2.458999 | 0.3794318 |\n",
       "| noun_M | 42 | 3.179876 | 2.032700 | 0.3136524 |\n",
       "| verb_X | 42 | 2.933987 | 2.314439 | 0.3571257 |\n",
       "\n"
      ],
      "text/plain": [
       "  cond0  N  valX_M   valX_SD  valX_SE  \n",
       "1 noun_F 42 3.018245 2.458999 0.3794318\n",
       "2 noun_M 42 3.179876 2.032700 0.3136524\n",
       "3 verb_X 42 2.933987 2.314439 0.3571257"
      ]
     },
     "metadata": {},
     "output_type": "display_data"
    },
    {
     "data": {
      "text/markdown": [
       "### Expected marginal means"
      ]
     },
     "metadata": {},
     "output_type": "display_data"
    },
    {
     "data": {
      "text/html": [
       "<table>\n",
       "<caption>A apa_results_table: 3 × 5</caption>\n",
       "<thead>\n",
       "\t<tr><th></th><th scope=col>cond0</th><th scope=col>estimate</th><th scope=col>ci</th><th scope=col>statistic</th><th scope=col>p.value</th></tr>\n",
       "\t<tr><th></th><th scope=col>&lt;chr&gt;</th><th scope=col>&lt;ppj_lbll&gt;</th><th scope=col>&lt;ppj_lbll&gt;</th><th scope=col>&lt;ppj_lbll&gt;</th><th scope=col>&lt;ppj_lbll&gt;</th></tr>\n",
       "</thead>\n",
       "<tbody>\n",
       "\t<tr><th scope=row>noun_F</th><td>noun_F</td><td>3.02</td><td>$[2.31$, $3.73]$</td><td>8.60</td><td>&lt; .001</td></tr>\n",
       "\t<tr><th scope=row>noun_M</th><td>noun_M</td><td>3.18</td><td>$[2.47$, $3.89]$</td><td>9.06</td><td>&lt; .001</td></tr>\n",
       "\t<tr><th scope=row>verb_X</th><td>verb_X</td><td>2.93</td><td>$[2.23$, $3.64]$</td><td>8.36</td><td>&lt; .001</td></tr>\n",
       "</tbody>\n",
       "</table>\n"
      ],
      "text/latex": [
       "A apa\\_results\\_table: 3 × 5\n",
       "\\begin{tabular}{r|lllll}\n",
       "  & cond0 & estimate & ci & statistic & p.value\\\\\n",
       "  & <chr> & <ppj\\_lbll> & <ppj\\_lbll> & <ppj\\_lbll> & <ppj\\_lbll>\\\\\n",
       "\\hline\n",
       "\tnoun\\_F & noun\\_F & 3.02 & \\${[}2.31\\$, \\$3.73{]}\\$ & 8.60 & < .001\\\\\n",
       "\tnoun\\_M & noun\\_M & 3.18 & \\${[}2.47\\$, \\$3.89{]}\\$ & 9.06 & < .001\\\\\n",
       "\tverb\\_X & verb\\_X & 2.93 & \\${[}2.23\\$, \\$3.64{]}\\$ & 8.36 & < .001\\\\\n",
       "\\end{tabular}\n"
      ],
      "text/markdown": [
       "\n",
       "A apa_results_table: 3 × 5\n",
       "\n",
       "| <!--/--> | cond0 &lt;chr&gt; | estimate &lt;ppj_lbll&gt; | ci &lt;ppj_lbll&gt; | statistic &lt;ppj_lbll&gt; | p.value &lt;ppj_lbll&gt; |\n",
       "|---|---|---|---|---|---|\n",
       "| noun_F | noun_F | 3.02 | $[2.31$, $3.73]$ | 8.60 | &lt; .001 |\n",
       "| noun_M | noun_M | 3.18 | $[2.47$, $3.89]$ | 9.06 | &lt; .001 |\n",
       "| verb_X | verb_X | 2.93 | $[2.23$, $3.64]$ | 8.36 | &lt; .001 |\n",
       "\n"
      ],
      "text/plain": [
       "       cond0  estimate ci               statistic p.value\n",
       "noun_F noun_F 3.02     $[2.31$, $3.73]$ 8.60      < .001 \n",
       "noun_M noun_M 3.18     $[2.47$, $3.89]$ 9.06      < .001 \n",
       "verb_X verb_X 2.93     $[2.23$, $3.64]$ 8.36      < .001 "
      ]
     },
     "metadata": {},
     "output_type": "display_data"
    },
    {
     "data": {
      "text/markdown": [
       "### Paired comparisons for expected marginal means"
      ]
     },
     "metadata": {},
     "output_type": "display_data"
    },
    {
     "data": {
      "text/html": [
       "<table>\n",
       "<caption>A apa_results_table: 3 × 5</caption>\n",
       "<thead>\n",
       "\t<tr><th></th><th scope=col>contrast</th><th scope=col>estimate</th><th scope=col>ci</th><th scope=col>statistic</th><th scope=col>p.value</th></tr>\n",
       "\t<tr><th></th><th scope=col>&lt;ppj_lbll&gt;</th><th scope=col>&lt;ppj_lbll&gt;</th><th scope=col>&lt;ppj_lbll&gt;</th><th scope=col>&lt;ppj_lbll&gt;</th><th scope=col>&lt;ppj_lbll&gt;</th></tr>\n",
       "</thead>\n",
       "<tbody>\n",
       "\t<tr><th scope=row>noun_F_noun_M</th><td>noun_F - noun_M</td><td>-0.16</td><td>$[-0.49$, $0.17]$</td><td>-1.16</td><td>.479</td></tr>\n",
       "\t<tr><th scope=row>noun_F_verb_X</th><td>noun_F - verb_X</td><td>0.08 </td><td>$[-0.25$, $0.42]$</td><td>0.61 </td><td>.818</td></tr>\n",
       "\t<tr><th scope=row>noun_M_verb_X</th><td>noun_M - verb_X</td><td>0.25 </td><td>$[-0.09$, $0.58]$</td><td>1.77 </td><td>.187</td></tr>\n",
       "</tbody>\n",
       "</table>\n"
      ],
      "text/latex": [
       "A apa\\_results\\_table: 3 × 5\n",
       "\\begin{tabular}{r|lllll}\n",
       "  & contrast & estimate & ci & statistic & p.value\\\\\n",
       "  & <ppj\\_lbll> & <ppj\\_lbll> & <ppj\\_lbll> & <ppj\\_lbll> & <ppj\\_lbll>\\\\\n",
       "\\hline\n",
       "\tnoun\\_F\\_noun\\_M & noun\\_F - noun\\_M & -0.16 & \\${[}-0.49\\$, \\$0.17{]}\\$ & -1.16 & .479\\\\\n",
       "\tnoun\\_F\\_verb\\_X & noun\\_F - verb\\_X & 0.08  & \\${[}-0.25\\$, \\$0.42{]}\\$ & 0.61  & .818\\\\\n",
       "\tnoun\\_M\\_verb\\_X & noun\\_M - verb\\_X & 0.25  & \\${[}-0.09\\$, \\$0.58{]}\\$ & 1.77  & .187\\\\\n",
       "\\end{tabular}\n"
      ],
      "text/markdown": [
       "\n",
       "A apa_results_table: 3 × 5\n",
       "\n",
       "| <!--/--> | contrast &lt;ppj_lbll&gt; | estimate &lt;ppj_lbll&gt; | ci &lt;ppj_lbll&gt; | statistic &lt;ppj_lbll&gt; | p.value &lt;ppj_lbll&gt; |\n",
       "|---|---|---|---|---|---|\n",
       "| noun_F_noun_M | noun_F - noun_M | -0.16 | $[-0.49$, $0.17]$ | -1.16 | .479 |\n",
       "| noun_F_verb_X | noun_F - verb_X | 0.08  | $[-0.25$, $0.42]$ | 0.61  | .818 |\n",
       "| noun_M_verb_X | noun_M - verb_X | 0.25  | $[-0.09$, $0.58]$ | 1.77  | .187 |\n",
       "\n"
      ],
      "text/plain": [
       "              contrast        estimate ci                statistic p.value\n",
       "noun_F_noun_M noun_F - noun_M -0.16    $[-0.49$, $0.17]$ -1.16     .479   \n",
       "noun_F_verb_X noun_F - verb_X 0.08     $[-0.25$, $0.42]$ 0.61      .818   \n",
       "noun_M_verb_X noun_M - verb_X 0.25     $[-0.09$, $0.58]$ 1.77      .187   "
      ]
     },
     "metadata": {},
     "output_type": "display_data"
    }
   ],
   "source": [
    "IDX <- IDX+1; COND <- CONDS[IDX]\n",
    "data1 <- droplevels(subset(df1, eval(parse(text=COND)))); data1 <- data1[complete.cases(data1),]; done1 <- AOV4(data1,COND)\n",
    "display_markdown(str_c(\"# Condition \",IDX,\" of \",length(CONDS))); display_markdown(done1$info); display_markdown(\"### Table\"); done1$aov_APA$table; display_markdown(\"### Result\"); display_markdown(done1$aov_APA[[\"full_result\"]][[\"cond0\"]]); display_markdown(\"### Summary (all done1, incl. NANs)\"); done1$summary; display_markdown(\"### Expected marginal means\"); done1$emm_APA$table; display_markdown(\"### Paired comparisons for expected marginal means\"); done1$pairs_APA$table"
   ]
  },
  {
   "cell_type": "code",
   "execution_count": 201,
   "metadata": {},
   "outputs": [
    {
     "data": {
      "text/markdown": [
       "# Condition 34 of 72"
      ]
     },
     "metadata": {},
     "output_type": "display_data"
    },
    {
     "data": {
      "text/markdown": [
       "`tmin0==0.35 & chan0==\"LP\" & mode0==\"neg\"`"
      ]
     },
     "metadata": {},
     "output_type": "display_data"
    },
    {
     "data": {
      "text/markdown": [
       "### Table"
      ]
     },
     "metadata": {},
     "output_type": "display_data"
    },
    {
     "data": {
      "text/html": [
       "<table>\n",
       "<caption>A apa_results_table: 1 × 7</caption>\n",
       "<thead>\n",
       "\t<tr><th></th><th scope=col>Effect</th><th scope=col>F</th><th scope=col>df1</th><th scope=col>df2</th><th scope=col>MSE</th><th scope=col>p</th><th scope=col>ges</th></tr>\n",
       "\t<tr><th></th><th scope=col>&lt;ppj_lbll&gt;</th><th scope=col>&lt;ppj_lbll&gt;</th><th scope=col>&lt;ppj_lbll&gt;</th><th scope=col>&lt;ppj_lbll&gt;</th><th scope=col>&lt;ppj_lbll&gt;</th><th scope=col>&lt;ppj_lbll&gt;</th><th scope=col>&lt;ppj_lbll&gt;</th></tr>\n",
       "</thead>\n",
       "<tbody>\n",
       "\t<tr><th scope=row>1</th><td>Cond0</td><td>4.25</td><td>1.81</td><td>74.22</td><td>0.59</td><td>.021</td><td>.008</td></tr>\n",
       "</tbody>\n",
       "</table>\n"
      ],
      "text/latex": [
       "A apa\\_results\\_table: 1 × 7\n",
       "\\begin{tabular}{r|lllllll}\n",
       "  & Effect & F & df1 & df2 & MSE & p & ges\\\\\n",
       "  & <ppj\\_lbll> & <ppj\\_lbll> & <ppj\\_lbll> & <ppj\\_lbll> & <ppj\\_lbll> & <ppj\\_lbll> & <ppj\\_lbll>\\\\\n",
       "\\hline\n",
       "\t1 & Cond0 & 4.25 & 1.81 & 74.22 & 0.59 & .021 & .008\\\\\n",
       "\\end{tabular}\n"
      ],
      "text/markdown": [
       "\n",
       "A apa_results_table: 1 × 7\n",
       "\n",
       "| <!--/--> | Effect &lt;ppj_lbll&gt; | F &lt;ppj_lbll&gt; | df1 &lt;ppj_lbll&gt; | df2 &lt;ppj_lbll&gt; | MSE &lt;ppj_lbll&gt; | p &lt;ppj_lbll&gt; | ges &lt;ppj_lbll&gt; |\n",
       "|---|---|---|---|---|---|---|---|\n",
       "| 1 | Cond0 | 4.25 | 1.81 | 74.22 | 0.59 | .021 | .008 |\n",
       "\n"
      ],
      "text/plain": [
       "  Effect F    df1  df2   MSE  p    ges \n",
       "1 Cond0  4.25 1.81 74.22 0.59 .021 .008"
      ]
     },
     "metadata": {},
     "output_type": "display_data"
    },
    {
     "data": {
      "text/markdown": [
       "### Result"
      ]
     },
     "metadata": {},
     "output_type": "display_data"
    },
    {
     "data": {
      "text/markdown": [
       "$F(1.81, 74.22) = 4.25$, $\\mathit{MSE} = 0.59$, $p = .021$, $\\hat{\\eta}^2_G = .008$"
      ]
     },
     "metadata": {},
     "output_type": "display_data"
    },
    {
     "data": {
      "text/markdown": [
       "### Summary (all done1, incl. NANs)"
      ]
     },
     "metadata": {},
     "output_type": "display_data"
    },
    {
     "data": {
      "text/html": [
       "<table>\n",
       "<caption>A tibble: 3 × 5</caption>\n",
       "<thead>\n",
       "\t<tr><th scope=col>cond0</th><th scope=col>N</th><th scope=col>valX_M</th><th scope=col>valX_SD</th><th scope=col>valX_SE</th></tr>\n",
       "\t<tr><th scope=col>&lt;fct&gt;</th><th scope=col>&lt;int&gt;</th><th scope=col>&lt;dbl&gt;</th><th scope=col>&lt;dbl&gt;</th><th scope=col>&lt;dbl&gt;</th></tr>\n",
       "</thead>\n",
       "<tbody>\n",
       "\t<tr><td>noun_F</td><td>42</td><td>0.8547186</td><td>2.369555</td><td>0.3656303</td></tr>\n",
       "\t<tr><td>noun_M</td><td>42</td><td>1.2097084</td><td>1.972308</td><td>0.3043338</td></tr>\n",
       "\t<tr><td>verb_X</td><td>42</td><td>1.2902751</td><td>2.187197</td><td>0.3374919</td></tr>\n",
       "</tbody>\n",
       "</table>\n"
      ],
      "text/latex": [
       "A tibble: 3 × 5\n",
       "\\begin{tabular}{lllll}\n",
       " cond0 & N & valX\\_M & valX\\_SD & valX\\_SE\\\\\n",
       " <fct> & <int> & <dbl> & <dbl> & <dbl>\\\\\n",
       "\\hline\n",
       "\t noun\\_F & 42 & 0.8547186 & 2.369555 & 0.3656303\\\\\n",
       "\t noun\\_M & 42 & 1.2097084 & 1.972308 & 0.3043338\\\\\n",
       "\t verb\\_X & 42 & 1.2902751 & 2.187197 & 0.3374919\\\\\n",
       "\\end{tabular}\n"
      ],
      "text/markdown": [
       "\n",
       "A tibble: 3 × 5\n",
       "\n",
       "| cond0 &lt;fct&gt; | N &lt;int&gt; | valX_M &lt;dbl&gt; | valX_SD &lt;dbl&gt; | valX_SE &lt;dbl&gt; |\n",
       "|---|---|---|---|---|\n",
       "| noun_F | 42 | 0.8547186 | 2.369555 | 0.3656303 |\n",
       "| noun_M | 42 | 1.2097084 | 1.972308 | 0.3043338 |\n",
       "| verb_X | 42 | 1.2902751 | 2.187197 | 0.3374919 |\n",
       "\n"
      ],
      "text/plain": [
       "  cond0  N  valX_M    valX_SD  valX_SE  \n",
       "1 noun_F 42 0.8547186 2.369555 0.3656303\n",
       "2 noun_M 42 1.2097084 1.972308 0.3043338\n",
       "3 verb_X 42 1.2902751 2.187197 0.3374919"
      ]
     },
     "metadata": {},
     "output_type": "display_data"
    },
    {
     "data": {
      "text/markdown": [
       "### Expected marginal means"
      ]
     },
     "metadata": {},
     "output_type": "display_data"
    },
    {
     "data": {
      "text/html": [
       "<table>\n",
       "<caption>A apa_results_table: 3 × 5</caption>\n",
       "<thead>\n",
       "\t<tr><th></th><th scope=col>cond0</th><th scope=col>estimate</th><th scope=col>ci</th><th scope=col>statistic</th><th scope=col>p.value</th></tr>\n",
       "\t<tr><th></th><th scope=col>&lt;chr&gt;</th><th scope=col>&lt;ppj_lbll&gt;</th><th scope=col>&lt;ppj_lbll&gt;</th><th scope=col>&lt;ppj_lbll&gt;</th><th scope=col>&lt;ppj_lbll&gt;</th></tr>\n",
       "</thead>\n",
       "<tbody>\n",
       "\t<tr><th scope=row>noun_F</th><td>noun_F</td><td>0.85</td><td>$[0.18$, $1.53]$</td><td>2.54</td><td>.014  </td></tr>\n",
       "\t<tr><th scope=row>noun_M</th><td>noun_M</td><td>1.21</td><td>$[0.53$, $1.89]$</td><td>3.59</td><td>.001  </td></tr>\n",
       "\t<tr><th scope=row>verb_X</th><td>verb_X</td><td>1.29</td><td>$[0.61$, $1.97]$</td><td>3.83</td><td>&lt; .001</td></tr>\n",
       "</tbody>\n",
       "</table>\n"
      ],
      "text/latex": [
       "A apa\\_results\\_table: 3 × 5\n",
       "\\begin{tabular}{r|lllll}\n",
       "  & cond0 & estimate & ci & statistic & p.value\\\\\n",
       "  & <chr> & <ppj\\_lbll> & <ppj\\_lbll> & <ppj\\_lbll> & <ppj\\_lbll>\\\\\n",
       "\\hline\n",
       "\tnoun\\_F & noun\\_F & 0.85 & \\${[}0.18\\$, \\$1.53{]}\\$ & 2.54 & .014  \\\\\n",
       "\tnoun\\_M & noun\\_M & 1.21 & \\${[}0.53\\$, \\$1.89{]}\\$ & 3.59 & .001  \\\\\n",
       "\tverb\\_X & verb\\_X & 1.29 & \\${[}0.61\\$, \\$1.97{]}\\$ & 3.83 & < .001\\\\\n",
       "\\end{tabular}\n"
      ],
      "text/markdown": [
       "\n",
       "A apa_results_table: 3 × 5\n",
       "\n",
       "| <!--/--> | cond0 &lt;chr&gt; | estimate &lt;ppj_lbll&gt; | ci &lt;ppj_lbll&gt; | statistic &lt;ppj_lbll&gt; | p.value &lt;ppj_lbll&gt; |\n",
       "|---|---|---|---|---|---|\n",
       "| noun_F | noun_F | 0.85 | $[0.18$, $1.53]$ | 2.54 | .014   |\n",
       "| noun_M | noun_M | 1.21 | $[0.53$, $1.89]$ | 3.59 | .001   |\n",
       "| verb_X | verb_X | 1.29 | $[0.61$, $1.97]$ | 3.83 | &lt; .001 |\n",
       "\n"
      ],
      "text/plain": [
       "       cond0  estimate ci               statistic p.value\n",
       "noun_F noun_F 0.85     $[0.18$, $1.53]$ 2.54      .014   \n",
       "noun_M noun_M 1.21     $[0.53$, $1.89]$ 3.59      .001   \n",
       "verb_X verb_X 1.29     $[0.61$, $1.97]$ 3.83      < .001 "
      ]
     },
     "metadata": {},
     "output_type": "display_data"
    },
    {
     "data": {
      "text/markdown": [
       "### Paired comparisons for expected marginal means"
      ]
     },
     "metadata": {},
     "output_type": "display_data"
    },
    {
     "data": {
      "text/html": [
       "<table>\n",
       "<caption>A apa_results_table: 3 × 5</caption>\n",
       "<thead>\n",
       "\t<tr><th></th><th scope=col>contrast</th><th scope=col>estimate</th><th scope=col>ci</th><th scope=col>statistic</th><th scope=col>p.value</th></tr>\n",
       "\t<tr><th></th><th scope=col>&lt;ppj_lbll&gt;</th><th scope=col>&lt;ppj_lbll&gt;</th><th scope=col>&lt;ppj_lbll&gt;</th><th scope=col>&lt;ppj_lbll&gt;</th><th scope=col>&lt;ppj_lbll&gt;</th></tr>\n",
       "</thead>\n",
       "<tbody>\n",
       "\t<tr><th scope=row>noun_F_noun_M</th><td>noun_F - noun_M</td><td>-0.35</td><td>$[-0.73$, $0.02]$ </td><td>-2.23</td><td>.072</td></tr>\n",
       "\t<tr><th scope=row>noun_F_verb_X</th><td>noun_F - verb_X</td><td>-0.44</td><td>$[-0.82$, $-0.06]$</td><td>-2.74</td><td>.020</td></tr>\n",
       "\t<tr><th scope=row>noun_M_verb_X</th><td>noun_M - verb_X</td><td>-0.08</td><td>$[-0.46$, $0.30]$ </td><td>-0.51</td><td>.868</td></tr>\n",
       "</tbody>\n",
       "</table>\n"
      ],
      "text/latex": [
       "A apa\\_results\\_table: 3 × 5\n",
       "\\begin{tabular}{r|lllll}\n",
       "  & contrast & estimate & ci & statistic & p.value\\\\\n",
       "  & <ppj\\_lbll> & <ppj\\_lbll> & <ppj\\_lbll> & <ppj\\_lbll> & <ppj\\_lbll>\\\\\n",
       "\\hline\n",
       "\tnoun\\_F\\_noun\\_M & noun\\_F - noun\\_M & -0.35 & \\${[}-0.73\\$, \\$0.02{]}\\$  & -2.23 & .072\\\\\n",
       "\tnoun\\_F\\_verb\\_X & noun\\_F - verb\\_X & -0.44 & \\${[}-0.82\\$, \\$-0.06{]}\\$ & -2.74 & .020\\\\\n",
       "\tnoun\\_M\\_verb\\_X & noun\\_M - verb\\_X & -0.08 & \\${[}-0.46\\$, \\$0.30{]}\\$  & -0.51 & .868\\\\\n",
       "\\end{tabular}\n"
      ],
      "text/markdown": [
       "\n",
       "A apa_results_table: 3 × 5\n",
       "\n",
       "| <!--/--> | contrast &lt;ppj_lbll&gt; | estimate &lt;ppj_lbll&gt; | ci &lt;ppj_lbll&gt; | statistic &lt;ppj_lbll&gt; | p.value &lt;ppj_lbll&gt; |\n",
       "|---|---|---|---|---|---|\n",
       "| noun_F_noun_M | noun_F - noun_M | -0.35 | $[-0.73$, $0.02]$  | -2.23 | .072 |\n",
       "| noun_F_verb_X | noun_F - verb_X | -0.44 | $[-0.82$, $-0.06]$ | -2.74 | .020 |\n",
       "| noun_M_verb_X | noun_M - verb_X | -0.08 | $[-0.46$, $0.30]$  | -0.51 | .868 |\n",
       "\n"
      ],
      "text/plain": [
       "              contrast        estimate ci                 statistic p.value\n",
       "noun_F_noun_M noun_F - noun_M -0.35    $[-0.73$, $0.02]$  -2.23     .072   \n",
       "noun_F_verb_X noun_F - verb_X -0.44    $[-0.82$, $-0.06]$ -2.74     .020   \n",
       "noun_M_verb_X noun_M - verb_X -0.08    $[-0.46$, $0.30]$  -0.51     .868   "
      ]
     },
     "metadata": {},
     "output_type": "display_data"
    }
   ],
   "source": [
    "IDX <- IDX+1; COND <- CONDS[IDX]\n",
    "data1 <- droplevels(subset(df1, eval(parse(text=COND)))); data1 <- data1[complete.cases(data1),]; done1 <- AOV4(data1,COND)\n",
    "display_markdown(str_c(\"# Condition \",IDX,\" of \",length(CONDS))); display_markdown(done1$info); display_markdown(\"### Table\"); done1$aov_APA$table; display_markdown(\"### Result\"); display_markdown(done1$aov_APA[[\"full_result\"]][[\"cond0\"]]); display_markdown(\"### Summary (all done1, incl. NANs)\"); done1$summary; display_markdown(\"### Expected marginal means\"); done1$emm_APA$table; display_markdown(\"### Paired comparisons for expected marginal means\"); done1$pairs_APA$table"
   ]
  },
  {
   "cell_type": "code",
   "execution_count": 202,
   "metadata": {},
   "outputs": [
    {
     "data": {
      "text/markdown": [
       "# Condition 35 of 72"
      ]
     },
     "metadata": {},
     "output_type": "display_data"
    },
    {
     "data": {
      "text/markdown": [
       "`tmin0==0.35 & chan0==\"RP\" & mode0==\"pos\"`"
      ]
     },
     "metadata": {},
     "output_type": "display_data"
    },
    {
     "data": {
      "text/markdown": [
       "### Table"
      ]
     },
     "metadata": {},
     "output_type": "display_data"
    },
    {
     "data": {
      "text/html": [
       "<table>\n",
       "<caption>A apa_results_table: 1 × 7</caption>\n",
       "<thead>\n",
       "\t<tr><th></th><th scope=col>Effect</th><th scope=col>F</th><th scope=col>df1</th><th scope=col>df2</th><th scope=col>MSE</th><th scope=col>p</th><th scope=col>ges</th></tr>\n",
       "\t<tr><th></th><th scope=col>&lt;ppj_lbll&gt;</th><th scope=col>&lt;ppj_lbll&gt;</th><th scope=col>&lt;ppj_lbll&gt;</th><th scope=col>&lt;ppj_lbll&gt;</th><th scope=col>&lt;ppj_lbll&gt;</th><th scope=col>&lt;ppj_lbll&gt;</th><th scope=col>&lt;ppj_lbll&gt;</th></tr>\n",
       "</thead>\n",
       "<tbody>\n",
       "\t<tr><th scope=row>1</th><td>Cond0</td><td>2.05</td><td>1.88</td><td>76.91</td><td>0.39</td><td>.138</td><td>.003</td></tr>\n",
       "</tbody>\n",
       "</table>\n"
      ],
      "text/latex": [
       "A apa\\_results\\_table: 1 × 7\n",
       "\\begin{tabular}{r|lllllll}\n",
       "  & Effect & F & df1 & df2 & MSE & p & ges\\\\\n",
       "  & <ppj\\_lbll> & <ppj\\_lbll> & <ppj\\_lbll> & <ppj\\_lbll> & <ppj\\_lbll> & <ppj\\_lbll> & <ppj\\_lbll>\\\\\n",
       "\\hline\n",
       "\t1 & Cond0 & 2.05 & 1.88 & 76.91 & 0.39 & .138 & .003\\\\\n",
       "\\end{tabular}\n"
      ],
      "text/markdown": [
       "\n",
       "A apa_results_table: 1 × 7\n",
       "\n",
       "| <!--/--> | Effect &lt;ppj_lbll&gt; | F &lt;ppj_lbll&gt; | df1 &lt;ppj_lbll&gt; | df2 &lt;ppj_lbll&gt; | MSE &lt;ppj_lbll&gt; | p &lt;ppj_lbll&gt; | ges &lt;ppj_lbll&gt; |\n",
       "|---|---|---|---|---|---|---|---|\n",
       "| 1 | Cond0 | 2.05 | 1.88 | 76.91 | 0.39 | .138 | .003 |\n",
       "\n"
      ],
      "text/plain": [
       "  Effect F    df1  df2   MSE  p    ges \n",
       "1 Cond0  2.05 1.88 76.91 0.39 .138 .003"
      ]
     },
     "metadata": {},
     "output_type": "display_data"
    },
    {
     "data": {
      "text/markdown": [
       "### Result"
      ]
     },
     "metadata": {},
     "output_type": "display_data"
    },
    {
     "data": {
      "text/markdown": [
       "$F(1.88, 76.91) = 2.05$, $\\mathit{MSE} = 0.39$, $p = .138$, $\\hat{\\eta}^2_G = .003$"
      ]
     },
     "metadata": {},
     "output_type": "display_data"
    },
    {
     "data": {
      "text/markdown": [
       "### Summary (all done1, incl. NANs)"
      ]
     },
     "metadata": {},
     "output_type": "display_data"
    },
    {
     "data": {
      "text/html": [
       "<table>\n",
       "<caption>A tibble: 3 × 5</caption>\n",
       "<thead>\n",
       "\t<tr><th scope=col>cond0</th><th scope=col>N</th><th scope=col>valX_M</th><th scope=col>valX_SD</th><th scope=col>valX_SE</th></tr>\n",
       "\t<tr><th scope=col>&lt;fct&gt;</th><th scope=col>&lt;int&gt;</th><th scope=col>&lt;dbl&gt;</th><th scope=col>&lt;dbl&gt;</th><th scope=col>&lt;dbl&gt;</th></tr>\n",
       "</thead>\n",
       "<tbody>\n",
       "\t<tr><td>noun_F</td><td>42</td><td>4.405957</td><td>2.190354</td><td>0.3379789</td></tr>\n",
       "\t<tr><td>noun_M</td><td>42</td><td>4.536946</td><td>2.030795</td><td>0.3133585</td></tr>\n",
       "\t<tr><td>verb_X</td><td>42</td><td>4.268821</td><td>2.156623</td><td>0.3327742</td></tr>\n",
       "</tbody>\n",
       "</table>\n"
      ],
      "text/latex": [
       "A tibble: 3 × 5\n",
       "\\begin{tabular}{lllll}\n",
       " cond0 & N & valX\\_M & valX\\_SD & valX\\_SE\\\\\n",
       " <fct> & <int> & <dbl> & <dbl> & <dbl>\\\\\n",
       "\\hline\n",
       "\t noun\\_F & 42 & 4.405957 & 2.190354 & 0.3379789\\\\\n",
       "\t noun\\_M & 42 & 4.536946 & 2.030795 & 0.3133585\\\\\n",
       "\t verb\\_X & 42 & 4.268821 & 2.156623 & 0.3327742\\\\\n",
       "\\end{tabular}\n"
      ],
      "text/markdown": [
       "\n",
       "A tibble: 3 × 5\n",
       "\n",
       "| cond0 &lt;fct&gt; | N &lt;int&gt; | valX_M &lt;dbl&gt; | valX_SD &lt;dbl&gt; | valX_SE &lt;dbl&gt; |\n",
       "|---|---|---|---|---|\n",
       "| noun_F | 42 | 4.405957 | 2.190354 | 0.3379789 |\n",
       "| noun_M | 42 | 4.536946 | 2.030795 | 0.3133585 |\n",
       "| verb_X | 42 | 4.268821 | 2.156623 | 0.3327742 |\n",
       "\n"
      ],
      "text/plain": [
       "  cond0  N  valX_M   valX_SD  valX_SE  \n",
       "1 noun_F 42 4.405957 2.190354 0.3379789\n",
       "2 noun_M 42 4.536946 2.030795 0.3133585\n",
       "3 verb_X 42 4.268821 2.156623 0.3327742"
      ]
     },
     "metadata": {},
     "output_type": "display_data"
    },
    {
     "data": {
      "text/markdown": [
       "### Expected marginal means"
      ]
     },
     "metadata": {},
     "output_type": "display_data"
    },
    {
     "data": {
      "text/html": [
       "<table>\n",
       "<caption>A apa_results_table: 3 × 5</caption>\n",
       "<thead>\n",
       "\t<tr><th></th><th scope=col>cond0</th><th scope=col>estimate</th><th scope=col>ci</th><th scope=col>statistic</th><th scope=col>p.value</th></tr>\n",
       "\t<tr><th></th><th scope=col>&lt;chr&gt;</th><th scope=col>&lt;ppj_lbll&gt;</th><th scope=col>&lt;ppj_lbll&gt;</th><th scope=col>&lt;ppj_lbll&gt;</th><th scope=col>&lt;ppj_lbll&gt;</th></tr>\n",
       "</thead>\n",
       "<tbody>\n",
       "\t<tr><th scope=row>noun_F</th><td>noun_F</td><td>4.41</td><td>$[3.75$, $5.07]$</td><td>13.42</td><td>&lt; .001</td></tr>\n",
       "\t<tr><th scope=row>noun_M</th><td>noun_M</td><td>4.54</td><td>$[3.88$, $5.20]$</td><td>13.82</td><td>&lt; .001</td></tr>\n",
       "\t<tr><th scope=row>verb_X</th><td>verb_X</td><td>4.27</td><td>$[3.61$, $4.93]$</td><td>13.01</td><td>&lt; .001</td></tr>\n",
       "</tbody>\n",
       "</table>\n"
      ],
      "text/latex": [
       "A apa\\_results\\_table: 3 × 5\n",
       "\\begin{tabular}{r|lllll}\n",
       "  & cond0 & estimate & ci & statistic & p.value\\\\\n",
       "  & <chr> & <ppj\\_lbll> & <ppj\\_lbll> & <ppj\\_lbll> & <ppj\\_lbll>\\\\\n",
       "\\hline\n",
       "\tnoun\\_F & noun\\_F & 4.41 & \\${[}3.75\\$, \\$5.07{]}\\$ & 13.42 & < .001\\\\\n",
       "\tnoun\\_M & noun\\_M & 4.54 & \\${[}3.88\\$, \\$5.20{]}\\$ & 13.82 & < .001\\\\\n",
       "\tverb\\_X & verb\\_X & 4.27 & \\${[}3.61\\$, \\$4.93{]}\\$ & 13.01 & < .001\\\\\n",
       "\\end{tabular}\n"
      ],
      "text/markdown": [
       "\n",
       "A apa_results_table: 3 × 5\n",
       "\n",
       "| <!--/--> | cond0 &lt;chr&gt; | estimate &lt;ppj_lbll&gt; | ci &lt;ppj_lbll&gt; | statistic &lt;ppj_lbll&gt; | p.value &lt;ppj_lbll&gt; |\n",
       "|---|---|---|---|---|---|\n",
       "| noun_F | noun_F | 4.41 | $[3.75$, $5.07]$ | 13.42 | &lt; .001 |\n",
       "| noun_M | noun_M | 4.54 | $[3.88$, $5.20]$ | 13.82 | &lt; .001 |\n",
       "| verb_X | verb_X | 4.27 | $[3.61$, $4.93]$ | 13.01 | &lt; .001 |\n",
       "\n"
      ],
      "text/plain": [
       "       cond0  estimate ci               statistic p.value\n",
       "noun_F noun_F 4.41     $[3.75$, $5.07]$ 13.42     < .001 \n",
       "noun_M noun_M 4.54     $[3.88$, $5.20]$ 13.82     < .001 \n",
       "verb_X verb_X 4.27     $[3.61$, $4.93]$ 13.01     < .001 "
      ]
     },
     "metadata": {},
     "output_type": "display_data"
    },
    {
     "data": {
      "text/markdown": [
       "### Paired comparisons for expected marginal means"
      ]
     },
     "metadata": {},
     "output_type": "display_data"
    },
    {
     "data": {
      "text/html": [
       "<table>\n",
       "<caption>A apa_results_table: 3 × 5</caption>\n",
       "<thead>\n",
       "\t<tr><th></th><th scope=col>contrast</th><th scope=col>estimate</th><th scope=col>ci</th><th scope=col>statistic</th><th scope=col>p.value</th></tr>\n",
       "\t<tr><th></th><th scope=col>&lt;ppj_lbll&gt;</th><th scope=col>&lt;ppj_lbll&gt;</th><th scope=col>&lt;ppj_lbll&gt;</th><th scope=col>&lt;ppj_lbll&gt;</th><th scope=col>&lt;ppj_lbll&gt;</th></tr>\n",
       "</thead>\n",
       "<tbody>\n",
       "\t<tr><th scope=row>noun_F_noun_M</th><td>noun_F - noun_M</td><td>-0.13</td><td>$[-0.45$, $0.19]$</td><td>-0.99</td><td>.586</td></tr>\n",
       "\t<tr><th scope=row>noun_F_verb_X</th><td>noun_F - verb_X</td><td>0.14 </td><td>$[-0.18$, $0.45]$</td><td>1.04 </td><td>.557</td></tr>\n",
       "\t<tr><th scope=row>noun_M_verb_X</th><td>noun_M - verb_X</td><td>0.27 </td><td>$[-0.05$, $0.58]$</td><td>2.03 </td><td>.113</td></tr>\n",
       "</tbody>\n",
       "</table>\n"
      ],
      "text/latex": [
       "A apa\\_results\\_table: 3 × 5\n",
       "\\begin{tabular}{r|lllll}\n",
       "  & contrast & estimate & ci & statistic & p.value\\\\\n",
       "  & <ppj\\_lbll> & <ppj\\_lbll> & <ppj\\_lbll> & <ppj\\_lbll> & <ppj\\_lbll>\\\\\n",
       "\\hline\n",
       "\tnoun\\_F\\_noun\\_M & noun\\_F - noun\\_M & -0.13 & \\${[}-0.45\\$, \\$0.19{]}\\$ & -0.99 & .586\\\\\n",
       "\tnoun\\_F\\_verb\\_X & noun\\_F - verb\\_X & 0.14  & \\${[}-0.18\\$, \\$0.45{]}\\$ & 1.04  & .557\\\\\n",
       "\tnoun\\_M\\_verb\\_X & noun\\_M - verb\\_X & 0.27  & \\${[}-0.05\\$, \\$0.58{]}\\$ & 2.03  & .113\\\\\n",
       "\\end{tabular}\n"
      ],
      "text/markdown": [
       "\n",
       "A apa_results_table: 3 × 5\n",
       "\n",
       "| <!--/--> | contrast &lt;ppj_lbll&gt; | estimate &lt;ppj_lbll&gt; | ci &lt;ppj_lbll&gt; | statistic &lt;ppj_lbll&gt; | p.value &lt;ppj_lbll&gt; |\n",
       "|---|---|---|---|---|---|\n",
       "| noun_F_noun_M | noun_F - noun_M | -0.13 | $[-0.45$, $0.19]$ | -0.99 | .586 |\n",
       "| noun_F_verb_X | noun_F - verb_X | 0.14  | $[-0.18$, $0.45]$ | 1.04  | .557 |\n",
       "| noun_M_verb_X | noun_M - verb_X | 0.27  | $[-0.05$, $0.58]$ | 2.03  | .113 |\n",
       "\n"
      ],
      "text/plain": [
       "              contrast        estimate ci                statistic p.value\n",
       "noun_F_noun_M noun_F - noun_M -0.13    $[-0.45$, $0.19]$ -0.99     .586   \n",
       "noun_F_verb_X noun_F - verb_X 0.14     $[-0.18$, $0.45]$ 1.04      .557   \n",
       "noun_M_verb_X noun_M - verb_X 0.27     $[-0.05$, $0.58]$ 2.03      .113   "
      ]
     },
     "metadata": {},
     "output_type": "display_data"
    }
   ],
   "source": [
    "IDX <- IDX+1; COND <- CONDS[IDX]\n",
    "data1 <- droplevels(subset(df1, eval(parse(text=COND)))); data1 <- data1[complete.cases(data1),]; done1 <- AOV4(data1,COND)\n",
    "display_markdown(str_c(\"# Condition \",IDX,\" of \",length(CONDS))); display_markdown(done1$info); display_markdown(\"### Table\"); done1$aov_APA$table; display_markdown(\"### Result\"); display_markdown(done1$aov_APA[[\"full_result\"]][[\"cond0\"]]); display_markdown(\"### Summary (all done1, incl. NANs)\"); done1$summary; display_markdown(\"### Expected marginal means\"); done1$emm_APA$table; display_markdown(\"### Paired comparisons for expected marginal means\"); done1$pairs_APA$table"
   ]
  },
  {
   "cell_type": "code",
   "execution_count": 203,
   "metadata": {},
   "outputs": [
    {
     "data": {
      "text/markdown": [
       "# Condition 36 of 72"
      ]
     },
     "metadata": {},
     "output_type": "display_data"
    },
    {
     "data": {
      "text/markdown": [
       "`tmin0==0.35 & chan0==\"RP\" & mode0==\"neg\"`"
      ]
     },
     "metadata": {},
     "output_type": "display_data"
    },
    {
     "data": {
      "text/markdown": [
       "### Table"
      ]
     },
     "metadata": {},
     "output_type": "display_data"
    },
    {
     "data": {
      "text/html": [
       "<table>\n",
       "<caption>A apa_results_table: 1 × 7</caption>\n",
       "<thead>\n",
       "\t<tr><th></th><th scope=col>Effect</th><th scope=col>F</th><th scope=col>df1</th><th scope=col>df2</th><th scope=col>MSE</th><th scope=col>p</th><th scope=col>ges</th></tr>\n",
       "\t<tr><th></th><th scope=col>&lt;ppj_lbll&gt;</th><th scope=col>&lt;ppj_lbll&gt;</th><th scope=col>&lt;ppj_lbll&gt;</th><th scope=col>&lt;ppj_lbll&gt;</th><th scope=col>&lt;ppj_lbll&gt;</th><th scope=col>&lt;ppj_lbll&gt;</th><th scope=col>&lt;ppj_lbll&gt;</th></tr>\n",
       "</thead>\n",
       "<tbody>\n",
       "\t<tr><th scope=row>1</th><td>Cond0</td><td>1.26</td><td>1.83</td><td>74.94</td><td>0.54</td><td>.288</td><td>.002</td></tr>\n",
       "</tbody>\n",
       "</table>\n"
      ],
      "text/latex": [
       "A apa\\_results\\_table: 1 × 7\n",
       "\\begin{tabular}{r|lllllll}\n",
       "  & Effect & F & df1 & df2 & MSE & p & ges\\\\\n",
       "  & <ppj\\_lbll> & <ppj\\_lbll> & <ppj\\_lbll> & <ppj\\_lbll> & <ppj\\_lbll> & <ppj\\_lbll> & <ppj\\_lbll>\\\\\n",
       "\\hline\n",
       "\t1 & Cond0 & 1.26 & 1.83 & 74.94 & 0.54 & .288 & .002\\\\\n",
       "\\end{tabular}\n"
      ],
      "text/markdown": [
       "\n",
       "A apa_results_table: 1 × 7\n",
       "\n",
       "| <!--/--> | Effect &lt;ppj_lbll&gt; | F &lt;ppj_lbll&gt; | df1 &lt;ppj_lbll&gt; | df2 &lt;ppj_lbll&gt; | MSE &lt;ppj_lbll&gt; | p &lt;ppj_lbll&gt; | ges &lt;ppj_lbll&gt; |\n",
       "|---|---|---|---|---|---|---|---|\n",
       "| 1 | Cond0 | 1.26 | 1.83 | 74.94 | 0.54 | .288 | .002 |\n",
       "\n"
      ],
      "text/plain": [
       "  Effect F    df1  df2   MSE  p    ges \n",
       "1 Cond0  1.26 1.83 74.94 0.54 .288 .002"
      ]
     },
     "metadata": {},
     "output_type": "display_data"
    },
    {
     "data": {
      "text/markdown": [
       "### Result"
      ]
     },
     "metadata": {},
     "output_type": "display_data"
    },
    {
     "data": {
      "text/markdown": [
       "$F(1.83, 74.94) = 1.26$, $\\mathit{MSE} = 0.54$, $p = .288$, $\\hat{\\eta}^2_G = .002$"
      ]
     },
     "metadata": {},
     "output_type": "display_data"
    },
    {
     "data": {
      "text/markdown": [
       "### Summary (all done1, incl. NANs)"
      ]
     },
     "metadata": {},
     "output_type": "display_data"
    },
    {
     "data": {
      "text/html": [
       "<table>\n",
       "<caption>A tibble: 3 × 5</caption>\n",
       "<thead>\n",
       "\t<tr><th scope=col>cond0</th><th scope=col>N</th><th scope=col>valX_M</th><th scope=col>valX_SD</th><th scope=col>valX_SE</th></tr>\n",
       "\t<tr><th scope=col>&lt;fct&gt;</th><th scope=col>&lt;int&gt;</th><th scope=col>&lt;dbl&gt;</th><th scope=col>&lt;dbl&gt;</th><th scope=col>&lt;dbl&gt;</th></tr>\n",
       "</thead>\n",
       "<tbody>\n",
       "\t<tr><td>noun_F</td><td>42</td><td>2.059869</td><td>2.209585</td><td>0.3409464</td></tr>\n",
       "\t<tr><td>noun_M</td><td>42</td><td>2.129773</td><td>2.343606</td><td>0.3616263</td></tr>\n",
       "\t<tr><td>verb_X</td><td>42</td><td>2.296084</td><td>2.168927</td><td>0.3346727</td></tr>\n",
       "</tbody>\n",
       "</table>\n"
      ],
      "text/latex": [
       "A tibble: 3 × 5\n",
       "\\begin{tabular}{lllll}\n",
       " cond0 & N & valX\\_M & valX\\_SD & valX\\_SE\\\\\n",
       " <fct> & <int> & <dbl> & <dbl> & <dbl>\\\\\n",
       "\\hline\n",
       "\t noun\\_F & 42 & 2.059869 & 2.209585 & 0.3409464\\\\\n",
       "\t noun\\_M & 42 & 2.129773 & 2.343606 & 0.3616263\\\\\n",
       "\t verb\\_X & 42 & 2.296084 & 2.168927 & 0.3346727\\\\\n",
       "\\end{tabular}\n"
      ],
      "text/markdown": [
       "\n",
       "A tibble: 3 × 5\n",
       "\n",
       "| cond0 &lt;fct&gt; | N &lt;int&gt; | valX_M &lt;dbl&gt; | valX_SD &lt;dbl&gt; | valX_SE &lt;dbl&gt; |\n",
       "|---|---|---|---|---|\n",
       "| noun_F | 42 | 2.059869 | 2.209585 | 0.3409464 |\n",
       "| noun_M | 42 | 2.129773 | 2.343606 | 0.3616263 |\n",
       "| verb_X | 42 | 2.296084 | 2.168927 | 0.3346727 |\n",
       "\n"
      ],
      "text/plain": [
       "  cond0  N  valX_M   valX_SD  valX_SE  \n",
       "1 noun_F 42 2.059869 2.209585 0.3409464\n",
       "2 noun_M 42 2.129773 2.343606 0.3616263\n",
       "3 verb_X 42 2.296084 2.168927 0.3346727"
      ]
     },
     "metadata": {},
     "output_type": "display_data"
    },
    {
     "data": {
      "text/markdown": [
       "### Expected marginal means"
      ]
     },
     "metadata": {},
     "output_type": "display_data"
    },
    {
     "data": {
      "text/html": [
       "<table>\n",
       "<caption>A apa_results_table: 3 × 5</caption>\n",
       "<thead>\n",
       "\t<tr><th></th><th scope=col>cond0</th><th scope=col>estimate</th><th scope=col>ci</th><th scope=col>statistic</th><th scope=col>p.value</th></tr>\n",
       "\t<tr><th></th><th scope=col>&lt;chr&gt;</th><th scope=col>&lt;ppj_lbll&gt;</th><th scope=col>&lt;ppj_lbll&gt;</th><th scope=col>&lt;ppj_lbll&gt;</th><th scope=col>&lt;ppj_lbll&gt;</th></tr>\n",
       "</thead>\n",
       "<tbody>\n",
       "\t<tr><th scope=row>noun_F</th><td>noun_F</td><td>2.06</td><td>$[1.36$, $2.76]$</td><td>5.95</td><td>&lt; .001</td></tr>\n",
       "\t<tr><th scope=row>noun_M</th><td>noun_M</td><td>2.13</td><td>$[1.43$, $2.83]$</td><td>6.16</td><td>&lt; .001</td></tr>\n",
       "\t<tr><th scope=row>verb_X</th><td>verb_X</td><td>2.30</td><td>$[1.60$, $2.99]$</td><td>6.64</td><td>&lt; .001</td></tr>\n",
       "</tbody>\n",
       "</table>\n"
      ],
      "text/latex": [
       "A apa\\_results\\_table: 3 × 5\n",
       "\\begin{tabular}{r|lllll}\n",
       "  & cond0 & estimate & ci & statistic & p.value\\\\\n",
       "  & <chr> & <ppj\\_lbll> & <ppj\\_lbll> & <ppj\\_lbll> & <ppj\\_lbll>\\\\\n",
       "\\hline\n",
       "\tnoun\\_F & noun\\_F & 2.06 & \\${[}1.36\\$, \\$2.76{]}\\$ & 5.95 & < .001\\\\\n",
       "\tnoun\\_M & noun\\_M & 2.13 & \\${[}1.43\\$, \\$2.83{]}\\$ & 6.16 & < .001\\\\\n",
       "\tverb\\_X & verb\\_X & 2.30 & \\${[}1.60\\$, \\$2.99{]}\\$ & 6.64 & < .001\\\\\n",
       "\\end{tabular}\n"
      ],
      "text/markdown": [
       "\n",
       "A apa_results_table: 3 × 5\n",
       "\n",
       "| <!--/--> | cond0 &lt;chr&gt; | estimate &lt;ppj_lbll&gt; | ci &lt;ppj_lbll&gt; | statistic &lt;ppj_lbll&gt; | p.value &lt;ppj_lbll&gt; |\n",
       "|---|---|---|---|---|---|\n",
       "| noun_F | noun_F | 2.06 | $[1.36$, $2.76]$ | 5.95 | &lt; .001 |\n",
       "| noun_M | noun_M | 2.13 | $[1.43$, $2.83]$ | 6.16 | &lt; .001 |\n",
       "| verb_X | verb_X | 2.30 | $[1.60$, $2.99]$ | 6.64 | &lt; .001 |\n",
       "\n"
      ],
      "text/plain": [
       "       cond0  estimate ci               statistic p.value\n",
       "noun_F noun_F 2.06     $[1.36$, $2.76]$ 5.95      < .001 \n",
       "noun_M noun_M 2.13     $[1.43$, $2.83]$ 6.16      < .001 \n",
       "verb_X verb_X 2.30     $[1.60$, $2.99]$ 6.64      < .001 "
      ]
     },
     "metadata": {},
     "output_type": "display_data"
    },
    {
     "data": {
      "text/markdown": [
       "### Paired comparisons for expected marginal means"
      ]
     },
     "metadata": {},
     "output_type": "display_data"
    },
    {
     "data": {
      "text/html": [
       "<table>\n",
       "<caption>A apa_results_table: 3 × 5</caption>\n",
       "<thead>\n",
       "\t<tr><th></th><th scope=col>contrast</th><th scope=col>estimate</th><th scope=col>ci</th><th scope=col>statistic</th><th scope=col>p.value</th></tr>\n",
       "\t<tr><th></th><th scope=col>&lt;ppj_lbll&gt;</th><th scope=col>&lt;ppj_lbll&gt;</th><th scope=col>&lt;ppj_lbll&gt;</th><th scope=col>&lt;ppj_lbll&gt;</th><th scope=col>&lt;ppj_lbll&gt;</th></tr>\n",
       "</thead>\n",
       "<tbody>\n",
       "\t<tr><th scope=row>noun_F_noun_M</th><td>noun_F - noun_M</td><td>-0.07</td><td>$[-0.43$, $0.30]$</td><td>-0.46</td><td>.891</td></tr>\n",
       "\t<tr><th scope=row>noun_F_verb_X</th><td>noun_F - verb_X</td><td>-0.24</td><td>$[-0.60$, $0.13]$</td><td>-1.54</td><td>.276</td></tr>\n",
       "\t<tr><th scope=row>noun_M_verb_X</th><td>noun_M - verb_X</td><td>-0.17</td><td>$[-0.53$, $0.20]$</td><td>-1.09</td><td>.524</td></tr>\n",
       "</tbody>\n",
       "</table>\n"
      ],
      "text/latex": [
       "A apa\\_results\\_table: 3 × 5\n",
       "\\begin{tabular}{r|lllll}\n",
       "  & contrast & estimate & ci & statistic & p.value\\\\\n",
       "  & <ppj\\_lbll> & <ppj\\_lbll> & <ppj\\_lbll> & <ppj\\_lbll> & <ppj\\_lbll>\\\\\n",
       "\\hline\n",
       "\tnoun\\_F\\_noun\\_M & noun\\_F - noun\\_M & -0.07 & \\${[}-0.43\\$, \\$0.30{]}\\$ & -0.46 & .891\\\\\n",
       "\tnoun\\_F\\_verb\\_X & noun\\_F - verb\\_X & -0.24 & \\${[}-0.60\\$, \\$0.13{]}\\$ & -1.54 & .276\\\\\n",
       "\tnoun\\_M\\_verb\\_X & noun\\_M - verb\\_X & -0.17 & \\${[}-0.53\\$, \\$0.20{]}\\$ & -1.09 & .524\\\\\n",
       "\\end{tabular}\n"
      ],
      "text/markdown": [
       "\n",
       "A apa_results_table: 3 × 5\n",
       "\n",
       "| <!--/--> | contrast &lt;ppj_lbll&gt; | estimate &lt;ppj_lbll&gt; | ci &lt;ppj_lbll&gt; | statistic &lt;ppj_lbll&gt; | p.value &lt;ppj_lbll&gt; |\n",
       "|---|---|---|---|---|---|\n",
       "| noun_F_noun_M | noun_F - noun_M | -0.07 | $[-0.43$, $0.30]$ | -0.46 | .891 |\n",
       "| noun_F_verb_X | noun_F - verb_X | -0.24 | $[-0.60$, $0.13]$ | -1.54 | .276 |\n",
       "| noun_M_verb_X | noun_M - verb_X | -0.17 | $[-0.53$, $0.20]$ | -1.09 | .524 |\n",
       "\n"
      ],
      "text/plain": [
       "              contrast        estimate ci                statistic p.value\n",
       "noun_F_noun_M noun_F - noun_M -0.07    $[-0.43$, $0.30]$ -0.46     .891   \n",
       "noun_F_verb_X noun_F - verb_X -0.24    $[-0.60$, $0.13]$ -1.54     .276   \n",
       "noun_M_verb_X noun_M - verb_X -0.17    $[-0.53$, $0.20]$ -1.09     .524   "
      ]
     },
     "metadata": {},
     "output_type": "display_data"
    }
   ],
   "source": [
    "IDX <- IDX+1; COND <- CONDS[IDX]\n",
    "data1 <- droplevels(subset(df1, eval(parse(text=COND)))); data1 <- data1[complete.cases(data1),]; done1 <- AOV4(data1,COND)\n",
    "display_markdown(str_c(\"# Condition \",IDX,\" of \",length(CONDS))); display_markdown(done1$info); display_markdown(\"### Table\"); done1$aov_APA$table; display_markdown(\"### Result\"); display_markdown(done1$aov_APA[[\"full_result\"]][[\"cond0\"]]); display_markdown(\"### Summary (all done1, incl. NANs)\"); done1$summary; display_markdown(\"### Expected marginal means\"); done1$emm_APA$table; display_markdown(\"### Paired comparisons for expected marginal means\"); done1$pairs_APA$table"
   ]
  },
  {
   "cell_type": "code",
   "execution_count": 204,
   "metadata": {},
   "outputs": [
    {
     "data": {
      "text/markdown": [
       "# Condition 37 of 72"
      ]
     },
     "metadata": {},
     "output_type": "display_data"
    },
    {
     "data": {
      "text/markdown": [
       "`tmin0==0.41 & chan0==\"LF\" & mode0==\"pos\"`"
      ]
     },
     "metadata": {},
     "output_type": "display_data"
    },
    {
     "data": {
      "text/markdown": [
       "### Table"
      ]
     },
     "metadata": {},
     "output_type": "display_data"
    },
    {
     "data": {
      "text/html": [
       "<table>\n",
       "<caption>A apa_results_table: 1 × 7</caption>\n",
       "<thead>\n",
       "\t<tr><th></th><th scope=col>Effect</th><th scope=col>F</th><th scope=col>df1</th><th scope=col>df2</th><th scope=col>MSE</th><th scope=col>p</th><th scope=col>ges</th></tr>\n",
       "\t<tr><th></th><th scope=col>&lt;ppj_lbll&gt;</th><th scope=col>&lt;ppj_lbll&gt;</th><th scope=col>&lt;ppj_lbll&gt;</th><th scope=col>&lt;ppj_lbll&gt;</th><th scope=col>&lt;ppj_lbll&gt;</th><th scope=col>&lt;ppj_lbll&gt;</th><th scope=col>&lt;ppj_lbll&gt;</th></tr>\n",
       "</thead>\n",
       "<tbody>\n",
       "\t<tr><th scope=row>1</th><td>Cond0</td><td>0.74</td><td>1.83</td><td>74.88</td><td>0.67</td><td>.469</td><td>.002</td></tr>\n",
       "</tbody>\n",
       "</table>\n"
      ],
      "text/latex": [
       "A apa\\_results\\_table: 1 × 7\n",
       "\\begin{tabular}{r|lllllll}\n",
       "  & Effect & F & df1 & df2 & MSE & p & ges\\\\\n",
       "  & <ppj\\_lbll> & <ppj\\_lbll> & <ppj\\_lbll> & <ppj\\_lbll> & <ppj\\_lbll> & <ppj\\_lbll> & <ppj\\_lbll>\\\\\n",
       "\\hline\n",
       "\t1 & Cond0 & 0.74 & 1.83 & 74.88 & 0.67 & .469 & .002\\\\\n",
       "\\end{tabular}\n"
      ],
      "text/markdown": [
       "\n",
       "A apa_results_table: 1 × 7\n",
       "\n",
       "| <!--/--> | Effect &lt;ppj_lbll&gt; | F &lt;ppj_lbll&gt; | df1 &lt;ppj_lbll&gt; | df2 &lt;ppj_lbll&gt; | MSE &lt;ppj_lbll&gt; | p &lt;ppj_lbll&gt; | ges &lt;ppj_lbll&gt; |\n",
       "|---|---|---|---|---|---|---|---|\n",
       "| 1 | Cond0 | 0.74 | 1.83 | 74.88 | 0.67 | .469 | .002 |\n",
       "\n"
      ],
      "text/plain": [
       "  Effect F    df1  df2   MSE  p    ges \n",
       "1 Cond0  0.74 1.83 74.88 0.67 .469 .002"
      ]
     },
     "metadata": {},
     "output_type": "display_data"
    },
    {
     "data": {
      "text/markdown": [
       "### Result"
      ]
     },
     "metadata": {},
     "output_type": "display_data"
    },
    {
     "data": {
      "text/markdown": [
       "$F(1.83, 74.88) = 0.74$, $\\mathit{MSE} = 0.67$, $p = .469$, $\\hat{\\eta}^2_G = .002$"
      ]
     },
     "metadata": {},
     "output_type": "display_data"
    },
    {
     "data": {
      "text/markdown": [
       "### Summary (all done1, incl. NANs)"
      ]
     },
     "metadata": {},
     "output_type": "display_data"
    },
    {
     "data": {
      "text/html": [
       "<table>\n",
       "<caption>A tibble: 3 × 5</caption>\n",
       "<thead>\n",
       "\t<tr><th scope=col>cond0</th><th scope=col>N</th><th scope=col>valX_M</th><th scope=col>valX_SD</th><th scope=col>valX_SE</th></tr>\n",
       "\t<tr><th scope=col>&lt;fct&gt;</th><th scope=col>&lt;int&gt;</th><th scope=col>&lt;dbl&gt;</th><th scope=col>&lt;dbl&gt;</th><th scope=col>&lt;dbl&gt;</th></tr>\n",
       "</thead>\n",
       "<tbody>\n",
       "\t<tr><td>noun_F</td><td>42</td><td>-0.8189044</td><td>2.354618</td><td>0.3633254</td></tr>\n",
       "\t<tr><td>noun_M</td><td>42</td><td>-0.9276137</td><td>1.894097</td><td>0.2922655</td></tr>\n",
       "\t<tr><td>verb_X</td><td>42</td><td>-1.0263146</td><td>2.128044</td><td>0.3283643</td></tr>\n",
       "</tbody>\n",
       "</table>\n"
      ],
      "text/latex": [
       "A tibble: 3 × 5\n",
       "\\begin{tabular}{lllll}\n",
       " cond0 & N & valX\\_M & valX\\_SD & valX\\_SE\\\\\n",
       " <fct> & <int> & <dbl> & <dbl> & <dbl>\\\\\n",
       "\\hline\n",
       "\t noun\\_F & 42 & -0.8189044 & 2.354618 & 0.3633254\\\\\n",
       "\t noun\\_M & 42 & -0.9276137 & 1.894097 & 0.2922655\\\\\n",
       "\t verb\\_X & 42 & -1.0263146 & 2.128044 & 0.3283643\\\\\n",
       "\\end{tabular}\n"
      ],
      "text/markdown": [
       "\n",
       "A tibble: 3 × 5\n",
       "\n",
       "| cond0 &lt;fct&gt; | N &lt;int&gt; | valX_M &lt;dbl&gt; | valX_SD &lt;dbl&gt; | valX_SE &lt;dbl&gt; |\n",
       "|---|---|---|---|---|\n",
       "| noun_F | 42 | -0.8189044 | 2.354618 | 0.3633254 |\n",
       "| noun_M | 42 | -0.9276137 | 1.894097 | 0.2922655 |\n",
       "| verb_X | 42 | -1.0263146 | 2.128044 | 0.3283643 |\n",
       "\n"
      ],
      "text/plain": [
       "  cond0  N  valX_M     valX_SD  valX_SE  \n",
       "1 noun_F 42 -0.8189044 2.354618 0.3633254\n",
       "2 noun_M 42 -0.9276137 1.894097 0.2922655\n",
       "3 verb_X 42 -1.0263146 2.128044 0.3283643"
      ]
     },
     "metadata": {},
     "output_type": "display_data"
    },
    {
     "data": {
      "text/markdown": [
       "### Expected marginal means"
      ]
     },
     "metadata": {},
     "output_type": "display_data"
    },
    {
     "data": {
      "text/html": [
       "<table>\n",
       "<caption>A apa_results_table: 3 × 5</caption>\n",
       "<thead>\n",
       "\t<tr><th></th><th scope=col>cond0</th><th scope=col>estimate</th><th scope=col>ci</th><th scope=col>statistic</th><th scope=col>p.value</th></tr>\n",
       "\t<tr><th></th><th scope=col>&lt;chr&gt;</th><th scope=col>&lt;ppj_lbll&gt;</th><th scope=col>&lt;ppj_lbll&gt;</th><th scope=col>&lt;ppj_lbll&gt;</th><th scope=col>&lt;ppj_lbll&gt;</th></tr>\n",
       "</thead>\n",
       "<tbody>\n",
       "\t<tr><th scope=row>noun_F</th><td>noun_F</td><td>-0.82</td><td>$[-1.48$, $-0.16]$</td><td>-2.49</td><td>.016</td></tr>\n",
       "\t<tr><th scope=row>noun_M</th><td>noun_M</td><td>-0.93</td><td>$[-1.59$, $-0.27]$</td><td>-2.82</td><td>.007</td></tr>\n",
       "\t<tr><th scope=row>verb_X</th><td>verb_X</td><td>-1.03</td><td>$[-1.69$, $-0.36]$</td><td>-3.12</td><td>.003</td></tr>\n",
       "</tbody>\n",
       "</table>\n"
      ],
      "text/latex": [
       "A apa\\_results\\_table: 3 × 5\n",
       "\\begin{tabular}{r|lllll}\n",
       "  & cond0 & estimate & ci & statistic & p.value\\\\\n",
       "  & <chr> & <ppj\\_lbll> & <ppj\\_lbll> & <ppj\\_lbll> & <ppj\\_lbll>\\\\\n",
       "\\hline\n",
       "\tnoun\\_F & noun\\_F & -0.82 & \\${[}-1.48\\$, \\$-0.16{]}\\$ & -2.49 & .016\\\\\n",
       "\tnoun\\_M & noun\\_M & -0.93 & \\${[}-1.59\\$, \\$-0.27{]}\\$ & -2.82 & .007\\\\\n",
       "\tverb\\_X & verb\\_X & -1.03 & \\${[}-1.69\\$, \\$-0.36{]}\\$ & -3.12 & .003\\\\\n",
       "\\end{tabular}\n"
      ],
      "text/markdown": [
       "\n",
       "A apa_results_table: 3 × 5\n",
       "\n",
       "| <!--/--> | cond0 &lt;chr&gt; | estimate &lt;ppj_lbll&gt; | ci &lt;ppj_lbll&gt; | statistic &lt;ppj_lbll&gt; | p.value &lt;ppj_lbll&gt; |\n",
       "|---|---|---|---|---|---|\n",
       "| noun_F | noun_F | -0.82 | $[-1.48$, $-0.16]$ | -2.49 | .016 |\n",
       "| noun_M | noun_M | -0.93 | $[-1.59$, $-0.27]$ | -2.82 | .007 |\n",
       "| verb_X | verb_X | -1.03 | $[-1.69$, $-0.36]$ | -3.12 | .003 |\n",
       "\n"
      ],
      "text/plain": [
       "       cond0  estimate ci                 statistic p.value\n",
       "noun_F noun_F -0.82    $[-1.48$, $-0.16]$ -2.49     .016   \n",
       "noun_M noun_M -0.93    $[-1.59$, $-0.27]$ -2.82     .007   \n",
       "verb_X verb_X -1.03    $[-1.69$, $-0.36]$ -3.12     .003   "
      ]
     },
     "metadata": {},
     "output_type": "display_data"
    },
    {
     "data": {
      "text/markdown": [
       "### Paired comparisons for expected marginal means"
      ]
     },
     "metadata": {},
     "output_type": "display_data"
    },
    {
     "data": {
      "text/html": [
       "<table>\n",
       "<caption>A apa_results_table: 3 × 5</caption>\n",
       "<thead>\n",
       "\t<tr><th></th><th scope=col>contrast</th><th scope=col>estimate</th><th scope=col>ci</th><th scope=col>statistic</th><th scope=col>p.value</th></tr>\n",
       "\t<tr><th></th><th scope=col>&lt;ppj_lbll&gt;</th><th scope=col>&lt;ppj_lbll&gt;</th><th scope=col>&lt;ppj_lbll&gt;</th><th scope=col>&lt;ppj_lbll&gt;</th><th scope=col>&lt;ppj_lbll&gt;</th></tr>\n",
       "</thead>\n",
       "<tbody>\n",
       "\t<tr><th scope=row>noun_F_noun_M</th><td>noun_F - noun_M</td><td>0.11</td><td>$[-0.30$, $0.52]$</td><td>0.64</td><td>.800</td></tr>\n",
       "\t<tr><th scope=row>noun_F_verb_X</th><td>noun_F - verb_X</td><td>0.21</td><td>$[-0.20$, $0.61]$</td><td>1.22</td><td>.447</td></tr>\n",
       "\t<tr><th scope=row>noun_M_verb_X</th><td>noun_M - verb_X</td><td>0.10</td><td>$[-0.31$, $0.51]$</td><td>0.58</td><td>.832</td></tr>\n",
       "</tbody>\n",
       "</table>\n"
      ],
      "text/latex": [
       "A apa\\_results\\_table: 3 × 5\n",
       "\\begin{tabular}{r|lllll}\n",
       "  & contrast & estimate & ci & statistic & p.value\\\\\n",
       "  & <ppj\\_lbll> & <ppj\\_lbll> & <ppj\\_lbll> & <ppj\\_lbll> & <ppj\\_lbll>\\\\\n",
       "\\hline\n",
       "\tnoun\\_F\\_noun\\_M & noun\\_F - noun\\_M & 0.11 & \\${[}-0.30\\$, \\$0.52{]}\\$ & 0.64 & .800\\\\\n",
       "\tnoun\\_F\\_verb\\_X & noun\\_F - verb\\_X & 0.21 & \\${[}-0.20\\$, \\$0.61{]}\\$ & 1.22 & .447\\\\\n",
       "\tnoun\\_M\\_verb\\_X & noun\\_M - verb\\_X & 0.10 & \\${[}-0.31\\$, \\$0.51{]}\\$ & 0.58 & .832\\\\\n",
       "\\end{tabular}\n"
      ],
      "text/markdown": [
       "\n",
       "A apa_results_table: 3 × 5\n",
       "\n",
       "| <!--/--> | contrast &lt;ppj_lbll&gt; | estimate &lt;ppj_lbll&gt; | ci &lt;ppj_lbll&gt; | statistic &lt;ppj_lbll&gt; | p.value &lt;ppj_lbll&gt; |\n",
       "|---|---|---|---|---|---|\n",
       "| noun_F_noun_M | noun_F - noun_M | 0.11 | $[-0.30$, $0.52]$ | 0.64 | .800 |\n",
       "| noun_F_verb_X | noun_F - verb_X | 0.21 | $[-0.20$, $0.61]$ | 1.22 | .447 |\n",
       "| noun_M_verb_X | noun_M - verb_X | 0.10 | $[-0.31$, $0.51]$ | 0.58 | .832 |\n",
       "\n"
      ],
      "text/plain": [
       "              contrast        estimate ci                statistic p.value\n",
       "noun_F_noun_M noun_F - noun_M 0.11     $[-0.30$, $0.52]$ 0.64      .800   \n",
       "noun_F_verb_X noun_F - verb_X 0.21     $[-0.20$, $0.61]$ 1.22      .447   \n",
       "noun_M_verb_X noun_M - verb_X 0.10     $[-0.31$, $0.51]$ 0.58      .832   "
      ]
     },
     "metadata": {},
     "output_type": "display_data"
    }
   ],
   "source": [
    "IDX <- IDX+1; COND <- CONDS[IDX]\n",
    "data1 <- droplevels(subset(df1, eval(parse(text=COND)))); data1 <- data1[complete.cases(data1),]; done1 <- AOV4(data1,COND)\n",
    "display_markdown(str_c(\"# Condition \",IDX,\" of \",length(CONDS))); display_markdown(done1$info); display_markdown(\"### Table\"); done1$aov_APA$table; display_markdown(\"### Result\"); display_markdown(done1$aov_APA[[\"full_result\"]][[\"cond0\"]]); display_markdown(\"### Summary (all done1, incl. NANs)\"); done1$summary; display_markdown(\"### Expected marginal means\"); done1$emm_APA$table; display_markdown(\"### Paired comparisons for expected marginal means\"); done1$pairs_APA$table"
   ]
  },
  {
   "cell_type": "code",
   "execution_count": 205,
   "metadata": {},
   "outputs": [
    {
     "data": {
      "text/markdown": [
       "# Condition 38 of 72"
      ]
     },
     "metadata": {},
     "output_type": "display_data"
    },
    {
     "data": {
      "text/markdown": [
       "`tmin0==0.41 & chan0==\"LF\" & mode0==\"neg\"`"
      ]
     },
     "metadata": {},
     "output_type": "display_data"
    },
    {
     "data": {
      "text/markdown": [
       "### Table"
      ]
     },
     "metadata": {},
     "output_type": "display_data"
    },
    {
     "data": {
      "text/html": [
       "<table>\n",
       "<caption>A apa_results_table: 1 × 7</caption>\n",
       "<thead>\n",
       "\t<tr><th></th><th scope=col>Effect</th><th scope=col>F</th><th scope=col>df1</th><th scope=col>df2</th><th scope=col>MSE</th><th scope=col>p</th><th scope=col>ges</th></tr>\n",
       "\t<tr><th></th><th scope=col>&lt;ppj_lbll&gt;</th><th scope=col>&lt;ppj_lbll&gt;</th><th scope=col>&lt;ppj_lbll&gt;</th><th scope=col>&lt;ppj_lbll&gt;</th><th scope=col>&lt;ppj_lbll&gt;</th><th scope=col>&lt;ppj_lbll&gt;</th><th scope=col>&lt;ppj_lbll&gt;</th></tr>\n",
       "</thead>\n",
       "<tbody>\n",
       "\t<tr><th scope=row>1</th><td>Cond0</td><td>1.79</td><td>1.83</td><td>75.12</td><td>0.49</td><td>.177</td><td>.004</td></tr>\n",
       "</tbody>\n",
       "</table>\n"
      ],
      "text/latex": [
       "A apa\\_results\\_table: 1 × 7\n",
       "\\begin{tabular}{r|lllllll}\n",
       "  & Effect & F & df1 & df2 & MSE & p & ges\\\\\n",
       "  & <ppj\\_lbll> & <ppj\\_lbll> & <ppj\\_lbll> & <ppj\\_lbll> & <ppj\\_lbll> & <ppj\\_lbll> & <ppj\\_lbll>\\\\\n",
       "\\hline\n",
       "\t1 & Cond0 & 1.79 & 1.83 & 75.12 & 0.49 & .177 & .004\\\\\n",
       "\\end{tabular}\n"
      ],
      "text/markdown": [
       "\n",
       "A apa_results_table: 1 × 7\n",
       "\n",
       "| <!--/--> | Effect &lt;ppj_lbll&gt; | F &lt;ppj_lbll&gt; | df1 &lt;ppj_lbll&gt; | df2 &lt;ppj_lbll&gt; | MSE &lt;ppj_lbll&gt; | p &lt;ppj_lbll&gt; | ges &lt;ppj_lbll&gt; |\n",
       "|---|---|---|---|---|---|---|---|\n",
       "| 1 | Cond0 | 1.79 | 1.83 | 75.12 | 0.49 | .177 | .004 |\n",
       "\n"
      ],
      "text/plain": [
       "  Effect F    df1  df2   MSE  p    ges \n",
       "1 Cond0  1.79 1.83 75.12 0.49 .177 .004"
      ]
     },
     "metadata": {},
     "output_type": "display_data"
    },
    {
     "data": {
      "text/markdown": [
       "### Result"
      ]
     },
     "metadata": {},
     "output_type": "display_data"
    },
    {
     "data": {
      "text/markdown": [
       "$F(1.83, 75.12) = 1.79$, $\\mathit{MSE} = 0.49$, $p = .177$, $\\hat{\\eta}^2_G = .004$"
      ]
     },
     "metadata": {},
     "output_type": "display_data"
    },
    {
     "data": {
      "text/markdown": [
       "### Summary (all done1, incl. NANs)"
      ]
     },
     "metadata": {},
     "output_type": "display_data"
    },
    {
     "data": {
      "text/html": [
       "<table>\n",
       "<caption>A tibble: 3 × 5</caption>\n",
       "<thead>\n",
       "\t<tr><th scope=col>cond0</th><th scope=col>N</th><th scope=col>valX_M</th><th scope=col>valX_SD</th><th scope=col>valX_SE</th></tr>\n",
       "\t<tr><th scope=col>&lt;fct&gt;</th><th scope=col>&lt;int&gt;</th><th scope=col>&lt;dbl&gt;</th><th scope=col>&lt;dbl&gt;</th><th scope=col>&lt;dbl&gt;</th></tr>\n",
       "</thead>\n",
       "<tbody>\n",
       "\t<tr><td>noun_F</td><td>42</td><td>-3.173741</td><td>1.883376</td><td>0.2906112</td></tr>\n",
       "\t<tr><td>noun_M</td><td>42</td><td>-3.381702</td><td>1.832974</td><td>0.2828340</td></tr>\n",
       "\t<tr><td>verb_X</td><td>42</td><td>-3.118111</td><td>1.650071</td><td>0.2546115</td></tr>\n",
       "</tbody>\n",
       "</table>\n"
      ],
      "text/latex": [
       "A tibble: 3 × 5\n",
       "\\begin{tabular}{lllll}\n",
       " cond0 & N & valX\\_M & valX\\_SD & valX\\_SE\\\\\n",
       " <fct> & <int> & <dbl> & <dbl> & <dbl>\\\\\n",
       "\\hline\n",
       "\t noun\\_F & 42 & -3.173741 & 1.883376 & 0.2906112\\\\\n",
       "\t noun\\_M & 42 & -3.381702 & 1.832974 & 0.2828340\\\\\n",
       "\t verb\\_X & 42 & -3.118111 & 1.650071 & 0.2546115\\\\\n",
       "\\end{tabular}\n"
      ],
      "text/markdown": [
       "\n",
       "A tibble: 3 × 5\n",
       "\n",
       "| cond0 &lt;fct&gt; | N &lt;int&gt; | valX_M &lt;dbl&gt; | valX_SD &lt;dbl&gt; | valX_SE &lt;dbl&gt; |\n",
       "|---|---|---|---|---|\n",
       "| noun_F | 42 | -3.173741 | 1.883376 | 0.2906112 |\n",
       "| noun_M | 42 | -3.381702 | 1.832974 | 0.2828340 |\n",
       "| verb_X | 42 | -3.118111 | 1.650071 | 0.2546115 |\n",
       "\n"
      ],
      "text/plain": [
       "  cond0  N  valX_M    valX_SD  valX_SE  \n",
       "1 noun_F 42 -3.173741 1.883376 0.2906112\n",
       "2 noun_M 42 -3.381702 1.832974 0.2828340\n",
       "3 verb_X 42 -3.118111 1.650071 0.2546115"
      ]
     },
     "metadata": {},
     "output_type": "display_data"
    },
    {
     "data": {
      "text/markdown": [
       "### Expected marginal means"
      ]
     },
     "metadata": {},
     "output_type": "display_data"
    },
    {
     "data": {
      "text/html": [
       "<table>\n",
       "<caption>A apa_results_table: 3 × 5</caption>\n",
       "<thead>\n",
       "\t<tr><th></th><th scope=col>cond0</th><th scope=col>estimate</th><th scope=col>ci</th><th scope=col>statistic</th><th scope=col>p.value</th></tr>\n",
       "\t<tr><th></th><th scope=col>&lt;chr&gt;</th><th scope=col>&lt;ppj_lbll&gt;</th><th scope=col>&lt;ppj_lbll&gt;</th><th scope=col>&lt;ppj_lbll&gt;</th><th scope=col>&lt;ppj_lbll&gt;</th></tr>\n",
       "</thead>\n",
       "<tbody>\n",
       "\t<tr><th scope=row>noun_F</th><td>noun_F</td><td>-3.17</td><td>$[-3.73$, $-2.62]$</td><td>-11.48</td><td>&lt; .001</td></tr>\n",
       "\t<tr><th scope=row>noun_M</th><td>noun_M</td><td>-3.38</td><td>$[-3.94$, $-2.83]$</td><td>-12.23</td><td>&lt; .001</td></tr>\n",
       "\t<tr><th scope=row>verb_X</th><td>verb_X</td><td>-3.12</td><td>$[-3.67$, $-2.56]$</td><td>-11.28</td><td>&lt; .001</td></tr>\n",
       "</tbody>\n",
       "</table>\n"
      ],
      "text/latex": [
       "A apa\\_results\\_table: 3 × 5\n",
       "\\begin{tabular}{r|lllll}\n",
       "  & cond0 & estimate & ci & statistic & p.value\\\\\n",
       "  & <chr> & <ppj\\_lbll> & <ppj\\_lbll> & <ppj\\_lbll> & <ppj\\_lbll>\\\\\n",
       "\\hline\n",
       "\tnoun\\_F & noun\\_F & -3.17 & \\${[}-3.73\\$, \\$-2.62{]}\\$ & -11.48 & < .001\\\\\n",
       "\tnoun\\_M & noun\\_M & -3.38 & \\${[}-3.94\\$, \\$-2.83{]}\\$ & -12.23 & < .001\\\\\n",
       "\tverb\\_X & verb\\_X & -3.12 & \\${[}-3.67\\$, \\$-2.56{]}\\$ & -11.28 & < .001\\\\\n",
       "\\end{tabular}\n"
      ],
      "text/markdown": [
       "\n",
       "A apa_results_table: 3 × 5\n",
       "\n",
       "| <!--/--> | cond0 &lt;chr&gt; | estimate &lt;ppj_lbll&gt; | ci &lt;ppj_lbll&gt; | statistic &lt;ppj_lbll&gt; | p.value &lt;ppj_lbll&gt; |\n",
       "|---|---|---|---|---|---|\n",
       "| noun_F | noun_F | -3.17 | $[-3.73$, $-2.62]$ | -11.48 | &lt; .001 |\n",
       "| noun_M | noun_M | -3.38 | $[-3.94$, $-2.83]$ | -12.23 | &lt; .001 |\n",
       "| verb_X | verb_X | -3.12 | $[-3.67$, $-2.56]$ | -11.28 | &lt; .001 |\n",
       "\n"
      ],
      "text/plain": [
       "       cond0  estimate ci                 statistic p.value\n",
       "noun_F noun_F -3.17    $[-3.73$, $-2.62]$ -11.48    < .001 \n",
       "noun_M noun_M -3.38    $[-3.94$, $-2.83]$ -12.23    < .001 \n",
       "verb_X verb_X -3.12    $[-3.67$, $-2.56]$ -11.28    < .001 "
      ]
     },
     "metadata": {},
     "output_type": "display_data"
    },
    {
     "data": {
      "text/markdown": [
       "### Paired comparisons for expected marginal means"
      ]
     },
     "metadata": {},
     "output_type": "display_data"
    },
    {
     "data": {
      "text/html": [
       "<table>\n",
       "<caption>A apa_results_table: 3 × 5</caption>\n",
       "<thead>\n",
       "\t<tr><th></th><th scope=col>contrast</th><th scope=col>estimate</th><th scope=col>ci</th><th scope=col>statistic</th><th scope=col>p.value</th></tr>\n",
       "\t<tr><th></th><th scope=col>&lt;ppj_lbll&gt;</th><th scope=col>&lt;ppj_lbll&gt;</th><th scope=col>&lt;ppj_lbll&gt;</th><th scope=col>&lt;ppj_lbll&gt;</th><th scope=col>&lt;ppj_lbll&gt;</th></tr>\n",
       "</thead>\n",
       "<tbody>\n",
       "\t<tr><th scope=row>noun_F_noun_M</th><td>noun_F - noun_M</td><td>0.21 </td><td>$[-0.14$, $0.56]$</td><td>1.42 </td><td>.337</td></tr>\n",
       "\t<tr><th scope=row>noun_F_verb_X</th><td>noun_F - verb_X</td><td>-0.06</td><td>$[-0.41$, $0.29]$</td><td>-0.38</td><td>.924</td></tr>\n",
       "\t<tr><th scope=row>noun_M_verb_X</th><td>noun_M - verb_X</td><td>-0.26</td><td>$[-0.61$, $0.09]$</td><td>-1.80</td><td>.178</td></tr>\n",
       "</tbody>\n",
       "</table>\n"
      ],
      "text/latex": [
       "A apa\\_results\\_table: 3 × 5\n",
       "\\begin{tabular}{r|lllll}\n",
       "  & contrast & estimate & ci & statistic & p.value\\\\\n",
       "  & <ppj\\_lbll> & <ppj\\_lbll> & <ppj\\_lbll> & <ppj\\_lbll> & <ppj\\_lbll>\\\\\n",
       "\\hline\n",
       "\tnoun\\_F\\_noun\\_M & noun\\_F - noun\\_M & 0.21  & \\${[}-0.14\\$, \\$0.56{]}\\$ & 1.42  & .337\\\\\n",
       "\tnoun\\_F\\_verb\\_X & noun\\_F - verb\\_X & -0.06 & \\${[}-0.41\\$, \\$0.29{]}\\$ & -0.38 & .924\\\\\n",
       "\tnoun\\_M\\_verb\\_X & noun\\_M - verb\\_X & -0.26 & \\${[}-0.61\\$, \\$0.09{]}\\$ & -1.80 & .178\\\\\n",
       "\\end{tabular}\n"
      ],
      "text/markdown": [
       "\n",
       "A apa_results_table: 3 × 5\n",
       "\n",
       "| <!--/--> | contrast &lt;ppj_lbll&gt; | estimate &lt;ppj_lbll&gt; | ci &lt;ppj_lbll&gt; | statistic &lt;ppj_lbll&gt; | p.value &lt;ppj_lbll&gt; |\n",
       "|---|---|---|---|---|---|\n",
       "| noun_F_noun_M | noun_F - noun_M | 0.21  | $[-0.14$, $0.56]$ | 1.42  | .337 |\n",
       "| noun_F_verb_X | noun_F - verb_X | -0.06 | $[-0.41$, $0.29]$ | -0.38 | .924 |\n",
       "| noun_M_verb_X | noun_M - verb_X | -0.26 | $[-0.61$, $0.09]$ | -1.80 | .178 |\n",
       "\n"
      ],
      "text/plain": [
       "              contrast        estimate ci                statistic p.value\n",
       "noun_F_noun_M noun_F - noun_M 0.21     $[-0.14$, $0.56]$ 1.42      .337   \n",
       "noun_F_verb_X noun_F - verb_X -0.06    $[-0.41$, $0.29]$ -0.38     .924   \n",
       "noun_M_verb_X noun_M - verb_X -0.26    $[-0.61$, $0.09]$ -1.80     .178   "
      ]
     },
     "metadata": {},
     "output_type": "display_data"
    }
   ],
   "source": [
    "IDX <- IDX+1; COND <- CONDS[IDX]\n",
    "data1 <- droplevels(subset(df1, eval(parse(text=COND)))); data1 <- data1[complete.cases(data1),]; done1 <- AOV4(data1,COND)\n",
    "display_markdown(str_c(\"# Condition \",IDX,\" of \",length(CONDS))); display_markdown(done1$info); display_markdown(\"### Table\"); done1$aov_APA$table; display_markdown(\"### Result\"); display_markdown(done1$aov_APA[[\"full_result\"]][[\"cond0\"]]); display_markdown(\"### Summary (all done1, incl. NANs)\"); done1$summary; display_markdown(\"### Expected marginal means\"); done1$emm_APA$table; display_markdown(\"### Paired comparisons for expected marginal means\"); done1$pairs_APA$table"
   ]
  },
  {
   "cell_type": "code",
   "execution_count": 206,
   "metadata": {},
   "outputs": [
    {
     "data": {
      "text/markdown": [
       "# Condition 39 of 72"
      ]
     },
     "metadata": {},
     "output_type": "display_data"
    },
    {
     "data": {
      "text/markdown": [
       "`tmin0==0.41 & chan0==\"RF\" & mode0==\"pos\"`"
      ]
     },
     "metadata": {},
     "output_type": "display_data"
    },
    {
     "data": {
      "text/markdown": [
       "### Table"
      ]
     },
     "metadata": {},
     "output_type": "display_data"
    },
    {
     "data": {
      "text/html": [
       "<table>\n",
       "<caption>A apa_results_table: 1 × 7</caption>\n",
       "<thead>\n",
       "\t<tr><th></th><th scope=col>Effect</th><th scope=col>F</th><th scope=col>df1</th><th scope=col>df2</th><th scope=col>MSE</th><th scope=col>p</th><th scope=col>ges</th></tr>\n",
       "\t<tr><th></th><th scope=col>&lt;ppj_lbll&gt;</th><th scope=col>&lt;ppj_lbll&gt;</th><th scope=col>&lt;ppj_lbll&gt;</th><th scope=col>&lt;ppj_lbll&gt;</th><th scope=col>&lt;ppj_lbll&gt;</th><th scope=col>&lt;ppj_lbll&gt;</th><th scope=col>&lt;ppj_lbll&gt;</th></tr>\n",
       "</thead>\n",
       "<tbody>\n",
       "\t<tr><th scope=row>1</th><td>Cond0</td><td>2.67</td><td>1.34</td><td>55.12</td><td>0.96</td><td>.097</td><td>.005</td></tr>\n",
       "</tbody>\n",
       "</table>\n"
      ],
      "text/latex": [
       "A apa\\_results\\_table: 1 × 7\n",
       "\\begin{tabular}{r|lllllll}\n",
       "  & Effect & F & df1 & df2 & MSE & p & ges\\\\\n",
       "  & <ppj\\_lbll> & <ppj\\_lbll> & <ppj\\_lbll> & <ppj\\_lbll> & <ppj\\_lbll> & <ppj\\_lbll> & <ppj\\_lbll>\\\\\n",
       "\\hline\n",
       "\t1 & Cond0 & 2.67 & 1.34 & 55.12 & 0.96 & .097 & .005\\\\\n",
       "\\end{tabular}\n"
      ],
      "text/markdown": [
       "\n",
       "A apa_results_table: 1 × 7\n",
       "\n",
       "| <!--/--> | Effect &lt;ppj_lbll&gt; | F &lt;ppj_lbll&gt; | df1 &lt;ppj_lbll&gt; | df2 &lt;ppj_lbll&gt; | MSE &lt;ppj_lbll&gt; | p &lt;ppj_lbll&gt; | ges &lt;ppj_lbll&gt; |\n",
       "|---|---|---|---|---|---|---|---|\n",
       "| 1 | Cond0 | 2.67 | 1.34 | 55.12 | 0.96 | .097 | .005 |\n",
       "\n"
      ],
      "text/plain": [
       "  Effect F    df1  df2   MSE  p    ges \n",
       "1 Cond0  2.67 1.34 55.12 0.96 .097 .005"
      ]
     },
     "metadata": {},
     "output_type": "display_data"
    },
    {
     "data": {
      "text/markdown": [
       "### Result"
      ]
     },
     "metadata": {},
     "output_type": "display_data"
    },
    {
     "data": {
      "text/markdown": [
       "$F(1.34, 55.12) = 2.67$, $\\mathit{MSE} = 0.96$, $p = .097$, $\\hat{\\eta}^2_G = .005$"
      ]
     },
     "metadata": {},
     "output_type": "display_data"
    },
    {
     "data": {
      "text/markdown": [
       "### Summary (all done1, incl. NANs)"
      ]
     },
     "metadata": {},
     "output_type": "display_data"
    },
    {
     "data": {
      "text/html": [
       "<table>\n",
       "<caption>A tibble: 3 × 5</caption>\n",
       "<thead>\n",
       "\t<tr><th scope=col>cond0</th><th scope=col>N</th><th scope=col>valX_M</th><th scope=col>valX_SD</th><th scope=col>valX_SE</th></tr>\n",
       "\t<tr><th scope=col>&lt;fct&gt;</th><th scope=col>&lt;int&gt;</th><th scope=col>&lt;dbl&gt;</th><th scope=col>&lt;dbl&gt;</th><th scope=col>&lt;dbl&gt;</th></tr>\n",
       "</thead>\n",
       "<tbody>\n",
       "\t<tr><td>noun_F</td><td>42</td><td>-0.9144348</td><td>2.608244</td><td>0.4024607</td></tr>\n",
       "\t<tr><td>noun_M</td><td>42</td><td>-1.3031473</td><td>1.816353</td><td>0.2802694</td></tr>\n",
       "\t<tr><td>verb_X</td><td>42</td><td>-1.0133290</td><td>2.581443</td><td>0.3983253</td></tr>\n",
       "</tbody>\n",
       "</table>\n"
      ],
      "text/latex": [
       "A tibble: 3 × 5\n",
       "\\begin{tabular}{lllll}\n",
       " cond0 & N & valX\\_M & valX\\_SD & valX\\_SE\\\\\n",
       " <fct> & <int> & <dbl> & <dbl> & <dbl>\\\\\n",
       "\\hline\n",
       "\t noun\\_F & 42 & -0.9144348 & 2.608244 & 0.4024607\\\\\n",
       "\t noun\\_M & 42 & -1.3031473 & 1.816353 & 0.2802694\\\\\n",
       "\t verb\\_X & 42 & -1.0133290 & 2.581443 & 0.3983253\\\\\n",
       "\\end{tabular}\n"
      ],
      "text/markdown": [
       "\n",
       "A tibble: 3 × 5\n",
       "\n",
       "| cond0 &lt;fct&gt; | N &lt;int&gt; | valX_M &lt;dbl&gt; | valX_SD &lt;dbl&gt; | valX_SE &lt;dbl&gt; |\n",
       "|---|---|---|---|---|\n",
       "| noun_F | 42 | -0.9144348 | 2.608244 | 0.4024607 |\n",
       "| noun_M | 42 | -1.3031473 | 1.816353 | 0.2802694 |\n",
       "| verb_X | 42 | -1.0133290 | 2.581443 | 0.3983253 |\n",
       "\n"
      ],
      "text/plain": [
       "  cond0  N  valX_M     valX_SD  valX_SE  \n",
       "1 noun_F 42 -0.9144348 2.608244 0.4024607\n",
       "2 noun_M 42 -1.3031473 1.816353 0.2802694\n",
       "3 verb_X 42 -1.0133290 2.581443 0.3983253"
      ]
     },
     "metadata": {},
     "output_type": "display_data"
    },
    {
     "data": {
      "text/markdown": [
       "### Expected marginal means"
      ]
     },
     "metadata": {},
     "output_type": "display_data"
    },
    {
     "data": {
      "text/html": [
       "<table>\n",
       "<caption>A apa_results_table: 3 × 5</caption>\n",
       "<thead>\n",
       "\t<tr><th></th><th scope=col>cond0</th><th scope=col>estimate</th><th scope=col>ci</th><th scope=col>statistic</th><th scope=col>p.value</th></tr>\n",
       "\t<tr><th></th><th scope=col>&lt;chr&gt;</th><th scope=col>&lt;ppj_lbll&gt;</th><th scope=col>&lt;ppj_lbll&gt;</th><th scope=col>&lt;ppj_lbll&gt;</th><th scope=col>&lt;ppj_lbll&gt;</th></tr>\n",
       "</thead>\n",
       "<tbody>\n",
       "\t<tr><th scope=row>noun_F</th><td>noun_F</td><td>-0.91</td><td>$[-1.65$, $-0.18]$</td><td>-2.51</td><td>.016</td></tr>\n",
       "\t<tr><th scope=row>noun_M</th><td>noun_M</td><td>-1.30</td><td>$[-2.04$, $-0.57]$</td><td>-3.57</td><td>.001</td></tr>\n",
       "\t<tr><th scope=row>verb_X</th><td>verb_X</td><td>-1.01</td><td>$[-1.75$, $-0.28]$</td><td>-2.78</td><td>.008</td></tr>\n",
       "</tbody>\n",
       "</table>\n"
      ],
      "text/latex": [
       "A apa\\_results\\_table: 3 × 5\n",
       "\\begin{tabular}{r|lllll}\n",
       "  & cond0 & estimate & ci & statistic & p.value\\\\\n",
       "  & <chr> & <ppj\\_lbll> & <ppj\\_lbll> & <ppj\\_lbll> & <ppj\\_lbll>\\\\\n",
       "\\hline\n",
       "\tnoun\\_F & noun\\_F & -0.91 & \\${[}-1.65\\$, \\$-0.18{]}\\$ & -2.51 & .016\\\\\n",
       "\tnoun\\_M & noun\\_M & -1.30 & \\${[}-2.04\\$, \\$-0.57{]}\\$ & -3.57 & .001\\\\\n",
       "\tverb\\_X & verb\\_X & -1.01 & \\${[}-1.75\\$, \\$-0.28{]}\\$ & -2.78 & .008\\\\\n",
       "\\end{tabular}\n"
      ],
      "text/markdown": [
       "\n",
       "A apa_results_table: 3 × 5\n",
       "\n",
       "| <!--/--> | cond0 &lt;chr&gt; | estimate &lt;ppj_lbll&gt; | ci &lt;ppj_lbll&gt; | statistic &lt;ppj_lbll&gt; | p.value &lt;ppj_lbll&gt; |\n",
       "|---|---|---|---|---|---|\n",
       "| noun_F | noun_F | -0.91 | $[-1.65$, $-0.18]$ | -2.51 | .016 |\n",
       "| noun_M | noun_M | -1.30 | $[-2.04$, $-0.57]$ | -3.57 | .001 |\n",
       "| verb_X | verb_X | -1.01 | $[-1.75$, $-0.28]$ | -2.78 | .008 |\n",
       "\n"
      ],
      "text/plain": [
       "       cond0  estimate ci                 statistic p.value\n",
       "noun_F noun_F -0.91    $[-1.65$, $-0.18]$ -2.51     .016   \n",
       "noun_M noun_M -1.30    $[-2.04$, $-0.57]$ -3.57     .001   \n",
       "verb_X verb_X -1.01    $[-1.75$, $-0.28]$ -2.78     .008   "
      ]
     },
     "metadata": {},
     "output_type": "display_data"
    },
    {
     "data": {
      "text/markdown": [
       "### Paired comparisons for expected marginal means"
      ]
     },
     "metadata": {},
     "output_type": "display_data"
    },
    {
     "data": {
      "text/html": [
       "<table>\n",
       "<caption>A apa_results_table: 3 × 5</caption>\n",
       "<thead>\n",
       "\t<tr><th></th><th scope=col>contrast</th><th scope=col>estimate</th><th scope=col>ci</th><th scope=col>statistic</th><th scope=col>p.value</th></tr>\n",
       "\t<tr><th></th><th scope=col>&lt;ppj_lbll&gt;</th><th scope=col>&lt;ppj_lbll&gt;</th><th scope=col>&lt;ppj_lbll&gt;</th><th scope=col>&lt;ppj_lbll&gt;</th><th scope=col>&lt;ppj_lbll&gt;</th></tr>\n",
       "</thead>\n",
       "<tbody>\n",
       "\t<tr><th scope=row>noun_F_noun_M</th><td>noun_F - noun_M</td><td>0.39 </td><td>$[-0.03$, $0.81]$</td><td>2.22 </td><td>.073</td></tr>\n",
       "\t<tr><th scope=row>noun_F_verb_X</th><td>noun_F - verb_X</td><td>0.10 </td><td>$[-0.32$, $0.52]$</td><td>0.57 </td><td>.839</td></tr>\n",
       "\t<tr><th scope=row>noun_M_verb_X</th><td>noun_M - verb_X</td><td>-0.29</td><td>$[-0.71$, $0.13]$</td><td>-1.66</td><td>.228</td></tr>\n",
       "</tbody>\n",
       "</table>\n"
      ],
      "text/latex": [
       "A apa\\_results\\_table: 3 × 5\n",
       "\\begin{tabular}{r|lllll}\n",
       "  & contrast & estimate & ci & statistic & p.value\\\\\n",
       "  & <ppj\\_lbll> & <ppj\\_lbll> & <ppj\\_lbll> & <ppj\\_lbll> & <ppj\\_lbll>\\\\\n",
       "\\hline\n",
       "\tnoun\\_F\\_noun\\_M & noun\\_F - noun\\_M & 0.39  & \\${[}-0.03\\$, \\$0.81{]}\\$ & 2.22  & .073\\\\\n",
       "\tnoun\\_F\\_verb\\_X & noun\\_F - verb\\_X & 0.10  & \\${[}-0.32\\$, \\$0.52{]}\\$ & 0.57  & .839\\\\\n",
       "\tnoun\\_M\\_verb\\_X & noun\\_M - verb\\_X & -0.29 & \\${[}-0.71\\$, \\$0.13{]}\\$ & -1.66 & .228\\\\\n",
       "\\end{tabular}\n"
      ],
      "text/markdown": [
       "\n",
       "A apa_results_table: 3 × 5\n",
       "\n",
       "| <!--/--> | contrast &lt;ppj_lbll&gt; | estimate &lt;ppj_lbll&gt; | ci &lt;ppj_lbll&gt; | statistic &lt;ppj_lbll&gt; | p.value &lt;ppj_lbll&gt; |\n",
       "|---|---|---|---|---|---|\n",
       "| noun_F_noun_M | noun_F - noun_M | 0.39  | $[-0.03$, $0.81]$ | 2.22  | .073 |\n",
       "| noun_F_verb_X | noun_F - verb_X | 0.10  | $[-0.32$, $0.52]$ | 0.57  | .839 |\n",
       "| noun_M_verb_X | noun_M - verb_X | -0.29 | $[-0.71$, $0.13]$ | -1.66 | .228 |\n",
       "\n"
      ],
      "text/plain": [
       "              contrast        estimate ci                statistic p.value\n",
       "noun_F_noun_M noun_F - noun_M 0.39     $[-0.03$, $0.81]$ 2.22      .073   \n",
       "noun_F_verb_X noun_F - verb_X 0.10     $[-0.32$, $0.52]$ 0.57      .839   \n",
       "noun_M_verb_X noun_M - verb_X -0.29    $[-0.71$, $0.13]$ -1.66     .228   "
      ]
     },
     "metadata": {},
     "output_type": "display_data"
    }
   ],
   "source": [
    "IDX <- IDX+1; COND <- CONDS[IDX]\n",
    "data1 <- droplevels(subset(df1, eval(parse(text=COND)))); data1 <- data1[complete.cases(data1),]; done1 <- AOV4(data1,COND)\n",
    "display_markdown(str_c(\"# Condition \",IDX,\" of \",length(CONDS))); display_markdown(done1$info); display_markdown(\"### Table\"); done1$aov_APA$table; display_markdown(\"### Result\"); display_markdown(done1$aov_APA[[\"full_result\"]][[\"cond0\"]]); display_markdown(\"### Summary (all done1, incl. NANs)\"); done1$summary; display_markdown(\"### Expected marginal means\"); done1$emm_APA$table; display_markdown(\"### Paired comparisons for expected marginal means\"); done1$pairs_APA$table"
   ]
  },
  {
   "cell_type": "code",
   "execution_count": 207,
   "metadata": {},
   "outputs": [
    {
     "data": {
      "text/markdown": [
       "# Condition 40 of 72"
      ]
     },
     "metadata": {},
     "output_type": "display_data"
    },
    {
     "data": {
      "text/markdown": [
       "`tmin0==0.41 & chan0==\"RF\" & mode0==\"neg\"`"
      ]
     },
     "metadata": {},
     "output_type": "display_data"
    },
    {
     "data": {
      "text/markdown": [
       "### Table"
      ]
     },
     "metadata": {},
     "output_type": "display_data"
    },
    {
     "data": {
      "text/html": [
       "<table>\n",
       "<caption>A apa_results_table: 1 × 7</caption>\n",
       "<thead>\n",
       "\t<tr><th></th><th scope=col>Effect</th><th scope=col>F</th><th scope=col>df1</th><th scope=col>df2</th><th scope=col>MSE</th><th scope=col>p</th><th scope=col>ges</th></tr>\n",
       "\t<tr><th></th><th scope=col>&lt;ppj_lbll&gt;</th><th scope=col>&lt;ppj_lbll&gt;</th><th scope=col>&lt;ppj_lbll&gt;</th><th scope=col>&lt;ppj_lbll&gt;</th><th scope=col>&lt;ppj_lbll&gt;</th><th scope=col>&lt;ppj_lbll&gt;</th><th scope=col>&lt;ppj_lbll&gt;</th></tr>\n",
       "</thead>\n",
       "<tbody>\n",
       "\t<tr><th scope=row>1</th><td>Cond0</td><td>5.06</td><td>1.77</td><td>72.54</td><td>0.38</td><td>.011</td><td>.008</td></tr>\n",
       "</tbody>\n",
       "</table>\n"
      ],
      "text/latex": [
       "A apa\\_results\\_table: 1 × 7\n",
       "\\begin{tabular}{r|lllllll}\n",
       "  & Effect & F & df1 & df2 & MSE & p & ges\\\\\n",
       "  & <ppj\\_lbll> & <ppj\\_lbll> & <ppj\\_lbll> & <ppj\\_lbll> & <ppj\\_lbll> & <ppj\\_lbll> & <ppj\\_lbll>\\\\\n",
       "\\hline\n",
       "\t1 & Cond0 & 5.06 & 1.77 & 72.54 & 0.38 & .011 & .008\\\\\n",
       "\\end{tabular}\n"
      ],
      "text/markdown": [
       "\n",
       "A apa_results_table: 1 × 7\n",
       "\n",
       "| <!--/--> | Effect &lt;ppj_lbll&gt; | F &lt;ppj_lbll&gt; | df1 &lt;ppj_lbll&gt; | df2 &lt;ppj_lbll&gt; | MSE &lt;ppj_lbll&gt; | p &lt;ppj_lbll&gt; | ges &lt;ppj_lbll&gt; |\n",
       "|---|---|---|---|---|---|---|---|\n",
       "| 1 | Cond0 | 5.06 | 1.77 | 72.54 | 0.38 | .011 | .008 |\n",
       "\n"
      ],
      "text/plain": [
       "  Effect F    df1  df2   MSE  p    ges \n",
       "1 Cond0  5.06 1.77 72.54 0.38 .011 .008"
      ]
     },
     "metadata": {},
     "output_type": "display_data"
    },
    {
     "data": {
      "text/markdown": [
       "### Result"
      ]
     },
     "metadata": {},
     "output_type": "display_data"
    },
    {
     "data": {
      "text/markdown": [
       "$F(1.77, 72.54) = 5.06$, $\\mathit{MSE} = 0.38$, $p = .011$, $\\hat{\\eta}^2_G = .008$"
      ]
     },
     "metadata": {},
     "output_type": "display_data"
    },
    {
     "data": {
      "text/markdown": [
       "### Summary (all done1, incl. NANs)"
      ]
     },
     "metadata": {},
     "output_type": "display_data"
    },
    {
     "data": {
      "text/html": [
       "<table>\n",
       "<caption>A tibble: 3 × 5</caption>\n",
       "<thead>\n",
       "\t<tr><th scope=col>cond0</th><th scope=col>N</th><th scope=col>valX_M</th><th scope=col>valX_SD</th><th scope=col>valX_SE</th></tr>\n",
       "\t<tr><th scope=col>&lt;fct&gt;</th><th scope=col>&lt;int&gt;</th><th scope=col>&lt;dbl&gt;</th><th scope=col>&lt;dbl&gt;</th><th scope=col>&lt;dbl&gt;</th></tr>\n",
       "</thead>\n",
       "<tbody>\n",
       "\t<tr><td>noun_F</td><td>42</td><td>-3.546438</td><td>1.781913</td><td>0.2749552</td></tr>\n",
       "\t<tr><td>noun_M</td><td>42</td><td>-3.812141</td><td>1.786266</td><td>0.2756268</td></tr>\n",
       "\t<tr><td>verb_X</td><td>42</td><td>-3.417842</td><td>1.930124</td><td>0.2978245</td></tr>\n",
       "</tbody>\n",
       "</table>\n"
      ],
      "text/latex": [
       "A tibble: 3 × 5\n",
       "\\begin{tabular}{lllll}\n",
       " cond0 & N & valX\\_M & valX\\_SD & valX\\_SE\\\\\n",
       " <fct> & <int> & <dbl> & <dbl> & <dbl>\\\\\n",
       "\\hline\n",
       "\t noun\\_F & 42 & -3.546438 & 1.781913 & 0.2749552\\\\\n",
       "\t noun\\_M & 42 & -3.812141 & 1.786266 & 0.2756268\\\\\n",
       "\t verb\\_X & 42 & -3.417842 & 1.930124 & 0.2978245\\\\\n",
       "\\end{tabular}\n"
      ],
      "text/markdown": [
       "\n",
       "A tibble: 3 × 5\n",
       "\n",
       "| cond0 &lt;fct&gt; | N &lt;int&gt; | valX_M &lt;dbl&gt; | valX_SD &lt;dbl&gt; | valX_SE &lt;dbl&gt; |\n",
       "|---|---|---|---|---|\n",
       "| noun_F | 42 | -3.546438 | 1.781913 | 0.2749552 |\n",
       "| noun_M | 42 | -3.812141 | 1.786266 | 0.2756268 |\n",
       "| verb_X | 42 | -3.417842 | 1.930124 | 0.2978245 |\n",
       "\n"
      ],
      "text/plain": [
       "  cond0  N  valX_M    valX_SD  valX_SE  \n",
       "1 noun_F 42 -3.546438 1.781913 0.2749552\n",
       "2 noun_M 42 -3.812141 1.786266 0.2756268\n",
       "3 verb_X 42 -3.417842 1.930124 0.2978245"
      ]
     },
     "metadata": {},
     "output_type": "display_data"
    },
    {
     "data": {
      "text/markdown": [
       "### Expected marginal means"
      ]
     },
     "metadata": {},
     "output_type": "display_data"
    },
    {
     "data": {
      "text/html": [
       "<table>\n",
       "<caption>A apa_results_table: 3 × 5</caption>\n",
       "<thead>\n",
       "\t<tr><th></th><th scope=col>cond0</th><th scope=col>estimate</th><th scope=col>ci</th><th scope=col>statistic</th><th scope=col>p.value</th></tr>\n",
       "\t<tr><th></th><th scope=col>&lt;chr&gt;</th><th scope=col>&lt;ppj_lbll&gt;</th><th scope=col>&lt;ppj_lbll&gt;</th><th scope=col>&lt;ppj_lbll&gt;</th><th scope=col>&lt;ppj_lbll&gt;</th></tr>\n",
       "</thead>\n",
       "<tbody>\n",
       "\t<tr><th scope=row>noun_F</th><td>noun_F</td><td>-3.55</td><td>$[-4.12$, $-2.98]$</td><td>-12.53</td><td>&lt; .001</td></tr>\n",
       "\t<tr><th scope=row>noun_M</th><td>noun_M</td><td>-3.81</td><td>$[-4.38$, $-3.24]$</td><td>-13.47</td><td>&lt; .001</td></tr>\n",
       "\t<tr><th scope=row>verb_X</th><td>verb_X</td><td>-3.42</td><td>$[-3.99$, $-2.85]$</td><td>-12.08</td><td>&lt; .001</td></tr>\n",
       "</tbody>\n",
       "</table>\n"
      ],
      "text/latex": [
       "A apa\\_results\\_table: 3 × 5\n",
       "\\begin{tabular}{r|lllll}\n",
       "  & cond0 & estimate & ci & statistic & p.value\\\\\n",
       "  & <chr> & <ppj\\_lbll> & <ppj\\_lbll> & <ppj\\_lbll> & <ppj\\_lbll>\\\\\n",
       "\\hline\n",
       "\tnoun\\_F & noun\\_F & -3.55 & \\${[}-4.12\\$, \\$-2.98{]}\\$ & -12.53 & < .001\\\\\n",
       "\tnoun\\_M & noun\\_M & -3.81 & \\${[}-4.38\\$, \\$-3.24{]}\\$ & -13.47 & < .001\\\\\n",
       "\tverb\\_X & verb\\_X & -3.42 & \\${[}-3.99\\$, \\$-2.85{]}\\$ & -12.08 & < .001\\\\\n",
       "\\end{tabular}\n"
      ],
      "text/markdown": [
       "\n",
       "A apa_results_table: 3 × 5\n",
       "\n",
       "| <!--/--> | cond0 &lt;chr&gt; | estimate &lt;ppj_lbll&gt; | ci &lt;ppj_lbll&gt; | statistic &lt;ppj_lbll&gt; | p.value &lt;ppj_lbll&gt; |\n",
       "|---|---|---|---|---|---|\n",
       "| noun_F | noun_F | -3.55 | $[-4.12$, $-2.98]$ | -12.53 | &lt; .001 |\n",
       "| noun_M | noun_M | -3.81 | $[-4.38$, $-3.24]$ | -13.47 | &lt; .001 |\n",
       "| verb_X | verb_X | -3.42 | $[-3.99$, $-2.85]$ | -12.08 | &lt; .001 |\n",
       "\n"
      ],
      "text/plain": [
       "       cond0  estimate ci                 statistic p.value\n",
       "noun_F noun_F -3.55    $[-4.12$, $-2.98]$ -12.53    < .001 \n",
       "noun_M noun_M -3.81    $[-4.38$, $-3.24]$ -13.47    < .001 \n",
       "verb_X verb_X -3.42    $[-3.99$, $-2.85]$ -12.08    < .001 "
      ]
     },
     "metadata": {},
     "output_type": "display_data"
    },
    {
     "data": {
      "text/markdown": [
       "### Paired comparisons for expected marginal means"
      ]
     },
     "metadata": {},
     "output_type": "display_data"
    },
    {
     "data": {
      "text/html": [
       "<table>\n",
       "<caption>A apa_results_table: 3 × 5</caption>\n",
       "<thead>\n",
       "\t<tr><th></th><th scope=col>contrast</th><th scope=col>estimate</th><th scope=col>ci</th><th scope=col>statistic</th><th scope=col>p.value</th></tr>\n",
       "\t<tr><th></th><th scope=col>&lt;ppj_lbll&gt;</th><th scope=col>&lt;ppj_lbll&gt;</th><th scope=col>&lt;ppj_lbll&gt;</th><th scope=col>&lt;ppj_lbll&gt;</th><th scope=col>&lt;ppj_lbll&gt;</th></tr>\n",
       "</thead>\n",
       "<tbody>\n",
       "\t<tr><th scope=row>noun_F_noun_M</th><td>noun_F - noun_M</td><td>0.27 </td><td>$[-0.04$, $0.57]$ </td><td>2.10 </td><td>.096</td></tr>\n",
       "\t<tr><th scope=row>noun_F_verb_X</th><td>noun_F - verb_X</td><td>-0.13</td><td>$[-0.43$, $0.17]$ </td><td>-1.02</td><td>.568</td></tr>\n",
       "\t<tr><th scope=row>noun_M_verb_X</th><td>noun_M - verb_X</td><td>-0.39</td><td>$[-0.70$, $-0.09]$</td><td>-3.12</td><td>.007</td></tr>\n",
       "</tbody>\n",
       "</table>\n"
      ],
      "text/latex": [
       "A apa\\_results\\_table: 3 × 5\n",
       "\\begin{tabular}{r|lllll}\n",
       "  & contrast & estimate & ci & statistic & p.value\\\\\n",
       "  & <ppj\\_lbll> & <ppj\\_lbll> & <ppj\\_lbll> & <ppj\\_lbll> & <ppj\\_lbll>\\\\\n",
       "\\hline\n",
       "\tnoun\\_F\\_noun\\_M & noun\\_F - noun\\_M & 0.27  & \\${[}-0.04\\$, \\$0.57{]}\\$  & 2.10  & .096\\\\\n",
       "\tnoun\\_F\\_verb\\_X & noun\\_F - verb\\_X & -0.13 & \\${[}-0.43\\$, \\$0.17{]}\\$  & -1.02 & .568\\\\\n",
       "\tnoun\\_M\\_verb\\_X & noun\\_M - verb\\_X & -0.39 & \\${[}-0.70\\$, \\$-0.09{]}\\$ & -3.12 & .007\\\\\n",
       "\\end{tabular}\n"
      ],
      "text/markdown": [
       "\n",
       "A apa_results_table: 3 × 5\n",
       "\n",
       "| <!--/--> | contrast &lt;ppj_lbll&gt; | estimate &lt;ppj_lbll&gt; | ci &lt;ppj_lbll&gt; | statistic &lt;ppj_lbll&gt; | p.value &lt;ppj_lbll&gt; |\n",
       "|---|---|---|---|---|---|\n",
       "| noun_F_noun_M | noun_F - noun_M | 0.27  | $[-0.04$, $0.57]$  | 2.10  | .096 |\n",
       "| noun_F_verb_X | noun_F - verb_X | -0.13 | $[-0.43$, $0.17]$  | -1.02 | .568 |\n",
       "| noun_M_verb_X | noun_M - verb_X | -0.39 | $[-0.70$, $-0.09]$ | -3.12 | .007 |\n",
       "\n"
      ],
      "text/plain": [
       "              contrast        estimate ci                 statistic p.value\n",
       "noun_F_noun_M noun_F - noun_M 0.27     $[-0.04$, $0.57]$  2.10      .096   \n",
       "noun_F_verb_X noun_F - verb_X -0.13    $[-0.43$, $0.17]$  -1.02     .568   \n",
       "noun_M_verb_X noun_M - verb_X -0.39    $[-0.70$, $-0.09]$ -3.12     .007   "
      ]
     },
     "metadata": {},
     "output_type": "display_data"
    }
   ],
   "source": [
    "IDX <- IDX+1; COND <- CONDS[IDX]\n",
    "data1 <- droplevels(subset(df1, eval(parse(text=COND)))); data1 <- data1[complete.cases(data1),]; done1 <- AOV4(data1,COND)\n",
    "display_markdown(str_c(\"# Condition \",IDX,\" of \",length(CONDS))); display_markdown(done1$info); display_markdown(\"### Table\"); done1$aov_APA$table; display_markdown(\"### Result\"); display_markdown(done1$aov_APA[[\"full_result\"]][[\"cond0\"]]); display_markdown(\"### Summary (all done1, incl. NANs)\"); done1$summary; display_markdown(\"### Expected marginal means\"); done1$emm_APA$table; display_markdown(\"### Paired comparisons for expected marginal means\"); done1$pairs_APA$table"
   ]
  },
  {
   "cell_type": "code",
   "execution_count": 208,
   "metadata": {},
   "outputs": [
    {
     "data": {
      "text/markdown": [
       "# Condition 41 of 72"
      ]
     },
     "metadata": {},
     "output_type": "display_data"
    },
    {
     "data": {
      "text/markdown": [
       "`tmin0==0.41 & chan0==\"LC\" & mode0==\"pos\"`"
      ]
     },
     "metadata": {},
     "output_type": "display_data"
    },
    {
     "data": {
      "text/markdown": [
       "### Table"
      ]
     },
     "metadata": {},
     "output_type": "display_data"
    },
    {
     "data": {
      "text/html": [
       "<table>\n",
       "<caption>A apa_results_table: 1 × 7</caption>\n",
       "<thead>\n",
       "\t<tr><th></th><th scope=col>Effect</th><th scope=col>F</th><th scope=col>df1</th><th scope=col>df2</th><th scope=col>MSE</th><th scope=col>p</th><th scope=col>ges</th></tr>\n",
       "\t<tr><th></th><th scope=col>&lt;ppj_lbll&gt;</th><th scope=col>&lt;ppj_lbll&gt;</th><th scope=col>&lt;ppj_lbll&gt;</th><th scope=col>&lt;ppj_lbll&gt;</th><th scope=col>&lt;ppj_lbll&gt;</th><th scope=col>&lt;ppj_lbll&gt;</th><th scope=col>&lt;ppj_lbll&gt;</th></tr>\n",
       "</thead>\n",
       "<tbody>\n",
       "\t<tr><th scope=row>1</th><td>Cond0</td><td>0.49</td><td>1.74</td><td>71.54</td><td>0.28</td><td>.587</td><td>.001</td></tr>\n",
       "</tbody>\n",
       "</table>\n"
      ],
      "text/latex": [
       "A apa\\_results\\_table: 1 × 7\n",
       "\\begin{tabular}{r|lllllll}\n",
       "  & Effect & F & df1 & df2 & MSE & p & ges\\\\\n",
       "  & <ppj\\_lbll> & <ppj\\_lbll> & <ppj\\_lbll> & <ppj\\_lbll> & <ppj\\_lbll> & <ppj\\_lbll> & <ppj\\_lbll>\\\\\n",
       "\\hline\n",
       "\t1 & Cond0 & 0.49 & 1.74 & 71.54 & 0.28 & .587 & .001\\\\\n",
       "\\end{tabular}\n"
      ],
      "text/markdown": [
       "\n",
       "A apa_results_table: 1 × 7\n",
       "\n",
       "| <!--/--> | Effect &lt;ppj_lbll&gt; | F &lt;ppj_lbll&gt; | df1 &lt;ppj_lbll&gt; | df2 &lt;ppj_lbll&gt; | MSE &lt;ppj_lbll&gt; | p &lt;ppj_lbll&gt; | ges &lt;ppj_lbll&gt; |\n",
       "|---|---|---|---|---|---|---|---|\n",
       "| 1 | Cond0 | 0.49 | 1.74 | 71.54 | 0.28 | .587 | .001 |\n",
       "\n"
      ],
      "text/plain": [
       "  Effect F    df1  df2   MSE  p    ges \n",
       "1 Cond0  0.49 1.74 71.54 0.28 .587 .001"
      ]
     },
     "metadata": {},
     "output_type": "display_data"
    },
    {
     "data": {
      "text/markdown": [
       "### Result"
      ]
     },
     "metadata": {},
     "output_type": "display_data"
    },
    {
     "data": {
      "text/markdown": [
       "$F(1.74, 71.54) = 0.49$, $\\mathit{MSE} = 0.28$, $p = .587$, $\\hat{\\eta}^2_G = .001$"
      ]
     },
     "metadata": {},
     "output_type": "display_data"
    },
    {
     "data": {
      "text/markdown": [
       "### Summary (all done1, incl. NANs)"
      ]
     },
     "metadata": {},
     "output_type": "display_data"
    },
    {
     "data": {
      "text/html": [
       "<table>\n",
       "<caption>A tibble: 3 × 5</caption>\n",
       "<thead>\n",
       "\t<tr><th scope=col>cond0</th><th scope=col>N</th><th scope=col>valX_M</th><th scope=col>valX_SD</th><th scope=col>valX_SE</th></tr>\n",
       "\t<tr><th scope=col>&lt;fct&gt;</th><th scope=col>&lt;int&gt;</th><th scope=col>&lt;dbl&gt;</th><th scope=col>&lt;dbl&gt;</th><th scope=col>&lt;dbl&gt;</th></tr>\n",
       "</thead>\n",
       "<tbody>\n",
       "\t<tr><td>noun_F</td><td>42</td><td>1.620320</td><td>1.334331</td><td>0.2058917</td></tr>\n",
       "\t<tr><td>noun_M</td><td>42</td><td>1.713846</td><td>1.208844</td><td>0.1865286</td></tr>\n",
       "\t<tr><td>verb_X</td><td>42</td><td>1.623066</td><td>1.231181</td><td>0.1899753</td></tr>\n",
       "</tbody>\n",
       "</table>\n"
      ],
      "text/latex": [
       "A tibble: 3 × 5\n",
       "\\begin{tabular}{lllll}\n",
       " cond0 & N & valX\\_M & valX\\_SD & valX\\_SE\\\\\n",
       " <fct> & <int> & <dbl> & <dbl> & <dbl>\\\\\n",
       "\\hline\n",
       "\t noun\\_F & 42 & 1.620320 & 1.334331 & 0.2058917\\\\\n",
       "\t noun\\_M & 42 & 1.713846 & 1.208844 & 0.1865286\\\\\n",
       "\t verb\\_X & 42 & 1.623066 & 1.231181 & 0.1899753\\\\\n",
       "\\end{tabular}\n"
      ],
      "text/markdown": [
       "\n",
       "A tibble: 3 × 5\n",
       "\n",
       "| cond0 &lt;fct&gt; | N &lt;int&gt; | valX_M &lt;dbl&gt; | valX_SD &lt;dbl&gt; | valX_SE &lt;dbl&gt; |\n",
       "|---|---|---|---|---|\n",
       "| noun_F | 42 | 1.620320 | 1.334331 | 0.2058917 |\n",
       "| noun_M | 42 | 1.713846 | 1.208844 | 0.1865286 |\n",
       "| verb_X | 42 | 1.623066 | 1.231181 | 0.1899753 |\n",
       "\n"
      ],
      "text/plain": [
       "  cond0  N  valX_M   valX_SD  valX_SE  \n",
       "1 noun_F 42 1.620320 1.334331 0.2058917\n",
       "2 noun_M 42 1.713846 1.208844 0.1865286\n",
       "3 verb_X 42 1.623066 1.231181 0.1899753"
      ]
     },
     "metadata": {},
     "output_type": "display_data"
    },
    {
     "data": {
      "text/markdown": [
       "### Expected marginal means"
      ]
     },
     "metadata": {},
     "output_type": "display_data"
    },
    {
     "data": {
      "text/html": [
       "<table>\n",
       "<caption>A apa_results_table: 3 × 5</caption>\n",
       "<thead>\n",
       "\t<tr><th></th><th scope=col>cond0</th><th scope=col>estimate</th><th scope=col>ci</th><th scope=col>statistic</th><th scope=col>p.value</th></tr>\n",
       "\t<tr><th></th><th scope=col>&lt;chr&gt;</th><th scope=col>&lt;ppj_lbll&gt;</th><th scope=col>&lt;ppj_lbll&gt;</th><th scope=col>&lt;ppj_lbll&gt;</th><th scope=col>&lt;ppj_lbll&gt;</th></tr>\n",
       "</thead>\n",
       "<tbody>\n",
       "\t<tr><th scope=row>noun_F</th><td>noun_F</td><td>1.62</td><td>$[1.23$, $2.01]$</td><td>8.34</td><td>&lt; .001</td></tr>\n",
       "\t<tr><th scope=row>noun_M</th><td>noun_M</td><td>1.71</td><td>$[1.32$, $2.10]$</td><td>8.82</td><td>&lt; .001</td></tr>\n",
       "\t<tr><th scope=row>verb_X</th><td>verb_X</td><td>1.62</td><td>$[1.23$, $2.01]$</td><td>8.35</td><td>&lt; .001</td></tr>\n",
       "</tbody>\n",
       "</table>\n"
      ],
      "text/latex": [
       "A apa\\_results\\_table: 3 × 5\n",
       "\\begin{tabular}{r|lllll}\n",
       "  & cond0 & estimate & ci & statistic & p.value\\\\\n",
       "  & <chr> & <ppj\\_lbll> & <ppj\\_lbll> & <ppj\\_lbll> & <ppj\\_lbll>\\\\\n",
       "\\hline\n",
       "\tnoun\\_F & noun\\_F & 1.62 & \\${[}1.23\\$, \\$2.01{]}\\$ & 8.34 & < .001\\\\\n",
       "\tnoun\\_M & noun\\_M & 1.71 & \\${[}1.32\\$, \\$2.10{]}\\$ & 8.82 & < .001\\\\\n",
       "\tverb\\_X & verb\\_X & 1.62 & \\${[}1.23\\$, \\$2.01{]}\\$ & 8.35 & < .001\\\\\n",
       "\\end{tabular}\n"
      ],
      "text/markdown": [
       "\n",
       "A apa_results_table: 3 × 5\n",
       "\n",
       "| <!--/--> | cond0 &lt;chr&gt; | estimate &lt;ppj_lbll&gt; | ci &lt;ppj_lbll&gt; | statistic &lt;ppj_lbll&gt; | p.value &lt;ppj_lbll&gt; |\n",
       "|---|---|---|---|---|---|\n",
       "| noun_F | noun_F | 1.62 | $[1.23$, $2.01]$ | 8.34 | &lt; .001 |\n",
       "| noun_M | noun_M | 1.71 | $[1.32$, $2.10]$ | 8.82 | &lt; .001 |\n",
       "| verb_X | verb_X | 1.62 | $[1.23$, $2.01]$ | 8.35 | &lt; .001 |\n",
       "\n"
      ],
      "text/plain": [
       "       cond0  estimate ci               statistic p.value\n",
       "noun_F noun_F 1.62     $[1.23$, $2.01]$ 8.34      < .001 \n",
       "noun_M noun_M 1.71     $[1.32$, $2.10]$ 8.82      < .001 \n",
       "verb_X verb_X 1.62     $[1.23$, $2.01]$ 8.35      < .001 "
      ]
     },
     "metadata": {},
     "output_type": "display_data"
    },
    {
     "data": {
      "text/markdown": [
       "### Paired comparisons for expected marginal means"
      ]
     },
     "metadata": {},
     "output_type": "display_data"
    },
    {
     "data": {
      "text/html": [
       "<table>\n",
       "<caption>A apa_results_table: 3 × 5</caption>\n",
       "<thead>\n",
       "\t<tr><th></th><th scope=col>contrast</th><th scope=col>estimate</th><th scope=col>ci</th><th scope=col>statistic</th><th scope=col>p.value</th></tr>\n",
       "\t<tr><th></th><th scope=col>&lt;ppj_lbll&gt;</th><th scope=col>&lt;ppj_lbll&gt;</th><th scope=col>&lt;ppj_lbll&gt;</th><th scope=col>&lt;ppj_lbll&gt;</th><th scope=col>&lt;ppj_lbll&gt;</th></tr>\n",
       "</thead>\n",
       "<tbody>\n",
       "\t<tr><th scope=row>noun_F_noun_M</th><td>noun_F - noun_M</td><td>-0.09</td><td>$[-0.35$, $0.16]$</td><td>-0.87</td><td>.659  </td></tr>\n",
       "\t<tr><th scope=row>noun_F_verb_X</th><td>noun_F - verb_X</td><td>0.00 </td><td>$[-0.26$, $0.25]$</td><td>-0.03</td><td>&gt; .999</td></tr>\n",
       "\t<tr><th scope=row>noun_M_verb_X</th><td>noun_M - verb_X</td><td>0.09 </td><td>$[-0.17$, $0.35]$</td><td>0.85 </td><td>.675  </td></tr>\n",
       "</tbody>\n",
       "</table>\n"
      ],
      "text/latex": [
       "A apa\\_results\\_table: 3 × 5\n",
       "\\begin{tabular}{r|lllll}\n",
       "  & contrast & estimate & ci & statistic & p.value\\\\\n",
       "  & <ppj\\_lbll> & <ppj\\_lbll> & <ppj\\_lbll> & <ppj\\_lbll> & <ppj\\_lbll>\\\\\n",
       "\\hline\n",
       "\tnoun\\_F\\_noun\\_M & noun\\_F - noun\\_M & -0.09 & \\${[}-0.35\\$, \\$0.16{]}\\$ & -0.87 & .659  \\\\\n",
       "\tnoun\\_F\\_verb\\_X & noun\\_F - verb\\_X & 0.00  & \\${[}-0.26\\$, \\$0.25{]}\\$ & -0.03 & > .999\\\\\n",
       "\tnoun\\_M\\_verb\\_X & noun\\_M - verb\\_X & 0.09  & \\${[}-0.17\\$, \\$0.35{]}\\$ & 0.85  & .675  \\\\\n",
       "\\end{tabular}\n"
      ],
      "text/markdown": [
       "\n",
       "A apa_results_table: 3 × 5\n",
       "\n",
       "| <!--/--> | contrast &lt;ppj_lbll&gt; | estimate &lt;ppj_lbll&gt; | ci &lt;ppj_lbll&gt; | statistic &lt;ppj_lbll&gt; | p.value &lt;ppj_lbll&gt; |\n",
       "|---|---|---|---|---|---|\n",
       "| noun_F_noun_M | noun_F - noun_M | -0.09 | $[-0.35$, $0.16]$ | -0.87 | .659   |\n",
       "| noun_F_verb_X | noun_F - verb_X | 0.00  | $[-0.26$, $0.25]$ | -0.03 | &gt; .999 |\n",
       "| noun_M_verb_X | noun_M - verb_X | 0.09  | $[-0.17$, $0.35]$ | 0.85  | .675   |\n",
       "\n"
      ],
      "text/plain": [
       "              contrast        estimate ci                statistic p.value\n",
       "noun_F_noun_M noun_F - noun_M -0.09    $[-0.35$, $0.16]$ -0.87     .659   \n",
       "noun_F_verb_X noun_F - verb_X 0.00     $[-0.26$, $0.25]$ -0.03     > .999 \n",
       "noun_M_verb_X noun_M - verb_X 0.09     $[-0.17$, $0.35]$ 0.85      .675   "
      ]
     },
     "metadata": {},
     "output_type": "display_data"
    }
   ],
   "source": [
    "IDX <- IDX+1; COND <- CONDS[IDX]\n",
    "data1 <- droplevels(subset(df1, eval(parse(text=COND)))); data1 <- data1[complete.cases(data1),]; done1 <- AOV4(data1,COND)\n",
    "display_markdown(str_c(\"# Condition \",IDX,\" of \",length(CONDS))); display_markdown(done1$info); display_markdown(\"### Table\"); done1$aov_APA$table; display_markdown(\"### Result\"); display_markdown(done1$aov_APA[[\"full_result\"]][[\"cond0\"]]); display_markdown(\"### Summary (all done1, incl. NANs)\"); done1$summary; display_markdown(\"### Expected marginal means\"); done1$emm_APA$table; display_markdown(\"### Paired comparisons for expected marginal means\"); done1$pairs_APA$table"
   ]
  },
  {
   "cell_type": "code",
   "execution_count": 209,
   "metadata": {},
   "outputs": [
    {
     "data": {
      "text/markdown": [
       "# Condition 42 of 72"
      ]
     },
     "metadata": {},
     "output_type": "display_data"
    },
    {
     "data": {
      "text/markdown": [
       "`tmin0==0.41 & chan0==\"LC\" & mode0==\"neg\"`"
      ]
     },
     "metadata": {},
     "output_type": "display_data"
    },
    {
     "data": {
      "text/markdown": [
       "### Table"
      ]
     },
     "metadata": {},
     "output_type": "display_data"
    },
    {
     "data": {
      "text/html": [
       "<table>\n",
       "<caption>A apa_results_table: 1 × 7</caption>\n",
       "<thead>\n",
       "\t<tr><th></th><th scope=col>Effect</th><th scope=col>F</th><th scope=col>df1</th><th scope=col>df2</th><th scope=col>MSE</th><th scope=col>p</th><th scope=col>ges</th></tr>\n",
       "\t<tr><th></th><th scope=col>&lt;ppj_lbll&gt;</th><th scope=col>&lt;ppj_lbll&gt;</th><th scope=col>&lt;ppj_lbll&gt;</th><th scope=col>&lt;ppj_lbll&gt;</th><th scope=col>&lt;ppj_lbll&gt;</th><th scope=col>&lt;ppj_lbll&gt;</th><th scope=col>&lt;ppj_lbll&gt;</th></tr>\n",
       "</thead>\n",
       "<tbody>\n",
       "\t<tr><th scope=row>1</th><td>Cond0</td><td>1.28</td><td>1.65</td><td>67.50</td><td>0.31</td><td>.280</td><td>.002</td></tr>\n",
       "</tbody>\n",
       "</table>\n"
      ],
      "text/latex": [
       "A apa\\_results\\_table: 1 × 7\n",
       "\\begin{tabular}{r|lllllll}\n",
       "  & Effect & F & df1 & df2 & MSE & p & ges\\\\\n",
       "  & <ppj\\_lbll> & <ppj\\_lbll> & <ppj\\_lbll> & <ppj\\_lbll> & <ppj\\_lbll> & <ppj\\_lbll> & <ppj\\_lbll>\\\\\n",
       "\\hline\n",
       "\t1 & Cond0 & 1.28 & 1.65 & 67.50 & 0.31 & .280 & .002\\\\\n",
       "\\end{tabular}\n"
      ],
      "text/markdown": [
       "\n",
       "A apa_results_table: 1 × 7\n",
       "\n",
       "| <!--/--> | Effect &lt;ppj_lbll&gt; | F &lt;ppj_lbll&gt; | df1 &lt;ppj_lbll&gt; | df2 &lt;ppj_lbll&gt; | MSE &lt;ppj_lbll&gt; | p &lt;ppj_lbll&gt; | ges &lt;ppj_lbll&gt; |\n",
       "|---|---|---|---|---|---|---|---|\n",
       "| 1 | Cond0 | 1.28 | 1.65 | 67.50 | 0.31 | .280 | .002 |\n",
       "\n"
      ],
      "text/plain": [
       "  Effect F    df1  df2   MSE  p    ges \n",
       "1 Cond0  1.28 1.65 67.50 0.31 .280 .002"
      ]
     },
     "metadata": {},
     "output_type": "display_data"
    },
    {
     "data": {
      "text/markdown": [
       "### Result"
      ]
     },
     "metadata": {},
     "output_type": "display_data"
    },
    {
     "data": {
      "text/markdown": [
       "$F(1.65, 67.50) = 1.28$, $\\mathit{MSE} = 0.31$, $p = .280$, $\\hat{\\eta}^2_G = .002$"
      ]
     },
     "metadata": {},
     "output_type": "display_data"
    },
    {
     "data": {
      "text/markdown": [
       "### Summary (all done1, incl. NANs)"
      ]
     },
     "metadata": {},
     "output_type": "display_data"
    },
    {
     "data": {
      "text/html": [
       "<table>\n",
       "<caption>A tibble: 3 × 5</caption>\n",
       "<thead>\n",
       "\t<tr><th scope=col>cond0</th><th scope=col>N</th><th scope=col>valX_M</th><th scope=col>valX_SD</th><th scope=col>valX_SE</th></tr>\n",
       "\t<tr><th scope=col>&lt;fct&gt;</th><th scope=col>&lt;int&gt;</th><th scope=col>&lt;dbl&gt;</th><th scope=col>&lt;dbl&gt;</th><th scope=col>&lt;dbl&gt;</th></tr>\n",
       "</thead>\n",
       "<tbody>\n",
       "\t<tr><td>noun_F</td><td>42</td><td>0.06432624</td><td>1.534239</td><td>0.2367382</td></tr>\n",
       "\t<tr><td>noun_M</td><td>42</td><td>0.07653374</td><td>1.283750</td><td>0.1980869</td></tr>\n",
       "\t<tr><td>verb_X</td><td>42</td><td>0.22208921</td><td>1.550286</td><td>0.2392144</td></tr>\n",
       "</tbody>\n",
       "</table>\n"
      ],
      "text/latex": [
       "A tibble: 3 × 5\n",
       "\\begin{tabular}{lllll}\n",
       " cond0 & N & valX\\_M & valX\\_SD & valX\\_SE\\\\\n",
       " <fct> & <int> & <dbl> & <dbl> & <dbl>\\\\\n",
       "\\hline\n",
       "\t noun\\_F & 42 & 0.06432624 & 1.534239 & 0.2367382\\\\\n",
       "\t noun\\_M & 42 & 0.07653374 & 1.283750 & 0.1980869\\\\\n",
       "\t verb\\_X & 42 & 0.22208921 & 1.550286 & 0.2392144\\\\\n",
       "\\end{tabular}\n"
      ],
      "text/markdown": [
       "\n",
       "A tibble: 3 × 5\n",
       "\n",
       "| cond0 &lt;fct&gt; | N &lt;int&gt; | valX_M &lt;dbl&gt; | valX_SD &lt;dbl&gt; | valX_SE &lt;dbl&gt; |\n",
       "|---|---|---|---|---|\n",
       "| noun_F | 42 | 0.06432624 | 1.534239 | 0.2367382 |\n",
       "| noun_M | 42 | 0.07653374 | 1.283750 | 0.1980869 |\n",
       "| verb_X | 42 | 0.22208921 | 1.550286 | 0.2392144 |\n",
       "\n"
      ],
      "text/plain": [
       "  cond0  N  valX_M     valX_SD  valX_SE  \n",
       "1 noun_F 42 0.06432624 1.534239 0.2367382\n",
       "2 noun_M 42 0.07653374 1.283750 0.1980869\n",
       "3 verb_X 42 0.22208921 1.550286 0.2392144"
      ]
     },
     "metadata": {},
     "output_type": "display_data"
    },
    {
     "data": {
      "text/markdown": [
       "### Expected marginal means"
      ]
     },
     "metadata": {},
     "output_type": "display_data"
    },
    {
     "data": {
      "text/html": [
       "<table>\n",
       "<caption>A apa_results_table: 3 × 5</caption>\n",
       "<thead>\n",
       "\t<tr><th></th><th scope=col>cond0</th><th scope=col>estimate</th><th scope=col>ci</th><th scope=col>statistic</th><th scope=col>p.value</th></tr>\n",
       "\t<tr><th></th><th scope=col>&lt;chr&gt;</th><th scope=col>&lt;ppj_lbll&gt;</th><th scope=col>&lt;ppj_lbll&gt;</th><th scope=col>&lt;ppj_lbll&gt;</th><th scope=col>&lt;ppj_lbll&gt;</th></tr>\n",
       "</thead>\n",
       "<tbody>\n",
       "\t<tr><th scope=row>noun_F</th><td>noun_F</td><td>0.06</td><td>$[-0.39$, $0.52]$</td><td>0.29</td><td>.777</td></tr>\n",
       "\t<tr><th scope=row>noun_M</th><td>noun_M</td><td>0.08</td><td>$[-0.38$, $0.53]$</td><td>0.34</td><td>.736</td></tr>\n",
       "\t<tr><th scope=row>verb_X</th><td>verb_X</td><td>0.22</td><td>$[-0.23$, $0.68]$</td><td>0.99</td><td>.330</td></tr>\n",
       "</tbody>\n",
       "</table>\n"
      ],
      "text/latex": [
       "A apa\\_results\\_table: 3 × 5\n",
       "\\begin{tabular}{r|lllll}\n",
       "  & cond0 & estimate & ci & statistic & p.value\\\\\n",
       "  & <chr> & <ppj\\_lbll> & <ppj\\_lbll> & <ppj\\_lbll> & <ppj\\_lbll>\\\\\n",
       "\\hline\n",
       "\tnoun\\_F & noun\\_F & 0.06 & \\${[}-0.39\\$, \\$0.52{]}\\$ & 0.29 & .777\\\\\n",
       "\tnoun\\_M & noun\\_M & 0.08 & \\${[}-0.38\\$, \\$0.53{]}\\$ & 0.34 & .736\\\\\n",
       "\tverb\\_X & verb\\_X & 0.22 & \\${[}-0.23\\$, \\$0.68{]}\\$ & 0.99 & .330\\\\\n",
       "\\end{tabular}\n"
      ],
      "text/markdown": [
       "\n",
       "A apa_results_table: 3 × 5\n",
       "\n",
       "| <!--/--> | cond0 &lt;chr&gt; | estimate &lt;ppj_lbll&gt; | ci &lt;ppj_lbll&gt; | statistic &lt;ppj_lbll&gt; | p.value &lt;ppj_lbll&gt; |\n",
       "|---|---|---|---|---|---|\n",
       "| noun_F | noun_F | 0.06 | $[-0.39$, $0.52]$ | 0.29 | .777 |\n",
       "| noun_M | noun_M | 0.08 | $[-0.38$, $0.53]$ | 0.34 | .736 |\n",
       "| verb_X | verb_X | 0.22 | $[-0.23$, $0.68]$ | 0.99 | .330 |\n",
       "\n"
      ],
      "text/plain": [
       "       cond0  estimate ci                statistic p.value\n",
       "noun_F noun_F 0.06     $[-0.39$, $0.52]$ 0.29      .777   \n",
       "noun_M noun_M 0.08     $[-0.38$, $0.53]$ 0.34      .736   \n",
       "verb_X verb_X 0.22     $[-0.23$, $0.68]$ 0.99      .330   "
      ]
     },
     "metadata": {},
     "output_type": "display_data"
    },
    {
     "data": {
      "text/markdown": [
       "### Paired comparisons for expected marginal means"
      ]
     },
     "metadata": {},
     "output_type": "display_data"
    },
    {
     "data": {
      "text/html": [
       "<table>\n",
       "<caption>A apa_results_table: 3 × 5</caption>\n",
       "<thead>\n",
       "\t<tr><th></th><th scope=col>contrast</th><th scope=col>estimate</th><th scope=col>ci</th><th scope=col>statistic</th><th scope=col>p.value</th></tr>\n",
       "\t<tr><th></th><th scope=col>&lt;ppj_lbll&gt;</th><th scope=col>&lt;ppj_lbll&gt;</th><th scope=col>&lt;ppj_lbll&gt;</th><th scope=col>&lt;ppj_lbll&gt;</th><th scope=col>&lt;ppj_lbll&gt;</th></tr>\n",
       "</thead>\n",
       "<tbody>\n",
       "\t<tr><th scope=row>noun_F_noun_M</th><td>noun_F - noun_M</td><td>-0.01</td><td>$[-0.27$, $0.25]$</td><td>-0.11</td><td>.993</td></tr>\n",
       "\t<tr><th scope=row>noun_F_verb_X</th><td>noun_F - verb_X</td><td>-0.16</td><td>$[-0.42$, $0.10]$</td><td>-1.44</td><td>.326</td></tr>\n",
       "\t<tr><th scope=row>noun_M_verb_X</th><td>noun_M - verb_X</td><td>-0.15</td><td>$[-0.41$, $0.12]$</td><td>-1.33</td><td>.384</td></tr>\n",
       "</tbody>\n",
       "</table>\n"
      ],
      "text/latex": [
       "A apa\\_results\\_table: 3 × 5\n",
       "\\begin{tabular}{r|lllll}\n",
       "  & contrast & estimate & ci & statistic & p.value\\\\\n",
       "  & <ppj\\_lbll> & <ppj\\_lbll> & <ppj\\_lbll> & <ppj\\_lbll> & <ppj\\_lbll>\\\\\n",
       "\\hline\n",
       "\tnoun\\_F\\_noun\\_M & noun\\_F - noun\\_M & -0.01 & \\${[}-0.27\\$, \\$0.25{]}\\$ & -0.11 & .993\\\\\n",
       "\tnoun\\_F\\_verb\\_X & noun\\_F - verb\\_X & -0.16 & \\${[}-0.42\\$, \\$0.10{]}\\$ & -1.44 & .326\\\\\n",
       "\tnoun\\_M\\_verb\\_X & noun\\_M - verb\\_X & -0.15 & \\${[}-0.41\\$, \\$0.12{]}\\$ & -1.33 & .384\\\\\n",
       "\\end{tabular}\n"
      ],
      "text/markdown": [
       "\n",
       "A apa_results_table: 3 × 5\n",
       "\n",
       "| <!--/--> | contrast &lt;ppj_lbll&gt; | estimate &lt;ppj_lbll&gt; | ci &lt;ppj_lbll&gt; | statistic &lt;ppj_lbll&gt; | p.value &lt;ppj_lbll&gt; |\n",
       "|---|---|---|---|---|---|\n",
       "| noun_F_noun_M | noun_F - noun_M | -0.01 | $[-0.27$, $0.25]$ | -0.11 | .993 |\n",
       "| noun_F_verb_X | noun_F - verb_X | -0.16 | $[-0.42$, $0.10]$ | -1.44 | .326 |\n",
       "| noun_M_verb_X | noun_M - verb_X | -0.15 | $[-0.41$, $0.12]$ | -1.33 | .384 |\n",
       "\n"
      ],
      "text/plain": [
       "              contrast        estimate ci                statistic p.value\n",
       "noun_F_noun_M noun_F - noun_M -0.01    $[-0.27$, $0.25]$ -0.11     .993   \n",
       "noun_F_verb_X noun_F - verb_X -0.16    $[-0.42$, $0.10]$ -1.44     .326   \n",
       "noun_M_verb_X noun_M - verb_X -0.15    $[-0.41$, $0.12]$ -1.33     .384   "
      ]
     },
     "metadata": {},
     "output_type": "display_data"
    }
   ],
   "source": [
    "IDX <- IDX+1; COND <- CONDS[IDX]\n",
    "data1 <- droplevels(subset(df1, eval(parse(text=COND)))); data1 <- data1[complete.cases(data1),]; done1 <- AOV4(data1,COND)\n",
    "display_markdown(str_c(\"# Condition \",IDX,\" of \",length(CONDS))); display_markdown(done1$info); display_markdown(\"### Table\"); done1$aov_APA$table; display_markdown(\"### Result\"); display_markdown(done1$aov_APA[[\"full_result\"]][[\"cond0\"]]); display_markdown(\"### Summary (all done1, incl. NANs)\"); done1$summary; display_markdown(\"### Expected marginal means\"); done1$emm_APA$table; display_markdown(\"### Paired comparisons for expected marginal means\"); done1$pairs_APA$table"
   ]
  },
  {
   "cell_type": "code",
   "execution_count": 210,
   "metadata": {},
   "outputs": [
    {
     "data": {
      "text/markdown": [
       "# Condition 43 of 72"
      ]
     },
     "metadata": {},
     "output_type": "display_data"
    },
    {
     "data": {
      "text/markdown": [
       "`tmin0==0.41 & chan0==\"RC\" & mode0==\"pos\"`"
      ]
     },
     "metadata": {},
     "output_type": "display_data"
    },
    {
     "data": {
      "text/markdown": [
       "### Table"
      ]
     },
     "metadata": {},
     "output_type": "display_data"
    },
    {
     "data": {
      "text/html": [
       "<table>\n",
       "<caption>A apa_results_table: 1 × 7</caption>\n",
       "<thead>\n",
       "\t<tr><th></th><th scope=col>Effect</th><th scope=col>F</th><th scope=col>df1</th><th scope=col>df2</th><th scope=col>MSE</th><th scope=col>p</th><th scope=col>ges</th></tr>\n",
       "\t<tr><th></th><th scope=col>&lt;ppj_lbll&gt;</th><th scope=col>&lt;ppj_lbll&gt;</th><th scope=col>&lt;ppj_lbll&gt;</th><th scope=col>&lt;ppj_lbll&gt;</th><th scope=col>&lt;ppj_lbll&gt;</th><th scope=col>&lt;ppj_lbll&gt;</th><th scope=col>&lt;ppj_lbll&gt;</th></tr>\n",
       "</thead>\n",
       "<tbody>\n",
       "\t<tr><th scope=row>1</th><td>Cond0</td><td>0.22</td><td>1.73</td><td>70.89</td><td>0.36</td><td>.771</td><td>.001</td></tr>\n",
       "</tbody>\n",
       "</table>\n"
      ],
      "text/latex": [
       "A apa\\_results\\_table: 1 × 7\n",
       "\\begin{tabular}{r|lllllll}\n",
       "  & Effect & F & df1 & df2 & MSE & p & ges\\\\\n",
       "  & <ppj\\_lbll> & <ppj\\_lbll> & <ppj\\_lbll> & <ppj\\_lbll> & <ppj\\_lbll> & <ppj\\_lbll> & <ppj\\_lbll>\\\\\n",
       "\\hline\n",
       "\t1 & Cond0 & 0.22 & 1.73 & 70.89 & 0.36 & .771 & .001\\\\\n",
       "\\end{tabular}\n"
      ],
      "text/markdown": [
       "\n",
       "A apa_results_table: 1 × 7\n",
       "\n",
       "| <!--/--> | Effect &lt;ppj_lbll&gt; | F &lt;ppj_lbll&gt; | df1 &lt;ppj_lbll&gt; | df2 &lt;ppj_lbll&gt; | MSE &lt;ppj_lbll&gt; | p &lt;ppj_lbll&gt; | ges &lt;ppj_lbll&gt; |\n",
       "|---|---|---|---|---|---|---|---|\n",
       "| 1 | Cond0 | 0.22 | 1.73 | 70.89 | 0.36 | .771 | .001 |\n",
       "\n"
      ],
      "text/plain": [
       "  Effect F    df1  df2   MSE  p    ges \n",
       "1 Cond0  0.22 1.73 70.89 0.36 .771 .001"
      ]
     },
     "metadata": {},
     "output_type": "display_data"
    },
    {
     "data": {
      "text/markdown": [
       "### Result"
      ]
     },
     "metadata": {},
     "output_type": "display_data"
    },
    {
     "data": {
      "text/markdown": [
       "$F(1.73, 70.89) = 0.22$, $\\mathit{MSE} = 0.36$, $p = .771$, $\\hat{\\eta}^2_G = .001$"
      ]
     },
     "metadata": {},
     "output_type": "display_data"
    },
    {
     "data": {
      "text/markdown": [
       "### Summary (all done1, incl. NANs)"
      ]
     },
     "metadata": {},
     "output_type": "display_data"
    },
    {
     "data": {
      "text/html": [
       "<table>\n",
       "<caption>A tibble: 3 × 5</caption>\n",
       "<thead>\n",
       "\t<tr><th scope=col>cond0</th><th scope=col>N</th><th scope=col>valX_M</th><th scope=col>valX_SD</th><th scope=col>valX_SE</th></tr>\n",
       "\t<tr><th scope=col>&lt;fct&gt;</th><th scope=col>&lt;int&gt;</th><th scope=col>&lt;dbl&gt;</th><th scope=col>&lt;dbl&gt;</th><th scope=col>&lt;dbl&gt;</th></tr>\n",
       "</thead>\n",
       "<tbody>\n",
       "\t<tr><td>noun_F</td><td>42</td><td>1.886977</td><td>1.413982</td><td>0.2181822</td></tr>\n",
       "\t<tr><td>noun_M</td><td>42</td><td>1.808451</td><td>1.426966</td><td>0.2201856</td></tr>\n",
       "\t<tr><td>verb_X</td><td>42</td><td>1.830437</td><td>1.507021</td><td>0.2325384</td></tr>\n",
       "</tbody>\n",
       "</table>\n"
      ],
      "text/latex": [
       "A tibble: 3 × 5\n",
       "\\begin{tabular}{lllll}\n",
       " cond0 & N & valX\\_M & valX\\_SD & valX\\_SE\\\\\n",
       " <fct> & <int> & <dbl> & <dbl> & <dbl>\\\\\n",
       "\\hline\n",
       "\t noun\\_F & 42 & 1.886977 & 1.413982 & 0.2181822\\\\\n",
       "\t noun\\_M & 42 & 1.808451 & 1.426966 & 0.2201856\\\\\n",
       "\t verb\\_X & 42 & 1.830437 & 1.507021 & 0.2325384\\\\\n",
       "\\end{tabular}\n"
      ],
      "text/markdown": [
       "\n",
       "A tibble: 3 × 5\n",
       "\n",
       "| cond0 &lt;fct&gt; | N &lt;int&gt; | valX_M &lt;dbl&gt; | valX_SD &lt;dbl&gt; | valX_SE &lt;dbl&gt; |\n",
       "|---|---|---|---|---|\n",
       "| noun_F | 42 | 1.886977 | 1.413982 | 0.2181822 |\n",
       "| noun_M | 42 | 1.808451 | 1.426966 | 0.2201856 |\n",
       "| verb_X | 42 | 1.830437 | 1.507021 | 0.2325384 |\n",
       "\n"
      ],
      "text/plain": [
       "  cond0  N  valX_M   valX_SD  valX_SE  \n",
       "1 noun_F 42 1.886977 1.413982 0.2181822\n",
       "2 noun_M 42 1.808451 1.426966 0.2201856\n",
       "3 verb_X 42 1.830437 1.507021 0.2325384"
      ]
     },
     "metadata": {},
     "output_type": "display_data"
    },
    {
     "data": {
      "text/markdown": [
       "### Expected marginal means"
      ]
     },
     "metadata": {},
     "output_type": "display_data"
    },
    {
     "data": {
      "text/html": [
       "<table>\n",
       "<caption>A apa_results_table: 3 × 5</caption>\n",
       "<thead>\n",
       "\t<tr><th></th><th scope=col>cond0</th><th scope=col>estimate</th><th scope=col>ci</th><th scope=col>statistic</th><th scope=col>p.value</th></tr>\n",
       "\t<tr><th></th><th scope=col>&lt;chr&gt;</th><th scope=col>&lt;ppj_lbll&gt;</th><th scope=col>&lt;ppj_lbll&gt;</th><th scope=col>&lt;ppj_lbll&gt;</th><th scope=col>&lt;ppj_lbll&gt;</th></tr>\n",
       "</thead>\n",
       "<tbody>\n",
       "\t<tr><th scope=row>noun_F</th><td>noun_F</td><td>1.89</td><td>$[1.44$, $2.34]$</td><td>8.43</td><td>&lt; .001</td></tr>\n",
       "\t<tr><th scope=row>noun_M</th><td>noun_M</td><td>1.81</td><td>$[1.36$, $2.26]$</td><td>8.08</td><td>&lt; .001</td></tr>\n",
       "\t<tr><th scope=row>verb_X</th><td>verb_X</td><td>1.83</td><td>$[1.38$, $2.28]$</td><td>8.18</td><td>&lt; .001</td></tr>\n",
       "</tbody>\n",
       "</table>\n"
      ],
      "text/latex": [
       "A apa\\_results\\_table: 3 × 5\n",
       "\\begin{tabular}{r|lllll}\n",
       "  & cond0 & estimate & ci & statistic & p.value\\\\\n",
       "  & <chr> & <ppj\\_lbll> & <ppj\\_lbll> & <ppj\\_lbll> & <ppj\\_lbll>\\\\\n",
       "\\hline\n",
       "\tnoun\\_F & noun\\_F & 1.89 & \\${[}1.44\\$, \\$2.34{]}\\$ & 8.43 & < .001\\\\\n",
       "\tnoun\\_M & noun\\_M & 1.81 & \\${[}1.36\\$, \\$2.26{]}\\$ & 8.08 & < .001\\\\\n",
       "\tverb\\_X & verb\\_X & 1.83 & \\${[}1.38\\$, \\$2.28{]}\\$ & 8.18 & < .001\\\\\n",
       "\\end{tabular}\n"
      ],
      "text/markdown": [
       "\n",
       "A apa_results_table: 3 × 5\n",
       "\n",
       "| <!--/--> | cond0 &lt;chr&gt; | estimate &lt;ppj_lbll&gt; | ci &lt;ppj_lbll&gt; | statistic &lt;ppj_lbll&gt; | p.value &lt;ppj_lbll&gt; |\n",
       "|---|---|---|---|---|---|\n",
       "| noun_F | noun_F | 1.89 | $[1.44$, $2.34]$ | 8.43 | &lt; .001 |\n",
       "| noun_M | noun_M | 1.81 | $[1.36$, $2.26]$ | 8.08 | &lt; .001 |\n",
       "| verb_X | verb_X | 1.83 | $[1.38$, $2.28]$ | 8.18 | &lt; .001 |\n",
       "\n"
      ],
      "text/plain": [
       "       cond0  estimate ci               statistic p.value\n",
       "noun_F noun_F 1.89     $[1.44$, $2.34]$ 8.43      < .001 \n",
       "noun_M noun_M 1.81     $[1.36$, $2.26]$ 8.08      < .001 \n",
       "verb_X verb_X 1.83     $[1.38$, $2.28]$ 8.18      < .001 "
      ]
     },
     "metadata": {},
     "output_type": "display_data"
    },
    {
     "data": {
      "text/markdown": [
       "### Paired comparisons for expected marginal means"
      ]
     },
     "metadata": {},
     "output_type": "display_data"
    },
    {
     "data": {
      "text/html": [
       "<table>\n",
       "<caption>A apa_results_table: 3 × 5</caption>\n",
       "<thead>\n",
       "\t<tr><th></th><th scope=col>contrast</th><th scope=col>estimate</th><th scope=col>ci</th><th scope=col>statistic</th><th scope=col>p.value</th></tr>\n",
       "\t<tr><th></th><th scope=col>&lt;ppj_lbll&gt;</th><th scope=col>&lt;ppj_lbll&gt;</th><th scope=col>&lt;ppj_lbll&gt;</th><th scope=col>&lt;ppj_lbll&gt;</th><th scope=col>&lt;ppj_lbll&gt;</th></tr>\n",
       "</thead>\n",
       "<tbody>\n",
       "\t<tr><th scope=row>noun_F_noun_M</th><td>noun_F - noun_M</td><td>0.08 </td><td>$[-0.21$, $0.37]$</td><td>0.64 </td><td>.797</td></tr>\n",
       "\t<tr><th scope=row>noun_F_verb_X</th><td>noun_F - verb_X</td><td>0.06 </td><td>$[-0.23$, $0.35]$</td><td>0.46 </td><td>.889</td></tr>\n",
       "\t<tr><th scope=row>noun_M_verb_X</th><td>noun_M - verb_X</td><td>-0.02</td><td>$[-0.31$, $0.27]$</td><td>-0.18</td><td>.982</td></tr>\n",
       "</tbody>\n",
       "</table>\n"
      ],
      "text/latex": [
       "A apa\\_results\\_table: 3 × 5\n",
       "\\begin{tabular}{r|lllll}\n",
       "  & contrast & estimate & ci & statistic & p.value\\\\\n",
       "  & <ppj\\_lbll> & <ppj\\_lbll> & <ppj\\_lbll> & <ppj\\_lbll> & <ppj\\_lbll>\\\\\n",
       "\\hline\n",
       "\tnoun\\_F\\_noun\\_M & noun\\_F - noun\\_M & 0.08  & \\${[}-0.21\\$, \\$0.37{]}\\$ & 0.64  & .797\\\\\n",
       "\tnoun\\_F\\_verb\\_X & noun\\_F - verb\\_X & 0.06  & \\${[}-0.23\\$, \\$0.35{]}\\$ & 0.46  & .889\\\\\n",
       "\tnoun\\_M\\_verb\\_X & noun\\_M - verb\\_X & -0.02 & \\${[}-0.31\\$, \\$0.27{]}\\$ & -0.18 & .982\\\\\n",
       "\\end{tabular}\n"
      ],
      "text/markdown": [
       "\n",
       "A apa_results_table: 3 × 5\n",
       "\n",
       "| <!--/--> | contrast &lt;ppj_lbll&gt; | estimate &lt;ppj_lbll&gt; | ci &lt;ppj_lbll&gt; | statistic &lt;ppj_lbll&gt; | p.value &lt;ppj_lbll&gt; |\n",
       "|---|---|---|---|---|---|\n",
       "| noun_F_noun_M | noun_F - noun_M | 0.08  | $[-0.21$, $0.37]$ | 0.64  | .797 |\n",
       "| noun_F_verb_X | noun_F - verb_X | 0.06  | $[-0.23$, $0.35]$ | 0.46  | .889 |\n",
       "| noun_M_verb_X | noun_M - verb_X | -0.02 | $[-0.31$, $0.27]$ | -0.18 | .982 |\n",
       "\n"
      ],
      "text/plain": [
       "              contrast        estimate ci                statistic p.value\n",
       "noun_F_noun_M noun_F - noun_M 0.08     $[-0.21$, $0.37]$ 0.64      .797   \n",
       "noun_F_verb_X noun_F - verb_X 0.06     $[-0.23$, $0.35]$ 0.46      .889   \n",
       "noun_M_verb_X noun_M - verb_X -0.02    $[-0.31$, $0.27]$ -0.18     .982   "
      ]
     },
     "metadata": {},
     "output_type": "display_data"
    }
   ],
   "source": [
    "IDX <- IDX+1; COND <- CONDS[IDX]\n",
    "data1 <- droplevels(subset(df1, eval(parse(text=COND)))); data1 <- data1[complete.cases(data1),]; done1 <- AOV4(data1,COND)\n",
    "display_markdown(str_c(\"# Condition \",IDX,\" of \",length(CONDS))); display_markdown(done1$info); display_markdown(\"### Table\"); done1$aov_APA$table; display_markdown(\"### Result\"); display_markdown(done1$aov_APA[[\"full_result\"]][[\"cond0\"]]); display_markdown(\"### Summary (all done1, incl. NANs)\"); done1$summary; display_markdown(\"### Expected marginal means\"); done1$emm_APA$table; display_markdown(\"### Paired comparisons for expected marginal means\"); done1$pairs_APA$table"
   ]
  },
  {
   "cell_type": "code",
   "execution_count": 211,
   "metadata": {},
   "outputs": [
    {
     "data": {
      "text/markdown": [
       "# Condition 44 of 72"
      ]
     },
     "metadata": {},
     "output_type": "display_data"
    },
    {
     "data": {
      "text/markdown": [
       "`tmin0==0.41 & chan0==\"RC\" & mode0==\"neg\"`"
      ]
     },
     "metadata": {},
     "output_type": "display_data"
    },
    {
     "data": {
      "text/markdown": [
       "### Table"
      ]
     },
     "metadata": {},
     "output_type": "display_data"
    },
    {
     "data": {
      "text/html": [
       "<table>\n",
       "<caption>A apa_results_table: 1 × 7</caption>\n",
       "<thead>\n",
       "\t<tr><th></th><th scope=col>Effect</th><th scope=col>F</th><th scope=col>df1</th><th scope=col>df2</th><th scope=col>MSE</th><th scope=col>p</th><th scope=col>ges</th></tr>\n",
       "\t<tr><th></th><th scope=col>&lt;ppj_lbll&gt;</th><th scope=col>&lt;ppj_lbll&gt;</th><th scope=col>&lt;ppj_lbll&gt;</th><th scope=col>&lt;ppj_lbll&gt;</th><th scope=col>&lt;ppj_lbll&gt;</th><th scope=col>&lt;ppj_lbll&gt;</th><th scope=col>&lt;ppj_lbll&gt;</th></tr>\n",
       "</thead>\n",
       "<tbody>\n",
       "\t<tr><th scope=row>1</th><td>Cond0</td><td>3.87</td><td>1.60</td><td>65.71</td><td>0.42</td><td>.034</td><td>.009</td></tr>\n",
       "</tbody>\n",
       "</table>\n"
      ],
      "text/latex": [
       "A apa\\_results\\_table: 1 × 7\n",
       "\\begin{tabular}{r|lllllll}\n",
       "  & Effect & F & df1 & df2 & MSE & p & ges\\\\\n",
       "  & <ppj\\_lbll> & <ppj\\_lbll> & <ppj\\_lbll> & <ppj\\_lbll> & <ppj\\_lbll> & <ppj\\_lbll> & <ppj\\_lbll>\\\\\n",
       "\\hline\n",
       "\t1 & Cond0 & 3.87 & 1.60 & 65.71 & 0.42 & .034 & .009\\\\\n",
       "\\end{tabular}\n"
      ],
      "text/markdown": [
       "\n",
       "A apa_results_table: 1 × 7\n",
       "\n",
       "| <!--/--> | Effect &lt;ppj_lbll&gt; | F &lt;ppj_lbll&gt; | df1 &lt;ppj_lbll&gt; | df2 &lt;ppj_lbll&gt; | MSE &lt;ppj_lbll&gt; | p &lt;ppj_lbll&gt; | ges &lt;ppj_lbll&gt; |\n",
       "|---|---|---|---|---|---|---|---|\n",
       "| 1 | Cond0 | 3.87 | 1.60 | 65.71 | 0.42 | .034 | .009 |\n",
       "\n"
      ],
      "text/plain": [
       "  Effect F    df1  df2   MSE  p    ges \n",
       "1 Cond0  3.87 1.60 65.71 0.42 .034 .009"
      ]
     },
     "metadata": {},
     "output_type": "display_data"
    },
    {
     "data": {
      "text/markdown": [
       "### Result"
      ]
     },
     "metadata": {},
     "output_type": "display_data"
    },
    {
     "data": {
      "text/markdown": [
       "$F(1.60, 65.71) = 3.87$, $\\mathit{MSE} = 0.42$, $p = .034$, $\\hat{\\eta}^2_G = .009$"
      ]
     },
     "metadata": {},
     "output_type": "display_data"
    },
    {
     "data": {
      "text/markdown": [
       "### Summary (all done1, incl. NANs)"
      ]
     },
     "metadata": {},
     "output_type": "display_data"
    },
    {
     "data": {
      "text/html": [
       "<table>\n",
       "<caption>A tibble: 3 × 5</caption>\n",
       "<thead>\n",
       "\t<tr><th scope=col>cond0</th><th scope=col>N</th><th scope=col>valX_M</th><th scope=col>valX_SD</th><th scope=col>valX_SE</th></tr>\n",
       "\t<tr><th scope=col>&lt;fct&gt;</th><th scope=col>&lt;int&gt;</th><th scope=col>&lt;dbl&gt;</th><th scope=col>&lt;dbl&gt;</th><th scope=col>&lt;dbl&gt;</th></tr>\n",
       "</thead>\n",
       "<tbody>\n",
       "\t<tr><td>noun_F</td><td>42</td><td>0.2531982</td><td>1.603689</td><td>0.2474545</td></tr>\n",
       "\t<tr><td>noun_M</td><td>42</td><td>0.1365818</td><td>1.487606</td><td>0.2295425</td></tr>\n",
       "\t<tr><td>verb_X</td><td>42</td><td>0.4823398</td><td>1.547356</td><td>0.2387622</td></tr>\n",
       "</tbody>\n",
       "</table>\n"
      ],
      "text/latex": [
       "A tibble: 3 × 5\n",
       "\\begin{tabular}{lllll}\n",
       " cond0 & N & valX\\_M & valX\\_SD & valX\\_SE\\\\\n",
       " <fct> & <int> & <dbl> & <dbl> & <dbl>\\\\\n",
       "\\hline\n",
       "\t noun\\_F & 42 & 0.2531982 & 1.603689 & 0.2474545\\\\\n",
       "\t noun\\_M & 42 & 0.1365818 & 1.487606 & 0.2295425\\\\\n",
       "\t verb\\_X & 42 & 0.4823398 & 1.547356 & 0.2387622\\\\\n",
       "\\end{tabular}\n"
      ],
      "text/markdown": [
       "\n",
       "A tibble: 3 × 5\n",
       "\n",
       "| cond0 &lt;fct&gt; | N &lt;int&gt; | valX_M &lt;dbl&gt; | valX_SD &lt;dbl&gt; | valX_SE &lt;dbl&gt; |\n",
       "|---|---|---|---|---|\n",
       "| noun_F | 42 | 0.2531982 | 1.603689 | 0.2474545 |\n",
       "| noun_M | 42 | 0.1365818 | 1.487606 | 0.2295425 |\n",
       "| verb_X | 42 | 0.4823398 | 1.547356 | 0.2387622 |\n",
       "\n"
      ],
      "text/plain": [
       "  cond0  N  valX_M    valX_SD  valX_SE  \n",
       "1 noun_F 42 0.2531982 1.603689 0.2474545\n",
       "2 noun_M 42 0.1365818 1.487606 0.2295425\n",
       "3 verb_X 42 0.4823398 1.547356 0.2387622"
      ]
     },
     "metadata": {},
     "output_type": "display_data"
    },
    {
     "data": {
      "text/markdown": [
       "### Expected marginal means"
      ]
     },
     "metadata": {},
     "output_type": "display_data"
    },
    {
     "data": {
      "text/html": [
       "<table>\n",
       "<caption>A apa_results_table: 3 × 5</caption>\n",
       "<thead>\n",
       "\t<tr><th></th><th scope=col>cond0</th><th scope=col>estimate</th><th scope=col>ci</th><th scope=col>statistic</th><th scope=col>p.value</th></tr>\n",
       "\t<tr><th></th><th scope=col>&lt;chr&gt;</th><th scope=col>&lt;ppj_lbll&gt;</th><th scope=col>&lt;ppj_lbll&gt;</th><th scope=col>&lt;ppj_lbll&gt;</th><th scope=col>&lt;ppj_lbll&gt;</th></tr>\n",
       "</thead>\n",
       "<tbody>\n",
       "\t<tr><th scope=row>noun_F</th><td>noun_F</td><td>0.25</td><td>$[-0.23$, $0.73]$</td><td>1.06</td><td>.294</td></tr>\n",
       "\t<tr><th scope=row>noun_M</th><td>noun_M</td><td>0.14</td><td>$[-0.34$, $0.62]$</td><td>0.57</td><td>.570</td></tr>\n",
       "\t<tr><th scope=row>verb_X</th><td>verb_X</td><td>0.48</td><td>$[0.00$, $0.96]$ </td><td>2.02</td><td>.049</td></tr>\n",
       "</tbody>\n",
       "</table>\n"
      ],
      "text/latex": [
       "A apa\\_results\\_table: 3 × 5\n",
       "\\begin{tabular}{r|lllll}\n",
       "  & cond0 & estimate & ci & statistic & p.value\\\\\n",
       "  & <chr> & <ppj\\_lbll> & <ppj\\_lbll> & <ppj\\_lbll> & <ppj\\_lbll>\\\\\n",
       "\\hline\n",
       "\tnoun\\_F & noun\\_F & 0.25 & \\${[}-0.23\\$, \\$0.73{]}\\$ & 1.06 & .294\\\\\n",
       "\tnoun\\_M & noun\\_M & 0.14 & \\${[}-0.34\\$, \\$0.62{]}\\$ & 0.57 & .570\\\\\n",
       "\tverb\\_X & verb\\_X & 0.48 & \\${[}0.00\\$, \\$0.96{]}\\$  & 2.02 & .049\\\\\n",
       "\\end{tabular}\n"
      ],
      "text/markdown": [
       "\n",
       "A apa_results_table: 3 × 5\n",
       "\n",
       "| <!--/--> | cond0 &lt;chr&gt; | estimate &lt;ppj_lbll&gt; | ci &lt;ppj_lbll&gt; | statistic &lt;ppj_lbll&gt; | p.value &lt;ppj_lbll&gt; |\n",
       "|---|---|---|---|---|---|\n",
       "| noun_F | noun_F | 0.25 | $[-0.23$, $0.73]$ | 1.06 | .294 |\n",
       "| noun_M | noun_M | 0.14 | $[-0.34$, $0.62]$ | 0.57 | .570 |\n",
       "| verb_X | verb_X | 0.48 | $[0.00$, $0.96]$  | 2.02 | .049 |\n",
       "\n"
      ],
      "text/plain": [
       "       cond0  estimate ci                statistic p.value\n",
       "noun_F noun_F 0.25     $[-0.23$, $0.73]$ 1.06      .294   \n",
       "noun_M noun_M 0.14     $[-0.34$, $0.62]$ 0.57      .570   \n",
       "verb_X verb_X 0.48     $[0.00$, $0.96]$  2.02      .049   "
      ]
     },
     "metadata": {},
     "output_type": "display_data"
    },
    {
     "data": {
      "text/markdown": [
       "### Paired comparisons for expected marginal means"
      ]
     },
     "metadata": {},
     "output_type": "display_data"
    },
    {
     "data": {
      "text/html": [
       "<table>\n",
       "<caption>A apa_results_table: 3 × 5</caption>\n",
       "<thead>\n",
       "\t<tr><th></th><th scope=col>contrast</th><th scope=col>estimate</th><th scope=col>ci</th><th scope=col>statistic</th><th scope=col>p.value</th></tr>\n",
       "\t<tr><th></th><th scope=col>&lt;ppj_lbll&gt;</th><th scope=col>&lt;ppj_lbll&gt;</th><th scope=col>&lt;ppj_lbll&gt;</th><th scope=col>&lt;ppj_lbll&gt;</th><th scope=col>&lt;ppj_lbll&gt;</th></tr>\n",
       "</thead>\n",
       "<tbody>\n",
       "\t<tr><th scope=row>noun_F_noun_M</th><td>noun_F - noun_M</td><td>0.12 </td><td>$[-0.19$, $0.42]$ </td><td>0.92 </td><td>.628</td></tr>\n",
       "\t<tr><th scope=row>noun_F_verb_X</th><td>noun_F - verb_X</td><td>-0.23</td><td>$[-0.53$, $0.07]$ </td><td>-1.81</td><td>.172</td></tr>\n",
       "\t<tr><th scope=row>noun_M_verb_X</th><td>noun_M - verb_X</td><td>-0.35</td><td>$[-0.65$, $-0.04]$</td><td>-2.73</td><td>.021</td></tr>\n",
       "</tbody>\n",
       "</table>\n"
      ],
      "text/latex": [
       "A apa\\_results\\_table: 3 × 5\n",
       "\\begin{tabular}{r|lllll}\n",
       "  & contrast & estimate & ci & statistic & p.value\\\\\n",
       "  & <ppj\\_lbll> & <ppj\\_lbll> & <ppj\\_lbll> & <ppj\\_lbll> & <ppj\\_lbll>\\\\\n",
       "\\hline\n",
       "\tnoun\\_F\\_noun\\_M & noun\\_F - noun\\_M & 0.12  & \\${[}-0.19\\$, \\$0.42{]}\\$  & 0.92  & .628\\\\\n",
       "\tnoun\\_F\\_verb\\_X & noun\\_F - verb\\_X & -0.23 & \\${[}-0.53\\$, \\$0.07{]}\\$  & -1.81 & .172\\\\\n",
       "\tnoun\\_M\\_verb\\_X & noun\\_M - verb\\_X & -0.35 & \\${[}-0.65\\$, \\$-0.04{]}\\$ & -2.73 & .021\\\\\n",
       "\\end{tabular}\n"
      ],
      "text/markdown": [
       "\n",
       "A apa_results_table: 3 × 5\n",
       "\n",
       "| <!--/--> | contrast &lt;ppj_lbll&gt; | estimate &lt;ppj_lbll&gt; | ci &lt;ppj_lbll&gt; | statistic &lt;ppj_lbll&gt; | p.value &lt;ppj_lbll&gt; |\n",
       "|---|---|---|---|---|---|\n",
       "| noun_F_noun_M | noun_F - noun_M | 0.12  | $[-0.19$, $0.42]$  | 0.92  | .628 |\n",
       "| noun_F_verb_X | noun_F - verb_X | -0.23 | $[-0.53$, $0.07]$  | -1.81 | .172 |\n",
       "| noun_M_verb_X | noun_M - verb_X | -0.35 | $[-0.65$, $-0.04]$ | -2.73 | .021 |\n",
       "\n"
      ],
      "text/plain": [
       "              contrast        estimate ci                 statistic p.value\n",
       "noun_F_noun_M noun_F - noun_M 0.12     $[-0.19$, $0.42]$  0.92      .628   \n",
       "noun_F_verb_X noun_F - verb_X -0.23    $[-0.53$, $0.07]$  -1.81     .172   \n",
       "noun_M_verb_X noun_M - verb_X -0.35    $[-0.65$, $-0.04]$ -2.73     .021   "
      ]
     },
     "metadata": {},
     "output_type": "display_data"
    }
   ],
   "source": [
    "IDX <- IDX+1; COND <- CONDS[IDX]\n",
    "data1 <- droplevels(subset(df1, eval(parse(text=COND)))); data1 <- data1[complete.cases(data1),]; done1 <- AOV4(data1,COND)\n",
    "display_markdown(str_c(\"# Condition \",IDX,\" of \",length(CONDS))); display_markdown(done1$info); display_markdown(\"### Table\"); done1$aov_APA$table; display_markdown(\"### Result\"); display_markdown(done1$aov_APA[[\"full_result\"]][[\"cond0\"]]); display_markdown(\"### Summary (all done1, incl. NANs)\"); done1$summary; display_markdown(\"### Expected marginal means\"); done1$emm_APA$table; display_markdown(\"### Paired comparisons for expected marginal means\"); done1$pairs_APA$table"
   ]
  },
  {
   "cell_type": "code",
   "execution_count": 212,
   "metadata": {},
   "outputs": [
    {
     "name": "stderr",
     "output_type": "stream",
     "text": [
      "Warning message in summary.Anova.mlm(x$Anova):\n",
      "“HF eps > 1 treated as 1”\n"
     ]
    },
    {
     "data": {
      "text/markdown": [
       "# Condition 45 of 72"
      ]
     },
     "metadata": {},
     "output_type": "display_data"
    },
    {
     "data": {
      "text/markdown": [
       "`tmin0==0.41 & chan0==\"LP\" & mode0==\"pos\"`"
      ]
     },
     "metadata": {},
     "output_type": "display_data"
    },
    {
     "data": {
      "text/markdown": [
       "### Table"
      ]
     },
     "metadata": {},
     "output_type": "display_data"
    },
    {
     "data": {
      "text/html": [
       "<table>\n",
       "<caption>A apa_results_table: 1 × 7</caption>\n",
       "<thead>\n",
       "\t<tr><th></th><th scope=col>Effect</th><th scope=col>F</th><th scope=col>df1</th><th scope=col>df2</th><th scope=col>MSE</th><th scope=col>p</th><th scope=col>ges</th></tr>\n",
       "\t<tr><th></th><th scope=col>&lt;ppj_lbll&gt;</th><th scope=col>&lt;ppj_lbll&gt;</th><th scope=col>&lt;ppj_lbll&gt;</th><th scope=col>&lt;ppj_lbll&gt;</th><th scope=col>&lt;ppj_lbll&gt;</th><th scope=col>&lt;ppj_lbll&gt;</th><th scope=col>&lt;ppj_lbll&gt;</th></tr>\n",
       "</thead>\n",
       "<tbody>\n",
       "\t<tr><th scope=row>1</th><td>Cond0</td><td>2.84</td><td>1.99</td><td>81.43</td><td>0.41</td><td>.065</td><td>.003</td></tr>\n",
       "</tbody>\n",
       "</table>\n"
      ],
      "text/latex": [
       "A apa\\_results\\_table: 1 × 7\n",
       "\\begin{tabular}{r|lllllll}\n",
       "  & Effect & F & df1 & df2 & MSE & p & ges\\\\\n",
       "  & <ppj\\_lbll> & <ppj\\_lbll> & <ppj\\_lbll> & <ppj\\_lbll> & <ppj\\_lbll> & <ppj\\_lbll> & <ppj\\_lbll>\\\\\n",
       "\\hline\n",
       "\t1 & Cond0 & 2.84 & 1.99 & 81.43 & 0.41 & .065 & .003\\\\\n",
       "\\end{tabular}\n"
      ],
      "text/markdown": [
       "\n",
       "A apa_results_table: 1 × 7\n",
       "\n",
       "| <!--/--> | Effect &lt;ppj_lbll&gt; | F &lt;ppj_lbll&gt; | df1 &lt;ppj_lbll&gt; | df2 &lt;ppj_lbll&gt; | MSE &lt;ppj_lbll&gt; | p &lt;ppj_lbll&gt; | ges &lt;ppj_lbll&gt; |\n",
       "|---|---|---|---|---|---|---|---|\n",
       "| 1 | Cond0 | 2.84 | 1.99 | 81.43 | 0.41 | .065 | .003 |\n",
       "\n"
      ],
      "text/plain": [
       "  Effect F    df1  df2   MSE  p    ges \n",
       "1 Cond0  2.84 1.99 81.43 0.41 .065 .003"
      ]
     },
     "metadata": {},
     "output_type": "display_data"
    },
    {
     "data": {
      "text/markdown": [
       "### Result"
      ]
     },
     "metadata": {},
     "output_type": "display_data"
    },
    {
     "data": {
      "text/markdown": [
       "$F(1.99, 81.43) = 2.84$, $\\mathit{MSE} = 0.41$, $p = .065$, $\\hat{\\eta}^2_G = .003$"
      ]
     },
     "metadata": {},
     "output_type": "display_data"
    },
    {
     "data": {
      "text/markdown": [
       "### Summary (all done1, incl. NANs)"
      ]
     },
     "metadata": {},
     "output_type": "display_data"
    },
    {
     "data": {
      "text/html": [
       "<table>\n",
       "<caption>A tibble: 3 × 5</caption>\n",
       "<thead>\n",
       "\t<tr><th scope=col>cond0</th><th scope=col>N</th><th scope=col>valX_M</th><th scope=col>valX_SD</th><th scope=col>valX_SE</th></tr>\n",
       "\t<tr><th scope=col>&lt;fct&gt;</th><th scope=col>&lt;int&gt;</th><th scope=col>&lt;dbl&gt;</th><th scope=col>&lt;dbl&gt;</th><th scope=col>&lt;dbl&gt;</th></tr>\n",
       "</thead>\n",
       "<tbody>\n",
       "\t<tr><td>noun_F</td><td>42</td><td>2.623229</td><td>2.453761</td><td>0.3786235</td></tr>\n",
       "\t<tr><td>noun_M</td><td>42</td><td>2.934625</td><td>2.145465</td><td>0.3310524</td></tr>\n",
       "\t<tr><td>verb_X</td><td>42</td><td>2.677878</td><td>2.356399</td><td>0.3636002</td></tr>\n",
       "</tbody>\n",
       "</table>\n"
      ],
      "text/latex": [
       "A tibble: 3 × 5\n",
       "\\begin{tabular}{lllll}\n",
       " cond0 & N & valX\\_M & valX\\_SD & valX\\_SE\\\\\n",
       " <fct> & <int> & <dbl> & <dbl> & <dbl>\\\\\n",
       "\\hline\n",
       "\t noun\\_F & 42 & 2.623229 & 2.453761 & 0.3786235\\\\\n",
       "\t noun\\_M & 42 & 2.934625 & 2.145465 & 0.3310524\\\\\n",
       "\t verb\\_X & 42 & 2.677878 & 2.356399 & 0.3636002\\\\\n",
       "\\end{tabular}\n"
      ],
      "text/markdown": [
       "\n",
       "A tibble: 3 × 5\n",
       "\n",
       "| cond0 &lt;fct&gt; | N &lt;int&gt; | valX_M &lt;dbl&gt; | valX_SD &lt;dbl&gt; | valX_SE &lt;dbl&gt; |\n",
       "|---|---|---|---|---|\n",
       "| noun_F | 42 | 2.623229 | 2.453761 | 0.3786235 |\n",
       "| noun_M | 42 | 2.934625 | 2.145465 | 0.3310524 |\n",
       "| verb_X | 42 | 2.677878 | 2.356399 | 0.3636002 |\n",
       "\n"
      ],
      "text/plain": [
       "  cond0  N  valX_M   valX_SD  valX_SE  \n",
       "1 noun_F 42 2.623229 2.453761 0.3786235\n",
       "2 noun_M 42 2.934625 2.145465 0.3310524\n",
       "3 verb_X 42 2.677878 2.356399 0.3636002"
      ]
     },
     "metadata": {},
     "output_type": "display_data"
    },
    {
     "data": {
      "text/markdown": [
       "### Expected marginal means"
      ]
     },
     "metadata": {},
     "output_type": "display_data"
    },
    {
     "data": {
      "text/html": [
       "<table>\n",
       "<caption>A apa_results_table: 3 × 5</caption>\n",
       "<thead>\n",
       "\t<tr><th></th><th scope=col>cond0</th><th scope=col>estimate</th><th scope=col>ci</th><th scope=col>statistic</th><th scope=col>p.value</th></tr>\n",
       "\t<tr><th></th><th scope=col>&lt;chr&gt;</th><th scope=col>&lt;ppj_lbll&gt;</th><th scope=col>&lt;ppj_lbll&gt;</th><th scope=col>&lt;ppj_lbll&gt;</th><th scope=col>&lt;ppj_lbll&gt;</th></tr>\n",
       "</thead>\n",
       "<tbody>\n",
       "\t<tr><th scope=row>noun_F</th><td>noun_F</td><td>2.62</td><td>$[1.90$, $3.34]$</td><td>7.32</td><td>&lt; .001</td></tr>\n",
       "\t<tr><th scope=row>noun_M</th><td>noun_M</td><td>2.93</td><td>$[2.21$, $3.66]$</td><td>8.19</td><td>&lt; .001</td></tr>\n",
       "\t<tr><th scope=row>verb_X</th><td>verb_X</td><td>2.68</td><td>$[1.96$, $3.40]$</td><td>7.47</td><td>&lt; .001</td></tr>\n",
       "</tbody>\n",
       "</table>\n"
      ],
      "text/latex": [
       "A apa\\_results\\_table: 3 × 5\n",
       "\\begin{tabular}{r|lllll}\n",
       "  & cond0 & estimate & ci & statistic & p.value\\\\\n",
       "  & <chr> & <ppj\\_lbll> & <ppj\\_lbll> & <ppj\\_lbll> & <ppj\\_lbll>\\\\\n",
       "\\hline\n",
       "\tnoun\\_F & noun\\_F & 2.62 & \\${[}1.90\\$, \\$3.34{]}\\$ & 7.32 & < .001\\\\\n",
       "\tnoun\\_M & noun\\_M & 2.93 & \\${[}2.21\\$, \\$3.66{]}\\$ & 8.19 & < .001\\\\\n",
       "\tverb\\_X & verb\\_X & 2.68 & \\${[}1.96\\$, \\$3.40{]}\\$ & 7.47 & < .001\\\\\n",
       "\\end{tabular}\n"
      ],
      "text/markdown": [
       "\n",
       "A apa_results_table: 3 × 5\n",
       "\n",
       "| <!--/--> | cond0 &lt;chr&gt; | estimate &lt;ppj_lbll&gt; | ci &lt;ppj_lbll&gt; | statistic &lt;ppj_lbll&gt; | p.value &lt;ppj_lbll&gt; |\n",
       "|---|---|---|---|---|---|\n",
       "| noun_F | noun_F | 2.62 | $[1.90$, $3.34]$ | 7.32 | &lt; .001 |\n",
       "| noun_M | noun_M | 2.93 | $[2.21$, $3.66]$ | 8.19 | &lt; .001 |\n",
       "| verb_X | verb_X | 2.68 | $[1.96$, $3.40]$ | 7.47 | &lt; .001 |\n",
       "\n"
      ],
      "text/plain": [
       "       cond0  estimate ci               statistic p.value\n",
       "noun_F noun_F 2.62     $[1.90$, $3.34]$ 7.32      < .001 \n",
       "noun_M noun_M 2.93     $[2.21$, $3.66]$ 8.19      < .001 \n",
       "verb_X verb_X 2.68     $[1.96$, $3.40]$ 7.47      < .001 "
      ]
     },
     "metadata": {},
     "output_type": "display_data"
    },
    {
     "data": {
      "text/markdown": [
       "### Paired comparisons for expected marginal means"
      ]
     },
     "metadata": {},
     "output_type": "display_data"
    },
    {
     "data": {
      "text/html": [
       "<table>\n",
       "<caption>A apa_results_table: 3 × 5</caption>\n",
       "<thead>\n",
       "\t<tr><th></th><th scope=col>contrast</th><th scope=col>estimate</th><th scope=col>ci</th><th scope=col>statistic</th><th scope=col>p.value</th></tr>\n",
       "\t<tr><th></th><th scope=col>&lt;ppj_lbll&gt;</th><th scope=col>&lt;ppj_lbll&gt;</th><th scope=col>&lt;ppj_lbll&gt;</th><th scope=col>&lt;ppj_lbll&gt;</th><th scope=col>&lt;ppj_lbll&gt;</th></tr>\n",
       "</thead>\n",
       "<tbody>\n",
       "\t<tr><th scope=row>noun_F_noun_M</th><td>noun_F - noun_M</td><td>-0.31</td><td>$[-0.64$, $0.02]$</td><td>-2.23</td><td>.072</td></tr>\n",
       "\t<tr><th scope=row>noun_F_verb_X</th><td>noun_F - verb_X</td><td>-0.05</td><td>$[-0.39$, $0.28]$</td><td>-0.39</td><td>.919</td></tr>\n",
       "\t<tr><th scope=row>noun_M_verb_X</th><td>noun_M - verb_X</td><td>0.26 </td><td>$[-0.08$, $0.59]$</td><td>1.84 </td><td>.163</td></tr>\n",
       "</tbody>\n",
       "</table>\n"
      ],
      "text/latex": [
       "A apa\\_results\\_table: 3 × 5\n",
       "\\begin{tabular}{r|lllll}\n",
       "  & contrast & estimate & ci & statistic & p.value\\\\\n",
       "  & <ppj\\_lbll> & <ppj\\_lbll> & <ppj\\_lbll> & <ppj\\_lbll> & <ppj\\_lbll>\\\\\n",
       "\\hline\n",
       "\tnoun\\_F\\_noun\\_M & noun\\_F - noun\\_M & -0.31 & \\${[}-0.64\\$, \\$0.02{]}\\$ & -2.23 & .072\\\\\n",
       "\tnoun\\_F\\_verb\\_X & noun\\_F - verb\\_X & -0.05 & \\${[}-0.39\\$, \\$0.28{]}\\$ & -0.39 & .919\\\\\n",
       "\tnoun\\_M\\_verb\\_X & noun\\_M - verb\\_X & 0.26  & \\${[}-0.08\\$, \\$0.59{]}\\$ & 1.84  & .163\\\\\n",
       "\\end{tabular}\n"
      ],
      "text/markdown": [
       "\n",
       "A apa_results_table: 3 × 5\n",
       "\n",
       "| <!--/--> | contrast &lt;ppj_lbll&gt; | estimate &lt;ppj_lbll&gt; | ci &lt;ppj_lbll&gt; | statistic &lt;ppj_lbll&gt; | p.value &lt;ppj_lbll&gt; |\n",
       "|---|---|---|---|---|---|\n",
       "| noun_F_noun_M | noun_F - noun_M | -0.31 | $[-0.64$, $0.02]$ | -2.23 | .072 |\n",
       "| noun_F_verb_X | noun_F - verb_X | -0.05 | $[-0.39$, $0.28]$ | -0.39 | .919 |\n",
       "| noun_M_verb_X | noun_M - verb_X | 0.26  | $[-0.08$, $0.59]$ | 1.84  | .163 |\n",
       "\n"
      ],
      "text/plain": [
       "              contrast        estimate ci                statistic p.value\n",
       "noun_F_noun_M noun_F - noun_M -0.31    $[-0.64$, $0.02]$ -2.23     .072   \n",
       "noun_F_verb_X noun_F - verb_X -0.05    $[-0.39$, $0.28]$ -0.39     .919   \n",
       "noun_M_verb_X noun_M - verb_X 0.26     $[-0.08$, $0.59]$ 1.84      .163   "
      ]
     },
     "metadata": {},
     "output_type": "display_data"
    }
   ],
   "source": [
    "IDX <- IDX+1; COND <- CONDS[IDX]\n",
    "data1 <- droplevels(subset(df1, eval(parse(text=COND)))); data1 <- data1[complete.cases(data1),]; done1 <- AOV4(data1,COND)\n",
    "display_markdown(str_c(\"# Condition \",IDX,\" of \",length(CONDS))); display_markdown(done1$info); display_markdown(\"### Table\"); done1$aov_APA$table; display_markdown(\"### Result\"); display_markdown(done1$aov_APA[[\"full_result\"]][[\"cond0\"]]); display_markdown(\"### Summary (all done1, incl. NANs)\"); done1$summary; display_markdown(\"### Expected marginal means\"); done1$emm_APA$table; display_markdown(\"### Paired comparisons for expected marginal means\"); done1$pairs_APA$table"
   ]
  },
  {
   "cell_type": "code",
   "execution_count": 213,
   "metadata": {},
   "outputs": [
    {
     "data": {
      "text/markdown": [
       "# Condition 46 of 72"
      ]
     },
     "metadata": {},
     "output_type": "display_data"
    },
    {
     "data": {
      "text/markdown": [
       "`tmin0==0.41 & chan0==\"LP\" & mode0==\"neg\"`"
      ]
     },
     "metadata": {},
     "output_type": "display_data"
    },
    {
     "data": {
      "text/markdown": [
       "### Table"
      ]
     },
     "metadata": {},
     "output_type": "display_data"
    },
    {
     "data": {
      "text/html": [
       "<table>\n",
       "<caption>A apa_results_table: 1 × 7</caption>\n",
       "<thead>\n",
       "\t<tr><th></th><th scope=col>Effect</th><th scope=col>F</th><th scope=col>df1</th><th scope=col>df2</th><th scope=col>MSE</th><th scope=col>p</th><th scope=col>ges</th></tr>\n",
       "\t<tr><th></th><th scope=col>&lt;ppj_lbll&gt;</th><th scope=col>&lt;ppj_lbll&gt;</th><th scope=col>&lt;ppj_lbll&gt;</th><th scope=col>&lt;ppj_lbll&gt;</th><th scope=col>&lt;ppj_lbll&gt;</th><th scope=col>&lt;ppj_lbll&gt;</th><th scope=col>&lt;ppj_lbll&gt;</th></tr>\n",
       "</thead>\n",
       "<tbody>\n",
       "\t<tr><th scope=row>1</th><td>Cond0</td><td>2.86</td><td>1.41</td><td>57.91</td><td>1.00</td><td>.082</td><td>.005</td></tr>\n",
       "</tbody>\n",
       "</table>\n"
      ],
      "text/latex": [
       "A apa\\_results\\_table: 1 × 7\n",
       "\\begin{tabular}{r|lllllll}\n",
       "  & Effect & F & df1 & df2 & MSE & p & ges\\\\\n",
       "  & <ppj\\_lbll> & <ppj\\_lbll> & <ppj\\_lbll> & <ppj\\_lbll> & <ppj\\_lbll> & <ppj\\_lbll> & <ppj\\_lbll>\\\\\n",
       "\\hline\n",
       "\t1 & Cond0 & 2.86 & 1.41 & 57.91 & 1.00 & .082 & .005\\\\\n",
       "\\end{tabular}\n"
      ],
      "text/markdown": [
       "\n",
       "A apa_results_table: 1 × 7\n",
       "\n",
       "| <!--/--> | Effect &lt;ppj_lbll&gt; | F &lt;ppj_lbll&gt; | df1 &lt;ppj_lbll&gt; | df2 &lt;ppj_lbll&gt; | MSE &lt;ppj_lbll&gt; | p &lt;ppj_lbll&gt; | ges &lt;ppj_lbll&gt; |\n",
       "|---|---|---|---|---|---|---|---|\n",
       "| 1 | Cond0 | 2.86 | 1.41 | 57.91 | 1.00 | .082 | .005 |\n",
       "\n"
      ],
      "text/plain": [
       "  Effect F    df1  df2   MSE  p    ges \n",
       "1 Cond0  2.86 1.41 57.91 1.00 .082 .005"
      ]
     },
     "metadata": {},
     "output_type": "display_data"
    },
    {
     "data": {
      "text/markdown": [
       "### Result"
      ]
     },
     "metadata": {},
     "output_type": "display_data"
    },
    {
     "data": {
      "text/markdown": [
       "$F(1.41, 57.91) = 2.86$, $\\mathit{MSE} = 1.00$, $p = .082$, $\\hat{\\eta}^2_G = .005$"
      ]
     },
     "metadata": {},
     "output_type": "display_data"
    },
    {
     "data": {
      "text/markdown": [
       "### Summary (all done1, incl. NANs)"
      ]
     },
     "metadata": {},
     "output_type": "display_data"
    },
    {
     "data": {
      "text/html": [
       "<table>\n",
       "<caption>A tibble: 3 × 5</caption>\n",
       "<thead>\n",
       "\t<tr><th scope=col>cond0</th><th scope=col>N</th><th scope=col>valX_M</th><th scope=col>valX_SD</th><th scope=col>valX_SE</th></tr>\n",
       "\t<tr><th scope=col>&lt;fct&gt;</th><th scope=col>&lt;int&gt;</th><th scope=col>&lt;dbl&gt;</th><th scope=col>&lt;dbl&gt;</th><th scope=col>&lt;dbl&gt;</th></tr>\n",
       "</thead>\n",
       "<tbody>\n",
       "\t<tr><td>noun_F</td><td>42</td><td>-0.22539826</td><td>2.868871</td><td>0.4426764</td></tr>\n",
       "\t<tr><td>noun_M</td><td>42</td><td> 0.21103173</td><td>2.158873</td><td>0.3331213</td></tr>\n",
       "\t<tr><td>verb_X</td><td>42</td><td> 0.03857912</td><td>2.928277</td><td>0.4518430</td></tr>\n",
       "</tbody>\n",
       "</table>\n"
      ],
      "text/latex": [
       "A tibble: 3 × 5\n",
       "\\begin{tabular}{lllll}\n",
       " cond0 & N & valX\\_M & valX\\_SD & valX\\_SE\\\\\n",
       " <fct> & <int> & <dbl> & <dbl> & <dbl>\\\\\n",
       "\\hline\n",
       "\t noun\\_F & 42 & -0.22539826 & 2.868871 & 0.4426764\\\\\n",
       "\t noun\\_M & 42 &  0.21103173 & 2.158873 & 0.3331213\\\\\n",
       "\t verb\\_X & 42 &  0.03857912 & 2.928277 & 0.4518430\\\\\n",
       "\\end{tabular}\n"
      ],
      "text/markdown": [
       "\n",
       "A tibble: 3 × 5\n",
       "\n",
       "| cond0 &lt;fct&gt; | N &lt;int&gt; | valX_M &lt;dbl&gt; | valX_SD &lt;dbl&gt; | valX_SE &lt;dbl&gt; |\n",
       "|---|---|---|---|---|\n",
       "| noun_F | 42 | -0.22539826 | 2.868871 | 0.4426764 |\n",
       "| noun_M | 42 |  0.21103173 | 2.158873 | 0.3331213 |\n",
       "| verb_X | 42 |  0.03857912 | 2.928277 | 0.4518430 |\n",
       "\n"
      ],
      "text/plain": [
       "  cond0  N  valX_M      valX_SD  valX_SE  \n",
       "1 noun_F 42 -0.22539826 2.868871 0.4426764\n",
       "2 noun_M 42  0.21103173 2.158873 0.3331213\n",
       "3 verb_X 42  0.03857912 2.928277 0.4518430"
      ]
     },
     "metadata": {},
     "output_type": "display_data"
    },
    {
     "data": {
      "text/markdown": [
       "### Expected marginal means"
      ]
     },
     "metadata": {},
     "output_type": "display_data"
    },
    {
     "data": {
      "text/html": [
       "<table>\n",
       "<caption>A apa_results_table: 3 × 5</caption>\n",
       "<thead>\n",
       "\t<tr><th></th><th scope=col>cond0</th><th scope=col>estimate</th><th scope=col>ci</th><th scope=col>statistic</th><th scope=col>p.value</th></tr>\n",
       "\t<tr><th></th><th scope=col>&lt;chr&gt;</th><th scope=col>&lt;ppj_lbll&gt;</th><th scope=col>&lt;ppj_lbll&gt;</th><th scope=col>&lt;ppj_lbll&gt;</th><th scope=col>&lt;ppj_lbll&gt;</th></tr>\n",
       "</thead>\n",
       "<tbody>\n",
       "\t<tr><th scope=row>noun_F</th><td>noun_F</td><td>-0.23</td><td>$[-1.06$, $0.61]$</td><td>-0.55</td><td>.588</td></tr>\n",
       "\t<tr><th scope=row>noun_M</th><td>noun_M</td><td>0.21 </td><td>$[-0.62$, $1.04]$</td><td>0.51 </td><td>.612</td></tr>\n",
       "\t<tr><th scope=row>verb_X</th><td>verb_X</td><td>0.04 </td><td>$[-0.79$, $0.87]$</td><td>0.09 </td><td>.926</td></tr>\n",
       "</tbody>\n",
       "</table>\n"
      ],
      "text/latex": [
       "A apa\\_results\\_table: 3 × 5\n",
       "\\begin{tabular}{r|lllll}\n",
       "  & cond0 & estimate & ci & statistic & p.value\\\\\n",
       "  & <chr> & <ppj\\_lbll> & <ppj\\_lbll> & <ppj\\_lbll> & <ppj\\_lbll>\\\\\n",
       "\\hline\n",
       "\tnoun\\_F & noun\\_F & -0.23 & \\${[}-1.06\\$, \\$0.61{]}\\$ & -0.55 & .588\\\\\n",
       "\tnoun\\_M & noun\\_M & 0.21  & \\${[}-0.62\\$, \\$1.04{]}\\$ & 0.51  & .612\\\\\n",
       "\tverb\\_X & verb\\_X & 0.04  & \\${[}-0.79\\$, \\$0.87{]}\\$ & 0.09  & .926\\\\\n",
       "\\end{tabular}\n"
      ],
      "text/markdown": [
       "\n",
       "A apa_results_table: 3 × 5\n",
       "\n",
       "| <!--/--> | cond0 &lt;chr&gt; | estimate &lt;ppj_lbll&gt; | ci &lt;ppj_lbll&gt; | statistic &lt;ppj_lbll&gt; | p.value &lt;ppj_lbll&gt; |\n",
       "|---|---|---|---|---|---|\n",
       "| noun_F | noun_F | -0.23 | $[-1.06$, $0.61]$ | -0.55 | .588 |\n",
       "| noun_M | noun_M | 0.21  | $[-0.62$, $1.04]$ | 0.51  | .612 |\n",
       "| verb_X | verb_X | 0.04  | $[-0.79$, $0.87]$ | 0.09  | .926 |\n",
       "\n"
      ],
      "text/plain": [
       "       cond0  estimate ci                statistic p.value\n",
       "noun_F noun_F -0.23    $[-1.06$, $0.61]$ -0.55     .588   \n",
       "noun_M noun_M 0.21     $[-0.62$, $1.04]$ 0.51      .612   \n",
       "verb_X verb_X 0.04     $[-0.79$, $0.87]$ 0.09      .926   "
      ]
     },
     "metadata": {},
     "output_type": "display_data"
    },
    {
     "data": {
      "text/markdown": [
       "### Paired comparisons for expected marginal means"
      ]
     },
     "metadata": {},
     "output_type": "display_data"
    },
    {
     "data": {
      "text/html": [
       "<table>\n",
       "<caption>A apa_results_table: 3 × 5</caption>\n",
       "<thead>\n",
       "\t<tr><th></th><th scope=col>contrast</th><th scope=col>estimate</th><th scope=col>ci</th><th scope=col>statistic</th><th scope=col>p.value</th></tr>\n",
       "\t<tr><th></th><th scope=col>&lt;ppj_lbll&gt;</th><th scope=col>&lt;ppj_lbll&gt;</th><th scope=col>&lt;ppj_lbll&gt;</th><th scope=col>&lt;ppj_lbll&gt;</th><th scope=col>&lt;ppj_lbll&gt;</th></tr>\n",
       "</thead>\n",
       "<tbody>\n",
       "\t<tr><th scope=row>noun_F_noun_M</th><td>noun_F - noun_M</td><td>-0.44</td><td>$[-0.87$, $0.00]$</td><td>-2.38</td><td>.051</td></tr>\n",
       "\t<tr><th scope=row>noun_F_verb_X</th><td>noun_F - verb_X</td><td>-0.26</td><td>$[-0.70$, $0.17]$</td><td>-1.44</td><td>.327</td></tr>\n",
       "\t<tr><th scope=row>noun_M_verb_X</th><td>noun_M - verb_X</td><td>0.17 </td><td>$[-0.27$, $0.61]$</td><td>0.94 </td><td>.617</td></tr>\n",
       "</tbody>\n",
       "</table>\n"
      ],
      "text/latex": [
       "A apa\\_results\\_table: 3 × 5\n",
       "\\begin{tabular}{r|lllll}\n",
       "  & contrast & estimate & ci & statistic & p.value\\\\\n",
       "  & <ppj\\_lbll> & <ppj\\_lbll> & <ppj\\_lbll> & <ppj\\_lbll> & <ppj\\_lbll>\\\\\n",
       "\\hline\n",
       "\tnoun\\_F\\_noun\\_M & noun\\_F - noun\\_M & -0.44 & \\${[}-0.87\\$, \\$0.00{]}\\$ & -2.38 & .051\\\\\n",
       "\tnoun\\_F\\_verb\\_X & noun\\_F - verb\\_X & -0.26 & \\${[}-0.70\\$, \\$0.17{]}\\$ & -1.44 & .327\\\\\n",
       "\tnoun\\_M\\_verb\\_X & noun\\_M - verb\\_X & 0.17  & \\${[}-0.27\\$, \\$0.61{]}\\$ & 0.94  & .617\\\\\n",
       "\\end{tabular}\n"
      ],
      "text/markdown": [
       "\n",
       "A apa_results_table: 3 × 5\n",
       "\n",
       "| <!--/--> | contrast &lt;ppj_lbll&gt; | estimate &lt;ppj_lbll&gt; | ci &lt;ppj_lbll&gt; | statistic &lt;ppj_lbll&gt; | p.value &lt;ppj_lbll&gt; |\n",
       "|---|---|---|---|---|---|\n",
       "| noun_F_noun_M | noun_F - noun_M | -0.44 | $[-0.87$, $0.00]$ | -2.38 | .051 |\n",
       "| noun_F_verb_X | noun_F - verb_X | -0.26 | $[-0.70$, $0.17]$ | -1.44 | .327 |\n",
       "| noun_M_verb_X | noun_M - verb_X | 0.17  | $[-0.27$, $0.61]$ | 0.94  | .617 |\n",
       "\n"
      ],
      "text/plain": [
       "              contrast        estimate ci                statistic p.value\n",
       "noun_F_noun_M noun_F - noun_M -0.44    $[-0.87$, $0.00]$ -2.38     .051   \n",
       "noun_F_verb_X noun_F - verb_X -0.26    $[-0.70$, $0.17]$ -1.44     .327   \n",
       "noun_M_verb_X noun_M - verb_X 0.17     $[-0.27$, $0.61]$ 0.94      .617   "
      ]
     },
     "metadata": {},
     "output_type": "display_data"
    }
   ],
   "source": [
    "IDX <- IDX+1; COND <- CONDS[IDX]\n",
    "data1 <- droplevels(subset(df1, eval(parse(text=COND)))); data1 <- data1[complete.cases(data1),]; done1 <- AOV4(data1,COND)\n",
    "display_markdown(str_c(\"# Condition \",IDX,\" of \",length(CONDS))); display_markdown(done1$info); display_markdown(\"### Table\"); done1$aov_APA$table; display_markdown(\"### Result\"); display_markdown(done1$aov_APA[[\"full_result\"]][[\"cond0\"]]); display_markdown(\"### Summary (all done1, incl. NANs)\"); done1$summary; display_markdown(\"### Expected marginal means\"); done1$emm_APA$table; display_markdown(\"### Paired comparisons for expected marginal means\"); done1$pairs_APA$table"
   ]
  },
  {
   "cell_type": "code",
   "execution_count": 214,
   "metadata": {},
   "outputs": [
    {
     "data": {
      "text/markdown": [
       "# Condition 47 of 72"
      ]
     },
     "metadata": {},
     "output_type": "display_data"
    },
    {
     "data": {
      "text/markdown": [
       "`tmin0==0.41 & chan0==\"RP\" & mode0==\"pos\"`"
      ]
     },
     "metadata": {},
     "output_type": "display_data"
    },
    {
     "data": {
      "text/markdown": [
       "### Table"
      ]
     },
     "metadata": {},
     "output_type": "display_data"
    },
    {
     "data": {
      "text/html": [
       "<table>\n",
       "<caption>A apa_results_table: 1 × 7</caption>\n",
       "<thead>\n",
       "\t<tr><th></th><th scope=col>Effect</th><th scope=col>F</th><th scope=col>df1</th><th scope=col>df2</th><th scope=col>MSE</th><th scope=col>p</th><th scope=col>ges</th></tr>\n",
       "\t<tr><th></th><th scope=col>&lt;ppj_lbll&gt;</th><th scope=col>&lt;ppj_lbll&gt;</th><th scope=col>&lt;ppj_lbll&gt;</th><th scope=col>&lt;ppj_lbll&gt;</th><th scope=col>&lt;ppj_lbll&gt;</th><th scope=col>&lt;ppj_lbll&gt;</th><th scope=col>&lt;ppj_lbll&gt;</th></tr>\n",
       "</thead>\n",
       "<tbody>\n",
       "\t<tr><th scope=row>1</th><td>Cond0</td><td>2.94</td><td>1.83</td><td>75.05</td><td>0.40</td><td>.063</td><td>.004</td></tr>\n",
       "</tbody>\n",
       "</table>\n"
      ],
      "text/latex": [
       "A apa\\_results\\_table: 1 × 7\n",
       "\\begin{tabular}{r|lllllll}\n",
       "  & Effect & F & df1 & df2 & MSE & p & ges\\\\\n",
       "  & <ppj\\_lbll> & <ppj\\_lbll> & <ppj\\_lbll> & <ppj\\_lbll> & <ppj\\_lbll> & <ppj\\_lbll> & <ppj\\_lbll>\\\\\n",
       "\\hline\n",
       "\t1 & Cond0 & 2.94 & 1.83 & 75.05 & 0.40 & .063 & .004\\\\\n",
       "\\end{tabular}\n"
      ],
      "text/markdown": [
       "\n",
       "A apa_results_table: 1 × 7\n",
       "\n",
       "| <!--/--> | Effect &lt;ppj_lbll&gt; | F &lt;ppj_lbll&gt; | df1 &lt;ppj_lbll&gt; | df2 &lt;ppj_lbll&gt; | MSE &lt;ppj_lbll&gt; | p &lt;ppj_lbll&gt; | ges &lt;ppj_lbll&gt; |\n",
       "|---|---|---|---|---|---|---|---|\n",
       "| 1 | Cond0 | 2.94 | 1.83 | 75.05 | 0.40 | .063 | .004 |\n",
       "\n"
      ],
      "text/plain": [
       "  Effect F    df1  df2   MSE  p    ges \n",
       "1 Cond0  2.94 1.83 75.05 0.40 .063 .004"
      ]
     },
     "metadata": {},
     "output_type": "display_data"
    },
    {
     "data": {
      "text/markdown": [
       "### Result"
      ]
     },
     "metadata": {},
     "output_type": "display_data"
    },
    {
     "data": {
      "text/markdown": [
       "$F(1.83, 75.05) = 2.94$, $\\mathit{MSE} = 0.40$, $p = .063$, $\\hat{\\eta}^2_G = .004$"
      ]
     },
     "metadata": {},
     "output_type": "display_data"
    },
    {
     "data": {
      "text/markdown": [
       "### Summary (all done1, incl. NANs)"
      ]
     },
     "metadata": {},
     "output_type": "display_data"
    },
    {
     "data": {
      "text/html": [
       "<table>\n",
       "<caption>A tibble: 3 × 5</caption>\n",
       "<thead>\n",
       "\t<tr><th scope=col>cond0</th><th scope=col>N</th><th scope=col>valX_M</th><th scope=col>valX_SD</th><th scope=col>valX_SE</th></tr>\n",
       "\t<tr><th scope=col>&lt;fct&gt;</th><th scope=col>&lt;int&gt;</th><th scope=col>&lt;dbl&gt;</th><th scope=col>&lt;dbl&gt;</th><th scope=col>&lt;dbl&gt;</th></tr>\n",
       "</thead>\n",
       "<tbody>\n",
       "\t<tr><td>noun_F</td><td>42</td><td>3.984285</td><td>2.270478</td><td>0.3503423</td></tr>\n",
       "\t<tr><td>noun_M</td><td>42</td><td>4.279039</td><td>2.114851</td><td>0.3263285</td></tr>\n",
       "\t<tr><td>verb_X</td><td>42</td><td>4.025614</td><td>2.171331</td><td>0.3350437</td></tr>\n",
       "</tbody>\n",
       "</table>\n"
      ],
      "text/latex": [
       "A tibble: 3 × 5\n",
       "\\begin{tabular}{lllll}\n",
       " cond0 & N & valX\\_M & valX\\_SD & valX\\_SE\\\\\n",
       " <fct> & <int> & <dbl> & <dbl> & <dbl>\\\\\n",
       "\\hline\n",
       "\t noun\\_F & 42 & 3.984285 & 2.270478 & 0.3503423\\\\\n",
       "\t noun\\_M & 42 & 4.279039 & 2.114851 & 0.3263285\\\\\n",
       "\t verb\\_X & 42 & 4.025614 & 2.171331 & 0.3350437\\\\\n",
       "\\end{tabular}\n"
      ],
      "text/markdown": [
       "\n",
       "A tibble: 3 × 5\n",
       "\n",
       "| cond0 &lt;fct&gt; | N &lt;int&gt; | valX_M &lt;dbl&gt; | valX_SD &lt;dbl&gt; | valX_SE &lt;dbl&gt; |\n",
       "|---|---|---|---|---|\n",
       "| noun_F | 42 | 3.984285 | 2.270478 | 0.3503423 |\n",
       "| noun_M | 42 | 4.279039 | 2.114851 | 0.3263285 |\n",
       "| verb_X | 42 | 4.025614 | 2.171331 | 0.3350437 |\n",
       "\n"
      ],
      "text/plain": [
       "  cond0  N  valX_M   valX_SD  valX_SE  \n",
       "1 noun_F 42 3.984285 2.270478 0.3503423\n",
       "2 noun_M 42 4.279039 2.114851 0.3263285\n",
       "3 verb_X 42 4.025614 2.171331 0.3350437"
      ]
     },
     "metadata": {},
     "output_type": "display_data"
    },
    {
     "data": {
      "text/markdown": [
       "### Expected marginal means"
      ]
     },
     "metadata": {},
     "output_type": "display_data"
    },
    {
     "data": {
      "text/html": [
       "<table>\n",
       "<caption>A apa_results_table: 3 × 5</caption>\n",
       "<thead>\n",
       "\t<tr><th></th><th scope=col>cond0</th><th scope=col>estimate</th><th scope=col>ci</th><th scope=col>statistic</th><th scope=col>p.value</th></tr>\n",
       "\t<tr><th></th><th scope=col>&lt;chr&gt;</th><th scope=col>&lt;ppj_lbll&gt;</th><th scope=col>&lt;ppj_lbll&gt;</th><th scope=col>&lt;ppj_lbll&gt;</th><th scope=col>&lt;ppj_lbll&gt;</th></tr>\n",
       "</thead>\n",
       "<tbody>\n",
       "\t<tr><th scope=row>noun_F</th><td>noun_F</td><td>3.98</td><td>$[3.30$, $4.66]$</td><td>11.81</td><td>&lt; .001</td></tr>\n",
       "\t<tr><th scope=row>noun_M</th><td>noun_M</td><td>4.28</td><td>$[3.60$, $4.96]$</td><td>12.68</td><td>&lt; .001</td></tr>\n",
       "\t<tr><th scope=row>verb_X</th><td>verb_X</td><td>4.03</td><td>$[3.35$, $4.70]$</td><td>11.93</td><td>&lt; .001</td></tr>\n",
       "</tbody>\n",
       "</table>\n"
      ],
      "text/latex": [
       "A apa\\_results\\_table: 3 × 5\n",
       "\\begin{tabular}{r|lllll}\n",
       "  & cond0 & estimate & ci & statistic & p.value\\\\\n",
       "  & <chr> & <ppj\\_lbll> & <ppj\\_lbll> & <ppj\\_lbll> & <ppj\\_lbll>\\\\\n",
       "\\hline\n",
       "\tnoun\\_F & noun\\_F & 3.98 & \\${[}3.30\\$, \\$4.66{]}\\$ & 11.81 & < .001\\\\\n",
       "\tnoun\\_M & noun\\_M & 4.28 & \\${[}3.60\\$, \\$4.96{]}\\$ & 12.68 & < .001\\\\\n",
       "\tverb\\_X & verb\\_X & 4.03 & \\${[}3.35\\$, \\$4.70{]}\\$ & 11.93 & < .001\\\\\n",
       "\\end{tabular}\n"
      ],
      "text/markdown": [
       "\n",
       "A apa_results_table: 3 × 5\n",
       "\n",
       "| <!--/--> | cond0 &lt;chr&gt; | estimate &lt;ppj_lbll&gt; | ci &lt;ppj_lbll&gt; | statistic &lt;ppj_lbll&gt; | p.value &lt;ppj_lbll&gt; |\n",
       "|---|---|---|---|---|---|\n",
       "| noun_F | noun_F | 3.98 | $[3.30$, $4.66]$ | 11.81 | &lt; .001 |\n",
       "| noun_M | noun_M | 4.28 | $[3.60$, $4.96]$ | 12.68 | &lt; .001 |\n",
       "| verb_X | verb_X | 4.03 | $[3.35$, $4.70]$ | 11.93 | &lt; .001 |\n",
       "\n"
      ],
      "text/plain": [
       "       cond0  estimate ci               statistic p.value\n",
       "noun_F noun_F 3.98     $[3.30$, $4.66]$ 11.81     < .001 \n",
       "noun_M noun_M 4.28     $[3.60$, $4.96]$ 12.68     < .001 \n",
       "verb_X verb_X 4.03     $[3.35$, $4.70]$ 11.93     < .001 "
      ]
     },
     "metadata": {},
     "output_type": "display_data"
    },
    {
     "data": {
      "text/markdown": [
       "### Paired comparisons for expected marginal means"
      ]
     },
     "metadata": {},
     "output_type": "display_data"
    },
    {
     "data": {
      "text/html": [
       "<table>\n",
       "<caption>A apa_results_table: 3 × 5</caption>\n",
       "<thead>\n",
       "\t<tr><th></th><th scope=col>contrast</th><th scope=col>estimate</th><th scope=col>ci</th><th scope=col>statistic</th><th scope=col>p.value</th></tr>\n",
       "\t<tr><th></th><th scope=col>&lt;ppj_lbll&gt;</th><th scope=col>&lt;ppj_lbll&gt;</th><th scope=col>&lt;ppj_lbll&gt;</th><th scope=col>&lt;ppj_lbll&gt;</th><th scope=col>&lt;ppj_lbll&gt;</th></tr>\n",
       "</thead>\n",
       "<tbody>\n",
       "\t<tr><th scope=row>noun_F_noun_M</th><td>noun_F - noun_M</td><td>-0.29</td><td>$[-0.61$, $0.02]$</td><td>-2.24</td><td>.070</td></tr>\n",
       "\t<tr><th scope=row>noun_F_verb_X</th><td>noun_F - verb_X</td><td>-0.04</td><td>$[-0.36$, $0.27]$</td><td>-0.31</td><td>.947</td></tr>\n",
       "\t<tr><th scope=row>noun_M_verb_X</th><td>noun_M - verb_X</td><td>0.25 </td><td>$[-0.06$, $0.57]$</td><td>1.93 </td><td>.138</td></tr>\n",
       "</tbody>\n",
       "</table>\n"
      ],
      "text/latex": [
       "A apa\\_results\\_table: 3 × 5\n",
       "\\begin{tabular}{r|lllll}\n",
       "  & contrast & estimate & ci & statistic & p.value\\\\\n",
       "  & <ppj\\_lbll> & <ppj\\_lbll> & <ppj\\_lbll> & <ppj\\_lbll> & <ppj\\_lbll>\\\\\n",
       "\\hline\n",
       "\tnoun\\_F\\_noun\\_M & noun\\_F - noun\\_M & -0.29 & \\${[}-0.61\\$, \\$0.02{]}\\$ & -2.24 & .070\\\\\n",
       "\tnoun\\_F\\_verb\\_X & noun\\_F - verb\\_X & -0.04 & \\${[}-0.36\\$, \\$0.27{]}\\$ & -0.31 & .947\\\\\n",
       "\tnoun\\_M\\_verb\\_X & noun\\_M - verb\\_X & 0.25  & \\${[}-0.06\\$, \\$0.57{]}\\$ & 1.93  & .138\\\\\n",
       "\\end{tabular}\n"
      ],
      "text/markdown": [
       "\n",
       "A apa_results_table: 3 × 5\n",
       "\n",
       "| <!--/--> | contrast &lt;ppj_lbll&gt; | estimate &lt;ppj_lbll&gt; | ci &lt;ppj_lbll&gt; | statistic &lt;ppj_lbll&gt; | p.value &lt;ppj_lbll&gt; |\n",
       "|---|---|---|---|---|---|\n",
       "| noun_F_noun_M | noun_F - noun_M | -0.29 | $[-0.61$, $0.02]$ | -2.24 | .070 |\n",
       "| noun_F_verb_X | noun_F - verb_X | -0.04 | $[-0.36$, $0.27]$ | -0.31 | .947 |\n",
       "| noun_M_verb_X | noun_M - verb_X | 0.25  | $[-0.06$, $0.57]$ | 1.93  | .138 |\n",
       "\n"
      ],
      "text/plain": [
       "              contrast        estimate ci                statistic p.value\n",
       "noun_F_noun_M noun_F - noun_M -0.29    $[-0.61$, $0.02]$ -2.24     .070   \n",
       "noun_F_verb_X noun_F - verb_X -0.04    $[-0.36$, $0.27]$ -0.31     .947   \n",
       "noun_M_verb_X noun_M - verb_X 0.25     $[-0.06$, $0.57]$ 1.93      .138   "
      ]
     },
     "metadata": {},
     "output_type": "display_data"
    }
   ],
   "source": [
    "IDX <- IDX+1; COND <- CONDS[IDX]\n",
    "data1 <- droplevels(subset(df1, eval(parse(text=COND)))); data1 <- data1[complete.cases(data1),]; done1 <- AOV4(data1,COND)\n",
    "display_markdown(str_c(\"# Condition \",IDX,\" of \",length(CONDS))); display_markdown(done1$info); display_markdown(\"### Table\"); done1$aov_APA$table; display_markdown(\"### Result\"); display_markdown(done1$aov_APA[[\"full_result\"]][[\"cond0\"]]); display_markdown(\"### Summary (all done1, incl. NANs)\"); done1$summary; display_markdown(\"### Expected marginal means\"); done1$emm_APA$table; display_markdown(\"### Paired comparisons for expected marginal means\"); done1$pairs_APA$table"
   ]
  },
  {
   "cell_type": "code",
   "execution_count": 215,
   "metadata": {},
   "outputs": [
    {
     "data": {
      "text/markdown": [
       "# Condition 48 of 72"
      ]
     },
     "metadata": {},
     "output_type": "display_data"
    },
    {
     "data": {
      "text/markdown": [
       "`tmin0==0.41 & chan0==\"RP\" & mode0==\"neg\"`"
      ]
     },
     "metadata": {},
     "output_type": "display_data"
    },
    {
     "data": {
      "text/markdown": [
       "### Table"
      ]
     },
     "metadata": {},
     "output_type": "display_data"
    },
    {
     "data": {
      "text/html": [
       "<table>\n",
       "<caption>A apa_results_table: 1 × 7</caption>\n",
       "<thead>\n",
       "\t<tr><th></th><th scope=col>Effect</th><th scope=col>F</th><th scope=col>df1</th><th scope=col>df2</th><th scope=col>MSE</th><th scope=col>p</th><th scope=col>ges</th></tr>\n",
       "\t<tr><th></th><th scope=col>&lt;ppj_lbll&gt;</th><th scope=col>&lt;ppj_lbll&gt;</th><th scope=col>&lt;ppj_lbll&gt;</th><th scope=col>&lt;ppj_lbll&gt;</th><th scope=col>&lt;ppj_lbll&gt;</th><th scope=col>&lt;ppj_lbll&gt;</th><th scope=col>&lt;ppj_lbll&gt;</th></tr>\n",
       "</thead>\n",
       "<tbody>\n",
       "\t<tr><th scope=row>1</th><td>Cond0</td><td>0.46</td><td>1.61</td><td>65.90</td><td>0.84</td><td>.591</td><td>.001</td></tr>\n",
       "</tbody>\n",
       "</table>\n"
      ],
      "text/latex": [
       "A apa\\_results\\_table: 1 × 7\n",
       "\\begin{tabular}{r|lllllll}\n",
       "  & Effect & F & df1 & df2 & MSE & p & ges\\\\\n",
       "  & <ppj\\_lbll> & <ppj\\_lbll> & <ppj\\_lbll> & <ppj\\_lbll> & <ppj\\_lbll> & <ppj\\_lbll> & <ppj\\_lbll>\\\\\n",
       "\\hline\n",
       "\t1 & Cond0 & 0.46 & 1.61 & 65.90 & 0.84 & .591 & .001\\\\\n",
       "\\end{tabular}\n"
      ],
      "text/markdown": [
       "\n",
       "A apa_results_table: 1 × 7\n",
       "\n",
       "| <!--/--> | Effect &lt;ppj_lbll&gt; | F &lt;ppj_lbll&gt; | df1 &lt;ppj_lbll&gt; | df2 &lt;ppj_lbll&gt; | MSE &lt;ppj_lbll&gt; | p &lt;ppj_lbll&gt; | ges &lt;ppj_lbll&gt; |\n",
       "|---|---|---|---|---|---|---|---|\n",
       "| 1 | Cond0 | 0.46 | 1.61 | 65.90 | 0.84 | .591 | .001 |\n",
       "\n"
      ],
      "text/plain": [
       "  Effect F    df1  df2   MSE  p    ges \n",
       "1 Cond0  0.46 1.61 65.90 0.84 .591 .001"
      ]
     },
     "metadata": {},
     "output_type": "display_data"
    },
    {
     "data": {
      "text/markdown": [
       "### Result"
      ]
     },
     "metadata": {},
     "output_type": "display_data"
    },
    {
     "data": {
      "text/markdown": [
       "$F(1.61, 65.90) = 0.46$, $\\mathit{MSE} = 0.84$, $p = .591$, $\\hat{\\eta}^2_G = .001$"
      ]
     },
     "metadata": {},
     "output_type": "display_data"
    },
    {
     "data": {
      "text/markdown": [
       "### Summary (all done1, incl. NANs)"
      ]
     },
     "metadata": {},
     "output_type": "display_data"
    },
    {
     "data": {
      "text/html": [
       "<table>\n",
       "<caption>A tibble: 3 × 5</caption>\n",
       "<thead>\n",
       "\t<tr><th scope=col>cond0</th><th scope=col>N</th><th scope=col>valX_M</th><th scope=col>valX_SD</th><th scope=col>valX_SE</th></tr>\n",
       "\t<tr><th scope=col>&lt;fct&gt;</th><th scope=col>&lt;int&gt;</th><th scope=col>&lt;dbl&gt;</th><th scope=col>&lt;dbl&gt;</th><th scope=col>&lt;dbl&gt;</th></tr>\n",
       "</thead>\n",
       "<tbody>\n",
       "\t<tr><td>noun_F</td><td>42</td><td>1.217192</td><td>2.954751</td><td>0.4559280</td></tr>\n",
       "\t<tr><td>noun_M</td><td>42</td><td>1.350855</td><td>2.488907</td><td>0.3840466</td></tr>\n",
       "\t<tr><td>verb_X</td><td>42</td><td>1.377196</td><td>2.894959</td><td>0.4467019</td></tr>\n",
       "</tbody>\n",
       "</table>\n"
      ],
      "text/latex": [
       "A tibble: 3 × 5\n",
       "\\begin{tabular}{lllll}\n",
       " cond0 & N & valX\\_M & valX\\_SD & valX\\_SE\\\\\n",
       " <fct> & <int> & <dbl> & <dbl> & <dbl>\\\\\n",
       "\\hline\n",
       "\t noun\\_F & 42 & 1.217192 & 2.954751 & 0.4559280\\\\\n",
       "\t noun\\_M & 42 & 1.350855 & 2.488907 & 0.3840466\\\\\n",
       "\t verb\\_X & 42 & 1.377196 & 2.894959 & 0.4467019\\\\\n",
       "\\end{tabular}\n"
      ],
      "text/markdown": [
       "\n",
       "A tibble: 3 × 5\n",
       "\n",
       "| cond0 &lt;fct&gt; | N &lt;int&gt; | valX_M &lt;dbl&gt; | valX_SD &lt;dbl&gt; | valX_SE &lt;dbl&gt; |\n",
       "|---|---|---|---|---|\n",
       "| noun_F | 42 | 1.217192 | 2.954751 | 0.4559280 |\n",
       "| noun_M | 42 | 1.350855 | 2.488907 | 0.3840466 |\n",
       "| verb_X | 42 | 1.377196 | 2.894959 | 0.4467019 |\n",
       "\n"
      ],
      "text/plain": [
       "  cond0  N  valX_M   valX_SD  valX_SE  \n",
       "1 noun_F 42 1.217192 2.954751 0.4559280\n",
       "2 noun_M 42 1.350855 2.488907 0.3840466\n",
       "3 verb_X 42 1.377196 2.894959 0.4467019"
      ]
     },
     "metadata": {},
     "output_type": "display_data"
    },
    {
     "data": {
      "text/markdown": [
       "### Expected marginal means"
      ]
     },
     "metadata": {},
     "output_type": "display_data"
    },
    {
     "data": {
      "text/html": [
       "<table>\n",
       "<caption>A apa_results_table: 3 × 5</caption>\n",
       "<thead>\n",
       "\t<tr><th></th><th scope=col>cond0</th><th scope=col>estimate</th><th scope=col>ci</th><th scope=col>statistic</th><th scope=col>p.value</th></tr>\n",
       "\t<tr><th></th><th scope=col>&lt;chr&gt;</th><th scope=col>&lt;ppj_lbll&gt;</th><th scope=col>&lt;ppj_lbll&gt;</th><th scope=col>&lt;ppj_lbll&gt;</th><th scope=col>&lt;ppj_lbll&gt;</th></tr>\n",
       "</thead>\n",
       "<tbody>\n",
       "\t<tr><th scope=row>noun_F</th><td>noun_F</td><td>1.22</td><td>$[0.35$, $2.08]$</td><td>2.83</td><td>.007</td></tr>\n",
       "\t<tr><th scope=row>noun_M</th><td>noun_M</td><td>1.35</td><td>$[0.49$, $2.22]$</td><td>3.14</td><td>.003</td></tr>\n",
       "\t<tr><th scope=row>verb_X</th><td>verb_X</td><td>1.38</td><td>$[0.51$, $2.24]$</td><td>3.20</td><td>.002</td></tr>\n",
       "</tbody>\n",
       "</table>\n"
      ],
      "text/latex": [
       "A apa\\_results\\_table: 3 × 5\n",
       "\\begin{tabular}{r|lllll}\n",
       "  & cond0 & estimate & ci & statistic & p.value\\\\\n",
       "  & <chr> & <ppj\\_lbll> & <ppj\\_lbll> & <ppj\\_lbll> & <ppj\\_lbll>\\\\\n",
       "\\hline\n",
       "\tnoun\\_F & noun\\_F & 1.22 & \\${[}0.35\\$, \\$2.08{]}\\$ & 2.83 & .007\\\\\n",
       "\tnoun\\_M & noun\\_M & 1.35 & \\${[}0.49\\$, \\$2.22{]}\\$ & 3.14 & .003\\\\\n",
       "\tverb\\_X & verb\\_X & 1.38 & \\${[}0.51\\$, \\$2.24{]}\\$ & 3.20 & .002\\\\\n",
       "\\end{tabular}\n"
      ],
      "text/markdown": [
       "\n",
       "A apa_results_table: 3 × 5\n",
       "\n",
       "| <!--/--> | cond0 &lt;chr&gt; | estimate &lt;ppj_lbll&gt; | ci &lt;ppj_lbll&gt; | statistic &lt;ppj_lbll&gt; | p.value &lt;ppj_lbll&gt; |\n",
       "|---|---|---|---|---|---|\n",
       "| noun_F | noun_F | 1.22 | $[0.35$, $2.08]$ | 2.83 | .007 |\n",
       "| noun_M | noun_M | 1.35 | $[0.49$, $2.22]$ | 3.14 | .003 |\n",
       "| verb_X | verb_X | 1.38 | $[0.51$, $2.24]$ | 3.20 | .002 |\n",
       "\n"
      ],
      "text/plain": [
       "       cond0  estimate ci               statistic p.value\n",
       "noun_F noun_F 1.22     $[0.35$, $2.08]$ 2.83      .007   \n",
       "noun_M noun_M 1.35     $[0.49$, $2.22]$ 3.14      .003   \n",
       "verb_X verb_X 1.38     $[0.51$, $2.24]$ 3.20      .002   "
      ]
     },
     "metadata": {},
     "output_type": "display_data"
    },
    {
     "data": {
      "text/markdown": [
       "### Paired comparisons for expected marginal means"
      ]
     },
     "metadata": {},
     "output_type": "display_data"
    },
    {
     "data": {
      "text/html": [
       "<table>\n",
       "<caption>A apa_results_table: 3 × 5</caption>\n",
       "<thead>\n",
       "\t<tr><th></th><th scope=col>contrast</th><th scope=col>estimate</th><th scope=col>ci</th><th scope=col>statistic</th><th scope=col>p.value</th></tr>\n",
       "\t<tr><th></th><th scope=col>&lt;ppj_lbll&gt;</th><th scope=col>&lt;ppj_lbll&gt;</th><th scope=col>&lt;ppj_lbll&gt;</th><th scope=col>&lt;ppj_lbll&gt;</th><th scope=col>&lt;ppj_lbll&gt;</th></tr>\n",
       "</thead>\n",
       "<tbody>\n",
       "\t<tr><th scope=row>noun_F_noun_M</th><td>noun_F - noun_M</td><td>-0.13</td><td>$[-0.56$, $0.29]$</td><td>-0.75</td><td>.736</td></tr>\n",
       "\t<tr><th scope=row>noun_F_verb_X</th><td>noun_F - verb_X</td><td>-0.16</td><td>$[-0.59$, $0.27]$</td><td>-0.89</td><td>.646</td></tr>\n",
       "\t<tr><th scope=row>noun_M_verb_X</th><td>noun_M - verb_X</td><td>-0.03</td><td>$[-0.45$, $0.40]$</td><td>-0.15</td><td>.988</td></tr>\n",
       "</tbody>\n",
       "</table>\n"
      ],
      "text/latex": [
       "A apa\\_results\\_table: 3 × 5\n",
       "\\begin{tabular}{r|lllll}\n",
       "  & contrast & estimate & ci & statistic & p.value\\\\\n",
       "  & <ppj\\_lbll> & <ppj\\_lbll> & <ppj\\_lbll> & <ppj\\_lbll> & <ppj\\_lbll>\\\\\n",
       "\\hline\n",
       "\tnoun\\_F\\_noun\\_M & noun\\_F - noun\\_M & -0.13 & \\${[}-0.56\\$, \\$0.29{]}\\$ & -0.75 & .736\\\\\n",
       "\tnoun\\_F\\_verb\\_X & noun\\_F - verb\\_X & -0.16 & \\${[}-0.59\\$, \\$0.27{]}\\$ & -0.89 & .646\\\\\n",
       "\tnoun\\_M\\_verb\\_X & noun\\_M - verb\\_X & -0.03 & \\${[}-0.45\\$, \\$0.40{]}\\$ & -0.15 & .988\\\\\n",
       "\\end{tabular}\n"
      ],
      "text/markdown": [
       "\n",
       "A apa_results_table: 3 × 5\n",
       "\n",
       "| <!--/--> | contrast &lt;ppj_lbll&gt; | estimate &lt;ppj_lbll&gt; | ci &lt;ppj_lbll&gt; | statistic &lt;ppj_lbll&gt; | p.value &lt;ppj_lbll&gt; |\n",
       "|---|---|---|---|---|---|\n",
       "| noun_F_noun_M | noun_F - noun_M | -0.13 | $[-0.56$, $0.29]$ | -0.75 | .736 |\n",
       "| noun_F_verb_X | noun_F - verb_X | -0.16 | $[-0.59$, $0.27]$ | -0.89 | .646 |\n",
       "| noun_M_verb_X | noun_M - verb_X | -0.03 | $[-0.45$, $0.40]$ | -0.15 | .988 |\n",
       "\n"
      ],
      "text/plain": [
       "              contrast        estimate ci                statistic p.value\n",
       "noun_F_noun_M noun_F - noun_M -0.13    $[-0.56$, $0.29]$ -0.75     .736   \n",
       "noun_F_verb_X noun_F - verb_X -0.16    $[-0.59$, $0.27]$ -0.89     .646   \n",
       "noun_M_verb_X noun_M - verb_X -0.03    $[-0.45$, $0.40]$ -0.15     .988   "
      ]
     },
     "metadata": {},
     "output_type": "display_data"
    }
   ],
   "source": [
    "IDX <- IDX+1; COND <- CONDS[IDX]\n",
    "data1 <- droplevels(subset(df1, eval(parse(text=COND)))); data1 <- data1[complete.cases(data1),]; done1 <- AOV4(data1,COND)\n",
    "display_markdown(str_c(\"# Condition \",IDX,\" of \",length(CONDS))); display_markdown(done1$info); display_markdown(\"### Table\"); done1$aov_APA$table; display_markdown(\"### Result\"); display_markdown(done1$aov_APA[[\"full_result\"]][[\"cond0\"]]); display_markdown(\"### Summary (all done1, incl. NANs)\"); done1$summary; display_markdown(\"### Expected marginal means\"); done1$emm_APA$table; display_markdown(\"### Paired comparisons for expected marginal means\"); done1$pairs_APA$table"
   ]
  },
  {
   "cell_type": "code",
   "execution_count": 216,
   "metadata": {},
   "outputs": [
    {
     "data": {
      "text/markdown": [
       "# Condition 49 of 72"
      ]
     },
     "metadata": {},
     "output_type": "display_data"
    },
    {
     "data": {
      "text/markdown": [
       "`tmin0==0.6 & chan0==\"LF\" & mode0==\"pos\"`"
      ]
     },
     "metadata": {},
     "output_type": "display_data"
    },
    {
     "data": {
      "text/markdown": [
       "### Table"
      ]
     },
     "metadata": {},
     "output_type": "display_data"
    },
    {
     "data": {
      "text/html": [
       "<table>\n",
       "<caption>A apa_results_table: 1 × 7</caption>\n",
       "<thead>\n",
       "\t<tr><th></th><th scope=col>Effect</th><th scope=col>F</th><th scope=col>df1</th><th scope=col>df2</th><th scope=col>MSE</th><th scope=col>p</th><th scope=col>ges</th></tr>\n",
       "\t<tr><th></th><th scope=col>&lt;ppj_lbll&gt;</th><th scope=col>&lt;ppj_lbll&gt;</th><th scope=col>&lt;ppj_lbll&gt;</th><th scope=col>&lt;ppj_lbll&gt;</th><th scope=col>&lt;ppj_lbll&gt;</th><th scope=col>&lt;ppj_lbll&gt;</th><th scope=col>&lt;ppj_lbll&gt;</th></tr>\n",
       "</thead>\n",
       "<tbody>\n",
       "\t<tr><th scope=row>1</th><td>Cond0</td><td>6.08</td><td>1.70</td><td>69.68</td><td>0.76</td><td>.006</td><td>.013</td></tr>\n",
       "</tbody>\n",
       "</table>\n"
      ],
      "text/latex": [
       "A apa\\_results\\_table: 1 × 7\n",
       "\\begin{tabular}{r|lllllll}\n",
       "  & Effect & F & df1 & df2 & MSE & p & ges\\\\\n",
       "  & <ppj\\_lbll> & <ppj\\_lbll> & <ppj\\_lbll> & <ppj\\_lbll> & <ppj\\_lbll> & <ppj\\_lbll> & <ppj\\_lbll>\\\\\n",
       "\\hline\n",
       "\t1 & Cond0 & 6.08 & 1.70 & 69.68 & 0.76 & .006 & .013\\\\\n",
       "\\end{tabular}\n"
      ],
      "text/markdown": [
       "\n",
       "A apa_results_table: 1 × 7\n",
       "\n",
       "| <!--/--> | Effect &lt;ppj_lbll&gt; | F &lt;ppj_lbll&gt; | df1 &lt;ppj_lbll&gt; | df2 &lt;ppj_lbll&gt; | MSE &lt;ppj_lbll&gt; | p &lt;ppj_lbll&gt; | ges &lt;ppj_lbll&gt; |\n",
       "|---|---|---|---|---|---|---|---|\n",
       "| 1 | Cond0 | 6.08 | 1.70 | 69.68 | 0.76 | .006 | .013 |\n",
       "\n"
      ],
      "text/plain": [
       "  Effect F    df1  df2   MSE  p    ges \n",
       "1 Cond0  6.08 1.70 69.68 0.76 .006 .013"
      ]
     },
     "metadata": {},
     "output_type": "display_data"
    },
    {
     "data": {
      "text/markdown": [
       "### Result"
      ]
     },
     "metadata": {},
     "output_type": "display_data"
    },
    {
     "data": {
      "text/markdown": [
       "$F(1.70, 69.68) = 6.08$, $\\mathit{MSE} = 0.76$, $p = .006$, $\\hat{\\eta}^2_G = .013$"
      ]
     },
     "metadata": {},
     "output_type": "display_data"
    },
    {
     "data": {
      "text/markdown": [
       "### Summary (all done1, incl. NANs)"
      ]
     },
     "metadata": {},
     "output_type": "display_data"
    },
    {
     "data": {
      "text/html": [
       "<table>\n",
       "<caption>A tibble: 3 × 5</caption>\n",
       "<thead>\n",
       "\t<tr><th scope=col>cond0</th><th scope=col>N</th><th scope=col>valX_M</th><th scope=col>valX_SD</th><th scope=col>valX_SE</th></tr>\n",
       "\t<tr><th scope=col>&lt;fct&gt;</th><th scope=col>&lt;int&gt;</th><th scope=col>&lt;dbl&gt;</th><th scope=col>&lt;dbl&gt;</th><th scope=col>&lt;dbl&gt;</th></tr>\n",
       "</thead>\n",
       "<tbody>\n",
       "\t<tr><td>noun_F</td><td>42</td><td> 0.07994334</td><td>2.487650</td><td>0.3838527</td></tr>\n",
       "\t<tr><td>noun_M</td><td>42</td><td>-0.30085929</td><td>2.100230</td><td>0.3240725</td></tr>\n",
       "\t<tr><td>verb_X</td><td>42</td><td>-0.52473504</td><td>1.996413</td><td>0.3080532</td></tr>\n",
       "</tbody>\n",
       "</table>\n"
      ],
      "text/latex": [
       "A tibble: 3 × 5\n",
       "\\begin{tabular}{lllll}\n",
       " cond0 & N & valX\\_M & valX\\_SD & valX\\_SE\\\\\n",
       " <fct> & <int> & <dbl> & <dbl> & <dbl>\\\\\n",
       "\\hline\n",
       "\t noun\\_F & 42 &  0.07994334 & 2.487650 & 0.3838527\\\\\n",
       "\t noun\\_M & 42 & -0.30085929 & 2.100230 & 0.3240725\\\\\n",
       "\t verb\\_X & 42 & -0.52473504 & 1.996413 & 0.3080532\\\\\n",
       "\\end{tabular}\n"
      ],
      "text/markdown": [
       "\n",
       "A tibble: 3 × 5\n",
       "\n",
       "| cond0 &lt;fct&gt; | N &lt;int&gt; | valX_M &lt;dbl&gt; | valX_SD &lt;dbl&gt; | valX_SE &lt;dbl&gt; |\n",
       "|---|---|---|---|---|\n",
       "| noun_F | 42 |  0.07994334 | 2.487650 | 0.3838527 |\n",
       "| noun_M | 42 | -0.30085929 | 2.100230 | 0.3240725 |\n",
       "| verb_X | 42 | -0.52473504 | 1.996413 | 0.3080532 |\n",
       "\n"
      ],
      "text/plain": [
       "  cond0  N  valX_M      valX_SD  valX_SE  \n",
       "1 noun_F 42  0.07994334 2.487650 0.3838527\n",
       "2 noun_M 42 -0.30085929 2.100230 0.3240725\n",
       "3 verb_X 42 -0.52473504 1.996413 0.3080532"
      ]
     },
     "metadata": {},
     "output_type": "display_data"
    },
    {
     "data": {
      "text/markdown": [
       "### Expected marginal means"
      ]
     },
     "metadata": {},
     "output_type": "display_data"
    },
    {
     "data": {
      "text/html": [
       "<table>\n",
       "<caption>A apa_results_table: 3 × 5</caption>\n",
       "<thead>\n",
       "\t<tr><th></th><th scope=col>cond0</th><th scope=col>estimate</th><th scope=col>ci</th><th scope=col>statistic</th><th scope=col>p.value</th></tr>\n",
       "\t<tr><th></th><th scope=col>&lt;chr&gt;</th><th scope=col>&lt;ppj_lbll&gt;</th><th scope=col>&lt;ppj_lbll&gt;</th><th scope=col>&lt;ppj_lbll&gt;</th><th scope=col>&lt;ppj_lbll&gt;</th></tr>\n",
       "</thead>\n",
       "<tbody>\n",
       "\t<tr><th scope=row>noun_F</th><td>noun_F</td><td>0.08 </td><td>$[-0.60$, $0.76]$</td><td>0.23 </td><td>.815</td></tr>\n",
       "\t<tr><th scope=row>noun_M</th><td>noun_M</td><td>-0.30</td><td>$[-0.98$, $0.38]$</td><td>-0.88</td><td>.381</td></tr>\n",
       "\t<tr><th scope=row>verb_X</th><td>verb_X</td><td>-0.52</td><td>$[-1.21$, $0.16]$</td><td>-1.54</td><td>.129</td></tr>\n",
       "</tbody>\n",
       "</table>\n"
      ],
      "text/latex": [
       "A apa\\_results\\_table: 3 × 5\n",
       "\\begin{tabular}{r|lllll}\n",
       "  & cond0 & estimate & ci & statistic & p.value\\\\\n",
       "  & <chr> & <ppj\\_lbll> & <ppj\\_lbll> & <ppj\\_lbll> & <ppj\\_lbll>\\\\\n",
       "\\hline\n",
       "\tnoun\\_F & noun\\_F & 0.08  & \\${[}-0.60\\$, \\$0.76{]}\\$ & 0.23  & .815\\\\\n",
       "\tnoun\\_M & noun\\_M & -0.30 & \\${[}-0.98\\$, \\$0.38{]}\\$ & -0.88 & .381\\\\\n",
       "\tverb\\_X & verb\\_X & -0.52 & \\${[}-1.21\\$, \\$0.16{]}\\$ & -1.54 & .129\\\\\n",
       "\\end{tabular}\n"
      ],
      "text/markdown": [
       "\n",
       "A apa_results_table: 3 × 5\n",
       "\n",
       "| <!--/--> | cond0 &lt;chr&gt; | estimate &lt;ppj_lbll&gt; | ci &lt;ppj_lbll&gt; | statistic &lt;ppj_lbll&gt; | p.value &lt;ppj_lbll&gt; |\n",
       "|---|---|---|---|---|---|\n",
       "| noun_F | noun_F | 0.08  | $[-0.60$, $0.76]$ | 0.23  | .815 |\n",
       "| noun_M | noun_M | -0.30 | $[-0.98$, $0.38]$ | -0.88 | .381 |\n",
       "| verb_X | verb_X | -0.52 | $[-1.21$, $0.16]$ | -1.54 | .129 |\n",
       "\n"
      ],
      "text/plain": [
       "       cond0  estimate ci                statistic p.value\n",
       "noun_F noun_F 0.08     $[-0.60$, $0.76]$ 0.23      .815   \n",
       "noun_M noun_M -0.30    $[-0.98$, $0.38]$ -0.88     .381   \n",
       "verb_X verb_X -0.52    $[-1.21$, $0.16]$ -1.54     .129   "
      ]
     },
     "metadata": {},
     "output_type": "display_data"
    },
    {
     "data": {
      "text/markdown": [
       "### Paired comparisons for expected marginal means"
      ]
     },
     "metadata": {},
     "output_type": "display_data"
    },
    {
     "data": {
      "text/html": [
       "<table>\n",
       "<caption>A apa_results_table: 3 × 5</caption>\n",
       "<thead>\n",
       "\t<tr><th></th><th scope=col>contrast</th><th scope=col>estimate</th><th scope=col>ci</th><th scope=col>statistic</th><th scope=col>p.value</th></tr>\n",
       "\t<tr><th></th><th scope=col>&lt;ppj_lbll&gt;</th><th scope=col>&lt;ppj_lbll&gt;</th><th scope=col>&lt;ppj_lbll&gt;</th><th scope=col>&lt;ppj_lbll&gt;</th><th scope=col>&lt;ppj_lbll&gt;</th></tr>\n",
       "</thead>\n",
       "<tbody>\n",
       "\t<tr><th scope=row>noun_F_noun_M</th><td>noun_F - noun_M</td><td>0.38</td><td>$[-0.04$, $0.80]$</td><td>2.17</td><td>.082</td></tr>\n",
       "\t<tr><th scope=row>noun_F_verb_X</th><td>noun_F - verb_X</td><td>0.60</td><td>$[0.19$, $1.02]$ </td><td>3.45</td><td>.003</td></tr>\n",
       "\t<tr><th scope=row>noun_M_verb_X</th><td>noun_M - verb_X</td><td>0.22</td><td>$[-0.19$, $0.64]$</td><td>1.28</td><td>.413</td></tr>\n",
       "</tbody>\n",
       "</table>\n"
      ],
      "text/latex": [
       "A apa\\_results\\_table: 3 × 5\n",
       "\\begin{tabular}{r|lllll}\n",
       "  & contrast & estimate & ci & statistic & p.value\\\\\n",
       "  & <ppj\\_lbll> & <ppj\\_lbll> & <ppj\\_lbll> & <ppj\\_lbll> & <ppj\\_lbll>\\\\\n",
       "\\hline\n",
       "\tnoun\\_F\\_noun\\_M & noun\\_F - noun\\_M & 0.38 & \\${[}-0.04\\$, \\$0.80{]}\\$ & 2.17 & .082\\\\\n",
       "\tnoun\\_F\\_verb\\_X & noun\\_F - verb\\_X & 0.60 & \\${[}0.19\\$, \\$1.02{]}\\$  & 3.45 & .003\\\\\n",
       "\tnoun\\_M\\_verb\\_X & noun\\_M - verb\\_X & 0.22 & \\${[}-0.19\\$, \\$0.64{]}\\$ & 1.28 & .413\\\\\n",
       "\\end{tabular}\n"
      ],
      "text/markdown": [
       "\n",
       "A apa_results_table: 3 × 5\n",
       "\n",
       "| <!--/--> | contrast &lt;ppj_lbll&gt; | estimate &lt;ppj_lbll&gt; | ci &lt;ppj_lbll&gt; | statistic &lt;ppj_lbll&gt; | p.value &lt;ppj_lbll&gt; |\n",
       "|---|---|---|---|---|---|\n",
       "| noun_F_noun_M | noun_F - noun_M | 0.38 | $[-0.04$, $0.80]$ | 2.17 | .082 |\n",
       "| noun_F_verb_X | noun_F - verb_X | 0.60 | $[0.19$, $1.02]$  | 3.45 | .003 |\n",
       "| noun_M_verb_X | noun_M - verb_X | 0.22 | $[-0.19$, $0.64]$ | 1.28 | .413 |\n",
       "\n"
      ],
      "text/plain": [
       "              contrast        estimate ci                statistic p.value\n",
       "noun_F_noun_M noun_F - noun_M 0.38     $[-0.04$, $0.80]$ 2.17      .082   \n",
       "noun_F_verb_X noun_F - verb_X 0.60     $[0.19$, $1.02]$  3.45      .003   \n",
       "noun_M_verb_X noun_M - verb_X 0.22     $[-0.19$, $0.64]$ 1.28      .413   "
      ]
     },
     "metadata": {},
     "output_type": "display_data"
    }
   ],
   "source": [
    "IDX <- IDX+1; COND <- CONDS[IDX]\n",
    "data1 <- droplevels(subset(df1, eval(parse(text=COND)))); data1 <- data1[complete.cases(data1),]; done1 <- AOV4(data1,COND)\n",
    "display_markdown(str_c(\"# Condition \",IDX,\" of \",length(CONDS))); display_markdown(done1$info); display_markdown(\"### Table\"); done1$aov_APA$table; display_markdown(\"### Result\"); display_markdown(done1$aov_APA[[\"full_result\"]][[\"cond0\"]]); display_markdown(\"### Summary (all done1, incl. NANs)\"); done1$summary; display_markdown(\"### Expected marginal means\"); done1$emm_APA$table; display_markdown(\"### Paired comparisons for expected marginal means\"); done1$pairs_APA$table"
   ]
  },
  {
   "cell_type": "code",
   "execution_count": 217,
   "metadata": {},
   "outputs": [
    {
     "name": "stderr",
     "output_type": "stream",
     "text": [
      "Warning message in summary.Anova.mlm(x$Anova):\n",
      "“HF eps > 1 treated as 1”\n"
     ]
    },
    {
     "data": {
      "text/markdown": [
       "# Condition 50 of 72"
      ]
     },
     "metadata": {},
     "output_type": "display_data"
    },
    {
     "data": {
      "text/markdown": [
       "`tmin0==0.6 & chan0==\"LF\" & mode0==\"neg\"`"
      ]
     },
     "metadata": {},
     "output_type": "display_data"
    },
    {
     "data": {
      "text/markdown": [
       "### Table"
      ]
     },
     "metadata": {},
     "output_type": "display_data"
    },
    {
     "data": {
      "text/html": [
       "<table>\n",
       "<caption>A apa_results_table: 1 × 7</caption>\n",
       "<thead>\n",
       "\t<tr><th></th><th scope=col>Effect</th><th scope=col>F</th><th scope=col>df1</th><th scope=col>df2</th><th scope=col>MSE</th><th scope=col>p</th><th scope=col>ges</th></tr>\n",
       "\t<tr><th></th><th scope=col>&lt;ppj_lbll&gt;</th><th scope=col>&lt;ppj_lbll&gt;</th><th scope=col>&lt;ppj_lbll&gt;</th><th scope=col>&lt;ppj_lbll&gt;</th><th scope=col>&lt;ppj_lbll&gt;</th><th scope=col>&lt;ppj_lbll&gt;</th><th scope=col>&lt;ppj_lbll&gt;</th></tr>\n",
       "</thead>\n",
       "<tbody>\n",
       "\t<tr><th scope=row>1</th><td>Cond0</td><td>0.53</td><td>1.99</td><td>81.56</td><td>0.45</td><td>.592</td><td>.001</td></tr>\n",
       "</tbody>\n",
       "</table>\n"
      ],
      "text/latex": [
       "A apa\\_results\\_table: 1 × 7\n",
       "\\begin{tabular}{r|lllllll}\n",
       "  & Effect & F & df1 & df2 & MSE & p & ges\\\\\n",
       "  & <ppj\\_lbll> & <ppj\\_lbll> & <ppj\\_lbll> & <ppj\\_lbll> & <ppj\\_lbll> & <ppj\\_lbll> & <ppj\\_lbll>\\\\\n",
       "\\hline\n",
       "\t1 & Cond0 & 0.53 & 1.99 & 81.56 & 0.45 & .592 & .001\\\\\n",
       "\\end{tabular}\n"
      ],
      "text/markdown": [
       "\n",
       "A apa_results_table: 1 × 7\n",
       "\n",
       "| <!--/--> | Effect &lt;ppj_lbll&gt; | F &lt;ppj_lbll&gt; | df1 &lt;ppj_lbll&gt; | df2 &lt;ppj_lbll&gt; | MSE &lt;ppj_lbll&gt; | p &lt;ppj_lbll&gt; | ges &lt;ppj_lbll&gt; |\n",
       "|---|---|---|---|---|---|---|---|\n",
       "| 1 | Cond0 | 0.53 | 1.99 | 81.56 | 0.45 | .592 | .001 |\n",
       "\n"
      ],
      "text/plain": [
       "  Effect F    df1  df2   MSE  p    ges \n",
       "1 Cond0  0.53 1.99 81.56 0.45 .592 .001"
      ]
     },
     "metadata": {},
     "output_type": "display_data"
    },
    {
     "data": {
      "text/markdown": [
       "### Result"
      ]
     },
     "metadata": {},
     "output_type": "display_data"
    },
    {
     "data": {
      "text/markdown": [
       "$F(1.99, 81.56) = 0.53$, $\\mathit{MSE} = 0.45$, $p = .592$, $\\hat{\\eta}^2_G = .001$"
      ]
     },
     "metadata": {},
     "output_type": "display_data"
    },
    {
     "data": {
      "text/markdown": [
       "### Summary (all done1, incl. NANs)"
      ]
     },
     "metadata": {},
     "output_type": "display_data"
    },
    {
     "data": {
      "text/html": [
       "<table>\n",
       "<caption>A tibble: 3 × 5</caption>\n",
       "<thead>\n",
       "\t<tr><th scope=col>cond0</th><th scope=col>N</th><th scope=col>valX_M</th><th scope=col>valX_SD</th><th scope=col>valX_SE</th></tr>\n",
       "\t<tr><th scope=col>&lt;fct&gt;</th><th scope=col>&lt;int&gt;</th><th scope=col>&lt;dbl&gt;</th><th scope=col>&lt;dbl&gt;</th><th scope=col>&lt;dbl&gt;</th></tr>\n",
       "</thead>\n",
       "<tbody>\n",
       "\t<tr><td>noun_F</td><td>42</td><td>-2.467235</td><td>1.766788</td><td>0.2726213</td></tr>\n",
       "\t<tr><td>noun_M</td><td>42</td><td>-2.584253</td><td>1.828919</td><td>0.2822083</td></tr>\n",
       "\t<tr><td>verb_X</td><td>42</td><td>-2.444123</td><td>1.585923</td><td>0.2447133</td></tr>\n",
       "</tbody>\n",
       "</table>\n"
      ],
      "text/latex": [
       "A tibble: 3 × 5\n",
       "\\begin{tabular}{lllll}\n",
       " cond0 & N & valX\\_M & valX\\_SD & valX\\_SE\\\\\n",
       " <fct> & <int> & <dbl> & <dbl> & <dbl>\\\\\n",
       "\\hline\n",
       "\t noun\\_F & 42 & -2.467235 & 1.766788 & 0.2726213\\\\\n",
       "\t noun\\_M & 42 & -2.584253 & 1.828919 & 0.2822083\\\\\n",
       "\t verb\\_X & 42 & -2.444123 & 1.585923 & 0.2447133\\\\\n",
       "\\end{tabular}\n"
      ],
      "text/markdown": [
       "\n",
       "A tibble: 3 × 5\n",
       "\n",
       "| cond0 &lt;fct&gt; | N &lt;int&gt; | valX_M &lt;dbl&gt; | valX_SD &lt;dbl&gt; | valX_SE &lt;dbl&gt; |\n",
       "|---|---|---|---|---|\n",
       "| noun_F | 42 | -2.467235 | 1.766788 | 0.2726213 |\n",
       "| noun_M | 42 | -2.584253 | 1.828919 | 0.2822083 |\n",
       "| verb_X | 42 | -2.444123 | 1.585923 | 0.2447133 |\n",
       "\n"
      ],
      "text/plain": [
       "  cond0  N  valX_M    valX_SD  valX_SE  \n",
       "1 noun_F 42 -2.467235 1.766788 0.2726213\n",
       "2 noun_M 42 -2.584253 1.828919 0.2822083\n",
       "3 verb_X 42 -2.444123 1.585923 0.2447133"
      ]
     },
     "metadata": {},
     "output_type": "display_data"
    },
    {
     "data": {
      "text/markdown": [
       "### Expected marginal means"
      ]
     },
     "metadata": {},
     "output_type": "display_data"
    },
    {
     "data": {
      "text/html": [
       "<table>\n",
       "<caption>A apa_results_table: 3 × 5</caption>\n",
       "<thead>\n",
       "\t<tr><th></th><th scope=col>cond0</th><th scope=col>estimate</th><th scope=col>ci</th><th scope=col>statistic</th><th scope=col>p.value</th></tr>\n",
       "\t<tr><th></th><th scope=col>&lt;chr&gt;</th><th scope=col>&lt;ppj_lbll&gt;</th><th scope=col>&lt;ppj_lbll&gt;</th><th scope=col>&lt;ppj_lbll&gt;</th><th scope=col>&lt;ppj_lbll&gt;</th></tr>\n",
       "</thead>\n",
       "<tbody>\n",
       "\t<tr><th scope=row>noun_F</th><td>noun_F</td><td>-2.47</td><td>$[-3.00$, $-1.93]$</td><td>-9.24</td><td>&lt; .001</td></tr>\n",
       "\t<tr><th scope=row>noun_M</th><td>noun_M</td><td>-2.58</td><td>$[-3.12$, $-2.05]$</td><td>-9.68</td><td>&lt; .001</td></tr>\n",
       "\t<tr><th scope=row>verb_X</th><td>verb_X</td><td>-2.44</td><td>$[-2.98$, $-1.91]$</td><td>-9.15</td><td>&lt; .001</td></tr>\n",
       "</tbody>\n",
       "</table>\n"
      ],
      "text/latex": [
       "A apa\\_results\\_table: 3 × 5\n",
       "\\begin{tabular}{r|lllll}\n",
       "  & cond0 & estimate & ci & statistic & p.value\\\\\n",
       "  & <chr> & <ppj\\_lbll> & <ppj\\_lbll> & <ppj\\_lbll> & <ppj\\_lbll>\\\\\n",
       "\\hline\n",
       "\tnoun\\_F & noun\\_F & -2.47 & \\${[}-3.00\\$, \\$-1.93{]}\\$ & -9.24 & < .001\\\\\n",
       "\tnoun\\_M & noun\\_M & -2.58 & \\${[}-3.12\\$, \\$-2.05{]}\\$ & -9.68 & < .001\\\\\n",
       "\tverb\\_X & verb\\_X & -2.44 & \\${[}-2.98\\$, \\$-1.91{]}\\$ & -9.15 & < .001\\\\\n",
       "\\end{tabular}\n"
      ],
      "text/markdown": [
       "\n",
       "A apa_results_table: 3 × 5\n",
       "\n",
       "| <!--/--> | cond0 &lt;chr&gt; | estimate &lt;ppj_lbll&gt; | ci &lt;ppj_lbll&gt; | statistic &lt;ppj_lbll&gt; | p.value &lt;ppj_lbll&gt; |\n",
       "|---|---|---|---|---|---|\n",
       "| noun_F | noun_F | -2.47 | $[-3.00$, $-1.93]$ | -9.24 | &lt; .001 |\n",
       "| noun_M | noun_M | -2.58 | $[-3.12$, $-2.05]$ | -9.68 | &lt; .001 |\n",
       "| verb_X | verb_X | -2.44 | $[-2.98$, $-1.91]$ | -9.15 | &lt; .001 |\n",
       "\n"
      ],
      "text/plain": [
       "       cond0  estimate ci                 statistic p.value\n",
       "noun_F noun_F -2.47    $[-3.00$, $-1.93]$ -9.24     < .001 \n",
       "noun_M noun_M -2.58    $[-3.12$, $-2.05]$ -9.68     < .001 \n",
       "verb_X verb_X -2.44    $[-2.98$, $-1.91]$ -9.15     < .001 "
      ]
     },
     "metadata": {},
     "output_type": "display_data"
    },
    {
     "data": {
      "text/markdown": [
       "### Paired comparisons for expected marginal means"
      ]
     },
     "metadata": {},
     "output_type": "display_data"
    },
    {
     "data": {
      "text/html": [
       "<table>\n",
       "<caption>A apa_results_table: 3 × 5</caption>\n",
       "<thead>\n",
       "\t<tr><th></th><th scope=col>contrast</th><th scope=col>estimate</th><th scope=col>ci</th><th scope=col>statistic</th><th scope=col>p.value</th></tr>\n",
       "\t<tr><th></th><th scope=col>&lt;ppj_lbll&gt;</th><th scope=col>&lt;ppj_lbll&gt;</th><th scope=col>&lt;ppj_lbll&gt;</th><th scope=col>&lt;ppj_lbll&gt;</th><th scope=col>&lt;ppj_lbll&gt;</th></tr>\n",
       "</thead>\n",
       "<tbody>\n",
       "\t<tr><th scope=row>noun_F_noun_M</th><td>noun_F - noun_M</td><td>0.12 </td><td>$[-0.23$, $0.47]$</td><td>0.80 </td><td>.705</td></tr>\n",
       "\t<tr><th scope=row>noun_F_verb_X</th><td>noun_F - verb_X</td><td>-0.02</td><td>$[-0.37$, $0.33]$</td><td>-0.16</td><td>.986</td></tr>\n",
       "\t<tr><th scope=row>noun_M_verb_X</th><td>noun_M - verb_X</td><td>-0.14</td><td>$[-0.49$, $0.21]$</td><td>-0.96</td><td>.607</td></tr>\n",
       "</tbody>\n",
       "</table>\n"
      ],
      "text/latex": [
       "A apa\\_results\\_table: 3 × 5\n",
       "\\begin{tabular}{r|lllll}\n",
       "  & contrast & estimate & ci & statistic & p.value\\\\\n",
       "  & <ppj\\_lbll> & <ppj\\_lbll> & <ppj\\_lbll> & <ppj\\_lbll> & <ppj\\_lbll>\\\\\n",
       "\\hline\n",
       "\tnoun\\_F\\_noun\\_M & noun\\_F - noun\\_M & 0.12  & \\${[}-0.23\\$, \\$0.47{]}\\$ & 0.80  & .705\\\\\n",
       "\tnoun\\_F\\_verb\\_X & noun\\_F - verb\\_X & -0.02 & \\${[}-0.37\\$, \\$0.33{]}\\$ & -0.16 & .986\\\\\n",
       "\tnoun\\_M\\_verb\\_X & noun\\_M - verb\\_X & -0.14 & \\${[}-0.49\\$, \\$0.21{]}\\$ & -0.96 & .607\\\\\n",
       "\\end{tabular}\n"
      ],
      "text/markdown": [
       "\n",
       "A apa_results_table: 3 × 5\n",
       "\n",
       "| <!--/--> | contrast &lt;ppj_lbll&gt; | estimate &lt;ppj_lbll&gt; | ci &lt;ppj_lbll&gt; | statistic &lt;ppj_lbll&gt; | p.value &lt;ppj_lbll&gt; |\n",
       "|---|---|---|---|---|---|\n",
       "| noun_F_noun_M | noun_F - noun_M | 0.12  | $[-0.23$, $0.47]$ | 0.80  | .705 |\n",
       "| noun_F_verb_X | noun_F - verb_X | -0.02 | $[-0.37$, $0.33]$ | -0.16 | .986 |\n",
       "| noun_M_verb_X | noun_M - verb_X | -0.14 | $[-0.49$, $0.21]$ | -0.96 | .607 |\n",
       "\n"
      ],
      "text/plain": [
       "              contrast        estimate ci                statistic p.value\n",
       "noun_F_noun_M noun_F - noun_M 0.12     $[-0.23$, $0.47]$ 0.80      .705   \n",
       "noun_F_verb_X noun_F - verb_X -0.02    $[-0.37$, $0.33]$ -0.16     .986   \n",
       "noun_M_verb_X noun_M - verb_X -0.14    $[-0.49$, $0.21]$ -0.96     .607   "
      ]
     },
     "metadata": {},
     "output_type": "display_data"
    }
   ],
   "source": [
    "IDX <- IDX+1; COND <- CONDS[IDX]\n",
    "data1 <- droplevels(subset(df1, eval(parse(text=COND)))); data1 <- data1[complete.cases(data1),]; done1 <- AOV4(data1,COND)\n",
    "display_markdown(str_c(\"# Condition \",IDX,\" of \",length(CONDS))); display_markdown(done1$info); display_markdown(\"### Table\"); done1$aov_APA$table; display_markdown(\"### Result\"); display_markdown(done1$aov_APA[[\"full_result\"]][[\"cond0\"]]); display_markdown(\"### Summary (all done1, incl. NANs)\"); done1$summary; display_markdown(\"### Expected marginal means\"); done1$emm_APA$table; display_markdown(\"### Paired comparisons for expected marginal means\"); done1$pairs_APA$table"
   ]
  },
  {
   "cell_type": "code",
   "execution_count": 218,
   "metadata": {},
   "outputs": [
    {
     "data": {
      "text/markdown": [
       "# Condition 51 of 72"
      ]
     },
     "metadata": {},
     "output_type": "display_data"
    },
    {
     "data": {
      "text/markdown": [
       "`tmin0==0.6 & chan0==\"RF\" & mode0==\"pos\"`"
      ]
     },
     "metadata": {},
     "output_type": "display_data"
    },
    {
     "data": {
      "text/markdown": [
       "### Table"
      ]
     },
     "metadata": {},
     "output_type": "display_data"
    },
    {
     "data": {
      "text/html": [
       "<table>\n",
       "<caption>A apa_results_table: 1 × 7</caption>\n",
       "<thead>\n",
       "\t<tr><th></th><th scope=col>Effect</th><th scope=col>F</th><th scope=col>df1</th><th scope=col>df2</th><th scope=col>MSE</th><th scope=col>p</th><th scope=col>ges</th></tr>\n",
       "\t<tr><th></th><th scope=col>&lt;ppj_lbll&gt;</th><th scope=col>&lt;ppj_lbll&gt;</th><th scope=col>&lt;ppj_lbll&gt;</th><th scope=col>&lt;ppj_lbll&gt;</th><th scope=col>&lt;ppj_lbll&gt;</th><th scope=col>&lt;ppj_lbll&gt;</th><th scope=col>&lt;ppj_lbll&gt;</th></tr>\n",
       "</thead>\n",
       "<tbody>\n",
       "\t<tr><th scope=row>1</th><td>Cond0</td><td>7.13</td><td>1.49</td><td>61.00</td><td>0.66</td><td>.004</td><td>.012</td></tr>\n",
       "</tbody>\n",
       "</table>\n"
      ],
      "text/latex": [
       "A apa\\_results\\_table: 1 × 7\n",
       "\\begin{tabular}{r|lllllll}\n",
       "  & Effect & F & df1 & df2 & MSE & p & ges\\\\\n",
       "  & <ppj\\_lbll> & <ppj\\_lbll> & <ppj\\_lbll> & <ppj\\_lbll> & <ppj\\_lbll> & <ppj\\_lbll> & <ppj\\_lbll>\\\\\n",
       "\\hline\n",
       "\t1 & Cond0 & 7.13 & 1.49 & 61.00 & 0.66 & .004 & .012\\\\\n",
       "\\end{tabular}\n"
      ],
      "text/markdown": [
       "\n",
       "A apa_results_table: 1 × 7\n",
       "\n",
       "| <!--/--> | Effect &lt;ppj_lbll&gt; | F &lt;ppj_lbll&gt; | df1 &lt;ppj_lbll&gt; | df2 &lt;ppj_lbll&gt; | MSE &lt;ppj_lbll&gt; | p &lt;ppj_lbll&gt; | ges &lt;ppj_lbll&gt; |\n",
       "|---|---|---|---|---|---|---|---|\n",
       "| 1 | Cond0 | 7.13 | 1.49 | 61.00 | 0.66 | .004 | .012 |\n",
       "\n"
      ],
      "text/plain": [
       "  Effect F    df1  df2   MSE  p    ges \n",
       "1 Cond0  7.13 1.49 61.00 0.66 .004 .012"
      ]
     },
     "metadata": {},
     "output_type": "display_data"
    },
    {
     "data": {
      "text/markdown": [
       "### Result"
      ]
     },
     "metadata": {},
     "output_type": "display_data"
    },
    {
     "data": {
      "text/markdown": [
       "$F(1.49, 61.00) = 7.13$, $\\mathit{MSE} = 0.66$, $p = .004$, $\\hat{\\eta}^2_G = .012$"
      ]
     },
     "metadata": {},
     "output_type": "display_data"
    },
    {
     "data": {
      "text/markdown": [
       "### Summary (all done1, incl. NANs)"
      ]
     },
     "metadata": {},
     "output_type": "display_data"
    },
    {
     "data": {
      "text/html": [
       "<table>\n",
       "<caption>A tibble: 3 × 5</caption>\n",
       "<thead>\n",
       "\t<tr><th scope=col>cond0</th><th scope=col>N</th><th scope=col>valX_M</th><th scope=col>valX_SD</th><th scope=col>valX_SE</th></tr>\n",
       "\t<tr><th scope=col>&lt;fct&gt;</th><th scope=col>&lt;int&gt;</th><th scope=col>&lt;dbl&gt;</th><th scope=col>&lt;dbl&gt;</th><th scope=col>&lt;dbl&gt;</th></tr>\n",
       "</thead>\n",
       "<tbody>\n",
       "\t<tr><td>noun_F</td><td>42</td><td>1.757297</td><td>2.494059</td><td>0.3848417</td></tr>\n",
       "\t<tr><td>noun_M</td><td>42</td><td>1.226202</td><td>1.951343</td><td>0.3010987</td></tr>\n",
       "\t<tr><td>verb_X</td><td>42</td><td>1.291607</td><td>2.141923</td><td>0.3305059</td></tr>\n",
       "</tbody>\n",
       "</table>\n"
      ],
      "text/latex": [
       "A tibble: 3 × 5\n",
       "\\begin{tabular}{lllll}\n",
       " cond0 & N & valX\\_M & valX\\_SD & valX\\_SE\\\\\n",
       " <fct> & <int> & <dbl> & <dbl> & <dbl>\\\\\n",
       "\\hline\n",
       "\t noun\\_F & 42 & 1.757297 & 2.494059 & 0.3848417\\\\\n",
       "\t noun\\_M & 42 & 1.226202 & 1.951343 & 0.3010987\\\\\n",
       "\t verb\\_X & 42 & 1.291607 & 2.141923 & 0.3305059\\\\\n",
       "\\end{tabular}\n"
      ],
      "text/markdown": [
       "\n",
       "A tibble: 3 × 5\n",
       "\n",
       "| cond0 &lt;fct&gt; | N &lt;int&gt; | valX_M &lt;dbl&gt; | valX_SD &lt;dbl&gt; | valX_SE &lt;dbl&gt; |\n",
       "|---|---|---|---|---|\n",
       "| noun_F | 42 | 1.757297 | 2.494059 | 0.3848417 |\n",
       "| noun_M | 42 | 1.226202 | 1.951343 | 0.3010987 |\n",
       "| verb_X | 42 | 1.291607 | 2.141923 | 0.3305059 |\n",
       "\n"
      ],
      "text/plain": [
       "  cond0  N  valX_M   valX_SD  valX_SE  \n",
       "1 noun_F 42 1.757297 2.494059 0.3848417\n",
       "2 noun_M 42 1.226202 1.951343 0.3010987\n",
       "3 verb_X 42 1.291607 2.141923 0.3305059"
      ]
     },
     "metadata": {},
     "output_type": "display_data"
    },
    {
     "data": {
      "text/markdown": [
       "### Expected marginal means"
      ]
     },
     "metadata": {},
     "output_type": "display_data"
    },
    {
     "data": {
      "text/html": [
       "<table>\n",
       "<caption>A apa_results_table: 3 × 5</caption>\n",
       "<thead>\n",
       "\t<tr><th></th><th scope=col>cond0</th><th scope=col>estimate</th><th scope=col>ci</th><th scope=col>statistic</th><th scope=col>p.value</th></tr>\n",
       "\t<tr><th></th><th scope=col>&lt;chr&gt;</th><th scope=col>&lt;ppj_lbll&gt;</th><th scope=col>&lt;ppj_lbll&gt;</th><th scope=col>&lt;ppj_lbll&gt;</th><th scope=col>&lt;ppj_lbll&gt;</th></tr>\n",
       "</thead>\n",
       "<tbody>\n",
       "\t<tr><th scope=row>noun_F</th><td>noun_F</td><td>1.76</td><td>$[1.07$, $2.44]$</td><td>5.16</td><td>&lt; .001</td></tr>\n",
       "\t<tr><th scope=row>noun_M</th><td>noun_M</td><td>1.23</td><td>$[0.54$, $1.91]$</td><td>3.60</td><td>.001  </td></tr>\n",
       "\t<tr><th scope=row>verb_X</th><td>verb_X</td><td>1.29</td><td>$[0.61$, $1.98]$</td><td>3.79</td><td>&lt; .001</td></tr>\n",
       "</tbody>\n",
       "</table>\n"
      ],
      "text/latex": [
       "A apa\\_results\\_table: 3 × 5\n",
       "\\begin{tabular}{r|lllll}\n",
       "  & cond0 & estimate & ci & statistic & p.value\\\\\n",
       "  & <chr> & <ppj\\_lbll> & <ppj\\_lbll> & <ppj\\_lbll> & <ppj\\_lbll>\\\\\n",
       "\\hline\n",
       "\tnoun\\_F & noun\\_F & 1.76 & \\${[}1.07\\$, \\$2.44{]}\\$ & 5.16 & < .001\\\\\n",
       "\tnoun\\_M & noun\\_M & 1.23 & \\${[}0.54\\$, \\$1.91{]}\\$ & 3.60 & .001  \\\\\n",
       "\tverb\\_X & verb\\_X & 1.29 & \\${[}0.61\\$, \\$1.98{]}\\$ & 3.79 & < .001\\\\\n",
       "\\end{tabular}\n"
      ],
      "text/markdown": [
       "\n",
       "A apa_results_table: 3 × 5\n",
       "\n",
       "| <!--/--> | cond0 &lt;chr&gt; | estimate &lt;ppj_lbll&gt; | ci &lt;ppj_lbll&gt; | statistic &lt;ppj_lbll&gt; | p.value &lt;ppj_lbll&gt; |\n",
       "|---|---|---|---|---|---|\n",
       "| noun_F | noun_F | 1.76 | $[1.07$, $2.44]$ | 5.16 | &lt; .001 |\n",
       "| noun_M | noun_M | 1.23 | $[0.54$, $1.91]$ | 3.60 | .001   |\n",
       "| verb_X | verb_X | 1.29 | $[0.61$, $1.98]$ | 3.79 | &lt; .001 |\n",
       "\n"
      ],
      "text/plain": [
       "       cond0  estimate ci               statistic p.value\n",
       "noun_F noun_F 1.76     $[1.07$, $2.44]$ 5.16      < .001 \n",
       "noun_M noun_M 1.23     $[0.54$, $1.91]$ 3.60      .001   \n",
       "verb_X verb_X 1.29     $[0.61$, $1.98]$ 3.79      < .001 "
      ]
     },
     "metadata": {},
     "output_type": "display_data"
    },
    {
     "data": {
      "text/markdown": [
       "### Paired comparisons for expected marginal means"
      ]
     },
     "metadata": {},
     "output_type": "display_data"
    },
    {
     "data": {
      "text/html": [
       "<table>\n",
       "<caption>A apa_results_table: 3 × 5</caption>\n",
       "<thead>\n",
       "\t<tr><th></th><th scope=col>contrast</th><th scope=col>estimate</th><th scope=col>ci</th><th scope=col>statistic</th><th scope=col>p.value</th></tr>\n",
       "\t<tr><th></th><th scope=col>&lt;ppj_lbll&gt;</th><th scope=col>&lt;ppj_lbll&gt;</th><th scope=col>&lt;ppj_lbll&gt;</th><th scope=col>&lt;ppj_lbll&gt;</th><th scope=col>&lt;ppj_lbll&gt;</th></tr>\n",
       "</thead>\n",
       "<tbody>\n",
       "\t<tr><th scope=row>noun_F_noun_M</th><td>noun_F - noun_M</td><td>0.53 </td><td>$[0.17$, $0.90]$ </td><td>3.46 </td><td>.002</td></tr>\n",
       "\t<tr><th scope=row>noun_F_verb_X</th><td>noun_F - verb_X</td><td>0.47 </td><td>$[0.10$, $0.83]$ </td><td>3.04 </td><td>.009</td></tr>\n",
       "\t<tr><th scope=row>noun_M_verb_X</th><td>noun_M - verb_X</td><td>-0.07</td><td>$[-0.43$, $0.30]$</td><td>-0.43</td><td>.905</td></tr>\n",
       "</tbody>\n",
       "</table>\n"
      ],
      "text/latex": [
       "A apa\\_results\\_table: 3 × 5\n",
       "\\begin{tabular}{r|lllll}\n",
       "  & contrast & estimate & ci & statistic & p.value\\\\\n",
       "  & <ppj\\_lbll> & <ppj\\_lbll> & <ppj\\_lbll> & <ppj\\_lbll> & <ppj\\_lbll>\\\\\n",
       "\\hline\n",
       "\tnoun\\_F\\_noun\\_M & noun\\_F - noun\\_M & 0.53  & \\${[}0.17\\$, \\$0.90{]}\\$  & 3.46  & .002\\\\\n",
       "\tnoun\\_F\\_verb\\_X & noun\\_F - verb\\_X & 0.47  & \\${[}0.10\\$, \\$0.83{]}\\$  & 3.04  & .009\\\\\n",
       "\tnoun\\_M\\_verb\\_X & noun\\_M - verb\\_X & -0.07 & \\${[}-0.43\\$, \\$0.30{]}\\$ & -0.43 & .905\\\\\n",
       "\\end{tabular}\n"
      ],
      "text/markdown": [
       "\n",
       "A apa_results_table: 3 × 5\n",
       "\n",
       "| <!--/--> | contrast &lt;ppj_lbll&gt; | estimate &lt;ppj_lbll&gt; | ci &lt;ppj_lbll&gt; | statistic &lt;ppj_lbll&gt; | p.value &lt;ppj_lbll&gt; |\n",
       "|---|---|---|---|---|---|\n",
       "| noun_F_noun_M | noun_F - noun_M | 0.53  | $[0.17$, $0.90]$  | 3.46  | .002 |\n",
       "| noun_F_verb_X | noun_F - verb_X | 0.47  | $[0.10$, $0.83]$  | 3.04  | .009 |\n",
       "| noun_M_verb_X | noun_M - verb_X | -0.07 | $[-0.43$, $0.30]$ | -0.43 | .905 |\n",
       "\n"
      ],
      "text/plain": [
       "              contrast        estimate ci                statistic p.value\n",
       "noun_F_noun_M noun_F - noun_M 0.53     $[0.17$, $0.90]$  3.46      .002   \n",
       "noun_F_verb_X noun_F - verb_X 0.47     $[0.10$, $0.83]$  3.04      .009   \n",
       "noun_M_verb_X noun_M - verb_X -0.07    $[-0.43$, $0.30]$ -0.43     .905   "
      ]
     },
     "metadata": {},
     "output_type": "display_data"
    }
   ],
   "source": [
    "IDX <- IDX+1; COND <- CONDS[IDX]\n",
    "data1 <- droplevels(subset(df1, eval(parse(text=COND)))); data1 <- data1[complete.cases(data1),]; done1 <- AOV4(data1,COND)\n",
    "display_markdown(str_c(\"# Condition \",IDX,\" of \",length(CONDS))); display_markdown(done1$info); display_markdown(\"### Table\"); done1$aov_APA$table; display_markdown(\"### Result\"); display_markdown(done1$aov_APA[[\"full_result\"]][[\"cond0\"]]); display_markdown(\"### Summary (all done1, incl. NANs)\"); done1$summary; display_markdown(\"### Expected marginal means\"); done1$emm_APA$table; display_markdown(\"### Paired comparisons for expected marginal means\"); done1$pairs_APA$table"
   ]
  },
  {
   "cell_type": "code",
   "execution_count": 219,
   "metadata": {},
   "outputs": [
    {
     "name": "stderr",
     "output_type": "stream",
     "text": [
      "Warning message in summary.Anova.mlm(x$Anova):\n",
      "“HF eps > 1 treated as 1”\n"
     ]
    },
    {
     "data": {
      "text/markdown": [
       "# Condition 52 of 72"
      ]
     },
     "metadata": {},
     "output_type": "display_data"
    },
    {
     "data": {
      "text/markdown": [
       "`tmin0==0.6 & chan0==\"RF\" & mode0==\"neg\"`"
      ]
     },
     "metadata": {},
     "output_type": "display_data"
    },
    {
     "data": {
      "text/markdown": [
       "### Table"
      ]
     },
     "metadata": {},
     "output_type": "display_data"
    },
    {
     "data": {
      "text/html": [
       "<table>\n",
       "<caption>A apa_results_table: 1 × 7</caption>\n",
       "<thead>\n",
       "\t<tr><th></th><th scope=col>Effect</th><th scope=col>F</th><th scope=col>df1</th><th scope=col>df2</th><th scope=col>MSE</th><th scope=col>p</th><th scope=col>ges</th></tr>\n",
       "\t<tr><th></th><th scope=col>&lt;ppj_lbll&gt;</th><th scope=col>&lt;ppj_lbll&gt;</th><th scope=col>&lt;ppj_lbll&gt;</th><th scope=col>&lt;ppj_lbll&gt;</th><th scope=col>&lt;ppj_lbll&gt;</th><th scope=col>&lt;ppj_lbll&gt;</th><th scope=col>&lt;ppj_lbll&gt;</th></tr>\n",
       "</thead>\n",
       "<tbody>\n",
       "\t<tr><th scope=row>1</th><td>Cond0</td><td>4.97</td><td>1.96</td><td>80.40</td><td>0.39</td><td>.010</td><td>.008</td></tr>\n",
       "</tbody>\n",
       "</table>\n"
      ],
      "text/latex": [
       "A apa\\_results\\_table: 1 × 7\n",
       "\\begin{tabular}{r|lllllll}\n",
       "  & Effect & F & df1 & df2 & MSE & p & ges\\\\\n",
       "  & <ppj\\_lbll> & <ppj\\_lbll> & <ppj\\_lbll> & <ppj\\_lbll> & <ppj\\_lbll> & <ppj\\_lbll> & <ppj\\_lbll>\\\\\n",
       "\\hline\n",
       "\t1 & Cond0 & 4.97 & 1.96 & 80.40 & 0.39 & .010 & .008\\\\\n",
       "\\end{tabular}\n"
      ],
      "text/markdown": [
       "\n",
       "A apa_results_table: 1 × 7\n",
       "\n",
       "| <!--/--> | Effect &lt;ppj_lbll&gt; | F &lt;ppj_lbll&gt; | df1 &lt;ppj_lbll&gt; | df2 &lt;ppj_lbll&gt; | MSE &lt;ppj_lbll&gt; | p &lt;ppj_lbll&gt; | ges &lt;ppj_lbll&gt; |\n",
       "|---|---|---|---|---|---|---|---|\n",
       "| 1 | Cond0 | 4.97 | 1.96 | 80.40 | 0.39 | .010 | .008 |\n",
       "\n"
      ],
      "text/plain": [
       "  Effect F    df1  df2   MSE  p    ges \n",
       "1 Cond0  4.97 1.96 80.40 0.39 .010 .008"
      ]
     },
     "metadata": {},
     "output_type": "display_data"
    },
    {
     "data": {
      "text/markdown": [
       "### Result"
      ]
     },
     "metadata": {},
     "output_type": "display_data"
    },
    {
     "data": {
      "text/markdown": [
       "$F(1.96, 80.40) = 4.97$, $\\mathit{MSE} = 0.39$, $p = .010$, $\\hat{\\eta}^2_G = .008$"
      ]
     },
     "metadata": {},
     "output_type": "display_data"
    },
    {
     "data": {
      "text/markdown": [
       "### Summary (all done1, incl. NANs)"
      ]
     },
     "metadata": {},
     "output_type": "display_data"
    },
    {
     "data": {
      "text/html": [
       "<table>\n",
       "<caption>A tibble: 3 × 5</caption>\n",
       "<thead>\n",
       "\t<tr><th scope=col>cond0</th><th scope=col>N</th><th scope=col>valX_M</th><th scope=col>valX_SD</th><th scope=col>valX_SE</th></tr>\n",
       "\t<tr><th scope=col>&lt;fct&gt;</th><th scope=col>&lt;int&gt;</th><th scope=col>&lt;dbl&gt;</th><th scope=col>&lt;dbl&gt;</th><th scope=col>&lt;dbl&gt;</th></tr>\n",
       "</thead>\n",
       "<tbody>\n",
       "\t<tr><td>noun_F</td><td>42</td><td>-1.537796</td><td>1.946265</td><td>0.3003152</td></tr>\n",
       "\t<tr><td>noun_M</td><td>42</td><td>-1.786438</td><td>1.917218</td><td>0.2958331</td></tr>\n",
       "\t<tr><td>verb_X</td><td>42</td><td>-1.363889</td><td>1.896626</td><td>0.2926557</td></tr>\n",
       "</tbody>\n",
       "</table>\n"
      ],
      "text/latex": [
       "A tibble: 3 × 5\n",
       "\\begin{tabular}{lllll}\n",
       " cond0 & N & valX\\_M & valX\\_SD & valX\\_SE\\\\\n",
       " <fct> & <int> & <dbl> & <dbl> & <dbl>\\\\\n",
       "\\hline\n",
       "\t noun\\_F & 42 & -1.537796 & 1.946265 & 0.3003152\\\\\n",
       "\t noun\\_M & 42 & -1.786438 & 1.917218 & 0.2958331\\\\\n",
       "\t verb\\_X & 42 & -1.363889 & 1.896626 & 0.2926557\\\\\n",
       "\\end{tabular}\n"
      ],
      "text/markdown": [
       "\n",
       "A tibble: 3 × 5\n",
       "\n",
       "| cond0 &lt;fct&gt; | N &lt;int&gt; | valX_M &lt;dbl&gt; | valX_SD &lt;dbl&gt; | valX_SE &lt;dbl&gt; |\n",
       "|---|---|---|---|---|\n",
       "| noun_F | 42 | -1.537796 | 1.946265 | 0.3003152 |\n",
       "| noun_M | 42 | -1.786438 | 1.917218 | 0.2958331 |\n",
       "| verb_X | 42 | -1.363889 | 1.896626 | 0.2926557 |\n",
       "\n"
      ],
      "text/plain": [
       "  cond0  N  valX_M    valX_SD  valX_SE  \n",
       "1 noun_F 42 -1.537796 1.946265 0.3003152\n",
       "2 noun_M 42 -1.786438 1.917218 0.2958331\n",
       "3 verb_X 42 -1.363889 1.896626 0.2926557"
      ]
     },
     "metadata": {},
     "output_type": "display_data"
    },
    {
     "data": {
      "text/markdown": [
       "### Expected marginal means"
      ]
     },
     "metadata": {},
     "output_type": "display_data"
    },
    {
     "data": {
      "text/html": [
       "<table>\n",
       "<caption>A apa_results_table: 3 × 5</caption>\n",
       "<thead>\n",
       "\t<tr><th></th><th scope=col>cond0</th><th scope=col>estimate</th><th scope=col>ci</th><th scope=col>statistic</th><th scope=col>p.value</th></tr>\n",
       "\t<tr><th></th><th scope=col>&lt;chr&gt;</th><th scope=col>&lt;ppj_lbll&gt;</th><th scope=col>&lt;ppj_lbll&gt;</th><th scope=col>&lt;ppj_lbll&gt;</th><th scope=col>&lt;ppj_lbll&gt;</th></tr>\n",
       "</thead>\n",
       "<tbody>\n",
       "\t<tr><th scope=row>noun_F</th><td>noun_F</td><td>-1.54</td><td>$[-2.13$, $-0.94]$</td><td>-5.19</td><td>&lt; .001</td></tr>\n",
       "\t<tr><th scope=row>noun_M</th><td>noun_M</td><td>-1.79</td><td>$[-2.38$, $-1.19]$</td><td>-6.03</td><td>&lt; .001</td></tr>\n",
       "\t<tr><th scope=row>verb_X</th><td>verb_X</td><td>-1.36</td><td>$[-1.96$, $-0.77]$</td><td>-4.60</td><td>&lt; .001</td></tr>\n",
       "</tbody>\n",
       "</table>\n"
      ],
      "text/latex": [
       "A apa\\_results\\_table: 3 × 5\n",
       "\\begin{tabular}{r|lllll}\n",
       "  & cond0 & estimate & ci & statistic & p.value\\\\\n",
       "  & <chr> & <ppj\\_lbll> & <ppj\\_lbll> & <ppj\\_lbll> & <ppj\\_lbll>\\\\\n",
       "\\hline\n",
       "\tnoun\\_F & noun\\_F & -1.54 & \\${[}-2.13\\$, \\$-0.94{]}\\$ & -5.19 & < .001\\\\\n",
       "\tnoun\\_M & noun\\_M & -1.79 & \\${[}-2.38\\$, \\$-1.19{]}\\$ & -6.03 & < .001\\\\\n",
       "\tverb\\_X & verb\\_X & -1.36 & \\${[}-1.96\\$, \\$-0.77{]}\\$ & -4.60 & < .001\\\\\n",
       "\\end{tabular}\n"
      ],
      "text/markdown": [
       "\n",
       "A apa_results_table: 3 × 5\n",
       "\n",
       "| <!--/--> | cond0 &lt;chr&gt; | estimate &lt;ppj_lbll&gt; | ci &lt;ppj_lbll&gt; | statistic &lt;ppj_lbll&gt; | p.value &lt;ppj_lbll&gt; |\n",
       "|---|---|---|---|---|---|\n",
       "| noun_F | noun_F | -1.54 | $[-2.13$, $-0.94]$ | -5.19 | &lt; .001 |\n",
       "| noun_M | noun_M | -1.79 | $[-2.38$, $-1.19]$ | -6.03 | &lt; .001 |\n",
       "| verb_X | verb_X | -1.36 | $[-1.96$, $-0.77]$ | -4.60 | &lt; .001 |\n",
       "\n"
      ],
      "text/plain": [
       "       cond0  estimate ci                 statistic p.value\n",
       "noun_F noun_F -1.54    $[-2.13$, $-0.94]$ -5.19     < .001 \n",
       "noun_M noun_M -1.79    $[-2.38$, $-1.19]$ -6.03     < .001 \n",
       "verb_X verb_X -1.36    $[-1.96$, $-0.77]$ -4.60     < .001 "
      ]
     },
     "metadata": {},
     "output_type": "display_data"
    },
    {
     "data": {
      "text/markdown": [
       "### Paired comparisons for expected marginal means"
      ]
     },
     "metadata": {},
     "output_type": "display_data"
    },
    {
     "data": {
      "text/html": [
       "<table>\n",
       "<caption>A apa_results_table: 3 × 5</caption>\n",
       "<thead>\n",
       "\t<tr><th></th><th scope=col>contrast</th><th scope=col>estimate</th><th scope=col>ci</th><th scope=col>statistic</th><th scope=col>p.value</th></tr>\n",
       "\t<tr><th></th><th scope=col>&lt;ppj_lbll&gt;</th><th scope=col>&lt;ppj_lbll&gt;</th><th scope=col>&lt;ppj_lbll&gt;</th><th scope=col>&lt;ppj_lbll&gt;</th><th scope=col>&lt;ppj_lbll&gt;</th></tr>\n",
       "</thead>\n",
       "<tbody>\n",
       "\t<tr><th scope=row>noun_F_noun_M</th><td>noun_F - noun_M</td><td>0.25 </td><td>$[-0.07$, $0.57]$ </td><td>1.85 </td><td>.161</td></tr>\n",
       "\t<tr><th scope=row>noun_F_verb_X</th><td>noun_F - verb_X</td><td>-0.17</td><td>$[-0.50$, $0.15]$ </td><td>-1.29</td><td>.404</td></tr>\n",
       "\t<tr><th scope=row>noun_M_verb_X</th><td>noun_M - verb_X</td><td>-0.42</td><td>$[-0.74$, $-0.10]$</td><td>-3.14</td><td>.007</td></tr>\n",
       "</tbody>\n",
       "</table>\n"
      ],
      "text/latex": [
       "A apa\\_results\\_table: 3 × 5\n",
       "\\begin{tabular}{r|lllll}\n",
       "  & contrast & estimate & ci & statistic & p.value\\\\\n",
       "  & <ppj\\_lbll> & <ppj\\_lbll> & <ppj\\_lbll> & <ppj\\_lbll> & <ppj\\_lbll>\\\\\n",
       "\\hline\n",
       "\tnoun\\_F\\_noun\\_M & noun\\_F - noun\\_M & 0.25  & \\${[}-0.07\\$, \\$0.57{]}\\$  & 1.85  & .161\\\\\n",
       "\tnoun\\_F\\_verb\\_X & noun\\_F - verb\\_X & -0.17 & \\${[}-0.50\\$, \\$0.15{]}\\$  & -1.29 & .404\\\\\n",
       "\tnoun\\_M\\_verb\\_X & noun\\_M - verb\\_X & -0.42 & \\${[}-0.74\\$, \\$-0.10{]}\\$ & -3.14 & .007\\\\\n",
       "\\end{tabular}\n"
      ],
      "text/markdown": [
       "\n",
       "A apa_results_table: 3 × 5\n",
       "\n",
       "| <!--/--> | contrast &lt;ppj_lbll&gt; | estimate &lt;ppj_lbll&gt; | ci &lt;ppj_lbll&gt; | statistic &lt;ppj_lbll&gt; | p.value &lt;ppj_lbll&gt; |\n",
       "|---|---|---|---|---|---|\n",
       "| noun_F_noun_M | noun_F - noun_M | 0.25  | $[-0.07$, $0.57]$  | 1.85  | .161 |\n",
       "| noun_F_verb_X | noun_F - verb_X | -0.17 | $[-0.50$, $0.15]$  | -1.29 | .404 |\n",
       "| noun_M_verb_X | noun_M - verb_X | -0.42 | $[-0.74$, $-0.10]$ | -3.14 | .007 |\n",
       "\n"
      ],
      "text/plain": [
       "              contrast        estimate ci                 statistic p.value\n",
       "noun_F_noun_M noun_F - noun_M 0.25     $[-0.07$, $0.57]$  1.85      .161   \n",
       "noun_F_verb_X noun_F - verb_X -0.17    $[-0.50$, $0.15]$  -1.29     .404   \n",
       "noun_M_verb_X noun_M - verb_X -0.42    $[-0.74$, $-0.10]$ -3.14     .007   "
      ]
     },
     "metadata": {},
     "output_type": "display_data"
    }
   ],
   "source": [
    "IDX <- IDX+1; COND <- CONDS[IDX]\n",
    "data1 <- droplevels(subset(df1, eval(parse(text=COND)))); data1 <- data1[complete.cases(data1),]; done1 <- AOV4(data1,COND)\n",
    "display_markdown(str_c(\"# Condition \",IDX,\" of \",length(CONDS))); display_markdown(done1$info); display_markdown(\"### Table\"); done1$aov_APA$table; display_markdown(\"### Result\"); display_markdown(done1$aov_APA[[\"full_result\"]][[\"cond0\"]]); display_markdown(\"### Summary (all done1, incl. NANs)\"); done1$summary; display_markdown(\"### Expected marginal means\"); done1$emm_APA$table; display_markdown(\"### Paired comparisons for expected marginal means\"); done1$pairs_APA$table"
   ]
  },
  {
   "cell_type": "code",
   "execution_count": 220,
   "metadata": {},
   "outputs": [
    {
     "data": {
      "text/markdown": [
       "# Condition 53 of 72"
      ]
     },
     "metadata": {},
     "output_type": "display_data"
    },
    {
     "data": {
      "text/markdown": [
       "`tmin0==0.6 & chan0==\"LC\" & mode0==\"pos\"`"
      ]
     },
     "metadata": {},
     "output_type": "display_data"
    },
    {
     "data": {
      "text/markdown": [
       "### Table"
      ]
     },
     "metadata": {},
     "output_type": "display_data"
    },
    {
     "data": {
      "text/html": [
       "<table>\n",
       "<caption>A apa_results_table: 1 × 7</caption>\n",
       "<thead>\n",
       "\t<tr><th></th><th scope=col>Effect</th><th scope=col>F</th><th scope=col>df1</th><th scope=col>df2</th><th scope=col>MSE</th><th scope=col>p</th><th scope=col>ges</th></tr>\n",
       "\t<tr><th></th><th scope=col>&lt;ppj_lbll&gt;</th><th scope=col>&lt;ppj_lbll&gt;</th><th scope=col>&lt;ppj_lbll&gt;</th><th scope=col>&lt;ppj_lbll&gt;</th><th scope=col>&lt;ppj_lbll&gt;</th><th scope=col>&lt;ppj_lbll&gt;</th><th scope=col>&lt;ppj_lbll&gt;</th></tr>\n",
       "</thead>\n",
       "<tbody>\n",
       "\t<tr><th scope=row>1</th><td>Cond0</td><td>1.77</td><td>1.88</td><td>77.12</td><td>0.20</td><td>.179</td><td>.003</td></tr>\n",
       "</tbody>\n",
       "</table>\n"
      ],
      "text/latex": [
       "A apa\\_results\\_table: 1 × 7\n",
       "\\begin{tabular}{r|lllllll}\n",
       "  & Effect & F & df1 & df2 & MSE & p & ges\\\\\n",
       "  & <ppj\\_lbll> & <ppj\\_lbll> & <ppj\\_lbll> & <ppj\\_lbll> & <ppj\\_lbll> & <ppj\\_lbll> & <ppj\\_lbll>\\\\\n",
       "\\hline\n",
       "\t1 & Cond0 & 1.77 & 1.88 & 77.12 & 0.20 & .179 & .003\\\\\n",
       "\\end{tabular}\n"
      ],
      "text/markdown": [
       "\n",
       "A apa_results_table: 1 × 7\n",
       "\n",
       "| <!--/--> | Effect &lt;ppj_lbll&gt; | F &lt;ppj_lbll&gt; | df1 &lt;ppj_lbll&gt; | df2 &lt;ppj_lbll&gt; | MSE &lt;ppj_lbll&gt; | p &lt;ppj_lbll&gt; | ges &lt;ppj_lbll&gt; |\n",
       "|---|---|---|---|---|---|---|---|\n",
       "| 1 | Cond0 | 1.77 | 1.88 | 77.12 | 0.20 | .179 | .003 |\n",
       "\n"
      ],
      "text/plain": [
       "  Effect F    df1  df2   MSE  p    ges \n",
       "1 Cond0  1.77 1.88 77.12 0.20 .179 .003"
      ]
     },
     "metadata": {},
     "output_type": "display_data"
    },
    {
     "data": {
      "text/markdown": [
       "### Result"
      ]
     },
     "metadata": {},
     "output_type": "display_data"
    },
    {
     "data": {
      "text/markdown": [
       "$F(1.88, 77.12) = 1.77$, $\\mathit{MSE} = 0.20$, $p = .179$, $\\hat{\\eta}^2_G = .003$"
      ]
     },
     "metadata": {},
     "output_type": "display_data"
    },
    {
     "data": {
      "text/markdown": [
       "### Summary (all done1, incl. NANs)"
      ]
     },
     "metadata": {},
     "output_type": "display_data"
    },
    {
     "data": {
      "text/html": [
       "<table>\n",
       "<caption>A tibble: 3 × 5</caption>\n",
       "<thead>\n",
       "\t<tr><th scope=col>cond0</th><th scope=col>N</th><th scope=col>valX_M</th><th scope=col>valX_SD</th><th scope=col>valX_SE</th></tr>\n",
       "\t<tr><th scope=col>&lt;fct&gt;</th><th scope=col>&lt;int&gt;</th><th scope=col>&lt;dbl&gt;</th><th scope=col>&lt;dbl&gt;</th><th scope=col>&lt;dbl&gt;</th></tr>\n",
       "</thead>\n",
       "<tbody>\n",
       "\t<tr><td>noun_F</td><td>42</td><td>1.1520551</td><td>1.298960</td><td>0.2004338</td></tr>\n",
       "\t<tr><td>noun_M</td><td>42</td><td>1.0560081</td><td>1.288715</td><td>0.1988531</td></tr>\n",
       "\t<tr><td>verb_X</td><td>42</td><td>0.9724347</td><td>1.340076</td><td>0.2067782</td></tr>\n",
       "</tbody>\n",
       "</table>\n"
      ],
      "text/latex": [
       "A tibble: 3 × 5\n",
       "\\begin{tabular}{lllll}\n",
       " cond0 & N & valX\\_M & valX\\_SD & valX\\_SE\\\\\n",
       " <fct> & <int> & <dbl> & <dbl> & <dbl>\\\\\n",
       "\\hline\n",
       "\t noun\\_F & 42 & 1.1520551 & 1.298960 & 0.2004338\\\\\n",
       "\t noun\\_M & 42 & 1.0560081 & 1.288715 & 0.1988531\\\\\n",
       "\t verb\\_X & 42 & 0.9724347 & 1.340076 & 0.2067782\\\\\n",
       "\\end{tabular}\n"
      ],
      "text/markdown": [
       "\n",
       "A tibble: 3 × 5\n",
       "\n",
       "| cond0 &lt;fct&gt; | N &lt;int&gt; | valX_M &lt;dbl&gt; | valX_SD &lt;dbl&gt; | valX_SE &lt;dbl&gt; |\n",
       "|---|---|---|---|---|\n",
       "| noun_F | 42 | 1.1520551 | 1.298960 | 0.2004338 |\n",
       "| noun_M | 42 | 1.0560081 | 1.288715 | 0.1988531 |\n",
       "| verb_X | 42 | 0.9724347 | 1.340076 | 0.2067782 |\n",
       "\n"
      ],
      "text/plain": [
       "  cond0  N  valX_M    valX_SD  valX_SE  \n",
       "1 noun_F 42 1.1520551 1.298960 0.2004338\n",
       "2 noun_M 42 1.0560081 1.288715 0.1988531\n",
       "3 verb_X 42 0.9724347 1.340076 0.2067782"
      ]
     },
     "metadata": {},
     "output_type": "display_data"
    },
    {
     "data": {
      "text/markdown": [
       "### Expected marginal means"
      ]
     },
     "metadata": {},
     "output_type": "display_data"
    },
    {
     "data": {
      "text/html": [
       "<table>\n",
       "<caption>A apa_results_table: 3 × 5</caption>\n",
       "<thead>\n",
       "\t<tr><th></th><th scope=col>cond0</th><th scope=col>estimate</th><th scope=col>ci</th><th scope=col>statistic</th><th scope=col>p.value</th></tr>\n",
       "\t<tr><th></th><th scope=col>&lt;chr&gt;</th><th scope=col>&lt;ppj_lbll&gt;</th><th scope=col>&lt;ppj_lbll&gt;</th><th scope=col>&lt;ppj_lbll&gt;</th><th scope=col>&lt;ppj_lbll&gt;</th></tr>\n",
       "</thead>\n",
       "<tbody>\n",
       "\t<tr><th scope=row>noun_F</th><td>noun_F</td><td>1.15</td><td>$[0.75$, $1.56]$</td><td>5.70</td><td>&lt; .001</td></tr>\n",
       "\t<tr><th scope=row>noun_M</th><td>noun_M</td><td>1.06</td><td>$[0.65$, $1.46]$</td><td>5.23</td><td>&lt; .001</td></tr>\n",
       "\t<tr><th scope=row>verb_X</th><td>verb_X</td><td>0.97</td><td>$[0.57$, $1.38]$</td><td>4.81</td><td>&lt; .001</td></tr>\n",
       "</tbody>\n",
       "</table>\n"
      ],
      "text/latex": [
       "A apa\\_results\\_table: 3 × 5\n",
       "\\begin{tabular}{r|lllll}\n",
       "  & cond0 & estimate & ci & statistic & p.value\\\\\n",
       "  & <chr> & <ppj\\_lbll> & <ppj\\_lbll> & <ppj\\_lbll> & <ppj\\_lbll>\\\\\n",
       "\\hline\n",
       "\tnoun\\_F & noun\\_F & 1.15 & \\${[}0.75\\$, \\$1.56{]}\\$ & 5.70 & < .001\\\\\n",
       "\tnoun\\_M & noun\\_M & 1.06 & \\${[}0.65\\$, \\$1.46{]}\\$ & 5.23 & < .001\\\\\n",
       "\tverb\\_X & verb\\_X & 0.97 & \\${[}0.57\\$, \\$1.38{]}\\$ & 4.81 & < .001\\\\\n",
       "\\end{tabular}\n"
      ],
      "text/markdown": [
       "\n",
       "A apa_results_table: 3 × 5\n",
       "\n",
       "| <!--/--> | cond0 &lt;chr&gt; | estimate &lt;ppj_lbll&gt; | ci &lt;ppj_lbll&gt; | statistic &lt;ppj_lbll&gt; | p.value &lt;ppj_lbll&gt; |\n",
       "|---|---|---|---|---|---|\n",
       "| noun_F | noun_F | 1.15 | $[0.75$, $1.56]$ | 5.70 | &lt; .001 |\n",
       "| noun_M | noun_M | 1.06 | $[0.65$, $1.46]$ | 5.23 | &lt; .001 |\n",
       "| verb_X | verb_X | 0.97 | $[0.57$, $1.38]$ | 4.81 | &lt; .001 |\n",
       "\n"
      ],
      "text/plain": [
       "       cond0  estimate ci               statistic p.value\n",
       "noun_F noun_F 1.15     $[0.75$, $1.56]$ 5.70      < .001 \n",
       "noun_M noun_M 1.06     $[0.65$, $1.46]$ 5.23      < .001 \n",
       "verb_X verb_X 0.97     $[0.57$, $1.38]$ 4.81      < .001 "
      ]
     },
     "metadata": {},
     "output_type": "display_data"
    },
    {
     "data": {
      "text/markdown": [
       "### Paired comparisons for expected marginal means"
      ]
     },
     "metadata": {},
     "output_type": "display_data"
    },
    {
     "data": {
      "text/html": [
       "<table>\n",
       "<caption>A apa_results_table: 3 × 5</caption>\n",
       "<thead>\n",
       "\t<tr><th></th><th scope=col>contrast</th><th scope=col>estimate</th><th scope=col>ci</th><th scope=col>statistic</th><th scope=col>p.value</th></tr>\n",
       "\t<tr><th></th><th scope=col>&lt;ppj_lbll&gt;</th><th scope=col>&lt;ppj_lbll&gt;</th><th scope=col>&lt;ppj_lbll&gt;</th><th scope=col>&lt;ppj_lbll&gt;</th><th scope=col>&lt;ppj_lbll&gt;</th></tr>\n",
       "</thead>\n",
       "<tbody>\n",
       "\t<tr><th scope=row>noun_F_noun_M</th><td>noun_F - noun_M</td><td>0.10</td><td>$[-0.13$, $0.32]$</td><td>1.00</td><td>.576</td></tr>\n",
       "\t<tr><th scope=row>noun_F_verb_X</th><td>noun_F - verb_X</td><td>0.18</td><td>$[-0.05$, $0.41]$</td><td>1.88</td><td>.151</td></tr>\n",
       "\t<tr><th scope=row>noun_M_verb_X</th><td>noun_M - verb_X</td><td>0.08</td><td>$[-0.14$, $0.31]$</td><td>0.87</td><td>.658</td></tr>\n",
       "</tbody>\n",
       "</table>\n"
      ],
      "text/latex": [
       "A apa\\_results\\_table: 3 × 5\n",
       "\\begin{tabular}{r|lllll}\n",
       "  & contrast & estimate & ci & statistic & p.value\\\\\n",
       "  & <ppj\\_lbll> & <ppj\\_lbll> & <ppj\\_lbll> & <ppj\\_lbll> & <ppj\\_lbll>\\\\\n",
       "\\hline\n",
       "\tnoun\\_F\\_noun\\_M & noun\\_F - noun\\_M & 0.10 & \\${[}-0.13\\$, \\$0.32{]}\\$ & 1.00 & .576\\\\\n",
       "\tnoun\\_F\\_verb\\_X & noun\\_F - verb\\_X & 0.18 & \\${[}-0.05\\$, \\$0.41{]}\\$ & 1.88 & .151\\\\\n",
       "\tnoun\\_M\\_verb\\_X & noun\\_M - verb\\_X & 0.08 & \\${[}-0.14\\$, \\$0.31{]}\\$ & 0.87 & .658\\\\\n",
       "\\end{tabular}\n"
      ],
      "text/markdown": [
       "\n",
       "A apa_results_table: 3 × 5\n",
       "\n",
       "| <!--/--> | contrast &lt;ppj_lbll&gt; | estimate &lt;ppj_lbll&gt; | ci &lt;ppj_lbll&gt; | statistic &lt;ppj_lbll&gt; | p.value &lt;ppj_lbll&gt; |\n",
       "|---|---|---|---|---|---|\n",
       "| noun_F_noun_M | noun_F - noun_M | 0.10 | $[-0.13$, $0.32]$ | 1.00 | .576 |\n",
       "| noun_F_verb_X | noun_F - verb_X | 0.18 | $[-0.05$, $0.41]$ | 1.88 | .151 |\n",
       "| noun_M_verb_X | noun_M - verb_X | 0.08 | $[-0.14$, $0.31]$ | 0.87 | .658 |\n",
       "\n"
      ],
      "text/plain": [
       "              contrast        estimate ci                statistic p.value\n",
       "noun_F_noun_M noun_F - noun_M 0.10     $[-0.13$, $0.32]$ 1.00      .576   \n",
       "noun_F_verb_X noun_F - verb_X 0.18     $[-0.05$, $0.41]$ 1.88      .151   \n",
       "noun_M_verb_X noun_M - verb_X 0.08     $[-0.14$, $0.31]$ 0.87      .658   "
      ]
     },
     "metadata": {},
     "output_type": "display_data"
    }
   ],
   "source": [
    "IDX <- IDX+1; COND <- CONDS[IDX]\n",
    "data1 <- droplevels(subset(df1, eval(parse(text=COND)))); data1 <- data1[complete.cases(data1),]; done1 <- AOV4(data1,COND)\n",
    "display_markdown(str_c(\"# Condition \",IDX,\" of \",length(CONDS))); display_markdown(done1$info); display_markdown(\"### Table\"); done1$aov_APA$table; display_markdown(\"### Result\"); display_markdown(done1$aov_APA[[\"full_result\"]][[\"cond0\"]]); display_markdown(\"### Summary (all done1, incl. NANs)\"); done1$summary; display_markdown(\"### Expected marginal means\"); done1$emm_APA$table; display_markdown(\"### Paired comparisons for expected marginal means\"); done1$pairs_APA$table"
   ]
  },
  {
   "cell_type": "code",
   "execution_count": 221,
   "metadata": {},
   "outputs": [
    {
     "data": {
      "text/markdown": [
       "# Condition 54 of 72"
      ]
     },
     "metadata": {},
     "output_type": "display_data"
    },
    {
     "data": {
      "text/markdown": [
       "`tmin0==0.6 & chan0==\"LC\" & mode0==\"neg\"`"
      ]
     },
     "metadata": {},
     "output_type": "display_data"
    },
    {
     "data": {
      "text/markdown": [
       "### Table"
      ]
     },
     "metadata": {},
     "output_type": "display_data"
    },
    {
     "data": {
      "text/html": [
       "<table>\n",
       "<caption>A apa_results_table: 1 × 7</caption>\n",
       "<thead>\n",
       "\t<tr><th></th><th scope=col>Effect</th><th scope=col>F</th><th scope=col>df1</th><th scope=col>df2</th><th scope=col>MSE</th><th scope=col>p</th><th scope=col>ges</th></tr>\n",
       "\t<tr><th></th><th scope=col>&lt;ppj_lbll&gt;</th><th scope=col>&lt;ppj_lbll&gt;</th><th scope=col>&lt;ppj_lbll&gt;</th><th scope=col>&lt;ppj_lbll&gt;</th><th scope=col>&lt;ppj_lbll&gt;</th><th scope=col>&lt;ppj_lbll&gt;</th><th scope=col>&lt;ppj_lbll&gt;</th></tr>\n",
       "</thead>\n",
       "<tbody>\n",
       "\t<tr><th scope=row>1</th><td>Cond0</td><td>3.13</td><td>1.78</td><td>72.88</td><td>0.32</td><td>.055</td><td>.007</td></tr>\n",
       "</tbody>\n",
       "</table>\n"
      ],
      "text/latex": [
       "A apa\\_results\\_table: 1 × 7\n",
       "\\begin{tabular}{r|lllllll}\n",
       "  & Effect & F & df1 & df2 & MSE & p & ges\\\\\n",
       "  & <ppj\\_lbll> & <ppj\\_lbll> & <ppj\\_lbll> & <ppj\\_lbll> & <ppj\\_lbll> & <ppj\\_lbll> & <ppj\\_lbll>\\\\\n",
       "\\hline\n",
       "\t1 & Cond0 & 3.13 & 1.78 & 72.88 & 0.32 & .055 & .007\\\\\n",
       "\\end{tabular}\n"
      ],
      "text/markdown": [
       "\n",
       "A apa_results_table: 1 × 7\n",
       "\n",
       "| <!--/--> | Effect &lt;ppj_lbll&gt; | F &lt;ppj_lbll&gt; | df1 &lt;ppj_lbll&gt; | df2 &lt;ppj_lbll&gt; | MSE &lt;ppj_lbll&gt; | p &lt;ppj_lbll&gt; | ges &lt;ppj_lbll&gt; |\n",
       "|---|---|---|---|---|---|---|---|\n",
       "| 1 | Cond0 | 3.13 | 1.78 | 72.88 | 0.32 | .055 | .007 |\n",
       "\n"
      ],
      "text/plain": [
       "  Effect F    df1  df2   MSE  p    ges \n",
       "1 Cond0  3.13 1.78 72.88 0.32 .055 .007"
      ]
     },
     "metadata": {},
     "output_type": "display_data"
    },
    {
     "data": {
      "text/markdown": [
       "### Result"
      ]
     },
     "metadata": {},
     "output_type": "display_data"
    },
    {
     "data": {
      "text/markdown": [
       "$F(1.78, 72.88) = 3.13$, $\\mathit{MSE} = 0.32$, $p = .055$, $\\hat{\\eta}^2_G = .007$"
      ]
     },
     "metadata": {},
     "output_type": "display_data"
    },
    {
     "data": {
      "text/markdown": [
       "### Summary (all done1, incl. NANs)"
      ]
     },
     "metadata": {},
     "output_type": "display_data"
    },
    {
     "data": {
      "text/html": [
       "<table>\n",
       "<caption>A tibble: 3 × 5</caption>\n",
       "<thead>\n",
       "\t<tr><th scope=col>cond0</th><th scope=col>N</th><th scope=col>valX_M</th><th scope=col>valX_SD</th><th scope=col>valX_SE</th></tr>\n",
       "\t<tr><th scope=col>&lt;fct&gt;</th><th scope=col>&lt;int&gt;</th><th scope=col>&lt;dbl&gt;</th><th scope=col>&lt;dbl&gt;</th><th scope=col>&lt;dbl&gt;</th></tr>\n",
       "</thead>\n",
       "<tbody>\n",
       "\t<tr><td>noun_F</td><td>42</td><td>-0.7694636</td><td>1.521504</td><td>0.2347731</td></tr>\n",
       "\t<tr><td>noun_M</td><td>42</td><td>-0.7500802</td><td>1.357428</td><td>0.2094558</td></tr>\n",
       "\t<tr><td>verb_X</td><td>42</td><td>-0.5079675</td><td>1.529783</td><td>0.2360506</td></tr>\n",
       "</tbody>\n",
       "</table>\n"
      ],
      "text/latex": [
       "A tibble: 3 × 5\n",
       "\\begin{tabular}{lllll}\n",
       " cond0 & N & valX\\_M & valX\\_SD & valX\\_SE\\\\\n",
       " <fct> & <int> & <dbl> & <dbl> & <dbl>\\\\\n",
       "\\hline\n",
       "\t noun\\_F & 42 & -0.7694636 & 1.521504 & 0.2347731\\\\\n",
       "\t noun\\_M & 42 & -0.7500802 & 1.357428 & 0.2094558\\\\\n",
       "\t verb\\_X & 42 & -0.5079675 & 1.529783 & 0.2360506\\\\\n",
       "\\end{tabular}\n"
      ],
      "text/markdown": [
       "\n",
       "A tibble: 3 × 5\n",
       "\n",
       "| cond0 &lt;fct&gt; | N &lt;int&gt; | valX_M &lt;dbl&gt; | valX_SD &lt;dbl&gt; | valX_SE &lt;dbl&gt; |\n",
       "|---|---|---|---|---|\n",
       "| noun_F | 42 | -0.7694636 | 1.521504 | 0.2347731 |\n",
       "| noun_M | 42 | -0.7500802 | 1.357428 | 0.2094558 |\n",
       "| verb_X | 42 | -0.5079675 | 1.529783 | 0.2360506 |\n",
       "\n"
      ],
      "text/plain": [
       "  cond0  N  valX_M     valX_SD  valX_SE  \n",
       "1 noun_F 42 -0.7694636 1.521504 0.2347731\n",
       "2 noun_M 42 -0.7500802 1.357428 0.2094558\n",
       "3 verb_X 42 -0.5079675 1.529783 0.2360506"
      ]
     },
     "metadata": {},
     "output_type": "display_data"
    },
    {
     "data": {
      "text/markdown": [
       "### Expected marginal means"
      ]
     },
     "metadata": {},
     "output_type": "display_data"
    },
    {
     "data": {
      "text/html": [
       "<table>\n",
       "<caption>A apa_results_table: 3 × 5</caption>\n",
       "<thead>\n",
       "\t<tr><th></th><th scope=col>cond0</th><th scope=col>estimate</th><th scope=col>ci</th><th scope=col>statistic</th><th scope=col>p.value</th></tr>\n",
       "\t<tr><th></th><th scope=col>&lt;chr&gt;</th><th scope=col>&lt;ppj_lbll&gt;</th><th scope=col>&lt;ppj_lbll&gt;</th><th scope=col>&lt;ppj_lbll&gt;</th><th scope=col>&lt;ppj_lbll&gt;</th></tr>\n",
       "</thead>\n",
       "<tbody>\n",
       "\t<tr><th scope=row>noun_F</th><td>noun_F</td><td>-0.77</td><td>$[-1.23$, $-0.31]$</td><td>-3.39</td><td>.001</td></tr>\n",
       "\t<tr><th scope=row>noun_M</th><td>noun_M</td><td>-0.75</td><td>$[-1.21$, $-0.29]$</td><td>-3.30</td><td>.002</td></tr>\n",
       "\t<tr><th scope=row>verb_X</th><td>verb_X</td><td>-0.51</td><td>$[-0.96$, $-0.05]$</td><td>-2.24</td><td>.030</td></tr>\n",
       "</tbody>\n",
       "</table>\n"
      ],
      "text/latex": [
       "A apa\\_results\\_table: 3 × 5\n",
       "\\begin{tabular}{r|lllll}\n",
       "  & cond0 & estimate & ci & statistic & p.value\\\\\n",
       "  & <chr> & <ppj\\_lbll> & <ppj\\_lbll> & <ppj\\_lbll> & <ppj\\_lbll>\\\\\n",
       "\\hline\n",
       "\tnoun\\_F & noun\\_F & -0.77 & \\${[}-1.23\\$, \\$-0.31{]}\\$ & -3.39 & .001\\\\\n",
       "\tnoun\\_M & noun\\_M & -0.75 & \\${[}-1.21\\$, \\$-0.29{]}\\$ & -3.30 & .002\\\\\n",
       "\tverb\\_X & verb\\_X & -0.51 & \\${[}-0.96\\$, \\$-0.05{]}\\$ & -2.24 & .030\\\\\n",
       "\\end{tabular}\n"
      ],
      "text/markdown": [
       "\n",
       "A apa_results_table: 3 × 5\n",
       "\n",
       "| <!--/--> | cond0 &lt;chr&gt; | estimate &lt;ppj_lbll&gt; | ci &lt;ppj_lbll&gt; | statistic &lt;ppj_lbll&gt; | p.value &lt;ppj_lbll&gt; |\n",
       "|---|---|---|---|---|---|\n",
       "| noun_F | noun_F | -0.77 | $[-1.23$, $-0.31]$ | -3.39 | .001 |\n",
       "| noun_M | noun_M | -0.75 | $[-1.21$, $-0.29]$ | -3.30 | .002 |\n",
       "| verb_X | verb_X | -0.51 | $[-0.96$, $-0.05]$ | -2.24 | .030 |\n",
       "\n"
      ],
      "text/plain": [
       "       cond0  estimate ci                 statistic p.value\n",
       "noun_F noun_F -0.77    $[-1.23$, $-0.31]$ -3.39     .001   \n",
       "noun_M noun_M -0.75    $[-1.21$, $-0.29]$ -3.30     .002   \n",
       "verb_X verb_X -0.51    $[-0.96$, $-0.05]$ -2.24     .030   "
      ]
     },
     "metadata": {},
     "output_type": "display_data"
    },
    {
     "data": {
      "text/markdown": [
       "### Paired comparisons for expected marginal means"
      ]
     },
     "metadata": {},
     "output_type": "display_data"
    },
    {
     "data": {
      "text/html": [
       "<table>\n",
       "<caption>A apa_results_table: 3 × 5</caption>\n",
       "<thead>\n",
       "\t<tr><th></th><th scope=col>contrast</th><th scope=col>estimate</th><th scope=col>ci</th><th scope=col>statistic</th><th scope=col>p.value</th></tr>\n",
       "\t<tr><th></th><th scope=col>&lt;ppj_lbll&gt;</th><th scope=col>&lt;ppj_lbll&gt;</th><th scope=col>&lt;ppj_lbll&gt;</th><th scope=col>&lt;ppj_lbll&gt;</th><th scope=col>&lt;ppj_lbll&gt;</th></tr>\n",
       "</thead>\n",
       "<tbody>\n",
       "\t<tr><th scope=row>noun_F_noun_M</th><td>noun_F - noun_M</td><td>-0.02</td><td>$[-0.30$, $0.26]$</td><td>-0.17</td><td>.985</td></tr>\n",
       "\t<tr><th scope=row>noun_F_verb_X</th><td>noun_F - verb_X</td><td>-0.26</td><td>$[-0.54$, $0.02]$</td><td>-2.25</td><td>.070</td></tr>\n",
       "\t<tr><th scope=row>noun_M_verb_X</th><td>noun_M - verb_X</td><td>-0.24</td><td>$[-0.52$, $0.04]$</td><td>-2.08</td><td>.100</td></tr>\n",
       "</tbody>\n",
       "</table>\n"
      ],
      "text/latex": [
       "A apa\\_results\\_table: 3 × 5\n",
       "\\begin{tabular}{r|lllll}\n",
       "  & contrast & estimate & ci & statistic & p.value\\\\\n",
       "  & <ppj\\_lbll> & <ppj\\_lbll> & <ppj\\_lbll> & <ppj\\_lbll> & <ppj\\_lbll>\\\\\n",
       "\\hline\n",
       "\tnoun\\_F\\_noun\\_M & noun\\_F - noun\\_M & -0.02 & \\${[}-0.30\\$, \\$0.26{]}\\$ & -0.17 & .985\\\\\n",
       "\tnoun\\_F\\_verb\\_X & noun\\_F - verb\\_X & -0.26 & \\${[}-0.54\\$, \\$0.02{]}\\$ & -2.25 & .070\\\\\n",
       "\tnoun\\_M\\_verb\\_X & noun\\_M - verb\\_X & -0.24 & \\${[}-0.52\\$, \\$0.04{]}\\$ & -2.08 & .100\\\\\n",
       "\\end{tabular}\n"
      ],
      "text/markdown": [
       "\n",
       "A apa_results_table: 3 × 5\n",
       "\n",
       "| <!--/--> | contrast &lt;ppj_lbll&gt; | estimate &lt;ppj_lbll&gt; | ci &lt;ppj_lbll&gt; | statistic &lt;ppj_lbll&gt; | p.value &lt;ppj_lbll&gt; |\n",
       "|---|---|---|---|---|---|\n",
       "| noun_F_noun_M | noun_F - noun_M | -0.02 | $[-0.30$, $0.26]$ | -0.17 | .985 |\n",
       "| noun_F_verb_X | noun_F - verb_X | -0.26 | $[-0.54$, $0.02]$ | -2.25 | .070 |\n",
       "| noun_M_verb_X | noun_M - verb_X | -0.24 | $[-0.52$, $0.04]$ | -2.08 | .100 |\n",
       "\n"
      ],
      "text/plain": [
       "              contrast        estimate ci                statistic p.value\n",
       "noun_F_noun_M noun_F - noun_M -0.02    $[-0.30$, $0.26]$ -0.17     .985   \n",
       "noun_F_verb_X noun_F - verb_X -0.26    $[-0.54$, $0.02]$ -2.25     .070   \n",
       "noun_M_verb_X noun_M - verb_X -0.24    $[-0.52$, $0.04]$ -2.08     .100   "
      ]
     },
     "metadata": {},
     "output_type": "display_data"
    }
   ],
   "source": [
    "IDX <- IDX+1; COND <- CONDS[IDX]\n",
    "data1 <- droplevels(subset(df1, eval(parse(text=COND)))); data1 <- data1[complete.cases(data1),]; done1 <- AOV4(data1,COND)\n",
    "display_markdown(str_c(\"# Condition \",IDX,\" of \",length(CONDS))); display_markdown(done1$info); display_markdown(\"### Table\"); done1$aov_APA$table; display_markdown(\"### Result\"); display_markdown(done1$aov_APA[[\"full_result\"]][[\"cond0\"]]); display_markdown(\"### Summary (all done1, incl. NANs)\"); done1$summary; display_markdown(\"### Expected marginal means\"); done1$emm_APA$table; display_markdown(\"### Paired comparisons for expected marginal means\"); done1$pairs_APA$table"
   ]
  },
  {
   "cell_type": "code",
   "execution_count": 222,
   "metadata": {},
   "outputs": [
    {
     "data": {
      "text/markdown": [
       "# Condition 55 of 72"
      ]
     },
     "metadata": {},
     "output_type": "display_data"
    },
    {
     "data": {
      "text/markdown": [
       "`tmin0==0.6 & chan0==\"RC\" & mode0==\"pos\"`"
      ]
     },
     "metadata": {},
     "output_type": "display_data"
    },
    {
     "data": {
      "text/markdown": [
       "### Table"
      ]
     },
     "metadata": {},
     "output_type": "display_data"
    },
    {
     "data": {
      "text/html": [
       "<table>\n",
       "<caption>A apa_results_table: 1 × 7</caption>\n",
       "<thead>\n",
       "\t<tr><th></th><th scope=col>Effect</th><th scope=col>F</th><th scope=col>df1</th><th scope=col>df2</th><th scope=col>MSE</th><th scope=col>p</th><th scope=col>ges</th></tr>\n",
       "\t<tr><th></th><th scope=col>&lt;ppj_lbll&gt;</th><th scope=col>&lt;ppj_lbll&gt;</th><th scope=col>&lt;ppj_lbll&gt;</th><th scope=col>&lt;ppj_lbll&gt;</th><th scope=col>&lt;ppj_lbll&gt;</th><th scope=col>&lt;ppj_lbll&gt;</th><th scope=col>&lt;ppj_lbll&gt;</th></tr>\n",
       "</thead>\n",
       "<tbody>\n",
       "\t<tr><th scope=row>1</th><td>Cond0</td><td>1.76</td><td>1.76</td><td>72.29</td><td>0.39</td><td>.183</td><td>.006</td></tr>\n",
       "</tbody>\n",
       "</table>\n"
      ],
      "text/latex": [
       "A apa\\_results\\_table: 1 × 7\n",
       "\\begin{tabular}{r|lllllll}\n",
       "  & Effect & F & df1 & df2 & MSE & p & ges\\\\\n",
       "  & <ppj\\_lbll> & <ppj\\_lbll> & <ppj\\_lbll> & <ppj\\_lbll> & <ppj\\_lbll> & <ppj\\_lbll> & <ppj\\_lbll>\\\\\n",
       "\\hline\n",
       "\t1 & Cond0 & 1.76 & 1.76 & 72.29 & 0.39 & .183 & .006\\\\\n",
       "\\end{tabular}\n"
      ],
      "text/markdown": [
       "\n",
       "A apa_results_table: 1 × 7\n",
       "\n",
       "| <!--/--> | Effect &lt;ppj_lbll&gt; | F &lt;ppj_lbll&gt; | df1 &lt;ppj_lbll&gt; | df2 &lt;ppj_lbll&gt; | MSE &lt;ppj_lbll&gt; | p &lt;ppj_lbll&gt; | ges &lt;ppj_lbll&gt; |\n",
       "|---|---|---|---|---|---|---|---|\n",
       "| 1 | Cond0 | 1.76 | 1.76 | 72.29 | 0.39 | .183 | .006 |\n",
       "\n"
      ],
      "text/plain": [
       "  Effect F    df1  df2   MSE  p    ges \n",
       "1 Cond0  1.76 1.76 72.29 0.39 .183 .006"
      ]
     },
     "metadata": {},
     "output_type": "display_data"
    },
    {
     "data": {
      "text/markdown": [
       "### Result"
      ]
     },
     "metadata": {},
     "output_type": "display_data"
    },
    {
     "data": {
      "text/markdown": [
       "$F(1.76, 72.29) = 1.76$, $\\mathit{MSE} = 0.39$, $p = .183$, $\\hat{\\eta}^2_G = .006$"
      ]
     },
     "metadata": {},
     "output_type": "display_data"
    },
    {
     "data": {
      "text/markdown": [
       "### Summary (all done1, incl. NANs)"
      ]
     },
     "metadata": {},
     "output_type": "display_data"
    },
    {
     "data": {
      "text/html": [
       "<table>\n",
       "<caption>A tibble: 3 × 5</caption>\n",
       "<thead>\n",
       "\t<tr><th scope=col>cond0</th><th scope=col>N</th><th scope=col>valX_M</th><th scope=col>valX_SD</th><th scope=col>valX_SE</th></tr>\n",
       "\t<tr><th scope=col>&lt;fct&gt;</th><th scope=col>&lt;int&gt;</th><th scope=col>&lt;dbl&gt;</th><th scope=col>&lt;dbl&gt;</th><th scope=col>&lt;dbl&gt;</th></tr>\n",
       "</thead>\n",
       "<tbody>\n",
       "\t<tr><td>noun_F</td><td>42</td><td>2.290537</td><td>1.255794</td><td>0.1937732</td></tr>\n",
       "\t<tr><td>noun_M</td><td>42</td><td>2.048997</td><td>1.308174</td><td>0.2018557</td></tr>\n",
       "\t<tr><td>verb_X</td><td>42</td><td>2.164293</td><td>1.360651</td><td>0.2099530</td></tr>\n",
       "</tbody>\n",
       "</table>\n"
      ],
      "text/latex": [
       "A tibble: 3 × 5\n",
       "\\begin{tabular}{lllll}\n",
       " cond0 & N & valX\\_M & valX\\_SD & valX\\_SE\\\\\n",
       " <fct> & <int> & <dbl> & <dbl> & <dbl>\\\\\n",
       "\\hline\n",
       "\t noun\\_F & 42 & 2.290537 & 1.255794 & 0.1937732\\\\\n",
       "\t noun\\_M & 42 & 2.048997 & 1.308174 & 0.2018557\\\\\n",
       "\t verb\\_X & 42 & 2.164293 & 1.360651 & 0.2099530\\\\\n",
       "\\end{tabular}\n"
      ],
      "text/markdown": [
       "\n",
       "A tibble: 3 × 5\n",
       "\n",
       "| cond0 &lt;fct&gt; | N &lt;int&gt; | valX_M &lt;dbl&gt; | valX_SD &lt;dbl&gt; | valX_SE &lt;dbl&gt; |\n",
       "|---|---|---|---|---|\n",
       "| noun_F | 42 | 2.290537 | 1.255794 | 0.1937732 |\n",
       "| noun_M | 42 | 2.048997 | 1.308174 | 0.2018557 |\n",
       "| verb_X | 42 | 2.164293 | 1.360651 | 0.2099530 |\n",
       "\n"
      ],
      "text/plain": [
       "  cond0  N  valX_M   valX_SD  valX_SE  \n",
       "1 noun_F 42 2.290537 1.255794 0.1937732\n",
       "2 noun_M 42 2.048997 1.308174 0.2018557\n",
       "3 verb_X 42 2.164293 1.360651 0.2099530"
      ]
     },
     "metadata": {},
     "output_type": "display_data"
    },
    {
     "data": {
      "text/markdown": [
       "### Expected marginal means"
      ]
     },
     "metadata": {},
     "output_type": "display_data"
    },
    {
     "data": {
      "text/html": [
       "<table>\n",
       "<caption>A apa_results_table: 3 × 5</caption>\n",
       "<thead>\n",
       "\t<tr><th></th><th scope=col>cond0</th><th scope=col>estimate</th><th scope=col>ci</th><th scope=col>statistic</th><th scope=col>p.value</th></tr>\n",
       "\t<tr><th></th><th scope=col>&lt;chr&gt;</th><th scope=col>&lt;ppj_lbll&gt;</th><th scope=col>&lt;ppj_lbll&gt;</th><th scope=col>&lt;ppj_lbll&gt;</th><th scope=col>&lt;ppj_lbll&gt;</th></tr>\n",
       "</thead>\n",
       "<tbody>\n",
       "\t<tr><th scope=row>noun_F</th><td>noun_F</td><td>2.29</td><td>$[1.89$, $2.70]$</td><td>11.34</td><td>&lt; .001</td></tr>\n",
       "\t<tr><th scope=row>noun_M</th><td>noun_M</td><td>2.05</td><td>$[1.64$, $2.45]$</td><td>10.15</td><td>&lt; .001</td></tr>\n",
       "\t<tr><th scope=row>verb_X</th><td>verb_X</td><td>2.16</td><td>$[1.76$, $2.57]$</td><td>10.72</td><td>&lt; .001</td></tr>\n",
       "</tbody>\n",
       "</table>\n"
      ],
      "text/latex": [
       "A apa\\_results\\_table: 3 × 5\n",
       "\\begin{tabular}{r|lllll}\n",
       "  & cond0 & estimate & ci & statistic & p.value\\\\\n",
       "  & <chr> & <ppj\\_lbll> & <ppj\\_lbll> & <ppj\\_lbll> & <ppj\\_lbll>\\\\\n",
       "\\hline\n",
       "\tnoun\\_F & noun\\_F & 2.29 & \\${[}1.89\\$, \\$2.70{]}\\$ & 11.34 & < .001\\\\\n",
       "\tnoun\\_M & noun\\_M & 2.05 & \\${[}1.64\\$, \\$2.45{]}\\$ & 10.15 & < .001\\\\\n",
       "\tverb\\_X & verb\\_X & 2.16 & \\${[}1.76\\$, \\$2.57{]}\\$ & 10.72 & < .001\\\\\n",
       "\\end{tabular}\n"
      ],
      "text/markdown": [
       "\n",
       "A apa_results_table: 3 × 5\n",
       "\n",
       "| <!--/--> | cond0 &lt;chr&gt; | estimate &lt;ppj_lbll&gt; | ci &lt;ppj_lbll&gt; | statistic &lt;ppj_lbll&gt; | p.value &lt;ppj_lbll&gt; |\n",
       "|---|---|---|---|---|---|\n",
       "| noun_F | noun_F | 2.29 | $[1.89$, $2.70]$ | 11.34 | &lt; .001 |\n",
       "| noun_M | noun_M | 2.05 | $[1.64$, $2.45]$ | 10.15 | &lt; .001 |\n",
       "| verb_X | verb_X | 2.16 | $[1.76$, $2.57]$ | 10.72 | &lt; .001 |\n",
       "\n"
      ],
      "text/plain": [
       "       cond0  estimate ci               statistic p.value\n",
       "noun_F noun_F 2.29     $[1.89$, $2.70]$ 11.34     < .001 \n",
       "noun_M noun_M 2.05     $[1.64$, $2.45]$ 10.15     < .001 \n",
       "verb_X verb_X 2.16     $[1.76$, $2.57]$ 10.72     < .001 "
      ]
     },
     "metadata": {},
     "output_type": "display_data"
    },
    {
     "data": {
      "text/markdown": [
       "### Paired comparisons for expected marginal means"
      ]
     },
     "metadata": {},
     "output_type": "display_data"
    },
    {
     "data": {
      "text/html": [
       "<table>\n",
       "<caption>A apa_results_table: 3 × 5</caption>\n",
       "<thead>\n",
       "\t<tr><th></th><th scope=col>contrast</th><th scope=col>estimate</th><th scope=col>ci</th><th scope=col>statistic</th><th scope=col>p.value</th></tr>\n",
       "\t<tr><th></th><th scope=col>&lt;ppj_lbll&gt;</th><th scope=col>&lt;ppj_lbll&gt;</th><th scope=col>&lt;ppj_lbll&gt;</th><th scope=col>&lt;ppj_lbll&gt;</th><th scope=col>&lt;ppj_lbll&gt;</th></tr>\n",
       "</thead>\n",
       "<tbody>\n",
       "\t<tr><th scope=row>noun_F_noun_M</th><td>noun_F - noun_M</td><td>0.24 </td><td>$[-0.07$, $0.55]$</td><td>1.88 </td><td>.152</td></tr>\n",
       "\t<tr><th scope=row>noun_F_verb_X</th><td>noun_F - verb_X</td><td>0.13 </td><td>$[-0.18$, $0.43]$</td><td>0.98 </td><td>.591</td></tr>\n",
       "\t<tr><th scope=row>noun_M_verb_X</th><td>noun_M - verb_X</td><td>-0.12</td><td>$[-0.42$, $0.19]$</td><td>-0.90</td><td>.644</td></tr>\n",
       "</tbody>\n",
       "</table>\n"
      ],
      "text/latex": [
       "A apa\\_results\\_table: 3 × 5\n",
       "\\begin{tabular}{r|lllll}\n",
       "  & contrast & estimate & ci & statistic & p.value\\\\\n",
       "  & <ppj\\_lbll> & <ppj\\_lbll> & <ppj\\_lbll> & <ppj\\_lbll> & <ppj\\_lbll>\\\\\n",
       "\\hline\n",
       "\tnoun\\_F\\_noun\\_M & noun\\_F - noun\\_M & 0.24  & \\${[}-0.07\\$, \\$0.55{]}\\$ & 1.88  & .152\\\\\n",
       "\tnoun\\_F\\_verb\\_X & noun\\_F - verb\\_X & 0.13  & \\${[}-0.18\\$, \\$0.43{]}\\$ & 0.98  & .591\\\\\n",
       "\tnoun\\_M\\_verb\\_X & noun\\_M - verb\\_X & -0.12 & \\${[}-0.42\\$, \\$0.19{]}\\$ & -0.90 & .644\\\\\n",
       "\\end{tabular}\n"
      ],
      "text/markdown": [
       "\n",
       "A apa_results_table: 3 × 5\n",
       "\n",
       "| <!--/--> | contrast &lt;ppj_lbll&gt; | estimate &lt;ppj_lbll&gt; | ci &lt;ppj_lbll&gt; | statistic &lt;ppj_lbll&gt; | p.value &lt;ppj_lbll&gt; |\n",
       "|---|---|---|---|---|---|\n",
       "| noun_F_noun_M | noun_F - noun_M | 0.24  | $[-0.07$, $0.55]$ | 1.88  | .152 |\n",
       "| noun_F_verb_X | noun_F - verb_X | 0.13  | $[-0.18$, $0.43]$ | 0.98  | .591 |\n",
       "| noun_M_verb_X | noun_M - verb_X | -0.12 | $[-0.42$, $0.19]$ | -0.90 | .644 |\n",
       "\n"
      ],
      "text/plain": [
       "              contrast        estimate ci                statistic p.value\n",
       "noun_F_noun_M noun_F - noun_M 0.24     $[-0.07$, $0.55]$ 1.88      .152   \n",
       "noun_F_verb_X noun_F - verb_X 0.13     $[-0.18$, $0.43]$ 0.98      .591   \n",
       "noun_M_verb_X noun_M - verb_X -0.12    $[-0.42$, $0.19]$ -0.90     .644   "
      ]
     },
     "metadata": {},
     "output_type": "display_data"
    }
   ],
   "source": [
    "IDX <- IDX+1; COND <- CONDS[IDX]\n",
    "data1 <- droplevels(subset(df1, eval(parse(text=COND)))); data1 <- data1[complete.cases(data1),]; done1 <- AOV4(data1,COND)\n",
    "display_markdown(str_c(\"# Condition \",IDX,\" of \",length(CONDS))); display_markdown(done1$info); display_markdown(\"### Table\"); done1$aov_APA$table; display_markdown(\"### Result\"); display_markdown(done1$aov_APA[[\"full_result\"]][[\"cond0\"]]); display_markdown(\"### Summary (all done1, incl. NANs)\"); done1$summary; display_markdown(\"### Expected marginal means\"); done1$emm_APA$table; display_markdown(\"### Paired comparisons for expected marginal means\"); done1$pairs_APA$table"
   ]
  },
  {
   "cell_type": "code",
   "execution_count": 223,
   "metadata": {},
   "outputs": [
    {
     "data": {
      "text/markdown": [
       "# Condition 56 of 72"
      ]
     },
     "metadata": {},
     "output_type": "display_data"
    },
    {
     "data": {
      "text/markdown": [
       "`tmin0==0.6 & chan0==\"RC\" & mode0==\"neg\"`"
      ]
     },
     "metadata": {},
     "output_type": "display_data"
    },
    {
     "data": {
      "text/markdown": [
       "### Table"
      ]
     },
     "metadata": {},
     "output_type": "display_data"
    },
    {
     "data": {
      "text/html": [
       "<table>\n",
       "<caption>A apa_results_table: 1 × 7</caption>\n",
       "<thead>\n",
       "\t<tr><th></th><th scope=col>Effect</th><th scope=col>F</th><th scope=col>df1</th><th scope=col>df2</th><th scope=col>MSE</th><th scope=col>p</th><th scope=col>ges</th></tr>\n",
       "\t<tr><th></th><th scope=col>&lt;ppj_lbll&gt;</th><th scope=col>&lt;ppj_lbll&gt;</th><th scope=col>&lt;ppj_lbll&gt;</th><th scope=col>&lt;ppj_lbll&gt;</th><th scope=col>&lt;ppj_lbll&gt;</th><th scope=col>&lt;ppj_lbll&gt;</th><th scope=col>&lt;ppj_lbll&gt;</th></tr>\n",
       "</thead>\n",
       "<tbody>\n",
       "\t<tr><th scope=row>1</th><td>Cond0</td><td>9.23</td><td>1.73</td><td>70.75</td><td>0.42</td><td>.001</td><td>.024</td></tr>\n",
       "</tbody>\n",
       "</table>\n"
      ],
      "text/latex": [
       "A apa\\_results\\_table: 1 × 7\n",
       "\\begin{tabular}{r|lllllll}\n",
       "  & Effect & F & df1 & df2 & MSE & p & ges\\\\\n",
       "  & <ppj\\_lbll> & <ppj\\_lbll> & <ppj\\_lbll> & <ppj\\_lbll> & <ppj\\_lbll> & <ppj\\_lbll> & <ppj\\_lbll>\\\\\n",
       "\\hline\n",
       "\t1 & Cond0 & 9.23 & 1.73 & 70.75 & 0.42 & .001 & .024\\\\\n",
       "\\end{tabular}\n"
      ],
      "text/markdown": [
       "\n",
       "A apa_results_table: 1 × 7\n",
       "\n",
       "| <!--/--> | Effect &lt;ppj_lbll&gt; | F &lt;ppj_lbll&gt; | df1 &lt;ppj_lbll&gt; | df2 &lt;ppj_lbll&gt; | MSE &lt;ppj_lbll&gt; | p &lt;ppj_lbll&gt; | ges &lt;ppj_lbll&gt; |\n",
       "|---|---|---|---|---|---|---|---|\n",
       "| 1 | Cond0 | 9.23 | 1.73 | 70.75 | 0.42 | .001 | .024 |\n",
       "\n"
      ],
      "text/plain": [
       "  Effect F    df1  df2   MSE  p    ges \n",
       "1 Cond0  9.23 1.73 70.75 0.42 .001 .024"
      ]
     },
     "metadata": {},
     "output_type": "display_data"
    },
    {
     "data": {
      "text/markdown": [
       "### Result"
      ]
     },
     "metadata": {},
     "output_type": "display_data"
    },
    {
     "data": {
      "text/markdown": [
       "$F(1.73, 70.75) = 9.23$, $\\mathit{MSE} = 0.42$, $p = .001$, $\\hat{\\eta}^2_G = .024$"
      ]
     },
     "metadata": {},
     "output_type": "display_data"
    },
    {
     "data": {
      "text/markdown": [
       "### Summary (all done1, incl. NANs)"
      ]
     },
     "metadata": {},
     "output_type": "display_data"
    },
    {
     "data": {
      "text/html": [
       "<table>\n",
       "<caption>A tibble: 3 × 5</caption>\n",
       "<thead>\n",
       "\t<tr><th scope=col>cond0</th><th scope=col>N</th><th scope=col>valX_M</th><th scope=col>valX_SD</th><th scope=col>valX_SE</th></tr>\n",
       "\t<tr><th scope=col>&lt;fct&gt;</th><th scope=col>&lt;int&gt;</th><th scope=col>&lt;dbl&gt;</th><th scope=col>&lt;dbl&gt;</th><th scope=col>&lt;dbl&gt;</th></tr>\n",
       "</thead>\n",
       "<tbody>\n",
       "\t<tr><td>noun_F</td><td>42</td><td>0.4552257</td><td>1.543887</td><td>0.2382269</td></tr>\n",
       "\t<tr><td>noun_M</td><td>42</td><td>0.2476184</td><td>1.416440</td><td>0.2185614</td></tr>\n",
       "\t<tr><td>verb_X</td><td>42</td><td>0.8087916</td><td>1.479566</td><td>0.2283020</td></tr>\n",
       "</tbody>\n",
       "</table>\n"
      ],
      "text/latex": [
       "A tibble: 3 × 5\n",
       "\\begin{tabular}{lllll}\n",
       " cond0 & N & valX\\_M & valX\\_SD & valX\\_SE\\\\\n",
       " <fct> & <int> & <dbl> & <dbl> & <dbl>\\\\\n",
       "\\hline\n",
       "\t noun\\_F & 42 & 0.4552257 & 1.543887 & 0.2382269\\\\\n",
       "\t noun\\_M & 42 & 0.2476184 & 1.416440 & 0.2185614\\\\\n",
       "\t verb\\_X & 42 & 0.8087916 & 1.479566 & 0.2283020\\\\\n",
       "\\end{tabular}\n"
      ],
      "text/markdown": [
       "\n",
       "A tibble: 3 × 5\n",
       "\n",
       "| cond0 &lt;fct&gt; | N &lt;int&gt; | valX_M &lt;dbl&gt; | valX_SD &lt;dbl&gt; | valX_SE &lt;dbl&gt; |\n",
       "|---|---|---|---|---|\n",
       "| noun_F | 42 | 0.4552257 | 1.543887 | 0.2382269 |\n",
       "| noun_M | 42 | 0.2476184 | 1.416440 | 0.2185614 |\n",
       "| verb_X | 42 | 0.8087916 | 1.479566 | 0.2283020 |\n",
       "\n"
      ],
      "text/plain": [
       "  cond0  N  valX_M    valX_SD  valX_SE  \n",
       "1 noun_F 42 0.4552257 1.543887 0.2382269\n",
       "2 noun_M 42 0.2476184 1.416440 0.2185614\n",
       "3 verb_X 42 0.8087916 1.479566 0.2283020"
      ]
     },
     "metadata": {},
     "output_type": "display_data"
    },
    {
     "data": {
      "text/markdown": [
       "### Expected marginal means"
      ]
     },
     "metadata": {},
     "output_type": "display_data"
    },
    {
     "data": {
      "text/html": [
       "<table>\n",
       "<caption>A apa_results_table: 3 × 5</caption>\n",
       "<thead>\n",
       "\t<tr><th></th><th scope=col>cond0</th><th scope=col>estimate</th><th scope=col>ci</th><th scope=col>statistic</th><th scope=col>p.value</th></tr>\n",
       "\t<tr><th></th><th scope=col>&lt;chr&gt;</th><th scope=col>&lt;ppj_lbll&gt;</th><th scope=col>&lt;ppj_lbll&gt;</th><th scope=col>&lt;ppj_lbll&gt;</th><th scope=col>&lt;ppj_lbll&gt;</th></tr>\n",
       "</thead>\n",
       "<tbody>\n",
       "\t<tr><th scope=row>noun_F</th><td>noun_F</td><td>0.46</td><td>$[0.00$, $0.91]$ </td><td>1.99</td><td>.052</td></tr>\n",
       "\t<tr><th scope=row>noun_M</th><td>noun_M</td><td>0.25</td><td>$[-0.21$, $0.71]$</td><td>1.08</td><td>.284</td></tr>\n",
       "\t<tr><th scope=row>verb_X</th><td>verb_X</td><td>0.81</td><td>$[0.35$, $1.27]$ </td><td>3.54</td><td>.001</td></tr>\n",
       "</tbody>\n",
       "</table>\n"
      ],
      "text/latex": [
       "A apa\\_results\\_table: 3 × 5\n",
       "\\begin{tabular}{r|lllll}\n",
       "  & cond0 & estimate & ci & statistic & p.value\\\\\n",
       "  & <chr> & <ppj\\_lbll> & <ppj\\_lbll> & <ppj\\_lbll> & <ppj\\_lbll>\\\\\n",
       "\\hline\n",
       "\tnoun\\_F & noun\\_F & 0.46 & \\${[}0.00\\$, \\$0.91{]}\\$  & 1.99 & .052\\\\\n",
       "\tnoun\\_M & noun\\_M & 0.25 & \\${[}-0.21\\$, \\$0.71{]}\\$ & 1.08 & .284\\\\\n",
       "\tverb\\_X & verb\\_X & 0.81 & \\${[}0.35\\$, \\$1.27{]}\\$  & 3.54 & .001\\\\\n",
       "\\end{tabular}\n"
      ],
      "text/markdown": [
       "\n",
       "A apa_results_table: 3 × 5\n",
       "\n",
       "| <!--/--> | cond0 &lt;chr&gt; | estimate &lt;ppj_lbll&gt; | ci &lt;ppj_lbll&gt; | statistic &lt;ppj_lbll&gt; | p.value &lt;ppj_lbll&gt; |\n",
       "|---|---|---|---|---|---|\n",
       "| noun_F | noun_F | 0.46 | $[0.00$, $0.91]$  | 1.99 | .052 |\n",
       "| noun_M | noun_M | 0.25 | $[-0.21$, $0.71]$ | 1.08 | .284 |\n",
       "| verb_X | verb_X | 0.81 | $[0.35$, $1.27]$  | 3.54 | .001 |\n",
       "\n"
      ],
      "text/plain": [
       "       cond0  estimate ci                statistic p.value\n",
       "noun_F noun_F 0.46     $[0.00$, $0.91]$  1.99      .052   \n",
       "noun_M noun_M 0.25     $[-0.21$, $0.71]$ 1.08      .284   \n",
       "verb_X verb_X 0.81     $[0.35$, $1.27]$  3.54      .001   "
      ]
     },
     "metadata": {},
     "output_type": "display_data"
    },
    {
     "data": {
      "text/markdown": [
       "### Paired comparisons for expected marginal means"
      ]
     },
     "metadata": {},
     "output_type": "display_data"
    },
    {
     "data": {
      "text/html": [
       "<table>\n",
       "<caption>A apa_results_table: 3 × 5</caption>\n",
       "<thead>\n",
       "\t<tr><th></th><th scope=col>contrast</th><th scope=col>estimate</th><th scope=col>ci</th><th scope=col>statistic</th><th scope=col>p.value</th></tr>\n",
       "\t<tr><th></th><th scope=col>&lt;ppj_lbll&gt;</th><th scope=col>&lt;ppj_lbll&gt;</th><th scope=col>&lt;ppj_lbll&gt;</th><th scope=col>&lt;ppj_lbll&gt;</th><th scope=col>&lt;ppj_lbll&gt;</th></tr>\n",
       "</thead>\n",
       "<tbody>\n",
       "\t<tr><th scope=row>noun_F_noun_M</th><td>noun_F - noun_M</td><td>0.21 </td><td>$[-0.11$, $0.52]$ </td><td>1.57 </td><td>.264  </td></tr>\n",
       "\t<tr><th scope=row>noun_F_verb_X</th><td>noun_F - verb_X</td><td>-0.35</td><td>$[-0.67$, $-0.04]$</td><td>-2.68</td><td>.024  </td></tr>\n",
       "\t<tr><th scope=row>noun_M_verb_X</th><td>noun_M - verb_X</td><td>-0.56</td><td>$[-0.88$, $-0.25]$</td><td>-4.25</td><td>&lt; .001</td></tr>\n",
       "</tbody>\n",
       "</table>\n"
      ],
      "text/latex": [
       "A apa\\_results\\_table: 3 × 5\n",
       "\\begin{tabular}{r|lllll}\n",
       "  & contrast & estimate & ci & statistic & p.value\\\\\n",
       "  & <ppj\\_lbll> & <ppj\\_lbll> & <ppj\\_lbll> & <ppj\\_lbll> & <ppj\\_lbll>\\\\\n",
       "\\hline\n",
       "\tnoun\\_F\\_noun\\_M & noun\\_F - noun\\_M & 0.21  & \\${[}-0.11\\$, \\$0.52{]}\\$  & 1.57  & .264  \\\\\n",
       "\tnoun\\_F\\_verb\\_X & noun\\_F - verb\\_X & -0.35 & \\${[}-0.67\\$, \\$-0.04{]}\\$ & -2.68 & .024  \\\\\n",
       "\tnoun\\_M\\_verb\\_X & noun\\_M - verb\\_X & -0.56 & \\${[}-0.88\\$, \\$-0.25{]}\\$ & -4.25 & < .001\\\\\n",
       "\\end{tabular}\n"
      ],
      "text/markdown": [
       "\n",
       "A apa_results_table: 3 × 5\n",
       "\n",
       "| <!--/--> | contrast &lt;ppj_lbll&gt; | estimate &lt;ppj_lbll&gt; | ci &lt;ppj_lbll&gt; | statistic &lt;ppj_lbll&gt; | p.value &lt;ppj_lbll&gt; |\n",
       "|---|---|---|---|---|---|\n",
       "| noun_F_noun_M | noun_F - noun_M | 0.21  | $[-0.11$, $0.52]$  | 1.57  | .264   |\n",
       "| noun_F_verb_X | noun_F - verb_X | -0.35 | $[-0.67$, $-0.04]$ | -2.68 | .024   |\n",
       "| noun_M_verb_X | noun_M - verb_X | -0.56 | $[-0.88$, $-0.25]$ | -4.25 | &lt; .001 |\n",
       "\n"
      ],
      "text/plain": [
       "              contrast        estimate ci                 statistic p.value\n",
       "noun_F_noun_M noun_F - noun_M 0.21     $[-0.11$, $0.52]$  1.57      .264   \n",
       "noun_F_verb_X noun_F - verb_X -0.35    $[-0.67$, $-0.04]$ -2.68     .024   \n",
       "noun_M_verb_X noun_M - verb_X -0.56    $[-0.88$, $-0.25]$ -4.25     < .001 "
      ]
     },
     "metadata": {},
     "output_type": "display_data"
    }
   ],
   "source": [
    "IDX <- IDX+1; COND <- CONDS[IDX]\n",
    "data1 <- droplevels(subset(df1, eval(parse(text=COND)))); data1 <- data1[complete.cases(data1),]; done1 <- AOV4(data1,COND)\n",
    "display_markdown(str_c(\"# Condition \",IDX,\" of \",length(CONDS))); display_markdown(done1$info); display_markdown(\"### Table\"); done1$aov_APA$table; display_markdown(\"### Result\"); display_markdown(done1$aov_APA[[\"full_result\"]][[\"cond0\"]]); display_markdown(\"### Summary (all done1, incl. NANs)\"); done1$summary; display_markdown(\"### Expected marginal means\"); done1$emm_APA$table; display_markdown(\"### Paired comparisons for expected marginal means\"); done1$pairs_APA$table"
   ]
  },
  {
   "cell_type": "code",
   "execution_count": 224,
   "metadata": {},
   "outputs": [
    {
     "name": "stderr",
     "output_type": "stream",
     "text": [
      "Warning message in summary.Anova.mlm(x$Anova):\n",
      "“HF eps > 1 treated as 1”\n"
     ]
    },
    {
     "data": {
      "text/markdown": [
       "# Condition 57 of 72"
      ]
     },
     "metadata": {},
     "output_type": "display_data"
    },
    {
     "data": {
      "text/markdown": [
       "`tmin0==0.6 & chan0==\"LP\" & mode0==\"pos\"`"
      ]
     },
     "metadata": {},
     "output_type": "display_data"
    },
    {
     "data": {
      "text/markdown": [
       "### Table"
      ]
     },
     "metadata": {},
     "output_type": "display_data"
    },
    {
     "data": {
      "text/html": [
       "<table>\n",
       "<caption>A apa_results_table: 1 × 7</caption>\n",
       "<thead>\n",
       "\t<tr><th></th><th scope=col>Effect</th><th scope=col>F</th><th scope=col>df1</th><th scope=col>df2</th><th scope=col>MSE</th><th scope=col>p</th><th scope=col>ges</th></tr>\n",
       "\t<tr><th></th><th scope=col>&lt;ppj_lbll&gt;</th><th scope=col>&lt;ppj_lbll&gt;</th><th scope=col>&lt;ppj_lbll&gt;</th><th scope=col>&lt;ppj_lbll&gt;</th><th scope=col>&lt;ppj_lbll&gt;</th><th scope=col>&lt;ppj_lbll&gt;</th><th scope=col>&lt;ppj_lbll&gt;</th></tr>\n",
       "</thead>\n",
       "<tbody>\n",
       "\t<tr><th scope=row>1</th><td>Cond0</td><td>0.54</td><td>1.91</td><td>78.34</td><td>0.46</td><td>.576</td><td>.001</td></tr>\n",
       "</tbody>\n",
       "</table>\n"
      ],
      "text/latex": [
       "A apa\\_results\\_table: 1 × 7\n",
       "\\begin{tabular}{r|lllllll}\n",
       "  & Effect & F & df1 & df2 & MSE & p & ges\\\\\n",
       "  & <ppj\\_lbll> & <ppj\\_lbll> & <ppj\\_lbll> & <ppj\\_lbll> & <ppj\\_lbll> & <ppj\\_lbll> & <ppj\\_lbll>\\\\\n",
       "\\hline\n",
       "\t1 & Cond0 & 0.54 & 1.91 & 78.34 & 0.46 & .576 & .001\\\\\n",
       "\\end{tabular}\n"
      ],
      "text/markdown": [
       "\n",
       "A apa_results_table: 1 × 7\n",
       "\n",
       "| <!--/--> | Effect &lt;ppj_lbll&gt; | F &lt;ppj_lbll&gt; | df1 &lt;ppj_lbll&gt; | df2 &lt;ppj_lbll&gt; | MSE &lt;ppj_lbll&gt; | p &lt;ppj_lbll&gt; | ges &lt;ppj_lbll&gt; |\n",
       "|---|---|---|---|---|---|---|---|\n",
       "| 1 | Cond0 | 0.54 | 1.91 | 78.34 | 0.46 | .576 | .001 |\n",
       "\n"
      ],
      "text/plain": [
       "  Effect F    df1  df2   MSE  p    ges \n",
       "1 Cond0  0.54 1.91 78.34 0.46 .576 .001"
      ]
     },
     "metadata": {},
     "output_type": "display_data"
    },
    {
     "data": {
      "text/markdown": [
       "### Result"
      ]
     },
     "metadata": {},
     "output_type": "display_data"
    },
    {
     "data": {
      "text/markdown": [
       "$F(1.91, 78.34) = 0.54$, $\\mathit{MSE} = 0.46$, $p = .576$, $\\hat{\\eta}^2_G = .001$"
      ]
     },
     "metadata": {},
     "output_type": "display_data"
    },
    {
     "data": {
      "text/markdown": [
       "### Summary (all done1, incl. NANs)"
      ]
     },
     "metadata": {},
     "output_type": "display_data"
    },
    {
     "data": {
      "text/html": [
       "<table>\n",
       "<caption>A tibble: 3 × 5</caption>\n",
       "<thead>\n",
       "\t<tr><th scope=col>cond0</th><th scope=col>N</th><th scope=col>valX_M</th><th scope=col>valX_SD</th><th scope=col>valX_SE</th></tr>\n",
       "\t<tr><th scope=col>&lt;fct&gt;</th><th scope=col>&lt;int&gt;</th><th scope=col>&lt;dbl&gt;</th><th scope=col>&lt;dbl&gt;</th><th scope=col>&lt;dbl&gt;</th></tr>\n",
       "</thead>\n",
       "<tbody>\n",
       "\t<tr><td>noun_F</td><td>42</td><td>0.7134675</td><td>2.140620</td><td>0.3303049</td></tr>\n",
       "\t<tr><td>noun_M</td><td>42</td><td>0.8036971</td><td>2.189929</td><td>0.3379133</td></tr>\n",
       "\t<tr><td>verb_X</td><td>42</td><td>0.6535181</td><td>2.113999</td><td>0.3261971</td></tr>\n",
       "</tbody>\n",
       "</table>\n"
      ],
      "text/latex": [
       "A tibble: 3 × 5\n",
       "\\begin{tabular}{lllll}\n",
       " cond0 & N & valX\\_M & valX\\_SD & valX\\_SE\\\\\n",
       " <fct> & <int> & <dbl> & <dbl> & <dbl>\\\\\n",
       "\\hline\n",
       "\t noun\\_F & 42 & 0.7134675 & 2.140620 & 0.3303049\\\\\n",
       "\t noun\\_M & 42 & 0.8036971 & 2.189929 & 0.3379133\\\\\n",
       "\t verb\\_X & 42 & 0.6535181 & 2.113999 & 0.3261971\\\\\n",
       "\\end{tabular}\n"
      ],
      "text/markdown": [
       "\n",
       "A tibble: 3 × 5\n",
       "\n",
       "| cond0 &lt;fct&gt; | N &lt;int&gt; | valX_M &lt;dbl&gt; | valX_SD &lt;dbl&gt; | valX_SE &lt;dbl&gt; |\n",
       "|---|---|---|---|---|\n",
       "| noun_F | 42 | 0.7134675 | 2.140620 | 0.3303049 |\n",
       "| noun_M | 42 | 0.8036971 | 2.189929 | 0.3379133 |\n",
       "| verb_X | 42 | 0.6535181 | 2.113999 | 0.3261971 |\n",
       "\n"
      ],
      "text/plain": [
       "  cond0  N  valX_M    valX_SD  valX_SE  \n",
       "1 noun_F 42 0.7134675 2.140620 0.3303049\n",
       "2 noun_M 42 0.8036971 2.189929 0.3379133\n",
       "3 verb_X 42 0.6535181 2.113999 0.3261971"
      ]
     },
     "metadata": {},
     "output_type": "display_data"
    },
    {
     "data": {
      "text/markdown": [
       "### Expected marginal means"
      ]
     },
     "metadata": {},
     "output_type": "display_data"
    },
    {
     "data": {
      "text/html": [
       "<table>\n",
       "<caption>A apa_results_table: 3 × 5</caption>\n",
       "<thead>\n",
       "\t<tr><th></th><th scope=col>cond0</th><th scope=col>estimate</th><th scope=col>ci</th><th scope=col>statistic</th><th scope=col>p.value</th></tr>\n",
       "\t<tr><th></th><th scope=col>&lt;chr&gt;</th><th scope=col>&lt;ppj_lbll&gt;</th><th scope=col>&lt;ppj_lbll&gt;</th><th scope=col>&lt;ppj_lbll&gt;</th><th scope=col>&lt;ppj_lbll&gt;</th></tr>\n",
       "</thead>\n",
       "<tbody>\n",
       "\t<tr><th scope=row>noun_F</th><td>noun_F</td><td>0.71</td><td>$[0.05$, $1.38]$ </td><td>2.15</td><td>.037</td></tr>\n",
       "\t<tr><th scope=row>noun_M</th><td>noun_M</td><td>0.80</td><td>$[0.14$, $1.47]$ </td><td>2.42</td><td>.019</td></tr>\n",
       "\t<tr><th scope=row>verb_X</th><td>verb_X</td><td>0.65</td><td>$[-0.01$, $1.32]$</td><td>1.97</td><td>.055</td></tr>\n",
       "</tbody>\n",
       "</table>\n"
      ],
      "text/latex": [
       "A apa\\_results\\_table: 3 × 5\n",
       "\\begin{tabular}{r|lllll}\n",
       "  & cond0 & estimate & ci & statistic & p.value\\\\\n",
       "  & <chr> & <ppj\\_lbll> & <ppj\\_lbll> & <ppj\\_lbll> & <ppj\\_lbll>\\\\\n",
       "\\hline\n",
       "\tnoun\\_F & noun\\_F & 0.71 & \\${[}0.05\\$, \\$1.38{]}\\$  & 2.15 & .037\\\\\n",
       "\tnoun\\_M & noun\\_M & 0.80 & \\${[}0.14\\$, \\$1.47{]}\\$  & 2.42 & .019\\\\\n",
       "\tverb\\_X & verb\\_X & 0.65 & \\${[}-0.01\\$, \\$1.32{]}\\$ & 1.97 & .055\\\\\n",
       "\\end{tabular}\n"
      ],
      "text/markdown": [
       "\n",
       "A apa_results_table: 3 × 5\n",
       "\n",
       "| <!--/--> | cond0 &lt;chr&gt; | estimate &lt;ppj_lbll&gt; | ci &lt;ppj_lbll&gt; | statistic &lt;ppj_lbll&gt; | p.value &lt;ppj_lbll&gt; |\n",
       "|---|---|---|---|---|---|\n",
       "| noun_F | noun_F | 0.71 | $[0.05$, $1.38]$  | 2.15 | .037 |\n",
       "| noun_M | noun_M | 0.80 | $[0.14$, $1.47]$  | 2.42 | .019 |\n",
       "| verb_X | verb_X | 0.65 | $[-0.01$, $1.32]$ | 1.97 | .055 |\n",
       "\n"
      ],
      "text/plain": [
       "       cond0  estimate ci                statistic p.value\n",
       "noun_F noun_F 0.71     $[0.05$, $1.38]$  2.15      .037   \n",
       "noun_M noun_M 0.80     $[0.14$, $1.47]$  2.42      .019   \n",
       "verb_X verb_X 0.65     $[-0.01$, $1.32]$ 1.97      .055   "
      ]
     },
     "metadata": {},
     "output_type": "display_data"
    },
    {
     "data": {
      "text/markdown": [
       "### Paired comparisons for expected marginal means"
      ]
     },
     "metadata": {},
     "output_type": "display_data"
    },
    {
     "data": {
      "text/html": [
       "<table>\n",
       "<caption>A apa_results_table: 3 × 5</caption>\n",
       "<thead>\n",
       "\t<tr><th></th><th scope=col>contrast</th><th scope=col>estimate</th><th scope=col>ci</th><th scope=col>statistic</th><th scope=col>p.value</th></tr>\n",
       "\t<tr><th></th><th scope=col>&lt;ppj_lbll&gt;</th><th scope=col>&lt;ppj_lbll&gt;</th><th scope=col>&lt;ppj_lbll&gt;</th><th scope=col>&lt;ppj_lbll&gt;</th><th scope=col>&lt;ppj_lbll&gt;</th></tr>\n",
       "</thead>\n",
       "<tbody>\n",
       "\t<tr><th scope=row>noun_F_noun_M</th><td>noun_F - noun_M</td><td>-0.09</td><td>$[-0.44$, $0.26]$</td><td>-0.62</td><td>.809</td></tr>\n",
       "\t<tr><th scope=row>noun_F_verb_X</th><td>noun_F - verb_X</td><td>0.06 </td><td>$[-0.29$, $0.41]$</td><td>0.41 </td><td>.911</td></tr>\n",
       "\t<tr><th scope=row>noun_M_verb_X</th><td>noun_M - verb_X</td><td>0.15 </td><td>$[-0.20$, $0.50]$</td><td>1.03 </td><td>.558</td></tr>\n",
       "</tbody>\n",
       "</table>\n"
      ],
      "text/latex": [
       "A apa\\_results\\_table: 3 × 5\n",
       "\\begin{tabular}{r|lllll}\n",
       "  & contrast & estimate & ci & statistic & p.value\\\\\n",
       "  & <ppj\\_lbll> & <ppj\\_lbll> & <ppj\\_lbll> & <ppj\\_lbll> & <ppj\\_lbll>\\\\\n",
       "\\hline\n",
       "\tnoun\\_F\\_noun\\_M & noun\\_F - noun\\_M & -0.09 & \\${[}-0.44\\$, \\$0.26{]}\\$ & -0.62 & .809\\\\\n",
       "\tnoun\\_F\\_verb\\_X & noun\\_F - verb\\_X & 0.06  & \\${[}-0.29\\$, \\$0.41{]}\\$ & 0.41  & .911\\\\\n",
       "\tnoun\\_M\\_verb\\_X & noun\\_M - verb\\_X & 0.15  & \\${[}-0.20\\$, \\$0.50{]}\\$ & 1.03  & .558\\\\\n",
       "\\end{tabular}\n"
      ],
      "text/markdown": [
       "\n",
       "A apa_results_table: 3 × 5\n",
       "\n",
       "| <!--/--> | contrast &lt;ppj_lbll&gt; | estimate &lt;ppj_lbll&gt; | ci &lt;ppj_lbll&gt; | statistic &lt;ppj_lbll&gt; | p.value &lt;ppj_lbll&gt; |\n",
       "|---|---|---|---|---|---|\n",
       "| noun_F_noun_M | noun_F - noun_M | -0.09 | $[-0.44$, $0.26]$ | -0.62 | .809 |\n",
       "| noun_F_verb_X | noun_F - verb_X | 0.06  | $[-0.29$, $0.41]$ | 0.41  | .911 |\n",
       "| noun_M_verb_X | noun_M - verb_X | 0.15  | $[-0.20$, $0.50]$ | 1.03  | .558 |\n",
       "\n"
      ],
      "text/plain": [
       "              contrast        estimate ci                statistic p.value\n",
       "noun_F_noun_M noun_F - noun_M -0.09    $[-0.44$, $0.26]$ -0.62     .809   \n",
       "noun_F_verb_X noun_F - verb_X 0.06     $[-0.29$, $0.41]$ 0.41      .911   \n",
       "noun_M_verb_X noun_M - verb_X 0.15     $[-0.20$, $0.50]$ 1.03      .558   "
      ]
     },
     "metadata": {},
     "output_type": "display_data"
    }
   ],
   "source": [
    "IDX <- IDX+1; COND <- CONDS[IDX]\n",
    "data1 <- droplevels(subset(df1, eval(parse(text=COND)))); data1 <- data1[complete.cases(data1),]; done1 <- AOV4(data1,COND)\n",
    "display_markdown(str_c(\"# Condition \",IDX,\" of \",length(CONDS))); display_markdown(done1$info); display_markdown(\"### Table\"); done1$aov_APA$table; display_markdown(\"### Result\"); display_markdown(done1$aov_APA[[\"full_result\"]][[\"cond0\"]]); display_markdown(\"### Summary (all done1, incl. NANs)\"); done1$summary; display_markdown(\"### Expected marginal means\"); done1$emm_APA$table; display_markdown(\"### Paired comparisons for expected marginal means\"); done1$pairs_APA$table"
   ]
  },
  {
   "cell_type": "code",
   "execution_count": 225,
   "metadata": {},
   "outputs": [
    {
     "data": {
      "text/markdown": [
       "# Condition 58 of 72"
      ]
     },
     "metadata": {},
     "output_type": "display_data"
    },
    {
     "data": {
      "text/markdown": [
       "`tmin0==0.6 & chan0==\"LP\" & mode0==\"neg\"`"
      ]
     },
     "metadata": {},
     "output_type": "display_data"
    },
    {
     "data": {
      "text/markdown": [
       "### Table"
      ]
     },
     "metadata": {},
     "output_type": "display_data"
    },
    {
     "data": {
      "text/html": [
       "<table>\n",
       "<caption>A apa_results_table: 1 × 7</caption>\n",
       "<thead>\n",
       "\t<tr><th></th><th scope=col>Effect</th><th scope=col>F</th><th scope=col>df1</th><th scope=col>df2</th><th scope=col>MSE</th><th scope=col>p</th><th scope=col>ges</th></tr>\n",
       "\t<tr><th></th><th scope=col>&lt;ppj_lbll&gt;</th><th scope=col>&lt;ppj_lbll&gt;</th><th scope=col>&lt;ppj_lbll&gt;</th><th scope=col>&lt;ppj_lbll&gt;</th><th scope=col>&lt;ppj_lbll&gt;</th><th scope=col>&lt;ppj_lbll&gt;</th><th scope=col>&lt;ppj_lbll&gt;</th></tr>\n",
       "</thead>\n",
       "<tbody>\n",
       "\t<tr><th scope=row>1</th><td>Cond0</td><td>10.14</td><td>1.73</td><td>70.95</td><td>0.67</td><td>&lt; .001</td><td>.016</td></tr>\n",
       "</tbody>\n",
       "</table>\n"
      ],
      "text/latex": [
       "A apa\\_results\\_table: 1 × 7\n",
       "\\begin{tabular}{r|lllllll}\n",
       "  & Effect & F & df1 & df2 & MSE & p & ges\\\\\n",
       "  & <ppj\\_lbll> & <ppj\\_lbll> & <ppj\\_lbll> & <ppj\\_lbll> & <ppj\\_lbll> & <ppj\\_lbll> & <ppj\\_lbll>\\\\\n",
       "\\hline\n",
       "\t1 & Cond0 & 10.14 & 1.73 & 70.95 & 0.67 & < .001 & .016\\\\\n",
       "\\end{tabular}\n"
      ],
      "text/markdown": [
       "\n",
       "A apa_results_table: 1 × 7\n",
       "\n",
       "| <!--/--> | Effect &lt;ppj_lbll&gt; | F &lt;ppj_lbll&gt; | df1 &lt;ppj_lbll&gt; | df2 &lt;ppj_lbll&gt; | MSE &lt;ppj_lbll&gt; | p &lt;ppj_lbll&gt; | ges &lt;ppj_lbll&gt; |\n",
       "|---|---|---|---|---|---|---|---|\n",
       "| 1 | Cond0 | 10.14 | 1.73 | 70.95 | 0.67 | &lt; .001 | .016 |\n",
       "\n"
      ],
      "text/plain": [
       "  Effect F     df1  df2   MSE  p      ges \n",
       "1 Cond0  10.14 1.73 70.95 0.67 < .001 .016"
      ]
     },
     "metadata": {},
     "output_type": "display_data"
    },
    {
     "data": {
      "text/markdown": [
       "### Result"
      ]
     },
     "metadata": {},
     "output_type": "display_data"
    },
    {
     "data": {
      "text/markdown": [
       "$F(1.73, 70.95) = 10.14$, $\\mathit{MSE} = 0.67$, $p < .001$, $\\hat{\\eta}^2_G = .016$"
      ]
     },
     "metadata": {},
     "output_type": "display_data"
    },
    {
     "data": {
      "text/markdown": [
       "### Summary (all done1, incl. NANs)"
      ]
     },
     "metadata": {},
     "output_type": "display_data"
    },
    {
     "data": {
      "text/html": [
       "<table>\n",
       "<caption>A tibble: 3 × 5</caption>\n",
       "<thead>\n",
       "\t<tr><th scope=col>cond0</th><th scope=col>N</th><th scope=col>valX_M</th><th scope=col>valX_SD</th><th scope=col>valX_SE</th></tr>\n",
       "\t<tr><th scope=col>&lt;fct&gt;</th><th scope=col>&lt;int&gt;</th><th scope=col>&lt;dbl&gt;</th><th scope=col>&lt;dbl&gt;</th><th scope=col>&lt;dbl&gt;</th></tr>\n",
       "</thead>\n",
       "<tbody>\n",
       "\t<tr><td>noun_F</td><td>42</td><td>-2.252096</td><td>2.565188</td><td>0.3958171</td></tr>\n",
       "\t<tr><td>noun_M</td><td>42</td><td>-1.746928</td><td>2.213455</td><td>0.3415435</td></tr>\n",
       "\t<tr><td>verb_X</td><td>42</td><td>-1.519543</td><td>2.490908</td><td>0.3843555</td></tr>\n",
       "</tbody>\n",
       "</table>\n"
      ],
      "text/latex": [
       "A tibble: 3 × 5\n",
       "\\begin{tabular}{lllll}\n",
       " cond0 & N & valX\\_M & valX\\_SD & valX\\_SE\\\\\n",
       " <fct> & <int> & <dbl> & <dbl> & <dbl>\\\\\n",
       "\\hline\n",
       "\t noun\\_F & 42 & -2.252096 & 2.565188 & 0.3958171\\\\\n",
       "\t noun\\_M & 42 & -1.746928 & 2.213455 & 0.3415435\\\\\n",
       "\t verb\\_X & 42 & -1.519543 & 2.490908 & 0.3843555\\\\\n",
       "\\end{tabular}\n"
      ],
      "text/markdown": [
       "\n",
       "A tibble: 3 × 5\n",
       "\n",
       "| cond0 &lt;fct&gt; | N &lt;int&gt; | valX_M &lt;dbl&gt; | valX_SD &lt;dbl&gt; | valX_SE &lt;dbl&gt; |\n",
       "|---|---|---|---|---|\n",
       "| noun_F | 42 | -2.252096 | 2.565188 | 0.3958171 |\n",
       "| noun_M | 42 | -1.746928 | 2.213455 | 0.3415435 |\n",
       "| verb_X | 42 | -1.519543 | 2.490908 | 0.3843555 |\n",
       "\n"
      ],
      "text/plain": [
       "  cond0  N  valX_M    valX_SD  valX_SE  \n",
       "1 noun_F 42 -2.252096 2.565188 0.3958171\n",
       "2 noun_M 42 -1.746928 2.213455 0.3415435\n",
       "3 verb_X 42 -1.519543 2.490908 0.3843555"
      ]
     },
     "metadata": {},
     "output_type": "display_data"
    },
    {
     "data": {
      "text/markdown": [
       "### Expected marginal means"
      ]
     },
     "metadata": {},
     "output_type": "display_data"
    },
    {
     "data": {
      "text/html": [
       "<table>\n",
       "<caption>A apa_results_table: 3 × 5</caption>\n",
       "<thead>\n",
       "\t<tr><th></th><th scope=col>cond0</th><th scope=col>estimate</th><th scope=col>ci</th><th scope=col>statistic</th><th scope=col>p.value</th></tr>\n",
       "\t<tr><th></th><th scope=col>&lt;chr&gt;</th><th scope=col>&lt;ppj_lbll&gt;</th><th scope=col>&lt;ppj_lbll&gt;</th><th scope=col>&lt;ppj_lbll&gt;</th><th scope=col>&lt;ppj_lbll&gt;</th></tr>\n",
       "</thead>\n",
       "<tbody>\n",
       "\t<tr><th scope=row>noun_F</th><td>noun_F</td><td>-2.25</td><td>$[-3.01$, $-1.50]$</td><td>-6.01</td><td>&lt; .001</td></tr>\n",
       "\t<tr><th scope=row>noun_M</th><td>noun_M</td><td>-1.75</td><td>$[-2.50$, $-0.99]$</td><td>-4.66</td><td>&lt; .001</td></tr>\n",
       "\t<tr><th scope=row>verb_X</th><td>verb_X</td><td>-1.52</td><td>$[-2.27$, $-0.77]$</td><td>-4.06</td><td>&lt; .001</td></tr>\n",
       "</tbody>\n",
       "</table>\n"
      ],
      "text/latex": [
       "A apa\\_results\\_table: 3 × 5\n",
       "\\begin{tabular}{r|lllll}\n",
       "  & cond0 & estimate & ci & statistic & p.value\\\\\n",
       "  & <chr> & <ppj\\_lbll> & <ppj\\_lbll> & <ppj\\_lbll> & <ppj\\_lbll>\\\\\n",
       "\\hline\n",
       "\tnoun\\_F & noun\\_F & -2.25 & \\${[}-3.01\\$, \\$-1.50{]}\\$ & -6.01 & < .001\\\\\n",
       "\tnoun\\_M & noun\\_M & -1.75 & \\${[}-2.50\\$, \\$-0.99{]}\\$ & -4.66 & < .001\\\\\n",
       "\tverb\\_X & verb\\_X & -1.52 & \\${[}-2.27\\$, \\$-0.77{]}\\$ & -4.06 & < .001\\\\\n",
       "\\end{tabular}\n"
      ],
      "text/markdown": [
       "\n",
       "A apa_results_table: 3 × 5\n",
       "\n",
       "| <!--/--> | cond0 &lt;chr&gt; | estimate &lt;ppj_lbll&gt; | ci &lt;ppj_lbll&gt; | statistic &lt;ppj_lbll&gt; | p.value &lt;ppj_lbll&gt; |\n",
       "|---|---|---|---|---|---|\n",
       "| noun_F | noun_F | -2.25 | $[-3.01$, $-1.50]$ | -6.01 | &lt; .001 |\n",
       "| noun_M | noun_M | -1.75 | $[-2.50$, $-0.99]$ | -4.66 | &lt; .001 |\n",
       "| verb_X | verb_X | -1.52 | $[-2.27$, $-0.77]$ | -4.06 | &lt; .001 |\n",
       "\n"
      ],
      "text/plain": [
       "       cond0  estimate ci                 statistic p.value\n",
       "noun_F noun_F -2.25    $[-3.01$, $-1.50]$ -6.01     < .001 \n",
       "noun_M noun_M -1.75    $[-2.50$, $-0.99]$ -4.66     < .001 \n",
       "verb_X verb_X -1.52    $[-2.27$, $-0.77]$ -4.06     < .001 "
      ]
     },
     "metadata": {},
     "output_type": "display_data"
    },
    {
     "data": {
      "text/markdown": [
       "### Paired comparisons for expected marginal means"
      ]
     },
     "metadata": {},
     "output_type": "display_data"
    },
    {
     "data": {
      "text/html": [
       "<table>\n",
       "<caption>A apa_results_table: 3 × 5</caption>\n",
       "<thead>\n",
       "\t<tr><th></th><th scope=col>contrast</th><th scope=col>estimate</th><th scope=col>ci</th><th scope=col>statistic</th><th scope=col>p.value</th></tr>\n",
       "\t<tr><th></th><th scope=col>&lt;ppj_lbll&gt;</th><th scope=col>&lt;ppj_lbll&gt;</th><th scope=col>&lt;ppj_lbll&gt;</th><th scope=col>&lt;ppj_lbll&gt;</th><th scope=col>&lt;ppj_lbll&gt;</th></tr>\n",
       "</thead>\n",
       "<tbody>\n",
       "\t<tr><th scope=row>noun_F_noun_M</th><td>noun_F - noun_M</td><td>-0.51</td><td>$[-0.90$, $-0.11]$</td><td>-3.03</td><td>.009  </td></tr>\n",
       "\t<tr><th scope=row>noun_F_verb_X</th><td>noun_F - verb_X</td><td>-0.73</td><td>$[-1.13$, $-0.34]$</td><td>-4.40</td><td>&lt; .001</td></tr>\n",
       "\t<tr><th scope=row>noun_M_verb_X</th><td>noun_M - verb_X</td><td>-0.23</td><td>$[-0.62$, $0.17]$ </td><td>-1.37</td><td>.364  </td></tr>\n",
       "</tbody>\n",
       "</table>\n"
      ],
      "text/latex": [
       "A apa\\_results\\_table: 3 × 5\n",
       "\\begin{tabular}{r|lllll}\n",
       "  & contrast & estimate & ci & statistic & p.value\\\\\n",
       "  & <ppj\\_lbll> & <ppj\\_lbll> & <ppj\\_lbll> & <ppj\\_lbll> & <ppj\\_lbll>\\\\\n",
       "\\hline\n",
       "\tnoun\\_F\\_noun\\_M & noun\\_F - noun\\_M & -0.51 & \\${[}-0.90\\$, \\$-0.11{]}\\$ & -3.03 & .009  \\\\\n",
       "\tnoun\\_F\\_verb\\_X & noun\\_F - verb\\_X & -0.73 & \\${[}-1.13\\$, \\$-0.34{]}\\$ & -4.40 & < .001\\\\\n",
       "\tnoun\\_M\\_verb\\_X & noun\\_M - verb\\_X & -0.23 & \\${[}-0.62\\$, \\$0.17{]}\\$  & -1.37 & .364  \\\\\n",
       "\\end{tabular}\n"
      ],
      "text/markdown": [
       "\n",
       "A apa_results_table: 3 × 5\n",
       "\n",
       "| <!--/--> | contrast &lt;ppj_lbll&gt; | estimate &lt;ppj_lbll&gt; | ci &lt;ppj_lbll&gt; | statistic &lt;ppj_lbll&gt; | p.value &lt;ppj_lbll&gt; |\n",
       "|---|---|---|---|---|---|\n",
       "| noun_F_noun_M | noun_F - noun_M | -0.51 | $[-0.90$, $-0.11]$ | -3.03 | .009   |\n",
       "| noun_F_verb_X | noun_F - verb_X | -0.73 | $[-1.13$, $-0.34]$ | -4.40 | &lt; .001 |\n",
       "| noun_M_verb_X | noun_M - verb_X | -0.23 | $[-0.62$, $0.17]$  | -1.37 | .364   |\n",
       "\n"
      ],
      "text/plain": [
       "              contrast        estimate ci                 statistic p.value\n",
       "noun_F_noun_M noun_F - noun_M -0.51    $[-0.90$, $-0.11]$ -3.03     .009   \n",
       "noun_F_verb_X noun_F - verb_X -0.73    $[-1.13$, $-0.34]$ -4.40     < .001 \n",
       "noun_M_verb_X noun_M - verb_X -0.23    $[-0.62$, $0.17]$  -1.37     .364   "
      ]
     },
     "metadata": {},
     "output_type": "display_data"
    }
   ],
   "source": [
    "IDX <- IDX+1; COND <- CONDS[IDX]\n",
    "data1 <- droplevels(subset(df1, eval(parse(text=COND)))); data1 <- data1[complete.cases(data1),]; done1 <- AOV4(data1,COND)\n",
    "display_markdown(str_c(\"# Condition \",IDX,\" of \",length(CONDS))); display_markdown(done1$info); display_markdown(\"### Table\"); done1$aov_APA$table; display_markdown(\"### Result\"); display_markdown(done1$aov_APA[[\"full_result\"]][[\"cond0\"]]); display_markdown(\"### Summary (all done1, incl. NANs)\"); done1$summary; display_markdown(\"### Expected marginal means\"); done1$emm_APA$table; display_markdown(\"### Paired comparisons for expected marginal means\"); done1$pairs_APA$table"
   ]
  },
  {
   "cell_type": "code",
   "execution_count": 226,
   "metadata": {},
   "outputs": [
    {
     "name": "stderr",
     "output_type": "stream",
     "text": [
      "Warning message in summary.Anova.mlm(x$Anova):\n",
      "“HF eps > 1 treated as 1”\n"
     ]
    },
    {
     "data": {
      "text/markdown": [
       "# Condition 59 of 72"
      ]
     },
     "metadata": {},
     "output_type": "display_data"
    },
    {
     "data": {
      "text/markdown": [
       "`tmin0==0.6 & chan0==\"RP\" & mode0==\"pos\"`"
      ]
     },
     "metadata": {},
     "output_type": "display_data"
    },
    {
     "data": {
      "text/markdown": [
       "### Table"
      ]
     },
     "metadata": {},
     "output_type": "display_data"
    },
    {
     "data": {
      "text/html": [
       "<table>\n",
       "<caption>A apa_results_table: 1 × 7</caption>\n",
       "<thead>\n",
       "\t<tr><th></th><th scope=col>Effect</th><th scope=col>F</th><th scope=col>df1</th><th scope=col>df2</th><th scope=col>MSE</th><th scope=col>p</th><th scope=col>ges</th></tr>\n",
       "\t<tr><th></th><th scope=col>&lt;ppj_lbll&gt;</th><th scope=col>&lt;ppj_lbll&gt;</th><th scope=col>&lt;ppj_lbll&gt;</th><th scope=col>&lt;ppj_lbll&gt;</th><th scope=col>&lt;ppj_lbll&gt;</th><th scope=col>&lt;ppj_lbll&gt;</th><th scope=col>&lt;ppj_lbll&gt;</th></tr>\n",
       "</thead>\n",
       "<tbody>\n",
       "\t<tr><th scope=row>1</th><td>Cond0</td><td>1.75</td><td>1.92</td><td>78.72</td><td>0.47</td><td>.181</td><td>.003</td></tr>\n",
       "</tbody>\n",
       "</table>\n"
      ],
      "text/latex": [
       "A apa\\_results\\_table: 1 × 7\n",
       "\\begin{tabular}{r|lllllll}\n",
       "  & Effect & F & df1 & df2 & MSE & p & ges\\\\\n",
       "  & <ppj\\_lbll> & <ppj\\_lbll> & <ppj\\_lbll> & <ppj\\_lbll> & <ppj\\_lbll> & <ppj\\_lbll> & <ppj\\_lbll>\\\\\n",
       "\\hline\n",
       "\t1 & Cond0 & 1.75 & 1.92 & 78.72 & 0.47 & .181 & .003\\\\\n",
       "\\end{tabular}\n"
      ],
      "text/markdown": [
       "\n",
       "A apa_results_table: 1 × 7\n",
       "\n",
       "| <!--/--> | Effect &lt;ppj_lbll&gt; | F &lt;ppj_lbll&gt; | df1 &lt;ppj_lbll&gt; | df2 &lt;ppj_lbll&gt; | MSE &lt;ppj_lbll&gt; | p &lt;ppj_lbll&gt; | ges &lt;ppj_lbll&gt; |\n",
       "|---|---|---|---|---|---|---|---|\n",
       "| 1 | Cond0 | 1.75 | 1.92 | 78.72 | 0.47 | .181 | .003 |\n",
       "\n"
      ],
      "text/plain": [
       "  Effect F    df1  df2   MSE  p    ges \n",
       "1 Cond0  1.75 1.92 78.72 0.47 .181 .003"
      ]
     },
     "metadata": {},
     "output_type": "display_data"
    },
    {
     "data": {
      "text/markdown": [
       "### Result"
      ]
     },
     "metadata": {},
     "output_type": "display_data"
    },
    {
     "data": {
      "text/markdown": [
       "$F(1.92, 78.72) = 1.75$, $\\mathit{MSE} = 0.47$, $p = .181$, $\\hat{\\eta}^2_G = .003$"
      ]
     },
     "metadata": {},
     "output_type": "display_data"
    },
    {
     "data": {
      "text/markdown": [
       "### Summary (all done1, incl. NANs)"
      ]
     },
     "metadata": {},
     "output_type": "display_data"
    },
    {
     "data": {
      "text/html": [
       "<table>\n",
       "<caption>A tibble: 3 × 5</caption>\n",
       "<thead>\n",
       "\t<tr><th scope=col>cond0</th><th scope=col>N</th><th scope=col>valX_M</th><th scope=col>valX_SD</th><th scope=col>valX_SE</th></tr>\n",
       "\t<tr><th scope=col>&lt;fct&gt;</th><th scope=col>&lt;int&gt;</th><th scope=col>&lt;dbl&gt;</th><th scope=col>&lt;dbl&gt;</th><th scope=col>&lt;dbl&gt;</th></tr>\n",
       "</thead>\n",
       "<tbody>\n",
       "\t<tr><td>noun_F</td><td>42</td><td>2.367871</td><td>2.104310</td><td>0.3247021</td></tr>\n",
       "\t<tr><td>noun_M</td><td>42</td><td>2.623882</td><td>2.232243</td><td>0.3444426</td></tr>\n",
       "\t<tr><td>verb_X</td><td>42</td><td>2.408902</td><td>1.933264</td><td>0.2983091</td></tr>\n",
       "</tbody>\n",
       "</table>\n"
      ],
      "text/latex": [
       "A tibble: 3 × 5\n",
       "\\begin{tabular}{lllll}\n",
       " cond0 & N & valX\\_M & valX\\_SD & valX\\_SE\\\\\n",
       " <fct> & <int> & <dbl> & <dbl> & <dbl>\\\\\n",
       "\\hline\n",
       "\t noun\\_F & 42 & 2.367871 & 2.104310 & 0.3247021\\\\\n",
       "\t noun\\_M & 42 & 2.623882 & 2.232243 & 0.3444426\\\\\n",
       "\t verb\\_X & 42 & 2.408902 & 1.933264 & 0.2983091\\\\\n",
       "\\end{tabular}\n"
      ],
      "text/markdown": [
       "\n",
       "A tibble: 3 × 5\n",
       "\n",
       "| cond0 &lt;fct&gt; | N &lt;int&gt; | valX_M &lt;dbl&gt; | valX_SD &lt;dbl&gt; | valX_SE &lt;dbl&gt; |\n",
       "|---|---|---|---|---|\n",
       "| noun_F | 42 | 2.367871 | 2.104310 | 0.3247021 |\n",
       "| noun_M | 42 | 2.623882 | 2.232243 | 0.3444426 |\n",
       "| verb_X | 42 | 2.408902 | 1.933264 | 0.2983091 |\n",
       "\n"
      ],
      "text/plain": [
       "  cond0  N  valX_M   valX_SD  valX_SE  \n",
       "1 noun_F 42 2.367871 2.104310 0.3247021\n",
       "2 noun_M 42 2.623882 2.232243 0.3444426\n",
       "3 verb_X 42 2.408902 1.933264 0.2983091"
      ]
     },
     "metadata": {},
     "output_type": "display_data"
    },
    {
     "data": {
      "text/markdown": [
       "### Expected marginal means"
      ]
     },
     "metadata": {},
     "output_type": "display_data"
    },
    {
     "data": {
      "text/html": [
       "<table>\n",
       "<caption>A apa_results_table: 3 × 5</caption>\n",
       "<thead>\n",
       "\t<tr><th></th><th scope=col>cond0</th><th scope=col>estimate</th><th scope=col>ci</th><th scope=col>statistic</th><th scope=col>p.value</th></tr>\n",
       "\t<tr><th></th><th scope=col>&lt;chr&gt;</th><th scope=col>&lt;ppj_lbll&gt;</th><th scope=col>&lt;ppj_lbll&gt;</th><th scope=col>&lt;ppj_lbll&gt;</th><th scope=col>&lt;ppj_lbll&gt;</th></tr>\n",
       "</thead>\n",
       "<tbody>\n",
       "\t<tr><th scope=row>noun_F</th><td>noun_F</td><td>2.37</td><td>$[1.72$, $3.02]$</td><td>7.33</td><td>&lt; .001</td></tr>\n",
       "\t<tr><th scope=row>noun_M</th><td>noun_M</td><td>2.62</td><td>$[1.97$, $3.27]$</td><td>8.12</td><td>&lt; .001</td></tr>\n",
       "\t<tr><th scope=row>verb_X</th><td>verb_X</td><td>2.41</td><td>$[1.76$, $3.06]$</td><td>7.46</td><td>&lt; .001</td></tr>\n",
       "</tbody>\n",
       "</table>\n"
      ],
      "text/latex": [
       "A apa\\_results\\_table: 3 × 5\n",
       "\\begin{tabular}{r|lllll}\n",
       "  & cond0 & estimate & ci & statistic & p.value\\\\\n",
       "  & <chr> & <ppj\\_lbll> & <ppj\\_lbll> & <ppj\\_lbll> & <ppj\\_lbll>\\\\\n",
       "\\hline\n",
       "\tnoun\\_F & noun\\_F & 2.37 & \\${[}1.72\\$, \\$3.02{]}\\$ & 7.33 & < .001\\\\\n",
       "\tnoun\\_M & noun\\_M & 2.62 & \\${[}1.97\\$, \\$3.27{]}\\$ & 8.12 & < .001\\\\\n",
       "\tverb\\_X & verb\\_X & 2.41 & \\${[}1.76\\$, \\$3.06{]}\\$ & 7.46 & < .001\\\\\n",
       "\\end{tabular}\n"
      ],
      "text/markdown": [
       "\n",
       "A apa_results_table: 3 × 5\n",
       "\n",
       "| <!--/--> | cond0 &lt;chr&gt; | estimate &lt;ppj_lbll&gt; | ci &lt;ppj_lbll&gt; | statistic &lt;ppj_lbll&gt; | p.value &lt;ppj_lbll&gt; |\n",
       "|---|---|---|---|---|---|\n",
       "| noun_F | noun_F | 2.37 | $[1.72$, $3.02]$ | 7.33 | &lt; .001 |\n",
       "| noun_M | noun_M | 2.62 | $[1.97$, $3.27]$ | 8.12 | &lt; .001 |\n",
       "| verb_X | verb_X | 2.41 | $[1.76$, $3.06]$ | 7.46 | &lt; .001 |\n",
       "\n"
      ],
      "text/plain": [
       "       cond0  estimate ci               statistic p.value\n",
       "noun_F noun_F 2.37     $[1.72$, $3.02]$ 7.33      < .001 \n",
       "noun_M noun_M 2.62     $[1.97$, $3.27]$ 8.12      < .001 \n",
       "verb_X verb_X 2.41     $[1.76$, $3.06]$ 7.46      < .001 "
      ]
     },
     "metadata": {},
     "output_type": "display_data"
    },
    {
     "data": {
      "text/markdown": [
       "### Paired comparisons for expected marginal means"
      ]
     },
     "metadata": {},
     "output_type": "display_data"
    },
    {
     "data": {
      "text/html": [
       "<table>\n",
       "<caption>A apa_results_table: 3 × 5</caption>\n",
       "<thead>\n",
       "\t<tr><th></th><th scope=col>contrast</th><th scope=col>estimate</th><th scope=col>ci</th><th scope=col>statistic</th><th scope=col>p.value</th></tr>\n",
       "\t<tr><th></th><th scope=col>&lt;ppj_lbll&gt;</th><th scope=col>&lt;ppj_lbll&gt;</th><th scope=col>&lt;ppj_lbll&gt;</th><th scope=col>&lt;ppj_lbll&gt;</th><th scope=col>&lt;ppj_lbll&gt;</th></tr>\n",
       "</thead>\n",
       "<tbody>\n",
       "\t<tr><th scope=row>noun_F_noun_M</th><td>noun_F - noun_M</td><td>-0.26</td><td>$[-0.61$, $0.09]$</td><td>-1.74</td><td>.195</td></tr>\n",
       "\t<tr><th scope=row>noun_F_verb_X</th><td>noun_F - verb_X</td><td>-0.04</td><td>$[-0.39$, $0.31]$</td><td>-0.28</td><td>.958</td></tr>\n",
       "\t<tr><th scope=row>noun_M_verb_X</th><td>noun_M - verb_X</td><td>0.21 </td><td>$[-0.14$, $0.57]$</td><td>1.46 </td><td>.313</td></tr>\n",
       "</tbody>\n",
       "</table>\n"
      ],
      "text/latex": [
       "A apa\\_results\\_table: 3 × 5\n",
       "\\begin{tabular}{r|lllll}\n",
       "  & contrast & estimate & ci & statistic & p.value\\\\\n",
       "  & <ppj\\_lbll> & <ppj\\_lbll> & <ppj\\_lbll> & <ppj\\_lbll> & <ppj\\_lbll>\\\\\n",
       "\\hline\n",
       "\tnoun\\_F\\_noun\\_M & noun\\_F - noun\\_M & -0.26 & \\${[}-0.61\\$, \\$0.09{]}\\$ & -1.74 & .195\\\\\n",
       "\tnoun\\_F\\_verb\\_X & noun\\_F - verb\\_X & -0.04 & \\${[}-0.39\\$, \\$0.31{]}\\$ & -0.28 & .958\\\\\n",
       "\tnoun\\_M\\_verb\\_X & noun\\_M - verb\\_X & 0.21  & \\${[}-0.14\\$, \\$0.57{]}\\$ & 1.46  & .313\\\\\n",
       "\\end{tabular}\n"
      ],
      "text/markdown": [
       "\n",
       "A apa_results_table: 3 × 5\n",
       "\n",
       "| <!--/--> | contrast &lt;ppj_lbll&gt; | estimate &lt;ppj_lbll&gt; | ci &lt;ppj_lbll&gt; | statistic &lt;ppj_lbll&gt; | p.value &lt;ppj_lbll&gt; |\n",
       "|---|---|---|---|---|---|\n",
       "| noun_F_noun_M | noun_F - noun_M | -0.26 | $[-0.61$, $0.09]$ | -1.74 | .195 |\n",
       "| noun_F_verb_X | noun_F - verb_X | -0.04 | $[-0.39$, $0.31]$ | -0.28 | .958 |\n",
       "| noun_M_verb_X | noun_M - verb_X | 0.21  | $[-0.14$, $0.57]$ | 1.46  | .313 |\n",
       "\n"
      ],
      "text/plain": [
       "              contrast        estimate ci                statistic p.value\n",
       "noun_F_noun_M noun_F - noun_M -0.26    $[-0.61$, $0.09]$ -1.74     .195   \n",
       "noun_F_verb_X noun_F - verb_X -0.04    $[-0.39$, $0.31]$ -0.28     .958   \n",
       "noun_M_verb_X noun_M - verb_X 0.21     $[-0.14$, $0.57]$ 1.46      .313   "
      ]
     },
     "metadata": {},
     "output_type": "display_data"
    }
   ],
   "source": [
    "IDX <- IDX+1; COND <- CONDS[IDX]\n",
    "data1 <- droplevels(subset(df1, eval(parse(text=COND)))); data1 <- data1[complete.cases(data1),]; done1 <- AOV4(data1,COND)\n",
    "display_markdown(str_c(\"# Condition \",IDX,\" of \",length(CONDS))); display_markdown(done1$info); display_markdown(\"### Table\"); done1$aov_APA$table; display_markdown(\"### Result\"); display_markdown(done1$aov_APA[[\"full_result\"]][[\"cond0\"]]); display_markdown(\"### Summary (all done1, incl. NANs)\"); done1$summary; display_markdown(\"### Expected marginal means\"); done1$emm_APA$table; display_markdown(\"### Paired comparisons for expected marginal means\"); done1$pairs_APA$table"
   ]
  },
  {
   "cell_type": "code",
   "execution_count": 227,
   "metadata": {},
   "outputs": [
    {
     "data": {
      "text/markdown": [
       "# Condition 60 of 72"
      ]
     },
     "metadata": {},
     "output_type": "display_data"
    },
    {
     "data": {
      "text/markdown": [
       "`tmin0==0.6 & chan0==\"RP\" & mode0==\"neg\"`"
      ]
     },
     "metadata": {},
     "output_type": "display_data"
    },
    {
     "data": {
      "text/markdown": [
       "### Table"
      ]
     },
     "metadata": {},
     "output_type": "display_data"
    },
    {
     "data": {
      "text/html": [
       "<table>\n",
       "<caption>A apa_results_table: 1 × 7</caption>\n",
       "<thead>\n",
       "\t<tr><th></th><th scope=col>Effect</th><th scope=col>F</th><th scope=col>df1</th><th scope=col>df2</th><th scope=col>MSE</th><th scope=col>p</th><th scope=col>ges</th></tr>\n",
       "\t<tr><th></th><th scope=col>&lt;ppj_lbll&gt;</th><th scope=col>&lt;ppj_lbll&gt;</th><th scope=col>&lt;ppj_lbll&gt;</th><th scope=col>&lt;ppj_lbll&gt;</th><th scope=col>&lt;ppj_lbll&gt;</th><th scope=col>&lt;ppj_lbll&gt;</th><th scope=col>&lt;ppj_lbll&gt;</th></tr>\n",
       "</thead>\n",
       "<tbody>\n",
       "\t<tr><th scope=row>1</th><td>Cond0</td><td>6.13</td><td>1.69</td><td>69.24</td><td>0.80</td><td>.006</td><td>.009</td></tr>\n",
       "</tbody>\n",
       "</table>\n"
      ],
      "text/latex": [
       "A apa\\_results\\_table: 1 × 7\n",
       "\\begin{tabular}{r|lllllll}\n",
       "  & Effect & F & df1 & df2 & MSE & p & ges\\\\\n",
       "  & <ppj\\_lbll> & <ppj\\_lbll> & <ppj\\_lbll> & <ppj\\_lbll> & <ppj\\_lbll> & <ppj\\_lbll> & <ppj\\_lbll>\\\\\n",
       "\\hline\n",
       "\t1 & Cond0 & 6.13 & 1.69 & 69.24 & 0.80 & .006 & .009\\\\\n",
       "\\end{tabular}\n"
      ],
      "text/markdown": [
       "\n",
       "A apa_results_table: 1 × 7\n",
       "\n",
       "| <!--/--> | Effect &lt;ppj_lbll&gt; | F &lt;ppj_lbll&gt; | df1 &lt;ppj_lbll&gt; | df2 &lt;ppj_lbll&gt; | MSE &lt;ppj_lbll&gt; | p &lt;ppj_lbll&gt; | ges &lt;ppj_lbll&gt; |\n",
       "|---|---|---|---|---|---|---|---|\n",
       "| 1 | Cond0 | 6.13 | 1.69 | 69.24 | 0.80 | .006 | .009 |\n",
       "\n"
      ],
      "text/plain": [
       "  Effect F    df1  df2   MSE  p    ges \n",
       "1 Cond0  6.13 1.69 69.24 0.80 .006 .009"
      ]
     },
     "metadata": {},
     "output_type": "display_data"
    },
    {
     "data": {
      "text/markdown": [
       "### Result"
      ]
     },
     "metadata": {},
     "output_type": "display_data"
    },
    {
     "data": {
      "text/markdown": [
       "$F(1.69, 69.24) = 6.13$, $\\mathit{MSE} = 0.80$, $p = .006$, $\\hat{\\eta}^2_G = .009$"
      ]
     },
     "metadata": {},
     "output_type": "display_data"
    },
    {
     "data": {
      "text/markdown": [
       "### Summary (all done1, incl. NANs)"
      ]
     },
     "metadata": {},
     "output_type": "display_data"
    },
    {
     "data": {
      "text/html": [
       "<table>\n",
       "<caption>A tibble: 3 × 5</caption>\n",
       "<thead>\n",
       "\t<tr><th scope=col>cond0</th><th scope=col>N</th><th scope=col>valX_M</th><th scope=col>valX_SD</th><th scope=col>valX_SE</th></tr>\n",
       "\t<tr><th scope=col>&lt;fct&gt;</th><th scope=col>&lt;int&gt;</th><th scope=col>&lt;dbl&gt;</th><th scope=col>&lt;dbl&gt;</th><th scope=col>&lt;dbl&gt;</th></tr>\n",
       "</thead>\n",
       "<tbody>\n",
       "\t<tr><td>noun_F</td><td>42</td><td>-0.2944131</td><td>3.049104</td><td>0.4704870</td></tr>\n",
       "\t<tr><td>noun_M</td><td>42</td><td> 0.1770048</td><td>2.502737</td><td>0.3861808</td></tr>\n",
       "\t<tr><td>verb_X</td><td>42</td><td> 0.2981776</td><td>2.547928</td><td>0.3931539</td></tr>\n",
       "</tbody>\n",
       "</table>\n"
      ],
      "text/latex": [
       "A tibble: 3 × 5\n",
       "\\begin{tabular}{lllll}\n",
       " cond0 & N & valX\\_M & valX\\_SD & valX\\_SE\\\\\n",
       " <fct> & <int> & <dbl> & <dbl> & <dbl>\\\\\n",
       "\\hline\n",
       "\t noun\\_F & 42 & -0.2944131 & 3.049104 & 0.4704870\\\\\n",
       "\t noun\\_M & 42 &  0.1770048 & 2.502737 & 0.3861808\\\\\n",
       "\t verb\\_X & 42 &  0.2981776 & 2.547928 & 0.3931539\\\\\n",
       "\\end{tabular}\n"
      ],
      "text/markdown": [
       "\n",
       "A tibble: 3 × 5\n",
       "\n",
       "| cond0 &lt;fct&gt; | N &lt;int&gt; | valX_M &lt;dbl&gt; | valX_SD &lt;dbl&gt; | valX_SE &lt;dbl&gt; |\n",
       "|---|---|---|---|---|\n",
       "| noun_F | 42 | -0.2944131 | 3.049104 | 0.4704870 |\n",
       "| noun_M | 42 |  0.1770048 | 2.502737 | 0.3861808 |\n",
       "| verb_X | 42 |  0.2981776 | 2.547928 | 0.3931539 |\n",
       "\n"
      ],
      "text/plain": [
       "  cond0  N  valX_M     valX_SD  valX_SE  \n",
       "1 noun_F 42 -0.2944131 3.049104 0.4704870\n",
       "2 noun_M 42  0.1770048 2.502737 0.3861808\n",
       "3 verb_X 42  0.2981776 2.547928 0.3931539"
      ]
     },
     "metadata": {},
     "output_type": "display_data"
    },
    {
     "data": {
      "text/markdown": [
       "### Expected marginal means"
      ]
     },
     "metadata": {},
     "output_type": "display_data"
    },
    {
     "data": {
      "text/html": [
       "<table>\n",
       "<caption>A apa_results_table: 3 × 5</caption>\n",
       "<thead>\n",
       "\t<tr><th></th><th scope=col>cond0</th><th scope=col>estimate</th><th scope=col>ci</th><th scope=col>statistic</th><th scope=col>p.value</th></tr>\n",
       "\t<tr><th></th><th scope=col>&lt;chr&gt;</th><th scope=col>&lt;ppj_lbll&gt;</th><th scope=col>&lt;ppj_lbll&gt;</th><th scope=col>&lt;ppj_lbll&gt;</th><th scope=col>&lt;ppj_lbll&gt;</th></tr>\n",
       "</thead>\n",
       "<tbody>\n",
       "\t<tr><th scope=row>noun_F</th><td>noun_F</td><td>-0.29</td><td>$[-1.14$, $0.55]$</td><td>-0.70</td><td>.485</td></tr>\n",
       "\t<tr><th scope=row>noun_M</th><td>noun_M</td><td>0.18 </td><td>$[-0.66$, $1.02]$</td><td>0.42 </td><td>.674</td></tr>\n",
       "\t<tr><th scope=row>verb_X</th><td>verb_X</td><td>0.30 </td><td>$[-0.54$, $1.14]$</td><td>0.71 </td><td>.480</td></tr>\n",
       "</tbody>\n",
       "</table>\n"
      ],
      "text/latex": [
       "A apa\\_results\\_table: 3 × 5\n",
       "\\begin{tabular}{r|lllll}\n",
       "  & cond0 & estimate & ci & statistic & p.value\\\\\n",
       "  & <chr> & <ppj\\_lbll> & <ppj\\_lbll> & <ppj\\_lbll> & <ppj\\_lbll>\\\\\n",
       "\\hline\n",
       "\tnoun\\_F & noun\\_F & -0.29 & \\${[}-1.14\\$, \\$0.55{]}\\$ & -0.70 & .485\\\\\n",
       "\tnoun\\_M & noun\\_M & 0.18  & \\${[}-0.66\\$, \\$1.02{]}\\$ & 0.42  & .674\\\\\n",
       "\tverb\\_X & verb\\_X & 0.30  & \\${[}-0.54\\$, \\$1.14{]}\\$ & 0.71  & .480\\\\\n",
       "\\end{tabular}\n"
      ],
      "text/markdown": [
       "\n",
       "A apa_results_table: 3 × 5\n",
       "\n",
       "| <!--/--> | cond0 &lt;chr&gt; | estimate &lt;ppj_lbll&gt; | ci &lt;ppj_lbll&gt; | statistic &lt;ppj_lbll&gt; | p.value &lt;ppj_lbll&gt; |\n",
       "|---|---|---|---|---|---|\n",
       "| noun_F | noun_F | -0.29 | $[-1.14$, $0.55]$ | -0.70 | .485 |\n",
       "| noun_M | noun_M | 0.18  | $[-0.66$, $1.02]$ | 0.42  | .674 |\n",
       "| verb_X | verb_X | 0.30  | $[-0.54$, $1.14]$ | 0.71  | .480 |\n",
       "\n"
      ],
      "text/plain": [
       "       cond0  estimate ci                statistic p.value\n",
       "noun_F noun_F -0.29    $[-1.14$, $0.55]$ -0.70     .485   \n",
       "noun_M noun_M 0.18     $[-0.66$, $1.02]$ 0.42      .674   \n",
       "verb_X verb_X 0.30     $[-0.54$, $1.14]$ 0.71      .480   "
      ]
     },
     "metadata": {},
     "output_type": "display_data"
    },
    {
     "data": {
      "text/markdown": [
       "### Paired comparisons for expected marginal means"
      ]
     },
     "metadata": {},
     "output_type": "display_data"
    },
    {
     "data": {
      "text/html": [
       "<table>\n",
       "<caption>A apa_results_table: 3 × 5</caption>\n",
       "<thead>\n",
       "\t<tr><th></th><th scope=col>contrast</th><th scope=col>estimate</th><th scope=col>ci</th><th scope=col>statistic</th><th scope=col>p.value</th></tr>\n",
       "\t<tr><th></th><th scope=col>&lt;ppj_lbll&gt;</th><th scope=col>&lt;ppj_lbll&gt;</th><th scope=col>&lt;ppj_lbll&gt;</th><th scope=col>&lt;ppj_lbll&gt;</th><th scope=col>&lt;ppj_lbll&gt;</th></tr>\n",
       "</thead>\n",
       "<tbody>\n",
       "\t<tr><th scope=row>noun_F_noun_M</th><td>noun_F - noun_M</td><td>-0.47</td><td>$[-0.90$, $-0.04]$</td><td>-2.64</td><td>.027</td></tr>\n",
       "\t<tr><th scope=row>noun_F_verb_X</th><td>noun_F - verb_X</td><td>-0.59</td><td>$[-1.02$, $-0.17]$</td><td>-3.31</td><td>.004</td></tr>\n",
       "\t<tr><th scope=row>noun_M_verb_X</th><td>noun_M - verb_X</td><td>-0.12</td><td>$[-0.55$, $0.31]$ </td><td>-0.68</td><td>.777</td></tr>\n",
       "</tbody>\n",
       "</table>\n"
      ],
      "text/latex": [
       "A apa\\_results\\_table: 3 × 5\n",
       "\\begin{tabular}{r|lllll}\n",
       "  & contrast & estimate & ci & statistic & p.value\\\\\n",
       "  & <ppj\\_lbll> & <ppj\\_lbll> & <ppj\\_lbll> & <ppj\\_lbll> & <ppj\\_lbll>\\\\\n",
       "\\hline\n",
       "\tnoun\\_F\\_noun\\_M & noun\\_F - noun\\_M & -0.47 & \\${[}-0.90\\$, \\$-0.04{]}\\$ & -2.64 & .027\\\\\n",
       "\tnoun\\_F\\_verb\\_X & noun\\_F - verb\\_X & -0.59 & \\${[}-1.02\\$, \\$-0.17{]}\\$ & -3.31 & .004\\\\\n",
       "\tnoun\\_M\\_verb\\_X & noun\\_M - verb\\_X & -0.12 & \\${[}-0.55\\$, \\$0.31{]}\\$  & -0.68 & .777\\\\\n",
       "\\end{tabular}\n"
      ],
      "text/markdown": [
       "\n",
       "A apa_results_table: 3 × 5\n",
       "\n",
       "| <!--/--> | contrast &lt;ppj_lbll&gt; | estimate &lt;ppj_lbll&gt; | ci &lt;ppj_lbll&gt; | statistic &lt;ppj_lbll&gt; | p.value &lt;ppj_lbll&gt; |\n",
       "|---|---|---|---|---|---|\n",
       "| noun_F_noun_M | noun_F - noun_M | -0.47 | $[-0.90$, $-0.04]$ | -2.64 | .027 |\n",
       "| noun_F_verb_X | noun_F - verb_X | -0.59 | $[-1.02$, $-0.17]$ | -3.31 | .004 |\n",
       "| noun_M_verb_X | noun_M - verb_X | -0.12 | $[-0.55$, $0.31]$  | -0.68 | .777 |\n",
       "\n"
      ],
      "text/plain": [
       "              contrast        estimate ci                 statistic p.value\n",
       "noun_F_noun_M noun_F - noun_M -0.47    $[-0.90$, $-0.04]$ -2.64     .027   \n",
       "noun_F_verb_X noun_F - verb_X -0.59    $[-1.02$, $-0.17]$ -3.31     .004   \n",
       "noun_M_verb_X noun_M - verb_X -0.12    $[-0.55$, $0.31]$  -0.68     .777   "
      ]
     },
     "metadata": {},
     "output_type": "display_data"
    }
   ],
   "source": [
    "IDX <- IDX+1; COND <- CONDS[IDX]\n",
    "data1 <- droplevels(subset(df1, eval(parse(text=COND)))); data1 <- data1[complete.cases(data1),]; done1 <- AOV4(data1,COND)\n",
    "display_markdown(str_c(\"# Condition \",IDX,\" of \",length(CONDS))); display_markdown(done1$info); display_markdown(\"### Table\"); done1$aov_APA$table; display_markdown(\"### Result\"); display_markdown(done1$aov_APA[[\"full_result\"]][[\"cond0\"]]); display_markdown(\"### Summary (all done1, incl. NANs)\"); done1$summary; display_markdown(\"### Expected marginal means\"); done1$emm_APA$table; display_markdown(\"### Paired comparisons for expected marginal means\"); done1$pairs_APA$table"
   ]
  },
  {
   "cell_type": "code",
   "execution_count": 228,
   "metadata": {},
   "outputs": [
    {
     "data": {
      "text/markdown": [
       "# Condition 61 of 72"
      ]
     },
     "metadata": {},
     "output_type": "display_data"
    },
    {
     "data": {
      "text/markdown": [
       "`tmin0==0.11 & chan0==\"LF\" & mode0==\"pos\"`"
      ]
     },
     "metadata": {},
     "output_type": "display_data"
    },
    {
     "data": {
      "text/markdown": [
       "### Table"
      ]
     },
     "metadata": {},
     "output_type": "display_data"
    },
    {
     "data": {
      "text/html": [
       "<table>\n",
       "<caption>A apa_results_table: 1 × 7</caption>\n",
       "<thead>\n",
       "\t<tr><th></th><th scope=col>Effect</th><th scope=col>F</th><th scope=col>df1</th><th scope=col>df2</th><th scope=col>MSE</th><th scope=col>p</th><th scope=col>ges</th></tr>\n",
       "\t<tr><th></th><th scope=col>&lt;ppj_lbll&gt;</th><th scope=col>&lt;ppj_lbll&gt;</th><th scope=col>&lt;ppj_lbll&gt;</th><th scope=col>&lt;ppj_lbll&gt;</th><th scope=col>&lt;ppj_lbll&gt;</th><th scope=col>&lt;ppj_lbll&gt;</th><th scope=col>&lt;ppj_lbll&gt;</th></tr>\n",
       "</thead>\n",
       "<tbody>\n",
       "\t<tr><th scope=row>1</th><td>Cond0</td><td>3.56</td><td>1.75</td><td>71.85</td><td>0.33</td><td>.039</td><td>.011</td></tr>\n",
       "</tbody>\n",
       "</table>\n"
      ],
      "text/latex": [
       "A apa\\_results\\_table: 1 × 7\n",
       "\\begin{tabular}{r|lllllll}\n",
       "  & Effect & F & df1 & df2 & MSE & p & ges\\\\\n",
       "  & <ppj\\_lbll> & <ppj\\_lbll> & <ppj\\_lbll> & <ppj\\_lbll> & <ppj\\_lbll> & <ppj\\_lbll> & <ppj\\_lbll>\\\\\n",
       "\\hline\n",
       "\t1 & Cond0 & 3.56 & 1.75 & 71.85 & 0.33 & .039 & .011\\\\\n",
       "\\end{tabular}\n"
      ],
      "text/markdown": [
       "\n",
       "A apa_results_table: 1 × 7\n",
       "\n",
       "| <!--/--> | Effect &lt;ppj_lbll&gt; | F &lt;ppj_lbll&gt; | df1 &lt;ppj_lbll&gt; | df2 &lt;ppj_lbll&gt; | MSE &lt;ppj_lbll&gt; | p &lt;ppj_lbll&gt; | ges &lt;ppj_lbll&gt; |\n",
       "|---|---|---|---|---|---|---|---|\n",
       "| 1 | Cond0 | 3.56 | 1.75 | 71.85 | 0.33 | .039 | .011 |\n",
       "\n"
      ],
      "text/plain": [
       "  Effect F    df1  df2   MSE  p    ges \n",
       "1 Cond0  3.56 1.75 71.85 0.33 .039 .011"
      ]
     },
     "metadata": {},
     "output_type": "display_data"
    },
    {
     "data": {
      "text/markdown": [
       "### Result"
      ]
     },
     "metadata": {},
     "output_type": "display_data"
    },
    {
     "data": {
      "text/markdown": [
       "$F(1.75, 71.85) = 3.56$, $\\mathit{MSE} = 0.33$, $p = .039$, $\\hat{\\eta}^2_G = .011$"
      ]
     },
     "metadata": {},
     "output_type": "display_data"
    },
    {
     "data": {
      "text/markdown": [
       "### Summary (all done1, incl. NANs)"
      ]
     },
     "metadata": {},
     "output_type": "display_data"
    },
    {
     "data": {
      "text/html": [
       "<table>\n",
       "<caption>A tibble: 3 × 5</caption>\n",
       "<thead>\n",
       "\t<tr><th scope=col>cond0</th><th scope=col>N</th><th scope=col>valX_M</th><th scope=col>valX_SD</th><th scope=col>valX_SE</th></tr>\n",
       "\t<tr><th scope=col>&lt;fct&gt;</th><th scope=col>&lt;int&gt;</th><th scope=col>&lt;dbl&gt;</th><th scope=col>&lt;dbl&gt;</th><th scope=col>&lt;dbl&gt;</th></tr>\n",
       "</thead>\n",
       "<tbody>\n",
       "\t<tr><td>noun_F</td><td>42</td><td>-0.7275727</td><td>1.416942</td><td>0.2186389</td></tr>\n",
       "\t<tr><td>noun_M</td><td>42</td><td>-1.0345865</td><td>1.194638</td><td>0.1843367</td></tr>\n",
       "\t<tr><td>verb_X</td><td>42</td><td>-0.9408438</td><td>1.062997</td><td>0.1640240</td></tr>\n",
       "</tbody>\n",
       "</table>\n"
      ],
      "text/latex": [
       "A tibble: 3 × 5\n",
       "\\begin{tabular}{lllll}\n",
       " cond0 & N & valX\\_M & valX\\_SD & valX\\_SE\\\\\n",
       " <fct> & <int> & <dbl> & <dbl> & <dbl>\\\\\n",
       "\\hline\n",
       "\t noun\\_F & 42 & -0.7275727 & 1.416942 & 0.2186389\\\\\n",
       "\t noun\\_M & 42 & -1.0345865 & 1.194638 & 0.1843367\\\\\n",
       "\t verb\\_X & 42 & -0.9408438 & 1.062997 & 0.1640240\\\\\n",
       "\\end{tabular}\n"
      ],
      "text/markdown": [
       "\n",
       "A tibble: 3 × 5\n",
       "\n",
       "| cond0 &lt;fct&gt; | N &lt;int&gt; | valX_M &lt;dbl&gt; | valX_SD &lt;dbl&gt; | valX_SE &lt;dbl&gt; |\n",
       "|---|---|---|---|---|\n",
       "| noun_F | 42 | -0.7275727 | 1.416942 | 0.2186389 |\n",
       "| noun_M | 42 | -1.0345865 | 1.194638 | 0.1843367 |\n",
       "| verb_X | 42 | -0.9408438 | 1.062997 | 0.1640240 |\n",
       "\n"
      ],
      "text/plain": [
       "  cond0  N  valX_M     valX_SD  valX_SE  \n",
       "1 noun_F 42 -0.7275727 1.416942 0.2186389\n",
       "2 noun_M 42 -1.0345865 1.194638 0.1843367\n",
       "3 verb_X 42 -0.9408438 1.062997 0.1640240"
      ]
     },
     "metadata": {},
     "output_type": "display_data"
    },
    {
     "data": {
      "text/markdown": [
       "### Expected marginal means"
      ]
     },
     "metadata": {},
     "output_type": "display_data"
    },
    {
     "data": {
      "text/html": [
       "<table>\n",
       "<caption>A apa_results_table: 3 × 5</caption>\n",
       "<thead>\n",
       "\t<tr><th></th><th scope=col>cond0</th><th scope=col>estimate</th><th scope=col>ci</th><th scope=col>statistic</th><th scope=col>p.value</th></tr>\n",
       "\t<tr><th></th><th scope=col>&lt;chr&gt;</th><th scope=col>&lt;ppj_lbll&gt;</th><th scope=col>&lt;ppj_lbll&gt;</th><th scope=col>&lt;ppj_lbll&gt;</th><th scope=col>&lt;ppj_lbll&gt;</th></tr>\n",
       "</thead>\n",
       "<tbody>\n",
       "\t<tr><th scope=row>noun_F</th><td>noun_F</td><td>-0.73</td><td>$[-1.11$, $-0.35]$</td><td>-3.82</td><td>&lt; .001</td></tr>\n",
       "\t<tr><th scope=row>noun_M</th><td>noun_M</td><td>-1.03</td><td>$[-1.42$, $-0.65]$</td><td>-5.44</td><td>&lt; .001</td></tr>\n",
       "\t<tr><th scope=row>verb_X</th><td>verb_X</td><td>-0.94</td><td>$[-1.32$, $-0.56]$</td><td>-4.94</td><td>&lt; .001</td></tr>\n",
       "</tbody>\n",
       "</table>\n"
      ],
      "text/latex": [
       "A apa\\_results\\_table: 3 × 5\n",
       "\\begin{tabular}{r|lllll}\n",
       "  & cond0 & estimate & ci & statistic & p.value\\\\\n",
       "  & <chr> & <ppj\\_lbll> & <ppj\\_lbll> & <ppj\\_lbll> & <ppj\\_lbll>\\\\\n",
       "\\hline\n",
       "\tnoun\\_F & noun\\_F & -0.73 & \\${[}-1.11\\$, \\$-0.35{]}\\$ & -3.82 & < .001\\\\\n",
       "\tnoun\\_M & noun\\_M & -1.03 & \\${[}-1.42\\$, \\$-0.65{]}\\$ & -5.44 & < .001\\\\\n",
       "\tverb\\_X & verb\\_X & -0.94 & \\${[}-1.32\\$, \\$-0.56{]}\\$ & -4.94 & < .001\\\\\n",
       "\\end{tabular}\n"
      ],
      "text/markdown": [
       "\n",
       "A apa_results_table: 3 × 5\n",
       "\n",
       "| <!--/--> | cond0 &lt;chr&gt; | estimate &lt;ppj_lbll&gt; | ci &lt;ppj_lbll&gt; | statistic &lt;ppj_lbll&gt; | p.value &lt;ppj_lbll&gt; |\n",
       "|---|---|---|---|---|---|\n",
       "| noun_F | noun_F | -0.73 | $[-1.11$, $-0.35]$ | -3.82 | &lt; .001 |\n",
       "| noun_M | noun_M | -1.03 | $[-1.42$, $-0.65]$ | -5.44 | &lt; .001 |\n",
       "| verb_X | verb_X | -0.94 | $[-1.32$, $-0.56]$ | -4.94 | &lt; .001 |\n",
       "\n"
      ],
      "text/plain": [
       "       cond0  estimate ci                 statistic p.value\n",
       "noun_F noun_F -0.73    $[-1.11$, $-0.35]$ -3.82     < .001 \n",
       "noun_M noun_M -1.03    $[-1.42$, $-0.65]$ -5.44     < .001 \n",
       "verb_X verb_X -0.94    $[-1.32$, $-0.56]$ -4.94     < .001 "
      ]
     },
     "metadata": {},
     "output_type": "display_data"
    },
    {
     "data": {
      "text/markdown": [
       "### Paired comparisons for expected marginal means"
      ]
     },
     "metadata": {},
     "output_type": "display_data"
    },
    {
     "data": {
      "text/html": [
       "<table>\n",
       "<caption>A apa_results_table: 3 × 5</caption>\n",
       "<thead>\n",
       "\t<tr><th></th><th scope=col>contrast</th><th scope=col>estimate</th><th scope=col>ci</th><th scope=col>statistic</th><th scope=col>p.value</th></tr>\n",
       "\t<tr><th></th><th scope=col>&lt;ppj_lbll&gt;</th><th scope=col>&lt;ppj_lbll&gt;</th><th scope=col>&lt;ppj_lbll&gt;</th><th scope=col>&lt;ppj_lbll&gt;</th><th scope=col>&lt;ppj_lbll&gt;</th></tr>\n",
       "</thead>\n",
       "<tbody>\n",
       "\t<tr><th scope=row>noun_F_noun_M</th><td>noun_F - noun_M</td><td>0.31 </td><td>$[0.03$, $0.59]$ </td><td>2.60 </td><td>.029</td></tr>\n",
       "\t<tr><th scope=row>noun_F_verb_X</th><td>noun_F - verb_X</td><td>0.21 </td><td>$[-0.07$, $0.49]$</td><td>1.81 </td><td>.173</td></tr>\n",
       "\t<tr><th scope=row>noun_M_verb_X</th><td>noun_M - verb_X</td><td>-0.09</td><td>$[-0.38$, $0.19]$</td><td>-0.79</td><td>.707</td></tr>\n",
       "</tbody>\n",
       "</table>\n"
      ],
      "text/latex": [
       "A apa\\_results\\_table: 3 × 5\n",
       "\\begin{tabular}{r|lllll}\n",
       "  & contrast & estimate & ci & statistic & p.value\\\\\n",
       "  & <ppj\\_lbll> & <ppj\\_lbll> & <ppj\\_lbll> & <ppj\\_lbll> & <ppj\\_lbll>\\\\\n",
       "\\hline\n",
       "\tnoun\\_F\\_noun\\_M & noun\\_F - noun\\_M & 0.31  & \\${[}0.03\\$, \\$0.59{]}\\$  & 2.60  & .029\\\\\n",
       "\tnoun\\_F\\_verb\\_X & noun\\_F - verb\\_X & 0.21  & \\${[}-0.07\\$, \\$0.49{]}\\$ & 1.81  & .173\\\\\n",
       "\tnoun\\_M\\_verb\\_X & noun\\_M - verb\\_X & -0.09 & \\${[}-0.38\\$, \\$0.19{]}\\$ & -0.79 & .707\\\\\n",
       "\\end{tabular}\n"
      ],
      "text/markdown": [
       "\n",
       "A apa_results_table: 3 × 5\n",
       "\n",
       "| <!--/--> | contrast &lt;ppj_lbll&gt; | estimate &lt;ppj_lbll&gt; | ci &lt;ppj_lbll&gt; | statistic &lt;ppj_lbll&gt; | p.value &lt;ppj_lbll&gt; |\n",
       "|---|---|---|---|---|---|\n",
       "| noun_F_noun_M | noun_F - noun_M | 0.31  | $[0.03$, $0.59]$  | 2.60  | .029 |\n",
       "| noun_F_verb_X | noun_F - verb_X | 0.21  | $[-0.07$, $0.49]$ | 1.81  | .173 |\n",
       "| noun_M_verb_X | noun_M - verb_X | -0.09 | $[-0.38$, $0.19]$ | -0.79 | .707 |\n",
       "\n"
      ],
      "text/plain": [
       "              contrast        estimate ci                statistic p.value\n",
       "noun_F_noun_M noun_F - noun_M 0.31     $[0.03$, $0.59]$  2.60      .029   \n",
       "noun_F_verb_X noun_F - verb_X 0.21     $[-0.07$, $0.49]$ 1.81      .173   \n",
       "noun_M_verb_X noun_M - verb_X -0.09    $[-0.38$, $0.19]$ -0.79     .707   "
      ]
     },
     "metadata": {},
     "output_type": "display_data"
    }
   ],
   "source": [
    "IDX <- IDX+1; COND <- CONDS[IDX]\n",
    "data1 <- droplevels(subset(df1, eval(parse(text=COND)))); data1 <- data1[complete.cases(data1),]; done1 <- AOV4(data1,COND)\n",
    "display_markdown(str_c(\"# Condition \",IDX,\" of \",length(CONDS))); display_markdown(done1$info); display_markdown(\"### Table\"); done1$aov_APA$table; display_markdown(\"### Result\"); display_markdown(done1$aov_APA[[\"full_result\"]][[\"cond0\"]]); display_markdown(\"### Summary (all done1, incl. NANs)\"); done1$summary; display_markdown(\"### Expected marginal means\"); done1$emm_APA$table; display_markdown(\"### Paired comparisons for expected marginal means\"); done1$pairs_APA$table"
   ]
  },
  {
   "cell_type": "code",
   "execution_count": 229,
   "metadata": {},
   "outputs": [
    {
     "data": {
      "text/markdown": [
       "# Condition 62 of 72"
      ]
     },
     "metadata": {},
     "output_type": "display_data"
    },
    {
     "data": {
      "text/markdown": [
       "`tmin0==0.11 & chan0==\"LF\" & mode0==\"neg\"`"
      ]
     },
     "metadata": {},
     "output_type": "display_data"
    },
    {
     "data": {
      "text/markdown": [
       "### Table"
      ]
     },
     "metadata": {},
     "output_type": "display_data"
    },
    {
     "data": {
      "text/html": [
       "<table>\n",
       "<caption>A apa_results_table: 1 × 7</caption>\n",
       "<thead>\n",
       "\t<tr><th></th><th scope=col>Effect</th><th scope=col>F</th><th scope=col>df1</th><th scope=col>df2</th><th scope=col>MSE</th><th scope=col>p</th><th scope=col>ges</th></tr>\n",
       "\t<tr><th></th><th scope=col>&lt;ppj_lbll&gt;</th><th scope=col>&lt;ppj_lbll&gt;</th><th scope=col>&lt;ppj_lbll&gt;</th><th scope=col>&lt;ppj_lbll&gt;</th><th scope=col>&lt;ppj_lbll&gt;</th><th scope=col>&lt;ppj_lbll&gt;</th><th scope=col>&lt;ppj_lbll&gt;</th></tr>\n",
       "</thead>\n",
       "<tbody>\n",
       "\t<tr><th scope=row>1</th><td>Cond0</td><td>0.03</td><td>1.64</td><td>67.17</td><td>0.38</td><td>.944</td><td>.000</td></tr>\n",
       "</tbody>\n",
       "</table>\n"
      ],
      "text/latex": [
       "A apa\\_results\\_table: 1 × 7\n",
       "\\begin{tabular}{r|lllllll}\n",
       "  & Effect & F & df1 & df2 & MSE & p & ges\\\\\n",
       "  & <ppj\\_lbll> & <ppj\\_lbll> & <ppj\\_lbll> & <ppj\\_lbll> & <ppj\\_lbll> & <ppj\\_lbll> & <ppj\\_lbll>\\\\\n",
       "\\hline\n",
       "\t1 & Cond0 & 0.03 & 1.64 & 67.17 & 0.38 & .944 & .000\\\\\n",
       "\\end{tabular}\n"
      ],
      "text/markdown": [
       "\n",
       "A apa_results_table: 1 × 7\n",
       "\n",
       "| <!--/--> | Effect &lt;ppj_lbll&gt; | F &lt;ppj_lbll&gt; | df1 &lt;ppj_lbll&gt; | df2 &lt;ppj_lbll&gt; | MSE &lt;ppj_lbll&gt; | p &lt;ppj_lbll&gt; | ges &lt;ppj_lbll&gt; |\n",
       "|---|---|---|---|---|---|---|---|\n",
       "| 1 | Cond0 | 0.03 | 1.64 | 67.17 | 0.38 | .944 | .000 |\n",
       "\n"
      ],
      "text/plain": [
       "  Effect F    df1  df2   MSE  p    ges \n",
       "1 Cond0  0.03 1.64 67.17 0.38 .944 .000"
      ]
     },
     "metadata": {},
     "output_type": "display_data"
    },
    {
     "data": {
      "text/markdown": [
       "### Result"
      ]
     },
     "metadata": {},
     "output_type": "display_data"
    },
    {
     "data": {
      "text/markdown": [
       "$F(1.64, 67.17) = 0.03$, $\\mathit{MSE} = 0.38$, $p = .944$, $\\hat{\\eta}^2_G = .000$"
      ]
     },
     "metadata": {},
     "output_type": "display_data"
    },
    {
     "data": {
      "text/markdown": [
       "### Summary (all done1, incl. NANs)"
      ]
     },
     "metadata": {},
     "output_type": "display_data"
    },
    {
     "data": {
      "text/html": [
       "<table>\n",
       "<caption>A tibble: 3 × 5</caption>\n",
       "<thead>\n",
       "\t<tr><th scope=col>cond0</th><th scope=col>N</th><th scope=col>valX_M</th><th scope=col>valX_SD</th><th scope=col>valX_SE</th></tr>\n",
       "\t<tr><th scope=col>&lt;fct&gt;</th><th scope=col>&lt;int&gt;</th><th scope=col>&lt;dbl&gt;</th><th scope=col>&lt;dbl&gt;</th><th scope=col>&lt;dbl&gt;</th></tr>\n",
       "</thead>\n",
       "<tbody>\n",
       "\t<tr><td>noun_F</td><td>42</td><td>-2.329009</td><td>1.555660</td><td>0.2400436</td></tr>\n",
       "\t<tr><td>noun_M</td><td>42</td><td>-2.328074</td><td>1.510483</td><td>0.2330727</td></tr>\n",
       "\t<tr><td>verb_X</td><td>42</td><td>-2.356017</td><td>1.411975</td><td>0.2178725</td></tr>\n",
       "</tbody>\n",
       "</table>\n"
      ],
      "text/latex": [
       "A tibble: 3 × 5\n",
       "\\begin{tabular}{lllll}\n",
       " cond0 & N & valX\\_M & valX\\_SD & valX\\_SE\\\\\n",
       " <fct> & <int> & <dbl> & <dbl> & <dbl>\\\\\n",
       "\\hline\n",
       "\t noun\\_F & 42 & -2.329009 & 1.555660 & 0.2400436\\\\\n",
       "\t noun\\_M & 42 & -2.328074 & 1.510483 & 0.2330727\\\\\n",
       "\t verb\\_X & 42 & -2.356017 & 1.411975 & 0.2178725\\\\\n",
       "\\end{tabular}\n"
      ],
      "text/markdown": [
       "\n",
       "A tibble: 3 × 5\n",
       "\n",
       "| cond0 &lt;fct&gt; | N &lt;int&gt; | valX_M &lt;dbl&gt; | valX_SD &lt;dbl&gt; | valX_SE &lt;dbl&gt; |\n",
       "|---|---|---|---|---|\n",
       "| noun_F | 42 | -2.329009 | 1.555660 | 0.2400436 |\n",
       "| noun_M | 42 | -2.328074 | 1.510483 | 0.2330727 |\n",
       "| verb_X | 42 | -2.356017 | 1.411975 | 0.2178725 |\n",
       "\n"
      ],
      "text/plain": [
       "  cond0  N  valX_M    valX_SD  valX_SE  \n",
       "1 noun_F 42 -2.329009 1.555660 0.2400436\n",
       "2 noun_M 42 -2.328074 1.510483 0.2330727\n",
       "3 verb_X 42 -2.356017 1.411975 0.2178725"
      ]
     },
     "metadata": {},
     "output_type": "display_data"
    },
    {
     "data": {
      "text/markdown": [
       "### Expected marginal means"
      ]
     },
     "metadata": {},
     "output_type": "display_data"
    },
    {
     "data": {
      "text/html": [
       "<table>\n",
       "<caption>A apa_results_table: 3 × 5</caption>\n",
       "<thead>\n",
       "\t<tr><th></th><th scope=col>cond0</th><th scope=col>estimate</th><th scope=col>ci</th><th scope=col>statistic</th><th scope=col>p.value</th></tr>\n",
       "\t<tr><th></th><th scope=col>&lt;chr&gt;</th><th scope=col>&lt;ppj_lbll&gt;</th><th scope=col>&lt;ppj_lbll&gt;</th><th scope=col>&lt;ppj_lbll&gt;</th><th scope=col>&lt;ppj_lbll&gt;</th></tr>\n",
       "</thead>\n",
       "<tbody>\n",
       "\t<tr><th scope=row>noun_F</th><td>noun_F</td><td>-2.33</td><td>$[-2.79$, $-1.87]$</td><td>-10.10</td><td>&lt; .001</td></tr>\n",
       "\t<tr><th scope=row>noun_M</th><td>noun_M</td><td>-2.33</td><td>$[-2.79$, $-1.86]$</td><td>-10.10</td><td>&lt; .001</td></tr>\n",
       "\t<tr><th scope=row>verb_X</th><td>verb_X</td><td>-2.36</td><td>$[-2.82$, $-1.89]$</td><td>-10.22</td><td>&lt; .001</td></tr>\n",
       "</tbody>\n",
       "</table>\n"
      ],
      "text/latex": [
       "A apa\\_results\\_table: 3 × 5\n",
       "\\begin{tabular}{r|lllll}\n",
       "  & cond0 & estimate & ci & statistic & p.value\\\\\n",
       "  & <chr> & <ppj\\_lbll> & <ppj\\_lbll> & <ppj\\_lbll> & <ppj\\_lbll>\\\\\n",
       "\\hline\n",
       "\tnoun\\_F & noun\\_F & -2.33 & \\${[}-2.79\\$, \\$-1.87{]}\\$ & -10.10 & < .001\\\\\n",
       "\tnoun\\_M & noun\\_M & -2.33 & \\${[}-2.79\\$, \\$-1.86{]}\\$ & -10.10 & < .001\\\\\n",
       "\tverb\\_X & verb\\_X & -2.36 & \\${[}-2.82\\$, \\$-1.89{]}\\$ & -10.22 & < .001\\\\\n",
       "\\end{tabular}\n"
      ],
      "text/markdown": [
       "\n",
       "A apa_results_table: 3 × 5\n",
       "\n",
       "| <!--/--> | cond0 &lt;chr&gt; | estimate &lt;ppj_lbll&gt; | ci &lt;ppj_lbll&gt; | statistic &lt;ppj_lbll&gt; | p.value &lt;ppj_lbll&gt; |\n",
       "|---|---|---|---|---|---|\n",
       "| noun_F | noun_F | -2.33 | $[-2.79$, $-1.87]$ | -10.10 | &lt; .001 |\n",
       "| noun_M | noun_M | -2.33 | $[-2.79$, $-1.86]$ | -10.10 | &lt; .001 |\n",
       "| verb_X | verb_X | -2.36 | $[-2.82$, $-1.89]$ | -10.22 | &lt; .001 |\n",
       "\n"
      ],
      "text/plain": [
       "       cond0  estimate ci                 statistic p.value\n",
       "noun_F noun_F -2.33    $[-2.79$, $-1.87]$ -10.10    < .001 \n",
       "noun_M noun_M -2.33    $[-2.79$, $-1.86]$ -10.10    < .001 \n",
       "verb_X verb_X -2.36    $[-2.82$, $-1.89]$ -10.22    < .001 "
      ]
     },
     "metadata": {},
     "output_type": "display_data"
    },
    {
     "data": {
      "text/markdown": [
       "### Paired comparisons for expected marginal means"
      ]
     },
     "metadata": {},
     "output_type": "display_data"
    },
    {
     "data": {
      "text/html": [
       "<table>\n",
       "<caption>A apa_results_table: 3 × 5</caption>\n",
       "<thead>\n",
       "\t<tr><th></th><th scope=col>contrast</th><th scope=col>estimate</th><th scope=col>ci</th><th scope=col>statistic</th><th scope=col>p.value</th></tr>\n",
       "\t<tr><th></th><th scope=col>&lt;ppj_lbll&gt;</th><th scope=col>&lt;ppj_lbll&gt;</th><th scope=col>&lt;ppj_lbll&gt;</th><th scope=col>&lt;ppj_lbll&gt;</th><th scope=col>&lt;ppj_lbll&gt;</th></tr>\n",
       "</thead>\n",
       "<tbody>\n",
       "\t<tr><th scope=row>noun_F_noun_M</th><td>noun_F - noun_M</td><td>0.00</td><td>$[-0.29$, $0.29]$</td><td>-0.01</td><td>&gt; .999</td></tr>\n",
       "\t<tr><th scope=row>noun_F_verb_X</th><td>noun_F - verb_X</td><td>0.03</td><td>$[-0.26$, $0.32]$</td><td>0.22 </td><td>.973  </td></tr>\n",
       "\t<tr><th scope=row>noun_M_verb_X</th><td>noun_M - verb_X</td><td>0.03</td><td>$[-0.26$, $0.32]$</td><td>0.23 </td><td>.972  </td></tr>\n",
       "</tbody>\n",
       "</table>\n"
      ],
      "text/latex": [
       "A apa\\_results\\_table: 3 × 5\n",
       "\\begin{tabular}{r|lllll}\n",
       "  & contrast & estimate & ci & statistic & p.value\\\\\n",
       "  & <ppj\\_lbll> & <ppj\\_lbll> & <ppj\\_lbll> & <ppj\\_lbll> & <ppj\\_lbll>\\\\\n",
       "\\hline\n",
       "\tnoun\\_F\\_noun\\_M & noun\\_F - noun\\_M & 0.00 & \\${[}-0.29\\$, \\$0.29{]}\\$ & -0.01 & > .999\\\\\n",
       "\tnoun\\_F\\_verb\\_X & noun\\_F - verb\\_X & 0.03 & \\${[}-0.26\\$, \\$0.32{]}\\$ & 0.22  & .973  \\\\\n",
       "\tnoun\\_M\\_verb\\_X & noun\\_M - verb\\_X & 0.03 & \\${[}-0.26\\$, \\$0.32{]}\\$ & 0.23  & .972  \\\\\n",
       "\\end{tabular}\n"
      ],
      "text/markdown": [
       "\n",
       "A apa_results_table: 3 × 5\n",
       "\n",
       "| <!--/--> | contrast &lt;ppj_lbll&gt; | estimate &lt;ppj_lbll&gt; | ci &lt;ppj_lbll&gt; | statistic &lt;ppj_lbll&gt; | p.value &lt;ppj_lbll&gt; |\n",
       "|---|---|---|---|---|---|\n",
       "| noun_F_noun_M | noun_F - noun_M | 0.00 | $[-0.29$, $0.29]$ | -0.01 | &gt; .999 |\n",
       "| noun_F_verb_X | noun_F - verb_X | 0.03 | $[-0.26$, $0.32]$ | 0.22  | .973   |\n",
       "| noun_M_verb_X | noun_M - verb_X | 0.03 | $[-0.26$, $0.32]$ | 0.23  | .972   |\n",
       "\n"
      ],
      "text/plain": [
       "              contrast        estimate ci                statistic p.value\n",
       "noun_F_noun_M noun_F - noun_M 0.00     $[-0.29$, $0.29]$ -0.01     > .999 \n",
       "noun_F_verb_X noun_F - verb_X 0.03     $[-0.26$, $0.32]$ 0.22      .973   \n",
       "noun_M_verb_X noun_M - verb_X 0.03     $[-0.26$, $0.32]$ 0.23      .972   "
      ]
     },
     "metadata": {},
     "output_type": "display_data"
    }
   ],
   "source": [
    "IDX <- IDX+1; COND <- CONDS[IDX]\n",
    "data1 <- droplevels(subset(df1, eval(parse(text=COND)))); data1 <- data1[complete.cases(data1),]; done1 <- AOV4(data1,COND)\n",
    "display_markdown(str_c(\"# Condition \",IDX,\" of \",length(CONDS))); display_markdown(done1$info); display_markdown(\"### Table\"); done1$aov_APA$table; display_markdown(\"### Result\"); display_markdown(done1$aov_APA[[\"full_result\"]][[\"cond0\"]]); display_markdown(\"### Summary (all done1, incl. NANs)\"); done1$summary; display_markdown(\"### Expected marginal means\"); done1$emm_APA$table; display_markdown(\"### Paired comparisons for expected marginal means\"); done1$pairs_APA$table"
   ]
  },
  {
   "cell_type": "code",
   "execution_count": 230,
   "metadata": {},
   "outputs": [
    {
     "data": {
      "text/markdown": [
       "# Condition 63 of 72"
      ]
     },
     "metadata": {},
     "output_type": "display_data"
    },
    {
     "data": {
      "text/markdown": [
       "`tmin0==0.11 & chan0==\"RF\" & mode0==\"pos\"`"
      ]
     },
     "metadata": {},
     "output_type": "display_data"
    },
    {
     "data": {
      "text/markdown": [
       "### Table"
      ]
     },
     "metadata": {},
     "output_type": "display_data"
    },
    {
     "data": {
      "text/html": [
       "<table>\n",
       "<caption>A apa_results_table: 1 × 7</caption>\n",
       "<thead>\n",
       "\t<tr><th></th><th scope=col>Effect</th><th scope=col>F</th><th scope=col>df1</th><th scope=col>df2</th><th scope=col>MSE</th><th scope=col>p</th><th scope=col>ges</th></tr>\n",
       "\t<tr><th></th><th scope=col>&lt;ppj_lbll&gt;</th><th scope=col>&lt;ppj_lbll&gt;</th><th scope=col>&lt;ppj_lbll&gt;</th><th scope=col>&lt;ppj_lbll&gt;</th><th scope=col>&lt;ppj_lbll&gt;</th><th scope=col>&lt;ppj_lbll&gt;</th><th scope=col>&lt;ppj_lbll&gt;</th></tr>\n",
       "</thead>\n",
       "<tbody>\n",
       "\t<tr><th scope=row>1</th><td>Cond0</td><td>0.32</td><td>1.86</td><td>76.39</td><td>0.25</td><td>.709</td><td>.001</td></tr>\n",
       "</tbody>\n",
       "</table>\n"
      ],
      "text/latex": [
       "A apa\\_results\\_table: 1 × 7\n",
       "\\begin{tabular}{r|lllllll}\n",
       "  & Effect & F & df1 & df2 & MSE & p & ges\\\\\n",
       "  & <ppj\\_lbll> & <ppj\\_lbll> & <ppj\\_lbll> & <ppj\\_lbll> & <ppj\\_lbll> & <ppj\\_lbll> & <ppj\\_lbll>\\\\\n",
       "\\hline\n",
       "\t1 & Cond0 & 0.32 & 1.86 & 76.39 & 0.25 & .709 & .001\\\\\n",
       "\\end{tabular}\n"
      ],
      "text/markdown": [
       "\n",
       "A apa_results_table: 1 × 7\n",
       "\n",
       "| <!--/--> | Effect &lt;ppj_lbll&gt; | F &lt;ppj_lbll&gt; | df1 &lt;ppj_lbll&gt; | df2 &lt;ppj_lbll&gt; | MSE &lt;ppj_lbll&gt; | p &lt;ppj_lbll&gt; | ges &lt;ppj_lbll&gt; |\n",
       "|---|---|---|---|---|---|---|---|\n",
       "| 1 | Cond0 | 0.32 | 1.86 | 76.39 | 0.25 | .709 | .001 |\n",
       "\n"
      ],
      "text/plain": [
       "  Effect F    df1  df2   MSE  p    ges \n",
       "1 Cond0  0.32 1.86 76.39 0.25 .709 .001"
      ]
     },
     "metadata": {},
     "output_type": "display_data"
    },
    {
     "data": {
      "text/markdown": [
       "### Result"
      ]
     },
     "metadata": {},
     "output_type": "display_data"
    },
    {
     "data": {
      "text/markdown": [
       "$F(1.86, 76.39) = 0.32$, $\\mathit{MSE} = 0.25$, $p = .709$, $\\hat{\\eta}^2_G = .001$"
      ]
     },
     "metadata": {},
     "output_type": "display_data"
    },
    {
     "data": {
      "text/markdown": [
       "### Summary (all done1, incl. NANs)"
      ]
     },
     "metadata": {},
     "output_type": "display_data"
    },
    {
     "data": {
      "text/html": [
       "<table>\n",
       "<caption>A tibble: 3 × 5</caption>\n",
       "<thead>\n",
       "\t<tr><th scope=col>cond0</th><th scope=col>N</th><th scope=col>valX_M</th><th scope=col>valX_SD</th><th scope=col>valX_SE</th></tr>\n",
       "\t<tr><th scope=col>&lt;fct&gt;</th><th scope=col>&lt;int&gt;</th><th scope=col>&lt;dbl&gt;</th><th scope=col>&lt;dbl&gt;</th><th scope=col>&lt;dbl&gt;</th></tr>\n",
       "</thead>\n",
       "<tbody>\n",
       "\t<tr><td>noun_F</td><td>42</td><td>-1.109571</td><td>1.217147</td><td>0.1878098</td></tr>\n",
       "\t<tr><td>noun_M</td><td>42</td><td>-1.146987</td><td>1.095491</td><td>0.1690379</td></tr>\n",
       "\t<tr><td>verb_X</td><td>42</td><td>-1.062058</td><td>1.110523</td><td>0.1713574</td></tr>\n",
       "</tbody>\n",
       "</table>\n"
      ],
      "text/latex": [
       "A tibble: 3 × 5\n",
       "\\begin{tabular}{lllll}\n",
       " cond0 & N & valX\\_M & valX\\_SD & valX\\_SE\\\\\n",
       " <fct> & <int> & <dbl> & <dbl> & <dbl>\\\\\n",
       "\\hline\n",
       "\t noun\\_F & 42 & -1.109571 & 1.217147 & 0.1878098\\\\\n",
       "\t noun\\_M & 42 & -1.146987 & 1.095491 & 0.1690379\\\\\n",
       "\t verb\\_X & 42 & -1.062058 & 1.110523 & 0.1713574\\\\\n",
       "\\end{tabular}\n"
      ],
      "text/markdown": [
       "\n",
       "A tibble: 3 × 5\n",
       "\n",
       "| cond0 &lt;fct&gt; | N &lt;int&gt; | valX_M &lt;dbl&gt; | valX_SD &lt;dbl&gt; | valX_SE &lt;dbl&gt; |\n",
       "|---|---|---|---|---|\n",
       "| noun_F | 42 | -1.109571 | 1.217147 | 0.1878098 |\n",
       "| noun_M | 42 | -1.146987 | 1.095491 | 0.1690379 |\n",
       "| verb_X | 42 | -1.062058 | 1.110523 | 0.1713574 |\n",
       "\n"
      ],
      "text/plain": [
       "  cond0  N  valX_M    valX_SD  valX_SE  \n",
       "1 noun_F 42 -1.109571 1.217147 0.1878098\n",
       "2 noun_M 42 -1.146987 1.095491 0.1690379\n",
       "3 verb_X 42 -1.062058 1.110523 0.1713574"
      ]
     },
     "metadata": {},
     "output_type": "display_data"
    },
    {
     "data": {
      "text/markdown": [
       "### Expected marginal means"
      ]
     },
     "metadata": {},
     "output_type": "display_data"
    },
    {
     "data": {
      "text/html": [
       "<table>\n",
       "<caption>A apa_results_table: 3 × 5</caption>\n",
       "<thead>\n",
       "\t<tr><th></th><th scope=col>cond0</th><th scope=col>estimate</th><th scope=col>ci</th><th scope=col>statistic</th><th scope=col>p.value</th></tr>\n",
       "\t<tr><th></th><th scope=col>&lt;chr&gt;</th><th scope=col>&lt;ppj_lbll&gt;</th><th scope=col>&lt;ppj_lbll&gt;</th><th scope=col>&lt;ppj_lbll&gt;</th><th scope=col>&lt;ppj_lbll&gt;</th></tr>\n",
       "</thead>\n",
       "<tbody>\n",
       "\t<tr><th scope=row>noun_F</th><td>noun_F</td><td>-1.11</td><td>$[-1.46$, $-0.76]$</td><td>-6.29</td><td>&lt; .001</td></tr>\n",
       "\t<tr><th scope=row>noun_M</th><td>noun_M</td><td>-1.15</td><td>$[-1.50$, $-0.79]$</td><td>-6.51</td><td>&lt; .001</td></tr>\n",
       "\t<tr><th scope=row>verb_X</th><td>verb_X</td><td>-1.06</td><td>$[-1.42$, $-0.71]$</td><td>-6.03</td><td>&lt; .001</td></tr>\n",
       "</tbody>\n",
       "</table>\n"
      ],
      "text/latex": [
       "A apa\\_results\\_table: 3 × 5\n",
       "\\begin{tabular}{r|lllll}\n",
       "  & cond0 & estimate & ci & statistic & p.value\\\\\n",
       "  & <chr> & <ppj\\_lbll> & <ppj\\_lbll> & <ppj\\_lbll> & <ppj\\_lbll>\\\\\n",
       "\\hline\n",
       "\tnoun\\_F & noun\\_F & -1.11 & \\${[}-1.46\\$, \\$-0.76{]}\\$ & -6.29 & < .001\\\\\n",
       "\tnoun\\_M & noun\\_M & -1.15 & \\${[}-1.50\\$, \\$-0.79{]}\\$ & -6.51 & < .001\\\\\n",
       "\tverb\\_X & verb\\_X & -1.06 & \\${[}-1.42\\$, \\$-0.71{]}\\$ & -6.03 & < .001\\\\\n",
       "\\end{tabular}\n"
      ],
      "text/markdown": [
       "\n",
       "A apa_results_table: 3 × 5\n",
       "\n",
       "| <!--/--> | cond0 &lt;chr&gt; | estimate &lt;ppj_lbll&gt; | ci &lt;ppj_lbll&gt; | statistic &lt;ppj_lbll&gt; | p.value &lt;ppj_lbll&gt; |\n",
       "|---|---|---|---|---|---|\n",
       "| noun_F | noun_F | -1.11 | $[-1.46$, $-0.76]$ | -6.29 | &lt; .001 |\n",
       "| noun_M | noun_M | -1.15 | $[-1.50$, $-0.79]$ | -6.51 | &lt; .001 |\n",
       "| verb_X | verb_X | -1.06 | $[-1.42$, $-0.71]$ | -6.03 | &lt; .001 |\n",
       "\n"
      ],
      "text/plain": [
       "       cond0  estimate ci                 statistic p.value\n",
       "noun_F noun_F -1.11    $[-1.46$, $-0.76]$ -6.29     < .001 \n",
       "noun_M noun_M -1.15    $[-1.50$, $-0.79]$ -6.51     < .001 \n",
       "verb_X verb_X -1.06    $[-1.42$, $-0.71]$ -6.03     < .001 "
      ]
     },
     "metadata": {},
     "output_type": "display_data"
    },
    {
     "data": {
      "text/markdown": [
       "### Paired comparisons for expected marginal means"
      ]
     },
     "metadata": {},
     "output_type": "display_data"
    },
    {
     "data": {
      "text/html": [
       "<table>\n",
       "<caption>A apa_results_table: 3 × 5</caption>\n",
       "<thead>\n",
       "\t<tr><th></th><th scope=col>contrast</th><th scope=col>estimate</th><th scope=col>ci</th><th scope=col>statistic</th><th scope=col>p.value</th></tr>\n",
       "\t<tr><th></th><th scope=col>&lt;ppj_lbll&gt;</th><th scope=col>&lt;ppj_lbll&gt;</th><th scope=col>&lt;ppj_lbll&gt;</th><th scope=col>&lt;ppj_lbll&gt;</th><th scope=col>&lt;ppj_lbll&gt;</th></tr>\n",
       "</thead>\n",
       "<tbody>\n",
       "\t<tr><th scope=row>noun_F_noun_M</th><td>noun_F - noun_M</td><td>0.04 </td><td>$[-0.22$, $0.29]$</td><td>0.35 </td><td>.933</td></tr>\n",
       "\t<tr><th scope=row>noun_F_verb_X</th><td>noun_F - verb_X</td><td>-0.05</td><td>$[-0.30$, $0.21]$</td><td>-0.45</td><td>.895</td></tr>\n",
       "\t<tr><th scope=row>noun_M_verb_X</th><td>noun_M - verb_X</td><td>-0.08</td><td>$[-0.34$, $0.17]$</td><td>-0.80</td><td>.703</td></tr>\n",
       "</tbody>\n",
       "</table>\n"
      ],
      "text/latex": [
       "A apa\\_results\\_table: 3 × 5\n",
       "\\begin{tabular}{r|lllll}\n",
       "  & contrast & estimate & ci & statistic & p.value\\\\\n",
       "  & <ppj\\_lbll> & <ppj\\_lbll> & <ppj\\_lbll> & <ppj\\_lbll> & <ppj\\_lbll>\\\\\n",
       "\\hline\n",
       "\tnoun\\_F\\_noun\\_M & noun\\_F - noun\\_M & 0.04  & \\${[}-0.22\\$, \\$0.29{]}\\$ & 0.35  & .933\\\\\n",
       "\tnoun\\_F\\_verb\\_X & noun\\_F - verb\\_X & -0.05 & \\${[}-0.30\\$, \\$0.21{]}\\$ & -0.45 & .895\\\\\n",
       "\tnoun\\_M\\_verb\\_X & noun\\_M - verb\\_X & -0.08 & \\${[}-0.34\\$, \\$0.17{]}\\$ & -0.80 & .703\\\\\n",
       "\\end{tabular}\n"
      ],
      "text/markdown": [
       "\n",
       "A apa_results_table: 3 × 5\n",
       "\n",
       "| <!--/--> | contrast &lt;ppj_lbll&gt; | estimate &lt;ppj_lbll&gt; | ci &lt;ppj_lbll&gt; | statistic &lt;ppj_lbll&gt; | p.value &lt;ppj_lbll&gt; |\n",
       "|---|---|---|---|---|---|\n",
       "| noun_F_noun_M | noun_F - noun_M | 0.04  | $[-0.22$, $0.29]$ | 0.35  | .933 |\n",
       "| noun_F_verb_X | noun_F - verb_X | -0.05 | $[-0.30$, $0.21]$ | -0.45 | .895 |\n",
       "| noun_M_verb_X | noun_M - verb_X | -0.08 | $[-0.34$, $0.17]$ | -0.80 | .703 |\n",
       "\n"
      ],
      "text/plain": [
       "              contrast        estimate ci                statistic p.value\n",
       "noun_F_noun_M noun_F - noun_M 0.04     $[-0.22$, $0.29]$ 0.35      .933   \n",
       "noun_F_verb_X noun_F - verb_X -0.05    $[-0.30$, $0.21]$ -0.45     .895   \n",
       "noun_M_verb_X noun_M - verb_X -0.08    $[-0.34$, $0.17]$ -0.80     .703   "
      ]
     },
     "metadata": {},
     "output_type": "display_data"
    }
   ],
   "source": [
    "IDX <- IDX+1; COND <- CONDS[IDX]\n",
    "data1 <- droplevels(subset(df1, eval(parse(text=COND)))); data1 <- data1[complete.cases(data1),]; done1 <- AOV4(data1,COND)\n",
    "display_markdown(str_c(\"# Condition \",IDX,\" of \",length(CONDS))); display_markdown(done1$info); display_markdown(\"### Table\"); done1$aov_APA$table; display_markdown(\"### Result\"); display_markdown(done1$aov_APA[[\"full_result\"]][[\"cond0\"]]); display_markdown(\"### Summary (all done1, incl. NANs)\"); done1$summary; display_markdown(\"### Expected marginal means\"); done1$emm_APA$table; display_markdown(\"### Paired comparisons for expected marginal means\"); done1$pairs_APA$table"
   ]
  },
  {
   "cell_type": "code",
   "execution_count": 231,
   "metadata": {},
   "outputs": [
    {
     "data": {
      "text/markdown": [
       "# Condition 64 of 72"
      ]
     },
     "metadata": {},
     "output_type": "display_data"
    },
    {
     "data": {
      "text/markdown": [
       "`tmin0==0.11 & chan0==\"RF\" & mode0==\"neg\"`"
      ]
     },
     "metadata": {},
     "output_type": "display_data"
    },
    {
     "data": {
      "text/markdown": [
       "### Table"
      ]
     },
     "metadata": {},
     "output_type": "display_data"
    },
    {
     "data": {
      "text/html": [
       "<table>\n",
       "<caption>A apa_results_table: 1 × 7</caption>\n",
       "<thead>\n",
       "\t<tr><th></th><th scope=col>Effect</th><th scope=col>F</th><th scope=col>df1</th><th scope=col>df2</th><th scope=col>MSE</th><th scope=col>p</th><th scope=col>ges</th></tr>\n",
       "\t<tr><th></th><th scope=col>&lt;ppj_lbll&gt;</th><th scope=col>&lt;ppj_lbll&gt;</th><th scope=col>&lt;ppj_lbll&gt;</th><th scope=col>&lt;ppj_lbll&gt;</th><th scope=col>&lt;ppj_lbll&gt;</th><th scope=col>&lt;ppj_lbll&gt;</th><th scope=col>&lt;ppj_lbll&gt;</th></tr>\n",
       "</thead>\n",
       "<tbody>\n",
       "\t<tr><th scope=row>1</th><td>Cond0</td><td>0.24</td><td>1.74</td><td>71.30</td><td>0.33</td><td>.759</td><td>.001</td></tr>\n",
       "</tbody>\n",
       "</table>\n"
      ],
      "text/latex": [
       "A apa\\_results\\_table: 1 × 7\n",
       "\\begin{tabular}{r|lllllll}\n",
       "  & Effect & F & df1 & df2 & MSE & p & ges\\\\\n",
       "  & <ppj\\_lbll> & <ppj\\_lbll> & <ppj\\_lbll> & <ppj\\_lbll> & <ppj\\_lbll> & <ppj\\_lbll> & <ppj\\_lbll>\\\\\n",
       "\\hline\n",
       "\t1 & Cond0 & 0.24 & 1.74 & 71.30 & 0.33 & .759 & .001\\\\\n",
       "\\end{tabular}\n"
      ],
      "text/markdown": [
       "\n",
       "A apa_results_table: 1 × 7\n",
       "\n",
       "| <!--/--> | Effect &lt;ppj_lbll&gt; | F &lt;ppj_lbll&gt; | df1 &lt;ppj_lbll&gt; | df2 &lt;ppj_lbll&gt; | MSE &lt;ppj_lbll&gt; | p &lt;ppj_lbll&gt; | ges &lt;ppj_lbll&gt; |\n",
       "|---|---|---|---|---|---|---|---|\n",
       "| 1 | Cond0 | 0.24 | 1.74 | 71.30 | 0.33 | .759 | .001 |\n",
       "\n"
      ],
      "text/plain": [
       "  Effect F    df1  df2   MSE  p    ges \n",
       "1 Cond0  0.24 1.74 71.30 0.33 .759 .001"
      ]
     },
     "metadata": {},
     "output_type": "display_data"
    },
    {
     "data": {
      "text/markdown": [
       "### Result"
      ]
     },
     "metadata": {},
     "output_type": "display_data"
    },
    {
     "data": {
      "text/markdown": [
       "$F(1.74, 71.30) = 0.24$, $\\mathit{MSE} = 0.33$, $p = .759$, $\\hat{\\eta}^2_G = .001$"
      ]
     },
     "metadata": {},
     "output_type": "display_data"
    },
    {
     "data": {
      "text/markdown": [
       "### Summary (all done1, incl. NANs)"
      ]
     },
     "metadata": {},
     "output_type": "display_data"
    },
    {
     "data": {
      "text/html": [
       "<table>\n",
       "<caption>A tibble: 3 × 5</caption>\n",
       "<thead>\n",
       "\t<tr><th scope=col>cond0</th><th scope=col>N</th><th scope=col>valX_M</th><th scope=col>valX_SD</th><th scope=col>valX_SE</th></tr>\n",
       "\t<tr><th scope=col>&lt;fct&gt;</th><th scope=col>&lt;int&gt;</th><th scope=col>&lt;dbl&gt;</th><th scope=col>&lt;dbl&gt;</th><th scope=col>&lt;dbl&gt;</th></tr>\n",
       "</thead>\n",
       "<tbody>\n",
       "\t<tr><td>noun_F</td><td>42</td><td>-2.393030</td><td>1.423830</td><td>0.2197018</td></tr>\n",
       "\t<tr><td>noun_M</td><td>42</td><td>-2.452465</td><td>1.398114</td><td>0.2157337</td></tr>\n",
       "\t<tr><td>verb_X</td><td>42</td><td>-2.376120</td><td>1.424368</td><td>0.2197848</td></tr>\n",
       "</tbody>\n",
       "</table>\n"
      ],
      "text/latex": [
       "A tibble: 3 × 5\n",
       "\\begin{tabular}{lllll}\n",
       " cond0 & N & valX\\_M & valX\\_SD & valX\\_SE\\\\\n",
       " <fct> & <int> & <dbl> & <dbl> & <dbl>\\\\\n",
       "\\hline\n",
       "\t noun\\_F & 42 & -2.393030 & 1.423830 & 0.2197018\\\\\n",
       "\t noun\\_M & 42 & -2.452465 & 1.398114 & 0.2157337\\\\\n",
       "\t verb\\_X & 42 & -2.376120 & 1.424368 & 0.2197848\\\\\n",
       "\\end{tabular}\n"
      ],
      "text/markdown": [
       "\n",
       "A tibble: 3 × 5\n",
       "\n",
       "| cond0 &lt;fct&gt; | N &lt;int&gt; | valX_M &lt;dbl&gt; | valX_SD &lt;dbl&gt; | valX_SE &lt;dbl&gt; |\n",
       "|---|---|---|---|---|\n",
       "| noun_F | 42 | -2.393030 | 1.423830 | 0.2197018 |\n",
       "| noun_M | 42 | -2.452465 | 1.398114 | 0.2157337 |\n",
       "| verb_X | 42 | -2.376120 | 1.424368 | 0.2197848 |\n",
       "\n"
      ],
      "text/plain": [
       "  cond0  N  valX_M    valX_SD  valX_SE  \n",
       "1 noun_F 42 -2.393030 1.423830 0.2197018\n",
       "2 noun_M 42 -2.452465 1.398114 0.2157337\n",
       "3 verb_X 42 -2.376120 1.424368 0.2197848"
      ]
     },
     "metadata": {},
     "output_type": "display_data"
    },
    {
     "data": {
      "text/markdown": [
       "### Expected marginal means"
      ]
     },
     "metadata": {},
     "output_type": "display_data"
    },
    {
     "data": {
      "text/html": [
       "<table>\n",
       "<caption>A apa_results_table: 3 × 5</caption>\n",
       "<thead>\n",
       "\t<tr><th></th><th scope=col>cond0</th><th scope=col>estimate</th><th scope=col>ci</th><th scope=col>statistic</th><th scope=col>p.value</th></tr>\n",
       "\t<tr><th></th><th scope=col>&lt;chr&gt;</th><th scope=col>&lt;ppj_lbll&gt;</th><th scope=col>&lt;ppj_lbll&gt;</th><th scope=col>&lt;ppj_lbll&gt;</th><th scope=col>&lt;ppj_lbll&gt;</th></tr>\n",
       "</thead>\n",
       "<tbody>\n",
       "\t<tr><th scope=row>noun_F</th><td>noun_F</td><td>-2.39</td><td>$[-2.83$, $-1.95]$</td><td>-10.96</td><td>&lt; .001</td></tr>\n",
       "\t<tr><th scope=row>noun_M</th><td>noun_M</td><td>-2.45</td><td>$[-2.89$, $-2.01]$</td><td>-11.23</td><td>&lt; .001</td></tr>\n",
       "\t<tr><th scope=row>verb_X</th><td>verb_X</td><td>-2.38</td><td>$[-2.81$, $-1.94]$</td><td>-10.88</td><td>&lt; .001</td></tr>\n",
       "</tbody>\n",
       "</table>\n"
      ],
      "text/latex": [
       "A apa\\_results\\_table: 3 × 5\n",
       "\\begin{tabular}{r|lllll}\n",
       "  & cond0 & estimate & ci & statistic & p.value\\\\\n",
       "  & <chr> & <ppj\\_lbll> & <ppj\\_lbll> & <ppj\\_lbll> & <ppj\\_lbll>\\\\\n",
       "\\hline\n",
       "\tnoun\\_F & noun\\_F & -2.39 & \\${[}-2.83\\$, \\$-1.95{]}\\$ & -10.96 & < .001\\\\\n",
       "\tnoun\\_M & noun\\_M & -2.45 & \\${[}-2.89\\$, \\$-2.01{]}\\$ & -11.23 & < .001\\\\\n",
       "\tverb\\_X & verb\\_X & -2.38 & \\${[}-2.81\\$, \\$-1.94{]}\\$ & -10.88 & < .001\\\\\n",
       "\\end{tabular}\n"
      ],
      "text/markdown": [
       "\n",
       "A apa_results_table: 3 × 5\n",
       "\n",
       "| <!--/--> | cond0 &lt;chr&gt; | estimate &lt;ppj_lbll&gt; | ci &lt;ppj_lbll&gt; | statistic &lt;ppj_lbll&gt; | p.value &lt;ppj_lbll&gt; |\n",
       "|---|---|---|---|---|---|\n",
       "| noun_F | noun_F | -2.39 | $[-2.83$, $-1.95]$ | -10.96 | &lt; .001 |\n",
       "| noun_M | noun_M | -2.45 | $[-2.89$, $-2.01]$ | -11.23 | &lt; .001 |\n",
       "| verb_X | verb_X | -2.38 | $[-2.81$, $-1.94]$ | -10.88 | &lt; .001 |\n",
       "\n"
      ],
      "text/plain": [
       "       cond0  estimate ci                 statistic p.value\n",
       "noun_F noun_F -2.39    $[-2.83$, $-1.95]$ -10.96    < .001 \n",
       "noun_M noun_M -2.45    $[-2.89$, $-2.01]$ -11.23    < .001 \n",
       "verb_X verb_X -2.38    $[-2.81$, $-1.94]$ -10.88    < .001 "
      ]
     },
     "metadata": {},
     "output_type": "display_data"
    },
    {
     "data": {
      "text/markdown": [
       "### Paired comparisons for expected marginal means"
      ]
     },
     "metadata": {},
     "output_type": "display_data"
    },
    {
     "data": {
      "text/html": [
       "<table>\n",
       "<caption>A apa_results_table: 3 × 5</caption>\n",
       "<thead>\n",
       "\t<tr><th></th><th scope=col>contrast</th><th scope=col>estimate</th><th scope=col>ci</th><th scope=col>statistic</th><th scope=col>p.value</th></tr>\n",
       "\t<tr><th></th><th scope=col>&lt;ppj_lbll&gt;</th><th scope=col>&lt;ppj_lbll&gt;</th><th scope=col>&lt;ppj_lbll&gt;</th><th scope=col>&lt;ppj_lbll&gt;</th><th scope=col>&lt;ppj_lbll&gt;</th></tr>\n",
       "</thead>\n",
       "<tbody>\n",
       "\t<tr><th scope=row>noun_F_noun_M</th><td>noun_F - noun_M</td><td>0.06 </td><td>$[-0.22$, $0.34]$</td><td>0.51 </td><td>.867</td></tr>\n",
       "\t<tr><th scope=row>noun_F_verb_X</th><td>noun_F - verb_X</td><td>-0.02</td><td>$[-0.30$, $0.26]$</td><td>-0.15</td><td>.988</td></tr>\n",
       "\t<tr><th scope=row>noun_M_verb_X</th><td>noun_M - verb_X</td><td>-0.08</td><td>$[-0.35$, $0.20]$</td><td>-0.65</td><td>.790</td></tr>\n",
       "</tbody>\n",
       "</table>\n"
      ],
      "text/latex": [
       "A apa\\_results\\_table: 3 × 5\n",
       "\\begin{tabular}{r|lllll}\n",
       "  & contrast & estimate & ci & statistic & p.value\\\\\n",
       "  & <ppj\\_lbll> & <ppj\\_lbll> & <ppj\\_lbll> & <ppj\\_lbll> & <ppj\\_lbll>\\\\\n",
       "\\hline\n",
       "\tnoun\\_F\\_noun\\_M & noun\\_F - noun\\_M & 0.06  & \\${[}-0.22\\$, \\$0.34{]}\\$ & 0.51  & .867\\\\\n",
       "\tnoun\\_F\\_verb\\_X & noun\\_F - verb\\_X & -0.02 & \\${[}-0.30\\$, \\$0.26{]}\\$ & -0.15 & .988\\\\\n",
       "\tnoun\\_M\\_verb\\_X & noun\\_M - verb\\_X & -0.08 & \\${[}-0.35\\$, \\$0.20{]}\\$ & -0.65 & .790\\\\\n",
       "\\end{tabular}\n"
      ],
      "text/markdown": [
       "\n",
       "A apa_results_table: 3 × 5\n",
       "\n",
       "| <!--/--> | contrast &lt;ppj_lbll&gt; | estimate &lt;ppj_lbll&gt; | ci &lt;ppj_lbll&gt; | statistic &lt;ppj_lbll&gt; | p.value &lt;ppj_lbll&gt; |\n",
       "|---|---|---|---|---|---|\n",
       "| noun_F_noun_M | noun_F - noun_M | 0.06  | $[-0.22$, $0.34]$ | 0.51  | .867 |\n",
       "| noun_F_verb_X | noun_F - verb_X | -0.02 | $[-0.30$, $0.26]$ | -0.15 | .988 |\n",
       "| noun_M_verb_X | noun_M - verb_X | -0.08 | $[-0.35$, $0.20]$ | -0.65 | .790 |\n",
       "\n"
      ],
      "text/plain": [
       "              contrast        estimate ci                statistic p.value\n",
       "noun_F_noun_M noun_F - noun_M 0.06     $[-0.22$, $0.34]$ 0.51      .867   \n",
       "noun_F_verb_X noun_F - verb_X -0.02    $[-0.30$, $0.26]$ -0.15     .988   \n",
       "noun_M_verb_X noun_M - verb_X -0.08    $[-0.35$, $0.20]$ -0.65     .790   "
      ]
     },
     "metadata": {},
     "output_type": "display_data"
    }
   ],
   "source": [
    "IDX <- IDX+1; COND <- CONDS[IDX]\n",
    "data1 <- droplevels(subset(df1, eval(parse(text=COND)))); data1 <- data1[complete.cases(data1),]; done1 <- AOV4(data1,COND)\n",
    "display_markdown(str_c(\"# Condition \",IDX,\" of \",length(CONDS))); display_markdown(done1$info); display_markdown(\"### Table\"); done1$aov_APA$table; display_markdown(\"### Result\"); display_markdown(done1$aov_APA[[\"full_result\"]][[\"cond0\"]]); display_markdown(\"### Summary (all done1, incl. NANs)\"); done1$summary; display_markdown(\"### Expected marginal means\"); done1$emm_APA$table; display_markdown(\"### Paired comparisons for expected marginal means\"); done1$pairs_APA$table"
   ]
  },
  {
   "cell_type": "code",
   "execution_count": 232,
   "metadata": {},
   "outputs": [
    {
     "data": {
      "text/markdown": [
       "# Condition 65 of 72"
      ]
     },
     "metadata": {},
     "output_type": "display_data"
    },
    {
     "data": {
      "text/markdown": [
       "`tmin0==0.11 & chan0==\"LC\" & mode0==\"pos\"`"
      ]
     },
     "metadata": {},
     "output_type": "display_data"
    },
    {
     "data": {
      "text/markdown": [
       "### Table"
      ]
     },
     "metadata": {},
     "output_type": "display_data"
    },
    {
     "data": {
      "text/html": [
       "<table>\n",
       "<caption>A apa_results_table: 1 × 7</caption>\n",
       "<thead>\n",
       "\t<tr><th></th><th scope=col>Effect</th><th scope=col>F</th><th scope=col>df1</th><th scope=col>df2</th><th scope=col>MSE</th><th scope=col>p</th><th scope=col>ges</th></tr>\n",
       "\t<tr><th></th><th scope=col>&lt;ppj_lbll&gt;</th><th scope=col>&lt;ppj_lbll&gt;</th><th scope=col>&lt;ppj_lbll&gt;</th><th scope=col>&lt;ppj_lbll&gt;</th><th scope=col>&lt;ppj_lbll&gt;</th><th scope=col>&lt;ppj_lbll&gt;</th><th scope=col>&lt;ppj_lbll&gt;</th></tr>\n",
       "</thead>\n",
       "<tbody>\n",
       "\t<tr><th scope=row>1</th><td>Cond0</td><td>0.89</td><td>1.77</td><td>72.50</td><td>0.22</td><td>.403</td><td>.004</td></tr>\n",
       "</tbody>\n",
       "</table>\n"
      ],
      "text/latex": [
       "A apa\\_results\\_table: 1 × 7\n",
       "\\begin{tabular}{r|lllllll}\n",
       "  & Effect & F & df1 & df2 & MSE & p & ges\\\\\n",
       "  & <ppj\\_lbll> & <ppj\\_lbll> & <ppj\\_lbll> & <ppj\\_lbll> & <ppj\\_lbll> & <ppj\\_lbll> & <ppj\\_lbll>\\\\\n",
       "\\hline\n",
       "\t1 & Cond0 & 0.89 & 1.77 & 72.50 & 0.22 & .403 & .004\\\\\n",
       "\\end{tabular}\n"
      ],
      "text/markdown": [
       "\n",
       "A apa_results_table: 1 × 7\n",
       "\n",
       "| <!--/--> | Effect &lt;ppj_lbll&gt; | F &lt;ppj_lbll&gt; | df1 &lt;ppj_lbll&gt; | df2 &lt;ppj_lbll&gt; | MSE &lt;ppj_lbll&gt; | p &lt;ppj_lbll&gt; | ges &lt;ppj_lbll&gt; |\n",
       "|---|---|---|---|---|---|---|---|\n",
       "| 1 | Cond0 | 0.89 | 1.77 | 72.50 | 0.22 | .403 | .004 |\n",
       "\n"
      ],
      "text/plain": [
       "  Effect F    df1  df2   MSE  p    ges \n",
       "1 Cond0  0.89 1.77 72.50 0.22 .403 .004"
      ]
     },
     "metadata": {},
     "output_type": "display_data"
    },
    {
     "data": {
      "text/markdown": [
       "### Result"
      ]
     },
     "metadata": {},
     "output_type": "display_data"
    },
    {
     "data": {
      "text/markdown": [
       "$F(1.77, 72.50) = 0.89$, $\\mathit{MSE} = 0.22$, $p = .403$, $\\hat{\\eta}^2_G = .004$"
      ]
     },
     "metadata": {},
     "output_type": "display_data"
    },
    {
     "data": {
      "text/markdown": [
       "### Summary (all done1, incl. NANs)"
      ]
     },
     "metadata": {},
     "output_type": "display_data"
    },
    {
     "data": {
      "text/html": [
       "<table>\n",
       "<caption>A tibble: 3 × 5</caption>\n",
       "<thead>\n",
       "\t<tr><th scope=col>cond0</th><th scope=col>N</th><th scope=col>valX_M</th><th scope=col>valX_SD</th><th scope=col>valX_SE</th></tr>\n",
       "\t<tr><th scope=col>&lt;fct&gt;</th><th scope=col>&lt;int&gt;</th><th scope=col>&lt;dbl&gt;</th><th scope=col>&lt;dbl&gt;</th><th scope=col>&lt;dbl&gt;</th></tr>\n",
       "</thead>\n",
       "<tbody>\n",
       "\t<tr><td>noun_F</td><td>42</td><td> 0.114491277</td><td>0.8107723</td><td>0.1251049</td></tr>\n",
       "\t<tr><td>noun_M</td><td>42</td><td> 0.021704457</td><td>0.8041920</td><td>0.1240895</td></tr>\n",
       "\t<tr><td>verb_X</td><td>42</td><td>-0.007786805</td><td>0.7901411</td><td>0.1219214</td></tr>\n",
       "</tbody>\n",
       "</table>\n"
      ],
      "text/latex": [
       "A tibble: 3 × 5\n",
       "\\begin{tabular}{lllll}\n",
       " cond0 & N & valX\\_M & valX\\_SD & valX\\_SE\\\\\n",
       " <fct> & <int> & <dbl> & <dbl> & <dbl>\\\\\n",
       "\\hline\n",
       "\t noun\\_F & 42 &  0.114491277 & 0.8107723 & 0.1251049\\\\\n",
       "\t noun\\_M & 42 &  0.021704457 & 0.8041920 & 0.1240895\\\\\n",
       "\t verb\\_X & 42 & -0.007786805 & 0.7901411 & 0.1219214\\\\\n",
       "\\end{tabular}\n"
      ],
      "text/markdown": [
       "\n",
       "A tibble: 3 × 5\n",
       "\n",
       "| cond0 &lt;fct&gt; | N &lt;int&gt; | valX_M &lt;dbl&gt; | valX_SD &lt;dbl&gt; | valX_SE &lt;dbl&gt; |\n",
       "|---|---|---|---|---|\n",
       "| noun_F | 42 |  0.114491277 | 0.8107723 | 0.1251049 |\n",
       "| noun_M | 42 |  0.021704457 | 0.8041920 | 0.1240895 |\n",
       "| verb_X | 42 | -0.007786805 | 0.7901411 | 0.1219214 |\n",
       "\n"
      ],
      "text/plain": [
       "  cond0  N  valX_M       valX_SD   valX_SE  \n",
       "1 noun_F 42  0.114491277 0.8107723 0.1251049\n",
       "2 noun_M 42  0.021704457 0.8041920 0.1240895\n",
       "3 verb_X 42 -0.007786805 0.7901411 0.1219214"
      ]
     },
     "metadata": {},
     "output_type": "display_data"
    },
    {
     "data": {
      "text/markdown": [
       "### Expected marginal means"
      ]
     },
     "metadata": {},
     "output_type": "display_data"
    },
    {
     "data": {
      "text/html": [
       "<table>\n",
       "<caption>A apa_results_table: 3 × 5</caption>\n",
       "<thead>\n",
       "\t<tr><th></th><th scope=col>cond0</th><th scope=col>estimate</th><th scope=col>ci</th><th scope=col>statistic</th><th scope=col>p.value</th></tr>\n",
       "\t<tr><th></th><th scope=col>&lt;chr&gt;</th><th scope=col>&lt;ppj_lbll&gt;</th><th scope=col>&lt;ppj_lbll&gt;</th><th scope=col>&lt;ppj_lbll&gt;</th><th scope=col>&lt;ppj_lbll&gt;</th></tr>\n",
       "</thead>\n",
       "<tbody>\n",
       "\t<tr><th scope=row>noun_F</th><td>noun_F</td><td>0.11 </td><td>$[-0.13$, $0.36]$</td><td>0.93 </td><td>.358</td></tr>\n",
       "\t<tr><th scope=row>noun_M</th><td>noun_M</td><td>0.02 </td><td>$[-0.23$, $0.27]$</td><td>0.18 </td><td>.861</td></tr>\n",
       "\t<tr><th scope=row>verb_X</th><td>verb_X</td><td>-0.01</td><td>$[-0.26$, $0.24]$</td><td>-0.06</td><td>.950</td></tr>\n",
       "</tbody>\n",
       "</table>\n"
      ],
      "text/latex": [
       "A apa\\_results\\_table: 3 × 5\n",
       "\\begin{tabular}{r|lllll}\n",
       "  & cond0 & estimate & ci & statistic & p.value\\\\\n",
       "  & <chr> & <ppj\\_lbll> & <ppj\\_lbll> & <ppj\\_lbll> & <ppj\\_lbll>\\\\\n",
       "\\hline\n",
       "\tnoun\\_F & noun\\_F & 0.11  & \\${[}-0.13\\$, \\$0.36{]}\\$ & 0.93  & .358\\\\\n",
       "\tnoun\\_M & noun\\_M & 0.02  & \\${[}-0.23\\$, \\$0.27{]}\\$ & 0.18  & .861\\\\\n",
       "\tverb\\_X & verb\\_X & -0.01 & \\${[}-0.26\\$, \\$0.24{]}\\$ & -0.06 & .950\\\\\n",
       "\\end{tabular}\n"
      ],
      "text/markdown": [
       "\n",
       "A apa_results_table: 3 × 5\n",
       "\n",
       "| <!--/--> | cond0 &lt;chr&gt; | estimate &lt;ppj_lbll&gt; | ci &lt;ppj_lbll&gt; | statistic &lt;ppj_lbll&gt; | p.value &lt;ppj_lbll&gt; |\n",
       "|---|---|---|---|---|---|\n",
       "| noun_F | noun_F | 0.11  | $[-0.13$, $0.36]$ | 0.93  | .358 |\n",
       "| noun_M | noun_M | 0.02  | $[-0.23$, $0.27]$ | 0.18  | .861 |\n",
       "| verb_X | verb_X | -0.01 | $[-0.26$, $0.24]$ | -0.06 | .950 |\n",
       "\n"
      ],
      "text/plain": [
       "       cond0  estimate ci                statistic p.value\n",
       "noun_F noun_F 0.11     $[-0.13$, $0.36]$ 0.93      .358   \n",
       "noun_M noun_M 0.02     $[-0.23$, $0.27]$ 0.18      .861   \n",
       "verb_X verb_X -0.01    $[-0.26$, $0.24]$ -0.06     .950   "
      ]
     },
     "metadata": {},
     "output_type": "display_data"
    },
    {
     "data": {
      "text/markdown": [
       "### Paired comparisons for expected marginal means"
      ]
     },
     "metadata": {},
     "output_type": "display_data"
    },
    {
     "data": {
      "text/html": [
       "<table>\n",
       "<caption>A apa_results_table: 3 × 5</caption>\n",
       "<thead>\n",
       "\t<tr><th></th><th scope=col>contrast</th><th scope=col>estimate</th><th scope=col>ci</th><th scope=col>statistic</th><th scope=col>p.value</th></tr>\n",
       "\t<tr><th></th><th scope=col>&lt;ppj_lbll&gt;</th><th scope=col>&lt;ppj_lbll&gt;</th><th scope=col>&lt;ppj_lbll&gt;</th><th scope=col>&lt;ppj_lbll&gt;</th><th scope=col>&lt;ppj_lbll&gt;</th></tr>\n",
       "</thead>\n",
       "<tbody>\n",
       "\t<tr><th scope=row>noun_F_noun_M</th><td>noun_F - noun_M</td><td>0.09</td><td>$[-0.14$, $0.32]$</td><td>0.97</td><td>.597</td></tr>\n",
       "\t<tr><th scope=row>noun_F_verb_X</th><td>noun_F - verb_X</td><td>0.12</td><td>$[-0.11$, $0.35]$</td><td>1.28</td><td>.411</td></tr>\n",
       "\t<tr><th scope=row>noun_M_verb_X</th><td>noun_M - verb_X</td><td>0.03</td><td>$[-0.20$, $0.26]$</td><td>0.31</td><td>.949</td></tr>\n",
       "</tbody>\n",
       "</table>\n"
      ],
      "text/latex": [
       "A apa\\_results\\_table: 3 × 5\n",
       "\\begin{tabular}{r|lllll}\n",
       "  & contrast & estimate & ci & statistic & p.value\\\\\n",
       "  & <ppj\\_lbll> & <ppj\\_lbll> & <ppj\\_lbll> & <ppj\\_lbll> & <ppj\\_lbll>\\\\\n",
       "\\hline\n",
       "\tnoun\\_F\\_noun\\_M & noun\\_F - noun\\_M & 0.09 & \\${[}-0.14\\$, \\$0.32{]}\\$ & 0.97 & .597\\\\\n",
       "\tnoun\\_F\\_verb\\_X & noun\\_F - verb\\_X & 0.12 & \\${[}-0.11\\$, \\$0.35{]}\\$ & 1.28 & .411\\\\\n",
       "\tnoun\\_M\\_verb\\_X & noun\\_M - verb\\_X & 0.03 & \\${[}-0.20\\$, \\$0.26{]}\\$ & 0.31 & .949\\\\\n",
       "\\end{tabular}\n"
      ],
      "text/markdown": [
       "\n",
       "A apa_results_table: 3 × 5\n",
       "\n",
       "| <!--/--> | contrast &lt;ppj_lbll&gt; | estimate &lt;ppj_lbll&gt; | ci &lt;ppj_lbll&gt; | statistic &lt;ppj_lbll&gt; | p.value &lt;ppj_lbll&gt; |\n",
       "|---|---|---|---|---|---|\n",
       "| noun_F_noun_M | noun_F - noun_M | 0.09 | $[-0.14$, $0.32]$ | 0.97 | .597 |\n",
       "| noun_F_verb_X | noun_F - verb_X | 0.12 | $[-0.11$, $0.35]$ | 1.28 | .411 |\n",
       "| noun_M_verb_X | noun_M - verb_X | 0.03 | $[-0.20$, $0.26]$ | 0.31 | .949 |\n",
       "\n"
      ],
      "text/plain": [
       "              contrast        estimate ci                statistic p.value\n",
       "noun_F_noun_M noun_F - noun_M 0.09     $[-0.14$, $0.32]$ 0.97      .597   \n",
       "noun_F_verb_X noun_F - verb_X 0.12     $[-0.11$, $0.35]$ 1.28      .411   \n",
       "noun_M_verb_X noun_M - verb_X 0.03     $[-0.20$, $0.26]$ 0.31      .949   "
      ]
     },
     "metadata": {},
     "output_type": "display_data"
    }
   ],
   "source": [
    "IDX <- IDX+1; COND <- CONDS[IDX]\n",
    "data1 <- droplevels(subset(df1, eval(parse(text=COND)))); data1 <- data1[complete.cases(data1),]; done1 <- AOV4(data1,COND)\n",
    "display_markdown(str_c(\"# Condition \",IDX,\" of \",length(CONDS))); display_markdown(done1$info); display_markdown(\"### Table\"); done1$aov_APA$table; display_markdown(\"### Result\"); display_markdown(done1$aov_APA[[\"full_result\"]][[\"cond0\"]]); display_markdown(\"### Summary (all done1, incl. NANs)\"); done1$summary; display_markdown(\"### Expected marginal means\"); done1$emm_APA$table; display_markdown(\"### Paired comparisons for expected marginal means\"); done1$pairs_APA$table"
   ]
  },
  {
   "cell_type": "code",
   "execution_count": 233,
   "metadata": {},
   "outputs": [
    {
     "name": "stderr",
     "output_type": "stream",
     "text": [
      "Warning message in summary.Anova.mlm(x$Anova):\n",
      "“HF eps > 1 treated as 1”\n"
     ]
    },
    {
     "data": {
      "text/markdown": [
       "# Condition 66 of 72"
      ]
     },
     "metadata": {},
     "output_type": "display_data"
    },
    {
     "data": {
      "text/markdown": [
       "`tmin0==0.11 & chan0==\"LC\" & mode0==\"neg\"`"
      ]
     },
     "metadata": {},
     "output_type": "display_data"
    },
    {
     "data": {
      "text/markdown": [
       "### Table"
      ]
     },
     "metadata": {},
     "output_type": "display_data"
    },
    {
     "data": {
      "text/html": [
       "<table>\n",
       "<caption>A apa_results_table: 1 × 7</caption>\n",
       "<thead>\n",
       "\t<tr><th></th><th scope=col>Effect</th><th scope=col>F</th><th scope=col>df1</th><th scope=col>df2</th><th scope=col>MSE</th><th scope=col>p</th><th scope=col>ges</th></tr>\n",
       "\t<tr><th></th><th scope=col>&lt;ppj_lbll&gt;</th><th scope=col>&lt;ppj_lbll&gt;</th><th scope=col>&lt;ppj_lbll&gt;</th><th scope=col>&lt;ppj_lbll&gt;</th><th scope=col>&lt;ppj_lbll&gt;</th><th scope=col>&lt;ppj_lbll&gt;</th><th scope=col>&lt;ppj_lbll&gt;</th></tr>\n",
       "</thead>\n",
       "<tbody>\n",
       "\t<tr><th scope=row>1</th><td>Cond0</td><td>0.84</td><td>1.96</td><td>80.28</td><td>0.16</td><td>.433</td><td>.002</td></tr>\n",
       "</tbody>\n",
       "</table>\n"
      ],
      "text/latex": [
       "A apa\\_results\\_table: 1 × 7\n",
       "\\begin{tabular}{r|lllllll}\n",
       "  & Effect & F & df1 & df2 & MSE & p & ges\\\\\n",
       "  & <ppj\\_lbll> & <ppj\\_lbll> & <ppj\\_lbll> & <ppj\\_lbll> & <ppj\\_lbll> & <ppj\\_lbll> & <ppj\\_lbll>\\\\\n",
       "\\hline\n",
       "\t1 & Cond0 & 0.84 & 1.96 & 80.28 & 0.16 & .433 & .002\\\\\n",
       "\\end{tabular}\n"
      ],
      "text/markdown": [
       "\n",
       "A apa_results_table: 1 × 7\n",
       "\n",
       "| <!--/--> | Effect &lt;ppj_lbll&gt; | F &lt;ppj_lbll&gt; | df1 &lt;ppj_lbll&gt; | df2 &lt;ppj_lbll&gt; | MSE &lt;ppj_lbll&gt; | p &lt;ppj_lbll&gt; | ges &lt;ppj_lbll&gt; |\n",
       "|---|---|---|---|---|---|---|---|\n",
       "| 1 | Cond0 | 0.84 | 1.96 | 80.28 | 0.16 | .433 | .002 |\n",
       "\n"
      ],
      "text/plain": [
       "  Effect F    df1  df2   MSE  p    ges \n",
       "1 Cond0  0.84 1.96 80.28 0.16 .433 .002"
      ]
     },
     "metadata": {},
     "output_type": "display_data"
    },
    {
     "data": {
      "text/markdown": [
       "### Result"
      ]
     },
     "metadata": {},
     "output_type": "display_data"
    },
    {
     "data": {
      "text/markdown": [
       "$F(1.96, 80.28) = 0.84$, $\\mathit{MSE} = 0.16$, $p = .433$, $\\hat{\\eta}^2_G = .002$"
      ]
     },
     "metadata": {},
     "output_type": "display_data"
    },
    {
     "data": {
      "text/markdown": [
       "### Summary (all done1, incl. NANs)"
      ]
     },
     "metadata": {},
     "output_type": "display_data"
    },
    {
     "data": {
      "text/html": [
       "<table>\n",
       "<caption>A tibble: 3 × 5</caption>\n",
       "<thead>\n",
       "\t<tr><th scope=col>cond0</th><th scope=col>N</th><th scope=col>valX_M</th><th scope=col>valX_SD</th><th scope=col>valX_SE</th></tr>\n",
       "\t<tr><th scope=col>&lt;fct&gt;</th><th scope=col>&lt;int&gt;</th><th scope=col>&lt;dbl&gt;</th><th scope=col>&lt;dbl&gt;</th><th scope=col>&lt;dbl&gt;</th></tr>\n",
       "</thead>\n",
       "<tbody>\n",
       "\t<tr><td>noun_F</td><td>42</td><td>-0.6343984</td><td>0.9596888</td><td>0.1480832</td></tr>\n",
       "\t<tr><td>noun_M</td><td>42</td><td>-0.7420870</td><td>0.9349688</td><td>0.1442688</td></tr>\n",
       "\t<tr><td>verb_X</td><td>42</td><td>-0.6671857</td><td>0.9333663</td><td>0.1440215</td></tr>\n",
       "</tbody>\n",
       "</table>\n"
      ],
      "text/latex": [
       "A tibble: 3 × 5\n",
       "\\begin{tabular}{lllll}\n",
       " cond0 & N & valX\\_M & valX\\_SD & valX\\_SE\\\\\n",
       " <fct> & <int> & <dbl> & <dbl> & <dbl>\\\\\n",
       "\\hline\n",
       "\t noun\\_F & 42 & -0.6343984 & 0.9596888 & 0.1480832\\\\\n",
       "\t noun\\_M & 42 & -0.7420870 & 0.9349688 & 0.1442688\\\\\n",
       "\t verb\\_X & 42 & -0.6671857 & 0.9333663 & 0.1440215\\\\\n",
       "\\end{tabular}\n"
      ],
      "text/markdown": [
       "\n",
       "A tibble: 3 × 5\n",
       "\n",
       "| cond0 &lt;fct&gt; | N &lt;int&gt; | valX_M &lt;dbl&gt; | valX_SD &lt;dbl&gt; | valX_SE &lt;dbl&gt; |\n",
       "|---|---|---|---|---|\n",
       "| noun_F | 42 | -0.6343984 | 0.9596888 | 0.1480832 |\n",
       "| noun_M | 42 | -0.7420870 | 0.9349688 | 0.1442688 |\n",
       "| verb_X | 42 | -0.6671857 | 0.9333663 | 0.1440215 |\n",
       "\n"
      ],
      "text/plain": [
       "  cond0  N  valX_M     valX_SD   valX_SE  \n",
       "1 noun_F 42 -0.6343984 0.9596888 0.1480832\n",
       "2 noun_M 42 -0.7420870 0.9349688 0.1442688\n",
       "3 verb_X 42 -0.6671857 0.9333663 0.1440215"
      ]
     },
     "metadata": {},
     "output_type": "display_data"
    },
    {
     "data": {
      "text/markdown": [
       "### Expected marginal means"
      ]
     },
     "metadata": {},
     "output_type": "display_data"
    },
    {
     "data": {
      "text/html": [
       "<table>\n",
       "<caption>A apa_results_table: 3 × 5</caption>\n",
       "<thead>\n",
       "\t<tr><th></th><th scope=col>cond0</th><th scope=col>estimate</th><th scope=col>ci</th><th scope=col>statistic</th><th scope=col>p.value</th></tr>\n",
       "\t<tr><th></th><th scope=col>&lt;chr&gt;</th><th scope=col>&lt;ppj_lbll&gt;</th><th scope=col>&lt;ppj_lbll&gt;</th><th scope=col>&lt;ppj_lbll&gt;</th><th scope=col>&lt;ppj_lbll&gt;</th></tr>\n",
       "</thead>\n",
       "<tbody>\n",
       "\t<tr><th scope=row>noun_F</th><td>noun_F</td><td>-0.63</td><td>$[-0.93$, $-0.34]$</td><td>-4.36</td><td>&lt; .001</td></tr>\n",
       "\t<tr><th scope=row>noun_M</th><td>noun_M</td><td>-0.74</td><td>$[-1.03$, $-0.45]$</td><td>-5.10</td><td>&lt; .001</td></tr>\n",
       "\t<tr><th scope=row>verb_X</th><td>verb_X</td><td>-0.67</td><td>$[-0.96$, $-0.38]$</td><td>-4.59</td><td>&lt; .001</td></tr>\n",
       "</tbody>\n",
       "</table>\n"
      ],
      "text/latex": [
       "A apa\\_results\\_table: 3 × 5\n",
       "\\begin{tabular}{r|lllll}\n",
       "  & cond0 & estimate & ci & statistic & p.value\\\\\n",
       "  & <chr> & <ppj\\_lbll> & <ppj\\_lbll> & <ppj\\_lbll> & <ppj\\_lbll>\\\\\n",
       "\\hline\n",
       "\tnoun\\_F & noun\\_F & -0.63 & \\${[}-0.93\\$, \\$-0.34{]}\\$ & -4.36 & < .001\\\\\n",
       "\tnoun\\_M & noun\\_M & -0.74 & \\${[}-1.03\\$, \\$-0.45{]}\\$ & -5.10 & < .001\\\\\n",
       "\tverb\\_X & verb\\_X & -0.67 & \\${[}-0.96\\$, \\$-0.38{]}\\$ & -4.59 & < .001\\\\\n",
       "\\end{tabular}\n"
      ],
      "text/markdown": [
       "\n",
       "A apa_results_table: 3 × 5\n",
       "\n",
       "| <!--/--> | cond0 &lt;chr&gt; | estimate &lt;ppj_lbll&gt; | ci &lt;ppj_lbll&gt; | statistic &lt;ppj_lbll&gt; | p.value &lt;ppj_lbll&gt; |\n",
       "|---|---|---|---|---|---|\n",
       "| noun_F | noun_F | -0.63 | $[-0.93$, $-0.34]$ | -4.36 | &lt; .001 |\n",
       "| noun_M | noun_M | -0.74 | $[-1.03$, $-0.45]$ | -5.10 | &lt; .001 |\n",
       "| verb_X | verb_X | -0.67 | $[-0.96$, $-0.38]$ | -4.59 | &lt; .001 |\n",
       "\n"
      ],
      "text/plain": [
       "       cond0  estimate ci                 statistic p.value\n",
       "noun_F noun_F -0.63    $[-0.93$, $-0.34]$ -4.36     < .001 \n",
       "noun_M noun_M -0.74    $[-1.03$, $-0.45]$ -5.10     < .001 \n",
       "verb_X verb_X -0.67    $[-0.96$, $-0.38]$ -4.59     < .001 "
      ]
     },
     "metadata": {},
     "output_type": "display_data"
    },
    {
     "data": {
      "text/markdown": [
       "### Paired comparisons for expected marginal means"
      ]
     },
     "metadata": {},
     "output_type": "display_data"
    },
    {
     "data": {
      "text/html": [
       "<table>\n",
       "<caption>A apa_results_table: 3 × 5</caption>\n",
       "<thead>\n",
       "\t<tr><th></th><th scope=col>contrast</th><th scope=col>estimate</th><th scope=col>ci</th><th scope=col>statistic</th><th scope=col>p.value</th></tr>\n",
       "\t<tr><th></th><th scope=col>&lt;ppj_lbll&gt;</th><th scope=col>&lt;ppj_lbll&gt;</th><th scope=col>&lt;ppj_lbll&gt;</th><th scope=col>&lt;ppj_lbll&gt;</th><th scope=col>&lt;ppj_lbll&gt;</th></tr>\n",
       "</thead>\n",
       "<tbody>\n",
       "\t<tr><th scope=row>noun_F_noun_M</th><td>noun_F - noun_M</td><td>0.11 </td><td>$[-0.10$, $0.31]$</td><td>1.27 </td><td>.419</td></tr>\n",
       "\t<tr><th scope=row>noun_F_verb_X</th><td>noun_F - verb_X</td><td>0.03 </td><td>$[-0.17$, $0.24]$</td><td>0.39 </td><td>.922</td></tr>\n",
       "\t<tr><th scope=row>noun_M_verb_X</th><td>noun_M - verb_X</td><td>-0.07</td><td>$[-0.28$, $0.13]$</td><td>-0.88</td><td>.654</td></tr>\n",
       "</tbody>\n",
       "</table>\n"
      ],
      "text/latex": [
       "A apa\\_results\\_table: 3 × 5\n",
       "\\begin{tabular}{r|lllll}\n",
       "  & contrast & estimate & ci & statistic & p.value\\\\\n",
       "  & <ppj\\_lbll> & <ppj\\_lbll> & <ppj\\_lbll> & <ppj\\_lbll> & <ppj\\_lbll>\\\\\n",
       "\\hline\n",
       "\tnoun\\_F\\_noun\\_M & noun\\_F - noun\\_M & 0.11  & \\${[}-0.10\\$, \\$0.31{]}\\$ & 1.27  & .419\\\\\n",
       "\tnoun\\_F\\_verb\\_X & noun\\_F - verb\\_X & 0.03  & \\${[}-0.17\\$, \\$0.24{]}\\$ & 0.39  & .922\\\\\n",
       "\tnoun\\_M\\_verb\\_X & noun\\_M - verb\\_X & -0.07 & \\${[}-0.28\\$, \\$0.13{]}\\$ & -0.88 & .654\\\\\n",
       "\\end{tabular}\n"
      ],
      "text/markdown": [
       "\n",
       "A apa_results_table: 3 × 5\n",
       "\n",
       "| <!--/--> | contrast &lt;ppj_lbll&gt; | estimate &lt;ppj_lbll&gt; | ci &lt;ppj_lbll&gt; | statistic &lt;ppj_lbll&gt; | p.value &lt;ppj_lbll&gt; |\n",
       "|---|---|---|---|---|---|\n",
       "| noun_F_noun_M | noun_F - noun_M | 0.11  | $[-0.10$, $0.31]$ | 1.27  | .419 |\n",
       "| noun_F_verb_X | noun_F - verb_X | 0.03  | $[-0.17$, $0.24]$ | 0.39  | .922 |\n",
       "| noun_M_verb_X | noun_M - verb_X | -0.07 | $[-0.28$, $0.13]$ | -0.88 | .654 |\n",
       "\n"
      ],
      "text/plain": [
       "              contrast        estimate ci                statistic p.value\n",
       "noun_F_noun_M noun_F - noun_M 0.11     $[-0.10$, $0.31]$ 1.27      .419   \n",
       "noun_F_verb_X noun_F - verb_X 0.03     $[-0.17$, $0.24]$ 0.39      .922   \n",
       "noun_M_verb_X noun_M - verb_X -0.07    $[-0.28$, $0.13]$ -0.88     .654   "
      ]
     },
     "metadata": {},
     "output_type": "display_data"
    }
   ],
   "source": [
    "IDX <- IDX+1; COND <- CONDS[IDX]\n",
    "data1 <- droplevels(subset(df1, eval(parse(text=COND)))); data1 <- data1[complete.cases(data1),]; done1 <- AOV4(data1,COND)\n",
    "display_markdown(str_c(\"# Condition \",IDX,\" of \",length(CONDS))); display_markdown(done1$info); display_markdown(\"### Table\"); done1$aov_APA$table; display_markdown(\"### Result\"); display_markdown(done1$aov_APA[[\"full_result\"]][[\"cond0\"]]); display_markdown(\"### Summary (all done1, incl. NANs)\"); done1$summary; display_markdown(\"### Expected marginal means\"); done1$emm_APA$table; display_markdown(\"### Paired comparisons for expected marginal means\"); done1$pairs_APA$table"
   ]
  },
  {
   "cell_type": "code",
   "execution_count": 234,
   "metadata": {},
   "outputs": [
    {
     "data": {
      "text/markdown": [
       "# Condition 67 of 72"
      ]
     },
     "metadata": {},
     "output_type": "display_data"
    },
    {
     "data": {
      "text/markdown": [
       "`tmin0==0.11 & chan0==\"RC\" & mode0==\"pos\"`"
      ]
     },
     "metadata": {},
     "output_type": "display_data"
    },
    {
     "data": {
      "text/markdown": [
       "### Table"
      ]
     },
     "metadata": {},
     "output_type": "display_data"
    },
    {
     "data": {
      "text/html": [
       "<table>\n",
       "<caption>A apa_results_table: 1 × 7</caption>\n",
       "<thead>\n",
       "\t<tr><th></th><th scope=col>Effect</th><th scope=col>F</th><th scope=col>df1</th><th scope=col>df2</th><th scope=col>MSE</th><th scope=col>p</th><th scope=col>ges</th></tr>\n",
       "\t<tr><th></th><th scope=col>&lt;ppj_lbll&gt;</th><th scope=col>&lt;ppj_lbll&gt;</th><th scope=col>&lt;ppj_lbll&gt;</th><th scope=col>&lt;ppj_lbll&gt;</th><th scope=col>&lt;ppj_lbll&gt;</th><th scope=col>&lt;ppj_lbll&gt;</th><th scope=col>&lt;ppj_lbll&gt;</th></tr>\n",
       "</thead>\n",
       "<tbody>\n",
       "\t<tr><th scope=row>1</th><td>Cond0</td><td>0.11</td><td>1.73</td><td>71.11</td><td>0.28</td><td>.865</td><td>.001</td></tr>\n",
       "</tbody>\n",
       "</table>\n"
      ],
      "text/latex": [
       "A apa\\_results\\_table: 1 × 7\n",
       "\\begin{tabular}{r|lllllll}\n",
       "  & Effect & F & df1 & df2 & MSE & p & ges\\\\\n",
       "  & <ppj\\_lbll> & <ppj\\_lbll> & <ppj\\_lbll> & <ppj\\_lbll> & <ppj\\_lbll> & <ppj\\_lbll> & <ppj\\_lbll>\\\\\n",
       "\\hline\n",
       "\t1 & Cond0 & 0.11 & 1.73 & 71.11 & 0.28 & .865 & .001\\\\\n",
       "\\end{tabular}\n"
      ],
      "text/markdown": [
       "\n",
       "A apa_results_table: 1 × 7\n",
       "\n",
       "| <!--/--> | Effect &lt;ppj_lbll&gt; | F &lt;ppj_lbll&gt; | df1 &lt;ppj_lbll&gt; | df2 &lt;ppj_lbll&gt; | MSE &lt;ppj_lbll&gt; | p &lt;ppj_lbll&gt; | ges &lt;ppj_lbll&gt; |\n",
       "|---|---|---|---|---|---|---|---|\n",
       "| 1 | Cond0 | 0.11 | 1.73 | 71.11 | 0.28 | .865 | .001 |\n",
       "\n"
      ],
      "text/plain": [
       "  Effect F    df1  df2   MSE  p    ges \n",
       "1 Cond0  0.11 1.73 71.11 0.28 .865 .001"
      ]
     },
     "metadata": {},
     "output_type": "display_data"
    },
    {
     "data": {
      "text/markdown": [
       "### Result"
      ]
     },
     "metadata": {},
     "output_type": "display_data"
    },
    {
     "data": {
      "text/markdown": [
       "$F(1.73, 71.11) = 0.11$, $\\mathit{MSE} = 0.28$, $p = .865$, $\\hat{\\eta}^2_G = .001$"
      ]
     },
     "metadata": {},
     "output_type": "display_data"
    },
    {
     "data": {
      "text/markdown": [
       "### Summary (all done1, incl. NANs)"
      ]
     },
     "metadata": {},
     "output_type": "display_data"
    },
    {
     "data": {
      "text/html": [
       "<table>\n",
       "<caption>A tibble: 3 × 5</caption>\n",
       "<thead>\n",
       "\t<tr><th scope=col>cond0</th><th scope=col>N</th><th scope=col>valX_M</th><th scope=col>valX_SD</th><th scope=col>valX_SE</th></tr>\n",
       "\t<tr><th scope=col>&lt;fct&gt;</th><th scope=col>&lt;int&gt;</th><th scope=col>&lt;dbl&gt;</th><th scope=col>&lt;dbl&gt;</th><th scope=col>&lt;dbl&gt;</th></tr>\n",
       "</thead>\n",
       "<tbody>\n",
       "\t<tr><td>noun_F</td><td>42</td><td>0.3651450</td><td>0.8109568</td><td>0.1251333</td></tr>\n",
       "\t<tr><td>noun_M</td><td>42</td><td>0.3857896</td><td>0.9565765</td><td>0.1476030</td></tr>\n",
       "\t<tr><td>verb_X</td><td>42</td><td>0.4160294</td><td>0.9127797</td><td>0.1408450</td></tr>\n",
       "</tbody>\n",
       "</table>\n"
      ],
      "text/latex": [
       "A tibble: 3 × 5\n",
       "\\begin{tabular}{lllll}\n",
       " cond0 & N & valX\\_M & valX\\_SD & valX\\_SE\\\\\n",
       " <fct> & <int> & <dbl> & <dbl> & <dbl>\\\\\n",
       "\\hline\n",
       "\t noun\\_F & 42 & 0.3651450 & 0.8109568 & 0.1251333\\\\\n",
       "\t noun\\_M & 42 & 0.3857896 & 0.9565765 & 0.1476030\\\\\n",
       "\t verb\\_X & 42 & 0.4160294 & 0.9127797 & 0.1408450\\\\\n",
       "\\end{tabular}\n"
      ],
      "text/markdown": [
       "\n",
       "A tibble: 3 × 5\n",
       "\n",
       "| cond0 &lt;fct&gt; | N &lt;int&gt; | valX_M &lt;dbl&gt; | valX_SD &lt;dbl&gt; | valX_SE &lt;dbl&gt; |\n",
       "|---|---|---|---|---|\n",
       "| noun_F | 42 | 0.3651450 | 0.8109568 | 0.1251333 |\n",
       "| noun_M | 42 | 0.3857896 | 0.9565765 | 0.1476030 |\n",
       "| verb_X | 42 | 0.4160294 | 0.9127797 | 0.1408450 |\n",
       "\n"
      ],
      "text/plain": [
       "  cond0  N  valX_M    valX_SD   valX_SE  \n",
       "1 noun_F 42 0.3651450 0.8109568 0.1251333\n",
       "2 noun_M 42 0.3857896 0.9565765 0.1476030\n",
       "3 verb_X 42 0.4160294 0.9127797 0.1408450"
      ]
     },
     "metadata": {},
     "output_type": "display_data"
    },
    {
     "data": {
      "text/markdown": [
       "### Expected marginal means"
      ]
     },
     "metadata": {},
     "output_type": "display_data"
    },
    {
     "data": {
      "text/html": [
       "<table>\n",
       "<caption>A apa_results_table: 3 × 5</caption>\n",
       "<thead>\n",
       "\t<tr><th></th><th scope=col>cond0</th><th scope=col>estimate</th><th scope=col>ci</th><th scope=col>statistic</th><th scope=col>p.value</th></tr>\n",
       "\t<tr><th></th><th scope=col>&lt;chr&gt;</th><th scope=col>&lt;ppj_lbll&gt;</th><th scope=col>&lt;ppj_lbll&gt;</th><th scope=col>&lt;ppj_lbll&gt;</th><th scope=col>&lt;ppj_lbll&gt;</th></tr>\n",
       "</thead>\n",
       "<tbody>\n",
       "\t<tr><th scope=row>noun_F</th><td>noun_F</td><td>0.37</td><td>$[0.09$, $0.64]$</td><td>2.64</td><td>.010</td></tr>\n",
       "\t<tr><th scope=row>noun_M</th><td>noun_M</td><td>0.39</td><td>$[0.11$, $0.66]$</td><td>2.79</td><td>.007</td></tr>\n",
       "\t<tr><th scope=row>verb_X</th><td>verb_X</td><td>0.42</td><td>$[0.14$, $0.69]$</td><td>3.01</td><td>.004</td></tr>\n",
       "</tbody>\n",
       "</table>\n"
      ],
      "text/latex": [
       "A apa\\_results\\_table: 3 × 5\n",
       "\\begin{tabular}{r|lllll}\n",
       "  & cond0 & estimate & ci & statistic & p.value\\\\\n",
       "  & <chr> & <ppj\\_lbll> & <ppj\\_lbll> & <ppj\\_lbll> & <ppj\\_lbll>\\\\\n",
       "\\hline\n",
       "\tnoun\\_F & noun\\_F & 0.37 & \\${[}0.09\\$, \\$0.64{]}\\$ & 2.64 & .010\\\\\n",
       "\tnoun\\_M & noun\\_M & 0.39 & \\${[}0.11\\$, \\$0.66{]}\\$ & 2.79 & .007\\\\\n",
       "\tverb\\_X & verb\\_X & 0.42 & \\${[}0.14\\$, \\$0.69{]}\\$ & 3.01 & .004\\\\\n",
       "\\end{tabular}\n"
      ],
      "text/markdown": [
       "\n",
       "A apa_results_table: 3 × 5\n",
       "\n",
       "| <!--/--> | cond0 &lt;chr&gt; | estimate &lt;ppj_lbll&gt; | ci &lt;ppj_lbll&gt; | statistic &lt;ppj_lbll&gt; | p.value &lt;ppj_lbll&gt; |\n",
       "|---|---|---|---|---|---|\n",
       "| noun_F | noun_F | 0.37 | $[0.09$, $0.64]$ | 2.64 | .010 |\n",
       "| noun_M | noun_M | 0.39 | $[0.11$, $0.66]$ | 2.79 | .007 |\n",
       "| verb_X | verb_X | 0.42 | $[0.14$, $0.69]$ | 3.01 | .004 |\n",
       "\n"
      ],
      "text/plain": [
       "       cond0  estimate ci               statistic p.value\n",
       "noun_F noun_F 0.37     $[0.09$, $0.64]$ 2.64      .010   \n",
       "noun_M noun_M 0.39     $[0.11$, $0.66]$ 2.79      .007   \n",
       "verb_X verb_X 0.42     $[0.14$, $0.69]$ 3.01      .004   "
      ]
     },
     "metadata": {},
     "output_type": "display_data"
    },
    {
     "data": {
      "text/markdown": [
       "### Paired comparisons for expected marginal means"
      ]
     },
     "metadata": {},
     "output_type": "display_data"
    },
    {
     "data": {
      "text/html": [
       "<table>\n",
       "<caption>A apa_results_table: 3 × 5</caption>\n",
       "<thead>\n",
       "\t<tr><th></th><th scope=col>contrast</th><th scope=col>estimate</th><th scope=col>ci</th><th scope=col>statistic</th><th scope=col>p.value</th></tr>\n",
       "\t<tr><th></th><th scope=col>&lt;ppj_lbll&gt;</th><th scope=col>&lt;ppj_lbll&gt;</th><th scope=col>&lt;ppj_lbll&gt;</th><th scope=col>&lt;ppj_lbll&gt;</th><th scope=col>&lt;ppj_lbll&gt;</th></tr>\n",
       "</thead>\n",
       "<tbody>\n",
       "\t<tr><th scope=row>noun_F_noun_M</th><td>noun_F - noun_M</td><td>-0.02</td><td>$[-0.28$, $0.23]$</td><td>-0.19</td><td>.980</td></tr>\n",
       "\t<tr><th scope=row>noun_F_verb_X</th><td>noun_F - verb_X</td><td>-0.05</td><td>$[-0.31$, $0.20]$</td><td>-0.48</td><td>.883</td></tr>\n",
       "\t<tr><th scope=row>noun_M_verb_X</th><td>noun_M - verb_X</td><td>-0.03</td><td>$[-0.29$, $0.23]$</td><td>-0.28</td><td>.957</td></tr>\n",
       "</tbody>\n",
       "</table>\n"
      ],
      "text/latex": [
       "A apa\\_results\\_table: 3 × 5\n",
       "\\begin{tabular}{r|lllll}\n",
       "  & contrast & estimate & ci & statistic & p.value\\\\\n",
       "  & <ppj\\_lbll> & <ppj\\_lbll> & <ppj\\_lbll> & <ppj\\_lbll> & <ppj\\_lbll>\\\\\n",
       "\\hline\n",
       "\tnoun\\_F\\_noun\\_M & noun\\_F - noun\\_M & -0.02 & \\${[}-0.28\\$, \\$0.23{]}\\$ & -0.19 & .980\\\\\n",
       "\tnoun\\_F\\_verb\\_X & noun\\_F - verb\\_X & -0.05 & \\${[}-0.31\\$, \\$0.20{]}\\$ & -0.48 & .883\\\\\n",
       "\tnoun\\_M\\_verb\\_X & noun\\_M - verb\\_X & -0.03 & \\${[}-0.29\\$, \\$0.23{]}\\$ & -0.28 & .957\\\\\n",
       "\\end{tabular}\n"
      ],
      "text/markdown": [
       "\n",
       "A apa_results_table: 3 × 5\n",
       "\n",
       "| <!--/--> | contrast &lt;ppj_lbll&gt; | estimate &lt;ppj_lbll&gt; | ci &lt;ppj_lbll&gt; | statistic &lt;ppj_lbll&gt; | p.value &lt;ppj_lbll&gt; |\n",
       "|---|---|---|---|---|---|\n",
       "| noun_F_noun_M | noun_F - noun_M | -0.02 | $[-0.28$, $0.23]$ | -0.19 | .980 |\n",
       "| noun_F_verb_X | noun_F - verb_X | -0.05 | $[-0.31$, $0.20]$ | -0.48 | .883 |\n",
       "| noun_M_verb_X | noun_M - verb_X | -0.03 | $[-0.29$, $0.23]$ | -0.28 | .957 |\n",
       "\n"
      ],
      "text/plain": [
       "              contrast        estimate ci                statistic p.value\n",
       "noun_F_noun_M noun_F - noun_M -0.02    $[-0.28$, $0.23]$ -0.19     .980   \n",
       "noun_F_verb_X noun_F - verb_X -0.05    $[-0.31$, $0.20]$ -0.48     .883   \n",
       "noun_M_verb_X noun_M - verb_X -0.03    $[-0.29$, $0.23]$ -0.28     .957   "
      ]
     },
     "metadata": {},
     "output_type": "display_data"
    }
   ],
   "source": [
    "IDX <- IDX+1; COND <- CONDS[IDX]\n",
    "data1 <- droplevels(subset(df1, eval(parse(text=COND)))); data1 <- data1[complete.cases(data1),]; done1 <- AOV4(data1,COND)\n",
    "display_markdown(str_c(\"# Condition \",IDX,\" of \",length(CONDS))); display_markdown(done1$info); display_markdown(\"### Table\"); done1$aov_APA$table; display_markdown(\"### Result\"); display_markdown(done1$aov_APA[[\"full_result\"]][[\"cond0\"]]); display_markdown(\"### Summary (all done1, incl. NANs)\"); done1$summary; display_markdown(\"### Expected marginal means\"); done1$emm_APA$table; display_markdown(\"### Paired comparisons for expected marginal means\"); done1$pairs_APA$table"
   ]
  },
  {
   "cell_type": "code",
   "execution_count": 235,
   "metadata": {},
   "outputs": [
    {
     "data": {
      "text/markdown": [
       "# Condition 68 of 72"
      ]
     },
     "metadata": {},
     "output_type": "display_data"
    },
    {
     "data": {
      "text/markdown": [
       "`tmin0==0.11 & chan0==\"RC\" & mode0==\"neg\"`"
      ]
     },
     "metadata": {},
     "output_type": "display_data"
    },
    {
     "data": {
      "text/markdown": [
       "### Table"
      ]
     },
     "metadata": {},
     "output_type": "display_data"
    },
    {
     "data": {
      "text/html": [
       "<table>\n",
       "<caption>A apa_results_table: 1 × 7</caption>\n",
       "<thead>\n",
       "\t<tr><th></th><th scope=col>Effect</th><th scope=col>F</th><th scope=col>df1</th><th scope=col>df2</th><th scope=col>MSE</th><th scope=col>p</th><th scope=col>ges</th></tr>\n",
       "\t<tr><th></th><th scope=col>&lt;ppj_lbll&gt;</th><th scope=col>&lt;ppj_lbll&gt;</th><th scope=col>&lt;ppj_lbll&gt;</th><th scope=col>&lt;ppj_lbll&gt;</th><th scope=col>&lt;ppj_lbll&gt;</th><th scope=col>&lt;ppj_lbll&gt;</th><th scope=col>&lt;ppj_lbll&gt;</th></tr>\n",
       "</thead>\n",
       "<tbody>\n",
       "\t<tr><th scope=row>1</th><td>Cond0</td><td>2.07</td><td>1.85</td><td>75.88</td><td>0.21</td><td>.137</td><td>.010</td></tr>\n",
       "</tbody>\n",
       "</table>\n"
      ],
      "text/latex": [
       "A apa\\_results\\_table: 1 × 7\n",
       "\\begin{tabular}{r|lllllll}\n",
       "  & Effect & F & df1 & df2 & MSE & p & ges\\\\\n",
       "  & <ppj\\_lbll> & <ppj\\_lbll> & <ppj\\_lbll> & <ppj\\_lbll> & <ppj\\_lbll> & <ppj\\_lbll> & <ppj\\_lbll>\\\\\n",
       "\\hline\n",
       "\t1 & Cond0 & 2.07 & 1.85 & 75.88 & 0.21 & .137 & .010\\\\\n",
       "\\end{tabular}\n"
      ],
      "text/markdown": [
       "\n",
       "A apa_results_table: 1 × 7\n",
       "\n",
       "| <!--/--> | Effect &lt;ppj_lbll&gt; | F &lt;ppj_lbll&gt; | df1 &lt;ppj_lbll&gt; | df2 &lt;ppj_lbll&gt; | MSE &lt;ppj_lbll&gt; | p &lt;ppj_lbll&gt; | ges &lt;ppj_lbll&gt; |\n",
       "|---|---|---|---|---|---|---|---|\n",
       "| 1 | Cond0 | 2.07 | 1.85 | 75.88 | 0.21 | .137 | .010 |\n",
       "\n"
      ],
      "text/plain": [
       "  Effect F    df1  df2   MSE  p    ges \n",
       "1 Cond0  2.07 1.85 75.88 0.21 .137 .010"
      ]
     },
     "metadata": {},
     "output_type": "display_data"
    },
    {
     "data": {
      "text/markdown": [
       "### Result"
      ]
     },
     "metadata": {},
     "output_type": "display_data"
    },
    {
     "data": {
      "text/markdown": [
       "$F(1.85, 75.88) = 2.07$, $\\mathit{MSE} = 0.21$, $p = .137$, $\\hat{\\eta}^2_G = .010$"
      ]
     },
     "metadata": {},
     "output_type": "display_data"
    },
    {
     "data": {
      "text/markdown": [
       "### Summary (all done1, incl. NANs)"
      ]
     },
     "metadata": {},
     "output_type": "display_data"
    },
    {
     "data": {
      "text/html": [
       "<table>\n",
       "<caption>A tibble: 3 × 5</caption>\n",
       "<thead>\n",
       "\t<tr><th scope=col>cond0</th><th scope=col>N</th><th scope=col>valX_M</th><th scope=col>valX_SD</th><th scope=col>valX_SE</th></tr>\n",
       "\t<tr><th scope=col>&lt;fct&gt;</th><th scope=col>&lt;int&gt;</th><th scope=col>&lt;dbl&gt;</th><th scope=col>&lt;dbl&gt;</th><th scope=col>&lt;dbl&gt;</th></tr>\n",
       "</thead>\n",
       "<tbody>\n",
       "\t<tr><td>noun_F</td><td>42</td><td>-0.3471389</td><td>0.7955538</td><td>0.1227566</td></tr>\n",
       "\t<tr><td>noun_M</td><td>42</td><td>-0.3049792</td><td>0.8314652</td><td>0.1282979</td></tr>\n",
       "\t<tr><td>verb_X</td><td>42</td><td>-0.1585840</td><td>0.8082495</td><td>0.1247156</td></tr>\n",
       "</tbody>\n",
       "</table>\n"
      ],
      "text/latex": [
       "A tibble: 3 × 5\n",
       "\\begin{tabular}{lllll}\n",
       " cond0 & N & valX\\_M & valX\\_SD & valX\\_SE\\\\\n",
       " <fct> & <int> & <dbl> & <dbl> & <dbl>\\\\\n",
       "\\hline\n",
       "\t noun\\_F & 42 & -0.3471389 & 0.7955538 & 0.1227566\\\\\n",
       "\t noun\\_M & 42 & -0.3049792 & 0.8314652 & 0.1282979\\\\\n",
       "\t verb\\_X & 42 & -0.1585840 & 0.8082495 & 0.1247156\\\\\n",
       "\\end{tabular}\n"
      ],
      "text/markdown": [
       "\n",
       "A tibble: 3 × 5\n",
       "\n",
       "| cond0 &lt;fct&gt; | N &lt;int&gt; | valX_M &lt;dbl&gt; | valX_SD &lt;dbl&gt; | valX_SE &lt;dbl&gt; |\n",
       "|---|---|---|---|---|\n",
       "| noun_F | 42 | -0.3471389 | 0.7955538 | 0.1227566 |\n",
       "| noun_M | 42 | -0.3049792 | 0.8314652 | 0.1282979 |\n",
       "| verb_X | 42 | -0.1585840 | 0.8082495 | 0.1247156 |\n",
       "\n"
      ],
      "text/plain": [
       "  cond0  N  valX_M     valX_SD   valX_SE  \n",
       "1 noun_F 42 -0.3471389 0.7955538 0.1227566\n",
       "2 noun_M 42 -0.3049792 0.8314652 0.1282979\n",
       "3 verb_X 42 -0.1585840 0.8082495 0.1247156"
      ]
     },
     "metadata": {},
     "output_type": "display_data"
    },
    {
     "data": {
      "text/markdown": [
       "### Expected marginal means"
      ]
     },
     "metadata": {},
     "output_type": "display_data"
    },
    {
     "data": {
      "text/html": [
       "<table>\n",
       "<caption>A apa_results_table: 3 × 5</caption>\n",
       "<thead>\n",
       "\t<tr><th></th><th scope=col>cond0</th><th scope=col>estimate</th><th scope=col>ci</th><th scope=col>statistic</th><th scope=col>p.value</th></tr>\n",
       "\t<tr><th></th><th scope=col>&lt;chr&gt;</th><th scope=col>&lt;ppj_lbll&gt;</th><th scope=col>&lt;ppj_lbll&gt;</th><th scope=col>&lt;ppj_lbll&gt;</th><th scope=col>&lt;ppj_lbll&gt;</th></tr>\n",
       "</thead>\n",
       "<tbody>\n",
       "\t<tr><th scope=row>noun_F</th><td>noun_F</td><td>-0.35</td><td>$[-0.60$, $-0.10]$</td><td>-2.77</td><td>.007</td></tr>\n",
       "\t<tr><th scope=row>noun_M</th><td>noun_M</td><td>-0.30</td><td>$[-0.56$, $-0.05]$</td><td>-2.43</td><td>.018</td></tr>\n",
       "\t<tr><th scope=row>verb_X</th><td>verb_X</td><td>-0.16</td><td>$[-0.41$, $0.09]$ </td><td>-1.27</td><td>.210</td></tr>\n",
       "</tbody>\n",
       "</table>\n"
      ],
      "text/latex": [
       "A apa\\_results\\_table: 3 × 5\n",
       "\\begin{tabular}{r|lllll}\n",
       "  & cond0 & estimate & ci & statistic & p.value\\\\\n",
       "  & <chr> & <ppj\\_lbll> & <ppj\\_lbll> & <ppj\\_lbll> & <ppj\\_lbll>\\\\\n",
       "\\hline\n",
       "\tnoun\\_F & noun\\_F & -0.35 & \\${[}-0.60\\$, \\$-0.10{]}\\$ & -2.77 & .007\\\\\n",
       "\tnoun\\_M & noun\\_M & -0.30 & \\${[}-0.56\\$, \\$-0.05{]}\\$ & -2.43 & .018\\\\\n",
       "\tverb\\_X & verb\\_X & -0.16 & \\${[}-0.41\\$, \\$0.09{]}\\$  & -1.27 & .210\\\\\n",
       "\\end{tabular}\n"
      ],
      "text/markdown": [
       "\n",
       "A apa_results_table: 3 × 5\n",
       "\n",
       "| <!--/--> | cond0 &lt;chr&gt; | estimate &lt;ppj_lbll&gt; | ci &lt;ppj_lbll&gt; | statistic &lt;ppj_lbll&gt; | p.value &lt;ppj_lbll&gt; |\n",
       "|---|---|---|---|---|---|\n",
       "| noun_F | noun_F | -0.35 | $[-0.60$, $-0.10]$ | -2.77 | .007 |\n",
       "| noun_M | noun_M | -0.30 | $[-0.56$, $-0.05]$ | -2.43 | .018 |\n",
       "| verb_X | verb_X | -0.16 | $[-0.41$, $0.09]$  | -1.27 | .210 |\n",
       "\n"
      ],
      "text/plain": [
       "       cond0  estimate ci                 statistic p.value\n",
       "noun_F noun_F -0.35    $[-0.60$, $-0.10]$ -2.77     .007   \n",
       "noun_M noun_M -0.30    $[-0.56$, $-0.05]$ -2.43     .018   \n",
       "verb_X verb_X -0.16    $[-0.41$, $0.09]$  -1.27     .210   "
      ]
     },
     "metadata": {},
     "output_type": "display_data"
    },
    {
     "data": {
      "text/markdown": [
       "### Paired comparisons for expected marginal means"
      ]
     },
     "metadata": {},
     "output_type": "display_data"
    },
    {
     "data": {
      "text/html": [
       "<table>\n",
       "<caption>A apa_results_table: 3 × 5</caption>\n",
       "<thead>\n",
       "\t<tr><th></th><th scope=col>contrast</th><th scope=col>estimate</th><th scope=col>ci</th><th scope=col>statistic</th><th scope=col>p.value</th></tr>\n",
       "\t<tr><th></th><th scope=col>&lt;ppj_lbll&gt;</th><th scope=col>&lt;ppj_lbll&gt;</th><th scope=col>&lt;ppj_lbll&gt;</th><th scope=col>&lt;ppj_lbll&gt;</th><th scope=col>&lt;ppj_lbll&gt;</th></tr>\n",
       "</thead>\n",
       "<tbody>\n",
       "\t<tr><th scope=row>noun_F_noun_M</th><td>noun_F - noun_M</td><td>-0.04</td><td>$[-0.27$, $0.19]$</td><td>-0.43</td><td>.902</td></tr>\n",
       "\t<tr><th scope=row>noun_F_verb_X</th><td>noun_F - verb_X</td><td>-0.19</td><td>$[-0.42$, $0.04]$</td><td>-1.94</td><td>.134</td></tr>\n",
       "\t<tr><th scope=row>noun_M_verb_X</th><td>noun_M - verb_X</td><td>-0.15</td><td>$[-0.38$, $0.09]$</td><td>-1.51</td><td>.294</td></tr>\n",
       "</tbody>\n",
       "</table>\n"
      ],
      "text/latex": [
       "A apa\\_results\\_table: 3 × 5\n",
       "\\begin{tabular}{r|lllll}\n",
       "  & contrast & estimate & ci & statistic & p.value\\\\\n",
       "  & <ppj\\_lbll> & <ppj\\_lbll> & <ppj\\_lbll> & <ppj\\_lbll> & <ppj\\_lbll>\\\\\n",
       "\\hline\n",
       "\tnoun\\_F\\_noun\\_M & noun\\_F - noun\\_M & -0.04 & \\${[}-0.27\\$, \\$0.19{]}\\$ & -0.43 & .902\\\\\n",
       "\tnoun\\_F\\_verb\\_X & noun\\_F - verb\\_X & -0.19 & \\${[}-0.42\\$, \\$0.04{]}\\$ & -1.94 & .134\\\\\n",
       "\tnoun\\_M\\_verb\\_X & noun\\_M - verb\\_X & -0.15 & \\${[}-0.38\\$, \\$0.09{]}\\$ & -1.51 & .294\\\\\n",
       "\\end{tabular}\n"
      ],
      "text/markdown": [
       "\n",
       "A apa_results_table: 3 × 5\n",
       "\n",
       "| <!--/--> | contrast &lt;ppj_lbll&gt; | estimate &lt;ppj_lbll&gt; | ci &lt;ppj_lbll&gt; | statistic &lt;ppj_lbll&gt; | p.value &lt;ppj_lbll&gt; |\n",
       "|---|---|---|---|---|---|\n",
       "| noun_F_noun_M | noun_F - noun_M | -0.04 | $[-0.27$, $0.19]$ | -0.43 | .902 |\n",
       "| noun_F_verb_X | noun_F - verb_X | -0.19 | $[-0.42$, $0.04]$ | -1.94 | .134 |\n",
       "| noun_M_verb_X | noun_M - verb_X | -0.15 | $[-0.38$, $0.09]$ | -1.51 | .294 |\n",
       "\n"
      ],
      "text/plain": [
       "              contrast        estimate ci                statistic p.value\n",
       "noun_F_noun_M noun_F - noun_M -0.04    $[-0.27$, $0.19]$ -0.43     .902   \n",
       "noun_F_verb_X noun_F - verb_X -0.19    $[-0.42$, $0.04]$ -1.94     .134   \n",
       "noun_M_verb_X noun_M - verb_X -0.15    $[-0.38$, $0.09]$ -1.51     .294   "
      ]
     },
     "metadata": {},
     "output_type": "display_data"
    }
   ],
   "source": [
    "IDX <- IDX+1; COND <- CONDS[IDX]\n",
    "data1 <- droplevels(subset(df1, eval(parse(text=COND)))); data1 <- data1[complete.cases(data1),]; done1 <- AOV4(data1,COND)\n",
    "display_markdown(str_c(\"# Condition \",IDX,\" of \",length(CONDS))); display_markdown(done1$info); display_markdown(\"### Table\"); done1$aov_APA$table; display_markdown(\"### Result\"); display_markdown(done1$aov_APA[[\"full_result\"]][[\"cond0\"]]); display_markdown(\"### Summary (all done1, incl. NANs)\"); done1$summary; display_markdown(\"### Expected marginal means\"); done1$emm_APA$table; display_markdown(\"### Paired comparisons for expected marginal means\"); done1$pairs_APA$table"
   ]
  },
  {
   "cell_type": "code",
   "execution_count": 236,
   "metadata": {
    "scrolled": true
   },
   "outputs": [
    {
     "data": {
      "text/markdown": [
       "# Condition 69 of 72"
      ]
     },
     "metadata": {},
     "output_type": "display_data"
    },
    {
     "data": {
      "text/markdown": [
       "`tmin0==0.11 & chan0==\"LP\" & mode0==\"pos\"`"
      ]
     },
     "metadata": {},
     "output_type": "display_data"
    },
    {
     "data": {
      "text/markdown": [
       "### Table"
      ]
     },
     "metadata": {},
     "output_type": "display_data"
    },
    {
     "data": {
      "text/html": [
       "<table>\n",
       "<caption>A apa_results_table: 1 × 7</caption>\n",
       "<thead>\n",
       "\t<tr><th></th><th scope=col>Effect</th><th scope=col>F</th><th scope=col>df1</th><th scope=col>df2</th><th scope=col>MSE</th><th scope=col>p</th><th scope=col>ges</th></tr>\n",
       "\t<tr><th></th><th scope=col>&lt;ppj_lbll&gt;</th><th scope=col>&lt;ppj_lbll&gt;</th><th scope=col>&lt;ppj_lbll&gt;</th><th scope=col>&lt;ppj_lbll&gt;</th><th scope=col>&lt;ppj_lbll&gt;</th><th scope=col>&lt;ppj_lbll&gt;</th><th scope=col>&lt;ppj_lbll&gt;</th></tr>\n",
       "</thead>\n",
       "<tbody>\n",
       "\t<tr><th scope=row>1</th><td>Cond0</td><td>1.18</td><td>1.88</td><td>76.93</td><td>0.34</td><td>.312</td><td>.001</td></tr>\n",
       "</tbody>\n",
       "</table>\n"
      ],
      "text/latex": [
       "A apa\\_results\\_table: 1 × 7\n",
       "\\begin{tabular}{r|lllllll}\n",
       "  & Effect & F & df1 & df2 & MSE & p & ges\\\\\n",
       "  & <ppj\\_lbll> & <ppj\\_lbll> & <ppj\\_lbll> & <ppj\\_lbll> & <ppj\\_lbll> & <ppj\\_lbll> & <ppj\\_lbll>\\\\\n",
       "\\hline\n",
       "\t1 & Cond0 & 1.18 & 1.88 & 76.93 & 0.34 & .312 & .001\\\\\n",
       "\\end{tabular}\n"
      ],
      "text/markdown": [
       "\n",
       "A apa_results_table: 1 × 7\n",
       "\n",
       "| <!--/--> | Effect &lt;ppj_lbll&gt; | F &lt;ppj_lbll&gt; | df1 &lt;ppj_lbll&gt; | df2 &lt;ppj_lbll&gt; | MSE &lt;ppj_lbll&gt; | p &lt;ppj_lbll&gt; | ges &lt;ppj_lbll&gt; |\n",
       "|---|---|---|---|---|---|---|---|\n",
       "| 1 | Cond0 | 1.18 | 1.88 | 76.93 | 0.34 | .312 | .001 |\n",
       "\n"
      ],
      "text/plain": [
       "  Effect F    df1  df2   MSE  p    ges \n",
       "1 Cond0  1.18 1.88 76.93 0.34 .312 .001"
      ]
     },
     "metadata": {},
     "output_type": "display_data"
    },
    {
     "data": {
      "text/markdown": [
       "### Result"
      ]
     },
     "metadata": {},
     "output_type": "display_data"
    },
    {
     "data": {
      "text/markdown": [
       "$F(1.88, 76.93) = 1.18$, $\\mathit{MSE} = 0.34$, $p = .312$, $\\hat{\\eta}^2_G = .001$"
      ]
     },
     "metadata": {},
     "output_type": "display_data"
    },
    {
     "data": {
      "text/markdown": [
       "### Summary (all done1, incl. NANs)"
      ]
     },
     "metadata": {},
     "output_type": "display_data"
    },
    {
     "data": {
      "text/html": [
       "<table>\n",
       "<caption>A tibble: 3 × 5</caption>\n",
       "<thead>\n",
       "\t<tr><th scope=col>cond0</th><th scope=col>N</th><th scope=col>valX_M</th><th scope=col>valX_SD</th><th scope=col>valX_SE</th></tr>\n",
       "\t<tr><th scope=col>&lt;fct&gt;</th><th scope=col>&lt;int&gt;</th><th scope=col>&lt;dbl&gt;</th><th scope=col>&lt;dbl&gt;</th><th scope=col>&lt;dbl&gt;</th></tr>\n",
       "</thead>\n",
       "<tbody>\n",
       "\t<tr><td>noun_F</td><td>42</td><td>3.430646</td><td>2.261757</td><td>0.3489967</td></tr>\n",
       "\t<tr><td>noun_M</td><td>42</td><td>3.543390</td><td>2.185749</td><td>0.3372684</td></tr>\n",
       "\t<tr><td>verb_X</td><td>42</td><td>3.355083</td><td>2.336922</td><td>0.3605950</td></tr>\n",
       "</tbody>\n",
       "</table>\n"
      ],
      "text/latex": [
       "A tibble: 3 × 5\n",
       "\\begin{tabular}{lllll}\n",
       " cond0 & N & valX\\_M & valX\\_SD & valX\\_SE\\\\\n",
       " <fct> & <int> & <dbl> & <dbl> & <dbl>\\\\\n",
       "\\hline\n",
       "\t noun\\_F & 42 & 3.430646 & 2.261757 & 0.3489967\\\\\n",
       "\t noun\\_M & 42 & 3.543390 & 2.185749 & 0.3372684\\\\\n",
       "\t verb\\_X & 42 & 3.355083 & 2.336922 & 0.3605950\\\\\n",
       "\\end{tabular}\n"
      ],
      "text/markdown": [
       "\n",
       "A tibble: 3 × 5\n",
       "\n",
       "| cond0 &lt;fct&gt; | N &lt;int&gt; | valX_M &lt;dbl&gt; | valX_SD &lt;dbl&gt; | valX_SE &lt;dbl&gt; |\n",
       "|---|---|---|---|---|\n",
       "| noun_F | 42 | 3.430646 | 2.261757 | 0.3489967 |\n",
       "| noun_M | 42 | 3.543390 | 2.185749 | 0.3372684 |\n",
       "| verb_X | 42 | 3.355083 | 2.336922 | 0.3605950 |\n",
       "\n"
      ],
      "text/plain": [
       "  cond0  N  valX_M   valX_SD  valX_SE  \n",
       "1 noun_F 42 3.430646 2.261757 0.3489967\n",
       "2 noun_M 42 3.543390 2.185749 0.3372684\n",
       "3 verb_X 42 3.355083 2.336922 0.3605950"
      ]
     },
     "metadata": {},
     "output_type": "display_data"
    },
    {
     "data": {
      "text/markdown": [
       "### Expected marginal means"
      ]
     },
     "metadata": {},
     "output_type": "display_data"
    },
    {
     "data": {
      "text/html": [
       "<table>\n",
       "<caption>A apa_results_table: 3 × 5</caption>\n",
       "<thead>\n",
       "\t<tr><th></th><th scope=col>cond0</th><th scope=col>estimate</th><th scope=col>ci</th><th scope=col>statistic</th><th scope=col>p.value</th></tr>\n",
       "\t<tr><th></th><th scope=col>&lt;chr&gt;</th><th scope=col>&lt;ppj_lbll&gt;</th><th scope=col>&lt;ppj_lbll&gt;</th><th scope=col>&lt;ppj_lbll&gt;</th><th scope=col>&lt;ppj_lbll&gt;</th></tr>\n",
       "</thead>\n",
       "<tbody>\n",
       "\t<tr><th scope=row>noun_F</th><td>noun_F</td><td>3.43</td><td>$[2.73$, $4.13]$</td><td>9.83 </td><td>&lt; .001</td></tr>\n",
       "\t<tr><th scope=row>noun_M</th><td>noun_M</td><td>3.54</td><td>$[2.84$, $4.25]$</td><td>10.15</td><td>&lt; .001</td></tr>\n",
       "\t<tr><th scope=row>verb_X</th><td>verb_X</td><td>3.36</td><td>$[2.65$, $4.06]$</td><td>9.61 </td><td>&lt; .001</td></tr>\n",
       "</tbody>\n",
       "</table>\n"
      ],
      "text/latex": [
       "A apa\\_results\\_table: 3 × 5\n",
       "\\begin{tabular}{r|lllll}\n",
       "  & cond0 & estimate & ci & statistic & p.value\\\\\n",
       "  & <chr> & <ppj\\_lbll> & <ppj\\_lbll> & <ppj\\_lbll> & <ppj\\_lbll>\\\\\n",
       "\\hline\n",
       "\tnoun\\_F & noun\\_F & 3.43 & \\${[}2.73\\$, \\$4.13{]}\\$ & 9.83  & < .001\\\\\n",
       "\tnoun\\_M & noun\\_M & 3.54 & \\${[}2.84\\$, \\$4.25{]}\\$ & 10.15 & < .001\\\\\n",
       "\tverb\\_X & verb\\_X & 3.36 & \\${[}2.65\\$, \\$4.06{]}\\$ & 9.61  & < .001\\\\\n",
       "\\end{tabular}\n"
      ],
      "text/markdown": [
       "\n",
       "A apa_results_table: 3 × 5\n",
       "\n",
       "| <!--/--> | cond0 &lt;chr&gt; | estimate &lt;ppj_lbll&gt; | ci &lt;ppj_lbll&gt; | statistic &lt;ppj_lbll&gt; | p.value &lt;ppj_lbll&gt; |\n",
       "|---|---|---|---|---|---|\n",
       "| noun_F | noun_F | 3.43 | $[2.73$, $4.13]$ | 9.83  | &lt; .001 |\n",
       "| noun_M | noun_M | 3.54 | $[2.84$, $4.25]$ | 10.15 | &lt; .001 |\n",
       "| verb_X | verb_X | 3.36 | $[2.65$, $4.06]$ | 9.61  | &lt; .001 |\n",
       "\n"
      ],
      "text/plain": [
       "       cond0  estimate ci               statistic p.value\n",
       "noun_F noun_F 3.43     $[2.73$, $4.13]$ 9.83      < .001 \n",
       "noun_M noun_M 3.54     $[2.84$, $4.25]$ 10.15     < .001 \n",
       "verb_X verb_X 3.36     $[2.65$, $4.06]$ 9.61      < .001 "
      ]
     },
     "metadata": {},
     "output_type": "display_data"
    },
    {
     "data": {
      "text/markdown": [
       "### Paired comparisons for expected marginal means"
      ]
     },
     "metadata": {},
     "output_type": "display_data"
    },
    {
     "data": {
      "text/html": [
       "<table>\n",
       "<caption>A apa_results_table: 3 × 5</caption>\n",
       "<thead>\n",
       "\t<tr><th></th><th scope=col>contrast</th><th scope=col>estimate</th><th scope=col>ci</th><th scope=col>statistic</th><th scope=col>p.value</th></tr>\n",
       "\t<tr><th></th><th scope=col>&lt;ppj_lbll&gt;</th><th scope=col>&lt;ppj_lbll&gt;</th><th scope=col>&lt;ppj_lbll&gt;</th><th scope=col>&lt;ppj_lbll&gt;</th><th scope=col>&lt;ppj_lbll&gt;</th></tr>\n",
       "</thead>\n",
       "<tbody>\n",
       "\t<tr><th scope=row>noun_F_noun_M</th><td>noun_F - noun_M</td><td>-0.11</td><td>$[-0.41$, $0.18]$</td><td>-0.91</td><td>.634</td></tr>\n",
       "\t<tr><th scope=row>noun_F_verb_X</th><td>noun_F - verb_X</td><td>0.08 </td><td>$[-0.22$, $0.37]$</td><td>0.61 </td><td>.814</td></tr>\n",
       "\t<tr><th scope=row>noun_M_verb_X</th><td>noun_M - verb_X</td><td>0.19 </td><td>$[-0.11$, $0.48]$</td><td>1.52 </td><td>.285</td></tr>\n",
       "</tbody>\n",
       "</table>\n"
      ],
      "text/latex": [
       "A apa\\_results\\_table: 3 × 5\n",
       "\\begin{tabular}{r|lllll}\n",
       "  & contrast & estimate & ci & statistic & p.value\\\\\n",
       "  & <ppj\\_lbll> & <ppj\\_lbll> & <ppj\\_lbll> & <ppj\\_lbll> & <ppj\\_lbll>\\\\\n",
       "\\hline\n",
       "\tnoun\\_F\\_noun\\_M & noun\\_F - noun\\_M & -0.11 & \\${[}-0.41\\$, \\$0.18{]}\\$ & -0.91 & .634\\\\\n",
       "\tnoun\\_F\\_verb\\_X & noun\\_F - verb\\_X & 0.08  & \\${[}-0.22\\$, \\$0.37{]}\\$ & 0.61  & .814\\\\\n",
       "\tnoun\\_M\\_verb\\_X & noun\\_M - verb\\_X & 0.19  & \\${[}-0.11\\$, \\$0.48{]}\\$ & 1.52  & .285\\\\\n",
       "\\end{tabular}\n"
      ],
      "text/markdown": [
       "\n",
       "A apa_results_table: 3 × 5\n",
       "\n",
       "| <!--/--> | contrast &lt;ppj_lbll&gt; | estimate &lt;ppj_lbll&gt; | ci &lt;ppj_lbll&gt; | statistic &lt;ppj_lbll&gt; | p.value &lt;ppj_lbll&gt; |\n",
       "|---|---|---|---|---|---|\n",
       "| noun_F_noun_M | noun_F - noun_M | -0.11 | $[-0.41$, $0.18]$ | -0.91 | .634 |\n",
       "| noun_F_verb_X | noun_F - verb_X | 0.08  | $[-0.22$, $0.37]$ | 0.61  | .814 |\n",
       "| noun_M_verb_X | noun_M - verb_X | 0.19  | $[-0.11$, $0.48]$ | 1.52  | .285 |\n",
       "\n"
      ],
      "text/plain": [
       "              contrast        estimate ci                statistic p.value\n",
       "noun_F_noun_M noun_F - noun_M -0.11    $[-0.41$, $0.18]$ -0.91     .634   \n",
       "noun_F_verb_X noun_F - verb_X 0.08     $[-0.22$, $0.37]$ 0.61      .814   \n",
       "noun_M_verb_X noun_M - verb_X 0.19     $[-0.11$, $0.48]$ 1.52      .285   "
      ]
     },
     "metadata": {},
     "output_type": "display_data"
    }
   ],
   "source": [
    "IDX <- IDX+1; COND <- CONDS[IDX]\n",
    "data1 <- droplevels(subset(df1, eval(parse(text=COND)))); data1 <- data1[complete.cases(data1),]; done1 <- AOV4(data1,COND)\n",
    "display_markdown(str_c(\"# Condition \",IDX,\" of \",length(CONDS))); display_markdown(done1$info); display_markdown(\"### Table\"); done1$aov_APA$table; display_markdown(\"### Result\"); display_markdown(done1$aov_APA[[\"full_result\"]][[\"cond0\"]]); display_markdown(\"### Summary (all done1, incl. NANs)\"); done1$summary; display_markdown(\"### Expected marginal means\"); done1$emm_APA$table; display_markdown(\"### Paired comparisons for expected marginal means\"); done1$pairs_APA$table"
   ]
  },
  {
   "cell_type": "code",
   "execution_count": 237,
   "metadata": {},
   "outputs": [
    {
     "data": {
      "text/markdown": [
       "# Condition 70 of 72"
      ]
     },
     "metadata": {},
     "output_type": "display_data"
    },
    {
     "data": {
      "text/markdown": [
       "`tmin0==0.11 & chan0==\"LP\" & mode0==\"neg\"`"
      ]
     },
     "metadata": {},
     "output_type": "display_data"
    },
    {
     "data": {
      "text/markdown": [
       "### Table"
      ]
     },
     "metadata": {},
     "output_type": "display_data"
    },
    {
     "data": {
      "text/html": [
       "<table>\n",
       "<caption>A apa_results_table: 1 × 7</caption>\n",
       "<thead>\n",
       "\t<tr><th></th><th scope=col>Effect</th><th scope=col>F</th><th scope=col>df1</th><th scope=col>df2</th><th scope=col>MSE</th><th scope=col>p</th><th scope=col>ges</th></tr>\n",
       "\t<tr><th></th><th scope=col>&lt;ppj_lbll&gt;</th><th scope=col>&lt;ppj_lbll&gt;</th><th scope=col>&lt;ppj_lbll&gt;</th><th scope=col>&lt;ppj_lbll&gt;</th><th scope=col>&lt;ppj_lbll&gt;</th><th scope=col>&lt;ppj_lbll&gt;</th><th scope=col>&lt;ppj_lbll&gt;</th></tr>\n",
       "</thead>\n",
       "<tbody>\n",
       "\t<tr><th scope=row>1</th><td>Cond0</td><td>0.99</td><td>1.74</td><td>71.48</td><td>0.38</td><td>.367</td><td>.002</td></tr>\n",
       "</tbody>\n",
       "</table>\n"
      ],
      "text/latex": [
       "A apa\\_results\\_table: 1 × 7\n",
       "\\begin{tabular}{r|lllllll}\n",
       "  & Effect & F & df1 & df2 & MSE & p & ges\\\\\n",
       "  & <ppj\\_lbll> & <ppj\\_lbll> & <ppj\\_lbll> & <ppj\\_lbll> & <ppj\\_lbll> & <ppj\\_lbll> & <ppj\\_lbll>\\\\\n",
       "\\hline\n",
       "\t1 & Cond0 & 0.99 & 1.74 & 71.48 & 0.38 & .367 & .002\\\\\n",
       "\\end{tabular}\n"
      ],
      "text/markdown": [
       "\n",
       "A apa_results_table: 1 × 7\n",
       "\n",
       "| <!--/--> | Effect &lt;ppj_lbll&gt; | F &lt;ppj_lbll&gt; | df1 &lt;ppj_lbll&gt; | df2 &lt;ppj_lbll&gt; | MSE &lt;ppj_lbll&gt; | p &lt;ppj_lbll&gt; | ges &lt;ppj_lbll&gt; |\n",
       "|---|---|---|---|---|---|---|---|\n",
       "| 1 | Cond0 | 0.99 | 1.74 | 71.48 | 0.38 | .367 | .002 |\n",
       "\n"
      ],
      "text/plain": [
       "  Effect F    df1  df2   MSE  p    ges \n",
       "1 Cond0  0.99 1.74 71.48 0.38 .367 .002"
      ]
     },
     "metadata": {},
     "output_type": "display_data"
    },
    {
     "data": {
      "text/markdown": [
       "### Result"
      ]
     },
     "metadata": {},
     "output_type": "display_data"
    },
    {
     "data": {
      "text/markdown": [
       "$F(1.74, 71.48) = 0.99$, $\\mathit{MSE} = 0.38$, $p = .367$, $\\hat{\\eta}^2_G = .002$"
      ]
     },
     "metadata": {},
     "output_type": "display_data"
    },
    {
     "data": {
      "text/markdown": [
       "### Summary (all done1, incl. NANs)"
      ]
     },
     "metadata": {},
     "output_type": "display_data"
    },
    {
     "data": {
      "text/html": [
       "<table>\n",
       "<caption>A tibble: 3 × 5</caption>\n",
       "<thead>\n",
       "\t<tr><th scope=col>cond0</th><th scope=col>N</th><th scope=col>valX_M</th><th scope=col>valX_SD</th><th scope=col>valX_SE</th></tr>\n",
       "\t<tr><th scope=col>&lt;fct&gt;</th><th scope=col>&lt;int&gt;</th><th scope=col>&lt;dbl&gt;</th><th scope=col>&lt;dbl&gt;</th><th scope=col>&lt;dbl&gt;</th></tr>\n",
       "</thead>\n",
       "<tbody>\n",
       "\t<tr><td>noun_F</td><td>42</td><td>1.229821</td><td>1.916323</td><td>0.2956950</td></tr>\n",
       "\t<tr><td>noun_M</td><td>42</td><td>1.367201</td><td>1.833607</td><td>0.2829318</td></tr>\n",
       "\t<tr><td>verb_X</td><td>42</td><td>1.201093</td><td>1.866273</td><td>0.2879721</td></tr>\n",
       "</tbody>\n",
       "</table>\n"
      ],
      "text/latex": [
       "A tibble: 3 × 5\n",
       "\\begin{tabular}{lllll}\n",
       " cond0 & N & valX\\_M & valX\\_SD & valX\\_SE\\\\\n",
       " <fct> & <int> & <dbl> & <dbl> & <dbl>\\\\\n",
       "\\hline\n",
       "\t noun\\_F & 42 & 1.229821 & 1.916323 & 0.2956950\\\\\n",
       "\t noun\\_M & 42 & 1.367201 & 1.833607 & 0.2829318\\\\\n",
       "\t verb\\_X & 42 & 1.201093 & 1.866273 & 0.2879721\\\\\n",
       "\\end{tabular}\n"
      ],
      "text/markdown": [
       "\n",
       "A tibble: 3 × 5\n",
       "\n",
       "| cond0 &lt;fct&gt; | N &lt;int&gt; | valX_M &lt;dbl&gt; | valX_SD &lt;dbl&gt; | valX_SE &lt;dbl&gt; |\n",
       "|---|---|---|---|---|\n",
       "| noun_F | 42 | 1.229821 | 1.916323 | 0.2956950 |\n",
       "| noun_M | 42 | 1.367201 | 1.833607 | 0.2829318 |\n",
       "| verb_X | 42 | 1.201093 | 1.866273 | 0.2879721 |\n",
       "\n"
      ],
      "text/plain": [
       "  cond0  N  valX_M   valX_SD  valX_SE  \n",
       "1 noun_F 42 1.229821 1.916323 0.2956950\n",
       "2 noun_M 42 1.367201 1.833607 0.2829318\n",
       "3 verb_X 42 1.201093 1.866273 0.2879721"
      ]
     },
     "metadata": {},
     "output_type": "display_data"
    },
    {
     "data": {
      "text/markdown": [
       "### Expected marginal means"
      ]
     },
     "metadata": {},
     "output_type": "display_data"
    },
    {
     "data": {
      "text/html": [
       "<table>\n",
       "<caption>A apa_results_table: 3 × 5</caption>\n",
       "<thead>\n",
       "\t<tr><th></th><th scope=col>cond0</th><th scope=col>estimate</th><th scope=col>ci</th><th scope=col>statistic</th><th scope=col>p.value</th></tr>\n",
       "\t<tr><th></th><th scope=col>&lt;chr&gt;</th><th scope=col>&lt;ppj_lbll&gt;</th><th scope=col>&lt;ppj_lbll&gt;</th><th scope=col>&lt;ppj_lbll&gt;</th><th scope=col>&lt;ppj_lbll&gt;</th></tr>\n",
       "</thead>\n",
       "<tbody>\n",
       "\t<tr><th scope=row>noun_F</th><td>noun_F</td><td>1.23</td><td>$[0.65$, $1.81]$</td><td>4.26</td><td>&lt; .001</td></tr>\n",
       "\t<tr><th scope=row>noun_M</th><td>noun_M</td><td>1.37</td><td>$[0.79$, $1.95]$</td><td>4.73</td><td>&lt; .001</td></tr>\n",
       "\t<tr><th scope=row>verb_X</th><td>verb_X</td><td>1.20</td><td>$[0.62$, $1.78]$</td><td>4.16</td><td>&lt; .001</td></tr>\n",
       "</tbody>\n",
       "</table>\n"
      ],
      "text/latex": [
       "A apa\\_results\\_table: 3 × 5\n",
       "\\begin{tabular}{r|lllll}\n",
       "  & cond0 & estimate & ci & statistic & p.value\\\\\n",
       "  & <chr> & <ppj\\_lbll> & <ppj\\_lbll> & <ppj\\_lbll> & <ppj\\_lbll>\\\\\n",
       "\\hline\n",
       "\tnoun\\_F & noun\\_F & 1.23 & \\${[}0.65\\$, \\$1.81{]}\\$ & 4.26 & < .001\\\\\n",
       "\tnoun\\_M & noun\\_M & 1.37 & \\${[}0.79\\$, \\$1.95{]}\\$ & 4.73 & < .001\\\\\n",
       "\tverb\\_X & verb\\_X & 1.20 & \\${[}0.62\\$, \\$1.78{]}\\$ & 4.16 & < .001\\\\\n",
       "\\end{tabular}\n"
      ],
      "text/markdown": [
       "\n",
       "A apa_results_table: 3 × 5\n",
       "\n",
       "| <!--/--> | cond0 &lt;chr&gt; | estimate &lt;ppj_lbll&gt; | ci &lt;ppj_lbll&gt; | statistic &lt;ppj_lbll&gt; | p.value &lt;ppj_lbll&gt; |\n",
       "|---|---|---|---|---|---|\n",
       "| noun_F | noun_F | 1.23 | $[0.65$, $1.81]$ | 4.26 | &lt; .001 |\n",
       "| noun_M | noun_M | 1.37 | $[0.79$, $1.95]$ | 4.73 | &lt; .001 |\n",
       "| verb_X | verb_X | 1.20 | $[0.62$, $1.78]$ | 4.16 | &lt; .001 |\n",
       "\n"
      ],
      "text/plain": [
       "       cond0  estimate ci               statistic p.value\n",
       "noun_F noun_F 1.23     $[0.65$, $1.81]$ 4.26      < .001 \n",
       "noun_M noun_M 1.37     $[0.79$, $1.95]$ 4.73      < .001 \n",
       "verb_X verb_X 1.20     $[0.62$, $1.78]$ 4.16      < .001 "
      ]
     },
     "metadata": {},
     "output_type": "display_data"
    },
    {
     "data": {
      "text/markdown": [
       "### Paired comparisons for expected marginal means"
      ]
     },
     "metadata": {},
     "output_type": "display_data"
    },
    {
     "data": {
      "text/html": [
       "<table>\n",
       "<caption>A apa_results_table: 3 × 5</caption>\n",
       "<thead>\n",
       "\t<tr><th></th><th scope=col>contrast</th><th scope=col>estimate</th><th scope=col>ci</th><th scope=col>statistic</th><th scope=col>p.value</th></tr>\n",
       "\t<tr><th></th><th scope=col>&lt;ppj_lbll&gt;</th><th scope=col>&lt;ppj_lbll&gt;</th><th scope=col>&lt;ppj_lbll&gt;</th><th scope=col>&lt;ppj_lbll&gt;</th><th scope=col>&lt;ppj_lbll&gt;</th></tr>\n",
       "</thead>\n",
       "<tbody>\n",
       "\t<tr><th scope=row>noun_F_noun_M</th><td>noun_F - noun_M</td><td>-0.14</td><td>$[-0.44$, $0.16]$</td><td>-1.09</td><td>.524</td></tr>\n",
       "\t<tr><th scope=row>noun_F_verb_X</th><td>noun_F - verb_X</td><td>0.03 </td><td>$[-0.27$, $0.33]$</td><td>0.23 </td><td>.972</td></tr>\n",
       "\t<tr><th scope=row>noun_M_verb_X</th><td>noun_M - verb_X</td><td>0.17 </td><td>$[-0.14$, $0.47]$</td><td>1.32 </td><td>.391</td></tr>\n",
       "</tbody>\n",
       "</table>\n"
      ],
      "text/latex": [
       "A apa\\_results\\_table: 3 × 5\n",
       "\\begin{tabular}{r|lllll}\n",
       "  & contrast & estimate & ci & statistic & p.value\\\\\n",
       "  & <ppj\\_lbll> & <ppj\\_lbll> & <ppj\\_lbll> & <ppj\\_lbll> & <ppj\\_lbll>\\\\\n",
       "\\hline\n",
       "\tnoun\\_F\\_noun\\_M & noun\\_F - noun\\_M & -0.14 & \\${[}-0.44\\$, \\$0.16{]}\\$ & -1.09 & .524\\\\\n",
       "\tnoun\\_F\\_verb\\_X & noun\\_F - verb\\_X & 0.03  & \\${[}-0.27\\$, \\$0.33{]}\\$ & 0.23  & .972\\\\\n",
       "\tnoun\\_M\\_verb\\_X & noun\\_M - verb\\_X & 0.17  & \\${[}-0.14\\$, \\$0.47{]}\\$ & 1.32  & .391\\\\\n",
       "\\end{tabular}\n"
      ],
      "text/markdown": [
       "\n",
       "A apa_results_table: 3 × 5\n",
       "\n",
       "| <!--/--> | contrast &lt;ppj_lbll&gt; | estimate &lt;ppj_lbll&gt; | ci &lt;ppj_lbll&gt; | statistic &lt;ppj_lbll&gt; | p.value &lt;ppj_lbll&gt; |\n",
       "|---|---|---|---|---|---|\n",
       "| noun_F_noun_M | noun_F - noun_M | -0.14 | $[-0.44$, $0.16]$ | -1.09 | .524 |\n",
       "| noun_F_verb_X | noun_F - verb_X | 0.03  | $[-0.27$, $0.33]$ | 0.23  | .972 |\n",
       "| noun_M_verb_X | noun_M - verb_X | 0.17  | $[-0.14$, $0.47]$ | 1.32  | .391 |\n",
       "\n"
      ],
      "text/plain": [
       "              contrast        estimate ci                statistic p.value\n",
       "noun_F_noun_M noun_F - noun_M -0.14    $[-0.44$, $0.16]$ -1.09     .524   \n",
       "noun_F_verb_X noun_F - verb_X 0.03     $[-0.27$, $0.33]$ 0.23      .972   \n",
       "noun_M_verb_X noun_M - verb_X 0.17     $[-0.14$, $0.47]$ 1.32      .391   "
      ]
     },
     "metadata": {},
     "output_type": "display_data"
    }
   ],
   "source": [
    "IDX <- IDX+1; COND <- CONDS[IDX]\n",
    "data1 <- droplevels(subset(df1, eval(parse(text=COND)))); data1 <- data1[complete.cases(data1),]; done1 <- AOV4(data1,COND)\n",
    "display_markdown(str_c(\"# Condition \",IDX,\" of \",length(CONDS))); display_markdown(done1$info); display_markdown(\"### Table\"); done1$aov_APA$table; display_markdown(\"### Result\"); display_markdown(done1$aov_APA[[\"full_result\"]][[\"cond0\"]]); display_markdown(\"### Summary (all done1, incl. NANs)\"); done1$summary; display_markdown(\"### Expected marginal means\"); done1$emm_APA$table; display_markdown(\"### Paired comparisons for expected marginal means\"); done1$pairs_APA$table"
   ]
  },
  {
   "cell_type": "code",
   "execution_count": 238,
   "metadata": {},
   "outputs": [
    {
     "data": {
      "text/markdown": [
       "# Condition 71 of 72"
      ]
     },
     "metadata": {},
     "output_type": "display_data"
    },
    {
     "data": {
      "text/markdown": [
       "`tmin0==0.11 & chan0==\"RP\" & mode0==\"pos\"`"
      ]
     },
     "metadata": {},
     "output_type": "display_data"
    },
    {
     "data": {
      "text/markdown": [
       "### Table"
      ]
     },
     "metadata": {},
     "output_type": "display_data"
    },
    {
     "data": {
      "text/html": [
       "<table>\n",
       "<caption>A apa_results_table: 1 × 7</caption>\n",
       "<thead>\n",
       "\t<tr><th></th><th scope=col>Effect</th><th scope=col>F</th><th scope=col>df1</th><th scope=col>df2</th><th scope=col>MSE</th><th scope=col>p</th><th scope=col>ges</th></tr>\n",
       "\t<tr><th></th><th scope=col>&lt;ppj_lbll&gt;</th><th scope=col>&lt;ppj_lbll&gt;</th><th scope=col>&lt;ppj_lbll&gt;</th><th scope=col>&lt;ppj_lbll&gt;</th><th scope=col>&lt;ppj_lbll&gt;</th><th scope=col>&lt;ppj_lbll&gt;</th><th scope=col>&lt;ppj_lbll&gt;</th></tr>\n",
       "</thead>\n",
       "<tbody>\n",
       "\t<tr><th scope=row>1</th><td>Cond0</td><td>0.36</td><td>1.75</td><td>71.93</td><td>0.46</td><td>.673</td><td>.000</td></tr>\n",
       "</tbody>\n",
       "</table>\n"
      ],
      "text/latex": [
       "A apa\\_results\\_table: 1 × 7\n",
       "\\begin{tabular}{r|lllllll}\n",
       "  & Effect & F & df1 & df2 & MSE & p & ges\\\\\n",
       "  & <ppj\\_lbll> & <ppj\\_lbll> & <ppj\\_lbll> & <ppj\\_lbll> & <ppj\\_lbll> & <ppj\\_lbll> & <ppj\\_lbll>\\\\\n",
       "\\hline\n",
       "\t1 & Cond0 & 0.36 & 1.75 & 71.93 & 0.46 & .673 & .000\\\\\n",
       "\\end{tabular}\n"
      ],
      "text/markdown": [
       "\n",
       "A apa_results_table: 1 × 7\n",
       "\n",
       "| <!--/--> | Effect &lt;ppj_lbll&gt; | F &lt;ppj_lbll&gt; | df1 &lt;ppj_lbll&gt; | df2 &lt;ppj_lbll&gt; | MSE &lt;ppj_lbll&gt; | p &lt;ppj_lbll&gt; | ges &lt;ppj_lbll&gt; |\n",
       "|---|---|---|---|---|---|---|---|\n",
       "| 1 | Cond0 | 0.36 | 1.75 | 71.93 | 0.46 | .673 | .000 |\n",
       "\n"
      ],
      "text/plain": [
       "  Effect F    df1  df2   MSE  p    ges \n",
       "1 Cond0  0.36 1.75 71.93 0.46 .673 .000"
      ]
     },
     "metadata": {},
     "output_type": "display_data"
    },
    {
     "data": {
      "text/markdown": [
       "### Result"
      ]
     },
     "metadata": {},
     "output_type": "display_data"
    },
    {
     "data": {
      "text/markdown": [
       "$F(1.75, 71.93) = 0.36$, $\\mathit{MSE} = 0.46$, $p = .673$, $\\hat{\\eta}^2_G = .000$"
      ]
     },
     "metadata": {},
     "output_type": "display_data"
    },
    {
     "data": {
      "text/markdown": [
       "### Summary (all done1, incl. NANs)"
      ]
     },
     "metadata": {},
     "output_type": "display_data"
    },
    {
     "data": {
      "text/html": [
       "<table>\n",
       "<caption>A tibble: 3 × 5</caption>\n",
       "<thead>\n",
       "\t<tr><th scope=col>cond0</th><th scope=col>N</th><th scope=col>valX_M</th><th scope=col>valX_SD</th><th scope=col>valX_SE</th></tr>\n",
       "\t<tr><th scope=col>&lt;fct&gt;</th><th scope=col>&lt;int&gt;</th><th scope=col>&lt;dbl&gt;</th><th scope=col>&lt;dbl&gt;</th><th scope=col>&lt;dbl&gt;</th></tr>\n",
       "</thead>\n",
       "<tbody>\n",
       "\t<tr><td>noun_F</td><td>42</td><td>4.531062</td><td>2.938263</td><td>0.4533838</td></tr>\n",
       "\t<tr><td>noun_M</td><td>42</td><td>4.425679</td><td>2.625005</td><td>0.4050471</td></tr>\n",
       "\t<tr><td>verb_X</td><td>42</td><td>4.521772</td><td>2.673249</td><td>0.4124913</td></tr>\n",
       "</tbody>\n",
       "</table>\n"
      ],
      "text/latex": [
       "A tibble: 3 × 5\n",
       "\\begin{tabular}{lllll}\n",
       " cond0 & N & valX\\_M & valX\\_SD & valX\\_SE\\\\\n",
       " <fct> & <int> & <dbl> & <dbl> & <dbl>\\\\\n",
       "\\hline\n",
       "\t noun\\_F & 42 & 4.531062 & 2.938263 & 0.4533838\\\\\n",
       "\t noun\\_M & 42 & 4.425679 & 2.625005 & 0.4050471\\\\\n",
       "\t verb\\_X & 42 & 4.521772 & 2.673249 & 0.4124913\\\\\n",
       "\\end{tabular}\n"
      ],
      "text/markdown": [
       "\n",
       "A tibble: 3 × 5\n",
       "\n",
       "| cond0 &lt;fct&gt; | N &lt;int&gt; | valX_M &lt;dbl&gt; | valX_SD &lt;dbl&gt; | valX_SE &lt;dbl&gt; |\n",
       "|---|---|---|---|---|\n",
       "| noun_F | 42 | 4.531062 | 2.938263 | 0.4533838 |\n",
       "| noun_M | 42 | 4.425679 | 2.625005 | 0.4050471 |\n",
       "| verb_X | 42 | 4.521772 | 2.673249 | 0.4124913 |\n",
       "\n"
      ],
      "text/plain": [
       "  cond0  N  valX_M   valX_SD  valX_SE  \n",
       "1 noun_F 42 4.531062 2.938263 0.4533838\n",
       "2 noun_M 42 4.425679 2.625005 0.4050471\n",
       "3 verb_X 42 4.521772 2.673249 0.4124913"
      ]
     },
     "metadata": {},
     "output_type": "display_data"
    },
    {
     "data": {
      "text/markdown": [
       "### Expected marginal means"
      ]
     },
     "metadata": {},
     "output_type": "display_data"
    },
    {
     "data": {
      "text/html": [
       "<table>\n",
       "<caption>A apa_results_table: 3 × 5</caption>\n",
       "<thead>\n",
       "\t<tr><th></th><th scope=col>cond0</th><th scope=col>estimate</th><th scope=col>ci</th><th scope=col>statistic</th><th scope=col>p.value</th></tr>\n",
       "\t<tr><th></th><th scope=col>&lt;chr&gt;</th><th scope=col>&lt;ppj_lbll&gt;</th><th scope=col>&lt;ppj_lbll&gt;</th><th scope=col>&lt;ppj_lbll&gt;</th><th scope=col>&lt;ppj_lbll&gt;</th></tr>\n",
       "</thead>\n",
       "<tbody>\n",
       "\t<tr><th scope=row>noun_F</th><td>noun_F</td><td>4.53</td><td>$[3.68$, $5.39]$</td><td>10.68</td><td>&lt; .001</td></tr>\n",
       "\t<tr><th scope=row>noun_M</th><td>noun_M</td><td>4.43</td><td>$[3.57$, $5.28]$</td><td>10.43</td><td>&lt; .001</td></tr>\n",
       "\t<tr><th scope=row>verb_X</th><td>verb_X</td><td>4.52</td><td>$[3.67$, $5.38]$</td><td>10.66</td><td>&lt; .001</td></tr>\n",
       "</tbody>\n",
       "</table>\n"
      ],
      "text/latex": [
       "A apa\\_results\\_table: 3 × 5\n",
       "\\begin{tabular}{r|lllll}\n",
       "  & cond0 & estimate & ci & statistic & p.value\\\\\n",
       "  & <chr> & <ppj\\_lbll> & <ppj\\_lbll> & <ppj\\_lbll> & <ppj\\_lbll>\\\\\n",
       "\\hline\n",
       "\tnoun\\_F & noun\\_F & 4.53 & \\${[}3.68\\$, \\$5.39{]}\\$ & 10.68 & < .001\\\\\n",
       "\tnoun\\_M & noun\\_M & 4.43 & \\${[}3.57\\$, \\$5.28{]}\\$ & 10.43 & < .001\\\\\n",
       "\tverb\\_X & verb\\_X & 4.52 & \\${[}3.67\\$, \\$5.38{]}\\$ & 10.66 & < .001\\\\\n",
       "\\end{tabular}\n"
      ],
      "text/markdown": [
       "\n",
       "A apa_results_table: 3 × 5\n",
       "\n",
       "| <!--/--> | cond0 &lt;chr&gt; | estimate &lt;ppj_lbll&gt; | ci &lt;ppj_lbll&gt; | statistic &lt;ppj_lbll&gt; | p.value &lt;ppj_lbll&gt; |\n",
       "|---|---|---|---|---|---|\n",
       "| noun_F | noun_F | 4.53 | $[3.68$, $5.39]$ | 10.68 | &lt; .001 |\n",
       "| noun_M | noun_M | 4.43 | $[3.57$, $5.28]$ | 10.43 | &lt; .001 |\n",
       "| verb_X | verb_X | 4.52 | $[3.67$, $5.38]$ | 10.66 | &lt; .001 |\n",
       "\n"
      ],
      "text/plain": [
       "       cond0  estimate ci               statistic p.value\n",
       "noun_F noun_F 4.53     $[3.68$, $5.39]$ 10.68     < .001 \n",
       "noun_M noun_M 4.43     $[3.57$, $5.28]$ 10.43     < .001 \n",
       "verb_X verb_X 4.52     $[3.67$, $5.38]$ 10.66     < .001 "
      ]
     },
     "metadata": {},
     "output_type": "display_data"
    },
    {
     "data": {
      "text/markdown": [
       "### Paired comparisons for expected marginal means"
      ]
     },
     "metadata": {},
     "output_type": "display_data"
    },
    {
     "data": {
      "text/html": [
       "<table>\n",
       "<caption>A apa_results_table: 3 × 5</caption>\n",
       "<thead>\n",
       "\t<tr><th></th><th scope=col>contrast</th><th scope=col>estimate</th><th scope=col>ci</th><th scope=col>statistic</th><th scope=col>p.value</th></tr>\n",
       "\t<tr><th></th><th scope=col>&lt;ppj_lbll&gt;</th><th scope=col>&lt;ppj_lbll&gt;</th><th scope=col>&lt;ppj_lbll&gt;</th><th scope=col>&lt;ppj_lbll&gt;</th><th scope=col>&lt;ppj_lbll&gt;</th></tr>\n",
       "</thead>\n",
       "<tbody>\n",
       "\t<tr><th scope=row>noun_F_noun_M</th><td>noun_F - noun_M</td><td>0.11 </td><td>$[-0.22$, $0.43]$</td><td>0.76 </td><td>.726</td></tr>\n",
       "\t<tr><th scope=row>noun_F_verb_X</th><td>noun_F - verb_X</td><td>0.01 </td><td>$[-0.32$, $0.34]$</td><td>0.07 </td><td>.998</td></tr>\n",
       "\t<tr><th scope=row>noun_M_verb_X</th><td>noun_M - verb_X</td><td>-0.10</td><td>$[-0.43$, $0.23]$</td><td>-0.70</td><td>.766</td></tr>\n",
       "</tbody>\n",
       "</table>\n"
      ],
      "text/latex": [
       "A apa\\_results\\_table: 3 × 5\n",
       "\\begin{tabular}{r|lllll}\n",
       "  & contrast & estimate & ci & statistic & p.value\\\\\n",
       "  & <ppj\\_lbll> & <ppj\\_lbll> & <ppj\\_lbll> & <ppj\\_lbll> & <ppj\\_lbll>\\\\\n",
       "\\hline\n",
       "\tnoun\\_F\\_noun\\_M & noun\\_F - noun\\_M & 0.11  & \\${[}-0.22\\$, \\$0.43{]}\\$ & 0.76  & .726\\\\\n",
       "\tnoun\\_F\\_verb\\_X & noun\\_F - verb\\_X & 0.01  & \\${[}-0.32\\$, \\$0.34{]}\\$ & 0.07  & .998\\\\\n",
       "\tnoun\\_M\\_verb\\_X & noun\\_M - verb\\_X & -0.10 & \\${[}-0.43\\$, \\$0.23{]}\\$ & -0.70 & .766\\\\\n",
       "\\end{tabular}\n"
      ],
      "text/markdown": [
       "\n",
       "A apa_results_table: 3 × 5\n",
       "\n",
       "| <!--/--> | contrast &lt;ppj_lbll&gt; | estimate &lt;ppj_lbll&gt; | ci &lt;ppj_lbll&gt; | statistic &lt;ppj_lbll&gt; | p.value &lt;ppj_lbll&gt; |\n",
       "|---|---|---|---|---|---|\n",
       "| noun_F_noun_M | noun_F - noun_M | 0.11  | $[-0.22$, $0.43]$ | 0.76  | .726 |\n",
       "| noun_F_verb_X | noun_F - verb_X | 0.01  | $[-0.32$, $0.34]$ | 0.07  | .998 |\n",
       "| noun_M_verb_X | noun_M - verb_X | -0.10 | $[-0.43$, $0.23]$ | -0.70 | .766 |\n",
       "\n"
      ],
      "text/plain": [
       "              contrast        estimate ci                statistic p.value\n",
       "noun_F_noun_M noun_F - noun_M 0.11     $[-0.22$, $0.43]$ 0.76      .726   \n",
       "noun_F_verb_X noun_F - verb_X 0.01     $[-0.32$, $0.34]$ 0.07      .998   \n",
       "noun_M_verb_X noun_M - verb_X -0.10    $[-0.43$, $0.23]$ -0.70     .766   "
      ]
     },
     "metadata": {},
     "output_type": "display_data"
    }
   ],
   "source": [
    "IDX <- IDX+1; COND <- CONDS[IDX]\n",
    "data1 <- droplevels(subset(df1, eval(parse(text=COND)))); data1 <- data1[complete.cases(data1),]; done1 <- AOV4(data1,COND)\n",
    "display_markdown(str_c(\"# Condition \",IDX,\" of \",length(CONDS))); display_markdown(done1$info); display_markdown(\"### Table\"); done1$aov_APA$table; display_markdown(\"### Result\"); display_markdown(done1$aov_APA[[\"full_result\"]][[\"cond0\"]]); display_markdown(\"### Summary (all done1, incl. NANs)\"); done1$summary; display_markdown(\"### Expected marginal means\"); done1$emm_APA$table; display_markdown(\"### Paired comparisons for expected marginal means\"); done1$pairs_APA$table"
   ]
  },
  {
   "cell_type": "code",
   "execution_count": 239,
   "metadata": {},
   "outputs": [
    {
     "data": {
      "text/markdown": [
       "# Condition 72 of 72"
      ]
     },
     "metadata": {},
     "output_type": "display_data"
    },
    {
     "data": {
      "text/markdown": [
       "`tmin0==0.11 & chan0==\"RP\" & mode0==\"neg\"`"
      ]
     },
     "metadata": {},
     "output_type": "display_data"
    },
    {
     "data": {
      "text/markdown": [
       "### Table"
      ]
     },
     "metadata": {},
     "output_type": "display_data"
    },
    {
     "data": {
      "text/html": [
       "<table>\n",
       "<caption>A apa_results_table: 1 × 7</caption>\n",
       "<thead>\n",
       "\t<tr><th></th><th scope=col>Effect</th><th scope=col>F</th><th scope=col>df1</th><th scope=col>df2</th><th scope=col>MSE</th><th scope=col>p</th><th scope=col>ges</th></tr>\n",
       "\t<tr><th></th><th scope=col>&lt;ppj_lbll&gt;</th><th scope=col>&lt;ppj_lbll&gt;</th><th scope=col>&lt;ppj_lbll&gt;</th><th scope=col>&lt;ppj_lbll&gt;</th><th scope=col>&lt;ppj_lbll&gt;</th><th scope=col>&lt;ppj_lbll&gt;</th><th scope=col>&lt;ppj_lbll&gt;</th></tr>\n",
       "</thead>\n",
       "<tbody>\n",
       "\t<tr><th scope=row>1</th><td>Cond0</td><td>1.87</td><td>1.74</td><td>71.52</td><td>0.51</td><td>.167</td><td>.003</td></tr>\n",
       "</tbody>\n",
       "</table>\n"
      ],
      "text/latex": [
       "A apa\\_results\\_table: 1 × 7\n",
       "\\begin{tabular}{r|lllllll}\n",
       "  & Effect & F & df1 & df2 & MSE & p & ges\\\\\n",
       "  & <ppj\\_lbll> & <ppj\\_lbll> & <ppj\\_lbll> & <ppj\\_lbll> & <ppj\\_lbll> & <ppj\\_lbll> & <ppj\\_lbll>\\\\\n",
       "\\hline\n",
       "\t1 & Cond0 & 1.87 & 1.74 & 71.52 & 0.51 & .167 & .003\\\\\n",
       "\\end{tabular}\n"
      ],
      "text/markdown": [
       "\n",
       "A apa_results_table: 1 × 7\n",
       "\n",
       "| <!--/--> | Effect &lt;ppj_lbll&gt; | F &lt;ppj_lbll&gt; | df1 &lt;ppj_lbll&gt; | df2 &lt;ppj_lbll&gt; | MSE &lt;ppj_lbll&gt; | p &lt;ppj_lbll&gt; | ges &lt;ppj_lbll&gt; |\n",
       "|---|---|---|---|---|---|---|---|\n",
       "| 1 | Cond0 | 1.87 | 1.74 | 71.52 | 0.51 | .167 | .003 |\n",
       "\n"
      ],
      "text/plain": [
       "  Effect F    df1  df2   MSE  p    ges \n",
       "1 Cond0  1.87 1.74 71.52 0.51 .167 .003"
      ]
     },
     "metadata": {},
     "output_type": "display_data"
    },
    {
     "data": {
      "text/markdown": [
       "### Result"
      ]
     },
     "metadata": {},
     "output_type": "display_data"
    },
    {
     "data": {
      "text/markdown": [
       "$F(1.74, 71.52) = 1.87$, $\\mathit{MSE} = 0.51$, $p = .167$, $\\hat{\\eta}^2_G = .003$"
      ]
     },
     "metadata": {},
     "output_type": "display_data"
    },
    {
     "data": {
      "text/markdown": [
       "### Summary (all done1, incl. NANs)"
      ]
     },
     "metadata": {},
     "output_type": "display_data"
    },
    {
     "data": {
      "text/html": [
       "<table>\n",
       "<caption>A tibble: 3 × 5</caption>\n",
       "<thead>\n",
       "\t<tr><th scope=col>cond0</th><th scope=col>N</th><th scope=col>valX_M</th><th scope=col>valX_SD</th><th scope=col>valX_SE</th></tr>\n",
       "\t<tr><th scope=col>&lt;fct&gt;</th><th scope=col>&lt;int&gt;</th><th scope=col>&lt;dbl&gt;</th><th scope=col>&lt;dbl&gt;</th><th scope=col>&lt;dbl&gt;</th></tr>\n",
       "</thead>\n",
       "<tbody>\n",
       "\t<tr><td>noun_F</td><td>42</td><td>1.890679</td><td>2.312613</td><td>0.3568439</td></tr>\n",
       "\t<tr><td>noun_M</td><td>42</td><td>2.170637</td><td>2.083392</td><td>0.3214744</td></tr>\n",
       "\t<tr><td>verb_X</td><td>42</td><td>2.064051</td><td>1.989478</td><td>0.3069832</td></tr>\n",
       "</tbody>\n",
       "</table>\n"
      ],
      "text/latex": [
       "A tibble: 3 × 5\n",
       "\\begin{tabular}{lllll}\n",
       " cond0 & N & valX\\_M & valX\\_SD & valX\\_SE\\\\\n",
       " <fct> & <int> & <dbl> & <dbl> & <dbl>\\\\\n",
       "\\hline\n",
       "\t noun\\_F & 42 & 1.890679 & 2.312613 & 0.3568439\\\\\n",
       "\t noun\\_M & 42 & 2.170637 & 2.083392 & 0.3214744\\\\\n",
       "\t verb\\_X & 42 & 2.064051 & 1.989478 & 0.3069832\\\\\n",
       "\\end{tabular}\n"
      ],
      "text/markdown": [
       "\n",
       "A tibble: 3 × 5\n",
       "\n",
       "| cond0 &lt;fct&gt; | N &lt;int&gt; | valX_M &lt;dbl&gt; | valX_SD &lt;dbl&gt; | valX_SE &lt;dbl&gt; |\n",
       "|---|---|---|---|---|\n",
       "| noun_F | 42 | 1.890679 | 2.312613 | 0.3568439 |\n",
       "| noun_M | 42 | 2.170637 | 2.083392 | 0.3214744 |\n",
       "| verb_X | 42 | 2.064051 | 1.989478 | 0.3069832 |\n",
       "\n"
      ],
      "text/plain": [
       "  cond0  N  valX_M   valX_SD  valX_SE  \n",
       "1 noun_F 42 1.890679 2.312613 0.3568439\n",
       "2 noun_M 42 2.170637 2.083392 0.3214744\n",
       "3 verb_X 42 2.064051 1.989478 0.3069832"
      ]
     },
     "metadata": {},
     "output_type": "display_data"
    },
    {
     "data": {
      "text/markdown": [
       "### Expected marginal means"
      ]
     },
     "metadata": {},
     "output_type": "display_data"
    },
    {
     "data": {
      "text/html": [
       "<table>\n",
       "<caption>A apa_results_table: 3 × 5</caption>\n",
       "<thead>\n",
       "\t<tr><th></th><th scope=col>cond0</th><th scope=col>estimate</th><th scope=col>ci</th><th scope=col>statistic</th><th scope=col>p.value</th></tr>\n",
       "\t<tr><th></th><th scope=col>&lt;chr&gt;</th><th scope=col>&lt;ppj_lbll&gt;</th><th scope=col>&lt;ppj_lbll&gt;</th><th scope=col>&lt;ppj_lbll&gt;</th><th scope=col>&lt;ppj_lbll&gt;</th></tr>\n",
       "</thead>\n",
       "<tbody>\n",
       "\t<tr><th scope=row>noun_F</th><td>noun_F</td><td>1.89</td><td>$[1.23$, $2.55]$</td><td>5.74</td><td>&lt; .001</td></tr>\n",
       "\t<tr><th scope=row>noun_M</th><td>noun_M</td><td>2.17</td><td>$[1.51$, $2.83]$</td><td>6.60</td><td>&lt; .001</td></tr>\n",
       "\t<tr><th scope=row>verb_X</th><td>verb_X</td><td>2.06</td><td>$[1.40$, $2.73]$</td><td>6.27</td><td>&lt; .001</td></tr>\n",
       "</tbody>\n",
       "</table>\n"
      ],
      "text/latex": [
       "A apa\\_results\\_table: 3 × 5\n",
       "\\begin{tabular}{r|lllll}\n",
       "  & cond0 & estimate & ci & statistic & p.value\\\\\n",
       "  & <chr> & <ppj\\_lbll> & <ppj\\_lbll> & <ppj\\_lbll> & <ppj\\_lbll>\\\\\n",
       "\\hline\n",
       "\tnoun\\_F & noun\\_F & 1.89 & \\${[}1.23\\$, \\$2.55{]}\\$ & 5.74 & < .001\\\\\n",
       "\tnoun\\_M & noun\\_M & 2.17 & \\${[}1.51\\$, \\$2.83{]}\\$ & 6.60 & < .001\\\\\n",
       "\tverb\\_X & verb\\_X & 2.06 & \\${[}1.40\\$, \\$2.73{]}\\$ & 6.27 & < .001\\\\\n",
       "\\end{tabular}\n"
      ],
      "text/markdown": [
       "\n",
       "A apa_results_table: 3 × 5\n",
       "\n",
       "| <!--/--> | cond0 &lt;chr&gt; | estimate &lt;ppj_lbll&gt; | ci &lt;ppj_lbll&gt; | statistic &lt;ppj_lbll&gt; | p.value &lt;ppj_lbll&gt; |\n",
       "|---|---|---|---|---|---|\n",
       "| noun_F | noun_F | 1.89 | $[1.23$, $2.55]$ | 5.74 | &lt; .001 |\n",
       "| noun_M | noun_M | 2.17 | $[1.51$, $2.83]$ | 6.60 | &lt; .001 |\n",
       "| verb_X | verb_X | 2.06 | $[1.40$, $2.73]$ | 6.27 | &lt; .001 |\n",
       "\n"
      ],
      "text/plain": [
       "       cond0  estimate ci               statistic p.value\n",
       "noun_F noun_F 1.89     $[1.23$, $2.55]$ 5.74      < .001 \n",
       "noun_M noun_M 2.17     $[1.51$, $2.83]$ 6.60      < .001 \n",
       "verb_X verb_X 2.06     $[1.40$, $2.73]$ 6.27      < .001 "
      ]
     },
     "metadata": {},
     "output_type": "display_data"
    },
    {
     "data": {
      "text/markdown": [
       "### Paired comparisons for expected marginal means"
      ]
     },
     "metadata": {},
     "output_type": "display_data"
    },
    {
     "data": {
      "text/html": [
       "<table>\n",
       "<caption>A apa_results_table: 3 × 5</caption>\n",
       "<thead>\n",
       "\t<tr><th></th><th scope=col>contrast</th><th scope=col>estimate</th><th scope=col>ci</th><th scope=col>statistic</th><th scope=col>p.value</th></tr>\n",
       "\t<tr><th></th><th scope=col>&lt;ppj_lbll&gt;</th><th scope=col>&lt;ppj_lbll&gt;</th><th scope=col>&lt;ppj_lbll&gt;</th><th scope=col>&lt;ppj_lbll&gt;</th><th scope=col>&lt;ppj_lbll&gt;</th></tr>\n",
       "</thead>\n",
       "<tbody>\n",
       "\t<tr><th scope=row>noun_F_noun_M</th><td>noun_F - noun_M</td><td>-0.28</td><td>$[-0.63$, $0.07]$</td><td>-1.91</td><td>.141</td></tr>\n",
       "\t<tr><th scope=row>noun_F_verb_X</th><td>noun_F - verb_X</td><td>-0.17</td><td>$[-0.52$, $0.18]$</td><td>-1.19</td><td>.465</td></tr>\n",
       "\t<tr><th scope=row>noun_M_verb_X</th><td>noun_M - verb_X</td><td>0.11 </td><td>$[-0.24$, $0.46]$</td><td>0.73 </td><td>.747</td></tr>\n",
       "</tbody>\n",
       "</table>\n"
      ],
      "text/latex": [
       "A apa\\_results\\_table: 3 × 5\n",
       "\\begin{tabular}{r|lllll}\n",
       "  & contrast & estimate & ci & statistic & p.value\\\\\n",
       "  & <ppj\\_lbll> & <ppj\\_lbll> & <ppj\\_lbll> & <ppj\\_lbll> & <ppj\\_lbll>\\\\\n",
       "\\hline\n",
       "\tnoun\\_F\\_noun\\_M & noun\\_F - noun\\_M & -0.28 & \\${[}-0.63\\$, \\$0.07{]}\\$ & -1.91 & .141\\\\\n",
       "\tnoun\\_F\\_verb\\_X & noun\\_F - verb\\_X & -0.17 & \\${[}-0.52\\$, \\$0.18{]}\\$ & -1.19 & .465\\\\\n",
       "\tnoun\\_M\\_verb\\_X & noun\\_M - verb\\_X & 0.11  & \\${[}-0.24\\$, \\$0.46{]}\\$ & 0.73  & .747\\\\\n",
       "\\end{tabular}\n"
      ],
      "text/markdown": [
       "\n",
       "A apa_results_table: 3 × 5\n",
       "\n",
       "| <!--/--> | contrast &lt;ppj_lbll&gt; | estimate &lt;ppj_lbll&gt; | ci &lt;ppj_lbll&gt; | statistic &lt;ppj_lbll&gt; | p.value &lt;ppj_lbll&gt; |\n",
       "|---|---|---|---|---|---|\n",
       "| noun_F_noun_M | noun_F - noun_M | -0.28 | $[-0.63$, $0.07]$ | -1.91 | .141 |\n",
       "| noun_F_verb_X | noun_F - verb_X | -0.17 | $[-0.52$, $0.18]$ | -1.19 | .465 |\n",
       "| noun_M_verb_X | noun_M - verb_X | 0.11  | $[-0.24$, $0.46]$ | 0.73  | .747 |\n",
       "\n"
      ],
      "text/plain": [
       "              contrast        estimate ci                statistic p.value\n",
       "noun_F_noun_M noun_F - noun_M -0.28    $[-0.63$, $0.07]$ -1.91     .141   \n",
       "noun_F_verb_X noun_F - verb_X -0.17    $[-0.52$, $0.18]$ -1.19     .465   \n",
       "noun_M_verb_X noun_M - verb_X 0.11     $[-0.24$, $0.46]$ 0.73      .747   "
      ]
     },
     "metadata": {},
     "output_type": "display_data"
    }
   ],
   "source": [
    "IDX <- IDX+1; COND <- CONDS[IDX]\n",
    "data1 <- droplevels(subset(df1, eval(parse(text=COND)))); data1 <- data1[complete.cases(data1),]; done1 <- AOV4(data1,COND)\n",
    "display_markdown(str_c(\"# Condition \",IDX,\" of \",length(CONDS))); display_markdown(done1$info); display_markdown(\"### Table\"); done1$aov_APA$table; display_markdown(\"### Result\"); display_markdown(done1$aov_APA[[\"full_result\"]][[\"cond0\"]]); display_markdown(\"### Summary (all done1, incl. NANs)\"); done1$summary; display_markdown(\"### Expected marginal means\"); done1$emm_APA$table; display_markdown(\"### Paired comparisons for expected marginal means\"); done1$pairs_APA$table"
   ]
  },
  {
   "cell_type": "code",
   "execution_count": 240,
   "metadata": {},
   "outputs": [],
   "source": [
    "IDX = 50"
   ]
  },
  {
   "cell_type": "code",
   "execution_count": null,
   "metadata": {},
   "outputs": [],
   "source": []
  },
  {
   "cell_type": "code",
   "execution_count": null,
   "metadata": {},
   "outputs": [],
   "source": []
  }
 ],
 "metadata": {
  "kernelspec": {
   "display_name": "R",
   "language": "R",
   "name": "ir"
  },
  "language_info": {
   "codemirror_mode": "r",
   "file_extension": ".r",
   "mimetype": "text/x-r-source",
   "name": "R",
   "pygments_lexer": "r",
   "version": "3.6.3"
  }
 },
 "nbformat": 4,
 "nbformat_minor": 4
}
