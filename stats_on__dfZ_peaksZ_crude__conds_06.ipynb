{
 "cells": [
  {
   "cell_type": "code",
   "execution_count": 2,
   "metadata": {
    "scrolled": false
   },
   "outputs": [],
   "source": [
    "library(\"dplyr\")\n",
    "library(\"tidyr\")\n",
    "library(\"afex\")     # provides mixed() and attaches lme4 automatically.\n",
    "library(\"emmeans\")  # follow-up tests.\n",
    "library(\"multcomp\") # advanced control for multiple testing/Type 1 errors.\n",
    "library(\"ggplot2\")\n",
    "\n",
    "library(\"car\")\n",
    "require(\"lattice\")\n",
    "require(\"ez\")\n",
    "\n",
    "library(\"cowplot\")\n",
    "library(\"ggbeeswarm\")\n",
    "\n",
    "library(\"nortest\")\n",
    "\n",
    "library(\"effectsize\")\n",
    "\n",
    "theme_set(theme_bw(base_size = 15) +\n",
    "            theme(legend.position=\"bottom\",\n",
    "                  panel.grid.major.x = element_blank()))\n",
    "\n",
    "\n",
    "options(width=240)\n",
    "library(tidyverse)"
   ]
  },
  {
   "cell_type": "code",
   "execution_count": 3,
   "metadata": {
    "scrolled": true
   },
   "outputs": [
    {
     "name": "stderr",
     "output_type": "stream",
     "text": [
      "\n",
      "Attaching package: ‘IRdisplay’\n",
      "\n",
      "\n",
      "The following object is masked from ‘package:xtable’:\n",
      "\n",
      "    display\n",
      "\n",
      "\n",
      "Loading required package: papaja\n",
      "\n",
      "Loading required package: tinytex\n",
      "\n"
     ]
    }
   ],
   "source": [
    "library(xtable)\n",
    "library(IRdisplay)\n",
    "library(repr)\n",
    "require(\"papaja\")\n",
    "require(\"tinytex\")"
   ]
  },
  {
   "cell_type": "code",
   "execution_count": 4,
   "metadata": {},
   "outputs": [],
   "source": [
    "apaMd <- function(apaObj){\n",
    "    apaStr <- \"\"\n",
    "    for (ii in names(apaObj)){\n",
    "        apaStr <- paste(apaStr, paste(\"\\n\",\"### \", ii, \"\\n\" ,sep=\"\" ,collapse = \"\")  ,sep=\"\" ,collapse = \"\")\n",
    "        if(!(ii == \"table\")){ \n",
    "            for (jj in names(apaObj[[ii]])){\n",
    "                apaStr <- paste(apaStr, paste(\"- \", ii,\" for `\", jj, \"` is \", \"\\n\" ,sep=\"\" ,collapse = \"\")  ,sep=\"\\n\" ,collapse = \" \")\n",
    "                apaStr <- paste(apaStr, paste(\"  - \", apaObj[[ii]][[jj]], \"\\n\" ,sep=\"\" ,collapse = \"\")  ,sep=\"\\n\" ,collapse = \" \")\n",
    "                }}\n",
    "        else {\n",
    "            # apaStr <- paste(apaStr, \"\\n\\n\", paste(apa_table(apaObj$table))  ,sep=\"\\n\" ,collapse = \" \")\n",
    "            apaStr <- paste(apaStr, paste(\"- support for will arrive some day\", \"\\n\" ,sep=\"\" ,collapse = \"\")  ,sep=\"\\n\" ,collapse = \" \")\n",
    "            apaStr <- paste(apaStr, paste(\"- for now please use apa_table function\", \"\\n\" ,sep=\"\" ,collapse = \"\")  ,sep=\"\\n\" ,collapse = \" \")\n",
    "\n",
    "        }}\n",
    "    return(apaStr)\n",
    "}"
   ]
  },
  {
   "cell_type": "code",
   "execution_count": 5,
   "metadata": {},
   "outputs": [],
   "source": [
    "AOV4 <- function(DATA,INFO){\n",
    "\n",
    "    INFO <- paste(\"`\",INFO,\"`\",sep=\"\")\n",
    "    DATA_SUMMARY <- DATA %>%\n",
    "        group_by(cond0) %>%\n",
    "        summarise(\n",
    "            N = n(),\n",
    "            valX_M = mean(valX),\n",
    "            valX_SD = sd(valX),\n",
    "            valX_SE = valX_SD / sqrt(N),\n",
    "            .groups = \"drop\"\n",
    "        )    \n",
    "    DATA_aov <- aov_4(\n",
    "        formula  <- FORMULA,\n",
    "        data     <- DATA,\n",
    "    )    \n",
    "    DATA_aov_APA <- apa_print(DATA_aov)\n",
    "    \n",
    "    DATA_aov_EMM <- emmeans(DATA_aov, specs<-c(\"cond0\",\"chan0\"))\n",
    "    # DATA_aov_EMM <- emmeans(DATA_aov, specs<-pairwise~cond0|chan0)\n",
    "    # DATA_aov_EMM <- emmeans(DATA_aov, specs<-pairwise~cond0:chan0)\n",
    "    DATA_aov_EMM_APA <- apa_print(DATA_aov_EMM)\n",
    "    \n",
    "    # DATA_aov_EMM_PAIRS <- pairs(DATA_aov_EMM)\n",
    "    # DATA_aov_EMM_PAIRS <- pairs(DATA_aov_EMM )\n",
    "\n",
    "    # cont <- \"trt.vs.ctrl1\"\n",
    "    # cont <- \"trt.vs.ctrl\"\n",
    "    # cont <- \"consec\"\n",
    "    # cont <- \"poly\"\n",
    "    # cont <- \"trt.vs.ctrlk\"\n",
    "    cont <- \"pairwise\"\n",
    "    DATA_aov_EMM_PAIRS <- contrast(DATA_aov_EMM, cont, by = c(\"chan0\"))\n",
    "    \n",
    "    DATA_aov_EMM_PAIRS_APA <- apa_print(DATA_aov_EMM_PAIRS)    \n",
    "\n",
    "    return(list(\"info\"      = INFO,\n",
    "                \"summary\"   = DATA_SUMMARY,\n",
    "                \"aov\"       = DATA_aov,\n",
    "                \"aov_APA\"   = DATA_aov_APA,\n",
    "                \"emm\"       = DATA_aov_EMM,\n",
    "                \"emm_APA\"   = DATA_aov_EMM_APA,\n",
    "                \"pairs\"     = DATA_aov_EMM_PAIRS,\n",
    "                \"pairs_APA\" = DATA_aov_EMM_PAIRS_APA\n",
    "               )\n",
    "          )\n",
    "}"
   ]
  },
  {
   "cell_type": "markdown",
   "metadata": {},
   "source": [
    "# Peaks 0"
   ]
  },
  {
   "cell_type": "code",
   "execution_count": 6,
   "metadata": {},
   "outputs": [],
   "source": [
    "# ifName=\"./data/JOB_004/exports/df3_peaks3_crude.csv\"\n",
    "ifName=\"./data/JOB_004/exports/dfZ_peaksZ_crude.csv\"\n",
    "\n",
    "df0 <- read.csv(file = ifName)\n",
    "df0 <- subset(df0, CHAN_BUND==\"\" | is.na(CHAN_BUND)  )\n",
    "df0 <- subset(df0, quest0==\"word_set\" )"
   ]
  },
  {
   "cell_type": "code",
   "execution_count": 507,
   "metadata": {},
   "outputs": [
    {
     "name": "stdout",
     "output_type": "stream",
     "text": [
      "'data.frame':\t110592 obs. of  24 variables:\n",
      " $ sort       : int  0 1 2 3 4 5 6 7 8 9 ...\n",
      " $ SUBJECT    : int  3 3 3 3 4 4 4 4 5 5 ...\n",
      " $ SESSION    : int  1 2 3 4 1 2 3 4 1 2 ...\n",
      " $ File       : Factor w/ 128 levels \"sub-03mjkf_task-lexdec_run-001\",..: 1 2 3 4 5 6 7 8 9 10 ...\n",
      " $ TIME_WINDOW: int  2 2 2 2 2 2 2 2 2 2 ...\n",
      " $ GENDER     : int  1 1 1 1 2 2 2 2 1 1 ...\n",
      " $ PEAK       : num  0.761 2.577 0.796 4.444 1.677 ...\n",
      " $ ELEC       : Factor w/ 36 levels \"AF3\",\"AF4\",\"C1\",..: 1 1 1 1 1 1 1 1 1 1 ...\n",
      " $ COND_NUM   : int  1 1 1 1 1 1 1 1 1 1 ...\n",
      " $ evoked0    : Factor w/ 1 level \"evokedZ\": 1 1 1 1 1 1 1 1 1 1 ...\n",
      " $ quest0     : Factor w/ 1 level \"word_set\": 1 1 1 1 1 1 1 1 1 1 ...\n",
      " $ cond0      : Factor w/ 4 levels \"noun_F\",\"noun_M\",..: 4 4 4 4 4 4 4 4 4 4 ...\n",
      " $ chan0      : Factor w/ 6 levels \"LC\",\"LF\",\"LP\",..: 2 2 2 2 2 2 2 2 2 2 ...\n",
      " $ tmin0      : num  0.19 0.19 0.19 0.19 0.19 0.19 0.19 0.19 0.19 0.19 ...\n",
      " $ tmax0      : num  0.29 0.29 0.29 0.29 0.29 0.29 0.29 0.29 0.29 0.29 ...\n",
      " $ mode0      : Factor w/ 1 level \"pos\": 1 1 1 1 1 1 1 1 1 1 ...\n",
      " $ chanX      : Factor w/ 6 levels \"LC\",\"LF\",\"LP\",..: 2 2 2 2 2 2 2 2 2 2 ...\n",
      " $ latX       : logi  NA NA NA NA NA NA ...\n",
      " $ valX       : num  0.761 2.577 0.796 4.444 1.677 ...\n",
      " $ SUB        : Factor w/ 32 levels \"03mjkf\",\"04mkkm\",..: 1 1 1 1 2 2 2 2 3 3 ...\n",
      " $ SES        : Factor w/ 1 level \"eeg001\": 1 1 1 1 1 1 1 1 1 1 ...\n",
      " $ TASK       : Factor w/ 1 level \"lexdec\": 1 1 1 1 1 1 1 1 1 1 ...\n",
      " $ RUN        : int  1 2 3 4 1 2 3 4 1 2 ...\n",
      " $ CHAN_BUND  : logi  NA NA NA NA NA NA ...\n"
     ]
    }
   ],
   "source": [
    "str(df0)\n"
   ]
  },
  {
   "cell_type": "code",
   "execution_count": 508,
   "metadata": {},
   "outputs": [],
   "source": [
    "df1 <- data.frame(df0)"
   ]
  },
  {
   "cell_type": "code",
   "execution_count": 509,
   "metadata": {},
   "outputs": [],
   "source": [
    "df1 <- subset(df1, cond0 %in% c(\"noun_F\",\"noun_M\",\"verb_X\") )\n",
    "# df1 <- subset(df1, cond0 %in% c(\"noun_X\",\"verb_X\") )"
   ]
  },
  {
   "cell_type": "code",
   "execution_count": 510,
   "metadata": {},
   "outputs": [],
   "source": [
    "'%!in%' <- function(x,y)!('%in%'(x,y))\n",
    "\n",
    "# df1 <- subset(df1, SUB %!in% c(\"01mkxf\",\"02ppxm\",\"09msxf\",\"15agxf\",\"17makf\",\"24jkxf\",\"26mwxf\",\"31ltxf\",\"33kkxm\",\"37lpxm\") )"
   ]
  },
  {
   "cell_type": "code",
   "execution_count": 511,
   "metadata": {},
   "outputs": [],
   "source": [
    "df1 <- droplevels(df1)\n",
    "# df1 <- subset(df1, select = -c(evoked0,SES,TASK,RUN,chanX,quest0,CHAN_BUND) )\n",
    "df1 <- subset(df1, select = c(cond0,chan0,tmin0,tmax0,mode0,valX,SUB) )\n"
   ]
  },
  {
   "cell_type": "code",
   "execution_count": 512,
   "metadata": {},
   "outputs": [
    {
     "name": "stdout",
     "output_type": "stream",
     "text": [
      "'data.frame':\t82944 obs. of  7 variables:\n",
      " $ cond0: Factor w/ 3 levels \"noun_F\",\"noun_M\",..: 3 3 3 3 3 3 3 3 3 3 ...\n",
      " $ chan0: Factor w/ 6 levels \"LC\",\"LF\",\"LP\",..: 2 2 2 2 2 2 2 2 2 2 ...\n",
      " $ tmin0: num  0.19 0.19 0.19 0.19 0.19 0.19 0.19 0.19 0.19 0.19 ...\n",
      " $ tmax0: num  0.29 0.29 0.29 0.29 0.29 0.29 0.29 0.29 0.29 0.29 ...\n",
      " $ mode0: Factor w/ 1 level \"pos\": 1 1 1 1 1 1 1 1 1 1 ...\n",
      " $ valX : num  0.761 2.577 0.796 4.444 1.677 ...\n",
      " $ SUB  : Factor w/ 32 levels \"03mjkf\",\"04mkkm\",..: 1 1 1 1 2 2 2 2 3 3 ...\n"
     ]
    }
   ],
   "source": [
    "str(df1)"
   ]
  },
  {
   "cell_type": "code",
   "execution_count": 480,
   "metadata": {},
   "outputs": [
    {
     "data": {
      "text/plain": [
       "    cond0      \n",
       " noun_F:27648  \n",
       " noun_M:27648  \n",
       " verb_X:27648  "
      ]
     },
     "metadata": {},
     "output_type": "display_data"
    }
   ],
   "source": [
    "summary(df1[\"cond0\"])"
   ]
  },
  {
   "cell_type": "code",
   "execution_count": 484,
   "metadata": {},
   "outputs": [
    {
     "data": {
      "text/html": [
       "<strong>$chan0</strong> = <style>\n",
       ".list-inline {list-style: none; margin:0; padding: 0}\n",
       ".list-inline>li {display: inline-block}\n",
       ".list-inline>li:not(:last-child)::after {content: \"\\00b7\"; padding: 0 .5ex}\n",
       "</style>\n",
       "<ol class=list-inline><li>LF</li><li>RF</li><li>LC</li><li>RC</li><li>LP</li><li>RP</li></ol>\n",
       "\n",
       "<details>\n",
       "\t<summary style=display:list-item;cursor:pointer>\n",
       "\t\t<strong>Levels</strong>:\n",
       "\t</summary>\n",
       "\t<style>\n",
       "\t.list-inline {list-style: none; margin:0; padding: 0}\n",
       "\t.list-inline>li {display: inline-block}\n",
       "\t.list-inline>li:not(:last-child)::after {content: \"\\00b7\"; padding: 0 .5ex}\n",
       "\t</style>\n",
       "\t<ol class=list-inline><li>'LC'</li><li>'LF'</li><li>'LP'</li><li>'RC'</li><li>'RF'</li><li>'RP'</li></ol>\n",
       "</details>"
      ],
      "text/latex": [
       "\\textbf{\\$chan0} = \\begin{enumerate*}\n",
       "\\item LF\n",
       "\\item RF\n",
       "\\item LC\n",
       "\\item RC\n",
       "\\item LP\n",
       "\\item RP\n",
       "\\end{enumerate*}\n",
       "\n",
       "\\emph{Levels}: \\begin{enumerate*}\n",
       "\\item 'LC'\n",
       "\\item 'LF'\n",
       "\\item 'LP'\n",
       "\\item 'RC'\n",
       "\\item 'RF'\n",
       "\\item 'RP'\n",
       "\\end{enumerate*}\n"
      ],
      "text/markdown": [
       "**$chan0** = 1. LF\n",
       "2. RF\n",
       "3. LC\n",
       "4. RC\n",
       "5. LP\n",
       "6. RP\n",
       "\n",
       "\n",
       "\n",
       "**Levels**: 1. 'LC'\n",
       "2. 'LF'\n",
       "3. 'LP'\n",
       "4. 'RC'\n",
       "5. 'RF'\n",
       "6. 'RP'\n",
       "\n",
       "\n"
      ],
      "text/plain": [
       "$chan0\n",
       "[1] LF RF LC RC LP RP\n",
       "Levels: LC LF LP RC RF RP\n"
      ]
     },
     "metadata": {},
     "output_type": "display_data"
    }
   ],
   "source": [
    "c(unique(df1[\"chan0\"]))"
   ]
  },
  {
   "cell_type": "code",
   "execution_count": 485,
   "metadata": {},
   "outputs": [
    {
     "data": {
      "text/html": [
       "<strong>$tmin0</strong> = <style>\n",
       ".list-inline {list-style: none; margin:0; padding: 0}\n",
       ".list-inline>li {display: inline-block}\n",
       ".list-inline>li:not(:last-child)::after {content: \"\\00b7\"; padding: 0 .5ex}\n",
       "</style>\n",
       "<ol class=list-inline><li>0.19</li><li>0.35</li><li>0.41</li><li>0.6</li><li>0.11</li><li>0.1</li></ol>\n"
      ],
      "text/latex": [
       "\\textbf{\\$tmin0} = \\begin{enumerate*}\n",
       "\\item 0.19\n",
       "\\item 0.35\n",
       "\\item 0.41\n",
       "\\item 0.6\n",
       "\\item 0.11\n",
       "\\item 0.1\n",
       "\\end{enumerate*}\n"
      ],
      "text/markdown": [
       "**$tmin0** = 1. 0.19\n",
       "2. 0.35\n",
       "3. 0.41\n",
       "4. 0.6\n",
       "5. 0.11\n",
       "6. 0.1\n",
       "\n",
       "\n"
      ],
      "text/plain": [
       "$tmin0\n",
       "[1] 0.19 0.35 0.41 0.60 0.11 0.10\n"
      ]
     },
     "metadata": {},
     "output_type": "display_data"
    }
   ],
   "source": [
    "c(unique(df1[\"tmin0\"]))"
   ]
  },
  {
   "cell_type": "markdown",
   "metadata": {},
   "source": [
    "https://www.rdocumentation.org/packages/afex/versions/0.27-2/topics/aov_car"
   ]
  },
  {
   "cell_type": "code",
   "execution_count": 486,
   "metadata": {},
   "outputs": [],
   "source": [
    "# FORMULA  <- valX~(cond0|SUB)\n",
    "# TEST     <- adjusted(\"free\")\n",
    "\n",
    "FORMULA  <- valX~(cond0*chan0|SUB)\n",
    "TEST     <- adjusted(\"free\")"
   ]
  },
  {
   "cell_type": "markdown",
   "metadata": {},
   "source": [
    "# Produce all possible condition combinations"
   ]
  },
  {
   "cell_type": "code",
   "execution_count": 487,
   "metadata": {},
   "outputs": [],
   "source": [
    "CONDS <- c()\n",
    "CONDS <- c(CONDS,str_c(\"tmin0==\",0.1))\n",
    "CONDS <- c(CONDS,str_c(\"tmin0==\",0.19))\n",
    "CONDS <- c(CONDS,str_c(\"tmin0==\",0.35))\n",
    "CONDS <- c(CONDS,str_c(\"tmin0==\",0.41))\n",
    "CONDS <- c(CONDS,str_c(\"tmin0==\",0.6))\n",
    "CONDS <- c(CONDS,str_c(\"tmin0==\",0.11))\n"
   ]
  },
  {
   "cell_type": "code",
   "execution_count": 488,
   "metadata": {},
   "outputs": [
    {
     "data": {
      "text/html": [
       "<style>\n",
       ".list-inline {list-style: none; margin:0; padding: 0}\n",
       ".list-inline>li {display: inline-block}\n",
       ".list-inline>li:not(:last-child)::after {content: \"\\00b7\"; padding: 0 .5ex}\n",
       "</style>\n",
       "<ol class=list-inline><li>'tmin0==0.1'</li><li>'tmin0==0.19'</li><li>'tmin0==0.35'</li><li>'tmin0==0.41'</li><li>'tmin0==0.6'</li><li>'tmin0==0.11'</li></ol>\n"
      ],
      "text/latex": [
       "\\begin{enumerate*}\n",
       "\\item 'tmin0==0.1'\n",
       "\\item 'tmin0==0.19'\n",
       "\\item 'tmin0==0.35'\n",
       "\\item 'tmin0==0.41'\n",
       "\\item 'tmin0==0.6'\n",
       "\\item 'tmin0==0.11'\n",
       "\\end{enumerate*}\n"
      ],
      "text/markdown": [
       "1. 'tmin0==0.1'\n",
       "2. 'tmin0==0.19'\n",
       "3. 'tmin0==0.35'\n",
       "4. 'tmin0==0.41'\n",
       "5. 'tmin0==0.6'\n",
       "6. 'tmin0==0.11'\n",
       "\n",
       "\n"
      ],
      "text/plain": [
       "[1] \"tmin0==0.1\"  \"tmin0==0.19\" \"tmin0==0.35\" \"tmin0==0.41\" \"tmin0==0.6\"  \"tmin0==0.11\""
      ]
     },
     "metadata": {},
     "output_type": "display_data"
    }
   ],
   "source": [
    "CONDS"
   ]
  },
  {
   "cell_type": "code",
   "execution_count": 489,
   "metadata": {},
   "outputs": [
    {
     "data": {
      "text/html": [
       "6"
      ],
      "text/latex": [
       "6"
      ],
      "text/markdown": [
       "6"
      ],
      "text/plain": [
       "[1] 6"
      ]
     },
     "metadata": {},
     "output_type": "display_data"
    }
   ],
   "source": [
    "length(CONDS)"
   ]
  },
  {
   "cell_type": "markdown",
   "metadata": {},
   "source": [
    "## Example condition defining string"
   ]
  },
  {
   "cell_type": "code",
   "execution_count": 490,
   "metadata": {
    "scrolled": true
   },
   "outputs": [
    {
     "data": {
      "text/html": [
       "'tmin0==0.1'"
      ],
      "text/latex": [
       "'tmin0==0.1'"
      ],
      "text/markdown": [
       "'tmin0==0.1'"
      ],
      "text/plain": [
       "[1] \"tmin0==0.1\""
      ]
     },
     "metadata": {},
     "output_type": "display_data"
    }
   ],
   "source": [
    "IDX=0\n",
    "CONDS[1]"
   ]
  },
  {
   "cell_type": "code",
   "execution_count": 491,
   "metadata": {
    "scrolled": false
   },
   "outputs": [
    {
     "name": "stderr",
     "output_type": "stream",
     "text": [
      "Warning message:\n",
      "“More than one observation per cell, aggregating the data using mean (i.e, fun_aggregate = mean)!”\n"
     ]
    },
    {
     "data": {
      "text/markdown": [
       "# Condition 1 of 6"
      ]
     },
     "metadata": {},
     "output_type": "display_data"
    },
    {
     "data": {
      "text/markdown": [
       "`tmin0==0.1`"
      ]
     },
     "metadata": {},
     "output_type": "display_data"
    },
    {
     "data": {
      "text/markdown": [
       "### Table"
      ]
     },
     "metadata": {},
     "output_type": "display_data"
    },
    {
     "data": {
      "text/html": [
       "<table>\n",
       "<caption>A apa_results_table: 3 × 7</caption>\n",
       "<thead>\n",
       "\t<tr><th></th><th scope=col>Effect</th><th scope=col>F</th><th scope=col>df1</th><th scope=col>df2</th><th scope=col>MSE</th><th scope=col>p</th><th scope=col>ges</th></tr>\n",
       "\t<tr><th></th><th scope=col>&lt;ppj_lbll&gt;</th><th scope=col>&lt;ppj_lbll&gt;</th><th scope=col>&lt;ppj_lbll&gt;</th><th scope=col>&lt;ppj_lbll&gt;</th><th scope=col>&lt;ppj_lbll&gt;</th><th scope=col>&lt;ppj_lbll&gt;</th><th scope=col>&lt;ppj_lbll&gt;</th></tr>\n",
       "</thead>\n",
       "<tbody>\n",
       "\t<tr><th scope=row>1</th><td>Cond0                </td><td>6.55 </td><td>1.78</td><td>55.07 </td><td>1.02 </td><td>.004  </td><td>.006</td></tr>\n",
       "\t<tr><th scope=row>2</th><td><span style=white-space:pre-wrap>Chan0                </span></td><td>51.58</td><td>1.62</td><td>50.07 </td><td>27.11</td><td>&lt; .001</td><td>.533</td></tr>\n",
       "\t<tr><th scope=row>3</th><td>Cond0 $\\times$ Chan0</td><td>0.40 </td><td>4.37</td><td>135.46</td><td>0.47 </td><td>.826  </td><td>.000</td></tr>\n",
       "</tbody>\n",
       "</table>\n"
      ],
      "text/latex": [
       "A apa\\_results\\_table: 3 × 7\n",
       "\\begin{tabular}{r|lllllll}\n",
       "  & Effect & F & df1 & df2 & MSE & p & ges\\\\\n",
       "  & <ppj\\_lbll> & <ppj\\_lbll> & <ppj\\_lbll> & <ppj\\_lbll> & <ppj\\_lbll> & <ppj\\_lbll> & <ppj\\_lbll>\\\\\n",
       "\\hline\n",
       "\t1 & Cond0                 & 6.55  & 1.78 & 55.07  & 1.02  & .004   & .006\\\\\n",
       "\t2 & Chan0                 & 51.58 & 1.62 & 50.07  & 27.11 & < .001 & .533\\\\\n",
       "\t3 & Cond0 \\$\\textbackslash{}times\\$ Chan0 & 0.40  & 4.37 & 135.46 & 0.47  & .826   & .000\\\\\n",
       "\\end{tabular}\n"
      ],
      "text/markdown": [
       "\n",
       "A apa_results_table: 3 × 7\n",
       "\n",
       "| <!--/--> | Effect &lt;ppj_lbll&gt; | F &lt;ppj_lbll&gt; | df1 &lt;ppj_lbll&gt; | df2 &lt;ppj_lbll&gt; | MSE &lt;ppj_lbll&gt; | p &lt;ppj_lbll&gt; | ges &lt;ppj_lbll&gt; |\n",
       "|---|---|---|---|---|---|---|---|\n",
       "| 1 | Cond0                 | 6.55  | 1.78 | 55.07  | 1.02  | .004   | .006 |\n",
       "| 2 | Chan0                 | 51.58 | 1.62 | 50.07  | 27.11 | &lt; .001 | .533 |\n",
       "| 3 | Cond0 $\\times$ Chan0 | 0.40  | 4.37 | 135.46 | 0.47  | .826   | .000 |\n",
       "\n"
      ],
      "text/plain": [
       "  Effect                F     df1  df2    MSE   p      ges \n",
       "1 Cond0                 6.55  1.78 55.07  1.02  .004   .006\n",
       "2 Chan0                 51.58 1.62 50.07  27.11 < .001 .533\n",
       "3 Cond0 $\\\\times$ Chan0 0.40  4.37 135.46 0.47  .826   .000"
      ]
     },
     "metadata": {},
     "output_type": "display_data"
    },
    {
     "data": {
      "text/markdown": [
       "### Result"
      ]
     },
     "metadata": {},
     "output_type": "display_data"
    },
    {
     "data": {
      "text/markdown": [
       "$F(1.78, 55.07) = 6.55$, $\\mathit{MSE} = 1.02$, $p = .004$, $\\hat{\\eta}^2_G = .006$"
      ]
     },
     "metadata": {},
     "output_type": "display_data"
    },
    {
     "data": {
      "text/markdown": [
       "### Summary (all done1, incl. NANs)"
      ]
     },
     "metadata": {},
     "output_type": "display_data"
    },
    {
     "data": {
      "text/html": [
       "<table>\n",
       "<caption>A tibble: 3 × 5</caption>\n",
       "<thead>\n",
       "\t<tr><th scope=col>cond0</th><th scope=col>N</th><th scope=col>valX_M</th><th scope=col>valX_SD</th><th scope=col>valX_SE</th></tr>\n",
       "\t<tr><th scope=col>&lt;fct&gt;</th><th scope=col>&lt;int&gt;</th><th scope=col>&lt;dbl&gt;</th><th scope=col>&lt;dbl&gt;</th><th scope=col>&lt;dbl&gt;</th></tr>\n",
       "</thead>\n",
       "<tbody>\n",
       "\t<tr><td>noun_F</td><td>4608</td><td>3.734987</td><td>3.280232</td><td>0.04832238</td></tr>\n",
       "\t<tr><td>noun_M</td><td>4608</td><td>3.626835</td><td>3.245814</td><td>0.04781535</td></tr>\n",
       "\t<tr><td>verb_X</td><td>4608</td><td>3.390593</td><td>3.125402</td><td>0.04604152</td></tr>\n",
       "</tbody>\n",
       "</table>\n"
      ],
      "text/latex": [
       "A tibble: 3 × 5\n",
       "\\begin{tabular}{lllll}\n",
       " cond0 & N & valX\\_M & valX\\_SD & valX\\_SE\\\\\n",
       " <fct> & <int> & <dbl> & <dbl> & <dbl>\\\\\n",
       "\\hline\n",
       "\t noun\\_F & 4608 & 3.734987 & 3.280232 & 0.04832238\\\\\n",
       "\t noun\\_M & 4608 & 3.626835 & 3.245814 & 0.04781535\\\\\n",
       "\t verb\\_X & 4608 & 3.390593 & 3.125402 & 0.04604152\\\\\n",
       "\\end{tabular}\n"
      ],
      "text/markdown": [
       "\n",
       "A tibble: 3 × 5\n",
       "\n",
       "| cond0 &lt;fct&gt; | N &lt;int&gt; | valX_M &lt;dbl&gt; | valX_SD &lt;dbl&gt; | valX_SE &lt;dbl&gt; |\n",
       "|---|---|---|---|---|\n",
       "| noun_F | 4608 | 3.734987 | 3.280232 | 0.04832238 |\n",
       "| noun_M | 4608 | 3.626835 | 3.245814 | 0.04781535 |\n",
       "| verb_X | 4608 | 3.390593 | 3.125402 | 0.04604152 |\n",
       "\n"
      ],
      "text/plain": [
       "  cond0  N    valX_M   valX_SD  valX_SE   \n",
       "1 noun_F 4608 3.734987 3.280232 0.04832238\n",
       "2 noun_M 4608 3.626835 3.245814 0.04781535\n",
       "3 verb_X 4608 3.390593 3.125402 0.04604152"
      ]
     },
     "metadata": {},
     "output_type": "display_data"
    },
    {
     "data": {
      "text/markdown": [
       "### Expected marginal means"
      ]
     },
     "metadata": {},
     "output_type": "display_data"
    },
    {
     "data": {
      "text/html": [
       "<table>\n",
       "<caption>A apa_results_table: 18 × 6</caption>\n",
       "<thead>\n",
       "\t<tr><th></th><th scope=col>chan0</th><th scope=col>cond0</th><th scope=col>estimate</th><th scope=col>ci</th><th scope=col>statistic</th><th scope=col>p.value</th></tr>\n",
       "\t<tr><th></th><th scope=col>&lt;chr&gt;</th><th scope=col>&lt;chr&gt;</th><th scope=col>&lt;ppj_lbll&gt;</th><th scope=col>&lt;ppj_lbll&gt;</th><th scope=col>&lt;ppj_lbll&gt;</th><th scope=col>&lt;ppj_lbll&gt;</th></tr>\n",
       "</thead>\n",
       "<tbody>\n",
       "\t<tr><th scope=row>noun_F_LC</th><td>LC</td><td>noun_F</td><td>2.74</td><td>$[2.08$, $3.39]$</td><td>8.22 </td><td>&lt; .001</td></tr>\n",
       "\t<tr><th scope=row>noun_M_LC</th><td><span style=white-space:pre-wrap>  </span></td><td>noun_M</td><td>2.64</td><td>$[1.98$, $3.29]$</td><td>7.92 </td><td>&lt; .001</td></tr>\n",
       "\t<tr><th scope=row>verb_X_LC</th><td><span style=white-space:pre-wrap>  </span></td><td>verb_X</td><td>2.39</td><td>$[1.74$, $3.05]$</td><td>7.19 </td><td>&lt; .001</td></tr>\n",
       "\t<tr><th scope=row>noun_F_LF</th><td>LF</td><td>noun_F</td><td>2.03</td><td>$[1.37$, $2.68]$</td><td>6.09 </td><td>&lt; .001</td></tr>\n",
       "\t<tr><th scope=row>noun_M_LF</th><td><span style=white-space:pre-wrap>  </span></td><td>noun_M</td><td>2.02</td><td>$[1.36$, $2.67]$</td><td>6.06 </td><td>&lt; .001</td></tr>\n",
       "\t<tr><th scope=row>verb_X_LF</th><td><span style=white-space:pre-wrap>  </span></td><td>verb_X</td><td>1.71</td><td>$[1.05$, $2.37]$</td><td>5.13 </td><td>&lt; .001</td></tr>\n",
       "\t<tr><th scope=row>noun_F_LP</th><td>LP</td><td>noun_F</td><td>6.00</td><td>$[5.34$, $6.66]$</td><td>18.02</td><td>&lt; .001</td></tr>\n",
       "\t<tr><th scope=row>noun_M_LP</th><td><span style=white-space:pre-wrap>  </span></td><td>noun_M</td><td>5.78</td><td>$[5.12$, $6.43]$</td><td>17.35</td><td>&lt; .001</td></tr>\n",
       "\t<tr><th scope=row>verb_X_LP</th><td><span style=white-space:pre-wrap>  </span></td><td>verb_X</td><td>5.55</td><td>$[4.90$, $6.21]$</td><td>16.68</td><td>&lt; .001</td></tr>\n",
       "\t<tr><th scope=row>noun_F_RC</th><td>RC</td><td>noun_F</td><td>2.95</td><td>$[2.29$, $3.60]$</td><td>8.85 </td><td>&lt; .001</td></tr>\n",
       "\t<tr><th scope=row>noun_M_RC</th><td><span style=white-space:pre-wrap>  </span></td><td>noun_M</td><td>2.77</td><td>$[2.11$, $3.43]$</td><td>8.32 </td><td>&lt; .001</td></tr>\n",
       "\t<tr><th scope=row>verb_X_RC</th><td><span style=white-space:pre-wrap>  </span></td><td>verb_X</td><td>2.60</td><td>$[1.94$, $3.25]$</td><td>7.80 </td><td>&lt; .001</td></tr>\n",
       "\t<tr><th scope=row>noun_F_RF</th><td>RF</td><td>noun_F</td><td>1.72</td><td>$[1.06$, $2.37]$</td><td>5.16 </td><td>&lt; .001</td></tr>\n",
       "\t<tr><th scope=row>noun_M_RF</th><td><span style=white-space:pre-wrap>  </span></td><td>noun_M</td><td>1.73</td><td>$[1.07$, $2.39]$</td><td>5.20 </td><td>&lt; .001</td></tr>\n",
       "\t<tr><th scope=row>verb_X_RF</th><td><span style=white-space:pre-wrap>  </span></td><td>verb_X</td><td>1.44</td><td>$[0.79$, $2.10]$</td><td>4.33 </td><td>&lt; .001</td></tr>\n",
       "\t<tr><th scope=row>noun_F_RP</th><td>RP</td><td>noun_F</td><td>6.98</td><td>$[6.33$, $7.64]$</td><td>20.97</td><td>&lt; .001</td></tr>\n",
       "\t<tr><th scope=row>noun_M_RP</th><td><span style=white-space:pre-wrap>  </span></td><td>noun_M</td><td>6.83</td><td>$[6.17$, $7.48]$</td><td>20.50</td><td>&lt; .001</td></tr>\n",
       "\t<tr><th scope=row>verb_X_RP</th><td><span style=white-space:pre-wrap>  </span></td><td>verb_X</td><td>6.65</td><td>$[5.99$, $7.31]$</td><td>19.97</td><td>&lt; .001</td></tr>\n",
       "</tbody>\n",
       "</table>\n"
      ],
      "text/latex": [
       "A apa\\_results\\_table: 18 × 6\n",
       "\\begin{tabular}{r|llllll}\n",
       "  & chan0 & cond0 & estimate & ci & statistic & p.value\\\\\n",
       "  & <chr> & <chr> & <ppj\\_lbll> & <ppj\\_lbll> & <ppj\\_lbll> & <ppj\\_lbll>\\\\\n",
       "\\hline\n",
       "\tnoun\\_F\\_LC & LC & noun\\_F & 2.74 & \\${[}2.08\\$, \\$3.39{]}\\$ & 8.22  & < .001\\\\\n",
       "\tnoun\\_M\\_LC &    & noun\\_M & 2.64 & \\${[}1.98\\$, \\$3.29{]}\\$ & 7.92  & < .001\\\\\n",
       "\tverb\\_X\\_LC &    & verb\\_X & 2.39 & \\${[}1.74\\$, \\$3.05{]}\\$ & 7.19  & < .001\\\\\n",
       "\tnoun\\_F\\_LF & LF & noun\\_F & 2.03 & \\${[}1.37\\$, \\$2.68{]}\\$ & 6.09  & < .001\\\\\n",
       "\tnoun\\_M\\_LF &    & noun\\_M & 2.02 & \\${[}1.36\\$, \\$2.67{]}\\$ & 6.06  & < .001\\\\\n",
       "\tverb\\_X\\_LF &    & verb\\_X & 1.71 & \\${[}1.05\\$, \\$2.37{]}\\$ & 5.13  & < .001\\\\\n",
       "\tnoun\\_F\\_LP & LP & noun\\_F & 6.00 & \\${[}5.34\\$, \\$6.66{]}\\$ & 18.02 & < .001\\\\\n",
       "\tnoun\\_M\\_LP &    & noun\\_M & 5.78 & \\${[}5.12\\$, \\$6.43{]}\\$ & 17.35 & < .001\\\\\n",
       "\tverb\\_X\\_LP &    & verb\\_X & 5.55 & \\${[}4.90\\$, \\$6.21{]}\\$ & 16.68 & < .001\\\\\n",
       "\tnoun\\_F\\_RC & RC & noun\\_F & 2.95 & \\${[}2.29\\$, \\$3.60{]}\\$ & 8.85  & < .001\\\\\n",
       "\tnoun\\_M\\_RC &    & noun\\_M & 2.77 & \\${[}2.11\\$, \\$3.43{]}\\$ & 8.32  & < .001\\\\\n",
       "\tverb\\_X\\_RC &    & verb\\_X & 2.60 & \\${[}1.94\\$, \\$3.25{]}\\$ & 7.80  & < .001\\\\\n",
       "\tnoun\\_F\\_RF & RF & noun\\_F & 1.72 & \\${[}1.06\\$, \\$2.37{]}\\$ & 5.16  & < .001\\\\\n",
       "\tnoun\\_M\\_RF &    & noun\\_M & 1.73 & \\${[}1.07\\$, \\$2.39{]}\\$ & 5.20  & < .001\\\\\n",
       "\tverb\\_X\\_RF &    & verb\\_X & 1.44 & \\${[}0.79\\$, \\$2.10{]}\\$ & 4.33  & < .001\\\\\n",
       "\tnoun\\_F\\_RP & RP & noun\\_F & 6.98 & \\${[}6.33\\$, \\$7.64{]}\\$ & 20.97 & < .001\\\\\n",
       "\tnoun\\_M\\_RP &    & noun\\_M & 6.83 & \\${[}6.17\\$, \\$7.48{]}\\$ & 20.50 & < .001\\\\\n",
       "\tverb\\_X\\_RP &    & verb\\_X & 6.65 & \\${[}5.99\\$, \\$7.31{]}\\$ & 19.97 & < .001\\\\\n",
       "\\end{tabular}\n"
      ],
      "text/markdown": [
       "\n",
       "A apa_results_table: 18 × 6\n",
       "\n",
       "| <!--/--> | chan0 &lt;chr&gt; | cond0 &lt;chr&gt; | estimate &lt;ppj_lbll&gt; | ci &lt;ppj_lbll&gt; | statistic &lt;ppj_lbll&gt; | p.value &lt;ppj_lbll&gt; |\n",
       "|---|---|---|---|---|---|---|\n",
       "| noun_F_LC | LC | noun_F | 2.74 | $[2.08$, $3.39]$ | 8.22  | &lt; .001 |\n",
       "| noun_M_LC | <!----> | noun_M | 2.64 | $[1.98$, $3.29]$ | 7.92  | &lt; .001 |\n",
       "| verb_X_LC | <!----> | verb_X | 2.39 | $[1.74$, $3.05]$ | 7.19  | &lt; .001 |\n",
       "| noun_F_LF | LF | noun_F | 2.03 | $[1.37$, $2.68]$ | 6.09  | &lt; .001 |\n",
       "| noun_M_LF | <!----> | noun_M | 2.02 | $[1.36$, $2.67]$ | 6.06  | &lt; .001 |\n",
       "| verb_X_LF | <!----> | verb_X | 1.71 | $[1.05$, $2.37]$ | 5.13  | &lt; .001 |\n",
       "| noun_F_LP | LP | noun_F | 6.00 | $[5.34$, $6.66]$ | 18.02 | &lt; .001 |\n",
       "| noun_M_LP | <!----> | noun_M | 5.78 | $[5.12$, $6.43]$ | 17.35 | &lt; .001 |\n",
       "| verb_X_LP | <!----> | verb_X | 5.55 | $[4.90$, $6.21]$ | 16.68 | &lt; .001 |\n",
       "| noun_F_RC | RC | noun_F | 2.95 | $[2.29$, $3.60]$ | 8.85  | &lt; .001 |\n",
       "| noun_M_RC | <!----> | noun_M | 2.77 | $[2.11$, $3.43]$ | 8.32  | &lt; .001 |\n",
       "| verb_X_RC | <!----> | verb_X | 2.60 | $[1.94$, $3.25]$ | 7.80  | &lt; .001 |\n",
       "| noun_F_RF | RF | noun_F | 1.72 | $[1.06$, $2.37]$ | 5.16  | &lt; .001 |\n",
       "| noun_M_RF | <!----> | noun_M | 1.73 | $[1.07$, $2.39]$ | 5.20  | &lt; .001 |\n",
       "| verb_X_RF | <!----> | verb_X | 1.44 | $[0.79$, $2.10]$ | 4.33  | &lt; .001 |\n",
       "| noun_F_RP | RP | noun_F | 6.98 | $[6.33$, $7.64]$ | 20.97 | &lt; .001 |\n",
       "| noun_M_RP | <!----> | noun_M | 6.83 | $[6.17$, $7.48]$ | 20.50 | &lt; .001 |\n",
       "| verb_X_RP | <!----> | verb_X | 6.65 | $[5.99$, $7.31]$ | 19.97 | &lt; .001 |\n",
       "\n"
      ],
      "text/plain": [
       "          chan0 cond0  estimate ci               statistic p.value\n",
       "noun_F_LC LC    noun_F 2.74     $[2.08$, $3.39]$ 8.22      < .001 \n",
       "noun_M_LC       noun_M 2.64     $[1.98$, $3.29]$ 7.92      < .001 \n",
       "verb_X_LC       verb_X 2.39     $[1.74$, $3.05]$ 7.19      < .001 \n",
       "noun_F_LF LF    noun_F 2.03     $[1.37$, $2.68]$ 6.09      < .001 \n",
       "noun_M_LF       noun_M 2.02     $[1.36$, $2.67]$ 6.06      < .001 \n",
       "verb_X_LF       verb_X 1.71     $[1.05$, $2.37]$ 5.13      < .001 \n",
       "noun_F_LP LP    noun_F 6.00     $[5.34$, $6.66]$ 18.02     < .001 \n",
       "noun_M_LP       noun_M 5.78     $[5.12$, $6.43]$ 17.35     < .001 \n",
       "verb_X_LP       verb_X 5.55     $[4.90$, $6.21]$ 16.68     < .001 \n",
       "noun_F_RC RC    noun_F 2.95     $[2.29$, $3.60]$ 8.85      < .001 \n",
       "noun_M_RC       noun_M 2.77     $[2.11$, $3.43]$ 8.32      < .001 \n",
       "verb_X_RC       verb_X 2.60     $[1.94$, $3.25]$ 7.80      < .001 \n",
       "noun_F_RF RF    noun_F 1.72     $[1.06$, $2.37]$ 5.16      < .001 \n",
       "noun_M_RF       noun_M 1.73     $[1.07$, $2.39]$ 5.20      < .001 \n",
       "verb_X_RF       verb_X 1.44     $[0.79$, $2.10]$ 4.33      < .001 \n",
       "noun_F_RP RP    noun_F 6.98     $[6.33$, $7.64]$ 20.97     < .001 \n",
       "noun_M_RP       noun_M 6.83     $[6.17$, $7.48]$ 20.50     < .001 \n",
       "verb_X_RP       verb_X 6.65     $[5.99$, $7.31]$ 19.97     < .001 "
      ]
     },
     "metadata": {},
     "output_type": "display_data"
    },
    {
     "data": {
      "text/markdown": [
       "### Paired comparisons for expected marginal means"
      ]
     },
     "metadata": {},
     "output_type": "display_data"
    },
    {
     "data": {
      "text/html": [
       "<table>\n",
       "<caption>A apa_results_table: 18 × 6</caption>\n",
       "<thead>\n",
       "\t<tr><th></th><th scope=col>chan0</th><th scope=col>contrast</th><th scope=col>estimate</th><th scope=col>ci</th><th scope=col>statistic</th><th scope=col>p.value</th></tr>\n",
       "\t<tr><th></th><th scope=col>&lt;chr&gt;</th><th scope=col>&lt;ppj_lbll&gt;</th><th scope=col>&lt;ppj_lbll&gt;</th><th scope=col>&lt;ppj_lbll&gt;</th><th scope=col>&lt;ppj_lbll&gt;</th><th scope=col>&lt;ppj_lbll&gt;</th></tr>\n",
       "</thead>\n",
       "<tbody>\n",
       "\t<tr><th scope=row>LC_noun_F_noun_M</th><td>LC</td><td>noun_F - noun_M</td><td>0.10 </td><td>$[-0.24$, $0.43]$</td><td>0.69 </td><td>.767</td></tr>\n",
       "\t<tr><th scope=row>LC_noun_F_verb_X</th><td>  </td><td>noun_F - verb_X</td><td>0.34 </td><td>$[0.01$, $0.68]$ </td><td>2.42 </td><td>.043</td></tr>\n",
       "\t<tr><th scope=row>LC_noun_M_verb_X</th><td>  </td><td>noun_M - verb_X</td><td>0.24 </td><td>$[-0.09$, $0.58]$</td><td>1.72 </td><td>.199</td></tr>\n",
       "\t<tr><th scope=row>LF_noun_F_noun_M</th><td>LF</td><td>noun_F - noun_M</td><td>0.01 </td><td>$[-0.33$, $0.34]$</td><td>0.06 </td><td>.998</td></tr>\n",
       "\t<tr><th scope=row>LF_noun_F_verb_X</th><td>  </td><td>noun_F - verb_X</td><td>0.32 </td><td>$[-0.02$, $0.65]$</td><td>2.24 </td><td>.067</td></tr>\n",
       "\t<tr><th scope=row>LF_noun_M_verb_X</th><td>  </td><td>noun_M - verb_X</td><td>0.31 </td><td>$[-0.03$, $0.64]$</td><td>2.18 </td><td>.077</td></tr>\n",
       "\t<tr><th scope=row>LP_noun_F_noun_M</th><td>LP</td><td>noun_F - noun_M</td><td>0.22 </td><td>$[-0.11$, $0.56]$</td><td>1.56 </td><td>.265</td></tr>\n",
       "\t<tr><th scope=row>LP_noun_F_verb_X</th><td>  </td><td>noun_F - verb_X</td><td>0.45 </td><td>$[0.11$, $0.78]$ </td><td>3.15 </td><td>.005</td></tr>\n",
       "\t<tr><th scope=row>LP_noun_M_verb_X</th><td>  </td><td>noun_M - verb_X</td><td>0.23 </td><td>$[-0.11$, $0.56]$</td><td>1.59 </td><td>.253</td></tr>\n",
       "\t<tr><th scope=row>RC_noun_F_noun_M</th><td>RC</td><td>noun_F - noun_M</td><td>0.18 </td><td>$[-0.16$, $0.51]$</td><td>1.25 </td><td>.427</td></tr>\n",
       "\t<tr><th scope=row>RC_noun_F_verb_X</th><td>  </td><td>noun_F - verb_X</td><td>0.35 </td><td>$[0.01$, $0.69]$ </td><td>2.46 </td><td>.038</td></tr>\n",
       "\t<tr><th scope=row>RC_noun_M_verb_X</th><td>  </td><td>noun_M - verb_X</td><td>0.17 </td><td>$[-0.16$, $0.51]$</td><td>1.22 </td><td>.444</td></tr>\n",
       "\t<tr><th scope=row>RF_noun_F_noun_M</th><td>RF</td><td>noun_F - noun_M</td><td>-0.01</td><td>$[-0.35$, $0.32]$</td><td>-0.10</td><td>.995</td></tr>\n",
       "\t<tr><th scope=row>RF_noun_F_verb_X</th><td>  </td><td>noun_F - verb_X</td><td>0.27 </td><td>$[-0.06$, $0.61]$</td><td>1.93 </td><td>.132</td></tr>\n",
       "\t<tr><th scope=row>RF_noun_M_verb_X</th><td>  </td><td>noun_M - verb_X</td><td>0.29 </td><td>$[-0.05$, $0.62]$</td><td>2.03 </td><td>.108</td></tr>\n",
       "\t<tr><th scope=row>RP_noun_F_noun_M</th><td>RP</td><td>noun_F - noun_M</td><td>0.16 </td><td>$[-0.18$, $0.49]$</td><td>1.10 </td><td>.516</td></tr>\n",
       "\t<tr><th scope=row>RP_noun_F_verb_X</th><td>  </td><td>noun_F - verb_X</td><td>0.33 </td><td>$[0.00$, $0.67]$ </td><td>2.34 </td><td>.053</td></tr>\n",
       "\t<tr><th scope=row>RP_noun_M_verb_X</th><td>  </td><td>noun_M - verb_X</td><td>0.18 </td><td>$[-0.16$, $0.51]$</td><td>1.24 </td><td>.431</td></tr>\n",
       "</tbody>\n",
       "</table>\n"
      ],
      "text/latex": [
       "A apa\\_results\\_table: 18 × 6\n",
       "\\begin{tabular}{r|llllll}\n",
       "  & chan0 & contrast & estimate & ci & statistic & p.value\\\\\n",
       "  & <chr> & <ppj\\_lbll> & <ppj\\_lbll> & <ppj\\_lbll> & <ppj\\_lbll> & <ppj\\_lbll>\\\\\n",
       "\\hline\n",
       "\tLC\\_noun\\_F\\_noun\\_M & LC & noun\\_F - noun\\_M & 0.10  & \\${[}-0.24\\$, \\$0.43{]}\\$ & 0.69  & .767\\\\\n",
       "\tLC\\_noun\\_F\\_verb\\_X &    & noun\\_F - verb\\_X & 0.34  & \\${[}0.01\\$, \\$0.68{]}\\$  & 2.42  & .043\\\\\n",
       "\tLC\\_noun\\_M\\_verb\\_X &    & noun\\_M - verb\\_X & 0.24  & \\${[}-0.09\\$, \\$0.58{]}\\$ & 1.72  & .199\\\\\n",
       "\tLF\\_noun\\_F\\_noun\\_M & LF & noun\\_F - noun\\_M & 0.01  & \\${[}-0.33\\$, \\$0.34{]}\\$ & 0.06  & .998\\\\\n",
       "\tLF\\_noun\\_F\\_verb\\_X &    & noun\\_F - verb\\_X & 0.32  & \\${[}-0.02\\$, \\$0.65{]}\\$ & 2.24  & .067\\\\\n",
       "\tLF\\_noun\\_M\\_verb\\_X &    & noun\\_M - verb\\_X & 0.31  & \\${[}-0.03\\$, \\$0.64{]}\\$ & 2.18  & .077\\\\\n",
       "\tLP\\_noun\\_F\\_noun\\_M & LP & noun\\_F - noun\\_M & 0.22  & \\${[}-0.11\\$, \\$0.56{]}\\$ & 1.56  & .265\\\\\n",
       "\tLP\\_noun\\_F\\_verb\\_X &    & noun\\_F - verb\\_X & 0.45  & \\${[}0.11\\$, \\$0.78{]}\\$  & 3.15  & .005\\\\\n",
       "\tLP\\_noun\\_M\\_verb\\_X &    & noun\\_M - verb\\_X & 0.23  & \\${[}-0.11\\$, \\$0.56{]}\\$ & 1.59  & .253\\\\\n",
       "\tRC\\_noun\\_F\\_noun\\_M & RC & noun\\_F - noun\\_M & 0.18  & \\${[}-0.16\\$, \\$0.51{]}\\$ & 1.25  & .427\\\\\n",
       "\tRC\\_noun\\_F\\_verb\\_X &    & noun\\_F - verb\\_X & 0.35  & \\${[}0.01\\$, \\$0.69{]}\\$  & 2.46  & .038\\\\\n",
       "\tRC\\_noun\\_M\\_verb\\_X &    & noun\\_M - verb\\_X & 0.17  & \\${[}-0.16\\$, \\$0.51{]}\\$ & 1.22  & .444\\\\\n",
       "\tRF\\_noun\\_F\\_noun\\_M & RF & noun\\_F - noun\\_M & -0.01 & \\${[}-0.35\\$, \\$0.32{]}\\$ & -0.10 & .995\\\\\n",
       "\tRF\\_noun\\_F\\_verb\\_X &    & noun\\_F - verb\\_X & 0.27  & \\${[}-0.06\\$, \\$0.61{]}\\$ & 1.93  & .132\\\\\n",
       "\tRF\\_noun\\_M\\_verb\\_X &    & noun\\_M - verb\\_X & 0.29  & \\${[}-0.05\\$, \\$0.62{]}\\$ & 2.03  & .108\\\\\n",
       "\tRP\\_noun\\_F\\_noun\\_M & RP & noun\\_F - noun\\_M & 0.16  & \\${[}-0.18\\$, \\$0.49{]}\\$ & 1.10  & .516\\\\\n",
       "\tRP\\_noun\\_F\\_verb\\_X &    & noun\\_F - verb\\_X & 0.33  & \\${[}0.00\\$, \\$0.67{]}\\$  & 2.34  & .053\\\\\n",
       "\tRP\\_noun\\_M\\_verb\\_X &    & noun\\_M - verb\\_X & 0.18  & \\${[}-0.16\\$, \\$0.51{]}\\$ & 1.24  & .431\\\\\n",
       "\\end{tabular}\n"
      ],
      "text/markdown": [
       "\n",
       "A apa_results_table: 18 × 6\n",
       "\n",
       "| <!--/--> | chan0 &lt;chr&gt; | contrast &lt;ppj_lbll&gt; | estimate &lt;ppj_lbll&gt; | ci &lt;ppj_lbll&gt; | statistic &lt;ppj_lbll&gt; | p.value &lt;ppj_lbll&gt; |\n",
       "|---|---|---|---|---|---|---|\n",
       "| LC_noun_F_noun_M | LC | noun_F - noun_M | 0.10  | $[-0.24$, $0.43]$ | 0.69  | .767 |\n",
       "| LC_noun_F_verb_X | <!----> | noun_F - verb_X | 0.34  | $[0.01$, $0.68]$  | 2.42  | .043 |\n",
       "| LC_noun_M_verb_X | <!----> | noun_M - verb_X | 0.24  | $[-0.09$, $0.58]$ | 1.72  | .199 |\n",
       "| LF_noun_F_noun_M | LF | noun_F - noun_M | 0.01  | $[-0.33$, $0.34]$ | 0.06  | .998 |\n",
       "| LF_noun_F_verb_X | <!----> | noun_F - verb_X | 0.32  | $[-0.02$, $0.65]$ | 2.24  | .067 |\n",
       "| LF_noun_M_verb_X | <!----> | noun_M - verb_X | 0.31  | $[-0.03$, $0.64]$ | 2.18  | .077 |\n",
       "| LP_noun_F_noun_M | LP | noun_F - noun_M | 0.22  | $[-0.11$, $0.56]$ | 1.56  | .265 |\n",
       "| LP_noun_F_verb_X | <!----> | noun_F - verb_X | 0.45  | $[0.11$, $0.78]$  | 3.15  | .005 |\n",
       "| LP_noun_M_verb_X | <!----> | noun_M - verb_X | 0.23  | $[-0.11$, $0.56]$ | 1.59  | .253 |\n",
       "| RC_noun_F_noun_M | RC | noun_F - noun_M | 0.18  | $[-0.16$, $0.51]$ | 1.25  | .427 |\n",
       "| RC_noun_F_verb_X | <!----> | noun_F - verb_X | 0.35  | $[0.01$, $0.69]$  | 2.46  | .038 |\n",
       "| RC_noun_M_verb_X | <!----> | noun_M - verb_X | 0.17  | $[-0.16$, $0.51]$ | 1.22  | .444 |\n",
       "| RF_noun_F_noun_M | RF | noun_F - noun_M | -0.01 | $[-0.35$, $0.32]$ | -0.10 | .995 |\n",
       "| RF_noun_F_verb_X | <!----> | noun_F - verb_X | 0.27  | $[-0.06$, $0.61]$ | 1.93  | .132 |\n",
       "| RF_noun_M_verb_X | <!----> | noun_M - verb_X | 0.29  | $[-0.05$, $0.62]$ | 2.03  | .108 |\n",
       "| RP_noun_F_noun_M | RP | noun_F - noun_M | 0.16  | $[-0.18$, $0.49]$ | 1.10  | .516 |\n",
       "| RP_noun_F_verb_X | <!----> | noun_F - verb_X | 0.33  | $[0.00$, $0.67]$  | 2.34  | .053 |\n",
       "| RP_noun_M_verb_X | <!----> | noun_M - verb_X | 0.18  | $[-0.16$, $0.51]$ | 1.24  | .431 |\n",
       "\n"
      ],
      "text/plain": [
       "                 chan0 contrast        estimate ci                statistic p.value\n",
       "LC_noun_F_noun_M LC    noun_F - noun_M 0.10     $[-0.24$, $0.43]$ 0.69      .767   \n",
       "LC_noun_F_verb_X       noun_F - verb_X 0.34     $[0.01$, $0.68]$  2.42      .043   \n",
       "LC_noun_M_verb_X       noun_M - verb_X 0.24     $[-0.09$, $0.58]$ 1.72      .199   \n",
       "LF_noun_F_noun_M LF    noun_F - noun_M 0.01     $[-0.33$, $0.34]$ 0.06      .998   \n",
       "LF_noun_F_verb_X       noun_F - verb_X 0.32     $[-0.02$, $0.65]$ 2.24      .067   \n",
       "LF_noun_M_verb_X       noun_M - verb_X 0.31     $[-0.03$, $0.64]$ 2.18      .077   \n",
       "LP_noun_F_noun_M LP    noun_F - noun_M 0.22     $[-0.11$, $0.56]$ 1.56      .265   \n",
       "LP_noun_F_verb_X       noun_F - verb_X 0.45     $[0.11$, $0.78]$  3.15      .005   \n",
       "LP_noun_M_verb_X       noun_M - verb_X 0.23     $[-0.11$, $0.56]$ 1.59      .253   \n",
       "RC_noun_F_noun_M RC    noun_F - noun_M 0.18     $[-0.16$, $0.51]$ 1.25      .427   \n",
       "RC_noun_F_verb_X       noun_F - verb_X 0.35     $[0.01$, $0.69]$  2.46      .038   \n",
       "RC_noun_M_verb_X       noun_M - verb_X 0.17     $[-0.16$, $0.51]$ 1.22      .444   \n",
       "RF_noun_F_noun_M RF    noun_F - noun_M -0.01    $[-0.35$, $0.32]$ -0.10     .995   \n",
       "RF_noun_F_verb_X       noun_F - verb_X 0.27     $[-0.06$, $0.61]$ 1.93      .132   \n",
       "RF_noun_M_verb_X       noun_M - verb_X 0.29     $[-0.05$, $0.62]$ 2.03      .108   \n",
       "RP_noun_F_noun_M RP    noun_F - noun_M 0.16     $[-0.18$, $0.49]$ 1.10      .516   \n",
       "RP_noun_F_verb_X       noun_F - verb_X 0.33     $[0.00$, $0.67]$  2.34      .053   \n",
       "RP_noun_M_verb_X       noun_M - verb_X 0.18     $[-0.16$, $0.51]$ 1.24      .431   "
      ]
     },
     "metadata": {},
     "output_type": "display_data"
    }
   ],
   "source": [
    "IDX <- IDX+1; COND <- CONDS[IDX]\n",
    "data1 <- droplevels(subset(df1, eval(parse(text=COND)))); \n",
    "data1 <- data1[complete.cases(data1),]; \n",
    "done1 <- AOV4(data1,COND)\n",
    "display_markdown(str_c(\"# Condition \",IDX,\" of \",length(CONDS))); \n",
    "display_markdown(done1$info); \n",
    "display_markdown(\"### Table\"); \n",
    "done1$aov_APA$table; \n",
    "display_markdown(\"### Result\"); \n",
    "display_markdown(done1$aov_APA[[\"full_result\"]][[\"cond0\"]]); \n",
    "display_markdown(\"### Summary (all done1, incl. NANs)\"); \n",
    "done1$summary; \n",
    "display_markdown(\"### Expected marginal means\"); \n",
    "done1$emm_APA$table; \n",
    "display_markdown(\"### Paired comparisons for expected marginal means\"); \n",
    "done1$pairs_APA$table"
   ]
  },
  {
   "cell_type": "code",
   "execution_count": 492,
   "metadata": {
    "scrolled": false
   },
   "outputs": [
    {
     "name": "stderr",
     "output_type": "stream",
     "text": [
      "Warning message:\n",
      "“More than one observation per cell, aggregating the data using mean (i.e, fun_aggregate = mean)!”\n",
      "Warning message in summary.Anova.mlm(x$Anova):\n",
      "“HF eps > 1 treated as 1”\n"
     ]
    },
    {
     "data": {
      "text/markdown": [
       "# Condition 2 of 6"
      ]
     },
     "metadata": {},
     "output_type": "display_data"
    },
    {
     "data": {
      "text/markdown": [
       "`tmin0==0.19`"
      ]
     },
     "metadata": {},
     "output_type": "display_data"
    },
    {
     "data": {
      "text/markdown": [
       "### Table"
      ]
     },
     "metadata": {},
     "output_type": "display_data"
    },
    {
     "data": {
      "text/html": [
       "<table>\n",
       "<caption>A apa_results_table: 3 × 7</caption>\n",
       "<thead>\n",
       "\t<tr><th></th><th scope=col>Effect</th><th scope=col>F</th><th scope=col>df1</th><th scope=col>df2</th><th scope=col>MSE</th><th scope=col>p</th><th scope=col>ges</th></tr>\n",
       "\t<tr><th></th><th scope=col>&lt;ppj_lbll&gt;</th><th scope=col>&lt;ppj_lbll&gt;</th><th scope=col>&lt;ppj_lbll&gt;</th><th scope=col>&lt;ppj_lbll&gt;</th><th scope=col>&lt;ppj_lbll&gt;</th><th scope=col>&lt;ppj_lbll&gt;</th><th scope=col>&lt;ppj_lbll&gt;</th></tr>\n",
       "</thead>\n",
       "<tbody>\n",
       "\t<tr><th scope=row>1</th><td>Cond0                </td><td>3.43 </td><td>1.89</td><td>58.63 </td><td>1.13 </td><td>.042  </td><td>.003</td></tr>\n",
       "\t<tr><th scope=row>2</th><td><span style=white-space:pre-wrap>Chan0                </span></td><td>10.55</td><td>1.66</td><td>51.54 </td><td>22.70</td><td>&lt; .001</td><td>.150</td></tr>\n",
       "\t<tr><th scope=row>3</th><td>Cond0 $\\times$ Chan0</td><td>1.07 </td><td>4.40</td><td>136.27</td><td>0.43 </td><td>.378  </td><td>.001</td></tr>\n",
       "</tbody>\n",
       "</table>\n"
      ],
      "text/latex": [
       "A apa\\_results\\_table: 3 × 7\n",
       "\\begin{tabular}{r|lllllll}\n",
       "  & Effect & F & df1 & df2 & MSE & p & ges\\\\\n",
       "  & <ppj\\_lbll> & <ppj\\_lbll> & <ppj\\_lbll> & <ppj\\_lbll> & <ppj\\_lbll> & <ppj\\_lbll> & <ppj\\_lbll>\\\\\n",
       "\\hline\n",
       "\t1 & Cond0                 & 3.43  & 1.89 & 58.63  & 1.13  & .042   & .003\\\\\n",
       "\t2 & Chan0                 & 10.55 & 1.66 & 51.54  & 22.70 & < .001 & .150\\\\\n",
       "\t3 & Cond0 \\$\\textbackslash{}times\\$ Chan0 & 1.07  & 4.40 & 136.27 & 0.43  & .378   & .001\\\\\n",
       "\\end{tabular}\n"
      ],
      "text/markdown": [
       "\n",
       "A apa_results_table: 3 × 7\n",
       "\n",
       "| <!--/--> | Effect &lt;ppj_lbll&gt; | F &lt;ppj_lbll&gt; | df1 &lt;ppj_lbll&gt; | df2 &lt;ppj_lbll&gt; | MSE &lt;ppj_lbll&gt; | p &lt;ppj_lbll&gt; | ges &lt;ppj_lbll&gt; |\n",
       "|---|---|---|---|---|---|---|---|\n",
       "| 1 | Cond0                 | 3.43  | 1.89 | 58.63  | 1.13  | .042   | .003 |\n",
       "| 2 | Chan0                 | 10.55 | 1.66 | 51.54  | 22.70 | &lt; .001 | .150 |\n",
       "| 3 | Cond0 $\\times$ Chan0 | 1.07  | 4.40 | 136.27 | 0.43  | .378   | .001 |\n",
       "\n"
      ],
      "text/plain": [
       "  Effect                F     df1  df2    MSE   p      ges \n",
       "1 Cond0                 3.43  1.89 58.63  1.13  .042   .003\n",
       "2 Chan0                 10.55 1.66 51.54  22.70 < .001 .150\n",
       "3 Cond0 $\\\\times$ Chan0 1.07  4.40 136.27 0.43  .378   .001"
      ]
     },
     "metadata": {},
     "output_type": "display_data"
    },
    {
     "data": {
      "text/markdown": [
       "### Result"
      ]
     },
     "metadata": {},
     "output_type": "display_data"
    },
    {
     "data": {
      "text/markdown": [
       "$F(1.89, 58.63) = 3.43$, $\\mathit{MSE} = 1.13$, $p = .042$, $\\hat{\\eta}^2_G = .003$"
      ]
     },
     "metadata": {},
     "output_type": "display_data"
    },
    {
     "data": {
      "text/markdown": [
       "### Summary (all done1, incl. NANs)"
      ]
     },
     "metadata": {},
     "output_type": "display_data"
    },
    {
     "data": {
      "text/html": [
       "<table>\n",
       "<caption>A tibble: 3 × 5</caption>\n",
       "<thead>\n",
       "\t<tr><th scope=col>cond0</th><th scope=col>N</th><th scope=col>valX_M</th><th scope=col>valX_SD</th><th scope=col>valX_SE</th></tr>\n",
       "\t<tr><th scope=col>&lt;fct&gt;</th><th scope=col>&lt;int&gt;</th><th scope=col>&lt;dbl&gt;</th><th scope=col>&lt;dbl&gt;</th><th scope=col>&lt;dbl&gt;</th></tr>\n",
       "</thead>\n",
       "<tbody>\n",
       "\t<tr><td>noun_F</td><td>4608</td><td>4.106013</td><td>2.917217</td><td>0.04297466</td></tr>\n",
       "\t<tr><td>noun_M</td><td>4608</td><td>4.146643</td><td>2.894191</td><td>0.04263546</td></tr>\n",
       "\t<tr><td>verb_X</td><td>4608</td><td>3.890248</td><td>2.764584</td><td>0.04072616</td></tr>\n",
       "</tbody>\n",
       "</table>\n"
      ],
      "text/latex": [
       "A tibble: 3 × 5\n",
       "\\begin{tabular}{lllll}\n",
       " cond0 & N & valX\\_M & valX\\_SD & valX\\_SE\\\\\n",
       " <fct> & <int> & <dbl> & <dbl> & <dbl>\\\\\n",
       "\\hline\n",
       "\t noun\\_F & 4608 & 4.106013 & 2.917217 & 0.04297466\\\\\n",
       "\t noun\\_M & 4608 & 4.146643 & 2.894191 & 0.04263546\\\\\n",
       "\t verb\\_X & 4608 & 3.890248 & 2.764584 & 0.04072616\\\\\n",
       "\\end{tabular}\n"
      ],
      "text/markdown": [
       "\n",
       "A tibble: 3 × 5\n",
       "\n",
       "| cond0 &lt;fct&gt; | N &lt;int&gt; | valX_M &lt;dbl&gt; | valX_SD &lt;dbl&gt; | valX_SE &lt;dbl&gt; |\n",
       "|---|---|---|---|---|\n",
       "| noun_F | 4608 | 4.106013 | 2.917217 | 0.04297466 |\n",
       "| noun_M | 4608 | 4.146643 | 2.894191 | 0.04263546 |\n",
       "| verb_X | 4608 | 3.890248 | 2.764584 | 0.04072616 |\n",
       "\n"
      ],
      "text/plain": [
       "  cond0  N    valX_M   valX_SD  valX_SE   \n",
       "1 noun_F 4608 4.106013 2.917217 0.04297466\n",
       "2 noun_M 4608 4.146643 2.894191 0.04263546\n",
       "3 verb_X 4608 3.890248 2.764584 0.04072616"
      ]
     },
     "metadata": {},
     "output_type": "display_data"
    },
    {
     "data": {
      "text/markdown": [
       "### Expected marginal means"
      ]
     },
     "metadata": {},
     "output_type": "display_data"
    },
    {
     "data": {
      "text/html": [
       "<table>\n",
       "<caption>A apa_results_table: 18 × 6</caption>\n",
       "<thead>\n",
       "\t<tr><th></th><th scope=col>chan0</th><th scope=col>cond0</th><th scope=col>estimate</th><th scope=col>ci</th><th scope=col>statistic</th><th scope=col>p.value</th></tr>\n",
       "\t<tr><th></th><th scope=col>&lt;chr&gt;</th><th scope=col>&lt;chr&gt;</th><th scope=col>&lt;ppj_lbll&gt;</th><th scope=col>&lt;ppj_lbll&gt;</th><th scope=col>&lt;ppj_lbll&gt;</th><th scope=col>&lt;ppj_lbll&gt;</th></tr>\n",
       "</thead>\n",
       "<tbody>\n",
       "\t<tr><th scope=row>noun_F_LC</th><td>LC</td><td>noun_F</td><td>3.84</td><td>$[3.14$, $4.55]$</td><td>10.81</td><td>&lt; .001</td></tr>\n",
       "\t<tr><th scope=row>noun_M_LC</th><td><span style=white-space:pre-wrap>  </span></td><td>noun_M</td><td>3.88</td><td>$[3.18$, $4.58]$</td><td>10.91</td><td>&lt; .001</td></tr>\n",
       "\t<tr><th scope=row>verb_X_LC</th><td><span style=white-space:pre-wrap>  </span></td><td>verb_X</td><td>3.63</td><td>$[2.93$, $4.33]$</td><td>10.21</td><td>&lt; .001</td></tr>\n",
       "\t<tr><th scope=row>noun_F_LF</th><td>LF</td><td>noun_F</td><td>3.74</td><td>$[3.04$, $4.44]$</td><td>10.52</td><td>&lt; .001</td></tr>\n",
       "\t<tr><th scope=row>noun_M_LF</th><td><span style=white-space:pre-wrap>  </span></td><td>noun_M</td><td>3.76</td><td>$[3.05$, $4.46]$</td><td>10.57</td><td>&lt; .001</td></tr>\n",
       "\t<tr><th scope=row>verb_X_LF</th><td><span style=white-space:pre-wrap>  </span></td><td>verb_X</td><td>3.42</td><td>$[2.72$, $4.12]$</td><td>9.62 </td><td>&lt; .001</td></tr>\n",
       "\t<tr><th scope=row>noun_F_LP</th><td>LP</td><td>noun_F</td><td>4.12</td><td>$[3.42$, $4.83]$</td><td>11.60</td><td>&lt; .001</td></tr>\n",
       "\t<tr><th scope=row>noun_M_LP</th><td><span style=white-space:pre-wrap>  </span></td><td>noun_M</td><td>4.28</td><td>$[3.57$, $4.98]$</td><td>12.02</td><td>&lt; .001</td></tr>\n",
       "\t<tr><th scope=row>verb_X_LP</th><td><span style=white-space:pre-wrap>  </span></td><td>verb_X</td><td>3.81</td><td>$[3.11$, $4.52]$</td><td>10.73</td><td>&lt; .001</td></tr>\n",
       "\t<tr><th scope=row>noun_F_RC</th><td>RC</td><td>noun_F</td><td>3.96</td><td>$[3.26$, $4.66]$</td><td>11.14</td><td>&lt; .001</td></tr>\n",
       "\t<tr><th scope=row>noun_M_RC</th><td><span style=white-space:pre-wrap>  </span></td><td>noun_M</td><td>3.94</td><td>$[3.24$, $4.65]$</td><td>11.09</td><td>&lt; .001</td></tr>\n",
       "\t<tr><th scope=row>verb_X_RC</th><td><span style=white-space:pre-wrap>  </span></td><td>verb_X</td><td>3.87</td><td>$[3.16$, $4.57]$</td><td>10.87</td><td>&lt; .001</td></tr>\n",
       "\t<tr><th scope=row>noun_F_RF</th><td>RF</td><td>noun_F</td><td>3.22</td><td>$[2.51$, $3.92]$</td><td>9.05 </td><td>&lt; .001</td></tr>\n",
       "\t<tr><th scope=row>noun_M_RF</th><td><span style=white-space:pre-wrap>  </span></td><td>noun_M</td><td>3.14</td><td>$[2.44$, $3.84]$</td><td>8.83 </td><td>&lt; .001</td></tr>\n",
       "\t<tr><th scope=row>verb_X_RF</th><td><span style=white-space:pre-wrap>  </span></td><td>verb_X</td><td>2.92</td><td>$[2.22$, $3.63]$</td><td>8.22 </td><td>&lt; .001</td></tr>\n",
       "\t<tr><th scope=row>noun_F_RP</th><td>RP</td><td>noun_F</td><td>5.75</td><td>$[5.05$, $6.45]$</td><td>16.18</td><td>&lt; .001</td></tr>\n",
       "\t<tr><th scope=row>noun_M_RP</th><td><span style=white-space:pre-wrap>  </span></td><td>noun_M</td><td>5.88</td><td>$[5.18$, $6.59]$</td><td>16.55</td><td>&lt; .001</td></tr>\n",
       "\t<tr><th scope=row>verb_X_RP</th><td><span style=white-space:pre-wrap>  </span></td><td>verb_X</td><td>5.69</td><td>$[4.99$, $6.39]$</td><td>16.00</td><td>&lt; .001</td></tr>\n",
       "</tbody>\n",
       "</table>\n"
      ],
      "text/latex": [
       "A apa\\_results\\_table: 18 × 6\n",
       "\\begin{tabular}{r|llllll}\n",
       "  & chan0 & cond0 & estimate & ci & statistic & p.value\\\\\n",
       "  & <chr> & <chr> & <ppj\\_lbll> & <ppj\\_lbll> & <ppj\\_lbll> & <ppj\\_lbll>\\\\\n",
       "\\hline\n",
       "\tnoun\\_F\\_LC & LC & noun\\_F & 3.84 & \\${[}3.14\\$, \\$4.55{]}\\$ & 10.81 & < .001\\\\\n",
       "\tnoun\\_M\\_LC &    & noun\\_M & 3.88 & \\${[}3.18\\$, \\$4.58{]}\\$ & 10.91 & < .001\\\\\n",
       "\tverb\\_X\\_LC &    & verb\\_X & 3.63 & \\${[}2.93\\$, \\$4.33{]}\\$ & 10.21 & < .001\\\\\n",
       "\tnoun\\_F\\_LF & LF & noun\\_F & 3.74 & \\${[}3.04\\$, \\$4.44{]}\\$ & 10.52 & < .001\\\\\n",
       "\tnoun\\_M\\_LF &    & noun\\_M & 3.76 & \\${[}3.05\\$, \\$4.46{]}\\$ & 10.57 & < .001\\\\\n",
       "\tverb\\_X\\_LF &    & verb\\_X & 3.42 & \\${[}2.72\\$, \\$4.12{]}\\$ & 9.62  & < .001\\\\\n",
       "\tnoun\\_F\\_LP & LP & noun\\_F & 4.12 & \\${[}3.42\\$, \\$4.83{]}\\$ & 11.60 & < .001\\\\\n",
       "\tnoun\\_M\\_LP &    & noun\\_M & 4.28 & \\${[}3.57\\$, \\$4.98{]}\\$ & 12.02 & < .001\\\\\n",
       "\tverb\\_X\\_LP &    & verb\\_X & 3.81 & \\${[}3.11\\$, \\$4.52{]}\\$ & 10.73 & < .001\\\\\n",
       "\tnoun\\_F\\_RC & RC & noun\\_F & 3.96 & \\${[}3.26\\$, \\$4.66{]}\\$ & 11.14 & < .001\\\\\n",
       "\tnoun\\_M\\_RC &    & noun\\_M & 3.94 & \\${[}3.24\\$, \\$4.65{]}\\$ & 11.09 & < .001\\\\\n",
       "\tverb\\_X\\_RC &    & verb\\_X & 3.87 & \\${[}3.16\\$, \\$4.57{]}\\$ & 10.87 & < .001\\\\\n",
       "\tnoun\\_F\\_RF & RF & noun\\_F & 3.22 & \\${[}2.51\\$, \\$3.92{]}\\$ & 9.05  & < .001\\\\\n",
       "\tnoun\\_M\\_RF &    & noun\\_M & 3.14 & \\${[}2.44\\$, \\$3.84{]}\\$ & 8.83  & < .001\\\\\n",
       "\tverb\\_X\\_RF &    & verb\\_X & 2.92 & \\${[}2.22\\$, \\$3.63{]}\\$ & 8.22  & < .001\\\\\n",
       "\tnoun\\_F\\_RP & RP & noun\\_F & 5.75 & \\${[}5.05\\$, \\$6.45{]}\\$ & 16.18 & < .001\\\\\n",
       "\tnoun\\_M\\_RP &    & noun\\_M & 5.88 & \\${[}5.18\\$, \\$6.59{]}\\$ & 16.55 & < .001\\\\\n",
       "\tverb\\_X\\_RP &    & verb\\_X & 5.69 & \\${[}4.99\\$, \\$6.39{]}\\$ & 16.00 & < .001\\\\\n",
       "\\end{tabular}\n"
      ],
      "text/markdown": [
       "\n",
       "A apa_results_table: 18 × 6\n",
       "\n",
       "| <!--/--> | chan0 &lt;chr&gt; | cond0 &lt;chr&gt; | estimate &lt;ppj_lbll&gt; | ci &lt;ppj_lbll&gt; | statistic &lt;ppj_lbll&gt; | p.value &lt;ppj_lbll&gt; |\n",
       "|---|---|---|---|---|---|---|\n",
       "| noun_F_LC | LC | noun_F | 3.84 | $[3.14$, $4.55]$ | 10.81 | &lt; .001 |\n",
       "| noun_M_LC | <!----> | noun_M | 3.88 | $[3.18$, $4.58]$ | 10.91 | &lt; .001 |\n",
       "| verb_X_LC | <!----> | verb_X | 3.63 | $[2.93$, $4.33]$ | 10.21 | &lt; .001 |\n",
       "| noun_F_LF | LF | noun_F | 3.74 | $[3.04$, $4.44]$ | 10.52 | &lt; .001 |\n",
       "| noun_M_LF | <!----> | noun_M | 3.76 | $[3.05$, $4.46]$ | 10.57 | &lt; .001 |\n",
       "| verb_X_LF | <!----> | verb_X | 3.42 | $[2.72$, $4.12]$ | 9.62  | &lt; .001 |\n",
       "| noun_F_LP | LP | noun_F | 4.12 | $[3.42$, $4.83]$ | 11.60 | &lt; .001 |\n",
       "| noun_M_LP | <!----> | noun_M | 4.28 | $[3.57$, $4.98]$ | 12.02 | &lt; .001 |\n",
       "| verb_X_LP | <!----> | verb_X | 3.81 | $[3.11$, $4.52]$ | 10.73 | &lt; .001 |\n",
       "| noun_F_RC | RC | noun_F | 3.96 | $[3.26$, $4.66]$ | 11.14 | &lt; .001 |\n",
       "| noun_M_RC | <!----> | noun_M | 3.94 | $[3.24$, $4.65]$ | 11.09 | &lt; .001 |\n",
       "| verb_X_RC | <!----> | verb_X | 3.87 | $[3.16$, $4.57]$ | 10.87 | &lt; .001 |\n",
       "| noun_F_RF | RF | noun_F | 3.22 | $[2.51$, $3.92]$ | 9.05  | &lt; .001 |\n",
       "| noun_M_RF | <!----> | noun_M | 3.14 | $[2.44$, $3.84]$ | 8.83  | &lt; .001 |\n",
       "| verb_X_RF | <!----> | verb_X | 2.92 | $[2.22$, $3.63]$ | 8.22  | &lt; .001 |\n",
       "| noun_F_RP | RP | noun_F | 5.75 | $[5.05$, $6.45]$ | 16.18 | &lt; .001 |\n",
       "| noun_M_RP | <!----> | noun_M | 5.88 | $[5.18$, $6.59]$ | 16.55 | &lt; .001 |\n",
       "| verb_X_RP | <!----> | verb_X | 5.69 | $[4.99$, $6.39]$ | 16.00 | &lt; .001 |\n",
       "\n"
      ],
      "text/plain": [
       "          chan0 cond0  estimate ci               statistic p.value\n",
       "noun_F_LC LC    noun_F 3.84     $[3.14$, $4.55]$ 10.81     < .001 \n",
       "noun_M_LC       noun_M 3.88     $[3.18$, $4.58]$ 10.91     < .001 \n",
       "verb_X_LC       verb_X 3.63     $[2.93$, $4.33]$ 10.21     < .001 \n",
       "noun_F_LF LF    noun_F 3.74     $[3.04$, $4.44]$ 10.52     < .001 \n",
       "noun_M_LF       noun_M 3.76     $[3.05$, $4.46]$ 10.57     < .001 \n",
       "verb_X_LF       verb_X 3.42     $[2.72$, $4.12]$ 9.62      < .001 \n",
       "noun_F_LP LP    noun_F 4.12     $[3.42$, $4.83]$ 11.60     < .001 \n",
       "noun_M_LP       noun_M 4.28     $[3.57$, $4.98]$ 12.02     < .001 \n",
       "verb_X_LP       verb_X 3.81     $[3.11$, $4.52]$ 10.73     < .001 \n",
       "noun_F_RC RC    noun_F 3.96     $[3.26$, $4.66]$ 11.14     < .001 \n",
       "noun_M_RC       noun_M 3.94     $[3.24$, $4.65]$ 11.09     < .001 \n",
       "verb_X_RC       verb_X 3.87     $[3.16$, $4.57]$ 10.87     < .001 \n",
       "noun_F_RF RF    noun_F 3.22     $[2.51$, $3.92]$ 9.05      < .001 \n",
       "noun_M_RF       noun_M 3.14     $[2.44$, $3.84]$ 8.83      < .001 \n",
       "verb_X_RF       verb_X 2.92     $[2.22$, $3.63]$ 8.22      < .001 \n",
       "noun_F_RP RP    noun_F 5.75     $[5.05$, $6.45]$ 16.18     < .001 \n",
       "noun_M_RP       noun_M 5.88     $[5.18$, $6.59]$ 16.55     < .001 \n",
       "verb_X_RP       verb_X 5.69     $[4.99$, $6.39]$ 16.00     < .001 "
      ]
     },
     "metadata": {},
     "output_type": "display_data"
    },
    {
     "data": {
      "text/markdown": [
       "### Paired comparisons for expected marginal means"
      ]
     },
     "metadata": {},
     "output_type": "display_data"
    },
    {
     "data": {
      "text/html": [
       "<table>\n",
       "<caption>A apa_results_table: 18 × 6</caption>\n",
       "<thead>\n",
       "\t<tr><th></th><th scope=col>chan0</th><th scope=col>contrast</th><th scope=col>estimate</th><th scope=col>ci</th><th scope=col>statistic</th><th scope=col>p.value</th></tr>\n",
       "\t<tr><th></th><th scope=col>&lt;chr&gt;</th><th scope=col>&lt;ppj_lbll&gt;</th><th scope=col>&lt;ppj_lbll&gt;</th><th scope=col>&lt;ppj_lbll&gt;</th><th scope=col>&lt;ppj_lbll&gt;</th><th scope=col>&lt;ppj_lbll&gt;</th></tr>\n",
       "</thead>\n",
       "<tbody>\n",
       "\t<tr><th scope=row>LC_noun_F_noun_M</th><td>LC</td><td>noun_F - noun_M</td><td>-0.04</td><td>$[-0.38$, $0.30]$</td><td>-0.25</td><td>.965</td></tr>\n",
       "\t<tr><th scope=row>LC_noun_F_verb_X</th><td>  </td><td>noun_F - verb_X</td><td>0.21 </td><td>$[-0.13$, $0.55]$</td><td>1.47 </td><td>.310</td></tr>\n",
       "\t<tr><th scope=row>LC_noun_M_verb_X</th><td>  </td><td>noun_M - verb_X</td><td>0.25 </td><td>$[-0.09$, $0.59]$</td><td>1.72 </td><td>.200</td></tr>\n",
       "\t<tr><th scope=row>LF_noun_F_noun_M</th><td>LF</td><td>noun_F - noun_M</td><td>-0.02</td><td>$[-0.36$, $0.32]$</td><td>-0.12</td><td>.992</td></tr>\n",
       "\t<tr><th scope=row>LF_noun_F_verb_X</th><td>  </td><td>noun_F - verb_X</td><td>0.32 </td><td>$[-0.02$, $0.66]$</td><td>2.22 </td><td>.070</td></tr>\n",
       "\t<tr><th scope=row>LF_noun_M_verb_X</th><td>  </td><td>noun_M - verb_X</td><td>0.34 </td><td>$[0.00$, $0.68]$ </td><td>2.35 </td><td>.052</td></tr>\n",
       "\t<tr><th scope=row>LP_noun_F_noun_M</th><td>LP</td><td>noun_F - noun_M</td><td>-0.15</td><td>$[-0.49$, $0.19]$</td><td>-1.05</td><td>.548</td></tr>\n",
       "\t<tr><th scope=row>LP_noun_F_verb_X</th><td>  </td><td>noun_F - verb_X</td><td>0.31 </td><td>$[-0.03$, $0.65]$</td><td>2.14 </td><td>.085</td></tr>\n",
       "\t<tr><th scope=row>LP_noun_M_verb_X</th><td>  </td><td>noun_M - verb_X</td><td>0.46 </td><td>$[0.12$, $0.80]$ </td><td>3.18 </td><td>.005</td></tr>\n",
       "\t<tr><th scope=row>RC_noun_F_noun_M</th><td>RC</td><td>noun_F - noun_M</td><td>0.02 </td><td>$[-0.32$, $0.36]$</td><td>0.12 </td><td>.992</td></tr>\n",
       "\t<tr><th scope=row>RC_noun_F_verb_X</th><td>  </td><td>noun_F - verb_X</td><td>0.10 </td><td>$[-0.25$, $0.44]$</td><td>0.66 </td><td>.786</td></tr>\n",
       "\t<tr><th scope=row>RC_noun_M_verb_X</th><td>  </td><td>noun_M - verb_X</td><td>0.08 </td><td>$[-0.26$, $0.42]$</td><td>0.54 </td><td>.852</td></tr>\n",
       "\t<tr><th scope=row>RF_noun_F_noun_M</th><td>RF</td><td>noun_F - noun_M</td><td>0.08 </td><td>$[-0.26$, $0.42]$</td><td>0.54 </td><td>.852</td></tr>\n",
       "\t<tr><th scope=row>RF_noun_F_verb_X</th><td>  </td><td>noun_F - verb_X</td><td>0.30 </td><td>$[-0.05$, $0.64]$</td><td>2.04 </td><td>.106</td></tr>\n",
       "\t<tr><th scope=row>RF_noun_M_verb_X</th><td>  </td><td>noun_M - verb_X</td><td>0.22 </td><td>$[-0.12$, $0.56]$</td><td>1.50 </td><td>.293</td></tr>\n",
       "\t<tr><th scope=row>RP_noun_F_noun_M</th><td>RP</td><td>noun_F - noun_M</td><td>-0.13</td><td>$[-0.47$, $0.21]$</td><td>-0.92</td><td>.628</td></tr>\n",
       "\t<tr><th scope=row>RP_noun_F_verb_X</th><td>  </td><td>noun_F - verb_X</td><td>0.06 </td><td>$[-0.28$, $0.40]$</td><td>0.43 </td><td>.905</td></tr>\n",
       "\t<tr><th scope=row>RP_noun_M_verb_X</th><td>  </td><td>noun_M - verb_X</td><td>0.19 </td><td>$[-0.15$, $0.54]$</td><td>1.35 </td><td>.371</td></tr>\n",
       "</tbody>\n",
       "</table>\n"
      ],
      "text/latex": [
       "A apa\\_results\\_table: 18 × 6\n",
       "\\begin{tabular}{r|llllll}\n",
       "  & chan0 & contrast & estimate & ci & statistic & p.value\\\\\n",
       "  & <chr> & <ppj\\_lbll> & <ppj\\_lbll> & <ppj\\_lbll> & <ppj\\_lbll> & <ppj\\_lbll>\\\\\n",
       "\\hline\n",
       "\tLC\\_noun\\_F\\_noun\\_M & LC & noun\\_F - noun\\_M & -0.04 & \\${[}-0.38\\$, \\$0.30{]}\\$ & -0.25 & .965\\\\\n",
       "\tLC\\_noun\\_F\\_verb\\_X &    & noun\\_F - verb\\_X & 0.21  & \\${[}-0.13\\$, \\$0.55{]}\\$ & 1.47  & .310\\\\\n",
       "\tLC\\_noun\\_M\\_verb\\_X &    & noun\\_M - verb\\_X & 0.25  & \\${[}-0.09\\$, \\$0.59{]}\\$ & 1.72  & .200\\\\\n",
       "\tLF\\_noun\\_F\\_noun\\_M & LF & noun\\_F - noun\\_M & -0.02 & \\${[}-0.36\\$, \\$0.32{]}\\$ & -0.12 & .992\\\\\n",
       "\tLF\\_noun\\_F\\_verb\\_X &    & noun\\_F - verb\\_X & 0.32  & \\${[}-0.02\\$, \\$0.66{]}\\$ & 2.22  & .070\\\\\n",
       "\tLF\\_noun\\_M\\_verb\\_X &    & noun\\_M - verb\\_X & 0.34  & \\${[}0.00\\$, \\$0.68{]}\\$  & 2.35  & .052\\\\\n",
       "\tLP\\_noun\\_F\\_noun\\_M & LP & noun\\_F - noun\\_M & -0.15 & \\${[}-0.49\\$, \\$0.19{]}\\$ & -1.05 & .548\\\\\n",
       "\tLP\\_noun\\_F\\_verb\\_X &    & noun\\_F - verb\\_X & 0.31  & \\${[}-0.03\\$, \\$0.65{]}\\$ & 2.14  & .085\\\\\n",
       "\tLP\\_noun\\_M\\_verb\\_X &    & noun\\_M - verb\\_X & 0.46  & \\${[}0.12\\$, \\$0.80{]}\\$  & 3.18  & .005\\\\\n",
       "\tRC\\_noun\\_F\\_noun\\_M & RC & noun\\_F - noun\\_M & 0.02  & \\${[}-0.32\\$, \\$0.36{]}\\$ & 0.12  & .992\\\\\n",
       "\tRC\\_noun\\_F\\_verb\\_X &    & noun\\_F - verb\\_X & 0.10  & \\${[}-0.25\\$, \\$0.44{]}\\$ & 0.66  & .786\\\\\n",
       "\tRC\\_noun\\_M\\_verb\\_X &    & noun\\_M - verb\\_X & 0.08  & \\${[}-0.26\\$, \\$0.42{]}\\$ & 0.54  & .852\\\\\n",
       "\tRF\\_noun\\_F\\_noun\\_M & RF & noun\\_F - noun\\_M & 0.08  & \\${[}-0.26\\$, \\$0.42{]}\\$ & 0.54  & .852\\\\\n",
       "\tRF\\_noun\\_F\\_verb\\_X &    & noun\\_F - verb\\_X & 0.30  & \\${[}-0.05\\$, \\$0.64{]}\\$ & 2.04  & .106\\\\\n",
       "\tRF\\_noun\\_M\\_verb\\_X &    & noun\\_M - verb\\_X & 0.22  & \\${[}-0.12\\$, \\$0.56{]}\\$ & 1.50  & .293\\\\\n",
       "\tRP\\_noun\\_F\\_noun\\_M & RP & noun\\_F - noun\\_M & -0.13 & \\${[}-0.47\\$, \\$0.21{]}\\$ & -0.92 & .628\\\\\n",
       "\tRP\\_noun\\_F\\_verb\\_X &    & noun\\_F - verb\\_X & 0.06  & \\${[}-0.28\\$, \\$0.40{]}\\$ & 0.43  & .905\\\\\n",
       "\tRP\\_noun\\_M\\_verb\\_X &    & noun\\_M - verb\\_X & 0.19  & \\${[}-0.15\\$, \\$0.54{]}\\$ & 1.35  & .371\\\\\n",
       "\\end{tabular}\n"
      ],
      "text/markdown": [
       "\n",
       "A apa_results_table: 18 × 6\n",
       "\n",
       "| <!--/--> | chan0 &lt;chr&gt; | contrast &lt;ppj_lbll&gt; | estimate &lt;ppj_lbll&gt; | ci &lt;ppj_lbll&gt; | statistic &lt;ppj_lbll&gt; | p.value &lt;ppj_lbll&gt; |\n",
       "|---|---|---|---|---|---|---|\n",
       "| LC_noun_F_noun_M | LC | noun_F - noun_M | -0.04 | $[-0.38$, $0.30]$ | -0.25 | .965 |\n",
       "| LC_noun_F_verb_X | <!----> | noun_F - verb_X | 0.21  | $[-0.13$, $0.55]$ | 1.47  | .310 |\n",
       "| LC_noun_M_verb_X | <!----> | noun_M - verb_X | 0.25  | $[-0.09$, $0.59]$ | 1.72  | .200 |\n",
       "| LF_noun_F_noun_M | LF | noun_F - noun_M | -0.02 | $[-0.36$, $0.32]$ | -0.12 | .992 |\n",
       "| LF_noun_F_verb_X | <!----> | noun_F - verb_X | 0.32  | $[-0.02$, $0.66]$ | 2.22  | .070 |\n",
       "| LF_noun_M_verb_X | <!----> | noun_M - verb_X | 0.34  | $[0.00$, $0.68]$  | 2.35  | .052 |\n",
       "| LP_noun_F_noun_M | LP | noun_F - noun_M | -0.15 | $[-0.49$, $0.19]$ | -1.05 | .548 |\n",
       "| LP_noun_F_verb_X | <!----> | noun_F - verb_X | 0.31  | $[-0.03$, $0.65]$ | 2.14  | .085 |\n",
       "| LP_noun_M_verb_X | <!----> | noun_M - verb_X | 0.46  | $[0.12$, $0.80]$  | 3.18  | .005 |\n",
       "| RC_noun_F_noun_M | RC | noun_F - noun_M | 0.02  | $[-0.32$, $0.36]$ | 0.12  | .992 |\n",
       "| RC_noun_F_verb_X | <!----> | noun_F - verb_X | 0.10  | $[-0.25$, $0.44]$ | 0.66  | .786 |\n",
       "| RC_noun_M_verb_X | <!----> | noun_M - verb_X | 0.08  | $[-0.26$, $0.42]$ | 0.54  | .852 |\n",
       "| RF_noun_F_noun_M | RF | noun_F - noun_M | 0.08  | $[-0.26$, $0.42]$ | 0.54  | .852 |\n",
       "| RF_noun_F_verb_X | <!----> | noun_F - verb_X | 0.30  | $[-0.05$, $0.64]$ | 2.04  | .106 |\n",
       "| RF_noun_M_verb_X | <!----> | noun_M - verb_X | 0.22  | $[-0.12$, $0.56]$ | 1.50  | .293 |\n",
       "| RP_noun_F_noun_M | RP | noun_F - noun_M | -0.13 | $[-0.47$, $0.21]$ | -0.92 | .628 |\n",
       "| RP_noun_F_verb_X | <!----> | noun_F - verb_X | 0.06  | $[-0.28$, $0.40]$ | 0.43  | .905 |\n",
       "| RP_noun_M_verb_X | <!----> | noun_M - verb_X | 0.19  | $[-0.15$, $0.54]$ | 1.35  | .371 |\n",
       "\n"
      ],
      "text/plain": [
       "                 chan0 contrast        estimate ci                statistic p.value\n",
       "LC_noun_F_noun_M LC    noun_F - noun_M -0.04    $[-0.38$, $0.30]$ -0.25     .965   \n",
       "LC_noun_F_verb_X       noun_F - verb_X 0.21     $[-0.13$, $0.55]$ 1.47      .310   \n",
       "LC_noun_M_verb_X       noun_M - verb_X 0.25     $[-0.09$, $0.59]$ 1.72      .200   \n",
       "LF_noun_F_noun_M LF    noun_F - noun_M -0.02    $[-0.36$, $0.32]$ -0.12     .992   \n",
       "LF_noun_F_verb_X       noun_F - verb_X 0.32     $[-0.02$, $0.66]$ 2.22      .070   \n",
       "LF_noun_M_verb_X       noun_M - verb_X 0.34     $[0.00$, $0.68]$  2.35      .052   \n",
       "LP_noun_F_noun_M LP    noun_F - noun_M -0.15    $[-0.49$, $0.19]$ -1.05     .548   \n",
       "LP_noun_F_verb_X       noun_F - verb_X 0.31     $[-0.03$, $0.65]$ 2.14      .085   \n",
       "LP_noun_M_verb_X       noun_M - verb_X 0.46     $[0.12$, $0.80]$  3.18      .005   \n",
       "RC_noun_F_noun_M RC    noun_F - noun_M 0.02     $[-0.32$, $0.36]$ 0.12      .992   \n",
       "RC_noun_F_verb_X       noun_F - verb_X 0.10     $[-0.25$, $0.44]$ 0.66      .786   \n",
       "RC_noun_M_verb_X       noun_M - verb_X 0.08     $[-0.26$, $0.42]$ 0.54      .852   \n",
       "RF_noun_F_noun_M RF    noun_F - noun_M 0.08     $[-0.26$, $0.42]$ 0.54      .852   \n",
       "RF_noun_F_verb_X       noun_F - verb_X 0.30     $[-0.05$, $0.64]$ 2.04      .106   \n",
       "RF_noun_M_verb_X       noun_M - verb_X 0.22     $[-0.12$, $0.56]$ 1.50      .293   \n",
       "RP_noun_F_noun_M RP    noun_F - noun_M -0.13    $[-0.47$, $0.21]$ -0.92     .628   \n",
       "RP_noun_F_verb_X       noun_F - verb_X 0.06     $[-0.28$, $0.40]$ 0.43      .905   \n",
       "RP_noun_M_verb_X       noun_M - verb_X 0.19     $[-0.15$, $0.54]$ 1.35      .371   "
      ]
     },
     "metadata": {},
     "output_type": "display_data"
    }
   ],
   "source": [
    "IDX <- IDX+1; COND <- CONDS[IDX]\n",
    "data1 <- droplevels(subset(df1, eval(parse(text=COND)))); data1 <- data1[complete.cases(data1),]; done1 <- AOV4(data1,COND)\n",
    "display_markdown(str_c(\"# Condition \",IDX,\" of \",length(CONDS))); display_markdown(done1$info); display_markdown(\"### Table\"); done1$aov_APA$table; display_markdown(\"### Result\"); display_markdown(done1$aov_APA[[\"full_result\"]][[\"cond0\"]]); display_markdown(\"### Summary (all done1, incl. NANs)\"); done1$summary; display_markdown(\"### Expected marginal means\"); done1$emm_APA$table; display_markdown(\"### Paired comparisons for expected marginal means\"); done1$pairs_APA$table"
   ]
  },
  {
   "cell_type": "code",
   "execution_count": 493,
   "metadata": {
    "scrolled": false
   },
   "outputs": [
    {
     "name": "stderr",
     "output_type": "stream",
     "text": [
      "Warning message:\n",
      "“More than one observation per cell, aggregating the data using mean (i.e, fun_aggregate = mean)!”\n",
      "Warning message in summary.Anova.mlm(x$Anova):\n",
      "“HF eps > 1 treated as 1”\n"
     ]
    },
    {
     "data": {
      "text/markdown": [
       "# Condition 3 of 6"
      ]
     },
     "metadata": {},
     "output_type": "display_data"
    },
    {
     "data": {
      "text/markdown": [
       "`tmin0==0.35`"
      ]
     },
     "metadata": {},
     "output_type": "display_data"
    },
    {
     "data": {
      "text/markdown": [
       "### Table"
      ]
     },
     "metadata": {},
     "output_type": "display_data"
    },
    {
     "data": {
      "text/html": [
       "<table>\n",
       "<caption>A apa_results_table: 3 × 7</caption>\n",
       "<thead>\n",
       "\t<tr><th></th><th scope=col>Effect</th><th scope=col>F</th><th scope=col>df1</th><th scope=col>df2</th><th scope=col>MSE</th><th scope=col>p</th><th scope=col>ges</th></tr>\n",
       "\t<tr><th></th><th scope=col>&lt;ppj_lbll&gt;</th><th scope=col>&lt;ppj_lbll&gt;</th><th scope=col>&lt;ppj_lbll&gt;</th><th scope=col>&lt;ppj_lbll&gt;</th><th scope=col>&lt;ppj_lbll&gt;</th><th scope=col>&lt;ppj_lbll&gt;</th><th scope=col>&lt;ppj_lbll&gt;</th></tr>\n",
       "</thead>\n",
       "<tbody>\n",
       "\t<tr><th scope=row>1</th><td><span style=white-space:pre-wrap>Cond0                </span></td><td>10.20</td><td>1.96</td><td>60.78 </td><td>1.80 </td><td>&lt; .001</td><td>.016</td></tr>\n",
       "\t<tr><th scope=row>2</th><td><span style=white-space:pre-wrap>Chan0                </span></td><td>66.22</td><td>2.49</td><td>77.05 </td><td>15.48</td><td>&lt; .001</td><td>.533</td></tr>\n",
       "\t<tr><th scope=row>3</th><td>Cond0 $\\times$ Chan0</td><td>0.28 </td><td>4.62</td><td>143.08</td><td>0.54 </td><td>.911  </td><td>.000</td></tr>\n",
       "</tbody>\n",
       "</table>\n"
      ],
      "text/latex": [
       "A apa\\_results\\_table: 3 × 7\n",
       "\\begin{tabular}{r|lllllll}\n",
       "  & Effect & F & df1 & df2 & MSE & p & ges\\\\\n",
       "  & <ppj\\_lbll> & <ppj\\_lbll> & <ppj\\_lbll> & <ppj\\_lbll> & <ppj\\_lbll> & <ppj\\_lbll> & <ppj\\_lbll>\\\\\n",
       "\\hline\n",
       "\t1 & Cond0                 & 10.20 & 1.96 & 60.78  & 1.80  & < .001 & .016\\\\\n",
       "\t2 & Chan0                 & 66.22 & 2.49 & 77.05  & 15.48 & < .001 & .533\\\\\n",
       "\t3 & Cond0 \\$\\textbackslash{}times\\$ Chan0 & 0.28  & 4.62 & 143.08 & 0.54  & .911   & .000\\\\\n",
       "\\end{tabular}\n"
      ],
      "text/markdown": [
       "\n",
       "A apa_results_table: 3 × 7\n",
       "\n",
       "| <!--/--> | Effect &lt;ppj_lbll&gt; | F &lt;ppj_lbll&gt; | df1 &lt;ppj_lbll&gt; | df2 &lt;ppj_lbll&gt; | MSE &lt;ppj_lbll&gt; | p &lt;ppj_lbll&gt; | ges &lt;ppj_lbll&gt; |\n",
       "|---|---|---|---|---|---|---|---|\n",
       "| 1 | Cond0                 | 10.20 | 1.96 | 60.78  | 1.80  | &lt; .001 | .016 |\n",
       "| 2 | Chan0                 | 66.22 | 2.49 | 77.05  | 15.48 | &lt; .001 | .533 |\n",
       "| 3 | Cond0 $\\times$ Chan0 | 0.28  | 4.62 | 143.08 | 0.54  | .911   | .000 |\n",
       "\n"
      ],
      "text/plain": [
       "  Effect                F     df1  df2    MSE   p      ges \n",
       "1 Cond0                 10.20 1.96 60.78  1.80  < .001 .016\n",
       "2 Chan0                 66.22 2.49 77.05  15.48 < .001 .533\n",
       "3 Cond0 $\\\\times$ Chan0 0.28  4.62 143.08 0.54  .911   .000"
      ]
     },
     "metadata": {},
     "output_type": "display_data"
    },
    {
     "data": {
      "text/markdown": [
       "### Result"
      ]
     },
     "metadata": {},
     "output_type": "display_data"
    },
    {
     "data": {
      "text/markdown": [
       "$F(1.96, 60.78) = 10.20$, $\\mathit{MSE} = 1.80$, $p < .001$, $\\hat{\\eta}^2_G = .016$"
      ]
     },
     "metadata": {},
     "output_type": "display_data"
    },
    {
     "data": {
      "text/markdown": [
       "### Summary (all done1, incl. NANs)"
      ]
     },
     "metadata": {},
     "output_type": "display_data"
    },
    {
     "data": {
      "text/html": [
       "<table>\n",
       "<caption>A tibble: 3 × 5</caption>\n",
       "<thead>\n",
       "\t<tr><th scope=col>cond0</th><th scope=col>N</th><th scope=col>valX_M</th><th scope=col>valX_SD</th><th scope=col>valX_SE</th></tr>\n",
       "\t<tr><th scope=col>&lt;fct&gt;</th><th scope=col>&lt;int&gt;</th><th scope=col>&lt;dbl&gt;</th><th scope=col>&lt;dbl&gt;</th><th scope=col>&lt;dbl&gt;</th></tr>\n",
       "</thead>\n",
       "<tbody>\n",
       "\t<tr><td>noun_F</td><td>4608</td><td>-0.05731882</td><td>3.568260</td><td>0.05256544</td></tr>\n",
       "\t<tr><td>noun_M</td><td>4608</td><td> 0.04127613</td><td>3.565433</td><td>0.05252378</td></tr>\n",
       "\t<tr><td>verb_X</td><td>4608</td><td> 0.51578869</td><td>3.289514</td><td>0.04845912</td></tr>\n",
       "</tbody>\n",
       "</table>\n"
      ],
      "text/latex": [
       "A tibble: 3 × 5\n",
       "\\begin{tabular}{lllll}\n",
       " cond0 & N & valX\\_M & valX\\_SD & valX\\_SE\\\\\n",
       " <fct> & <int> & <dbl> & <dbl> & <dbl>\\\\\n",
       "\\hline\n",
       "\t noun\\_F & 4608 & -0.05731882 & 3.568260 & 0.05256544\\\\\n",
       "\t noun\\_M & 4608 &  0.04127613 & 3.565433 & 0.05252378\\\\\n",
       "\t verb\\_X & 4608 &  0.51578869 & 3.289514 & 0.04845912\\\\\n",
       "\\end{tabular}\n"
      ],
      "text/markdown": [
       "\n",
       "A tibble: 3 × 5\n",
       "\n",
       "| cond0 &lt;fct&gt; | N &lt;int&gt; | valX_M &lt;dbl&gt; | valX_SD &lt;dbl&gt; | valX_SE &lt;dbl&gt; |\n",
       "|---|---|---|---|---|\n",
       "| noun_F | 4608 | -0.05731882 | 3.568260 | 0.05256544 |\n",
       "| noun_M | 4608 |  0.04127613 | 3.565433 | 0.05252378 |\n",
       "| verb_X | 4608 |  0.51578869 | 3.289514 | 0.04845912 |\n",
       "\n"
      ],
      "text/plain": [
       "  cond0  N    valX_M      valX_SD  valX_SE   \n",
       "1 noun_F 4608 -0.05731882 3.568260 0.05256544\n",
       "2 noun_M 4608  0.04127613 3.565433 0.05252378\n",
       "3 verb_X 4608  0.51578869 3.289514 0.04845912"
      ]
     },
     "metadata": {},
     "output_type": "display_data"
    },
    {
     "data": {
      "text/markdown": [
       "### Expected marginal means"
      ]
     },
     "metadata": {},
     "output_type": "display_data"
    },
    {
     "data": {
      "text/html": [
       "<table>\n",
       "<caption>A apa_results_table: 18 × 6</caption>\n",
       "<thead>\n",
       "\t<tr><th></th><th scope=col>chan0</th><th scope=col>cond0</th><th scope=col>estimate</th><th scope=col>ci</th><th scope=col>statistic</th><th scope=col>p.value</th></tr>\n",
       "\t<tr><th></th><th scope=col>&lt;chr&gt;</th><th scope=col>&lt;chr&gt;</th><th scope=col>&lt;ppj_lbll&gt;</th><th scope=col>&lt;ppj_lbll&gt;</th><th scope=col>&lt;ppj_lbll&gt;</th><th scope=col>&lt;ppj_lbll&gt;</th></tr>\n",
       "</thead>\n",
       "<tbody>\n",
       "\t<tr><th scope=row>noun_F_LC</th><td>LC</td><td>noun_F</td><td>0.43 </td><td>$[-0.27$, $1.13]$ </td><td>1.21 </td><td>.227  </td></tr>\n",
       "\t<tr><th scope=row>noun_M_LC</th><td>  </td><td>noun_M</td><td>0.63 </td><td>$[-0.07$, $1.33]$ </td><td>1.78 </td><td>.077  </td></tr>\n",
       "\t<tr><th scope=row>verb_X_LC</th><td>  </td><td>verb_X</td><td>1.04 </td><td>$[0.34$, $1.74]$  </td><td>2.94 </td><td>.004  </td></tr>\n",
       "\t<tr><th scope=row>noun_F_LF</th><td>LF</td><td>noun_F</td><td>-2.72</td><td>$[-3.42$, $-2.03]$</td><td>-7.70</td><td>&lt; .001</td></tr>\n",
       "\t<tr><th scope=row>noun_M_LF</th><td><span style=white-space:pre-wrap>  </span></td><td>noun_M</td><td>-2.71</td><td>$[-3.40$, $-2.01]$</td><td>-7.65</td><td>&lt; .001</td></tr>\n",
       "\t<tr><th scope=row>verb_X_LF</th><td><span style=white-space:pre-wrap>  </span></td><td>verb_X</td><td>-2.22</td><td>$[-2.92$, $-1.52]$</td><td>-6.29</td><td>&lt; .001</td></tr>\n",
       "\t<tr><th scope=row>noun_F_LP</th><td>LP</td><td>noun_F</td><td>1.55 </td><td><span style=white-space:pre-wrap>$[0.85$, $2.25]$  </span></td><td>4.37 </td><td>&lt; .001</td></tr>\n",
       "\t<tr><th scope=row>noun_M_LP</th><td><span style=white-space:pre-wrap>  </span></td><td>noun_M</td><td>1.75 </td><td><span style=white-space:pre-wrap>$[1.05$, $2.45]$  </span></td><td>4.94 </td><td>&lt; .001</td></tr>\n",
       "\t<tr><th scope=row>verb_X_LP</th><td><span style=white-space:pre-wrap>  </span></td><td>verb_X</td><td>2.21 </td><td><span style=white-space:pre-wrap>$[1.51$, $2.91]$  </span></td><td>6.24 </td><td>&lt; .001</td></tr>\n",
       "\t<tr><th scope=row>noun_F_RC</th><td>RC</td><td>noun_F</td><td>0.72 </td><td>$[0.02$, $1.42]$  </td><td>2.03 </td><td>.044  </td></tr>\n",
       "\t<tr><th scope=row>noun_M_RC</th><td>  </td><td>noun_M</td><td>0.77 </td><td>$[0.07$, $1.47]$  </td><td>2.17 </td><td>.032  </td></tr>\n",
       "\t<tr><th scope=row>verb_X_RC</th><td>  </td><td>verb_X</td><td>1.24 </td><td>$[0.54$, $1.94]$  </td><td>3.50 </td><td>.001  </td></tr>\n",
       "\t<tr><th scope=row>noun_F_RF</th><td>RF</td><td>noun_F</td><td>-2.94</td><td>$[-3.64$, $-2.24]$</td><td>-8.30</td><td>&lt; .001</td></tr>\n",
       "\t<tr><th scope=row>noun_M_RF</th><td><span style=white-space:pre-wrap>  </span></td><td>noun_M</td><td>-2.91</td><td>$[-3.61$, $-2.21]$</td><td>-8.22</td><td>&lt; .001</td></tr>\n",
       "\t<tr><th scope=row>verb_X_RF</th><td><span style=white-space:pre-wrap>  </span></td><td>verb_X</td><td>-2.34</td><td>$[-3.04$, $-1.64]$</td><td>-6.62</td><td>&lt; .001</td></tr>\n",
       "\t<tr><th scope=row>noun_F_RP</th><td>RP</td><td>noun_F</td><td>2.62 </td><td><span style=white-space:pre-wrap>$[1.93$, $3.32]$  </span></td><td>7.42 </td><td>&lt; .001</td></tr>\n",
       "\t<tr><th scope=row>noun_M_RP</th><td><span style=white-space:pre-wrap>  </span></td><td>noun_M</td><td>2.72 </td><td><span style=white-space:pre-wrap>$[2.02$, $3.42]$  </span></td><td>7.69 </td><td>&lt; .001</td></tr>\n",
       "\t<tr><th scope=row>verb_X_RP</th><td><span style=white-space:pre-wrap>  </span></td><td>verb_X</td><td>3.18 </td><td><span style=white-space:pre-wrap>$[2.48$, $3.88]$  </span></td><td>8.98 </td><td>&lt; .001</td></tr>\n",
       "</tbody>\n",
       "</table>\n"
      ],
      "text/latex": [
       "A apa\\_results\\_table: 18 × 6\n",
       "\\begin{tabular}{r|llllll}\n",
       "  & chan0 & cond0 & estimate & ci & statistic & p.value\\\\\n",
       "  & <chr> & <chr> & <ppj\\_lbll> & <ppj\\_lbll> & <ppj\\_lbll> & <ppj\\_lbll>\\\\\n",
       "\\hline\n",
       "\tnoun\\_F\\_LC & LC & noun\\_F & 0.43  & \\${[}-0.27\\$, \\$1.13{]}\\$  & 1.21  & .227  \\\\\n",
       "\tnoun\\_M\\_LC &    & noun\\_M & 0.63  & \\${[}-0.07\\$, \\$1.33{]}\\$  & 1.78  & .077  \\\\\n",
       "\tverb\\_X\\_LC &    & verb\\_X & 1.04  & \\${[}0.34\\$, \\$1.74{]}\\$   & 2.94  & .004  \\\\\n",
       "\tnoun\\_F\\_LF & LF & noun\\_F & -2.72 & \\${[}-3.42\\$, \\$-2.03{]}\\$ & -7.70 & < .001\\\\\n",
       "\tnoun\\_M\\_LF &    & noun\\_M & -2.71 & \\${[}-3.40\\$, \\$-2.01{]}\\$ & -7.65 & < .001\\\\\n",
       "\tverb\\_X\\_LF &    & verb\\_X & -2.22 & \\${[}-2.92\\$, \\$-1.52{]}\\$ & -6.29 & < .001\\\\\n",
       "\tnoun\\_F\\_LP & LP & noun\\_F & 1.55  & \\${[}0.85\\$, \\$2.25{]}\\$   & 4.37  & < .001\\\\\n",
       "\tnoun\\_M\\_LP &    & noun\\_M & 1.75  & \\${[}1.05\\$, \\$2.45{]}\\$   & 4.94  & < .001\\\\\n",
       "\tverb\\_X\\_LP &    & verb\\_X & 2.21  & \\${[}1.51\\$, \\$2.91{]}\\$   & 6.24  & < .001\\\\\n",
       "\tnoun\\_F\\_RC & RC & noun\\_F & 0.72  & \\${[}0.02\\$, \\$1.42{]}\\$   & 2.03  & .044  \\\\\n",
       "\tnoun\\_M\\_RC &    & noun\\_M & 0.77  & \\${[}0.07\\$, \\$1.47{]}\\$   & 2.17  & .032  \\\\\n",
       "\tverb\\_X\\_RC &    & verb\\_X & 1.24  & \\${[}0.54\\$, \\$1.94{]}\\$   & 3.50  & .001  \\\\\n",
       "\tnoun\\_F\\_RF & RF & noun\\_F & -2.94 & \\${[}-3.64\\$, \\$-2.24{]}\\$ & -8.30 & < .001\\\\\n",
       "\tnoun\\_M\\_RF &    & noun\\_M & -2.91 & \\${[}-3.61\\$, \\$-2.21{]}\\$ & -8.22 & < .001\\\\\n",
       "\tverb\\_X\\_RF &    & verb\\_X & -2.34 & \\${[}-3.04\\$, \\$-1.64{]}\\$ & -6.62 & < .001\\\\\n",
       "\tnoun\\_F\\_RP & RP & noun\\_F & 2.62  & \\${[}1.93\\$, \\$3.32{]}\\$   & 7.42  & < .001\\\\\n",
       "\tnoun\\_M\\_RP &    & noun\\_M & 2.72  & \\${[}2.02\\$, \\$3.42{]}\\$   & 7.69  & < .001\\\\\n",
       "\tverb\\_X\\_RP &    & verb\\_X & 3.18  & \\${[}2.48\\$, \\$3.88{]}\\$   & 8.98  & < .001\\\\\n",
       "\\end{tabular}\n"
      ],
      "text/markdown": [
       "\n",
       "A apa_results_table: 18 × 6\n",
       "\n",
       "| <!--/--> | chan0 &lt;chr&gt; | cond0 &lt;chr&gt; | estimate &lt;ppj_lbll&gt; | ci &lt;ppj_lbll&gt; | statistic &lt;ppj_lbll&gt; | p.value &lt;ppj_lbll&gt; |\n",
       "|---|---|---|---|---|---|---|\n",
       "| noun_F_LC | LC | noun_F | 0.43  | $[-0.27$, $1.13]$  | 1.21  | .227   |\n",
       "| noun_M_LC | <!----> | noun_M | 0.63  | $[-0.07$, $1.33]$  | 1.78  | .077   |\n",
       "| verb_X_LC | <!----> | verb_X | 1.04  | $[0.34$, $1.74]$   | 2.94  | .004   |\n",
       "| noun_F_LF | LF | noun_F | -2.72 | $[-3.42$, $-2.03]$ | -7.70 | &lt; .001 |\n",
       "| noun_M_LF | <!----> | noun_M | -2.71 | $[-3.40$, $-2.01]$ | -7.65 | &lt; .001 |\n",
       "| verb_X_LF | <!----> | verb_X | -2.22 | $[-2.92$, $-1.52]$ | -6.29 | &lt; .001 |\n",
       "| noun_F_LP | LP | noun_F | 1.55  | $[0.85$, $2.25]$   | 4.37  | &lt; .001 |\n",
       "| noun_M_LP | <!----> | noun_M | 1.75  | $[1.05$, $2.45]$   | 4.94  | &lt; .001 |\n",
       "| verb_X_LP | <!----> | verb_X | 2.21  | $[1.51$, $2.91]$   | 6.24  | &lt; .001 |\n",
       "| noun_F_RC | RC | noun_F | 0.72  | $[0.02$, $1.42]$   | 2.03  | .044   |\n",
       "| noun_M_RC | <!----> | noun_M | 0.77  | $[0.07$, $1.47]$   | 2.17  | .032   |\n",
       "| verb_X_RC | <!----> | verb_X | 1.24  | $[0.54$, $1.94]$   | 3.50  | .001   |\n",
       "| noun_F_RF | RF | noun_F | -2.94 | $[-3.64$, $-2.24]$ | -8.30 | &lt; .001 |\n",
       "| noun_M_RF | <!----> | noun_M | -2.91 | $[-3.61$, $-2.21]$ | -8.22 | &lt; .001 |\n",
       "| verb_X_RF | <!----> | verb_X | -2.34 | $[-3.04$, $-1.64]$ | -6.62 | &lt; .001 |\n",
       "| noun_F_RP | RP | noun_F | 2.62  | $[1.93$, $3.32]$   | 7.42  | &lt; .001 |\n",
       "| noun_M_RP | <!----> | noun_M | 2.72  | $[2.02$, $3.42]$   | 7.69  | &lt; .001 |\n",
       "| verb_X_RP | <!----> | verb_X | 3.18  | $[2.48$, $3.88]$   | 8.98  | &lt; .001 |\n",
       "\n"
      ],
      "text/plain": [
       "          chan0 cond0  estimate ci                 statistic p.value\n",
       "noun_F_LC LC    noun_F 0.43     $[-0.27$, $1.13]$  1.21      .227   \n",
       "noun_M_LC       noun_M 0.63     $[-0.07$, $1.33]$  1.78      .077   \n",
       "verb_X_LC       verb_X 1.04     $[0.34$, $1.74]$   2.94      .004   \n",
       "noun_F_LF LF    noun_F -2.72    $[-3.42$, $-2.03]$ -7.70     < .001 \n",
       "noun_M_LF       noun_M -2.71    $[-3.40$, $-2.01]$ -7.65     < .001 \n",
       "verb_X_LF       verb_X -2.22    $[-2.92$, $-1.52]$ -6.29     < .001 \n",
       "noun_F_LP LP    noun_F 1.55     $[0.85$, $2.25]$   4.37      < .001 \n",
       "noun_M_LP       noun_M 1.75     $[1.05$, $2.45]$   4.94      < .001 \n",
       "verb_X_LP       verb_X 2.21     $[1.51$, $2.91]$   6.24      < .001 \n",
       "noun_F_RC RC    noun_F 0.72     $[0.02$, $1.42]$   2.03      .044   \n",
       "noun_M_RC       noun_M 0.77     $[0.07$, $1.47]$   2.17      .032   \n",
       "verb_X_RC       verb_X 1.24     $[0.54$, $1.94]$   3.50      .001   \n",
       "noun_F_RF RF    noun_F -2.94    $[-3.64$, $-2.24]$ -8.30     < .001 \n",
       "noun_M_RF       noun_M -2.91    $[-3.61$, $-2.21]$ -8.22     < .001 \n",
       "verb_X_RF       verb_X -2.34    $[-3.04$, $-1.64]$ -6.62     < .001 \n",
       "noun_F_RP RP    noun_F 2.62     $[1.93$, $3.32]$   7.42      < .001 \n",
       "noun_M_RP       noun_M 2.72     $[2.02$, $3.42]$   7.69      < .001 \n",
       "verb_X_RP       verb_X 3.18     $[2.48$, $3.88]$   8.98      < .001 "
      ]
     },
     "metadata": {},
     "output_type": "display_data"
    },
    {
     "data": {
      "text/markdown": [
       "### Paired comparisons for expected marginal means"
      ]
     },
     "metadata": {},
     "output_type": "display_data"
    },
    {
     "data": {
      "text/html": [
       "<table>\n",
       "<caption>A apa_results_table: 18 × 6</caption>\n",
       "<thead>\n",
       "\t<tr><th></th><th scope=col>chan0</th><th scope=col>contrast</th><th scope=col>estimate</th><th scope=col>ci</th><th scope=col>statistic</th><th scope=col>p.value</th></tr>\n",
       "\t<tr><th></th><th scope=col>&lt;chr&gt;</th><th scope=col>&lt;ppj_lbll&gt;</th><th scope=col>&lt;ppj_lbll&gt;</th><th scope=col>&lt;ppj_lbll&gt;</th><th scope=col>&lt;ppj_lbll&gt;</th><th scope=col>&lt;ppj_lbll&gt;</th></tr>\n",
       "</thead>\n",
       "<tbody>\n",
       "\t<tr><th scope=row>LC_noun_F_noun_M</th><td>LC</td><td>noun_F - noun_M</td><td>-0.20</td><td>$[-0.62$, $0.22]$ </td><td>-1.13</td><td>.494</td></tr>\n",
       "\t<tr><th scope=row>LC_noun_F_verb_X</th><td>  </td><td>noun_F - verb_X</td><td>-0.61</td><td>$[-1.03$, $-0.19]$</td><td>-3.45</td><td>.002</td></tr>\n",
       "\t<tr><th scope=row>LC_noun_M_verb_X</th><td>  </td><td>noun_M - verb_X</td><td>-0.41</td><td>$[-0.83$, $0.01]$ </td><td>-2.32</td><td>.056</td></tr>\n",
       "\t<tr><th scope=row>LF_noun_F_noun_M</th><td>LF</td><td>noun_F - noun_M</td><td>-0.02</td><td>$[-0.44$, $0.40]$ </td><td>-0.11</td><td>.994</td></tr>\n",
       "\t<tr><th scope=row>LF_noun_F_verb_X</th><td>  </td><td>noun_F - verb_X</td><td>-0.50</td><td>$[-0.92$, $-0.08]$</td><td>-2.83</td><td>.014</td></tr>\n",
       "\t<tr><th scope=row>LF_noun_M_verb_X</th><td>  </td><td>noun_M - verb_X</td><td>-0.48</td><td>$[-0.90$, $-0.06]$</td><td>-2.72</td><td>.019</td></tr>\n",
       "\t<tr><th scope=row>LP_noun_F_noun_M</th><td>LP</td><td>noun_F - noun_M</td><td>-0.20</td><td>$[-0.62$, $0.22]$ </td><td>-1.13</td><td>.497</td></tr>\n",
       "\t<tr><th scope=row>LP_noun_F_verb_X</th><td>  </td><td>noun_F - verb_X</td><td>-0.66</td><td>$[-1.08$, $-0.24]$</td><td>-3.73</td><td>.001</td></tr>\n",
       "\t<tr><th scope=row>LP_noun_M_verb_X</th><td>  </td><td>noun_M - verb_X</td><td>-0.46</td><td>$[-0.88$, $-0.04]$</td><td>-2.60</td><td>.027</td></tr>\n",
       "\t<tr><th scope=row>RC_noun_F_noun_M</th><td>RC</td><td>noun_F - noun_M</td><td>-0.05</td><td>$[-0.47$, $0.37]$ </td><td>-0.28</td><td>.957</td></tr>\n",
       "\t<tr><th scope=row>RC_noun_F_verb_X</th><td>  </td><td>noun_F - verb_X</td><td>-0.52</td><td>$[-0.94$, $-0.10]$</td><td>-2.95</td><td>.010</td></tr>\n",
       "\t<tr><th scope=row>RC_noun_M_verb_X</th><td>  </td><td>noun_M - verb_X</td><td>-0.47</td><td>$[-0.89$, $-0.05]$</td><td>-2.67</td><td>.023</td></tr>\n",
       "\t<tr><th scope=row>RF_noun_F_noun_M</th><td>RF</td><td>noun_F - noun_M</td><td>-0.03</td><td>$[-0.45$, $0.39]$ </td><td>-0.16</td><td>.986</td></tr>\n",
       "\t<tr><th scope=row>RF_noun_F_verb_X</th><td>  </td><td>noun_F - verb_X</td><td>-0.59</td><td>$[-1.01$, $-0.18]$</td><td>-3.36</td><td>.003</td></tr>\n",
       "\t<tr><th scope=row>RF_noun_M_verb_X</th><td>  </td><td>noun_M - verb_X</td><td>-0.57</td><td>$[-0.98$, $-0.15]$</td><td>-3.20</td><td>.005</td></tr>\n",
       "\t<tr><th scope=row>RP_noun_F_noun_M</th><td>RP</td><td>noun_F - noun_M</td><td>-0.09</td><td>$[-0.51$, $0.32]$ </td><td>-0.53</td><td>.854</td></tr>\n",
       "\t<tr><th scope=row>RP_noun_F_verb_X</th><td>  </td><td>noun_F - verb_X</td><td>-0.55</td><td>$[-0.97$, $-0.13]$</td><td>-3.12</td><td>.006</td></tr>\n",
       "\t<tr><th scope=row>RP_noun_M_verb_X</th><td>  </td><td>noun_M - verb_X</td><td>-0.46</td><td>$[-0.88$, $-0.04]$</td><td>-2.59</td><td>.028</td></tr>\n",
       "</tbody>\n",
       "</table>\n"
      ],
      "text/latex": [
       "A apa\\_results\\_table: 18 × 6\n",
       "\\begin{tabular}{r|llllll}\n",
       "  & chan0 & contrast & estimate & ci & statistic & p.value\\\\\n",
       "  & <chr> & <ppj\\_lbll> & <ppj\\_lbll> & <ppj\\_lbll> & <ppj\\_lbll> & <ppj\\_lbll>\\\\\n",
       "\\hline\n",
       "\tLC\\_noun\\_F\\_noun\\_M & LC & noun\\_F - noun\\_M & -0.20 & \\${[}-0.62\\$, \\$0.22{]}\\$  & -1.13 & .494\\\\\n",
       "\tLC\\_noun\\_F\\_verb\\_X &    & noun\\_F - verb\\_X & -0.61 & \\${[}-1.03\\$, \\$-0.19{]}\\$ & -3.45 & .002\\\\\n",
       "\tLC\\_noun\\_M\\_verb\\_X &    & noun\\_M - verb\\_X & -0.41 & \\${[}-0.83\\$, \\$0.01{]}\\$  & -2.32 & .056\\\\\n",
       "\tLF\\_noun\\_F\\_noun\\_M & LF & noun\\_F - noun\\_M & -0.02 & \\${[}-0.44\\$, \\$0.40{]}\\$  & -0.11 & .994\\\\\n",
       "\tLF\\_noun\\_F\\_verb\\_X &    & noun\\_F - verb\\_X & -0.50 & \\${[}-0.92\\$, \\$-0.08{]}\\$ & -2.83 & .014\\\\\n",
       "\tLF\\_noun\\_M\\_verb\\_X &    & noun\\_M - verb\\_X & -0.48 & \\${[}-0.90\\$, \\$-0.06{]}\\$ & -2.72 & .019\\\\\n",
       "\tLP\\_noun\\_F\\_noun\\_M & LP & noun\\_F - noun\\_M & -0.20 & \\${[}-0.62\\$, \\$0.22{]}\\$  & -1.13 & .497\\\\\n",
       "\tLP\\_noun\\_F\\_verb\\_X &    & noun\\_F - verb\\_X & -0.66 & \\${[}-1.08\\$, \\$-0.24{]}\\$ & -3.73 & .001\\\\\n",
       "\tLP\\_noun\\_M\\_verb\\_X &    & noun\\_M - verb\\_X & -0.46 & \\${[}-0.88\\$, \\$-0.04{]}\\$ & -2.60 & .027\\\\\n",
       "\tRC\\_noun\\_F\\_noun\\_M & RC & noun\\_F - noun\\_M & -0.05 & \\${[}-0.47\\$, \\$0.37{]}\\$  & -0.28 & .957\\\\\n",
       "\tRC\\_noun\\_F\\_verb\\_X &    & noun\\_F - verb\\_X & -0.52 & \\${[}-0.94\\$, \\$-0.10{]}\\$ & -2.95 & .010\\\\\n",
       "\tRC\\_noun\\_M\\_verb\\_X &    & noun\\_M - verb\\_X & -0.47 & \\${[}-0.89\\$, \\$-0.05{]}\\$ & -2.67 & .023\\\\\n",
       "\tRF\\_noun\\_F\\_noun\\_M & RF & noun\\_F - noun\\_M & -0.03 & \\${[}-0.45\\$, \\$0.39{]}\\$  & -0.16 & .986\\\\\n",
       "\tRF\\_noun\\_F\\_verb\\_X &    & noun\\_F - verb\\_X & -0.59 & \\${[}-1.01\\$, \\$-0.18{]}\\$ & -3.36 & .003\\\\\n",
       "\tRF\\_noun\\_M\\_verb\\_X &    & noun\\_M - verb\\_X & -0.57 & \\${[}-0.98\\$, \\$-0.15{]}\\$ & -3.20 & .005\\\\\n",
       "\tRP\\_noun\\_F\\_noun\\_M & RP & noun\\_F - noun\\_M & -0.09 & \\${[}-0.51\\$, \\$0.32{]}\\$  & -0.53 & .854\\\\\n",
       "\tRP\\_noun\\_F\\_verb\\_X &    & noun\\_F - verb\\_X & -0.55 & \\${[}-0.97\\$, \\$-0.13{]}\\$ & -3.12 & .006\\\\\n",
       "\tRP\\_noun\\_M\\_verb\\_X &    & noun\\_M - verb\\_X & -0.46 & \\${[}-0.88\\$, \\$-0.04{]}\\$ & -2.59 & .028\\\\\n",
       "\\end{tabular}\n"
      ],
      "text/markdown": [
       "\n",
       "A apa_results_table: 18 × 6\n",
       "\n",
       "| <!--/--> | chan0 &lt;chr&gt; | contrast &lt;ppj_lbll&gt; | estimate &lt;ppj_lbll&gt; | ci &lt;ppj_lbll&gt; | statistic &lt;ppj_lbll&gt; | p.value &lt;ppj_lbll&gt; |\n",
       "|---|---|---|---|---|---|---|\n",
       "| LC_noun_F_noun_M | LC | noun_F - noun_M | -0.20 | $[-0.62$, $0.22]$  | -1.13 | .494 |\n",
       "| LC_noun_F_verb_X | <!----> | noun_F - verb_X | -0.61 | $[-1.03$, $-0.19]$ | -3.45 | .002 |\n",
       "| LC_noun_M_verb_X | <!----> | noun_M - verb_X | -0.41 | $[-0.83$, $0.01]$  | -2.32 | .056 |\n",
       "| LF_noun_F_noun_M | LF | noun_F - noun_M | -0.02 | $[-0.44$, $0.40]$  | -0.11 | .994 |\n",
       "| LF_noun_F_verb_X | <!----> | noun_F - verb_X | -0.50 | $[-0.92$, $-0.08]$ | -2.83 | .014 |\n",
       "| LF_noun_M_verb_X | <!----> | noun_M - verb_X | -0.48 | $[-0.90$, $-0.06]$ | -2.72 | .019 |\n",
       "| LP_noun_F_noun_M | LP | noun_F - noun_M | -0.20 | $[-0.62$, $0.22]$  | -1.13 | .497 |\n",
       "| LP_noun_F_verb_X | <!----> | noun_F - verb_X | -0.66 | $[-1.08$, $-0.24]$ | -3.73 | .001 |\n",
       "| LP_noun_M_verb_X | <!----> | noun_M - verb_X | -0.46 | $[-0.88$, $-0.04]$ | -2.60 | .027 |\n",
       "| RC_noun_F_noun_M | RC | noun_F - noun_M | -0.05 | $[-0.47$, $0.37]$  | -0.28 | .957 |\n",
       "| RC_noun_F_verb_X | <!----> | noun_F - verb_X | -0.52 | $[-0.94$, $-0.10]$ | -2.95 | .010 |\n",
       "| RC_noun_M_verb_X | <!----> | noun_M - verb_X | -0.47 | $[-0.89$, $-0.05]$ | -2.67 | .023 |\n",
       "| RF_noun_F_noun_M | RF | noun_F - noun_M | -0.03 | $[-0.45$, $0.39]$  | -0.16 | .986 |\n",
       "| RF_noun_F_verb_X | <!----> | noun_F - verb_X | -0.59 | $[-1.01$, $-0.18]$ | -3.36 | .003 |\n",
       "| RF_noun_M_verb_X | <!----> | noun_M - verb_X | -0.57 | $[-0.98$, $-0.15]$ | -3.20 | .005 |\n",
       "| RP_noun_F_noun_M | RP | noun_F - noun_M | -0.09 | $[-0.51$, $0.32]$  | -0.53 | .854 |\n",
       "| RP_noun_F_verb_X | <!----> | noun_F - verb_X | -0.55 | $[-0.97$, $-0.13]$ | -3.12 | .006 |\n",
       "| RP_noun_M_verb_X | <!----> | noun_M - verb_X | -0.46 | $[-0.88$, $-0.04]$ | -2.59 | .028 |\n",
       "\n"
      ],
      "text/plain": [
       "                 chan0 contrast        estimate ci                 statistic p.value\n",
       "LC_noun_F_noun_M LC    noun_F - noun_M -0.20    $[-0.62$, $0.22]$  -1.13     .494   \n",
       "LC_noun_F_verb_X       noun_F - verb_X -0.61    $[-1.03$, $-0.19]$ -3.45     .002   \n",
       "LC_noun_M_verb_X       noun_M - verb_X -0.41    $[-0.83$, $0.01]$  -2.32     .056   \n",
       "LF_noun_F_noun_M LF    noun_F - noun_M -0.02    $[-0.44$, $0.40]$  -0.11     .994   \n",
       "LF_noun_F_verb_X       noun_F - verb_X -0.50    $[-0.92$, $-0.08]$ -2.83     .014   \n",
       "LF_noun_M_verb_X       noun_M - verb_X -0.48    $[-0.90$, $-0.06]$ -2.72     .019   \n",
       "LP_noun_F_noun_M LP    noun_F - noun_M -0.20    $[-0.62$, $0.22]$  -1.13     .497   \n",
       "LP_noun_F_verb_X       noun_F - verb_X -0.66    $[-1.08$, $-0.24]$ -3.73     .001   \n",
       "LP_noun_M_verb_X       noun_M - verb_X -0.46    $[-0.88$, $-0.04]$ -2.60     .027   \n",
       "RC_noun_F_noun_M RC    noun_F - noun_M -0.05    $[-0.47$, $0.37]$  -0.28     .957   \n",
       "RC_noun_F_verb_X       noun_F - verb_X -0.52    $[-0.94$, $-0.10]$ -2.95     .010   \n",
       "RC_noun_M_verb_X       noun_M - verb_X -0.47    $[-0.89$, $-0.05]$ -2.67     .023   \n",
       "RF_noun_F_noun_M RF    noun_F - noun_M -0.03    $[-0.45$, $0.39]$  -0.16     .986   \n",
       "RF_noun_F_verb_X       noun_F - verb_X -0.59    $[-1.01$, $-0.18]$ -3.36     .003   \n",
       "RF_noun_M_verb_X       noun_M - verb_X -0.57    $[-0.98$, $-0.15]$ -3.20     .005   \n",
       "RP_noun_F_noun_M RP    noun_F - noun_M -0.09    $[-0.51$, $0.32]$  -0.53     .854   \n",
       "RP_noun_F_verb_X       noun_F - verb_X -0.55    $[-0.97$, $-0.13]$ -3.12     .006   \n",
       "RP_noun_M_verb_X       noun_M - verb_X -0.46    $[-0.88$, $-0.04]$ -2.59     .028   "
      ]
     },
     "metadata": {},
     "output_type": "display_data"
    }
   ],
   "source": [
    "IDX <- IDX+1; COND <- CONDS[IDX]\n",
    "data1 <- droplevels(subset(df1, eval(parse(text=COND)))); data1 <- data1[complete.cases(data1),]; done1 <- AOV4(data1,COND)\n",
    "display_markdown(str_c(\"# Condition \",IDX,\" of \",length(CONDS))); display_markdown(done1$info); display_markdown(\"### Table\"); done1$aov_APA$table; display_markdown(\"### Result\"); display_markdown(done1$aov_APA[[\"full_result\"]][[\"cond0\"]]); display_markdown(\"### Summary (all done1, incl. NANs)\"); done1$summary; display_markdown(\"### Expected marginal means\"); done1$emm_APA$table; display_markdown(\"### Paired comparisons for expected marginal means\"); done1$pairs_APA$table"
   ]
  },
  {
   "cell_type": "code",
   "execution_count": 494,
   "metadata": {
    "scrolled": false
   },
   "outputs": [
    {
     "name": "stderr",
     "output_type": "stream",
     "text": [
      "Warning message:\n",
      "“More than one observation per cell, aggregating the data using mean (i.e, fun_aggregate = mean)!”\n"
     ]
    },
    {
     "data": {
      "text/markdown": [
       "# Condition 4 of 6"
      ]
     },
     "metadata": {},
     "output_type": "display_data"
    },
    {
     "data": {
      "text/markdown": [
       "`tmin0==0.41`"
      ]
     },
     "metadata": {},
     "output_type": "display_data"
    },
    {
     "data": {
      "text/markdown": [
       "### Table"
      ]
     },
     "metadata": {},
     "output_type": "display_data"
    },
    {
     "data": {
      "text/html": [
       "<table>\n",
       "<caption>A apa_results_table: 3 × 7</caption>\n",
       "<thead>\n",
       "\t<tr><th></th><th scope=col>Effect</th><th scope=col>F</th><th scope=col>df1</th><th scope=col>df2</th><th scope=col>MSE</th><th scope=col>p</th><th scope=col>ges</th></tr>\n",
       "\t<tr><th></th><th scope=col>&lt;ppj_lbll&gt;</th><th scope=col>&lt;ppj_lbll&gt;</th><th scope=col>&lt;ppj_lbll&gt;</th><th scope=col>&lt;ppj_lbll&gt;</th><th scope=col>&lt;ppj_lbll&gt;</th><th scope=col>&lt;ppj_lbll&gt;</th><th scope=col>&lt;ppj_lbll&gt;</th></tr>\n",
       "</thead>\n",
       "<tbody>\n",
       "\t<tr><th scope=row>1</th><td><span style=white-space:pre-wrap>Cond0                </span></td><td>11.02</td><td>1.66</td><td>51.34 </td><td>1.91 </td><td>&lt; .001</td><td>.016</td></tr>\n",
       "\t<tr><th scope=row>2</th><td><span style=white-space:pre-wrap>Chan0                </span></td><td>57.33</td><td>2.39</td><td>73.94 </td><td>15.91</td><td>&lt; .001</td><td>.504</td></tr>\n",
       "\t<tr><th scope=row>3</th><td>Cond0 $\\times$ Chan0</td><td>0.61 </td><td>3.98</td><td>123.46</td><td>0.76 </td><td>.654  </td><td>.001</td></tr>\n",
       "</tbody>\n",
       "</table>\n"
      ],
      "text/latex": [
       "A apa\\_results\\_table: 3 × 7\n",
       "\\begin{tabular}{r|lllllll}\n",
       "  & Effect & F & df1 & df2 & MSE & p & ges\\\\\n",
       "  & <ppj\\_lbll> & <ppj\\_lbll> & <ppj\\_lbll> & <ppj\\_lbll> & <ppj\\_lbll> & <ppj\\_lbll> & <ppj\\_lbll>\\\\\n",
       "\\hline\n",
       "\t1 & Cond0                 & 11.02 & 1.66 & 51.34  & 1.91  & < .001 & .016\\\\\n",
       "\t2 & Chan0                 & 57.33 & 2.39 & 73.94  & 15.91 & < .001 & .504\\\\\n",
       "\t3 & Cond0 \\$\\textbackslash{}times\\$ Chan0 & 0.61  & 3.98 & 123.46 & 0.76  & .654   & .001\\\\\n",
       "\\end{tabular}\n"
      ],
      "text/markdown": [
       "\n",
       "A apa_results_table: 3 × 7\n",
       "\n",
       "| <!--/--> | Effect &lt;ppj_lbll&gt; | F &lt;ppj_lbll&gt; | df1 &lt;ppj_lbll&gt; | df2 &lt;ppj_lbll&gt; | MSE &lt;ppj_lbll&gt; | p &lt;ppj_lbll&gt; | ges &lt;ppj_lbll&gt; |\n",
       "|---|---|---|---|---|---|---|---|\n",
       "| 1 | Cond0                 | 11.02 | 1.66 | 51.34  | 1.91  | &lt; .001 | .016 |\n",
       "| 2 | Chan0                 | 57.33 | 2.39 | 73.94  | 15.91 | &lt; .001 | .504 |\n",
       "| 3 | Cond0 $\\times$ Chan0 | 0.61  | 3.98 | 123.46 | 0.76  | .654   | .001 |\n",
       "\n"
      ],
      "text/plain": [
       "  Effect                F     df1  df2    MSE   p      ges \n",
       "1 Cond0                 11.02 1.66 51.34  1.91  < .001 .016\n",
       "2 Chan0                 57.33 2.39 73.94  15.91 < .001 .504\n",
       "3 Cond0 $\\\\times$ Chan0 0.61  3.98 123.46 0.76  .654   .001"
      ]
     },
     "metadata": {},
     "output_type": "display_data"
    },
    {
     "data": {
      "text/markdown": [
       "### Result"
      ]
     },
     "metadata": {},
     "output_type": "display_data"
    },
    {
     "data": {
      "text/markdown": [
       "$F(1.66, 51.34) = 11.02$, $\\mathit{MSE} = 1.91$, $p < .001$, $\\hat{\\eta}^2_G = .016$"
      ]
     },
     "metadata": {},
     "output_type": "display_data"
    },
    {
     "data": {
      "text/markdown": [
       "### Summary (all done1, incl. NANs)"
      ]
     },
     "metadata": {},
     "output_type": "display_data"
    },
    {
     "data": {
      "text/html": [
       "<table>\n",
       "<caption>A tibble: 3 × 5</caption>\n",
       "<thead>\n",
       "\t<tr><th scope=col>cond0</th><th scope=col>N</th><th scope=col>valX_M</th><th scope=col>valX_SD</th><th scope=col>valX_SE</th></tr>\n",
       "\t<tr><th scope=col>&lt;fct&gt;</th><th scope=col>&lt;int&gt;</th><th scope=col>&lt;dbl&gt;</th><th scope=col>&lt;dbl&gt;</th><th scope=col>&lt;dbl&gt;</th></tr>\n",
       "</thead>\n",
       "<tbody>\n",
       "\t<tr><td>noun_F</td><td>4608</td><td>-0.7797538</td><td>3.411917</td><td>0.05026228</td></tr>\n",
       "\t<tr><td>noun_M</td><td>4608</td><td>-0.7668945</td><td>3.448748</td><td>0.05080485</td></tr>\n",
       "\t<tr><td>verb_X</td><td>4608</td><td>-0.2514781</td><td>3.164568</td><td>0.04661848</td></tr>\n",
       "</tbody>\n",
       "</table>\n"
      ],
      "text/latex": [
       "A tibble: 3 × 5\n",
       "\\begin{tabular}{lllll}\n",
       " cond0 & N & valX\\_M & valX\\_SD & valX\\_SE\\\\\n",
       " <fct> & <int> & <dbl> & <dbl> & <dbl>\\\\\n",
       "\\hline\n",
       "\t noun\\_F & 4608 & -0.7797538 & 3.411917 & 0.05026228\\\\\n",
       "\t noun\\_M & 4608 & -0.7668945 & 3.448748 & 0.05080485\\\\\n",
       "\t verb\\_X & 4608 & -0.2514781 & 3.164568 & 0.04661848\\\\\n",
       "\\end{tabular}\n"
      ],
      "text/markdown": [
       "\n",
       "A tibble: 3 × 5\n",
       "\n",
       "| cond0 &lt;fct&gt; | N &lt;int&gt; | valX_M &lt;dbl&gt; | valX_SD &lt;dbl&gt; | valX_SE &lt;dbl&gt; |\n",
       "|---|---|---|---|---|\n",
       "| noun_F | 4608 | -0.7797538 | 3.411917 | 0.05026228 |\n",
       "| noun_M | 4608 | -0.7668945 | 3.448748 | 0.05080485 |\n",
       "| verb_X | 4608 | -0.2514781 | 3.164568 | 0.04661848 |\n",
       "\n"
      ],
      "text/plain": [
       "  cond0  N    valX_M     valX_SD  valX_SE   \n",
       "1 noun_F 4608 -0.7797538 3.411917 0.05026228\n",
       "2 noun_M 4608 -0.7668945 3.448748 0.05080485\n",
       "3 verb_X 4608 -0.2514781 3.164568 0.04661848"
      ]
     },
     "metadata": {},
     "output_type": "display_data"
    },
    {
     "data": {
      "text/markdown": [
       "### Expected marginal means"
      ]
     },
     "metadata": {},
     "output_type": "display_data"
    },
    {
     "data": {
      "text/html": [
       "<table>\n",
       "<caption>A apa_results_table: 18 × 6</caption>\n",
       "<thead>\n",
       "\t<tr><th></th><th scope=col>chan0</th><th scope=col>cond0</th><th scope=col>estimate</th><th scope=col>ci</th><th scope=col>statistic</th><th scope=col>p.value</th></tr>\n",
       "\t<tr><th></th><th scope=col>&lt;chr&gt;</th><th scope=col>&lt;chr&gt;</th><th scope=col>&lt;ppj_lbll&gt;</th><th scope=col>&lt;ppj_lbll&gt;</th><th scope=col>&lt;ppj_lbll&gt;</th><th scope=col>&lt;ppj_lbll&gt;</th></tr>\n",
       "</thead>\n",
       "<tbody>\n",
       "\t<tr><th scope=row>noun_F_LC</th><td>LC</td><td>noun_F</td><td>0.00 </td><td>$[-0.69$, $0.68]$ </td><td>-0.01 </td><td>.992  </td></tr>\n",
       "\t<tr><th scope=row>noun_M_LC</th><td>  </td><td>noun_M</td><td>-0.06</td><td>$[-0.75$, $0.62]$ </td><td>-0.18 </td><td>.859  </td></tr>\n",
       "\t<tr><th scope=row>verb_X_LC</th><td>  </td><td>verb_X</td><td>0.52 </td><td>$[-0.17$, $1.20]$ </td><td>1.49  </td><td>.139  </td></tr>\n",
       "\t<tr><th scope=row>noun_F_LF</th><td>LF</td><td>noun_F</td><td>-3.32</td><td>$[-4.01$, $-2.64]$</td><td>-9.59 </td><td>&lt; .001</td></tr>\n",
       "\t<tr><th scope=row>noun_M_LF</th><td><span style=white-space:pre-wrap>  </span></td><td>noun_M</td><td>-3.46</td><td>$[-4.14$, $-2.78]$</td><td>-9.99 </td><td>&lt; .001</td></tr>\n",
       "\t<tr><th scope=row>verb_X_LF</th><td><span style=white-space:pre-wrap>  </span></td><td>verb_X</td><td>-2.84</td><td>$[-3.52$, $-2.15]$</td><td>-8.19 </td><td>&lt; .001</td></tr>\n",
       "\t<tr><th scope=row>noun_F_LP</th><td>LP</td><td>noun_F</td><td>0.30 </td><td>$[-0.38$, $0.99]$ </td><td>0.88  </td><td>.380  </td></tr>\n",
       "\t<tr><th scope=row>noun_M_LP</th><td>  </td><td>noun_M</td><td>0.52 </td><td>$[-0.16$, $1.21]$ </td><td>1.51  </td><td>.132  </td></tr>\n",
       "\t<tr><th scope=row>verb_X_LP</th><td>  </td><td>verb_X</td><td>0.86 </td><td>$[0.18$, $1.55]$  </td><td>2.50  </td><td>.014  </td></tr>\n",
       "\t<tr><th scope=row>noun_F_RC</th><td>RC</td><td>noun_F</td><td>0.10 </td><td>$[-0.59$, $0.78]$ </td><td>0.28  </td><td>.779  </td></tr>\n",
       "\t<tr><th scope=row>noun_M_RC</th><td>  </td><td>noun_M</td><td>0.16 </td><td>$[-0.52$, $0.84]$ </td><td>0.46  </td><td>.645  </td></tr>\n",
       "\t<tr><th scope=row>verb_X_RC</th><td>  </td><td>verb_X</td><td>0.71 </td><td>$[0.02$, $1.39]$  </td><td>2.04  </td><td>.043  </td></tr>\n",
       "\t<tr><th scope=row>noun_F_RF</th><td>RF</td><td>noun_F</td><td>-3.39</td><td>$[-4.08$, $-2.71]$</td><td>-9.79 </td><td>&lt; .001</td></tr>\n",
       "\t<tr><th scope=row>noun_M_RF</th><td><span style=white-space:pre-wrap>  </span></td><td>noun_M</td><td>-3.50</td><td>$[-4.19$, $-2.82]$</td><td>-10.12</td><td>&lt; .001</td></tr>\n",
       "\t<tr><th scope=row>verb_X_RF</th><td><span style=white-space:pre-wrap>  </span></td><td>verb_X</td><td>-2.91</td><td>$[-3.59$, $-2.23]$</td><td>-8.40 </td><td>&lt; .001</td></tr>\n",
       "\t<tr><th scope=row>noun_F_RP</th><td>RP</td><td>noun_F</td><td>1.64 </td><td><span style=white-space:pre-wrap>$[0.95$, $2.32]$  </span></td><td><span style=white-space:pre-wrap>4.72  </span></td><td>&lt; .001</td></tr>\n",
       "\t<tr><th scope=row>noun_M_RP</th><td><span style=white-space:pre-wrap>  </span></td><td>noun_M</td><td>1.74 </td><td><span style=white-space:pre-wrap>$[1.06$, $2.42]$  </span></td><td><span style=white-space:pre-wrap>5.02  </span></td><td>&lt; .001</td></tr>\n",
       "\t<tr><th scope=row>verb_X_RP</th><td><span style=white-space:pre-wrap>  </span></td><td>verb_X</td><td>2.15 </td><td><span style=white-space:pre-wrap>$[1.47$, $2.84]$  </span></td><td><span style=white-space:pre-wrap>6.21  </span></td><td>&lt; .001</td></tr>\n",
       "</tbody>\n",
       "</table>\n"
      ],
      "text/latex": [
       "A apa\\_results\\_table: 18 × 6\n",
       "\\begin{tabular}{r|llllll}\n",
       "  & chan0 & cond0 & estimate & ci & statistic & p.value\\\\\n",
       "  & <chr> & <chr> & <ppj\\_lbll> & <ppj\\_lbll> & <ppj\\_lbll> & <ppj\\_lbll>\\\\\n",
       "\\hline\n",
       "\tnoun\\_F\\_LC & LC & noun\\_F & 0.00  & \\${[}-0.69\\$, \\$0.68{]}\\$  & -0.01  & .992  \\\\\n",
       "\tnoun\\_M\\_LC &    & noun\\_M & -0.06 & \\${[}-0.75\\$, \\$0.62{]}\\$  & -0.18  & .859  \\\\\n",
       "\tverb\\_X\\_LC &    & verb\\_X & 0.52  & \\${[}-0.17\\$, \\$1.20{]}\\$  & 1.49   & .139  \\\\\n",
       "\tnoun\\_F\\_LF & LF & noun\\_F & -3.32 & \\${[}-4.01\\$, \\$-2.64{]}\\$ & -9.59  & < .001\\\\\n",
       "\tnoun\\_M\\_LF &    & noun\\_M & -3.46 & \\${[}-4.14\\$, \\$-2.78{]}\\$ & -9.99  & < .001\\\\\n",
       "\tverb\\_X\\_LF &    & verb\\_X & -2.84 & \\${[}-3.52\\$, \\$-2.15{]}\\$ & -8.19  & < .001\\\\\n",
       "\tnoun\\_F\\_LP & LP & noun\\_F & 0.30  & \\${[}-0.38\\$, \\$0.99{]}\\$  & 0.88   & .380  \\\\\n",
       "\tnoun\\_M\\_LP &    & noun\\_M & 0.52  & \\${[}-0.16\\$, \\$1.21{]}\\$  & 1.51   & .132  \\\\\n",
       "\tverb\\_X\\_LP &    & verb\\_X & 0.86  & \\${[}0.18\\$, \\$1.55{]}\\$   & 2.50   & .014  \\\\\n",
       "\tnoun\\_F\\_RC & RC & noun\\_F & 0.10  & \\${[}-0.59\\$, \\$0.78{]}\\$  & 0.28   & .779  \\\\\n",
       "\tnoun\\_M\\_RC &    & noun\\_M & 0.16  & \\${[}-0.52\\$, \\$0.84{]}\\$  & 0.46   & .645  \\\\\n",
       "\tverb\\_X\\_RC &    & verb\\_X & 0.71  & \\${[}0.02\\$, \\$1.39{]}\\$   & 2.04   & .043  \\\\\n",
       "\tnoun\\_F\\_RF & RF & noun\\_F & -3.39 & \\${[}-4.08\\$, \\$-2.71{]}\\$ & -9.79  & < .001\\\\\n",
       "\tnoun\\_M\\_RF &    & noun\\_M & -3.50 & \\${[}-4.19\\$, \\$-2.82{]}\\$ & -10.12 & < .001\\\\\n",
       "\tverb\\_X\\_RF &    & verb\\_X & -2.91 & \\${[}-3.59\\$, \\$-2.23{]}\\$ & -8.40  & < .001\\\\\n",
       "\tnoun\\_F\\_RP & RP & noun\\_F & 1.64  & \\${[}0.95\\$, \\$2.32{]}\\$   & 4.72   & < .001\\\\\n",
       "\tnoun\\_M\\_RP &    & noun\\_M & 1.74  & \\${[}1.06\\$, \\$2.42{]}\\$   & 5.02   & < .001\\\\\n",
       "\tverb\\_X\\_RP &    & verb\\_X & 2.15  & \\${[}1.47\\$, \\$2.84{]}\\$   & 6.21   & < .001\\\\\n",
       "\\end{tabular}\n"
      ],
      "text/markdown": [
       "\n",
       "A apa_results_table: 18 × 6\n",
       "\n",
       "| <!--/--> | chan0 &lt;chr&gt; | cond0 &lt;chr&gt; | estimate &lt;ppj_lbll&gt; | ci &lt;ppj_lbll&gt; | statistic &lt;ppj_lbll&gt; | p.value &lt;ppj_lbll&gt; |\n",
       "|---|---|---|---|---|---|---|\n",
       "| noun_F_LC | LC | noun_F | 0.00  | $[-0.69$, $0.68]$  | -0.01  | .992   |\n",
       "| noun_M_LC | <!----> | noun_M | -0.06 | $[-0.75$, $0.62]$  | -0.18  | .859   |\n",
       "| verb_X_LC | <!----> | verb_X | 0.52  | $[-0.17$, $1.20]$  | 1.49   | .139   |\n",
       "| noun_F_LF | LF | noun_F | -3.32 | $[-4.01$, $-2.64]$ | -9.59  | &lt; .001 |\n",
       "| noun_M_LF | <!----> | noun_M | -3.46 | $[-4.14$, $-2.78]$ | -9.99  | &lt; .001 |\n",
       "| verb_X_LF | <!----> | verb_X | -2.84 | $[-3.52$, $-2.15]$ | -8.19  | &lt; .001 |\n",
       "| noun_F_LP | LP | noun_F | 0.30  | $[-0.38$, $0.99]$  | 0.88   | .380   |\n",
       "| noun_M_LP | <!----> | noun_M | 0.52  | $[-0.16$, $1.21]$  | 1.51   | .132   |\n",
       "| verb_X_LP | <!----> | verb_X | 0.86  | $[0.18$, $1.55]$   | 2.50   | .014   |\n",
       "| noun_F_RC | RC | noun_F | 0.10  | $[-0.59$, $0.78]$  | 0.28   | .779   |\n",
       "| noun_M_RC | <!----> | noun_M | 0.16  | $[-0.52$, $0.84]$  | 0.46   | .645   |\n",
       "| verb_X_RC | <!----> | verb_X | 0.71  | $[0.02$, $1.39]$   | 2.04   | .043   |\n",
       "| noun_F_RF | RF | noun_F | -3.39 | $[-4.08$, $-2.71]$ | -9.79  | &lt; .001 |\n",
       "| noun_M_RF | <!----> | noun_M | -3.50 | $[-4.19$, $-2.82]$ | -10.12 | &lt; .001 |\n",
       "| verb_X_RF | <!----> | verb_X | -2.91 | $[-3.59$, $-2.23]$ | -8.40  | &lt; .001 |\n",
       "| noun_F_RP | RP | noun_F | 1.64  | $[0.95$, $2.32]$   | 4.72   | &lt; .001 |\n",
       "| noun_M_RP | <!----> | noun_M | 1.74  | $[1.06$, $2.42]$   | 5.02   | &lt; .001 |\n",
       "| verb_X_RP | <!----> | verb_X | 2.15  | $[1.47$, $2.84]$   | 6.21   | &lt; .001 |\n",
       "\n"
      ],
      "text/plain": [
       "          chan0 cond0  estimate ci                 statistic p.value\n",
       "noun_F_LC LC    noun_F 0.00     $[-0.69$, $0.68]$  -0.01     .992   \n",
       "noun_M_LC       noun_M -0.06    $[-0.75$, $0.62]$  -0.18     .859   \n",
       "verb_X_LC       verb_X 0.52     $[-0.17$, $1.20]$  1.49      .139   \n",
       "noun_F_LF LF    noun_F -3.32    $[-4.01$, $-2.64]$ -9.59     < .001 \n",
       "noun_M_LF       noun_M -3.46    $[-4.14$, $-2.78]$ -9.99     < .001 \n",
       "verb_X_LF       verb_X -2.84    $[-3.52$, $-2.15]$ -8.19     < .001 \n",
       "noun_F_LP LP    noun_F 0.30     $[-0.38$, $0.99]$  0.88      .380   \n",
       "noun_M_LP       noun_M 0.52     $[-0.16$, $1.21]$  1.51      .132   \n",
       "verb_X_LP       verb_X 0.86     $[0.18$, $1.55]$   2.50      .014   \n",
       "noun_F_RC RC    noun_F 0.10     $[-0.59$, $0.78]$  0.28      .779   \n",
       "noun_M_RC       noun_M 0.16     $[-0.52$, $0.84]$  0.46      .645   \n",
       "verb_X_RC       verb_X 0.71     $[0.02$, $1.39]$   2.04      .043   \n",
       "noun_F_RF RF    noun_F -3.39    $[-4.08$, $-2.71]$ -9.79     < .001 \n",
       "noun_M_RF       noun_M -3.50    $[-4.19$, $-2.82]$ -10.12    < .001 \n",
       "verb_X_RF       verb_X -2.91    $[-3.59$, $-2.23]$ -8.40     < .001 \n",
       "noun_F_RP RP    noun_F 1.64     $[0.95$, $2.32]$   4.72      < .001 \n",
       "noun_M_RP       noun_M 1.74     $[1.06$, $2.42]$   5.02      < .001 \n",
       "verb_X_RP       verb_X 2.15     $[1.47$, $2.84]$   6.21      < .001 "
      ]
     },
     "metadata": {},
     "output_type": "display_data"
    },
    {
     "data": {
      "text/markdown": [
       "### Paired comparisons for expected marginal means"
      ]
     },
     "metadata": {},
     "output_type": "display_data"
    },
    {
     "data": {
      "text/html": [
       "<table>\n",
       "<caption>A apa_results_table: 18 × 6</caption>\n",
       "<thead>\n",
       "\t<tr><th></th><th scope=col>chan0</th><th scope=col>contrast</th><th scope=col>estimate</th><th scope=col>ci</th><th scope=col>statistic</th><th scope=col>p.value</th></tr>\n",
       "\t<tr><th></th><th scope=col>&lt;chr&gt;</th><th scope=col>&lt;ppj_lbll&gt;</th><th scope=col>&lt;ppj_lbll&gt;</th><th scope=col>&lt;ppj_lbll&gt;</th><th scope=col>&lt;ppj_lbll&gt;</th><th scope=col>&lt;ppj_lbll&gt;</th></tr>\n",
       "</thead>\n",
       "<tbody>\n",
       "\t<tr><th scope=row>LC_noun_F_noun_M</th><td>LC</td><td>noun_F - noun_M</td><td>0.06 </td><td>$[-0.37$, $0.48]$ </td><td>0.32 </td><td>.944</td></tr>\n",
       "\t<tr><th scope=row>LC_noun_F_verb_X</th><td>  </td><td>noun_F - verb_X</td><td>-0.52</td><td>$[-0.94$, $-0.10]$</td><td>-2.89</td><td>.012</td></tr>\n",
       "\t<tr><th scope=row>LC_noun_M_verb_X</th><td>  </td><td>noun_M - verb_X</td><td>-0.58</td><td>$[-1.00$, $-0.15]$</td><td>-3.22</td><td>.004</td></tr>\n",
       "\t<tr><th scope=row>LF_noun_F_noun_M</th><td>LF</td><td>noun_F - noun_M</td><td>0.14 </td><td>$[-0.28$, $0.56]$ </td><td>0.77 </td><td>.719</td></tr>\n",
       "\t<tr><th scope=row>LF_noun_F_verb_X</th><td>  </td><td>noun_F - verb_X</td><td>-0.48</td><td>$[-0.91$, $-0.06]$</td><td>-2.69</td><td>.021</td></tr>\n",
       "\t<tr><th scope=row>LF_noun_M_verb_X</th><td>  </td><td>noun_M - verb_X</td><td>-0.62</td><td>$[-1.04$, $-0.20]$</td><td>-3.46</td><td>.002</td></tr>\n",
       "\t<tr><th scope=row>LP_noun_F_noun_M</th><td>LP</td><td>noun_F - noun_M</td><td>-0.22</td><td>$[-0.64$, $0.20]$ </td><td>-1.22</td><td>.440</td></tr>\n",
       "\t<tr><th scope=row>LP_noun_F_verb_X</th><td>  </td><td>noun_F - verb_X</td><td>-0.56</td><td>$[-0.98$, $-0.14]$</td><td>-3.12</td><td>.006</td></tr>\n",
       "\t<tr><th scope=row>LP_noun_M_verb_X</th><td>  </td><td>noun_M - verb_X</td><td>-0.34</td><td>$[-0.76$, $0.08]$ </td><td>-1.90</td><td>.142</td></tr>\n",
       "\t<tr><th scope=row>RC_noun_F_noun_M</th><td>RC</td><td>noun_F - noun_M</td><td>-0.06</td><td>$[-0.49$, $0.36]$ </td><td>-0.35</td><td>.936</td></tr>\n",
       "\t<tr><th scope=row>RC_noun_F_verb_X</th><td>  </td><td>noun_F - verb_X</td><td>-0.61</td><td>$[-1.03$, $-0.19]$</td><td>-3.40</td><td>.002</td></tr>\n",
       "\t<tr><th scope=row>RC_noun_M_verb_X</th><td>  </td><td>noun_M - verb_X</td><td>-0.55</td><td>$[-0.97$, $-0.12]$</td><td>-3.06</td><td>.007</td></tr>\n",
       "\t<tr><th scope=row>RF_noun_F_noun_M</th><td>RF</td><td>noun_F - noun_M</td><td>0.11 </td><td>$[-0.31$, $0.54]$ </td><td>0.62 </td><td>.807</td></tr>\n",
       "\t<tr><th scope=row>RF_noun_F_verb_X</th><td>  </td><td>noun_F - verb_X</td><td>-0.48</td><td>$[-0.91$, $-0.06]$</td><td>-2.69</td><td>.021</td></tr>\n",
       "\t<tr><th scope=row>RF_noun_M_verb_X</th><td>  </td><td>noun_M - verb_X</td><td>-0.59</td><td>$[-1.02$, $-0.17]$</td><td>-3.31</td><td>.003</td></tr>\n",
       "\t<tr><th scope=row>RP_noun_F_noun_M</th><td>RP</td><td>noun_F - noun_M</td><td>-0.10</td><td>$[-0.53$, $0.32]$ </td><td>-0.58</td><td>.831</td></tr>\n",
       "\t<tr><th scope=row>RP_noun_F_verb_X</th><td>  </td><td>noun_F - verb_X</td><td>-0.52</td><td>$[-0.94$, $-0.09]$</td><td>-2.87</td><td>.012</td></tr>\n",
       "\t<tr><th scope=row>RP_noun_M_verb_X</th><td>  </td><td>noun_M - verb_X</td><td>-0.41</td><td>$[-0.84$, $0.01]$ </td><td>-2.29</td><td>.059</td></tr>\n",
       "</tbody>\n",
       "</table>\n"
      ],
      "text/latex": [
       "A apa\\_results\\_table: 18 × 6\n",
       "\\begin{tabular}{r|llllll}\n",
       "  & chan0 & contrast & estimate & ci & statistic & p.value\\\\\n",
       "  & <chr> & <ppj\\_lbll> & <ppj\\_lbll> & <ppj\\_lbll> & <ppj\\_lbll> & <ppj\\_lbll>\\\\\n",
       "\\hline\n",
       "\tLC\\_noun\\_F\\_noun\\_M & LC & noun\\_F - noun\\_M & 0.06  & \\${[}-0.37\\$, \\$0.48{]}\\$  & 0.32  & .944\\\\\n",
       "\tLC\\_noun\\_F\\_verb\\_X &    & noun\\_F - verb\\_X & -0.52 & \\${[}-0.94\\$, \\$-0.10{]}\\$ & -2.89 & .012\\\\\n",
       "\tLC\\_noun\\_M\\_verb\\_X &    & noun\\_M - verb\\_X & -0.58 & \\${[}-1.00\\$, \\$-0.15{]}\\$ & -3.22 & .004\\\\\n",
       "\tLF\\_noun\\_F\\_noun\\_M & LF & noun\\_F - noun\\_M & 0.14  & \\${[}-0.28\\$, \\$0.56{]}\\$  & 0.77  & .719\\\\\n",
       "\tLF\\_noun\\_F\\_verb\\_X &    & noun\\_F - verb\\_X & -0.48 & \\${[}-0.91\\$, \\$-0.06{]}\\$ & -2.69 & .021\\\\\n",
       "\tLF\\_noun\\_M\\_verb\\_X &    & noun\\_M - verb\\_X & -0.62 & \\${[}-1.04\\$, \\$-0.20{]}\\$ & -3.46 & .002\\\\\n",
       "\tLP\\_noun\\_F\\_noun\\_M & LP & noun\\_F - noun\\_M & -0.22 & \\${[}-0.64\\$, \\$0.20{]}\\$  & -1.22 & .440\\\\\n",
       "\tLP\\_noun\\_F\\_verb\\_X &    & noun\\_F - verb\\_X & -0.56 & \\${[}-0.98\\$, \\$-0.14{]}\\$ & -3.12 & .006\\\\\n",
       "\tLP\\_noun\\_M\\_verb\\_X &    & noun\\_M - verb\\_X & -0.34 & \\${[}-0.76\\$, \\$0.08{]}\\$  & -1.90 & .142\\\\\n",
       "\tRC\\_noun\\_F\\_noun\\_M & RC & noun\\_F - noun\\_M & -0.06 & \\${[}-0.49\\$, \\$0.36{]}\\$  & -0.35 & .936\\\\\n",
       "\tRC\\_noun\\_F\\_verb\\_X &    & noun\\_F - verb\\_X & -0.61 & \\${[}-1.03\\$, \\$-0.19{]}\\$ & -3.40 & .002\\\\\n",
       "\tRC\\_noun\\_M\\_verb\\_X &    & noun\\_M - verb\\_X & -0.55 & \\${[}-0.97\\$, \\$-0.12{]}\\$ & -3.06 & .007\\\\\n",
       "\tRF\\_noun\\_F\\_noun\\_M & RF & noun\\_F - noun\\_M & 0.11  & \\${[}-0.31\\$, \\$0.54{]}\\$  & 0.62  & .807\\\\\n",
       "\tRF\\_noun\\_F\\_verb\\_X &    & noun\\_F - verb\\_X & -0.48 & \\${[}-0.91\\$, \\$-0.06{]}\\$ & -2.69 & .021\\\\\n",
       "\tRF\\_noun\\_M\\_verb\\_X &    & noun\\_M - verb\\_X & -0.59 & \\${[}-1.02\\$, \\$-0.17{]}\\$ & -3.31 & .003\\\\\n",
       "\tRP\\_noun\\_F\\_noun\\_M & RP & noun\\_F - noun\\_M & -0.10 & \\${[}-0.53\\$, \\$0.32{]}\\$  & -0.58 & .831\\\\\n",
       "\tRP\\_noun\\_F\\_verb\\_X &    & noun\\_F - verb\\_X & -0.52 & \\${[}-0.94\\$, \\$-0.09{]}\\$ & -2.87 & .012\\\\\n",
       "\tRP\\_noun\\_M\\_verb\\_X &    & noun\\_M - verb\\_X & -0.41 & \\${[}-0.84\\$, \\$0.01{]}\\$  & -2.29 & .059\\\\\n",
       "\\end{tabular}\n"
      ],
      "text/markdown": [
       "\n",
       "A apa_results_table: 18 × 6\n",
       "\n",
       "| <!--/--> | chan0 &lt;chr&gt; | contrast &lt;ppj_lbll&gt; | estimate &lt;ppj_lbll&gt; | ci &lt;ppj_lbll&gt; | statistic &lt;ppj_lbll&gt; | p.value &lt;ppj_lbll&gt; |\n",
       "|---|---|---|---|---|---|---|\n",
       "| LC_noun_F_noun_M | LC | noun_F - noun_M | 0.06  | $[-0.37$, $0.48]$  | 0.32  | .944 |\n",
       "| LC_noun_F_verb_X | <!----> | noun_F - verb_X | -0.52 | $[-0.94$, $-0.10]$ | -2.89 | .012 |\n",
       "| LC_noun_M_verb_X | <!----> | noun_M - verb_X | -0.58 | $[-1.00$, $-0.15]$ | -3.22 | .004 |\n",
       "| LF_noun_F_noun_M | LF | noun_F - noun_M | 0.14  | $[-0.28$, $0.56]$  | 0.77  | .719 |\n",
       "| LF_noun_F_verb_X | <!----> | noun_F - verb_X | -0.48 | $[-0.91$, $-0.06]$ | -2.69 | .021 |\n",
       "| LF_noun_M_verb_X | <!----> | noun_M - verb_X | -0.62 | $[-1.04$, $-0.20]$ | -3.46 | .002 |\n",
       "| LP_noun_F_noun_M | LP | noun_F - noun_M | -0.22 | $[-0.64$, $0.20]$  | -1.22 | .440 |\n",
       "| LP_noun_F_verb_X | <!----> | noun_F - verb_X | -0.56 | $[-0.98$, $-0.14]$ | -3.12 | .006 |\n",
       "| LP_noun_M_verb_X | <!----> | noun_M - verb_X | -0.34 | $[-0.76$, $0.08]$  | -1.90 | .142 |\n",
       "| RC_noun_F_noun_M | RC | noun_F - noun_M | -0.06 | $[-0.49$, $0.36]$  | -0.35 | .936 |\n",
       "| RC_noun_F_verb_X | <!----> | noun_F - verb_X | -0.61 | $[-1.03$, $-0.19]$ | -3.40 | .002 |\n",
       "| RC_noun_M_verb_X | <!----> | noun_M - verb_X | -0.55 | $[-0.97$, $-0.12]$ | -3.06 | .007 |\n",
       "| RF_noun_F_noun_M | RF | noun_F - noun_M | 0.11  | $[-0.31$, $0.54]$  | 0.62  | .807 |\n",
       "| RF_noun_F_verb_X | <!----> | noun_F - verb_X | -0.48 | $[-0.91$, $-0.06]$ | -2.69 | .021 |\n",
       "| RF_noun_M_verb_X | <!----> | noun_M - verb_X | -0.59 | $[-1.02$, $-0.17]$ | -3.31 | .003 |\n",
       "| RP_noun_F_noun_M | RP | noun_F - noun_M | -0.10 | $[-0.53$, $0.32]$  | -0.58 | .831 |\n",
       "| RP_noun_F_verb_X | <!----> | noun_F - verb_X | -0.52 | $[-0.94$, $-0.09]$ | -2.87 | .012 |\n",
       "| RP_noun_M_verb_X | <!----> | noun_M - verb_X | -0.41 | $[-0.84$, $0.01]$  | -2.29 | .059 |\n",
       "\n"
      ],
      "text/plain": [
       "                 chan0 contrast        estimate ci                 statistic p.value\n",
       "LC_noun_F_noun_M LC    noun_F - noun_M 0.06     $[-0.37$, $0.48]$  0.32      .944   \n",
       "LC_noun_F_verb_X       noun_F - verb_X -0.52    $[-0.94$, $-0.10]$ -2.89     .012   \n",
       "LC_noun_M_verb_X       noun_M - verb_X -0.58    $[-1.00$, $-0.15]$ -3.22     .004   \n",
       "LF_noun_F_noun_M LF    noun_F - noun_M 0.14     $[-0.28$, $0.56]$  0.77      .719   \n",
       "LF_noun_F_verb_X       noun_F - verb_X -0.48    $[-0.91$, $-0.06]$ -2.69     .021   \n",
       "LF_noun_M_verb_X       noun_M - verb_X -0.62    $[-1.04$, $-0.20]$ -3.46     .002   \n",
       "LP_noun_F_noun_M LP    noun_F - noun_M -0.22    $[-0.64$, $0.20]$  -1.22     .440   \n",
       "LP_noun_F_verb_X       noun_F - verb_X -0.56    $[-0.98$, $-0.14]$ -3.12     .006   \n",
       "LP_noun_M_verb_X       noun_M - verb_X -0.34    $[-0.76$, $0.08]$  -1.90     .142   \n",
       "RC_noun_F_noun_M RC    noun_F - noun_M -0.06    $[-0.49$, $0.36]$  -0.35     .936   \n",
       "RC_noun_F_verb_X       noun_F - verb_X -0.61    $[-1.03$, $-0.19]$ -3.40     .002   \n",
       "RC_noun_M_verb_X       noun_M - verb_X -0.55    $[-0.97$, $-0.12]$ -3.06     .007   \n",
       "RF_noun_F_noun_M RF    noun_F - noun_M 0.11     $[-0.31$, $0.54]$  0.62      .807   \n",
       "RF_noun_F_verb_X       noun_F - verb_X -0.48    $[-0.91$, $-0.06]$ -2.69     .021   \n",
       "RF_noun_M_verb_X       noun_M - verb_X -0.59    $[-1.02$, $-0.17]$ -3.31     .003   \n",
       "RP_noun_F_noun_M RP    noun_F - noun_M -0.10    $[-0.53$, $0.32]$  -0.58     .831   \n",
       "RP_noun_F_verb_X       noun_F - verb_X -0.52    $[-0.94$, $-0.09]$ -2.87     .012   \n",
       "RP_noun_M_verb_X       noun_M - verb_X -0.41    $[-0.84$, $0.01]$  -2.29     .059   "
      ]
     },
     "metadata": {},
     "output_type": "display_data"
    }
   ],
   "source": [
    "IDX <- IDX+1; COND <- CONDS[IDX]\n",
    "data1 <- droplevels(subset(df1, eval(parse(text=COND)))); data1 <- data1[complete.cases(data1),]; done1 <- AOV4(data1,COND)\n",
    "display_markdown(str_c(\"# Condition \",IDX,\" of \",length(CONDS))); display_markdown(done1$info); display_markdown(\"### Table\"); done1$aov_APA$table; display_markdown(\"### Result\"); display_markdown(done1$aov_APA[[\"full_result\"]][[\"cond0\"]]); display_markdown(\"### Summary (all done1, incl. NANs)\"); done1$summary; display_markdown(\"### Expected marginal means\"); done1$emm_APA$table; display_markdown(\"### Paired comparisons for expected marginal means\"); done1$pairs_APA$table"
   ]
  },
  {
   "cell_type": "code",
   "execution_count": 495,
   "metadata": {
    "scrolled": false
   },
   "outputs": [
    {
     "name": "stderr",
     "output_type": "stream",
     "text": [
      "Warning message:\n",
      "“More than one observation per cell, aggregating the data using mean (i.e, fun_aggregate = mean)!”\n"
     ]
    },
    {
     "data": {
      "text/markdown": [
       "# Condition 5 of 6"
      ]
     },
     "metadata": {},
     "output_type": "display_data"
    },
    {
     "data": {
      "text/markdown": [
       "`tmin0==0.6`"
      ]
     },
     "metadata": {},
     "output_type": "display_data"
    },
    {
     "data": {
      "text/markdown": [
       "### Table"
      ]
     },
     "metadata": {},
     "output_type": "display_data"
    },
    {
     "data": {
      "text/html": [
       "<table>\n",
       "<caption>A apa_results_table: 3 × 7</caption>\n",
       "<thead>\n",
       "\t<tr><th></th><th scope=col>Effect</th><th scope=col>F</th><th scope=col>df1</th><th scope=col>df2</th><th scope=col>MSE</th><th scope=col>p</th><th scope=col>ges</th></tr>\n",
       "\t<tr><th></th><th scope=col>&lt;ppj_lbll&gt;</th><th scope=col>&lt;ppj_lbll&gt;</th><th scope=col>&lt;ppj_lbll&gt;</th><th scope=col>&lt;ppj_lbll&gt;</th><th scope=col>&lt;ppj_lbll&gt;</th><th scope=col>&lt;ppj_lbll&gt;</th><th scope=col>&lt;ppj_lbll&gt;</th></tr>\n",
       "</thead>\n",
       "<tbody>\n",
       "\t<tr><th scope=row>1</th><td><span style=white-space:pre-wrap>Cond0                </span></td><td>14.19</td><td>1.53</td><td>47.35 </td><td>1.87 </td><td>&lt; .001</td><td>.025</td></tr>\n",
       "\t<tr><th scope=row>2</th><td><span style=white-space:pre-wrap>Chan0                </span></td><td>14.84</td><td>2.52</td><td>78.05 </td><td>12.21</td><td>&lt; .001</td><td>.221</td></tr>\n",
       "\t<tr><th scope=row>3</th><td>Cond0 $\\times$ Chan0</td><td>1.28 </td><td>3.85</td><td>119.40</td><td>0.77 </td><td>.281  </td><td>.002</td></tr>\n",
       "</tbody>\n",
       "</table>\n"
      ],
      "text/latex": [
       "A apa\\_results\\_table: 3 × 7\n",
       "\\begin{tabular}{r|lllllll}\n",
       "  & Effect & F & df1 & df2 & MSE & p & ges\\\\\n",
       "  & <ppj\\_lbll> & <ppj\\_lbll> & <ppj\\_lbll> & <ppj\\_lbll> & <ppj\\_lbll> & <ppj\\_lbll> & <ppj\\_lbll>\\\\\n",
       "\\hline\n",
       "\t1 & Cond0                 & 14.19 & 1.53 & 47.35  & 1.87  & < .001 & .025\\\\\n",
       "\t2 & Chan0                 & 14.84 & 2.52 & 78.05  & 12.21 & < .001 & .221\\\\\n",
       "\t3 & Cond0 \\$\\textbackslash{}times\\$ Chan0 & 1.28  & 3.85 & 119.40 & 0.77  & .281   & .002\\\\\n",
       "\\end{tabular}\n"
      ],
      "text/markdown": [
       "\n",
       "A apa_results_table: 3 × 7\n",
       "\n",
       "| <!--/--> | Effect &lt;ppj_lbll&gt; | F &lt;ppj_lbll&gt; | df1 &lt;ppj_lbll&gt; | df2 &lt;ppj_lbll&gt; | MSE &lt;ppj_lbll&gt; | p &lt;ppj_lbll&gt; | ges &lt;ppj_lbll&gt; |\n",
       "|---|---|---|---|---|---|---|---|\n",
       "| 1 | Cond0                 | 14.19 | 1.53 | 47.35  | 1.87  | &lt; .001 | .025 |\n",
       "| 2 | Chan0                 | 14.84 | 2.52 | 78.05  | 12.21 | &lt; .001 | .221 |\n",
       "| 3 | Cond0 $\\times$ Chan0 | 1.28  | 3.85 | 119.40 | 0.77  | .281   | .002 |\n",
       "\n"
      ],
      "text/plain": [
       "  Effect                F     df1  df2    MSE   p      ges \n",
       "1 Cond0                 14.19 1.53 47.35  1.87  < .001 .025\n",
       "2 Chan0                 14.84 2.52 78.05  12.21 < .001 .221\n",
       "3 Cond0 $\\\\times$ Chan0 1.28  3.85 119.40 0.77  .281   .002"
      ]
     },
     "metadata": {},
     "output_type": "display_data"
    },
    {
     "data": {
      "text/markdown": [
       "### Result"
      ]
     },
     "metadata": {},
     "output_type": "display_data"
    },
    {
     "data": {
      "text/markdown": [
       "$F(1.53, 47.35) = 14.19$, $\\mathit{MSE} = 1.87$, $p < .001$, $\\hat{\\eta}^2_G = .025$"
      ]
     },
     "metadata": {},
     "output_type": "display_data"
    },
    {
     "data": {
      "text/markdown": [
       "### Summary (all done1, incl. NANs)"
      ]
     },
     "metadata": {},
     "output_type": "display_data"
    },
    {
     "data": {
      "text/html": [
       "<table>\n",
       "<caption>A tibble: 3 × 5</caption>\n",
       "<thead>\n",
       "\t<tr><th scope=col>cond0</th><th scope=col>N</th><th scope=col>valX_M</th><th scope=col>valX_SD</th><th scope=col>valX_SE</th></tr>\n",
       "\t<tr><th scope=col>&lt;fct&gt;</th><th scope=col>&lt;int&gt;</th><th scope=col>&lt;dbl&gt;</th><th scope=col>&lt;dbl&gt;</th><th scope=col>&lt;dbl&gt;</th></tr>\n",
       "</thead>\n",
       "<tbody>\n",
       "\t<tr><td>noun_F</td><td>4608</td><td>3.549594</td><td>2.726352</td><td>0.04016296</td></tr>\n",
       "\t<tr><td>noun_M</td><td>4608</td><td>3.526074</td><td>2.777715</td><td>0.04091960</td></tr>\n",
       "\t<tr><td>verb_X</td><td>4608</td><td>2.975979</td><td>2.546424</td><td>0.03751236</td></tr>\n",
       "</tbody>\n",
       "</table>\n"
      ],
      "text/latex": [
       "A tibble: 3 × 5\n",
       "\\begin{tabular}{lllll}\n",
       " cond0 & N & valX\\_M & valX\\_SD & valX\\_SE\\\\\n",
       " <fct> & <int> & <dbl> & <dbl> & <dbl>\\\\\n",
       "\\hline\n",
       "\t noun\\_F & 4608 & 3.549594 & 2.726352 & 0.04016296\\\\\n",
       "\t noun\\_M & 4608 & 3.526074 & 2.777715 & 0.04091960\\\\\n",
       "\t verb\\_X & 4608 & 2.975979 & 2.546424 & 0.03751236\\\\\n",
       "\\end{tabular}\n"
      ],
      "text/markdown": [
       "\n",
       "A tibble: 3 × 5\n",
       "\n",
       "| cond0 &lt;fct&gt; | N &lt;int&gt; | valX_M &lt;dbl&gt; | valX_SD &lt;dbl&gt; | valX_SE &lt;dbl&gt; |\n",
       "|---|---|---|---|---|\n",
       "| noun_F | 4608 | 3.549594 | 2.726352 | 0.04016296 |\n",
       "| noun_M | 4608 | 3.526074 | 2.777715 | 0.04091960 |\n",
       "| verb_X | 4608 | 2.975979 | 2.546424 | 0.03751236 |\n",
       "\n"
      ],
      "text/plain": [
       "  cond0  N    valX_M   valX_SD  valX_SE   \n",
       "1 noun_F 4608 3.549594 2.726352 0.04016296\n",
       "2 noun_M 4608 3.526074 2.777715 0.04091960\n",
       "3 verb_X 4608 2.975979 2.546424 0.03751236"
      ]
     },
     "metadata": {},
     "output_type": "display_data"
    },
    {
     "data": {
      "text/markdown": [
       "### Expected marginal means"
      ]
     },
     "metadata": {},
     "output_type": "display_data"
    },
    {
     "data": {
      "text/html": [
       "<table>\n",
       "<caption>A apa_results_table: 18 × 6</caption>\n",
       "<thead>\n",
       "\t<tr><th></th><th scope=col>chan0</th><th scope=col>cond0</th><th scope=col>estimate</th><th scope=col>ci</th><th scope=col>statistic</th><th scope=col>p.value</th></tr>\n",
       "\t<tr><th></th><th scope=col>&lt;chr&gt;</th><th scope=col>&lt;chr&gt;</th><th scope=col>&lt;ppj_lbll&gt;</th><th scope=col>&lt;ppj_lbll&gt;</th><th scope=col>&lt;ppj_lbll&gt;</th><th scope=col>&lt;ppj_lbll&gt;</th></tr>\n",
       "</thead>\n",
       "<tbody>\n",
       "\t<tr><th scope=row>noun_F_LC</th><td>LC</td><td>noun_F</td><td>3.72</td><td>$[3.12$, $4.31]$</td><td>12.39</td><td>&lt; .001</td></tr>\n",
       "\t<tr><th scope=row>noun_M_LC</th><td><span style=white-space:pre-wrap>  </span></td><td>noun_M</td><td>3.66</td><td>$[3.07$, $4.25]$</td><td>12.20</td><td>&lt; .001</td></tr>\n",
       "\t<tr><th scope=row>verb_X_LC</th><td><span style=white-space:pre-wrap>  </span></td><td>verb_X</td><td>3.17</td><td>$[2.57$, $3.76]$</td><td>10.56</td><td>&lt; .001</td></tr>\n",
       "\t<tr><th scope=row>noun_F_LF</th><td>LF</td><td>noun_F</td><td>2.33</td><td>$[1.74$, $2.92]$</td><td>7.77 </td><td>&lt; .001</td></tr>\n",
       "\t<tr><th scope=row>noun_M_LF</th><td><span style=white-space:pre-wrap>  </span></td><td>noun_M</td><td>2.27</td><td>$[1.68$, $2.86]$</td><td>7.57 </td><td>&lt; .001</td></tr>\n",
       "\t<tr><th scope=row>verb_X_LF</th><td><span style=white-space:pre-wrap>  </span></td><td>verb_X</td><td>1.51</td><td>$[0.92$, $2.10]$</td><td>5.04 </td><td>&lt; .001</td></tr>\n",
       "\t<tr><th scope=row>noun_F_LP</th><td>LP</td><td>noun_F</td><td>3.15</td><td>$[2.55$, $3.74]$</td><td>10.49</td><td>&lt; .001</td></tr>\n",
       "\t<tr><th scope=row>noun_M_LP</th><td><span style=white-space:pre-wrap>  </span></td><td>noun_M</td><td>3.31</td><td>$[2.72$, $3.90]$</td><td>11.03</td><td>&lt; .001</td></tr>\n",
       "\t<tr><th scope=row>verb_X_LP</th><td><span style=white-space:pre-wrap>  </span></td><td>verb_X</td><td>2.77</td><td>$[2.18$, $3.36]$</td><td>9.23 </td><td>&lt; .001</td></tr>\n",
       "\t<tr><th scope=row>noun_F_RC</th><td>RC</td><td>noun_F</td><td>4.37</td><td>$[3.78$, $4.96]$</td><td>14.57</td><td>&lt; .001</td></tr>\n",
       "\t<tr><th scope=row>noun_M_RC</th><td><span style=white-space:pre-wrap>  </span></td><td>noun_M</td><td>4.30</td><td>$[3.71$, $4.90]$</td><td>14.35</td><td>&lt; .001</td></tr>\n",
       "\t<tr><th scope=row>verb_X_RC</th><td><span style=white-space:pre-wrap>  </span></td><td>verb_X</td><td>3.88</td><td>$[3.29$, $4.47]$</td><td>12.93</td><td>&lt; .001</td></tr>\n",
       "\t<tr><th scope=row>noun_F_RF</th><td>RF</td><td>noun_F</td><td>2.98</td><td>$[2.39$, $3.57]$</td><td>9.94 </td><td>&lt; .001</td></tr>\n",
       "\t<tr><th scope=row>noun_M_RF</th><td><span style=white-space:pre-wrap>  </span></td><td>noun_M</td><td>2.75</td><td>$[2.16$, $3.34]$</td><td>9.17 </td><td>&lt; .001</td></tr>\n",
       "\t<tr><th scope=row>verb_X_RF</th><td><span style=white-space:pre-wrap>  </span></td><td>verb_X</td><td>2.17</td><td>$[1.58$, $2.77]$</td><td>7.25 </td><td>&lt; .001</td></tr>\n",
       "\t<tr><th scope=row>noun_F_RP</th><td>RP</td><td>noun_F</td><td>4.75</td><td>$[4.16$, $5.35]$</td><td>15.85</td><td>&lt; .001</td></tr>\n",
       "\t<tr><th scope=row>noun_M_RP</th><td><span style=white-space:pre-wrap>  </span></td><td>noun_M</td><td>4.87</td><td>$[4.28$, $5.46]$</td><td>16.23</td><td>&lt; .001</td></tr>\n",
       "\t<tr><th scope=row>verb_X_RP</th><td><span style=white-space:pre-wrap>  </span></td><td>verb_X</td><td>4.36</td><td>$[3.77$, $4.95]$</td><td>14.54</td><td>&lt; .001</td></tr>\n",
       "</tbody>\n",
       "</table>\n"
      ],
      "text/latex": [
       "A apa\\_results\\_table: 18 × 6\n",
       "\\begin{tabular}{r|llllll}\n",
       "  & chan0 & cond0 & estimate & ci & statistic & p.value\\\\\n",
       "  & <chr> & <chr> & <ppj\\_lbll> & <ppj\\_lbll> & <ppj\\_lbll> & <ppj\\_lbll>\\\\\n",
       "\\hline\n",
       "\tnoun\\_F\\_LC & LC & noun\\_F & 3.72 & \\${[}3.12\\$, \\$4.31{]}\\$ & 12.39 & < .001\\\\\n",
       "\tnoun\\_M\\_LC &    & noun\\_M & 3.66 & \\${[}3.07\\$, \\$4.25{]}\\$ & 12.20 & < .001\\\\\n",
       "\tverb\\_X\\_LC &    & verb\\_X & 3.17 & \\${[}2.57\\$, \\$3.76{]}\\$ & 10.56 & < .001\\\\\n",
       "\tnoun\\_F\\_LF & LF & noun\\_F & 2.33 & \\${[}1.74\\$, \\$2.92{]}\\$ & 7.77  & < .001\\\\\n",
       "\tnoun\\_M\\_LF &    & noun\\_M & 2.27 & \\${[}1.68\\$, \\$2.86{]}\\$ & 7.57  & < .001\\\\\n",
       "\tverb\\_X\\_LF &    & verb\\_X & 1.51 & \\${[}0.92\\$, \\$2.10{]}\\$ & 5.04  & < .001\\\\\n",
       "\tnoun\\_F\\_LP & LP & noun\\_F & 3.15 & \\${[}2.55\\$, \\$3.74{]}\\$ & 10.49 & < .001\\\\\n",
       "\tnoun\\_M\\_LP &    & noun\\_M & 3.31 & \\${[}2.72\\$, \\$3.90{]}\\$ & 11.03 & < .001\\\\\n",
       "\tverb\\_X\\_LP &    & verb\\_X & 2.77 & \\${[}2.18\\$, \\$3.36{]}\\$ & 9.23  & < .001\\\\\n",
       "\tnoun\\_F\\_RC & RC & noun\\_F & 4.37 & \\${[}3.78\\$, \\$4.96{]}\\$ & 14.57 & < .001\\\\\n",
       "\tnoun\\_M\\_RC &    & noun\\_M & 4.30 & \\${[}3.71\\$, \\$4.90{]}\\$ & 14.35 & < .001\\\\\n",
       "\tverb\\_X\\_RC &    & verb\\_X & 3.88 & \\${[}3.29\\$, \\$4.47{]}\\$ & 12.93 & < .001\\\\\n",
       "\tnoun\\_F\\_RF & RF & noun\\_F & 2.98 & \\${[}2.39\\$, \\$3.57{]}\\$ & 9.94  & < .001\\\\\n",
       "\tnoun\\_M\\_RF &    & noun\\_M & 2.75 & \\${[}2.16\\$, \\$3.34{]}\\$ & 9.17  & < .001\\\\\n",
       "\tverb\\_X\\_RF &    & verb\\_X & 2.17 & \\${[}1.58\\$, \\$2.77{]}\\$ & 7.25  & < .001\\\\\n",
       "\tnoun\\_F\\_RP & RP & noun\\_F & 4.75 & \\${[}4.16\\$, \\$5.35{]}\\$ & 15.85 & < .001\\\\\n",
       "\tnoun\\_M\\_RP &    & noun\\_M & 4.87 & \\${[}4.28\\$, \\$5.46{]}\\$ & 16.23 & < .001\\\\\n",
       "\tverb\\_X\\_RP &    & verb\\_X & 4.36 & \\${[}3.77\\$, \\$4.95{]}\\$ & 14.54 & < .001\\\\\n",
       "\\end{tabular}\n"
      ],
      "text/markdown": [
       "\n",
       "A apa_results_table: 18 × 6\n",
       "\n",
       "| <!--/--> | chan0 &lt;chr&gt; | cond0 &lt;chr&gt; | estimate &lt;ppj_lbll&gt; | ci &lt;ppj_lbll&gt; | statistic &lt;ppj_lbll&gt; | p.value &lt;ppj_lbll&gt; |\n",
       "|---|---|---|---|---|---|---|\n",
       "| noun_F_LC | LC | noun_F | 3.72 | $[3.12$, $4.31]$ | 12.39 | &lt; .001 |\n",
       "| noun_M_LC | <!----> | noun_M | 3.66 | $[3.07$, $4.25]$ | 12.20 | &lt; .001 |\n",
       "| verb_X_LC | <!----> | verb_X | 3.17 | $[2.57$, $3.76]$ | 10.56 | &lt; .001 |\n",
       "| noun_F_LF | LF | noun_F | 2.33 | $[1.74$, $2.92]$ | 7.77  | &lt; .001 |\n",
       "| noun_M_LF | <!----> | noun_M | 2.27 | $[1.68$, $2.86]$ | 7.57  | &lt; .001 |\n",
       "| verb_X_LF | <!----> | verb_X | 1.51 | $[0.92$, $2.10]$ | 5.04  | &lt; .001 |\n",
       "| noun_F_LP | LP | noun_F | 3.15 | $[2.55$, $3.74]$ | 10.49 | &lt; .001 |\n",
       "| noun_M_LP | <!----> | noun_M | 3.31 | $[2.72$, $3.90]$ | 11.03 | &lt; .001 |\n",
       "| verb_X_LP | <!----> | verb_X | 2.77 | $[2.18$, $3.36]$ | 9.23  | &lt; .001 |\n",
       "| noun_F_RC | RC | noun_F | 4.37 | $[3.78$, $4.96]$ | 14.57 | &lt; .001 |\n",
       "| noun_M_RC | <!----> | noun_M | 4.30 | $[3.71$, $4.90]$ | 14.35 | &lt; .001 |\n",
       "| verb_X_RC | <!----> | verb_X | 3.88 | $[3.29$, $4.47]$ | 12.93 | &lt; .001 |\n",
       "| noun_F_RF | RF | noun_F | 2.98 | $[2.39$, $3.57]$ | 9.94  | &lt; .001 |\n",
       "| noun_M_RF | <!----> | noun_M | 2.75 | $[2.16$, $3.34]$ | 9.17  | &lt; .001 |\n",
       "| verb_X_RF | <!----> | verb_X | 2.17 | $[1.58$, $2.77]$ | 7.25  | &lt; .001 |\n",
       "| noun_F_RP | RP | noun_F | 4.75 | $[4.16$, $5.35]$ | 15.85 | &lt; .001 |\n",
       "| noun_M_RP | <!----> | noun_M | 4.87 | $[4.28$, $5.46]$ | 16.23 | &lt; .001 |\n",
       "| verb_X_RP | <!----> | verb_X | 4.36 | $[3.77$, $4.95]$ | 14.54 | &lt; .001 |\n",
       "\n"
      ],
      "text/plain": [
       "          chan0 cond0  estimate ci               statistic p.value\n",
       "noun_F_LC LC    noun_F 3.72     $[3.12$, $4.31]$ 12.39     < .001 \n",
       "noun_M_LC       noun_M 3.66     $[3.07$, $4.25]$ 12.20     < .001 \n",
       "verb_X_LC       verb_X 3.17     $[2.57$, $3.76]$ 10.56     < .001 \n",
       "noun_F_LF LF    noun_F 2.33     $[1.74$, $2.92]$ 7.77      < .001 \n",
       "noun_M_LF       noun_M 2.27     $[1.68$, $2.86]$ 7.57      < .001 \n",
       "verb_X_LF       verb_X 1.51     $[0.92$, $2.10]$ 5.04      < .001 \n",
       "noun_F_LP LP    noun_F 3.15     $[2.55$, $3.74]$ 10.49     < .001 \n",
       "noun_M_LP       noun_M 3.31     $[2.72$, $3.90]$ 11.03     < .001 \n",
       "verb_X_LP       verb_X 2.77     $[2.18$, $3.36]$ 9.23      < .001 \n",
       "noun_F_RC RC    noun_F 4.37     $[3.78$, $4.96]$ 14.57     < .001 \n",
       "noun_M_RC       noun_M 4.30     $[3.71$, $4.90]$ 14.35     < .001 \n",
       "verb_X_RC       verb_X 3.88     $[3.29$, $4.47]$ 12.93     < .001 \n",
       "noun_F_RF RF    noun_F 2.98     $[2.39$, $3.57]$ 9.94      < .001 \n",
       "noun_M_RF       noun_M 2.75     $[2.16$, $3.34]$ 9.17      < .001 \n",
       "verb_X_RF       verb_X 2.17     $[1.58$, $2.77]$ 7.25      < .001 \n",
       "noun_F_RP RP    noun_F 4.75     $[4.16$, $5.35]$ 15.85     < .001 \n",
       "noun_M_RP       noun_M 4.87     $[4.28$, $5.46]$ 16.23     < .001 \n",
       "verb_X_RP       verb_X 4.36     $[3.77$, $4.95]$ 14.54     < .001 "
      ]
     },
     "metadata": {},
     "output_type": "display_data"
    },
    {
     "data": {
      "text/markdown": [
       "### Paired comparisons for expected marginal means"
      ]
     },
     "metadata": {},
     "output_type": "display_data"
    },
    {
     "data": {
      "text/html": [
       "<table>\n",
       "<caption>A apa_results_table: 18 × 6</caption>\n",
       "<thead>\n",
       "\t<tr><th></th><th scope=col>chan0</th><th scope=col>contrast</th><th scope=col>estimate</th><th scope=col>ci</th><th scope=col>statistic</th><th scope=col>p.value</th></tr>\n",
       "\t<tr><th></th><th scope=col>&lt;chr&gt;</th><th scope=col>&lt;ppj_lbll&gt;</th><th scope=col>&lt;ppj_lbll&gt;</th><th scope=col>&lt;ppj_lbll&gt;</th><th scope=col>&lt;ppj_lbll&gt;</th><th scope=col>&lt;ppj_lbll&gt;</th></tr>\n",
       "</thead>\n",
       "<tbody>\n",
       "\t<tr><th scope=row>LC_noun_F_noun_M</th><td>LC</td><td>noun_F - noun_M</td><td>0.06 </td><td>$[-0.35$, $0.47]$</td><td>0.33 </td><td>.942  </td></tr>\n",
       "\t<tr><th scope=row>LC_noun_F_verb_X</th><td>  </td><td>noun_F - verb_X</td><td>0.55 </td><td>$[0.14$, $0.96]$ </td><td>3.16 </td><td>.005  </td></tr>\n",
       "\t<tr><th scope=row>LC_noun_M_verb_X</th><td>  </td><td>noun_M - verb_X</td><td>0.49 </td><td>$[0.08$, $0.90]$ </td><td>2.83 </td><td>.014  </td></tr>\n",
       "\t<tr><th scope=row>LF_noun_F_noun_M</th><td>LF</td><td>noun_F - noun_M</td><td>0.06 </td><td>$[-0.35$, $0.47]$</td><td>0.36 </td><td>.932  </td></tr>\n",
       "\t<tr><th scope=row>LF_noun_F_verb_X</th><td><span style=white-space:pre-wrap>  </span></td><td>noun_F - verb_X</td><td>0.82 </td><td>$[0.41$, $1.23]$ </td><td>4.71 </td><td>&lt; .001</td></tr>\n",
       "\t<tr><th scope=row>LF_noun_M_verb_X</th><td><span style=white-space:pre-wrap>  </span></td><td>noun_M - verb_X</td><td>0.76 </td><td>$[0.35$, $1.17]$ </td><td>4.36 </td><td>&lt; .001</td></tr>\n",
       "\t<tr><th scope=row>LP_noun_F_noun_M</th><td>LP</td><td>noun_F - noun_M</td><td>-0.16</td><td>$[-0.57$, $0.25]$</td><td>-0.93</td><td>.624  </td></tr>\n",
       "\t<tr><th scope=row>LP_noun_F_verb_X</th><td>  </td><td>noun_F - verb_X</td><td>0.38 </td><td>$[-0.03$, $0.79]$</td><td>2.18 </td><td>.078  </td></tr>\n",
       "\t<tr><th scope=row>LP_noun_M_verb_X</th><td>  </td><td>noun_M - verb_X</td><td>0.54 </td><td>$[0.13$, $0.95]$ </td><td>3.10 </td><td>.006  </td></tr>\n",
       "\t<tr><th scope=row>RC_noun_F_noun_M</th><td>RC</td><td>noun_F - noun_M</td><td>0.07 </td><td>$[-0.35$, $0.48]$</td><td>0.37 </td><td>.925  </td></tr>\n",
       "\t<tr><th scope=row>RC_noun_F_verb_X</th><td>  </td><td>noun_F - verb_X</td><td>0.49 </td><td>$[0.08$, $0.90]$ </td><td>2.82 </td><td>.015  </td></tr>\n",
       "\t<tr><th scope=row>RC_noun_M_verb_X</th><td>  </td><td>noun_M - verb_X</td><td>0.43 </td><td>$[0.01$, $0.84]$ </td><td>2.44 </td><td>.041  </td></tr>\n",
       "\t<tr><th scope=row>RF_noun_F_noun_M</th><td>RF</td><td>noun_F - noun_M</td><td>0.23 </td><td>$[-0.18$, $0.64]$</td><td>1.32 </td><td>.384  </td></tr>\n",
       "\t<tr><th scope=row>RF_noun_F_verb_X</th><td><span style=white-space:pre-wrap>  </span></td><td>noun_F - verb_X</td><td>0.81 </td><td>$[0.40$, $1.22]$ </td><td>4.63 </td><td>&lt; .001</td></tr>\n",
       "\t<tr><th scope=row>RF_noun_M_verb_X</th><td>  </td><td>noun_M - verb_X</td><td>0.58 </td><td>$[0.17$, $0.99]$ </td><td>3.31 </td><td>.003  </td></tr>\n",
       "\t<tr><th scope=row>RP_noun_F_noun_M</th><td>RP</td><td>noun_F - noun_M</td><td>-0.11</td><td>$[-0.52$, $0.30]$</td><td>-0.65</td><td>.794  </td></tr>\n",
       "\t<tr><th scope=row>RP_noun_F_verb_X</th><td>  </td><td>noun_F - verb_X</td><td>0.39 </td><td>$[-0.02$, $0.81]$</td><td>2.26 </td><td>.064  </td></tr>\n",
       "\t<tr><th scope=row>RP_noun_M_verb_X</th><td>  </td><td>noun_M - verb_X</td><td>0.51 </td><td>$[0.10$, $0.92]$ </td><td>2.91 </td><td>.011  </td></tr>\n",
       "</tbody>\n",
       "</table>\n"
      ],
      "text/latex": [
       "A apa\\_results\\_table: 18 × 6\n",
       "\\begin{tabular}{r|llllll}\n",
       "  & chan0 & contrast & estimate & ci & statistic & p.value\\\\\n",
       "  & <chr> & <ppj\\_lbll> & <ppj\\_lbll> & <ppj\\_lbll> & <ppj\\_lbll> & <ppj\\_lbll>\\\\\n",
       "\\hline\n",
       "\tLC\\_noun\\_F\\_noun\\_M & LC & noun\\_F - noun\\_M & 0.06  & \\${[}-0.35\\$, \\$0.47{]}\\$ & 0.33  & .942  \\\\\n",
       "\tLC\\_noun\\_F\\_verb\\_X &    & noun\\_F - verb\\_X & 0.55  & \\${[}0.14\\$, \\$0.96{]}\\$  & 3.16  & .005  \\\\\n",
       "\tLC\\_noun\\_M\\_verb\\_X &    & noun\\_M - verb\\_X & 0.49  & \\${[}0.08\\$, \\$0.90{]}\\$  & 2.83  & .014  \\\\\n",
       "\tLF\\_noun\\_F\\_noun\\_M & LF & noun\\_F - noun\\_M & 0.06  & \\${[}-0.35\\$, \\$0.47{]}\\$ & 0.36  & .932  \\\\\n",
       "\tLF\\_noun\\_F\\_verb\\_X &    & noun\\_F - verb\\_X & 0.82  & \\${[}0.41\\$, \\$1.23{]}\\$  & 4.71  & < .001\\\\\n",
       "\tLF\\_noun\\_M\\_verb\\_X &    & noun\\_M - verb\\_X & 0.76  & \\${[}0.35\\$, \\$1.17{]}\\$  & 4.36  & < .001\\\\\n",
       "\tLP\\_noun\\_F\\_noun\\_M & LP & noun\\_F - noun\\_M & -0.16 & \\${[}-0.57\\$, \\$0.25{]}\\$ & -0.93 & .624  \\\\\n",
       "\tLP\\_noun\\_F\\_verb\\_X &    & noun\\_F - verb\\_X & 0.38  & \\${[}-0.03\\$, \\$0.79{]}\\$ & 2.18  & .078  \\\\\n",
       "\tLP\\_noun\\_M\\_verb\\_X &    & noun\\_M - verb\\_X & 0.54  & \\${[}0.13\\$, \\$0.95{]}\\$  & 3.10  & .006  \\\\\n",
       "\tRC\\_noun\\_F\\_noun\\_M & RC & noun\\_F - noun\\_M & 0.07  & \\${[}-0.35\\$, \\$0.48{]}\\$ & 0.37  & .925  \\\\\n",
       "\tRC\\_noun\\_F\\_verb\\_X &    & noun\\_F - verb\\_X & 0.49  & \\${[}0.08\\$, \\$0.90{]}\\$  & 2.82  & .015  \\\\\n",
       "\tRC\\_noun\\_M\\_verb\\_X &    & noun\\_M - verb\\_X & 0.43  & \\${[}0.01\\$, \\$0.84{]}\\$  & 2.44  & .041  \\\\\n",
       "\tRF\\_noun\\_F\\_noun\\_M & RF & noun\\_F - noun\\_M & 0.23  & \\${[}-0.18\\$, \\$0.64{]}\\$ & 1.32  & .384  \\\\\n",
       "\tRF\\_noun\\_F\\_verb\\_X &    & noun\\_F - verb\\_X & 0.81  & \\${[}0.40\\$, \\$1.22{]}\\$  & 4.63  & < .001\\\\\n",
       "\tRF\\_noun\\_M\\_verb\\_X &    & noun\\_M - verb\\_X & 0.58  & \\${[}0.17\\$, \\$0.99{]}\\$  & 3.31  & .003  \\\\\n",
       "\tRP\\_noun\\_F\\_noun\\_M & RP & noun\\_F - noun\\_M & -0.11 & \\${[}-0.52\\$, \\$0.30{]}\\$ & -0.65 & .794  \\\\\n",
       "\tRP\\_noun\\_F\\_verb\\_X &    & noun\\_F - verb\\_X & 0.39  & \\${[}-0.02\\$, \\$0.81{]}\\$ & 2.26  & .064  \\\\\n",
       "\tRP\\_noun\\_M\\_verb\\_X &    & noun\\_M - verb\\_X & 0.51  & \\${[}0.10\\$, \\$0.92{]}\\$  & 2.91  & .011  \\\\\n",
       "\\end{tabular}\n"
      ],
      "text/markdown": [
       "\n",
       "A apa_results_table: 18 × 6\n",
       "\n",
       "| <!--/--> | chan0 &lt;chr&gt; | contrast &lt;ppj_lbll&gt; | estimate &lt;ppj_lbll&gt; | ci &lt;ppj_lbll&gt; | statistic &lt;ppj_lbll&gt; | p.value &lt;ppj_lbll&gt; |\n",
       "|---|---|---|---|---|---|---|\n",
       "| LC_noun_F_noun_M | LC | noun_F - noun_M | 0.06  | $[-0.35$, $0.47]$ | 0.33  | .942   |\n",
       "| LC_noun_F_verb_X | <!----> | noun_F - verb_X | 0.55  | $[0.14$, $0.96]$  | 3.16  | .005   |\n",
       "| LC_noun_M_verb_X | <!----> | noun_M - verb_X | 0.49  | $[0.08$, $0.90]$  | 2.83  | .014   |\n",
       "| LF_noun_F_noun_M | LF | noun_F - noun_M | 0.06  | $[-0.35$, $0.47]$ | 0.36  | .932   |\n",
       "| LF_noun_F_verb_X | <!----> | noun_F - verb_X | 0.82  | $[0.41$, $1.23]$  | 4.71  | &lt; .001 |\n",
       "| LF_noun_M_verb_X | <!----> | noun_M - verb_X | 0.76  | $[0.35$, $1.17]$  | 4.36  | &lt; .001 |\n",
       "| LP_noun_F_noun_M | LP | noun_F - noun_M | -0.16 | $[-0.57$, $0.25]$ | -0.93 | .624   |\n",
       "| LP_noun_F_verb_X | <!----> | noun_F - verb_X | 0.38  | $[-0.03$, $0.79]$ | 2.18  | .078   |\n",
       "| LP_noun_M_verb_X | <!----> | noun_M - verb_X | 0.54  | $[0.13$, $0.95]$  | 3.10  | .006   |\n",
       "| RC_noun_F_noun_M | RC | noun_F - noun_M | 0.07  | $[-0.35$, $0.48]$ | 0.37  | .925   |\n",
       "| RC_noun_F_verb_X | <!----> | noun_F - verb_X | 0.49  | $[0.08$, $0.90]$  | 2.82  | .015   |\n",
       "| RC_noun_M_verb_X | <!----> | noun_M - verb_X | 0.43  | $[0.01$, $0.84]$  | 2.44  | .041   |\n",
       "| RF_noun_F_noun_M | RF | noun_F - noun_M | 0.23  | $[-0.18$, $0.64]$ | 1.32  | .384   |\n",
       "| RF_noun_F_verb_X | <!----> | noun_F - verb_X | 0.81  | $[0.40$, $1.22]$  | 4.63  | &lt; .001 |\n",
       "| RF_noun_M_verb_X | <!----> | noun_M - verb_X | 0.58  | $[0.17$, $0.99]$  | 3.31  | .003   |\n",
       "| RP_noun_F_noun_M | RP | noun_F - noun_M | -0.11 | $[-0.52$, $0.30]$ | -0.65 | .794   |\n",
       "| RP_noun_F_verb_X | <!----> | noun_F - verb_X | 0.39  | $[-0.02$, $0.81]$ | 2.26  | .064   |\n",
       "| RP_noun_M_verb_X | <!----> | noun_M - verb_X | 0.51  | $[0.10$, $0.92]$  | 2.91  | .011   |\n",
       "\n"
      ],
      "text/plain": [
       "                 chan0 contrast        estimate ci                statistic p.value\n",
       "LC_noun_F_noun_M LC    noun_F - noun_M 0.06     $[-0.35$, $0.47]$ 0.33      .942   \n",
       "LC_noun_F_verb_X       noun_F - verb_X 0.55     $[0.14$, $0.96]$  3.16      .005   \n",
       "LC_noun_M_verb_X       noun_M - verb_X 0.49     $[0.08$, $0.90]$  2.83      .014   \n",
       "LF_noun_F_noun_M LF    noun_F - noun_M 0.06     $[-0.35$, $0.47]$ 0.36      .932   \n",
       "LF_noun_F_verb_X       noun_F - verb_X 0.82     $[0.41$, $1.23]$  4.71      < .001 \n",
       "LF_noun_M_verb_X       noun_M - verb_X 0.76     $[0.35$, $1.17]$  4.36      < .001 \n",
       "LP_noun_F_noun_M LP    noun_F - noun_M -0.16    $[-0.57$, $0.25]$ -0.93     .624   \n",
       "LP_noun_F_verb_X       noun_F - verb_X 0.38     $[-0.03$, $0.79]$ 2.18      .078   \n",
       "LP_noun_M_verb_X       noun_M - verb_X 0.54     $[0.13$, $0.95]$  3.10      .006   \n",
       "RC_noun_F_noun_M RC    noun_F - noun_M 0.07     $[-0.35$, $0.48]$ 0.37      .925   \n",
       "RC_noun_F_verb_X       noun_F - verb_X 0.49     $[0.08$, $0.90]$  2.82      .015   \n",
       "RC_noun_M_verb_X       noun_M - verb_X 0.43     $[0.01$, $0.84]$  2.44      .041   \n",
       "RF_noun_F_noun_M RF    noun_F - noun_M 0.23     $[-0.18$, $0.64]$ 1.32      .384   \n",
       "RF_noun_F_verb_X       noun_F - verb_X 0.81     $[0.40$, $1.22]$  4.63      < .001 \n",
       "RF_noun_M_verb_X       noun_M - verb_X 0.58     $[0.17$, $0.99]$  3.31      .003   \n",
       "RP_noun_F_noun_M RP    noun_F - noun_M -0.11    $[-0.52$, $0.30]$ -0.65     .794   \n",
       "RP_noun_F_verb_X       noun_F - verb_X 0.39     $[-0.02$, $0.81]$ 2.26      .064   \n",
       "RP_noun_M_verb_X       noun_M - verb_X 0.51     $[0.10$, $0.92]$  2.91      .011   "
      ]
     },
     "metadata": {},
     "output_type": "display_data"
    }
   ],
   "source": [
    "IDX <- IDX+1; COND <- CONDS[IDX]\n",
    "data1 <- droplevels(subset(df1, eval(parse(text=COND)))); data1 <- data1[complete.cases(data1),]; done1 <- AOV4(data1,COND)\n",
    "display_markdown(str_c(\"# Condition \",IDX,\" of \",length(CONDS))); display_markdown(done1$info); display_markdown(\"### Table\"); done1$aov_APA$table; display_markdown(\"### Result\"); display_markdown(done1$aov_APA[[\"full_result\"]][[\"cond0\"]]); display_markdown(\"### Summary (all done1, incl. NANs)\"); done1$summary; display_markdown(\"### Expected marginal means\"); done1$emm_APA$table; display_markdown(\"### Paired comparisons for expected marginal means\"); done1$pairs_APA$table"
   ]
  },
  {
   "cell_type": "code",
   "execution_count": 496,
   "metadata": {},
   "outputs": [
    {
     "name": "stderr",
     "output_type": "stream",
     "text": [
      "Warning message:\n",
      "“More than one observation per cell, aggregating the data using mean (i.e, fun_aggregate = mean)!”\n"
     ]
    },
    {
     "data": {
      "text/markdown": [
       "# Condition 6 of 6"
      ]
     },
     "metadata": {},
     "output_type": "display_data"
    },
    {
     "data": {
      "text/markdown": [
       "`tmin0==0.11`"
      ]
     },
     "metadata": {},
     "output_type": "display_data"
    },
    {
     "data": {
      "text/markdown": [
       "### Table"
      ]
     },
     "metadata": {},
     "output_type": "display_data"
    },
    {
     "data": {
      "text/html": [
       "<table>\n",
       "<caption>A apa_results_table: 3 × 7</caption>\n",
       "<thead>\n",
       "\t<tr><th></th><th scope=col>Effect</th><th scope=col>F</th><th scope=col>df1</th><th scope=col>df2</th><th scope=col>MSE</th><th scope=col>p</th><th scope=col>ges</th></tr>\n",
       "\t<tr><th></th><th scope=col>&lt;ppj_lbll&gt;</th><th scope=col>&lt;ppj_lbll&gt;</th><th scope=col>&lt;ppj_lbll&gt;</th><th scope=col>&lt;ppj_lbll&gt;</th><th scope=col>&lt;ppj_lbll&gt;</th><th scope=col>&lt;ppj_lbll&gt;</th><th scope=col>&lt;ppj_lbll&gt;</th></tr>\n",
       "</thead>\n",
       "<tbody>\n",
       "\t<tr><th scope=row>1</th><td>Cond0                </td><td>0.18 </td><td>1.57</td><td>48.78 </td><td>0.88 </td><td>.781  </td><td>.000</td></tr>\n",
       "\t<tr><th scope=row>2</th><td><span style=white-space:pre-wrap>Chan0                </span></td><td>64.46</td><td>1.66</td><td>51.31 </td><td>18.24</td><td>&lt; .001</td><td>.595</td></tr>\n",
       "\t<tr><th scope=row>3</th><td>Cond0 $\\times$ Chan0</td><td>0.61 </td><td>3.84</td><td>119.13</td><td>0.59 </td><td>.652  </td><td>.001</td></tr>\n",
       "</tbody>\n",
       "</table>\n"
      ],
      "text/latex": [
       "A apa\\_results\\_table: 3 × 7\n",
       "\\begin{tabular}{r|lllllll}\n",
       "  & Effect & F & df1 & df2 & MSE & p & ges\\\\\n",
       "  & <ppj\\_lbll> & <ppj\\_lbll> & <ppj\\_lbll> & <ppj\\_lbll> & <ppj\\_lbll> & <ppj\\_lbll> & <ppj\\_lbll>\\\\\n",
       "\\hline\n",
       "\t1 & Cond0                 & 0.18  & 1.57 & 48.78  & 0.88  & .781   & .000\\\\\n",
       "\t2 & Chan0                 & 64.46 & 1.66 & 51.31  & 18.24 & < .001 & .595\\\\\n",
       "\t3 & Cond0 \\$\\textbackslash{}times\\$ Chan0 & 0.61  & 3.84 & 119.13 & 0.59  & .652   & .001\\\\\n",
       "\\end{tabular}\n"
      ],
      "text/markdown": [
       "\n",
       "A apa_results_table: 3 × 7\n",
       "\n",
       "| <!--/--> | Effect &lt;ppj_lbll&gt; | F &lt;ppj_lbll&gt; | df1 &lt;ppj_lbll&gt; | df2 &lt;ppj_lbll&gt; | MSE &lt;ppj_lbll&gt; | p &lt;ppj_lbll&gt; | ges &lt;ppj_lbll&gt; |\n",
       "|---|---|---|---|---|---|---|---|\n",
       "| 1 | Cond0                 | 0.18  | 1.57 | 48.78  | 0.88  | .781   | .000 |\n",
       "| 2 | Chan0                 | 64.46 | 1.66 | 51.31  | 18.24 | &lt; .001 | .595 |\n",
       "| 3 | Cond0 $\\times$ Chan0 | 0.61  | 3.84 | 119.13 | 0.59  | .652   | .001 |\n",
       "\n"
      ],
      "text/plain": [
       "  Effect                F     df1  df2    MSE   p      ges \n",
       "1 Cond0                 0.18  1.57 48.78  0.88  .781   .000\n",
       "2 Chan0                 64.46 1.66 51.31  18.24 < .001 .595\n",
       "3 Cond0 $\\\\times$ Chan0 0.61  3.84 119.13 0.59  .652   .001"
      ]
     },
     "metadata": {},
     "output_type": "display_data"
    },
    {
     "data": {
      "text/markdown": [
       "### Result"
      ]
     },
     "metadata": {},
     "output_type": "display_data"
    },
    {
     "data": {
      "text/markdown": [
       "$F(1.57, 48.78) = 0.18$, $\\mathit{MSE} = 0.88$, $p = .781$, $\\hat{\\eta}^2_G = .000$"
      ]
     },
     "metadata": {},
     "output_type": "display_data"
    },
    {
     "data": {
      "text/markdown": [
       "### Summary (all done1, incl. NANs)"
      ]
     },
     "metadata": {},
     "output_type": "display_data"
    },
    {
     "data": {
      "text/html": [
       "<table>\n",
       "<caption>A tibble: 3 × 5</caption>\n",
       "<thead>\n",
       "\t<tr><th scope=col>cond0</th><th scope=col>N</th><th scope=col>valX_M</th><th scope=col>valX_SD</th><th scope=col>valX_SE</th></tr>\n",
       "\t<tr><th scope=col>&lt;fct&gt;</th><th scope=col>&lt;int&gt;</th><th scope=col>&lt;dbl&gt;</th><th scope=col>&lt;dbl&gt;</th><th scope=col>&lt;dbl&gt;</th></tr>\n",
       "</thead>\n",
       "<tbody>\n",
       "\t<tr><td>noun_F</td><td>4608</td><td>-0.043656924</td><td>2.921096</td><td>0.04303181</td></tr>\n",
       "\t<tr><td>noun_M</td><td>4608</td><td>-0.012993300</td><td>2.994579</td><td>0.04411432</td></tr>\n",
       "\t<tr><td>verb_X</td><td>4608</td><td> 0.007313765</td><td>2.740240</td><td>0.04036755</td></tr>\n",
       "</tbody>\n",
       "</table>\n"
      ],
      "text/latex": [
       "A tibble: 3 × 5\n",
       "\\begin{tabular}{lllll}\n",
       " cond0 & N & valX\\_M & valX\\_SD & valX\\_SE\\\\\n",
       " <fct> & <int> & <dbl> & <dbl> & <dbl>\\\\\n",
       "\\hline\n",
       "\t noun\\_F & 4608 & -0.043656924 & 2.921096 & 0.04303181\\\\\n",
       "\t noun\\_M & 4608 & -0.012993300 & 2.994579 & 0.04411432\\\\\n",
       "\t verb\\_X & 4608 &  0.007313765 & 2.740240 & 0.04036755\\\\\n",
       "\\end{tabular}\n"
      ],
      "text/markdown": [
       "\n",
       "A tibble: 3 × 5\n",
       "\n",
       "| cond0 &lt;fct&gt; | N &lt;int&gt; | valX_M &lt;dbl&gt; | valX_SD &lt;dbl&gt; | valX_SE &lt;dbl&gt; |\n",
       "|---|---|---|---|---|\n",
       "| noun_F | 4608 | -0.043656924 | 2.921096 | 0.04303181 |\n",
       "| noun_M | 4608 | -0.012993300 | 2.994579 | 0.04411432 |\n",
       "| verb_X | 4608 |  0.007313765 | 2.740240 | 0.04036755 |\n",
       "\n"
      ],
      "text/plain": [
       "  cond0  N    valX_M       valX_SD  valX_SE   \n",
       "1 noun_F 4608 -0.043656924 2.921096 0.04303181\n",
       "2 noun_M 4608 -0.012993300 2.994579 0.04411432\n",
       "3 verb_X 4608  0.007313765 2.740240 0.04036755"
      ]
     },
     "metadata": {},
     "output_type": "display_data"
    },
    {
     "data": {
      "text/markdown": [
       "### Expected marginal means"
      ]
     },
     "metadata": {},
     "output_type": "display_data"
    },
    {
     "data": {
      "text/html": [
       "<table>\n",
       "<caption>A apa_results_table: 18 × 6</caption>\n",
       "<thead>\n",
       "\t<tr><th></th><th scope=col>chan0</th><th scope=col>cond0</th><th scope=col>estimate</th><th scope=col>ci</th><th scope=col>statistic</th><th scope=col>p.value</th></tr>\n",
       "\t<tr><th></th><th scope=col>&lt;chr&gt;</th><th scope=col>&lt;chr&gt;</th><th scope=col>&lt;ppj_lbll&gt;</th><th scope=col>&lt;ppj_lbll&gt;</th><th scope=col>&lt;ppj_lbll&gt;</th><th scope=col>&lt;ppj_lbll&gt;</th></tr>\n",
       "</thead>\n",
       "<tbody>\n",
       "\t<tr><th scope=row>noun_F_LC</th><td>LC</td><td>noun_F</td><td>-0.53</td><td>$[-1.07$, $0.00]$ </td><td>-1.96</td><td>.052  </td></tr>\n",
       "\t<tr><th scope=row>noun_M_LC</th><td>  </td><td>noun_M</td><td>-0.68</td><td>$[-1.22$, $-0.14]$</td><td>-2.49</td><td>.013  </td></tr>\n",
       "\t<tr><th scope=row>verb_X_LC</th><td>  </td><td>verb_X</td><td>-0.60</td><td>$[-1.14$, $-0.06]$</td><td>-2.20</td><td>.029  </td></tr>\n",
       "\t<tr><th scope=row>noun_F_LF</th><td>LF</td><td>noun_F</td><td>-2.13</td><td>$[-2.67$, $-1.59]$</td><td>-7.82</td><td>&lt; .001</td></tr>\n",
       "\t<tr><th scope=row>noun_M_LF</th><td><span style=white-space:pre-wrap>  </span></td><td>noun_M</td><td>-2.01</td><td>$[-2.55$, $-1.47]$</td><td>-7.38</td><td>&lt; .001</td></tr>\n",
       "\t<tr><th scope=row>verb_X_LF</th><td><span style=white-space:pre-wrap>  </span></td><td>verb_X</td><td>-2.08</td><td>$[-2.62$, $-1.55]$</td><td>-7.65</td><td>&lt; .001</td></tr>\n",
       "\t<tr><th scope=row>noun_F_LP</th><td>LP</td><td>noun_F</td><td>2.06 </td><td><span style=white-space:pre-wrap>$[1.52$, $2.59]$  </span></td><td>7.55 </td><td>&lt; .001</td></tr>\n",
       "\t<tr><th scope=row>noun_M_LP</th><td><span style=white-space:pre-wrap>  </span></td><td>noun_M</td><td>2.01 </td><td><span style=white-space:pre-wrap>$[1.47$, $2.54]$  </span></td><td>7.36 </td><td>&lt; .001</td></tr>\n",
       "\t<tr><th scope=row>verb_X_LP</th><td><span style=white-space:pre-wrap>  </span></td><td>verb_X</td><td>1.99 </td><td><span style=white-space:pre-wrap>$[1.46$, $2.53]$  </span></td><td>7.32 </td><td>&lt; .001</td></tr>\n",
       "\t<tr><th scope=row>noun_F_RC</th><td>RC</td><td>noun_F</td><td>-0.25</td><td>$[-0.78$, $0.29]$ </td><td>-0.90</td><td>.368  </td></tr>\n",
       "\t<tr><th scope=row>noun_M_RC</th><td>  </td><td>noun_M</td><td>-0.16</td><td>$[-0.70$, $0.37]$ </td><td>-0.60</td><td>.546  </td></tr>\n",
       "\t<tr><th scope=row>verb_X_RC</th><td>  </td><td>verb_X</td><td>-0.09</td><td>$[-0.63$, $0.45]$ </td><td>-0.33</td><td>.741  </td></tr>\n",
       "\t<tr><th scope=row>noun_F_RF</th><td>RF</td><td>noun_F</td><td>-2.10</td><td>$[-2.64$, $-1.56]$</td><td>-7.71</td><td>&lt; .001</td></tr>\n",
       "\t<tr><th scope=row>noun_M_RF</th><td><span style=white-space:pre-wrap>  </span></td><td>noun_M</td><td>-1.95</td><td>$[-2.49$, $-1.41]$</td><td>-7.16</td><td>&lt; .001</td></tr>\n",
       "\t<tr><th scope=row>verb_X_RF</th><td><span style=white-space:pre-wrap>  </span></td><td>verb_X</td><td>-1.97</td><td>$[-2.51$, $-1.43]$</td><td>-7.23</td><td>&lt; .001</td></tr>\n",
       "\t<tr><th scope=row>noun_F_RP</th><td>RP</td><td>noun_F</td><td>2.69 </td><td><span style=white-space:pre-wrap>$[2.15$, $3.23]$  </span></td><td>9.88 </td><td>&lt; .001</td></tr>\n",
       "\t<tr><th scope=row>noun_M_RP</th><td><span style=white-space:pre-wrap>  </span></td><td>noun_M</td><td>2.72 </td><td><span style=white-space:pre-wrap>$[2.18$, $3.26]$  </span></td><td>9.99 </td><td>&lt; .001</td></tr>\n",
       "\t<tr><th scope=row>verb_X_RP</th><td><span style=white-space:pre-wrap>  </span></td><td>verb_X</td><td>2.79 </td><td><span style=white-space:pre-wrap>$[2.26$, $3.33]$  </span></td><td>10.25</td><td>&lt; .001</td></tr>\n",
       "</tbody>\n",
       "</table>\n"
      ],
      "text/latex": [
       "A apa\\_results\\_table: 18 × 6\n",
       "\\begin{tabular}{r|llllll}\n",
       "  & chan0 & cond0 & estimate & ci & statistic & p.value\\\\\n",
       "  & <chr> & <chr> & <ppj\\_lbll> & <ppj\\_lbll> & <ppj\\_lbll> & <ppj\\_lbll>\\\\\n",
       "\\hline\n",
       "\tnoun\\_F\\_LC & LC & noun\\_F & -0.53 & \\${[}-1.07\\$, \\$0.00{]}\\$  & -1.96 & .052  \\\\\n",
       "\tnoun\\_M\\_LC &    & noun\\_M & -0.68 & \\${[}-1.22\\$, \\$-0.14{]}\\$ & -2.49 & .013  \\\\\n",
       "\tverb\\_X\\_LC &    & verb\\_X & -0.60 & \\${[}-1.14\\$, \\$-0.06{]}\\$ & -2.20 & .029  \\\\\n",
       "\tnoun\\_F\\_LF & LF & noun\\_F & -2.13 & \\${[}-2.67\\$, \\$-1.59{]}\\$ & -7.82 & < .001\\\\\n",
       "\tnoun\\_M\\_LF &    & noun\\_M & -2.01 & \\${[}-2.55\\$, \\$-1.47{]}\\$ & -7.38 & < .001\\\\\n",
       "\tverb\\_X\\_LF &    & verb\\_X & -2.08 & \\${[}-2.62\\$, \\$-1.55{]}\\$ & -7.65 & < .001\\\\\n",
       "\tnoun\\_F\\_LP & LP & noun\\_F & 2.06  & \\${[}1.52\\$, \\$2.59{]}\\$   & 7.55  & < .001\\\\\n",
       "\tnoun\\_M\\_LP &    & noun\\_M & 2.01  & \\${[}1.47\\$, \\$2.54{]}\\$   & 7.36  & < .001\\\\\n",
       "\tverb\\_X\\_LP &    & verb\\_X & 1.99  & \\${[}1.46\\$, \\$2.53{]}\\$   & 7.32  & < .001\\\\\n",
       "\tnoun\\_F\\_RC & RC & noun\\_F & -0.25 & \\${[}-0.78\\$, \\$0.29{]}\\$  & -0.90 & .368  \\\\\n",
       "\tnoun\\_M\\_RC &    & noun\\_M & -0.16 & \\${[}-0.70\\$, \\$0.37{]}\\$  & -0.60 & .546  \\\\\n",
       "\tverb\\_X\\_RC &    & verb\\_X & -0.09 & \\${[}-0.63\\$, \\$0.45{]}\\$  & -0.33 & .741  \\\\\n",
       "\tnoun\\_F\\_RF & RF & noun\\_F & -2.10 & \\${[}-2.64\\$, \\$-1.56{]}\\$ & -7.71 & < .001\\\\\n",
       "\tnoun\\_M\\_RF &    & noun\\_M & -1.95 & \\${[}-2.49\\$, \\$-1.41{]}\\$ & -7.16 & < .001\\\\\n",
       "\tverb\\_X\\_RF &    & verb\\_X & -1.97 & \\${[}-2.51\\$, \\$-1.43{]}\\$ & -7.23 & < .001\\\\\n",
       "\tnoun\\_F\\_RP & RP & noun\\_F & 2.69  & \\${[}2.15\\$, \\$3.23{]}\\$   & 9.88  & < .001\\\\\n",
       "\tnoun\\_M\\_RP &    & noun\\_M & 2.72  & \\${[}2.18\\$, \\$3.26{]}\\$   & 9.99  & < .001\\\\\n",
       "\tverb\\_X\\_RP &    & verb\\_X & 2.79  & \\${[}2.26\\$, \\$3.33{]}\\$   & 10.25 & < .001\\\\\n",
       "\\end{tabular}\n"
      ],
      "text/markdown": [
       "\n",
       "A apa_results_table: 18 × 6\n",
       "\n",
       "| <!--/--> | chan0 &lt;chr&gt; | cond0 &lt;chr&gt; | estimate &lt;ppj_lbll&gt; | ci &lt;ppj_lbll&gt; | statistic &lt;ppj_lbll&gt; | p.value &lt;ppj_lbll&gt; |\n",
       "|---|---|---|---|---|---|---|\n",
       "| noun_F_LC | LC | noun_F | -0.53 | $[-1.07$, $0.00]$  | -1.96 | .052   |\n",
       "| noun_M_LC | <!----> | noun_M | -0.68 | $[-1.22$, $-0.14]$ | -2.49 | .013   |\n",
       "| verb_X_LC | <!----> | verb_X | -0.60 | $[-1.14$, $-0.06]$ | -2.20 | .029   |\n",
       "| noun_F_LF | LF | noun_F | -2.13 | $[-2.67$, $-1.59]$ | -7.82 | &lt; .001 |\n",
       "| noun_M_LF | <!----> | noun_M | -2.01 | $[-2.55$, $-1.47]$ | -7.38 | &lt; .001 |\n",
       "| verb_X_LF | <!----> | verb_X | -2.08 | $[-2.62$, $-1.55]$ | -7.65 | &lt; .001 |\n",
       "| noun_F_LP | LP | noun_F | 2.06  | $[1.52$, $2.59]$   | 7.55  | &lt; .001 |\n",
       "| noun_M_LP | <!----> | noun_M | 2.01  | $[1.47$, $2.54]$   | 7.36  | &lt; .001 |\n",
       "| verb_X_LP | <!----> | verb_X | 1.99  | $[1.46$, $2.53]$   | 7.32  | &lt; .001 |\n",
       "| noun_F_RC | RC | noun_F | -0.25 | $[-0.78$, $0.29]$  | -0.90 | .368   |\n",
       "| noun_M_RC | <!----> | noun_M | -0.16 | $[-0.70$, $0.37]$  | -0.60 | .546   |\n",
       "| verb_X_RC | <!----> | verb_X | -0.09 | $[-0.63$, $0.45]$  | -0.33 | .741   |\n",
       "| noun_F_RF | RF | noun_F | -2.10 | $[-2.64$, $-1.56]$ | -7.71 | &lt; .001 |\n",
       "| noun_M_RF | <!----> | noun_M | -1.95 | $[-2.49$, $-1.41]$ | -7.16 | &lt; .001 |\n",
       "| verb_X_RF | <!----> | verb_X | -1.97 | $[-2.51$, $-1.43]$ | -7.23 | &lt; .001 |\n",
       "| noun_F_RP | RP | noun_F | 2.69  | $[2.15$, $3.23]$   | 9.88  | &lt; .001 |\n",
       "| noun_M_RP | <!----> | noun_M | 2.72  | $[2.18$, $3.26]$   | 9.99  | &lt; .001 |\n",
       "| verb_X_RP | <!----> | verb_X | 2.79  | $[2.26$, $3.33]$   | 10.25 | &lt; .001 |\n",
       "\n"
      ],
      "text/plain": [
       "          chan0 cond0  estimate ci                 statistic p.value\n",
       "noun_F_LC LC    noun_F -0.53    $[-1.07$, $0.00]$  -1.96     .052   \n",
       "noun_M_LC       noun_M -0.68    $[-1.22$, $-0.14]$ -2.49     .013   \n",
       "verb_X_LC       verb_X -0.60    $[-1.14$, $-0.06]$ -2.20     .029   \n",
       "noun_F_LF LF    noun_F -2.13    $[-2.67$, $-1.59]$ -7.82     < .001 \n",
       "noun_M_LF       noun_M -2.01    $[-2.55$, $-1.47]$ -7.38     < .001 \n",
       "verb_X_LF       verb_X -2.08    $[-2.62$, $-1.55]$ -7.65     < .001 \n",
       "noun_F_LP LP    noun_F 2.06     $[1.52$, $2.59]$   7.55      < .001 \n",
       "noun_M_LP       noun_M 2.01     $[1.47$, $2.54]$   7.36      < .001 \n",
       "verb_X_LP       verb_X 1.99     $[1.46$, $2.53]$   7.32      < .001 \n",
       "noun_F_RC RC    noun_F -0.25    $[-0.78$, $0.29]$  -0.90     .368   \n",
       "noun_M_RC       noun_M -0.16    $[-0.70$, $0.37]$  -0.60     .546   \n",
       "verb_X_RC       verb_X -0.09    $[-0.63$, $0.45]$  -0.33     .741   \n",
       "noun_F_RF RF    noun_F -2.10    $[-2.64$, $-1.56]$ -7.71     < .001 \n",
       "noun_M_RF       noun_M -1.95    $[-2.49$, $-1.41]$ -7.16     < .001 \n",
       "verb_X_RF       verb_X -1.97    $[-2.51$, $-1.43]$ -7.23     < .001 \n",
       "noun_F_RP RP    noun_F 2.69     $[2.15$, $3.23]$   9.88      < .001 \n",
       "noun_M_RP       noun_M 2.72     $[2.18$, $3.26]$   9.99      < .001 \n",
       "verb_X_RP       verb_X 2.79     $[2.26$, $3.33]$   10.25     < .001 "
      ]
     },
     "metadata": {},
     "output_type": "display_data"
    },
    {
     "data": {
      "text/markdown": [
       "### Paired comparisons for expected marginal means"
      ]
     },
     "metadata": {},
     "output_type": "display_data"
    },
    {
     "data": {
      "text/html": [
       "<table>\n",
       "<caption>A apa_results_table: 18 × 6</caption>\n",
       "<thead>\n",
       "\t<tr><th></th><th scope=col>chan0</th><th scope=col>contrast</th><th scope=col>estimate</th><th scope=col>ci</th><th scope=col>statistic</th><th scope=col>p.value</th></tr>\n",
       "\t<tr><th></th><th scope=col>&lt;chr&gt;</th><th scope=col>&lt;ppj_lbll&gt;</th><th scope=col>&lt;ppj_lbll&gt;</th><th scope=col>&lt;ppj_lbll&gt;</th><th scope=col>&lt;ppj_lbll&gt;</th><th scope=col>&lt;ppj_lbll&gt;</th></tr>\n",
       "</thead>\n",
       "<tbody>\n",
       "\t<tr><th scope=row>LC_noun_F_noun_M</th><td>LC</td><td>noun_F - noun_M</td><td>0.15 </td><td>$[-0.18$, $0.47]$</td><td>1.06 </td><td>.541</td></tr>\n",
       "\t<tr><th scope=row>LC_noun_F_verb_X</th><td>  </td><td>noun_F - verb_X</td><td>0.07 </td><td>$[-0.26$, $0.39]$</td><td>0.48 </td><td>.879</td></tr>\n",
       "\t<tr><th scope=row>LC_noun_M_verb_X</th><td>  </td><td>noun_M - verb_X</td><td>-0.08</td><td>$[-0.40$, $0.25]$</td><td>-0.57</td><td>.834</td></tr>\n",
       "\t<tr><th scope=row>LF_noun_F_noun_M</th><td>LF</td><td>noun_F - noun_M</td><td>-0.12</td><td>$[-0.45$, $0.20]$</td><td>-0.88</td><td>.653</td></tr>\n",
       "\t<tr><th scope=row>LF_noun_F_verb_X</th><td>  </td><td>noun_F - verb_X</td><td>-0.05</td><td>$[-0.37$, $0.28]$</td><td>-0.35</td><td>.935</td></tr>\n",
       "\t<tr><th scope=row>LF_noun_M_verb_X</th><td>  </td><td>noun_M - verb_X</td><td>0.07 </td><td>$[-0.25$, $0.40]$</td><td>0.53 </td><td>.857</td></tr>\n",
       "\t<tr><th scope=row>LP_noun_F_noun_M</th><td>LP</td><td>noun_F - noun_M</td><td>0.05 </td><td>$[-0.27$, $0.38]$</td><td>0.37 </td><td>.928</td></tr>\n",
       "\t<tr><th scope=row>LP_noun_F_verb_X</th><td>  </td><td>noun_F - verb_X</td><td>0.06 </td><td>$[-0.26$, $0.39]$</td><td>0.45 </td><td>.893</td></tr>\n",
       "\t<tr><th scope=row>LP_noun_M_verb_X</th><td>  </td><td>noun_M - verb_X</td><td>0.01 </td><td>$[-0.31$, $0.34]$</td><td>0.08 </td><td>.996</td></tr>\n",
       "\t<tr><th scope=row>RC_noun_F_noun_M</th><td>RC</td><td>noun_F - noun_M</td><td>-0.08</td><td>$[-0.41$, $0.24]$</td><td>-0.59</td><td>.826</td></tr>\n",
       "\t<tr><th scope=row>RC_noun_F_verb_X</th><td>  </td><td>noun_F - verb_X</td><td>-0.16</td><td>$[-0.48$, $0.17]$</td><td>-1.13</td><td>.495</td></tr>\n",
       "\t<tr><th scope=row>RC_noun_M_verb_X</th><td>  </td><td>noun_M - verb_X</td><td>-0.07</td><td>$[-0.40$, $0.25]$</td><td>-0.54</td><td>.850</td></tr>\n",
       "\t<tr><th scope=row>RF_noun_F_noun_M</th><td>RF</td><td>noun_F - noun_M</td><td>-0.15</td><td>$[-0.47$, $0.18]$</td><td>-1.07</td><td>.531</td></tr>\n",
       "\t<tr><th scope=row>RF_noun_F_verb_X</th><td>  </td><td>noun_F - verb_X</td><td>-0.13</td><td>$[-0.45$, $0.19]$</td><td>-0.94</td><td>.614</td></tr>\n",
       "\t<tr><th scope=row>RF_noun_M_verb_X</th><td>  </td><td>noun_M - verb_X</td><td>0.02 </td><td>$[-0.31$, $0.34]$</td><td>0.13 </td><td>.991</td></tr>\n",
       "\t<tr><th scope=row>RP_noun_F_noun_M</th><td>RP</td><td>noun_F - noun_M</td><td>-0.03</td><td>$[-0.35$, $0.29]$</td><td>-0.22</td><td>.974</td></tr>\n",
       "\t<tr><th scope=row>RP_noun_F_verb_X</th><td>  </td><td>noun_F - verb_X</td><td>-0.10</td><td>$[-0.43$, $0.22]$</td><td>-0.73</td><td>.745</td></tr>\n",
       "\t<tr><th scope=row>RP_noun_M_verb_X</th><td>  </td><td>noun_M - verb_X</td><td>-0.07</td><td>$[-0.40$, $0.25]$</td><td>-0.51</td><td>.864</td></tr>\n",
       "</tbody>\n",
       "</table>\n"
      ],
      "text/latex": [
       "A apa\\_results\\_table: 18 × 6\n",
       "\\begin{tabular}{r|llllll}\n",
       "  & chan0 & contrast & estimate & ci & statistic & p.value\\\\\n",
       "  & <chr> & <ppj\\_lbll> & <ppj\\_lbll> & <ppj\\_lbll> & <ppj\\_lbll> & <ppj\\_lbll>\\\\\n",
       "\\hline\n",
       "\tLC\\_noun\\_F\\_noun\\_M & LC & noun\\_F - noun\\_M & 0.15  & \\${[}-0.18\\$, \\$0.47{]}\\$ & 1.06  & .541\\\\\n",
       "\tLC\\_noun\\_F\\_verb\\_X &    & noun\\_F - verb\\_X & 0.07  & \\${[}-0.26\\$, \\$0.39{]}\\$ & 0.48  & .879\\\\\n",
       "\tLC\\_noun\\_M\\_verb\\_X &    & noun\\_M - verb\\_X & -0.08 & \\${[}-0.40\\$, \\$0.25{]}\\$ & -0.57 & .834\\\\\n",
       "\tLF\\_noun\\_F\\_noun\\_M & LF & noun\\_F - noun\\_M & -0.12 & \\${[}-0.45\\$, \\$0.20{]}\\$ & -0.88 & .653\\\\\n",
       "\tLF\\_noun\\_F\\_verb\\_X &    & noun\\_F - verb\\_X & -0.05 & \\${[}-0.37\\$, \\$0.28{]}\\$ & -0.35 & .935\\\\\n",
       "\tLF\\_noun\\_M\\_verb\\_X &    & noun\\_M - verb\\_X & 0.07  & \\${[}-0.25\\$, \\$0.40{]}\\$ & 0.53  & .857\\\\\n",
       "\tLP\\_noun\\_F\\_noun\\_M & LP & noun\\_F - noun\\_M & 0.05  & \\${[}-0.27\\$, \\$0.38{]}\\$ & 0.37  & .928\\\\\n",
       "\tLP\\_noun\\_F\\_verb\\_X &    & noun\\_F - verb\\_X & 0.06  & \\${[}-0.26\\$, \\$0.39{]}\\$ & 0.45  & .893\\\\\n",
       "\tLP\\_noun\\_M\\_verb\\_X &    & noun\\_M - verb\\_X & 0.01  & \\${[}-0.31\\$, \\$0.34{]}\\$ & 0.08  & .996\\\\\n",
       "\tRC\\_noun\\_F\\_noun\\_M & RC & noun\\_F - noun\\_M & -0.08 & \\${[}-0.41\\$, \\$0.24{]}\\$ & -0.59 & .826\\\\\n",
       "\tRC\\_noun\\_F\\_verb\\_X &    & noun\\_F - verb\\_X & -0.16 & \\${[}-0.48\\$, \\$0.17{]}\\$ & -1.13 & .495\\\\\n",
       "\tRC\\_noun\\_M\\_verb\\_X &    & noun\\_M - verb\\_X & -0.07 & \\${[}-0.40\\$, \\$0.25{]}\\$ & -0.54 & .850\\\\\n",
       "\tRF\\_noun\\_F\\_noun\\_M & RF & noun\\_F - noun\\_M & -0.15 & \\${[}-0.47\\$, \\$0.18{]}\\$ & -1.07 & .531\\\\\n",
       "\tRF\\_noun\\_F\\_verb\\_X &    & noun\\_F - verb\\_X & -0.13 & \\${[}-0.45\\$, \\$0.19{]}\\$ & -0.94 & .614\\\\\n",
       "\tRF\\_noun\\_M\\_verb\\_X &    & noun\\_M - verb\\_X & 0.02  & \\${[}-0.31\\$, \\$0.34{]}\\$ & 0.13  & .991\\\\\n",
       "\tRP\\_noun\\_F\\_noun\\_M & RP & noun\\_F - noun\\_M & -0.03 & \\${[}-0.35\\$, \\$0.29{]}\\$ & -0.22 & .974\\\\\n",
       "\tRP\\_noun\\_F\\_verb\\_X &    & noun\\_F - verb\\_X & -0.10 & \\${[}-0.43\\$, \\$0.22{]}\\$ & -0.73 & .745\\\\\n",
       "\tRP\\_noun\\_M\\_verb\\_X &    & noun\\_M - verb\\_X & -0.07 & \\${[}-0.40\\$, \\$0.25{]}\\$ & -0.51 & .864\\\\\n",
       "\\end{tabular}\n"
      ],
      "text/markdown": [
       "\n",
       "A apa_results_table: 18 × 6\n",
       "\n",
       "| <!--/--> | chan0 &lt;chr&gt; | contrast &lt;ppj_lbll&gt; | estimate &lt;ppj_lbll&gt; | ci &lt;ppj_lbll&gt; | statistic &lt;ppj_lbll&gt; | p.value &lt;ppj_lbll&gt; |\n",
       "|---|---|---|---|---|---|---|\n",
       "| LC_noun_F_noun_M | LC | noun_F - noun_M | 0.15  | $[-0.18$, $0.47]$ | 1.06  | .541 |\n",
       "| LC_noun_F_verb_X | <!----> | noun_F - verb_X | 0.07  | $[-0.26$, $0.39]$ | 0.48  | .879 |\n",
       "| LC_noun_M_verb_X | <!----> | noun_M - verb_X | -0.08 | $[-0.40$, $0.25]$ | -0.57 | .834 |\n",
       "| LF_noun_F_noun_M | LF | noun_F - noun_M | -0.12 | $[-0.45$, $0.20]$ | -0.88 | .653 |\n",
       "| LF_noun_F_verb_X | <!----> | noun_F - verb_X | -0.05 | $[-0.37$, $0.28]$ | -0.35 | .935 |\n",
       "| LF_noun_M_verb_X | <!----> | noun_M - verb_X | 0.07  | $[-0.25$, $0.40]$ | 0.53  | .857 |\n",
       "| LP_noun_F_noun_M | LP | noun_F - noun_M | 0.05  | $[-0.27$, $0.38]$ | 0.37  | .928 |\n",
       "| LP_noun_F_verb_X | <!----> | noun_F - verb_X | 0.06  | $[-0.26$, $0.39]$ | 0.45  | .893 |\n",
       "| LP_noun_M_verb_X | <!----> | noun_M - verb_X | 0.01  | $[-0.31$, $0.34]$ | 0.08  | .996 |\n",
       "| RC_noun_F_noun_M | RC | noun_F - noun_M | -0.08 | $[-0.41$, $0.24]$ | -0.59 | .826 |\n",
       "| RC_noun_F_verb_X | <!----> | noun_F - verb_X | -0.16 | $[-0.48$, $0.17]$ | -1.13 | .495 |\n",
       "| RC_noun_M_verb_X | <!----> | noun_M - verb_X | -0.07 | $[-0.40$, $0.25]$ | -0.54 | .850 |\n",
       "| RF_noun_F_noun_M | RF | noun_F - noun_M | -0.15 | $[-0.47$, $0.18]$ | -1.07 | .531 |\n",
       "| RF_noun_F_verb_X | <!----> | noun_F - verb_X | -0.13 | $[-0.45$, $0.19]$ | -0.94 | .614 |\n",
       "| RF_noun_M_verb_X | <!----> | noun_M - verb_X | 0.02  | $[-0.31$, $0.34]$ | 0.13  | .991 |\n",
       "| RP_noun_F_noun_M | RP | noun_F - noun_M | -0.03 | $[-0.35$, $0.29]$ | -0.22 | .974 |\n",
       "| RP_noun_F_verb_X | <!----> | noun_F - verb_X | -0.10 | $[-0.43$, $0.22]$ | -0.73 | .745 |\n",
       "| RP_noun_M_verb_X | <!----> | noun_M - verb_X | -0.07 | $[-0.40$, $0.25]$ | -0.51 | .864 |\n",
       "\n"
      ],
      "text/plain": [
       "                 chan0 contrast        estimate ci                statistic p.value\n",
       "LC_noun_F_noun_M LC    noun_F - noun_M 0.15     $[-0.18$, $0.47]$ 1.06      .541   \n",
       "LC_noun_F_verb_X       noun_F - verb_X 0.07     $[-0.26$, $0.39]$ 0.48      .879   \n",
       "LC_noun_M_verb_X       noun_M - verb_X -0.08    $[-0.40$, $0.25]$ -0.57     .834   \n",
       "LF_noun_F_noun_M LF    noun_F - noun_M -0.12    $[-0.45$, $0.20]$ -0.88     .653   \n",
       "LF_noun_F_verb_X       noun_F - verb_X -0.05    $[-0.37$, $0.28]$ -0.35     .935   \n",
       "LF_noun_M_verb_X       noun_M - verb_X 0.07     $[-0.25$, $0.40]$ 0.53      .857   \n",
       "LP_noun_F_noun_M LP    noun_F - noun_M 0.05     $[-0.27$, $0.38]$ 0.37      .928   \n",
       "LP_noun_F_verb_X       noun_F - verb_X 0.06     $[-0.26$, $0.39]$ 0.45      .893   \n",
       "LP_noun_M_verb_X       noun_M - verb_X 0.01     $[-0.31$, $0.34]$ 0.08      .996   \n",
       "RC_noun_F_noun_M RC    noun_F - noun_M -0.08    $[-0.41$, $0.24]$ -0.59     .826   \n",
       "RC_noun_F_verb_X       noun_F - verb_X -0.16    $[-0.48$, $0.17]$ -1.13     .495   \n",
       "RC_noun_M_verb_X       noun_M - verb_X -0.07    $[-0.40$, $0.25]$ -0.54     .850   \n",
       "RF_noun_F_noun_M RF    noun_F - noun_M -0.15    $[-0.47$, $0.18]$ -1.07     .531   \n",
       "RF_noun_F_verb_X       noun_F - verb_X -0.13    $[-0.45$, $0.19]$ -0.94     .614   \n",
       "RF_noun_M_verb_X       noun_M - verb_X 0.02     $[-0.31$, $0.34]$ 0.13      .991   \n",
       "RP_noun_F_noun_M RP    noun_F - noun_M -0.03    $[-0.35$, $0.29]$ -0.22     .974   \n",
       "RP_noun_F_verb_X       noun_F - verb_X -0.10    $[-0.43$, $0.22]$ -0.73     .745   \n",
       "RP_noun_M_verb_X       noun_M - verb_X -0.07    $[-0.40$, $0.25]$ -0.51     .864   "
      ]
     },
     "metadata": {},
     "output_type": "display_data"
    }
   ],
   "source": [
    "IDX <- IDX+1; COND <- CONDS[IDX]\n",
    "data1 <- droplevels(subset(df1, eval(parse(text=COND)))); data1 <- data1[complete.cases(data1),]; done1 <- AOV4(data1,COND)\n",
    "display_markdown(str_c(\"# Condition \",IDX,\" of \",length(CONDS))); display_markdown(done1$info); display_markdown(\"### Table\"); done1$aov_APA$table; display_markdown(\"### Result\"); display_markdown(done1$aov_APA[[\"full_result\"]][[\"cond0\"]]); display_markdown(\"### Summary (all done1, incl. NANs)\"); done1$summary; display_markdown(\"### Expected marginal means\"); done1$emm_APA$table; display_markdown(\"### Paired comparisons for expected marginal means\"); done1$pairs_APA$table"
   ]
  },
  {
   "cell_type": "code",
   "execution_count": null,
   "metadata": {},
   "outputs": [],
   "source": []
  },
  {
   "cell_type": "code",
   "execution_count": null,
   "metadata": {},
   "outputs": [],
   "source": []
  },
  {
   "cell_type": "code",
   "execution_count": null,
   "metadata": {},
   "outputs": [],
   "source": []
  },
  {
   "cell_type": "code",
   "execution_count": null,
   "metadata": {},
   "outputs": [],
   "source": []
  },
  {
   "cell_type": "code",
   "execution_count": null,
   "metadata": {},
   "outputs": [],
   "source": []
  },
  {
   "cell_type": "code",
   "execution_count": null,
   "metadata": {},
   "outputs": [],
   "source": []
  }
 ],
 "metadata": {
  "kernelspec": {
   "display_name": "R",
   "language": "R",
   "name": "ir"
  },
  "language_info": {
   "codemirror_mode": "r",
   "file_extension": ".r",
   "mimetype": "text/x-r-source",
   "name": "R",
   "pygments_lexer": "r",
   "version": "3.6.3"
  }
 },
 "nbformat": 4,
 "nbformat_minor": 4
}
